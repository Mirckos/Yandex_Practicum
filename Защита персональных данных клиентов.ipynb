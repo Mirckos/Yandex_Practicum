{
 "cells": [
  {
   "cell_type": "markdown",
   "metadata": {},
   "source": [
    " <div class=\"alert alert-success\" style=\"border-color: green; border-radius: 5px\">\n",
    "    <font color='green'> <b><u>КОММЕНТАРИЙ РЕВЬЮЕРА</u></b><br>\n",
    "Максим, доброго дня! рад приветствовать тебя) <br />\n",
    "<br />\n",
    "Меня зовут Николай Шавлюго. <br />И на этом этапе твоего движения к новой профессии от меня будут комментарии по написанному коду. <br />Чтобы меньше \"мусорить эфир\" и чтобы максимально наглядно отделяться от основного кода, есть предложение условиться в некоторых обозначениях:<br /> <br />\n",
    "<div class=\"alert alert-success\" style=\"border-color: green; border-radius: 5px\">\n",
    "    <p><u><b>✅ КОММЕНТАРИЙ РЕВЬЮЕРА</b></u></p>\n",
    "    <p>Всё хорошо.</p>\n",
    "</div>\n",
    "\n",
    "<div class=\"alert alert-warning\" style=\"border-color: darkorange; border-radius: 5px\">\n",
    "    <p><u><b>⚠️ КОММЕНТАРИЙ РЕВЬЮЕРА</b></u></p>\n",
    "    <p>Обрати внимание, есть потенциал</p>\n",
    "</div>\n",
    "\n",
    "<div class=\"alert alert-danger\" style=\"border-color: darkred; border-radius: 5px\">\n",
    "    <p><u><b>❌ КОММЕНТАРИЙ РЕВЬЮЕРА</b></u></p>\n",
    "    <p>Нужно ещё раз глянуть</p>\n",
    "</div>\n",
    "</font><br /><br />\n",
    "<font color='green'>Моей целью является не \"уличить\" в не знании, а просто высказать сверху твоих знаний - свой опыт, что бы тебе использовать его для своего дальнейшего успеха) И очень здорово будет, если удастся задавать вопросы, да и вообще - всячески доставать меня, если я по каким-то причинам не приму проект:) При этом, из своего опыта скажу, хорошо и важно, когда переписка ревьюера и студента - сохраняется на следующие проекты и даже на будущую практическую деятельность.<br>\n",
    "<br> Я сразу же начал общаться на ты:) но если это не очень удобно, то дай знать)) <BR> В ПУТЬ!<br></div>"
   ]
  },
  {
   "cell_type": "markdown",
   "metadata": {
    "toc": true
   },
   "source": [
    "<h1>Содержание<span class=\"tocSkip\"></span></h1>\n",
    "<div class=\"toc\"><ul class=\"toc-item\"><li><span><a href=\"#Загрузка-данных\" data-toc-modified-id=\"Загрузка-данных-1\"><span class=\"toc-item-num\">1&nbsp;&nbsp;</span>Загрузка данных</a></span></li><li><span><a href=\"#Умножение-матриц\" data-toc-modified-id=\"Умножение-матриц-2\"><span class=\"toc-item-num\">2&nbsp;&nbsp;</span>Умножение матриц</a></span></li><li><span><a href=\"#Алгоритм-преобразования\" data-toc-modified-id=\"Алгоритм-преобразования-3\"><span class=\"toc-item-num\">3&nbsp;&nbsp;</span>Алгоритм преобразования</a></span></li><li><span><a href=\"#Проверка-алгоритма\" data-toc-modified-id=\"Проверка-алгоритма-4\"><span class=\"toc-item-num\">4&nbsp;&nbsp;</span>Проверка алгоритма</a></span></li><li><span><a href=\"#Заключение\" data-toc-modified-id=\"Заключение-5\"><span class=\"toc-item-num\">5&nbsp;&nbsp;</span>Заключение</a></span></li><li><span><a href=\"#Чек-лист-проверки\" data-toc-modified-id=\"Чек-лист-проверки-6\"><span class=\"toc-item-num\">6&nbsp;&nbsp;</span>Чек-лист проверки</a></span></li></ul></div>"
   ]
  },
  {
   "cell_type": "markdown",
   "metadata": {},
   "source": [
    "# Защита персональных данных клиентов"
   ]
  },
  {
   "cell_type": "markdown",
   "metadata": {},
   "source": [
    "Вам нужно защитить данные клиентов страховой компании «Хоть потоп». Разработайте такой метод преобразования данных, чтобы по ним было сложно восстановить персональную информацию. Обоснуйте корректность его работы.\n",
    "\n",
    "Нужно защитить данные, чтобы при преобразовании качество моделей машинного обучения не ухудшилось. Подбирать наилучшую модель не требуется."
   ]
  },
  {
   "cell_type": "markdown",
   "metadata": {},
   "source": [
    "## Загрузка данных"
   ]
  },
  {
   "cell_type": "markdown",
   "metadata": {},
   "source": [
    "Инициализируем библиотеки:"
   ]
  },
  {
   "cell_type": "code",
   "execution_count": 1,
   "metadata": {},
   "outputs": [],
   "source": [
    "import pandas as pd\n",
    "import numpy as np\n",
    "\n",
    "from sklearn.model_selection import train_test_split\n",
    "from sklearn.linear_model import LinearRegression\n",
    "from sklearn.metrics import r2_score\n",
    "\n",
    "pd.options.mode.chained_assignment = None"
   ]
  },
  {
   "cell_type": "markdown",
   "metadata": {},
   "source": [
    "Запишем и прочитаем данные"
   ]
  },
  {
   "cell_type": "code",
   "execution_count": 2,
   "metadata": {},
   "outputs": [
    {
     "name": "stdout",
     "output_type": "stream",
     "text": [
      "<class 'pandas.core.frame.DataFrame'>\n",
      "RangeIndex: 5000 entries, 0 to 4999\n",
      "Data columns (total 5 columns):\n",
      " #   Column             Non-Null Count  Dtype  \n",
      "---  ------             --------------  -----  \n",
      " 0   Пол                5000 non-null   int64  \n",
      " 1   Возраст            5000 non-null   float64\n",
      " 2   Зарплата           5000 non-null   float64\n",
      " 3   Члены семьи        5000 non-null   int64  \n",
      " 4   Страховые выплаты  5000 non-null   int64  \n",
      "dtypes: float64(2), int64(3)\n",
      "memory usage: 195.4 KB\n"
     ]
    },
    {
     "data": {
      "text/html": [
       "<div>\n",
       "<style scoped>\n",
       "    .dataframe tbody tr th:only-of-type {\n",
       "        vertical-align: middle;\n",
       "    }\n",
       "\n",
       "    .dataframe tbody tr th {\n",
       "        vertical-align: top;\n",
       "    }\n",
       "\n",
       "    .dataframe thead th {\n",
       "        text-align: right;\n",
       "    }\n",
       "</style>\n",
       "<table border=\"1\" class=\"dataframe\">\n",
       "  <thead>\n",
       "    <tr style=\"text-align: right;\">\n",
       "      <th></th>\n",
       "      <th>Пол</th>\n",
       "      <th>Возраст</th>\n",
       "      <th>Зарплата</th>\n",
       "      <th>Члены семьи</th>\n",
       "      <th>Страховые выплаты</th>\n",
       "    </tr>\n",
       "  </thead>\n",
       "  <tbody>\n",
       "    <tr>\n",
       "      <th>0</th>\n",
       "      <td>1</td>\n",
       "      <td>41.0</td>\n",
       "      <td>49600.0</td>\n",
       "      <td>1</td>\n",
       "      <td>0</td>\n",
       "    </tr>\n",
       "    <tr>\n",
       "      <th>1</th>\n",
       "      <td>0</td>\n",
       "      <td>46.0</td>\n",
       "      <td>38000.0</td>\n",
       "      <td>1</td>\n",
       "      <td>1</td>\n",
       "    </tr>\n",
       "    <tr>\n",
       "      <th>2</th>\n",
       "      <td>0</td>\n",
       "      <td>29.0</td>\n",
       "      <td>21000.0</td>\n",
       "      <td>0</td>\n",
       "      <td>0</td>\n",
       "    </tr>\n",
       "    <tr>\n",
       "      <th>3</th>\n",
       "      <td>0</td>\n",
       "      <td>21.0</td>\n",
       "      <td>41700.0</td>\n",
       "      <td>2</td>\n",
       "      <td>0</td>\n",
       "    </tr>\n",
       "    <tr>\n",
       "      <th>4</th>\n",
       "      <td>1</td>\n",
       "      <td>28.0</td>\n",
       "      <td>26100.0</td>\n",
       "      <td>0</td>\n",
       "      <td>0</td>\n",
       "    </tr>\n",
       "    <tr>\n",
       "      <th>...</th>\n",
       "      <td>...</td>\n",
       "      <td>...</td>\n",
       "      <td>...</td>\n",
       "      <td>...</td>\n",
       "      <td>...</td>\n",
       "    </tr>\n",
       "    <tr>\n",
       "      <th>4995</th>\n",
       "      <td>0</td>\n",
       "      <td>28.0</td>\n",
       "      <td>35700.0</td>\n",
       "      <td>2</td>\n",
       "      <td>0</td>\n",
       "    </tr>\n",
       "    <tr>\n",
       "      <th>4996</th>\n",
       "      <td>0</td>\n",
       "      <td>34.0</td>\n",
       "      <td>52400.0</td>\n",
       "      <td>1</td>\n",
       "      <td>0</td>\n",
       "    </tr>\n",
       "    <tr>\n",
       "      <th>4997</th>\n",
       "      <td>0</td>\n",
       "      <td>20.0</td>\n",
       "      <td>33900.0</td>\n",
       "      <td>2</td>\n",
       "      <td>0</td>\n",
       "    </tr>\n",
       "    <tr>\n",
       "      <th>4998</th>\n",
       "      <td>1</td>\n",
       "      <td>22.0</td>\n",
       "      <td>32700.0</td>\n",
       "      <td>3</td>\n",
       "      <td>0</td>\n",
       "    </tr>\n",
       "    <tr>\n",
       "      <th>4999</th>\n",
       "      <td>1</td>\n",
       "      <td>28.0</td>\n",
       "      <td>40600.0</td>\n",
       "      <td>1</td>\n",
       "      <td>0</td>\n",
       "    </tr>\n",
       "  </tbody>\n",
       "</table>\n",
       "<p>5000 rows × 5 columns</p>\n",
       "</div>"
      ],
      "text/plain": [
       "      Пол  Возраст  Зарплата  Члены семьи  Страховые выплаты\n",
       "0       1     41.0   49600.0            1                  0\n",
       "1       0     46.0   38000.0            1                  1\n",
       "2       0     29.0   21000.0            0                  0\n",
       "3       0     21.0   41700.0            2                  0\n",
       "4       1     28.0   26100.0            0                  0\n",
       "...   ...      ...       ...          ...                ...\n",
       "4995    0     28.0   35700.0            2                  0\n",
       "4996    0     34.0   52400.0            1                  0\n",
       "4997    0     20.0   33900.0            2                  0\n",
       "4998    1     22.0   32700.0            3                  0\n",
       "4999    1     28.0   40600.0            1                  0\n",
       "\n",
       "[5000 rows x 5 columns]"
      ]
     },
     "execution_count": 2,
     "metadata": {},
     "output_type": "execute_result"
    }
   ],
   "source": [
    "df = pd.read_csv(\"/datasets/insurance.csv\")\n",
    "df.info()\n",
    "df"
   ]
  },
  {
   "cell_type": "markdown",
   "metadata": {},
   "source": [
    "<div class=\"alert alert-success\" style=\"border-color: green; border-radius: 5px\">\n",
    "    <p><u><b>✅ КОММЕНТАРИЙ РЕВЬЮЕРА</b></u></p>\n",
    "    <p>ОК, данные на базе)</p>\n",
    "</div>"
   ]
  },
  {
   "cell_type": "code",
   "execution_count": 3,
   "metadata": {},
   "outputs": [
    {
     "data": {
      "text/plain": [
       "Пол                  0\n",
       "Возраст              0\n",
       "Зарплата             0\n",
       "Члены семьи          0\n",
       "Страховые выплаты    0\n",
       "dtype: int64"
      ]
     },
     "execution_count": 3,
     "metadata": {},
     "output_type": "execute_result"
    }
   ],
   "source": [
    "df.isna().sum()"
   ]
  },
  {
   "cell_type": "markdown",
   "metadata": {},
   "source": [
    "Пропусков в данных нет, теперь рассмотрим все возможные значения параметров датасета"
   ]
  },
  {
   "cell_type": "code",
   "execution_count": 4,
   "metadata": {
    "scrolled": true
   },
   "outputs": [
    {
     "name": "stdout",
     "output_type": "stream",
     "text": [
      "Пол уникальные: [1 0]\n",
      "Возраст уникальные: [41. 46. 29. 21. 28. 43. 39. 25. 36. 32. 38. 23. 40. 34. 26. 42. 27. 33.\n",
      " 47. 30. 19. 31. 22. 20. 24. 18. 37. 48. 45. 44. 52. 49. 35. 56. 65. 55.\n",
      " 57. 54. 50. 53. 51. 58. 59. 60. 61. 62.]\n",
      "Зарплата уникальные: [49600. 38000. 21000. 41700. 26100. 41000. 39700. 38600. 49700. 51700.\n",
      " 36600. 29300. 39500. 55000. 43700. 23300. 48900. 33200. 36900. 43500.\n",
      " 36100. 26600. 48700. 40400. 38400. 34600. 34800. 36800. 42200. 46300.\n",
      " 30300. 51000. 28100. 64800. 30400. 45300. 38300. 49500. 19400. 40200.\n",
      " 31700. 69200. 33100. 31600. 34500. 38700. 39600. 42400. 34900. 30500.\n",
      " 24200. 49900. 14300. 47000. 44800. 43800. 42700. 35400. 57200. 29600.\n",
      " 37400. 48100. 33700. 61800. 39400. 15600. 52600. 37600. 52500. 32700.\n",
      " 51600. 60900. 41800. 47400. 26500. 45900. 35700. 34300. 26700. 25700.\n",
      " 33300. 31100. 31500. 42100. 37300. 42500. 27300. 46800. 33500. 44300.\n",
      " 41600. 53900. 40100. 44600. 45000. 32000. 38200. 33000. 38500. 51800.\n",
      " 33800. 46400. 43200. 31800. 50200. 35100. 30700. 45800. 49300. 42800.\n",
      " 33600. 50300. 34000. 36400. 44900. 43600. 54600. 52800. 29700. 39000.\n",
      " 44100. 31900. 37700. 35200. 43100. 51300. 47500. 40800. 26800. 64900.\n",
      " 35900. 31200. 39900. 43300. 33900. 40700. 44700. 53400. 30600. 56000.\n",
      " 35600. 55200. 40600. 48300. 50800. 41200. 44200. 44400. 40500. 39800.\n",
      " 16600. 48400. 25100. 23100. 32100. 31000. 42900. 46700. 26000. 55900.\n",
      " 52000. 41500. 49400. 60300. 45600. 49000. 37500. 21900. 45100. 47900.\n",
      " 54300. 32400. 41300. 44500. 23200. 37900. 48000. 52100. 45700. 29900.\n",
      " 42600. 45200. 36000. 46500. 23800. 30200. 24400. 32800. 29000. 43400.\n",
      " 51500. 61700. 45400. 50700. 36200. 41900. 27900. 47200. 48800. 55100.\n",
      " 48200. 35500. 35000. 43900. 40000. 22000. 40300. 36300. 49800. 25600.\n",
      " 42300. 54900. 25500. 32900. 36700. 38900. 24700. 28800. 22900. 47300.\n",
      " 14500. 28700. 44000. 34100. 53000. 59300. 28500. 47100. 41400. 58900.\n",
      " 17500. 54200. 43000. 29800. 20000. 13800. 27500. 67700. 28000. 37100.\n",
      "  8900. 14600. 56200. 38800. 27700. 50500. 58400. 34700. 34400. 49100.\n",
      " 50900. 28200. 61500. 32500. 25900.  9800. 28300. 41100. 62000. 32600.\n",
      " 37200. 53800. 24000. 53600. 54800. 59600. 20200. 21700. 29200. 38100.\n",
      " 20700. 32300. 21200. 62100. 54000. 24500. 51900. 47800. 56100. 55300.\n",
      " 58100. 28900. 39100. 58000. 27200. 24600. 30100. 57100. 60100. 22200.\n",
      " 47700. 24900. 37800. 52700. 34200. 18700. 42000. 26300. 22600. 30900.\n",
      " 35800. 30800. 51100. 53300. 46200. 24100. 54700. 51200. 62300. 51400.\n",
      " 40900. 23400. 35300. 55800. 33400. 21300. 30000. 56700. 46900.  5300.\n",
      " 39200. 57500. 31300. 53700. 21600. 50000. 36500. 16400. 15900. 65100.\n",
      " 59900. 63200. 26200. 61200. 48500. 32200. 29100. 50100. 22700. 28600.\n",
      " 23500. 23700. 19600. 17800. 50600. 57900. 22500. 22100. 58300. 64100.\n",
      " 25000. 60400. 59100. 37000. 62400. 29500. 25800. 25400. 26900. 21500.\n",
      " 52200. 46600. 57300. 46100. 19300. 18900. 31400. 28400. 29400. 17600.\n",
      " 13900. 52400. 11300. 46000. 60500. 58700. 58200. 24800. 63700. 60600.\n",
      " 20400. 26400. 55600. 57000. 45500. 48600. 57600. 52900. 62800. 17000.\n",
      " 56500. 52300. 18400. 63300. 12900. 27000. 55700. 39300. 27800. 18300.\n",
      " 56300. 59800. 24300. 14400. 13400. 17900. 47600. 54500. 54400. 23900.\n",
      " 13000. 19900. 55400. 22800. 61000. 57400. 23000. 20500. 53200. 18100.\n",
      " 25300. 59500. 18200. 50400. 21100. 20900. 27400. 17300. 60700. 70600.\n",
      " 17700. 19700. 49200. 63100. 59200. 14700. 53100. 21800. 68000. 16500.\n",
      " 71400. 10000. 55500. 54100. 56400. 20600. 66300. 18800. 11000. 66100.\n",
      " 27100. 57800. 53500. 19200. 58500. 64000. 63600. 23600. 25200. 19100.\n",
      " 18600. 57700. 62700. 56600. 21400. 58800. 68400. 17100. 13300. 68500.\n",
      " 56900. 64400. 27600. 67200. 16200. 58600. 62200. 16000. 79000. 22300.\n",
      " 11200. 71600. 61300. 70500. 67100. 59000. 13500. 16700. 15700. 60000.\n",
      " 17400. 63400. 61900. 65200. 62600. 14100. 20100. 63800. 15100. 70000.\n",
      " 60200. 20300. 65900. 15200. 63500. 13200. 68900. 12200.  6000. 74800.\n",
      " 59700. 10800. 19000. 10600. 69400. 15000. 75200. 62500. 16300. 20800.\n",
      "  7400. 65300. 61400. 56800.]\n",
      "Члены семьи уникальные: [1 0 2 4 3 5 6]\n",
      "Страховые выплаты уникальные: [0 1 2 3 5 4]\n"
     ]
    }
   ],
   "source": [
    "for column in df.columns:\n",
    "    print(f\"{column} уникальные:\",df[column].unique())"
   ]
  },
  {
   "cell_type": "code",
   "execution_count": 5,
   "metadata": {},
   "outputs": [
    {
     "name": "stdout",
     "output_type": "stream",
     "text": [
      "<class 'pandas.core.frame.DataFrame'>\n",
      "RangeIndex: 5000 entries, 0 to 4999\n",
      "Data columns (total 5 columns):\n",
      " #   Column             Non-Null Count  Dtype\n",
      "---  ------             --------------  -----\n",
      " 0   Пол                5000 non-null   int8 \n",
      " 1   Возраст            5000 non-null   int8 \n",
      " 2   Зарплата           5000 non-null   int64\n",
      " 3   Члены семьи        5000 non-null   int8 \n",
      " 4   Страховые выплаты  5000 non-null   int8 \n",
      "dtypes: int64(1), int8(4)\n",
      "memory usage: 58.7 KB\n"
     ]
    }
   ],
   "source": [
    "df[\"Пол\"] = df[\"Пол\"].astype('int8')\n",
    "df[\"Возраст\"] = df[\"Возраст\"].astype('int8')\n",
    "df[\"Зарплата\"] = df[\"Зарплата\"].astype('int64')\n",
    "df[\"Члены семьи\"] = df[\"Члены семьи\"].astype('int8')\n",
    "df[\"Страховые выплаты\"] = df[\"Страховые выплаты\"].astype('int8')\n",
    "df.info()"
   ]
  },
  {
   "cell_type": "markdown",
   "metadata": {},
   "source": [
    "Преобразуем `Пол,Возраст,Члены семьи и Страховые выплаты` в восьмибитовые целые положительные числа. А параметр Зарплата сделаем 64-битовым положительным числом, для упрощения машинных операций."
   ]
  },
  {
   "cell_type": "code",
   "execution_count": 6,
   "metadata": {},
   "outputs": [
    {
     "data": {
      "text/html": [
       "<div>\n",
       "<style scoped>\n",
       "    .dataframe tbody tr th:only-of-type {\n",
       "        vertical-align: middle;\n",
       "    }\n",
       "\n",
       "    .dataframe tbody tr th {\n",
       "        vertical-align: top;\n",
       "    }\n",
       "\n",
       "    .dataframe thead th {\n",
       "        text-align: right;\n",
       "    }\n",
       "</style>\n",
       "<table border=\"1\" class=\"dataframe\">\n",
       "  <thead>\n",
       "    <tr style=\"text-align: right;\">\n",
       "      <th></th>\n",
       "      <th>Пол</th>\n",
       "      <th>Возраст</th>\n",
       "      <th>Зарплата</th>\n",
       "      <th>Члены семьи</th>\n",
       "      <th>Страховые выплаты</th>\n",
       "    </tr>\n",
       "  </thead>\n",
       "  <tbody>\n",
       "    <tr>\n",
       "      <th>0</th>\n",
       "      <td>1</td>\n",
       "      <td>41</td>\n",
       "      <td>49600</td>\n",
       "      <td>1</td>\n",
       "      <td>0</td>\n",
       "    </tr>\n",
       "    <tr>\n",
       "      <th>1</th>\n",
       "      <td>0</td>\n",
       "      <td>46</td>\n",
       "      <td>38000</td>\n",
       "      <td>1</td>\n",
       "      <td>1</td>\n",
       "    </tr>\n",
       "    <tr>\n",
       "      <th>2</th>\n",
       "      <td>0</td>\n",
       "      <td>29</td>\n",
       "      <td>21000</td>\n",
       "      <td>0</td>\n",
       "      <td>0</td>\n",
       "    </tr>\n",
       "    <tr>\n",
       "      <th>3</th>\n",
       "      <td>0</td>\n",
       "      <td>21</td>\n",
       "      <td>41700</td>\n",
       "      <td>2</td>\n",
       "      <td>0</td>\n",
       "    </tr>\n",
       "    <tr>\n",
       "      <th>4</th>\n",
       "      <td>1</td>\n",
       "      <td>28</td>\n",
       "      <td>26100</td>\n",
       "      <td>0</td>\n",
       "      <td>0</td>\n",
       "    </tr>\n",
       "    <tr>\n",
       "      <th>5</th>\n",
       "      <td>1</td>\n",
       "      <td>43</td>\n",
       "      <td>41000</td>\n",
       "      <td>2</td>\n",
       "      <td>1</td>\n",
       "    </tr>\n",
       "    <tr>\n",
       "      <th>6</th>\n",
       "      <td>1</td>\n",
       "      <td>39</td>\n",
       "      <td>39700</td>\n",
       "      <td>2</td>\n",
       "      <td>0</td>\n",
       "    </tr>\n",
       "    <tr>\n",
       "      <th>7</th>\n",
       "      <td>1</td>\n",
       "      <td>25</td>\n",
       "      <td>38600</td>\n",
       "      <td>4</td>\n",
       "      <td>0</td>\n",
       "    </tr>\n",
       "    <tr>\n",
       "      <th>8</th>\n",
       "      <td>1</td>\n",
       "      <td>36</td>\n",
       "      <td>49700</td>\n",
       "      <td>1</td>\n",
       "      <td>0</td>\n",
       "    </tr>\n",
       "    <tr>\n",
       "      <th>9</th>\n",
       "      <td>1</td>\n",
       "      <td>32</td>\n",
       "      <td>51700</td>\n",
       "      <td>1</td>\n",
       "      <td>0</td>\n",
       "    </tr>\n",
       "  </tbody>\n",
       "</table>\n",
       "</div>"
      ],
      "text/plain": [
       "   Пол  Возраст  Зарплата  Члены семьи  Страховые выплаты\n",
       "0    1       41     49600            1                  0\n",
       "1    0       46     38000            1                  1\n",
       "2    0       29     21000            0                  0\n",
       "3    0       21     41700            2                  0\n",
       "4    1       28     26100            0                  0\n",
       "5    1       43     41000            2                  1\n",
       "6    1       39     39700            2                  0\n",
       "7    1       25     38600            4                  0\n",
       "8    1       36     49700            1                  0\n",
       "9    1       32     51700            1                  0"
      ]
     },
     "execution_count": 6,
     "metadata": {},
     "output_type": "execute_result"
    }
   ],
   "source": [
    "df.head(10)"
   ]
  },
  {
   "cell_type": "code",
   "execution_count": 7,
   "metadata": {},
   "outputs": [
    {
     "data": {
      "text/html": [
       "<div>\n",
       "<style scoped>\n",
       "    .dataframe tbody tr th:only-of-type {\n",
       "        vertical-align: middle;\n",
       "    }\n",
       "\n",
       "    .dataframe tbody tr th {\n",
       "        vertical-align: top;\n",
       "    }\n",
       "\n",
       "    .dataframe thead th {\n",
       "        text-align: right;\n",
       "    }\n",
       "</style>\n",
       "<table border=\"1\" class=\"dataframe\">\n",
       "  <thead>\n",
       "    <tr style=\"text-align: right;\">\n",
       "      <th></th>\n",
       "      <th>Пол</th>\n",
       "      <th>Возраст</th>\n",
       "      <th>Зарплата</th>\n",
       "      <th>Члены семьи</th>\n",
       "      <th>Страховые выплаты</th>\n",
       "    </tr>\n",
       "  </thead>\n",
       "  <tbody>\n",
       "    <tr>\n",
       "      <th>count</th>\n",
       "      <td>5000.000000</td>\n",
       "      <td>5000.000000</td>\n",
       "      <td>5000.000000</td>\n",
       "      <td>5000.000000</td>\n",
       "      <td>5000.000000</td>\n",
       "    </tr>\n",
       "    <tr>\n",
       "      <th>mean</th>\n",
       "      <td>0.499000</td>\n",
       "      <td>30.952800</td>\n",
       "      <td>39916.359400</td>\n",
       "      <td>1.194200</td>\n",
       "      <td>0.148000</td>\n",
       "    </tr>\n",
       "    <tr>\n",
       "      <th>std</th>\n",
       "      <td>0.500049</td>\n",
       "      <td>8.440807</td>\n",
       "      <td>9900.082063</td>\n",
       "      <td>1.091387</td>\n",
       "      <td>0.463183</td>\n",
       "    </tr>\n",
       "    <tr>\n",
       "      <th>min</th>\n",
       "      <td>0.000000</td>\n",
       "      <td>18.000000</td>\n",
       "      <td>5300.000000</td>\n",
       "      <td>0.000000</td>\n",
       "      <td>0.000000</td>\n",
       "    </tr>\n",
       "    <tr>\n",
       "      <th>25%</th>\n",
       "      <td>0.000000</td>\n",
       "      <td>24.000000</td>\n",
       "      <td>33300.000000</td>\n",
       "      <td>0.000000</td>\n",
       "      <td>0.000000</td>\n",
       "    </tr>\n",
       "    <tr>\n",
       "      <th>50%</th>\n",
       "      <td>0.000000</td>\n",
       "      <td>30.000000</td>\n",
       "      <td>40200.000000</td>\n",
       "      <td>1.000000</td>\n",
       "      <td>0.000000</td>\n",
       "    </tr>\n",
       "    <tr>\n",
       "      <th>75%</th>\n",
       "      <td>1.000000</td>\n",
       "      <td>37.000000</td>\n",
       "      <td>46600.000000</td>\n",
       "      <td>2.000000</td>\n",
       "      <td>0.000000</td>\n",
       "    </tr>\n",
       "    <tr>\n",
       "      <th>max</th>\n",
       "      <td>1.000000</td>\n",
       "      <td>65.000000</td>\n",
       "      <td>79000.000000</td>\n",
       "      <td>6.000000</td>\n",
       "      <td>5.000000</td>\n",
       "    </tr>\n",
       "  </tbody>\n",
       "</table>\n",
       "</div>"
      ],
      "text/plain": [
       "               Пол      Возраст      Зарплата  Члены семьи  Страховые выплаты\n",
       "count  5000.000000  5000.000000   5000.000000  5000.000000        5000.000000\n",
       "mean      0.499000    30.952800  39916.359400     1.194200           0.148000\n",
       "std       0.500049     8.440807   9900.082063     1.091387           0.463183\n",
       "min       0.000000    18.000000   5300.000000     0.000000           0.000000\n",
       "25%       0.000000    24.000000  33300.000000     0.000000           0.000000\n",
       "50%       0.000000    30.000000  40200.000000     1.000000           0.000000\n",
       "75%       1.000000    37.000000  46600.000000     2.000000           0.000000\n",
       "max       1.000000    65.000000  79000.000000     6.000000           5.000000"
      ]
     },
     "execution_count": 7,
     "metadata": {},
     "output_type": "execute_result"
    }
   ],
   "source": [
    "df.describe()"
   ]
  },
  {
   "cell_type": "markdown",
   "metadata": {},
   "source": [
    "Возраст клиентов в среднем 30 лет с зарплатой 40 т.р. и одним членом семьи, а девушек и мужчин поровну."
   ]
  },
  {
   "cell_type": "markdown",
   "metadata": {},
   "source": [
    "Данные проверены и приведены к подходящему виду."
   ]
  },
  {
   "cell_type": "markdown",
   "metadata": {},
   "source": [
    "<div class=\"alert alert-success\" style=\"border-color: green; border-radius: 5px\">\n",
    "    <p><u><b>✅ КОММЕНТАРИЙ РЕВЬЮЕРА</b></u></p>\n",
    "    <p>Отлично, в любом проекте необходимо делать такое аналитическое начало</p>\n",
    "</div>\n",
    "<div class=\"alert alert-warning\" style=\"border-color: darkorange; border-radius: 5px\">\n",
    "    <p><u><b>⚠️ КОММЕНТАРИЙ РЕВЬЮЕРА</b></u></p>\n",
    "    <p>Но вот  не хватает статистического описательного анализа, напрмиер дискрайб. И по графикам есть такой момент: нужен графический анализ в любой модельной работе). Причём: Если наши данные колличественные, то гистограммы/ящик с усами подходят. А вот если данные категориальные (или бинарные, как пол), то применяется другой тип графика - столбчатый или круговая диаграммы.<br>\n",
    "Тут можно подисскутировать про \"страховые выплаты\" и \"члены семьи\" - они колличественные. Но больше могут походить на категории. Поэтому интереснее и к ним применить столбчатый или круговые диаграммы.<br>\n",
    "<br>"
   ]
  },
  {
   "cell_type": "markdown",
   "metadata": {},
   "source": [
    "<div class=\"alert alert-info\">\n",
    "    <h2> Комментарий студента <a class=\"tocSkip\"></h2>\n",
    "        \n",
    "<b> Замечание учтено, использван метод describe  </b> "
   ]
  },
  {
   "cell_type": "markdown",
   "metadata": {},
   "source": [
    "<div class=\"alert alert-success\" style=\"border-color: green; border-radius: 5px\">\n",
    "    <p><u><b>✅ КОММЕНТАРИЙ РЕВЬЮЕРА 2</b></u></p>\n",
    "ОК, хорошо. А по графике - обязательно тоже не упускай этот момент. Ниже оставлю алгоритм выбора графического анализа, исходя из типпа шкалы:"
   ]
  },
  {
   "cell_type": "markdown",
   "metadata": {},
   "source": [
    "<div class=\"alert alert-info\">\n",
    "    <h2> Комментарий студента v2<a class=\"tocSkip\"></h2>\n",
    "        \n",
    "<b> Алгоритм забыли) либо я не нашел </b> "
   ]
  },
  {
   "cell_type": "markdown",
   "metadata": {},
   "source": [
    "<div class=\"alert alert-success\" style=\"border-color: green; border-radius: 5px\">\n",
    "    <p><u><b>✅ КОММЕНТАРИЙ РЕВЬЮЕРА 3</b></u></p>\n",
    "точно, забыл))) ВОт он:"
   ]
  },
  {
   "attachments": {
    "image.png": {
     "image/png": "[encoded data removed]"
    }
   },
   "cell_type": "markdown",
   "metadata": {},
   "source": [
    "![image.png](attachment:image.png)"
   ]
  },
  {
   "cell_type": "markdown",
   "metadata": {},
   "source": [
    "## Умножение матриц"
   ]
  },
  {
   "cell_type": "markdown",
   "metadata": {},
   "source": [
    "Разобьем данные на `target и features`, а также проверим точность вычисления весов линейной регресси по известной формуле и функции библиотеки `scikitlearn`"
   ]
  },
  {
   "cell_type": "code",
   "execution_count": 8,
   "metadata": {},
   "outputs": [
    {
     "name": "stdout",
     "output_type": "stream",
     "text": [
      "Прямое вычисление: [ 7.92580563e-03  3.57083050e-02 -1.70081903e-07 -1.35676627e-02]\n",
      "Функциональное вычисление: [ 7.92580563e-03  3.57083050e-02 -1.70081903e-07 -1.35676627e-02]\n"
     ]
    }
   ],
   "source": [
    "target = df['Страховые выплаты']\n",
    "features = df.drop('Страховые выплаты',axis=1)\n",
    "\n",
    "X = np.concatenate((np.ones((features.shape[0], 1)), features), axis=1)\n",
    "y = target\n",
    "w = np.linalg.inv(X.T @ X) @ X.T @ y\n",
    "\n",
    "model = LinearRegression()\n",
    "model.fit(features, target)\n",
    "\n",
    "print(f\"Прямое вычисление: {w[1:]}\\nФункциональное вычисление: {model.coef_}\")"
   ]
  },
  {
   "cell_type": "markdown",
   "metadata": {},
   "source": [
    "Результаты полностью совпадают."
   ]
  },
  {
   "cell_type": "markdown",
   "metadata": {},
   "source": [
    "<div class=\"alert alert-success\" style=\"border-color: green; border-radius: 5px\">\n",
    "    <p><u><b>✅ КОММЕНТАРИЙ РЕВЬЮЕРА</b></u></p>\n",
    "    <p>Проверили, что алгоритмы совпадают по результату)</p>\n",
    "</div>"
   ]
  },
  {
   "cell_type": "markdown",
   "metadata": {},
   "source": [
    "**Ответим на вопрос**:  При умножение признаков на обратимую матрицу изменяется ли качество линейной регрессии?"
   ]
  },
  {
   "cell_type": "markdown",
   "metadata": {},
   "source": [
    "Обозначения:\n",
    "\n",
    "- $X$ — матрица признаков (нулевой столбец состоит из единиц)\n",
    "\n",
    "- $y$ — вектор целевого признака\n",
    "\n",
    "- $P$ — матрица, на которую умножаются признаки\n",
    "\n",
    "- $w$ — вектор весов линейной регрессии (нулевой элемент равен сдвигу)"
   ]
  },
  {
   "cell_type": "markdown",
   "metadata": {},
   "source": [
    "Предсказания:\n",
    "\n",
    "$$\n",
    "a = Xw\n",
    "$$\n",
    "\n",
    "Задача обучения:\n",
    "\n",
    "$$\n",
    "w = \\arg\\min_w MSE(Xw, y)\n",
    "$$\n",
    "\n",
    "Формула обучения:\n",
    "\n",
    "$$\n",
    "w = (X^T X)^{-1} X^T y\n",
    "$$"
   ]
  },
  {
   "cell_type": "markdown",
   "metadata": {},
   "source": [
    "**Ответ:** Не изменяется\n",
    "\n",
    "**Обоснование:**\n",
    "\n",
    "Выполним замену переменных в формуле, если:\n",
    "\n",
    "$$\n",
    "Q = XP   \\longrightarrow   w' = ((XP)^T XP)^{-1} (XP)^T y\n",
    "$$\n",
    "\n",
    "\n",
    "\n",
    "$$\n",
    "a' = Qw' \\longrightarrow a' = XP*((XP)^T XP)^{-1} (XP)^T y\n",
    "$$ \n",
    "\n",
    "Учтем свойства преобразования: $$ (AB)^T = B^T A^T \\\\\n",
    "(ABC)^{-1} =C^{-1} B^{-1} A^{-1}$$\n",
    "\n",
    "Благодаря свойству ассоциативности матриц раскроем обратные и транспонированные матрицы:\n",
    "\n",
    "$$ \n",
    "a' = XP*(P^T(X^TX)P)^{-1}*P^TX^T y\n",
    "$$ \n",
    "\n",
    "$$ \n",
    "a' = XP*(P^{-1}(X^TX)^{-1}(P^T)^{-1})*P^TX^T y\n",
    "$$ \n",
    "\n",
    "\n",
    "\n",
    "Учитывая свойства:\n",
    "\n",
    "\n",
    "$$\n",
    "(AB)^{-1} = B^{-1} A^{-1} \n",
    "$$\n",
    "\n",
    "$$\n",
    "(AB)^T = B^T A^T\n",
    "$$\n",
    "\n",
    "Получим уравнение:\n",
    "\n",
    "\n",
    "\n",
    "$$ \n",
    "a' = X*(P(P^{-1}))*(X^TX)^{-1}*((P^T)^{-1}P^T)*X^Ty\n",
    "$$ \n",
    "\n",
    "На основе свойства обратимых матриц:\n",
    "\n",
    "\n",
    "$$\n",
    " AA^{-1} = E \n",
    "$$\n",
    "\n",
    "Следовательно получается результат:\n",
    "\n",
    "$$\n",
    "a' = X*(X^TX)^{-1}*X^T y\n",
    "$$\n",
    "\n",
    "\n",
    "\n",
    "$$\n",
    "w = (X^T X)^{-1} X^T y  \\longrightarrow  a' = (X*w) y = a  \n",
    "$$"
   ]
  },
  {
   "cell_type": "markdown",
   "metadata": {},
   "source": [
    "ЧТД.\n",
    "\n",
    "В результате простого преобразования мы узнаем, что предсказания не изменяется в зависимости от того на какую обратимую матрицу мы домножили признаки, так как веса линейной  регрессии  $ w $  все компенсируют."
   ]
  },
  {
   "cell_type": "markdown",
   "metadata": {},
   "source": [
    "<div class=\"alert alert-danger\" style=\"border-color: darkred; border-radius: 5px\">\n",
    "    <p><u><b>❌ КОММЕНТАРИЙ РЕВЬЮЕРА</b></u></p>\n",
    "Всё верно, у матриц есть такие свойста<br>\n",
    "- ($A(BC) = (AB)C$); это свойство ассоциативности (сочетательности) матриц<br>\n",
    "- $(P^T)^{-1} = (P^{-1})^T$; то есть: транспортированная оратная матрица есть обратная матрица транспортированная <br>\n",
    "- $(AB)^T = B^T A^T$; то есть: транспонированное произведение матриц равно произведению транспонированных матриц <br>\n",
    "- $(AB)^{-1} = B^{-1} A^{-1}$,то есть: обратная матрица от произведения двух матриц равна обратной матрицы B(второй) к обратной матрице А(первой)<br>\n",
    "- $P P^{-1} = E$ ; умножение матрицы на свою обратную - есть единичная матрица.<br>\n",
    "- $(ABC)^{-1} =C^{-1} B^{-1} A^{-1}$<br>\n",
    "    \n",
    "И вот ожидается алгебраическое доказательсто на их основе. У тебя кратко всё записано. Раскрытие скобок ожидается более подробное. Сложно так уловить ход мыслей(( Добавь, пожалуйста.<br>\n",
    "\n",
    "НО!!!!!!!!!!!! При этом $ (X^T X)^{-1}$ - не надо раскрывать, так как для неквадратных матриц ($X$ и $X^T$) обратных матриц не существует"
   ]
  },
  {
   "cell_type": "markdown",
   "metadata": {},
   "source": [
    "$$\n",
    "a = Xw = XEw = XPP^{-1}w = (XP)P^{-1}w = (XP)w'\n",
    "$$\n",
    "\n",
    "$$\n",
    "w' = ((XP)^T XP)^{-1} (XP)^T y\n",
    "$$\n",
    "$$\n",
    "w' = (P^T (X^T X) P)^{-1} (XP)^T y\n",
    "$$\n",
    "$$\n",
    "....\n",
    "$$"
   ]
  },
  {
   "cell_type": "markdown",
   "metadata": {},
   "source": [
    "<div class=\"alert alert-info\">\n",
    "    <h2> Комментарий студента <a class=\"tocSkip\"></h2>\n",
    "        \n",
    "<b> Замечание учтено, добавлено более подробное преобразование  </b> "
   ]
  },
  {
   "cell_type": "markdown",
   "metadata": {},
   "source": [
    "<div class=\"alert alert-danger\" style=\"border-color: darkred; border-radius: 5px\">\n",
    "    <p><u><b>❌ КОММЕНТАРИЙ РЕВЬЮЕРА 2</b></u></p>\n",
    "ОК, Максим, увидел, хорошо. Но вот эти свойства всё ещё не работают(((<br> <br>\n",
    "- $(AB)^T = B^T A^T$; то есть: транспонированное произведение матриц равно произведению транспонированных матриц <br>\n",
    "- $(ABC)^{-1} =C^{-1} B^{-1} A^{-1}$, где $B = X^T X$<br>\n",
    "В матричных расчётах порядок матриц - ВАЖЕН!!!!!!!!!!!<br>\n",
    "Осталось не много) Надо просто аккуратно раскрыть обе скобки ниже, соблюдая свойства.<br> \n",
    "БУДУ ЖДАТЬ!"
   ]
  },
  {
   "cell_type": "markdown",
   "metadata": {},
   "source": [
    "$$\n",
    "a = Xw = XEw = XPP^{-1}w = (XP)P^{-1}w = (XP)w'\n",
    "$$\n",
    "\n",
    "$$\n",
    "w' = ((XP)^T XP)^{-1} (XP)^T y\n",
    "$$\n",
    "$$\n",
    "w' = (P^T (X^T X) P)^{-1} (XP)^T y\n",
    "$$\n",
    "$$\n",
    "....\n",
    "$$"
   ]
  },
  {
   "cell_type": "markdown",
   "metadata": {},
   "source": [
    "<div class=\"alert alert-info\">\n",
    "    <h2> Комментарий студента v2 <a class=\"tocSkip\"></h2>\n",
    "        \n",
    "<b> Замечание учтено, максимально подробное преобразова́ние добавлено выше </b> "
   ]
  },
  {
   "cell_type": "markdown",
   "metadata": {},
   "source": [
    "<div class=\"alert alert-success\" style=\"border-color: green; border-radius: 5px\">\n",
    "    <p><u><b>✅ КОММЕНТАРИЙ РЕВЬЮЕРА 3</b></u></p>\n",
    "БИНГО!!!! ОК, Максим, теперь всё в точку.<br>\n",
    "    \n",
    "Ещё несколько идей в целом по теме: если рассматривать передачу данных третьим лицам, то к преимуществам данного подхода можно отнести, в первую очередь, ощутимую экономию ресурсов по сравнению с некоторыми известными алгоритмами шифрования, в особенности это касается ассиметричных алгоритмов с достаточно длинными ключами (AES, RSA), которые требуют много процессорного времени.<br><br>\n",
    "    \n",
    "К главному недостатку подхода можно отнести увеличение сложности проверки на вырожденность преобразования с ростом количества признаков в выборке. В рассмотренном случае необходимо подобрать подходящую матрицу размера  4×4 . Однако, если признаки будут исчисляться тысячами, что в теории всегда надо положить, то расчет соответствующих определителей может быть крайне ресурсозатратным. Но и эту проблему можно будет решить)<br><br>\n",
    "    \n",
    "Если есть время и желание, то можно воту этот маткриал просмотреть:<br>\n",
    "Обзоры по применению криптографии в машинном обучении: https://arxiv.org/pdf/1902.04109.pdf, https://www.researchgate.net/publication/342746786_Some_Applications_of_Machine_Learning_in_Cryptography\n",
    "Подробнее про аналогичный алгоритм: https://www.cs.cmu.edu/~rjhall/JOS_revised_May_31a.pdf<br>\n",
    "Шифрование исходного ключа по методу \"Цезаря\" (https://ru.wikipedia.org/wiki/%D0%A8%D0%B8%D1%84%D1%80_%D0%A6%D0%B5%D0%B7%D0%B0%D1%80%D1%8F)<br>\n",
    "<font color='green'><font color='green'>\n",
    "Спасибо за проект) <br>\n",
    "Успешного дальнейшего обучения"
   ]
  },
  {
   "cell_type": "markdown",
   "metadata": {},
   "source": [
    "## Алгоритм преобразования"
   ]
  },
  {
   "cell_type": "markdown",
   "metadata": {},
   "source": [
    "Для обеспечения защиты информации нужно умножить матрицу признаков на обратимую матрицу состоящую из случайных элекментов.\n",
    "\n",
    "**Алгоритм**\n",
    "\n",
    "Этапы алгоритма:\n",
    "\n",
    "- Создание случайной матрицы шифрования P\n",
    "- Проверка существования обратной матрицы для P\n",
    "- Получение матрицы результирующей зашифрованной матрицы признаков Q\n",
    "\n",
    "**Обоснование**\n",
    "\n",
    "Условие существования обратной матрицы является требование о ее невырожденности, т.е определитель матрицы отличен от нуля: \n",
    "\n",
    "$$\n",
    "detA \\neq 0 \\longrightarrow \\exists  A^{-1}\n",
    "$$\n",
    "\n",
    "\n",
    "Значит нам нужно выбрать случайную матрицу соотвествующую этому условию и размером `2х2`.\n",
    "\n",
    "\n",
    "\n",
    "$$\n",
    "  X=\n",
    "  \\begin{pmatrix}\n",
    "    a_{11} & a_{12}\\\\\n",
    "    a_{21} & a_{22}\\\\\n",
    "    a_{31} & a_{32} \n",
    "  \\end{pmatrix}\n",
    "  ;\n",
    "  P=\n",
    "  \\begin{pmatrix}\n",
    "    с_{11} & с_{12}\\\\\n",
    "    с_{21} & с_{22}\\\\\n",
    "  \\end{pmatrix}\n",
    "$$\n",
    "\n",
    "\n",
    "\n",
    "Вычислим Q:\n",
    "\n",
    "\n",
    "$$\n",
    "  Q=\n",
    "  \\begin{pmatrix}\n",
    "    a_{11} & a_{12}\\\\\n",
    "    a_{21} & a_{22}\\\\\n",
    "    a_{31} & a_{32} \n",
    "  \\end{pmatrix}\n",
    "  \\times\n",
    "  \\begin{pmatrix}\n",
    "    с_{11} & с_{12}\\\\\n",
    "    с_{21} & с_{22}\\\\\n",
    "  \\end{pmatrix}\n",
    "  =\n",
    "  \\begin{pmatrix}\n",
    "    a_{11}*с_{11}+a_{12}*с_{21} & a_{11}*с_{12}+a_{12}*с_{22}\\\\\n",
    "    a_{21}*с_{11}+a_{22}*с_{21} &a_{21}*с_{12}+a_{22}*с_{22}\\\\\n",
    "    a_{31}*с_{11}+a_{12}*с_{21} & a_{31}*с_{12}+a_{32}*с_{22}\n",
    "  \\end{pmatrix}\n",
    "$$  \n"
   ]
  },
  {
   "cell_type": "markdown",
   "metadata": {},
   "source": [
    "<div class=\"alert alert-success\" style=\"border-color: green; border-radius: 5px\">\n",
    "    <p><u><b>✅ КОММЕНТАРИЙ РЕВЬЮЕРА</b></u></p>\n",
    "да, тут как раз и нужен план действий для пункта 4) Делай раз, делай два, делай три..."
   ]
  },
  {
   "cell_type": "markdown",
   "metadata": {},
   "source": [
    "## Проверка алгоритма"
   ]
  },
  {
   "cell_type": "markdown",
   "metadata": {},
   "source": [
    "Для корректной проверки работы определим качество модели до и после шифрования.\n",
    "\n",
    "Сперва разделим на выборки для обучения:"
   ]
  },
  {
   "cell_type": "code",
   "execution_count": 9,
   "metadata": {},
   "outputs": [],
   "source": [
    "features_train, features_test, target_train, target_test = train_test_split(\n",
    "    features, target, test_size=0.25, random_state=12345)"
   ]
  },
  {
   "cell_type": "markdown",
   "metadata": {},
   "source": [
    "Обучим модель на изначальных данных и получим итоговые веса ргерессии и метрику R2:"
   ]
  },
  {
   "cell_type": "code",
   "execution_count": 10,
   "metadata": {},
   "outputs": [
    {
     "name": "stdout",
     "output_type": "stream",
     "text": [
      "W= [ 1.79258370e-02  3.57228278e-02 -5.46002729e-07 -1.26186599e-02]\n",
      "R2 = 0.4352275684083322\n"
     ]
    }
   ],
   "source": [
    "model = LinearRegression()\n",
    "model.fit(features_train, target_train)\n",
    "predicts = model.predict(features_test)\n",
    "\n",
    "R2_clear = r2_score(target_test,predicts)\n",
    "\n",
    "print(f\"W= {model.coef_}\")\n",
    "print(f\"R2 = {R2_clear}\")"
   ]
  },
  {
   "cell_type": "markdown",
   "metadata": {},
   "source": [
    "<div class=\"alert alert-success\" style=\"border-color: green; border-radius: 5px\">\n",
    "    <p><u><b>✅ КОММЕНТАРИЙ РЕВЬЮЕРА</b></u></p>\n",
    "ОК"
   ]
  },
  {
   "cell_type": "markdown",
   "metadata": {},
   "source": [
    "Напишем функцию для кодирования признаков с помощью случайной невырожденной матрицы:"
   ]
  },
  {
   "cell_type": "code",
   "execution_count": 11,
   "metadata": {},
   "outputs": [],
   "source": [
    "np.random.seed(12345)\n",
    "\n",
    "def encryption(features):\n",
    "    size_n = features.shape[1]\n",
    "    determ = 0\n",
    "    while determ == 0:\n",
    "        matrix = np.random.randint(1,15, size=(size_n, size_n), dtype = int)\n",
    "        determ  = np.linalg.det(matrix )\n",
    "    return features.dot(matrix),matrix     "
   ]
  },
  {
   "cell_type": "code",
   "execution_count": 12,
   "metadata": {},
   "outputs": [
    {
     "name": "stdout",
     "output_type": "stream",
     "text": [
      "Матрица преобразования:\n",
      "\n",
      " [[ 3  6 14  2]\n",
      " [ 5 10  6  3]\n",
      " [14  2  7  2]\n",
      " [12 10 12  8]]\n"
     ]
    },
    {
     "data": {
      "text/html": [
       "<div>\n",
       "<style scoped>\n",
       "    .dataframe tbody tr th:only-of-type {\n",
       "        vertical-align: middle;\n",
       "    }\n",
       "\n",
       "    .dataframe tbody tr th {\n",
       "        vertical-align: top;\n",
       "    }\n",
       "\n",
       "    .dataframe thead th {\n",
       "        text-align: right;\n",
       "    }\n",
       "</style>\n",
       "<table border=\"1\" class=\"dataframe\">\n",
       "  <thead>\n",
       "    <tr style=\"text-align: right;\">\n",
       "      <th></th>\n",
       "      <th>0</th>\n",
       "      <th>1</th>\n",
       "      <th>2</th>\n",
       "      <th>3</th>\n",
       "    </tr>\n",
       "  </thead>\n",
       "  <tbody>\n",
       "    <tr>\n",
       "      <th>0</th>\n",
       "      <td>694620</td>\n",
       "      <td>99626</td>\n",
       "      <td>347472</td>\n",
       "      <td>99333</td>\n",
       "    </tr>\n",
       "    <tr>\n",
       "      <th>1</th>\n",
       "      <td>532242</td>\n",
       "      <td>76470</td>\n",
       "      <td>266288</td>\n",
       "      <td>76146</td>\n",
       "    </tr>\n",
       "    <tr>\n",
       "      <th>2</th>\n",
       "      <td>294145</td>\n",
       "      <td>42290</td>\n",
       "      <td>147174</td>\n",
       "      <td>42087</td>\n",
       "    </tr>\n",
       "    <tr>\n",
       "      <th>3</th>\n",
       "      <td>583929</td>\n",
       "      <td>83630</td>\n",
       "      <td>292050</td>\n",
       "      <td>83479</td>\n",
       "    </tr>\n",
       "    <tr>\n",
       "      <th>4</th>\n",
       "      <td>365543</td>\n",
       "      <td>52486</td>\n",
       "      <td>182882</td>\n",
       "      <td>52286</td>\n",
       "    </tr>\n",
       "    <tr>\n",
       "      <th>...</th>\n",
       "      <td>...</td>\n",
       "      <td>...</td>\n",
       "      <td>...</td>\n",
       "      <td>...</td>\n",
       "    </tr>\n",
       "    <tr>\n",
       "      <th>4995</th>\n",
       "      <td>499964</td>\n",
       "      <td>71700</td>\n",
       "      <td>250092</td>\n",
       "      <td>71500</td>\n",
       "    </tr>\n",
       "    <tr>\n",
       "      <th>4996</th>\n",
       "      <td>733782</td>\n",
       "      <td>105150</td>\n",
       "      <td>367016</td>\n",
       "      <td>104910</td>\n",
       "    </tr>\n",
       "    <tr>\n",
       "      <th>4997</th>\n",
       "      <td>474724</td>\n",
       "      <td>68020</td>\n",
       "      <td>237444</td>\n",
       "      <td>67876</td>\n",
       "    </tr>\n",
       "    <tr>\n",
       "      <th>4998</th>\n",
       "      <td>457949</td>\n",
       "      <td>65656</td>\n",
       "      <td>229082</td>\n",
       "      <td>65492</td>\n",
       "    </tr>\n",
       "    <tr>\n",
       "      <th>4999</th>\n",
       "      <td>568555</td>\n",
       "      <td>81496</td>\n",
       "      <td>284394</td>\n",
       "      <td>81294</td>\n",
       "    </tr>\n",
       "  </tbody>\n",
       "</table>\n",
       "<p>5000 rows × 4 columns</p>\n",
       "</div>"
      ],
      "text/plain": [
       "           0       1       2       3\n",
       "0     694620   99626  347472   99333\n",
       "1     532242   76470  266288   76146\n",
       "2     294145   42290  147174   42087\n",
       "3     583929   83630  292050   83479\n",
       "4     365543   52486  182882   52286\n",
       "...      ...     ...     ...     ...\n",
       "4995  499964   71700  250092   71500\n",
       "4996  733782  105150  367016  104910\n",
       "4997  474724   68020  237444   67876\n",
       "4998  457949   65656  229082   65492\n",
       "4999  568555   81496  284394   81294\n",
       "\n",
       "[5000 rows x 4 columns]"
      ]
     },
     "execution_count": 12,
     "metadata": {},
     "output_type": "execute_result"
    }
   ],
   "source": [
    "encrypt_features, en_matrix = encryption(features)\n",
    "print(\"Матрица преобразования:\\n\\n\",en_matrix)\n",
    "encrypt_features"
   ]
  },
  {
   "cell_type": "markdown",
   "metadata": {},
   "source": [
    "<div class=\"alert alert-success\" style=\"border-color: green; border-radius: 5px\">\n",
    "    <p><u><b>✅ КОММЕНТАРИЙ РЕВЬЮЕРА</b></u></p>\n",
    "Проверка на обратимость новой матрицы - отлично!"
   ]
  },
  {
   "cell_type": "markdown",
   "metadata": {},
   "source": [
    "По полученной таблице нельзя опредлеить конфиденциальные данные клиентов, только их количество. Теперь нужно проверить выполнение условия сохранения качества.\n",
    "\n",
    "Разобьем новые данные на выборки:"
   ]
  },
  {
   "cell_type": "code",
   "execution_count": 13,
   "metadata": {},
   "outputs": [],
   "source": [
    "features_train, features_test, target_train, target_test = train_test_split(\n",
    "    encrypt_features, target, test_size=0.25, random_state=12345)"
   ]
  },
  {
   "cell_type": "code",
   "execution_count": 14,
   "metadata": {},
   "outputs": [
    {
     "name": "stdout",
     "output_type": "stream",
     "text": [
      "W= [ 0.00063019  0.00645537 -0.00013757 -0.01038548]\n",
      "R2 = 0.4352275684082989\n"
     ]
    }
   ],
   "source": [
    "model = LinearRegression()\n",
    "model.fit(features_train, target_train)\n",
    "predicts = model.predict(features_test)\n",
    "\n",
    "R2_enc = r2_score(target_test,predicts)\n",
    "\n",
    "print(f\"W= {model.coef_}\")\n",
    "print(f\"R2 = {R2_enc}\")"
   ]
  },
  {
   "cell_type": "markdown",
   "metadata": {},
   "source": [
    "Сравним получившиеся метрики  для закодированной и обычной модели:"
   ]
  },
  {
   "cell_type": "code",
   "execution_count": 15,
   "metadata": {},
   "outputs": [
    {
     "name": "stdout",
     "output_type": "stream",
     "text": [
      "Метрика R2 для модели без шифрования: 0.43523\n",
      "Метрика R2 для модели с шифрованием: 0.43523\n"
     ]
    }
   ],
   "source": [
    "print(f\"Метрика R2 для модели без шифрования: {R2_clear:.5f}\\nМетрика R2 для модели с шифрованием: {R2_enc:.5f}\")"
   ]
  },
  {
   "cell_type": "markdown",
   "metadata": {},
   "source": [
    "Как мы видим результаты идентичны до 5 знака после запятой, также можно заметить, что веса регрессии сильно отличаются, так как требуется сконпенсировать отличия коэффициентов."
   ]
  },
  {
   "cell_type": "markdown",
   "metadata": {},
   "source": [
    "<div class=\"alert alert-success\" style=\"border-color: green; border-radius: 5px\">\n",
    "    <p><u><b>✅ КОММЕНТАРИЙ РЕВЬЮЕРА</b></u></p>\n",
    "Принято!"
   ]
  },
  {
   "cell_type": "markdown",
   "metadata": {},
   "source": [
    "## Заключение\n",
    "\n",
    "В данном проекте основной задачей являлась защита данных клиентов страховой компании. В нашем распоряжении параметры `Пол`,`Возраст`,`Зарплата`,`Члены семьи`, данные предоставлены компанией «Хоть потоп».\n",
    "\n",
    "Нужно было разработать такой метод преобразования данных, чтобы по ним было сложно **восстановить персональную информацию**, а также обосновать корректность его работы. Процесс защиты данных не должен был ухудшить качество модели машинного обучения. \n",
    "\n",
    "В процессе работы были загружены и изучены данные, создан и исследован алгоритм преобразования данных, с последующей проверкой **метрики R2** до и после шифрования.\n",
    "\n",
    "Благодаря домножению признаков на обратимую матрицу можно зашифровать данные, а в результате теоретического рассчета и провденного эксперимента можно сделать вывод, что качество линейной регресии **не изменилось**:\n",
    "- R2 = 0.43523\n",
    "- R2_enc = 0.43523"
   ]
  },
  {
   "cell_type": "markdown",
   "metadata": {},
   "source": [
    "<div class=\"alert alert-success\" style=\"border-color: green; border-radius: 5px\">\n",
    "    <p><u><b>✅ КОММЕНТАРИЙ РЕВЬЮЕРА</b></u></p>\n",
    "Хорошо, Максим, чёткая работа! Да и сама практическая цель достигнута, ОК<br>\n",
    "Тут всё верно. Есть всего один момент для дополнений:<br>\n",
    "    \n",
    "В разделе \"Умножение матриц\" ожидается алгебраическое доказательство чуть иначе. В тексте постарался описать проблематику.<font color='red'><br>\n",
    "Посмотри, пожалуйста)<br><font color='green'><font color='green'>\n",
    "Спасибо) Буду ждать."
   ]
  },
  {
   "cell_type": "markdown",
   "metadata": {},
   "source": [
    "## Чек-лист проверки"
   ]
  },
  {
   "cell_type": "markdown",
   "metadata": {},
   "source": [
    "Поставьте 'x' в выполненных пунктах. Далее нажмите Shift+Enter."
   ]
  },
  {
   "cell_type": "markdown",
   "metadata": {},
   "source": [
    "- [x]  Jupyter Notebook открыт\n",
    "- [x]  Весь код выполняется без ошибок\n",
    "- [x]  Ячейки с кодом расположены в порядке исполнения\n",
    "- [x]  Выполнен шаг 1: данные загружены\n",
    "- [x]  Выполнен шаг 2: получен ответ на вопрос об умножении матриц\n",
    "    - [x]  Указан правильный вариант ответа\n",
    "    - [x]  Вариант обоснован\n",
    "- [x]  Выполнен шаг 3: предложен алгоритм преобразования\n",
    "    - [x]  Алгоритм описан\n",
    "    - [x]  Алгоритм обоснован\n",
    "- [x]  Выполнен шаг 4: алгоритм проверен\n",
    "    - [x]  Алгоритм реализован\n",
    "    - [x]  Проведено сравнение качества моделей до и после преобразования"
   ]
  }
 ],
 "metadata": {
  "ExecuteTimeLog": [
   {
    "duration": 58,
    "start_time": "2023-02-27T19:21:58.077Z"
   },
   {
    "duration": 1650,
    "start_time": "2023-02-27T19:22:01.449Z"
   },
   {
    "duration": 145,
    "start_time": "2023-02-27T19:22:04.329Z"
   },
   {
    "duration": 8,
    "start_time": "2023-02-27T19:24:56.620Z"
   },
   {
    "duration": 56,
    "start_time": "2023-02-27T19:25:08.589Z"
   },
   {
    "duration": 6,
    "start_time": "2023-02-27T19:31:09.446Z"
   },
   {
    "duration": 50,
    "start_time": "2023-03-26T18:41:39.275Z"
   },
   {
    "duration": 2090,
    "start_time": "2023-03-26T18:41:42.274Z"
   },
   {
    "duration": 120,
    "start_time": "2023-03-26T18:41:45.122Z"
   },
   {
    "duration": 9,
    "start_time": "2023-03-26T18:41:47.505Z"
   },
   {
    "duration": 6,
    "start_time": "2023-03-26T18:41:49.389Z"
   },
   {
    "duration": 6,
    "start_time": "2023-03-26T18:41:54.352Z"
   },
   {
    "duration": 186,
    "start_time": "2023-03-26T18:41:57.183Z"
   },
   {
    "duration": 19,
    "start_time": "2023-03-26T18:42:00.139Z"
   },
   {
    "duration": 31,
    "start_time": "2023-03-26T18:42:02.266Z"
   },
   {
    "duration": 6,
    "start_time": "2023-03-26T18:42:04.480Z"
   },
   {
    "duration": 21,
    "start_time": "2023-03-26T18:42:15.349Z"
   },
   {
    "duration": 86,
    "start_time": "2023-03-26T18:44:21.747Z"
   },
   {
    "duration": 10,
    "start_time": "2023-03-26T18:44:30.055Z"
   },
   {
    "duration": 11,
    "start_time": "2023-03-26T18:45:00.135Z"
   },
   {
    "duration": 5,
    "start_time": "2023-03-26T18:45:45.058Z"
   },
   {
    "duration": 10,
    "start_time": "2023-03-26T18:49:19.204Z"
   },
   {
    "duration": 15,
    "start_time": "2023-03-26T18:49:30.067Z"
   },
   {
    "duration": 14,
    "start_time": "2023-03-26T18:50:25.374Z"
   },
   {
    "duration": 12,
    "start_time": "2023-03-26T18:50:41.071Z"
   },
   {
    "duration": 14,
    "start_time": "2023-03-26T18:51:02.208Z"
   },
   {
    "duration": 13,
    "start_time": "2023-03-26T18:51:03.771Z"
   },
   {
    "duration": 5,
    "start_time": "2023-03-26T18:51:13.773Z"
   },
   {
    "duration": 54,
    "start_time": "2023-03-26T18:51:13.780Z"
   },
   {
    "duration": 6,
    "start_time": "2023-03-26T18:51:13.836Z"
   },
   {
    "duration": 27,
    "start_time": "2023-03-26T18:51:13.844Z"
   },
   {
    "duration": 19,
    "start_time": "2023-03-26T18:51:13.874Z"
   },
   {
    "duration": 56,
    "start_time": "2023-03-26T19:00:45.911Z"
   },
   {
    "duration": 9,
    "start_time": "2023-03-26T19:04:07.749Z"
   },
   {
    "duration": 11,
    "start_time": "2023-03-26T19:04:50.316Z"
   },
   {
    "duration": 11,
    "start_time": "2023-03-26T19:05:10.184Z"
   },
   {
    "duration": 11,
    "start_time": "2023-03-26T19:05:36.758Z"
   },
   {
    "duration": 13,
    "start_time": "2023-03-26T19:05:41.935Z"
   },
   {
    "duration": 11,
    "start_time": "2023-03-26T19:06:13.126Z"
   },
   {
    "duration": 15,
    "start_time": "2023-03-26T19:06:35.137Z"
   },
   {
    "duration": 8,
    "start_time": "2023-03-26T19:06:42.062Z"
   },
   {
    "duration": 52,
    "start_time": "2023-03-27T22:27:27.193Z"
   },
   {
    "duration": 1663,
    "start_time": "2023-03-27T22:27:29.818Z"
   },
   {
    "duration": 134,
    "start_time": "2023-03-27T22:27:31.483Z"
   },
   {
    "duration": 6,
    "start_time": "2023-03-27T22:27:31.619Z"
   },
   {
    "duration": 35,
    "start_time": "2023-03-27T22:27:31.627Z"
   },
   {
    "duration": 30,
    "start_time": "2023-03-27T22:27:31.664Z"
   },
   {
    "duration": 13,
    "start_time": "2023-03-27T22:27:31.696Z"
   },
   {
    "duration": 158,
    "start_time": "2023-03-27T22:27:31.710Z"
   },
   {
    "duration": 0,
    "start_time": "2023-03-27T22:27:31.869Z"
   },
   {
    "duration": 14,
    "start_time": "2023-03-27T22:28:35.921Z"
   },
   {
    "duration": 57,
    "start_time": "2023-03-27T22:28:37.686Z"
   },
   {
    "duration": 9,
    "start_time": "2023-03-27T22:30:25.091Z"
   },
   {
    "duration": 5,
    "start_time": "2023-03-27T22:30:37.090Z"
   },
   {
    "duration": 14,
    "start_time": "2023-03-27T22:30:38.324Z"
   },
   {
    "duration": 6,
    "start_time": "2023-03-27T22:30:52.590Z"
   },
   {
    "duration": 14,
    "start_time": "2023-03-27T22:30:55.402Z"
   },
   {
    "duration": 10,
    "start_time": "2023-03-27T22:31:02.165Z"
   },
   {
    "duration": 4,
    "start_time": "2023-03-27T22:53:41.149Z"
   },
   {
    "duration": 3,
    "start_time": "2023-03-27T22:55:07.921Z"
   },
   {
    "duration": 183,
    "start_time": "2023-03-27T22:55:19.173Z"
   },
   {
    "duration": 3,
    "start_time": "2023-03-27T22:55:51.223Z"
   },
   {
    "duration": 10,
    "start_time": "2023-03-27T22:55:53.063Z"
   },
   {
    "duration": 10,
    "start_time": "2023-03-27T22:56:03.138Z"
   },
   {
    "duration": 16,
    "start_time": "2023-03-27T22:56:19.757Z"
   },
   {
    "duration": 4,
    "start_time": "2023-03-27T22:57:24.759Z"
   },
   {
    "duration": 8,
    "start_time": "2023-03-27T22:57:32.818Z"
   },
   {
    "duration": 8,
    "start_time": "2023-03-27T23:05:56.906Z"
   },
   {
    "duration": 47,
    "start_time": "2023-03-27T23:06:03.678Z"
   },
   {
    "duration": 3,
    "start_time": "2023-03-27T23:06:18.496Z"
   },
   {
    "duration": 3,
    "start_time": "2023-03-27T23:06:53.552Z"
   },
   {
    "duration": 3,
    "start_time": "2023-03-27T23:06:59.324Z"
   },
   {
    "duration": 3,
    "start_time": "2023-03-27T23:07:04.329Z"
   },
   {
    "duration": 3,
    "start_time": "2023-03-27T23:33:09.606Z"
   },
   {
    "duration": 10,
    "start_time": "2023-03-27T23:38:56.849Z"
   },
   {
    "duration": 13,
    "start_time": "2023-03-27T23:39:06.462Z"
   },
   {
    "duration": 10,
    "start_time": "2023-03-27T23:39:13.159Z"
   },
   {
    "duration": 11,
    "start_time": "2023-03-27T23:39:17.069Z"
   },
   {
    "duration": 11,
    "start_time": "2023-03-27T23:39:23.397Z"
   },
   {
    "duration": 10,
    "start_time": "2023-03-27T23:39:31.440Z"
   },
   {
    "duration": 4,
    "start_time": "2023-03-28T00:03:50.678Z"
   },
   {
    "duration": 5,
    "start_time": "2023-03-28T00:03:52.887Z"
   },
   {
    "duration": 9,
    "start_time": "2023-03-28T00:07:27.961Z"
   },
   {
    "duration": 10,
    "start_time": "2023-03-28T00:07:53.981Z"
   },
   {
    "duration": 8,
    "start_time": "2023-03-28T00:08:02.654Z"
   },
   {
    "duration": 8,
    "start_time": "2023-03-28T00:08:08.554Z"
   },
   {
    "duration": 3,
    "start_time": "2023-03-28T00:09:50.492Z"
   },
   {
    "duration": 9,
    "start_time": "2023-03-28T00:10:09.753Z"
   },
   {
    "duration": 10,
    "start_time": "2023-03-28T00:10:42.208Z"
   },
   {
    "duration": 9,
    "start_time": "2023-03-28T00:10:47.668Z"
   },
   {
    "duration": 9,
    "start_time": "2023-03-28T00:10:47.782Z"
   },
   {
    "duration": 10,
    "start_time": "2023-03-28T00:10:52.561Z"
   },
   {
    "duration": 9,
    "start_time": "2023-03-28T00:12:46.013Z"
   },
   {
    "duration": 3,
    "start_time": "2023-03-28T00:12:52.517Z"
   },
   {
    "duration": 3,
    "start_time": "2023-03-28T00:14:35.039Z"
   },
   {
    "duration": 40,
    "start_time": "2023-03-28T00:14:35.045Z"
   },
   {
    "duration": 6,
    "start_time": "2023-03-28T00:14:35.086Z"
   },
   {
    "duration": 11,
    "start_time": "2023-03-28T00:14:35.094Z"
   },
   {
    "duration": 38,
    "start_time": "2023-03-28T00:14:35.108Z"
   },
   {
    "duration": 8,
    "start_time": "2023-03-28T00:14:35.148Z"
   },
   {
    "duration": 12,
    "start_time": "2023-03-28T00:14:35.158Z"
   },
   {
    "duration": 72,
    "start_time": "2023-03-28T00:14:35.171Z"
   },
   {
    "duration": 9,
    "start_time": "2023-03-28T00:14:35.245Z"
   },
   {
    "duration": 3,
    "start_time": "2023-03-28T00:14:35.341Z"
   },
   {
    "duration": 13,
    "start_time": "2023-03-28T00:14:35.346Z"
   },
   {
    "duration": 5,
    "start_time": "2023-03-28T00:14:35.360Z"
   },
   {
    "duration": 10,
    "start_time": "2023-03-28T00:14:35.366Z"
   },
   {
    "duration": 4,
    "start_time": "2023-03-28T00:14:35.377Z"
   },
   {
    "duration": 3,
    "start_time": "2023-03-28T00:14:43.240Z"
   },
   {
    "duration": 39,
    "start_time": "2023-03-28T00:14:43.244Z"
   },
   {
    "duration": 6,
    "start_time": "2023-03-28T00:14:43.284Z"
   },
   {
    "duration": 8,
    "start_time": "2023-03-28T00:14:43.291Z"
   },
   {
    "duration": 12,
    "start_time": "2023-03-28T00:14:43.302Z"
   },
   {
    "duration": 30,
    "start_time": "2023-03-28T00:14:43.316Z"
   },
   {
    "duration": 10,
    "start_time": "2023-03-28T00:14:43.348Z"
   },
   {
    "duration": 81,
    "start_time": "2023-03-28T00:14:43.359Z"
   },
   {
    "duration": 10,
    "start_time": "2023-03-28T00:14:43.442Z"
   },
   {
    "duration": 88,
    "start_time": "2023-03-28T00:14:43.453Z"
   },
   {
    "duration": 12,
    "start_time": "2023-03-28T00:14:43.543Z"
   },
   {
    "duration": 4,
    "start_time": "2023-03-28T00:14:43.556Z"
   },
   {
    "duration": 9,
    "start_time": "2023-03-28T00:14:43.561Z"
   },
   {
    "duration": 4,
    "start_time": "2023-03-28T00:14:43.572Z"
   },
   {
    "duration": 1040,
    "start_time": "2023-03-28T00:14:50.069Z"
   },
   {
    "duration": 46,
    "start_time": "2023-03-28T00:14:51.111Z"
   },
   {
    "duration": 6,
    "start_time": "2023-03-28T00:14:51.158Z"
   },
   {
    "duration": 12,
    "start_time": "2023-03-28T00:14:51.166Z"
   },
   {
    "duration": 12,
    "start_time": "2023-03-28T00:14:51.179Z"
   },
   {
    "duration": 7,
    "start_time": "2023-03-28T00:14:51.193Z"
   },
   {
    "duration": 39,
    "start_time": "2023-03-28T00:14:51.202Z"
   },
   {
    "duration": 7,
    "start_time": "2023-03-28T00:14:51.243Z"
   },
   {
    "duration": 96,
    "start_time": "2023-03-28T00:14:51.252Z"
   },
   {
    "duration": 3,
    "start_time": "2023-03-28T00:14:51.350Z"
   },
   {
    "duration": 12,
    "start_time": "2023-03-28T00:14:51.355Z"
   },
   {
    "duration": 5,
    "start_time": "2023-03-28T00:14:51.368Z"
   },
   {
    "duration": 15,
    "start_time": "2023-03-28T00:14:51.374Z"
   },
   {
    "duration": 3,
    "start_time": "2023-03-28T00:14:51.390Z"
   },
   {
    "duration": 10,
    "start_time": "2023-03-28T00:15:34.142Z"
   },
   {
    "duration": 4748,
    "start_time": "2023-03-28T06:31:52.686Z"
   },
   {
    "duration": 52,
    "start_time": "2023-03-28T06:31:57.436Z"
   },
   {
    "duration": 6,
    "start_time": "2023-03-28T06:32:07.849Z"
   },
   {
    "duration": 9,
    "start_time": "2023-03-28T06:32:09.513Z"
   },
   {
    "duration": 12,
    "start_time": "2023-03-28T06:32:13.420Z"
   },
   {
    "duration": 8,
    "start_time": "2023-03-28T06:32:14.851Z"
   },
   {
    "duration": 15,
    "start_time": "2023-03-28T06:35:58.494Z"
   },
   {
    "duration": 5,
    "start_time": "2023-03-28T06:40:43.479Z"
   },
   {
    "duration": 8,
    "start_time": "2023-03-28T06:40:44.003Z"
   },
   {
    "duration": 3,
    "start_time": "2023-03-28T06:41:00.127Z"
   },
   {
    "duration": 9,
    "start_time": "2023-03-28T06:41:02.177Z"
   },
   {
    "duration": 5,
    "start_time": "2023-03-28T06:41:24.430Z"
   },
   {
    "duration": 8,
    "start_time": "2023-03-28T06:41:24.933Z"
   },
   {
    "duration": 2,
    "start_time": "2023-03-28T06:41:26.119Z"
   },
   {
    "duration": 48,
    "start_time": "2023-03-28T23:25:35.637Z"
   },
   {
    "duration": 1141,
    "start_time": "2023-03-28T23:25:40.485Z"
   },
   {
    "duration": 140,
    "start_time": "2023-03-28T23:25:41.628Z"
   },
   {
    "duration": 6,
    "start_time": "2023-03-28T23:25:41.769Z"
   },
   {
    "duration": 17,
    "start_time": "2023-03-28T23:25:41.777Z"
   },
   {
    "duration": 15,
    "start_time": "2023-03-28T23:25:41.795Z"
   },
   {
    "duration": 7,
    "start_time": "2023-03-28T23:25:41.811Z"
   },
   {
    "duration": 81,
    "start_time": "2023-03-28T23:25:41.820Z"
   },
   {
    "duration": 0,
    "start_time": "2023-03-28T23:25:41.902Z"
   },
   {
    "duration": 0,
    "start_time": "2023-03-28T23:25:41.903Z"
   },
   {
    "duration": 0,
    "start_time": "2023-03-28T23:25:41.904Z"
   },
   {
    "duration": 0,
    "start_time": "2023-03-28T23:25:41.905Z"
   },
   {
    "duration": 0,
    "start_time": "2023-03-28T23:25:41.906Z"
   },
   {
    "duration": 0,
    "start_time": "2023-03-28T23:25:41.907Z"
   },
   {
    "duration": 0,
    "start_time": "2023-03-28T23:25:41.910Z"
   },
   {
    "duration": 0,
    "start_time": "2023-03-28T23:25:41.911Z"
   },
   {
    "duration": 22,
    "start_time": "2023-03-28T23:26:08.376Z"
   },
   {
    "duration": 1115,
    "start_time": "2023-03-28T23:37:27.168Z"
   },
   {
    "duration": 51,
    "start_time": "2023-03-28T23:37:28.285Z"
   },
   {
    "duration": 5,
    "start_time": "2023-03-28T23:37:28.338Z"
   },
   {
    "duration": 26,
    "start_time": "2023-03-28T23:37:28.345Z"
   },
   {
    "duration": 14,
    "start_time": "2023-03-28T23:37:28.373Z"
   },
   {
    "duration": 7,
    "start_time": "2023-03-28T23:37:28.388Z"
   },
   {
    "duration": 26,
    "start_time": "2023-03-28T23:37:28.396Z"
   },
   {
    "duration": 65,
    "start_time": "2023-03-28T23:37:28.423Z"
   },
   {
    "duration": 7,
    "start_time": "2023-03-28T23:37:28.490Z"
   },
   {
    "duration": 98,
    "start_time": "2023-03-28T23:37:28.500Z"
   },
   {
    "duration": 3,
    "start_time": "2023-03-28T23:37:28.600Z"
   },
   {
    "duration": 12,
    "start_time": "2023-03-28T23:37:28.605Z"
   },
   {
    "duration": 4,
    "start_time": "2023-03-28T23:37:28.618Z"
   },
   {
    "duration": 10,
    "start_time": "2023-03-28T23:37:28.623Z"
   },
   {
    "duration": 5,
    "start_time": "2023-03-28T23:37:28.634Z"
   },
   {
    "duration": 1184,
    "start_time": "2023-03-29T09:36:35.811Z"
   },
   {
    "duration": 121,
    "start_time": "2023-03-29T09:36:36.998Z"
   },
   {
    "duration": 5,
    "start_time": "2023-03-29T09:36:37.121Z"
   },
   {
    "duration": 30,
    "start_time": "2023-03-29T09:36:37.128Z"
   },
   {
    "duration": 23,
    "start_time": "2023-03-29T09:36:37.159Z"
   },
   {
    "duration": 13,
    "start_time": "2023-03-29T09:36:37.183Z"
   },
   {
    "duration": 30,
    "start_time": "2023-03-29T09:36:37.197Z"
   },
   {
    "duration": 28,
    "start_time": "2023-03-29T09:36:37.229Z"
   },
   {
    "duration": 87,
    "start_time": "2023-03-29T09:36:37.262Z"
   },
   {
    "duration": 93,
    "start_time": "2023-03-29T09:36:37.360Z"
   },
   {
    "duration": 4,
    "start_time": "2023-03-29T09:36:37.455Z"
   },
   {
    "duration": 21,
    "start_time": "2023-03-29T09:36:37.461Z"
   },
   {
    "duration": 5,
    "start_time": "2023-03-29T09:36:37.483Z"
   },
   {
    "duration": 29,
    "start_time": "2023-03-29T09:36:37.489Z"
   },
   {
    "duration": 9,
    "start_time": "2023-03-29T09:36:37.520Z"
   }
  ],
  "kernelspec": {
   "display_name": "Python 3 (ipykernel)",
   "language": "python",
   "name": "python3"
  },
  "language_info": {
   "codemirror_mode": {
    "name": "ipython",
    "version": 3
   },
   "file_extension": ".py",
   "mimetype": "text/x-python",
   "name": "python",
   "nbconvert_exporter": "python",
   "pygments_lexer": "ipython3",
   "version": "3.9.5"
  },
  "toc": {
   "base_numbering": 1,
   "nav_menu": {},
   "number_sections": true,
   "sideBar": true,
   "skip_h1_title": true,
   "title_cell": "Содержание",
   "title_sidebar": "Contents",
   "toc_cell": true,
   "toc_position": {},
   "toc_section_display": true,
   "toc_window_display": true
  }
 },
 "nbformat": 4,
 "nbformat_minor": 2
}
