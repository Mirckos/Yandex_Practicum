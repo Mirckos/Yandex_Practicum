{
 "cells": [
  {
   "cell_type": "markdown",
   "metadata": {},
   "source": [
    "<h1>Содержание<span class=\"tocSkip\"></span></h1>\n",
    "<div class=\"toc\"><ul class=\"toc-item\"><li><span><a href=\"#Подготовка\" data-toc-modified-id=\"Подготовка-1\"><span class=\"toc-item-num\">1&nbsp;&nbsp;</span>Подготовка</a></span></li><li><span><a href=\"#Обучение\" data-toc-modified-id=\"Обучение-2\"><span class=\"toc-item-num\">2&nbsp;&nbsp;</span>Обучение</a></span></li><li><span><a href=\"#Выводы\" data-toc-modified-id=\"Выводы-3\"><span class=\"toc-item-num\">3&nbsp;&nbsp;</span>Выводы</a></span></li><li><span><a href=\"#Чек-лист-проверки\" data-toc-modified-id=\"Чек-лист-проверки-4\"><span class=\"toc-item-num\">4&nbsp;&nbsp;</span>Чек-лист проверки</a></span></li></ul></div>"
   ]
  },
  {
   "cell_type": "markdown",
   "metadata": {},
   "source": [
    "<div class=\"alert alert-info\">\n",
    "<font size=\"5\"><b>Комментарий ревьюера</b></font>\n",
    "\n",
    "Привет Максим! Меня зовут Марат, и я буду твоим ревьюером. Спешу сообщить что все ключевые этапы в работе выполнены,  с задачей тебе удалось справиться. По поводу обращения - в IT сфере принято общаться на «ты» :) Но, если привычней на «вы», дай знать. Как ревьюера моя задача помочь тебе в развитии, дав хорошие советы. Я внимательно посмотрю твой код, ознакомлюсь с твоими выводами и оставлю комментарии. Где то могу предложить небольшие исправление в коде, но ненавязчиво. Где потребуются уточнения, я оставлю много наводящих вопросов. Они помогут тебя с поиском верного решения.\n",
    "\n",
    "Все мои комментарии размечены по цветам, для лучшего восприятия. \n",
    "    \n",
    "<div class=\"alert alert-success\">Зеленым цветом и словом «Успех» отмечены особо удачные и элегантные решения, которыми ты можешь гордиться. </div>\n",
    "        \n",
    "<div class=\"alert alert-warning\">Желтым и значком словом «Совет», помечены решения у которых есть альтернативные решения, более оптимальные. Ты можешь найти их сразу и доработать проект, или отложить это на потом, для будущих проектах. Проект будет принят и без их доработки. </div>\n",
    "        \n",
    "<div class=\"alert alert-danger\"> Красным цветом и значком словом «Ошибка» помечу твои решения, на которые стоит обратить внимание прежде всего. После их доработки проект будет принят. </div>\n",
    "        \n",
    "Залог успеха - работа сообща, взаимное уважение и работа в диалоге. Поэтому, помечай свои ответные комментарии на мои реплики заметным цветом или курсивом, так мне будет легче их отслеживать. Пожалуйста, не изменяй и не удаляй мои комментарии. Все это поможет выполнить повторную проверку быстрей.\n",
    "\n",
    "</div>"
   ]
  },
  {
   "cell_type": "markdown",
   "metadata": {},
   "source": [
    "# Проект для «Викишоп» с BERT"
   ]
  },
  {
   "cell_type": "markdown",
   "metadata": {},
   "source": [
    "Интернет-магазин «Викишоп» запускает новый сервис. Теперь пользователи могут редактировать и дополнять описания товаров, как в вики-сообществах. То есть клиенты предлагают свои правки и комментируют изменения других. Магазину нужен инструмент, который будет искать токсичные комментарии и отправлять их на модерацию. \n",
    "\n",
    "Обучите модель классифицировать комментарии на позитивные и негативные. В вашем распоряжении набор данных с разметкой о токсичности правок.\n",
    "\n",
    "Постройте модель со значением метрики качества *F1* не меньше 0.75. \n",
    "\n",
    "**Инструкция по выполнению проекта**\n",
    "\n",
    "1. Загрузите и подготовьте данные.\n",
    "2. Обучите разные модели. \n",
    "3. Сделайте выводы.\n",
    "\n",
    "Для выполнения проекта применять *BERT* необязательно, но вы можете попробовать.\n",
    "\n",
    "**Описание данных**\n",
    "\n",
    "Данные находятся в файле `toxic_comments.csv`. Столбец *text* в нём содержит текст комментария, а *toxic* — целевой признак."
   ]
  },
  {
   "cell_type": "markdown",
   "metadata": {},
   "source": [
    "<div class=\"alert alert-success\">\n",
    "<font size=\"5\"><b>Комментарий ревьюера</b></font>\n",
    "\n",
    "Успех:\n",
    "\n",
    "Вступление в работу очень важно, так человек, который смотрит твой проект (и на работе в том числе) будет сразу введен в курс дела. \n",
    "     \n",
    "    \n",
    " \n",
    "\n",
    "<div class=\"alert alert-warning\">\n",
    "\n",
    "\n",
    "Совет: \n",
    "   \n",
    "Вопросик, при желании можешь ответить )\n",
    "    \n",
    "    \n",
    "- а почему по твоему была выбрана метрика f1? \n",
    "    \n",
    "    \n",
    "- а что если бы нам было нужно найти как можно больше токсичных комментариев, в этом случаи на какую метрику мы бы ориентировались?\n",
    "    \n",
    "    \n",
    "- каким образом мы можем изменить функцию ошибки в модели, чтобы она максимизировала интересующую нас метрику (accuracy, f1, precision, roc-auc итп)?    \n",
    "\n",
    "\n",
    "\n",
    "</div>"
   ]
  },
  {
   "cell_type": "markdown",
   "metadata": {},
   "source": [
    "## Глава 1. Загрузка и подготовка данных"
   ]
  },
  {
   "cell_type": "markdown",
   "metadata": {},
   "source": [
    "Инициализируем библиотеки:"
   ]
  },
  {
   "cell_type": "code",
   "execution_count": 1,
   "metadata": {},
   "outputs": [],
   "source": [
    "import pandas as pd\n",
    "import numpy as np\n",
    "import seaborn as sns\n",
    "import torch\n",
    "import warnings\n",
    "\n",
    "import transformers as tfm\n",
    "from tqdm import notebook\n",
    "\n",
    "from imblearn.pipeline import Pipeline, make_pipeline\n",
    "from imblearn.over_sampling import SMOTE\n",
    "from sklearn.utils import shuffle\n",
    "from sklearn.metrics import f1_score,accuracy_score,make_scorer\n",
    "from sklearn.model_selection import cross_val_score,GridSearchCV,ShuffleSplit,train_test_split\n",
    "from sklearn.linear_model import LogisticRegression\n",
    "from sklearn.dummy import DummyClassifier\n",
    "from sklearn.ensemble import RandomForestClassifier\n",
    "from lightgbm import LGBMClassifier"
   ]
  },
  {
   "cell_type": "code",
   "execution_count": 2,
   "metadata": {},
   "outputs": [],
   "source": [
    "warnings.filterwarnings('ignore')"
   ]
  },
  {
   "cell_type": "markdown",
   "metadata": {},
   "source": [
    "Инициализируем константы:"
   ]
  },
  {
   "cell_type": "code",
   "execution_count": 3,
   "metadata": {},
   "outputs": [],
   "source": [
    "RS = 42"
   ]
  },
  {
   "cell_type": "markdown",
   "metadata": {},
   "source": [
    "\n",
    "\n",
    "<div class=\"alert alert-warning\">\n",
    "<font size=\"5\"><b>Комментарий ревьюера</b></font>\n",
    "\n",
    "Совет:\n",
    "\n",
    "    \n",
    "    \n",
    " \n",
    "\n",
    "    \n",
    "- есть рекомендации PEP-8 при написании кода, в том числе и для импортов. Если интересно можешь почитать [тут](https://pythonworld.ru/osnovy/pep-8-rukovodstvo-po-napisaniyu-koda-na-python.html). Есть что поправить \n",
    "\n"
   ]
  },
  {
   "cell_type": "markdown",
   "metadata": {},
   "source": [
    "<div class=\"alert alert-block alert-info\">\n",
    "<b>Комментарий студента:</b> Хорошо, я прочитал статью, вроде бы понял.\n",
    "</div>\n",
    "\n",
    "<div class=\"alert alert-block alert-info\">\n",
    "<b>Изменения:</b> Были внесены изменения в структуру инициализации библиотек\n",
    "</div>"
   ]
  },
  {
   "cell_type": "markdown",
   "metadata": {},
   "source": [
    "<div class=\"alert alert-success\">\n",
    "<font size=\"5\"><b>Комментарий ревьюераV2</b></font>\n",
    "\n",
    "\n",
    "\n",
    "Успех 👍:\n",
    "\n",
    "\n",
    "Привет Максим!\n",
    "    \n",
    "    \n",
    "Теперь не вижу что можно поправить\n",
    "\n",
    "\n",
    "\n",
    "\n",
    "</div>\n"
   ]
  },
  {
   "cell_type": "markdown",
   "metadata": {},
   "source": [
    "Прочитаем файл и рассмотрим таблицу:"
   ]
  },
  {
   "cell_type": "code",
   "execution_count": 4,
   "metadata": {
    "scrolled": true
   },
   "outputs": [
    {
     "data": {
      "text/html": [
       "<div>\n",
       "<style scoped>\n",
       "    .dataframe tbody tr th:only-of-type {\n",
       "        vertical-align: middle;\n",
       "    }\n",
       "\n",
       "    .dataframe tbody tr th {\n",
       "        vertical-align: top;\n",
       "    }\n",
       "\n",
       "    .dataframe thead th {\n",
       "        text-align: right;\n",
       "    }\n",
       "</style>\n",
       "<table border=\"1\" class=\"dataframe\">\n",
       "  <thead>\n",
       "    <tr style=\"text-align: right;\">\n",
       "      <th></th>\n",
       "      <th>text</th>\n",
       "      <th>toxic</th>\n",
       "    </tr>\n",
       "  </thead>\n",
       "  <tbody>\n",
       "    <tr>\n",
       "      <th>0</th>\n",
       "      <td>Explanation\\nWhy the edits made under my usern...</td>\n",
       "      <td>0</td>\n",
       "    </tr>\n",
       "    <tr>\n",
       "      <th>1</th>\n",
       "      <td>D'aww! He matches this background colour I'm s...</td>\n",
       "      <td>0</td>\n",
       "    </tr>\n",
       "    <tr>\n",
       "      <th>2</th>\n",
       "      <td>Hey man, I'm really not trying to edit war. It...</td>\n",
       "      <td>0</td>\n",
       "    </tr>\n",
       "    <tr>\n",
       "      <th>3</th>\n",
       "      <td>\"\\nMore\\nI can't make any real suggestions on ...</td>\n",
       "      <td>0</td>\n",
       "    </tr>\n",
       "    <tr>\n",
       "      <th>4</th>\n",
       "      <td>You, sir, are my hero. Any chance you remember...</td>\n",
       "      <td>0</td>\n",
       "    </tr>\n",
       "    <tr>\n",
       "      <th>...</th>\n",
       "      <td>...</td>\n",
       "      <td>...</td>\n",
       "    </tr>\n",
       "    <tr>\n",
       "      <th>159287</th>\n",
       "      <td>\":::::And for the second time of asking, when ...</td>\n",
       "      <td>0</td>\n",
       "    </tr>\n",
       "    <tr>\n",
       "      <th>159288</th>\n",
       "      <td>You should be ashamed of yourself \\n\\nThat is ...</td>\n",
       "      <td>0</td>\n",
       "    </tr>\n",
       "    <tr>\n",
       "      <th>159289</th>\n",
       "      <td>Spitzer \\n\\nUmm, theres no actual article for ...</td>\n",
       "      <td>0</td>\n",
       "    </tr>\n",
       "    <tr>\n",
       "      <th>159290</th>\n",
       "      <td>And it looks like it was actually you who put ...</td>\n",
       "      <td>0</td>\n",
       "    </tr>\n",
       "    <tr>\n",
       "      <th>159291</th>\n",
       "      <td>\"\\nAnd ... I really don't think you understand...</td>\n",
       "      <td>0</td>\n",
       "    </tr>\n",
       "  </tbody>\n",
       "</table>\n",
       "<p>159292 rows × 2 columns</p>\n",
       "</div>"
      ],
      "text/plain": [
       "                                                     text  toxic\n",
       "0       Explanation\\nWhy the edits made under my usern...      0\n",
       "1       D'aww! He matches this background colour I'm s...      0\n",
       "2       Hey man, I'm really not trying to edit war. It...      0\n",
       "3       \"\\nMore\\nI can't make any real suggestions on ...      0\n",
       "4       You, sir, are my hero. Any chance you remember...      0\n",
       "...                                                   ...    ...\n",
       "159287  \":::::And for the second time of asking, when ...      0\n",
       "159288  You should be ashamed of yourself \\n\\nThat is ...      0\n",
       "159289  Spitzer \\n\\nUmm, theres no actual article for ...      0\n",
       "159290  And it looks like it was actually you who put ...      0\n",
       "159291  \"\\nAnd ... I really don't think you understand...      0\n",
       "\n",
       "[159292 rows x 2 columns]"
      ]
     },
     "execution_count": 4,
     "metadata": {},
     "output_type": "execute_result"
    }
   ],
   "source": [
    "df = pd.read_csv('toxic_comments.csv', index_col=0).reset_index(drop=True)\n",
    "df"
   ]
  },
  {
   "cell_type": "markdown",
   "metadata": {},
   "source": [
    "<div class=\"alert alert-warning\">\n",
    "<font size=\"5\"><b>Комментарий ревьюера</b></font>\n",
    "\n",
    "Совет: \n",
    "\n",
    "\n",
    "Если не знаешь - чтобы не было столбца  `Unnamed: 0` при чтении файла можно так:\n",
    "\n",
    "\n",
    "    pd.read_csv(..., index_col=0)\n",
    "\n",
    "    \n",
    "(`Unnamed: 0` появляется при не совсем корректном сохранении файла)    \n",
    "\n",
    "<div>"
   ]
  },
  {
   "cell_type": "markdown",
   "metadata": {},
   "source": [
    "<div class=\"alert alert-block alert-info\">\n",
    "<b>Комментарий студента:</b> Понял, спасибо!\n",
    "</div>\n",
    "\n",
    "<div class=\"alert alert-block alert-info\">\n",
    "<b>Изменения:</b> \n",
    "\n",
    "Использован более локаничный способ чтения файла с использванием `Unnamed: 0`\n",
    "\n",
    "</div>"
   ]
  },
  {
   "cell_type": "markdown",
   "metadata": {},
   "source": [
    "Понадобилось удалит строку индексов изначально заложенную в файл"
   ]
  },
  {
   "cell_type": "markdown",
   "metadata": {},
   "source": [
    "Выведем информацию о таблице через метод `.info()`:"
   ]
  },
  {
   "cell_type": "code",
   "execution_count": 5,
   "metadata": {},
   "outputs": [
    {
     "name": "stdout",
     "output_type": "stream",
     "text": [
      "<class 'pandas.core.frame.DataFrame'>\n",
      "RangeIndex: 159292 entries, 0 to 159291\n",
      "Data columns (total 2 columns):\n",
      " #   Column  Non-Null Count   Dtype \n",
      "---  ------  --------------   ----- \n",
      " 0   text    159292 non-null  object\n",
      " 1   toxic   159292 non-null  int64 \n",
      "dtypes: int64(1), object(1)\n",
      "memory usage: 2.4+ MB\n"
     ]
    }
   ],
   "source": [
    "df.info()"
   ]
  },
  {
   "cell_type": "markdown",
   "metadata": {},
   "source": [
    "Посмотрим на распределение целевого признака:"
   ]
  },
  {
   "cell_type": "code",
   "execution_count": 6,
   "metadata": {},
   "outputs": [
    {
     "data": {
      "text/plain": [
       "[Text(0.5, 0, 'Токсичность'),\n",
       " Text(0, 0.5, 'Количество'),\n",
       " Text(0.5, 1.0, 'Соотношение токсичных и обычных комментариев')]"
      ]
     },
     "execution_count": 6,
     "metadata": {},
     "output_type": "execute_result"
    },
    {
     "data": {
      "image/png": "[encoded data removed]",
      "text/plain": [
       "<Figure size 640x480 with 1 Axes>"
      ]
     },
     "metadata": {},
     "output_type": "display_data"
    }
   ],
   "source": [
    "ax = sns.countplot(x='toxic', data=df)\n",
    "ax.set(xlabel= \"Токсичность\",ylabel= \"Количество\", title= \"Соотношение токсичных и обычных комментариев\")"
   ]
  },
  {
   "cell_type": "code",
   "execution_count": 7,
   "metadata": {},
   "outputs": [
    {
     "data": {
      "text/plain": [
       "0    143106\n",
       "1     16186\n",
       "Name: toxic, dtype: int64"
      ]
     },
     "execution_count": 7,
     "metadata": {},
     "output_type": "execute_result"
    }
   ],
   "source": [
    "df['toxic'].value_counts()"
   ]
  },
  {
   "cell_type": "code",
   "execution_count": 8,
   "metadata": {},
   "outputs": [
    {
     "name": "stdout",
     "output_type": "stream",
     "text": [
      "Дубликаты: 0\n"
     ]
    }
   ],
   "source": [
    "print(f\"Дубликаты: {df.duplicated().sum()}\")"
   ]
  },
  {
   "cell_type": "code",
   "execution_count": 9,
   "metadata": {},
   "outputs": [
    {
     "name": "stdout",
     "output_type": "stream",
     "text": [
      "Количество NaN:\n",
      "text     0\n",
      "toxic    0\n",
      "dtype: int64\n"
     ]
    }
   ],
   "source": [
    "print(f\"Количество NaN:\\n{df.isnull().sum()}\")"
   ]
  },
  {
   "cell_type": "markdown",
   "metadata": {},
   "source": [
    "Присутствует сильный дисбаланс классов, необходимо это исправить при обучении моделей."
   ]
  },
  {
   "cell_type": "markdown",
   "metadata": {},
   "source": [
    "### Вывод:\n",
    "- Данных больше 100 тысяч строк, обработка займет больших мощностей для этого нужно использовать GPU for PyTorch\n",
    "- Данные без пропусков и дубликатов\n",
    "- Присутсвует дисбаланс классов"
   ]
  },
  {
   "cell_type": "markdown",
   "metadata": {},
   "source": [
    "<div class=\"alert alert-success\">\n",
    "<font size=\"5\"><b>Комментарий ревьюера</b></font>\n",
    "\n",
    "Успех:\n",
    "\n",
    "Данные изучены. Небольшой EDA не помешает, так как это аналитический проект. \n",
    "\n",
    "\n",
    "Плюс за\n",
    "\n",
    "    \n",
    "\n",
    "-  проверку на сбалансированность \n",
    "\n",
    "\n",
    "\n",
    "- Промежуточный вывод в конце раздела\n",
    "\n",
    "\n",
    "\n",
    "- убрав стопслова можно провести частотный анализ текста/[облако слов](https://habr.com/ru/post/517410/) - чтобы получить общее представление о тематике и о наиболее часто встречаемых словах в токсичных и нетоксичных твитах Кроме того графики, рисунки делают проект визуально интересней    "
   ]
  },
  {
   "cell_type": "markdown",
   "metadata": {},
   "source": [
    "## Глава 2. Обучение моделей"
   ]
  },
  {
   "cell_type": "markdown",
   "metadata": {},
   "source": [
    "Будет обучено несколько моделей: \n",
    "- **LogisticRegression**\n",
    "- **RandomForestClassifier**\n",
    "- **LGBMClassifier**\n",
    "\n",
    "\n",
    "Для обработки текстов будет использована модель **BERT**"
   ]
  },
  {
   "cell_type": "markdown",
   "metadata": {},
   "source": [
    "Для подбора гиперпараметров впосользуумся `GridSearchCV`, для кросс-валидации воспользуемся `ShuffleSplit`"
   ]
  },
  {
   "cell_type": "markdown",
   "metadata": {},
   "source": [
    "Кросс-валидации для подбора параметров:"
   ]
  },
  {
   "cell_type": "code",
   "execution_count": 10,
   "metadata": {},
   "outputs": [],
   "source": [
    "CV = ShuffleSplit(n_splits=3, test_size=0.25, random_state=RS)"
   ]
  },
  {
   "cell_type": "markdown",
   "metadata": {},
   "source": [
    "\n",
    "\n",
    "<div class=\"alert alert-warning\">\n",
    "<font size=\"5\"><b>Комментарий ревьюера</b></font>\n",
    "\n",
    "\n",
    "\n",
    "Совет 🤔:\n",
    "\n",
    "\n",
    "\n",
    "В случаи использования Берта разрешается кардинально порезать датасет (1500 на train, test 500 к примеру). Но перед тем как сделать выборку из нашего датасета стоит изучить баланс в таргете и сделать выборку в которой будет сохраняться существующие пропорции. Тут подойдёт train_test_split c stratify. [Почитать](https://pythonru.com/baza-znanij/sklearn-train-test-split) можно тут\n",
    "\n",
    "    \n",
    "    "
   ]
  },
  {
   "cell_type": "markdown",
   "metadata": {},
   "source": [
    "<div class=\"alert alert-block alert-info\">\n",
    "<b>Комментарий студента:</b> Хорошо, я уменьшил выборку через train_test_split использовал  stratify как в статье.\n",
    "</div>\n",
    "\n",
    "<div class=\"alert alert-block alert-info\">\n",
    "<b>Изменения:</b> Были внесены изменения train_test_split используется с stratify.\n",
    "</div>"
   ]
  },
  {
   "cell_type": "markdown",
   "metadata": {},
   "source": [
    "<div class=\"alert alert-success\">\n",
    "<font size=\"5\"><b>Комментарий ревьюераV2</b></font>\n",
    "\n",
    "\n",
    "\n",
    "Успех 👍:\n",
    "\n",
    "\n",
    "\n",
    "Здорово что сразу используешь жёлтый советы\n",
    "\n",
    "\n",
    "\n",
    "\n",
    "</div>\n"
   ]
  },
  {
   "cell_type": "markdown",
   "metadata": {},
   "source": [
    "### BERT"
   ]
  },
  {
   "cell_type": "markdown",
   "metadata": {},
   "source": [
    "Необходимые библиотеки были загружены в начале проекта"
   ]
  },
  {
   "cell_type": "markdown",
   "metadata": {},
   "source": [
    "Будем использовать полную модель BERT."
   ]
  },
  {
   "cell_type": "markdown",
   "metadata": {},
   "source": [
    "Загрузим предобученную модель с использование `CUDA` и токенизатор:"
   ]
  },
  {
   "cell_type": "code",
   "execution_count": 11,
   "metadata": {},
   "outputs": [
    {
     "name": "stderr",
     "output_type": "stream",
     "text": [
      "Some weights of the model checkpoint at unitary/toxic-bert were not used when initializing BertModel: ['classifier.bias', 'classifier.weight']\n",
      "- This IS expected if you are initializing BertModel from the checkpoint of a model trained on another task or with another architecture (e.g. initializing a BertForSequenceClassification model from a BertForPreTraining model).\n",
      "- This IS NOT expected if you are initializing BertModel from the checkpoint of a model that you expect to be exactly identical (initializing a BertForSequenceClassification model from a BertForSequenceClassification model).\n"
     ]
    }
   ],
   "source": [
    "tokenizer = tfm.BertTokenizer.from_pretrained('unitary/toxic-bert')\n",
    "model = tfm.BertModel.from_pretrained('unitary/toxic-bert').to(\"cuda:0\")"
   ]
  },
  {
   "cell_type": "markdown",
   "metadata": {},
   "source": [
    "\n",
    "<div class=\"alert alert-warning\">\n",
    "<font size=\"5\"><b>Комментарий ревьюера</b></font>\n",
    "\n",
    "\n",
    "\n",
    "Совет: \n",
    "\n",
    "Есть модели обученных на специальных в текстах и предназначенные для специальных целей, их можно поискать на  на huggingface. Там авторы указывают,на каких данных учили и для каких целей, можно поискать. В частности для нашего датосета возможно будут интересна модель  toxic-bert. Судя по названию она самое то )\n",
    "\n",
    "\n",
    "\n",
    "    \n",
    "Подгрузить можно так\n",
    "    \n",
    "    \n",
    "    model = transformers.AutoModel.from_pretrained('unitary/toxic-bert')\n",
    "    tokenizer = transformers.AutoTokenizer.from_pretrained('unitary/toxic-bert')"
   ]
  },
  {
   "cell_type": "markdown",
   "metadata": {},
   "source": [
    "<div class=\"alert alert-block alert-info\">\n",
    "<b>Комментарий студента:</b> Спасибо за помощь с выбором модели!\n",
    "</div>\n",
    "\n",
    "<div class=\"alert alert-block alert-info\">\n",
    "<b>Изменения:</b> Использована более подходящая модель для предсказания токсичных комментариев\n",
    "</div>"
   ]
  },
  {
   "cell_type": "markdown",
   "metadata": {},
   "source": [
    "Проверим подключен ли расчет с помощью GPU:"
   ]
  },
  {
   "cell_type": "code",
   "execution_count": 12,
   "metadata": {},
   "outputs": [
    {
     "data": {
      "text/plain": [
       "True"
      ]
     },
     "execution_count": 12,
     "metadata": {},
     "output_type": "execute_result"
    }
   ],
   "source": [
    "torch.cuda.is_available()"
   ]
  },
  {
   "cell_type": "markdown",
   "metadata": {},
   "source": [
    "<div class=\"alert alert-success\">\n",
    "<font size=\"5\"><b>Комментарий ревьюера</b></font>\n",
    "\n",
    "Успех:\n",
    "\n",
    "\n",
    "\n",
    "\n",
    "Здорово что используешь gpu\n",
    "\n",
    "\n",
    "\n",
    "\n",
    "<div class=\"alert alert-warning\">\n",
    "\n",
    "\n",
    "\n",
    "\n",
    "Совет 🤔:\n",
    "\n",
    "\n",
    "    \n",
    "Возможно в этих ссылочках найдёшь что-то интересное\n",
    "\n",
    "\n",
    "\n",
    "[Google Colab для эффективного обучения](https://colab.research.google.com/)\n",
    "    \n",
    "[Как включить GPU в Google Colab](https://www.tutorialspoint.com/google_colab/google_colab_using_free_gpu.htm)\n",
    "    \n",
    "[Как BERT обучать на GPU](https://huggingface.co/docs/transformers/performance)    "
   ]
  },
  {
   "cell_type": "markdown",
   "metadata": {},
   "source": [
    "Выполним токенезацию исходных текстов:"
   ]
  },
  {
   "cell_type": "code",
   "execution_count": 13,
   "metadata": {},
   "outputs": [
    {
     "name": "stderr",
     "output_type": "stream",
     "text": [
      "Token indices sequence length is longer than the specified maximum sequence length for this model (631 > 512). Running this sequence through the model will result in indexing errors\n"
     ]
    },
    {
     "name": "stdout",
     "output_type": "stream",
     "text": [
      "CPU times: total: 3min 13s\n",
      "Wall time: 3min 14s\n"
     ]
    }
   ],
   "source": [
    "%%time\n",
    "tokenized = df['text'].apply((lambda x: tokenizer.encode(x, add_special_tokens=True)))"
   ]
  },
  {
   "cell_type": "markdown",
   "metadata": {},
   "source": [
    "Посчитаем длины текстов с токенами и проанализируем:"
   ]
  },
  {
   "cell_type": "code",
   "execution_count": 14,
   "metadata": {},
   "outputs": [
    {
     "name": "stdout",
     "output_type": "stream",
     "text": [
      "Количество токенов(комментариев): 159292\n"
     ]
    }
   ],
   "source": [
    "lenght = []\n",
    "for x in tokenized:\n",
    "    lenght.append(len(x))\n",
    "print(f\"Количество токенов(комментариев): {len(lenght)}\")"
   ]
  },
  {
   "cell_type": "code",
   "execution_count": 15,
   "metadata": {},
   "outputs": [
    {
     "data": {
      "text/plain": [
       "count    159292.000000\n",
       "mean         94.798351\n",
       "std         141.298205\n",
       "min           4.000000\n",
       "25%          26.000000\n",
       "50%          52.000000\n",
       "75%         104.000000\n",
       "max        4950.000000\n",
       "dtype: float64"
      ]
     },
     "execution_count": 15,
     "metadata": {},
     "output_type": "execute_result"
    }
   ],
   "source": [
    "lenght = pd.Series(lenght)\n",
    "lenght.describe()"
   ]
  },
  {
   "cell_type": "markdown",
   "metadata": {},
   "source": [
    "Есть аномально длинные комментарии, у модели есть ограниченное типичное значение длины в 512 слов, лучше ограничить текст максимальной длиной в 75% квантиль."
   ]
  },
  {
   "cell_type": "code",
   "execution_count": 16,
   "metadata": {},
   "outputs": [
    {
     "name": "stdout",
     "output_type": "stream",
     "text": [
      "CPU times: total: 5min 8s\n",
      "Wall time: 5min 8s\n"
     ]
    }
   ],
   "source": [
    "%%time\n",
    "index = []\n",
    "for x in range(len(tokenized)):\n",
    "    if len(tokenized[x]) <= lenght.quantile(q = 0.75):\n",
    "        index.append(x)"
   ]
  },
  {
   "cell_type": "code",
   "execution_count": 17,
   "metadata": {},
   "outputs": [
    {
     "name": "stdout",
     "output_type": "stream",
     "text": [
      "Итоговое количество комментариев без аномалий: 119800\n"
     ]
    }
   ],
   "source": [
    "print(f\"Итоговое количество комментариев без аномалий: {len(index)}\")"
   ]
  },
  {
   "cell_type": "markdown",
   "metadata": {},
   "source": [
    "По полученным индексам удалим лишнее из датасета:"
   ]
  },
  {
   "cell_type": "code",
   "execution_count": 18,
   "metadata": {},
   "outputs": [],
   "source": [
    "df_clear = df.query('index in @index')"
   ]
  },
  {
   "cell_type": "markdown",
   "metadata": {},
   "source": [
    "Возьмем меньшую часть датасета для экономии времении и ресурсов, размер выборки соствит 40% от полной.\n",
    "\n",
    "Также разобьем датасет на обучающую и тестовую выборки в соотношении 75% и 25% соответсвенно."
   ]
  },
  {
   "cell_type": "code",
   "execution_count": 19,
   "metadata": {},
   "outputs": [
    {
     "name": "stdout",
     "output_type": "stream",
     "text": [
      "Процент урезанной выборки к полной: 0.4\n"
     ]
    }
   ],
   "source": [
    "df_clear,df_clear_big = \\\n",
    "            train_test_split(df_clear,shuffle=True, test_size=0.6,stratify = df_clear['toxic'],random_state = RS )\n",
    "df_clear_train_f,df_clear_test_f,df_clear_train_t, df_clear_test_t = \\\n",
    "            train_test_split(df_clear['text'], df_clear['toxic'], shuffle=True, random_state = RS, test_size = 0.25, stratify = df_clear['toxic'])\n",
    "\n",
    "print(\"Процент урезанной выборки к полной:\",df_clear.shape[0]/(df_clear_big.shape[0]+df_clear.shape[0]))"
   ]
  },
  {
   "cell_type": "code",
   "execution_count": 20,
   "metadata": {},
   "outputs": [],
   "source": [
    "df_clear_train = pd.DataFrame((df_clear_train_f.reset_index(drop =True))).join(df_clear_train_t.reset_index(drop =True))\n",
    "df_clear_test =  pd.DataFrame((df_clear_test_f.reset_index(drop =True))).join(df_clear_test_t.reset_index(drop =True))"
   ]
  },
  {
   "cell_type": "markdown",
   "metadata": {},
   "source": [
    "Проверим отношение выборок: "
   ]
  },
  {
   "cell_type": "code",
   "execution_count": 21,
   "metadata": {},
   "outputs": [
    {
     "name": "stdout",
     "output_type": "stream",
     "text": [
      "Процент обучающей выборки/тестовой выборки: 75.0/25.0\n"
     ]
    }
   ],
   "source": [
    "full = ((df_clear_train_f.shape[0]+ df_clear_test_f.shape[0]))\n",
    "print(f\"Процент обучающей выборки/тестовой выборки: \\\n",
    "{((df_clear_train_f.shape[0])*100/full):.1f}/{((df_clear_test_f.shape[0] *100)/full):.1f}\")\n"
   ]
  },
  {
   "cell_type": "markdown",
   "metadata": {},
   "source": [
    "\n",
    "\n",
    "<div class=\"alert alert-warning\">\n",
    "<font size=\"5\"><b>Комментарий ревьюера</b></font>\n",
    "\n",
    "\n",
    "\n",
    "Совет:\n",
    "\n",
    "Есть информация к размышлению:\n",
    "\n",
    "- валидационный датасет должен иметь первоначальный вид (я о пропорциях нулей и единичек), раз ты ниже используешь GridSearchCV он будет сбалансирован, в итоге, на валидационном будет завышенная метрика (Как видишь наблюдаться у тебя получалось красиво, а на тестовый получилось хе-хе). Можно [почитать](https://datascience.xyz/practice/kak-delat-kross-validaciju-pri-apsemplinge-dannyh.html), тут написано как надо делать правильно (без pipeline никуда)\n",
    "\n",
    "  \n",
    "- так ли нам нужен oversampling!? Это скользкая дорожка, критический взгляд на [oversampling](https://habr.com/ru/post/349078/), может просто использовать class_weight?!   "
   ]
  },
  {
   "cell_type": "markdown",
   "metadata": {},
   "source": [
    "<div class=\"alert alert-block alert-info\">\n",
    "<b>Комментарий студента:</b> Это был самый трудной момент, до меня долго не доходило как лучше сделать, по началу f1 была очень плохой потому что предобученная модель плохо импортировалась, но в итоге я использовал SMOTE и pipline из статей и все заработало.\n",
    "</div>\n",
    "\n",
    "<div class=\"alert alert-block alert-info\">\n",
    "<b>Изменения:</b> Убран downsempling, а также использован pipeline с SMOTE\n",
    "</div>"
   ]
  },
  {
   "cell_type": "markdown",
   "metadata": {},
   "source": [
    "<div class=\"alert alert-success\">\n",
    "<font size=\"5\"><b>Комментарий ревьюераV2</b></font>\n",
    "\n",
    "\n",
    "\n",
    "Успех 👍:\n",
    "\n",
    "\n",
    "\n",
    "Красавчик.  Проще конечно было сделать  class_weight, но ты не пошёл по простому пути. И SMOTE более интеллектуальный вариант балансировки. И как видишь Теперь у тебя резко Метрика не скачет на валидации по сравнению с тестовой \n",
    "\n",
    "\n",
    "\n",
    "\n",
    "Но если ты используешь балансировку, то не надо уже использовать class_weight = \"balanced\". Это логически неверно\n"
   ]
  },
  {
   "cell_type": "markdown",
   "metadata": {},
   "source": [
    "Настоло время обучить `BERT`.\n",
    "\n",
    "Выберем размер батча для BERT равной 500."
   ]
  },
  {
   "cell_type": "markdown",
   "metadata": {},
   "source": [
    "Лучше сделать выборку кратной размеру батча:"
   ]
  },
  {
   "cell_type": "code",
   "execution_count": 22,
   "metadata": {},
   "outputs": [
    {
     "name": "stdout",
     "output_type": "stream",
     "text": [
      "Изначальный размер train/test: 35940 / 11980\n",
      "Кратно уменьшенный под размер батчаtrain/test: 35500 / 11476\n"
     ]
    }
   ],
   "source": [
    "print(\"Изначальный размер train/test:\",len(df_clear_train),\"/\",len(df_clear_test))\n",
    "\n",
    "print(\"Кратно уменьшенный под размер батчаtrain/test:\",(500* round(len(df_clear_train)/500)-500),\"/\",(499* round(len(df_clear_test)/500)-500))"
   ]
  },
  {
   "cell_type": "code",
   "execution_count": 23,
   "metadata": {},
   "outputs": [],
   "source": [
    "df_clear_train = df_clear_train[:(500 * round(len(df_clear_train)/500)-500)] \n",
    "df_clear_test = df_clear_test[:(500 * round(len(df_clear_test)/500)-500)] "
   ]
  },
  {
   "cell_type": "markdown",
   "metadata": {},
   "source": [
    "Выполним токенезацию текстов:"
   ]
  },
  {
   "cell_type": "code",
   "execution_count": 24,
   "metadata": {},
   "outputs": [
    {
     "name": "stdout",
     "output_type": "stream",
     "text": [
      "CPU times: total: 19.9 s\n",
      "Wall time: 19.9 s\n"
     ]
    }
   ],
   "source": [
    "%%time\n",
    "tokenized_train = df_clear_train['text'].apply((lambda x: tokenizer.encode(x, add_special_tokens=True)))"
   ]
  },
  {
   "cell_type": "code",
   "execution_count": 25,
   "metadata": {},
   "outputs": [
    {
     "name": "stdout",
     "output_type": "stream",
     "text": [
      "CPU times: total: 6.39 s\n",
      "Wall time: 6.4 s\n"
     ]
    }
   ],
   "source": [
    "%%time\n",
    "tokenized_test = df_clear_test['text'].apply((lambda x: tokenizer.encode(x, add_special_tokens=True)))"
   ]
  },
  {
   "cell_type": "markdown",
   "metadata": {},
   "source": [
    "Применим метод ``padding``, чтобы после токенизации длины исходных текстов в корпусе были равными, напишем функцию padding.\n",
    "\n",
    "Также добавим в функцию `attention_mask` для пояснения модели, что нули не несут значимой информации: "
   ]
  },
  {
   "cell_type": "code",
   "execution_count": 26,
   "metadata": {},
   "outputs": [],
   "source": [
    "def padding(tokenized):\n",
    "    lens= 0\n",
    "    for x in range(len(tokenized)):\n",
    "        if lens < len(tokenized[x]):\n",
    "            lens = len(tokenized[x])\n",
    "    n = lens\n",
    "    \n",
    "    pad = []\n",
    "    for x in range(len(tokenized)):\n",
    "        pad.append(np.array(tokenized[x] +  [0]*(n - len(tokenized[x]))))\n",
    "\n",
    "    attention_mask = [] \n",
    "    for x in range(len(tokenized)):\n",
    "        attention_mask.append(np.where(pad [x] != 0, 1, 0))\n",
    "    \n",
    "    return  np.array(pad) , np.array(attention_mask)"
   ]
  },
  {
   "cell_type": "code",
   "execution_count": 27,
   "metadata": {},
   "outputs": [],
   "source": [
    "pad_train,mask_train = padding(tokenized_train)\n",
    "pad_test,mask_test = padding(tokenized_test)"
   ]
  },
  {
   "cell_type": "markdown",
   "metadata": {},
   "source": [
    "Сделаем цикл по батчам, для наглядности будем отображать прогресс функцией `notebook()`    \n",
    " \n",
    "Итоговую матрицу получим из эмббедингов с помощью `concatenate()`:"
   ]
  },
  {
   "cell_type": "code",
   "execution_count": 28,
   "metadata": {},
   "outputs": [],
   "source": [
    "def embedings(padded, attention_mask):\n",
    "    batch_size = 500\n",
    "    embeddings = []\n",
    "    for i in notebook.tqdm(range(padded.shape[0] // batch_size)):\n",
    "            batch = torch.LongTensor(padded[batch_size*i:batch_size*(i+1)]).cuda() \n",
    "            attention_mask_batch = torch.LongTensor(attention_mask[batch_size*i:batch_size*(i+1)]).cuda()\n",
    "\n",
    "            with torch.no_grad():\n",
    "                batch_embeddings = model(batch, attention_mask=attention_mask_batch)\n",
    "            embeddings.append(batch_embeddings[0][:,0,:].cpu().numpy())\n",
    "    features = np.concatenate(embeddings)\n",
    "    return features"
   ]
  },
  {
   "cell_type": "code",
   "execution_count": 29,
   "metadata": {},
   "outputs": [
    {
     "data": {
      "application/vnd.jupyter.widget-view+json": {
       "model_id": "10b8e33902a644bf9f2dc6d79e7bb315",
       "version_major": 2,
       "version_minor": 0
      },
      "text/plain": [
       "  0%|          | 0/71 [00:00<?, ?it/s]"
      ]
     },
     "metadata": {},
     "output_type": "display_data"
    }
   ],
   "source": [
    "features_train = embedings(pad_train, mask_train)"
   ]
  },
  {
   "cell_type": "code",
   "execution_count": 30,
   "metadata": {},
   "outputs": [
    {
     "data": {
      "application/vnd.jupyter.widget-view+json": {
       "model_id": "08de2649063e47f2a5ebaf80e50b731b",
       "version_major": 2,
       "version_minor": 0
      },
      "text/plain": [
       "  0%|          | 0/23 [00:00<?, ?it/s]"
      ]
     },
     "metadata": {},
     "output_type": "display_data"
    }
   ],
   "source": [
    "features_test = embedings(pad_test, mask_test)"
   ]
  },
  {
   "cell_type": "markdown",
   "metadata": {},
   "source": [
    "Теперь получим также целевые признаки из начального датафрейма:"
   ]
  },
  {
   "cell_type": "code",
   "execution_count": 31,
   "metadata": {},
   "outputs": [],
   "source": [
    "target_train = df_clear_train['toxic']\n",
    "target_test = df_clear_test['toxic']"
   ]
  },
  {
   "cell_type": "markdown",
   "metadata": {},
   "source": [
    "Создадим scorer для обучения моделей:"
   ]
  },
  {
   "cell_type": "code",
   "execution_count": 32,
   "metadata": {},
   "outputs": [],
   "source": [
    "def score_F1(target,predict):\n",
    "    test_f1 = f1_score(target, predict)\n",
    "    return test_f1 \n",
    "score_F1 = make_scorer(score_F1, greater_is_better=True)    "
   ]
  },
  {
   "cell_type": "markdown",
   "metadata": {},
   "source": [
    "#### 1. LogisticRegression:"
   ]
  },
  {
   "cell_type": "code",
   "execution_count": 33,
   "metadata": {},
   "outputs": [
    {
     "name": "stdout",
     "output_type": "stream",
     "text": [
      "Fitting 3 folds for each of 6 candidates, totalling 18 fits\n",
      "[CV] END logisticregression__C=0.1, logisticregression__solver=liblinear; total time=   7.1s\n",
      "[CV] END logisticregression__C=0.1, logisticregression__solver=liblinear; total time=   6.0s\n",
      "[CV] END logisticregression__C=0.1, logisticregression__solver=liblinear; total time=   6.7s\n",
      "[CV] END logisticregression__C=0.5, logisticregression__solver=liblinear; total time=   9.8s\n",
      "[CV] END logisticregression__C=0.5, logisticregression__solver=liblinear; total time=  10.6s\n",
      "[CV] END logisticregression__C=0.5, logisticregression__solver=liblinear; total time=   9.1s\n",
      "[CV] END logisticregression__C=0.8, logisticregression__solver=liblinear; total time=  11.3s\n",
      "[CV] END logisticregression__C=0.8, logisticregression__solver=liblinear; total time=  11.6s\n",
      "[CV] END logisticregression__C=0.8, logisticregression__solver=liblinear; total time=  11.2s\n",
      "[CV] END logisticregression__C=1, logisticregression__solver=liblinear; total time=  12.2s\n",
      "[CV] END logisticregression__C=1, logisticregression__solver=liblinear; total time=  11.2s\n",
      "[CV] END logisticregression__C=1, logisticregression__solver=liblinear; total time=  11.4s\n",
      "[CV] END logisticregression__C=1.1, logisticregression__solver=liblinear; total time=  12.0s\n",
      "[CV] END logisticregression__C=1.1, logisticregression__solver=liblinear; total time=  13.1s\n",
      "[CV] END logisticregression__C=1.1, logisticregression__solver=liblinear; total time=  10.8s\n",
      "[CV] END logisticregression__C=1.8, logisticregression__solver=liblinear; total time=  13.5s\n",
      "[CV] END logisticregression__C=1.8, logisticregression__solver=liblinear; total time=  14.7s\n",
      "[CV] END logisticregression__C=1.8, logisticregression__solver=liblinear; total time=  12.4s\n",
      "CPU times: total: 4min 20s\n",
      "Wall time: 3min 26s\n"
     ]
    },
    {
     "data": {
      "text/html": [
       "<style>#sk-container-id-1 {color: black;background-color: white;}#sk-container-id-1 pre{padding: 0;}#sk-container-id-1 div.sk-toggleable {background-color: white;}#sk-container-id-1 label.sk-toggleable__label {cursor: pointer;display: block;width: 100%;margin-bottom: 0;padding: 0.3em;box-sizing: border-box;text-align: center;}#sk-container-id-1 label.sk-toggleable__label-arrow:before {content: \"▸\";float: left;margin-right: 0.25em;color: #696969;}#sk-container-id-1 label.sk-toggleable__label-arrow:hover:before {color: black;}#sk-container-id-1 div.sk-estimator:hover label.sk-toggleable__label-arrow:before {color: black;}#sk-container-id-1 div.sk-toggleable__content {max-height: 0;max-width: 0;overflow: hidden;text-align: left;background-color: #f0f8ff;}#sk-container-id-1 div.sk-toggleable__content pre {margin: 0.2em;color: black;border-radius: 0.25em;background-color: #f0f8ff;}#sk-container-id-1 input.sk-toggleable__control:checked~div.sk-toggleable__content {max-height: 200px;max-width: 100%;overflow: auto;}#sk-container-id-1 input.sk-toggleable__control:checked~label.sk-toggleable__label-arrow:before {content: \"▾\";}#sk-container-id-1 div.sk-estimator input.sk-toggleable__control:checked~label.sk-toggleable__label {background-color: #d4ebff;}#sk-container-id-1 div.sk-label input.sk-toggleable__control:checked~label.sk-toggleable__label {background-color: #d4ebff;}#sk-container-id-1 input.sk-hidden--visually {border: 0;clip: rect(1px 1px 1px 1px);clip: rect(1px, 1px, 1px, 1px);height: 1px;margin: -1px;overflow: hidden;padding: 0;position: absolute;width: 1px;}#sk-container-id-1 div.sk-estimator {font-family: monospace;background-color: #f0f8ff;border: 1px dotted black;border-radius: 0.25em;box-sizing: border-box;margin-bottom: 0.5em;}#sk-container-id-1 div.sk-estimator:hover {background-color: #d4ebff;}#sk-container-id-1 div.sk-parallel-item::after {content: \"\";width: 100%;border-bottom: 1px solid gray;flex-grow: 1;}#sk-container-id-1 div.sk-label:hover label.sk-toggleable__label {background-color: #d4ebff;}#sk-container-id-1 div.sk-serial::before {content: \"\";position: absolute;border-left: 1px solid gray;box-sizing: border-box;top: 0;bottom: 0;left: 50%;z-index: 0;}#sk-container-id-1 div.sk-serial {display: flex;flex-direction: column;align-items: center;background-color: white;padding-right: 0.2em;padding-left: 0.2em;position: relative;}#sk-container-id-1 div.sk-item {position: relative;z-index: 1;}#sk-container-id-1 div.sk-parallel {display: flex;align-items: stretch;justify-content: center;background-color: white;position: relative;}#sk-container-id-1 div.sk-item::before, #sk-container-id-1 div.sk-parallel-item::before {content: \"\";position: absolute;border-left: 1px solid gray;box-sizing: border-box;top: 0;bottom: 0;left: 50%;z-index: -1;}#sk-container-id-1 div.sk-parallel-item {display: flex;flex-direction: column;z-index: 1;position: relative;background-color: white;}#sk-container-id-1 div.sk-parallel-item:first-child::after {align-self: flex-end;width: 50%;}#sk-container-id-1 div.sk-parallel-item:last-child::after {align-self: flex-start;width: 50%;}#sk-container-id-1 div.sk-parallel-item:only-child::after {width: 0;}#sk-container-id-1 div.sk-dashed-wrapped {border: 1px dashed gray;margin: 0 0.4em 0.5em 0.4em;box-sizing: border-box;padding-bottom: 0.4em;background-color: white;}#sk-container-id-1 div.sk-label label {font-family: monospace;font-weight: bold;display: inline-block;line-height: 1.2em;}#sk-container-id-1 div.sk-label-container {text-align: center;}#sk-container-id-1 div.sk-container {/* jupyter's `normalize.less` sets `[hidden] { display: none; }` but bootstrap.min.css set `[hidden] { display: none !important; }` so we also need the `!important` here to be able to override the default hidden behavior on the sphinx rendered scikit-learn.org. See: https://github.com/scikit-learn/scikit-learn/issues/21755 */display: inline-block !important;position: relative;}#sk-container-id-1 div.sk-text-repr-fallback {display: none;}</style><div id=\"sk-container-id-1\" class=\"sk-top-container\"><div class=\"sk-text-repr-fallback\"><pre>GridSearchCV(cv=ShuffleSplit(n_splits=3, random_state=42, test_size=0.25, train_size=None),\n",
       "             estimator=Pipeline(steps=[(&#x27;smote&#x27;, SMOTE(random_state=44)),\n",
       "                                       (&#x27;logisticregression&#x27;,\n",
       "                                        LogisticRegression(random_state=42))]),\n",
       "             param_grid={&#x27;logisticregression__C&#x27;: [0.1, 0.5, 0.8, 1, 1.1, 1.8],\n",
       "                         &#x27;logisticregression__solver&#x27;: [&#x27;liblinear&#x27;]},\n",
       "             return_train_score=True, scoring=make_scorer(score_F1), verbose=2)</pre><b>In a Jupyter environment, please rerun this cell to show the HTML representation or trust the notebook. <br />On GitHub, the HTML representation is unable to render, please try loading this page with nbviewer.org.</b></div><div class=\"sk-container\" hidden><div class=\"sk-item sk-dashed-wrapped\"><div class=\"sk-label-container\"><div class=\"sk-label sk-toggleable\"><input class=\"sk-toggleable__control sk-hidden--visually\" id=\"sk-estimator-id-1\" type=\"checkbox\" ><label for=\"sk-estimator-id-1\" class=\"sk-toggleable__label sk-toggleable__label-arrow\">GridSearchCV</label><div class=\"sk-toggleable__content\"><pre>GridSearchCV(cv=ShuffleSplit(n_splits=3, random_state=42, test_size=0.25, train_size=None),\n",
       "             estimator=Pipeline(steps=[(&#x27;smote&#x27;, SMOTE(random_state=44)),\n",
       "                                       (&#x27;logisticregression&#x27;,\n",
       "                                        LogisticRegression(random_state=42))]),\n",
       "             param_grid={&#x27;logisticregression__C&#x27;: [0.1, 0.5, 0.8, 1, 1.1, 1.8],\n",
       "                         &#x27;logisticregression__solver&#x27;: [&#x27;liblinear&#x27;]},\n",
       "             return_train_score=True, scoring=make_scorer(score_F1), verbose=2)</pre></div></div></div><div class=\"sk-parallel\"><div class=\"sk-parallel-item\"><div class=\"sk-item\"><div class=\"sk-label-container\"><div class=\"sk-label sk-toggleable\"><input class=\"sk-toggleable__control sk-hidden--visually\" id=\"sk-estimator-id-2\" type=\"checkbox\" ><label for=\"sk-estimator-id-2\" class=\"sk-toggleable__label sk-toggleable__label-arrow\">estimator: Pipeline</label><div class=\"sk-toggleable__content\"><pre>Pipeline(steps=[(&#x27;smote&#x27;, SMOTE(random_state=44)),\n",
       "                (&#x27;logisticregression&#x27;, LogisticRegression(random_state=42))])</pre></div></div></div><div class=\"sk-serial\"><div class=\"sk-item\"><div class=\"sk-serial\"><div class=\"sk-item\"><div class=\"sk-estimator sk-toggleable\"><input class=\"sk-toggleable__control sk-hidden--visually\" id=\"sk-estimator-id-3\" type=\"checkbox\" ><label for=\"sk-estimator-id-3\" class=\"sk-toggleable__label sk-toggleable__label-arrow\">SMOTE</label><div class=\"sk-toggleable__content\"><pre>SMOTE(random_state=44)</pre></div></div></div><div class=\"sk-item\"><div class=\"sk-estimator sk-toggleable\"><input class=\"sk-toggleable__control sk-hidden--visually\" id=\"sk-estimator-id-4\" type=\"checkbox\" ><label for=\"sk-estimator-id-4\" class=\"sk-toggleable__label sk-toggleable__label-arrow\">LogisticRegression</label><div class=\"sk-toggleable__content\"><pre>LogisticRegression(random_state=42)</pre></div></div></div></div></div></div></div></div></div></div></div></div>"
      ],
      "text/plain": [
       "GridSearchCV(cv=ShuffleSplit(n_splits=3, random_state=42, test_size=0.25, train_size=None),\n",
       "             estimator=Pipeline(steps=[('smote', SMOTE(random_state=44)),\n",
       "                                       ('logisticregression',\n",
       "                                        LogisticRegression(random_state=42))]),\n",
       "             param_grid={'logisticregression__C': [0.1, 0.5, 0.8, 1, 1.1, 1.8],\n",
       "                         'logisticregression__solver': ['liblinear']},\n",
       "             return_train_score=True, scoring=make_scorer(score_F1), verbose=2)"
      ]
     },
     "execution_count": 33,
     "metadata": {},
     "output_type": "execute_result"
    }
   ],
   "source": [
    "%%time\n",
    "LR = LogisticRegression(random_state = RS)\n",
    "\n",
    "imba_pipeline = make_pipeline(SMOTE(random_state = RS+2),LR)\n",
    "new_params = {\"logisticregression__C\": [0.1,0.5,0.8,1,1.1,1.8],\n",
    "             \"logisticregression__solver\" : ['liblinear']}\n",
    "\n",
    "LR_imba = GridSearchCV(imba_pipeline, param_grid=new_params, verbose=2 ,cv=CV, scoring=score_F1,return_train_score=True)\n",
    "LR_imba.fit(features_train,  target_train)"
   ]
  },
  {
   "cell_type": "code",
   "execution_count": 34,
   "metadata": {},
   "outputs": [
    {
     "name": "stdout",
     "output_type": "stream",
     "text": [
      "Лучшие параметры:  {'logisticregression__C': 0.1, 'logisticregression__solver': 'liblinear'}\n",
      "Лучшие значения метрики f1:  0.9426975906150431\n"
     ]
    }
   ],
   "source": [
    "LR = LR_imba.best_estimator_\n",
    "print('Лучшие параметры: ', LR_imba.best_params_)\n",
    "print('Лучшие значения метрики f1: ', LR_imba.best_score_)"
   ]
  },
  {
   "cell_type": "markdown",
   "metadata": {},
   "source": [
    "Логистическая регрессия имеет значение F1 = 0.94, при параметре `C = 0.1`"
   ]
  },
  {
   "cell_type": "markdown",
   "metadata": {},
   "source": [
    "<div class=\"alert alert-success\">\n",
    "<font size=\"5\"><b>Комментарий ревьюера</b></font>\n",
    "\n",
    "Успех:\n",
    "\n",
    "\n",
    "Корректное применение GridSearch \n",
    "\n",
    "\n",
    "\n",
    "\n",
    "<div class=\"alert alert-warning\">\n",
    "\n",
    "\n",
    "Совет: \n",
    "    \n",
    "\n",
    "    \n",
    "- для GridSearchCV,     чтобы использовать все ядра при переобучении добавляют:  n_jobs=-1\n",
    "    \n",
    "    "
   ]
  },
  {
   "cell_type": "markdown",
   "metadata": {},
   "source": [
    "<div class=\"alert alert-block alert-info\">\n",
    "<b>Комментарий студента:</b> Очень круто, хотел воспользоваться и тут у меня возник вопрос не по заданию) у меня не работает n_jobs=-1, хотя процессор с 8 ядрами должно вроде работать. CV запускается и даже нагружает процессор на 100% поднимает частоты и загружает оперативную память процентов на 60. Но ничего не считается, холостой ход можно сказать - не нагревается процессор,  `verbose=2` выводит одну первую строчку сводной информации и дальше ничего не происходит очень долго время, а потом происходит краш `A worker process managed by the executor was unexpectedly terminated`. Может не хватает каких-то библиотек или я не обновился до версии какой-то. В интернете прочел, что это может быть проблема Windows, а на Линуксе все работает. Никто с этим не сталкивался? \n",
    "</div>\n",
    "\n",
    "<div class=\"alert alert-block alert-info\">\n",
    "<b>Изменения:</b> \n",
    "    \n",
    "Попытался добавить параметр **n_jobs=-1** к `GridSearchCV`\n",
    "    \n",
    "</div>"
   ]
  },
  {
   "cell_type": "markdown",
   "metadata": {},
   "source": [
    "<div class=\"alert alert-warning\">\n",
    "<font size=\"5\"><b>Комментарий ревьюераV2</b></font>\n",
    "\n",
    "\n",
    "\n",
    "Совет 🤔:\n",
    "\n",
    "\n",
    "Повесил твой вопрос у нас в канале. У тебя как раз есть что исправить, может быть к третьей итерации кто-то квалифицированно ответит\n"
   ]
  },
  {
   "cell_type": "markdown",
   "metadata": {},
   "source": [
    "#### 2. RandomForestClassifier"
   ]
  },
  {
   "cell_type": "code",
   "execution_count": 35,
   "metadata": {},
   "outputs": [
    {
     "name": "stdout",
     "output_type": "stream",
     "text": [
      "Fitting 3 folds for each of 4 candidates, totalling 12 fits\n",
      "[CV] END randomforestclassifier__max_depth=8, randomforestclassifier__n_estimators=50; total time=  45.1s\n",
      "[CV] END randomforestclassifier__max_depth=8, randomforestclassifier__n_estimators=50; total time=  46.3s\n",
      "[CV] END randomforestclassifier__max_depth=8, randomforestclassifier__n_estimators=50; total time=  48.0s\n",
      "[CV] END randomforestclassifier__max_depth=8, randomforestclassifier__n_estimators=75; total time= 1.2min\n",
      "[CV] END randomforestclassifier__max_depth=8, randomforestclassifier__n_estimators=75; total time= 1.2min\n",
      "[CV] END randomforestclassifier__max_depth=8, randomforestclassifier__n_estimators=75; total time= 1.2min\n",
      "[CV] END randomforestclassifier__max_depth=12, randomforestclassifier__n_estimators=50; total time= 1.0min\n",
      "[CV] END randomforestclassifier__max_depth=12, randomforestclassifier__n_estimators=50; total time= 1.0min\n",
      "[CV] END randomforestclassifier__max_depth=12, randomforestclassifier__n_estimators=50; total time= 1.0min\n",
      "[CV] END randomforestclassifier__max_depth=12, randomforestclassifier__n_estimators=75; total time= 1.5min\n",
      "[CV] END randomforestclassifier__max_depth=12, randomforestclassifier__n_estimators=75; total time= 1.5min\n",
      "[CV] END randomforestclassifier__max_depth=12, randomforestclassifier__n_estimators=75; total time= 1.5min\n",
      "CPU times: total: 16min 13s\n",
      "Wall time: 15min 46s\n"
     ]
    },
    {
     "data": {
      "text/html": [
       "<style>#sk-container-id-2 {color: black;background-color: white;}#sk-container-id-2 pre{padding: 0;}#sk-container-id-2 div.sk-toggleable {background-color: white;}#sk-container-id-2 label.sk-toggleable__label {cursor: pointer;display: block;width: 100%;margin-bottom: 0;padding: 0.3em;box-sizing: border-box;text-align: center;}#sk-container-id-2 label.sk-toggleable__label-arrow:before {content: \"▸\";float: left;margin-right: 0.25em;color: #696969;}#sk-container-id-2 label.sk-toggleable__label-arrow:hover:before {color: black;}#sk-container-id-2 div.sk-estimator:hover label.sk-toggleable__label-arrow:before {color: black;}#sk-container-id-2 div.sk-toggleable__content {max-height: 0;max-width: 0;overflow: hidden;text-align: left;background-color: #f0f8ff;}#sk-container-id-2 div.sk-toggleable__content pre {margin: 0.2em;color: black;border-radius: 0.25em;background-color: #f0f8ff;}#sk-container-id-2 input.sk-toggleable__control:checked~div.sk-toggleable__content {max-height: 200px;max-width: 100%;overflow: auto;}#sk-container-id-2 input.sk-toggleable__control:checked~label.sk-toggleable__label-arrow:before {content: \"▾\";}#sk-container-id-2 div.sk-estimator input.sk-toggleable__control:checked~label.sk-toggleable__label {background-color: #d4ebff;}#sk-container-id-2 div.sk-label input.sk-toggleable__control:checked~label.sk-toggleable__label {background-color: #d4ebff;}#sk-container-id-2 input.sk-hidden--visually {border: 0;clip: rect(1px 1px 1px 1px);clip: rect(1px, 1px, 1px, 1px);height: 1px;margin: -1px;overflow: hidden;padding: 0;position: absolute;width: 1px;}#sk-container-id-2 div.sk-estimator {font-family: monospace;background-color: #f0f8ff;border: 1px dotted black;border-radius: 0.25em;box-sizing: border-box;margin-bottom: 0.5em;}#sk-container-id-2 div.sk-estimator:hover {background-color: #d4ebff;}#sk-container-id-2 div.sk-parallel-item::after {content: \"\";width: 100%;border-bottom: 1px solid gray;flex-grow: 1;}#sk-container-id-2 div.sk-label:hover label.sk-toggleable__label {background-color: #d4ebff;}#sk-container-id-2 div.sk-serial::before {content: \"\";position: absolute;border-left: 1px solid gray;box-sizing: border-box;top: 0;bottom: 0;left: 50%;z-index: 0;}#sk-container-id-2 div.sk-serial {display: flex;flex-direction: column;align-items: center;background-color: white;padding-right: 0.2em;padding-left: 0.2em;position: relative;}#sk-container-id-2 div.sk-item {position: relative;z-index: 1;}#sk-container-id-2 div.sk-parallel {display: flex;align-items: stretch;justify-content: center;background-color: white;position: relative;}#sk-container-id-2 div.sk-item::before, #sk-container-id-2 div.sk-parallel-item::before {content: \"\";position: absolute;border-left: 1px solid gray;box-sizing: border-box;top: 0;bottom: 0;left: 50%;z-index: -1;}#sk-container-id-2 div.sk-parallel-item {display: flex;flex-direction: column;z-index: 1;position: relative;background-color: white;}#sk-container-id-2 div.sk-parallel-item:first-child::after {align-self: flex-end;width: 50%;}#sk-container-id-2 div.sk-parallel-item:last-child::after {align-self: flex-start;width: 50%;}#sk-container-id-2 div.sk-parallel-item:only-child::after {width: 0;}#sk-container-id-2 div.sk-dashed-wrapped {border: 1px dashed gray;margin: 0 0.4em 0.5em 0.4em;box-sizing: border-box;padding-bottom: 0.4em;background-color: white;}#sk-container-id-2 div.sk-label label {font-family: monospace;font-weight: bold;display: inline-block;line-height: 1.2em;}#sk-container-id-2 div.sk-label-container {text-align: center;}#sk-container-id-2 div.sk-container {/* jupyter's `normalize.less` sets `[hidden] { display: none; }` but bootstrap.min.css set `[hidden] { display: none !important; }` so we also need the `!important` here to be able to override the default hidden behavior on the sphinx rendered scikit-learn.org. See: https://github.com/scikit-learn/scikit-learn/issues/21755 */display: inline-block !important;position: relative;}#sk-container-id-2 div.sk-text-repr-fallback {display: none;}</style><div id=\"sk-container-id-2\" class=\"sk-top-container\"><div class=\"sk-text-repr-fallback\"><pre>GridSearchCV(cv=ShuffleSplit(n_splits=3, random_state=42, test_size=0.25, train_size=None),\n",
       "             estimator=Pipeline(steps=[(&#x27;smote&#x27;, SMOTE(random_state=44)),\n",
       "                                       (&#x27;randomforestclassifier&#x27;,\n",
       "                                        RandomForestClassifier(random_state=42))]),\n",
       "             param_grid={&#x27;randomforestclassifier__max_depth&#x27;: [8, 12],\n",
       "                         &#x27;randomforestclassifier__n_estimators&#x27;: [50, 75]},\n",
       "             return_train_score=True, scoring=make_scorer(score_F1), verbose=2)</pre><b>In a Jupyter environment, please rerun this cell to show the HTML representation or trust the notebook. <br />On GitHub, the HTML representation is unable to render, please try loading this page with nbviewer.org.</b></div><div class=\"sk-container\" hidden><div class=\"sk-item sk-dashed-wrapped\"><div class=\"sk-label-container\"><div class=\"sk-label sk-toggleable\"><input class=\"sk-toggleable__control sk-hidden--visually\" id=\"sk-estimator-id-5\" type=\"checkbox\" ><label for=\"sk-estimator-id-5\" class=\"sk-toggleable__label sk-toggleable__label-arrow\">GridSearchCV</label><div class=\"sk-toggleable__content\"><pre>GridSearchCV(cv=ShuffleSplit(n_splits=3, random_state=42, test_size=0.25, train_size=None),\n",
       "             estimator=Pipeline(steps=[(&#x27;smote&#x27;, SMOTE(random_state=44)),\n",
       "                                       (&#x27;randomforestclassifier&#x27;,\n",
       "                                        RandomForestClassifier(random_state=42))]),\n",
       "             param_grid={&#x27;randomforestclassifier__max_depth&#x27;: [8, 12],\n",
       "                         &#x27;randomforestclassifier__n_estimators&#x27;: [50, 75]},\n",
       "             return_train_score=True, scoring=make_scorer(score_F1), verbose=2)</pre></div></div></div><div class=\"sk-parallel\"><div class=\"sk-parallel-item\"><div class=\"sk-item\"><div class=\"sk-label-container\"><div class=\"sk-label sk-toggleable\"><input class=\"sk-toggleable__control sk-hidden--visually\" id=\"sk-estimator-id-6\" type=\"checkbox\" ><label for=\"sk-estimator-id-6\" class=\"sk-toggleable__label sk-toggleable__label-arrow\">estimator: Pipeline</label><div class=\"sk-toggleable__content\"><pre>Pipeline(steps=[(&#x27;smote&#x27;, SMOTE(random_state=44)),\n",
       "                (&#x27;randomforestclassifier&#x27;,\n",
       "                 RandomForestClassifier(random_state=42))])</pre></div></div></div><div class=\"sk-serial\"><div class=\"sk-item\"><div class=\"sk-serial\"><div class=\"sk-item\"><div class=\"sk-estimator sk-toggleable\"><input class=\"sk-toggleable__control sk-hidden--visually\" id=\"sk-estimator-id-7\" type=\"checkbox\" ><label for=\"sk-estimator-id-7\" class=\"sk-toggleable__label sk-toggleable__label-arrow\">SMOTE</label><div class=\"sk-toggleable__content\"><pre>SMOTE(random_state=44)</pre></div></div></div><div class=\"sk-item\"><div class=\"sk-estimator sk-toggleable\"><input class=\"sk-toggleable__control sk-hidden--visually\" id=\"sk-estimator-id-8\" type=\"checkbox\" ><label for=\"sk-estimator-id-8\" class=\"sk-toggleable__label sk-toggleable__label-arrow\">RandomForestClassifier</label><div class=\"sk-toggleable__content\"><pre>RandomForestClassifier(random_state=42)</pre></div></div></div></div></div></div></div></div></div></div></div></div>"
      ],
      "text/plain": [
       "GridSearchCV(cv=ShuffleSplit(n_splits=3, random_state=42, test_size=0.25, train_size=None),\n",
       "             estimator=Pipeline(steps=[('smote', SMOTE(random_state=44)),\n",
       "                                       ('randomforestclassifier',\n",
       "                                        RandomForestClassifier(random_state=42))]),\n",
       "             param_grid={'randomforestclassifier__max_depth': [8, 12],\n",
       "                         'randomforestclassifier__n_estimators': [50, 75]},\n",
       "             return_train_score=True, scoring=make_scorer(score_F1), verbose=2)"
      ]
     },
     "execution_count": 35,
     "metadata": {},
     "output_type": "execute_result"
    }
   ],
   "source": [
    "%%time\n",
    "RF = RandomForestClassifier(random_state = RS)\n",
    "\n",
    "imba_pipeline = make_pipeline(SMOTE(random_state = RS+2),RF)\n",
    "new_params = {\"randomforestclassifier__n_estimators\": [50,75],\n",
    "              \"randomforestclassifier__max_depth\": [8,12]}\n",
    "\n",
    "RF_imba = GridSearchCV(imba_pipeline, param_grid=new_params, verbose=2 ,cv=CV, scoring=score_F1,return_train_score=True)\n",
    "RF_imba.fit(features_train,  target_train)"
   ]
  },
  {
   "cell_type": "markdown",
   "metadata": {},
   "source": [
    "<div class=\"alert alert-danger\">\n",
    "<font size=\"5\"><b>Комментарий ревьюераV2</b></font>\n",
    "\n",
    "Ошибка:\n",
    "\n",
    "\n",
    "Не забываем при инициализации модели о random_state, иначе после каждого запуска кода у нас может быть разный результат\n",
    "\n",
    "\n",
    "</div>\n"
   ]
  },
  {
   "cell_type": "markdown",
   "metadata": {},
   "source": [
    "<div class=\"alert alert-block alert-info\">\n",
    "<b>Комментарий студента:</b> \n",
    "\n",
    "Хорошо, понял, использовал глобальную перменую для задания `random_state`\n",
    "    \n",
    "</div>\n",
    "\n",
    "<div class=\"alert alert-block alert-info\">\n",
    "<b>Изменения:</b> \n",
    "    \n",
    "Добавлен глобальная перменная `RS`\n",
    "    \n",
    "</div>"
   ]
  },
  {
   "cell_type": "code",
   "execution_count": 36,
   "metadata": {},
   "outputs": [
    {
     "name": "stdout",
     "output_type": "stream",
     "text": [
      "Лучшие параметры:  {'randomforestclassifier__max_depth': 12, 'randomforestclassifier__n_estimators': 75}\n",
      "Лучшие значения метрики f1:  0.9440920842604391\n"
     ]
    }
   ],
   "source": [
    "RF = RF_imba.best_estimator_\n",
    "print('Лучшие параметры: ', RF_imba.best_params_)\n",
    "print('Лучшие значения метрики f1: ', RF_imba.best_score_)"
   ]
  },
  {
   "cell_type": "markdown",
   "metadata": {},
   "source": [
    "RandomFores имеет значение F1 =0.944 , при параметрах `learning_rate = 75 ` и `depth = 12 ` "
   ]
  },
  {
   "cell_type": "markdown",
   "metadata": {},
   "source": [
    "#### 3. LGBMClassifier"
   ]
  },
  {
   "cell_type": "code",
   "execution_count": 37,
   "metadata": {},
   "outputs": [
    {
     "name": "stdout",
     "output_type": "stream",
     "text": [
      "Fitting 3 folds for each of 27 candidates, totalling 81 fits\n",
      "[CV] END lgbmclassifier__learning_rate=0.1, lgbmclassifier__n_estimators=0.01; total time=   0.3s\n",
      "[CV] END lgbmclassifier__learning_rate=0.1, lgbmclassifier__n_estimators=0.01; total time=   0.3s\n",
      "[CV] END lgbmclassifier__learning_rate=0.1, lgbmclassifier__n_estimators=0.01; total time=   0.3s\n",
      "[CV] END lgbmclassifier__learning_rate=0.1, lgbmclassifier__n_estimators=0.1; total time=   0.3s\n",
      "[CV] END lgbmclassifier__learning_rate=0.1, lgbmclassifier__n_estimators=0.1; total time=   0.3s\n",
      "[CV] END lgbmclassifier__learning_rate=0.1, lgbmclassifier__n_estimators=0.1; total time=   0.3s\n",
      "[CV] END lgbmclassifier__learning_rate=0.1, lgbmclassifier__n_estimators=0.5; total time=   0.3s\n",
      "[CV] END lgbmclassifier__learning_rate=0.1, lgbmclassifier__n_estimators=0.5; total time=   0.3s\n",
      "[CV] END lgbmclassifier__learning_rate=0.1, lgbmclassifier__n_estimators=0.5; total time=   0.3s\n",
      "[CV] END lgbmclassifier__learning_rate=0.1, lgbmclassifier__n_estimators=1; total time=   1.7s\n",
      "[CV] END lgbmclassifier__learning_rate=0.1, lgbmclassifier__n_estimators=1; total time=   1.6s\n",
      "[CV] END lgbmclassifier__learning_rate=0.1, lgbmclassifier__n_estimators=1; total time=   1.8s\n",
      "[CV] END lgbmclassifier__learning_rate=0.1, lgbmclassifier__n_estimators=1.5; total time=   0.3s\n",
      "[CV] END lgbmclassifier__learning_rate=0.1, lgbmclassifier__n_estimators=1.5; total time=   0.3s\n",
      "[CV] END lgbmclassifier__learning_rate=0.1, lgbmclassifier__n_estimators=1.5; total time=   0.3s\n",
      "[CV] END lgbmclassifier__learning_rate=0.1, lgbmclassifier__n_estimators=2; total time=   1.7s\n",
      "[CV] END lgbmclassifier__learning_rate=0.1, lgbmclassifier__n_estimators=2; total time=   1.7s\n",
      "[CV] END lgbmclassifier__learning_rate=0.1, lgbmclassifier__n_estimators=2; total time=   1.7s\n",
      "[CV] END lgbmclassifier__learning_rate=0.1, lgbmclassifier__n_estimators=5; total time=   1.8s\n",
      "[CV] END lgbmclassifier__learning_rate=0.1, lgbmclassifier__n_estimators=5; total time=   1.8s\n",
      "[CV] END lgbmclassifier__learning_rate=0.1, lgbmclassifier__n_estimators=5; total time=   1.8s\n",
      "[CV] END lgbmclassifier__learning_rate=0.1, lgbmclassifier__n_estimators=30; total time=   2.8s\n",
      "[CV] END lgbmclassifier__learning_rate=0.1, lgbmclassifier__n_estimators=30; total time=   2.6s\n",
      "[CV] END lgbmclassifier__learning_rate=0.1, lgbmclassifier__n_estimators=30; total time=   2.5s\n",
      "[CV] END lgbmclassifier__learning_rate=0.1, lgbmclassifier__n_estimators=35; total time=   2.7s\n",
      "[CV] END lgbmclassifier__learning_rate=0.1, lgbmclassifier__n_estimators=35; total time=   2.8s\n",
      "[CV] END lgbmclassifier__learning_rate=0.1, lgbmclassifier__n_estimators=35; total time=   2.7s\n",
      "[CV] END lgbmclassifier__learning_rate=0.3, lgbmclassifier__n_estimators=0.01; total time=   0.3s\n",
      "[CV] END lgbmclassifier__learning_rate=0.3, lgbmclassifier__n_estimators=0.01; total time=   0.3s\n",
      "[CV] END lgbmclassifier__learning_rate=0.3, lgbmclassifier__n_estimators=0.01; total time=   0.3s\n",
      "[CV] END lgbmclassifier__learning_rate=0.3, lgbmclassifier__n_estimators=0.1; total time=   0.3s\n",
      "[CV] END lgbmclassifier__learning_rate=0.3, lgbmclassifier__n_estimators=0.1; total time=   0.3s\n",
      "[CV] END lgbmclassifier__learning_rate=0.3, lgbmclassifier__n_estimators=0.1; total time=   0.3s\n",
      "[CV] END lgbmclassifier__learning_rate=0.3, lgbmclassifier__n_estimators=0.5; total time=   0.3s\n",
      "[CV] END lgbmclassifier__learning_rate=0.3, lgbmclassifier__n_estimators=0.5; total time=   0.3s\n",
      "[CV] END lgbmclassifier__learning_rate=0.3, lgbmclassifier__n_estimators=0.5; total time=   0.3s\n",
      "[CV] END lgbmclassifier__learning_rate=0.3, lgbmclassifier__n_estimators=1; total time=   1.8s\n",
      "[CV] END lgbmclassifier__learning_rate=0.3, lgbmclassifier__n_estimators=1; total time=   1.7s\n",
      "[CV] END lgbmclassifier__learning_rate=0.3, lgbmclassifier__n_estimators=1; total time=   1.7s\n",
      "[CV] END lgbmclassifier__learning_rate=0.3, lgbmclassifier__n_estimators=1.5; total time=   0.3s\n",
      "[CV] END lgbmclassifier__learning_rate=0.3, lgbmclassifier__n_estimators=1.5; total time=   0.3s\n",
      "[CV] END lgbmclassifier__learning_rate=0.3, lgbmclassifier__n_estimators=1.5; total time=   0.3s\n",
      "[CV] END lgbmclassifier__learning_rate=0.3, lgbmclassifier__n_estimators=2; total time=   1.7s\n",
      "[CV] END lgbmclassifier__learning_rate=0.3, lgbmclassifier__n_estimators=2; total time=   1.8s\n",
      "[CV] END lgbmclassifier__learning_rate=0.3, lgbmclassifier__n_estimators=2; total time=   1.8s\n",
      "[CV] END lgbmclassifier__learning_rate=0.3, lgbmclassifier__n_estimators=5; total time=   1.9s\n",
      "[CV] END lgbmclassifier__learning_rate=0.3, lgbmclassifier__n_estimators=5; total time=   2.0s\n",
      "[CV] END lgbmclassifier__learning_rate=0.3, lgbmclassifier__n_estimators=5; total time=   1.9s\n",
      "[CV] END lgbmclassifier__learning_rate=0.3, lgbmclassifier__n_estimators=30; total time=   2.7s\n",
      "[CV] END lgbmclassifier__learning_rate=0.3, lgbmclassifier__n_estimators=30; total time=   2.6s\n",
      "[CV] END lgbmclassifier__learning_rate=0.3, lgbmclassifier__n_estimators=30; total time=   2.6s\n",
      "[CV] END lgbmclassifier__learning_rate=0.3, lgbmclassifier__n_estimators=35; total time=   2.8s\n",
      "[CV] END lgbmclassifier__learning_rate=0.3, lgbmclassifier__n_estimators=35; total time=   3.2s\n",
      "[CV] END lgbmclassifier__learning_rate=0.3, lgbmclassifier__n_estimators=35; total time=   2.8s\n",
      "[CV] END lgbmclassifier__learning_rate=0.5, lgbmclassifier__n_estimators=0.01; total time=   0.3s\n",
      "[CV] END lgbmclassifier__learning_rate=0.5, lgbmclassifier__n_estimators=0.01; total time=   0.3s\n",
      "[CV] END lgbmclassifier__learning_rate=0.5, lgbmclassifier__n_estimators=0.01; total time=   0.3s\n",
      "[CV] END lgbmclassifier__learning_rate=0.5, lgbmclassifier__n_estimators=0.1; total time=   0.3s\n",
      "[CV] END lgbmclassifier__learning_rate=0.5, lgbmclassifier__n_estimators=0.1; total time=   0.3s\n",
      "[CV] END lgbmclassifier__learning_rate=0.5, lgbmclassifier__n_estimators=0.1; total time=   0.3s\n",
      "[CV] END lgbmclassifier__learning_rate=0.5, lgbmclassifier__n_estimators=0.5; total time=   0.3s\n",
      "[CV] END lgbmclassifier__learning_rate=0.5, lgbmclassifier__n_estimators=0.5; total time=   0.3s\n",
      "[CV] END lgbmclassifier__learning_rate=0.5, lgbmclassifier__n_estimators=0.5; total time=   0.3s\n",
      "[CV] END lgbmclassifier__learning_rate=0.5, lgbmclassifier__n_estimators=1; total time=   1.7s\n",
      "[CV] END lgbmclassifier__learning_rate=0.5, lgbmclassifier__n_estimators=1; total time=   1.7s\n",
      "[CV] END lgbmclassifier__learning_rate=0.5, lgbmclassifier__n_estimators=1; total time=   1.7s\n",
      "[CV] END lgbmclassifier__learning_rate=0.5, lgbmclassifier__n_estimators=1.5; total time=   0.3s\n",
      "[CV] END lgbmclassifier__learning_rate=0.5, lgbmclassifier__n_estimators=1.5; total time=   0.3s\n",
      "[CV] END lgbmclassifier__learning_rate=0.5, lgbmclassifier__n_estimators=1.5; total time=   0.3s\n",
      "[CV] END lgbmclassifier__learning_rate=0.5, lgbmclassifier__n_estimators=2; total time=   1.8s\n",
      "[CV] END lgbmclassifier__learning_rate=0.5, lgbmclassifier__n_estimators=2; total time=   1.9s\n",
      "[CV] END lgbmclassifier__learning_rate=0.5, lgbmclassifier__n_estimators=2; total time=   1.8s\n",
      "[CV] END lgbmclassifier__learning_rate=0.5, lgbmclassifier__n_estimators=5; total time=   2.0s\n",
      "[CV] END lgbmclassifier__learning_rate=0.5, lgbmclassifier__n_estimators=5; total time=   1.9s\n",
      "[CV] END lgbmclassifier__learning_rate=0.5, lgbmclassifier__n_estimators=5; total time=   1.9s\n",
      "[CV] END lgbmclassifier__learning_rate=0.5, lgbmclassifier__n_estimators=30; total time=   2.7s\n",
      "[CV] END lgbmclassifier__learning_rate=0.5, lgbmclassifier__n_estimators=30; total time=   3.2s\n",
      "[CV] END lgbmclassifier__learning_rate=0.5, lgbmclassifier__n_estimators=30; total time=   2.8s\n",
      "[CV] END lgbmclassifier__learning_rate=0.5, lgbmclassifier__n_estimators=35; total time=   2.9s\n",
      "[CV] END lgbmclassifier__learning_rate=0.5, lgbmclassifier__n_estimators=35; total time=   3.1s\n",
      "[CV] END lgbmclassifier__learning_rate=0.5, lgbmclassifier__n_estimators=35; total time=   3.0s\n",
      "CPU times: total: 17min 23s\n",
      "Wall time: 2min 3s\n"
     ]
    },
    {
     "data": {
      "text/html": [
       "<style>#sk-container-id-3 {color: black;background-color: white;}#sk-container-id-3 pre{padding: 0;}#sk-container-id-3 div.sk-toggleable {background-color: white;}#sk-container-id-3 label.sk-toggleable__label {cursor: pointer;display: block;width: 100%;margin-bottom: 0;padding: 0.3em;box-sizing: border-box;text-align: center;}#sk-container-id-3 label.sk-toggleable__label-arrow:before {content: \"▸\";float: left;margin-right: 0.25em;color: #696969;}#sk-container-id-3 label.sk-toggleable__label-arrow:hover:before {color: black;}#sk-container-id-3 div.sk-estimator:hover label.sk-toggleable__label-arrow:before {color: black;}#sk-container-id-3 div.sk-toggleable__content {max-height: 0;max-width: 0;overflow: hidden;text-align: left;background-color: #f0f8ff;}#sk-container-id-3 div.sk-toggleable__content pre {margin: 0.2em;color: black;border-radius: 0.25em;background-color: #f0f8ff;}#sk-container-id-3 input.sk-toggleable__control:checked~div.sk-toggleable__content {max-height: 200px;max-width: 100%;overflow: auto;}#sk-container-id-3 input.sk-toggleable__control:checked~label.sk-toggleable__label-arrow:before {content: \"▾\";}#sk-container-id-3 div.sk-estimator input.sk-toggleable__control:checked~label.sk-toggleable__label {background-color: #d4ebff;}#sk-container-id-3 div.sk-label input.sk-toggleable__control:checked~label.sk-toggleable__label {background-color: #d4ebff;}#sk-container-id-3 input.sk-hidden--visually {border: 0;clip: rect(1px 1px 1px 1px);clip: rect(1px, 1px, 1px, 1px);height: 1px;margin: -1px;overflow: hidden;padding: 0;position: absolute;width: 1px;}#sk-container-id-3 div.sk-estimator {font-family: monospace;background-color: #f0f8ff;border: 1px dotted black;border-radius: 0.25em;box-sizing: border-box;margin-bottom: 0.5em;}#sk-container-id-3 div.sk-estimator:hover {background-color: #d4ebff;}#sk-container-id-3 div.sk-parallel-item::after {content: \"\";width: 100%;border-bottom: 1px solid gray;flex-grow: 1;}#sk-container-id-3 div.sk-label:hover label.sk-toggleable__label {background-color: #d4ebff;}#sk-container-id-3 div.sk-serial::before {content: \"\";position: absolute;border-left: 1px solid gray;box-sizing: border-box;top: 0;bottom: 0;left: 50%;z-index: 0;}#sk-container-id-3 div.sk-serial {display: flex;flex-direction: column;align-items: center;background-color: white;padding-right: 0.2em;padding-left: 0.2em;position: relative;}#sk-container-id-3 div.sk-item {position: relative;z-index: 1;}#sk-container-id-3 div.sk-parallel {display: flex;align-items: stretch;justify-content: center;background-color: white;position: relative;}#sk-container-id-3 div.sk-item::before, #sk-container-id-3 div.sk-parallel-item::before {content: \"\";position: absolute;border-left: 1px solid gray;box-sizing: border-box;top: 0;bottom: 0;left: 50%;z-index: -1;}#sk-container-id-3 div.sk-parallel-item {display: flex;flex-direction: column;z-index: 1;position: relative;background-color: white;}#sk-container-id-3 div.sk-parallel-item:first-child::after {align-self: flex-end;width: 50%;}#sk-container-id-3 div.sk-parallel-item:last-child::after {align-self: flex-start;width: 50%;}#sk-container-id-3 div.sk-parallel-item:only-child::after {width: 0;}#sk-container-id-3 div.sk-dashed-wrapped {border: 1px dashed gray;margin: 0 0.4em 0.5em 0.4em;box-sizing: border-box;padding-bottom: 0.4em;background-color: white;}#sk-container-id-3 div.sk-label label {font-family: monospace;font-weight: bold;display: inline-block;line-height: 1.2em;}#sk-container-id-3 div.sk-label-container {text-align: center;}#sk-container-id-3 div.sk-container {/* jupyter's `normalize.less` sets `[hidden] { display: none; }` but bootstrap.min.css set `[hidden] { display: none !important; }` so we also need the `!important` here to be able to override the default hidden behavior on the sphinx rendered scikit-learn.org. See: https://github.com/scikit-learn/scikit-learn/issues/21755 */display: inline-block !important;position: relative;}#sk-container-id-3 div.sk-text-repr-fallback {display: none;}</style><div id=\"sk-container-id-3\" class=\"sk-top-container\"><div class=\"sk-text-repr-fallback\"><pre>GridSearchCV(cv=ShuffleSplit(n_splits=3, random_state=42, test_size=0.25, train_size=None),\n",
       "             estimator=Pipeline(steps=[(&#x27;smote&#x27;, SMOTE(random_state=44)),\n",
       "                                       (&#x27;lgbmclassifier&#x27;,\n",
       "                                        LGBMClassifier(random_state=42))]),\n",
       "             param_grid={&#x27;lgbmclassifier__learning_rate&#x27;: [0.1, 0.3, 0.5],\n",
       "                         &#x27;lgbmclassifier__n_estimators&#x27;: [0.01, 0.1, 0.5, 1,\n",
       "                                                          1.5, 2, 5, 30, 35]},\n",
       "             return_train_score=True, scoring=make_scorer(score_F1), verbose=2)</pre><b>In a Jupyter environment, please rerun this cell to show the HTML representation or trust the notebook. <br />On GitHub, the HTML representation is unable to render, please try loading this page with nbviewer.org.</b></div><div class=\"sk-container\" hidden><div class=\"sk-item sk-dashed-wrapped\"><div class=\"sk-label-container\"><div class=\"sk-label sk-toggleable\"><input class=\"sk-toggleable__control sk-hidden--visually\" id=\"sk-estimator-id-9\" type=\"checkbox\" ><label for=\"sk-estimator-id-9\" class=\"sk-toggleable__label sk-toggleable__label-arrow\">GridSearchCV</label><div class=\"sk-toggleable__content\"><pre>GridSearchCV(cv=ShuffleSplit(n_splits=3, random_state=42, test_size=0.25, train_size=None),\n",
       "             estimator=Pipeline(steps=[(&#x27;smote&#x27;, SMOTE(random_state=44)),\n",
       "                                       (&#x27;lgbmclassifier&#x27;,\n",
       "                                        LGBMClassifier(random_state=42))]),\n",
       "             param_grid={&#x27;lgbmclassifier__learning_rate&#x27;: [0.1, 0.3, 0.5],\n",
       "                         &#x27;lgbmclassifier__n_estimators&#x27;: [0.01, 0.1, 0.5, 1,\n",
       "                                                          1.5, 2, 5, 30, 35]},\n",
       "             return_train_score=True, scoring=make_scorer(score_F1), verbose=2)</pre></div></div></div><div class=\"sk-parallel\"><div class=\"sk-parallel-item\"><div class=\"sk-item\"><div class=\"sk-label-container\"><div class=\"sk-label sk-toggleable\"><input class=\"sk-toggleable__control sk-hidden--visually\" id=\"sk-estimator-id-10\" type=\"checkbox\" ><label for=\"sk-estimator-id-10\" class=\"sk-toggleable__label sk-toggleable__label-arrow\">estimator: Pipeline</label><div class=\"sk-toggleable__content\"><pre>Pipeline(steps=[(&#x27;smote&#x27;, SMOTE(random_state=44)),\n",
       "                (&#x27;lgbmclassifier&#x27;, LGBMClassifier(random_state=42))])</pre></div></div></div><div class=\"sk-serial\"><div class=\"sk-item\"><div class=\"sk-serial\"><div class=\"sk-item\"><div class=\"sk-estimator sk-toggleable\"><input class=\"sk-toggleable__control sk-hidden--visually\" id=\"sk-estimator-id-11\" type=\"checkbox\" ><label for=\"sk-estimator-id-11\" class=\"sk-toggleable__label sk-toggleable__label-arrow\">SMOTE</label><div class=\"sk-toggleable__content\"><pre>SMOTE(random_state=44)</pre></div></div></div><div class=\"sk-item\"><div class=\"sk-estimator sk-toggleable\"><input class=\"sk-toggleable__control sk-hidden--visually\" id=\"sk-estimator-id-12\" type=\"checkbox\" ><label for=\"sk-estimator-id-12\" class=\"sk-toggleable__label sk-toggleable__label-arrow\">LGBMClassifier</label><div class=\"sk-toggleable__content\"><pre>LGBMClassifier(random_state=42)</pre></div></div></div></div></div></div></div></div></div></div></div></div>"
      ],
      "text/plain": [
       "GridSearchCV(cv=ShuffleSplit(n_splits=3, random_state=42, test_size=0.25, train_size=None),\n",
       "             estimator=Pipeline(steps=[('smote', SMOTE(random_state=44)),\n",
       "                                       ('lgbmclassifier',\n",
       "                                        LGBMClassifier(random_state=42))]),\n",
       "             param_grid={'lgbmclassifier__learning_rate': [0.1, 0.3, 0.5],\n",
       "                         'lgbmclassifier__n_estimators': [0.01, 0.1, 0.5, 1,\n",
       "                                                          1.5, 2, 5, 30, 35]},\n",
       "             return_train_score=True, scoring=make_scorer(score_F1), verbose=2)"
      ]
     },
     "execution_count": 37,
     "metadata": {},
     "output_type": "execute_result"
    }
   ],
   "source": [
    "%%time\n",
    "LGBM = LGBMClassifier(random_state = RS)\n",
    "\n",
    "imba_pipeline = make_pipeline(SMOTE(random_state = RS+2),LGBM )\n",
    "new_params = {\"lgbmclassifier__n_estimators\": [0.01, 0.1,0.5, 1,1.5,2,5,30,35],\n",
    "             \"lgbmclassifier__learning_rate\": [0.1, 0.3, 0.5]}\n",
    "\n",
    "LGBM_imba = GridSearchCV(imba_pipeline, param_grid=new_params, verbose=2 ,cv=CV, scoring=score_F1,return_train_score=True)\n",
    "LGBM_imba.fit(features_train,  target_train)"
   ]
  },
  {
   "cell_type": "code",
   "execution_count": 38,
   "metadata": {},
   "outputs": [
    {
     "name": "stdout",
     "output_type": "stream",
     "text": [
      "Лучшие параметры:  {'lgbmclassifier__learning_rate': 0.3, 'lgbmclassifier__n_estimators': 35}\n",
      "Лучшие значения метрики f1:  0.9493266741020149\n"
     ]
    }
   ],
   "source": [
    "LGBM = LGBM_imba.best_estimator_\n",
    "print('Лучшие параметры: ', LGBM_imba.best_params_)\n",
    "print('Лучшие значения метрики f1: ', LGBM_imba.best_score_)"
   ]
  },
  {
   "cell_type": "markdown",
   "metadata": {},
   "source": [
    "LGBM имеет значение F1 = 0.949 , при параметрах `learning_rate = 0.3` и `n_estimators` = 35"
   ]
  },
  {
   "cell_type": "markdown",
   "metadata": {},
   "source": [
    "#### Проверка на адекватность\n",
    "Воспользуемся DummyClassifier, чтобы получить случайные результаты, которые должны быть хуже чем рузельтаты на тестовой выборке. "
   ]
  },
  {
   "cell_type": "code",
   "execution_count": 43,
   "metadata": {},
   "outputs": [],
   "source": [
    "dummy= DummyClassifier(random_state = RS)"
   ]
  },
  {
   "cell_type": "code",
   "execution_count": 44,
   "metadata": {},
   "outputs": [
    {
     "name": "stdout",
     "output_type": "stream",
     "text": [
      "Dummy classifier accuracy score:  0.8868169028157777\n"
     ]
    }
   ],
   "source": [
    "scores = cross_val_score(dummy ,features_train, target_train, scoring=\"accuracy\", cv = 3)\n",
    "print(\"Dummy classifier accuracy score: \" , (scores.mean()))"
   ]
  },
  {
   "cell_type": "markdown",
   "metadata": {},
   "source": [
    "Можем увидеть что случайная модель предсказала  **0.89**. Это логично, так как у нас не сбаласированы классы, и она выбирала пропорционально преобладающему таргетую. Если бы они были сбалансированы получилось бы **0.5**. Отношение таргета `1:0` у нас как раз такое же `88:12`. \n",
    "\n",
    "Проверим на тестовой выборке, насколько лучше она предсказывает, `LGBM` мы обучали на сбалансированных классах "
   ]
  },
  {
   "cell_type": "markdown",
   "metadata": {},
   "source": [
    "<div class=\"alert alert-warning\">\n",
    "<font size=\"5\"><b>Комментарий ревьюера</b></font>\n",
    "\n",
    "Совет: \n",
    "    \n",
    "    \n",
    "Плюс за проверку.  Хотя на мой взгляд на адекватность стоит применять в разрезе метрики accuracy. А метрика f1 и без того \"умная\", поэтому константные модели на ней ничего интересного не покажут\n",
    "    \n",
    "\n",
    "Кроме того ты сбалансировал выборку, тут вообще все ломается\n",
    "    \n",
    "    \n",
    "    "
   ]
  },
  {
   "cell_type": "markdown",
   "metadata": {},
   "source": [
    "<div class=\"alert alert-block alert-info\">\n",
    "<b>Комментарий студента:</b> Поменял метрику\n",
    "</div>\n",
    "\n",
    "<div class=\"alert alert-block alert-info\">\n",
    "<b>Изменения:</b> \n",
    "    \n",
    "Добавлен параметр scoring=\"accuracy\"\n",
    "    \n",
    "</div>"
   ]
  },
  {
   "cell_type": "markdown",
   "metadata": {},
   "source": [
    "<div class=\"alert alert-success\">\n",
    "<font size=\"5\"><b>Комментарий ревьюераV2</b></font>\n",
    "\n",
    "\n",
    "\n",
    "Успех 👍:\n",
    "\n",
    "\n",
    "\n",
    "👍\n"
   ]
  },
  {
   "cell_type": "markdown",
   "metadata": {},
   "source": [
    "### Выводы по главе:"
   ]
  },
  {
   "cell_type": "markdown",
   "metadata": {},
   "source": [
    "В процессе обучения :\n",
    "- Все модели показали значение f1 выше 0.7\n",
    "- Лучшей является модель LGBM c результатом `f1 = 0.949`"
   ]
  },
  {
   "cell_type": "markdown",
   "metadata": {},
   "source": [
    "## Глава 3. Анализ моделей и общий вывод"
   ]
  },
  {
   "cell_type": "markdown",
   "metadata": {},
   "source": [
    "Проанализируем лучшую модель на качество предсказания на тестовой выборке:"
   ]
  },
  {
   "cell_type": "code",
   "execution_count": 41,
   "metadata": {},
   "outputs": [
    {
     "name": "stdout",
     "output_type": "stream",
     "text": [
      "CPU times: total: 0 ns\n",
      "Wall time: 9.01 ms\n"
     ]
    }
   ],
   "source": [
    "%%time\n",
    "LGBM_predictions = LGBM.predict(features_test)"
   ]
  },
  {
   "cell_type": "markdown",
   "metadata": {},
   "source": [
    "\n",
    "\n",
    "\n",
    "<div class=\"alert alert-warning\">\n",
    "<font size=\"5\"><b>Комментарий ревьюера</b></font>\n",
    "    \n",
    "    \n",
    "Совет:\n",
    "\n",
    "\n",
    "\n",
    "    \n",
    "\n",
    "\n",
    "Не надо воспринимать  GS как способ получить .best_params_, чтобы подставить их в модель и обучить на них. GS это сделал уже и модельку положил тут: .best_estimator_\n",
    "    \n",
    "  \n",
    "То есть вот это не нужно    \n",
    "    \n",
    "    LR = LogisticRegression( random_state=12345, solver='liblinear',C = 1, max_iter = 10)\n",
    "    LR.fit(features_train, target_train)\n",
    "\n",
    "    "
   ]
  },
  {
   "cell_type": "markdown",
   "metadata": {},
   "source": [
    "<div class=\"alert alert-block alert-info\">\n",
    "<b>Комментарий студента:</b> Хорошо, понял как лучше вопспользоваться GS, спасибо.\n",
    "</div>\n",
    "\n",
    "<div class=\"alert alert-block alert-info\">\n",
    "<b>Изменения:</b> \n",
    "    \n",
    "Использован метод `.best_estimator_` для получения обученой модели\n",
    "    \n",
    "</div>"
   ]
  },
  {
   "cell_type": "markdown",
   "metadata": {},
   "source": [
    "<div class=\"alert alert-success\">\n",
    "<font size=\"5\"><b>Комментарий ревьюераV2</b></font>\n",
    "\n",
    "\n",
    "\n",
    "Успех 👍:\n",
    "\n",
    "\n",
    "\n",
    "И код короче, и время сэкономили\n",
    "\n",
    "\n",
    "\n",
    "\n",
    "</div>\n"
   ]
  },
  {
   "cell_type": "code",
   "execution_count": 42,
   "metadata": {},
   "outputs": [
    {
     "name": "stdout",
     "output_type": "stream",
     "text": [
      "f1 score модели: 0.9513677811550152\n",
      "Accuracy модели: 0.9888695652173913\n"
     ]
    }
   ],
   "source": [
    "F1_LGBM = f1_score(target_test, LGBM_predictions)\n",
    "print('f1 score модели:', F1_LGBM)\n",
    "print('Accuracy модели:',accuracy_score(target_test,LGBM_predictions))"
   ]
  },
  {
   "cell_type": "markdown",
   "metadata": {},
   "source": [
    "Accuracy LGBM модели на тестовых данных больше, чем Accuracy случаной модели, значит предсказание адекватное."
   ]
  },
  {
   "cell_type": "markdown",
   "metadata": {},
   "source": [
    "<div class=\"alert alert-danger\">\n",
    "<font size=\"5\"><b>Комментарий ревьюера</b></font>\n",
    "\n",
    "Ошибка: \n",
    "\n",
    "Логика моделирования не нарушена, тут тестируем только лучшую модель отобранную на валидации, или парочку лучших, если на валидации результаты близки. Но не получено Метрика выше 0,75. Кроме того это не RMSE, стоит поправить\n",
    "    \n",
    "    "
   ]
  },
  {
   "cell_type": "markdown",
   "metadata": {},
   "source": [
    "<div class=\"alert alert-block alert-info\">\n",
    "<b>Комментарий студента:</b> \n",
    "    \n",
    "Получено значение f1 больше **0.75**\n",
    "\n",
    "</div>"
   ]
  },
  {
   "cell_type": "markdown",
   "metadata": {},
   "source": [
    "<div class=\"alert alert-success\">\n",
    "<font size=\"5\"><b>Комментарий ревьюераV2</b></font>\n",
    "\n",
    "\n",
    "\n",
    "Успех 👍:\n",
    "\n",
    "\n",
    "\n",
    "Ты использовал продвинутый метод, и получил отличную метрику\n",
    "\n",
    "\n",
    "\n",
    "\n",
    "</div>\n"
   ]
  },
  {
   "cell_type": "markdown",
   "metadata": {},
   "source": [
    "### Вывод:"
   ]
  },
  {
   "cell_type": "markdown",
   "metadata": {},
   "source": [
    "В данном проекте основной задачей являлось построение модели для классификации комментариев на позитивные и негативные. В нашем распоряжении данные данные о набор данных с разметкой о токсичности правок, данные предоставлены компанией «Викишоп».У полученной модели метрики качества F1 должны быть не меньше 0.75.\n",
    "\n",
    "Были выполнены поставленные задачи:\n",
    "- Датасет был проверен на наличие пропусков, дубликатов, а также выявлен дисбаланс классов. \n",
    "- На следующем этапе: \n",
    "  -  комментарии были токенезированы с помощью модели DBERT\n",
    "  -  удалены аномалии в длине комментариев\n",
    "  -  комментарии приведены к одной длине методом padding\n",
    "- Далее были подобраны оптимальные гиперпараметры для моделей:`LogisticRegression, LGBM, RandomForest`. \n",
    "- Лучшая модель проверена на тестовой выборке и качество предсказания подтвердилось. \n",
    "\n",
    "Для данной задачи для заказчика подходит по качеству предсказания и времени обучения - **LogisticRegression**.     \n",
    "И имеет значение F1 равное `0.95 ` при времени обучения на тестовой выборке `9.01 ms `"
   ]
  },
  {
   "cell_type": "markdown",
   "metadata": {},
   "source": [
    "\n",
    "\n",
    "\n",
    "<div class=\"alert alert-success\">\n",
    "<font size=\"5\"><b>Комментарий ревьюера</b></font>\n",
    "\n",
    "Успех:\n",
    "\n",
    "\n",
    "Максим, здорово что в конце расписаны все этапы работы. Это важно потому что когда проект захочет посмотреть будущий работодатель (или начальник), у него может не быть времени на подробный разбор кода. Вероятнее всего он бегло просмотрит код, а из общего вывода захочет получить представление о всей работе.\n"
   ]
  },
  {
   "cell_type": "markdown",
   "metadata": {},
   "source": [
    "\n",
    "<div class=\"alert alert-info\">\n",
    "<font size=\"5\"><b>Комментарий ревьюера</b></font>\n",
    "\n",
    "\n",
    "\n",
    "Максим, у тебя старательно выполненная работа, все четко, осмысленно. Здорово Что использовал очень модную сейчас модель Берт\n",
    "    \n",
    "    \n",
    "    \n",
    "    \n",
    "\n",
    "Я оставил небольшие советы и вопросики (если есть время и желание можешь воспользоваться/ответить).\n",
    "    \n",
    "\n",
    "\n",
    "\n",
    "Обязательное к исправлению:\n",
    "\n",
    "\n",
    "\n",
    "\n",
    "- не достигнута f1 > 0,75 на тестовом датасета\n",
    "\n",
    "    \n",
    "    \n",
    "    \n",
    "Жду исправлений, для принятия проекта. Если какие то вопросы, то сразу спрашивай ) \n",
    "\n",
    "\n",
    "\n",
    "<div class=\"alert alert-warning\">\n",
    "\n",
    "Совет: \n",
    "    \n",
    "    \n",
    "\n",
    "<font color='green'><b>Полезные (и просто интересные) материалы:</b> \\\n",
    "\n",
    "https://huggingface.co/transformers/model_doc/bert.html \\\n",
    "https://t.me/renat_alimbekov \\\n",
    "https://colah.github.io/posts/2015-08-Understanding-LSTMs/ - Про LSTM \\\n",
    "https://web.stanford.edu/~jurafsky/slp3/10.pdf - про энкодер-декодер модели, этеншены\\\n",
    "https://pytorch.org/tutorials/beginner/transformer_tutorial.html - официальный гайд\n",
    "по трансформеру от создателей pytorch\\\n",
    "https://transformer.huggingface.co/ - поболтать с трансформером \\\n",
    "Библиотеки: allennlp, fairseq, transformers, tensorflow-text — множествореализованных\n",
    "методов для трансформеров методов NLP \\\n",
    "Word2Vec https://radimrehurek.com/gensim/models/word2vec.html \n",
    "\n",
    "\n",
    "Если понравилась работа с текстами, то можешь посмотреть очень интересный (но очень-очень сложный) курс лекций: https://github.com/yandexdataschool/nlp_course .\n",
    "\n",
    "Если нравится смотреть и слушать то есть целый курс на Ютубе https://www.youtube.com/watch?v=qDMwIQRQt-M&list=PLEwK9wdS5g0qksxWxtE5c2KuFkIfUXe3i&index=1\n",
    "\n"
   ]
  },
  {
   "cell_type": "markdown",
   "metadata": {},
   "source": [
    "\n",
    "<div class=\"alert alert-info\">\n",
    "<font size=\"5\"><b>Комментарий ревьюераV2</b></font>\n",
    "\n",
    "\n",
    "    \n",
    "    \n",
    "Твой вопрос по поводу ядер я повесил на канале, может ответ будет )    \n",
    "    \n",
    "А пока можешь исправить ошибку - при инициализации модели не забываем random_state (можно один раз вначале просто прописать random.seed(42), чтобы не прописывать каждый раз везде random_state. Кстати знаешь откуда 42?). И нет никакого смысла одновременно использовать сбалансированную выборку и class_weight': 'balanced'\n",
    "\n",
    "    \n",
    "    \n",
    "А так работу можно принимать    \n",
    "\n"
   ]
  },
  {
   "cell_type": "markdown",
   "metadata": {},
   "source": [
    "<div class=\"alert alert-link alert-dark\">\n",
    "<b>\n",
    "<font size=\"5\">Комментарий студента<font size=\"5\">\n",
    "</b></font>\n",
    "\n",
    "Я убрал лишний параметр `class_weight`. \n",
    "    \n",
    "Я так понимаю 42 это из фильма \"Автостопом по галактике\", кто-то начал использовать и это закрепилось наверное) \n",
    "    \n",
    "</div>"
   ]
  },
  {
   "cell_type": "markdown",
   "metadata": {},
   "source": [
    "<div class=\"alert alert-success\">\n",
    "<font size=\"5\"><b>Комментарий ревьюераV3</b></font>\n",
    "\n",
    "\n",
    "\n",
    "Успех 👍:\n",
    "\n",
    "\n",
    "\n",
    "👍\n",
    "\n",
    "\n",
    "\n",
    " Оно )\n",
    "    \n",
    "    \n",
    "Было два ответа от коллег, цитирую:\n",
    "    \n",
    "    \n",
    "    А с меньшим количеством ядер, наверное, нормально все работает? Я бы n_jobs другой попробовала.    \n",
    "    \n",
    "    \n",
    "    \n",
    "    Если в модели и в GridSearch поставить n_jobs=-1, то им бывает плохо при малом количестве ядер.\n",
    "    \n",
    "    \n",
    "    \n",
    "    \n",
    "Видимо восемь ядер это мало, предлагают установить конкретное число    \n"
   ]
  },
  {
   "cell_type": "markdown",
   "metadata": {},
   "source": [
    "\n",
    "<div class=\"alert alert-info\">\n",
    "<font size=\"5\"><b>Комментарий ревьюераV3</b></font>\n",
    "\n",
    "\n",
    "\n",
    "Спасибо за работу! \n",
    "    \n",
    "Красное исправлено,  желтые советы использованы. Надеюсь мои советы и вопросики были полезны и в копилочку знаний упало что то новое, а проект стал лучше, и симпатичней.\n",
    "\n",
    "\n",
    "Если думаешь и дальше заниматься NLP, то именно в НЛП сейчас самые большие прорывы в машинном обучении,  может в курсе про [chatGPT](https://www.youtube.com/watch?v=IMP1zZ9K4Wc&t=3038s), GPT - это братик Берта )\n",
    "  \n",
    "Отличная работа Максим. Желаю успехов в дальнейшей учебе!\n",
    "\n"
   ]
  },
  {
   "cell_type": "markdown",
   "metadata": {},
   "source": [
    "## Чек-лист проверки"
   ]
  },
  {
   "cell_type": "markdown",
   "metadata": {},
   "source": [
    "- [x]  Jupyter Notebook открыт\n",
    "- [x]  Весь код выполняется без ошибок\n",
    "- [x]  Ячейки с кодом расположены в порядке исполнения\n",
    "- [x]  Данные загружены и подготовлены\n",
    "- [x]  Модели обучены\n",
    "- [x]  Значение метрики *F1* не меньше 0.75\n",
    "- [x]  Выводы написаны"
   ]
  }
 ],
 "metadata": {
  "kernelspec": {
   "display_name": "Python 3 (ipykernel)",
   "language": "python",
   "name": "python3"
  },
  "language_info": {
   "codemirror_mode": {
    "name": "ipython",
    "version": 3
   },
   "file_extension": ".py",
   "mimetype": "text/x-python",
   "name": "python",
   "nbconvert_exporter": "python",
   "pygments_lexer": "ipython3",
   "version": "3.9.5"
  },
  "toc": {
   "base_numbering": 1,
   "nav_menu": {},
   "number_sections": true,
   "sideBar": true,
   "skip_h1_title": true,
   "title_cell": "Table of Contents",
   "title_sidebar": "Contents",
   "toc_cell": false,
   "toc_position": {},
   "toc_section_display": true,
   "toc_window_display": false
  }
 },
 "nbformat": 4,
 "nbformat_minor": 2
}
