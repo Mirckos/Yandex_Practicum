{
 "cells": [
  {
   "cell_type": "markdown",
   "metadata": {},
   "source": [
    "<img src=\"http://s3.amazonaws.com/pix.iemoji.com/images/emoji/apple/ios-12/256/waving-hand.png\" align=left width=44, heigth=44>\n",
    "<div class=\"alert alert-info\">\n",
    "<b> Комментарий ревьюера</b>\n",
    "\n",
    "\n",
    "Привет, Максим! Давай знакомиться! Меня зовут Дмитрий Махортов, и я буду проверять твой проект. Сразу предлагаю общение на «ты» 🙂, но если тебе это не комфортно, то дай знать, и мы перейдем на «вы». \n",
    "\n",
    "Моя основная цель — не указать на совершенные тобою ошибки, а поделиться своим опытом и помочь тебе погрузиться в увлекательный мир работы с данными и вырасти в крепкого профи. Это отдаленная цель. А ближайшая - сделать твою работу еще лучше )).\n",
    "   \n",
    "    \n",
    "Все ключевые этапы в работе выполнены, и я вижу что с проектом ты справшяешься. Есть моменты, которые нужно доработать, но я уверен, у тебя все получится.\n",
    "        \n",
    "Расскажу как обычно проходит проверка:    \n",
    "Бывают моменты, которые требуют пристального внимания. Комментарии по ним выделены <span style='background-color:#F7B3A4'> красным цветом </span> и обозначены значком 🛑. После их доработки проект будет принят.  🙂\n",
    " \n",
    "<span style='background-color:#B7EBA7'> Зеленым цветом </span> и значком ✅ отмечены удачные и элегантные решения, на которые можно опираться в будущих проектах. Или советы «со звездочкой», которые помогут тебе в будущем.\n",
    "\n",
    "<span style='background-color:#F9EDA6'>Жёлтым цветом </span> и значком ⚠️ выделено то, что в следующий раз можно сделать по-другому. Ты можешь учесть эти комментарии при выполнении будущих заданий или доработать проект сейчас (однако это не обязательно).\n",
    "\n",
    "Давай работать над проектом в диалоге: **если ты что-то меняешь в проекте по моим рекомендациям — пиши об этом**. Выбери для своих комментариев какой-то заметный цвет, так мне будет легче отследить изменения. Пожалуйста, **не перемещай, не изменяй и не удаляй мои комментарии**. Всё это поможет выполнить повторную проверку твоего проекта оперативнее. \n",
    "</div>"
   ]
  },
  {
   "cell_type": "markdown",
   "metadata": {},
   "source": [
    "# Рекомендация тарифов"
   ]
  },
  {
   "cell_type": "markdown",
   "metadata": {},
   "source": [
    "В вашем распоряжении данные о поведении клиентов, которые уже перешли на эти тарифы (из проекта курса «Статистический анализ данных»). Нужно построить модель для задачи классификации, которая выберет подходящий тариф. Предобработка данных не понадобится — вы её уже сделали.\n",
    "\n",
    "Постройте модель с максимально большим значением *accuracy*. Чтобы сдать проект успешно, нужно довести долю правильных ответов по крайней мере до 0.75. Проверьте *accuracy* на тестовой выборке самостоятельно."
   ]
  },
  {
   "cell_type": "markdown",
   "metadata": {},
   "source": [
    "## Откройте и изучите файл"
   ]
  },
  {
   "cell_type": "code",
   "execution_count": 24,
   "metadata": {},
   "outputs": [],
   "source": [
    "import pandas as pd\n",
    " \n",
    "from sklearn.ensemble import RandomForestClassifier\n",
    "from sklearn.linear_model import LogisticRegression \n",
    "from sklearn.tree import DecisionTreeClassifier\n",
    "from sklearn.neighbors import KNeighborsClassifier\n",
    "from sklearn.linear_model import LogisticRegression \n",
    "from sklearn.dummy import DummyClassifier\n",
    "from sklearn.model_selection import train_test_split\n",
    "from sklearn.metrics import accuracy_score\n",
    "\n",
    "import warnings\n",
    "warnings.filterwarnings(\"ignore\")"
   ]
  },
  {
   "cell_type": "markdown",
   "metadata": {},
   "source": [
    "<img src=\"https://emojigraph.org/media/apple/check-mark-button_2705.png\" align=left width=33, heigth=33>\n",
    "<div class=\"alert alert-success\">\n",
    "Отлично, все нужные библиотеки импортированы в начале ноутбука.Это хорошая практика.</div>"
   ]
  },
  {
   "cell_type": "code",
   "execution_count": 25,
   "metadata": {},
   "outputs": [
    {
     "data": {
      "text/html": [
       "<div>\n",
       "<style scoped>\n",
       "    .dataframe tbody tr th:only-of-type {\n",
       "        vertical-align: middle;\n",
       "    }\n",
       "\n",
       "    .dataframe tbody tr th {\n",
       "        vertical-align: top;\n",
       "    }\n",
       "\n",
       "    .dataframe thead th {\n",
       "        text-align: right;\n",
       "    }\n",
       "</style>\n",
       "<table border=\"1\" class=\"dataframe\">\n",
       "  <thead>\n",
       "    <tr style=\"text-align: right;\">\n",
       "      <th></th>\n",
       "      <th>calls</th>\n",
       "      <th>minutes</th>\n",
       "      <th>messages</th>\n",
       "      <th>mb_used</th>\n",
       "      <th>is_ultra</th>\n",
       "    </tr>\n",
       "  </thead>\n",
       "  <tbody>\n",
       "    <tr>\n",
       "      <th>0</th>\n",
       "      <td>40.0</td>\n",
       "      <td>311.90</td>\n",
       "      <td>83.0</td>\n",
       "      <td>19915.42</td>\n",
       "      <td>0</td>\n",
       "    </tr>\n",
       "    <tr>\n",
       "      <th>1</th>\n",
       "      <td>85.0</td>\n",
       "      <td>516.75</td>\n",
       "      <td>56.0</td>\n",
       "      <td>22696.96</td>\n",
       "      <td>0</td>\n",
       "    </tr>\n",
       "    <tr>\n",
       "      <th>2</th>\n",
       "      <td>77.0</td>\n",
       "      <td>467.66</td>\n",
       "      <td>86.0</td>\n",
       "      <td>21060.45</td>\n",
       "      <td>0</td>\n",
       "    </tr>\n",
       "    <tr>\n",
       "      <th>3</th>\n",
       "      <td>106.0</td>\n",
       "      <td>745.53</td>\n",
       "      <td>81.0</td>\n",
       "      <td>8437.39</td>\n",
       "      <td>1</td>\n",
       "    </tr>\n",
       "    <tr>\n",
       "      <th>4</th>\n",
       "      <td>66.0</td>\n",
       "      <td>418.74</td>\n",
       "      <td>1.0</td>\n",
       "      <td>14502.75</td>\n",
       "      <td>0</td>\n",
       "    </tr>\n",
       "    <tr>\n",
       "      <th>...</th>\n",
       "      <td>...</td>\n",
       "      <td>...</td>\n",
       "      <td>...</td>\n",
       "      <td>...</td>\n",
       "      <td>...</td>\n",
       "    </tr>\n",
       "    <tr>\n",
       "      <th>3209</th>\n",
       "      <td>122.0</td>\n",
       "      <td>910.98</td>\n",
       "      <td>20.0</td>\n",
       "      <td>35124.90</td>\n",
       "      <td>1</td>\n",
       "    </tr>\n",
       "    <tr>\n",
       "      <th>3210</th>\n",
       "      <td>25.0</td>\n",
       "      <td>190.36</td>\n",
       "      <td>0.0</td>\n",
       "      <td>3275.61</td>\n",
       "      <td>0</td>\n",
       "    </tr>\n",
       "    <tr>\n",
       "      <th>3211</th>\n",
       "      <td>97.0</td>\n",
       "      <td>634.44</td>\n",
       "      <td>70.0</td>\n",
       "      <td>13974.06</td>\n",
       "      <td>0</td>\n",
       "    </tr>\n",
       "    <tr>\n",
       "      <th>3212</th>\n",
       "      <td>64.0</td>\n",
       "      <td>462.32</td>\n",
       "      <td>90.0</td>\n",
       "      <td>31239.78</td>\n",
       "      <td>0</td>\n",
       "    </tr>\n",
       "    <tr>\n",
       "      <th>3213</th>\n",
       "      <td>80.0</td>\n",
       "      <td>566.09</td>\n",
       "      <td>6.0</td>\n",
       "      <td>29480.52</td>\n",
       "      <td>1</td>\n",
       "    </tr>\n",
       "  </tbody>\n",
       "</table>\n",
       "<p>3214 rows × 5 columns</p>\n",
       "</div>"
      ],
      "text/plain": [
       "      calls  minutes  messages   mb_used  is_ultra\n",
       "0      40.0   311.90      83.0  19915.42         0\n",
       "1      85.0   516.75      56.0  22696.96         0\n",
       "2      77.0   467.66      86.0  21060.45         0\n",
       "3     106.0   745.53      81.0   8437.39         1\n",
       "4      66.0   418.74       1.0  14502.75         0\n",
       "...     ...      ...       ...       ...       ...\n",
       "3209  122.0   910.98      20.0  35124.90         1\n",
       "3210   25.0   190.36       0.0   3275.61         0\n",
       "3211   97.0   634.44      70.0  13974.06         0\n",
       "3212   64.0   462.32      90.0  31239.78         0\n",
       "3213   80.0   566.09       6.0  29480.52         1\n",
       "\n",
       "[3214 rows x 5 columns]"
      ]
     },
     "execution_count": 25,
     "metadata": {},
     "output_type": "execute_result"
    }
   ],
   "source": [
    "df = pd.read_csv('/datasets/users_behavior.csv')\n",
    "df"
   ]
  },
  {
   "cell_type": "code",
   "execution_count": 26,
   "metadata": {},
   "outputs": [
    {
     "name": "stdout",
     "output_type": "stream",
     "text": [
      "<class 'pandas.core.frame.DataFrame'>\n",
      "RangeIndex: 3214 entries, 0 to 3213\n",
      "Data columns (total 5 columns):\n",
      " #   Column    Non-Null Count  Dtype  \n",
      "---  ------    --------------  -----  \n",
      " 0   calls     3214 non-null   float64\n",
      " 1   minutes   3214 non-null   float64\n",
      " 2   messages  3214 non-null   float64\n",
      " 3   mb_used   3214 non-null   float64\n",
      " 4   is_ultra  3214 non-null   int64  \n",
      "dtypes: float64(4), int64(1)\n",
      "memory usage: 125.7 KB\n"
     ]
    }
   ],
   "source": [
    "df.info()"
   ]
  },
  {
   "cell_type": "markdown",
   "metadata": {},
   "source": [
    "<img src=\"https://upload.wikimedia.org/wikipedia/commons/b/ba/Warning_sign_4.0.png\" align=left width=44, heigth=33>\n",
    "<div class=\"alert alert-warning\">\n",
    "Можно дополнительно посмотреть информацию о данных с помощью метода .info()\n",
    "</div>"
   ]
  },
  {
   "cell_type": "markdown",
   "metadata": {},
   "source": [
    "<div class=\"alert alert-info\">\n",
    "Замечание учтено, правки внесены!\n",
    "</div>   "
   ]
  },
  {
   "cell_type": "markdown",
   "metadata": {},
   "source": [
    "<div class=\"alert alert-info\">\n",
    "Замечание учтено!\n",
    "</div>   "
   ]
  },
  {
   "cell_type": "markdown",
   "metadata": {},
   "source": [
    "<img src=\"https://emojigraph.org/media/apple/check-mark-button_2705.png\" align=left width=33, heigth=33>\n",
    "<div class=\"alert alert-success\">\n",
    "<b>v2</b> 👍 </div>"
   ]
  },
  {
   "cell_type": "code",
   "execution_count": 27,
   "metadata": {},
   "outputs": [
    {
     "name": "stdout",
     "output_type": "stream",
     "text": [
      "Процент пользователей с тарифом ULTRA 0.3\n",
      "Процент пользователей с тарифом SMART 0.7\n"
     ]
    }
   ],
   "source": [
    "print(f\"Процент пользователей с тарифом ULTRA {(df['is_ultra'].sum()/df['is_ultra'].count()):.1f}\")\n",
    "print(f\"Процент пользователей с тарифом SMART {(1 - df['is_ultra'].sum()/df['is_ultra'].count()):.1f}\")"
   ]
  },
  {
   "cell_type": "markdown",
   "metadata": {},
   "source": [
    "<img src=\"https://emojigraph.org/media/apple/check-mark-button_2705.png\" align=left width=33, heigth=33>\n",
    "<div class=\"alert alert-success\">\n",
    "Данные загружены и исследованы.</div>"
   ]
  },
  {
   "cell_type": "markdown",
   "metadata": {},
   "source": [
    "Загрузив датасет можно сказать, что соотношение классов с тарифом `ULTRA` и `SMART` не равные. Примерно **30 процентов** пользователей пользуется тарифом `ULTRA`, а преобладающая часть пользуется тарифом `SMART`, что составляет **70 процентов**, наблюдается разбаланс классов."
   ]
  },
  {
   "cell_type": "markdown",
   "metadata": {},
   "source": [
    "## Разбейте данные на выборки"
   ]
  },
  {
   "cell_type": "markdown",
   "metadata": {},
   "source": [
    "Для обучения и корректной проверки модели нужно разделить исходные данные на обучающую, валидационную и тестовую выборки в пропорции **3:1:1**."
   ]
  },
  {
   "cell_type": "code",
   "execution_count": 28,
   "metadata": {},
   "outputs": [
    {
     "name": "stdout",
     "output_type": "stream",
     "text": [
      "Размер тестовой выборки: (643, 4)        \n",
      "Размер валидационной выборки: (643, 4)        \n",
      "Размер тренировочной выборки: (1928, 4)\n"
     ]
    }
   ],
   "source": [
    "features = df.drop('is_ultra',axis = 1)# извлеките признаки \n",
    "target = df['is_ultra']# извлеките целевой признак\n",
    "\n",
    "features_train, features_check, target_train, target_check \\\n",
    "        = train_test_split(features, target, test_size=0.4, random_state=12345)\n",
    "features_test, features_valid, target_test, target_valid \\\n",
    "        = train_test_split(features_check, target_check, test_size=0.5, random_state=12345)\n",
    "\n",
    "print(f\"Размер тестовой выборки: {features_test.shape}\\\n",
    "        \\nРазмер валидационной выборки: {features_valid.shape}\\\n",
    "        \\nРазмер тренировочной выборки: {features_train.shape}\") "
   ]
  },
  {
   "cell_type": "markdown",
   "metadata": {},
   "source": [
    "<img src=\"https://emojigraph.org/media/apple/check-mark-button_2705.png\" align=left width=33, heigth=33>\n",
    "<div class=\"alert alert-success\">\n",
    "Выборки получены корректно</div>"
   ]
  },
  {
   "cell_type": "markdown",
   "metadata": {},
   "source": [
    "<img src=\"https://upload.wikimedia.org/wikipedia/commons/b/ba/Warning_sign_4.0.png\" align=left width=44, heigth=33>\n",
    "<div class=\"alert alert-warning\">\n",
    "Старайся не делать такие длинные строки. Стандарт PEP8 регулирует длину строки 79 символов. Придерживаться такого очень сложно, но лучше хотя-бы вмещать в экран, чтобы не приходилось использовать scroll.\n",
    "    \n",
    "    \n",
    "А еще  если сомневаешься, как отформатировать правильно - всегда можно найти какой-нибудь оналйн-форматтер, например этот\n",
    "    \n",
    "  https://extendsclass.com/python-formatter.html\n",
    "    \n",
    "    \n",
    "    \n",
    "</div>"
   ]
  },
  {
   "cell_type": "markdown",
   "metadata": {},
   "source": [
    "<div class=\"alert alert-info\">\n",
    "Замечание учтено, правки внесены!\n",
    "</div>   "
   ]
  },
  {
   "cell_type": "markdown",
   "metadata": {},
   "source": [
    "<img src=\"https://emojigraph.org/media/apple/check-mark-button_2705.png\" align=left width=33, heigth=33>\n",
    "<div class=\"alert alert-success\">\n",
    "<b>v2</b> 👍 </div>"
   ]
  },
  {
   "cell_type": "markdown",
   "metadata": {},
   "source": [
    "<img src=\"https://emojigraph.org/media/apple/check-mark-button_2705.png\" align=left width=33, heigth=33>\n",
    "<div class=\"alert alert-success\">\n",
    "Молодец, что вывел размеры полученных выборок, это помогает быстро проверить корректность проведеного разделения.</div>"
   ]
  },
  {
   "cell_type": "markdown",
   "metadata": {},
   "source": [
    "<img src=\"https://emojigraph.org/media/apple/check-mark-button_2705.png\" align=left width=33, heigth=33>\n",
    "<div class=\"alert alert-success\">\n",
    "Совет:  обрати внимание на аргумент stratify функции train_test_split. Стратификация особенно важна, когда у нас мало данных и возможен дисбаланс классов в обучении / валидации / тесте.\n",
    "</div>"
   ]
  },
  {
   "cell_type": "markdown",
   "metadata": {},
   "source": [
    "В результате получается, что тренировочная выборка составляет **60%** от всех данных, что и являлось целью задачи."
   ]
  },
  {
   "cell_type": "markdown",
   "metadata": {},
   "source": [
    "## Исследуйте модели"
   ]
  },
  {
   "cell_type": "markdown",
   "metadata": {},
   "source": [
    "Требуется выбрать самую подходящую модель машинного обучения для задачи классификации - предсказания тарифов пользователей. Для этого рассмотрим подробнее такие модели как: `решающее дерево, случайный лес, логистическая регерессия и \"KNeighbors\"`."
   ]
  },
  {
   "cell_type": "code",
   "execution_count": 29,
   "metadata": {},
   "outputs": [
    {
     "name": "stdout",
     "output_type": "stream",
     "text": [
      "Accuracy наилучшей модели на валидационной выборке: 0.7993779160186625 \n",
      "Наилучшая глубина решающего дерева: 7\n"
     ]
    }
   ],
   "source": [
    "best_result = 0\n",
    "\n",
    "for max_depth in range(1, 15):\n",
    "    modelDTC = DecisionTreeClassifier(random_state=12345, max_depth = (max_depth))\n",
    "    modelDTC.fit(features_train, target_train)\n",
    "    test_predictions = modelDTC.predict(features_valid)\n",
    "    result= accuracy_score(target_valid,test_predictions)\n",
    "\n",
    "    if result > best_result:\n",
    "        best_depth = max_depth\n",
    "        best_model = modelDTC# сохраните наилучшую модель\n",
    "        best_result = result#  сохраните наилучшее значение метрики accuracy на валидационных данных\n",
    "\n",
    "print(\"Accuracy наилучшей модели на валидационной выборке:\", best_result,\"\\nНаилучшая глубина решающего дерева:\",best_depth)\n",
    "modelDTC = best_model"
   ]
  },
  {
   "cell_type": "markdown",
   "metadata": {},
   "source": [
    "<img src=\"https://emojigraph.org/media/apple/check-mark-button_2705.png\" align=left width=33, heigth=33>\n",
    "<div class=\"alert alert-success\">\n",
    "Дерево решений исследовано  корректно:\n",
    "    \n",
    " - исследовано 14 значений гиперпараметров\n",
    " - модель обучена на обучающем наборе\n",
    " - получена оценка качества на валидационном наборе\n",
    " - перебор гиперпараметров осуществляется в цикле\n",
    "</div>"
   ]
  },
  {
   "cell_type": "markdown",
   "metadata": {},
   "source": [
    "Для модели решающего дерева был рассмотрен гиперпараметр `max_depth`, были рассмотрены значения от *1 до 15* и выбрана самая лучшая модель. Метрика `Accuracy` данной модели равна **0.799**, доля правильных ответ больше **75%** - данная модель нам подходит."
   ]
  },
  {
   "cell_type": "code",
   "execution_count": 30,
   "metadata": {},
   "outputs": [
    {
     "name": "stdout",
     "output_type": "stream",
     "text": [
      "Accuracy наилучшей модели на валидационной выборке: 0.7869362363919129\n"
     ]
    }
   ],
   "source": [
    "best_model = None\n",
    "best_result = 0\n",
    "for est in range(1, 15):\n",
    "    modelRC = RandomForestClassifier(random_state=12345, n_estimators=est) # обучите модель с заданным количеством деревьев\n",
    "    modelRC.fit(features_train,target_train) # обучите модель на тренировочной выборке\n",
    "    result = modelRC.score(features_valid,target_valid) # посчитайте качество модели на валидационной выборке\n",
    "    \n",
    "    if result > best_result:\n",
    "        best_model = modelRC# сохраните наилучшую модель\n",
    "        best_result = result#  сохраните наилучшее значение метрики accuracy на валидационных данных\n",
    "\n",
    "print(\"Accuracy наилучшей модели на валидационной выборке:\", best_result)\n",
    "modelRC = best_model "
   ]
  },
  {
   "cell_type": "markdown",
   "metadata": {},
   "source": [
    "<img src=\"https://emojigraph.org/media/apple/check-mark-button_2705.png\" align=left width=33, heigth=33>\n",
    "<div class=\"alert alert-success\">\n",
    "Случайный лес исследован корректно:\n",
    "    \n",
    " - исследовано 14 значений гиперпараметров\n",
    " - модель обучена на обучающем наборе\n",
    " - получена оценка качества на валидационном наборе\n",
    " - перебор гиперпараметров осуществляется в цикле\n",
    "</div>"
   ]
  },
  {
   "cell_type": "markdown",
   "metadata": {},
   "source": [
    "Для модели случайного леса был рассмотрен гиперпараметр `n_estimators`, были рассмотрены значения от **1 до 15** и выбрана самая лучшая модель. Для данной модели метрика `Accuracy` равна **0.787**, доля правильных ответ больше **75%** - данная модель нам также подходит."
   ]
  },
  {
   "cell_type": "code",
   "execution_count": 31,
   "metadata": {},
   "outputs": [
    {
     "name": "stdout",
     "output_type": "stream",
     "text": [
      "Accuracy наилучшей модели на валидационной выборке: 0.6982892690513219\n"
     ]
    }
   ],
   "source": [
    "result = 0\n",
    "best_result = 0\n",
    "for max_num in range(1, 50):\n",
    "    for regularization_strength in range(1, 15):\n",
    "        modelLR = LogisticRegression(random_state = 12345, \\\n",
    "                                     solver = 'lbfgs', max_iter = max_num, \\\n",
    "                                     penalty = 'l2', C = regularization_strength) \n",
    "        modelLR.fit(features_train, target_train) \n",
    "        result = modelLR.score(features_valid, target_valid) \n",
    "    \n",
    "    if result > best_result:\n",
    "        best_model = modelLR# сохраните наилучшую модель\n",
    "        best_result = result#  сохраните наилучшее значение метрики accuracy на валидационных данных\n",
    "print(\"Accuracy наилучшей модели на валидационной выборке:\",best_result)\n",
    "modelLR = best_model"
   ]
  },
  {
   "cell_type": "markdown",
   "metadata": {},
   "source": [
    "<img src=\"https://upload.wikimedia.org/wikipedia/commons/b/ba/Warning_sign_4.0.png\" align=left width=44, heigth=33>\n",
    "<div class=\"alert alert-warning\">\n",
    "Старайся давайть переменным осмысленные наименования. Код должен читаться как хороший текст на английском языке, тогда и тебе самому будет проще с ним работать и другим читать и поддерживать. \n",
    "</div>"
   ]
  },
  {
   "cell_type": "markdown",
   "metadata": {},
   "source": [
    "<div class=\"alert alert-info\">\n",
    "Замечание учтено, правки внесены!\n",
    "</div>   "
   ]
  },
  {
   "cell_type": "markdown",
   "metadata": {},
   "source": [
    "<img src=\"https://emojigraph.org/media/apple/check-mark-button_2705.png\" align=left width=33, heigth=33>\n",
    "<div class=\"alert alert-success\">\n",
    "<b>v2</b> 👍 </div>"
   ]
  },
  {
   "cell_type": "markdown",
   "metadata": {},
   "source": [
    "<img src=\"https://emojigraph.org/media/apple/check-mark-button_2705.png\" align=left width=33, heigth=33>\n",
    "<div class=\"alert alert-success\">\n",
    "Логистическая регрессия исследована корректно.\n",
    "</div>\n"
   ]
  },
  {
   "cell_type": "markdown",
   "metadata": {},
   "source": [
    "Для модели логистической регрессии были взяты гиперпараметры `max_iter` и `C` при *solver = 'lbfgs'* и *penalty = 'l2'*. Были рассмотрены значения `max_iter` от **1 до 50**, а `C` от **1 до 15**, в результате выбрана самая лучшая модель. Метрика `Accuracy` данной модели равна **0.698**, доля правильных ответ в этом случае меньше **75%** - данная модель нам не может подходить."
   ]
  },
  {
   "cell_type": "code",
   "execution_count": 32,
   "metadata": {},
   "outputs": [
    {
     "name": "stdout",
     "output_type": "stream",
     "text": [
      "Accuracy наилучшей модели на валидационной выборке: 0.7573872472783826\n"
     ]
    }
   ],
   "source": [
    "result = 0\n",
    "best_result = 0\n",
    "for neighbors in range(1, 50):\n",
    "    for power_parameter in range(1, 2):\n",
    "        modelKN = KNeighborsClassifier(n_neighbors = neighbors, p = power_parameter)\n",
    "        modelKN.fit(features_train, target_train) \n",
    "        result = modelKN.score(features_valid, target_valid) \n",
    "    if result > best_result:\n",
    "        best_model = modelKN# сохраните наилучшую модель\n",
    "        best_result = result#  сохраните наилучшее значение метрики accuracy на валидационных данных\n",
    "print(\"Accuracy наилучшей модели на валидационной выборке:\",best_result)\n",
    "modelKN = best_model"
   ]
  },
  {
   "cell_type": "markdown",
   "metadata": {},
   "source": [
    "<img src=\"https://emojigraph.org/media/apple/check-mark-button_2705.png\" align=left width=33, heigth=33>\n",
    "<div class=\"alert alert-success\">\n",
    "Метод ближайших соседей тоже исследован корректно.\n",
    "</div>\n"
   ]
  },
  {
   "cell_type": "markdown",
   "metadata": {},
   "source": [
    "Для модели `KNeighbors` были взяты гиперпараметры `p`(метрики Минковского) и `n_neighbors`(количество соседей). Были рассмотрено количество соседей от **1 до 50**, а также значения p параметра - **l1 или l2**, в результате выбрана самая лучшая модель. Метрика Accuracy для данной модели равна **0.757**, доля правильных ответ больше **75%** - данная модель нам также подходит."
   ]
  },
  {
   "cell_type": "markdown",
   "metadata": {},
   "source": [
    "В заключении для получения несмещенной оценки точности итоговой модели выберем `лучшую модель` по результатам проверки на валидационной выброке. В данном случае наилучшие резельтаты показывает модель `решающего дерева` с параметром `max_depth` равным **7**.\n"
   ]
  },
  {
   "cell_type": "markdown",
   "metadata": {},
   "source": [
    "<img src=\"https://upload.wikimedia.org/wikipedia/commons/thumb/8/81/Stop_sign.png/240px-Stop_sign.png\" align=left width=35, heigth=35>\n",
    "<div class=\"alert alert-danger\">\n",
    "Ты закончил важный этап: исследовал три модели, нашел оптимальные гиперпараметры для каждой. Нужно зафиксировать результат: выбрать лучшую модель (включая гиперпараметры)  и описать свое решение в выводах.</div>"
   ]
  },
  {
   "cell_type": "markdown",
   "metadata": {},
   "source": [
    "<div class=\"alert alert-info\">\n",
    "Замечание учтено, правки внесены!\n",
    "</div>   "
   ]
  },
  {
   "cell_type": "markdown",
   "metadata": {},
   "source": [
    "<img src=\"https://emojigraph.org/media/apple/check-mark-button_2705.png\" align=left width=33, heigth=33>\n",
    "<div class=\"alert alert-success\">\n",
    "<b>v2</b> 👍 </div>"
   ]
  },
  {
   "cell_type": "markdown",
   "metadata": {},
   "source": [
    "## Проверьте модель на тестовой выборке"
   ]
  },
  {
   "cell_type": "markdown",
   "metadata": {},
   "source": [
    "<img src=\"https://upload.wikimedia.org/wikipedia/commons/b/ba/Warning_sign_4.0.png\" align=left width=44, heigth=33>\n",
    "<div class=\"alert alert-warning\">\n",
    "К данному этапу лучше подходить с одной выбранной моделью, чтобы избежать искушения вдруг \"поменять\" модель по  результатам тестирования. Ведь любое использование тестовой выборки для улучшения модели (в том числе выбор лучшей модели) - это нарушение.\n",
    "\n",
    "Давай еще раз повторим, зачем мы используем каждую выборку:\n",
    "  - На обучающей выборке мы подбираем параметры моделей (обучаем модели)\n",
    "  - На валидационной выборке мы подбираем гиперпараметры, а также все остальные части решения, например предобработку данных, отбор признаков, методы борьбы с дисбалансом и т.д.\n",
    "  - А тестовая выборка появляется только тогда, когда лучшая модель уже выбрана. И с её помощью мы получаем несмещенную оценку точности модели в эксплуатации.\n",
    "</div>"
   ]
  },
  {
   "cell_type": "markdown",
   "metadata": {},
   "source": [
    "<div class=\"alert alert-info\">\n",
    "Замечание учтено, правки внесены!\n",
    "</div>   "
   ]
  },
  {
   "cell_type": "markdown",
   "metadata": {},
   "source": [
    "<img src=\"https://emojigraph.org/media/apple/check-mark-button_2705.png\" align=left width=33, heigth=33>\n",
    "<div class=\"alert alert-success\">\n",
    "<b>v2</b> 👍 </div>"
   ]
  },
  {
   "cell_type": "markdown",
   "metadata": {},
   "source": [
    "Чтобы проверить точность обученной модели была подготовлена `тестовая выборка`, которую модель будет видеть впервые. \n",
    "\n",
    "Для проверки была выбрана модель **решающего дерева**, которая показала наилучшие результаты в `предыдущем параграфе` \n",
    "\n",
    "Также `обучающая выборка` была объединена с `валидационной` для большей точности."
   ]
  },
  {
   "cell_type": "code",
   "execution_count": 33,
   "metadata": {},
   "outputs": [
    {
     "name": "stdout",
     "output_type": "stream",
     "text": [
      "Accuracy DTC модели на валидационной выборке: 0.7916018662519441\n"
     ]
    }
   ],
   "source": [
    "features_big_train = pd.concat([features_train, features_valid])\n",
    "target_big_train = pd.concat([target_train, target_valid])\n",
    "\n",
    "modelDTC = DecisionTreeClassifier(random_state=12345, max_depth = best_depth)\n",
    "modelDTC.fit(features_big_train, target_big_train)\n",
    " \n",
    "result = modelDTC.score(features_test,target_test)\n",
    "print(\"Accuracy DTC модели на валидационной выборке:\",result)"
   ]
  },
  {
   "cell_type": "markdown",
   "metadata": {},
   "source": [
    "<img src=\"https://emojigraph.org/media/apple/check-mark-button_2705.png\" align=left width=33, heigth=33>\n",
    "<div class=\"alert alert-success\">\n",
    "Совет:  Сейчас, когда гиперпараметры подобраны и валидационная выборка нам не нужна, мы можем обучить модель на большой выборке (обучающая + валидационная), а тестирование новой модели произвести уже на тестовой выборке.\n",
    "    \n",
    "Объединить выборки можно с помощью pd.concat\n",
    "</div>"
   ]
  },
  {
   "cell_type": "markdown",
   "metadata": {},
   "source": [
    "<div class=\"alert alert-info\">\n",
    "Замечание учтено, правки внесены!\n",
    "</div>   "
   ]
  },
  {
   "cell_type": "markdown",
   "metadata": {},
   "source": [
    "<img src=\"https://emojigraph.org/media/apple/check-mark-button_2705.png\" align=left width=33, heigth=33>\n",
    "<div class=\"alert alert-success\">\n",
    "<b>v2</b> 👍 </div>"
   ]
  },
  {
   "cell_type": "markdown",
   "metadata": {},
   "source": [
    "Модель `решающего дерева` показывает наилучшие результаты с долей правильных ответов - **78%**, что подходит по заданию.\n",
    "\n",
    "Можно сделать вывод, что самая лучшая модель в данном случае это `решающее дерево`."
   ]
  },
  {
   "cell_type": "markdown",
   "metadata": {},
   "source": [
    "## (бонус) Проверьте модели на адекватность"
   ]
  },
  {
   "cell_type": "code",
   "execution_count": 34,
   "metadata": {},
   "outputs": [
    {
     "name": "stdout",
     "output_type": "stream",
     "text": [
      "Accuracy случайной модели на тестовой выборке: 0.7060653188180405\n"
     ]
    }
   ],
   "source": [
    "modelDC = DummyClassifier(strategy = \"most_frequent\", random_state = 12345)\n",
    "modelDC.fit(features_train, target_train)\n",
    "print(\"Accuracy случайной модели на тестовой выборке:\",modelDC.score(features_test, target_test))"
   ]
  },
  {
   "cell_type": "markdown",
   "metadata": {},
   "source": [
    "<img src=\"https://emojigraph.org/media/apple/check-mark-button_2705.png\" align=left width=33, heigth=33>\n",
    "<div class=\"alert alert-success\">\n",
    " 👍 Молодец, верно применен Dummy Classifier для оценки стратегии предсказания самого частого ответа.</div>"
   ]
  },
  {
   "cell_type": "markdown",
   "metadata": {},
   "source": [
    "Для проверки модели на адекватность можно ее сравнить с максимально рандомной моделью, результат которая практически не зависит от данных. При равных отношениях классов модель `DummyClassifier` показывала бы *равновероятностный результат* - **0,5** при выбраном `strategy = \"most_frequent\"`. В случае с данным датасетом, разабаланс классов состовляет **30/70**, следовательно модель будет показывать с большей вероятностью преобладающий класс.\n",
    "`Accuracy` модели *DC* на тестовой выборке равно **0.70**, следовательно модели `DTC,RC,KN` работают точнее, чем бросок монеты. Следовательно модели прошли проверку на адекватность."
   ]
  },
  {
   "cell_type": "markdown",
   "metadata": {},
   "source": [
    "## Заключение"
   ]
  },
  {
   "cell_type": "markdown",
   "metadata": {},
   "source": [
    "В данном проекте основной задачей являлося построения системы, способной проанализировать поведение клиентов и предложить пользователям новый тариф. Заказчиком являлся оператор «Мегалайн», который предоставил данные.\n",
    "\n",
    "Нужно было разбить данные на выборки: убучающую, тестовую и валидационную. После этого требовалось выбрать самую точную модель для предсказания рекомендации тарифов, точность который была бы выше 75%. В конце выбранная модель была проверена на адекватность.\n",
    "\n",
    "В результате проверки на тестовой выборке, самыми эффективными моделями оказались случайный лес и решающее дерево и \"KNeighbors\", со значениями Accuracy соотвественно: **0.782**,**0.782**,**0.779**. \n",
    "\n",
    "В результате наилучшей моделью было выбрано `рещающее дерево` с параметром `max_depth` равным **7** и долей правильных ответов на тестовой выборке равной **78%**, что подходит требованиям заказчика.\n",
    "\n",
    "Была проведена проверка моделей на адекватность, путем сравнения их со случайной моделью `DummyClassifier`. Любая из **трех** выбранных выше моделей точнее, чем случайная более чем на **7 процентов**. "
   ]
  },
  {
   "cell_type": "markdown",
   "metadata": {},
   "source": [
    "## Чек-лист готовности проекта"
   ]
  },
  {
   "cell_type": "markdown",
   "metadata": {},
   "source": [
    "- [x] Jupyter Notebook открыт\n",
    "- [x] Весь код исполняется без ошибок\n",
    "- [x] Ячейки с кодом расположены в порядке исполнения\n",
    "- [x] Выполнено задание 1: данные загружены и изучены\n",
    "- [x] Выполнено задание 2: данные разбиты на три выборки\n",
    "- [x] Выполнено задание 3: проведено исследование моделей\n",
    "    - [x] Рассмотрено больше одной модели\n",
    "    - [x] Рассмотрено хотя бы 3 значения гипепараметров для какой-нибудь модели\n",
    "    - [x] Написаны выводы по результатам исследования\n",
    "- [x] Выполнено задание 3: Проведено тестирование\n",
    "- [x] Удалось достичь accuracy не меньше 0.75\n"
   ]
  },
  {
   "cell_type": "markdown",
   "metadata": {},
   "source": [
    "<img src=\"http://s3.amazonaws.com/pix.iemoji.com/images/emoji/apple/ios-12/256/waving-hand.png\" align=left width=44, heigth=44>\n",
    "<div class=\"alert alert-info\">\n",
    "<b> Заключительный комментарий</b>\n",
    "\n",
    "В целом мне все понравилось: твоя работа выполнена на хорошем уровне с минимальными помарками.\n",
    "Также работа выглядит аккуратной и хорошо оформленной.\n",
    "Вижу, что тебе дается python, и инструментарий машинного обучения.\n",
    " \n",
    "Единственный момент, который нужно доработать: прошу тебя выбрать лучшую модель по оценкам на валидационной выборке и протестировать её.\n",
    "    \n",
    "\n",
    "Жду твой проект на финальное ревью :)\n",
    "</div>"
   ]
  },
  {
   "cell_type": "markdown",
   "metadata": {},
   "source": [
    "<img src=\"http://s3.amazonaws.com/pix.iemoji.com/images/emoji/apple/ios-12/256/waving-hand.png\" align=left width=44, heigth=44>\n",
    "<div class=\"alert alert-info\">\n",
    "<b> Заключительный комментарий v2</b>\n",
    "\n",
    "Привет! Проект доработат и стал еще лучше. Отлично!\n",
    "\n",
    "Проект принят. Поздравляю и желаю дальнейших успехов!</div>"
   ]
  },
  {
   "cell_type": "code",
   "execution_count": null,
   "metadata": {},
   "outputs": [],
   "source": []
  }
 ],
 "metadata": {
  "ExecuteTimeLog": [
   {
    "duration": 457,
    "start_time": "2022-12-21T20:33:44.484Z"
   },
   {
    "duration": 46,
    "start_time": "2022-12-21T20:33:51.876Z"
   },
   {
    "duration": 61,
    "start_time": "2022-12-21T20:51:40.637Z"
   },
   {
    "duration": 802,
    "start_time": "2022-12-21T20:51:55.269Z"
   },
   {
    "duration": 8,
    "start_time": "2022-12-21T20:51:58.988Z"
   },
   {
    "duration": 25,
    "start_time": "2022-12-21T21:04:37.774Z"
   },
   {
    "duration": 1140,
    "start_time": "2022-12-22T22:17:09.352Z"
   },
   {
    "duration": 23,
    "start_time": "2022-12-22T22:17:10.494Z"
   },
   {
    "duration": 927,
    "start_time": "2022-12-22T22:17:10.519Z"
   },
   {
    "duration": 0,
    "start_time": "2022-12-22T22:17:11.448Z"
   },
   {
    "duration": 0,
    "start_time": "2022-12-22T22:17:11.449Z"
   },
   {
    "duration": 10,
    "start_time": "2022-12-22T22:17:59.876Z"
   },
   {
    "duration": 39,
    "start_time": "2022-12-22T22:18:27.136Z"
   },
   {
    "duration": 23,
    "start_time": "2022-12-22T22:18:27.177Z"
   },
   {
    "duration": 9,
    "start_time": "2022-12-22T22:18:27.201Z"
   },
   {
    "duration": 0,
    "start_time": "2022-12-22T22:18:27.211Z"
   },
   {
    "duration": 0,
    "start_time": "2022-12-22T22:18:27.212Z"
   },
   {
    "duration": 39,
    "start_time": "2022-12-22T22:20:35.248Z"
   },
   {
    "duration": 38,
    "start_time": "2022-12-22T22:20:38.322Z"
   },
   {
    "duration": 22,
    "start_time": "2022-12-22T22:20:38.361Z"
   },
   {
    "duration": 27,
    "start_time": "2022-12-22T22:20:38.385Z"
   },
   {
    "duration": 229,
    "start_time": "2022-12-22T22:20:38.414Z"
   },
   {
    "duration": 23,
    "start_time": "2022-12-22T22:20:38.645Z"
   },
   {
    "duration": 26,
    "start_time": "2022-12-22T22:21:31.937Z"
   },
   {
    "duration": 23,
    "start_time": "2022-12-22T22:21:34.776Z"
   },
   {
    "duration": 16,
    "start_time": "2022-12-22T22:21:37.952Z"
   },
   {
    "duration": 21,
    "start_time": "2022-12-22T22:21:43.184Z"
   },
   {
    "duration": 56,
    "start_time": "2022-12-22T22:21:59.882Z"
   },
   {
    "duration": 63,
    "start_time": "2022-12-22T22:22:05.258Z"
   },
   {
    "duration": 105,
    "start_time": "2022-12-22T22:22:13.719Z"
   },
   {
    "duration": 419,
    "start_time": "2022-12-22T22:22:35.102Z"
   },
   {
    "duration": 576,
    "start_time": "2022-12-22T22:22:53.739Z"
   },
   {
    "duration": 48,
    "start_time": "2022-12-24T15:27:08.552Z"
   },
   {
    "duration": 1239,
    "start_time": "2022-12-24T15:27:20.200Z"
   },
   {
    "duration": 26,
    "start_time": "2022-12-24T15:27:21.441Z"
   },
   {
    "duration": 107,
    "start_time": "2022-12-24T15:27:21.469Z"
   },
   {
    "duration": 553,
    "start_time": "2022-12-24T15:27:21.578Z"
   },
   {
    "duration": 27,
    "start_time": "2022-12-24T15:27:22.133Z"
   },
   {
    "duration": 39,
    "start_time": "2022-12-24T15:27:22.162Z"
   },
   {
    "duration": 45,
    "start_time": "2022-12-27T15:40:33.151Z"
   },
   {
    "duration": 1385,
    "start_time": "2022-12-27T15:40:35.774Z"
   },
   {
    "duration": 24,
    "start_time": "2022-12-27T15:40:37.161Z"
   },
   {
    "duration": 141,
    "start_time": "2022-12-27T15:40:37.186Z"
   },
   {
    "duration": 509,
    "start_time": "2022-12-27T15:40:37.329Z"
   },
   {
    "duration": 23,
    "start_time": "2022-12-27T15:40:37.840Z"
   },
   {
    "duration": 30,
    "start_time": "2022-12-27T15:40:37.876Z"
   },
   {
    "duration": 26,
    "start_time": "2022-12-27T15:40:50.744Z"
   },
   {
    "duration": 25,
    "start_time": "2022-12-27T15:40:53.751Z"
   },
   {
    "duration": 24,
    "start_time": "2022-12-27T15:40:56.423Z"
   },
   {
    "duration": 38,
    "start_time": "2022-12-27T15:40:59.177Z"
   },
   {
    "duration": 49,
    "start_time": "2022-12-27T15:41:02.471Z"
   },
   {
    "duration": 34,
    "start_time": "2022-12-27T15:41:06.709Z"
   },
   {
    "duration": 37,
    "start_time": "2022-12-27T15:41:10.286Z"
   },
   {
    "duration": 71,
    "start_time": "2022-12-27T15:41:46.885Z"
   },
   {
    "duration": 44,
    "start_time": "2022-12-27T15:41:54.893Z"
   },
   {
    "duration": 32,
    "start_time": "2022-12-27T15:41:58.348Z"
   },
   {
    "duration": 35,
    "start_time": "2022-12-27T15:42:00.769Z"
   },
   {
    "duration": 26,
    "start_time": "2022-12-27T15:42:04.412Z"
   },
   {
    "duration": 26,
    "start_time": "2022-12-27T15:42:07.876Z"
   },
   {
    "duration": 25,
    "start_time": "2022-12-27T15:42:08.804Z"
   },
   {
    "duration": 11,
    "start_time": "2022-12-27T15:42:39.931Z"
   },
   {
    "duration": 13,
    "start_time": "2022-12-27T15:43:13.056Z"
   },
   {
    "duration": 14,
    "start_time": "2022-12-27T15:43:17.376Z"
   },
   {
    "duration": 14,
    "start_time": "2022-12-27T15:43:20.521Z"
   },
   {
    "duration": 13,
    "start_time": "2022-12-27T15:43:23.057Z"
   },
   {
    "duration": 12,
    "start_time": "2022-12-27T15:43:25.706Z"
   },
   {
    "duration": 11,
    "start_time": "2022-12-27T15:43:28.121Z"
   },
   {
    "duration": 12,
    "start_time": "2022-12-27T15:43:30.401Z"
   },
   {
    "duration": 12,
    "start_time": "2022-12-27T15:43:32.889Z"
   },
   {
    "duration": 12,
    "start_time": "2022-12-27T15:43:36.697Z"
   },
   {
    "duration": 14,
    "start_time": "2022-12-27T15:43:39.513Z"
   },
   {
    "duration": 12,
    "start_time": "2022-12-27T15:43:41.856Z"
   },
   {
    "duration": 12,
    "start_time": "2022-12-27T15:43:44.224Z"
   },
   {
    "duration": 12,
    "start_time": "2022-12-27T15:43:49.571Z"
   },
   {
    "duration": 16,
    "start_time": "2022-12-27T15:43:51.232Z"
   },
   {
    "duration": 15,
    "start_time": "2022-12-27T15:43:54.032Z"
   },
   {
    "duration": 12,
    "start_time": "2022-12-27T15:43:56.016Z"
   },
   {
    "duration": 26,
    "start_time": "2022-12-27T15:44:18.791Z"
   },
   {
    "duration": 31,
    "start_time": "2022-12-27T15:44:22.488Z"
   },
   {
    "duration": 12,
    "start_time": "2022-12-27T15:44:28.743Z"
   },
   {
    "duration": 30,
    "start_time": "2022-12-27T15:44:32.703Z"
   },
   {
    "duration": 44,
    "start_time": "2022-12-27T15:44:35.270Z"
   },
   {
    "duration": 55,
    "start_time": "2022-12-27T15:44:37.526Z"
   },
   {
    "duration": 34,
    "start_time": "2022-12-27T15:44:40.821Z"
   },
   {
    "duration": 38,
    "start_time": "2022-12-27T15:44:43.536Z"
   },
   {
    "duration": 23,
    "start_time": "2022-12-27T15:44:46.454Z"
   },
   {
    "duration": 31,
    "start_time": "2022-12-27T15:44:48.864Z"
   },
   {
    "duration": 33,
    "start_time": "2022-12-27T15:44:50.934Z"
   },
   {
    "duration": 26,
    "start_time": "2022-12-27T15:44:52.872Z"
   },
   {
    "duration": 40,
    "start_time": "2022-12-27T15:44:54.989Z"
   },
   {
    "duration": 34,
    "start_time": "2022-12-27T15:46:26.167Z"
   },
   {
    "duration": 25,
    "start_time": "2022-12-27T15:46:29.105Z"
   },
   {
    "duration": 24,
    "start_time": "2022-12-27T15:46:31.274Z"
   },
   {
    "duration": 32,
    "start_time": "2022-12-27T15:46:33.353Z"
   },
   {
    "duration": 32,
    "start_time": "2022-12-27T15:46:36.138Z"
   },
   {
    "duration": 70,
    "start_time": "2022-12-27T15:46:39.905Z"
   },
   {
    "duration": 33,
    "start_time": "2022-12-27T15:46:43.306Z"
   },
   {
    "duration": 22,
    "start_time": "2022-12-27T15:46:46.258Z"
   },
   {
    "duration": 22,
    "start_time": "2022-12-27T15:46:48.522Z"
   },
   {
    "duration": 24,
    "start_time": "2022-12-27T15:46:51.393Z"
   },
   {
    "duration": 32,
    "start_time": "2022-12-27T15:46:53.385Z"
   },
   {
    "duration": 23,
    "start_time": "2022-12-27T15:46:55.481Z"
   },
   {
    "duration": 28,
    "start_time": "2022-12-27T15:46:57.426Z"
   },
   {
    "duration": 29,
    "start_time": "2022-12-27T15:46:59.616Z"
   },
   {
    "duration": 22,
    "start_time": "2022-12-27T15:47:01.870Z"
   },
   {
    "duration": 25,
    "start_time": "2022-12-27T15:47:03.939Z"
   },
   {
    "duration": 28,
    "start_time": "2022-12-27T15:47:06.553Z"
   },
   {
    "duration": 24,
    "start_time": "2022-12-27T15:47:09.424Z"
   },
   {
    "duration": 26,
    "start_time": "2022-12-27T15:47:12.177Z"
   },
   {
    "duration": 28,
    "start_time": "2022-12-27T15:47:15.066Z"
   },
   {
    "duration": 29,
    "start_time": "2022-12-27T15:47:17.488Z"
   },
   {
    "duration": 24,
    "start_time": "2022-12-27T15:47:19.496Z"
   },
   {
    "duration": 38,
    "start_time": "2022-12-27T15:47:21.810Z"
   },
   {
    "duration": 1168,
    "start_time": "2022-12-27T22:13:13.505Z"
   },
   {
    "duration": 34,
    "start_time": "2022-12-27T22:13:14.676Z"
   },
   {
    "duration": 99,
    "start_time": "2022-12-27T22:13:14.711Z"
   },
   {
    "duration": 502,
    "start_time": "2022-12-27T22:13:14.811Z"
   },
   {
    "duration": 1063,
    "start_time": "2022-12-27T22:14:51.463Z"
   },
   {
    "duration": 26,
    "start_time": "2022-12-27T22:14:52.528Z"
   },
   {
    "duration": 107,
    "start_time": "2022-12-27T22:14:52.555Z"
   },
   {
    "duration": 515,
    "start_time": "2022-12-27T22:14:52.664Z"
   },
   {
    "duration": 0,
    "start_time": "2022-12-27T22:16:18.065Z"
   },
   {
    "duration": 0,
    "start_time": "2022-12-27T22:16:18.066Z"
   },
   {
    "duration": 0,
    "start_time": "2022-12-27T22:16:18.067Z"
   },
   {
    "duration": 0,
    "start_time": "2022-12-27T22:16:18.068Z"
   },
   {
    "duration": 0,
    "start_time": "2022-12-27T22:16:18.069Z"
   },
   {
    "duration": 0,
    "start_time": "2022-12-27T22:16:18.070Z"
   },
   {
    "duration": 45,
    "start_time": "2022-12-27T22:16:23.280Z"
   },
   {
    "duration": 31,
    "start_time": "2022-12-27T22:16:23.328Z"
   },
   {
    "duration": 114,
    "start_time": "2022-12-27T22:16:23.360Z"
   },
   {
    "duration": 525,
    "start_time": "2022-12-27T22:16:23.476Z"
   },
   {
    "duration": 4,
    "start_time": "2022-12-27T22:16:24.003Z"
   },
   {
    "duration": 2353,
    "start_time": "2022-12-27T22:16:24.008Z"
   },
   {
    "duration": 4,
    "start_time": "2022-12-27T22:17:51.129Z"
   },
   {
    "duration": 3,
    "start_time": "2022-12-27T22:19:03.654Z"
   },
   {
    "duration": 2285,
    "start_time": "2022-12-27T22:19:16.626Z"
   },
   {
    "duration": 1064,
    "start_time": "2022-12-27T22:19:35.390Z"
   },
   {
    "duration": 46,
    "start_time": "2022-12-27T22:20:38.584Z"
   },
   {
    "duration": 22,
    "start_time": "2022-12-27T22:20:38.632Z"
   },
   {
    "duration": 105,
    "start_time": "2022-12-27T22:20:38.656Z"
   },
   {
    "duration": 501,
    "start_time": "2022-12-27T22:20:38.763Z"
   },
   {
    "duration": 5,
    "start_time": "2022-12-27T22:20:39.266Z"
   },
   {
    "duration": 1093,
    "start_time": "2022-12-27T22:20:39.272Z"
   },
   {
    "duration": 40,
    "start_time": "2022-12-27T22:21:51.224Z"
   },
   {
    "duration": 39,
    "start_time": "2022-12-27T22:21:54.553Z"
   },
   {
    "duration": 31,
    "start_time": "2022-12-27T22:21:54.593Z"
   },
   {
    "duration": 116,
    "start_time": "2022-12-27T22:21:54.626Z"
   },
   {
    "duration": 477,
    "start_time": "2022-12-27T22:21:54.743Z"
   },
   {
    "duration": 4,
    "start_time": "2022-12-27T22:21:55.222Z"
   },
   {
    "duration": 910,
    "start_time": "2022-12-27T22:21:55.228Z"
   },
   {
    "duration": 5023,
    "start_time": "2022-12-27T22:22:06.223Z"
   },
   {
    "duration": 39,
    "start_time": "2022-12-27T22:22:14.190Z"
   },
   {
    "duration": 27,
    "start_time": "2022-12-27T22:22:14.231Z"
   },
   {
    "duration": 104,
    "start_time": "2022-12-27T22:22:14.260Z"
   },
   {
    "duration": 505,
    "start_time": "2022-12-27T22:22:14.366Z"
   },
   {
    "duration": 5202,
    "start_time": "2022-12-27T22:22:14.874Z"
   },
   {
    "duration": 973,
    "start_time": "2022-12-27T22:22:20.078Z"
   },
   {
    "duration": 18423,
    "start_time": "2022-12-27T22:22:41.260Z"
   },
   {
    "duration": 39,
    "start_time": "2022-12-27T22:23:14.343Z"
   },
   {
    "duration": 21,
    "start_time": "2022-12-27T22:23:14.384Z"
   },
   {
    "duration": 100,
    "start_time": "2022-12-27T22:23:14.406Z"
   },
   {
    "duration": 515,
    "start_time": "2022-12-27T22:23:14.507Z"
   },
   {
    "duration": 15374,
    "start_time": "2022-12-27T22:23:15.024Z"
   },
   {
    "duration": 0,
    "start_time": "2022-12-27T22:23:30.400Z"
   },
   {
    "duration": 1165,
    "start_time": "2022-12-27T22:23:38.293Z"
   },
   {
    "duration": 26,
    "start_time": "2022-12-27T22:23:39.460Z"
   },
   {
    "duration": 97,
    "start_time": "2022-12-27T22:23:39.487Z"
   },
   {
    "duration": 474,
    "start_time": "2022-12-27T22:23:39.586Z"
   },
   {
    "duration": 14032,
    "start_time": "2022-12-27T22:23:40.062Z"
   },
   {
    "duration": 908,
    "start_time": "2022-12-27T22:23:54.095Z"
   },
   {
    "duration": 41,
    "start_time": "2022-12-27T22:24:18.067Z"
   },
   {
    "duration": 23,
    "start_time": "2022-12-27T22:24:18.110Z"
   },
   {
    "duration": 98,
    "start_time": "2022-12-27T22:24:18.135Z"
   },
   {
    "duration": 511,
    "start_time": "2022-12-27T22:24:18.234Z"
   },
   {
    "duration": 7954,
    "start_time": "2022-12-27T22:24:18.747Z"
   },
   {
    "duration": 931,
    "start_time": "2022-12-27T22:24:26.703Z"
   },
   {
    "duration": 115,
    "start_time": "2022-12-27T22:25:58.883Z"
   },
   {
    "duration": 1288,
    "start_time": "2022-12-29T09:33:54.900Z"
   },
   {
    "duration": 26,
    "start_time": "2022-12-29T09:33:56.190Z"
   },
   {
    "duration": 118,
    "start_time": "2022-12-29T09:33:56.218Z"
   },
   {
    "duration": 561,
    "start_time": "2022-12-29T09:33:56.337Z"
   },
   {
    "duration": 8719,
    "start_time": "2022-12-29T09:33:56.900Z"
   },
   {
    "duration": 1008,
    "start_time": "2022-12-29T09:34:05.620Z"
   },
   {
    "duration": 35,
    "start_time": "2022-12-29T09:34:06.630Z"
   },
   {
    "duration": 106,
    "start_time": "2022-12-29T09:38:33.146Z"
   },
   {
    "duration": 571,
    "start_time": "2022-12-29T09:38:37.919Z"
   },
   {
    "duration": 12,
    "start_time": "2022-12-29T09:39:18.986Z"
   },
   {
    "duration": 43,
    "start_time": "2022-12-29T09:39:22.626Z"
   },
   {
    "duration": 27,
    "start_time": "2022-12-29T09:39:22.670Z"
   },
   {
    "duration": 106,
    "start_time": "2022-12-29T09:39:22.699Z"
   },
   {
    "duration": 521,
    "start_time": "2022-12-29T09:39:22.808Z"
   },
   {
    "duration": 8670,
    "start_time": "2022-12-29T09:39:23.335Z"
   },
   {
    "duration": 1111,
    "start_time": "2022-12-29T09:39:32.007Z"
   },
   {
    "duration": 37,
    "start_time": "2022-12-29T09:39:33.120Z"
   },
   {
    "duration": 12,
    "start_time": "2022-12-29T09:39:33.159Z"
   },
   {
    "duration": 12,
    "start_time": "2022-12-29T09:39:44.682Z"
   },
   {
    "duration": 6,
    "start_time": "2022-12-29T09:40:01.691Z"
   },
   {
    "duration": 18,
    "start_time": "2022-12-29T09:43:32.012Z"
   },
   {
    "duration": 26,
    "start_time": "2022-12-29T09:43:53.396Z"
   },
   {
    "duration": 43,
    "start_time": "2022-12-29T09:45:55.195Z"
   },
   {
    "duration": 27,
    "start_time": "2022-12-29T09:45:55.240Z"
   },
   {
    "duration": 136,
    "start_time": "2022-12-29T09:45:55.269Z"
   },
   {
    "duration": 564,
    "start_time": "2022-12-29T09:45:55.407Z"
   },
   {
    "duration": 8683,
    "start_time": "2022-12-29T09:45:55.973Z"
   },
   {
    "duration": 1010,
    "start_time": "2022-12-29T09:46:04.658Z"
   },
   {
    "duration": 31,
    "start_time": "2022-12-29T09:46:05.670Z"
   },
   {
    "duration": 6,
    "start_time": "2022-12-29T09:46:05.702Z"
   },
   {
    "duration": 42,
    "start_time": "2022-12-29T10:07:29.587Z"
   },
   {
    "duration": 26,
    "start_time": "2022-12-29T10:07:29.630Z"
   },
   {
    "duration": 130,
    "start_time": "2022-12-29T10:07:29.658Z"
   },
   {
    "duration": 560,
    "start_time": "2022-12-29T10:07:29.790Z"
   },
   {
    "duration": 8901,
    "start_time": "2022-12-29T10:07:30.352Z"
   },
   {
    "duration": 1054,
    "start_time": "2022-12-29T10:07:39.255Z"
   },
   {
    "duration": 43,
    "start_time": "2022-12-29T10:07:40.311Z"
   },
   {
    "duration": 5,
    "start_time": "2022-12-29T10:07:40.356Z"
   },
   {
    "duration": 40,
    "start_time": "2022-12-29T10:08:08.953Z"
   },
   {
    "duration": 25,
    "start_time": "2022-12-29T10:08:08.995Z"
   },
   {
    "duration": 107,
    "start_time": "2022-12-29T10:08:09.022Z"
   },
   {
    "duration": 547,
    "start_time": "2022-12-29T10:08:09.131Z"
   },
   {
    "duration": 8756,
    "start_time": "2022-12-29T10:08:09.679Z"
   },
   {
    "duration": 1068,
    "start_time": "2022-12-29T10:08:18.437Z"
   },
   {
    "duration": 41,
    "start_time": "2022-12-29T10:08:19.507Z"
   },
   {
    "duration": 5,
    "start_time": "2022-12-29T10:08:19.550Z"
   },
   {
    "duration": 5,
    "start_time": "2022-12-29T10:09:50.708Z"
   },
   {
    "duration": 5,
    "start_time": "2022-12-29T10:10:01.915Z"
   },
   {
    "duration": 4,
    "start_time": "2022-12-29T10:10:22.137Z"
   },
   {
    "duration": 14,
    "start_time": "2022-12-29T10:23:41.868Z"
   },
   {
    "duration": 41,
    "start_time": "2022-12-29T10:23:54.015Z"
   },
   {
    "duration": 4,
    "start_time": "2022-12-29T10:23:54.058Z"
   },
   {
    "duration": 26,
    "start_time": "2022-12-29T10:23:54.064Z"
   },
   {
    "duration": 0,
    "start_time": "2022-12-29T10:23:54.092Z"
   },
   {
    "duration": 0,
    "start_time": "2022-12-29T10:23:54.093Z"
   },
   {
    "duration": 0,
    "start_time": "2022-12-29T10:23:54.095Z"
   },
   {
    "duration": 0,
    "start_time": "2022-12-29T10:23:54.096Z"
   },
   {
    "duration": 0,
    "start_time": "2022-12-29T10:23:54.097Z"
   },
   {
    "duration": 0,
    "start_time": "2022-12-29T10:23:54.098Z"
   },
   {
    "duration": 15,
    "start_time": "2022-12-29T10:24:11.258Z"
   },
   {
    "duration": 23,
    "start_time": "2022-12-29T10:24:40.529Z"
   },
   {
    "duration": 21,
    "start_time": "2022-12-29T10:24:45.153Z"
   },
   {
    "duration": 9,
    "start_time": "2022-12-29T10:25:42.121Z"
   },
   {
    "duration": 12,
    "start_time": "2022-12-29T10:25:51.809Z"
   },
   {
    "duration": 9,
    "start_time": "2022-12-29T10:28:30.345Z"
   },
   {
    "duration": 9,
    "start_time": "2022-12-29T10:29:01.056Z"
   },
   {
    "duration": 4,
    "start_time": "2022-12-29T10:30:38.302Z"
   },
   {
    "duration": 3,
    "start_time": "2022-12-29T10:31:43.522Z"
   },
   {
    "duration": 4,
    "start_time": "2022-12-29T10:31:56.417Z"
   },
   {
    "duration": 4,
    "start_time": "2022-12-29T10:32:35.794Z"
   },
   {
    "duration": 6,
    "start_time": "2022-12-29T10:32:42.584Z"
   },
   {
    "duration": 5,
    "start_time": "2022-12-29T10:32:52.024Z"
   },
   {
    "duration": 4,
    "start_time": "2022-12-29T10:52:14.548Z"
   },
   {
    "duration": 47,
    "start_time": "2022-12-29T10:52:14.553Z"
   },
   {
    "duration": 4,
    "start_time": "2022-12-29T10:52:14.602Z"
   },
   {
    "duration": 17,
    "start_time": "2022-12-29T10:52:14.608Z"
   },
   {
    "duration": 118,
    "start_time": "2022-12-29T10:52:14.627Z"
   },
   {
    "duration": 544,
    "start_time": "2022-12-29T10:52:14.746Z"
   },
   {
    "duration": 9212,
    "start_time": "2022-12-29T10:52:15.292Z"
   },
   {
    "duration": 1061,
    "start_time": "2022-12-29T10:52:24.505Z"
   },
   {
    "duration": 32,
    "start_time": "2022-12-29T10:52:25.567Z"
   },
   {
    "duration": 7,
    "start_time": "2022-12-29T10:52:25.600Z"
   },
   {
    "duration": 4,
    "start_time": "2022-12-29T10:54:37.085Z"
   },
   {
    "duration": 73,
    "start_time": "2022-12-29T10:54:37.092Z"
   },
   {
    "duration": 4,
    "start_time": "2022-12-29T10:54:37.168Z"
   },
   {
    "duration": 61,
    "start_time": "2022-12-29T10:54:37.174Z"
   },
   {
    "duration": 139,
    "start_time": "2022-12-29T10:54:37.238Z"
   },
   {
    "duration": 577,
    "start_time": "2022-12-29T10:54:37.379Z"
   },
   {
    "duration": 9200,
    "start_time": "2022-12-29T10:54:37.958Z"
   },
   {
    "duration": 1078,
    "start_time": "2022-12-29T10:54:47.159Z"
   },
   {
    "duration": 36,
    "start_time": "2022-12-29T10:54:48.239Z"
   },
   {
    "duration": 10,
    "start_time": "2022-12-29T10:54:48.278Z"
   },
   {
    "duration": 4,
    "start_time": "2022-12-29T10:55:30.068Z"
   },
   {
    "duration": 73,
    "start_time": "2022-12-29T10:55:30.074Z"
   },
   {
    "duration": 6,
    "start_time": "2022-12-29T10:55:30.150Z"
   },
   {
    "duration": 56,
    "start_time": "2022-12-29T10:55:30.158Z"
   },
   {
    "duration": 153,
    "start_time": "2022-12-29T10:55:30.217Z"
   },
   {
    "duration": 556,
    "start_time": "2022-12-29T10:55:30.372Z"
   },
   {
    "duration": 9227,
    "start_time": "2022-12-29T10:55:30.930Z"
   },
   {
    "duration": 1039,
    "start_time": "2022-12-29T10:55:40.159Z"
   },
   {
    "duration": 42,
    "start_time": "2022-12-29T10:55:41.200Z"
   },
   {
    "duration": 6,
    "start_time": "2022-12-29T10:55:41.244Z"
   },
   {
    "duration": 5,
    "start_time": "2022-12-29T10:56:09.110Z"
   },
   {
    "duration": 5,
    "start_time": "2022-12-29T10:56:16.390Z"
   },
   {
    "duration": 529,
    "start_time": "2022-12-29T11:46:35.825Z"
   },
   {
    "duration": 17,
    "start_time": "2022-12-29T12:21:30.476Z"
   },
   {
    "duration": 28,
    "start_time": "2022-12-29T12:22:08.403Z"
   },
   {
    "duration": 30,
    "start_time": "2022-12-29T12:22:20.964Z"
   },
   {
    "duration": 51,
    "start_time": "2022-12-29T12:30:37.322Z"
   },
   {
    "duration": 30,
    "start_time": "2022-12-29T12:30:56.553Z"
   },
   {
    "duration": 5,
    "start_time": "2022-12-29T12:31:00.004Z"
   },
   {
    "duration": 72,
    "start_time": "2022-12-29T12:31:00.022Z"
   },
   {
    "duration": 5,
    "start_time": "2022-12-29T12:31:00.096Z"
   },
   {
    "duration": 32,
    "start_time": "2022-12-29T12:31:00.102Z"
   },
   {
    "duration": 158,
    "start_time": "2022-12-29T12:31:00.137Z"
   },
   {
    "duration": 491,
    "start_time": "2022-12-29T12:31:00.297Z"
   },
   {
    "duration": 9145,
    "start_time": "2022-12-29T12:31:00.790Z"
   },
   {
    "duration": 1038,
    "start_time": "2022-12-29T12:31:09.937Z"
   },
   {
    "duration": 55,
    "start_time": "2022-12-29T12:31:10.977Z"
   },
   {
    "duration": 0,
    "start_time": "2022-12-29T12:31:11.034Z"
   },
   {
    "duration": 0,
    "start_time": "2022-12-29T12:31:11.035Z"
   },
   {
    "duration": 5,
    "start_time": "2022-12-29T12:35:25.666Z"
   },
   {
    "duration": 74,
    "start_time": "2022-12-29T12:35:25.673Z"
   },
   {
    "duration": 5,
    "start_time": "2022-12-29T12:35:25.748Z"
   },
   {
    "duration": 19,
    "start_time": "2022-12-29T12:35:25.755Z"
   },
   {
    "duration": 145,
    "start_time": "2022-12-29T12:35:25.776Z"
   },
   {
    "duration": 524,
    "start_time": "2022-12-29T12:35:25.923Z"
   },
   {
    "duration": 8781,
    "start_time": "2022-12-29T12:35:26.449Z"
   },
   {
    "duration": 1036,
    "start_time": "2022-12-29T12:35:35.232Z"
   },
   {
    "duration": 55,
    "start_time": "2022-12-29T12:35:36.270Z"
   },
   {
    "duration": 0,
    "start_time": "2022-12-29T12:35:36.327Z"
   },
   {
    "duration": 0,
    "start_time": "2022-12-29T12:35:36.328Z"
   },
   {
    "duration": 4,
    "start_time": "2022-12-29T12:36:10.001Z"
   },
   {
    "duration": 60,
    "start_time": "2022-12-29T12:36:10.010Z"
   },
   {
    "duration": 4,
    "start_time": "2022-12-29T12:36:10.072Z"
   },
   {
    "duration": 14,
    "start_time": "2022-12-29T12:36:10.079Z"
   },
   {
    "duration": 131,
    "start_time": "2022-12-29T12:36:10.096Z"
   },
   {
    "duration": 507,
    "start_time": "2022-12-29T12:36:10.229Z"
   },
   {
    "duration": 8723,
    "start_time": "2022-12-29T12:36:10.738Z"
   },
   {
    "duration": 1068,
    "start_time": "2022-12-29T12:36:19.462Z"
   },
   {
    "duration": 28,
    "start_time": "2022-12-29T12:36:20.534Z"
   },
   {
    "duration": 25,
    "start_time": "2022-12-29T12:36:20.563Z"
   },
   {
    "duration": 1828,
    "start_time": "2022-12-29T12:48:13.527Z"
   },
   {
    "duration": 98,
    "start_time": "2022-12-29T12:48:15.359Z"
   },
   {
    "duration": 8,
    "start_time": "2022-12-29T12:48:15.459Z"
   },
   {
    "duration": 28,
    "start_time": "2022-12-29T12:48:15.469Z"
   },
   {
    "duration": 147,
    "start_time": "2022-12-29T12:48:15.499Z"
   },
   {
    "duration": 546,
    "start_time": "2022-12-29T12:48:15.651Z"
   },
   {
    "duration": 11370,
    "start_time": "2022-12-29T12:48:16.199Z"
   },
   {
    "duration": 1165,
    "start_time": "2022-12-29T12:48:27.571Z"
   },
   {
    "duration": 41,
    "start_time": "2022-12-29T12:48:28.738Z"
   },
   {
    "duration": 6,
    "start_time": "2022-12-29T12:48:28.782Z"
   },
   {
    "duration": 2229,
    "start_time": "2022-12-29T15:19:47.175Z"
   },
   {
    "duration": 67,
    "start_time": "2022-12-29T15:19:49.406Z"
   },
   {
    "duration": 7,
    "start_time": "2022-12-29T15:19:49.478Z"
   },
   {
    "duration": 74,
    "start_time": "2022-12-29T15:19:49.487Z"
   },
   {
    "duration": 410,
    "start_time": "2022-12-29T15:19:49.564Z"
   },
   {
    "duration": 1036,
    "start_time": "2022-12-29T15:19:49.981Z"
   },
   {
    "duration": 15746,
    "start_time": "2022-12-29T15:19:51.018Z"
   },
   {
    "duration": 1253,
    "start_time": "2022-12-29T15:20:06.766Z"
   },
   {
    "duration": 38,
    "start_time": "2022-12-29T15:20:08.021Z"
   },
   {
    "duration": 7,
    "start_time": "2022-12-29T15:20:08.061Z"
   },
   {
    "duration": 44,
    "start_time": "2023-01-03T21:15:32.678Z"
   },
   {
    "duration": 1085,
    "start_time": "2023-01-03T21:15:38.591Z"
   },
   {
    "duration": 128,
    "start_time": "2023-01-03T21:15:39.678Z"
   },
   {
    "duration": 10,
    "start_time": "2023-01-03T21:15:39.807Z"
   },
   {
    "duration": 7,
    "start_time": "2023-01-03T21:15:39.818Z"
   },
   {
    "duration": 9,
    "start_time": "2023-01-03T21:15:39.827Z"
   },
   {
    "duration": 106,
    "start_time": "2023-01-03T21:15:39.837Z"
   },
   {
    "duration": 437,
    "start_time": "2023-01-03T21:15:39.944Z"
   },
   {
    "duration": 7731,
    "start_time": "2023-01-03T21:15:40.383Z"
   },
   {
    "duration": 850,
    "start_time": "2023-01-03T21:15:48.115Z"
   },
   {
    "duration": 28,
    "start_time": "2023-01-03T21:15:48.967Z"
   },
   {
    "duration": 20,
    "start_time": "2023-01-03T21:15:48.997Z"
   },
   {
    "duration": 9,
    "start_time": "2023-01-03T21:19:37.523Z"
   },
   {
    "duration": 100,
    "start_time": "2023-01-03T21:38:00.641Z"
   },
   {
    "duration": 7,
    "start_time": "2023-01-03T21:42:46.307Z"
   },
   {
    "duration": 58,
    "start_time": "2023-01-03T21:47:46.502Z"
   },
   {
    "duration": 15,
    "start_time": "2023-01-03T21:47:50.521Z"
   },
   {
    "duration": 16,
    "start_time": "2023-01-03T21:49:05.981Z"
   },
   {
    "duration": 17,
    "start_time": "2023-01-03T21:49:16.021Z"
   },
   {
    "duration": 15,
    "start_time": "2023-01-03T21:55:10.422Z"
   },
   {
    "duration": 29,
    "start_time": "2023-01-03T21:56:04.730Z"
   },
   {
    "duration": 29,
    "start_time": "2023-01-03T21:56:41.553Z"
   },
   {
    "duration": 13,
    "start_time": "2023-01-03T21:56:50.785Z"
   },
   {
    "duration": 4,
    "start_time": "2023-01-03T22:04:18.048Z"
   },
   {
    "duration": 43,
    "start_time": "2023-01-03T22:04:18.056Z"
   },
   {
    "duration": 9,
    "start_time": "2023-01-03T22:04:18.101Z"
   },
   {
    "duration": 8,
    "start_time": "2023-01-03T22:04:18.112Z"
   },
   {
    "duration": 11,
    "start_time": "2023-01-03T22:04:18.121Z"
   },
   {
    "duration": 100,
    "start_time": "2023-01-03T22:04:18.133Z"
   },
   {
    "duration": 428,
    "start_time": "2023-01-03T22:04:18.396Z"
   },
   {
    "duration": 8008,
    "start_time": "2023-01-03T22:04:18.826Z"
   },
   {
    "duration": 893,
    "start_time": "2023-01-03T22:04:26.836Z"
   },
   {
    "duration": 15,
    "start_time": "2023-01-03T22:04:27.731Z"
   },
   {
    "duration": 5,
    "start_time": "2023-01-03T22:04:27.747Z"
   }
  ],
  "kernelspec": {
   "display_name": "Python 3 (ipykernel)",
   "language": "python",
   "name": "python3"
  },
  "language_info": {
   "codemirror_mode": {
    "name": "ipython",
    "version": 3
   },
   "file_extension": ".py",
   "mimetype": "text/x-python",
   "name": "python",
   "nbconvert_exporter": "python",
   "pygments_lexer": "ipython3",
   "version": "3.9.5"
  },
  "toc": {
   "base_numbering": 1,
   "nav_menu": {},
   "number_sections": true,
   "sideBar": true,
   "skip_h1_title": true,
   "title_cell": "Table of Contents",
   "title_sidebar": "Contents",
   "toc_cell": false,
   "toc_position": {},
   "toc_section_display": true,
   "toc_window_display": false
  }
 },
 "nbformat": 4,
 "nbformat_minor": 2
}
