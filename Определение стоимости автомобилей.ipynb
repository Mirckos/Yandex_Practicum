{
 "cells": [
  {
   "cell_type": "markdown",
   "metadata": {},
   "source": [
    "\n",
    "Привет, меня зовут Люман Аблаев. Сегодня я проверю твой проект.\n",
    "<br> Дальнейшее общение будет происходить на \"ты\" если это не вызывает никаких проблем.\n",
    "<br> Желательно реагировать на красные комментарии ('исправил', 'не понятно как исправить ошибку', ...)\n",
    "<br> Пожалуйста, не удаляй комментарии ревьюера, так как они повышают качество повторного ревью.\n",
    "\n",
    "Комментарии будут в <font color='green'>зеленой</font>, <font color='blue'>синей</font> или <font color='red'>красной</font> рамках:\n",
    "\n",
    "\n",
    "<div class=\"alert alert-block alert-success\">\n",
    "<b>Успех:</b> Если все сделано отлично\n",
    "</div>\n",
    "\n",
    "<div class=\"alert alert-block alert-info\">\n",
    "<b>Совет: </b> Если можно немного улучшить\n",
    "</div>\n",
    "\n",
    "<div class=\"alert alert-block alert-danger\">\n",
    "<b>Ошибка:</b> Если требуются исправления. Работа не может быть принята с красными комментариями.\n",
    "</div>\n",
    "\n",
    "-------------------\n",
    "\n",
    "Будет очень хорошо, если ты будешь помечать свои действия следующим образом:\n",
    "<div class=\"alert alert-block alert-warning\">\n",
    "<b>Комментарий студента:</b> ...\n",
    "</div>\n",
    "\n",
    "<div class=\"alert alert-block alert-warning\">\n",
    "<b>Изменения:</b> Были внесены следующие изменения ...\n",
    "</div>\n",
    "\n",
    "\n",
    "\n",
    "\n",
    "\n",
    "\n",
    "\n",
    "<font color='orange' style='font-size:24px; font-weight:bold'>Общее впечатление</font>\n",
    "* Спасибо за очень качественную работу - видно, что приложено много усилий,\n",
    "- Я оставил некоторые советы, надеюсь они будут полезными и интересными\n",
    "- Есть некоторые недочеты, которые нужно поправить, но у тебя это не должно занять много времени)\n",
    "- Жду обновленную работу\n"
   ]
  },
  {
   "cell_type": "markdown",
   "metadata": {},
   "source": [
    "<font color='orange' style='font-size:24px; font-weight:bold'>Общее впечатление[2]</font>\n",
    "* Спасибо за оперативность\n",
    "- Приятно видеть фидбек \n",
    "- Недочеты исправлены - работа полностью корректна\n",
    "- Рад был быть полезен. Удачи в дальнейшем обучении!"
   ]
  },
  {
   "cell_type": "markdown",
   "metadata": {},
   "source": [
    "# Определение стоимости автомобилей"
   ]
  },
  {
   "cell_type": "markdown",
   "metadata": {},
   "source": [
    "Сервис по продаже автомобилей с пробегом «Не бит, не крашен» разрабатывает приложение для привлечения новых клиентов. В нём можно быстро узнать рыночную стоимость своего автомобиля. В вашем распоряжении исторические данные: технические характеристики, комплектации и цены автомобилей. Вам нужно построить модель для определения стоимости. \n",
    "\n",
    "Заказчику важны:\n",
    "\n",
    "- качество предсказания;\n",
    "- скорость предсказания;\n",
    "- время обучения."
   ]
  },
  {
   "cell_type": "markdown",
   "metadata": {},
   "source": [
    "## Подготовка данных"
   ]
  },
  {
   "cell_type": "markdown",
   "metadata": {},
   "source": [
    "Инициализируем библиотеки:"
   ]
  },
  {
   "cell_type": "code",
   "execution_count": 1,
   "metadata": {},
   "outputs": [],
   "source": [
    "import pandas as pd\n",
    "import seaborn as sb\n",
    "import numpy as np\n",
    "import matplotlib.pyplot as plt\n",
    "\n",
    "from sklearn.model_selection import train_test_split\n",
    "from sklearn.preprocessing import StandardScaler, OrdinalEncoder\n",
    "\n",
    "from sklearn.metrics import mean_squared_error\n",
    "\n",
    "from sklearn.linear_model import LinearRegression\n",
    "from catboost import CatBoostRegressor\n",
    "from lightgbm import LGBMRegressor\n",
    "\n",
    "pd.options.mode.chained_assignment = None\n",
    "import warnings\n",
    "warnings.filterwarnings(\"ignore\")"
   ]
  },
  {
   "cell_type": "markdown",
   "metadata": {},
   "source": [
    "<div class=\"alert alert-block alert-success\">\n",
    "<b>Успех:</b> Импорты  на месте\n",
    "</div>"
   ]
  },
  {
   "cell_type": "markdown",
   "metadata": {},
   "source": [
    "Прочитаем и рассмотрим датасет:"
   ]
  },
  {
   "cell_type": "code",
   "execution_count": 2,
   "metadata": {},
   "outputs": [
    {
     "data": {
      "text/html": [
       "<div>\n",
       "<style scoped>\n",
       "    .dataframe tbody tr th:only-of-type {\n",
       "        vertical-align: middle;\n",
       "    }\n",
       "\n",
       "    .dataframe tbody tr th {\n",
       "        vertical-align: top;\n",
       "    }\n",
       "\n",
       "    .dataframe thead th {\n",
       "        text-align: right;\n",
       "    }\n",
       "</style>\n",
       "<table border=\"1\" class=\"dataframe\">\n",
       "  <thead>\n",
       "    <tr style=\"text-align: right;\">\n",
       "      <th></th>\n",
       "      <th>DateCrawled</th>\n",
       "      <th>Price</th>\n",
       "      <th>VehicleType</th>\n",
       "      <th>RegistrationYear</th>\n",
       "      <th>Gearbox</th>\n",
       "      <th>Power</th>\n",
       "      <th>Model</th>\n",
       "      <th>Kilometer</th>\n",
       "      <th>RegistrationMonth</th>\n",
       "      <th>FuelType</th>\n",
       "      <th>Brand</th>\n",
       "      <th>Repaired</th>\n",
       "      <th>DateCreated</th>\n",
       "      <th>NumberOfPictures</th>\n",
       "      <th>PostalCode</th>\n",
       "      <th>LastSeen</th>\n",
       "    </tr>\n",
       "  </thead>\n",
       "  <tbody>\n",
       "    <tr>\n",
       "      <th>0</th>\n",
       "      <td>2016-03-24 11:52:17</td>\n",
       "      <td>480</td>\n",
       "      <td>NaN</td>\n",
       "      <td>1993</td>\n",
       "      <td>manual</td>\n",
       "      <td>0</td>\n",
       "      <td>golf</td>\n",
       "      <td>150000</td>\n",
       "      <td>0</td>\n",
       "      <td>petrol</td>\n",
       "      <td>volkswagen</td>\n",
       "      <td>NaN</td>\n",
       "      <td>2016-03-24 00:00:00</td>\n",
       "      <td>0</td>\n",
       "      <td>70435</td>\n",
       "      <td>2016-04-07 03:16:57</td>\n",
       "    </tr>\n",
       "    <tr>\n",
       "      <th>1</th>\n",
       "      <td>2016-03-24 10:58:45</td>\n",
       "      <td>18300</td>\n",
       "      <td>coupe</td>\n",
       "      <td>2011</td>\n",
       "      <td>manual</td>\n",
       "      <td>190</td>\n",
       "      <td>NaN</td>\n",
       "      <td>125000</td>\n",
       "      <td>5</td>\n",
       "      <td>gasoline</td>\n",
       "      <td>audi</td>\n",
       "      <td>yes</td>\n",
       "      <td>2016-03-24 00:00:00</td>\n",
       "      <td>0</td>\n",
       "      <td>66954</td>\n",
       "      <td>2016-04-07 01:46:50</td>\n",
       "    </tr>\n",
       "    <tr>\n",
       "      <th>2</th>\n",
       "      <td>2016-03-14 12:52:21</td>\n",
       "      <td>9800</td>\n",
       "      <td>suv</td>\n",
       "      <td>2004</td>\n",
       "      <td>auto</td>\n",
       "      <td>163</td>\n",
       "      <td>grand</td>\n",
       "      <td>125000</td>\n",
       "      <td>8</td>\n",
       "      <td>gasoline</td>\n",
       "      <td>jeep</td>\n",
       "      <td>NaN</td>\n",
       "      <td>2016-03-14 00:00:00</td>\n",
       "      <td>0</td>\n",
       "      <td>90480</td>\n",
       "      <td>2016-04-05 12:47:46</td>\n",
       "    </tr>\n",
       "    <tr>\n",
       "      <th>3</th>\n",
       "      <td>2016-03-17 16:54:04</td>\n",
       "      <td>1500</td>\n",
       "      <td>small</td>\n",
       "      <td>2001</td>\n",
       "      <td>manual</td>\n",
       "      <td>75</td>\n",
       "      <td>golf</td>\n",
       "      <td>150000</td>\n",
       "      <td>6</td>\n",
       "      <td>petrol</td>\n",
       "      <td>volkswagen</td>\n",
       "      <td>no</td>\n",
       "      <td>2016-03-17 00:00:00</td>\n",
       "      <td>0</td>\n",
       "      <td>91074</td>\n",
       "      <td>2016-03-17 17:40:17</td>\n",
       "    </tr>\n",
       "    <tr>\n",
       "      <th>4</th>\n",
       "      <td>2016-03-31 17:25:20</td>\n",
       "      <td>3600</td>\n",
       "      <td>small</td>\n",
       "      <td>2008</td>\n",
       "      <td>manual</td>\n",
       "      <td>69</td>\n",
       "      <td>fabia</td>\n",
       "      <td>90000</td>\n",
       "      <td>7</td>\n",
       "      <td>gasoline</td>\n",
       "      <td>skoda</td>\n",
       "      <td>no</td>\n",
       "      <td>2016-03-31 00:00:00</td>\n",
       "      <td>0</td>\n",
       "      <td>60437</td>\n",
       "      <td>2016-04-06 10:17:21</td>\n",
       "    </tr>\n",
       "  </tbody>\n",
       "</table>\n",
       "</div>"
      ],
      "text/plain": [
       "           DateCrawled  Price VehicleType  RegistrationYear Gearbox  Power  \\\n",
       "0  2016-03-24 11:52:17    480         NaN              1993  manual      0   \n",
       "1  2016-03-24 10:58:45  18300       coupe              2011  manual    190   \n",
       "2  2016-03-14 12:52:21   9800         suv              2004    auto    163   \n",
       "3  2016-03-17 16:54:04   1500       small              2001  manual     75   \n",
       "4  2016-03-31 17:25:20   3600       small              2008  manual     69   \n",
       "\n",
       "   Model  Kilometer  RegistrationMonth  FuelType       Brand Repaired  \\\n",
       "0   golf     150000                  0    petrol  volkswagen      NaN   \n",
       "1    NaN     125000                  5  gasoline        audi      yes   \n",
       "2  grand     125000                  8  gasoline        jeep      NaN   \n",
       "3   golf     150000                  6    petrol  volkswagen       no   \n",
       "4  fabia      90000                  7  gasoline       skoda       no   \n",
       "\n",
       "           DateCreated  NumberOfPictures  PostalCode             LastSeen  \n",
       "0  2016-03-24 00:00:00                 0       70435  2016-04-07 03:16:57  \n",
       "1  2016-03-24 00:00:00                 0       66954  2016-04-07 01:46:50  \n",
       "2  2016-03-14 00:00:00                 0       90480  2016-04-05 12:47:46  \n",
       "3  2016-03-17 00:00:00                 0       91074  2016-03-17 17:40:17  \n",
       "4  2016-03-31 00:00:00                 0       60437  2016-04-06 10:17:21  "
      ]
     },
     "execution_count": 2,
     "metadata": {},
     "output_type": "execute_result"
    }
   ],
   "source": [
    "df = pd.read_csv(\"autos.csv\")\n",
    "df.head()"
   ]
  },
  {
   "cell_type": "code",
   "execution_count": 3,
   "metadata": {},
   "outputs": [
    {
     "name": "stdout",
     "output_type": "stream",
     "text": [
      "<class 'pandas.core.frame.DataFrame'>\n",
      "RangeIndex: 354369 entries, 0 to 354368\n",
      "Data columns (total 16 columns):\n",
      " #   Column             Non-Null Count   Dtype \n",
      "---  ------             --------------   ----- \n",
      " 0   DateCrawled        354369 non-null  object\n",
      " 1   Price              354369 non-null  int64 \n",
      " 2   VehicleType        316879 non-null  object\n",
      " 3   RegistrationYear   354369 non-null  int64 \n",
      " 4   Gearbox            334536 non-null  object\n",
      " 5   Power              354369 non-null  int64 \n",
      " 6   Model              334664 non-null  object\n",
      " 7   Kilometer          354369 non-null  int64 \n",
      " 8   RegistrationMonth  354369 non-null  int64 \n",
      " 9   FuelType           321474 non-null  object\n",
      " 10  Brand              354369 non-null  object\n",
      " 11  Repaired           283215 non-null  object\n",
      " 12  DateCreated        354369 non-null  object\n",
      " 13  NumberOfPictures   354369 non-null  int64 \n",
      " 14  PostalCode         354369 non-null  int64 \n",
      " 15  LastSeen           354369 non-null  object\n",
      "dtypes: int64(7), object(9)\n",
      "memory usage: 43.3+ MB\n"
     ]
    }
   ],
   "source": [
    "df.info()"
   ]
  },
  {
   "cell_type": "code",
   "execution_count": 4,
   "metadata": {},
   "outputs": [
    {
     "data": {
      "text/html": [
       "<div>\n",
       "<style scoped>\n",
       "    .dataframe tbody tr th:only-of-type {\n",
       "        vertical-align: middle;\n",
       "    }\n",
       "\n",
       "    .dataframe tbody tr th {\n",
       "        vertical-align: top;\n",
       "    }\n",
       "\n",
       "    .dataframe thead th {\n",
       "        text-align: right;\n",
       "    }\n",
       "</style>\n",
       "<table border=\"1\" class=\"dataframe\">\n",
       "  <thead>\n",
       "    <tr style=\"text-align: right;\">\n",
       "      <th></th>\n",
       "      <th>Price</th>\n",
       "      <th>RegistrationYear</th>\n",
       "      <th>Power</th>\n",
       "      <th>Kilometer</th>\n",
       "      <th>RegistrationMonth</th>\n",
       "      <th>NumberOfPictures</th>\n",
       "      <th>PostalCode</th>\n",
       "    </tr>\n",
       "  </thead>\n",
       "  <tbody>\n",
       "    <tr>\n",
       "      <th>count</th>\n",
       "      <td>354369.000000</td>\n",
       "      <td>354369.000000</td>\n",
       "      <td>354369.000000</td>\n",
       "      <td>354369.000000</td>\n",
       "      <td>354369.000000</td>\n",
       "      <td>354369.0</td>\n",
       "      <td>354369.000000</td>\n",
       "    </tr>\n",
       "    <tr>\n",
       "      <th>mean</th>\n",
       "      <td>4416.656776</td>\n",
       "      <td>2004.234448</td>\n",
       "      <td>110.094337</td>\n",
       "      <td>128211.172535</td>\n",
       "      <td>5.714645</td>\n",
       "      <td>0.0</td>\n",
       "      <td>50508.689087</td>\n",
       "    </tr>\n",
       "    <tr>\n",
       "      <th>std</th>\n",
       "      <td>4514.158514</td>\n",
       "      <td>90.227958</td>\n",
       "      <td>189.850405</td>\n",
       "      <td>37905.341530</td>\n",
       "      <td>3.726421</td>\n",
       "      <td>0.0</td>\n",
       "      <td>25783.096248</td>\n",
       "    </tr>\n",
       "    <tr>\n",
       "      <th>min</th>\n",
       "      <td>0.000000</td>\n",
       "      <td>1000.000000</td>\n",
       "      <td>0.000000</td>\n",
       "      <td>5000.000000</td>\n",
       "      <td>0.000000</td>\n",
       "      <td>0.0</td>\n",
       "      <td>1067.000000</td>\n",
       "    </tr>\n",
       "    <tr>\n",
       "      <th>25%</th>\n",
       "      <td>1050.000000</td>\n",
       "      <td>1999.000000</td>\n",
       "      <td>69.000000</td>\n",
       "      <td>125000.000000</td>\n",
       "      <td>3.000000</td>\n",
       "      <td>0.0</td>\n",
       "      <td>30165.000000</td>\n",
       "    </tr>\n",
       "    <tr>\n",
       "      <th>50%</th>\n",
       "      <td>2700.000000</td>\n",
       "      <td>2003.000000</td>\n",
       "      <td>105.000000</td>\n",
       "      <td>150000.000000</td>\n",
       "      <td>6.000000</td>\n",
       "      <td>0.0</td>\n",
       "      <td>49413.000000</td>\n",
       "    </tr>\n",
       "    <tr>\n",
       "      <th>75%</th>\n",
       "      <td>6400.000000</td>\n",
       "      <td>2008.000000</td>\n",
       "      <td>143.000000</td>\n",
       "      <td>150000.000000</td>\n",
       "      <td>9.000000</td>\n",
       "      <td>0.0</td>\n",
       "      <td>71083.000000</td>\n",
       "    </tr>\n",
       "    <tr>\n",
       "      <th>max</th>\n",
       "      <td>20000.000000</td>\n",
       "      <td>9999.000000</td>\n",
       "      <td>20000.000000</td>\n",
       "      <td>150000.000000</td>\n",
       "      <td>12.000000</td>\n",
       "      <td>0.0</td>\n",
       "      <td>99998.000000</td>\n",
       "    </tr>\n",
       "  </tbody>\n",
       "</table>\n",
       "</div>"
      ],
      "text/plain": [
       "               Price  RegistrationYear          Power      Kilometer  \\\n",
       "count  354369.000000     354369.000000  354369.000000  354369.000000   \n",
       "mean     4416.656776       2004.234448     110.094337  128211.172535   \n",
       "std      4514.158514         90.227958     189.850405   37905.341530   \n",
       "min         0.000000       1000.000000       0.000000    5000.000000   \n",
       "25%      1050.000000       1999.000000      69.000000  125000.000000   \n",
       "50%      2700.000000       2003.000000     105.000000  150000.000000   \n",
       "75%      6400.000000       2008.000000     143.000000  150000.000000   \n",
       "max     20000.000000       9999.000000   20000.000000  150000.000000   \n",
       "\n",
       "       RegistrationMonth  NumberOfPictures     PostalCode  \n",
       "count      354369.000000          354369.0  354369.000000  \n",
       "mean            5.714645               0.0   50508.689087  \n",
       "std             3.726421               0.0   25783.096248  \n",
       "min             0.000000               0.0    1067.000000  \n",
       "25%             3.000000               0.0   30165.000000  \n",
       "50%             6.000000               0.0   49413.000000  \n",
       "75%             9.000000               0.0   71083.000000  \n",
       "max            12.000000               0.0   99998.000000  "
      ]
     },
     "execution_count": 4,
     "metadata": {},
     "output_type": "execute_result"
    }
   ],
   "source": [
    "df.describe()"
   ]
  },
  {
   "cell_type": "code",
   "execution_count": 5,
   "metadata": {},
   "outputs": [
    {
     "name": "stdout",
     "output_type": "stream",
     "text": [
      "Дубликаты: 4\n"
     ]
    }
   ],
   "source": [
    "print(f\"Дубликаты: {df.duplicated().sum()}\")"
   ]
  },
  {
   "cell_type": "code",
   "execution_count": 6,
   "metadata": {},
   "outputs": [
    {
     "name": "stdout",
     "output_type": "stream",
     "text": [
      "Количество NaN:\n",
      " DateCrawled              0\n",
      "Price                    0\n",
      "VehicleType          37490\n",
      "RegistrationYear         0\n",
      "Gearbox              19833\n",
      "Power                    0\n",
      "Model                19705\n",
      "Kilometer                0\n",
      "RegistrationMonth        0\n",
      "FuelType             32895\n",
      "Brand                    0\n",
      "Repaired             71154\n",
      "DateCreated              0\n",
      "NumberOfPictures         0\n",
      "PostalCode               0\n",
      "LastSeen                 0\n",
      "dtype: int64\n"
     ]
    }
   ],
   "source": [
    "print(f\"Количество NaN:\\n {df.isnull().sum()}\")"
   ]
  },
  {
   "cell_type": "markdown",
   "metadata": {},
   "source": [
    "Можно сделать вывод:\n",
    "\n",
    "- Названия столбцов нужно привести к змеиному\n",
    "- Некоторые столбцы сделует удалить из-за неинформативности.\n",
    "- Заполнение пропусков и изменение типов данных \n",
    "- Некоторые минимальные и максимальные значения аномальны"
   ]
  },
  {
   "cell_type": "markdown",
   "metadata": {},
   "source": [
    "<div class=\"alert alert-block alert-success\">\n",
    "<b>Успех:</b> Первичный осмотр есть\n",
    "</div>"
   ]
  },
  {
   "cell_type": "markdown",
   "metadata": {},
   "source": [
    "### Переименование столбцов"
   ]
  },
  {
   "cell_type": "code",
   "execution_count": 7,
   "metadata": {},
   "outputs": [
    {
     "data": {
      "text/plain": [
       "Index(['DateCrawled', 'Price', 'VehicleType', 'RegistrationYear', 'Gearbox',\n",
       "       'Power', 'Model', 'Kilometer', 'RegistrationMonth', 'FuelType', 'Brand',\n",
       "       'Repaired', 'DateCreated', 'NumberOfPictures', 'PostalCode',\n",
       "       'LastSeen'],\n",
       "      dtype='object')"
      ]
     },
     "metadata": {},
     "output_type": "display_data"
    },
    {
     "data": {
      "text/plain": [
       "Index(['date_crawled', 'price', 'vehicle_type', 'registration_year',\n",
       "       'gear_box', 'power', 'model', 'kilometer', 'registration_month',\n",
       "       'fuel_type', 'brand', 'repaired', 'date_created', 'number_of_pictures',\n",
       "       'postal_code', 'last_seen'],\n",
       "      dtype='object')"
      ]
     },
     "execution_count": 7,
     "metadata": {},
     "output_type": "execute_result"
    }
   ],
   "source": [
    "display(df.columns)\n",
    "df.set_axis(['date_crawled', 'price', 'vehicle_type', 'registration_year', 'gear_box','power', 'model', \n",
    "             'kilometer', 'registration_month', 'fuel_type', 'brand','repaired', 'date_created', \n",
    "             'number_of_pictures', 'postal_code', 'last_seen'],axis='columns' ,inplace=True)\n",
    "df.columns"
   ]
  },
  {
   "cell_type": "markdown",
   "metadata": {},
   "source": [
    "### Удаление дубликатов"
   ]
  },
  {
   "cell_type": "code",
   "execution_count": 8,
   "metadata": {},
   "outputs": [
    {
     "name": "stdout",
     "output_type": "stream",
     "text": [
      "Дубликаты: 0\n"
     ]
    }
   ],
   "source": [
    "df = df.drop_duplicates()\n",
    "print('Дубликаты:', df.duplicated().sum())"
   ]
  },
  {
   "cell_type": "markdown",
   "metadata": {},
   "source": [
    "### Удаление неинформатинвых признаков\n",
    "\n",
    "Рассмотрим неинформативные столбцы:\n",
    "- Дата скачивания анкеты, создания анкеты и последней активности пользователя - бесполезная аналитическая ифнормация веб-сайта\n",
    "- Месяц регистрации - не влияет на стомость, так как важен год. \n",
    "- Количество фотографий - все значения нулевые.\n",
    "- Почтовый индекс владельца - не относится к качеству машины."
   ]
  },
  {
   "cell_type": "code",
   "execution_count": 9,
   "metadata": {},
   "outputs": [
    {
     "data": {
      "text/plain": [
       "Index(['price', 'vehicle_type', 'registration_year', 'gear_box', 'power',\n",
       "       'model', 'kilometer', 'fuel_type', 'brand', 'repaired'],\n",
       "      dtype='object')"
      ]
     },
     "execution_count": 9,
     "metadata": {},
     "output_type": "execute_result"
    }
   ],
   "source": [
    "df['date_crawled'] = pd.to_datetime(df['date_crawled'])\n",
    "df_backup = df.copy()\n",
    "\n",
    "df.drop(['date_crawled', 'registration_month', 'date_created', 'number_of_pictures', \n",
    "         'postal_code', 'last_seen'], axis=1, inplace=True)\n",
    "df.columns"
   ]
  },
  {
   "cell_type": "markdown",
   "metadata": {},
   "source": [
    "<div class=\"alert alert-block alert-success\">\n",
    "<b>Успех:</b> Удалить неинформативные признаки - верное решение.\n",
    "</div>"
   ]
  },
  {
   "cell_type": "markdown",
   "metadata": {},
   "source": [
    "### Изменение типа данных"
   ]
  },
  {
   "cell_type": "code",
   "execution_count": 10,
   "metadata": {},
   "outputs": [
    {
     "data": {
      "text/html": [
       "<div>\n",
       "<style scoped>\n",
       "    .dataframe tbody tr th:only-of-type {\n",
       "        vertical-align: middle;\n",
       "    }\n",
       "\n",
       "    .dataframe tbody tr th {\n",
       "        vertical-align: top;\n",
       "    }\n",
       "\n",
       "    .dataframe thead th {\n",
       "        text-align: right;\n",
       "    }\n",
       "</style>\n",
       "<table border=\"1\" class=\"dataframe\">\n",
       "  <thead>\n",
       "    <tr style=\"text-align: right;\">\n",
       "      <th></th>\n",
       "      <th>price</th>\n",
       "      <th>registration_year</th>\n",
       "      <th>power</th>\n",
       "      <th>kilometer</th>\n",
       "    </tr>\n",
       "  </thead>\n",
       "  <tbody>\n",
       "    <tr>\n",
       "      <th>count</th>\n",
       "      <td>354365.000000</td>\n",
       "      <td>354365.000000</td>\n",
       "      <td>354365.000000</td>\n",
       "      <td>354365.000000</td>\n",
       "    </tr>\n",
       "    <tr>\n",
       "      <th>mean</th>\n",
       "      <td>4416.679830</td>\n",
       "      <td>2004.234481</td>\n",
       "      <td>110.093816</td>\n",
       "      <td>128211.363989</td>\n",
       "    </tr>\n",
       "    <tr>\n",
       "      <th>std</th>\n",
       "      <td>4514.176349</td>\n",
       "      <td>90.228466</td>\n",
       "      <td>189.851330</td>\n",
       "      <td>37905.083858</td>\n",
       "    </tr>\n",
       "    <tr>\n",
       "      <th>min</th>\n",
       "      <td>0.000000</td>\n",
       "      <td>1000.000000</td>\n",
       "      <td>0.000000</td>\n",
       "      <td>5000.000000</td>\n",
       "    </tr>\n",
       "    <tr>\n",
       "      <th>25%</th>\n",
       "      <td>1050.000000</td>\n",
       "      <td>1999.000000</td>\n",
       "      <td>69.000000</td>\n",
       "      <td>125000.000000</td>\n",
       "    </tr>\n",
       "    <tr>\n",
       "      <th>50%</th>\n",
       "      <td>2700.000000</td>\n",
       "      <td>2003.000000</td>\n",
       "      <td>105.000000</td>\n",
       "      <td>150000.000000</td>\n",
       "    </tr>\n",
       "    <tr>\n",
       "      <th>75%</th>\n",
       "      <td>6400.000000</td>\n",
       "      <td>2008.000000</td>\n",
       "      <td>143.000000</td>\n",
       "      <td>150000.000000</td>\n",
       "    </tr>\n",
       "    <tr>\n",
       "      <th>max</th>\n",
       "      <td>20000.000000</td>\n",
       "      <td>9999.000000</td>\n",
       "      <td>20000.000000</td>\n",
       "      <td>150000.000000</td>\n",
       "    </tr>\n",
       "  </tbody>\n",
       "</table>\n",
       "</div>"
      ],
      "text/plain": [
       "               price  registration_year          power      kilometer\n",
       "count  354365.000000      354365.000000  354365.000000  354365.000000\n",
       "mean     4416.679830        2004.234481     110.093816  128211.363989\n",
       "std      4514.176349          90.228466     189.851330   37905.083858\n",
       "min         0.000000        1000.000000       0.000000    5000.000000\n",
       "25%      1050.000000        1999.000000      69.000000  125000.000000\n",
       "50%      2700.000000        2003.000000     105.000000  150000.000000\n",
       "75%      6400.000000        2008.000000     143.000000  150000.000000\n",
       "max     20000.000000        9999.000000   20000.000000  150000.000000"
      ]
     },
     "metadata": {},
     "output_type": "display_data"
    },
    {
     "name": "stdout",
     "output_type": "stream",
     "text": [
      "<class 'pandas.core.frame.DataFrame'>\n",
      "Int64Index: 354365 entries, 0 to 354368\n",
      "Data columns (total 10 columns):\n",
      " #   Column             Non-Null Count   Dtype \n",
      "---  ------             --------------   ----- \n",
      " 0   price              354365 non-null  int64 \n",
      " 1   vehicle_type       316875 non-null  object\n",
      " 2   registration_year  354365 non-null  int64 \n",
      " 3   gear_box           334532 non-null  object\n",
      " 4   power              354365 non-null  int64 \n",
      " 5   model              334660 non-null  object\n",
      " 6   kilometer          354365 non-null  int64 \n",
      " 7   fuel_type          321470 non-null  object\n",
      " 8   brand              354365 non-null  object\n",
      " 9   repaired           283211 non-null  object\n",
      "dtypes: int64(4), object(6)\n",
      "memory usage: 29.7+ MB\n"
     ]
    }
   ],
   "source": [
    "display(df.describe())\n",
    "df.info()"
   ]
  },
  {
   "cell_type": "markdown",
   "metadata": {},
   "source": [
    "Некоторые столбцы имеет слишком длинный(64 бита) тип данных, его можно уменьшить для сокращения размера данных.\n",
    "\n",
    "Для `price` `registration_year` `power` - int16 - до 30 тысяч.\n",
    "\n",
    "Для большого значения километража - int32"
   ]
  },
  {
   "cell_type": "code",
   "execution_count": 11,
   "metadata": {},
   "outputs": [
    {
     "name": "stdout",
     "output_type": "stream",
     "text": [
      "<class 'pandas.core.frame.DataFrame'>\n",
      "Int64Index: 354365 entries, 0 to 354368\n",
      "Data columns (total 10 columns):\n",
      " #   Column             Non-Null Count   Dtype \n",
      "---  ------             --------------   ----- \n",
      " 0   price              354365 non-null  int16 \n",
      " 1   vehicle_type       316875 non-null  object\n",
      " 2   registration_year  354365 non-null  int16 \n",
      " 3   gear_box           334532 non-null  object\n",
      " 4   power              354365 non-null  int16 \n",
      " 5   model              334660 non-null  object\n",
      " 6   kilometer          354365 non-null  int32 \n",
      " 7   fuel_type          321470 non-null  object\n",
      " 8   brand              354365 non-null  object\n",
      " 9   repaired           283211 non-null  object\n",
      "dtypes: int16(3), int32(1), object(6)\n",
      "memory usage: 22.3+ MB\n"
     ]
    }
   ],
   "source": [
    "df['price'] = df['price'].astype(\"int16\")\n",
    "df['registration_year'] = df['registration_year'].astype(\"int16\")\n",
    "df['power'] = df['power'].astype(\"int16\")\n",
    "df['kilometer'] = df['kilometer'].astype(\"int32\")\n",
    "df.describe()\n",
    "df.info()"
   ]
  },
  {
   "cell_type": "markdown",
   "metadata": {},
   "source": [
    "### Заполнение пропусков"
   ]
  },
  {
   "cell_type": "markdown",
   "metadata": {},
   "source": [
    "Есть пропуски в столбцах: `vehicle_type gear_box model fuel_type repaired` заменим их на категорию **unknown**"
   ]
  },
  {
   "cell_type": "code",
   "execution_count": 12,
   "metadata": {},
   "outputs": [],
   "source": [
    "def fill_unkwn(df, features):\n",
    "    df[f'{features}'].fillna('unknown', inplace=True)\n",
    "    display(df[f'{features}'].value_counts().head(10))"
   ]
  },
  {
   "cell_type": "code",
   "execution_count": 13,
   "metadata": {},
   "outputs": [
    {
     "data": {
      "text/plain": [
       "manual    268249\n",
       "auto       66283\n",
       "Name: gear_box, dtype: int64"
      ]
     },
     "metadata": {},
     "output_type": "display_data"
    },
    {
     "data": {
      "text/plain": [
       "manual     268249\n",
       "auto        66283\n",
       "unknown     19833\n",
       "Name: gear_box, dtype: int64"
      ]
     },
     "metadata": {},
     "output_type": "display_data"
    }
   ],
   "source": [
    "display(df['gear_box'].value_counts())\n",
    "fill_unkwn(df,'gear_box')"
   ]
  },
  {
   "cell_type": "code",
   "execution_count": 14,
   "metadata": {},
   "outputs": [
    {
     "data": {
      "text/plain": [
       "golf        29232\n",
       "other       24420\n",
       "3er         19761\n",
       "polo        13066\n",
       "corsa       12570\n",
       "astra       10809\n",
       "passat      10145\n",
       "a4           9900\n",
       "c_klasse     8312\n",
       "5er          7868\n",
       "Name: model, dtype: int64"
      ]
     },
     "metadata": {},
     "output_type": "display_data"
    },
    {
     "data": {
      "text/plain": [
       "golf        29232\n",
       "other       24420\n",
       "3er         19761\n",
       "unknown     19705\n",
       "polo        13066\n",
       "corsa       12570\n",
       "astra       10809\n",
       "passat      10145\n",
       "a4           9900\n",
       "c_klasse     8312\n",
       "Name: model, dtype: int64"
      ]
     },
     "metadata": {},
     "output_type": "display_data"
    }
   ],
   "source": [
    "display(df['model'].value_counts().head(10))\n",
    "fill_unkwn(df,'model')"
   ]
  },
  {
   "cell_type": "code",
   "execution_count": 15,
   "metadata": {},
   "outputs": [
    {
     "data": {
      "text/plain": [
       "sedan          91457\n",
       "small          79830\n",
       "wagon          65165\n",
       "bus            28775\n",
       "convertible    20203\n",
       "coupe          16161\n",
       "suv            11996\n",
       "other           3288\n",
       "Name: vehicle_type, dtype: int64"
      ]
     },
     "metadata": {},
     "output_type": "display_data"
    },
    {
     "data": {
      "text/plain": [
       "sedan          91457\n",
       "small          79830\n",
       "wagon          65165\n",
       "unknown        37490\n",
       "bus            28775\n",
       "convertible    20203\n",
       "coupe          16161\n",
       "suv            11996\n",
       "other           3288\n",
       "Name: vehicle_type, dtype: int64"
      ]
     },
     "metadata": {},
     "output_type": "display_data"
    }
   ],
   "source": [
    "display(df['vehicle_type'].value_counts())\n",
    "fill_unkwn(df,'vehicle_type')"
   ]
  },
  {
   "cell_type": "code",
   "execution_count": 16,
   "metadata": {},
   "outputs": [
    {
     "data": {
      "text/plain": [
       "petrol      216349\n",
       "gasoline     98719\n",
       "lpg           5310\n",
       "cng            565\n",
       "hybrid         233\n",
       "other          204\n",
       "electric        90\n",
       "Name: fuel_type, dtype: int64"
      ]
     },
     "execution_count": 16,
     "metadata": {},
     "output_type": "execute_result"
    }
   ],
   "source": [
    "df['fuel_type'].value_counts()"
   ]
  },
  {
   "cell_type": "markdown",
   "metadata": {},
   "source": [
    "Мы можем понять что ``Petrol and Gasoline``- это один тип топлива."
   ]
  },
  {
   "cell_type": "code",
   "execution_count": 17,
   "metadata": {},
   "outputs": [
    {
     "data": {
      "text/plain": [
       "gasoline    315068\n",
       "unknown      32895\n",
       "lpg           5310\n",
       "cng            565\n",
       "hybrid         233\n",
       "other          204\n",
       "electric        90\n",
       "Name: fuel_type, dtype: int64"
      ]
     },
     "metadata": {},
     "output_type": "display_data"
    }
   ],
   "source": [
    "df['fuel_type'] = np.where(df['fuel_type'] == 'petrol','gasoline',df['fuel_type'])\n",
    "fill_unkwn(df,'fuel_type')"
   ]
  },
  {
   "cell_type": "code",
   "execution_count": 18,
   "metadata": {},
   "outputs": [
    {
     "data": {
      "text/plain": [
       "no     247158\n",
       "yes     36053\n",
       "Name: repaired, dtype: int64"
      ]
     },
     "metadata": {},
     "output_type": "display_data"
    },
    {
     "data": {
      "text/plain": [
       "no         247158\n",
       "unknown     71154\n",
       "yes         36053\n",
       "Name: repaired, dtype: int64"
      ]
     },
     "metadata": {},
     "output_type": "display_data"
    }
   ],
   "source": [
    "display(df['repaired'].value_counts())\n",
    "fill_unkwn(df,'repaired')"
   ]
  },
  {
   "cell_type": "markdown",
   "metadata": {},
   "source": [
    "Проверим остались ли пропуски:"
   ]
  },
  {
   "cell_type": "code",
   "execution_count": 19,
   "metadata": {},
   "outputs": [
    {
     "data": {
      "text/plain": [
       "price                0\n",
       "vehicle_type         0\n",
       "registration_year    0\n",
       "gear_box             0\n",
       "power                0\n",
       "model                0\n",
       "kilometer            0\n",
       "fuel_type            0\n",
       "brand                0\n",
       "repaired             0\n",
       "dtype: int64"
      ]
     },
     "execution_count": 19,
     "metadata": {},
     "output_type": "execute_result"
    }
   ],
   "source": [
    "df.isnull().sum()"
   ]
  },
  {
   "cell_type": "markdown",
   "metadata": {},
   "source": [
    "Все отлично, данные отчистили."
   ]
  },
  {
   "cell_type": "markdown",
   "metadata": {},
   "source": [
    "<div class=\"alert alert-block alert-success\">\n",
    "<b>Успех:</b> Пропуски обработаны хорошим образом\n",
    "</div>\n"
   ]
  },
  {
   "cell_type": "markdown",
   "metadata": {},
   "source": [
    "### Аномалии"
   ]
  },
  {
   "cell_type": "markdown",
   "metadata": {},
   "source": [
    "Рассмотрим все возможные значения признаков:"
   ]
  },
  {
   "cell_type": "code",
   "execution_count": 20,
   "metadata": {},
   "outputs": [
    {
     "data": {
      "text/html": [
       "<div>\n",
       "<style scoped>\n",
       "    .dataframe tbody tr th:only-of-type {\n",
       "        vertical-align: middle;\n",
       "    }\n",
       "\n",
       "    .dataframe tbody tr th {\n",
       "        vertical-align: top;\n",
       "    }\n",
       "\n",
       "    .dataframe thead th {\n",
       "        text-align: right;\n",
       "    }\n",
       "</style>\n",
       "<table border=\"1\" class=\"dataframe\">\n",
       "  <thead>\n",
       "    <tr style=\"text-align: right;\">\n",
       "      <th></th>\n",
       "      <th>price</th>\n",
       "      <th>registration_year</th>\n",
       "      <th>power</th>\n",
       "      <th>kilometer</th>\n",
       "    </tr>\n",
       "  </thead>\n",
       "  <tbody>\n",
       "    <tr>\n",
       "      <th>count</th>\n",
       "      <td>354365.000000</td>\n",
       "      <td>354365.000000</td>\n",
       "      <td>354365.000000</td>\n",
       "      <td>354365.000000</td>\n",
       "    </tr>\n",
       "    <tr>\n",
       "      <th>mean</th>\n",
       "      <td>4416.679830</td>\n",
       "      <td>2004.234481</td>\n",
       "      <td>110.093816</td>\n",
       "      <td>128211.363989</td>\n",
       "    </tr>\n",
       "    <tr>\n",
       "      <th>std</th>\n",
       "      <td>4514.176349</td>\n",
       "      <td>90.228466</td>\n",
       "      <td>189.851330</td>\n",
       "      <td>37905.083858</td>\n",
       "    </tr>\n",
       "    <tr>\n",
       "      <th>min</th>\n",
       "      <td>0.000000</td>\n",
       "      <td>1000.000000</td>\n",
       "      <td>0.000000</td>\n",
       "      <td>5000.000000</td>\n",
       "    </tr>\n",
       "    <tr>\n",
       "      <th>25%</th>\n",
       "      <td>1050.000000</td>\n",
       "      <td>1999.000000</td>\n",
       "      <td>69.000000</td>\n",
       "      <td>125000.000000</td>\n",
       "    </tr>\n",
       "    <tr>\n",
       "      <th>50%</th>\n",
       "      <td>2700.000000</td>\n",
       "      <td>2003.000000</td>\n",
       "      <td>105.000000</td>\n",
       "      <td>150000.000000</td>\n",
       "    </tr>\n",
       "    <tr>\n",
       "      <th>75%</th>\n",
       "      <td>6400.000000</td>\n",
       "      <td>2008.000000</td>\n",
       "      <td>143.000000</td>\n",
       "      <td>150000.000000</td>\n",
       "    </tr>\n",
       "    <tr>\n",
       "      <th>max</th>\n",
       "      <td>20000.000000</td>\n",
       "      <td>9999.000000</td>\n",
       "      <td>20000.000000</td>\n",
       "      <td>150000.000000</td>\n",
       "    </tr>\n",
       "  </tbody>\n",
       "</table>\n",
       "</div>"
      ],
      "text/plain": [
       "               price  registration_year          power      kilometer\n",
       "count  354365.000000      354365.000000  354365.000000  354365.000000\n",
       "mean     4416.679830        2004.234481     110.093816  128211.363989\n",
       "std      4514.176349          90.228466     189.851330   37905.083858\n",
       "min         0.000000        1000.000000       0.000000    5000.000000\n",
       "25%      1050.000000        1999.000000      69.000000  125000.000000\n",
       "50%      2700.000000        2003.000000     105.000000  150000.000000\n",
       "75%      6400.000000        2008.000000     143.000000  150000.000000\n",
       "max     20000.000000        9999.000000   20000.000000  150000.000000"
      ]
     },
     "execution_count": 20,
     "metadata": {},
     "output_type": "execute_result"
    }
   ],
   "source": [
    "df.describe()"
   ]
  },
  {
   "cell_type": "markdown",
   "metadata": {},
   "source": [
    "Напишем функцию для вывода двух графиков"
   ]
  },
  {
   "cell_type": "code",
   "execution_count": 21,
   "metadata": {},
   "outputs": [],
   "source": [
    "def plot(param,bins,x,y,title,xlim1,xlim2):\n",
    "    plt.figure(figsize=(10,5))\n",
    "    ax = sb.boxplot(x=param)\n",
    "    ax.set(xlabel= x, title= title,xlim=xlim1)\n",
    "    plt.show()\n",
    "    plt.figure(figsize=(10,5))\n",
    "    ax = sb.distplot(param, kde=False, bins=bins)\n",
    "    ax.set(xlabel=x, ylabel=y, title=title,xlim=xlim2)"
   ]
  },
  {
   "cell_type": "markdown",
   "metadata": {},
   "source": [
    "<div class=\"alert alert-block alert-info\">\n",
    "<b>Совет:</b> \n",
    "\n",
    " Советую обратить внимание на библиотеки sweetviz и pandas_profiling помогут в проведении более тщательного EDA анализа. Исследовательский анализ можно делать и с помощью ручного вызова функций дефолтных библиотек. Данные библиотеки хороши для максимизации комфорта презентации результатов анализа бизнес-пользователям. \n",
    "    \n",
    "Очень просты в использоовании, на вход кладется датафрейм: pandas_profiling.ProfileReport(df) \n",
    "</div>"
   ]
  },
  {
   "cell_type": "markdown",
   "metadata": {},
   "source": [
    "#### Цены"
   ]
  },
  {
   "cell_type": "markdown",
   "metadata": {},
   "source": [
    "Рассмотрим цены автомобилей на графиках"
   ]
  },
  {
   "cell_type": "code",
   "execution_count": 22,
   "metadata": {},
   "outputs": [
    {
     "data": {
      "image/png": "[encoded data removed]",
      "text/plain": [
       "<Figure size 1000x500 with 1 Axes>"
      ]
     },
     "metadata": {},
     "output_type": "display_data"
    },
    {
     "data": {
      "image/png": "[encoded data removed]",
      "text/plain": [
       "<Figure size 1000x500 with 1 Axes>"
      ]
     },
     "metadata": {},
     "output_type": "display_data"
    }
   ],
   "source": [
    "plot(df['price'],50,\"Цена\",\"Частота\",'Распредлеение цены',(None),(None))"
   ]
  },
  {
   "cell_type": "markdown",
   "metadata": {},
   "source": [
    "По графику заметно, что есть нулевые значения цены, чего быть не может, хотя я бы купил машину за 0 рублей. Рассмотрим количество нулевых значений:"
   ]
  },
  {
   "cell_type": "code",
   "execution_count": 23,
   "metadata": {},
   "outputs": [
    {
     "name": "stdout",
     "output_type": "stream",
     "text": [
      "Количество нулевых значений: 10772\n"
     ]
    }
   ],
   "source": [
    "print(f\"Количество нулевых значений: {df.query('price == 0')['price'].count()}\")"
   ]
  },
  {
   "cell_type": "markdown",
   "metadata": {},
   "source": [
    "Удалим эти данные, так как они бесполезны для предсказания цен автомобилей"
   ]
  },
  {
   "cell_type": "code",
   "execution_count": 24,
   "metadata": {},
   "outputs": [
    {
     "name": "stdout",
     "output_type": "stream",
     "text": [
      "Количество нулевых значений: 0\n"
     ]
    }
   ],
   "source": [
    "df_clear = df.query('price != 0')\n",
    "print(f\"Количество нулевых значений: {df_clear.query('price == 0')['price'].count()}\")"
   ]
  },
  {
   "cell_type": "markdown",
   "metadata": {},
   "source": [
    "<div class=\"alert alert-block alert-success\">\n",
    "<b>Успех:</b>  А около-нулевые цены, не кажется подозрительными? Самое интересное, что на нескольких сайтов по продажам подержанных автомобилей в Германии (страну можно определить по почтовым индексам, большинство из них из Германии) показало, что цены начинаются действительно с 0 и 1 евро, но это единичные объявления и не понятно, то ли это ошибка при заполнении формы, то ли машины на металлолом. Но я  все-таки склоняюсь к тому, чтобы избавиться от таких данных\n",
    "</div>"
   ]
  },
  {
   "cell_type": "markdown",
   "metadata": {},
   "source": [
    "#### Пробег"
   ]
  },
  {
   "cell_type": "code",
   "execution_count": 25,
   "metadata": {},
   "outputs": [
    {
     "data": {
      "image/png": "[encoded data removed]",
      "text/plain": [
       "<Figure size 1000x500 with 1 Axes>"
      ]
     },
     "metadata": {},
     "output_type": "display_data"
    },
    {
     "data": {
      "image/png": "[encoded data removed]",
      "text/plain": [
       "<Figure size 1000x500 with 1 Axes>"
      ]
     },
     "metadata": {},
     "output_type": "display_data"
    }
   ],
   "source": [
    "plot(df_clear['kilometer'],150,\"Пробег, км\",\"Частота\",'Распредлеение километража',xlim1= (None),xlim2=(None))"
   ]
  },
  {
   "cell_type": "markdown",
   "metadata": {},
   "source": [
    "По графикам можно сказать что все нормально с данными о пробеге. "
   ]
  },
  {
   "cell_type": "markdown",
   "metadata": {},
   "source": [
    "####  Год регистрации"
   ]
  },
  {
   "cell_type": "code",
   "execution_count": 26,
   "metadata": {},
   "outputs": [
    {
     "data": {
      "image/png": "[encoded data removed]",
      "text/plain": [
       "<Figure size 1000x500 with 1 Axes>"
      ]
     },
     "metadata": {},
     "output_type": "display_data"
    },
    {
     "data": {
      "image/png": "[encoded data removed]",
      "text/plain": [
       "<Figure size 1000x500 with 1 Axes>"
      ]
     },
     "metadata": {},
     "output_type": "display_data"
    }
   ],
   "source": [
    "plot(df_clear['registration_year'],1000,\"Год регистрации\",\"Частота\",'Распредлеение',(None),(1950, 2023))"
   ]
  },
  {
   "cell_type": "markdown",
   "metadata": {},
   "source": [
    "Машины не могут быть заргестрированы раньше, чем 2016 год, так как из датасета можно узнать, что анкеты загружались `только в 2016 году`. \n",
    "\n",
    "Также машины старше 1960 года скорее всего уже не продают, это могут быть уже продажи на выстовках.\n",
    "\n",
    "Рассмотрим сколько анкет лежат между 1960 и 2023 годом:"
   ]
  },
  {
   "cell_type": "code",
   "execution_count": 27,
   "metadata": {},
   "outputs": [
    {
     "data": {
      "text/plain": [
       "90713    2016-04-07 14:36:58\n",
       "339649   2016-04-07 14:36:56\n",
       "301030   2016-04-07 14:36:55\n",
       "53739    2016-04-07 14:36:54\n",
       "204218   2016-04-07 14:36:53\n",
       "                 ...        \n",
       "324763   2016-03-05 14:06:24\n",
       "176823   2016-03-05 14:06:24\n",
       "99885    2016-03-05 14:06:24\n",
       "220583   2016-03-05 14:06:23\n",
       "329497   2016-03-05 14:06:22\n",
       "Name: date_crawled, Length: 354365, dtype: datetime64[ns]"
      ]
     },
     "execution_count": 27,
     "metadata": {},
     "output_type": "execute_result"
    }
   ],
   "source": [
    "df_backup[\"date_crawled\"].sort_values(ascending = False)"
   ]
  },
  {
   "cell_type": "code",
   "execution_count": 28,
   "metadata": {},
   "outputs": [
    {
     "name": "stdout",
     "output_type": "stream",
     "text": [
      "Количество анкет: 23223\n"
     ]
    }
   ],
   "source": [
    "print(f\"Количество анкет: {df_clear.query('registration_year >= 2016 or registration_year <= 1960')['registration_year'].count()}\")"
   ]
  },
  {
   "cell_type": "markdown",
   "metadata": {},
   "source": [
    "Удалим линшнее, так как оно маловероятно. "
   ]
  },
  {
   "cell_type": "code",
   "execution_count": 29,
   "metadata": {},
   "outputs": [],
   "source": [
    "df_clear = df_clear.query('registration_year >= 1960 and registration_year <= 2016')"
   ]
  },
  {
   "cell_type": "markdown",
   "metadata": {},
   "source": [
    "\n",
    "<div class=\"alert alert-block alert-info\">\n",
    "<b>Совет:</b> Советую посмотреть на дату выгрузки анкет - там тоже можно увидеть полезную информацию по поводу границ года регистраци.\n",
    "</div>\n"
   ]
  },
  {
   "cell_type": "markdown",
   "metadata": {},
   "source": [
    "<div class=\"alert alert-block alert-warning\">\n",
    "<b>Комментарий студента:</b> Время выгрузки анкет рассмотрено, в данном случае актуальный год - 2016\n",
    "</div>\n",
    "\n",
    "<div class=\"alert alert-block alert-warning\">\n",
    "<b>Изменения:</b> Были изменены границы рассматриваемого интервала лет.\n",
    "</div>\n"
   ]
  },
  {
   "cell_type": "markdown",
   "metadata": {},
   "source": [
    "<div class=\"alert alert-block alert-success\">\n",
    "    \n",
    "<b>Успех[2]:</b> 👍\n",
    "</div>"
   ]
  },
  {
   "cell_type": "code",
   "execution_count": 30,
   "metadata": {},
   "outputs": [
    {
     "data": {
      "image/png": "[encoded data removed]",
      "text/plain": [
       "<Figure size 1000x500 with 1 Axes>"
      ]
     },
     "metadata": {},
     "output_type": "display_data"
    },
    {
     "data": {
      "image/png": "[encoded data removed]",
      "text/plain": [
       "<Figure size 1000x500 with 1 Axes>"
      ]
     },
     "metadata": {},
     "output_type": "display_data"
    }
   ],
   "source": [
    "plot(df_clear['registration_year'],25,\"Год регистрации\",\"Частота\",'Распредлеение',(None),(1960, 2016))\n"
   ]
  },
  {
   "cell_type": "markdown",
   "metadata": {},
   "source": [
    "На данный момент распредление выглядит лучше, а выбросов стало меньше. "
   ]
  },
  {
   "cell_type": "markdown",
   "metadata": {},
   "source": [
    "#### Мощность автомобиля"
   ]
  },
  {
   "cell_type": "code",
   "execution_count": 31,
   "metadata": {},
   "outputs": [
    {
     "data": {
      "image/png": "[encoded data removed]",
      "text/plain": [
       "<Figure size 1000x500 with 1 Axes>"
      ]
     },
     "metadata": {},
     "output_type": "display_data"
    },
    {
     "data": {
      "image/png": "[encoded data removed]",
      "text/plain": [
       "<Figure size 1000x500 with 1 Axes>"
      ]
     },
     "metadata": {},
     "output_type": "display_data"
    }
   ],
   "source": [
    "plot(df_clear['power'],500,\"Мощность\",\"Частота\",'Распредлеение мощности',xlim1= (None),xlim2=(-1,1000))"
   ]
  },
  {
   "cell_type": "markdown",
   "metadata": {},
   "source": [
    "Рассмотрим околонулевые значения, на данный момент есть старые машины у которых минимальное количество л.с, например Subaru 360 равняется 18 л.с.\n",
    "\n",
    "А в то же вермя абсолютное большинство это 1000 л.с. - например у Феррари.\n",
    "\n",
    "Будем считать как адекватные все значения, которые больше 18."
   ]
  },
  {
   "cell_type": "markdown",
   "metadata": {},
   "source": [
    "<div class=\"alert alert-block alert-info\">\n",
    "<b>Совет:</b>  Вопрос на подумать: Как думаешь а машины с 0-ой мощностью могут быть просто без двигателя?\n",
    "</div>"
   ]
  },
  {
   "cell_type": "markdown",
   "metadata": {},
   "source": [
    "<div class=\"alert alert-block alert-warning\">\n",
    "<b>Комментарий студента:</b> Мне кажется в анкете указывают характеристики оригинальной модели, иначе полезно было бы добавить признак оригинальности автомобиля, сообщающий о том внесены ли изменения в изначальную комплектацию. Например, остутствие двигателя было бы тюнингом)) \n",
    "    \n",
    "Иначе становится непонятно ошибся клиент или нет.\n",
    "</div>"
   ]
  },
  {
   "cell_type": "markdown",
   "metadata": {},
   "source": [
    "<div class=\"alert alert-block alert-success\">\n",
    "    \n",
    "<b>Успех[2]:</b> Согласен)\n",
    "</div>"
   ]
  },
  {
   "cell_type": "code",
   "execution_count": 32,
   "metadata": {},
   "outputs": [
    {
     "name": "stdout",
     "output_type": "stream",
     "text": [
      "Нулевая мощность: 32731\n",
      "Мощность больше тысячи л.с.: 261\n"
     ]
    }
   ],
   "source": [
    "nul = (df_clear.query('power == 0')[\"power\"].count())\n",
    "print('Нулевая мощность:', nul)\n",
    "non_real = (df_clear.query('power > 1000')[\"power\"].count())\n",
    "print('Мощность больше тысячи л.с.:', non_real)"
   ]
  },
  {
   "cell_type": "markdown",
   "metadata": {},
   "source": [
    "Уберем аномальные значения:"
   ]
  },
  {
   "cell_type": "code",
   "execution_count": 33,
   "metadata": {},
   "outputs": [
    {
     "name": "stdout",
     "output_type": "stream",
     "text": [
      "Количество пропусков: 33350\n"
     ]
    }
   ],
   "source": [
    "df_clear.loc[(df_clear['power'] > 1000), 'power'] = 0\n",
    "df_clear.loc[(df_clear['power'] <= 18), 'power'] = 0\n",
    "df_clear['power'].replace(0, np.nan, inplace=True)\n",
    "print(f\"Количество пропусков: {df_clear['power'].isna().sum()}\")"
   ]
  },
  {
   "cell_type": "markdown",
   "metadata": {},
   "source": [
    "Сгруппируем данные по всем характеристикам автомобилей и возьмем медиану каждой отдельной марке автомобиля для заполнения пропусков такой же марки:"
   ]
  },
  {
   "cell_type": "code",
   "execution_count": 34,
   "metadata": {},
   "outputs": [],
   "source": [
    "for_fill = df_clear.groupby(['brand', 'model', 'fuel_type', 'gear_box','registration_year', 'vehicle_type'])['power']\\\n",
    "           .transform('median')\n",
    "df_clear['power'].fillna(for_fill, inplace=True)"
   ]
  },
  {
   "cell_type": "code",
   "execution_count": 35,
   "metadata": {},
   "outputs": [
    {
     "data": {
      "text/plain": [
       "7861"
      ]
     },
     "metadata": {},
     "output_type": "display_data"
    },
    {
     "name": "stdout",
     "output_type": "stream",
     "text": [
      "float64\n"
     ]
    }
   ],
   "source": [
    "display(df_clear['power'].isna().sum())\n",
    "df_clear.dropna(inplace=True)\n",
    "print(df_clear['power'].dtypes)\n",
    "df_clear['power'] = df_clear['power'].astype(\"int16\")"
   ]
  },
  {
   "cell_type": "markdown",
   "metadata": {},
   "source": [
    "Переведем из float в int после заполнения пропусков, так как медиана считала числа с плавющей точкой."
   ]
  },
  {
   "cell_type": "code",
   "execution_count": 36,
   "metadata": {},
   "outputs": [
    {
     "name": "stdout",
     "output_type": "stream",
     "text": [
      "Количество NaN в столбце 'power': 0\n"
     ]
    }
   ],
   "source": [
    "print(f\"Количество NaN в столбце 'power': {df_clear['power'].isna().sum()}\")"
   ]
  },
  {
   "cell_type": "markdown",
   "metadata": {},
   "source": [
    "Здачи этой главы были **выполнены**: столбцы переименованы, удалены неинформативные признаки, пропуски и аномалии обработаны."
   ]
  },
  {
   "cell_type": "markdown",
   "metadata": {},
   "source": [
    "\n",
    "<div class=\"alert alert-block alert-success\">\n",
    "<b>Успех:</b> В целом хорошая, детальная предобработка - идем дальше\n",
    "</div>"
   ]
  },
  {
   "cell_type": "markdown",
   "metadata": {},
   "source": [
    "## Обучение моделей"
   ]
  },
  {
   "cell_type": "markdown",
   "metadata": {},
   "source": [
    "Подготовим данные для обучения, для этого:\n",
    "- Закодируем категориальные данные\n",
    "- Разделим данные на выборки\n",
    "- Отмаштабируем данные"
   ]
  },
  {
   "cell_type": "code",
   "execution_count": 37,
   "metadata": {},
   "outputs": [],
   "source": [
    "df_OE = df_clear.copy()\n",
    "df_OHE = df_clear.copy()"
   ]
  },
  {
   "cell_type": "markdown",
   "metadata": {},
   "source": [
    "\n",
    "<div class=\"alert alert-block alert-danger\">\n",
    "    \n",
    "\n",
    "<b>Ошибка:</b> OE - хороший выбор для всех моделей, кроме линейных, они не могут корректно обрабатывать номинальные данные обработанные порядковым способом. Для них хорош OHE, но тот же OHE нельзя применять для всех других моделей здесь (потому что не эффективно, с точки зрения времени)\n",
    "  \n",
    "\n",
    "Я тебе могу предложить, что можно сделать:\n",
    "    \n",
    "- Сделать 1 набор данных: \n",
    "    - Закодировать для всех моделей методом TargetEncoder, BinaryEncoder - вполне универсальные варианты\n",
    "    - Закодировать все признаки методом OHE, а модель машины методом OE\n",
    "    - Убрать использование линейных моделей (так как их рассмотрение не обязательно) и использовать единственный метод кодировки OE.\n",
    "- Сделать 2 набора данных\n",
    "    - Закодировать для линейных моделей методом OHE, для остальных OE (или внутренний метод кодирования данных)\n",
    "    \n",
    "P.S. Отмечу, что encoder правильно применять после разбиения данных и обучать только на обучающей выборке, для остальных выборок просто использовать transform. Примеры использования с объяснениями можно найти посмотреь https://colab.research.google.com/drive/1_gAMXcQKoCShB_l8FNtYEejMnosm9mvt?usp=sharing\n",
    "  \n",
    "</div>\n"
   ]
  },
  {
   "cell_type": "markdown",
   "metadata": {},
   "source": [
    "<div class=\"alert alert-block alert-warning\">\n",
    "<b>Комментарий студента:</b> Понял, тогда следует рассмотреть отдельные выборки  для линейных и других моделей.\n",
    "</div>\n",
    "\n",
    "<div class=\"alert alert-block alert-warning\">\n",
    "<b>Изменения:</b> Были внесены некоторые изменения:\n",
    "    \n",
    "- Encoder используется после разбиения на выборки.\n",
    "- Для разных моделей используется разный тип кодирования\n",
    "- Добавлены функции для повторяющихся действий. \n",
    "\n",
    "</div>\n"
   ]
  },
  {
   "cell_type": "markdown",
   "metadata": {},
   "source": [
    "<div class=\"alert alert-block alert-success\">\n",
    "    \n",
    "<b>Успех[2]:</b> Принял, пойдем смотреть\n",
    "</div>"
   ]
  },
  {
   "cell_type": "markdown",
   "metadata": {},
   "source": [
    "Разобьем на признаки и таргет:"
   ]
  },
  {
   "cell_type": "code",
   "execution_count": 38,
   "metadata": {},
   "outputs": [],
   "source": [
    "def separate_set(df):\n",
    "    target = df['price']\n",
    "    features = df.drop('price', axis=1)\n",
    "    \n",
    "    features_train, features_check,target_train,target_check = \\\n",
    "    train_test_split(features, target, test_size=0.4, random_state=12345)\n",
    "    \n",
    "    features_test, features_valid, target_test, target_valid = \\\n",
    "    train_test_split(features_check, target_check, test_size=0.5,random_state=12345)\n",
    "    \n",
    "    return features_train, features_valid, features_test, target_train, target_valid, target_test"
   ]
  },
  {
   "cell_type": "code",
   "execution_count": 39,
   "metadata": {},
   "outputs": [],
   "source": [
    "features_train, features_valid, features_test, target_train, target_valid, target_test = separate_set(df_clear)\n",
    "features_train_OE, features_valid_OE, features_test_OE, target_train_OE, target_valid_OE, target_test_OE = separate_set(df_OE) "
   ]
  },
  {
   "cell_type": "markdown",
   "metadata": {},
   "source": [
    "Разделение на выборки для OHE произведем после кодирования, чтобы количество столбцов было одинаково так как некоторые категории можно потерять "
   ]
  },
  {
   "cell_type": "markdown",
   "metadata": {},
   "source": [
    "Проверим правильность разделения выборки:"
   ]
  },
  {
   "cell_type": "code",
   "execution_count": 40,
   "metadata": {},
   "outputs": [
    {
     "name": "stdout",
     "output_type": "stream",
     "text": [
      "Процент обучающей выборки: 60.00\n",
      "Процент тестовой выборки: 20.00\n",
      "Процент валидационной выборки: 20.00\n"
     ]
    }
   ],
   "source": [
    "full = (features_train_OE.shape[0]+features_test_OE.shape[0]+features_valid_OE.shape[0])\n",
    "print(f\"Процент обучающей выборки: {(features_train_OE.shape[0]*100/full):.2f}\")\n",
    "print(f\"Процент тестовой выборки: {(features_test_OE.shape[0]*100/full):.2f}\")\n",
    "print(f\"Процент валидационной выборки: {(features_valid_OE.shape[0]*100/full):.2f}\")"
   ]
  },
  {
   "cell_type": "markdown",
   "metadata": {},
   "source": [
    "Выполним OE and OHE кодирование"
   ]
  },
  {
   "cell_type": "code",
   "execution_count": 41,
   "metadata": {},
   "outputs": [],
   "source": [
    "categori = ['vehicle_type', 'gear_box', 'model', 'fuel_type', 'brand', 'repaired']\n",
    "encoder = OrdinalEncoder()\n",
    "encoder.fit(features_train[categori])\n",
    "features_train_OE[categori] = encoder.transform(features_train_OE[categori])\n",
    "features_valid_OE[categori] = encoder.transform(features_valid_OE[categori])\n",
    "features_test_OE[categori] = encoder.transform(features_test_OE[categori])"
   ]
  },
  {
   "cell_type": "markdown",
   "metadata": {},
   "source": [
    "<div class=\"alert alert-block alert-success\">\n",
    "    \n",
    "<b>Успех[2]:</b> 👍\n",
    "</div>"
   ]
  },
  {
   "cell_type": "code",
   "execution_count": 42,
   "metadata": {},
   "outputs": [],
   "source": [
    "def OHE_transform(df,categori):\n",
    "    df_OHE_done = pd.get_dummies(df[categori])\n",
    "    return df.drop(categori , axis = 1).join(df_OHE_done)"
   ]
  },
  {
   "cell_type": "markdown",
   "metadata": {},
   "source": [
    "\n",
    "<div class=\"alert alert-block alert-info\">\n",
    "    \n",
    "<b>Совет[2]:</b> Также как аналог pd.get_dummies хочу посоветовать обратить внимание на OneHotEncoder от sklearn (это более сложный и продвинутый инструмент). Здесь можно посмотреть примеры https://colab.research.google.com/drive/1_gAMXcQKoCShB_l8FNtYEejMnosm9mvt?usp=sharing\n",
    "</div>"
   ]
  },
  {
   "cell_type": "code",
   "execution_count": 43,
   "metadata": {},
   "outputs": [],
   "source": [
    "df_OHE = OHE_transform(df_OHE,categori)\n",
    "features_train_OHE, features_valid_OHE, features_test_OHE, target_train_OHE, target_valid_OHE, target_test_OHE = separate_set(df_OHE)"
   ]
  },
  {
   "cell_type": "markdown",
   "metadata": {},
   "source": [
    "Произведено два типа кодирования:\n",
    "- OHE - для линейный моделей\n",
    "- OE - для остальных моделей"
   ]
  },
  {
   "cell_type": "markdown",
   "metadata": {},
   "source": [
    "Маштабируем данные:"
   ]
  },
  {
   "cell_type": "code",
   "execution_count": 44,
   "metadata": {},
   "outputs": [
    {
     "data": {
      "text/html": [
       "<div>\n",
       "<style scoped>\n",
       "    .dataframe tbody tr th:only-of-type {\n",
       "        vertical-align: middle;\n",
       "    }\n",
       "\n",
       "    .dataframe tbody tr th {\n",
       "        vertical-align: top;\n",
       "    }\n",
       "\n",
       "    .dataframe thead th {\n",
       "        text-align: right;\n",
       "    }\n",
       "</style>\n",
       "<table border=\"1\" class=\"dataframe\">\n",
       "  <thead>\n",
       "    <tr style=\"text-align: right;\">\n",
       "      <th></th>\n",
       "      <th>registration_year</th>\n",
       "      <th>power</th>\n",
       "      <th>kilometer</th>\n",
       "    </tr>\n",
       "  </thead>\n",
       "  <tbody>\n",
       "    <tr>\n",
       "      <th>175323</th>\n",
       "      <td>0.809682</td>\n",
       "      <td>-0.265543</td>\n",
       "      <td>0.578444</td>\n",
       "    </tr>\n",
       "    <tr>\n",
       "      <th>28405</th>\n",
       "      <td>1.425930</td>\n",
       "      <td>-0.615443</td>\n",
       "      <td>-2.403822</td>\n",
       "    </tr>\n",
       "    <tr>\n",
       "      <th>321823</th>\n",
       "      <td>-0.268752</td>\n",
       "      <td>-1.094253</td>\n",
       "      <td>0.578444</td>\n",
       "    </tr>\n",
       "    <tr>\n",
       "      <th>330080</th>\n",
       "      <td>-0.576877</td>\n",
       "      <td>-0.062970</td>\n",
       "      <td>0.578444</td>\n",
       "    </tr>\n",
       "    <tr>\n",
       "      <th>227841</th>\n",
       "      <td>0.193434</td>\n",
       "      <td>-0.062970</td>\n",
       "      <td>0.578444</td>\n",
       "    </tr>\n",
       "    <tr>\n",
       "      <th>...</th>\n",
       "      <td>...</td>\n",
       "      <td>...</td>\n",
       "      <td>...</td>\n",
       "    </tr>\n",
       "    <tr>\n",
       "      <th>175023</th>\n",
       "      <td>0.501558</td>\n",
       "      <td>0.802571</td>\n",
       "      <td>0.578444</td>\n",
       "    </tr>\n",
       "    <tr>\n",
       "      <th>52810</th>\n",
       "      <td>0.963744</td>\n",
       "      <td>-0.191880</td>\n",
       "      <td>0.578444</td>\n",
       "    </tr>\n",
       "    <tr>\n",
       "      <th>95156</th>\n",
       "      <td>0.501558</td>\n",
       "      <td>-0.468117</td>\n",
       "      <td>-1.861592</td>\n",
       "    </tr>\n",
       "    <tr>\n",
       "      <th>85118</th>\n",
       "      <td>0.039372</td>\n",
       "      <td>-0.431285</td>\n",
       "      <td>-0.099344</td>\n",
       "    </tr>\n",
       "    <tr>\n",
       "      <th>239808</th>\n",
       "      <td>-0.576877</td>\n",
       "      <td>-0.339206</td>\n",
       "      <td>0.578444</td>\n",
       "    </tr>\n",
       "  </tbody>\n",
       "</table>\n",
       "<p>192967 rows × 3 columns</p>\n",
       "</div>"
      ],
      "text/plain": [
       "        registration_year     power  kilometer\n",
       "175323           0.809682 -0.265543   0.578444\n",
       "28405            1.425930 -0.615443  -2.403822\n",
       "321823          -0.268752 -1.094253   0.578444\n",
       "330080          -0.576877 -0.062970   0.578444\n",
       "227841           0.193434 -0.062970   0.578444\n",
       "...                   ...       ...        ...\n",
       "175023           0.501558  0.802571   0.578444\n",
       "52810            0.963744 -0.191880   0.578444\n",
       "95156            0.501558 -0.468117  -1.861592\n",
       "85118            0.039372 -0.431285  -0.099344\n",
       "239808          -0.576877 -0.339206   0.578444\n",
       "\n",
       "[192967 rows x 3 columns]"
      ]
     },
     "metadata": {},
     "output_type": "display_data"
    }
   ],
   "source": [
    "num = ['registration_year', 'power', 'kilometer']\n",
    "scaler = StandardScaler()\n",
    "scaler.fit(features_train_OE[num])\n",
    "features_train_OE[num] = scaler.transform(features_train_OE[num])\n",
    "features_test_OE[num] = scaler.transform(features_test_OE[num])\n",
    "features_valid_OE[num] = scaler.transform(features_valid_OE[num])\n",
    "scaler.fit(features_train_OHE[num])\n",
    "features_train_OHE[num] = scaler.transform(features_train_OHE[num])\n",
    "features_test_OHE[num] = scaler.transform(features_test_OHE[num])\n",
    "features_valid_OHE[num] = scaler.transform(features_valid_OHE[num])\n",
    "\n",
    "display(features_train_OE[num])"
   ]
  },
  {
   "cell_type": "markdown",
   "metadata": {},
   "source": [
    "<div class=\"alert alert-block alert-success\">\n",
    "<b>Успех:</b> Отлично, что scaler обучен только на трейне\n",
    "</div>\n"
   ]
  },
  {
   "cell_type": "markdown",
   "metadata": {},
   "source": [
    "### Обучение линейной регрессии"
   ]
  },
  {
   "cell_type": "code",
   "execution_count": 45,
   "metadata": {},
   "outputs": [
    {
     "name": "stdout",
     "output_type": "stream",
     "text": [
      "2603.2848035313586\n",
      "Wall time: 1.44 s\n"
     ]
    }
   ],
   "source": [
    "%%time \n",
    "LR = LinearRegression()\n",
    "LR.fit(features_train_OHE, target_train_OHE)\n",
    "predictions = LR.predict(features_valid_OHE)\n",
    "print(np.sqrt(mean_squared_error(target_valid_OHE, predictions)))"
   ]
  },
  {
   "cell_type": "markdown",
   "metadata": {},
   "source": [
    "### Обучение LGBM"
   ]
  },
  {
   "cell_type": "code",
   "execution_count": 46,
   "metadata": {},
   "outputs": [
    {
     "name": "stdout",
     "output_type": "stream",
     "text": [
      "Depth = 5 Estimators = 50 RMSE = 1831.9015268613866\n",
      "Depth = 5 Estimators = 60 RMSE = 1796.115670390643\n",
      "Depth = 5 Estimators = 70 RMSE = 1772.8160273850065\n",
      "Depth = 5 Estimators = 80 RMSE = 1760.6882784804054\n",
      "Depth = 5 Estimators = 90 RMSE = 1749.8449303561458\n",
      "Depth = 5 Estimators = 100 RMSE = 1738.967405659127\n",
      "Depth = 5 Estimators = 110 RMSE = 1732.237225090232\n",
      "Depth = 9 Estimators = 50 RMSE = 1770.7871794970072\n",
      "Depth = 9 Estimators = 60 RMSE = 1743.8019217456742\n",
      "Depth = 9 Estimators = 70 RMSE = 1726.6634237317296\n",
      "Depth = 9 Estimators = 80 RMSE = 1713.7203865445958\n",
      "Depth = 9 Estimators = 90 RMSE = 1703.6383250718907\n",
      "Depth = 9 Estimators = 100 RMSE = 1693.0272552504618\n",
      "Depth = 9 Estimators = 110 RMSE = 1684.0187305697436\n",
      "Depth = 13 Estimators = 50 RMSE = 1771.4227106893497\n",
      "Depth = 13 Estimators = 60 RMSE = 1745.837100766427\n",
      "Depth = 13 Estimators = 70 RMSE = 1724.7015668346312\n",
      "Depth = 13 Estimators = 80 RMSE = 1711.8400157752235\n",
      "Depth = 13 Estimators = 90 RMSE = 1700.4622077869547\n",
      "Depth = 13 Estimators = 100 RMSE = 1689.8262065894155\n",
      "Depth = 13 Estimators = 110 RMSE = 1682.4818404959258\n",
      "Depth = 17 Estimators = 50 RMSE = 1771.4406219598736\n",
      "Depth = 17 Estimators = 60 RMSE = 1746.3598051519928\n",
      "Depth = 17 Estimators = 70 RMSE = 1725.6190537988118\n",
      "Depth = 17 Estimators = 80 RMSE = 1712.0549702376577\n",
      "Depth = 17 Estimators = 90 RMSE = 1701.853111313369\n",
      "Depth = 17 Estimators = 100 RMSE = 1691.7805100964447\n",
      "Depth = 17 Estimators = 110 RMSE = 1682.5857523697396\n",
      "Best Depth = 13 Best Estimators = 110 Best RMSE = 1682.4818404959258\n",
      "Wall time: 9.37 s\n"
     ]
    }
   ],
   "source": [
    "%%time \n",
    "h_rmse = 10000\n",
    "h_depth = 0\n",
    "h_est = 0\n",
    "depth = 0\n",
    "est = 0\n",
    "for depth in range(5, 20, 4):\n",
    "    for est in range(50, 120, 10):\n",
    "        LGBMR = LGBMRegressor(max_depth=depth, n_estimators=est, random_state=12345)\n",
    "        LGBMR.fit(features_train_OE, target_train_OE)\n",
    "        predictions = LGBMR.predict(features_valid_OE)\n",
    "            \n",
    "        rmse = np.sqrt(mean_squared_error(target_valid_OE, predictions))\n",
    "       \n",
    "        print('Depth =', depth, 'Estimators =', est, 'RMSE =', rmse)\n",
    "        \n",
    "        if (h_rmse  > rmse):\n",
    "            h_rmse = rmse\n",
    "            h_est = est\n",
    "            h_depth = depth\n",
    "            \n",
    "print('Best Depth =', h_depth, 'Best Estimators =', h_est, 'Best RMSE =', h_rmse)\n",
    " "
   ]
  },
  {
   "cell_type": "markdown",
   "metadata": {},
   "source": [
    "Рассмотрим отдельно и рассчитаем время обучения, предсказания и метрику RMSE на лучших гиперпараметрах:"
   ]
  },
  {
   "cell_type": "code",
   "execution_count": 47,
   "metadata": {},
   "outputs": [
    {
     "name": "stdout",
     "output_type": "stream",
     "text": [
      "Время обучения LGBM:\n",
      "Wall time: 361 ms\n"
     ]
    }
   ],
   "source": [
    "%%time\n",
    "LGBMR = LGBMRegressor(max_depth=13, n_estimators=110, random_state=12345)\n",
    "LGBMR.fit(features_train_OE, target_train_OE)\n",
    "print(\"Время обучения LGBM:\")"
   ]
  },
  {
   "cell_type": "code",
   "execution_count": 48,
   "metadata": {},
   "outputs": [
    {
     "name": "stdout",
     "output_type": "stream",
     "text": [
      "Best depth =  13 Best estimators =  110 RMSE =  1682.4818404959258\n",
      "Время предсказания LGBM:\n",
      "Wall time: 44 ms\n"
     ]
    }
   ],
   "source": [
    "%%time\n",
    "predictions = LGBMR.predict(features_valid_OE)\n",
    "\n",
    "rmse = np.sqrt(mean_squared_error(target_valid_OE, predictions))\n",
    "\n",
    "print('Best depth = ', 13, 'Best estimators = ' , 110, 'RMSE = ', rmse)\n",
    "print(\"Время предсказания LGBM:\")"
   ]
  },
  {
   "cell_type": "markdown",
   "metadata": {},
   "source": [
    "Лучший результат для LightGBM: `Depth = 13` `Best Estimators = 110` при значениях `RMSE = 1682.48`.\n",
    "\n",
    "Также при выбранных параметрах: \n",
    "- Время обучения : 361 ms\n",
    "- Время предсказания : 44 ms"
   ]
  },
  {
   "cell_type": "markdown",
   "metadata": {},
   "source": [
    "### Обучение CatBoost"
   ]
  },
  {
   "cell_type": "code",
   "execution_count": 49,
   "metadata": {
    "scrolled": true
   },
   "outputs": [
    {
     "name": "stdout",
     "output_type": "stream",
     "text": [
      "Learning rate set to 0.5\n",
      "0:\tlearn: 3322.8924155\ttotal: 138ms\tremaining: 6.74s\n",
      "1:\tlearn: 2704.7172971\ttotal: 146ms\tremaining: 3.5s\n",
      "2:\tlearn: 2452.9893586\ttotal: 154ms\tremaining: 2.42s\n",
      "3:\tlearn: 2305.0293499\ttotal: 162ms\tremaining: 1.86s\n",
      "4:\tlearn: 2227.5695187\ttotal: 169ms\tremaining: 1.52s\n",
      "5:\tlearn: 2161.8741898\ttotal: 178ms\tremaining: 1.3s\n",
      "6:\tlearn: 2119.2051375\ttotal: 185ms\tremaining: 1.14s\n",
      "7:\tlearn: 2089.6020046\ttotal: 194ms\tremaining: 1.02s\n",
      "8:\tlearn: 2056.4428118\ttotal: 203ms\tremaining: 926ms\n",
      "9:\tlearn: 2034.4397557\ttotal: 211ms\tremaining: 846ms\n",
      "10:\tlearn: 2019.9519088\ttotal: 219ms\tremaining: 777ms\n",
      "11:\tlearn: 1991.2163853\ttotal: 227ms\tremaining: 720ms\n",
      "12:\tlearn: 1970.2490076\ttotal: 236ms\tremaining: 670ms\n",
      "13:\tlearn: 1961.6615122\ttotal: 243ms\tremaining: 625ms\n",
      "14:\tlearn: 1949.0162409\ttotal: 251ms\tremaining: 585ms\n",
      "15:\tlearn: 1928.3563179\ttotal: 259ms\tremaining: 551ms\n",
      "16:\tlearn: 1912.9727842\ttotal: 268ms\tremaining: 520ms\n",
      "17:\tlearn: 1901.4197105\ttotal: 276ms\tremaining: 491ms\n",
      "18:\tlearn: 1892.9589113\ttotal: 285ms\tremaining: 465ms\n",
      "19:\tlearn: 1884.8471855\ttotal: 293ms\tremaining: 439ms\n",
      "20:\tlearn: 1877.4929868\ttotal: 301ms\tremaining: 416ms\n",
      "21:\tlearn: 1872.4266625\ttotal: 309ms\tremaining: 393ms\n",
      "22:\tlearn: 1864.3654090\ttotal: 318ms\tremaining: 373ms\n",
      "23:\tlearn: 1858.1822182\ttotal: 327ms\tremaining: 354ms\n",
      "24:\tlearn: 1851.7844685\ttotal: 334ms\tremaining: 334ms\n",
      "25:\tlearn: 1843.7645509\ttotal: 342ms\tremaining: 315ms\n",
      "26:\tlearn: 1840.3390051\ttotal: 350ms\tremaining: 298ms\n",
      "27:\tlearn: 1836.0148404\ttotal: 358ms\tremaining: 281ms\n",
      "28:\tlearn: 1828.4843653\ttotal: 367ms\tremaining: 266ms\n",
      "29:\tlearn: 1822.0925990\ttotal: 375ms\tremaining: 250ms\n",
      "30:\tlearn: 1817.5942803\ttotal: 383ms\tremaining: 235ms\n",
      "31:\tlearn: 1813.3285352\ttotal: 392ms\tremaining: 220ms\n",
      "32:\tlearn: 1808.6236804\ttotal: 401ms\tremaining: 206ms\n",
      "33:\tlearn: 1804.7328618\ttotal: 409ms\tremaining: 192ms\n",
      "34:\tlearn: 1798.6970469\ttotal: 417ms\tremaining: 179ms\n",
      "35:\tlearn: 1796.2680722\ttotal: 426ms\tremaining: 166ms\n",
      "36:\tlearn: 1793.2697726\ttotal: 435ms\tremaining: 153ms\n",
      "37:\tlearn: 1791.2465374\ttotal: 442ms\tremaining: 140ms\n",
      "38:\tlearn: 1784.0929259\ttotal: 451ms\tremaining: 127ms\n",
      "39:\tlearn: 1781.2758442\ttotal: 460ms\tremaining: 115ms\n",
      "40:\tlearn: 1779.0828460\ttotal: 468ms\tremaining: 103ms\n",
      "41:\tlearn: 1774.9958735\ttotal: 476ms\tremaining: 90.7ms\n",
      "42:\tlearn: 1771.2165171\ttotal: 484ms\tremaining: 78.8ms\n",
      "43:\tlearn: 1766.9268459\ttotal: 493ms\tremaining: 67.3ms\n",
      "44:\tlearn: 1763.5226668\ttotal: 501ms\tremaining: 55.7ms\n",
      "45:\tlearn: 1761.2503668\ttotal: 509ms\tremaining: 44.3ms\n",
      "46:\tlearn: 1757.9531330\ttotal: 516ms\tremaining: 33ms\n",
      "47:\tlearn: 1755.0630847\ttotal: 524ms\tremaining: 21.8ms\n",
      "48:\tlearn: 1752.8161139\ttotal: 533ms\tremaining: 10.9ms\n",
      "49:\tlearn: 1750.6811750\ttotal: 541ms\tremaining: 0us\n",
      "Depth = 5 Iteration = 50 RMSE = 1768.5661184013213\n",
      "Learning rate set to 0.5\n",
      "0:\tlearn: 3322.8924155\ttotal: 8.51ms\tremaining: 502ms\n",
      "1:\tlearn: 2704.7172971\ttotal: 17ms\tremaining: 493ms\n",
      "2:\tlearn: 2452.9893586\ttotal: 24.7ms\tremaining: 470ms\n",
      "3:\tlearn: 2305.0293499\ttotal: 32.1ms\tremaining: 449ms\n",
      "4:\tlearn: 2227.5695187\ttotal: 39.9ms\tremaining: 439ms\n",
      "5:\tlearn: 2161.8741898\ttotal: 47.9ms\tremaining: 431ms\n",
      "6:\tlearn: 2119.2051375\ttotal: 55.9ms\tremaining: 423ms\n",
      "7:\tlearn: 2089.6020046\ttotal: 64ms\tremaining: 416ms\n",
      "8:\tlearn: 2056.4428118\ttotal: 73ms\tremaining: 414ms\n",
      "9:\tlearn: 2034.4397557\ttotal: 80.9ms\tremaining: 404ms\n",
      "10:\tlearn: 2019.9519088\ttotal: 88.9ms\tremaining: 396ms\n",
      "11:\tlearn: 1991.2163853\ttotal: 97.1ms\tremaining: 388ms\n",
      "12:\tlearn: 1970.2490076\ttotal: 105ms\tremaining: 379ms\n",
      "13:\tlearn: 1961.6615122\ttotal: 112ms\tremaining: 369ms\n",
      "14:\tlearn: 1949.0162409\ttotal: 121ms\tremaining: 362ms\n",
      "15:\tlearn: 1928.3563179\ttotal: 129ms\tremaining: 356ms\n",
      "16:\tlearn: 1912.9727842\ttotal: 138ms\tremaining: 350ms\n",
      "17:\tlearn: 1901.4197105\ttotal: 147ms\tremaining: 342ms\n",
      "18:\tlearn: 1892.9589113\ttotal: 155ms\tremaining: 335ms\n",
      "19:\tlearn: 1884.8471855\ttotal: 163ms\tremaining: 326ms\n",
      "20:\tlearn: 1877.4929868\ttotal: 172ms\tremaining: 319ms\n",
      "21:\tlearn: 1872.4266625\ttotal: 180ms\tremaining: 311ms\n",
      "22:\tlearn: 1864.3654090\ttotal: 188ms\tremaining: 302ms\n",
      "23:\tlearn: 1858.1822182\ttotal: 196ms\tremaining: 295ms\n",
      "24:\tlearn: 1851.7844685\ttotal: 204ms\tremaining: 285ms\n",
      "25:\tlearn: 1843.7645509\ttotal: 211ms\tremaining: 276ms\n",
      "26:\tlearn: 1840.3390051\ttotal: 219ms\tremaining: 267ms\n",
      "27:\tlearn: 1836.0148404\ttotal: 226ms\tremaining: 258ms\n",
      "28:\tlearn: 1828.4843653\ttotal: 234ms\tremaining: 250ms\n",
      "29:\tlearn: 1822.0925990\ttotal: 242ms\tremaining: 242ms\n",
      "30:\tlearn: 1817.5942803\ttotal: 250ms\tremaining: 234ms\n",
      "31:\tlearn: 1813.3285352\ttotal: 259ms\tremaining: 227ms\n",
      "32:\tlearn: 1808.6236804\ttotal: 268ms\tremaining: 220ms\n",
      "33:\tlearn: 1804.7328618\ttotal: 277ms\tremaining: 212ms\n",
      "34:\tlearn: 1798.6970469\ttotal: 285ms\tremaining: 204ms\n",
      "35:\tlearn: 1796.2680722\ttotal: 292ms\tremaining: 195ms\n",
      "36:\tlearn: 1793.2697726\ttotal: 301ms\tremaining: 187ms\n",
      "37:\tlearn: 1791.2465374\ttotal: 309ms\tremaining: 179ms\n",
      "38:\tlearn: 1784.0929259\ttotal: 319ms\tremaining: 172ms\n",
      "39:\tlearn: 1781.2758442\ttotal: 327ms\tremaining: 164ms\n",
      "40:\tlearn: 1779.0828460\ttotal: 335ms\tremaining: 155ms\n",
      "41:\tlearn: 1774.9958735\ttotal: 344ms\tremaining: 148ms\n",
      "42:\tlearn: 1771.2165171\ttotal: 353ms\tremaining: 140ms\n",
      "43:\tlearn: 1766.9268459\ttotal: 363ms\tremaining: 132ms\n",
      "44:\tlearn: 1763.5226668\ttotal: 372ms\tremaining: 124ms\n",
      "45:\tlearn: 1761.2503668\ttotal: 380ms\tremaining: 116ms\n",
      "46:\tlearn: 1757.9531330\ttotal: 388ms\tremaining: 107ms\n",
      "47:\tlearn: 1755.0630847\ttotal: 396ms\tremaining: 99ms\n",
      "48:\tlearn: 1752.8161139\ttotal: 405ms\tremaining: 90.8ms\n",
      "49:\tlearn: 1750.6811750\ttotal: 412ms\tremaining: 82.4ms\n",
      "50:\tlearn: 1748.5836467\ttotal: 421ms\tremaining: 74.2ms\n",
      "51:\tlearn: 1746.5522443\ttotal: 429ms\tremaining: 65.9ms\n",
      "52:\tlearn: 1743.2952652\ttotal: 437ms\tremaining: 57.7ms\n",
      "53:\tlearn: 1739.4737187\ttotal: 445ms\tremaining: 49.4ms\n",
      "54:\tlearn: 1738.2637141\ttotal: 453ms\tremaining: 41.1ms\n",
      "55:\tlearn: 1737.1376011\ttotal: 460ms\tremaining: 32.9ms\n",
      "56:\tlearn: 1734.5210190\ttotal: 470ms\tremaining: 24.7ms\n",
      "57:\tlearn: 1732.6625574\ttotal: 478ms\tremaining: 16.5ms\n",
      "58:\tlearn: 1731.2323487\ttotal: 487ms\tremaining: 8.26ms\n",
      "59:\tlearn: 1730.1439771\ttotal: 496ms\tremaining: 0us\n",
      "Depth = 5 Iteration = 60 RMSE = 1750.1110128616597\n",
      "Learning rate set to 0.5\n",
      "0:\tlearn: 3322.8924155\ttotal: 8.43ms\tremaining: 582ms\n",
      "1:\tlearn: 2704.7172971\ttotal: 16.8ms\tremaining: 572ms\n",
      "2:\tlearn: 2452.9893586\ttotal: 24.6ms\tremaining: 549ms\n",
      "3:\tlearn: 2305.0293499\ttotal: 31.7ms\tremaining: 523ms\n",
      "4:\tlearn: 2227.5695187\ttotal: 40.3ms\tremaining: 523ms\n",
      "5:\tlearn: 2161.8741898\ttotal: 47.9ms\tremaining: 511ms\n",
      "6:\tlearn: 2119.2051375\ttotal: 56.1ms\tremaining: 505ms\n",
      "7:\tlearn: 2089.6020046\ttotal: 63.9ms\tremaining: 495ms\n",
      "8:\tlearn: 2056.4428118\ttotal: 73.7ms\tremaining: 500ms\n",
      "9:\tlearn: 2034.4397557\ttotal: 82ms\tremaining: 492ms\n",
      "10:\tlearn: 2019.9519088\ttotal: 89.8ms\tremaining: 482ms\n",
      "11:\tlearn: 1991.2163853\ttotal: 98.7ms\tremaining: 477ms\n",
      "12:\tlearn: 1970.2490076\ttotal: 106ms\tremaining: 466ms\n",
      "13:\tlearn: 1961.6615122\ttotal: 114ms\tremaining: 458ms\n",
      "14:\tlearn: 1949.0162409\ttotal: 123ms\tremaining: 449ms\n",
      "15:\tlearn: 1928.3563179\ttotal: 131ms\tremaining: 443ms\n",
      "16:\tlearn: 1912.9727842\ttotal: 140ms\tremaining: 437ms\n",
      "17:\tlearn: 1901.4197105\ttotal: 148ms\tremaining: 428ms\n",
      "18:\tlearn: 1892.9589113\ttotal: 157ms\tremaining: 422ms\n",
      "19:\tlearn: 1884.8471855\ttotal: 165ms\tremaining: 413ms\n",
      "20:\tlearn: 1877.4929868\ttotal: 173ms\tremaining: 404ms\n",
      "21:\tlearn: 1872.4266625\ttotal: 181ms\tremaining: 395ms\n",
      "22:\tlearn: 1864.3654090\ttotal: 189ms\tremaining: 387ms\n",
      "23:\tlearn: 1858.1822182\ttotal: 198ms\tremaining: 380ms\n",
      "24:\tlearn: 1851.7844685\ttotal: 206ms\tremaining: 370ms\n",
      "25:\tlearn: 1843.7645509\ttotal: 213ms\tremaining: 360ms\n",
      "26:\tlearn: 1840.3390051\ttotal: 220ms\tremaining: 351ms\n",
      "27:\tlearn: 1836.0148404\ttotal: 228ms\tremaining: 341ms\n",
      "28:\tlearn: 1828.4843653\ttotal: 236ms\tremaining: 334ms\n",
      "29:\tlearn: 1822.0925990\ttotal: 244ms\tremaining: 326ms\n",
      "30:\tlearn: 1817.5942803\ttotal: 253ms\tremaining: 318ms\n",
      "31:\tlearn: 1813.3285352\ttotal: 261ms\tremaining: 310ms\n",
      "32:\tlearn: 1808.6236804\ttotal: 269ms\tremaining: 302ms\n",
      "33:\tlearn: 1804.7328618\ttotal: 278ms\tremaining: 294ms\n",
      "34:\tlearn: 1798.6970469\ttotal: 287ms\tremaining: 287ms\n",
      "35:\tlearn: 1796.2680722\ttotal: 295ms\tremaining: 278ms\n",
      "36:\tlearn: 1793.2697726\ttotal: 304ms\tremaining: 271ms\n",
      "37:\tlearn: 1791.2465374\ttotal: 312ms\tremaining: 262ms\n",
      "38:\tlearn: 1784.0929259\ttotal: 321ms\tremaining: 256ms\n"
     ]
    },
    {
     "name": "stdout",
     "output_type": "stream",
     "text": [
      "39:\tlearn: 1781.2758442\ttotal: 330ms\tremaining: 248ms\n",
      "40:\tlearn: 1779.0828460\ttotal: 339ms\tremaining: 240ms\n",
      "41:\tlearn: 1774.9958735\ttotal: 348ms\tremaining: 232ms\n",
      "42:\tlearn: 1771.2165171\ttotal: 356ms\tremaining: 224ms\n",
      "43:\tlearn: 1766.9268459\ttotal: 366ms\tremaining: 216ms\n",
      "44:\tlearn: 1763.5226668\ttotal: 374ms\tremaining: 208ms\n",
      "45:\tlearn: 1761.2503668\ttotal: 382ms\tremaining: 199ms\n",
      "46:\tlearn: 1757.9531330\ttotal: 391ms\tremaining: 191ms\n",
      "47:\tlearn: 1755.0630847\ttotal: 400ms\tremaining: 183ms\n",
      "48:\tlearn: 1752.8161139\ttotal: 409ms\tremaining: 175ms\n",
      "49:\tlearn: 1750.6811750\ttotal: 418ms\tremaining: 167ms\n",
      "50:\tlearn: 1748.5836467\ttotal: 427ms\tremaining: 159ms\n",
      "51:\tlearn: 1746.5522443\ttotal: 436ms\tremaining: 151ms\n",
      "52:\tlearn: 1743.2952652\ttotal: 445ms\tremaining: 143ms\n",
      "53:\tlearn: 1739.4737187\ttotal: 454ms\tremaining: 135ms\n",
      "54:\tlearn: 1738.2637141\ttotal: 462ms\tremaining: 126ms\n",
      "55:\tlearn: 1737.1376011\ttotal: 471ms\tremaining: 118ms\n",
      "56:\tlearn: 1734.5210190\ttotal: 480ms\tremaining: 109ms\n",
      "57:\tlearn: 1732.6625574\ttotal: 487ms\tremaining: 101ms\n",
      "58:\tlearn: 1731.2323487\ttotal: 497ms\tremaining: 92.6ms\n",
      "59:\tlearn: 1730.1439771\ttotal: 505ms\tremaining: 84.2ms\n",
      "60:\tlearn: 1728.4224134\ttotal: 514ms\tremaining: 75.8ms\n",
      "61:\tlearn: 1726.5418662\ttotal: 522ms\tremaining: 67.4ms\n",
      "62:\tlearn: 1724.2582465\ttotal: 530ms\tremaining: 58.9ms\n",
      "63:\tlearn: 1721.5570178\ttotal: 539ms\tremaining: 50.5ms\n",
      "64:\tlearn: 1719.7198654\ttotal: 548ms\tremaining: 42.1ms\n",
      "65:\tlearn: 1718.2674186\ttotal: 557ms\tremaining: 33.7ms\n",
      "66:\tlearn: 1716.3956874\ttotal: 564ms\tremaining: 25.3ms\n",
      "67:\tlearn: 1715.4279571\ttotal: 572ms\tremaining: 16.8ms\n",
      "68:\tlearn: 1714.1290697\ttotal: 580ms\tremaining: 8.4ms\n",
      "69:\tlearn: 1712.3807659\ttotal: 589ms\tremaining: 0us\n",
      "Depth = 5 Iteration = 70 RMSE = 1734.358972267781\n",
      "Learning rate set to 0.5\n",
      "0:\tlearn: 3322.8924155\ttotal: 16.8ms\tremaining: 1.32s\n",
      "1:\tlearn: 2704.7172971\ttotal: 24.8ms\tremaining: 967ms\n",
      "2:\tlearn: 2452.9893586\ttotal: 33.2ms\tremaining: 852ms\n",
      "3:\tlearn: 2305.0293499\ttotal: 40.9ms\tremaining: 776ms\n",
      "4:\tlearn: 2227.5695187\ttotal: 49.3ms\tremaining: 740ms\n",
      "5:\tlearn: 2161.8741898\ttotal: 57.6ms\tremaining: 711ms\n",
      "6:\tlearn: 2119.2051375\ttotal: 65.8ms\tremaining: 686ms\n",
      "7:\tlearn: 2089.6020046\ttotal: 74.7ms\tremaining: 673ms\n",
      "8:\tlearn: 2056.4428118\ttotal: 85.3ms\tremaining: 673ms\n",
      "9:\tlearn: 2034.4397557\ttotal: 93.7ms\tremaining: 656ms\n",
      "10:\tlearn: 2019.9519088\ttotal: 102ms\tremaining: 637ms\n",
      "11:\tlearn: 1991.2163853\ttotal: 111ms\tremaining: 626ms\n",
      "12:\tlearn: 1970.2490076\ttotal: 119ms\tremaining: 612ms\n",
      "13:\tlearn: 1961.6615122\ttotal: 127ms\tremaining: 600ms\n",
      "14:\tlearn: 1949.0162409\ttotal: 135ms\tremaining: 587ms\n",
      "15:\tlearn: 1928.3563179\ttotal: 144ms\tremaining: 578ms\n",
      "16:\tlearn: 1912.9727842\ttotal: 153ms\tremaining: 569ms\n",
      "17:\tlearn: 1901.4197105\ttotal: 162ms\tremaining: 559ms\n",
      "18:\tlearn: 1892.9589113\ttotal: 172ms\tremaining: 551ms\n",
      "19:\tlearn: 1884.8471855\ttotal: 180ms\tremaining: 540ms\n",
      "20:\tlearn: 1877.4929868\ttotal: 188ms\tremaining: 529ms\n",
      "21:\tlearn: 1872.4266625\ttotal: 197ms\tremaining: 520ms\n",
      "22:\tlearn: 1864.3654090\ttotal: 205ms\tremaining: 509ms\n",
      "23:\tlearn: 1858.1822182\ttotal: 214ms\tremaining: 499ms\n",
      "24:\tlearn: 1851.7844685\ttotal: 221ms\tremaining: 487ms\n",
      "25:\tlearn: 1843.7645509\ttotal: 229ms\tremaining: 475ms\n",
      "26:\tlearn: 1840.3390051\ttotal: 236ms\tremaining: 463ms\n",
      "27:\tlearn: 1836.0148404\ttotal: 243ms\tremaining: 452ms\n",
      "28:\tlearn: 1828.4843653\ttotal: 251ms\tremaining: 442ms\n",
      "29:\tlearn: 1822.0925990\ttotal: 259ms\tremaining: 432ms\n",
      "30:\tlearn: 1817.5942803\ttotal: 267ms\tremaining: 422ms\n",
      "31:\tlearn: 1813.3285352\ttotal: 275ms\tremaining: 413ms\n",
      "32:\tlearn: 1808.6236804\ttotal: 284ms\tremaining: 404ms\n",
      "33:\tlearn: 1804.7328618\ttotal: 293ms\tremaining: 396ms\n",
      "34:\tlearn: 1798.6970469\ttotal: 301ms\tremaining: 387ms\n",
      "35:\tlearn: 1796.2680722\ttotal: 309ms\tremaining: 378ms\n",
      "36:\tlearn: 1793.2697726\ttotal: 317ms\tremaining: 369ms\n",
      "37:\tlearn: 1791.2465374\ttotal: 325ms\tremaining: 359ms\n",
      "38:\tlearn: 1784.0929259\ttotal: 334ms\tremaining: 351ms\n",
      "39:\tlearn: 1781.2758442\ttotal: 342ms\tremaining: 342ms\n",
      "40:\tlearn: 1779.0828460\ttotal: 350ms\tremaining: 333ms\n",
      "41:\tlearn: 1774.9958735\ttotal: 359ms\tremaining: 324ms\n",
      "42:\tlearn: 1771.2165171\ttotal: 367ms\tremaining: 316ms\n",
      "43:\tlearn: 1766.9268459\ttotal: 376ms\tremaining: 307ms\n",
      "44:\tlearn: 1763.5226668\ttotal: 384ms\tremaining: 298ms\n",
      "45:\tlearn: 1761.2503668\ttotal: 391ms\tremaining: 289ms\n",
      "46:\tlearn: 1757.9531330\ttotal: 399ms\tremaining: 280ms\n",
      "47:\tlearn: 1755.0630847\ttotal: 406ms\tremaining: 271ms\n",
      "48:\tlearn: 1752.8161139\ttotal: 415ms\tremaining: 262ms\n",
      "49:\tlearn: 1750.6811750\ttotal: 422ms\tremaining: 253ms\n",
      "50:\tlearn: 1748.5836467\ttotal: 430ms\tremaining: 245ms\n",
      "51:\tlearn: 1746.5522443\ttotal: 438ms\tremaining: 236ms\n",
      "52:\tlearn: 1743.2952652\ttotal: 446ms\tremaining: 227ms\n",
      "53:\tlearn: 1739.4737187\ttotal: 454ms\tremaining: 219ms\n",
      "54:\tlearn: 1738.2637141\ttotal: 461ms\tremaining: 210ms\n",
      "55:\tlearn: 1737.1376011\ttotal: 469ms\tremaining: 201ms\n",
      "56:\tlearn: 1734.5210190\ttotal: 477ms\tremaining: 193ms\n",
      "57:\tlearn: 1732.6625574\ttotal: 485ms\tremaining: 184ms\n",
      "58:\tlearn: 1731.2323487\ttotal: 493ms\tremaining: 176ms\n",
      "59:\tlearn: 1730.1439771\ttotal: 501ms\tremaining: 167ms\n",
      "60:\tlearn: 1728.4224134\ttotal: 510ms\tremaining: 159ms\n",
      "61:\tlearn: 1726.5418662\ttotal: 518ms\tremaining: 150ms\n",
      "62:\tlearn: 1724.2582465\ttotal: 526ms\tremaining: 142ms\n",
      "63:\tlearn: 1721.5570178\ttotal: 534ms\tremaining: 134ms\n",
      "64:\tlearn: 1719.7198654\ttotal: 543ms\tremaining: 125ms\n",
      "65:\tlearn: 1718.2674186\ttotal: 551ms\tremaining: 117ms\n",
      "66:\tlearn: 1716.3956874\ttotal: 559ms\tremaining: 108ms\n",
      "67:\tlearn: 1715.4279571\ttotal: 567ms\tremaining: 100ms\n",
      "68:\tlearn: 1714.1290697\ttotal: 574ms\tremaining: 91.5ms\n",
      "69:\tlearn: 1712.3807659\ttotal: 582ms\tremaining: 83.2ms\n",
      "70:\tlearn: 1711.0063712\ttotal: 590ms\tremaining: 74.8ms\n",
      "71:\tlearn: 1708.9884262\ttotal: 598ms\tremaining: 66.5ms\n",
      "72:\tlearn: 1707.7457391\ttotal: 606ms\tremaining: 58.1ms\n",
      "73:\tlearn: 1706.3237933\ttotal: 614ms\tremaining: 49.8ms\n",
      "74:\tlearn: 1705.1813186\ttotal: 622ms\tremaining: 41.5ms\n",
      "75:\tlearn: 1703.8860538\ttotal: 630ms\tremaining: 33.2ms\n",
      "76:\tlearn: 1702.5356515\ttotal: 639ms\tremaining: 24.9ms\n",
      "77:\tlearn: 1701.5779457\ttotal: 647ms\tremaining: 16.6ms\n",
      "78:\tlearn: 1699.8678830\ttotal: 656ms\tremaining: 8.3ms\n",
      "79:\tlearn: 1698.6858434\ttotal: 664ms\tremaining: 0us\n",
      "Depth = 5 Iteration = 80 RMSE = 1723.96247171162\n",
      "Learning rate set to 0.5\n",
      "0:\tlearn: 3322.8924155\ttotal: 21.5ms\tremaining: 1.92s\n",
      "1:\tlearn: 2704.7172971\ttotal: 30.3ms\tremaining: 1.33s\n",
      "2:\tlearn: 2452.9893586\ttotal: 38.8ms\tremaining: 1.12s\n",
      "3:\tlearn: 2305.0293499\ttotal: 46.8ms\tremaining: 1.01s\n",
      "4:\tlearn: 2227.5695187\ttotal: 55.3ms\tremaining: 939ms\n",
      "5:\tlearn: 2161.8741898\ttotal: 63.3ms\tremaining: 886ms\n",
      "6:\tlearn: 2119.2051375\ttotal: 71.6ms\tremaining: 850ms\n",
      "7:\tlearn: 2089.6020046\ttotal: 79.8ms\tremaining: 818ms\n",
      "8:\tlearn: 2056.4428118\ttotal: 89.5ms\tremaining: 806ms\n",
      "9:\tlearn: 2034.4397557\ttotal: 97.9ms\tremaining: 783ms\n",
      "10:\tlearn: 2019.9519088\ttotal: 106ms\tremaining: 764ms\n",
      "11:\tlearn: 1991.2163853\ttotal: 115ms\tremaining: 749ms\n",
      "12:\tlearn: 1970.2490076\ttotal: 123ms\tremaining: 726ms\n",
      "13:\tlearn: 1961.6615122\ttotal: 130ms\tremaining: 705ms\n",
      "14:\tlearn: 1949.0162409\ttotal: 138ms\tremaining: 688ms\n",
      "15:\tlearn: 1928.3563179\ttotal: 146ms\tremaining: 674ms\n",
      "16:\tlearn: 1912.9727842\ttotal: 154ms\tremaining: 663ms\n",
      "17:\tlearn: 1901.4197105\ttotal: 162ms\tremaining: 649ms\n",
      "18:\tlearn: 1892.9589113\ttotal: 171ms\tremaining: 638ms\n",
      "19:\tlearn: 1884.8471855\ttotal: 179ms\tremaining: 626ms\n",
      "20:\tlearn: 1877.4929868\ttotal: 186ms\tremaining: 613ms\n",
      "21:\tlearn: 1872.4266625\ttotal: 194ms\tremaining: 599ms\n",
      "22:\tlearn: 1864.3654090\ttotal: 202ms\tremaining: 589ms\n",
      "23:\tlearn: 1858.1822182\ttotal: 210ms\tremaining: 578ms\n",
      "24:\tlearn: 1851.7844685\ttotal: 217ms\tremaining: 565ms\n",
      "25:\tlearn: 1843.7645509\ttotal: 225ms\tremaining: 553ms\n",
      "26:\tlearn: 1840.3390051\ttotal: 232ms\tremaining: 541ms\n",
      "27:\tlearn: 1836.0148404\ttotal: 239ms\tremaining: 530ms\n",
      "28:\tlearn: 1828.4843653\ttotal: 248ms\tremaining: 522ms\n",
      "29:\tlearn: 1822.0925990\ttotal: 256ms\tremaining: 511ms\n",
      "30:\tlearn: 1817.5942803\ttotal: 264ms\tremaining: 502ms\n",
      "31:\tlearn: 1813.3285352\ttotal: 272ms\tremaining: 493ms\n",
      "32:\tlearn: 1808.6236804\ttotal: 281ms\tremaining: 485ms\n",
      "33:\tlearn: 1804.7328618\ttotal: 289ms\tremaining: 476ms\n",
      "34:\tlearn: 1798.6970469\ttotal: 297ms\tremaining: 467ms\n",
      "35:\tlearn: 1796.2680722\ttotal: 305ms\tremaining: 457ms\n",
      "36:\tlearn: 1793.2697726\ttotal: 313ms\tremaining: 449ms\n",
      "37:\tlearn: 1791.2465374\ttotal: 321ms\tremaining: 439ms\n",
      "38:\tlearn: 1784.0929259\ttotal: 330ms\tremaining: 431ms\n",
      "39:\tlearn: 1781.2758442\ttotal: 339ms\tremaining: 423ms\n",
      "40:\tlearn: 1779.0828460\ttotal: 346ms\tremaining: 414ms\n",
      "41:\tlearn: 1774.9958735\ttotal: 355ms\tremaining: 406ms\n",
      "42:\tlearn: 1771.2165171\ttotal: 363ms\tremaining: 397ms\n",
      "43:\tlearn: 1766.9268459\ttotal: 371ms\tremaining: 388ms\n",
      "44:\tlearn: 1763.5226668\ttotal: 380ms\tremaining: 380ms\n",
      "45:\tlearn: 1761.2503668\ttotal: 387ms\tremaining: 370ms\n",
      "46:\tlearn: 1757.9531330\ttotal: 395ms\tremaining: 361ms\n",
      "47:\tlearn: 1755.0630847\ttotal: 403ms\tremaining: 352ms\n",
      "48:\tlearn: 1752.8161139\ttotal: 412ms\tremaining: 344ms\n",
      "49:\tlearn: 1750.6811750\ttotal: 420ms\tremaining: 336ms\n",
      "50:\tlearn: 1748.5836467\ttotal: 428ms\tremaining: 328ms\n",
      "51:\tlearn: 1746.5522443\ttotal: 436ms\tremaining: 319ms\n",
      "52:\tlearn: 1743.2952652\ttotal: 444ms\tremaining: 310ms\n"
     ]
    },
    {
     "name": "stdout",
     "output_type": "stream",
     "text": [
      "53:\tlearn: 1739.4737187\ttotal: 453ms\tremaining: 302ms\n",
      "54:\tlearn: 1738.2637141\ttotal: 461ms\tremaining: 293ms\n",
      "55:\tlearn: 1737.1376011\ttotal: 469ms\tremaining: 285ms\n",
      "56:\tlearn: 1734.5210190\ttotal: 477ms\tremaining: 276ms\n",
      "57:\tlearn: 1732.6625574\ttotal: 485ms\tremaining: 268ms\n",
      "58:\tlearn: 1731.2323487\ttotal: 494ms\tremaining: 259ms\n",
      "59:\tlearn: 1730.1439771\ttotal: 502ms\tremaining: 251ms\n",
      "60:\tlearn: 1728.4224134\ttotal: 510ms\tremaining: 242ms\n",
      "61:\tlearn: 1726.5418662\ttotal: 518ms\tremaining: 234ms\n",
      "62:\tlearn: 1724.2582465\ttotal: 526ms\tremaining: 225ms\n",
      "63:\tlearn: 1721.5570178\ttotal: 534ms\tremaining: 217ms\n",
      "64:\tlearn: 1719.7198654\ttotal: 542ms\tremaining: 209ms\n",
      "65:\tlearn: 1718.2674186\ttotal: 551ms\tremaining: 200ms\n",
      "66:\tlearn: 1716.3956874\ttotal: 559ms\tremaining: 192ms\n",
      "67:\tlearn: 1715.4279571\ttotal: 567ms\tremaining: 183ms\n",
      "68:\tlearn: 1714.1290697\ttotal: 574ms\tremaining: 175ms\n",
      "69:\tlearn: 1712.3807659\ttotal: 582ms\tremaining: 166ms\n",
      "70:\tlearn: 1711.0063712\ttotal: 590ms\tremaining: 158ms\n",
      "71:\tlearn: 1708.9884262\ttotal: 598ms\tremaining: 150ms\n",
      "72:\tlearn: 1707.7457391\ttotal: 606ms\tremaining: 141ms\n",
      "73:\tlearn: 1706.3237933\ttotal: 614ms\tremaining: 133ms\n",
      "74:\tlearn: 1705.1813186\ttotal: 622ms\tremaining: 124ms\n",
      "75:\tlearn: 1703.8860538\ttotal: 630ms\tremaining: 116ms\n",
      "76:\tlearn: 1702.5356515\ttotal: 638ms\tremaining: 108ms\n",
      "77:\tlearn: 1701.5779457\ttotal: 646ms\tremaining: 99.4ms\n",
      "78:\tlearn: 1699.8678830\ttotal: 655ms\tremaining: 91.3ms\n",
      "79:\tlearn: 1698.6858434\ttotal: 664ms\tremaining: 83ms\n",
      "80:\tlearn: 1697.6409918\ttotal: 672ms\tremaining: 74.7ms\n",
      "81:\tlearn: 1696.0964098\ttotal: 680ms\tremaining: 66.3ms\n",
      "82:\tlearn: 1695.0264537\ttotal: 688ms\tremaining: 58ms\n",
      "83:\tlearn: 1693.6157598\ttotal: 697ms\tremaining: 49.8ms\n",
      "84:\tlearn: 1692.3795066\ttotal: 706ms\tremaining: 41.5ms\n",
      "85:\tlearn: 1691.4003020\ttotal: 713ms\tremaining: 33.2ms\n",
      "86:\tlearn: 1689.8603188\ttotal: 722ms\tremaining: 24.9ms\n",
      "87:\tlearn: 1688.5407076\ttotal: 730ms\tremaining: 16.6ms\n",
      "88:\tlearn: 1687.7401488\ttotal: 738ms\tremaining: 8.29ms\n",
      "89:\tlearn: 1686.3072399\ttotal: 746ms\tremaining: 0us\n",
      "Depth = 5 Iteration = 90 RMSE = 1714.6755243058935\n",
      "Learning rate set to 0.5\n",
      "0:\tlearn: 3322.8924155\ttotal: 9.23ms\tremaining: 913ms\n",
      "1:\tlearn: 2704.7172971\ttotal: 17.5ms\tremaining: 858ms\n",
      "2:\tlearn: 2452.9893586\ttotal: 25.8ms\tremaining: 835ms\n",
      "3:\tlearn: 2305.0293499\ttotal: 33.4ms\tremaining: 802ms\n",
      "4:\tlearn: 2227.5695187\ttotal: 41.4ms\tremaining: 787ms\n",
      "5:\tlearn: 2161.8741898\ttotal: 49.7ms\tremaining: 779ms\n",
      "6:\tlearn: 2119.2051375\ttotal: 57.7ms\tremaining: 766ms\n",
      "7:\tlearn: 2089.6020046\ttotal: 66.4ms\tremaining: 764ms\n",
      "8:\tlearn: 2056.4428118\ttotal: 75.6ms\tremaining: 765ms\n",
      "9:\tlearn: 2034.4397557\ttotal: 83.9ms\tremaining: 755ms\n",
      "10:\tlearn: 2019.9519088\ttotal: 92.3ms\tremaining: 747ms\n",
      "11:\tlearn: 1991.2163853\ttotal: 101ms\tremaining: 742ms\n",
      "12:\tlearn: 1970.2490076\ttotal: 109ms\tremaining: 730ms\n",
      "13:\tlearn: 1961.6615122\ttotal: 118ms\tremaining: 722ms\n",
      "14:\tlearn: 1949.0162409\ttotal: 126ms\tremaining: 713ms\n",
      "15:\tlearn: 1928.3563179\ttotal: 135ms\tremaining: 707ms\n",
      "16:\tlearn: 1912.9727842\ttotal: 144ms\tremaining: 703ms\n",
      "17:\tlearn: 1901.4197105\ttotal: 152ms\tremaining: 692ms\n",
      "18:\tlearn: 1892.9589113\ttotal: 161ms\tremaining: 687ms\n",
      "19:\tlearn: 1884.8471855\ttotal: 170ms\tremaining: 678ms\n",
      "20:\tlearn: 1877.4929868\ttotal: 178ms\tremaining: 670ms\n",
      "21:\tlearn: 1872.4266625\ttotal: 186ms\tremaining: 660ms\n",
      "22:\tlearn: 1864.3654090\ttotal: 195ms\tremaining: 653ms\n",
      "23:\tlearn: 1858.1822182\ttotal: 204ms\tremaining: 646ms\n",
      "24:\tlearn: 1851.7844685\ttotal: 212ms\tremaining: 635ms\n",
      "25:\tlearn: 1843.7645509\ttotal: 220ms\tremaining: 626ms\n",
      "26:\tlearn: 1840.3390051\ttotal: 228ms\tremaining: 617ms\n",
      "27:\tlearn: 1836.0148404\ttotal: 236ms\tremaining: 608ms\n",
      "28:\tlearn: 1828.4843653\ttotal: 246ms\tremaining: 602ms\n",
      "29:\tlearn: 1822.0925990\ttotal: 254ms\tremaining: 594ms\n",
      "30:\tlearn: 1817.5942803\ttotal: 264ms\tremaining: 587ms\n",
      "31:\tlearn: 1813.3285352\ttotal: 273ms\tremaining: 579ms\n",
      "32:\tlearn: 1808.6236804\ttotal: 282ms\tremaining: 574ms\n",
      "33:\tlearn: 1804.7328618\ttotal: 291ms\tremaining: 565ms\n",
      "34:\tlearn: 1798.6970469\ttotal: 300ms\tremaining: 558ms\n",
      "35:\tlearn: 1796.2680722\ttotal: 308ms\tremaining: 548ms\n",
      "36:\tlearn: 1793.2697726\ttotal: 317ms\tremaining: 539ms\n",
      "37:\tlearn: 1791.2465374\ttotal: 325ms\tremaining: 530ms\n",
      "38:\tlearn: 1784.0929259\ttotal: 334ms\tremaining: 522ms\n",
      "39:\tlearn: 1781.2758442\ttotal: 342ms\tremaining: 513ms\n",
      "40:\tlearn: 1779.0828460\ttotal: 351ms\tremaining: 505ms\n",
      "41:\tlearn: 1774.9958735\ttotal: 360ms\tremaining: 496ms\n",
      "42:\tlearn: 1771.2165171\ttotal: 368ms\tremaining: 487ms\n",
      "43:\tlearn: 1766.9268459\ttotal: 377ms\tremaining: 479ms\n",
      "44:\tlearn: 1763.5226668\ttotal: 385ms\tremaining: 471ms\n",
      "45:\tlearn: 1761.2503668\ttotal: 393ms\tremaining: 461ms\n",
      "46:\tlearn: 1757.9531330\ttotal: 401ms\tremaining: 452ms\n",
      "47:\tlearn: 1755.0630847\ttotal: 409ms\tremaining: 443ms\n",
      "48:\tlearn: 1752.8161139\ttotal: 417ms\tremaining: 434ms\n",
      "49:\tlearn: 1750.6811750\ttotal: 425ms\tremaining: 425ms\n",
      "50:\tlearn: 1748.5836467\ttotal: 433ms\tremaining: 416ms\n",
      "51:\tlearn: 1746.5522443\ttotal: 442ms\tremaining: 408ms\n",
      "52:\tlearn: 1743.2952652\ttotal: 450ms\tremaining: 399ms\n",
      "53:\tlearn: 1739.4737187\ttotal: 459ms\tremaining: 391ms\n",
      "54:\tlearn: 1738.2637141\ttotal: 466ms\tremaining: 382ms\n",
      "55:\tlearn: 1737.1376011\ttotal: 475ms\tremaining: 373ms\n",
      "56:\tlearn: 1734.5210190\ttotal: 483ms\tremaining: 365ms\n",
      "57:\tlearn: 1732.6625574\ttotal: 492ms\tremaining: 356ms\n",
      "58:\tlearn: 1731.2323487\ttotal: 502ms\tremaining: 349ms\n",
      "59:\tlearn: 1730.1439771\ttotal: 510ms\tremaining: 340ms\n",
      "60:\tlearn: 1728.4224134\ttotal: 519ms\tremaining: 332ms\n",
      "61:\tlearn: 1726.5418662\ttotal: 527ms\tremaining: 323ms\n",
      "62:\tlearn: 1724.2582465\ttotal: 536ms\tremaining: 315ms\n",
      "63:\tlearn: 1721.5570178\ttotal: 544ms\tremaining: 306ms\n",
      "64:\tlearn: 1719.7198654\ttotal: 553ms\tremaining: 298ms\n",
      "65:\tlearn: 1718.2674186\ttotal: 562ms\tremaining: 290ms\n",
      "66:\tlearn: 1716.3956874\ttotal: 570ms\tremaining: 281ms\n",
      "67:\tlearn: 1715.4279571\ttotal: 578ms\tremaining: 272ms\n",
      "68:\tlearn: 1714.1290697\ttotal: 585ms\tremaining: 263ms\n",
      "69:\tlearn: 1712.3807659\ttotal: 594ms\tremaining: 255ms\n",
      "70:\tlearn: 1711.0063712\ttotal: 603ms\tremaining: 246ms\n",
      "71:\tlearn: 1708.9884262\ttotal: 611ms\tremaining: 238ms\n",
      "72:\tlearn: 1707.7457391\ttotal: 619ms\tremaining: 229ms\n",
      "73:\tlearn: 1706.3237933\ttotal: 627ms\tremaining: 220ms\n",
      "74:\tlearn: 1705.1813186\ttotal: 635ms\tremaining: 212ms\n",
      "75:\tlearn: 1703.8860538\ttotal: 643ms\tremaining: 203ms\n",
      "76:\tlearn: 1702.5356515\ttotal: 652ms\tremaining: 195ms\n",
      "77:\tlearn: 1701.5779457\ttotal: 660ms\tremaining: 186ms\n",
      "78:\tlearn: 1699.8678830\ttotal: 670ms\tremaining: 178ms\n",
      "79:\tlearn: 1698.6858434\ttotal: 678ms\tremaining: 169ms\n",
      "80:\tlearn: 1697.6409918\ttotal: 686ms\tremaining: 161ms\n",
      "81:\tlearn: 1696.0964098\ttotal: 694ms\tremaining: 152ms\n",
      "82:\tlearn: 1695.0264537\ttotal: 701ms\tremaining: 144ms\n",
      "83:\tlearn: 1693.6157598\ttotal: 711ms\tremaining: 135ms\n",
      "84:\tlearn: 1692.3795066\ttotal: 720ms\tremaining: 127ms\n",
      "85:\tlearn: 1691.4003020\ttotal: 728ms\tremaining: 118ms\n",
      "86:\tlearn: 1689.8603188\ttotal: 736ms\tremaining: 110ms\n",
      "87:\tlearn: 1688.5407076\ttotal: 745ms\tremaining: 102ms\n",
      "88:\tlearn: 1687.7401488\ttotal: 753ms\tremaining: 93ms\n",
      "89:\tlearn: 1686.3072399\ttotal: 761ms\tremaining: 84.5ms\n",
      "90:\tlearn: 1685.3176345\ttotal: 770ms\tremaining: 76.1ms\n",
      "91:\tlearn: 1684.1662834\ttotal: 777ms\tremaining: 67.6ms\n",
      "92:\tlearn: 1683.1694816\ttotal: 786ms\tremaining: 59.1ms\n",
      "93:\tlearn: 1681.6873442\ttotal: 794ms\tremaining: 50.7ms\n",
      "94:\tlearn: 1680.5436128\ttotal: 803ms\tremaining: 42.3ms\n",
      "95:\tlearn: 1679.4221813\ttotal: 810ms\tremaining: 33.8ms\n",
      "96:\tlearn: 1678.3907298\ttotal: 818ms\tremaining: 25.3ms\n",
      "97:\tlearn: 1675.6766516\ttotal: 827ms\tremaining: 16.9ms\n",
      "98:\tlearn: 1674.4653496\ttotal: 834ms\tremaining: 8.43ms\n",
      "99:\tlearn: 1673.3943938\ttotal: 842ms\tremaining: 0us\n",
      "Depth = 5 Iteration = 100 RMSE = 1704.1969024697182\n",
      "Learning rate set to 0.5\n",
      "0:\tlearn: 3322.8924155\ttotal: 8.18ms\tremaining: 892ms\n",
      "1:\tlearn: 2704.7172971\ttotal: 16.7ms\tremaining: 902ms\n",
      "2:\tlearn: 2452.9893586\ttotal: 24.4ms\tremaining: 870ms\n",
      "3:\tlearn: 2305.0293499\ttotal: 31.9ms\tremaining: 845ms\n",
      "4:\tlearn: 2227.5695187\ttotal: 40.1ms\tremaining: 841ms\n",
      "5:\tlearn: 2161.8741898\ttotal: 48ms\tremaining: 831ms\n",
      "6:\tlearn: 2119.2051375\ttotal: 55.9ms\tremaining: 822ms\n",
      "7:\tlearn: 2089.6020046\ttotal: 63.5ms\tremaining: 810ms\n",
      "8:\tlearn: 2056.4428118\ttotal: 72.5ms\tremaining: 813ms\n",
      "9:\tlearn: 2034.4397557\ttotal: 80.1ms\tremaining: 801ms\n",
      "10:\tlearn: 2019.9519088\ttotal: 87.8ms\tremaining: 790ms\n",
      "11:\tlearn: 1991.2163853\ttotal: 96ms\tremaining: 784ms\n",
      "12:\tlearn: 1970.2490076\ttotal: 104ms\tremaining: 775ms\n",
      "13:\tlearn: 1961.6615122\ttotal: 111ms\tremaining: 764ms\n",
      "14:\tlearn: 1949.0162409\ttotal: 119ms\tremaining: 754ms\n",
      "15:\tlearn: 1928.3563179\ttotal: 127ms\tremaining: 748ms\n",
      "16:\tlearn: 1912.9727842\ttotal: 136ms\tremaining: 743ms\n",
      "17:\tlearn: 1901.4197105\ttotal: 144ms\tremaining: 736ms\n",
      "18:\tlearn: 1892.9589113\ttotal: 152ms\tremaining: 730ms\n",
      "19:\tlearn: 1884.8471855\ttotal: 161ms\tremaining: 722ms\n",
      "20:\tlearn: 1877.4929868\ttotal: 168ms\tremaining: 713ms\n",
      "21:\tlearn: 1872.4266625\ttotal: 176ms\tremaining: 702ms\n",
      "22:\tlearn: 1864.3654090\ttotal: 184ms\tremaining: 695ms\n",
      "23:\tlearn: 1858.1822182\ttotal: 192ms\tremaining: 688ms\n",
      "24:\tlearn: 1851.7844685\ttotal: 199ms\tremaining: 678ms\n",
      "25:\tlearn: 1843.7645509\ttotal: 207ms\tremaining: 667ms\n",
      "26:\tlearn: 1840.3390051\ttotal: 214ms\tremaining: 657ms\n",
      "27:\tlearn: 1836.0148404\ttotal: 221ms\tremaining: 648ms\n",
      "28:\tlearn: 1828.4843653\ttotal: 229ms\tremaining: 640ms\n",
      "29:\tlearn: 1822.0925990\ttotal: 237ms\tremaining: 632ms\n"
     ]
    },
    {
     "name": "stdout",
     "output_type": "stream",
     "text": [
      "30:\tlearn: 1817.5942803\ttotal: 246ms\tremaining: 626ms\n",
      "31:\tlearn: 1813.3285352\ttotal: 255ms\tremaining: 621ms\n",
      "32:\tlearn: 1808.6236804\ttotal: 263ms\tremaining: 614ms\n",
      "33:\tlearn: 1804.7328618\ttotal: 271ms\tremaining: 606ms\n",
      "34:\tlearn: 1798.6970469\ttotal: 280ms\tremaining: 599ms\n",
      "35:\tlearn: 1796.2680722\ttotal: 287ms\tremaining: 590ms\n",
      "36:\tlearn: 1793.2697726\ttotal: 295ms\tremaining: 583ms\n",
      "37:\tlearn: 1791.2465374\ttotal: 303ms\tremaining: 575ms\n",
      "38:\tlearn: 1784.0929259\ttotal: 312ms\tremaining: 569ms\n",
      "39:\tlearn: 1781.2758442\ttotal: 321ms\tremaining: 562ms\n",
      "40:\tlearn: 1779.0828460\ttotal: 330ms\tremaining: 555ms\n",
      "41:\tlearn: 1774.9958735\ttotal: 339ms\tremaining: 549ms\n",
      "42:\tlearn: 1771.2165171\ttotal: 348ms\tremaining: 543ms\n",
      "43:\tlearn: 1766.9268459\ttotal: 359ms\tremaining: 538ms\n",
      "44:\tlearn: 1763.5226668\ttotal: 368ms\tremaining: 532ms\n",
      "45:\tlearn: 1761.2503668\ttotal: 376ms\tremaining: 523ms\n",
      "46:\tlearn: 1757.9531330\ttotal: 384ms\tremaining: 515ms\n",
      "47:\tlearn: 1755.0630847\ttotal: 393ms\tremaining: 507ms\n",
      "48:\tlearn: 1752.8161139\ttotal: 402ms\tremaining: 500ms\n",
      "49:\tlearn: 1750.6811750\ttotal: 409ms\tremaining: 491ms\n",
      "50:\tlearn: 1748.5836467\ttotal: 417ms\tremaining: 482ms\n",
      "51:\tlearn: 1746.5522443\ttotal: 425ms\tremaining: 474ms\n",
      "52:\tlearn: 1743.2952652\ttotal: 433ms\tremaining: 465ms\n",
      "53:\tlearn: 1739.4737187\ttotal: 441ms\tremaining: 457ms\n",
      "54:\tlearn: 1738.2637141\ttotal: 449ms\tremaining: 449ms\n",
      "55:\tlearn: 1737.1376011\ttotal: 456ms\tremaining: 440ms\n",
      "56:\tlearn: 1734.5210190\ttotal: 468ms\tremaining: 435ms\n",
      "57:\tlearn: 1732.6625574\ttotal: 475ms\tremaining: 426ms\n",
      "58:\tlearn: 1731.2323487\ttotal: 484ms\tremaining: 418ms\n",
      "59:\tlearn: 1730.1439771\ttotal: 492ms\tremaining: 410ms\n",
      "60:\tlearn: 1728.4224134\ttotal: 501ms\tremaining: 402ms\n",
      "61:\tlearn: 1726.5418662\ttotal: 508ms\tremaining: 394ms\n",
      "62:\tlearn: 1724.2582465\ttotal: 516ms\tremaining: 385ms\n",
      "63:\tlearn: 1721.5570178\ttotal: 525ms\tremaining: 377ms\n",
      "64:\tlearn: 1719.7198654\ttotal: 533ms\tremaining: 369ms\n",
      "65:\tlearn: 1718.2674186\ttotal: 542ms\tremaining: 361ms\n",
      "66:\tlearn: 1716.3956874\ttotal: 549ms\tremaining: 353ms\n",
      "67:\tlearn: 1715.4279571\ttotal: 558ms\tremaining: 344ms\n",
      "68:\tlearn: 1714.1290697\ttotal: 565ms\tremaining: 336ms\n",
      "69:\tlearn: 1712.3807659\ttotal: 574ms\tremaining: 328ms\n",
      "70:\tlearn: 1711.0063712\ttotal: 581ms\tremaining: 319ms\n",
      "71:\tlearn: 1708.9884262\ttotal: 590ms\tremaining: 311ms\n",
      "72:\tlearn: 1707.7457391\ttotal: 598ms\tremaining: 303ms\n",
      "73:\tlearn: 1706.3237933\ttotal: 606ms\tremaining: 295ms\n",
      "74:\tlearn: 1705.1813186\ttotal: 614ms\tremaining: 286ms\n",
      "75:\tlearn: 1703.8860538\ttotal: 622ms\tremaining: 278ms\n",
      "76:\tlearn: 1702.5356515\ttotal: 630ms\tremaining: 270ms\n",
      "77:\tlearn: 1701.5779457\ttotal: 639ms\tremaining: 262ms\n",
      "78:\tlearn: 1699.8678830\ttotal: 648ms\tremaining: 254ms\n",
      "79:\tlearn: 1698.6858434\ttotal: 656ms\tremaining: 246ms\n",
      "80:\tlearn: 1697.6409918\ttotal: 664ms\tremaining: 238ms\n",
      "81:\tlearn: 1696.0964098\ttotal: 672ms\tremaining: 229ms\n",
      "82:\tlearn: 1695.0264537\ttotal: 681ms\tremaining: 221ms\n",
      "83:\tlearn: 1693.6157598\ttotal: 690ms\tremaining: 214ms\n",
      "84:\tlearn: 1692.3795066\ttotal: 700ms\tremaining: 206ms\n",
      "85:\tlearn: 1691.4003020\ttotal: 708ms\tremaining: 198ms\n",
      "86:\tlearn: 1689.8603188\ttotal: 717ms\tremaining: 189ms\n",
      "87:\tlearn: 1688.5407076\ttotal: 726ms\tremaining: 181ms\n",
      "88:\tlearn: 1687.7401488\ttotal: 734ms\tremaining: 173ms\n",
      "89:\tlearn: 1686.3072399\ttotal: 743ms\tremaining: 165ms\n",
      "90:\tlearn: 1685.3176345\ttotal: 752ms\tremaining: 157ms\n",
      "91:\tlearn: 1684.1662834\ttotal: 760ms\tremaining: 149ms\n",
      "92:\tlearn: 1683.1694816\ttotal: 769ms\tremaining: 140ms\n",
      "93:\tlearn: 1681.6873442\ttotal: 777ms\tremaining: 132ms\n",
      "94:\tlearn: 1680.5436128\ttotal: 785ms\tremaining: 124ms\n",
      "95:\tlearn: 1679.4221813\ttotal: 792ms\tremaining: 116ms\n",
      "96:\tlearn: 1678.3907298\ttotal: 801ms\tremaining: 107ms\n",
      "97:\tlearn: 1675.6766516\ttotal: 809ms\tremaining: 99.1ms\n",
      "98:\tlearn: 1674.4653496\ttotal: 817ms\tremaining: 90.7ms\n",
      "99:\tlearn: 1673.3943938\ttotal: 825ms\tremaining: 82.5ms\n",
      "100:\tlearn: 1671.6221994\ttotal: 833ms\tremaining: 74.2ms\n",
      "101:\tlearn: 1669.8231580\ttotal: 840ms\tremaining: 65.9ms\n",
      "102:\tlearn: 1668.5700790\ttotal: 847ms\tremaining: 57.6ms\n",
      "103:\tlearn: 1668.0900454\ttotal: 856ms\tremaining: 49.4ms\n",
      "104:\tlearn: 1666.1176573\ttotal: 864ms\tremaining: 41.2ms\n",
      "105:\tlearn: 1665.2537447\ttotal: 872ms\tremaining: 32.9ms\n",
      "106:\tlearn: 1664.2443309\ttotal: 879ms\tremaining: 24.7ms\n",
      "107:\tlearn: 1663.1522941\ttotal: 888ms\tremaining: 16.4ms\n",
      "108:\tlearn: 1662.3157624\ttotal: 895ms\tremaining: 8.21ms\n",
      "109:\tlearn: 1661.6661731\ttotal: 903ms\tremaining: 0us\n",
      "Depth = 5 Iteration = 110 RMSE = 1695.5021008226038\n",
      "Learning rate set to 0.5\n",
      "0:\tlearn: 3173.1838533\ttotal: 27.4ms\tremaining: 1.34s\n",
      "1:\tlearn: 2530.4805414\ttotal: 40.4ms\tremaining: 971ms\n",
      "2:\tlearn: 2242.1393028\ttotal: 54.2ms\tremaining: 849ms\n",
      "3:\tlearn: 2113.9534468\ttotal: 104ms\tremaining: 1.19s\n",
      "4:\tlearn: 2031.4736255\ttotal: 124ms\tremaining: 1.12s\n",
      "5:\tlearn: 1965.7642760\ttotal: 139ms\tremaining: 1.02s\n",
      "6:\tlearn: 1932.3666731\ttotal: 153ms\tremaining: 941ms\n",
      "7:\tlearn: 1904.3197570\ttotal: 167ms\tremaining: 877ms\n",
      "8:\tlearn: 1883.4422415\ttotal: 180ms\tremaining: 819ms\n",
      "9:\tlearn: 1866.9420693\ttotal: 193ms\tremaining: 770ms\n",
      "10:\tlearn: 1852.4120153\ttotal: 206ms\tremaining: 730ms\n",
      "11:\tlearn: 1835.8433934\ttotal: 218ms\tremaining: 690ms\n",
      "12:\tlearn: 1823.7844217\ttotal: 230ms\tremaining: 655ms\n",
      "13:\tlearn: 1814.5958829\ttotal: 242ms\tremaining: 621ms\n",
      "14:\tlearn: 1804.9302254\ttotal: 254ms\tremaining: 592ms\n",
      "15:\tlearn: 1789.2385577\ttotal: 266ms\tremaining: 566ms\n",
      "16:\tlearn: 1781.1512627\ttotal: 278ms\tremaining: 539ms\n",
      "17:\tlearn: 1776.6429256\ttotal: 289ms\tremaining: 514ms\n",
      "18:\tlearn: 1766.1032191\ttotal: 301ms\tremaining: 490ms\n",
      "19:\tlearn: 1758.9627818\ttotal: 314ms\tremaining: 470ms\n",
      "20:\tlearn: 1753.1153184\ttotal: 325ms\tremaining: 449ms\n",
      "21:\tlearn: 1746.9426277\ttotal: 337ms\tremaining: 429ms\n",
      "22:\tlearn: 1737.6327889\ttotal: 350ms\tremaining: 411ms\n",
      "23:\tlearn: 1732.6665591\ttotal: 362ms\tremaining: 392ms\n",
      "24:\tlearn: 1724.3103722\ttotal: 377ms\tremaining: 377ms\n",
      "25:\tlearn: 1717.9392687\ttotal: 389ms\tremaining: 359ms\n",
      "26:\tlearn: 1713.3757575\ttotal: 402ms\tremaining: 343ms\n",
      "27:\tlearn: 1708.3382379\ttotal: 415ms\tremaining: 326ms\n",
      "28:\tlearn: 1704.5452624\ttotal: 426ms\tremaining: 308ms\n",
      "29:\tlearn: 1700.7342456\ttotal: 437ms\tremaining: 291ms\n",
      "30:\tlearn: 1697.2374797\ttotal: 449ms\tremaining: 275ms\n",
      "31:\tlearn: 1691.7039311\ttotal: 461ms\tremaining: 259ms\n",
      "32:\tlearn: 1688.9537731\ttotal: 473ms\tremaining: 244ms\n",
      "33:\tlearn: 1686.1076256\ttotal: 484ms\tremaining: 228ms\n",
      "34:\tlearn: 1681.2731817\ttotal: 496ms\tremaining: 213ms\n",
      "35:\tlearn: 1677.7830392\ttotal: 507ms\tremaining: 197ms\n",
      "36:\tlearn: 1674.1620674\ttotal: 519ms\tremaining: 182ms\n",
      "37:\tlearn: 1670.7481366\ttotal: 530ms\tremaining: 167ms\n",
      "38:\tlearn: 1666.8182010\ttotal: 541ms\tremaining: 153ms\n",
      "39:\tlearn: 1663.3822357\ttotal: 554ms\tremaining: 138ms\n",
      "40:\tlearn: 1660.7407760\ttotal: 565ms\tremaining: 124ms\n",
      "41:\tlearn: 1657.8255579\ttotal: 576ms\tremaining: 110ms\n",
      "42:\tlearn: 1654.5878917\ttotal: 587ms\tremaining: 95.6ms\n",
      "43:\tlearn: 1652.7219535\ttotal: 600ms\tremaining: 81.8ms\n",
      "44:\tlearn: 1649.3090185\ttotal: 612ms\tremaining: 68ms\n",
      "45:\tlearn: 1646.1964612\ttotal: 624ms\tremaining: 54.3ms\n",
      "46:\tlearn: 1643.6868722\ttotal: 636ms\tremaining: 40.6ms\n",
      "47:\tlearn: 1641.0941728\ttotal: 648ms\tremaining: 27ms\n",
      "48:\tlearn: 1637.3853373\ttotal: 660ms\tremaining: 13.5ms\n",
      "49:\tlearn: 1634.4933431\ttotal: 673ms\tremaining: 0us\n",
      "Depth = 8 Iteration = 50 RMSE = 1677.5668831817688\n",
      "Learning rate set to 0.5\n",
      "0:\tlearn: 3173.1838533\ttotal: 23.2ms\tremaining: 1.37s\n",
      "1:\tlearn: 2530.4805414\ttotal: 74.4ms\tremaining: 2.16s\n",
      "2:\tlearn: 2242.1393028\ttotal: 88.6ms\tremaining: 1.68s\n",
      "3:\tlearn: 2113.9534468\ttotal: 103ms\tremaining: 1.44s\n",
      "4:\tlearn: 2031.4736255\ttotal: 116ms\tremaining: 1.28s\n",
      "5:\tlearn: 1965.7642760\ttotal: 131ms\tremaining: 1.18s\n",
      "6:\tlearn: 1932.3666731\ttotal: 145ms\tremaining: 1.1s\n",
      "7:\tlearn: 1904.3197570\ttotal: 158ms\tremaining: 1.03s\n",
      "8:\tlearn: 1883.4422415\ttotal: 171ms\tremaining: 967ms\n",
      "9:\tlearn: 1866.9420693\ttotal: 183ms\tremaining: 914ms\n",
      "10:\tlearn: 1852.4120153\ttotal: 194ms\tremaining: 865ms\n",
      "11:\tlearn: 1835.8433934\ttotal: 205ms\tremaining: 822ms\n",
      "12:\tlearn: 1823.7844217\ttotal: 218ms\tremaining: 787ms\n",
      "13:\tlearn: 1814.5958829\ttotal: 229ms\tremaining: 752ms\n",
      "14:\tlearn: 1804.9302254\ttotal: 240ms\tremaining: 721ms\n",
      "15:\tlearn: 1789.2385577\ttotal: 253ms\tremaining: 695ms\n",
      "16:\tlearn: 1781.1512627\ttotal: 265ms\tremaining: 669ms\n",
      "17:\tlearn: 1776.6429256\ttotal: 276ms\tremaining: 643ms\n",
      "18:\tlearn: 1766.1032191\ttotal: 287ms\tremaining: 620ms\n",
      "19:\tlearn: 1758.9627818\ttotal: 300ms\tremaining: 600ms\n"
     ]
    },
    {
     "name": "stdout",
     "output_type": "stream",
     "text": [
      "20:\tlearn: 1753.1153184\ttotal: 312ms\tremaining: 580ms\n",
      "21:\tlearn: 1746.9426277\ttotal: 324ms\tremaining: 560ms\n",
      "22:\tlearn: 1737.6327889\ttotal: 337ms\tremaining: 542ms\n",
      "23:\tlearn: 1732.6665591\ttotal: 348ms\tremaining: 523ms\n",
      "24:\tlearn: 1724.3103722\ttotal: 361ms\tremaining: 505ms\n",
      "25:\tlearn: 1717.9392687\ttotal: 372ms\tremaining: 487ms\n",
      "26:\tlearn: 1713.3757575\ttotal: 384ms\tremaining: 470ms\n",
      "27:\tlearn: 1708.3382379\ttotal: 396ms\tremaining: 453ms\n",
      "28:\tlearn: 1704.5452624\ttotal: 407ms\tremaining: 435ms\n",
      "29:\tlearn: 1700.7342456\ttotal: 418ms\tremaining: 418ms\n",
      "30:\tlearn: 1697.2374797\ttotal: 430ms\tremaining: 402ms\n",
      "31:\tlearn: 1691.7039311\ttotal: 442ms\tremaining: 387ms\n",
      "32:\tlearn: 1688.9537731\ttotal: 453ms\tremaining: 371ms\n",
      "33:\tlearn: 1686.1076256\ttotal: 465ms\tremaining: 355ms\n",
      "34:\tlearn: 1681.2731817\ttotal: 476ms\tremaining: 340ms\n",
      "35:\tlearn: 1677.7830392\ttotal: 488ms\tremaining: 325ms\n",
      "36:\tlearn: 1674.1620674\ttotal: 499ms\tremaining: 310ms\n",
      "37:\tlearn: 1670.7481366\ttotal: 511ms\tremaining: 296ms\n",
      "38:\tlearn: 1666.8182010\ttotal: 522ms\tremaining: 281ms\n",
      "39:\tlearn: 1663.3822357\ttotal: 535ms\tremaining: 268ms\n",
      "40:\tlearn: 1660.7407760\ttotal: 547ms\tremaining: 254ms\n",
      "41:\tlearn: 1657.8255579\ttotal: 558ms\tremaining: 239ms\n",
      "42:\tlearn: 1654.5878917\ttotal: 570ms\tremaining: 225ms\n",
      "43:\tlearn: 1652.7219535\ttotal: 582ms\tremaining: 211ms\n",
      "44:\tlearn: 1649.3090185\ttotal: 593ms\tremaining: 198ms\n",
      "45:\tlearn: 1646.1964612\ttotal: 605ms\tremaining: 184ms\n",
      "46:\tlearn: 1643.6868722\ttotal: 618ms\tremaining: 171ms\n",
      "47:\tlearn: 1641.0941728\ttotal: 631ms\tremaining: 158ms\n",
      "48:\tlearn: 1637.3853373\ttotal: 644ms\tremaining: 144ms\n",
      "49:\tlearn: 1634.4933431\ttotal: 657ms\tremaining: 131ms\n",
      "50:\tlearn: 1631.4495279\ttotal: 670ms\tremaining: 118ms\n",
      "51:\tlearn: 1627.0760501\ttotal: 683ms\tremaining: 105ms\n",
      "52:\tlearn: 1624.4586221\ttotal: 695ms\tremaining: 91.7ms\n",
      "53:\tlearn: 1622.5492585\ttotal: 705ms\tremaining: 78.4ms\n",
      "54:\tlearn: 1619.4615963\ttotal: 717ms\tremaining: 65.2ms\n",
      "55:\tlearn: 1617.9136831\ttotal: 729ms\tremaining: 52.1ms\n",
      "56:\tlearn: 1615.6897436\ttotal: 741ms\tremaining: 39ms\n",
      "57:\tlearn: 1614.2578335\ttotal: 752ms\tremaining: 25.9ms\n",
      "58:\tlearn: 1612.3804214\ttotal: 764ms\tremaining: 13ms\n",
      "59:\tlearn: 1609.9613801\ttotal: 776ms\tremaining: 0us\n",
      "Depth = 8 Iteration = 60 RMSE = 1661.5950300350719\n",
      "Learning rate set to 0.5\n",
      "0:\tlearn: 3173.1838533\ttotal: 12.1ms\tremaining: 837ms\n",
      "1:\tlearn: 2530.4805414\ttotal: 23.6ms\tremaining: 802ms\n",
      "2:\tlearn: 2242.1393028\ttotal: 35.4ms\tremaining: 791ms\n",
      "3:\tlearn: 2113.9534468\ttotal: 46.3ms\tremaining: 764ms\n",
      "4:\tlearn: 2031.4736255\ttotal: 58.4ms\tremaining: 759ms\n",
      "5:\tlearn: 1965.7642760\ttotal: 70.8ms\tremaining: 755ms\n",
      "6:\tlearn: 1932.3666731\ttotal: 83.2ms\tremaining: 749ms\n",
      "7:\tlearn: 1904.3197570\ttotal: 94.6ms\tremaining: 733ms\n",
      "8:\tlearn: 1883.4422415\ttotal: 106ms\tremaining: 716ms\n",
      "9:\tlearn: 1866.9420693\ttotal: 117ms\tremaining: 705ms\n",
      "10:\tlearn: 1852.4120153\ttotal: 129ms\tremaining: 691ms\n",
      "11:\tlearn: 1835.8433934\ttotal: 141ms\tremaining: 681ms\n",
      "12:\tlearn: 1823.7844217\ttotal: 153ms\tremaining: 671ms\n",
      "13:\tlearn: 1814.5958829\ttotal: 165ms\tremaining: 659ms\n",
      "14:\tlearn: 1804.9302254\ttotal: 177ms\tremaining: 649ms\n",
      "15:\tlearn: 1789.2385577\ttotal: 190ms\tremaining: 640ms\n",
      "16:\tlearn: 1781.1512627\ttotal: 201ms\tremaining: 627ms\n",
      "17:\tlearn: 1776.6429256\ttotal: 213ms\tremaining: 614ms\n",
      "18:\tlearn: 1766.1032191\ttotal: 224ms\tremaining: 601ms\n",
      "19:\tlearn: 1758.9627818\ttotal: 237ms\tremaining: 592ms\n",
      "20:\tlearn: 1753.1153184\ttotal: 248ms\tremaining: 579ms\n",
      "21:\tlearn: 1746.9426277\ttotal: 259ms\tremaining: 566ms\n",
      "22:\tlearn: 1737.6327889\ttotal: 273ms\tremaining: 558ms\n",
      "23:\tlearn: 1732.6665591\ttotal: 285ms\tremaining: 545ms\n",
      "24:\tlearn: 1724.3103722\ttotal: 297ms\tremaining: 535ms\n",
      "25:\tlearn: 1717.9392687\ttotal: 309ms\tremaining: 523ms\n",
      "26:\tlearn: 1713.3757575\ttotal: 321ms\tremaining: 511ms\n",
      "27:\tlearn: 1708.3382379\ttotal: 333ms\tremaining: 500ms\n",
      "28:\tlearn: 1704.5452624\ttotal: 345ms\tremaining: 487ms\n",
      "29:\tlearn: 1700.7342456\ttotal: 357ms\tremaining: 475ms\n",
      "30:\tlearn: 1697.2374797\ttotal: 369ms\tremaining: 464ms\n",
      "31:\tlearn: 1691.7039311\ttotal: 381ms\tremaining: 453ms\n",
      "32:\tlearn: 1688.9537731\ttotal: 392ms\tremaining: 440ms\n",
      "33:\tlearn: 1686.1076256\ttotal: 404ms\tremaining: 428ms\n",
      "34:\tlearn: 1681.2731817\ttotal: 416ms\tremaining: 416ms\n",
      "35:\tlearn: 1677.7830392\ttotal: 427ms\tremaining: 404ms\n",
      "36:\tlearn: 1674.1620674\ttotal: 439ms\tremaining: 392ms\n",
      "37:\tlearn: 1670.7481366\ttotal: 451ms\tremaining: 380ms\n",
      "38:\tlearn: 1666.8182010\ttotal: 462ms\tremaining: 367ms\n",
      "39:\tlearn: 1663.3822357\ttotal: 475ms\tremaining: 356ms\n",
      "40:\tlearn: 1660.7407760\ttotal: 487ms\tremaining: 344ms\n",
      "41:\tlearn: 1657.8255579\ttotal: 498ms\tremaining: 332ms\n",
      "42:\tlearn: 1654.5878917\ttotal: 509ms\tremaining: 320ms\n",
      "43:\tlearn: 1652.7219535\ttotal: 521ms\tremaining: 308ms\n",
      "44:\tlearn: 1649.3090185\ttotal: 533ms\tremaining: 296ms\n",
      "45:\tlearn: 1646.1964612\ttotal: 545ms\tremaining: 284ms\n",
      "46:\tlearn: 1643.6868722\ttotal: 558ms\tremaining: 273ms\n",
      "47:\tlearn: 1641.0941728\ttotal: 571ms\tremaining: 262ms\n",
      "48:\tlearn: 1637.3853373\ttotal: 583ms\tremaining: 250ms\n",
      "49:\tlearn: 1634.4933431\ttotal: 595ms\tremaining: 238ms\n",
      "50:\tlearn: 1631.4495279\ttotal: 607ms\tremaining: 226ms\n",
      "51:\tlearn: 1627.0760501\ttotal: 620ms\tremaining: 215ms\n",
      "52:\tlearn: 1624.4586221\ttotal: 632ms\tremaining: 203ms\n",
      "53:\tlearn: 1622.5492585\ttotal: 643ms\tremaining: 190ms\n",
      "54:\tlearn: 1619.4615963\ttotal: 655ms\tremaining: 179ms\n",
      "55:\tlearn: 1617.9136831\ttotal: 666ms\tremaining: 166ms\n",
      "56:\tlearn: 1615.6897436\ttotal: 677ms\tremaining: 154ms\n",
      "57:\tlearn: 1614.2578335\ttotal: 688ms\tremaining: 142ms\n",
      "58:\tlearn: 1612.3804214\ttotal: 700ms\tremaining: 131ms\n",
      "59:\tlearn: 1609.9613801\ttotal: 712ms\tremaining: 119ms\n",
      "60:\tlearn: 1607.7156581\ttotal: 726ms\tremaining: 107ms\n",
      "61:\tlearn: 1604.1228897\ttotal: 738ms\tremaining: 95.2ms\n",
      "62:\tlearn: 1601.3442242\ttotal: 750ms\tremaining: 83.3ms\n",
      "63:\tlearn: 1598.6123925\ttotal: 762ms\tremaining: 71.5ms\n",
      "64:\tlearn: 1596.5255840\ttotal: 775ms\tremaining: 59.6ms\n",
      "65:\tlearn: 1593.9128392\ttotal: 788ms\tremaining: 47.8ms\n",
      "66:\tlearn: 1592.1501505\ttotal: 802ms\tremaining: 35.9ms\n",
      "67:\tlearn: 1589.5152368\ttotal: 815ms\tremaining: 24ms\n",
      "68:\tlearn: 1587.5785916\ttotal: 828ms\tremaining: 12ms\n",
      "69:\tlearn: 1585.2539875\ttotal: 840ms\tremaining: 0us\n",
      "Depth = 8 Iteration = 70 RMSE = 1646.1998043424383\n",
      "Learning rate set to 0.5\n",
      "0:\tlearn: 3173.1838533\ttotal: 31.3ms\tremaining: 2.47s\n",
      "1:\tlearn: 2530.4805414\ttotal: 44.4ms\tremaining: 1.73s\n",
      "2:\tlearn: 2242.1393028\ttotal: 57.9ms\tremaining: 1.49s\n",
      "3:\tlearn: 2113.9534468\ttotal: 71.4ms\tremaining: 1.36s\n",
      "4:\tlearn: 2031.4736255\ttotal: 86.3ms\tremaining: 1.29s\n",
      "5:\tlearn: 1965.7642760\ttotal: 101ms\tremaining: 1.24s\n",
      "6:\tlearn: 1932.3666731\ttotal: 114ms\tremaining: 1.19s\n",
      "7:\tlearn: 1904.3197570\ttotal: 126ms\tremaining: 1.13s\n",
      "8:\tlearn: 1883.4422415\ttotal: 138ms\tremaining: 1.09s\n",
      "9:\tlearn: 1866.9420693\ttotal: 149ms\tremaining: 1.04s\n",
      "10:\tlearn: 1852.4120153\ttotal: 161ms\tremaining: 1.01s\n",
      "11:\tlearn: 1835.8433934\ttotal: 172ms\tremaining: 975ms\n",
      "12:\tlearn: 1823.7844217\ttotal: 184ms\tremaining: 948ms\n",
      "13:\tlearn: 1814.5958829\ttotal: 196ms\tremaining: 922ms\n",
      "14:\tlearn: 1804.9302254\ttotal: 208ms\tremaining: 901ms\n",
      "15:\tlearn: 1789.2385577\ttotal: 220ms\tremaining: 881ms\n",
      "16:\tlearn: 1781.1512627\ttotal: 233ms\tremaining: 862ms\n",
      "17:\tlearn: 1776.6429256\ttotal: 245ms\tremaining: 843ms\n",
      "18:\tlearn: 1766.1032191\ttotal: 258ms\tremaining: 830ms\n",
      "19:\tlearn: 1758.9627818\ttotal: 274ms\tremaining: 821ms\n",
      "20:\tlearn: 1753.1153184\ttotal: 286ms\tremaining: 803ms\n",
      "21:\tlearn: 1746.9426277\ttotal: 299ms\tremaining: 788ms\n",
      "22:\tlearn: 1737.6327889\ttotal: 314ms\tremaining: 777ms\n",
      "23:\tlearn: 1732.6665591\ttotal: 326ms\tremaining: 761ms\n",
      "24:\tlearn: 1724.3103722\ttotal: 339ms\tremaining: 747ms\n",
      "25:\tlearn: 1717.9392687\ttotal: 352ms\tremaining: 731ms\n",
      "26:\tlearn: 1713.3757575\ttotal: 365ms\tremaining: 716ms\n",
      "27:\tlearn: 1708.3382379\ttotal: 377ms\tremaining: 700ms\n",
      "28:\tlearn: 1704.5452624\ttotal: 389ms\tremaining: 684ms\n",
      "29:\tlearn: 1700.7342456\ttotal: 401ms\tremaining: 668ms\n",
      "30:\tlearn: 1697.2374797\ttotal: 413ms\tremaining: 652ms\n",
      "31:\tlearn: 1691.7039311\ttotal: 425ms\tremaining: 638ms\n",
      "32:\tlearn: 1688.9537731\ttotal: 436ms\tremaining: 621ms\n",
      "33:\tlearn: 1686.1076256\ttotal: 448ms\tremaining: 606ms\n",
      "34:\tlearn: 1681.2731817\ttotal: 460ms\tremaining: 591ms\n",
      "35:\tlearn: 1677.7830392\ttotal: 472ms\tremaining: 577ms\n",
      "36:\tlearn: 1674.1620674\ttotal: 483ms\tremaining: 561ms\n",
      "37:\tlearn: 1670.7481366\ttotal: 495ms\tremaining: 547ms\n",
      "38:\tlearn: 1666.8182010\ttotal: 506ms\tremaining: 532ms\n",
      "39:\tlearn: 1663.3822357\ttotal: 520ms\tremaining: 520ms\n",
      "40:\tlearn: 1660.7407760\ttotal: 532ms\tremaining: 506ms\n",
      "41:\tlearn: 1657.8255579\ttotal: 545ms\tremaining: 494ms\n",
      "42:\tlearn: 1654.5878917\ttotal: 558ms\tremaining: 480ms\n",
      "43:\tlearn: 1652.7219535\ttotal: 571ms\tremaining: 467ms\n",
      "44:\tlearn: 1649.3090185\ttotal: 583ms\tremaining: 453ms\n",
      "45:\tlearn: 1646.1964612\ttotal: 595ms\tremaining: 440ms\n",
      "46:\tlearn: 1643.6868722\ttotal: 607ms\tremaining: 426ms\n",
      "47:\tlearn: 1641.0941728\ttotal: 619ms\tremaining: 413ms\n",
      "48:\tlearn: 1637.3853373\ttotal: 631ms\tremaining: 399ms\n",
      "49:\tlearn: 1634.4933431\ttotal: 643ms\tremaining: 386ms\n",
      "50:\tlearn: 1631.4495279\ttotal: 656ms\tremaining: 373ms\n",
      "51:\tlearn: 1627.0760501\ttotal: 668ms\tremaining: 360ms\n",
      "52:\tlearn: 1624.4586221\ttotal: 681ms\tremaining: 347ms\n",
      "53:\tlearn: 1622.5492585\ttotal: 694ms\tremaining: 334ms\n",
      "54:\tlearn: 1619.4615963\ttotal: 707ms\tremaining: 321ms\n",
      "55:\tlearn: 1617.9136831\ttotal: 719ms\tremaining: 308ms\n"
     ]
    },
    {
     "name": "stdout",
     "output_type": "stream",
     "text": [
      "56:\tlearn: 1615.6897436\ttotal: 732ms\tremaining: 295ms\n",
      "57:\tlearn: 1614.2578335\ttotal: 744ms\tremaining: 282ms\n",
      "58:\tlearn: 1612.3804214\ttotal: 757ms\tremaining: 270ms\n",
      "59:\tlearn: 1609.9613801\ttotal: 771ms\tremaining: 257ms\n",
      "60:\tlearn: 1607.7156581\ttotal: 785ms\tremaining: 244ms\n",
      "61:\tlearn: 1604.1228897\ttotal: 798ms\tremaining: 232ms\n",
      "62:\tlearn: 1601.3442242\ttotal: 810ms\tremaining: 219ms\n",
      "63:\tlearn: 1598.6123925\ttotal: 823ms\tremaining: 206ms\n",
      "64:\tlearn: 1596.5255840\ttotal: 835ms\tremaining: 193ms\n",
      "65:\tlearn: 1593.9128392\ttotal: 847ms\tremaining: 180ms\n",
      "66:\tlearn: 1592.1501505\ttotal: 860ms\tremaining: 167ms\n",
      "67:\tlearn: 1589.5152368\ttotal: 873ms\tremaining: 154ms\n",
      "68:\tlearn: 1587.5785916\ttotal: 886ms\tremaining: 141ms\n",
      "69:\tlearn: 1585.2539875\ttotal: 898ms\tremaining: 128ms\n",
      "70:\tlearn: 1583.6631817\ttotal: 911ms\tremaining: 115ms\n",
      "71:\tlearn: 1582.2401621\ttotal: 923ms\tremaining: 103ms\n",
      "72:\tlearn: 1581.0785192\ttotal: 934ms\tremaining: 89.5ms\n",
      "73:\tlearn: 1579.8912998\ttotal: 946ms\tremaining: 76.7ms\n",
      "74:\tlearn: 1578.1851308\ttotal: 957ms\tremaining: 63.8ms\n",
      "75:\tlearn: 1576.9192946\ttotal: 969ms\tremaining: 51ms\n",
      "76:\tlearn: 1574.7702456\ttotal: 981ms\tremaining: 38.2ms\n",
      "77:\tlearn: 1573.0805689\ttotal: 994ms\tremaining: 25.5ms\n",
      "78:\tlearn: 1570.7465156\ttotal: 1s\tremaining: 12.7ms\n",
      "79:\tlearn: 1569.3981728\ttotal: 1.02s\tremaining: 0us\n",
      "Depth = 8 Iteration = 80 RMSE = 1640.6094544679906\n",
      "Learning rate set to 0.5\n",
      "0:\tlearn: 3173.1838533\ttotal: 13ms\tremaining: 1.15s\n",
      "1:\tlearn: 2530.4805414\ttotal: 25.4ms\tremaining: 1.12s\n",
      "2:\tlearn: 2242.1393028\ttotal: 37.8ms\tremaining: 1.09s\n",
      "3:\tlearn: 2113.9534468\ttotal: 49.4ms\tremaining: 1.06s\n",
      "4:\tlearn: 2031.4736255\ttotal: 62.2ms\tremaining: 1.06s\n",
      "5:\tlearn: 1965.7642760\ttotal: 75.8ms\tremaining: 1.06s\n",
      "6:\tlearn: 1932.3666731\ttotal: 88.2ms\tremaining: 1.05s\n",
      "7:\tlearn: 1904.3197570\ttotal: 101ms\tremaining: 1.03s\n",
      "8:\tlearn: 1883.4422415\ttotal: 113ms\tremaining: 1.02s\n",
      "9:\tlearn: 1866.9420693\ttotal: 125ms\tremaining: 1s\n",
      "10:\tlearn: 1852.4120153\ttotal: 137ms\tremaining: 986ms\n",
      "11:\tlearn: 1835.8433934\ttotal: 149ms\tremaining: 969ms\n",
      "12:\tlearn: 1823.7844217\ttotal: 162ms\tremaining: 958ms\n",
      "13:\tlearn: 1814.5958829\ttotal: 173ms\tremaining: 942ms\n",
      "14:\tlearn: 1804.9302254\ttotal: 186ms\tremaining: 931ms\n",
      "15:\tlearn: 1789.2385577\ttotal: 200ms\tremaining: 923ms\n",
      "16:\tlearn: 1781.1512627\ttotal: 212ms\tremaining: 911ms\n",
      "17:\tlearn: 1776.6429256\ttotal: 224ms\tremaining: 895ms\n",
      "18:\tlearn: 1766.1032191\ttotal: 236ms\tremaining: 881ms\n",
      "19:\tlearn: 1758.9627818\ttotal: 248ms\tremaining: 869ms\n",
      "20:\tlearn: 1753.1153184\ttotal: 260ms\tremaining: 853ms\n",
      "21:\tlearn: 1746.9426277\ttotal: 271ms\tremaining: 839ms\n",
      "22:\tlearn: 1737.6327889\ttotal: 285ms\tremaining: 829ms\n",
      "23:\tlearn: 1732.6665591\ttotal: 296ms\tremaining: 814ms\n",
      "24:\tlearn: 1724.3103722\ttotal: 308ms\tremaining: 802ms\n",
      "25:\tlearn: 1717.9392687\ttotal: 321ms\tremaining: 789ms\n",
      "26:\tlearn: 1713.3757575\ttotal: 333ms\tremaining: 777ms\n",
      "27:\tlearn: 1708.3382379\ttotal: 345ms\tremaining: 765ms\n",
      "28:\tlearn: 1704.5452624\ttotal: 357ms\tremaining: 750ms\n",
      "29:\tlearn: 1700.7342456\ttotal: 368ms\tremaining: 736ms\n",
      "30:\tlearn: 1697.2374797\ttotal: 380ms\tremaining: 724ms\n",
      "31:\tlearn: 1691.7039311\ttotal: 393ms\tremaining: 712ms\n",
      "32:\tlearn: 1688.9537731\ttotal: 404ms\tremaining: 698ms\n",
      "33:\tlearn: 1686.1076256\ttotal: 416ms\tremaining: 685ms\n",
      "34:\tlearn: 1681.2731817\ttotal: 428ms\tremaining: 673ms\n",
      "35:\tlearn: 1677.7830392\ttotal: 439ms\tremaining: 659ms\n",
      "36:\tlearn: 1674.1620674\ttotal: 451ms\tremaining: 646ms\n",
      "37:\tlearn: 1670.7481366\ttotal: 463ms\tremaining: 634ms\n",
      "38:\tlearn: 1666.8182010\ttotal: 474ms\tremaining: 620ms\n",
      "39:\tlearn: 1663.3822357\ttotal: 487ms\tremaining: 609ms\n",
      "40:\tlearn: 1660.7407760\ttotal: 499ms\tremaining: 596ms\n",
      "41:\tlearn: 1657.8255579\ttotal: 510ms\tremaining: 583ms\n",
      "42:\tlearn: 1654.5878917\ttotal: 522ms\tremaining: 570ms\n",
      "43:\tlearn: 1652.7219535\ttotal: 534ms\tremaining: 558ms\n",
      "44:\tlearn: 1649.3090185\ttotal: 546ms\tremaining: 546ms\n",
      "45:\tlearn: 1646.1964612\ttotal: 558ms\tremaining: 534ms\n",
      "46:\tlearn: 1643.6868722\ttotal: 570ms\tremaining: 522ms\n",
      "47:\tlearn: 1641.0941728\ttotal: 583ms\tremaining: 510ms\n",
      "48:\tlearn: 1637.3853373\ttotal: 595ms\tremaining: 498ms\n",
      "49:\tlearn: 1634.4933431\ttotal: 608ms\tremaining: 486ms\n",
      "50:\tlearn: 1631.4495279\ttotal: 619ms\tremaining: 474ms\n",
      "51:\tlearn: 1627.0760501\ttotal: 633ms\tremaining: 462ms\n",
      "52:\tlearn: 1624.4586221\ttotal: 644ms\tremaining: 450ms\n",
      "53:\tlearn: 1622.5492585\ttotal: 655ms\tremaining: 437ms\n",
      "54:\tlearn: 1619.4615963\ttotal: 668ms\tremaining: 425ms\n",
      "55:\tlearn: 1617.9136831\ttotal: 679ms\tremaining: 412ms\n",
      "56:\tlearn: 1615.6897436\ttotal: 690ms\tremaining: 400ms\n",
      "57:\tlearn: 1614.2578335\ttotal: 701ms\tremaining: 387ms\n",
      "58:\tlearn: 1612.3804214\ttotal: 713ms\tremaining: 375ms\n",
      "59:\tlearn: 1609.9613801\ttotal: 725ms\tremaining: 363ms\n",
      "60:\tlearn: 1607.7156581\ttotal: 738ms\tremaining: 351ms\n",
      "61:\tlearn: 1604.1228897\ttotal: 751ms\tremaining: 339ms\n",
      "62:\tlearn: 1601.3442242\ttotal: 764ms\tremaining: 328ms\n",
      "63:\tlearn: 1598.6123925\ttotal: 776ms\tremaining: 315ms\n",
      "64:\tlearn: 1596.5255840\ttotal: 789ms\tremaining: 303ms\n",
      "65:\tlearn: 1593.9128392\ttotal: 802ms\tremaining: 292ms\n",
      "66:\tlearn: 1592.1501505\ttotal: 816ms\tremaining: 280ms\n",
      "67:\tlearn: 1589.5152368\ttotal: 829ms\tremaining: 268ms\n",
      "68:\tlearn: 1587.5785916\ttotal: 842ms\tremaining: 256ms\n",
      "69:\tlearn: 1585.2539875\ttotal: 854ms\tremaining: 244ms\n",
      "70:\tlearn: 1583.6631817\ttotal: 866ms\tremaining: 232ms\n",
      "71:\tlearn: 1582.2401621\ttotal: 877ms\tremaining: 219ms\n",
      "72:\tlearn: 1581.0785192\ttotal: 888ms\tremaining: 207ms\n",
      "73:\tlearn: 1579.8912998\ttotal: 900ms\tremaining: 195ms\n",
      "74:\tlearn: 1578.1851308\ttotal: 912ms\tremaining: 182ms\n",
      "75:\tlearn: 1576.9192946\ttotal: 923ms\tremaining: 170ms\n",
      "76:\tlearn: 1574.7702456\ttotal: 934ms\tremaining: 158ms\n",
      "77:\tlearn: 1573.0805689\ttotal: 947ms\tremaining: 146ms\n",
      "78:\tlearn: 1570.7465156\ttotal: 959ms\tremaining: 134ms\n",
      "79:\tlearn: 1569.3981728\ttotal: 971ms\tremaining: 121ms\n",
      "80:\tlearn: 1567.5390369\ttotal: 984ms\tremaining: 109ms\n",
      "81:\tlearn: 1565.4493235\ttotal: 996ms\tremaining: 97.2ms\n",
      "82:\tlearn: 1563.9331365\ttotal: 1.01s\tremaining: 85ms\n",
      "83:\tlearn: 1562.8770327\ttotal: 1.02s\tremaining: 72.8ms\n",
      "84:\tlearn: 1561.1042699\ttotal: 1.03s\tremaining: 60.7ms\n",
      "85:\tlearn: 1559.6884016\ttotal: 1.04s\tremaining: 48.5ms\n",
      "86:\tlearn: 1557.5704741\ttotal: 1.05s\tremaining: 36.4ms\n",
      "87:\tlearn: 1555.0641998\ttotal: 1.07s\tremaining: 24.3ms\n",
      "88:\tlearn: 1553.5682049\ttotal: 1.08s\tremaining: 12.1ms\n",
      "89:\tlearn: 1552.2672864\ttotal: 1.09s\tremaining: 0us\n",
      "Depth = 8 Iteration = 90 RMSE = 1630.6991107951735\n",
      "Learning rate set to 0.5\n",
      "0:\tlearn: 3173.1838533\ttotal: 62ms\tremaining: 6.13s\n",
      "1:\tlearn: 2530.4805414\ttotal: 77.4ms\tremaining: 3.79s\n",
      "2:\tlearn: 2242.1393028\ttotal: 91.2ms\tremaining: 2.95s\n",
      "3:\tlearn: 2113.9534468\ttotal: 104ms\tremaining: 2.51s\n",
      "4:\tlearn: 2031.4736255\ttotal: 118ms\tremaining: 2.25s\n",
      "5:\tlearn: 1965.7642760\ttotal: 132ms\tremaining: 2.07s\n",
      "6:\tlearn: 1932.3666731\ttotal: 146ms\tremaining: 1.94s\n",
      "7:\tlearn: 1904.3197570\ttotal: 158ms\tremaining: 1.81s\n",
      "8:\tlearn: 1883.4422415\ttotal: 169ms\tremaining: 1.71s\n",
      "9:\tlearn: 1866.9420693\ttotal: 180ms\tremaining: 1.62s\n",
      "10:\tlearn: 1852.4120153\ttotal: 192ms\tremaining: 1.55s\n",
      "11:\tlearn: 1835.8433934\ttotal: 203ms\tremaining: 1.49s\n",
      "12:\tlearn: 1823.7844217\ttotal: 215ms\tremaining: 1.44s\n",
      "13:\tlearn: 1814.5958829\ttotal: 226ms\tremaining: 1.39s\n",
      "14:\tlearn: 1804.9302254\ttotal: 238ms\tremaining: 1.35s\n",
      "15:\tlearn: 1789.2385577\ttotal: 250ms\tremaining: 1.31s\n",
      "16:\tlearn: 1781.1512627\ttotal: 262ms\tremaining: 1.28s\n",
      "17:\tlearn: 1776.6429256\ttotal: 273ms\tremaining: 1.24s\n",
      "18:\tlearn: 1766.1032191\ttotal: 286ms\tremaining: 1.22s\n",
      "19:\tlearn: 1758.9627818\ttotal: 299ms\tremaining: 1.2s\n",
      "20:\tlearn: 1753.1153184\ttotal: 310ms\tremaining: 1.17s\n",
      "21:\tlearn: 1746.9426277\ttotal: 322ms\tremaining: 1.14s\n",
      "22:\tlearn: 1737.6327889\ttotal: 336ms\tremaining: 1.12s\n",
      "23:\tlearn: 1732.6665591\ttotal: 347ms\tremaining: 1.1s\n",
      "24:\tlearn: 1724.3103722\ttotal: 360ms\tremaining: 1.08s\n",
      "25:\tlearn: 1717.9392687\ttotal: 372ms\tremaining: 1.06s\n",
      "26:\tlearn: 1713.3757575\ttotal: 384ms\tremaining: 1.04s\n",
      "27:\tlearn: 1708.3382379\ttotal: 396ms\tremaining: 1.02s\n",
      "28:\tlearn: 1704.5452624\ttotal: 407ms\tremaining: 998ms\n",
      "29:\tlearn: 1700.7342456\ttotal: 419ms\tremaining: 978ms\n",
      "30:\tlearn: 1697.2374797\ttotal: 431ms\tremaining: 960ms\n",
      "31:\tlearn: 1691.7039311\ttotal: 444ms\tremaining: 944ms\n",
      "32:\tlearn: 1688.9537731\ttotal: 456ms\tremaining: 925ms\n",
      "33:\tlearn: 1686.1076256\ttotal: 467ms\tremaining: 907ms\n",
      "34:\tlearn: 1681.2731817\ttotal: 480ms\tremaining: 892ms\n",
      "35:\tlearn: 1677.7830392\ttotal: 492ms\tremaining: 875ms\n",
      "36:\tlearn: 1674.1620674\ttotal: 504ms\tremaining: 858ms\n",
      "37:\tlearn: 1670.7481366\ttotal: 516ms\tremaining: 841ms\n",
      "38:\tlearn: 1666.8182010\ttotal: 527ms\tremaining: 824ms\n",
      "39:\tlearn: 1663.3822357\ttotal: 540ms\tremaining: 810ms\n",
      "40:\tlearn: 1660.7407760\ttotal: 552ms\tremaining: 794ms\n",
      "41:\tlearn: 1657.8255579\ttotal: 563ms\tremaining: 778ms\n",
      "42:\tlearn: 1654.5878917\ttotal: 574ms\tremaining: 762ms\n",
      "43:\tlearn: 1652.7219535\ttotal: 587ms\tremaining: 747ms\n",
      "44:\tlearn: 1649.3090185\ttotal: 599ms\tremaining: 732ms\n",
      "45:\tlearn: 1646.1964612\ttotal: 610ms\tremaining: 717ms\n",
      "46:\tlearn: 1643.6868722\ttotal: 622ms\tremaining: 702ms\n",
      "47:\tlearn: 1641.0941728\ttotal: 634ms\tremaining: 687ms\n",
      "48:\tlearn: 1637.3853373\ttotal: 647ms\tremaining: 673ms\n",
      "49:\tlearn: 1634.4933431\ttotal: 660ms\tremaining: 660ms\n",
      "50:\tlearn: 1631.4495279\ttotal: 673ms\tremaining: 647ms\n",
      "51:\tlearn: 1627.0760501\ttotal: 687ms\tremaining: 634ms\n"
     ]
    },
    {
     "name": "stdout",
     "output_type": "stream",
     "text": [
      "52:\tlearn: 1624.4586221\ttotal: 701ms\tremaining: 621ms\n",
      "53:\tlearn: 1622.5492585\ttotal: 712ms\tremaining: 606ms\n",
      "54:\tlearn: 1619.4615963\ttotal: 724ms\tremaining: 592ms\n",
      "55:\tlearn: 1617.9136831\ttotal: 735ms\tremaining: 577ms\n",
      "56:\tlearn: 1615.6897436\ttotal: 745ms\tremaining: 562ms\n",
      "57:\tlearn: 1614.2578335\ttotal: 757ms\tremaining: 548ms\n",
      "58:\tlearn: 1612.3804214\ttotal: 769ms\tremaining: 534ms\n",
      "59:\tlearn: 1609.9613801\ttotal: 781ms\tremaining: 520ms\n",
      "60:\tlearn: 1607.7156581\ttotal: 793ms\tremaining: 507ms\n",
      "61:\tlearn: 1604.1228897\ttotal: 806ms\tremaining: 494ms\n",
      "62:\tlearn: 1601.3442242\ttotal: 818ms\tremaining: 480ms\n",
      "63:\tlearn: 1598.6123925\ttotal: 830ms\tremaining: 467ms\n",
      "64:\tlearn: 1596.5255840\ttotal: 841ms\tremaining: 453ms\n",
      "65:\tlearn: 1593.9128392\ttotal: 854ms\tremaining: 440ms\n",
      "66:\tlearn: 1592.1501505\ttotal: 866ms\tremaining: 427ms\n",
      "67:\tlearn: 1589.5152368\ttotal: 878ms\tremaining: 413ms\n",
      "68:\tlearn: 1587.5785916\ttotal: 891ms\tremaining: 400ms\n",
      "69:\tlearn: 1585.2539875\ttotal: 902ms\tremaining: 387ms\n",
      "70:\tlearn: 1583.6631817\ttotal: 914ms\tremaining: 373ms\n",
      "71:\tlearn: 1582.2401621\ttotal: 926ms\tremaining: 360ms\n",
      "72:\tlearn: 1581.0785192\ttotal: 937ms\tremaining: 347ms\n",
      "73:\tlearn: 1579.8912998\ttotal: 949ms\tremaining: 333ms\n",
      "74:\tlearn: 1578.1851308\ttotal: 961ms\tremaining: 320ms\n",
      "75:\tlearn: 1576.9192946\ttotal: 972ms\tremaining: 307ms\n",
      "76:\tlearn: 1574.7702456\ttotal: 984ms\tremaining: 294ms\n",
      "77:\tlearn: 1573.0805689\ttotal: 997ms\tremaining: 281ms\n",
      "78:\tlearn: 1570.7465156\ttotal: 1.01s\tremaining: 268ms\n",
      "79:\tlearn: 1569.3981728\ttotal: 1.02s\tremaining: 255ms\n",
      "80:\tlearn: 1567.5390369\ttotal: 1.03s\tremaining: 242ms\n",
      "81:\tlearn: 1565.4493235\ttotal: 1.04s\tremaining: 230ms\n",
      "82:\tlearn: 1563.9331365\ttotal: 1.06s\tremaining: 217ms\n",
      "83:\tlearn: 1562.8770327\ttotal: 1.07s\tremaining: 204ms\n",
      "84:\tlearn: 1561.1042699\ttotal: 1.08s\tremaining: 191ms\n",
      "85:\tlearn: 1559.6884016\ttotal: 1.09s\tremaining: 178ms\n",
      "86:\tlearn: 1557.5704741\ttotal: 1.11s\tremaining: 166ms\n",
      "87:\tlearn: 1555.0641998\ttotal: 1.12s\tremaining: 153ms\n",
      "88:\tlearn: 1553.5682049\ttotal: 1.14s\tremaining: 140ms\n",
      "89:\tlearn: 1552.2672864\ttotal: 1.15s\tremaining: 128ms\n",
      "90:\tlearn: 1550.3484858\ttotal: 1.16s\tremaining: 115ms\n",
      "91:\tlearn: 1547.9035113\ttotal: 1.17s\tremaining: 102ms\n",
      "92:\tlearn: 1546.1803314\ttotal: 1.19s\tremaining: 89.2ms\n",
      "93:\tlearn: 1544.5007724\ttotal: 1.2s\tremaining: 76.5ms\n",
      "94:\tlearn: 1543.6500908\ttotal: 1.21s\tremaining: 63.7ms\n",
      "95:\tlearn: 1542.6542314\ttotal: 1.22s\tremaining: 51ms\n",
      "96:\tlearn: 1540.4311191\ttotal: 1.24s\tremaining: 38.2ms\n",
      "97:\tlearn: 1538.5115635\ttotal: 1.25s\tremaining: 25.4ms\n",
      "98:\tlearn: 1537.3529620\ttotal: 1.26s\tremaining: 12.7ms\n",
      "99:\tlearn: 1536.2233487\ttotal: 1.27s\tremaining: 0us\n",
      "Depth = 8 Iteration = 100 RMSE = 1623.9017358321353\n",
      "Learning rate set to 0.5\n",
      "0:\tlearn: 3173.1838533\ttotal: 35.3ms\tremaining: 3.85s\n",
      "1:\tlearn: 2530.4805414\ttotal: 47.4ms\tremaining: 2.56s\n",
      "2:\tlearn: 2242.1393028\ttotal: 60.5ms\tremaining: 2.16s\n",
      "3:\tlearn: 2113.9534468\ttotal: 90.9ms\tremaining: 2.41s\n",
      "4:\tlearn: 2031.4736255\ttotal: 137ms\tremaining: 2.89s\n",
      "5:\tlearn: 1965.7642760\ttotal: 154ms\tremaining: 2.67s\n",
      "6:\tlearn: 1932.3666731\ttotal: 169ms\tremaining: 2.48s\n",
      "7:\tlearn: 1904.3197570\ttotal: 183ms\tremaining: 2.33s\n",
      "8:\tlearn: 1883.4422415\ttotal: 196ms\tremaining: 2.2s\n",
      "9:\tlearn: 1866.9420693\ttotal: 211ms\tremaining: 2.1s\n",
      "10:\tlearn: 1852.4120153\ttotal: 223ms\tremaining: 2s\n",
      "11:\tlearn: 1835.8433934\ttotal: 235ms\tremaining: 1.92s\n",
      "12:\tlearn: 1823.7844217\ttotal: 247ms\tremaining: 1.85s\n",
      "13:\tlearn: 1814.5958829\ttotal: 260ms\tremaining: 1.78s\n",
      "14:\tlearn: 1804.9302254\ttotal: 273ms\tremaining: 1.73s\n",
      "15:\tlearn: 1789.2385577\ttotal: 286ms\tremaining: 1.68s\n",
      "16:\tlearn: 1781.1512627\ttotal: 298ms\tremaining: 1.63s\n",
      "17:\tlearn: 1776.6429256\ttotal: 310ms\tremaining: 1.58s\n",
      "18:\tlearn: 1766.1032191\ttotal: 324ms\tremaining: 1.55s\n",
      "19:\tlearn: 1758.9627818\ttotal: 338ms\tremaining: 1.52s\n",
      "20:\tlearn: 1753.1153184\ttotal: 351ms\tremaining: 1.49s\n",
      "21:\tlearn: 1746.9426277\ttotal: 364ms\tremaining: 1.45s\n",
      "22:\tlearn: 1737.6327889\ttotal: 378ms\tremaining: 1.43s\n",
      "23:\tlearn: 1732.6665591\ttotal: 391ms\tremaining: 1.4s\n",
      "24:\tlearn: 1724.3103722\ttotal: 405ms\tremaining: 1.38s\n",
      "25:\tlearn: 1717.9392687\ttotal: 418ms\tremaining: 1.35s\n",
      "26:\tlearn: 1713.3757575\ttotal: 432ms\tremaining: 1.33s\n",
      "27:\tlearn: 1708.3382379\ttotal: 445ms\tremaining: 1.3s\n",
      "28:\tlearn: 1704.5452624\ttotal: 457ms\tremaining: 1.27s\n",
      "29:\tlearn: 1700.7342456\ttotal: 469ms\tremaining: 1.25s\n",
      "30:\tlearn: 1697.2374797\ttotal: 483ms\tremaining: 1.23s\n",
      "31:\tlearn: 1691.7039311\ttotal: 497ms\tremaining: 1.21s\n",
      "32:\tlearn: 1688.9537731\ttotal: 510ms\tremaining: 1.19s\n",
      "33:\tlearn: 1686.1076256\ttotal: 522ms\tremaining: 1.17s\n",
      "34:\tlearn: 1681.2731817\ttotal: 536ms\tremaining: 1.15s\n",
      "35:\tlearn: 1677.7830392\ttotal: 548ms\tremaining: 1.13s\n",
      "36:\tlearn: 1674.1620674\ttotal: 561ms\tremaining: 1.11s\n",
      "37:\tlearn: 1670.7481366\ttotal: 574ms\tremaining: 1.09s\n",
      "38:\tlearn: 1666.8182010\ttotal: 587ms\tremaining: 1.07s\n",
      "39:\tlearn: 1663.3822357\ttotal: 601ms\tremaining: 1.05s\n",
      "40:\tlearn: 1660.7407760\ttotal: 614ms\tremaining: 1.03s\n",
      "41:\tlearn: 1657.8255579\ttotal: 627ms\tremaining: 1.01s\n",
      "42:\tlearn: 1654.5878917\ttotal: 640ms\tremaining: 997ms\n",
      "43:\tlearn: 1652.7219535\ttotal: 653ms\tremaining: 980ms\n",
      "44:\tlearn: 1649.3090185\ttotal: 666ms\tremaining: 962ms\n",
      "45:\tlearn: 1646.1964612\ttotal: 681ms\tremaining: 947ms\n",
      "46:\tlearn: 1643.6868722\ttotal: 695ms\tremaining: 932ms\n",
      "47:\tlearn: 1641.0941728\ttotal: 709ms\tremaining: 916ms\n",
      "48:\tlearn: 1637.3853373\ttotal: 724ms\tremaining: 901ms\n",
      "49:\tlearn: 1634.4933431\ttotal: 738ms\tremaining: 885ms\n",
      "50:\tlearn: 1631.4495279\ttotal: 751ms\tremaining: 869ms\n",
      "51:\tlearn: 1627.0760501\ttotal: 765ms\tremaining: 854ms\n",
      "52:\tlearn: 1624.4586221\ttotal: 779ms\tremaining: 837ms\n",
      "53:\tlearn: 1622.5492585\ttotal: 791ms\tremaining: 821ms\n",
      "54:\tlearn: 1619.4615963\ttotal: 805ms\tremaining: 805ms\n",
      "55:\tlearn: 1617.9136831\ttotal: 817ms\tremaining: 788ms\n",
      "56:\tlearn: 1615.6897436\ttotal: 829ms\tremaining: 771ms\n",
      "57:\tlearn: 1614.2578335\ttotal: 842ms\tremaining: 755ms\n",
      "58:\tlearn: 1612.3804214\ttotal: 855ms\tremaining: 739ms\n",
      "59:\tlearn: 1609.9613801\ttotal: 869ms\tremaining: 724ms\n",
      "60:\tlearn: 1607.7156581\ttotal: 884ms\tremaining: 710ms\n",
      "61:\tlearn: 1604.1228897\ttotal: 898ms\tremaining: 695ms\n",
      "62:\tlearn: 1601.3442242\ttotal: 912ms\tremaining: 681ms\n",
      "63:\tlearn: 1598.6123925\ttotal: 926ms\tremaining: 665ms\n",
      "64:\tlearn: 1596.5255840\ttotal: 939ms\tremaining: 650ms\n",
      "65:\tlearn: 1593.9128392\ttotal: 953ms\tremaining: 636ms\n",
      "66:\tlearn: 1592.1501505\ttotal: 968ms\tremaining: 621ms\n",
      "67:\tlearn: 1589.5152368\ttotal: 981ms\tremaining: 606ms\n",
      "68:\tlearn: 1587.5785916\ttotal: 994ms\tremaining: 591ms\n",
      "69:\tlearn: 1585.2539875\ttotal: 1.01s\tremaining: 576ms\n",
      "70:\tlearn: 1583.6631817\ttotal: 1.02s\tremaining: 560ms\n",
      "71:\tlearn: 1582.2401621\ttotal: 1.03s\tremaining: 545ms\n",
      "72:\tlearn: 1581.0785192\ttotal: 1.04s\tremaining: 530ms\n",
      "73:\tlearn: 1579.8912998\ttotal: 1.06s\tremaining: 515ms\n",
      "74:\tlearn: 1578.1851308\ttotal: 1.07s\tremaining: 500ms\n",
      "75:\tlearn: 1576.9192946\ttotal: 1.08s\tremaining: 485ms\n",
      "76:\tlearn: 1574.7702456\ttotal: 1.1s\tremaining: 470ms\n",
      "77:\tlearn: 1573.0805689\ttotal: 1.11s\tremaining: 456ms\n",
      "78:\tlearn: 1570.7465156\ttotal: 1.13s\tremaining: 442ms\n",
      "79:\tlearn: 1569.3981728\ttotal: 1.14s\tremaining: 427ms\n",
      "80:\tlearn: 1567.5390369\ttotal: 1.15s\tremaining: 413ms\n",
      "81:\tlearn: 1565.4493235\ttotal: 1.17s\tremaining: 398ms\n",
      "82:\tlearn: 1563.9331365\ttotal: 1.18s\tremaining: 384ms\n",
      "83:\tlearn: 1562.8770327\ttotal: 1.19s\tremaining: 369ms\n",
      "84:\tlearn: 1561.1042699\ttotal: 1.21s\tremaining: 355ms\n",
      "85:\tlearn: 1559.6884016\ttotal: 1.22s\tremaining: 340ms\n",
      "86:\tlearn: 1557.5704741\ttotal: 1.23s\tremaining: 326ms\n",
      "87:\tlearn: 1555.0641998\ttotal: 1.25s\tremaining: 311ms\n",
      "88:\tlearn: 1553.5682049\ttotal: 1.26s\tremaining: 297ms\n",
      "89:\tlearn: 1552.2672864\ttotal: 1.27s\tremaining: 283ms\n",
      "90:\tlearn: 1550.3484858\ttotal: 1.28s\tremaining: 268ms\n",
      "91:\tlearn: 1547.9035113\ttotal: 1.3s\tremaining: 254ms\n",
      "92:\tlearn: 1546.1803314\ttotal: 1.31s\tremaining: 240ms\n",
      "93:\tlearn: 1544.5007724\ttotal: 1.33s\tremaining: 226ms\n",
      "94:\tlearn: 1543.6500908\ttotal: 1.34s\tremaining: 212ms\n",
      "95:\tlearn: 1542.6542314\ttotal: 1.35s\tremaining: 198ms\n",
      "96:\tlearn: 1540.4311191\ttotal: 1.37s\tremaining: 183ms\n",
      "97:\tlearn: 1538.5115635\ttotal: 1.38s\tremaining: 169ms\n",
      "98:\tlearn: 1537.3529620\ttotal: 1.39s\tremaining: 155ms\n",
      "99:\tlearn: 1536.2233487\ttotal: 1.4s\tremaining: 140ms\n",
      "100:\tlearn: 1534.8591102\ttotal: 1.42s\tremaining: 126ms\n",
      "101:\tlearn: 1533.7034573\ttotal: 1.43s\tremaining: 112ms\n",
      "102:\tlearn: 1532.0615950\ttotal: 1.44s\tremaining: 98ms\n",
      "103:\tlearn: 1531.1372473\ttotal: 1.45s\tremaining: 83.9ms\n",
      "104:\tlearn: 1529.8222580\ttotal: 1.47s\tremaining: 69.8ms\n",
      "105:\tlearn: 1528.3847660\ttotal: 1.48s\tremaining: 55.8ms\n",
      "106:\tlearn: 1527.1733451\ttotal: 1.49s\tremaining: 41.8ms\n",
      "107:\tlearn: 1525.3708220\ttotal: 1.5s\tremaining: 27.9ms\n",
      "108:\tlearn: 1523.8182522\ttotal: 1.52s\tremaining: 13.9ms\n",
      "109:\tlearn: 1522.5385466\ttotal: 1.53s\tremaining: 0us\n"
     ]
    },
    {
     "name": "stdout",
     "output_type": "stream",
     "text": [
      "Depth = 8 Iteration = 110 RMSE = 1618.7025387276478\n",
      "Learning rate set to 0.5\n",
      "0:\tlearn: 3099.4571063\ttotal: 30.4ms\tremaining: 1.49s\n",
      "1:\tlearn: 2404.0075045\ttotal: 59.1ms\tremaining: 1.42s\n",
      "2:\tlearn: 2105.1106134\ttotal: 89.4ms\tremaining: 1.4s\n",
      "3:\tlearn: 1964.8089158\ttotal: 121ms\tremaining: 1.39s\n",
      "4:\tlearn: 1899.8074947\ttotal: 150ms\tremaining: 1.35s\n",
      "5:\tlearn: 1844.6367530\ttotal: 179ms\tremaining: 1.31s\n",
      "6:\tlearn: 1815.8396802\ttotal: 210ms\tremaining: 1.29s\n",
      "7:\tlearn: 1797.8366410\ttotal: 239ms\tremaining: 1.26s\n",
      "8:\tlearn: 1781.2374224\ttotal: 269ms\tremaining: 1.22s\n",
      "9:\tlearn: 1765.6669352\ttotal: 298ms\tremaining: 1.19s\n",
      "10:\tlearn: 1748.1222969\ttotal: 330ms\tremaining: 1.17s\n",
      "11:\tlearn: 1739.7942597\ttotal: 360ms\tremaining: 1.14s\n",
      "12:\tlearn: 1726.8338800\ttotal: 388ms\tremaining: 1.1s\n",
      "13:\tlearn: 1713.5400322\ttotal: 419ms\tremaining: 1.08s\n",
      "14:\tlearn: 1705.5885701\ttotal: 450ms\tremaining: 1.05s\n",
      "15:\tlearn: 1687.0797457\ttotal: 479ms\tremaining: 1.02s\n",
      "16:\tlearn: 1679.7177324\ttotal: 510ms\tremaining: 989ms\n",
      "17:\tlearn: 1671.3330575\ttotal: 541ms\tremaining: 961ms\n",
      "18:\tlearn: 1663.9758222\ttotal: 571ms\tremaining: 932ms\n",
      "19:\tlearn: 1657.5214945\ttotal: 602ms\tremaining: 902ms\n",
      "20:\tlearn: 1646.6572249\ttotal: 715ms\tremaining: 987ms\n",
      "21:\tlearn: 1641.5044575\ttotal: 753ms\tremaining: 958ms\n",
      "22:\tlearn: 1634.9067734\ttotal: 789ms\tremaining: 926ms\n",
      "23:\tlearn: 1626.3711286\ttotal: 824ms\tremaining: 892ms\n",
      "24:\tlearn: 1619.9827442\ttotal: 857ms\tremaining: 857ms\n",
      "25:\tlearn: 1614.5402793\ttotal: 889ms\tremaining: 821ms\n",
      "26:\tlearn: 1610.5223376\ttotal: 919ms\tremaining: 783ms\n",
      "27:\tlearn: 1604.7676407\ttotal: 949ms\tremaining: 745ms\n",
      "28:\tlearn: 1600.7250778\ttotal: 979ms\tremaining: 709ms\n",
      "29:\tlearn: 1595.5772190\ttotal: 1.01s\tremaining: 672ms\n",
      "30:\tlearn: 1591.3406965\ttotal: 1.04s\tremaining: 636ms\n",
      "31:\tlearn: 1586.8075272\ttotal: 1.07s\tremaining: 602ms\n",
      "32:\tlearn: 1580.1092314\ttotal: 1.1s\tremaining: 568ms\n",
      "33:\tlearn: 1572.9602171\ttotal: 1.13s\tremaining: 533ms\n",
      "34:\tlearn: 1568.3471726\ttotal: 1.16s\tremaining: 499ms\n",
      "35:\tlearn: 1565.1706576\ttotal: 1.2s\tremaining: 465ms\n",
      "36:\tlearn: 1560.1009675\ttotal: 1.23s\tremaining: 431ms\n",
      "37:\tlearn: 1556.0014093\ttotal: 1.25s\tremaining: 397ms\n",
      "38:\tlearn: 1552.1141525\ttotal: 1.28s\tremaining: 362ms\n",
      "39:\tlearn: 1548.6524491\ttotal: 1.31s\tremaining: 328ms\n",
      "40:\tlearn: 1543.1069852\ttotal: 1.34s\tremaining: 295ms\n",
      "41:\tlearn: 1536.8925493\ttotal: 1.37s\tremaining: 261ms\n",
      "42:\tlearn: 1531.8407911\ttotal: 1.4s\tremaining: 228ms\n",
      "43:\tlearn: 1528.7716558\ttotal: 1.43s\tremaining: 195ms\n",
      "44:\tlearn: 1525.3694281\ttotal: 1.46s\tremaining: 162ms\n",
      "45:\tlearn: 1522.2411229\ttotal: 1.49s\tremaining: 130ms\n",
      "46:\tlearn: 1519.6987970\ttotal: 1.52s\tremaining: 97ms\n",
      "47:\tlearn: 1515.5120451\ttotal: 1.55s\tremaining: 64.5ms\n",
      "48:\tlearn: 1513.2382189\ttotal: 1.58s\tremaining: 32.2ms\n",
      "49:\tlearn: 1510.5197538\ttotal: 1.61s\tremaining: 0us\n",
      "Depth = 11 Iteration = 50 RMSE = 1633.5192325918854\n",
      "Learning rate set to 0.5\n",
      "0:\tlearn: 3099.4571063\ttotal: 31.3ms\tremaining: 1.85s\n",
      "1:\tlearn: 2404.0075045\ttotal: 64.7ms\tremaining: 1.88s\n",
      "2:\tlearn: 2105.1106134\ttotal: 95.9ms\tremaining: 1.82s\n",
      "3:\tlearn: 1964.8089158\ttotal: 126ms\tremaining: 1.76s\n",
      "4:\tlearn: 1899.8074947\ttotal: 156ms\tremaining: 1.72s\n",
      "5:\tlearn: 1844.6367530\ttotal: 187ms\tremaining: 1.68s\n",
      "6:\tlearn: 1815.8396802\ttotal: 217ms\tremaining: 1.65s\n",
      "7:\tlearn: 1797.8366410\ttotal: 248ms\tremaining: 1.61s\n",
      "8:\tlearn: 1781.2374224\ttotal: 277ms\tremaining: 1.57s\n",
      "9:\tlearn: 1765.6669352\ttotal: 307ms\tremaining: 1.53s\n",
      "10:\tlearn: 1748.1222969\ttotal: 336ms\tremaining: 1.5s\n",
      "11:\tlearn: 1739.7942597\ttotal: 365ms\tremaining: 1.46s\n",
      "12:\tlearn: 1726.8338800\ttotal: 395ms\tremaining: 1.43s\n",
      "13:\tlearn: 1713.5400322\ttotal: 425ms\tremaining: 1.4s\n",
      "14:\tlearn: 1705.5885701\ttotal: 455ms\tremaining: 1.37s\n",
      "15:\tlearn: 1687.0797457\ttotal: 485ms\tremaining: 1.33s\n",
      "16:\tlearn: 1679.7177324\ttotal: 514ms\tremaining: 1.3s\n",
      "17:\tlearn: 1671.3330575\ttotal: 543ms\tremaining: 1.27s\n",
      "18:\tlearn: 1663.9758222\ttotal: 571ms\tremaining: 1.23s\n",
      "19:\tlearn: 1657.5214945\ttotal: 600ms\tremaining: 1.2s\n",
      "20:\tlearn: 1646.6572249\ttotal: 630ms\tremaining: 1.17s\n",
      "21:\tlearn: 1641.5044575\ttotal: 661ms\tremaining: 1.14s\n",
      "22:\tlearn: 1634.9067734\ttotal: 690ms\tremaining: 1.11s\n",
      "23:\tlearn: 1626.3711286\ttotal: 718ms\tremaining: 1.08s\n",
      "24:\tlearn: 1619.9827442\ttotal: 747ms\tremaining: 1.04s\n",
      "25:\tlearn: 1614.5402793\ttotal: 775ms\tremaining: 1.01s\n",
      "26:\tlearn: 1610.5223376\ttotal: 805ms\tremaining: 983ms\n",
      "27:\tlearn: 1604.7676407\ttotal: 835ms\tremaining: 955ms\n",
      "28:\tlearn: 1600.7250778\ttotal: 865ms\tremaining: 924ms\n",
      "29:\tlearn: 1595.5772190\ttotal: 893ms\tremaining: 893ms\n",
      "30:\tlearn: 1591.3406965\ttotal: 922ms\tremaining: 863ms\n",
      "31:\tlearn: 1586.8075272\ttotal: 952ms\tremaining: 833ms\n",
      "32:\tlearn: 1580.1092314\ttotal: 983ms\tremaining: 804ms\n",
      "33:\tlearn: 1572.9602171\ttotal: 1.01s\tremaining: 776ms\n",
      "34:\tlearn: 1568.3471726\ttotal: 1.05s\tremaining: 748ms\n",
      "35:\tlearn: 1565.1706576\ttotal: 1.08s\tremaining: 719ms\n",
      "36:\tlearn: 1560.1009675\ttotal: 1.11s\tremaining: 690ms\n",
      "37:\tlearn: 1556.0014093\ttotal: 1.14s\tremaining: 659ms\n",
      "38:\tlearn: 1552.1141525\ttotal: 1.17s\tremaining: 629ms\n",
      "39:\tlearn: 1548.6524491\ttotal: 1.2s\tremaining: 599ms\n",
      "40:\tlearn: 1543.1069852\ttotal: 1.23s\tremaining: 570ms\n",
      "41:\tlearn: 1536.8925493\ttotal: 1.26s\tremaining: 539ms\n",
      "42:\tlearn: 1531.8407911\ttotal: 1.29s\tremaining: 510ms\n",
      "43:\tlearn: 1528.7716558\ttotal: 1.32s\tremaining: 480ms\n",
      "44:\tlearn: 1525.3694281\ttotal: 1.35s\tremaining: 449ms\n",
      "45:\tlearn: 1522.2411229\ttotal: 1.38s\tremaining: 419ms\n",
      "46:\tlearn: 1519.6987970\ttotal: 1.41s\tremaining: 389ms\n",
      "47:\tlearn: 1515.5120451\ttotal: 1.44s\tremaining: 359ms\n",
      "48:\tlearn: 1513.2382189\ttotal: 1.46s\tremaining: 329ms\n",
      "49:\tlearn: 1510.5197538\ttotal: 1.5s\tremaining: 299ms\n",
      "50:\tlearn: 1508.4070623\ttotal: 1.52s\tremaining: 269ms\n",
      "51:\tlearn: 1505.3737385\ttotal: 1.55s\tremaining: 239ms\n",
      "52:\tlearn: 1501.7900497\ttotal: 1.58s\tremaining: 209ms\n",
      "53:\tlearn: 1499.3450483\ttotal: 1.61s\tremaining: 179ms\n",
      "54:\tlearn: 1495.9081022\ttotal: 1.64s\tremaining: 149ms\n",
      "55:\tlearn: 1493.3600377\ttotal: 1.67s\tremaining: 119ms\n",
      "56:\tlearn: 1489.5702414\ttotal: 1.7s\tremaining: 89.5ms\n",
      "57:\tlearn: 1487.3548073\ttotal: 1.73s\tremaining: 59.7ms\n",
      "58:\tlearn: 1484.1780486\ttotal: 1.76s\tremaining: 29.8ms\n",
      "59:\tlearn: 1482.7206227\ttotal: 1.79s\tremaining: 0us\n",
      "Depth = 11 Iteration = 60 RMSE = 1620.7328249755683\n",
      "Learning rate set to 0.5\n",
      "0:\tlearn: 3099.4571063\ttotal: 30.7ms\tremaining: 2.12s\n",
      "1:\tlearn: 2404.0075045\ttotal: 59ms\tremaining: 2s\n",
      "2:\tlearn: 2105.1106134\ttotal: 88ms\tremaining: 1.97s\n",
      "3:\tlearn: 1964.8089158\ttotal: 118ms\tremaining: 1.95s\n",
      "4:\tlearn: 1899.8074947\ttotal: 147ms\tremaining: 1.91s\n",
      "5:\tlearn: 1844.6367530\ttotal: 178ms\tremaining: 1.89s\n",
      "6:\tlearn: 1815.8396802\ttotal: 208ms\tremaining: 1.87s\n",
      "7:\tlearn: 1797.8366410\ttotal: 239ms\tremaining: 1.85s\n",
      "8:\tlearn: 1781.2374224\ttotal: 270ms\tremaining: 1.83s\n",
      "9:\tlearn: 1765.6669352\ttotal: 300ms\tremaining: 1.8s\n",
      "10:\tlearn: 1748.1222969\ttotal: 329ms\tremaining: 1.77s\n",
      "11:\tlearn: 1739.7942597\ttotal: 359ms\tremaining: 1.73s\n",
      "12:\tlearn: 1726.8338800\ttotal: 388ms\tremaining: 1.7s\n",
      "13:\tlearn: 1713.5400322\ttotal: 416ms\tremaining: 1.66s\n",
      "14:\tlearn: 1705.5885701\ttotal: 445ms\tremaining: 1.63s\n",
      "15:\tlearn: 1687.0797457\ttotal: 475ms\tremaining: 1.6s\n",
      "16:\tlearn: 1679.7177324\ttotal: 506ms\tremaining: 1.58s\n",
      "17:\tlearn: 1671.3330575\ttotal: 536ms\tremaining: 1.55s\n",
      "18:\tlearn: 1663.9758222\ttotal: 567ms\tremaining: 1.52s\n",
      "19:\tlearn: 1657.5214945\ttotal: 596ms\tremaining: 1.49s\n",
      "20:\tlearn: 1646.6572249\ttotal: 625ms\tremaining: 1.46s\n",
      "21:\tlearn: 1641.5044575\ttotal: 655ms\tremaining: 1.43s\n",
      "22:\tlearn: 1634.9067734\ttotal: 685ms\tremaining: 1.4s\n",
      "23:\tlearn: 1626.3711286\ttotal: 713ms\tremaining: 1.37s\n",
      "24:\tlearn: 1619.9827442\ttotal: 742ms\tremaining: 1.33s\n",
      "25:\tlearn: 1614.5402793\ttotal: 771ms\tremaining: 1.3s\n",
      "26:\tlearn: 1610.5223376\ttotal: 800ms\tremaining: 1.27s\n",
      "27:\tlearn: 1604.7676407\ttotal: 829ms\tremaining: 1.24s\n",
      "28:\tlearn: 1600.7250778\ttotal: 858ms\tremaining: 1.21s\n",
      "29:\tlearn: 1595.5772190\ttotal: 887ms\tremaining: 1.18s\n",
      "30:\tlearn: 1591.3406965\ttotal: 917ms\tremaining: 1.15s\n",
      "31:\tlearn: 1586.8075272\ttotal: 946ms\tremaining: 1.12s\n",
      "32:\tlearn: 1580.1092314\ttotal: 976ms\tremaining: 1.09s\n",
      "33:\tlearn: 1572.9602171\ttotal: 1.01s\tremaining: 1.07s\n",
      "34:\tlearn: 1568.3471726\ttotal: 1.04s\tremaining: 1.04s\n",
      "35:\tlearn: 1565.1706576\ttotal: 1.07s\tremaining: 1.01s\n",
      "36:\tlearn: 1560.1009675\ttotal: 1.1s\tremaining: 981ms\n",
      "37:\tlearn: 1556.0014093\ttotal: 1.13s\tremaining: 952ms\n",
      "38:\tlearn: 1552.1141525\ttotal: 1.16s\tremaining: 922ms\n"
     ]
    },
    {
     "name": "stdout",
     "output_type": "stream",
     "text": [
      "39:\tlearn: 1548.6524491\ttotal: 1.19s\tremaining: 894ms\n",
      "40:\tlearn: 1543.1069852\ttotal: 1.22s\tremaining: 866ms\n",
      "41:\tlearn: 1536.8925493\ttotal: 1.25s\tremaining: 837ms\n",
      "42:\tlearn: 1531.8407911\ttotal: 1.29s\tremaining: 808ms\n",
      "43:\tlearn: 1528.7716558\ttotal: 1.32s\tremaining: 778ms\n",
      "44:\tlearn: 1525.3694281\ttotal: 1.35s\tremaining: 748ms\n",
      "45:\tlearn: 1522.2411229\ttotal: 1.38s\tremaining: 718ms\n",
      "46:\tlearn: 1519.6987970\ttotal: 1.41s\tremaining: 688ms\n",
      "47:\tlearn: 1515.5120451\ttotal: 1.44s\tremaining: 658ms\n",
      "48:\tlearn: 1513.2382189\ttotal: 1.46s\tremaining: 628ms\n",
      "49:\tlearn: 1510.5197538\ttotal: 1.49s\tremaining: 598ms\n",
      "50:\tlearn: 1508.4070623\ttotal: 1.52s\tremaining: 567ms\n",
      "51:\tlearn: 1505.3737385\ttotal: 1.55s\tremaining: 538ms\n",
      "52:\tlearn: 1501.7900497\ttotal: 1.58s\tremaining: 508ms\n",
      "53:\tlearn: 1499.3450483\ttotal: 1.61s\tremaining: 478ms\n",
      "54:\tlearn: 1495.9081022\ttotal: 1.64s\tremaining: 448ms\n",
      "55:\tlearn: 1493.3600377\ttotal: 1.67s\tremaining: 418ms\n",
      "56:\tlearn: 1489.5702414\ttotal: 1.7s\tremaining: 388ms\n",
      "57:\tlearn: 1487.3548073\ttotal: 1.73s\tremaining: 358ms\n",
      "58:\tlearn: 1484.1780486\ttotal: 1.76s\tremaining: 328ms\n",
      "59:\tlearn: 1482.7206227\ttotal: 1.79s\tremaining: 298ms\n",
      "60:\tlearn: 1479.3932725\ttotal: 1.82s\tremaining: 268ms\n",
      "61:\tlearn: 1477.4300350\ttotal: 1.85s\tremaining: 238ms\n",
      "62:\tlearn: 1473.5915547\ttotal: 1.88s\tremaining: 209ms\n",
      "63:\tlearn: 1470.3726298\ttotal: 1.91s\tremaining: 179ms\n",
      "64:\tlearn: 1468.1198924\ttotal: 1.94s\tremaining: 149ms\n",
      "65:\tlearn: 1466.8501171\ttotal: 1.96s\tremaining: 119ms\n",
      "66:\tlearn: 1464.5523539\ttotal: 1.99s\tremaining: 89.2ms\n",
      "67:\tlearn: 1463.1898885\ttotal: 2.02s\tremaining: 59.5ms\n",
      "68:\tlearn: 1460.4904741\ttotal: 2.05s\tremaining: 29.7ms\n",
      "69:\tlearn: 1458.6808118\ttotal: 2.08s\tremaining: 0us\n",
      "Depth = 11 Iteration = 70 RMSE = 1610.271979003913\n",
      "Learning rate set to 0.5\n",
      "0:\tlearn: 3099.4571063\ttotal: 33.1ms\tremaining: 2.61s\n",
      "1:\tlearn: 2404.0075045\ttotal: 66.3ms\tremaining: 2.59s\n",
      "2:\tlearn: 2105.1106134\ttotal: 97.3ms\tremaining: 2.5s\n",
      "3:\tlearn: 1964.8089158\ttotal: 128ms\tremaining: 2.43s\n",
      "4:\tlearn: 1899.8074947\ttotal: 158ms\tremaining: 2.37s\n",
      "5:\tlearn: 1844.6367530\ttotal: 188ms\tremaining: 2.32s\n",
      "6:\tlearn: 1815.8396802\ttotal: 218ms\tremaining: 2.28s\n",
      "7:\tlearn: 1797.8366410\ttotal: 247ms\tremaining: 2.23s\n",
      "8:\tlearn: 1781.2374224\ttotal: 277ms\tremaining: 2.18s\n",
      "9:\tlearn: 1765.6669352\ttotal: 305ms\tremaining: 2.13s\n",
      "10:\tlearn: 1748.1222969\ttotal: 333ms\tremaining: 2.09s\n",
      "11:\tlearn: 1739.7942597\ttotal: 362ms\tremaining: 2.05s\n",
      "12:\tlearn: 1726.8338800\ttotal: 392ms\tremaining: 2.02s\n",
      "13:\tlearn: 1713.5400322\ttotal: 421ms\tremaining: 1.99s\n",
      "14:\tlearn: 1705.5885701\ttotal: 450ms\tremaining: 1.95s\n",
      "15:\tlearn: 1687.0797457\ttotal: 480ms\tremaining: 1.92s\n",
      "16:\tlearn: 1679.7177324\ttotal: 509ms\tremaining: 1.89s\n",
      "17:\tlearn: 1671.3330575\ttotal: 538ms\tremaining: 1.85s\n",
      "18:\tlearn: 1663.9758222\ttotal: 567ms\tremaining: 1.82s\n",
      "19:\tlearn: 1657.5214945\ttotal: 595ms\tremaining: 1.78s\n",
      "20:\tlearn: 1646.6572249\ttotal: 626ms\tremaining: 1.76s\n",
      "21:\tlearn: 1641.5044575\ttotal: 655ms\tremaining: 1.73s\n",
      "22:\tlearn: 1634.9067734\ttotal: 684ms\tremaining: 1.7s\n",
      "23:\tlearn: 1626.3711286\ttotal: 712ms\tremaining: 1.66s\n",
      "24:\tlearn: 1619.9827442\ttotal: 742ms\tremaining: 1.63s\n",
      "25:\tlearn: 1614.5402793\ttotal: 770ms\tremaining: 1.6s\n",
      "26:\tlearn: 1610.5223376\ttotal: 800ms\tremaining: 1.57s\n",
      "27:\tlearn: 1604.7676407\ttotal: 829ms\tremaining: 1.54s\n",
      "28:\tlearn: 1600.7250778\ttotal: 858ms\tremaining: 1.51s\n",
      "29:\tlearn: 1595.5772190\ttotal: 887ms\tremaining: 1.48s\n",
      "30:\tlearn: 1591.3406965\ttotal: 916ms\tremaining: 1.45s\n",
      "31:\tlearn: 1586.8075272\ttotal: 947ms\tremaining: 1.42s\n",
      "32:\tlearn: 1580.1092314\ttotal: 976ms\tremaining: 1.39s\n",
      "33:\tlearn: 1572.9602171\ttotal: 1.01s\tremaining: 1.36s\n",
      "34:\tlearn: 1568.3471726\ttotal: 1.04s\tremaining: 1.33s\n",
      "35:\tlearn: 1565.1706576\ttotal: 1.07s\tremaining: 1.31s\n",
      "36:\tlearn: 1560.1009675\ttotal: 1.1s\tremaining: 1.28s\n",
      "37:\tlearn: 1556.0014093\ttotal: 1.13s\tremaining: 1.25s\n",
      "38:\tlearn: 1552.1141525\ttotal: 1.16s\tremaining: 1.22s\n",
      "39:\tlearn: 1548.6524491\ttotal: 1.19s\tremaining: 1.19s\n",
      "40:\tlearn: 1543.1069852\ttotal: 1.22s\tremaining: 1.16s\n",
      "41:\tlearn: 1536.8925493\ttotal: 1.25s\tremaining: 1.13s\n",
      "42:\tlearn: 1531.8407911\ttotal: 1.28s\tremaining: 1.1s\n",
      "43:\tlearn: 1528.7716558\ttotal: 1.31s\tremaining: 1.07s\n",
      "44:\tlearn: 1525.3694281\ttotal: 1.33s\tremaining: 1.04s\n",
      "45:\tlearn: 1522.2411229\ttotal: 1.36s\tremaining: 1.01s\n",
      "46:\tlearn: 1519.6987970\ttotal: 1.39s\tremaining: 978ms\n",
      "47:\tlearn: 1515.5120451\ttotal: 1.42s\tremaining: 948ms\n",
      "48:\tlearn: 1513.2382189\ttotal: 1.45s\tremaining: 918ms\n",
      "49:\tlearn: 1510.5197538\ttotal: 1.48s\tremaining: 889ms\n",
      "50:\tlearn: 1508.4070623\ttotal: 1.51s\tremaining: 859ms\n",
      "51:\tlearn: 1505.3737385\ttotal: 1.54s\tremaining: 829ms\n",
      "52:\tlearn: 1501.7900497\ttotal: 1.57s\tremaining: 799ms\n",
      "53:\tlearn: 1499.3450483\ttotal: 1.6s\tremaining: 769ms\n",
      "54:\tlearn: 1495.9081022\ttotal: 1.63s\tremaining: 739ms\n",
      "55:\tlearn: 1493.3600377\ttotal: 1.65s\tremaining: 709ms\n",
      "56:\tlearn: 1489.5702414\ttotal: 1.68s\tremaining: 680ms\n",
      "57:\tlearn: 1487.3548073\ttotal: 1.71s\tremaining: 650ms\n",
      "58:\tlearn: 1484.1780486\ttotal: 1.74s\tremaining: 620ms\n",
      "59:\tlearn: 1482.7206227\ttotal: 1.77s\tremaining: 591ms\n",
      "60:\tlearn: 1479.3932725\ttotal: 1.8s\tremaining: 561ms\n",
      "61:\tlearn: 1477.4300350\ttotal: 1.83s\tremaining: 531ms\n",
      "62:\tlearn: 1473.5915547\ttotal: 1.86s\tremaining: 502ms\n",
      "63:\tlearn: 1470.3726298\ttotal: 1.89s\tremaining: 472ms\n",
      "64:\tlearn: 1468.1198924\ttotal: 1.92s\tremaining: 443ms\n",
      "65:\tlearn: 1466.8501171\ttotal: 1.95s\tremaining: 413ms\n",
      "66:\tlearn: 1464.5523539\ttotal: 1.98s\tremaining: 384ms\n",
      "67:\tlearn: 1463.1898885\ttotal: 2.01s\tremaining: 355ms\n",
      "68:\tlearn: 1460.4904741\ttotal: 2.04s\tremaining: 325ms\n",
      "69:\tlearn: 1458.6808118\ttotal: 2.07s\tremaining: 296ms\n",
      "70:\tlearn: 1456.3701735\ttotal: 2.1s\tremaining: 267ms\n",
      "71:\tlearn: 1454.1870628\ttotal: 2.13s\tremaining: 237ms\n",
      "72:\tlearn: 1452.3563809\ttotal: 2.16s\tremaining: 208ms\n",
      "73:\tlearn: 1450.3284799\ttotal: 2.19s\tremaining: 178ms\n",
      "74:\tlearn: 1446.8428581\ttotal: 2.23s\tremaining: 148ms\n",
      "75:\tlearn: 1445.0230953\ttotal: 2.25s\tremaining: 119ms\n",
      "76:\tlearn: 1443.5959648\ttotal: 2.28s\tremaining: 89ms\n",
      "77:\tlearn: 1442.7920028\ttotal: 2.31s\tremaining: 59.3ms\n",
      "78:\tlearn: 1441.1182848\ttotal: 2.34s\tremaining: 29.7ms\n",
      "79:\tlearn: 1439.1023869\ttotal: 2.37s\tremaining: 0us\n",
      "Depth = 11 Iteration = 80 RMSE = 1604.7990378577563\n",
      "Learning rate set to 0.5\n",
      "0:\tlearn: 3099.4571063\ttotal: 30.4ms\tremaining: 2.71s\n",
      "1:\tlearn: 2404.0075045\ttotal: 58.3ms\tremaining: 2.56s\n",
      "2:\tlearn: 2105.1106134\ttotal: 87.4ms\tremaining: 2.53s\n",
      "3:\tlearn: 1964.8089158\ttotal: 117ms\tremaining: 2.52s\n",
      "4:\tlearn: 1899.8074947\ttotal: 147ms\tremaining: 2.5s\n",
      "5:\tlearn: 1844.6367530\ttotal: 175ms\tremaining: 2.45s\n",
      "6:\tlearn: 1815.8396802\ttotal: 203ms\tremaining: 2.41s\n",
      "7:\tlearn: 1797.8366410\ttotal: 232ms\tremaining: 2.38s\n",
      "8:\tlearn: 1781.2374224\ttotal: 261ms\tremaining: 2.35s\n",
      "9:\tlearn: 1765.6669352\ttotal: 290ms\tremaining: 2.32s\n",
      "10:\tlearn: 1748.1222969\ttotal: 318ms\tremaining: 2.29s\n",
      "11:\tlearn: 1739.7942597\ttotal: 348ms\tremaining: 2.26s\n",
      "12:\tlearn: 1726.8338800\ttotal: 377ms\tremaining: 2.23s\n",
      "13:\tlearn: 1713.5400322\ttotal: 405ms\tremaining: 2.2s\n",
      "14:\tlearn: 1705.5885701\ttotal: 435ms\tremaining: 2.17s\n",
      "15:\tlearn: 1687.0797457\ttotal: 464ms\tremaining: 2.15s\n",
      "16:\tlearn: 1679.7177324\ttotal: 493ms\tremaining: 2.12s\n",
      "17:\tlearn: 1671.3330575\ttotal: 523ms\tremaining: 2.09s\n",
      "18:\tlearn: 1663.9758222\ttotal: 552ms\tremaining: 2.06s\n",
      "19:\tlearn: 1657.5214945\ttotal: 583ms\tremaining: 2.04s\n",
      "20:\tlearn: 1646.6572249\ttotal: 615ms\tremaining: 2.02s\n",
      "21:\tlearn: 1641.5044575\ttotal: 646ms\tremaining: 2s\n",
      "22:\tlearn: 1634.9067734\ttotal: 676ms\tremaining: 1.97s\n",
      "23:\tlearn: 1626.3711286\ttotal: 706ms\tremaining: 1.94s\n",
      "24:\tlearn: 1619.9827442\ttotal: 735ms\tremaining: 1.91s\n",
      "25:\tlearn: 1614.5402793\ttotal: 764ms\tremaining: 1.88s\n",
      "26:\tlearn: 1610.5223376\ttotal: 794ms\tremaining: 1.85s\n",
      "27:\tlearn: 1604.7676407\ttotal: 824ms\tremaining: 1.82s\n",
      "28:\tlearn: 1600.7250778\ttotal: 854ms\tremaining: 1.79s\n",
      "29:\tlearn: 1595.5772190\ttotal: 882ms\tremaining: 1.76s\n",
      "30:\tlearn: 1591.3406965\ttotal: 911ms\tremaining: 1.73s\n",
      "31:\tlearn: 1586.8075272\ttotal: 940ms\tremaining: 1.7s\n",
      "32:\tlearn: 1580.1092314\ttotal: 970ms\tremaining: 1.68s\n",
      "33:\tlearn: 1572.9602171\ttotal: 1000ms\tremaining: 1.65s\n",
      "34:\tlearn: 1568.3471726\ttotal: 1.03s\tremaining: 1.62s\n",
      "35:\tlearn: 1565.1706576\ttotal: 1.06s\tremaining: 1.59s\n",
      "36:\tlearn: 1560.1009675\ttotal: 1.09s\tremaining: 1.56s\n",
      "37:\tlearn: 1556.0014093\ttotal: 1.12s\tremaining: 1.53s\n",
      "38:\tlearn: 1552.1141525\ttotal: 1.15s\tremaining: 1.5s\n",
      "39:\tlearn: 1548.6524491\ttotal: 1.17s\tremaining: 1.47s\n",
      "40:\tlearn: 1543.1069852\ttotal: 1.2s\tremaining: 1.44s\n",
      "41:\tlearn: 1536.8925493\ttotal: 1.23s\tremaining: 1.41s\n"
     ]
    },
    {
     "name": "stdout",
     "output_type": "stream",
     "text": [
      "42:\tlearn: 1531.8407911\ttotal: 1.26s\tremaining: 1.38s\n",
      "43:\tlearn: 1528.7716558\ttotal: 1.29s\tremaining: 1.35s\n",
      "44:\tlearn: 1525.3694281\ttotal: 1.32s\tremaining: 1.32s\n",
      "45:\tlearn: 1522.2411229\ttotal: 1.35s\tremaining: 1.29s\n",
      "46:\tlearn: 1519.6987970\ttotal: 1.38s\tremaining: 1.26s\n",
      "47:\tlearn: 1515.5120451\ttotal: 1.41s\tremaining: 1.23s\n",
      "48:\tlearn: 1513.2382189\ttotal: 1.44s\tremaining: 1.2s\n",
      "49:\tlearn: 1510.5197538\ttotal: 1.47s\tremaining: 1.17s\n",
      "50:\tlearn: 1508.4070623\ttotal: 1.49s\tremaining: 1.14s\n",
      "51:\tlearn: 1505.3737385\ttotal: 1.52s\tremaining: 1.11s\n",
      "52:\tlearn: 1501.7900497\ttotal: 1.55s\tremaining: 1.08s\n",
      "53:\tlearn: 1499.3450483\ttotal: 1.58s\tremaining: 1.06s\n",
      "54:\tlearn: 1495.9081022\ttotal: 1.61s\tremaining: 1.03s\n",
      "55:\tlearn: 1493.3600377\ttotal: 1.64s\tremaining: 999ms\n",
      "56:\tlearn: 1489.5702414\ttotal: 1.67s\tremaining: 969ms\n",
      "57:\tlearn: 1487.3548073\ttotal: 1.7s\tremaining: 940ms\n",
      "58:\tlearn: 1484.1780486\ttotal: 1.73s\tremaining: 911ms\n",
      "59:\tlearn: 1482.7206227\ttotal: 1.76s\tremaining: 882ms\n",
      "60:\tlearn: 1479.3932725\ttotal: 1.79s\tremaining: 853ms\n",
      "61:\tlearn: 1477.4300350\ttotal: 1.82s\tremaining: 823ms\n",
      "62:\tlearn: 1473.5915547\ttotal: 1.85s\tremaining: 793ms\n",
      "63:\tlearn: 1470.3726298\ttotal: 1.88s\tremaining: 764ms\n",
      "64:\tlearn: 1468.1198924\ttotal: 1.91s\tremaining: 734ms\n",
      "65:\tlearn: 1466.8501171\ttotal: 1.94s\tremaining: 705ms\n",
      "66:\tlearn: 1464.5523539\ttotal: 1.97s\tremaining: 676ms\n",
      "67:\tlearn: 1463.1898885\ttotal: 2s\tremaining: 647ms\n",
      "68:\tlearn: 1460.4904741\ttotal: 2.03s\tremaining: 617ms\n",
      "69:\tlearn: 1458.6808118\ttotal: 2.06s\tremaining: 588ms\n",
      "70:\tlearn: 1456.3701735\ttotal: 2.09s\tremaining: 558ms\n",
      "71:\tlearn: 1454.1870628\ttotal: 2.12s\tremaining: 529ms\n",
      "72:\tlearn: 1452.3563809\ttotal: 2.14s\tremaining: 499ms\n",
      "73:\tlearn: 1450.3284799\ttotal: 2.17s\tremaining: 470ms\n",
      "74:\tlearn: 1446.8428581\ttotal: 2.2s\tremaining: 441ms\n",
      "75:\tlearn: 1445.0230953\ttotal: 2.23s\tremaining: 411ms\n",
      "76:\tlearn: 1443.5959648\ttotal: 2.26s\tremaining: 382ms\n",
      "77:\tlearn: 1442.7920028\ttotal: 2.29s\tremaining: 352ms\n",
      "78:\tlearn: 1441.1182848\ttotal: 2.32s\tremaining: 323ms\n",
      "79:\tlearn: 1439.1023869\ttotal: 2.35s\tremaining: 293ms\n",
      "80:\tlearn: 1437.5640346\ttotal: 2.38s\tremaining: 264ms\n",
      "81:\tlearn: 1435.1876045\ttotal: 2.4s\tremaining: 235ms\n",
      "82:\tlearn: 1433.7275197\ttotal: 2.44s\tremaining: 205ms\n",
      "83:\tlearn: 1431.5763625\ttotal: 2.46s\tremaining: 176ms\n",
      "84:\tlearn: 1429.2365959\ttotal: 2.5s\tremaining: 147ms\n",
      "85:\tlearn: 1426.8679538\ttotal: 2.52s\tremaining: 117ms\n",
      "86:\tlearn: 1425.2656547\ttotal: 2.56s\tremaining: 88.1ms\n",
      "87:\tlearn: 1423.0956643\ttotal: 2.59s\tremaining: 58.8ms\n",
      "88:\tlearn: 1421.2626894\ttotal: 2.62s\tremaining: 29.4ms\n",
      "89:\tlearn: 1419.3069847\ttotal: 2.65s\tremaining: 0us\n",
      "Depth = 11 Iteration = 90 RMSE = 1596.904946522923\n",
      "Learning rate set to 0.5\n",
      "0:\tlearn: 3099.4571063\ttotal: 30ms\tremaining: 2.97s\n",
      "1:\tlearn: 2404.0075045\ttotal: 60.8ms\tremaining: 2.98s\n",
      "2:\tlearn: 2105.1106134\ttotal: 89.6ms\tremaining: 2.9s\n",
      "3:\tlearn: 1964.8089158\ttotal: 118ms\tremaining: 2.84s\n",
      "4:\tlearn: 1899.8074947\ttotal: 147ms\tremaining: 2.79s\n",
      "5:\tlearn: 1844.6367530\ttotal: 176ms\tremaining: 2.75s\n",
      "6:\tlearn: 1815.8396802\ttotal: 205ms\tremaining: 2.73s\n",
      "7:\tlearn: 1797.8366410\ttotal: 235ms\tremaining: 2.71s\n",
      "8:\tlearn: 1781.2374224\ttotal: 265ms\tremaining: 2.68s\n",
      "9:\tlearn: 1765.6669352\ttotal: 294ms\tremaining: 2.64s\n",
      "10:\tlearn: 1748.1222969\ttotal: 322ms\tremaining: 2.61s\n",
      "11:\tlearn: 1739.7942597\ttotal: 351ms\tremaining: 2.58s\n",
      "12:\tlearn: 1726.8338800\ttotal: 381ms\tremaining: 2.55s\n",
      "13:\tlearn: 1713.5400322\ttotal: 409ms\tremaining: 2.51s\n",
      "14:\tlearn: 1705.5885701\ttotal: 438ms\tremaining: 2.48s\n",
      "15:\tlearn: 1687.0797457\ttotal: 467ms\tremaining: 2.45s\n",
      "16:\tlearn: 1679.7177324\ttotal: 497ms\tremaining: 2.42s\n",
      "17:\tlearn: 1671.3330575\ttotal: 525ms\tremaining: 2.39s\n",
      "18:\tlearn: 1663.9758222\ttotal: 553ms\tremaining: 2.36s\n",
      "19:\tlearn: 1657.5214945\ttotal: 582ms\tremaining: 2.33s\n",
      "20:\tlearn: 1646.6572249\ttotal: 612ms\tremaining: 2.3s\n",
      "21:\tlearn: 1641.5044575\ttotal: 641ms\tremaining: 2.27s\n",
      "22:\tlearn: 1634.9067734\ttotal: 671ms\tremaining: 2.25s\n",
      "23:\tlearn: 1626.3711286\ttotal: 699ms\tremaining: 2.21s\n",
      "24:\tlearn: 1619.9827442\ttotal: 729ms\tremaining: 2.19s\n",
      "25:\tlearn: 1614.5402793\ttotal: 758ms\tremaining: 2.16s\n",
      "26:\tlearn: 1610.5223376\ttotal: 788ms\tremaining: 2.13s\n",
      "27:\tlearn: 1604.7676407\ttotal: 819ms\tremaining: 2.11s\n",
      "28:\tlearn: 1600.7250778\ttotal: 851ms\tremaining: 2.08s\n",
      "29:\tlearn: 1595.5772190\ttotal: 881ms\tremaining: 2.06s\n",
      "30:\tlearn: 1591.3406965\ttotal: 911ms\tremaining: 2.03s\n",
      "31:\tlearn: 1586.8075272\ttotal: 942ms\tremaining: 2s\n",
      "32:\tlearn: 1580.1092314\ttotal: 972ms\tremaining: 1.97s\n",
      "33:\tlearn: 1572.9602171\ttotal: 1s\tremaining: 1.95s\n",
      "34:\tlearn: 1568.3471726\ttotal: 1.03s\tremaining: 1.92s\n",
      "35:\tlearn: 1565.1706576\ttotal: 1.06s\tremaining: 1.89s\n",
      "36:\tlearn: 1560.1009675\ttotal: 1.09s\tremaining: 1.86s\n",
      "37:\tlearn: 1556.0014093\ttotal: 1.12s\tremaining: 1.82s\n",
      "38:\tlearn: 1552.1141525\ttotal: 1.15s\tremaining: 1.79s\n",
      "39:\tlearn: 1548.6524491\ttotal: 1.18s\tremaining: 1.76s\n",
      "40:\tlearn: 1543.1069852\ttotal: 1.21s\tremaining: 1.74s\n",
      "41:\tlearn: 1536.8925493\ttotal: 1.23s\tremaining: 1.7s\n",
      "42:\tlearn: 1531.8407911\ttotal: 1.26s\tremaining: 1.68s\n",
      "43:\tlearn: 1528.7716558\ttotal: 1.29s\tremaining: 1.65s\n",
      "44:\tlearn: 1525.3694281\ttotal: 1.32s\tremaining: 1.62s\n",
      "45:\tlearn: 1522.2411229\ttotal: 1.35s\tremaining: 1.59s\n",
      "46:\tlearn: 1519.6987970\ttotal: 1.38s\tremaining: 1.56s\n",
      "47:\tlearn: 1515.5120451\ttotal: 1.41s\tremaining: 1.53s\n",
      "48:\tlearn: 1513.2382189\ttotal: 1.44s\tremaining: 1.5s\n",
      "49:\tlearn: 1510.5197538\ttotal: 1.47s\tremaining: 1.47s\n",
      "50:\tlearn: 1508.4070623\ttotal: 1.5s\tremaining: 1.44s\n",
      "51:\tlearn: 1505.3737385\ttotal: 1.52s\tremaining: 1.41s\n",
      "52:\tlearn: 1501.7900497\ttotal: 1.55s\tremaining: 1.38s\n",
      "53:\tlearn: 1499.3450483\ttotal: 1.58s\tremaining: 1.35s\n",
      "54:\tlearn: 1495.9081022\ttotal: 1.61s\tremaining: 1.32s\n",
      "55:\tlearn: 1493.3600377\ttotal: 1.64s\tremaining: 1.29s\n",
      "56:\tlearn: 1489.5702414\ttotal: 1.67s\tremaining: 1.26s\n",
      "57:\tlearn: 1487.3548073\ttotal: 1.7s\tremaining: 1.23s\n",
      "58:\tlearn: 1484.1780486\ttotal: 1.73s\tremaining: 1.2s\n",
      "59:\tlearn: 1482.7206227\ttotal: 1.76s\tremaining: 1.17s\n",
      "60:\tlearn: 1479.3932725\ttotal: 1.79s\tremaining: 1.14s\n",
      "61:\tlearn: 1477.4300350\ttotal: 1.82s\tremaining: 1.11s\n",
      "62:\tlearn: 1473.5915547\ttotal: 1.85s\tremaining: 1.09s\n",
      "63:\tlearn: 1470.3726298\ttotal: 1.88s\tremaining: 1.06s\n",
      "64:\tlearn: 1468.1198924\ttotal: 1.91s\tremaining: 1.03s\n",
      "65:\tlearn: 1466.8501171\ttotal: 1.94s\tremaining: 1s\n",
      "66:\tlearn: 1464.5523539\ttotal: 1.97s\tremaining: 973ms\n",
      "67:\tlearn: 1463.1898885\ttotal: 2s\tremaining: 944ms\n",
      "68:\tlearn: 1460.4904741\ttotal: 2.03s\tremaining: 914ms\n",
      "69:\tlearn: 1458.6808118\ttotal: 2.06s\tremaining: 884ms\n",
      "70:\tlearn: 1456.3701735\ttotal: 2.09s\tremaining: 855ms\n",
      "71:\tlearn: 1454.1870628\ttotal: 2.12s\tremaining: 825ms\n",
      "72:\tlearn: 1452.3563809\ttotal: 2.15s\tremaining: 795ms\n",
      "73:\tlearn: 1450.3284799\ttotal: 2.18s\tremaining: 765ms\n",
      "74:\tlearn: 1446.8428581\ttotal: 2.21s\tremaining: 736ms\n",
      "75:\tlearn: 1445.0230953\ttotal: 2.24s\tremaining: 707ms\n",
      "76:\tlearn: 1443.5959648\ttotal: 2.27s\tremaining: 677ms\n",
      "77:\tlearn: 1442.7920028\ttotal: 2.3s\tremaining: 648ms\n",
      "78:\tlearn: 1441.1182848\ttotal: 2.33s\tremaining: 618ms\n",
      "79:\tlearn: 1439.1023869\ttotal: 2.35s\tremaining: 589ms\n",
      "80:\tlearn: 1437.5640346\ttotal: 2.38s\tremaining: 559ms\n",
      "81:\tlearn: 1435.1876045\ttotal: 2.41s\tremaining: 530ms\n",
      "82:\tlearn: 1433.7275197\ttotal: 2.44s\tremaining: 500ms\n",
      "83:\tlearn: 1431.5763625\ttotal: 2.47s\tremaining: 470ms\n",
      "84:\tlearn: 1429.2365959\ttotal: 2.5s\tremaining: 441ms\n",
      "85:\tlearn: 1426.8679538\ttotal: 2.53s\tremaining: 411ms\n",
      "86:\tlearn: 1425.2656547\ttotal: 2.56s\tremaining: 382ms\n",
      "87:\tlearn: 1423.0956643\ttotal: 2.58s\tremaining: 352ms\n",
      "88:\tlearn: 1421.2626894\ttotal: 2.61s\tremaining: 323ms\n",
      "89:\tlearn: 1419.3069847\ttotal: 2.64s\tremaining: 294ms\n",
      "90:\tlearn: 1417.8428856\ttotal: 2.67s\tremaining: 264ms\n",
      "91:\tlearn: 1416.1926592\ttotal: 2.7s\tremaining: 235ms\n",
      "92:\tlearn: 1414.4768983\ttotal: 2.73s\tremaining: 206ms\n",
      "93:\tlearn: 1412.1217453\ttotal: 2.76s\tremaining: 176ms\n",
      "94:\tlearn: 1411.1989406\ttotal: 2.79s\tremaining: 147ms\n",
      "95:\tlearn: 1409.9347209\ttotal: 2.82s\tremaining: 118ms\n",
      "96:\tlearn: 1408.6283567\ttotal: 2.85s\tremaining: 88.3ms\n",
      "97:\tlearn: 1406.9454399\ttotal: 2.89s\tremaining: 58.9ms\n",
      "98:\tlearn: 1405.9849510\ttotal: 2.92s\tremaining: 29.5ms\n",
      "99:\tlearn: 1404.5713021\ttotal: 2.95s\tremaining: 0us\n",
      "Depth = 11 Iteration = 100 RMSE = 1591.520833604075\n",
      "Learning rate set to 0.5\n",
      "0:\tlearn: 3099.4571063\ttotal: 30ms\tremaining: 3.27s\n",
      "1:\tlearn: 2404.0075045\ttotal: 59.5ms\tremaining: 3.21s\n",
      "2:\tlearn: 2105.1106134\ttotal: 88.8ms\tremaining: 3.17s\n",
      "3:\tlearn: 1964.8089158\ttotal: 117ms\tremaining: 3.11s\n",
      "4:\tlearn: 1899.8074947\ttotal: 146ms\tremaining: 3.07s\n",
      "5:\tlearn: 1844.6367530\ttotal: 177ms\tremaining: 3.07s\n",
      "6:\tlearn: 1815.8396802\ttotal: 209ms\tremaining: 3.07s\n",
      "7:\tlearn: 1797.8366410\ttotal: 239ms\tremaining: 3.05s\n",
      "8:\tlearn: 1781.2374224\ttotal: 270ms\tremaining: 3.03s\n"
     ]
    },
    {
     "name": "stdout",
     "output_type": "stream",
     "text": [
      "9:\tlearn: 1765.6669352\ttotal: 300ms\tremaining: 3s\n",
      "10:\tlearn: 1748.1222969\ttotal: 330ms\tremaining: 2.97s\n",
      "11:\tlearn: 1739.7942597\ttotal: 361ms\tremaining: 2.94s\n",
      "12:\tlearn: 1726.8338800\ttotal: 390ms\tremaining: 2.91s\n",
      "13:\tlearn: 1713.5400322\ttotal: 419ms\tremaining: 2.87s\n",
      "14:\tlearn: 1705.5885701\ttotal: 449ms\tremaining: 2.84s\n",
      "15:\tlearn: 1687.0797457\ttotal: 479ms\tremaining: 2.81s\n",
      "16:\tlearn: 1679.7177324\ttotal: 510ms\tremaining: 2.79s\n",
      "17:\tlearn: 1671.3330575\ttotal: 540ms\tremaining: 2.76s\n",
      "18:\tlearn: 1663.9758222\ttotal: 570ms\tremaining: 2.73s\n",
      "19:\tlearn: 1657.5214945\ttotal: 600ms\tremaining: 2.7s\n",
      "20:\tlearn: 1646.6572249\ttotal: 630ms\tremaining: 2.67s\n",
      "21:\tlearn: 1641.5044575\ttotal: 661ms\tremaining: 2.64s\n",
      "22:\tlearn: 1634.9067734\ttotal: 691ms\tremaining: 2.62s\n",
      "23:\tlearn: 1626.3711286\ttotal: 722ms\tremaining: 2.59s\n",
      "24:\tlearn: 1619.9827442\ttotal: 754ms\tremaining: 2.56s\n",
      "25:\tlearn: 1614.5402793\ttotal: 785ms\tremaining: 2.54s\n",
      "26:\tlearn: 1610.5223376\ttotal: 817ms\tremaining: 2.51s\n",
      "27:\tlearn: 1604.7676407\ttotal: 847ms\tremaining: 2.48s\n",
      "28:\tlearn: 1600.7250778\ttotal: 878ms\tremaining: 2.45s\n",
      "29:\tlearn: 1595.5772190\ttotal: 908ms\tremaining: 2.42s\n",
      "30:\tlearn: 1591.3406965\ttotal: 939ms\tremaining: 2.39s\n",
      "31:\tlearn: 1586.8075272\ttotal: 969ms\tremaining: 2.36s\n",
      "32:\tlearn: 1580.1092314\ttotal: 999ms\tremaining: 2.33s\n",
      "33:\tlearn: 1572.9602171\ttotal: 1.03s\tremaining: 2.3s\n",
      "34:\tlearn: 1568.3471726\ttotal: 1.06s\tremaining: 2.27s\n",
      "35:\tlearn: 1565.1706576\ttotal: 1.09s\tremaining: 2.23s\n",
      "36:\tlearn: 1560.1009675\ttotal: 1.12s\tremaining: 2.2s\n",
      "37:\tlearn: 1556.0014093\ttotal: 1.15s\tremaining: 2.17s\n",
      "38:\tlearn: 1552.1141525\ttotal: 1.18s\tremaining: 2.14s\n",
      "39:\tlearn: 1548.6524491\ttotal: 1.21s\tremaining: 2.11s\n",
      "40:\tlearn: 1543.1069852\ttotal: 1.24s\tremaining: 2.08s\n",
      "41:\tlearn: 1536.8925493\ttotal: 1.27s\tremaining: 2.05s\n",
      "42:\tlearn: 1531.8407911\ttotal: 1.3s\tremaining: 2.02s\n",
      "43:\tlearn: 1528.7716558\ttotal: 1.33s\tremaining: 1.99s\n",
      "44:\tlearn: 1525.3694281\ttotal: 1.36s\tremaining: 1.96s\n",
      "45:\tlearn: 1522.2411229\ttotal: 1.39s\tremaining: 1.93s\n",
      "46:\tlearn: 1519.6987970\ttotal: 1.42s\tremaining: 1.9s\n",
      "47:\tlearn: 1515.5120451\ttotal: 1.44s\tremaining: 1.87s\n",
      "48:\tlearn: 1513.2382189\ttotal: 1.47s\tremaining: 1.83s\n",
      "49:\tlearn: 1510.5197538\ttotal: 1.5s\tremaining: 1.81s\n",
      "50:\tlearn: 1508.4070623\ttotal: 1.53s\tremaining: 1.77s\n",
      "51:\tlearn: 1505.3737385\ttotal: 1.56s\tremaining: 1.75s\n",
      "52:\tlearn: 1501.7900497\ttotal: 1.59s\tremaining: 1.72s\n",
      "53:\tlearn: 1499.3450483\ttotal: 1.63s\tremaining: 1.69s\n",
      "54:\tlearn: 1495.9081022\ttotal: 1.66s\tremaining: 1.66s\n",
      "55:\tlearn: 1493.3600377\ttotal: 1.69s\tremaining: 1.63s\n",
      "56:\tlearn: 1489.5702414\ttotal: 1.72s\tremaining: 1.6s\n",
      "57:\tlearn: 1487.3548073\ttotal: 1.75s\tremaining: 1.57s\n",
      "58:\tlearn: 1484.1780486\ttotal: 1.78s\tremaining: 1.54s\n",
      "59:\tlearn: 1482.7206227\ttotal: 1.81s\tremaining: 1.51s\n",
      "60:\tlearn: 1479.3932725\ttotal: 1.85s\tremaining: 1.48s\n",
      "61:\tlearn: 1477.4300350\ttotal: 1.88s\tremaining: 1.45s\n",
      "62:\tlearn: 1473.5915547\ttotal: 1.91s\tremaining: 1.42s\n",
      "63:\tlearn: 1470.3726298\ttotal: 1.94s\tremaining: 1.39s\n",
      "64:\tlearn: 1468.1198924\ttotal: 1.97s\tremaining: 1.36s\n",
      "65:\tlearn: 1466.8501171\ttotal: 2s\tremaining: 1.33s\n",
      "66:\tlearn: 1464.5523539\ttotal: 2.03s\tremaining: 1.3s\n",
      "67:\tlearn: 1463.1898885\ttotal: 2.06s\tremaining: 1.27s\n",
      "68:\tlearn: 1460.4904741\ttotal: 2.09s\tremaining: 1.24s\n",
      "69:\tlearn: 1458.6808118\ttotal: 2.12s\tremaining: 1.21s\n",
      "70:\tlearn: 1456.3701735\ttotal: 2.15s\tremaining: 1.18s\n",
      "71:\tlearn: 1454.1870628\ttotal: 2.17s\tremaining: 1.15s\n",
      "72:\tlearn: 1452.3563809\ttotal: 2.2s\tremaining: 1.12s\n",
      "73:\tlearn: 1450.3284799\ttotal: 2.23s\tremaining: 1.09s\n",
      "74:\tlearn: 1446.8428581\ttotal: 2.26s\tremaining: 1.06s\n",
      "75:\tlearn: 1445.0230953\ttotal: 2.29s\tremaining: 1.03s\n",
      "76:\tlearn: 1443.5959648\ttotal: 2.32s\tremaining: 996ms\n",
      "77:\tlearn: 1442.7920028\ttotal: 2.35s\tremaining: 966ms\n",
      "78:\tlearn: 1441.1182848\ttotal: 2.38s\tremaining: 935ms\n",
      "79:\tlearn: 1439.1023869\ttotal: 2.41s\tremaining: 905ms\n",
      "80:\tlearn: 1437.5640346\ttotal: 2.44s\tremaining: 876ms\n",
      "81:\tlearn: 1435.1876045\ttotal: 2.48s\tremaining: 845ms\n",
      "82:\tlearn: 1433.7275197\ttotal: 2.51s\tremaining: 815ms\n",
      "83:\tlearn: 1431.5763625\ttotal: 2.54s\tremaining: 785ms\n",
      "84:\tlearn: 1429.2365959\ttotal: 2.57s\tremaining: 755ms\n",
      "85:\tlearn: 1426.8679538\ttotal: 2.6s\tremaining: 725ms\n",
      "86:\tlearn: 1425.2656547\ttotal: 2.63s\tremaining: 695ms\n",
      "87:\tlearn: 1423.0956643\ttotal: 2.66s\tremaining: 664ms\n",
      "88:\tlearn: 1421.2626894\ttotal: 2.69s\tremaining: 634ms\n",
      "89:\tlearn: 1419.3069847\ttotal: 2.72s\tremaining: 604ms\n",
      "90:\tlearn: 1417.8428856\ttotal: 2.75s\tremaining: 574ms\n",
      "91:\tlearn: 1416.1926592\ttotal: 2.78s\tremaining: 543ms\n",
      "92:\tlearn: 1414.4768983\ttotal: 2.81s\tremaining: 513ms\n",
      "93:\tlearn: 1412.1217453\ttotal: 2.84s\tremaining: 483ms\n",
      "94:\tlearn: 1411.1989406\ttotal: 2.87s\tremaining: 453ms\n",
      "95:\tlearn: 1409.9347209\ttotal: 2.9s\tremaining: 422ms\n",
      "96:\tlearn: 1408.6283567\ttotal: 2.93s\tremaining: 392ms\n",
      "97:\tlearn: 1406.9454399\ttotal: 2.96s\tremaining: 362ms\n",
      "98:\tlearn: 1405.9849510\ttotal: 2.98s\tremaining: 332ms\n",
      "99:\tlearn: 1404.5713021\ttotal: 3.01s\tremaining: 301ms\n",
      "100:\tlearn: 1402.9349886\ttotal: 3.04s\tremaining: 271ms\n",
      "101:\tlearn: 1400.5019094\ttotal: 3.07s\tremaining: 241ms\n",
      "102:\tlearn: 1398.6017223\ttotal: 3.1s\tremaining: 211ms\n",
      "103:\tlearn: 1396.6523360\ttotal: 3.13s\tremaining: 181ms\n",
      "104:\tlearn: 1394.9624554\ttotal: 3.16s\tremaining: 151ms\n",
      "105:\tlearn: 1393.9954980\ttotal: 3.19s\tremaining: 120ms\n",
      "106:\tlearn: 1392.7638530\ttotal: 3.22s\tremaining: 90.3ms\n",
      "107:\tlearn: 1390.5896767\ttotal: 3.25s\tremaining: 60.2ms\n",
      "108:\tlearn: 1388.9232897\ttotal: 3.28s\tremaining: 30.1ms\n",
      "109:\tlearn: 1386.7186896\ttotal: 3.31s\tremaining: 0us\n",
      "Depth = 11 Iteration = 110 RMSE = 1587.433400366997\n",
      "Learning rate set to 0.5\n",
      "0:\tlearn: 2997.8509146\ttotal: 150ms\tremaining: 7.36s\n",
      "1:\tlearn: 2292.1106569\ttotal: 316ms\tremaining: 7.57s\n",
      "2:\tlearn: 1997.6841490\ttotal: 482ms\tremaining: 7.56s\n",
      "3:\tlearn: 1864.3209137\ttotal: 635ms\tremaining: 7.3s\n",
      "4:\tlearn: 1801.4466886\ttotal: 782ms\tremaining: 7.04s\n",
      "5:\tlearn: 1757.4175025\ttotal: 934ms\tremaining: 6.85s\n",
      "6:\tlearn: 1724.2942381\ttotal: 1.09s\tremaining: 6.73s\n",
      "7:\tlearn: 1705.7590391\ttotal: 1.26s\tremaining: 6.62s\n",
      "8:\tlearn: 1684.1081578\ttotal: 1.43s\tremaining: 6.49s\n",
      "9:\tlearn: 1671.4966605\ttotal: 1.58s\tremaining: 6.3s\n",
      "10:\tlearn: 1659.0409719\ttotal: 1.72s\tremaining: 6.1s\n",
      "11:\tlearn: 1640.7435546\ttotal: 1.87s\tremaining: 5.92s\n",
      "12:\tlearn: 1622.5724064\ttotal: 2.03s\tremaining: 5.78s\n",
      "13:\tlearn: 1608.4427441\ttotal: 2.19s\tremaining: 5.64s\n",
      "14:\tlearn: 1594.7421779\ttotal: 2.36s\tremaining: 5.5s\n",
      "15:\tlearn: 1584.5859462\ttotal: 2.52s\tremaining: 5.35s\n",
      "16:\tlearn: 1575.4990425\ttotal: 2.66s\tremaining: 5.17s\n",
      "17:\tlearn: 1566.3625581\ttotal: 2.81s\tremaining: 4.99s\n",
      "18:\tlearn: 1558.1825479\ttotal: 2.96s\tremaining: 4.84s\n",
      "19:\tlearn: 1546.7046983\ttotal: 3.13s\tremaining: 4.69s\n",
      "20:\tlearn: 1533.7872752\ttotal: 3.28s\tremaining: 4.54s\n",
      "21:\tlearn: 1530.1937921\ttotal: 3.44s\tremaining: 4.38s\n",
      "22:\tlearn: 1522.5134443\ttotal: 3.59s\tremaining: 4.22s\n",
      "23:\tlearn: 1518.0987747\ttotal: 3.74s\tremaining: 4.05s\n",
      "24:\tlearn: 1506.6656484\ttotal: 3.88s\tremaining: 3.88s\n",
      "25:\tlearn: 1501.7649237\ttotal: 4.04s\tremaining: 3.73s\n",
      "26:\tlearn: 1491.9928174\ttotal: 4.2s\tremaining: 3.58s\n",
      "27:\tlearn: 1483.2565774\ttotal: 4.36s\tremaining: 3.43s\n",
      "28:\tlearn: 1475.1974094\ttotal: 4.52s\tremaining: 3.27s\n",
      "29:\tlearn: 1469.3386758\ttotal: 4.67s\tremaining: 3.11s\n",
      "30:\tlearn: 1462.8520220\ttotal: 4.81s\tremaining: 2.95s\n",
      "31:\tlearn: 1457.2010707\ttotal: 4.96s\tremaining: 2.79s\n",
      "32:\tlearn: 1449.2882423\ttotal: 5.12s\tremaining: 2.64s\n",
      "33:\tlearn: 1444.9497804\ttotal: 5.28s\tremaining: 2.48s\n",
      "34:\tlearn: 1439.5453092\ttotal: 5.44s\tremaining: 2.33s\n",
      "35:\tlearn: 1435.3772631\ttotal: 5.59s\tremaining: 2.17s\n",
      "36:\tlearn: 1429.2821328\ttotal: 5.74s\tremaining: 2.02s\n",
      "37:\tlearn: 1425.7737240\ttotal: 5.89s\tremaining: 1.86s\n",
      "38:\tlearn: 1421.8873875\ttotal: 6.04s\tremaining: 1.7s\n",
      "39:\tlearn: 1416.2205384\ttotal: 6.2s\tremaining: 1.55s\n",
      "40:\tlearn: 1412.6856255\ttotal: 6.37s\tremaining: 1.4s\n",
      "41:\tlearn: 1407.9970278\ttotal: 6.52s\tremaining: 1.24s\n",
      "42:\tlearn: 1403.4769359\ttotal: 6.66s\tremaining: 1.08s\n",
      "43:\tlearn: 1399.1975194\ttotal: 6.81s\tremaining: 928ms\n",
      "44:\tlearn: 1396.8098333\ttotal: 6.96s\tremaining: 774ms\n",
      "45:\tlearn: 1394.5608757\ttotal: 7.12s\tremaining: 619ms\n",
      "46:\tlearn: 1390.1204940\ttotal: 7.28s\tremaining: 464ms\n",
      "47:\tlearn: 1388.0686724\ttotal: 7.44s\tremaining: 310ms\n",
      "48:\tlearn: 1385.0328386\ttotal: 7.59s\tremaining: 155ms\n",
      "49:\tlearn: 1380.6576127\ttotal: 7.74s\tremaining: 0us\n",
      "Depth = 14 Iteration = 50 RMSE = 1601.4273648328447\n",
      "Learning rate set to 0.5\n"
     ]
    },
    {
     "name": "stdout",
     "output_type": "stream",
     "text": [
      "0:\tlearn: 2997.8509146\ttotal: 158ms\tremaining: 9.35s\n",
      "1:\tlearn: 2292.1106569\ttotal: 316ms\tremaining: 9.16s\n",
      "2:\tlearn: 1997.6841490\ttotal: 479ms\tremaining: 9.1s\n",
      "3:\tlearn: 1864.3209137\ttotal: 636ms\tremaining: 8.9s\n",
      "4:\tlearn: 1801.4466886\ttotal: 781ms\tremaining: 8.59s\n",
      "5:\tlearn: 1757.4175025\ttotal: 925ms\tremaining: 8.32s\n",
      "6:\tlearn: 1724.2942381\ttotal: 1.07s\tremaining: 8.13s\n",
      "7:\tlearn: 1705.7590391\ttotal: 1.23s\tremaining: 8.01s\n",
      "8:\tlearn: 1684.1081578\ttotal: 1.39s\tremaining: 7.87s\n",
      "9:\tlearn: 1671.4966605\ttotal: 1.55s\tremaining: 7.74s\n",
      "10:\tlearn: 1659.0409719\ttotal: 1.7s\tremaining: 7.55s\n",
      "11:\tlearn: 1640.7435546\ttotal: 1.84s\tremaining: 7.34s\n",
      "12:\tlearn: 1622.5724064\ttotal: 1.98s\tremaining: 7.16s\n",
      "13:\tlearn: 1608.4427441\ttotal: 2.14s\tremaining: 7.03s\n",
      "14:\tlearn: 1594.7421779\ttotal: 2.29s\tremaining: 6.88s\n",
      "15:\tlearn: 1584.5859462\ttotal: 2.45s\tremaining: 6.74s\n",
      "16:\tlearn: 1575.4990425\ttotal: 2.6s\tremaining: 6.59s\n",
      "17:\tlearn: 1566.3625581\ttotal: 2.75s\tremaining: 6.41s\n",
      "18:\tlearn: 1558.1825479\ttotal: 2.89s\tremaining: 6.24s\n",
      "19:\tlearn: 1546.7046983\ttotal: 3.03s\tremaining: 6.07s\n",
      "20:\tlearn: 1533.7872752\ttotal: 3.19s\tremaining: 5.92s\n",
      "21:\tlearn: 1530.1937921\ttotal: 3.34s\tremaining: 5.77s\n",
      "22:\tlearn: 1522.5134443\ttotal: 3.49s\tremaining: 5.62s\n",
      "23:\tlearn: 1518.0987747\ttotal: 3.65s\tremaining: 5.47s\n",
      "24:\tlearn: 1506.6656484\ttotal: 3.8s\tremaining: 5.32s\n",
      "25:\tlearn: 1501.7649237\ttotal: 3.95s\tremaining: 5.17s\n",
      "26:\tlearn: 1491.9928174\ttotal: 4.11s\tremaining: 5.02s\n",
      "27:\tlearn: 1483.2565774\ttotal: 4.26s\tremaining: 4.87s\n",
      "28:\tlearn: 1475.1974094\ttotal: 4.42s\tremaining: 4.72s\n",
      "29:\tlearn: 1469.3386758\ttotal: 4.57s\tremaining: 4.57s\n",
      "30:\tlearn: 1462.8520220\ttotal: 4.72s\tremaining: 4.42s\n",
      "31:\tlearn: 1457.2010707\ttotal: 4.86s\tremaining: 4.25s\n",
      "32:\tlearn: 1449.2882423\ttotal: 5.01s\tremaining: 4.1s\n",
      "33:\tlearn: 1444.9497804\ttotal: 5.17s\tremaining: 3.96s\n",
      "34:\tlearn: 1439.5453092\ttotal: 5.34s\tremaining: 3.81s\n",
      "35:\tlearn: 1435.3772631\ttotal: 5.5s\tremaining: 3.67s\n",
      "36:\tlearn: 1429.2821328\ttotal: 5.66s\tremaining: 3.52s\n",
      "37:\tlearn: 1425.7737240\ttotal: 5.81s\tremaining: 3.36s\n",
      "38:\tlearn: 1421.8873875\ttotal: 5.95s\tremaining: 3.2s\n",
      "39:\tlearn: 1416.2205384\ttotal: 6.11s\tremaining: 3.05s\n",
      "40:\tlearn: 1412.6856255\ttotal: 6.26s\tremaining: 2.9s\n",
      "41:\tlearn: 1407.9970278\ttotal: 6.42s\tremaining: 2.75s\n",
      "42:\tlearn: 1403.4769359\ttotal: 6.58s\tremaining: 2.6s\n",
      "43:\tlearn: 1399.1975194\ttotal: 6.73s\tremaining: 2.45s\n",
      "44:\tlearn: 1396.8098333\ttotal: 6.88s\tremaining: 2.29s\n",
      "45:\tlearn: 1394.5608757\ttotal: 7.04s\tremaining: 2.14s\n",
      "46:\tlearn: 1390.1204940\ttotal: 7.2s\tremaining: 1.99s\n",
      "47:\tlearn: 1388.0686724\ttotal: 7.35s\tremaining: 1.84s\n",
      "48:\tlearn: 1385.0328386\ttotal: 7.51s\tremaining: 1.69s\n",
      "49:\tlearn: 1380.6576127\ttotal: 7.67s\tremaining: 1.53s\n",
      "50:\tlearn: 1377.5038469\ttotal: 7.81s\tremaining: 1.38s\n",
      "51:\tlearn: 1373.3288456\ttotal: 7.95s\tremaining: 1.22s\n",
      "52:\tlearn: 1370.4471455\ttotal: 8.12s\tremaining: 1.07s\n",
      "53:\tlearn: 1367.3118959\ttotal: 8.27s\tremaining: 919ms\n",
      "54:\tlearn: 1364.4282009\ttotal: 8.43s\tremaining: 766ms\n",
      "55:\tlearn: 1361.5147177\ttotal: 8.59s\tremaining: 613ms\n",
      "56:\tlearn: 1358.0110331\ttotal: 8.73s\tremaining: 460ms\n",
      "57:\tlearn: 1355.4290212\ttotal: 8.88s\tremaining: 306ms\n",
      "58:\tlearn: 1351.5665006\ttotal: 9.02s\tremaining: 153ms\n",
      "59:\tlearn: 1349.3708197\ttotal: 9.18s\tremaining: 0us\n",
      "Depth = 14 Iteration = 60 RMSE = 1596.2753459275266\n",
      "Learning rate set to 0.5\n",
      "0:\tlearn: 2997.8509146\ttotal: 167ms\tremaining: 11.6s\n",
      "1:\tlearn: 2292.1106569\ttotal: 325ms\tremaining: 11.1s\n",
      "2:\tlearn: 1997.6841490\ttotal: 468ms\tremaining: 10.5s\n",
      "3:\tlearn: 1864.3209137\ttotal: 611ms\tremaining: 10.1s\n",
      "4:\tlearn: 1801.4466886\ttotal: 759ms\tremaining: 9.87s\n",
      "5:\tlearn: 1757.4175025\ttotal: 912ms\tremaining: 9.73s\n",
      "6:\tlearn: 1724.2942381\ttotal: 1.07s\tremaining: 9.6s\n",
      "7:\tlearn: 1705.7590391\ttotal: 1.23s\tremaining: 9.51s\n",
      "8:\tlearn: 1684.1081578\ttotal: 1.37s\tremaining: 9.31s\n",
      "9:\tlearn: 1671.4966605\ttotal: 1.52s\tremaining: 9.11s\n",
      "10:\tlearn: 1659.0409719\ttotal: 1.66s\tremaining: 8.91s\n",
      "11:\tlearn: 1640.7435546\ttotal: 1.82s\tremaining: 8.79s\n",
      "12:\tlearn: 1622.5724064\ttotal: 1.98s\tremaining: 8.68s\n",
      "13:\tlearn: 1608.4427441\ttotal: 2.13s\tremaining: 8.54s\n",
      "14:\tlearn: 1594.7421779\ttotal: 2.29s\tremaining: 8.4s\n",
      "15:\tlearn: 1584.5859462\ttotal: 2.43s\tremaining: 8.21s\n",
      "16:\tlearn: 1575.4990425\ttotal: 2.57s\tremaining: 8.02s\n",
      "17:\tlearn: 1566.3625581\ttotal: 2.72s\tremaining: 7.87s\n",
      "18:\tlearn: 1558.1825479\ttotal: 2.88s\tremaining: 7.73s\n",
      "19:\tlearn: 1546.7046983\ttotal: 3.04s\tremaining: 7.59s\n",
      "20:\tlearn: 1533.7872752\ttotal: 3.19s\tremaining: 7.46s\n",
      "21:\tlearn: 1530.1937921\ttotal: 3.35s\tremaining: 7.3s\n",
      "22:\tlearn: 1522.5134443\ttotal: 3.49s\tremaining: 7.13s\n",
      "23:\tlearn: 1518.0987747\ttotal: 3.65s\tremaining: 6.99s\n",
      "24:\tlearn: 1506.6656484\ttotal: 3.8s\tremaining: 6.84s\n",
      "25:\tlearn: 1501.7649237\ttotal: 3.96s\tremaining: 6.7s\n",
      "26:\tlearn: 1491.9928174\ttotal: 4.12s\tremaining: 6.55s\n",
      "27:\tlearn: 1483.2565774\ttotal: 4.27s\tremaining: 6.41s\n",
      "28:\tlearn: 1475.1974094\ttotal: 4.42s\tremaining: 6.24s\n",
      "29:\tlearn: 1469.3386758\ttotal: 4.56s\tremaining: 6.08s\n",
      "30:\tlearn: 1462.8520220\ttotal: 4.71s\tremaining: 5.92s\n",
      "31:\tlearn: 1457.2010707\ttotal: 4.86s\tremaining: 5.77s\n",
      "32:\tlearn: 1449.2882423\ttotal: 5.02s\tremaining: 5.63s\n",
      "33:\tlearn: 1444.9497804\ttotal: 5.18s\tremaining: 5.48s\n",
      "34:\tlearn: 1439.5453092\ttotal: 5.34s\tremaining: 5.34s\n",
      "35:\tlearn: 1435.3772631\ttotal: 5.48s\tremaining: 5.17s\n",
      "36:\tlearn: 1429.2821328\ttotal: 5.62s\tremaining: 5.01s\n",
      "37:\tlearn: 1425.7737240\ttotal: 5.77s\tremaining: 4.86s\n",
      "38:\tlearn: 1421.8873875\ttotal: 5.93s\tremaining: 4.71s\n",
      "39:\tlearn: 1416.2205384\ttotal: 6.08s\tremaining: 4.56s\n",
      "40:\tlearn: 1412.6856255\ttotal: 6.24s\tremaining: 4.41s\n",
      "41:\tlearn: 1407.9970278\ttotal: 6.38s\tremaining: 4.26s\n",
      "42:\tlearn: 1403.4769359\ttotal: 6.53s\tremaining: 4.1s\n",
      "43:\tlearn: 1399.1975194\ttotal: 6.67s\tremaining: 3.94s\n",
      "44:\tlearn: 1396.8098333\ttotal: 6.83s\tremaining: 3.79s\n",
      "45:\tlearn: 1394.5608757\ttotal: 6.99s\tremaining: 3.65s\n",
      "46:\tlearn: 1390.1204940\ttotal: 7.15s\tremaining: 3.5s\n",
      "47:\tlearn: 1388.0686724\ttotal: 7.31s\tremaining: 3.35s\n",
      "48:\tlearn: 1385.0328386\ttotal: 7.45s\tremaining: 3.19s\n",
      "49:\tlearn: 1380.6576127\ttotal: 7.6s\tremaining: 3.04s\n",
      "50:\tlearn: 1377.5038469\ttotal: 7.75s\tremaining: 2.89s\n",
      "51:\tlearn: 1373.3288456\ttotal: 7.91s\tremaining: 2.74s\n",
      "52:\tlearn: 1370.4471455\ttotal: 8.06s\tremaining: 2.59s\n",
      "53:\tlearn: 1367.3118959\ttotal: 8.22s\tremaining: 2.44s\n",
      "54:\tlearn: 1364.4282009\ttotal: 8.37s\tremaining: 2.28s\n",
      "55:\tlearn: 1361.5147177\ttotal: 8.52s\tremaining: 2.13s\n",
      "56:\tlearn: 1358.0110331\ttotal: 8.67s\tremaining: 1.98s\n",
      "57:\tlearn: 1355.4290212\ttotal: 8.83s\tremaining: 1.83s\n",
      "58:\tlearn: 1351.5665006\ttotal: 8.99s\tremaining: 1.68s\n",
      "59:\tlearn: 1349.3708197\ttotal: 9.15s\tremaining: 1.52s\n",
      "60:\tlearn: 1347.4307706\ttotal: 9.31s\tremaining: 1.37s\n",
      "61:\tlearn: 1345.2551587\ttotal: 9.45s\tremaining: 1.22s\n",
      "62:\tlearn: 1341.9675870\ttotal: 9.6s\tremaining: 1.07s\n",
      "63:\tlearn: 1339.6407237\ttotal: 9.75s\tremaining: 914ms\n",
      "64:\tlearn: 1337.8965153\ttotal: 9.91s\tremaining: 762ms\n",
      "65:\tlearn: 1334.9022603\ttotal: 10.1s\tremaining: 610ms\n",
      "66:\tlearn: 1332.1654481\ttotal: 10.2s\tremaining: 458ms\n",
      "67:\tlearn: 1329.8444679\ttotal: 10.4s\tremaining: 305ms\n",
      "68:\tlearn: 1325.9346317\ttotal: 10.5s\tremaining: 152ms\n",
      "69:\tlearn: 1324.3780151\ttotal: 10.7s\tremaining: 0us\n",
      "Depth = 14 Iteration = 70 RMSE = 1591.206211529269\n",
      "Learning rate set to 0.5\n",
      "0:\tlearn: 2997.8509146\ttotal: 163ms\tremaining: 12.9s\n",
      "1:\tlearn: 2292.1106569\ttotal: 318ms\tremaining: 12.4s\n",
      "2:\tlearn: 1997.6841490\ttotal: 468ms\tremaining: 12s\n",
      "3:\tlearn: 1864.3209137\ttotal: 610ms\tremaining: 11.6s\n",
      "4:\tlearn: 1801.4466886\ttotal: 756ms\tremaining: 11.3s\n",
      "5:\tlearn: 1757.4175025\ttotal: 914ms\tremaining: 11.3s\n",
      "6:\tlearn: 1724.2942381\ttotal: 1.08s\tremaining: 11.2s\n",
      "7:\tlearn: 1705.7590391\ttotal: 1.24s\tremaining: 11.2s\n",
      "8:\tlearn: 1684.1081578\ttotal: 1.41s\tremaining: 11.1s\n",
      "9:\tlearn: 1671.4966605\ttotal: 1.55s\tremaining: 10.9s\n",
      "10:\tlearn: 1659.0409719\ttotal: 1.7s\tremaining: 10.7s\n",
      "11:\tlearn: 1640.7435546\ttotal: 1.85s\tremaining: 10.5s\n",
      "12:\tlearn: 1622.5724064\ttotal: 2.02s\tremaining: 10.4s\n",
      "13:\tlearn: 1608.4427441\ttotal: 2.17s\tremaining: 10.3s\n",
      "14:\tlearn: 1594.7421779\ttotal: 2.33s\tremaining: 10.1s\n",
      "15:\tlearn: 1584.5859462\ttotal: 2.48s\tremaining: 9.94s\n",
      "16:\tlearn: 1575.4990425\ttotal: 2.63s\tremaining: 9.76s\n",
      "17:\tlearn: 1566.3625581\ttotal: 2.79s\tremaining: 9.62s\n",
      "18:\tlearn: 1558.1825479\ttotal: 2.95s\tremaining: 9.48s\n",
      "19:\tlearn: 1546.7046983\ttotal: 3.11s\tremaining: 9.33s\n"
     ]
    },
    {
     "name": "stdout",
     "output_type": "stream",
     "text": [
      "20:\tlearn: 1533.7872752\ttotal: 3.27s\tremaining: 9.18s\n",
      "21:\tlearn: 1530.1937921\ttotal: 3.42s\tremaining: 9.03s\n",
      "22:\tlearn: 1522.5134443\ttotal: 3.57s\tremaining: 8.85s\n",
      "23:\tlearn: 1518.0987747\ttotal: 3.71s\tremaining: 8.66s\n",
      "24:\tlearn: 1506.6656484\ttotal: 3.86s\tremaining: 8.5s\n",
      "25:\tlearn: 1501.7649237\ttotal: 4.02s\tremaining: 8.34s\n",
      "26:\tlearn: 1491.9928174\ttotal: 4.17s\tremaining: 8.19s\n",
      "27:\tlearn: 1483.2565774\ttotal: 4.33s\tremaining: 8.04s\n",
      "28:\tlearn: 1475.1974094\ttotal: 4.48s\tremaining: 7.88s\n",
      "29:\tlearn: 1469.3386758\ttotal: 4.63s\tremaining: 7.71s\n",
      "30:\tlearn: 1462.8520220\ttotal: 4.77s\tremaining: 7.54s\n",
      "31:\tlearn: 1457.2010707\ttotal: 4.93s\tremaining: 7.39s\n",
      "32:\tlearn: 1449.2882423\ttotal: 5.08s\tremaining: 7.24s\n",
      "33:\tlearn: 1444.9497804\ttotal: 5.24s\tremaining: 7.08s\n",
      "34:\tlearn: 1439.5453092\ttotal: 5.4s\tremaining: 6.94s\n",
      "35:\tlearn: 1435.3772631\ttotal: 5.55s\tremaining: 6.78s\n",
      "36:\tlearn: 1429.2821328\ttotal: 5.69s\tremaining: 6.62s\n",
      "37:\tlearn: 1425.7737240\ttotal: 5.84s\tremaining: 6.46s\n",
      "38:\tlearn: 1421.8873875\ttotal: 6s\tremaining: 6.31s\n",
      "39:\tlearn: 1416.2205384\ttotal: 6.16s\tremaining: 6.16s\n",
      "40:\tlearn: 1412.6856255\ttotal: 6.32s\tremaining: 6.01s\n",
      "41:\tlearn: 1407.9970278\ttotal: 6.47s\tremaining: 5.86s\n",
      "42:\tlearn: 1403.4769359\ttotal: 6.61s\tremaining: 5.69s\n",
      "43:\tlearn: 1399.1975194\ttotal: 6.76s\tremaining: 5.53s\n",
      "44:\tlearn: 1396.8098333\ttotal: 6.92s\tremaining: 5.38s\n",
      "45:\tlearn: 1394.5608757\ttotal: 7.07s\tremaining: 5.23s\n",
      "46:\tlearn: 1390.1204940\ttotal: 7.23s\tremaining: 5.08s\n",
      "47:\tlearn: 1388.0686724\ttotal: 7.39s\tremaining: 4.92s\n",
      "48:\tlearn: 1385.0328386\ttotal: 7.53s\tremaining: 4.76s\n",
      "49:\tlearn: 1380.6576127\ttotal: 7.68s\tremaining: 4.61s\n",
      "50:\tlearn: 1377.5038469\ttotal: 7.83s\tremaining: 4.45s\n",
      "51:\tlearn: 1373.3288456\ttotal: 7.98s\tremaining: 4.3s\n",
      "52:\tlearn: 1370.4471455\ttotal: 8.14s\tremaining: 4.15s\n",
      "53:\tlearn: 1367.3118959\ttotal: 8.3s\tremaining: 4s\n",
      "54:\tlearn: 1364.4282009\ttotal: 8.45s\tremaining: 3.84s\n",
      "55:\tlearn: 1361.5147177\ttotal: 8.59s\tremaining: 3.68s\n",
      "56:\tlearn: 1358.0110331\ttotal: 8.73s\tremaining: 3.52s\n",
      "57:\tlearn: 1355.4290212\ttotal: 8.89s\tremaining: 3.37s\n",
      "58:\tlearn: 1351.5665006\ttotal: 9.05s\tremaining: 3.22s\n",
      "59:\tlearn: 1349.3708197\ttotal: 9.2s\tremaining: 3.07s\n",
      "60:\tlearn: 1347.4307706\ttotal: 9.36s\tremaining: 2.92s\n",
      "61:\tlearn: 1345.2551587\ttotal: 9.51s\tremaining: 2.76s\n",
      "62:\tlearn: 1341.9675870\ttotal: 9.66s\tremaining: 2.6s\n",
      "63:\tlearn: 1339.6407237\ttotal: 9.8s\tremaining: 2.45s\n",
      "64:\tlearn: 1337.8965153\ttotal: 9.96s\tremaining: 2.3s\n",
      "65:\tlearn: 1334.9022603\ttotal: 10.1s\tremaining: 2.15s\n",
      "66:\tlearn: 1332.1654481\ttotal: 10.3s\tremaining: 1.99s\n",
      "67:\tlearn: 1329.8444679\ttotal: 10.4s\tremaining: 1.84s\n",
      "68:\tlearn: 1325.9346317\ttotal: 10.6s\tremaining: 1.69s\n",
      "69:\tlearn: 1324.3780151\ttotal: 10.7s\tremaining: 1.53s\n",
      "70:\tlearn: 1322.6318746\ttotal: 10.9s\tremaining: 1.38s\n",
      "71:\tlearn: 1320.3504030\ttotal: 11s\tremaining: 1.23s\n",
      "72:\tlearn: 1317.6893548\ttotal: 11.2s\tremaining: 1.07s\n",
      "73:\tlearn: 1315.1116048\ttotal: 11.4s\tremaining: 921ms\n",
      "74:\tlearn: 1313.4822412\ttotal: 11.5s\tremaining: 767ms\n",
      "75:\tlearn: 1311.7145132\ttotal: 11.6s\tremaining: 613ms\n",
      "76:\tlearn: 1310.2281104\ttotal: 11.8s\tremaining: 459ms\n",
      "77:\tlearn: 1308.1011861\ttotal: 12s\tremaining: 306ms\n",
      "78:\tlearn: 1306.4055337\ttotal: 12.1s\tremaining: 153ms\n",
      "79:\tlearn: 1304.5673786\ttotal: 12.3s\tremaining: 0us\n",
      "Depth = 14 Iteration = 80 RMSE = 1586.2675955626742\n",
      "Learning rate set to 0.5\n",
      "0:\tlearn: 2997.8509146\ttotal: 144ms\tremaining: 12.8s\n",
      "1:\tlearn: 2292.1106569\ttotal: 287ms\tremaining: 12.6s\n",
      "2:\tlearn: 1997.6841490\ttotal: 438ms\tremaining: 12.7s\n",
      "3:\tlearn: 1864.3209137\ttotal: 592ms\tremaining: 12.7s\n",
      "4:\tlearn: 1801.4466886\ttotal: 746ms\tremaining: 12.7s\n",
      "5:\tlearn: 1757.4175025\ttotal: 898ms\tremaining: 12.6s\n",
      "6:\tlearn: 1724.2942381\ttotal: 1.04s\tremaining: 12.4s\n",
      "7:\tlearn: 1705.7590391\ttotal: 1.19s\tremaining: 12.2s\n",
      "8:\tlearn: 1684.1081578\ttotal: 1.33s\tremaining: 11.9s\n",
      "9:\tlearn: 1671.4966605\ttotal: 1.48s\tremaining: 11.8s\n",
      "10:\tlearn: 1659.0409719\ttotal: 1.63s\tremaining: 11.7s\n",
      "11:\tlearn: 1640.7435546\ttotal: 1.78s\tremaining: 11.6s\n",
      "12:\tlearn: 1622.5724064\ttotal: 1.94s\tremaining: 11.5s\n",
      "13:\tlearn: 1608.4427441\ttotal: 2.08s\tremaining: 11.3s\n",
      "14:\tlearn: 1594.7421779\ttotal: 2.22s\tremaining: 11.1s\n",
      "15:\tlearn: 1584.5859462\ttotal: 2.37s\tremaining: 11s\n",
      "16:\tlearn: 1575.4990425\ttotal: 2.52s\tremaining: 10.8s\n",
      "17:\tlearn: 1566.3625581\ttotal: 2.68s\tremaining: 10.7s\n",
      "18:\tlearn: 1558.1825479\ttotal: 2.83s\tremaining: 10.6s\n",
      "19:\tlearn: 1546.7046983\ttotal: 2.99s\tremaining: 10.5s\n",
      "20:\tlearn: 1533.7872752\ttotal: 3.13s\tremaining: 10.3s\n",
      "21:\tlearn: 1530.1937921\ttotal: 3.27s\tremaining: 10.1s\n",
      "22:\tlearn: 1522.5134443\ttotal: 3.42s\tremaining: 9.96s\n",
      "23:\tlearn: 1518.0987747\ttotal: 3.58s\tremaining: 9.83s\n",
      "24:\tlearn: 1506.6656484\ttotal: 3.73s\tremaining: 9.7s\n",
      "25:\tlearn: 1501.7649237\ttotal: 3.89s\tremaining: 9.58s\n",
      "26:\tlearn: 1491.9928174\ttotal: 4.03s\tremaining: 9.41s\n",
      "27:\tlearn: 1483.2565774\ttotal: 4.18s\tremaining: 9.25s\n",
      "28:\tlearn: 1475.1974094\ttotal: 4.32s\tremaining: 9.09s\n",
      "29:\tlearn: 1469.3386758\ttotal: 4.48s\tremaining: 8.96s\n",
      "30:\tlearn: 1462.8520220\ttotal: 4.64s\tremaining: 8.83s\n",
      "31:\tlearn: 1457.2010707\ttotal: 4.79s\tremaining: 8.69s\n",
      "32:\tlearn: 1449.2882423\ttotal: 4.95s\tremaining: 8.56s\n",
      "33:\tlearn: 1444.9497804\ttotal: 5.1s\tremaining: 8.4s\n",
      "34:\tlearn: 1439.5453092\ttotal: 5.25s\tremaining: 8.25s\n",
      "35:\tlearn: 1435.3772631\ttotal: 5.4s\tremaining: 8.1s\n",
      "36:\tlearn: 1429.2821328\ttotal: 5.56s\tremaining: 7.96s\n",
      "37:\tlearn: 1425.7737240\ttotal: 5.71s\tremaining: 7.82s\n",
      "38:\tlearn: 1421.8873875\ttotal: 5.88s\tremaining: 7.68s\n",
      "39:\tlearn: 1416.2205384\ttotal: 6.02s\tremaining: 7.53s\n",
      "40:\tlearn: 1412.6856255\ttotal: 6.17s\tremaining: 7.37s\n",
      "41:\tlearn: 1407.9970278\ttotal: 6.32s\tremaining: 7.22s\n",
      "42:\tlearn: 1403.4769359\ttotal: 6.48s\tremaining: 7.08s\n",
      "43:\tlearn: 1399.1975194\ttotal: 6.64s\tremaining: 6.94s\n",
      "44:\tlearn: 1396.8098333\ttotal: 6.79s\tremaining: 6.79s\n",
      "45:\tlearn: 1394.5608757\ttotal: 6.95s\tremaining: 6.65s\n",
      "46:\tlearn: 1390.1204940\ttotal: 7.1s\tremaining: 6.5s\n",
      "47:\tlearn: 1388.0686724\ttotal: 7.25s\tremaining: 6.34s\n",
      "48:\tlearn: 1385.0328386\ttotal: 7.4s\tremaining: 6.19s\n",
      "49:\tlearn: 1380.6576127\ttotal: 7.55s\tremaining: 6.04s\n",
      "50:\tlearn: 1377.5038469\ttotal: 7.71s\tremaining: 5.89s\n",
      "51:\tlearn: 1373.3288456\ttotal: 7.87s\tremaining: 5.75s\n",
      "52:\tlearn: 1370.4471455\ttotal: 8.02s\tremaining: 5.6s\n",
      "53:\tlearn: 1367.3118959\ttotal: 8.16s\tremaining: 5.44s\n",
      "54:\tlearn: 1364.4282009\ttotal: 8.31s\tremaining: 5.29s\n",
      "55:\tlearn: 1361.5147177\ttotal: 8.46s\tremaining: 5.14s\n",
      "56:\tlearn: 1358.0110331\ttotal: 8.62s\tremaining: 4.99s\n",
      "57:\tlearn: 1355.4290212\ttotal: 8.77s\tremaining: 4.84s\n",
      "58:\tlearn: 1351.5665006\ttotal: 8.93s\tremaining: 4.69s\n",
      "59:\tlearn: 1349.3708197\ttotal: 9.07s\tremaining: 4.54s\n",
      "60:\tlearn: 1347.4307706\ttotal: 9.22s\tremaining: 4.38s\n",
      "61:\tlearn: 1345.2551587\ttotal: 9.37s\tremaining: 4.23s\n",
      "62:\tlearn: 1341.9675870\ttotal: 9.53s\tremaining: 4.08s\n",
      "63:\tlearn: 1339.6407237\ttotal: 9.68s\tremaining: 3.93s\n",
      "64:\tlearn: 1337.8965153\ttotal: 9.84s\tremaining: 3.78s\n",
      "65:\tlearn: 1334.9022603\ttotal: 9.99s\tremaining: 3.63s\n",
      "66:\tlearn: 1332.1654481\ttotal: 10.1s\tremaining: 3.48s\n",
      "67:\tlearn: 1329.8444679\ttotal: 10.3s\tremaining: 3.33s\n",
      "68:\tlearn: 1325.9346317\ttotal: 10.4s\tremaining: 3.17s\n",
      "69:\tlearn: 1324.3780151\ttotal: 10.6s\tremaining: 3.02s\n",
      "70:\tlearn: 1322.6318746\ttotal: 10.7s\tremaining: 2.88s\n",
      "71:\tlearn: 1320.3504030\ttotal: 10.9s\tremaining: 2.73s\n",
      "72:\tlearn: 1317.6893548\ttotal: 11s\tremaining: 2.57s\n",
      "73:\tlearn: 1315.1116048\ttotal: 11.2s\tremaining: 2.42s\n",
      "74:\tlearn: 1313.4822412\ttotal: 11.3s\tremaining: 2.27s\n",
      "75:\tlearn: 1311.7145132\ttotal: 11.5s\tremaining: 2.12s\n",
      "76:\tlearn: 1310.2281104\ttotal: 11.7s\tremaining: 1.97s\n",
      "77:\tlearn: 1308.1011861\ttotal: 11.8s\tremaining: 1.82s\n",
      "78:\tlearn: 1306.4055337\ttotal: 12s\tremaining: 1.67s\n",
      "79:\tlearn: 1304.5673786\ttotal: 12.1s\tremaining: 1.51s\n",
      "80:\tlearn: 1301.8756704\ttotal: 12.3s\tremaining: 1.36s\n",
      "81:\tlearn: 1299.5962161\ttotal: 12.4s\tremaining: 1.21s\n",
      "82:\tlearn: 1297.2668918\ttotal: 12.6s\tremaining: 1.06s\n",
      "83:\tlearn: 1295.4192097\ttotal: 12.7s\tremaining: 909ms\n",
      "84:\tlearn: 1293.0340876\ttotal: 12.9s\tremaining: 758ms\n",
      "85:\tlearn: 1289.9573807\ttotal: 13s\tremaining: 606ms\n",
      "86:\tlearn: 1288.6874200\ttotal: 13.2s\tremaining: 454ms\n",
      "87:\tlearn: 1286.4353232\ttotal: 13.3s\tremaining: 303ms\n",
      "88:\tlearn: 1285.4117043\ttotal: 13.5s\tremaining: 151ms\n",
      "89:\tlearn: 1283.7969063\ttotal: 13.6s\tremaining: 0us\n",
      "Depth = 14 Iteration = 90 RMSE = 1582.3806756074864\n",
      "Learning rate set to 0.5\n"
     ]
    },
    {
     "name": "stdout",
     "output_type": "stream",
     "text": [
      "0:\tlearn: 2997.8509146\ttotal: 153ms\tremaining: 15.1s\n",
      "1:\tlearn: 2292.1106569\ttotal: 291ms\tremaining: 14.2s\n",
      "2:\tlearn: 1997.6841490\ttotal: 432ms\tremaining: 14s\n",
      "3:\tlearn: 1864.3209137\ttotal: 582ms\tremaining: 14s\n",
      "4:\tlearn: 1801.4466886\ttotal: 734ms\tremaining: 13.9s\n",
      "5:\tlearn: 1757.4175025\ttotal: 885ms\tremaining: 13.9s\n",
      "6:\tlearn: 1724.2942381\ttotal: 1.04s\tremaining: 13.8s\n",
      "7:\tlearn: 1705.7590391\ttotal: 1.18s\tremaining: 13.5s\n",
      "8:\tlearn: 1684.1081578\ttotal: 1.32s\tremaining: 13.3s\n",
      "9:\tlearn: 1671.4966605\ttotal: 1.46s\tremaining: 13.1s\n",
      "10:\tlearn: 1659.0409719\ttotal: 1.61s\tremaining: 13s\n",
      "11:\tlearn: 1640.7435546\ttotal: 1.76s\tremaining: 12.9s\n",
      "12:\tlearn: 1622.5724064\ttotal: 1.92s\tremaining: 12.8s\n",
      "13:\tlearn: 1608.4427441\ttotal: 2.07s\tremaining: 12.7s\n",
      "14:\tlearn: 1594.7421779\ttotal: 2.21s\tremaining: 12.5s\n",
      "15:\tlearn: 1584.5859462\ttotal: 2.35s\tremaining: 12.4s\n",
      "16:\tlearn: 1575.4990425\ttotal: 2.5s\tremaining: 12.2s\n",
      "17:\tlearn: 1566.3625581\ttotal: 2.65s\tremaining: 12.1s\n",
      "18:\tlearn: 1558.1825479\ttotal: 2.8s\tremaining: 12s\n",
      "19:\tlearn: 1546.7046983\ttotal: 2.96s\tremaining: 11.8s\n",
      "20:\tlearn: 1533.7872752\ttotal: 3.11s\tremaining: 11.7s\n",
      "21:\tlearn: 1530.1937921\ttotal: 3.25s\tremaining: 11.5s\n",
      "22:\tlearn: 1522.5134443\ttotal: 3.39s\tremaining: 11.4s\n",
      "23:\tlearn: 1518.0987747\ttotal: 3.54s\tremaining: 11.2s\n",
      "24:\tlearn: 1506.6656484\ttotal: 3.69s\tremaining: 11.1s\n",
      "25:\tlearn: 1501.7649237\ttotal: 3.84s\tremaining: 10.9s\n",
      "26:\tlearn: 1491.9928174\ttotal: 4s\tremaining: 10.8s\n",
      "27:\tlearn: 1483.2565774\ttotal: 4.14s\tremaining: 10.7s\n",
      "28:\tlearn: 1475.1974094\ttotal: 4.28s\tremaining: 10.5s\n",
      "29:\tlearn: 1469.3386758\ttotal: 4.43s\tremaining: 10.3s\n",
      "30:\tlearn: 1462.8520220\ttotal: 4.58s\tremaining: 10.2s\n",
      "31:\tlearn: 1457.2010707\ttotal: 4.73s\tremaining: 10.1s\n",
      "32:\tlearn: 1449.2882423\ttotal: 4.88s\tremaining: 9.91s\n",
      "33:\tlearn: 1444.9497804\ttotal: 5.04s\tremaining: 9.78s\n",
      "34:\tlearn: 1439.5453092\ttotal: 5.18s\tremaining: 9.63s\n",
      "35:\tlearn: 1435.3772631\ttotal: 5.32s\tremaining: 9.46s\n",
      "36:\tlearn: 1429.2821328\ttotal: 5.47s\tremaining: 9.31s\n",
      "37:\tlearn: 1425.7737240\ttotal: 5.62s\tremaining: 9.16s\n",
      "38:\tlearn: 1421.8873875\ttotal: 5.77s\tremaining: 9.02s\n",
      "39:\tlearn: 1416.2205384\ttotal: 5.92s\tremaining: 8.88s\n",
      "40:\tlearn: 1412.6856255\ttotal: 6.08s\tremaining: 8.74s\n",
      "41:\tlearn: 1407.9970278\ttotal: 6.22s\tremaining: 8.59s\n",
      "42:\tlearn: 1403.4769359\ttotal: 6.36s\tremaining: 8.43s\n",
      "43:\tlearn: 1399.1975194\ttotal: 6.51s\tremaining: 8.28s\n",
      "44:\tlearn: 1396.8098333\ttotal: 6.66s\tremaining: 8.14s\n",
      "45:\tlearn: 1394.5608757\ttotal: 6.82s\tremaining: 8s\n",
      "46:\tlearn: 1390.1204940\ttotal: 6.98s\tremaining: 7.87s\n",
      "47:\tlearn: 1388.0686724\ttotal: 7.13s\tremaining: 7.72s\n",
      "48:\tlearn: 1385.0328386\ttotal: 7.27s\tremaining: 7.57s\n",
      "49:\tlearn: 1380.6576127\ttotal: 7.42s\tremaining: 7.42s\n",
      "50:\tlearn: 1377.5038469\ttotal: 7.58s\tremaining: 7.28s\n",
      "51:\tlearn: 1373.3288456\ttotal: 7.73s\tremaining: 7.14s\n",
      "52:\tlearn: 1370.4471455\ttotal: 7.89s\tremaining: 7s\n",
      "53:\tlearn: 1367.3118959\ttotal: 8.05s\tremaining: 6.86s\n",
      "54:\tlearn: 1364.4282009\ttotal: 8.19s\tremaining: 6.7s\n",
      "55:\tlearn: 1361.5147177\ttotal: 8.34s\tremaining: 6.55s\n",
      "56:\tlearn: 1358.0110331\ttotal: 8.5s\tremaining: 6.41s\n",
      "57:\tlearn: 1355.4290212\ttotal: 8.65s\tremaining: 6.26s\n",
      "58:\tlearn: 1351.5665006\ttotal: 8.81s\tremaining: 6.12s\n",
      "59:\tlearn: 1349.3708197\ttotal: 8.96s\tremaining: 5.97s\n",
      "60:\tlearn: 1347.4307706\ttotal: 9.11s\tremaining: 5.83s\n",
      "61:\tlearn: 1345.2551587\ttotal: 9.26s\tremaining: 5.67s\n",
      "62:\tlearn: 1341.9675870\ttotal: 9.39s\tremaining: 5.52s\n",
      "63:\tlearn: 1339.6407237\ttotal: 9.54s\tremaining: 5.37s\n",
      "64:\tlearn: 1337.8965153\ttotal: 9.7s\tremaining: 5.22s\n",
      "65:\tlearn: 1334.9022603\ttotal: 9.86s\tremaining: 5.08s\n",
      "66:\tlearn: 1332.1654481\ttotal: 10s\tremaining: 4.93s\n",
      "67:\tlearn: 1329.8444679\ttotal: 10.2s\tremaining: 4.78s\n",
      "68:\tlearn: 1325.9346317\ttotal: 10.3s\tremaining: 4.63s\n",
      "69:\tlearn: 1324.3780151\ttotal: 10.4s\tremaining: 4.48s\n",
      "70:\tlearn: 1322.6318746\ttotal: 10.6s\tremaining: 4.33s\n",
      "71:\tlearn: 1320.3504030\ttotal: 10.8s\tremaining: 4.18s\n",
      "72:\tlearn: 1317.6893548\ttotal: 10.9s\tremaining: 4.04s\n",
      "73:\tlearn: 1315.1116048\ttotal: 11.1s\tremaining: 3.89s\n",
      "74:\tlearn: 1313.4822412\ttotal: 11.2s\tremaining: 3.74s\n",
      "75:\tlearn: 1311.7145132\ttotal: 11.4s\tremaining: 3.58s\n",
      "76:\tlearn: 1310.2281104\ttotal: 11.5s\tremaining: 3.44s\n",
      "77:\tlearn: 1308.1011861\ttotal: 11.7s\tremaining: 3.29s\n",
      "78:\tlearn: 1306.4055337\ttotal: 11.8s\tremaining: 3.14s\n",
      "79:\tlearn: 1304.5673786\ttotal: 12s\tremaining: 2.99s\n",
      "80:\tlearn: 1301.8756704\ttotal: 12.1s\tremaining: 2.84s\n",
      "81:\tlearn: 1299.5962161\ttotal: 12.3s\tremaining: 2.69s\n",
      "82:\tlearn: 1297.2668918\ttotal: 12.4s\tremaining: 2.54s\n",
      "83:\tlearn: 1295.4192097\ttotal: 12.6s\tremaining: 2.39s\n",
      "84:\tlearn: 1293.0340876\ttotal: 12.7s\tremaining: 2.24s\n",
      "85:\tlearn: 1289.9573807\ttotal: 12.9s\tremaining: 2.09s\n",
      "86:\tlearn: 1288.6874200\ttotal: 13s\tremaining: 1.95s\n",
      "87:\tlearn: 1286.4353232\ttotal: 13.2s\tremaining: 1.79s\n",
      "88:\tlearn: 1285.4117043\ttotal: 13.3s\tremaining: 1.64s\n",
      "89:\tlearn: 1283.7969063\ttotal: 13.5s\tremaining: 1.49s\n",
      "90:\tlearn: 1281.3156781\ttotal: 13.6s\tremaining: 1.35s\n",
      "91:\tlearn: 1280.8605386\ttotal: 13.8s\tremaining: 1.2s\n",
      "92:\tlearn: 1278.3932331\ttotal: 13.9s\tremaining: 1.05s\n",
      "93:\tlearn: 1276.6767624\ttotal: 14.1s\tremaining: 898ms\n",
      "94:\tlearn: 1275.3995982\ttotal: 14.2s\tremaining: 748ms\n",
      "95:\tlearn: 1272.7904674\ttotal: 14.4s\tremaining: 598ms\n",
      "96:\tlearn: 1270.7030135\ttotal: 14.5s\tremaining: 449ms\n",
      "97:\tlearn: 1268.3983234\ttotal: 14.7s\tremaining: 299ms\n",
      "98:\tlearn: 1266.6111938\ttotal: 14.8s\tremaining: 150ms\n",
      "99:\tlearn: 1265.4542559\ttotal: 15s\tremaining: 0us\n",
      "Depth = 14 Iteration = 100 RMSE = 1579.9944843125224\n",
      "Learning rate set to 0.5\n",
      "0:\tlearn: 2997.8509146\ttotal: 142ms\tremaining: 15.5s\n",
      "1:\tlearn: 2292.1106569\ttotal: 279ms\tremaining: 15.1s\n",
      "2:\tlearn: 1997.6841490\ttotal: 429ms\tremaining: 15.3s\n",
      "3:\tlearn: 1864.3209137\ttotal: 576ms\tremaining: 15.3s\n",
      "4:\tlearn: 1801.4466886\ttotal: 723ms\tremaining: 15.2s\n",
      "5:\tlearn: 1757.4175025\ttotal: 873ms\tremaining: 15.1s\n",
      "6:\tlearn: 1724.2942381\ttotal: 1.01s\tremaining: 14.9s\n",
      "7:\tlearn: 1705.7590391\ttotal: 1.15s\tremaining: 14.6s\n",
      "8:\tlearn: 1684.1081578\ttotal: 1.29s\tremaining: 14.5s\n",
      "9:\tlearn: 1671.4966605\ttotal: 1.44s\tremaining: 14.4s\n",
      "10:\tlearn: 1659.0409719\ttotal: 1.59s\tremaining: 14.3s\n",
      "11:\tlearn: 1640.7435546\ttotal: 1.74s\tremaining: 14.2s\n",
      "12:\tlearn: 1622.5724064\ttotal: 1.89s\tremaining: 14.1s\n",
      "13:\tlearn: 1608.4427441\ttotal: 2.03s\tremaining: 13.9s\n",
      "14:\tlearn: 1594.7421779\ttotal: 2.17s\tremaining: 13.7s\n",
      "15:\tlearn: 1584.5859462\ttotal: 2.31s\tremaining: 13.6s\n",
      "16:\tlearn: 1575.4990425\ttotal: 2.46s\tremaining: 13.5s\n",
      "17:\tlearn: 1566.3625581\ttotal: 2.61s\tremaining: 13.4s\n",
      "18:\tlearn: 1558.1825479\ttotal: 2.77s\tremaining: 13.3s\n",
      "19:\tlearn: 1546.7046983\ttotal: 2.92s\tremaining: 13.1s\n",
      "20:\tlearn: 1533.7872752\ttotal: 3.06s\tremaining: 12.9s\n",
      "21:\tlearn: 1530.1937921\ttotal: 3.19s\tremaining: 12.8s\n",
      "22:\tlearn: 1522.5134443\ttotal: 3.34s\tremaining: 12.6s\n",
      "23:\tlearn: 1518.0987747\ttotal: 3.49s\tremaining: 12.5s\n",
      "24:\tlearn: 1506.6656484\ttotal: 3.64s\tremaining: 12.4s\n",
      "25:\tlearn: 1501.7649237\ttotal: 3.79s\tremaining: 12.3s\n",
      "26:\tlearn: 1491.9928174\ttotal: 3.94s\tremaining: 12.1s\n",
      "27:\tlearn: 1483.2565774\ttotal: 4.08s\tremaining: 11.9s\n",
      "28:\tlearn: 1475.1974094\ttotal: 4.22s\tremaining: 11.8s\n",
      "29:\tlearn: 1469.3386758\ttotal: 4.37s\tremaining: 11.6s\n",
      "30:\tlearn: 1462.8520220\ttotal: 4.52s\tremaining: 11.5s\n",
      "31:\tlearn: 1457.2010707\ttotal: 4.67s\tremaining: 11.4s\n",
      "32:\tlearn: 1449.2882423\ttotal: 4.82s\tremaining: 11.2s\n",
      "33:\tlearn: 1444.9497804\ttotal: 4.96s\tremaining: 11.1s\n",
      "34:\tlearn: 1439.5453092\ttotal: 5.1s\tremaining: 10.9s\n",
      "35:\tlearn: 1435.3772631\ttotal: 5.24s\tremaining: 10.8s\n",
      "36:\tlearn: 1429.2821328\ttotal: 5.39s\tremaining: 10.6s\n",
      "37:\tlearn: 1425.7737240\ttotal: 5.55s\tremaining: 10.5s\n",
      "38:\tlearn: 1421.8873875\ttotal: 5.7s\tremaining: 10.4s\n",
      "39:\tlearn: 1416.2205384\ttotal: 5.85s\tremaining: 10.2s\n",
      "40:\tlearn: 1412.6856255\ttotal: 5.99s\tremaining: 10.1s\n",
      "41:\tlearn: 1407.9970278\ttotal: 6.13s\tremaining: 9.93s\n",
      "42:\tlearn: 1403.4769359\ttotal: 6.28s\tremaining: 9.78s\n",
      "43:\tlearn: 1399.1975194\ttotal: 6.44s\tremaining: 9.66s\n",
      "44:\tlearn: 1396.8098333\ttotal: 6.6s\tremaining: 9.53s\n",
      "45:\tlearn: 1394.5608757\ttotal: 6.75s\tremaining: 9.39s\n",
      "46:\tlearn: 1390.1204940\ttotal: 6.9s\tremaining: 9.25s\n",
      "47:\tlearn: 1388.0686724\ttotal: 7.04s\tremaining: 9.1s\n",
      "48:\tlearn: 1385.0328386\ttotal: 7.19s\tremaining: 8.95s\n",
      "49:\tlearn: 1380.6576127\ttotal: 7.34s\tremaining: 8.81s\n",
      "50:\tlearn: 1377.5038469\ttotal: 7.5s\tremaining: 8.67s\n",
      "51:\tlearn: 1373.3288456\ttotal: 7.65s\tremaining: 8.54s\n",
      "52:\tlearn: 1370.4471455\ttotal: 7.81s\tremaining: 8.4s\n"
     ]
    },
    {
     "name": "stdout",
     "output_type": "stream",
     "text": [
      "53:\tlearn: 1367.3118959\ttotal: 7.96s\tremaining: 8.26s\n",
      "54:\tlearn: 1364.4282009\ttotal: 8.11s\tremaining: 8.11s\n",
      "55:\tlearn: 1361.5147177\ttotal: 8.26s\tremaining: 7.96s\n",
      "56:\tlearn: 1358.0110331\ttotal: 8.41s\tremaining: 7.82s\n",
      "57:\tlearn: 1355.4290212\ttotal: 8.57s\tremaining: 7.68s\n",
      "58:\tlearn: 1351.5665006\ttotal: 8.73s\tremaining: 7.55s\n",
      "59:\tlearn: 1349.3708197\ttotal: 8.88s\tremaining: 7.4s\n",
      "60:\tlearn: 1347.4307706\ttotal: 9.03s\tremaining: 7.26s\n",
      "61:\tlearn: 1345.2551587\ttotal: 9.18s\tremaining: 7.11s\n",
      "62:\tlearn: 1341.9675870\ttotal: 9.34s\tremaining: 6.96s\n",
      "63:\tlearn: 1339.6407237\ttotal: 9.49s\tremaining: 6.82s\n",
      "64:\tlearn: 1337.8965153\ttotal: 9.64s\tremaining: 6.68s\n",
      "65:\tlearn: 1334.9022603\ttotal: 9.8s\tremaining: 6.53s\n",
      "66:\tlearn: 1332.1654481\ttotal: 9.95s\tremaining: 6.38s\n",
      "67:\tlearn: 1329.8444679\ttotal: 10.1s\tremaining: 6.23s\n",
      "68:\tlearn: 1325.9346317\ttotal: 10.2s\tremaining: 6.08s\n",
      "69:\tlearn: 1324.3780151\ttotal: 10.4s\tremaining: 5.93s\n",
      "70:\tlearn: 1322.6318746\ttotal: 10.5s\tremaining: 5.79s\n",
      "71:\tlearn: 1320.3504030\ttotal: 10.7s\tremaining: 5.64s\n",
      "72:\tlearn: 1317.6893548\ttotal: 10.8s\tremaining: 5.5s\n",
      "73:\tlearn: 1315.1116048\ttotal: 11s\tremaining: 5.35s\n",
      "74:\tlearn: 1313.4822412\ttotal: 11.1s\tremaining: 5.19s\n",
      "75:\tlearn: 1311.7145132\ttotal: 11.3s\tremaining: 5.04s\n",
      "76:\tlearn: 1310.2281104\ttotal: 11.4s\tremaining: 4.9s\n",
      "77:\tlearn: 1308.1011861\ttotal: 11.6s\tremaining: 4.75s\n",
      "78:\tlearn: 1306.4055337\ttotal: 11.7s\tremaining: 4.6s\n",
      "79:\tlearn: 1304.5673786\ttotal: 11.9s\tremaining: 4.46s\n",
      "80:\tlearn: 1301.8756704\ttotal: 12s\tremaining: 4.3s\n",
      "81:\tlearn: 1299.5962161\ttotal: 12.2s\tremaining: 4.15s\n",
      "82:\tlearn: 1297.2668918\ttotal: 12.3s\tremaining: 4s\n",
      "83:\tlearn: 1295.4192097\ttotal: 12.5s\tremaining: 3.86s\n",
      "84:\tlearn: 1293.0340876\ttotal: 12.6s\tremaining: 3.71s\n",
      "85:\tlearn: 1289.9573807\ttotal: 12.8s\tremaining: 3.56s\n",
      "86:\tlearn: 1288.6874200\ttotal: 12.9s\tremaining: 3.42s\n",
      "87:\tlearn: 1286.4353232\ttotal: 13.1s\tremaining: 3.27s\n",
      "88:\tlearn: 1285.4117043\ttotal: 13.2s\tremaining: 3.12s\n",
      "89:\tlearn: 1283.7969063\ttotal: 13.4s\tremaining: 2.97s\n",
      "90:\tlearn: 1281.3156781\ttotal: 13.5s\tremaining: 2.82s\n",
      "91:\tlearn: 1280.8605386\ttotal: 13.7s\tremaining: 2.67s\n",
      "92:\tlearn: 1278.3932331\ttotal: 13.8s\tremaining: 2.53s\n",
      "93:\tlearn: 1276.6767624\ttotal: 14s\tremaining: 2.38s\n",
      "94:\tlearn: 1275.3995982\ttotal: 14.1s\tremaining: 2.23s\n",
      "95:\tlearn: 1272.7904674\ttotal: 14.3s\tremaining: 2.08s\n",
      "96:\tlearn: 1270.7030135\ttotal: 14.4s\tremaining: 1.93s\n",
      "97:\tlearn: 1268.3983234\ttotal: 14.6s\tremaining: 1.78s\n",
      "98:\tlearn: 1266.6111938\ttotal: 14.7s\tremaining: 1.64s\n",
      "99:\tlearn: 1265.4542559\ttotal: 14.9s\tremaining: 1.49s\n",
      "100:\tlearn: 1264.5423026\ttotal: 15s\tremaining: 1.34s\n",
      "101:\tlearn: 1262.1500658\ttotal: 15.2s\tremaining: 1.19s\n",
      "102:\tlearn: 1259.9738540\ttotal: 15.3s\tremaining: 1.04s\n",
      "103:\tlearn: 1258.9399653\ttotal: 15.5s\tremaining: 892ms\n",
      "104:\tlearn: 1257.6037122\ttotal: 15.6s\tremaining: 743ms\n",
      "105:\tlearn: 1255.2257726\ttotal: 15.8s\tremaining: 595ms\n",
      "106:\tlearn: 1252.7552118\ttotal: 15.9s\tremaining: 446ms\n",
      "107:\tlearn: 1250.7116916\ttotal: 16.1s\tremaining: 297ms\n",
      "108:\tlearn: 1249.2162763\ttotal: 16.2s\tremaining: 149ms\n",
      "109:\tlearn: 1248.2487472\ttotal: 16.4s\tremaining: 0us\n",
      "Depth = 14 Iteration = 110 RMSE = 1577.44963313687\n",
      "Best depth 14 Best iteration 110 Best RMSE: 1577.44963313687\n",
      "Wall time: 1min 56s\n"
     ]
    }
   ],
   "source": [
    "%%time\n",
    "h_rmse = 10000\n",
    "h_depth = 0\n",
    "h_iteration = 0\n",
    "\n",
    "for depth in range(5, 16, 3):\n",
    "    for iteration in range(50, 120, 10):\n",
    "        CBR = CatBoostRegressor(depth=depth, iterations=iteration, random_state=12345)\n",
    "        CBR.fit(features_train_OE, target_train_OE)\n",
    "        predictions = CBR.predict(features_valid_OE)\n",
    "            \n",
    "        rmse = np.sqrt(mean_squared_error(target_valid_OE, predictions))\n",
    "        \n",
    "        print('Depth =', depth, 'Iteration =' , iteration, 'RMSE =', rmse)\n",
    "\n",
    "        if (h_rmse > rmse):\n",
    "            h_rmse = rmse\n",
    "            h_iteration = iteration\n",
    "            h_depth = depth\n",
    "            \n",
    "print('Best depth', h_depth, 'Best iteration', h_iteration, 'Best RMSE:', h_rmse)"
   ]
  },
  {
   "cell_type": "markdown",
   "metadata": {},
   "source": [
    "Рассмотрим отдельно и рассчитаем время обучения, предсказания и метрику RMSE на лучших гиперпараметрах:"
   ]
  },
  {
   "cell_type": "code",
   "execution_count": 50,
   "metadata": {
    "scrolled": true
   },
   "outputs": [
    {
     "name": "stdout",
     "output_type": "stream",
     "text": [
      "Learning rate set to 0.5\n",
      "0:\tlearn: 2997.8509146\ttotal: 164ms\tremaining: 17.9s\n",
      "1:\tlearn: 2292.1106569\ttotal: 309ms\tremaining: 16.7s\n",
      "2:\tlearn: 1997.6841490\ttotal: 452ms\tremaining: 16.1s\n",
      "3:\tlearn: 1864.3209137\ttotal: 595ms\tremaining: 15.8s\n",
      "4:\tlearn: 1801.4466886\ttotal: 746ms\tremaining: 15.7s\n",
      "5:\tlearn: 1757.4175025\ttotal: 897ms\tremaining: 15.6s\n",
      "6:\tlearn: 1724.2942381\ttotal: 1.05s\tremaining: 15.4s\n",
      "7:\tlearn: 1705.7590391\ttotal: 1.2s\tremaining: 15.4s\n",
      "8:\tlearn: 1684.1081578\ttotal: 1.35s\tremaining: 15.1s\n",
      "9:\tlearn: 1671.4966605\ttotal: 1.49s\tremaining: 14.9s\n",
      "10:\tlearn: 1659.0409719\ttotal: 1.63s\tremaining: 14.7s\n",
      "11:\tlearn: 1640.7435546\ttotal: 1.78s\tremaining: 14.5s\n",
      "12:\tlearn: 1622.5724064\ttotal: 1.93s\tremaining: 14.4s\n",
      "13:\tlearn: 1608.4427441\ttotal: 2.08s\tremaining: 14.3s\n",
      "14:\tlearn: 1594.7421779\ttotal: 2.24s\tremaining: 14.2s\n",
      "15:\tlearn: 1584.5859462\ttotal: 2.38s\tremaining: 14s\n",
      "16:\tlearn: 1575.4990425\ttotal: 2.52s\tremaining: 13.8s\n",
      "17:\tlearn: 1566.3625581\ttotal: 2.66s\tremaining: 13.6s\n",
      "18:\tlearn: 1558.1825479\ttotal: 2.81s\tremaining: 13.5s\n",
      "19:\tlearn: 1546.7046983\ttotal: 2.96s\tremaining: 13.3s\n",
      "20:\tlearn: 1533.7872752\ttotal: 3.12s\tremaining: 13.2s\n",
      "21:\tlearn: 1530.1937921\ttotal: 3.27s\tremaining: 13.1s\n",
      "22:\tlearn: 1522.5134443\ttotal: 3.41s\tremaining: 12.9s\n",
      "23:\tlearn: 1518.0987747\ttotal: 3.55s\tremaining: 12.7s\n",
      "24:\tlearn: 1506.6656484\ttotal: 3.7s\tremaining: 12.6s\n",
      "25:\tlearn: 1501.7649237\ttotal: 3.85s\tremaining: 12.4s\n",
      "26:\tlearn: 1491.9928174\ttotal: 4s\tremaining: 12.3s\n",
      "27:\tlearn: 1483.2565774\ttotal: 4.16s\tremaining: 12.2s\n",
      "28:\tlearn: 1475.1974094\ttotal: 4.3s\tremaining: 12s\n",
      "29:\tlearn: 1469.3386758\ttotal: 4.44s\tremaining: 11.8s\n",
      "30:\tlearn: 1462.8520220\ttotal: 4.58s\tremaining: 11.7s\n",
      "31:\tlearn: 1457.2010707\ttotal: 4.73s\tremaining: 11.5s\n",
      "32:\tlearn: 1449.2882423\ttotal: 4.88s\tremaining: 11.4s\n",
      "33:\tlearn: 1444.9497804\ttotal: 5.04s\tremaining: 11.3s\n",
      "34:\tlearn: 1439.5453092\ttotal: 5.19s\tremaining: 11.1s\n",
      "35:\tlearn: 1435.3772631\ttotal: 5.33s\tremaining: 11s\n",
      "36:\tlearn: 1429.2821328\ttotal: 5.47s\tremaining: 10.8s\n",
      "37:\tlearn: 1425.7737240\ttotal: 5.61s\tremaining: 10.6s\n",
      "38:\tlearn: 1421.8873875\ttotal: 5.76s\tremaining: 10.5s\n",
      "39:\tlearn: 1416.2205384\ttotal: 5.92s\tremaining: 10.4s\n",
      "40:\tlearn: 1412.6856255\ttotal: 6.07s\tremaining: 10.2s\n",
      "41:\tlearn: 1407.9970278\ttotal: 6.23s\tremaining: 10.1s\n",
      "42:\tlearn: 1403.4769359\ttotal: 6.38s\tremaining: 9.93s\n",
      "43:\tlearn: 1399.1975194\ttotal: 6.52s\tremaining: 9.78s\n",
      "44:\tlearn: 1396.8098333\ttotal: 6.67s\tremaining: 9.63s\n",
      "45:\tlearn: 1394.5608757\ttotal: 6.82s\tremaining: 9.49s\n",
      "46:\tlearn: 1390.1204940\ttotal: 6.98s\tremaining: 9.36s\n",
      "47:\tlearn: 1388.0686724\ttotal: 7.14s\tremaining: 9.23s\n",
      "48:\tlearn: 1385.0328386\ttotal: 7.3s\tremaining: 9.08s\n",
      "49:\tlearn: 1380.6576127\ttotal: 7.44s\tremaining: 8.93s\n",
      "50:\tlearn: 1377.5038469\ttotal: 7.59s\tremaining: 8.79s\n",
      "51:\tlearn: 1373.3288456\ttotal: 7.75s\tremaining: 8.65s\n",
      "52:\tlearn: 1370.4471455\ttotal: 7.91s\tremaining: 8.5s\n",
      "53:\tlearn: 1367.3118959\ttotal: 8.07s\tremaining: 8.37s\n",
      "54:\tlearn: 1364.4282009\ttotal: 8.22s\tremaining: 8.22s\n",
      "55:\tlearn: 1361.5147177\ttotal: 8.37s\tremaining: 8.07s\n",
      "56:\tlearn: 1358.0110331\ttotal: 8.52s\tremaining: 7.92s\n",
      "57:\tlearn: 1355.4290212\ttotal: 8.67s\tremaining: 7.77s\n",
      "58:\tlearn: 1351.5665006\ttotal: 8.83s\tremaining: 7.63s\n",
      "59:\tlearn: 1349.3708197\ttotal: 8.98s\tremaining: 7.48s\n",
      "60:\tlearn: 1347.4307706\ttotal: 9.13s\tremaining: 7.34s\n",
      "61:\tlearn: 1345.2551587\ttotal: 9.28s\tremaining: 7.18s\n",
      "62:\tlearn: 1341.9675870\ttotal: 9.42s\tremaining: 7.03s\n",
      "63:\tlearn: 1339.6407237\ttotal: 9.56s\tremaining: 6.88s\n",
      "64:\tlearn: 1337.8965153\ttotal: 9.72s\tremaining: 6.73s\n",
      "65:\tlearn: 1334.9022603\ttotal: 9.87s\tremaining: 6.58s\n",
      "66:\tlearn: 1332.1654481\ttotal: 10s\tremaining: 6.43s\n",
      "67:\tlearn: 1329.8444679\ttotal: 10.2s\tremaining: 6.29s\n",
      "68:\tlearn: 1325.9346317\ttotal: 10.3s\tremaining: 6.14s\n",
      "69:\tlearn: 1324.3780151\ttotal: 10.5s\tremaining: 5.98s\n",
      "70:\tlearn: 1322.6318746\ttotal: 10.6s\tremaining: 5.83s\n",
      "71:\tlearn: 1320.3504030\ttotal: 10.8s\tremaining: 5.68s\n",
      "72:\tlearn: 1317.6893548\ttotal: 10.9s\tremaining: 5.53s\n",
      "73:\tlearn: 1315.1116048\ttotal: 11.1s\tremaining: 5.39s\n",
      "74:\tlearn: 1313.4822412\ttotal: 11.2s\tremaining: 5.24s\n",
      "75:\tlearn: 1311.7145132\ttotal: 11.4s\tremaining: 5.09s\n",
      "76:\tlearn: 1310.2281104\ttotal: 11.5s\tremaining: 4.93s\n",
      "77:\tlearn: 1308.1011861\ttotal: 11.7s\tremaining: 4.78s\n",
      "78:\tlearn: 1306.4055337\ttotal: 11.8s\tremaining: 4.64s\n",
      "79:\tlearn: 1304.5673786\ttotal: 12s\tremaining: 4.49s\n",
      "80:\tlearn: 1301.8756704\ttotal: 12.1s\tremaining: 4.34s\n",
      "81:\tlearn: 1299.5962161\ttotal: 12.3s\tremaining: 4.19s\n",
      "82:\tlearn: 1297.2668918\ttotal: 12.4s\tremaining: 4.04s\n",
      "83:\tlearn: 1295.4192097\ttotal: 12.6s\tremaining: 3.89s\n",
      "84:\tlearn: 1293.0340876\ttotal: 12.7s\tremaining: 3.74s\n",
      "85:\tlearn: 1289.9573807\ttotal: 12.9s\tremaining: 3.59s\n",
      "86:\tlearn: 1288.6874200\ttotal: 13s\tremaining: 3.44s\n",
      "87:\tlearn: 1286.4353232\ttotal: 13.2s\tremaining: 3.3s\n",
      "88:\tlearn: 1285.4117043\ttotal: 13.3s\tremaining: 3.15s\n",
      "89:\tlearn: 1283.7969063\ttotal: 13.5s\tremaining: 3s\n",
      "90:\tlearn: 1281.3156781\ttotal: 13.6s\tremaining: 2.85s\n",
      "91:\tlearn: 1280.8605386\ttotal: 13.8s\tremaining: 2.7s\n",
      "92:\tlearn: 1278.3932331\ttotal: 13.9s\tremaining: 2.55s\n",
      "93:\tlearn: 1276.6767624\ttotal: 14.1s\tremaining: 2.4s\n",
      "94:\tlearn: 1275.3995982\ttotal: 14.2s\tremaining: 2.25s\n",
      "95:\tlearn: 1272.7904674\ttotal: 14.4s\tremaining: 2.1s\n",
      "96:\tlearn: 1270.7030135\ttotal: 14.5s\tremaining: 1.95s\n",
      "97:\tlearn: 1268.3983234\ttotal: 14.7s\tremaining: 1.8s\n",
      "98:\tlearn: 1266.6111938\ttotal: 14.8s\tremaining: 1.65s\n",
      "99:\tlearn: 1265.4542559\ttotal: 15s\tremaining: 1.5s\n",
      "100:\tlearn: 1264.5423026\ttotal: 15.2s\tremaining: 1.35s\n",
      "101:\tlearn: 1262.1500658\ttotal: 15.3s\tremaining: 1.2s\n",
      "102:\tlearn: 1259.9738540\ttotal: 15.4s\tremaining: 1.05s\n",
      "103:\tlearn: 1258.9399653\ttotal: 15.6s\tremaining: 899ms\n",
      "104:\tlearn: 1257.6037122\ttotal: 15.7s\tremaining: 750ms\n",
      "105:\tlearn: 1255.2257726\ttotal: 15.9s\tremaining: 600ms\n",
      "106:\tlearn: 1252.7552118\ttotal: 16.1s\tremaining: 450ms\n",
      "107:\tlearn: 1250.7116916\ttotal: 16.2s\tremaining: 300ms\n",
      "108:\tlearn: 1249.2162763\ttotal: 16.4s\tremaining: 150ms\n",
      "109:\tlearn: 1248.2487472\ttotal: 16.5s\tremaining: 0us\n",
      "Время обучения CatBoost:\n",
      "Wall time: 16.7 s\n"
     ]
    }
   ],
   "source": [
    "%%time\n",
    "CBR = CatBoostRegressor(depth=14, iterations=110, random_state=12345)\n",
    "CBR .fit(features_train_OE, target_train_OE)\n",
    "print(\"Время обучения CatBoost:\")"
   ]
  },
  {
   "cell_type": "code",
   "execution_count": 51,
   "metadata": {},
   "outputs": [
    {
     "name": "stdout",
     "output_type": "stream",
     "text": [
      "Best depth 14 Best iteration 110 Best RMSE = 1577.44963313687\n",
      "Время предсказания CatBoost:\n",
      "Wall time: 22 ms\n"
     ]
    }
   ],
   "source": [
    "%%time\n",
    "predictions = CBR .predict(features_valid_OE)\n",
    "\n",
    "rmse = np.sqrt(mean_squared_error(target_valid_OE, predictions))\n",
    "\n",
    "print('Best depth', 14, 'Best iteration' , 110, 'Best RMSE =', rmse)\n",
    "print(\"Время предсказания CatBoost:\")"
   ]
  },
  {
   "cell_type": "markdown",
   "metadata": {},
   "source": [
    "Лучший результат для CatBoost: `Depth = 14 Best iteration 110` при значениях `RMSE = 1577.45`.\n",
    "\n",
    "Также при выбранных параметрах: \n",
    "- Время обучения : 16.7 s\n",
    "- Время предсказания : 22 ms\n"
   ]
  },
  {
   "cell_type": "markdown",
   "metadata": {},
   "source": [
    "### Обучение CatBoost\n",
    "\n",
    "**CatBoost**, в сравнении с **LGBM** показал худшую скорость обучения:\n",
    "- Время обучения(LGBM) = 361 ms\n",
    "- Время обучения(CatBoost) = 16.7 s\n",
    "\n",
    "\n",
    "Но лучшее значение метрики RMSE и время предсказания:\n",
    "- RMSE(CatBoost) = 1577.45 \n",
    "- RMSE(LGBM) = 1682.48\n",
    "- Время предсказания(CatBoost) = 22 ms\n",
    "- Время предсказания(LGBM) = 44 ms\n",
    "\n",
    "В результате стоит выбрать модель **CatBoost**, так как она превосходит `по двум из трех` параметров заказчика модель **LGBM**"
   ]
  },
  {
   "cell_type": "markdown",
   "metadata": {},
   "source": [
    "## Анализ моделей"
   ]
  },
  {
   "cell_type": "markdown",
   "metadata": {},
   "source": [
    "Проверим CatBoost на тестовой выборке, чтобы узнать точность модели."
   ]
  },
  {
   "cell_type": "markdown",
   "metadata": {},
   "source": [
    "<div class=\"alert alert-block alert-danger\">\n",
    "<b>Ошибка:</b> \n",
    "    \n",
    "- Все метрики нужно считать не на тестовой выбоки. \n",
    "    \n",
    "- Даже скажу точнее: использование тестовой выборки до шага с тестированием  для ОДНОЙ наилучшей модели не должно быть нигде.\n",
    "    \n",
    "- Время предсказания и RMSE для анализа нужно считать на валидационной.\n",
    "\n",
    "\n"
   ]
  },
  {
   "cell_type": "markdown",
   "metadata": {},
   "source": [
    "<div class=\"alert alert-block alert-warning\">\n",
    "<b>Комментарий студента:</b> Иногда забываю об этом, спасибо)\n",
    "</div>\n",
    "\n",
    "<div class=\"alert alert-block alert-warning\">\n",
    "<b>Изменения:</b> Были внесены правки: \n",
    "    \n",
    "    - Анализ времени и метрики RMSE проведен в предыдущем параграфе при использовании валидационной выборки\n",
    "    - В данной главе используется только одна модель и оценивается ее качество.\n",
    "\n",
    "</div>\n"
   ]
  },
  {
   "cell_type": "markdown",
   "metadata": {},
   "source": [
    "<div class=\"alert alert-block alert-success\">\n",
    "    \n",
    "<b>Успех[2]:</b> Есть контакт\n",
    "</div>"
   ]
  },
  {
   "cell_type": "code",
   "execution_count": 52,
   "metadata": {
    "scrolled": true
   },
   "outputs": [
    {
     "name": "stdout",
     "output_type": "stream",
     "text": [
      "Learning rate set to 0.5\n",
      "0:\tlearn: 2997.8509146\ttotal: 162ms\tremaining: 17.6s\n",
      "1:\tlearn: 2292.1106569\ttotal: 313ms\tremaining: 16.9s\n",
      "2:\tlearn: 1997.6841490\ttotal: 468ms\tremaining: 16.7s\n",
      "3:\tlearn: 1864.3209137\ttotal: 611ms\tremaining: 16.2s\n",
      "4:\tlearn: 1801.4466886\ttotal: 752ms\tremaining: 15.8s\n",
      "5:\tlearn: 1757.4175025\ttotal: 893ms\tremaining: 15.5s\n",
      "6:\tlearn: 1724.2942381\ttotal: 1.04s\tremaining: 15.4s\n",
      "7:\tlearn: 1705.7590391\ttotal: 1.2s\tremaining: 15.2s\n",
      "8:\tlearn: 1684.1081578\ttotal: 1.35s\tremaining: 15.1s\n",
      "9:\tlearn: 1671.4966605\ttotal: 1.5s\tremaining: 15s\n",
      "10:\tlearn: 1659.0409719\ttotal: 1.64s\tremaining: 14.8s\n",
      "11:\tlearn: 1640.7435546\ttotal: 1.78s\tremaining: 14.5s\n",
      "12:\tlearn: 1622.5724064\ttotal: 1.93s\tremaining: 14.4s\n",
      "13:\tlearn: 1608.4427441\ttotal: 2.08s\tremaining: 14.3s\n",
      "14:\tlearn: 1594.7421779\ttotal: 2.23s\tremaining: 14.1s\n",
      "15:\tlearn: 1584.5859462\ttotal: 2.38s\tremaining: 14s\n",
      "16:\tlearn: 1575.4990425\ttotal: 2.53s\tremaining: 13.8s\n",
      "17:\tlearn: 1566.3625581\ttotal: 2.67s\tremaining: 13.6s\n",
      "18:\tlearn: 1558.1825479\ttotal: 2.81s\tremaining: 13.4s\n",
      "19:\tlearn: 1546.7046983\ttotal: 2.96s\tremaining: 13.3s\n",
      "20:\tlearn: 1533.7872752\ttotal: 3.11s\tremaining: 13.2s\n",
      "21:\tlearn: 1530.1937921\ttotal: 3.26s\tremaining: 13s\n",
      "22:\tlearn: 1522.5134443\ttotal: 3.41s\tremaining: 12.9s\n",
      "23:\tlearn: 1518.0987747\ttotal: 3.56s\tremaining: 12.7s\n",
      "24:\tlearn: 1506.6656484\ttotal: 3.69s\tremaining: 12.6s\n",
      "25:\tlearn: 1501.7649237\ttotal: 3.83s\tremaining: 12.4s\n",
      "26:\tlearn: 1491.9928174\ttotal: 3.98s\tremaining: 12.2s\n",
      "27:\tlearn: 1483.2565774\ttotal: 4.13s\tremaining: 12.1s\n",
      "28:\tlearn: 1475.1974094\ttotal: 4.29s\tremaining: 12s\n",
      "29:\tlearn: 1469.3386758\ttotal: 4.44s\tremaining: 11.8s\n",
      "30:\tlearn: 1462.8520220\ttotal: 4.58s\tremaining: 11.7s\n",
      "31:\tlearn: 1457.2010707\ttotal: 4.72s\tremaining: 11.5s\n",
      "32:\tlearn: 1449.2882423\ttotal: 4.86s\tremaining: 11.3s\n",
      "33:\tlearn: 1444.9497804\ttotal: 5.01s\tremaining: 11.2s\n",
      "34:\tlearn: 1439.5453092\ttotal: 5.16s\tremaining: 11.1s\n",
      "35:\tlearn: 1435.3772631\ttotal: 5.31s\tremaining: 10.9s\n",
      "36:\tlearn: 1429.2821328\ttotal: 5.46s\tremaining: 10.8s\n",
      "37:\tlearn: 1425.7737240\ttotal: 5.61s\tremaining: 10.6s\n",
      "38:\tlearn: 1421.8873875\ttotal: 5.75s\tremaining: 10.5s\n",
      "39:\tlearn: 1416.2205384\ttotal: 5.89s\tremaining: 10.3s\n",
      "40:\tlearn: 1412.6856255\ttotal: 6.05s\tremaining: 10.2s\n",
      "41:\tlearn: 1407.9970278\ttotal: 6.21s\tremaining: 10.1s\n",
      "42:\tlearn: 1403.4769359\ttotal: 6.37s\tremaining: 9.93s\n",
      "43:\tlearn: 1399.1975194\ttotal: 6.53s\tremaining: 9.79s\n",
      "44:\tlearn: 1396.8098333\ttotal: 6.67s\tremaining: 9.64s\n",
      "45:\tlearn: 1394.5608757\ttotal: 6.82s\tremaining: 9.49s\n",
      "46:\tlearn: 1390.1204940\ttotal: 6.98s\tremaining: 9.36s\n",
      "47:\tlearn: 1388.0686724\ttotal: 7.14s\tremaining: 9.22s\n",
      "48:\tlearn: 1385.0328386\ttotal: 7.3s\tremaining: 9.09s\n",
      "49:\tlearn: 1380.6576127\ttotal: 7.46s\tremaining: 8.96s\n",
      "50:\tlearn: 1377.5038469\ttotal: 7.61s\tremaining: 8.8s\n",
      "51:\tlearn: 1373.3288456\ttotal: 7.76s\tremaining: 8.65s\n",
      "52:\tlearn: 1370.4471455\ttotal: 7.92s\tremaining: 8.51s\n",
      "53:\tlearn: 1367.3118959\ttotal: 8.08s\tremaining: 8.38s\n",
      "54:\tlearn: 1364.4282009\ttotal: 8.24s\tremaining: 8.24s\n",
      "55:\tlearn: 1361.5147177\ttotal: 8.4s\tremaining: 8.1s\n",
      "56:\tlearn: 1358.0110331\ttotal: 8.55s\tremaining: 7.95s\n",
      "57:\tlearn: 1355.4290212\ttotal: 8.7s\tremaining: 7.8s\n",
      "58:\tlearn: 1351.5665006\ttotal: 8.85s\tremaining: 7.65s\n",
      "59:\tlearn: 1349.3708197\ttotal: 9.01s\tremaining: 7.5s\n",
      "60:\tlearn: 1347.4307706\ttotal: 9.17s\tremaining: 7.37s\n",
      "61:\tlearn: 1345.2551587\ttotal: 9.33s\tremaining: 7.22s\n",
      "62:\tlearn: 1341.9675870\ttotal: 9.49s\tremaining: 7.08s\n",
      "63:\tlearn: 1339.6407237\ttotal: 9.63s\tremaining: 6.92s\n",
      "64:\tlearn: 1337.8965153\ttotal: 9.78s\tremaining: 6.77s\n",
      "65:\tlearn: 1334.9022603\ttotal: 9.92s\tremaining: 6.62s\n",
      "66:\tlearn: 1332.1654481\ttotal: 10.1s\tremaining: 6.47s\n",
      "67:\tlearn: 1329.8444679\ttotal: 10.2s\tremaining: 6.32s\n",
      "68:\tlearn: 1325.9346317\ttotal: 10.4s\tremaining: 6.17s\n",
      "69:\tlearn: 1324.3780151\ttotal: 10.5s\tremaining: 6.02s\n",
      "70:\tlearn: 1322.6318746\ttotal: 10.7s\tremaining: 5.87s\n",
      "71:\tlearn: 1320.3504030\ttotal: 10.8s\tremaining: 5.72s\n",
      "72:\tlearn: 1317.6893548\ttotal: 11s\tremaining: 5.57s\n",
      "73:\tlearn: 1315.1116048\ttotal: 11.2s\tremaining: 5.42s\n",
      "74:\tlearn: 1313.4822412\ttotal: 11.3s\tremaining: 5.28s\n",
      "75:\tlearn: 1311.7145132\ttotal: 11.5s\tremaining: 5.13s\n",
      "76:\tlearn: 1310.2281104\ttotal: 11.6s\tremaining: 4.97s\n",
      "77:\tlearn: 1308.1011861\ttotal: 11.8s\tremaining: 4.82s\n",
      "78:\tlearn: 1306.4055337\ttotal: 11.9s\tremaining: 4.67s\n",
      "79:\tlearn: 1304.5673786\ttotal: 12.1s\tremaining: 4.52s\n",
      "80:\tlearn: 1301.8756704\ttotal: 12.2s\tremaining: 4.38s\n",
      "81:\tlearn: 1299.5962161\ttotal: 12.4s\tremaining: 4.23s\n",
      "82:\tlearn: 1297.2668918\ttotal: 12.5s\tremaining: 4.07s\n",
      "83:\tlearn: 1295.4192097\ttotal: 12.7s\tremaining: 3.92s\n",
      "84:\tlearn: 1293.0340876\ttotal: 12.8s\tremaining: 3.77s\n",
      "85:\tlearn: 1289.9573807\ttotal: 13s\tremaining: 3.62s\n",
      "86:\tlearn: 1288.6874200\ttotal: 13.1s\tremaining: 3.47s\n",
      "87:\tlearn: 1286.4353232\ttotal: 13.3s\tremaining: 3.32s\n",
      "88:\tlearn: 1285.4117043\ttotal: 13.5s\tremaining: 3.17s\n",
      "89:\tlearn: 1283.7969063\ttotal: 13.6s\tremaining: 3.02s\n",
      "90:\tlearn: 1281.3156781\ttotal: 13.7s\tremaining: 2.87s\n",
      "91:\tlearn: 1280.8605386\ttotal: 13.9s\tremaining: 2.72s\n",
      "92:\tlearn: 1278.3932331\ttotal: 14s\tremaining: 2.57s\n",
      "93:\tlearn: 1276.6767624\ttotal: 14.2s\tremaining: 2.42s\n",
      "94:\tlearn: 1275.3995982\ttotal: 14.4s\tremaining: 2.27s\n",
      "95:\tlearn: 1272.7904674\ttotal: 14.5s\tremaining: 2.12s\n",
      "96:\tlearn: 1270.7030135\ttotal: 14.7s\tremaining: 1.96s\n",
      "97:\tlearn: 1268.3983234\ttotal: 14.8s\tremaining: 1.81s\n",
      "98:\tlearn: 1266.6111938\ttotal: 15s\tremaining: 1.66s\n",
      "99:\tlearn: 1265.4542559\ttotal: 15.1s\tremaining: 1.51s\n",
      "100:\tlearn: 1264.5423026\ttotal: 15.3s\tremaining: 1.36s\n",
      "101:\tlearn: 1262.1500658\ttotal: 15.4s\tremaining: 1.21s\n",
      "102:\tlearn: 1259.9738540\ttotal: 15.6s\tremaining: 1.06s\n",
      "103:\tlearn: 1258.9399653\ttotal: 15.7s\tremaining: 906ms\n",
      "104:\tlearn: 1257.6037122\ttotal: 15.9s\tremaining: 755ms\n",
      "105:\tlearn: 1255.2257726\ttotal: 16s\tremaining: 604ms\n",
      "106:\tlearn: 1252.7552118\ttotal: 16.2s\tremaining: 453ms\n",
      "107:\tlearn: 1250.7116916\ttotal: 16.3s\tremaining: 302ms\n",
      "108:\tlearn: 1249.2162763\ttotal: 16.5s\tremaining: 151ms\n",
      "109:\tlearn: 1248.2487472\ttotal: 16.6s\tremaining: 0us\n",
      "Время обучения CatBoost:\n",
      "Wall time: 16.9 s\n"
     ]
    }
   ],
   "source": [
    "%%time\n",
    "CBR = CatBoostRegressor(depth=14, iterations=110, random_state=12345)\n",
    "CBR .fit(features_train_OE, target_train_OE)\n",
    "print(\"Время обучения CatBoost:\")"
   ]
  },
  {
   "cell_type": "code",
   "execution_count": 53,
   "metadata": {},
   "outputs": [
    {
     "name": "stdout",
     "output_type": "stream",
     "text": [
      "Best depth 14 Best iteration 110 Best RMSE = 1591.3821040143596\n",
      "Время предсказания CatBoost:\n",
      "Wall time: 20 ms\n"
     ]
    }
   ],
   "source": [
    "%%time\n",
    "predictions = CBR .predict(features_test_OE)\n",
    "\n",
    "rmse = np.sqrt(mean_squared_error(target_test_OE, predictions))\n",
    "\n",
    "print('Best depth', 14, 'Best iteration' , 110, 'Best RMSE =', rmse)\n",
    "print(\"Время предсказания CatBoost:\")"
   ]
  },
  {
   "cell_type": "markdown",
   "metadata": {},
   "source": [
    "На тестовой выборке CatBoost показал схожие результаты по качеству, что и на валидационной выборке, с погрешностью в **один процент**.\n"
   ]
  },
  {
   "cell_type": "markdown",
   "metadata": {},
   "source": [
    "Время обчения у CatBoost - **16.9 s.**\n",
    "\n",
    "Но время предсказания у модели CatBoost **20 ms.**\n",
    "\n",
    "Качество модели же у CatBoost на тестовой выборке:\n",
    "- **RMSE(CatBoost) = 1591.38**"
   ]
  },
  {
   "cell_type": "markdown",
   "metadata": {},
   "source": [
    "<div class=\"alert alert-block alert-success\">\n",
    "    \n",
    "<b>Успех[2]:</b> На тестовой выборке получено хорошее качество, молодец!\n",
    "</div>"
   ]
  },
  {
   "cell_type": "markdown",
   "metadata": {},
   "source": [
    "## Вывод"
   ]
  },
  {
   "cell_type": "markdown",
   "metadata": {},
   "source": [
    "В данном проекте основной задачей являлось построение модели для приложения созданного для опредления рыночной стоимости своего автомобиля. В вашем распоряжении данные данные о технических характеристиках, комплектации и ценах других автомобилей, данные предоставлены компанией «Не бит, не крашен».\n",
    "\n",
    "Были изучены данные и заполнены пропущенные значения и обработаны аномалии. После этого были подготовлены выборки для обучения моделей. Использованы три модели - `LinearRegression, LightGBM, CatBoost`, для каждой модели подобраны гиперпараметры. \n",
    "\n",
    "Заказчику были важны критерии: **качество предсказания,время обучения модели,время предсказания модели**.\n",
    "\n",
    "В результате анализа времени обучения и точности предсказания были сделаны выводы: \n",
    "\n",
    "- Модели с наилучшим RMSE - `LightGBM` and `CatBoost`.\n",
    "- Время обучения LightGBM меньше, но точность равна `RMSE = 1682.48`\n",
    "- Время предсказания CatBoost меньше, чем у LightGBM, но время обучения намного больше - **361 ms** против **16.9 s**. \n",
    "- Точность CatBoost самая лучшая и равна `RMSE = 1591.38`\n",
    "\n",
    "В заключении можно сказать, что для заказчика рекомендуемой моделью является **`CatBoost`**:\n",
    "\n",
    "- Когда важна скорость предсказаний и точность, то следует использовать CatBoost. У данной модели `время предсказания 20 ms`, а  **RMSE = 1591.38** на тестовой выборке.\n",
    "\n",
    "\n",
    "-----------------------------------------------------------------------------------------------------------------------------\n",
    "Но если бы главным критерием была скорость обучения: \n",
    "- В случае если важна скорость обучения, то стоит использовать LGBM, у данной модели она равна `361 ms`, но **RMSE = 1682.48**.\n",
    "\n"
   ]
  },
  {
   "cell_type": "markdown",
   "metadata": {},
   "source": [
    "<div class=\"alert alert-block alert-danger\">\n",
    "<b>Ошибка:</b> После анализа и выбора ОДНОЙ наилучшей модели, должно идти ее тестирование.\n",
    "</div>\n",
    "\n",
    "<div class=\"alert alert-block alert-info\">\n",
    "<b>Совет:</b> \n",
    "\n",
    "Также если говорить, что можно ещё улучшить в подобных проектах, то я бы выделил такие моменты:<br>\n",
    "    \n",
    "1) Для понимания, а какие в итоге факторы важны при моделировании, можно выводить их важность, использую feature_importances_, ну и график заодно. Это будет смотреться очнь здорово: результативная метрика и график важности факторов)))\n",
    "    \n",
    "2) У нас разный возраст машин. Есть гипотеза, что для разных возрастов - своё ценообразование. Поэтому, можно попробовать ввести фактор \"тип возраста\" (ретро, супер-ретро, старая, новая... надо подумать..)..<br>\n",
    "\n",
    "3) У некоторых моделей семейства бустингов, есть внутренний метод кодировки данных, который хорошо было бы попробовать\n",
    "</div>\n"
   ]
  },
  {
   "cell_type": "markdown",
   "metadata": {},
   "source": [
    "## Чек-лист проверки"
   ]
  },
  {
   "cell_type": "markdown",
   "metadata": {},
   "source": [
    "Поставьте 'x' в выполненных пунктах. Далее нажмите Shift+Enter."
   ]
  },
  {
   "cell_type": "markdown",
   "metadata": {},
   "source": [
    "- [x]  Jupyter Notebook открыт\n",
    "- [x]  Весь код выполняется без ошибок\n",
    "- [x]  Ячейки с кодом расположены в порядке исполнения\n",
    "- [x]  Выполнена загрузка и подготовка данных\n",
    "- [x]  Выполнено обучение моделей\n",
    "- [x]  Есть анализ скорости работы и качества моделей"
   ]
  },
  {
   "cell_type": "code",
   "execution_count": null,
   "metadata": {},
   "outputs": [],
   "source": []
  }
 ],
 "metadata": {
  "ExecuteTimeLog": [
   {
    "duration": 95,
    "start_time": "2023-04-01T22:17:32.754Z"
   },
   {
    "duration": 5,
    "start_time": "2023-04-01T22:17:39.305Z"
   },
   {
    "duration": 4883,
    "start_time": "2023-04-01T22:17:40.805Z"
   },
   {
    "duration": 162,
    "start_time": "2023-04-01T22:34:53.495Z"
   },
   {
    "duration": 228,
    "start_time": "2023-04-01T22:35:16.429Z"
   },
   {
    "duration": 58,
    "start_time": "2023-04-02T09:46:43.865Z"
   },
   {
    "duration": 1189,
    "start_time": "2023-04-02T09:46:47.105Z"
   },
   {
    "duration": 1260,
    "start_time": "2023-04-02T09:46:48.297Z"
   },
   {
    "duration": 117,
    "start_time": "2023-04-02T09:46:49.560Z"
   },
   {
    "duration": 142,
    "start_time": "2023-04-02T09:46:49.679Z"
   },
   {
    "duration": 132,
    "start_time": "2023-04-02T09:46:49.824Z"
   },
   {
    "duration": 444,
    "start_time": "2023-04-02T09:47:27.254Z"
   },
   {
    "duration": 612,
    "start_time": "2023-04-02T09:49:14.689Z"
   },
   {
    "duration": 910,
    "start_time": "2023-04-02T09:56:05.868Z"
   },
   {
    "duration": 18,
    "start_time": "2023-04-02T09:56:56.939Z"
   },
   {
    "duration": 810,
    "start_time": "2023-04-02T09:56:56.966Z"
   },
   {
    "duration": 150,
    "start_time": "2023-04-02T09:56:57.777Z"
   },
   {
    "duration": 98,
    "start_time": "2023-04-02T09:56:57.929Z"
   },
   {
    "duration": 457,
    "start_time": "2023-04-02T09:56:58.028Z"
   },
   {
    "duration": 187,
    "start_time": "2023-04-02T09:56:58.487Z"
   },
   {
    "duration": 895,
    "start_time": "2023-04-02T09:56:58.678Z"
   },
   {
    "duration": 4,
    "start_time": "2023-04-02T09:57:50.634Z"
   },
   {
    "duration": 8,
    "start_time": "2023-04-02T09:58:28.580Z"
   },
   {
    "duration": 8,
    "start_time": "2023-04-02T10:06:29.656Z"
   },
   {
    "duration": 4,
    "start_time": "2023-04-02T10:06:35.294Z"
   },
   {
    "duration": 763,
    "start_time": "2023-04-02T10:06:35.300Z"
   },
   {
    "duration": 120,
    "start_time": "2023-04-02T10:06:36.064Z"
   },
   {
    "duration": 109,
    "start_time": "2023-04-02T10:06:36.187Z"
   },
   {
    "duration": 382,
    "start_time": "2023-04-02T10:06:36.298Z"
   },
   {
    "duration": 208,
    "start_time": "2023-04-02T10:06:36.683Z"
   },
   {
    "duration": 924,
    "start_time": "2023-04-02T10:06:36.893Z"
   },
   {
    "duration": 8,
    "start_time": "2023-04-02T10:06:37.819Z"
   },
   {
    "duration": 30,
    "start_time": "2023-04-02T10:10:05.959Z"
   },
   {
    "duration": 107,
    "start_time": "2023-04-02T10:11:13.527Z"
   },
   {
    "duration": 137,
    "start_time": "2023-04-02T10:11:28.159Z"
   },
   {
    "duration": 164,
    "start_time": "2023-04-02T10:11:36.129Z"
   },
   {
    "duration": 10,
    "start_time": "2023-04-02T10:13:50.608Z"
   },
   {
    "duration": 9,
    "start_time": "2023-04-02T10:14:50.002Z"
   },
   {
    "duration": 21,
    "start_time": "2023-04-02T10:15:09.525Z"
   },
   {
    "duration": 127,
    "start_time": "2023-04-02T10:15:30.886Z"
   },
   {
    "duration": 69,
    "start_time": "2023-04-02T11:03:15.491Z"
   },
   {
    "duration": 17,
    "start_time": "2023-04-02T11:03:17.700Z"
   },
   {
    "duration": 41,
    "start_time": "2023-04-02T11:03:54.969Z"
   },
   {
    "duration": 50,
    "start_time": "2023-04-02T11:04:15.750Z"
   },
   {
    "duration": 45,
    "start_time": "2023-04-02T11:04:28.786Z"
   },
   {
    "duration": 69,
    "start_time": "2023-04-02T11:04:36.615Z"
   },
   {
    "duration": 12,
    "start_time": "2023-04-02T11:05:34.769Z"
   },
   {
    "duration": 808,
    "start_time": "2023-04-02T11:05:34.783Z"
   },
   {
    "duration": 139,
    "start_time": "2023-04-02T11:05:35.594Z"
   },
   {
    "duration": 100,
    "start_time": "2023-04-02T11:05:35.734Z"
   },
   {
    "duration": 392,
    "start_time": "2023-04-02T11:05:35.837Z"
   },
   {
    "duration": 170,
    "start_time": "2023-04-02T11:05:36.231Z"
   },
   {
    "duration": 928,
    "start_time": "2023-04-02T11:05:36.403Z"
   },
   {
    "duration": 16,
    "start_time": "2023-04-02T11:05:37.333Z"
   },
   {
    "duration": 37,
    "start_time": "2023-04-02T11:05:37.350Z"
   },
   {
    "duration": 166,
    "start_time": "2023-04-02T11:05:37.389Z"
   },
   {
    "duration": 153,
    "start_time": "2023-04-02T11:05:37.557Z"
   },
   {
    "duration": 61,
    "start_time": "2023-04-02T11:05:37.711Z"
   },
   {
    "duration": 50,
    "start_time": "2023-04-02T11:05:37.775Z"
   },
   {
    "duration": 36,
    "start_time": "2023-04-02T11:06:33.670Z"
   },
   {
    "duration": 41,
    "start_time": "2023-04-02T11:06:36.590Z"
   },
   {
    "duration": 72,
    "start_time": "2023-04-02T11:06:51.600Z"
   },
   {
    "duration": 91,
    "start_time": "2023-04-02T11:06:56.135Z"
   },
   {
    "duration": 57,
    "start_time": "2023-04-02T11:07:15.043Z"
   },
   {
    "duration": 71,
    "start_time": "2023-04-02T12:45:10.463Z"
   },
   {
    "duration": 37,
    "start_time": "2023-04-02T12:45:18.033Z"
   },
   {
    "duration": 80,
    "start_time": "2023-04-02T12:45:22.906Z"
   },
   {
    "duration": 70,
    "start_time": "2023-04-02T12:53:38.564Z"
   },
   {
    "duration": 29,
    "start_time": "2023-04-02T12:54:24.041Z"
   },
   {
    "duration": 71,
    "start_time": "2023-04-02T12:54:33.508Z"
   },
   {
    "duration": 60,
    "start_time": "2023-04-02T12:56:25.963Z"
   },
   {
    "duration": 69,
    "start_time": "2023-04-02T12:57:20.673Z"
   },
   {
    "duration": 29,
    "start_time": "2023-04-02T13:04:37.591Z"
   },
   {
    "duration": 41,
    "start_time": "2023-04-02T13:04:50.009Z"
   },
   {
    "duration": 8,
    "start_time": "2023-04-02T13:07:05.586Z"
   },
   {
    "duration": 3,
    "start_time": "2023-04-02T13:07:12.760Z"
   },
   {
    "duration": 40,
    "start_time": "2023-04-02T13:07:14.110Z"
   },
   {
    "duration": 3,
    "start_time": "2023-04-02T13:07:18.722Z"
   },
   {
    "duration": 665,
    "start_time": "2023-04-02T13:07:18.727Z"
   },
   {
    "duration": 109,
    "start_time": "2023-04-02T13:07:19.393Z"
   },
   {
    "duration": 97,
    "start_time": "2023-04-02T13:07:19.505Z"
   },
   {
    "duration": 350,
    "start_time": "2023-04-02T13:07:19.603Z"
   },
   {
    "duration": 103,
    "start_time": "2023-04-02T13:07:19.955Z"
   },
   {
    "duration": 733,
    "start_time": "2023-04-02T13:07:20.059Z"
   },
   {
    "duration": 6,
    "start_time": "2023-04-02T13:07:20.793Z"
   },
   {
    "duration": 30,
    "start_time": "2023-04-02T13:07:20.800Z"
   },
   {
    "duration": 131,
    "start_time": "2023-04-02T13:07:20.839Z"
   },
   {
    "duration": 130,
    "start_time": "2023-04-02T13:07:20.971Z"
   },
   {
    "duration": 38,
    "start_time": "2023-04-02T13:07:21.103Z"
   },
   {
    "duration": 17,
    "start_time": "2023-04-02T13:07:21.142Z"
   },
   {
    "duration": 54,
    "start_time": "2023-04-02T13:07:21.161Z"
   },
   {
    "duration": 39,
    "start_time": "2023-04-02T13:07:21.216Z"
   },
   {
    "duration": 39,
    "start_time": "2023-04-02T13:07:21.256Z"
   },
   {
    "duration": 28,
    "start_time": "2023-04-02T13:07:21.297Z"
   },
   {
    "duration": 63,
    "start_time": "2023-04-02T13:07:21.340Z"
   },
   {
    "duration": 39,
    "start_time": "2023-04-02T13:07:21.404Z"
   },
   {
    "duration": 42,
    "start_time": "2023-04-02T13:07:21.444Z"
   },
   {
    "duration": 3,
    "start_time": "2023-04-02T13:08:15.179Z"
   },
   {
    "duration": 665,
    "start_time": "2023-04-02T13:08:15.184Z"
   },
   {
    "duration": 104,
    "start_time": "2023-04-02T13:08:15.850Z"
   },
   {
    "duration": 99,
    "start_time": "2023-04-02T13:08:15.955Z"
   },
   {
    "duration": 362,
    "start_time": "2023-04-02T13:08:16.055Z"
   },
   {
    "duration": 108,
    "start_time": "2023-04-02T13:08:16.418Z"
   },
   {
    "duration": 821,
    "start_time": "2023-04-02T13:08:16.527Z"
   },
   {
    "duration": 7,
    "start_time": "2023-04-02T13:08:17.349Z"
   },
   {
    "duration": 26,
    "start_time": "2023-04-02T13:08:17.358Z"
   },
   {
    "duration": 148,
    "start_time": "2023-04-02T13:08:17.386Z"
   },
   {
    "duration": 134,
    "start_time": "2023-04-02T13:08:17.535Z"
   },
   {
    "duration": 32,
    "start_time": "2023-04-02T13:08:17.671Z"
   },
   {
    "duration": 3,
    "start_time": "2023-04-02T13:08:17.705Z"
   },
   {
    "duration": 63,
    "start_time": "2023-04-02T13:08:17.710Z"
   },
   {
    "duration": 30,
    "start_time": "2023-04-02T13:08:17.775Z"
   },
   {
    "duration": 57,
    "start_time": "2023-04-02T13:08:17.807Z"
   },
   {
    "duration": 32,
    "start_time": "2023-04-02T13:08:17.865Z"
   },
   {
    "duration": 82,
    "start_time": "2023-04-02T13:08:17.899Z"
   },
   {
    "duration": 30,
    "start_time": "2023-04-02T13:08:17.983Z"
   },
   {
    "duration": 53,
    "start_time": "2023-04-02T13:08:18.014Z"
   },
   {
    "duration": 68,
    "start_time": "2023-04-02T13:09:08.236Z"
   },
   {
    "duration": 40,
    "start_time": "2023-04-02T13:09:48.504Z"
   },
   {
    "duration": 41,
    "start_time": "2023-04-02T13:09:49.777Z"
   },
   {
    "duration": 70,
    "start_time": "2023-04-02T13:09:54.600Z"
   },
   {
    "duration": 10,
    "start_time": "2023-04-02T14:41:51.049Z"
   },
   {
    "duration": 12,
    "start_time": "2023-04-02T14:42:05.953Z"
   },
   {
    "duration": 141,
    "start_time": "2023-04-02T14:42:16.884Z"
   },
   {
    "duration": 10,
    "start_time": "2023-04-02T14:43:23.304Z"
   },
   {
    "duration": 133,
    "start_time": "2023-04-02T14:43:30.218Z"
   },
   {
    "duration": 142,
    "start_time": "2023-04-02T14:44:06.373Z"
   },
   {
    "duration": 133,
    "start_time": "2023-04-02T14:44:22.907Z"
   },
   {
    "duration": 131,
    "start_time": "2023-04-02T14:44:27.970Z"
   },
   {
    "duration": 44,
    "start_time": "2023-04-02T14:44:35.952Z"
   },
   {
    "duration": 129,
    "start_time": "2023-04-02T14:44:39.622Z"
   },
   {
    "duration": 132,
    "start_time": "2023-04-02T14:44:44.555Z"
   },
   {
    "duration": 128,
    "start_time": "2023-04-02T14:44:47.455Z"
   },
   {
    "duration": 138,
    "start_time": "2023-04-02T14:44:50.534Z"
   },
   {
    "duration": 139,
    "start_time": "2023-04-02T14:44:54.545Z"
   },
   {
    "duration": 165,
    "start_time": "2023-04-02T14:45:46.611Z"
   },
   {
    "duration": 138,
    "start_time": "2023-04-02T14:46:22.210Z"
   },
   {
    "duration": 60,
    "start_time": "2023-04-02T15:20:12.736Z"
   },
   {
    "duration": 19,
    "start_time": "2023-04-02T15:26:17.534Z"
   },
   {
    "duration": 8,
    "start_time": "2023-04-02T15:26:52.956Z"
   },
   {
    "duration": 354,
    "start_time": "2023-04-02T15:26:58.911Z"
   },
   {
    "duration": 175,
    "start_time": "2023-04-02T15:27:06.240Z"
   },
   {
    "duration": 143,
    "start_time": "2023-04-02T15:27:23.995Z"
   },
   {
    "duration": 10,
    "start_time": "2023-04-02T15:29:06.099Z"
   },
   {
    "duration": 1244,
    "start_time": "2023-04-02T15:29:09.429Z"
   },
   {
    "duration": 1364,
    "start_time": "2023-04-02T15:29:41.710Z"
   },
   {
    "duration": 11697,
    "start_time": "2023-04-02T15:29:52.905Z"
   },
   {
    "duration": 1656,
    "start_time": "2023-04-02T15:30:31.777Z"
   },
   {
    "duration": 254,
    "start_time": "2023-04-02T15:30:57.353Z"
   },
   {
    "duration": 331,
    "start_time": "2023-04-02T15:31:04.462Z"
   },
   {
    "duration": 180,
    "start_time": "2023-04-02T15:31:08.037Z"
   },
   {
    "duration": 10,
    "start_time": "2023-04-02T15:31:45.009Z"
   },
   {
    "duration": 10,
    "start_time": "2023-04-02T15:32:20.515Z"
   },
   {
    "duration": 4,
    "start_time": "2023-04-02T15:32:24.845Z"
   },
   {
    "duration": 10,
    "start_time": "2023-04-02T15:32:32.236Z"
   },
   {
    "duration": 10,
    "start_time": "2023-04-02T15:32:46.745Z"
   },
   {
    "duration": 4,
    "start_time": "2023-04-02T15:33:20.375Z"
   },
   {
    "duration": 18,
    "start_time": "2023-04-02T15:33:24.562Z"
   },
   {
    "duration": 3,
    "start_time": "2023-04-02T15:33:49.914Z"
   },
   {
    "duration": 50,
    "start_time": "2023-04-02T15:33:54.069Z"
   },
   {
    "duration": 12,
    "start_time": "2023-04-02T15:33:58.504Z"
   },
   {
    "duration": 44,
    "start_time": "2023-04-02T15:34:09.558Z"
   },
   {
    "duration": 10,
    "start_time": "2023-04-02T15:34:12.428Z"
   },
   {
    "duration": 12,
    "start_time": "2023-04-02T15:34:32.382Z"
   },
   {
    "duration": 4,
    "start_time": "2023-04-02T15:34:43.640Z"
   },
   {
    "duration": 203,
    "start_time": "2023-04-02T15:34:51.269Z"
   },
   {
    "duration": 166,
    "start_time": "2023-04-02T15:35:06.956Z"
   },
   {
    "duration": 14,
    "start_time": "2023-04-02T15:36:25.761Z"
   },
   {
    "duration": 73,
    "start_time": "2023-04-02T15:36:42.126Z"
   },
   {
    "duration": 13,
    "start_time": "2023-04-02T15:36:47.336Z"
   },
   {
    "duration": 10,
    "start_time": "2023-04-02T15:36:53.975Z"
   },
   {
    "duration": 27,
    "start_time": "2023-04-02T15:37:10.634Z"
   },
   {
    "duration": 9,
    "start_time": "2023-04-02T15:37:13.121Z"
   },
   {
    "duration": 7,
    "start_time": "2023-04-02T15:37:22.886Z"
   },
   {
    "duration": 133,
    "start_time": "2023-04-02T15:37:54.707Z"
   },
   {
    "duration": 231,
    "start_time": "2023-04-02T15:38:15.278Z"
   },
   {
    "duration": 197,
    "start_time": "2023-04-02T15:38:24.673Z"
   },
   {
    "duration": 854,
    "start_time": "2023-04-02T15:39:08.950Z"
   },
   {
    "duration": 1935,
    "start_time": "2023-04-02T15:39:17.944Z"
   },
   {
    "duration": 179,
    "start_time": "2023-04-02T15:39:26.387Z"
   },
   {
    "duration": 174,
    "start_time": "2023-04-02T15:39:36.135Z"
   },
   {
    "duration": 640,
    "start_time": "2023-04-02T15:39:42.526Z"
   },
   {
    "duration": 640,
    "start_time": "2023-04-02T15:39:59.204Z"
   },
   {
    "duration": 693,
    "start_time": "2023-04-02T15:40:05.861Z"
   },
   {
    "duration": 2032,
    "start_time": "2023-04-02T15:40:10.486Z"
   },
   {
    "duration": 6149,
    "start_time": "2023-04-02T15:40:22.151Z"
   },
   {
    "duration": 1663,
    "start_time": "2023-04-02T15:40:36.100Z"
   },
   {
    "duration": 8,
    "start_time": "2023-04-02T15:41:57.228Z"
   },
   {
    "duration": 7,
    "start_time": "2023-04-02T15:42:06.885Z"
   },
   {
    "duration": 10,
    "start_time": "2023-04-02T15:42:12.343Z"
   },
   {
    "duration": 8,
    "start_time": "2023-04-02T15:43:26.243Z"
   },
   {
    "duration": 30,
    "start_time": "2023-04-02T15:43:33.300Z"
   },
   {
    "duration": 8,
    "start_time": "2023-04-02T15:43:39.688Z"
   },
   {
    "duration": 132,
    "start_time": "2023-04-02T15:43:57.938Z"
   },
   {
    "duration": 53,
    "start_time": "2023-04-02T15:52:47.230Z"
   },
   {
    "duration": 4,
    "start_time": "2023-04-02T15:52:52.127Z"
   },
   {
    "duration": 10,
    "start_time": "2023-04-02T15:53:48.579Z"
   },
   {
    "duration": 163,
    "start_time": "2023-04-02T15:53:53.673Z"
   },
   {
    "duration": 4,
    "start_time": "2023-04-02T15:54:12.171Z"
   },
   {
    "duration": 351,
    "start_time": "2023-04-02T15:54:14.373Z"
   },
   {
    "duration": 366,
    "start_time": "2023-04-02T15:54:38.205Z"
   },
   {
    "duration": 2016,
    "start_time": "2023-04-02T15:54:48.545Z"
   },
   {
    "duration": 3,
    "start_time": "2023-04-02T15:56:49.770Z"
   },
   {
    "duration": 354,
    "start_time": "2023-04-02T15:57:08.409Z"
   },
   {
    "duration": 349,
    "start_time": "2023-04-02T15:57:16.117Z"
   },
   {
    "duration": 367,
    "start_time": "2023-04-02T15:57:22.194Z"
   },
   {
    "duration": 756,
    "start_time": "2023-04-02T15:57:53.822Z"
   },
   {
    "duration": 743,
    "start_time": "2023-04-02T15:58:00.588Z"
   },
   {
    "duration": 951,
    "start_time": "2023-04-02T15:58:11.773Z"
   },
   {
    "duration": 1232,
    "start_time": "2023-04-02T15:58:40.383Z"
   },
   {
    "duration": 740,
    "start_time": "2023-04-02T15:59:03.826Z"
   },
   {
    "duration": 24,
    "start_time": "2023-04-02T16:01:25.830Z"
   },
   {
    "duration": 23,
    "start_time": "2023-04-02T16:01:33.052Z"
   },
   {
    "duration": 16,
    "start_time": "2023-04-02T16:01:47.777Z"
   },
   {
    "duration": 13,
    "start_time": "2023-04-02T16:01:53.840Z"
   },
   {
    "duration": 78,
    "start_time": "2023-04-02T16:30:48.441Z"
   },
   {
    "duration": 10,
    "start_time": "2023-04-02T16:30:49.795Z"
   },
   {
    "duration": 4,
    "start_time": "2023-04-02T16:31:24.610Z"
   },
   {
    "duration": 785,
    "start_time": "2023-04-02T16:31:24.616Z"
   },
   {
    "duration": 107,
    "start_time": "2023-04-02T16:31:25.403Z"
   },
   {
    "duration": 97,
    "start_time": "2023-04-02T16:31:25.512Z"
   },
   {
    "duration": 378,
    "start_time": "2023-04-02T16:31:25.611Z"
   },
   {
    "duration": 108,
    "start_time": "2023-04-02T16:31:25.990Z"
   },
   {
    "duration": 872,
    "start_time": "2023-04-02T16:31:26.099Z"
   },
   {
    "duration": 9,
    "start_time": "2023-04-02T16:31:26.973Z"
   },
   {
    "duration": 34,
    "start_time": "2023-04-02T16:31:26.984Z"
   },
   {
    "duration": 198,
    "start_time": "2023-04-02T16:31:27.020Z"
   },
   {
    "duration": 138,
    "start_time": "2023-04-02T16:31:27.220Z"
   },
   {
    "duration": 33,
    "start_time": "2023-04-02T16:31:27.360Z"
   },
   {
    "duration": 3,
    "start_time": "2023-04-02T16:31:27.396Z"
   },
   {
    "duration": 69,
    "start_time": "2023-04-02T16:31:27.401Z"
   },
   {
    "duration": 42,
    "start_time": "2023-04-02T16:31:27.472Z"
   },
   {
    "duration": 82,
    "start_time": "2023-04-02T16:31:27.516Z"
   },
   {
    "duration": 51,
    "start_time": "2023-04-02T16:31:27.601Z"
   },
   {
    "duration": 86,
    "start_time": "2023-04-02T16:31:27.654Z"
   },
   {
    "duration": 51,
    "start_time": "2023-04-02T16:31:27.742Z"
   },
   {
    "duration": 64,
    "start_time": "2023-04-02T16:31:27.795Z"
   },
   {
    "duration": 29,
    "start_time": "2023-04-02T16:31:27.861Z"
   },
   {
    "duration": 89,
    "start_time": "2023-04-02T16:31:27.892Z"
   },
   {
    "duration": 76,
    "start_time": "2023-04-02T16:31:27.983Z"
   },
   {
    "duration": 52,
    "start_time": "2023-04-02T16:31:28.061Z"
   },
   {
    "duration": 4,
    "start_time": "2023-04-02T16:31:28.114Z"
   },
   {
    "duration": 202,
    "start_time": "2023-04-02T16:31:28.120Z"
   },
   {
    "duration": 393,
    "start_time": "2023-04-02T16:31:28.324Z"
   },
   {
    "duration": 225,
    "start_time": "2023-04-02T16:31:28.719Z"
   },
   {
    "duration": 9,
    "start_time": "2023-04-02T16:31:28.945Z"
   },
   {
    "duration": 23,
    "start_time": "2023-04-02T16:31:28.956Z"
   },
   {
    "duration": 154,
    "start_time": "2023-04-02T16:31:28.981Z"
   },
   {
    "duration": 3310,
    "start_time": "2023-04-02T16:31:29.136Z"
   },
   {
    "duration": 7,
    "start_time": "2023-04-02T16:31:32.448Z"
   },
   {
    "duration": 32,
    "start_time": "2023-04-02T16:31:32.456Z"
   },
   {
    "duration": 144,
    "start_time": "2023-04-02T16:31:32.490Z"
   },
   {
    "duration": 755,
    "start_time": "2023-04-02T16:31:32.635Z"
   },
   {
    "duration": 16,
    "start_time": "2023-04-02T16:31:33.391Z"
   },
   {
    "duration": 13,
    "start_time": "2023-04-02T16:31:33.409Z"
   },
   {
    "duration": 0,
    "start_time": "2023-04-02T16:31:33.423Z"
   },
   {
    "duration": 0,
    "start_time": "2023-04-02T16:31:33.423Z"
   },
   {
    "duration": 76,
    "start_time": "2023-04-02T16:31:55.807Z"
   },
   {
    "duration": 11,
    "start_time": "2023-04-02T16:31:57.319Z"
   },
   {
    "duration": 5,
    "start_time": "2023-04-02T16:33:05.327Z"
   },
   {
    "duration": 10,
    "start_time": "2023-04-02T16:33:19.909Z"
   },
   {
    "duration": 13,
    "start_time": "2023-04-02T16:33:28.919Z"
   },
   {
    "duration": 8,
    "start_time": "2023-04-02T16:33:44.467Z"
   },
   {
    "duration": 7,
    "start_time": "2023-04-02T16:34:13.873Z"
   },
   {
    "duration": 11,
    "start_time": "2023-04-02T16:34:15.557Z"
   },
   {
    "duration": 6,
    "start_time": "2023-04-02T16:34:16.668Z"
   },
   {
    "duration": 45,
    "start_time": "2023-04-03T20:47:55.730Z"
   },
   {
    "duration": 1546,
    "start_time": "2023-04-03T20:48:03.802Z"
   },
   {
    "duration": 2757,
    "start_time": "2023-04-03T20:48:05.350Z"
   },
   {
    "duration": 119,
    "start_time": "2023-04-03T20:48:08.108Z"
   },
   {
    "duration": 148,
    "start_time": "2023-04-03T20:48:08.230Z"
   },
   {
    "duration": 436,
    "start_time": "2023-04-03T20:48:08.380Z"
   },
   {
    "duration": 119,
    "start_time": "2023-04-03T20:48:08.818Z"
   },
   {
    "duration": 897,
    "start_time": "2023-04-03T20:48:08.939Z"
   },
   {
    "duration": 7,
    "start_time": "2023-04-03T20:48:09.838Z"
   },
   {
    "duration": 46,
    "start_time": "2023-04-03T20:48:09.847Z"
   },
   {
    "duration": 140,
    "start_time": "2023-04-03T20:48:09.896Z"
   },
   {
    "duration": 132,
    "start_time": "2023-04-03T20:48:10.038Z"
   },
   {
    "duration": 35,
    "start_time": "2023-04-03T20:48:10.171Z"
   },
   {
    "duration": 3,
    "start_time": "2023-04-03T20:48:10.208Z"
   },
   {
    "duration": 45,
    "start_time": "2023-04-03T20:48:10.213Z"
   },
   {
    "duration": 42,
    "start_time": "2023-04-03T20:48:10.260Z"
   },
   {
    "duration": 45,
    "start_time": "2023-04-03T20:48:10.304Z"
   },
   {
    "duration": 48,
    "start_time": "2023-04-03T20:48:10.351Z"
   },
   {
    "duration": 69,
    "start_time": "2023-04-03T20:48:10.400Z"
   },
   {
    "duration": 38,
    "start_time": "2023-04-03T20:48:10.471Z"
   },
   {
    "duration": 48,
    "start_time": "2023-04-03T20:48:10.511Z"
   },
   {
    "duration": 41,
    "start_time": "2023-04-03T20:48:10.561Z"
   },
   {
    "duration": 49,
    "start_time": "2023-04-03T20:48:10.604Z"
   },
   {
    "duration": 83,
    "start_time": "2023-04-03T20:48:10.654Z"
   },
   {
    "duration": 55,
    "start_time": "2023-04-03T20:48:10.738Z"
   },
   {
    "duration": 5,
    "start_time": "2023-04-03T20:48:10.794Z"
   },
   {
    "duration": 172,
    "start_time": "2023-04-03T20:48:10.800Z"
   },
   {
    "duration": 349,
    "start_time": "2023-04-03T20:48:10.973Z"
   },
   {
    "duration": 221,
    "start_time": "2023-04-03T20:48:11.325Z"
   },
   {
    "duration": 12,
    "start_time": "2023-04-03T20:48:11.548Z"
   },
   {
    "duration": 38,
    "start_time": "2023-04-03T20:48:11.561Z"
   },
   {
    "duration": 204,
    "start_time": "2023-04-03T20:48:11.601Z"
   },
   {
    "duration": 1741,
    "start_time": "2023-04-03T20:48:11.807Z"
   },
   {
    "duration": 10,
    "start_time": "2023-04-03T20:48:13.549Z"
   },
   {
    "duration": 46,
    "start_time": "2023-04-03T20:48:13.561Z"
   },
   {
    "duration": 126,
    "start_time": "2023-04-03T20:48:13.609Z"
   },
   {
    "duration": 908,
    "start_time": "2023-04-03T20:48:13.736Z"
   },
   {
    "duration": 15,
    "start_time": "2023-04-03T20:48:14.646Z"
   },
   {
    "duration": 75,
    "start_time": "2023-04-03T20:48:14.662Z"
   },
   {
    "duration": 5,
    "start_time": "2023-04-03T20:48:14.739Z"
   },
   {
    "duration": 181,
    "start_time": "2023-04-03T20:48:14.745Z"
   },
   {
    "duration": 106,
    "start_time": "2023-04-03T20:48:14.928Z"
   },
   {
    "duration": 211,
    "start_time": "2023-04-03T20:48:46.143Z"
   },
   {
    "duration": 137,
    "start_time": "2023-04-03T20:49:12.856Z"
   },
   {
    "duration": 102,
    "start_time": "2023-04-03T20:49:22.326Z"
   },
   {
    "duration": 4,
    "start_time": "2023-04-03T20:49:26.349Z"
   },
   {
    "duration": 805,
    "start_time": "2023-04-03T20:49:26.355Z"
   },
   {
    "duration": 142,
    "start_time": "2023-04-03T20:49:27.162Z"
   },
   {
    "duration": 104,
    "start_time": "2023-04-03T20:49:27.305Z"
   },
   {
    "duration": 433,
    "start_time": "2023-04-03T20:49:27.411Z"
   },
   {
    "duration": 128,
    "start_time": "2023-04-03T20:49:27.846Z"
   },
   {
    "duration": 891,
    "start_time": "2023-04-03T20:49:27.976Z"
   },
   {
    "duration": 7,
    "start_time": "2023-04-03T20:49:28.869Z"
   },
   {
    "duration": 36,
    "start_time": "2023-04-03T20:49:28.877Z"
   },
   {
    "duration": 149,
    "start_time": "2023-04-03T20:49:28.915Z"
   },
   {
    "duration": 158,
    "start_time": "2023-04-03T20:49:29.065Z"
   },
   {
    "duration": 35,
    "start_time": "2023-04-03T20:49:29.225Z"
   },
   {
    "duration": 8,
    "start_time": "2023-04-03T20:49:29.262Z"
   },
   {
    "duration": 51,
    "start_time": "2023-04-03T20:49:29.273Z"
   },
   {
    "duration": 31,
    "start_time": "2023-04-03T20:49:29.326Z"
   },
   {
    "duration": 48,
    "start_time": "2023-04-03T20:49:29.359Z"
   },
   {
    "duration": 34,
    "start_time": "2023-04-03T20:49:29.409Z"
   },
   {
    "duration": 94,
    "start_time": "2023-04-03T20:49:29.445Z"
   },
   {
    "duration": 65,
    "start_time": "2023-04-03T20:49:29.541Z"
   },
   {
    "duration": 50,
    "start_time": "2023-04-03T20:49:29.608Z"
   },
   {
    "duration": 59,
    "start_time": "2023-04-03T20:49:29.660Z"
   },
   {
    "duration": 45,
    "start_time": "2023-04-03T20:49:29.721Z"
   },
   {
    "duration": 87,
    "start_time": "2023-04-03T20:49:29.768Z"
   },
   {
    "duration": 63,
    "start_time": "2023-04-03T20:49:29.856Z"
   },
   {
    "duration": 4,
    "start_time": "2023-04-03T20:49:29.920Z"
   },
   {
    "duration": 163,
    "start_time": "2023-04-03T20:49:29.925Z"
   },
   {
    "duration": 359,
    "start_time": "2023-04-03T20:49:30.091Z"
   },
   {
    "duration": 225,
    "start_time": "2023-04-03T20:49:30.451Z"
   },
   {
    "duration": 19,
    "start_time": "2023-04-03T20:49:30.678Z"
   },
   {
    "duration": 23,
    "start_time": "2023-04-03T20:49:30.699Z"
   },
   {
    "duration": 132,
    "start_time": "2023-04-03T20:49:30.724Z"
   },
   {
    "duration": 2113,
    "start_time": "2023-04-03T20:49:30.858Z"
   },
   {
    "duration": 18,
    "start_time": "2023-04-03T20:49:32.973Z"
   },
   {
    "duration": 26,
    "start_time": "2023-04-03T20:49:32.992Z"
   },
   {
    "duration": 148,
    "start_time": "2023-04-03T20:49:33.019Z"
   },
   {
    "duration": 783,
    "start_time": "2023-04-03T20:49:33.169Z"
   },
   {
    "duration": 15,
    "start_time": "2023-04-03T20:49:33.954Z"
   },
   {
    "duration": 75,
    "start_time": "2023-04-03T20:49:33.971Z"
   },
   {
    "duration": 5,
    "start_time": "2023-04-03T20:49:34.048Z"
   },
   {
    "duration": 162,
    "start_time": "2023-04-03T20:49:34.054Z"
   },
   {
    "duration": 120,
    "start_time": "2023-04-03T20:49:34.220Z"
   },
   {
    "duration": 5,
    "start_time": "2023-04-03T21:15:01.664Z"
   },
   {
    "duration": 843,
    "start_time": "2023-04-03T21:15:01.672Z"
   },
   {
    "duration": 140,
    "start_time": "2023-04-03T21:15:02.517Z"
   },
   {
    "duration": 97,
    "start_time": "2023-04-03T21:15:02.659Z"
   },
   {
    "duration": 426,
    "start_time": "2023-04-03T21:15:02.759Z"
   },
   {
    "duration": 122,
    "start_time": "2023-04-03T21:15:03.191Z"
   },
   {
    "duration": 832,
    "start_time": "2023-04-03T21:15:03.315Z"
   },
   {
    "duration": 6,
    "start_time": "2023-04-03T21:15:04.148Z"
   },
   {
    "duration": 64,
    "start_time": "2023-04-03T21:15:04.155Z"
   },
   {
    "duration": 390,
    "start_time": "2023-04-03T21:15:04.221Z"
   },
   {
    "duration": 142,
    "start_time": "2023-04-03T21:15:04.613Z"
   },
   {
    "duration": 41,
    "start_time": "2023-04-03T21:15:04.757Z"
   },
   {
    "duration": 23,
    "start_time": "2023-04-03T21:15:04.800Z"
   },
   {
    "duration": 59,
    "start_time": "2023-04-03T21:15:04.826Z"
   },
   {
    "duration": 32,
    "start_time": "2023-04-03T21:15:04.887Z"
   },
   {
    "duration": 70,
    "start_time": "2023-04-03T21:15:04.920Z"
   },
   {
    "duration": 58,
    "start_time": "2023-04-03T21:15:04.992Z"
   },
   {
    "duration": 83,
    "start_time": "2023-04-03T21:15:05.052Z"
   },
   {
    "duration": 40,
    "start_time": "2023-04-03T21:15:05.136Z"
   },
   {
    "duration": 65,
    "start_time": "2023-04-03T21:15:05.178Z"
   },
   {
    "duration": 41,
    "start_time": "2023-04-03T21:15:05.245Z"
   },
   {
    "duration": 70,
    "start_time": "2023-04-03T21:15:05.292Z"
   },
   {
    "duration": 81,
    "start_time": "2023-04-03T21:15:05.363Z"
   },
   {
    "duration": 63,
    "start_time": "2023-04-03T21:15:05.446Z"
   },
   {
    "duration": 5,
    "start_time": "2023-04-03T21:15:05.511Z"
   },
   {
    "duration": 178,
    "start_time": "2023-04-03T21:15:05.517Z"
   },
   {
    "duration": 373,
    "start_time": "2023-04-03T21:15:05.696Z"
   },
   {
    "duration": 230,
    "start_time": "2023-04-03T21:15:06.071Z"
   },
   {
    "duration": 12,
    "start_time": "2023-04-03T21:15:06.304Z"
   },
   {
    "duration": 25,
    "start_time": "2023-04-03T21:15:06.317Z"
   },
   {
    "duration": 169,
    "start_time": "2023-04-03T21:15:06.343Z"
   },
   {
    "duration": 2099,
    "start_time": "2023-04-03T21:15:06.513Z"
   },
   {
    "duration": 8,
    "start_time": "2023-04-03T21:15:08.614Z"
   },
   {
    "duration": 26,
    "start_time": "2023-04-03T21:15:08.624Z"
   },
   {
    "duration": 152,
    "start_time": "2023-04-03T21:15:08.652Z"
   },
   {
    "duration": 829,
    "start_time": "2023-04-03T21:15:08.805Z"
   },
   {
    "duration": 15,
    "start_time": "2023-04-03T21:15:09.636Z"
   },
   {
    "duration": 77,
    "start_time": "2023-04-03T21:15:09.653Z"
   },
   {
    "duration": 5,
    "start_time": "2023-04-03T21:15:09.732Z"
   },
   {
    "duration": 138,
    "start_time": "2023-04-03T21:15:09.738Z"
   },
   {
    "duration": 113,
    "start_time": "2023-04-03T21:15:09.879Z"
   },
   {
    "duration": 1210,
    "start_time": "2023-04-03T21:23:27.126Z"
   },
   {
    "duration": 2763,
    "start_time": "2023-04-03T21:23:50.015Z"
   },
   {
    "duration": 18978,
    "start_time": "2023-04-03T21:24:09.284Z"
   },
   {
    "duration": 3606,
    "start_time": "2023-04-03T21:24:39.127Z"
   },
   {
    "duration": 913,
    "start_time": "2023-04-03T21:24:47.828Z"
   },
   {
    "duration": 371,
    "start_time": "2023-04-03T21:25:08.927Z"
   },
   {
    "duration": 345,
    "start_time": "2023-04-03T21:26:18.878Z"
   },
   {
    "duration": 369,
    "start_time": "2023-04-03T21:26:26.776Z"
   },
   {
    "duration": 381,
    "start_time": "2023-04-03T21:26:39.894Z"
   },
   {
    "duration": 430,
    "start_time": "2023-04-03T21:26:51.210Z"
   },
   {
    "duration": 479,
    "start_time": "2023-04-03T21:27:11.789Z"
   },
   {
    "duration": 4,
    "start_time": "2023-04-03T22:55:19.167Z"
   },
   {
    "duration": 707,
    "start_time": "2023-04-03T22:55:19.173Z"
   },
   {
    "duration": 136,
    "start_time": "2023-04-03T22:55:19.882Z"
   },
   {
    "duration": 88,
    "start_time": "2023-04-03T22:55:20.020Z"
   },
   {
    "duration": 383,
    "start_time": "2023-04-03T22:55:20.109Z"
   },
   {
    "duration": 115,
    "start_time": "2023-04-03T22:55:20.494Z"
   },
   {
    "duration": 785,
    "start_time": "2023-04-03T22:55:20.611Z"
   },
   {
    "duration": 8,
    "start_time": "2023-04-03T22:55:21.398Z"
   },
   {
    "duration": 25,
    "start_time": "2023-04-03T22:55:21.407Z"
   },
   {
    "duration": 167,
    "start_time": "2023-04-03T22:55:21.435Z"
   },
   {
    "duration": 127,
    "start_time": "2023-04-03T22:55:21.603Z"
   },
   {
    "duration": 31,
    "start_time": "2023-04-03T22:55:21.732Z"
   },
   {
    "duration": 4,
    "start_time": "2023-04-03T22:55:21.765Z"
   },
   {
    "duration": 60,
    "start_time": "2023-04-03T22:55:21.770Z"
   },
   {
    "duration": 31,
    "start_time": "2023-04-03T22:55:21.831Z"
   },
   {
    "duration": 67,
    "start_time": "2023-04-03T22:55:21.864Z"
   },
   {
    "duration": 30,
    "start_time": "2023-04-03T22:55:21.932Z"
   },
   {
    "duration": 71,
    "start_time": "2023-04-03T22:55:21.964Z"
   },
   {
    "duration": 30,
    "start_time": "2023-04-03T22:55:22.036Z"
   },
   {
    "duration": 61,
    "start_time": "2023-04-03T22:55:22.067Z"
   },
   {
    "duration": 28,
    "start_time": "2023-04-03T22:55:22.129Z"
   },
   {
    "duration": 57,
    "start_time": "2023-04-03T22:55:22.159Z"
   },
   {
    "duration": 80,
    "start_time": "2023-04-03T22:55:22.218Z"
   },
   {
    "duration": 45,
    "start_time": "2023-04-03T22:55:22.299Z"
   },
   {
    "duration": 3,
    "start_time": "2023-04-03T22:55:22.346Z"
   },
   {
    "duration": 166,
    "start_time": "2023-04-03T22:55:22.351Z"
   },
   {
    "duration": 352,
    "start_time": "2023-04-03T22:55:22.519Z"
   },
   {
    "duration": 217,
    "start_time": "2023-04-03T22:55:22.874Z"
   },
   {
    "duration": 11,
    "start_time": "2023-04-03T22:55:23.092Z"
   },
   {
    "duration": 22,
    "start_time": "2023-04-03T22:55:23.104Z"
   },
   {
    "duration": 133,
    "start_time": "2023-04-03T22:55:23.127Z"
   },
   {
    "duration": 1978,
    "start_time": "2023-04-03T22:55:23.262Z"
   },
   {
    "duration": 8,
    "start_time": "2023-04-03T22:55:25.241Z"
   },
   {
    "duration": 43,
    "start_time": "2023-04-03T22:55:25.251Z"
   },
   {
    "duration": 470,
    "start_time": "2023-04-03T22:55:25.296Z"
   },
   {
    "duration": 787,
    "start_time": "2023-04-03T22:55:25.768Z"
   },
   {
    "duration": 17,
    "start_time": "2023-04-03T22:55:26.557Z"
   },
   {
    "duration": 73,
    "start_time": "2023-04-03T22:55:26.576Z"
   },
   {
    "duration": 4,
    "start_time": "2023-04-03T22:55:26.651Z"
   },
   {
    "duration": 148,
    "start_time": "2023-04-03T22:55:26.657Z"
   },
   {
    "duration": 111,
    "start_time": "2023-04-03T22:55:26.806Z"
   },
   {
    "duration": 519,
    "start_time": "2023-04-03T22:55:26.918Z"
   },
   {
    "duration": 17,
    "start_time": "2023-04-03T22:55:27.439Z"
   },
   {
    "duration": 15,
    "start_time": "2023-04-03T22:55:27.458Z"
   },
   {
    "duration": 0,
    "start_time": "2023-04-03T22:55:27.492Z"
   },
   {
    "duration": 0,
    "start_time": "2023-04-03T22:55:27.493Z"
   },
   {
    "duration": 0,
    "start_time": "2023-04-03T22:55:27.494Z"
   },
   {
    "duration": 0,
    "start_time": "2023-04-03T22:55:27.495Z"
   },
   {
    "duration": 0,
    "start_time": "2023-04-03T22:55:27.496Z"
   },
   {
    "duration": 950,
    "start_time": "2023-04-03T22:55:40.538Z"
   },
   {
    "duration": 28,
    "start_time": "2023-04-03T22:55:42.957Z"
   },
   {
    "duration": 131,
    "start_time": "2023-04-03T22:55:44.662Z"
   },
   {
    "duration": 8,
    "start_time": "2023-04-03T22:55:47.055Z"
   },
   {
    "duration": 4,
    "start_time": "2023-04-03T22:55:50.501Z"
   },
   {
    "duration": 3,
    "start_time": "2023-04-03T22:55:52.761Z"
   },
   {
    "duration": 3,
    "start_time": "2023-04-03T22:55:55.198Z"
   },
   {
    "duration": 18,
    "start_time": "2023-04-03T23:00:15.894Z"
   },
   {
    "duration": 150,
    "start_time": "2023-04-03T23:00:17.505Z"
   },
   {
    "duration": 152,
    "start_time": "2023-04-03T23:02:00.527Z"
   },
   {
    "duration": 63,
    "start_time": "2023-04-04T20:02:45.621Z"
   },
   {
    "duration": 1996,
    "start_time": "2023-04-04T20:02:48.993Z"
   },
   {
    "duration": 1327,
    "start_time": "2023-04-04T20:02:50.992Z"
   },
   {
    "duration": 144,
    "start_time": "2023-04-04T20:02:52.321Z"
   },
   {
    "duration": 131,
    "start_time": "2023-04-04T20:02:52.467Z"
   },
   {
    "duration": 507,
    "start_time": "2023-04-04T20:02:52.601Z"
   },
   {
    "duration": 142,
    "start_time": "2023-04-04T20:02:53.110Z"
   },
   {
    "duration": 1035,
    "start_time": "2023-04-04T20:02:53.254Z"
   },
   {
    "duration": 9,
    "start_time": "2023-04-04T20:02:54.291Z"
   },
   {
    "duration": 52,
    "start_time": "2023-04-04T20:02:54.302Z"
   },
   {
    "duration": 162,
    "start_time": "2023-04-04T20:02:54.357Z"
   },
   {
    "duration": 169,
    "start_time": "2023-04-04T20:02:54.522Z"
   },
   {
    "duration": 55,
    "start_time": "2023-04-04T20:02:54.693Z"
   },
   {
    "duration": 6,
    "start_time": "2023-04-04T20:02:54.750Z"
   },
   {
    "duration": 91,
    "start_time": "2023-04-04T20:02:54.760Z"
   },
   {
    "duration": 35,
    "start_time": "2023-04-04T20:02:54.853Z"
   },
   {
    "duration": 97,
    "start_time": "2023-04-04T20:02:54.890Z"
   },
   {
    "duration": 61,
    "start_time": "2023-04-04T20:02:54.989Z"
   },
   {
    "duration": 113,
    "start_time": "2023-04-04T20:02:55.052Z"
   },
   {
    "duration": 38,
    "start_time": "2023-04-04T20:02:55.167Z"
   },
   {
    "duration": 72,
    "start_time": "2023-04-04T20:02:55.207Z"
   },
   {
    "duration": 48,
    "start_time": "2023-04-04T20:02:55.281Z"
   },
   {
    "duration": 107,
    "start_time": "2023-04-04T20:02:55.340Z"
   },
   {
    "duration": 96,
    "start_time": "2023-04-04T20:02:55.450Z"
   },
   {
    "duration": 57,
    "start_time": "2023-04-04T20:02:55.548Z"
   },
   {
    "duration": 5,
    "start_time": "2023-04-04T20:02:55.607Z"
   },
   {
    "duration": 226,
    "start_time": "2023-04-04T20:02:55.614Z"
   },
   {
    "duration": 464,
    "start_time": "2023-04-04T20:02:55.842Z"
   },
   {
    "duration": 282,
    "start_time": "2023-04-04T20:02:56.308Z"
   },
   {
    "duration": 14,
    "start_time": "2023-04-04T20:02:56.593Z"
   },
   {
    "duration": 34,
    "start_time": "2023-04-04T20:02:56.609Z"
   },
   {
    "duration": 238,
    "start_time": "2023-04-04T20:02:56.646Z"
   },
   {
    "duration": 2395,
    "start_time": "2023-04-04T20:02:56.885Z"
   },
   {
    "duration": 10,
    "start_time": "2023-04-04T20:02:59.282Z"
   },
   {
    "duration": 48,
    "start_time": "2023-04-04T20:02:59.294Z"
   },
   {
    "duration": 157,
    "start_time": "2023-04-04T20:02:59.344Z"
   },
   {
    "duration": 1139,
    "start_time": "2023-04-04T20:02:59.502Z"
   },
   {
    "duration": 18,
    "start_time": "2023-04-04T20:03:00.643Z"
   },
   {
    "duration": 112,
    "start_time": "2023-04-04T20:03:00.663Z"
   },
   {
    "duration": 6,
    "start_time": "2023-04-04T20:03:00.777Z"
   },
   {
    "duration": 191,
    "start_time": "2023-04-04T20:03:00.786Z"
   },
   {
    "duration": 126,
    "start_time": "2023-04-04T20:03:00.981Z"
   },
   {
    "duration": 667,
    "start_time": "2023-04-04T20:03:01.109Z"
   },
   {
    "duration": 30,
    "start_time": "2023-04-04T20:03:01.778Z"
   },
   {
    "duration": 1067,
    "start_time": "2023-04-04T20:03:01.809Z"
   },
   {
    "duration": 30,
    "start_time": "2023-04-04T20:03:02.878Z"
   },
   {
    "duration": 173,
    "start_time": "2023-04-04T20:03:02.910Z"
   },
   {
    "duration": 3,
    "start_time": "2023-04-04T20:03:03.085Z"
   },
   {
    "duration": 17,
    "start_time": "2023-04-04T20:03:03.090Z"
   },
   {
    "duration": 22,
    "start_time": "2023-04-04T20:03:03.109Z"
   },
   {
    "duration": 50,
    "start_time": "2023-04-04T20:03:03.133Z"
   },
   {
    "duration": 175,
    "start_time": "2023-04-04T20:03:03.185Z"
   },
   {
    "duration": 162,
    "start_time": "2023-04-04T20:03:03.362Z"
   },
   {
    "duration": 85,
    "start_time": "2023-04-04T20:03:03.526Z"
   },
   {
    "duration": 4,
    "start_time": "2023-04-04T20:03:35.101Z"
   },
   {
    "duration": 127,
    "start_time": "2023-04-04T20:03:41.323Z"
   },
   {
    "duration": 147,
    "start_time": "2023-04-04T20:03:53.994Z"
   },
   {
    "duration": 56,
    "start_time": "2023-04-04T20:04:04.592Z"
   },
   {
    "duration": 135,
    "start_time": "2023-04-04T20:39:24.808Z"
   },
   {
    "duration": 85,
    "start_time": "2023-04-04T20:40:15.358Z"
   },
   {
    "duration": 47988,
    "start_time": "2023-04-04T21:40:42.866Z"
   },
   {
    "duration": 2756,
    "start_time": "2023-04-04T21:43:10.801Z"
   },
   {
    "duration": 109556,
    "start_time": "2023-04-04T21:43:59.804Z"
   },
   {
    "duration": 136316,
    "start_time": "2023-04-04T21:50:07.545Z"
   },
   {
    "duration": 12,
    "start_time": "2023-04-04T22:02:43.836Z"
   },
   {
    "duration": 132532,
    "start_time": "2023-04-04T22:02:51.164Z"
   },
   {
    "duration": 128806,
    "start_time": "2023-04-04T22:09:07.409Z"
   },
   {
    "duration": 126761,
    "start_time": "2023-04-04T22:15:24.966Z"
   },
   {
    "duration": 125594,
    "start_time": "2023-04-04T22:26:47.766Z"
   },
   {
    "duration": 4977,
    "start_time": "2023-04-04T22:37:10.082Z"
   },
   {
    "duration": 15596,
    "start_time": "2023-04-04T22:38:12.929Z"
   },
   {
    "duration": 1491,
    "start_time": "2023-04-05T19:21:45.644Z"
   },
   {
    "duration": 169,
    "start_time": "2023-04-05T19:27:30.301Z"
   },
   {
    "duration": 10,
    "start_time": "2023-04-05T19:32:17.752Z"
   },
   {
    "duration": 5,
    "start_time": "2023-04-05T19:32:23.369Z"
   },
   {
    "duration": 2742,
    "start_time": "2023-04-05T19:32:24.777Z"
   },
   {
    "duration": 102,
    "start_time": "2023-04-05T19:32:27.520Z"
   },
   {
    "duration": 119,
    "start_time": "2023-04-05T19:32:29.297Z"
   },
   {
    "duration": 86,
    "start_time": "2023-04-05T19:32:31.611Z"
   },
   {
    "duration": 348,
    "start_time": "2023-04-05T19:32:33.224Z"
   },
   {
    "duration": 91,
    "start_time": "2023-04-05T19:32:34.812Z"
   },
   {
    "duration": 881,
    "start_time": "2023-04-05T19:32:39.159Z"
   },
   {
    "duration": 8,
    "start_time": "2023-04-05T19:32:41.048Z"
   },
   {
    "duration": 30,
    "start_time": "2023-04-05T19:45:09.246Z"
   },
   {
    "duration": 32,
    "start_time": "2023-04-05T19:46:52.890Z"
   },
   {
    "duration": 4,
    "start_time": "2023-04-05T19:47:01.038Z"
   },
   {
    "duration": 64,
    "start_time": "2023-04-05T19:47:02.385Z"
   },
   {
    "duration": 87,
    "start_time": "2023-04-05T19:47:32.367Z"
   },
   {
    "duration": 58,
    "start_time": "2023-04-05T19:48:37.272Z"
   },
   {
    "duration": 55,
    "start_time": "2023-04-05T19:49:11.957Z"
   },
   {
    "duration": 63,
    "start_time": "2023-04-05T19:49:16.649Z"
   },
   {
    "duration": 42,
    "start_time": "2023-04-05T19:49:18.351Z"
   },
   {
    "duration": 67,
    "start_time": "2023-04-05T19:49:21.747Z"
   },
   {
    "duration": 72,
    "start_time": "2023-04-05T19:49:34.141Z"
   },
   {
    "duration": 59,
    "start_time": "2023-04-05T19:49:40.133Z"
   },
   {
    "duration": 62,
    "start_time": "2023-04-05T19:49:49.466Z"
   },
   {
    "duration": 80,
    "start_time": "2023-04-05T19:50:55.500Z"
   },
   {
    "duration": 4,
    "start_time": "2023-04-05T19:52:39.272Z"
   },
   {
    "duration": 161,
    "start_time": "2023-04-05T19:52:40.905Z"
   },
   {
    "duration": 5,
    "start_time": "2023-04-05T19:52:43.643Z"
   },
   {
    "duration": 3,
    "start_time": "2023-04-05T19:52:50.820Z"
   },
   {
    "duration": 133,
    "start_time": "2023-04-05T19:52:51.990Z"
   },
   {
    "duration": 4,
    "start_time": "2023-04-05T19:52:59.496Z"
   },
   {
    "duration": 165,
    "start_time": "2023-04-05T19:53:00.764Z"
   },
   {
    "duration": 4,
    "start_time": "2023-04-05T19:53:06.259Z"
   },
   {
    "duration": 135,
    "start_time": "2023-04-05T19:53:07.936Z"
   },
   {
    "duration": 3,
    "start_time": "2023-04-05T19:53:10.550Z"
   },
   {
    "duration": 132,
    "start_time": "2023-04-05T19:53:11.832Z"
   },
   {
    "duration": 4,
    "start_time": "2023-04-05T19:53:18.788Z"
   },
   {
    "duration": 206,
    "start_time": "2023-04-05T19:53:20.245Z"
   },
   {
    "duration": 6,
    "start_time": "2023-04-05T19:53:24.066Z"
   },
   {
    "duration": 179,
    "start_time": "2023-04-05T19:53:25.162Z"
   },
   {
    "duration": 6189,
    "start_time": "2023-04-05T19:59:58.809Z"
   },
   {
    "duration": 7141,
    "start_time": "2023-04-05T20:00:36.023Z"
   },
   {
    "duration": 6,
    "start_time": "2023-04-05T20:01:00.712Z"
   },
   {
    "duration": 1841,
    "start_time": "2023-04-05T20:01:06.335Z"
   },
   {
    "duration": 2329,
    "start_time": "2023-04-05T20:01:28.653Z"
   },
   {
    "duration": 5,
    "start_time": "2023-04-05T20:04:07.143Z"
   },
   {
    "duration": 5,
    "start_time": "2023-04-05T20:10:29.335Z"
   },
   {
    "duration": 364,
    "start_time": "2023-04-05T20:11:22.111Z"
   },
   {
    "duration": 15,
    "start_time": "2023-04-05T20:11:26.164Z"
   },
   {
    "duration": 45,
    "start_time": "2023-04-05T20:11:27.664Z"
   },
   {
    "duration": 64,
    "start_time": "2023-04-05T20:11:36.090Z"
   },
   {
    "duration": 54,
    "start_time": "2023-04-05T20:11:43.087Z"
   },
   {
    "duration": 17,
    "start_time": "2023-04-05T20:11:56.590Z"
   },
   {
    "duration": 555,
    "start_time": "2023-04-05T20:12:06.794Z"
   },
   {
    "duration": 1869,
    "start_time": "2023-04-05T20:12:28.790Z"
   },
   {
    "duration": 18,
    "start_time": "2023-04-05T20:13:05.288Z"
   },
   {
    "duration": 1834,
    "start_time": "2023-04-05T20:13:15.364Z"
   },
   {
    "duration": 9,
    "start_time": "2023-04-05T20:13:30.733Z"
   },
   {
    "duration": 53,
    "start_time": "2023-04-05T20:13:32.142Z"
   },
   {
    "duration": 2041,
    "start_time": "2023-04-05T20:13:33.359Z"
   },
   {
    "duration": 1845,
    "start_time": "2023-04-05T20:14:19.317Z"
   },
   {
    "duration": 9,
    "start_time": "2023-04-05T20:14:44.534Z"
   },
   {
    "duration": 54,
    "start_time": "2023-04-05T20:14:46.136Z"
   },
   {
    "duration": 1981,
    "start_time": "2023-04-05T20:14:48.464Z"
   },
   {
    "duration": 331,
    "start_time": "2023-04-05T20:15:22.184Z"
   },
   {
    "duration": 378,
    "start_time": "2023-04-05T20:15:28.939Z"
   },
   {
    "duration": 367,
    "start_time": "2023-04-05T20:15:32.856Z"
   },
   {
    "duration": 545,
    "start_time": "2023-04-05T20:15:38.652Z"
   },
   {
    "duration": 285,
    "start_time": "2023-04-05T20:15:43.791Z"
   },
   {
    "duration": 295,
    "start_time": "2023-04-05T20:15:48.826Z"
   },
   {
    "duration": 5,
    "start_time": "2023-04-05T20:18:11.996Z"
   },
   {
    "duration": 306,
    "start_time": "2023-04-05T20:18:13.589Z"
   },
   {
    "duration": 4,
    "start_time": "2023-04-05T20:18:22.657Z"
   },
   {
    "duration": 4,
    "start_time": "2023-04-05T20:18:23.001Z"
   },
   {
    "duration": 317,
    "start_time": "2023-04-05T20:18:25.802Z"
   },
   {
    "duration": 12,
    "start_time": "2023-04-05T20:19:40.655Z"
   },
   {
    "duration": 515,
    "start_time": "2023-04-05T20:23:17.695Z"
   },
   {
    "duration": 1776,
    "start_time": "2023-04-05T20:24:24.519Z"
   },
   {
    "duration": 1039,
    "start_time": "2023-04-05T20:24:41.826Z"
   },
   {
    "duration": 758,
    "start_time": "2023-04-05T20:24:50.842Z"
   },
   {
    "duration": 462,
    "start_time": "2023-04-05T20:25:03.548Z"
   },
   {
    "duration": 312,
    "start_time": "2023-04-05T20:25:13.678Z"
   },
   {
    "duration": 403,
    "start_time": "2023-04-05T20:25:21.351Z"
   },
   {
    "duration": 307,
    "start_time": "2023-04-05T20:25:25.193Z"
   },
   {
    "duration": 8,
    "start_time": "2023-04-05T20:27:51.589Z"
   },
   {
    "duration": 18,
    "start_time": "2023-04-05T20:28:45.387Z"
   },
   {
    "duration": 763,
    "start_time": "2023-04-05T20:29:06.265Z"
   },
   {
    "duration": 27,
    "start_time": "2023-04-05T20:32:14.479Z"
   },
   {
    "duration": 20,
    "start_time": "2023-04-05T20:32:21.735Z"
   },
   {
    "duration": 25,
    "start_time": "2023-04-05T20:33:05.295Z"
   },
   {
    "duration": 60,
    "start_time": "2023-04-05T20:34:06.468Z"
   },
   {
    "duration": 8,
    "start_time": "2023-04-05T20:34:08.618Z"
   },
   {
    "duration": 90,
    "start_time": "2023-04-05T20:37:32.061Z"
   },
   {
    "duration": 127,
    "start_time": "2023-04-05T20:37:56.741Z"
   },
   {
    "duration": 141,
    "start_time": "2023-04-05T20:38:04.681Z"
   },
   {
    "duration": 77,
    "start_time": "2023-04-05T20:39:02.921Z"
   },
   {
    "duration": 89,
    "start_time": "2023-04-05T20:39:05.345Z"
   },
   {
    "duration": 142,
    "start_time": "2023-04-05T20:39:14.666Z"
   },
   {
    "duration": 146,
    "start_time": "2023-04-05T20:39:31.280Z"
   },
   {
    "duration": 4,
    "start_time": "2023-04-05T20:40:56.610Z"
   },
   {
    "duration": 69,
    "start_time": "2023-04-05T21:11:04.542Z"
   },
   {
    "duration": 67,
    "start_time": "2023-04-05T21:12:32.396Z"
   },
   {
    "duration": 14,
    "start_time": "2023-04-05T21:12:39.882Z"
   },
   {
    "duration": 1013,
    "start_time": "2023-04-05T21:13:07.456Z"
   },
   {
    "duration": 30,
    "start_time": "2023-04-05T21:13:28.382Z"
   },
   {
    "duration": 10,
    "start_time": "2023-04-05T21:15:15.003Z"
   },
   {
    "duration": 748,
    "start_time": "2023-04-05T21:15:18.757Z"
   },
   {
    "duration": 30,
    "start_time": "2023-04-05T21:15:20.763Z"
   },
   {
    "duration": 120,
    "start_time": "2023-04-05T21:15:22.105Z"
   },
   {
    "duration": 9,
    "start_time": "2023-04-05T21:15:23.320Z"
   },
   {
    "duration": 5,
    "start_time": "2023-04-05T21:15:46.311Z"
   },
   {
    "duration": 4,
    "start_time": "2023-04-05T21:15:54.136Z"
   },
   {
    "duration": 4,
    "start_time": "2023-04-05T21:16:05.900Z"
   },
   {
    "duration": 5,
    "start_time": "2023-04-05T21:17:13.662Z"
   },
   {
    "duration": 4,
    "start_time": "2023-04-05T21:18:09.098Z"
   },
   {
    "duration": 5,
    "start_time": "2023-04-05T21:18:25.026Z"
   },
   {
    "duration": 6,
    "start_time": "2023-04-05T21:18:54.631Z"
   },
   {
    "duration": 10,
    "start_time": "2023-04-05T21:19:53.788Z"
   },
   {
    "duration": 62,
    "start_time": "2023-04-05T21:19:58.033Z"
   },
   {
    "duration": 1094,
    "start_time": "2023-04-05T21:19:59.633Z"
   },
   {
    "duration": 31,
    "start_time": "2023-04-05T21:20:01.067Z"
   },
   {
    "duration": 108,
    "start_time": "2023-04-05T21:20:02.232Z"
   },
   {
    "duration": 5,
    "start_time": "2023-04-05T21:20:03.393Z"
   },
   {
    "duration": 12,
    "start_time": "2023-04-05T21:20:05.187Z"
   },
   {
    "duration": 10,
    "start_time": "2023-04-05T21:20:19.859Z"
   },
   {
    "duration": 15,
    "start_time": "2023-04-05T21:20:50.823Z"
   },
   {
    "duration": 15,
    "start_time": "2023-04-05T21:20:52.399Z"
   },
   {
    "duration": 146,
    "start_time": "2023-04-05T21:20:54.344Z"
   },
   {
    "duration": 13,
    "start_time": "2023-04-05T21:21:09.945Z"
   },
   {
    "duration": 125,
    "start_time": "2023-04-05T21:21:11.822Z"
   },
   {
    "duration": 132,
    "start_time": "2023-04-05T21:21:20.875Z"
   },
   {
    "duration": 139,
    "start_time": "2023-04-05T21:22:01.966Z"
   },
   {
    "duration": 245,
    "start_time": "2023-04-05T21:23:02.705Z"
   },
   {
    "duration": 5,
    "start_time": "2023-04-05T21:23:39.777Z"
   },
   {
    "duration": 747,
    "start_time": "2023-04-05T21:23:39.784Z"
   },
   {
    "duration": 123,
    "start_time": "2023-04-05T21:23:40.532Z"
   },
   {
    "duration": 92,
    "start_time": "2023-04-05T21:23:40.658Z"
   },
   {
    "duration": 365,
    "start_time": "2023-04-05T21:23:40.752Z"
   },
   {
    "duration": 104,
    "start_time": "2023-04-05T21:23:41.120Z"
   },
   {
    "duration": 9,
    "start_time": "2023-04-05T21:23:41.226Z"
   },
   {
    "duration": 745,
    "start_time": "2023-04-05T21:23:41.237Z"
   },
   {
    "duration": 27,
    "start_time": "2023-04-05T21:23:41.984Z"
   },
   {
    "duration": 143,
    "start_time": "2023-04-05T21:23:42.015Z"
   },
   {
    "duration": 131,
    "start_time": "2023-04-05T21:23:42.160Z"
   },
   {
    "duration": 3,
    "start_time": "2023-04-05T21:23:42.294Z"
   },
   {
    "duration": 81,
    "start_time": "2023-04-05T21:23:42.299Z"
   },
   {
    "duration": 81,
    "start_time": "2023-04-05T21:23:42.381Z"
   },
   {
    "duration": 70,
    "start_time": "2023-04-05T21:23:42.464Z"
   },
   {
    "duration": 57,
    "start_time": "2023-04-05T21:23:42.550Z"
   },
   {
    "duration": 103,
    "start_time": "2023-04-05T21:23:42.608Z"
   },
   {
    "duration": 79,
    "start_time": "2023-04-05T21:23:42.713Z"
   },
   {
    "duration": 78,
    "start_time": "2023-04-05T21:23:42.793Z"
   },
   {
    "duration": 53,
    "start_time": "2023-04-05T21:23:42.873Z"
   },
   {
    "duration": 23,
    "start_time": "2023-04-05T21:23:42.928Z"
   },
   {
    "duration": 356,
    "start_time": "2023-04-05T21:23:42.953Z"
   },
   {
    "duration": 9,
    "start_time": "2023-04-05T21:23:43.311Z"
   },
   {
    "duration": 46,
    "start_time": "2023-04-05T21:23:43.321Z"
   },
   {
    "duration": 490,
    "start_time": "2023-04-05T21:23:43.368Z"
   },
   {
    "duration": 344,
    "start_time": "2023-04-05T21:23:43.859Z"
   },
   {
    "duration": 7,
    "start_time": "2023-04-05T21:23:44.204Z"
   },
   {
    "duration": 40,
    "start_time": "2023-04-05T21:23:44.214Z"
   },
   {
    "duration": 419,
    "start_time": "2023-04-05T21:23:44.255Z"
   },
   {
    "duration": 746,
    "start_time": "2023-04-05T21:23:44.676Z"
   },
   {
    "duration": 16,
    "start_time": "2023-04-05T21:23:45.423Z"
   },
   {
    "duration": 70,
    "start_time": "2023-04-05T21:23:45.440Z"
   },
   {
    "duration": 153,
    "start_time": "2023-04-05T21:23:45.511Z"
   },
   {
    "duration": 102,
    "start_time": "2023-04-05T21:23:45.665Z"
   },
   {
    "duration": 4,
    "start_time": "2023-04-05T21:23:45.768Z"
   },
   {
    "duration": 20,
    "start_time": "2023-04-05T21:23:45.774Z"
   },
   {
    "duration": 905,
    "start_time": "2023-04-05T21:23:45.796Z"
   },
   {
    "duration": 18,
    "start_time": "2023-04-05T21:23:46.703Z"
   },
   {
    "duration": 68,
    "start_time": "2023-04-05T21:23:46.724Z"
   },
   {
    "duration": 5,
    "start_time": "2023-04-05T21:23:46.794Z"
   },
   {
    "duration": 168,
    "start_time": "2023-04-05T21:23:46.801Z"
   },
   {
    "duration": 181,
    "start_time": "2023-04-05T21:23:46.971Z"
   },
   {
    "duration": 103,
    "start_time": "2023-04-05T21:23:47.154Z"
   },
   {
    "duration": 0,
    "start_time": "2023-04-05T21:23:47.260Z"
   },
   {
    "duration": 0,
    "start_time": "2023-04-05T21:23:47.261Z"
   },
   {
    "duration": 0,
    "start_time": "2023-04-05T21:23:47.263Z"
   },
   {
    "duration": 1520,
    "start_time": "2023-04-05T21:32:19.484Z"
   },
   {
    "duration": 849,
    "start_time": "2023-04-05T21:32:21.005Z"
   },
   {
    "duration": 125,
    "start_time": "2023-04-05T21:32:21.856Z"
   },
   {
    "duration": 108,
    "start_time": "2023-04-05T21:32:21.982Z"
   },
   {
    "duration": 436,
    "start_time": "2023-04-05T21:32:22.091Z"
   },
   {
    "duration": 116,
    "start_time": "2023-04-05T21:32:22.529Z"
   },
   {
    "duration": 25,
    "start_time": "2023-04-05T21:32:22.649Z"
   },
   {
    "duration": 871,
    "start_time": "2023-04-05T21:32:22.676Z"
   },
   {
    "duration": 32,
    "start_time": "2023-04-05T21:32:23.549Z"
   },
   {
    "duration": 153,
    "start_time": "2023-04-05T21:32:23.583Z"
   },
   {
    "duration": 147,
    "start_time": "2023-04-05T21:32:23.738Z"
   },
   {
    "duration": 4,
    "start_time": "2023-04-05T21:32:23.886Z"
   },
   {
    "duration": 94,
    "start_time": "2023-04-05T21:32:23.891Z"
   },
   {
    "duration": 94,
    "start_time": "2023-04-05T21:32:23.987Z"
   },
   {
    "duration": 103,
    "start_time": "2023-04-05T21:32:24.083Z"
   },
   {
    "duration": 30,
    "start_time": "2023-04-05T21:32:24.188Z"
   },
   {
    "duration": 83,
    "start_time": "2023-04-05T21:32:24.219Z"
   },
   {
    "duration": 91,
    "start_time": "2023-04-05T21:32:24.304Z"
   },
   {
    "duration": 101,
    "start_time": "2023-04-05T21:32:24.397Z"
   },
   {
    "duration": 84,
    "start_time": "2023-04-05T21:32:24.500Z"
   },
   {
    "duration": 4,
    "start_time": "2023-04-05T21:32:24.586Z"
   },
   {
    "duration": 385,
    "start_time": "2023-04-05T21:32:24.592Z"
   },
   {
    "duration": 10,
    "start_time": "2023-04-05T21:32:24.979Z"
   },
   {
    "duration": 24,
    "start_time": "2023-04-05T21:32:24.991Z"
   },
   {
    "duration": 588,
    "start_time": "2023-04-05T21:32:25.017Z"
   },
   {
    "duration": 378,
    "start_time": "2023-04-05T21:32:25.607Z"
   },
   {
    "duration": 7,
    "start_time": "2023-04-05T21:32:25.987Z"
   },
   {
    "duration": 31,
    "start_time": "2023-04-05T21:32:25.996Z"
   },
   {
    "duration": 298,
    "start_time": "2023-04-05T21:32:26.029Z"
   },
   {
    "duration": 865,
    "start_time": "2023-04-05T21:32:26.328Z"
   },
   {
    "duration": 15,
    "start_time": "2023-04-05T21:32:27.195Z"
   },
   {
    "duration": 84,
    "start_time": "2023-04-05T21:32:27.212Z"
   },
   {
    "duration": 163,
    "start_time": "2023-04-05T21:32:27.298Z"
   },
   {
    "duration": 139,
    "start_time": "2023-04-05T21:32:27.463Z"
   },
   {
    "duration": 3,
    "start_time": "2023-04-05T21:32:27.604Z"
   },
   {
    "duration": 12,
    "start_time": "2023-04-05T21:32:27.609Z"
   },
   {
    "duration": 1008,
    "start_time": "2023-04-05T21:32:27.623Z"
   },
   {
    "duration": 19,
    "start_time": "2023-04-05T21:32:28.632Z"
   },
   {
    "duration": 58,
    "start_time": "2023-04-05T21:32:28.653Z"
   },
   {
    "duration": 3,
    "start_time": "2023-04-05T21:32:28.714Z"
   },
   {
    "duration": 217,
    "start_time": "2023-04-05T21:32:28.720Z"
   },
   {
    "duration": 116,
    "start_time": "2023-04-05T21:32:28.939Z"
   },
   {
    "duration": 1464,
    "start_time": "2023-04-05T21:34:28.808Z"
   },
   {
    "duration": 868,
    "start_time": "2023-04-05T21:34:30.273Z"
   },
   {
    "duration": 136,
    "start_time": "2023-04-05T21:34:31.143Z"
   },
   {
    "duration": 103,
    "start_time": "2023-04-05T21:34:31.281Z"
   },
   {
    "duration": 447,
    "start_time": "2023-04-05T21:34:31.386Z"
   },
   {
    "duration": 121,
    "start_time": "2023-04-05T21:34:31.835Z"
   },
   {
    "duration": 18,
    "start_time": "2023-04-05T21:34:31.958Z"
   },
   {
    "duration": 956,
    "start_time": "2023-04-05T21:34:31.978Z"
   },
   {
    "duration": 33,
    "start_time": "2023-04-05T21:34:32.935Z"
   },
   {
    "duration": 153,
    "start_time": "2023-04-05T21:34:32.971Z"
   },
   {
    "duration": 142,
    "start_time": "2023-04-05T21:34:33.126Z"
   },
   {
    "duration": 3,
    "start_time": "2023-04-05T21:34:33.270Z"
   },
   {
    "duration": 87,
    "start_time": "2023-04-05T21:34:33.275Z"
   },
   {
    "duration": 93,
    "start_time": "2023-04-05T21:34:33.363Z"
   },
   {
    "duration": 76,
    "start_time": "2023-04-05T21:34:33.457Z"
   },
   {
    "duration": 47,
    "start_time": "2023-04-05T21:34:33.535Z"
   },
   {
    "duration": 81,
    "start_time": "2023-04-05T21:34:33.584Z"
   },
   {
    "duration": 83,
    "start_time": "2023-04-05T21:34:33.667Z"
   },
   {
    "duration": 75,
    "start_time": "2023-04-05T21:34:33.751Z"
   },
   {
    "duration": 71,
    "start_time": "2023-04-05T21:34:33.828Z"
   },
   {
    "duration": 4,
    "start_time": "2023-04-05T21:34:33.900Z"
   },
   {
    "duration": 379,
    "start_time": "2023-04-05T21:34:33.905Z"
   },
   {
    "duration": 10,
    "start_time": "2023-04-05T21:34:34.285Z"
   },
   {
    "duration": 40,
    "start_time": "2023-04-05T21:34:34.297Z"
   },
   {
    "duration": 631,
    "start_time": "2023-04-05T21:34:34.339Z"
   },
   {
    "duration": 369,
    "start_time": "2023-04-05T21:34:34.971Z"
   },
   {
    "duration": 13,
    "start_time": "2023-04-05T21:34:35.341Z"
   },
   {
    "duration": 44,
    "start_time": "2023-04-05T21:34:35.359Z"
   },
   {
    "duration": 282,
    "start_time": "2023-04-05T21:34:35.404Z"
   },
   {
    "duration": 846,
    "start_time": "2023-04-05T21:34:35.688Z"
   },
   {
    "duration": 22,
    "start_time": "2023-04-05T21:34:36.536Z"
   },
   {
    "duration": 69,
    "start_time": "2023-04-05T21:34:36.559Z"
   },
   {
    "duration": 167,
    "start_time": "2023-04-05T21:34:36.629Z"
   },
   {
    "duration": 107,
    "start_time": "2023-04-05T21:34:36.798Z"
   },
   {
    "duration": 4,
    "start_time": "2023-04-05T21:34:36.907Z"
   },
   {
    "duration": 11,
    "start_time": "2023-04-05T21:34:36.913Z"
   },
   {
    "duration": 1006,
    "start_time": "2023-04-05T21:34:36.925Z"
   },
   {
    "duration": 17,
    "start_time": "2023-04-05T21:34:37.932Z"
   },
   {
    "duration": 46,
    "start_time": "2023-04-05T21:34:37.951Z"
   },
   {
    "duration": 3,
    "start_time": "2023-04-05T21:34:37.999Z"
   },
   {
    "duration": 192,
    "start_time": "2023-04-05T21:34:38.004Z"
   },
   {
    "duration": 72,
    "start_time": "2023-04-05T21:34:38.198Z"
   },
   {
    "duration": 49141,
    "start_time": "2023-04-05T21:34:38.272Z"
   },
   {
    "duration": 246310,
    "start_time": "2023-04-05T21:35:27.415Z"
   },
   {
    "duration": 22,
    "start_time": "2023-04-05T21:39:33.727Z"
   },
   {
    "duration": 0,
    "start_time": "2023-04-05T21:39:33.751Z"
   },
   {
    "duration": 0,
    "start_time": "2023-04-05T21:39:33.754Z"
   },
   {
    "duration": 363412,
    "start_time": "2023-04-05T21:39:53.619Z"
   },
   {
    "duration": 1399,
    "start_time": "2023-04-05T21:56:46.553Z"
   },
   {
    "duration": 816,
    "start_time": "2023-04-05T21:56:47.954Z"
   },
   {
    "duration": 127,
    "start_time": "2023-04-05T21:56:48.772Z"
   },
   {
    "duration": 106,
    "start_time": "2023-04-05T21:56:48.901Z"
   },
   {
    "duration": 449,
    "start_time": "2023-04-05T21:56:49.010Z"
   },
   {
    "duration": 112,
    "start_time": "2023-04-05T21:56:49.461Z"
   },
   {
    "duration": 7,
    "start_time": "2023-04-05T21:56:49.575Z"
   },
   {
    "duration": 909,
    "start_time": "2023-04-05T21:56:49.584Z"
   },
   {
    "duration": 29,
    "start_time": "2023-04-05T21:56:50.495Z"
   },
   {
    "duration": 152,
    "start_time": "2023-04-05T21:56:50.526Z"
   },
   {
    "duration": 133,
    "start_time": "2023-04-05T21:56:50.679Z"
   },
   {
    "duration": 3,
    "start_time": "2023-04-05T21:56:50.814Z"
   },
   {
    "duration": 82,
    "start_time": "2023-04-05T21:56:50.819Z"
   },
   {
    "duration": 82,
    "start_time": "2023-04-05T21:56:50.904Z"
   },
   {
    "duration": 90,
    "start_time": "2023-04-05T21:56:50.988Z"
   },
   {
    "duration": 32,
    "start_time": "2023-04-05T21:56:51.080Z"
   },
   {
    "duration": 80,
    "start_time": "2023-04-05T21:56:51.113Z"
   },
   {
    "duration": 78,
    "start_time": "2023-04-05T21:56:51.194Z"
   },
   {
    "duration": 80,
    "start_time": "2023-04-05T21:56:51.276Z"
   },
   {
    "duration": 56,
    "start_time": "2023-04-05T21:56:51.358Z"
   },
   {
    "duration": 4,
    "start_time": "2023-04-05T21:56:51.415Z"
   },
   {
    "duration": 372,
    "start_time": "2023-04-05T21:56:51.421Z"
   },
   {
    "duration": 10,
    "start_time": "2023-04-05T21:56:51.795Z"
   },
   {
    "duration": 42,
    "start_time": "2023-04-05T21:56:51.807Z"
   },
   {
    "duration": 580,
    "start_time": "2023-04-05T21:56:51.850Z"
   },
   {
    "duration": 361,
    "start_time": "2023-04-05T21:56:52.432Z"
   },
   {
    "duration": 8,
    "start_time": "2023-04-05T21:56:52.795Z"
   },
   {
    "duration": 49,
    "start_time": "2023-04-05T21:56:52.804Z"
   },
   {
    "duration": 284,
    "start_time": "2023-04-05T21:56:52.854Z"
   },
   {
    "duration": 863,
    "start_time": "2023-04-05T21:56:53.140Z"
   },
   {
    "duration": 57,
    "start_time": "2023-04-05T21:56:54.004Z"
   },
   {
    "duration": 64,
    "start_time": "2023-04-05T21:56:54.062Z"
   },
   {
    "duration": 185,
    "start_time": "2023-04-05T21:56:54.149Z"
   },
   {
    "duration": 114,
    "start_time": "2023-04-05T21:56:54.335Z"
   },
   {
    "duration": 4,
    "start_time": "2023-04-05T21:56:54.450Z"
   },
   {
    "duration": 12,
    "start_time": "2023-04-05T21:56:54.455Z"
   },
   {
    "duration": 951,
    "start_time": "2023-04-05T21:56:54.468Z"
   },
   {
    "duration": 28,
    "start_time": "2023-04-05T21:56:55.421Z"
   },
   {
    "duration": 98,
    "start_time": "2023-04-05T21:56:55.451Z"
   },
   {
    "duration": 4,
    "start_time": "2023-04-05T21:56:55.550Z"
   },
   {
    "duration": 180,
    "start_time": "2023-04-05T21:56:55.557Z"
   },
   {
    "duration": 117,
    "start_time": "2023-04-05T21:56:55.738Z"
   },
   {
    "duration": 1446,
    "start_time": "2023-04-05T22:05:09.956Z"
   },
   {
    "duration": 781,
    "start_time": "2023-04-05T22:05:11.404Z"
   },
   {
    "duration": 115,
    "start_time": "2023-04-05T22:05:12.187Z"
   },
   {
    "duration": 107,
    "start_time": "2023-04-05T22:05:12.304Z"
   },
   {
    "duration": 411,
    "start_time": "2023-04-05T22:05:12.414Z"
   },
   {
    "duration": 109,
    "start_time": "2023-04-05T22:05:12.827Z"
   },
   {
    "duration": 19,
    "start_time": "2023-04-05T22:05:12.938Z"
   },
   {
    "duration": 914,
    "start_time": "2023-04-05T22:05:12.959Z"
   },
   {
    "duration": 30,
    "start_time": "2023-04-05T22:05:13.874Z"
   },
   {
    "duration": 149,
    "start_time": "2023-04-05T22:05:13.905Z"
   },
   {
    "duration": 143,
    "start_time": "2023-04-05T22:05:14.055Z"
   },
   {
    "duration": 3,
    "start_time": "2023-04-05T22:05:14.200Z"
   },
   {
    "duration": 81,
    "start_time": "2023-04-05T22:05:14.205Z"
   },
   {
    "duration": 85,
    "start_time": "2023-04-05T22:05:14.290Z"
   },
   {
    "duration": 94,
    "start_time": "2023-04-05T22:05:14.377Z"
   },
   {
    "duration": 47,
    "start_time": "2023-04-05T22:05:14.472Z"
   },
   {
    "duration": 129,
    "start_time": "2023-04-05T22:05:14.521Z"
   },
   {
    "duration": 135,
    "start_time": "2023-04-05T22:05:14.652Z"
   },
   {
    "duration": 102,
    "start_time": "2023-04-05T22:05:14.789Z"
   },
   {
    "duration": 73,
    "start_time": "2023-04-05T22:05:14.892Z"
   },
   {
    "duration": 4,
    "start_time": "2023-04-05T22:05:14.967Z"
   },
   {
    "duration": 370,
    "start_time": "2023-04-05T22:05:14.973Z"
   },
   {
    "duration": 12,
    "start_time": "2023-04-05T22:05:15.349Z"
   },
   {
    "duration": 27,
    "start_time": "2023-04-05T22:05:15.362Z"
   },
   {
    "duration": 606,
    "start_time": "2023-04-05T22:05:15.391Z"
   },
   {
    "duration": 366,
    "start_time": "2023-04-05T22:05:15.998Z"
   },
   {
    "duration": 8,
    "start_time": "2023-04-05T22:05:16.365Z"
   },
   {
    "duration": 47,
    "start_time": "2023-04-05T22:05:16.374Z"
   },
   {
    "duration": 305,
    "start_time": "2023-04-05T22:05:16.422Z"
   },
   {
    "duration": 869,
    "start_time": "2023-04-05T22:05:16.729Z"
   },
   {
    "duration": 15,
    "start_time": "2023-04-05T22:05:17.600Z"
   },
   {
    "duration": 84,
    "start_time": "2023-04-05T22:05:17.617Z"
   },
   {
    "duration": 197,
    "start_time": "2023-04-05T22:05:17.703Z"
   },
   {
    "duration": 116,
    "start_time": "2023-04-05T22:05:17.901Z"
   },
   {
    "duration": 5,
    "start_time": "2023-04-05T22:05:18.019Z"
   },
   {
    "duration": 31,
    "start_time": "2023-04-05T22:05:18.026Z"
   },
   {
    "duration": 878,
    "start_time": "2023-04-05T22:05:18.060Z"
   },
   {
    "duration": 35,
    "start_time": "2023-04-05T22:05:18.939Z"
   },
   {
    "duration": 117,
    "start_time": "2023-04-05T22:05:18.975Z"
   },
   {
    "duration": 5,
    "start_time": "2023-04-05T22:05:19.094Z"
   },
   {
    "duration": 10,
    "start_time": "2023-04-05T22:05:19.103Z"
   },
   {
    "duration": 237,
    "start_time": "2023-04-05T22:05:19.115Z"
   },
   {
    "duration": 1409,
    "start_time": "2023-04-05T22:07:54.235Z"
   },
   {
    "duration": 776,
    "start_time": "2023-04-05T22:07:55.645Z"
   },
   {
    "duration": 122,
    "start_time": "2023-04-05T22:07:56.422Z"
   },
   {
    "duration": 90,
    "start_time": "2023-04-05T22:07:56.549Z"
   },
   {
    "duration": 410,
    "start_time": "2023-04-05T22:07:56.648Z"
   },
   {
    "duration": 113,
    "start_time": "2023-04-05T22:07:57.060Z"
   },
   {
    "duration": 6,
    "start_time": "2023-04-05T22:07:57.175Z"
   },
   {
    "duration": 843,
    "start_time": "2023-04-05T22:07:57.183Z"
   },
   {
    "duration": 34,
    "start_time": "2023-04-05T22:07:58.028Z"
   },
   {
    "duration": 134,
    "start_time": "2023-04-05T22:07:58.064Z"
   },
   {
    "duration": 138,
    "start_time": "2023-04-05T22:07:58.200Z"
   },
   {
    "duration": 4,
    "start_time": "2023-04-05T22:07:58.339Z"
   },
   {
    "duration": 86,
    "start_time": "2023-04-05T22:07:58.350Z"
   },
   {
    "duration": 82,
    "start_time": "2023-04-05T22:07:58.438Z"
   },
   {
    "duration": 85,
    "start_time": "2023-04-05T22:07:58.521Z"
   },
   {
    "duration": 42,
    "start_time": "2023-04-05T22:07:58.608Z"
   },
   {
    "duration": 71,
    "start_time": "2023-04-05T22:07:58.651Z"
   },
   {
    "duration": 81,
    "start_time": "2023-04-05T22:07:58.724Z"
   },
   {
    "duration": 84,
    "start_time": "2023-04-05T22:07:58.807Z"
   },
   {
    "duration": 68,
    "start_time": "2023-04-05T22:07:58.893Z"
   },
   {
    "duration": 4,
    "start_time": "2023-04-05T22:07:58.962Z"
   },
   {
    "duration": 363,
    "start_time": "2023-04-05T22:07:58.968Z"
   },
   {
    "duration": 20,
    "start_time": "2023-04-05T22:07:59.332Z"
   },
   {
    "duration": 28,
    "start_time": "2023-04-05T22:07:59.354Z"
   },
   {
    "duration": 589,
    "start_time": "2023-04-05T22:07:59.384Z"
   },
   {
    "duration": 349,
    "start_time": "2023-04-05T22:07:59.975Z"
   },
   {
    "duration": 8,
    "start_time": "2023-04-05T22:08:00.325Z"
   },
   {
    "duration": 58,
    "start_time": "2023-04-05T22:08:00.336Z"
   },
   {
    "duration": 289,
    "start_time": "2023-04-05T22:08:00.396Z"
   },
   {
    "duration": 870,
    "start_time": "2023-04-05T22:08:00.687Z"
   },
   {
    "duration": 19,
    "start_time": "2023-04-05T22:08:01.558Z"
   },
   {
    "duration": 97,
    "start_time": "2023-04-05T22:08:01.579Z"
   },
   {
    "duration": 156,
    "start_time": "2023-04-05T22:08:01.678Z"
   },
   {
    "duration": 98,
    "start_time": "2023-04-05T22:08:01.836Z"
   },
   {
    "duration": 4,
    "start_time": "2023-04-05T22:08:01.935Z"
   },
   {
    "duration": 50,
    "start_time": "2023-04-05T22:08:01.940Z"
   },
   {
    "duration": 886,
    "start_time": "2023-04-05T22:08:01.992Z"
   },
   {
    "duration": 36,
    "start_time": "2023-04-05T22:08:02.880Z"
   },
   {
    "duration": 106,
    "start_time": "2023-04-05T22:08:02.918Z"
   },
   {
    "duration": 4,
    "start_time": "2023-04-05T22:08:03.026Z"
   },
   {
    "duration": 182,
    "start_time": "2023-04-05T22:08:03.031Z"
   },
   {
    "duration": 137,
    "start_time": "2023-04-05T22:08:03.215Z"
   },
   {
    "duration": 278,
    "start_time": "2023-04-05T22:08:03.354Z"
   },
   {
    "duration": 53,
    "start_time": "2023-04-07T12:10:18.913Z"
   }
  ],
  "kernelspec": {
   "display_name": "Python 3 (ipykernel)",
   "language": "python",
   "name": "python3"
  },
  "language_info": {
   "codemirror_mode": {
    "name": "ipython",
    "version": 3
   },
   "file_extension": ".py",
   "mimetype": "text/x-python",
   "name": "python",
   "nbconvert_exporter": "python",
   "pygments_lexer": "ipython3",
   "version": "3.9.5"
  },
  "toc": {
   "base_numbering": 1,
   "nav_menu": {},
   "number_sections": true,
   "sideBar": true,
   "skip_h1_title": true,
   "title_cell": "Table of Contents",
   "title_sidebar": "Contents",
   "toc_cell": false,
   "toc_position": {},
   "toc_section_display": true,
   "toc_window_display": false
  }
 },
 "nbformat": 4,
 "nbformat_minor": 2
}
