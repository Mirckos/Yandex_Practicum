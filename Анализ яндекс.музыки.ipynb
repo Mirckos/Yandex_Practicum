{
 "cells": [
  {
   "cell_type": "markdown",
   "metadata": {
    "deletable": false,
    "editable": false,
    "id": "E0vqbgi9ay0H"
   },
   "source": [
    "# Яндекс Музыка"
   ]
  },
  {
   "cell_type": "markdown",
   "metadata": {
    "deletable": false,
    "editable": false,
    "id": "VUC88oWjTJw2"
   },
   "source": [
    "Сравнение Москвы и Петербурга окружено мифами. Например:\n",
    " * Москва — мегаполис, подчинённый жёсткому ритму рабочей недели;\n",
    " * Петербург — культурная столица, со своими вкусами.\n",
    "\n",
    "На данных Яндекс Музыки вы сравните поведение пользователей двух столиц.\n",
    "\n",
    "**Цель исследования** — проверьте три гипотезы:\n",
    "1. Активность пользователей зависит от дня недели. Причём в Москве и Петербурге это проявляется по-разному.\n",
    "2. В понедельник утром в Москве преобладают одни жанры, а в Петербурге — другие. Так же и вечером пятницы преобладают разные жанры — в зависимости от города. \n",
    "3. Москва и Петербург предпочитают разные жанры музыки. В Москве чаще слушают поп-музыку, в Петербурге — русский рэп.\n",
    "\n",
    "**Ход исследования**\n",
    "\n",
    "Данные о поведении пользователей вы получите из файла `yandex_music_project.csv`. О качестве данных ничего не известно. Поэтому перед проверкой гипотез понадобится обзор данных. \n",
    "\n",
    "Вы проверите данные на ошибки и оцените их влияние на исследование. Затем, на этапе предобработки вы поищете возможность исправить самые критичные ошибки данных.\n",
    " \n",
    "Таким образом, исследование пройдёт в три этапа:\n",
    " 1. Обзор данных.\n",
    " 2. Предобработка данных.\n",
    " 3. Проверка гипотез.\n",
    "\n"
   ]
  },
  {
   "cell_type": "markdown",
   "metadata": {
    "deletable": false,
    "editable": false,
    "id": "Ml1hmfXC_Zcs"
   },
   "source": [
    "## Обзор данных\n",
    "\n",
    "Составьте первое представление о данных Яндекс Музыки.\n",
    "\n",
    "\n"
   ]
  },
  {
   "cell_type": "markdown",
   "metadata": {
    "deletable": false,
    "editable": false,
    "id": "57eAOGIz_Zcs",
    "tags": [
     "start_task"
    ]
   },
   "source": [
    "**Задание 1**\n",
    "\n",
    "Основной инструмент аналитика — `pandas`. Импортируйте эту библиотеку."
   ]
  },
  {
   "cell_type": "code",
   "execution_count": 3,
   "metadata": {
    "deletable": false,
    "id": "AXN7PHPN_Zcs"
   },
   "outputs": [],
   "source": [
    "import pandas as pd# импорт библиотеки pandas"
   ]
  },
  {
   "cell_type": "markdown",
   "metadata": {
    "deletable": false,
    "editable": false,
    "id": "SG23P8tt_Zcs",
    "tags": [
     "start_task"
    ]
   },
   "source": [
    "**Задание 2**\n",
    "\n",
    "Прочитайте файл `yandex_music_project.csv` из папки `/datasets` и сохраните его в переменной `df`:"
   ]
  },
  {
   "cell_type": "code",
   "execution_count": 4,
   "metadata": {
    "deletable": false,
    "id": "fFVu7vqh_Zct"
   },
   "outputs": [],
   "source": [
    "df = pd.read_csv('/datasets/yandex_music_project.csv')# чтение файла с данными и сохранение в df"
   ]
  },
  {
   "cell_type": "markdown",
   "metadata": {
    "deletable": false,
    "editable": false,
    "id": "rDoOMd3uTqnZ",
    "tags": [
     "start_task"
    ]
   },
   "source": [
    "**Задание 3**\n",
    "\n",
    "\n",
    "Выведите на экран первые десять строк таблицы:"
   ]
  },
  {
   "cell_type": "code",
   "execution_count": 5,
   "metadata": {
    "deletable": false,
    "id": "oWTVX3gW_Zct"
   },
   "outputs": [
    {
     "name": "stdout",
     "output_type": "stream",
     "text": [
      "     userID                        Track            artist   genre  \\\n",
      "0  FFB692EC            Kamigata To Boots  The Mass Missile    rock   \n",
      "1  55204538  Delayed Because of Accident  Andreas Rönnberg    rock   \n",
      "2    20EC38            Funiculì funiculà       Mario Lanza     pop   \n",
      "3  A3DD03C9        Dragons in the Sunset        Fire + Ice    folk   \n",
      "4  E2DC1FAE                  Soul People        Space Echo   dance   \n",
      "5  842029A1                    Преданная         IMPERVTOR  rusrap   \n",
      "6  4CB90AA5                         True      Roman Messer   dance   \n",
      "7  F03E1C1F             Feeling This Way   Polina Griffith   dance   \n",
      "8  8FA1D3BE     И вновь продолжается бой               NaN  ruspop   \n",
      "9  E772D5C0                    Pessimist               NaN   dance   \n",
      "\n",
      "             City        time        Day  \n",
      "0  Saint-Petersburg  20:28:33  Wednesday  \n",
      "1            Moscow  14:07:09     Friday  \n",
      "2  Saint-Petersburg  20:58:07  Wednesday  \n",
      "3  Saint-Petersburg  08:37:09     Monday  \n",
      "4            Moscow  08:34:34     Monday  \n",
      "5  Saint-Petersburg  13:09:41     Friday  \n",
      "6            Moscow  13:00:07  Wednesday  \n",
      "7            Moscow  20:47:49  Wednesday  \n",
      "8            Moscow  09:17:40     Friday  \n",
      "9  Saint-Petersburg  21:20:49  Wednesday  \n"
     ]
    }
   ],
   "source": [
    "print(df.head(10))# получение первых 10 строк таблицы df"
   ]
  },
  {
   "cell_type": "markdown",
   "metadata": {
    "deletable": false,
    "editable": false,
    "id": "EO73Kwic_Zct",
    "tags": [
     "start_task"
    ]
   },
   "source": [
    "**Задание 4**\n",
    "\n",
    "\n",
    "Одной командой получить общую информацию о таблице c помощью метода `info()`:"
   ]
  },
  {
   "cell_type": "code",
   "execution_count": 6,
   "metadata": {
    "deletable": false,
    "id": "DSf2kIb-_Zct"
   },
   "outputs": [
    {
     "name": "stdout",
     "output_type": "stream",
     "text": [
      "<class 'pandas.core.frame.DataFrame'>\n",
      "RangeIndex: 65079 entries, 0 to 65078\n",
      "Data columns (total 7 columns):\n",
      " #   Column    Non-Null Count  Dtype \n",
      "---  ------    --------------  ----- \n",
      " 0     userID  65079 non-null  object\n",
      " 1   Track     63848 non-null  object\n",
      " 2   artist    57876 non-null  object\n",
      " 3   genre     63881 non-null  object\n",
      " 4     City    65079 non-null  object\n",
      " 5   time      65079 non-null  object\n",
      " 6   Day       65079 non-null  object\n",
      "dtypes: object(7)\n",
      "memory usage: 3.5+ MB\n"
     ]
    }
   ],
   "source": [
    "df.info()# получение общей информации о данных в таблице df"
   ]
  },
  {
   "cell_type": "markdown",
   "metadata": {
    "deletable": false,
    "editable": false,
    "id": "TaQ2Iwbr_Zct"
   },
   "source": [
    "Итак, в таблице семь столбцов. Тип данных во всех столбцах — `object`.\n",
    "\n",
    "Согласно документации к данным:\n",
    "* `userID` — идентификатор пользователя;\n",
    "* `Track` — название трека;  \n",
    "* `artist` — имя исполнителя;\n",
    "* `genre` — название жанра;\n",
    "* `City` — город пользователя;\n",
    "* `time` — время начала прослушивания;\n",
    "* `Day` — день недели.\n",
    "\n",
    "Количество значений в столбцах различается. Значит, в данных есть пропущенные значения."
   ]
  },
  {
   "cell_type": "markdown",
   "metadata": {
    "deletable": false,
    "editable": false,
    "id": "rAfziTBDmf2h",
    "tags": [
     "start_task"
    ]
   },
   "source": [
    "**Задание 5**\n",
    "\n",
    "**Вопрос со свободной формой ответа**\n",
    "\n",
    "В названиях колонок видны нарушения стиля:\n",
    "* Строчные буквы сочетаются с прописными.\n",
    "* Встречаются пробелы.\n",
    "\n",
    "Какое третье нарушение?"
   ]
  },
  {
   "cell_type": "code",
   "execution_count": 7,
   "metadata": {
    "id": "jD8EXEIvmf2h"
   },
   "outputs": [],
   "source": [
    "# должен быть змеиный регистр\n",
    "# Напишите ваш ответ здесь комментарием. Не удаляйте символ #. Не меняйте тип этой ячейки на Markdown."
   ]
  },
  {
   "cell_type": "markdown",
   "metadata": {
    "deletable": false,
    "editable": false,
    "id": "MCB6-dXG_Zct"
   },
   "source": [
    "**Выводы**\n",
    "\n",
    "В каждой строке таблицы — данные о прослушанном треке. Часть колонок описывает саму композицию: название, исполнителя и жанр. Остальные данные рассказывают о пользователе: из какого он города, когда он слушал музыку. \n",
    "\n",
    "Предварительно можно утверждать, что данных достаточно для проверки гипотез. Но встречаются пропуски в данных, а в названиях колонок — расхождения с хорошим стилем.\n",
    "\n",
    "Чтобы двигаться дальше, нужно устранить проблемы в данных."
   ]
  },
  {
   "cell_type": "markdown",
   "metadata": {
    "deletable": false,
    "editable": false,
    "id": "SjYF6Ub9_Zct"
   },
   "source": [
    "## Предобработка данных\n",
    "Исправьте стиль в заголовках столбцов, исключите пропуски. Затем проверьте данные на дубликаты."
   ]
  },
  {
   "cell_type": "markdown",
   "metadata": {
    "deletable": false,
    "editable": false,
    "id": "dIaKXr29_Zct",
    "tags": [
     "start_task"
    ]
   },
   "source": [
    "### Стиль заголовков\n",
    "\n",
    "**Задание 6**\n",
    "\n",
    "Выведите на экран названия столбцов:"
   ]
  },
  {
   "cell_type": "code",
   "execution_count": 8,
   "metadata": {
    "deletable": false,
    "id": "oKOTdF_Q_Zct"
   },
   "outputs": [
    {
     "data": {
      "text/plain": [
       "Index(['  userID', 'Track', 'artist', 'genre', '  City  ', 'time', 'Day'], dtype='object')"
      ]
     },
     "execution_count": 8,
     "metadata": {},
     "output_type": "execute_result"
    }
   ],
   "source": [
    "df.columns # перечень названий столбцов таблицы df"
   ]
  },
  {
   "cell_type": "markdown",
   "metadata": {
    "deletable": false,
    "editable": false,
    "id": "zj5534cv_Zct",
    "tags": [
     "start_task"
    ]
   },
   "source": [
    "**Задание 7**\n",
    "\n",
    "\n",
    "Приведите названия в соответствие с хорошим стилем:\n",
    "* несколько слов в названии запишите в «змеином_регистре»,\n",
    "* все символы сделайте строчными,\n",
    "* устраните пробелы.\n",
    "\n",
    "Для этого переименуйте колонки так:\n",
    "* `'  userID'` → `'user_id'`;\n",
    "* `'Track'` → `'track'`;\n",
    "* `'  City  '` → `'city'`;\n",
    "* `'Day'` → `'day'`."
   ]
  },
  {
   "cell_type": "code",
   "execution_count": 9,
   "metadata": {
    "deletable": false,
    "id": "ISlFqs5y_Zct"
   },
   "outputs": [],
   "source": [
    "df = df.rename(columns = {'  userID' : 'user_id','Track' : 'track','  City  ' : 'city','Day' : 'day'})# переименование столбцов"
   ]
  },
  {
   "cell_type": "markdown",
   "metadata": {
    "deletable": false,
    "editable": false,
    "id": "1dqbh00J_Zct",
    "tags": [
     "start_task"
    ]
   },
   "source": [
    "**Задание 8**\n",
    "\n",
    "\n",
    "Проверьте результат. Для этого ещё раз выведите на экран названия столбцов:"
   ]
  },
  {
   "cell_type": "code",
   "execution_count": 10,
   "metadata": {
    "deletable": false,
    "id": "d4NOAmTW_Zct"
   },
   "outputs": [
    {
     "data": {
      "text/plain": [
       "Index(['user_id', 'track', 'artist', 'genre', 'city', 'time', 'day'], dtype='object')"
      ]
     },
     "execution_count": 10,
     "metadata": {},
     "output_type": "execute_result"
    }
   ],
   "source": [
    "df.columns # проверка результатов - перечень названий столбцов"
   ]
  },
  {
   "cell_type": "markdown",
   "metadata": {
    "deletable": false,
    "editable": false,
    "id": "5ISfbcfY_Zct",
    "tags": [
     "start_task"
    ]
   },
   "source": [
    "### Пропуски значений\n",
    "\n",
    "**Задание 9**\n",
    "\n",
    "Сначала посчитайте, сколько в таблице пропущенных значений. Для этого достаточно двух методов `pandas`:"
   ]
  },
  {
   "cell_type": "code",
   "execution_count": 11,
   "metadata": {
    "deletable": false,
    "id": "RskX29qr_Zct"
   },
   "outputs": [
    {
     "data": {
      "text/plain": [
       "user_id       0\n",
       "track      1231\n",
       "artist     7203\n",
       "genre      1198\n",
       "city          0\n",
       "time          0\n",
       "day           0\n",
       "dtype: int64"
      ]
     },
     "execution_count": 11,
     "metadata": {},
     "output_type": "execute_result"
    }
   ],
   "source": [
    "df.isna().sum() # подсчёт пропусков"
   ]
  },
  {
   "cell_type": "markdown",
   "metadata": {
    "deletable": false,
    "editable": false,
    "id": "qubhgnlO_Zct"
   },
   "source": [
    "Не все пропущенные значения влияют на исследование. Так в `track` и `artist` пропуски не важны для вашей работы. Достаточно заменить их явными обозначениями.\n",
    "\n",
    "Но пропуски в `genre` могут помешать сравнению музыкальных вкусов в Москве и Санкт-Петербурге. На практике было бы правильно установить причину пропусков и восстановить данные. Такой возможности нет в учебном проекте. Придётся:\n",
    "* заполнить и эти пропуски явными обозначениями;\n",
    "* оценить, насколько они повредят расчётам. "
   ]
  },
  {
   "cell_type": "markdown",
   "metadata": {
    "deletable": false,
    "editable": false,
    "id": "fSv2laPA_Zct",
    "tags": [
     "start_task"
    ]
   },
   "source": [
    "**Задание 10**\n",
    "\n",
    "Замените пропущенные значения в столбцах `track`, `artist` и `genre` на строку `'unknown'`. Для этого создайте список `columns_to_replace`, переберите его элементы циклом `for` и для каждого столбца выполните замену пропущенных значений:"
   ]
  },
  {
   "cell_type": "code",
   "execution_count": 12,
   "metadata": {
    "deletable": false,
    "id": "KplB5qWs_Zct"
   },
   "outputs": [],
   "source": [
    "columns_to_replace = ['track', 'artist' , 'genre']# перебор названий столбцов в цикле и замена пропущенных значений на 'unknown'\n",
    "for x in columns_to_replace:\n",
    "    df[x] = df[x].fillna('unknown')"
   ]
  },
  {
   "cell_type": "markdown",
   "metadata": {
    "deletable": false,
    "editable": false,
    "id": "Ilsm-MZo_Zct",
    "tags": [
     "start_task"
    ]
   },
   "source": [
    "**Задание 11**\n",
    "\n",
    "Убедитесь, что в таблице не осталось пропусков. Для этого ещё раз посчитайте пропущенные значения."
   ]
  },
  {
   "cell_type": "code",
   "execution_count": 13,
   "metadata": {
    "deletable": false,
    "id": "Tq4nYRX4_Zct"
   },
   "outputs": [
    {
     "data": {
      "text/plain": [
       "user_id    0\n",
       "track      0\n",
       "artist     0\n",
       "genre      0\n",
       "city       0\n",
       "time       0\n",
       "day        0\n",
       "dtype: int64"
      ]
     },
     "execution_count": 13,
     "metadata": {},
     "output_type": "execute_result"
    }
   ],
   "source": [
    "df.isna().sum() # подсчёт пропусков"
   ]
  },
  {
   "cell_type": "markdown",
   "metadata": {
    "deletable": false,
    "editable": false,
    "id": "BWKRtBJ3_Zct",
    "tags": [
     "start_task"
    ]
   },
   "source": [
    "### Дубликаты\n",
    "\n",
    "**Задание 12**\n",
    "\n",
    "Посчитайте явные дубликаты в таблице одной командой:"
   ]
  },
  {
   "cell_type": "code",
   "execution_count": 14,
   "metadata": {
    "deletable": false,
    "id": "36eES_S0_Zct"
   },
   "outputs": [
    {
     "data": {
      "text/plain": [
       "3826"
      ]
     },
     "execution_count": 14,
     "metadata": {},
     "output_type": "execute_result"
    }
   ],
   "source": [
    "df.duplicated().sum()# подсчёт явных дубликатов"
   ]
  },
  {
   "cell_type": "markdown",
   "metadata": {
    "deletable": false,
    "editable": false,
    "id": "Ot25h6XR_Zct",
    "tags": [
     "start_task"
    ]
   },
   "source": [
    "**Задание 13**\n",
    "\n",
    "Вызовите специальный метод `pandas`, чтобы удалить явные дубликаты:"
   ]
  },
  {
   "cell_type": "code",
   "execution_count": 15,
   "metadata": {
    "deletable": false,
    "id": "exFHq6tt_Zct"
   },
   "outputs": [],
   "source": [
    "df = df.drop_duplicates()# удаление явных дубликатов"
   ]
  },
  {
   "cell_type": "markdown",
   "metadata": {
    "deletable": false,
    "editable": false,
    "id": "Im2YwBEG_Zct",
    "tags": [
     "start_task"
    ]
   },
   "source": [
    "**Задание 14**\n",
    "\n",
    "Ещё раз посчитайте явные дубликаты в таблице — убедитесь, что полностью от них избавились:"
   ]
  },
  {
   "cell_type": "code",
   "execution_count": 16,
   "metadata": {
    "deletable": false,
    "id": "-8PuNWQ0_Zct"
   },
   "outputs": [
    {
     "data": {
      "text/plain": [
       "0"
      ]
     },
     "execution_count": 16,
     "metadata": {},
     "output_type": "execute_result"
    }
   ],
   "source": [
    "df.duplicated().sum()# проверка на отсутствие дубликатов"
   ]
  },
  {
   "cell_type": "markdown",
   "metadata": {
    "deletable": false,
    "editable": false,
    "id": "QlFBsxAr_Zct"
   },
   "source": [
    "Теперь избавьтесь от неявных дубликатов в колонке `genre`. Например, название одного и того же жанра может быть записано немного по-разному. Такие ошибки тоже повлияют на результат исследования."
   ]
  },
  {
   "cell_type": "markdown",
   "metadata": {
    "deletable": false,
    "editable": false,
    "id": "eSjWwsOh_Zct",
    "tags": [
     "start_task"
    ]
   },
   "source": [
    "**Задание 15**\n",
    "\n",
    "Выведите на экран список уникальных названий жанров, отсортированный в алфавитном порядке. Для этого:\n",
    "1. извлеките нужный столбец датафрейма; \n",
    "2. примените к нему метод сортировки;\n",
    "3. для отсортированного столбца вызовите метод, который вернёт уникальные значения из столбца."
   ]
  },
  {
   "cell_type": "code",
   "execution_count": 17,
   "metadata": {
    "deletable": false,
    "id": "JIUcqzZN_Zct"
   },
   "outputs": [
    {
     "name": "stdout",
     "output_type": "stream",
     "text": [
      "['acid' 'acoustic' 'action' 'adult' 'africa' 'afrikaans' 'alternative'\n",
      " 'alternativepunk' 'ambient' 'americana' 'animated' 'anime' 'arabesk'\n",
      " 'arabic' 'arena' 'argentinetango' 'art' 'audiobook' 'author' 'avantgarde'\n",
      " 'axé' 'baile' 'balkan' 'beats' 'bigroom' 'black' 'bluegrass' 'blues'\n",
      " 'bollywood' 'bossa' 'brazilian' 'breakbeat' 'breaks' 'broadway'\n",
      " 'cantautori' 'cantopop' 'canzone' 'caribbean' 'caucasian' 'celtic'\n",
      " 'chamber' 'chanson' 'children' 'chill' 'chinese' 'choral' 'christian'\n",
      " 'christmas' 'classical' 'classicmetal' 'club' 'colombian' 'comedy'\n",
      " 'conjazz' 'contemporary' 'country' 'cuban' 'dance' 'dancehall' 'dancepop'\n",
      " 'dark' 'death' 'deep' 'deutschrock' 'deutschspr' 'dirty' 'disco' 'dnb'\n",
      " 'documentary' 'downbeat' 'downtempo' 'drum' 'dub' 'dubstep' 'eastern'\n",
      " 'easy' 'electronic' 'electropop' 'emo' 'entehno' 'epicmetal' 'estrada'\n",
      " 'ethnic' 'eurofolk' 'european' 'experimental' 'extrememetal' 'fado'\n",
      " 'fairytail' 'film' 'fitness' 'flamenco' 'folk' 'folklore' 'folkmetal'\n",
      " 'folkrock' 'folktronica' 'forró' 'frankreich' 'französisch' 'french'\n",
      " 'funk' 'future' 'gangsta' 'garage' 'german' 'ghazal' 'gitarre' 'glitch'\n",
      " 'gospel' 'gothic' 'grime' 'grunge' 'gypsy' 'handsup' \"hard'n'heavy\"\n",
      " 'hardcore' 'hardstyle' 'hardtechno' 'hip' 'hip-hop' 'hiphop' 'historisch'\n",
      " 'holiday' 'hop' 'horror' 'house' 'hymn' 'idm' 'independent' 'indian'\n",
      " 'indie' 'indipop' 'industrial' 'inspirational' 'instrumental'\n",
      " 'international' 'irish' 'jam' 'japanese' 'jazz' 'jewish' 'jpop' 'jungle'\n",
      " 'k-pop' 'karadeniz' 'karaoke' 'kayokyoku' 'korean' 'laiko' 'latin'\n",
      " 'latino' 'leftfield' 'local' 'lounge' 'loungeelectronic' 'lovers'\n",
      " 'malaysian' 'mandopop' 'marschmusik' 'meditative' 'mediterranean'\n",
      " 'melodic' 'metal' 'metalcore' 'mexican' 'middle' 'minimal'\n",
      " 'miscellaneous' 'modern' 'mood' 'mpb' 'muslim' 'native' 'neoklassik'\n",
      " 'neue' 'new' 'newage' 'newwave' 'nu' 'nujazz' 'numetal' 'oceania' 'old'\n",
      " 'opera' 'orchestral' 'other' 'piano' 'podcasts' 'pop' 'popdance'\n",
      " 'popelectronic' 'popeurodance' 'poprussian' 'post' 'posthardcore'\n",
      " 'postrock' 'power' 'progmetal' 'progressive' 'psychedelic' 'punjabi'\n",
      " 'punk' 'quebecois' 'ragga' 'ram' 'rancheras' 'rap' 'rave' 'reggae'\n",
      " 'reggaeton' 'regional' 'relax' 'religious' 'retro' 'rhythm' 'rnb' 'rnr'\n",
      " 'rock' 'rockabilly' 'rockalternative' 'rockindie' 'rockother' 'romance'\n",
      " 'roots' 'ruspop' 'rusrap' 'rusrock' 'russian' 'salsa' 'samba' 'scenic'\n",
      " 'schlager' 'self' 'sertanejo' 'shanson' 'shoegazing' 'showtunes' 'singer'\n",
      " 'ska' 'skarock' 'slow' 'smooth' 'soft' 'soul' 'soulful' 'sound'\n",
      " 'soundtrack' 'southern' 'specialty' 'speech' 'spiritual' 'sport'\n",
      " 'stonerrock' 'surf' 'swing' 'synthpop' 'synthrock' 'sängerportrait'\n",
      " 'tango' 'tanzorchester' 'taraftar' 'tatar' 'tech' 'techno' 'teen'\n",
      " 'thrash' 'top' 'traditional' 'tradjazz' 'trance' 'tribal' 'trip'\n",
      " 'triphop' 'tropical' 'türk' 'türkçe' 'ukrrock' 'unknown' 'urban' 'uzbek'\n",
      " 'variété' 'vi' 'videogame' 'vocal' 'western' 'world' 'worldbeat' 'ïîï'\n",
      " 'электроника']\n"
     ]
    }
   ],
   "source": [
    "print(df['genre'].sort_values().unique())# Просмотр уникальных названий жанров"
   ]
  },
  {
   "cell_type": "markdown",
   "metadata": {
    "deletable": false,
    "editable": false,
    "id": "qej-Qmuo_Zct",
    "tags": [
     "start_task"
    ]
   },
   "source": [
    "**Задание 16**\n",
    "\n",
    "Просмотрите список и найдите неявные дубликаты названия `hiphop`. Это могут быть названия с ошибками или альтернативные названия того же жанра.\n",
    "\n",
    "Вы увидите следующие неявные дубликаты:\n",
    "* *hip*,\n",
    "* *hop*,\n",
    "* *hip-hop*.\n",
    "\n",
    "Чтобы очистить от них таблицу используйте метод `replace()` с двумя аргументами: списком строк-дубликатов (включащий *hip*, *hop* и *hip-hop*) и строкой с правильным значением. Вам нужно исправить колонку `genre` в таблице `df`: заменить каждое значение из списка дубликатов на верное. Вместо `hip`, `hop` и `hip-hop` в таблице должно быть значение `hiphop`:"
   ]
  },
  {
   "cell_type": "code",
   "execution_count": 18,
   "metadata": {
    "deletable": false,
    "id": "ErNDkmns_Zct"
   },
   "outputs": [],
   "source": [
    "x = ['hip','hop','hip-hop']\n",
    "df['genre'] = df['genre'].replace(x,'hiphop')# Устранение неявных дубликатов"
   ]
  },
  {
   "cell_type": "markdown",
   "metadata": {
    "deletable": false,
    "editable": false,
    "id": "zQKF16_RG15m",
    "tags": [
     "start_task"
    ]
   },
   "source": [
    "**Задание 17**\n",
    "\n",
    "Проверьте, что заменили неправильные названия:\n",
    "\n",
    "*   hip,\n",
    "*   hop,\n",
    "*   hip-hop.\n",
    "\n",
    "Выведите отсортированный список уникальных значений столбца `genre`:"
   ]
  },
  {
   "cell_type": "code",
   "execution_count": 19,
   "metadata": {
    "deletable": false,
    "id": "wvixALnFG15m"
   },
   "outputs": [
    {
     "name": "stdout",
     "output_type": "stream",
     "text": [
      "['acid' 'acoustic' 'action' 'adult' 'africa' 'afrikaans' 'alternative'\n",
      " 'alternativepunk' 'ambient' 'americana' 'animated' 'anime' 'arabesk'\n",
      " 'arabic' 'arena' 'argentinetango' 'art' 'audiobook' 'author' 'avantgarde'\n",
      " 'axé' 'baile' 'balkan' 'beats' 'bigroom' 'black' 'bluegrass' 'blues'\n",
      " 'bollywood' 'bossa' 'brazilian' 'breakbeat' 'breaks' 'broadway'\n",
      " 'cantautori' 'cantopop' 'canzone' 'caribbean' 'caucasian' 'celtic'\n",
      " 'chamber' 'chanson' 'children' 'chill' 'chinese' 'choral' 'christian'\n",
      " 'christmas' 'classical' 'classicmetal' 'club' 'colombian' 'comedy'\n",
      " 'conjazz' 'contemporary' 'country' 'cuban' 'dance' 'dancehall' 'dancepop'\n",
      " 'dark' 'death' 'deep' 'deutschrock' 'deutschspr' 'dirty' 'disco' 'dnb'\n",
      " 'documentary' 'downbeat' 'downtempo' 'drum' 'dub' 'dubstep' 'eastern'\n",
      " 'easy' 'electronic' 'electropop' 'emo' 'entehno' 'epicmetal' 'estrada'\n",
      " 'ethnic' 'eurofolk' 'european' 'experimental' 'extrememetal' 'fado'\n",
      " 'fairytail' 'film' 'fitness' 'flamenco' 'folk' 'folklore' 'folkmetal'\n",
      " 'folkrock' 'folktronica' 'forró' 'frankreich' 'französisch' 'french'\n",
      " 'funk' 'future' 'gangsta' 'garage' 'german' 'ghazal' 'gitarre' 'glitch'\n",
      " 'gospel' 'gothic' 'grime' 'grunge' 'gypsy' 'handsup' \"hard'n'heavy\"\n",
      " 'hardcore' 'hardstyle' 'hardtechno' 'hiphop' 'historisch' 'holiday'\n",
      " 'horror' 'house' 'hymn' 'idm' 'independent' 'indian' 'indie' 'indipop'\n",
      " 'industrial' 'inspirational' 'instrumental' 'international' 'irish' 'jam'\n",
      " 'japanese' 'jazz' 'jewish' 'jpop' 'jungle' 'k-pop' 'karadeniz' 'karaoke'\n",
      " 'kayokyoku' 'korean' 'laiko' 'latin' 'latino' 'leftfield' 'local'\n",
      " 'lounge' 'loungeelectronic' 'lovers' 'malaysian' 'mandopop' 'marschmusik'\n",
      " 'meditative' 'mediterranean' 'melodic' 'metal' 'metalcore' 'mexican'\n",
      " 'middle' 'minimal' 'miscellaneous' 'modern' 'mood' 'mpb' 'muslim'\n",
      " 'native' 'neoklassik' 'neue' 'new' 'newage' 'newwave' 'nu' 'nujazz'\n",
      " 'numetal' 'oceania' 'old' 'opera' 'orchestral' 'other' 'piano' 'podcasts'\n",
      " 'pop' 'popdance' 'popelectronic' 'popeurodance' 'poprussian' 'post'\n",
      " 'posthardcore' 'postrock' 'power' 'progmetal' 'progressive' 'psychedelic'\n",
      " 'punjabi' 'punk' 'quebecois' 'ragga' 'ram' 'rancheras' 'rap' 'rave'\n",
      " 'reggae' 'reggaeton' 'regional' 'relax' 'religious' 'retro' 'rhythm'\n",
      " 'rnb' 'rnr' 'rock' 'rockabilly' 'rockalternative' 'rockindie' 'rockother'\n",
      " 'romance' 'roots' 'ruspop' 'rusrap' 'rusrock' 'russian' 'salsa' 'samba'\n",
      " 'scenic' 'schlager' 'self' 'sertanejo' 'shanson' 'shoegazing' 'showtunes'\n",
      " 'singer' 'ska' 'skarock' 'slow' 'smooth' 'soft' 'soul' 'soulful' 'sound'\n",
      " 'soundtrack' 'southern' 'specialty' 'speech' 'spiritual' 'sport'\n",
      " 'stonerrock' 'surf' 'swing' 'synthpop' 'synthrock' 'sängerportrait'\n",
      " 'tango' 'tanzorchester' 'taraftar' 'tatar' 'tech' 'techno' 'teen'\n",
      " 'thrash' 'top' 'traditional' 'tradjazz' 'trance' 'tribal' 'trip'\n",
      " 'triphop' 'tropical' 'türk' 'türkçe' 'ukrrock' 'unknown' 'urban' 'uzbek'\n",
      " 'variété' 'vi' 'videogame' 'vocal' 'western' 'world' 'worldbeat' 'ïîï'\n",
      " 'электроника']\n"
     ]
    }
   ],
   "source": [
    "print(df['genre'].sort_values().unique())# Проверка на неявные дубликаты"
   ]
  },
  {
   "cell_type": "markdown",
   "metadata": {
    "deletable": false,
    "editable": false,
    "id": "jz6a9-7HQUDd"
   },
   "source": [
    "**Выводы**\n",
    "\n",
    "Предобработка обнаружила три проблемы в данных:\n",
    "\n",
    "- нарушения в стиле заголовков,\n",
    "- пропущенные значения,\n",
    "- дубликаты — явные и неявные.\n",
    "\n",
    "Вы исправили заголовки, чтобы упростить работу с таблицей. Без дубликатов исследование станет более точным.\n",
    "\n",
    "Пропущенные значения вы заменили на `'unknown'`. Ещё предстоит увидеть, не повредят ли исследованию пропуски в колонке `genre`.\n",
    "\n",
    "Теперь можно перейти к проверке гипотез. "
   ]
  },
  {
   "cell_type": "markdown",
   "metadata": {
    "deletable": false,
    "editable": false,
    "id": "WttZHXH0SqKk"
   },
   "source": [
    "## Проверка гипотез"
   ]
  },
  {
   "cell_type": "markdown",
   "metadata": {
    "deletable": false,
    "editable": false,
    "id": "Im936VVi_Zcu"
   },
   "source": [
    "### Сравнение поведения пользователей двух столиц"
   ]
  },
  {
   "cell_type": "markdown",
   "metadata": {
    "deletable": false,
    "editable": false,
    "id": "nwt_MuaL_Zcu"
   },
   "source": [
    "Первая гипотеза утверждает, что пользователи по-разному слушают музыку в Москве и Санкт-Петербурге. Проверьте это предположение по данным о трёх днях недели — понедельнике, среде и пятнице. Для этого:\n",
    "\n",
    "* Разделите пользователей Москвы и Санкт-Петербурга.\n",
    "* Сравните, сколько треков послушала каждая группа пользователей в понедельник, среду и пятницу.\n"
   ]
  },
  {
   "cell_type": "markdown",
   "metadata": {
    "deletable": false,
    "editable": false,
    "id": "8Dw_YMmT_Zcu",
    "tags": [
     "start_task"
    ]
   },
   "source": [
    "**Задание 18**\n",
    "\n",
    "Для тренировки сначала выполните каждый из расчётов по отдельности. \n",
    "\n",
    "Оцените активность пользователей в каждом городе. Сгруппируйте данные по городу и посчитайте прослушивания в каждой группе.\n",
    "\n"
   ]
  },
  {
   "cell_type": "code",
   "execution_count": 20,
   "metadata": {
    "deletable": false,
    "id": "0_Qs96oh_Zcu"
   },
   "outputs": [
    {
     "name": "stdout",
     "output_type": "stream",
     "text": [
      "city\n",
      "Moscow              42741\n",
      "Saint-Petersburg    18512\n",
      "Name: track, dtype: int64\n"
     ]
    }
   ],
   "source": [
    " # Подсчёт прослушиваний в каждом городе\n",
    "city_df = df.groupby('city')\n",
    "city_df = city_df['track'].count() \n",
    "print(city_df)\n"
   ]
  },
  {
   "cell_type": "markdown",
   "metadata": {
    "deletable": false,
    "editable": false,
    "id": "dzli3w8o_Zcu",
    "tags": [
     "start_task"
    ]
   },
   "source": [
    "В Москве прослушиваний больше, чем в Петербурге. Из этого не следует, что московские пользователи чаще слушают музыку. Просто самих пользователей в Москве больше.\n",
    "\n",
    "**Задание 19**\n",
    "\n",
    "Теперь сгруппируйте данные по дню недели и посчитайте прослушивания в понедельник, среду и пятницу. Учтите, что в данных есть информация о прослушиваниях только за эти дни.\n"
   ]
  },
  {
   "cell_type": "code",
   "execution_count": 21,
   "metadata": {
    "deletable": false,
    "id": "uZMKjiJz_Zcu"
   },
   "outputs": [
    {
     "name": "stdout",
     "output_type": "stream",
     "text": [
      "day\n",
      "Friday       21840\n",
      "Monday       21354\n",
      "Wednesday    18059\n",
      "Name: track, dtype: int64\n"
     ]
    }
   ],
   "source": [
    "week_df = df.groupby('day')['track'].count()\n",
    "monday_df = week_df[0]\n",
    "wensday_df = week_df[1]\n",
    "friday_df = week_df[2]# Подсчёт прослушиваний в каждый из трёх дней\n",
    "print(week_df)\n",
    " "
   ]
  },
  {
   "cell_type": "markdown",
   "metadata": {
    "deletable": false,
    "editable": false,
    "id": "cC2tNrlL_Zcu"
   },
   "source": [
    "В среднем пользователи из двух городов менее активны по средам. Но картина может измениться, если рассмотреть каждый город в отдельности."
   ]
  },
  {
   "cell_type": "markdown",
   "metadata": {
    "deletable": false,
    "editable": false,
    "id": "POzs8bGa_Zcu",
    "tags": [
     "start_task"
    ]
   },
   "source": [
    "**Задание 20**\n",
    "\n",
    "\n",
    "Вы видели, как работает группировка по городу и по дням недели. Теперь напишите функцию, которая объединит два эти расчёта.\n",
    "\n",
    "Создайте функцию `number_tracks()`, которая посчитает прослушивания для заданного дня и города. Ей понадобятся два параметра:\n",
    "* день недели,\n",
    "* название города.\n",
    "\n",
    "В функции сохраните в переменную строки исходной таблицы, у которых значение:\n",
    "  * в колонке `day` равно параметру `day`,\n",
    "  * в колонке `city` равно параметру `city`.\n",
    "\n",
    "Для этого примените последовательную фильтрацию с логической индексацией (или сложные логические выражения в одну строку, если вы уже знакомы с ними).\n",
    "\n",
    "Затем посчитайте значения в столбце `user_id` получившейся таблицы. Результат сохраните в новую переменную. Верните эту переменную из функции."
   ]
  },
  {
   "cell_type": "code",
   "execution_count": 22,
   "metadata": {
    "deletable": false,
    "id": "Nz3GdQB1_Zcu"
   },
   "outputs": [],
   "source": [
    "def number_tracks(day,city):\n",
    "    track_list = df[df['day'] == day] \n",
    "    track_list = track_list[df['city'] == city] \n",
    "    track_list_count =  track_list['user_id'].count()\n",
    "    return track_list_count # <создание функции number_tracks()>\n",
    "# Объявляется функция с двумя параметрами: day, city.\n",
    "# В переменной track_list сохраняются те строки таблицы df, для которых \n",
    "# значение в столбце 'day' равно параметру day и одновременно значение\n",
    "# в столбце 'city' равно параметру city (используйте последовательную фильтрацию\n",
    "# с помощью логической индексации или сложные логические выражения в одну строку, если вы уже знакомы с ними).\n",
    "# В переменной track_list_count сохраняется число значений столбца 'user_id',\n",
    "# рассчитанное методом count() для таблицы track_list.\n",
    "# Функция возвращает число - значение track_list_count.\n",
    "\n",
    "# Функция для подсчёта прослушиваний для конкретного города и дня.\n",
    "# С помощью последовательной фильтрации с логической индексацией она \n",
    "# сначала получит из исходной таблицы строки с нужным днём,\n",
    "# затем из результата отфильтрует строки с нужным городом,\n",
    "# методом count() посчитает количество значений в колонке user_id. \n",
    "# Это количество функция вернёт в качестве результата\n"
   ]
  },
  {
   "cell_type": "markdown",
   "metadata": {
    "deletable": false,
    "editable": false,
    "id": "ytf7xFrFJQ2r",
    "tags": [
     "start_task"
    ]
   },
   "source": [
    "**Задание 21**\n",
    "\n",
    "Вызовите `number_tracks()` шесть раз, меняя значение параметров — так, чтобы получить данные для каждого города в каждый из трёх дней."
   ]
  },
  {
   "cell_type": "code",
   "execution_count": 23,
   "metadata": {
    "deletable": false,
    "id": "rJcRATNQ_Zcu"
   },
   "outputs": [
    {
     "name": "stderr",
     "output_type": "stream",
     "text": [
      "/tmp/ipykernel_31/2297437073.py:3: UserWarning: Boolean Series key will be reindexed to match DataFrame index.\n",
      "  track_list = track_list[df['city'] == city]\n"
     ]
    }
   ],
   "source": [
    "m1 = number_tracks('Monday', 'Moscow')# количество прослушиваний в Москве по понедельникам"
   ]
  },
  {
   "cell_type": "code",
   "execution_count": 24,
   "metadata": {
    "deletable": false,
    "id": "hq_ncZ5T_Zcu"
   },
   "outputs": [
    {
     "name": "stderr",
     "output_type": "stream",
     "text": [
      "/tmp/ipykernel_31/2297437073.py:3: UserWarning: Boolean Series key will be reindexed to match DataFrame index.\n",
      "  track_list = track_list[df['city'] == city]\n"
     ]
    }
   ],
   "source": [
    "s1 = number_tracks('Monday', 'Saint-Petersburg')# количество прослушиваний в Санкт-Петербурге по понедельникам"
   ]
  },
  {
   "cell_type": "code",
   "execution_count": 25,
   "metadata": {
    "deletable": false,
    "id": "_NTy2VPU_Zcu"
   },
   "outputs": [
    {
     "name": "stderr",
     "output_type": "stream",
     "text": [
      "/tmp/ipykernel_31/2297437073.py:3: UserWarning: Boolean Series key will be reindexed to match DataFrame index.\n",
      "  track_list = track_list[df['city'] == city]\n"
     ]
    }
   ],
   "source": [
    "m2 = number_tracks('Wednesday', 'Moscow')# количество прослушиваний в Москве по средам"
   ]
  },
  {
   "cell_type": "code",
   "execution_count": 26,
   "metadata": {
    "deletable": false,
    "id": "j2y3TAwo_Zcu"
   },
   "outputs": [
    {
     "name": "stderr",
     "output_type": "stream",
     "text": [
      "/tmp/ipykernel_31/2297437073.py:3: UserWarning: Boolean Series key will be reindexed to match DataFrame index.\n",
      "  track_list = track_list[df['city'] == city]\n"
     ]
    }
   ],
   "source": [
    "s2 = number_tracks('Wednesday', 'Saint-Petersburg')# количество прослушиваний в Санкт-Петербурге по средам"
   ]
  },
  {
   "cell_type": "code",
   "execution_count": 27,
   "metadata": {
    "deletable": false,
    "id": "vYDw5u_K_Zcu"
   },
   "outputs": [
    {
     "name": "stderr",
     "output_type": "stream",
     "text": [
      "/tmp/ipykernel_31/2297437073.py:3: UserWarning: Boolean Series key will be reindexed to match DataFrame index.\n",
      "  track_list = track_list[df['city'] == city]\n"
     ]
    }
   ],
   "source": [
    "m3 = number_tracks('Friday', 'Moscow')# количество прослушиваний в Москве по пятницам"
   ]
  },
  {
   "cell_type": "code",
   "execution_count": 28,
   "metadata": {
    "deletable": false,
    "id": "8_yzFtW3_Zcu"
   },
   "outputs": [
    {
     "name": "stderr",
     "output_type": "stream",
     "text": [
      "/tmp/ipykernel_31/2297437073.py:3: UserWarning: Boolean Series key will be reindexed to match DataFrame index.\n",
      "  track_list = track_list[df['city'] == city]\n"
     ]
    }
   ],
   "source": [
    "s3 = number_tracks('Friday', 'Saint-Petersburg')# количество прослушиваний в Санкт-Петербурге по пятницам"
   ]
  },
  {
   "cell_type": "markdown",
   "metadata": {
    "deletable": false,
    "editable": false,
    "id": "7QXffbO-_Zcu",
    "tags": [
     "start_task"
    ]
   },
   "source": [
    "**Задание 22**\n",
    "\n",
    "Создайте c помощью конструктора `pd.DataFrame` таблицу, где\n",
    "* названия колонок — `['city', 'monday', 'wednesday', 'friday']`;\n",
    "* данные — результаты, которые вы получили с помощью `number_tracks`."
   ]
  },
  {
   "cell_type": "code",
   "execution_count": 42,
   "metadata": {
    "deletable": false,
    "id": "APAcLpOr_Zcu"
   },
   "outputs": [
    {
     "data": {
      "text/html": [
       "<div>\n",
       "<style scoped>\n",
       "    .dataframe tbody tr th:only-of-type {\n",
       "        vertical-align: middle;\n",
       "    }\n",
       "\n",
       "    .dataframe tbody tr th {\n",
       "        vertical-align: top;\n",
       "    }\n",
       "\n",
       "    .dataframe thead th {\n",
       "        text-align: right;\n",
       "    }\n",
       "</style>\n",
       "<table border=\"1\" class=\"dataframe\">\n",
       "  <thead>\n",
       "    <tr style=\"text-align: right;\">\n",
       "      <th></th>\n",
       "      <th>ciшшш</th>\n",
       "      <th>mo</th>\n",
       "      <th>we</th>\n",
       "      <th>fr</th>\n",
       "    </tr>\n",
       "  </thead>\n",
       "  <tbody>\n",
       "    <tr>\n",
       "      <th>0</th>\n",
       "      <td>5</td>\n",
       "      <td>12</td>\n",
       "      <td>76</td>\n",
       "      <td>32</td>\n",
       "    </tr>\n",
       "    <tr>\n",
       "      <th>1</th>\n",
       "      <td>9</td>\n",
       "      <td>15</td>\n",
       "      <td>21</td>\n",
       "      <td>93</td>\n",
       "    </tr>\n",
       "    <tr>\n",
       "      <th>2</th>\n",
       "      <td>87</td>\n",
       "      <td>2</td>\n",
       "      <td>41</td>\n",
       "      <td>58</td>\n",
       "    </tr>\n",
       "    <tr>\n",
       "      <th>3</th>\n",
       "      <td>30</td>\n",
       "      <td>24</td>\n",
       "      <td>63</td>\n",
       "      <td>49</td>\n",
       "    </tr>\n",
       "  </tbody>\n",
       "</table>\n",
       "</div>"
      ],
      "text/plain": [
       "   ciшшш  mo  we  fr\n",
       "0      5  12  76  32\n",
       "1      9  15  21  93\n",
       "2     87   2  41  58\n",
       "3     30  24  63  49"
      ]
     },
     "execution_count": 42,
     "metadata": {},
     "output_type": "execute_result"
    }
   ],
   "source": [
    "first_line = ['ciшшш', 'mo', 'we', 'fr'] # Таблица с результатами\n",
    "data = [[5, 12,76,32], [9, 15, 21, 93],[87, 2, 41, 58],[30, 24, 63, 49]]\n",
    "info = pd.DataFrame(data = data, columns = first_line)\n",
    "info "
   ]
  },
  {
   "cell_type": "markdown",
   "metadata": {
    "deletable": false,
    "editable": false,
    "id": "-EgPIHYu_Zcu"
   },
   "source": [
    "**Выводы**\n",
    "\n",
    "Данные показывают разницу поведения пользователей:\n",
    "\n",
    "- В Москве пик прослушиваний приходится на понедельник и пятницу, а в среду заметен спад.\n",
    "- В Петербурге, наоборот, больше слушают музыку по средам. Активность в понедельник и пятницу здесь почти в равной мере уступает среде.\n",
    "\n",
    "Значит, данные говорят в пользу первой гипотезы."
   ]
  },
  {
   "cell_type": "markdown",
   "metadata": {
    "deletable": false,
    "editable": false,
    "id": "atZAxtq4_Zcu"
   },
   "source": [
    "### Музыка в начале и в конце недели"
   ]
  },
  {
   "cell_type": "markdown",
   "metadata": {
    "deletable": false,
    "editable": false,
    "id": "eXrQqXFH_Zcu"
   },
   "source": [
    "Согласно второй гипотезе, утром в понедельник в Москве преобладают одни жанры, а в Петербурге — другие. Так же и вечером пятницы преобладают разные жанры — в зависимости от города."
   ]
  },
  {
   "cell_type": "markdown",
   "metadata": {
    "deletable": false,
    "editable": false,
    "id": "S8UcW6Hw_Zcu",
    "tags": [
     "start_task"
    ]
   },
   "source": [
    "**Задание 23**\n",
    "\n",
    "Сохраните таблицы с данными в две переменные:\n",
    "* по Москве — в `moscow_general`;\n",
    "* по Санкт-Петербургу — в `spb_general`."
   ]
  },
  {
   "cell_type": "code",
   "execution_count": 30,
   "metadata": {
    "deletable": false,
    "id": "qeaFfM_P_Zcu"
   },
   "outputs": [],
   "source": [
    "# получение таблицы moscow_general из тех строк таблицы df, \n",
    "# для которых значение в столбце 'city' равно 'Moscow'\n",
    "moscow_general = df[df['city'] == 'Moscow']\n"
   ]
  },
  {
   "cell_type": "code",
   "execution_count": 31,
   "metadata": {
    "deletable": false,
    "id": "ORaVRKto_Zcu"
   },
   "outputs": [],
   "source": [
    "# получение таблицы spb_general из тех строк таблицы df,\n",
    "# для которых значение в столбце 'city' равно 'Saint-Petersburg'\n",
    "spb_general = df[df['city'] == 'Saint-Petersburg']\n"
   ]
  },
  {
   "cell_type": "markdown",
   "metadata": {
    "deletable": false,
    "editable": false,
    "id": "MEJV-CX2_Zcu",
    "tags": [
     "start_task"
    ]
   },
   "source": [
    "**Задание 24**\n",
    "\n",
    "Создайте функцию `genre_weekday()` с четырьмя параметрами:\n",
    "* таблица (датафрейм) с данными,\n",
    "* день недели,\n",
    "* начальная временная метка в формате 'hh:mm', \n",
    "* последняя временная метка в формате 'hh:mm'.\n",
    "\n",
    "Функция должна вернуть информацию о топ-10 жанров тех треков, которые прослушивали в указанный день, в промежутке между двумя отметками времени."
   ]
  },
  {
   "cell_type": "code",
   "execution_count": 32,
   "metadata": {
    "deletable": false,
    "id": "laJT9BYl_Zcu"
   },
   "outputs": [],
   "source": [
    "# Объявление функции genre_weekday() с параметрами table, day, time1, time2,\n",
    "# которая возвращает информацию о самых популярных жанрах в указанный день в\n",
    "# заданное время:\n",
    "# 1) в переменную genre_df сохраняются те строки переданного датафрейма table, для\n",
    "#    которых одновременно:\n",
    "#    - значение в столбце day равно значению аргумента day\n",
    "#    - значение в столбце time больше значения аргумента time1\n",
    "#    - значение в столбце time меньше значения аргумента time2\n",
    "#    Используйте последовательную фильтрацию с помощью логической индексации.\n",
    "# 2) сгруппировать датафрейм genre_df по столбцу genre, взять один из его\n",
    "#    столбцов и посчитать методом count() количество записей для каждого из\n",
    "#    присутствующих жанров, получившийся Series записать в переменную\n",
    "#    genre_df_count\n",
    "# 3) отсортировать genre_df_count по убыванию встречаемости и сохранить\n",
    "#    в переменную genre_df_sorted\n",
    "# 4) вернуть Series из 10 первых значений genre_df_sorted, это будут топ-10\n",
    "#    популярных жанров (в указанный день, в заданное время)\n",
    "\n",
    "def genre_weekday(df, day, time1, time2):\n",
    "    # последовательная фильтрация\n",
    "    # оставляем в genre_df только те строки df, у которых день равен day\n",
    "    genre_df = df[df['day']==day]# ваш код здесь\n",
    "    # оставляем в genre_df только те строки genre_df, у которых время меньше time2\n",
    "    genre_df = genre_df[genre_df['time']<time2]\n",
    "    # оставляем в genre_df только те строки genre_df, у которых время больше time1\n",
    "    genre_df = genre_df[genre_df['time']>time1]# ваш код здесь\n",
    "    # сгруппируем отфильтрованный датафрейм по столбцу с названиями жанров, возьмём столбец genre и посчитаем кол-во строк для каждого жанра методом count()\n",
    "    genre_df_grouped = genre_df.groupby('genre')['genre'].count()# ваш код здесь\n",
    "   \n",
    "    # отсортируем результат по убыванию (чтобы в начале Series оказались самые популярные жанры)\n",
    "    genre_df_sorted =   genre_df_grouped.sort_values(ascending = False)# ваш код здесь\n",
    "   \n",
    "    # вернём Series с 10 самыми популярными жанрами в указанный отрезок времени заданного дня\n",
    "    return genre_df_sorted[:10]\n",
    " "
   ]
  },
  {
   "cell_type": "markdown",
   "metadata": {
    "deletable": false,
    "editable": false,
    "id": "la2s2_PF_Zcu",
    "tags": [
     "start_task"
    ]
   },
   "source": [
    "**Задание 25**\n",
    "\n",
    "\n",
    "Cравните результаты функции `genre_weekday()` для Москвы и Санкт-Петербурга в понедельник утром (с 7:00 до 11:00) и в пятницу вечером (с 17:00 до 23:00):"
   ]
  },
  {
   "cell_type": "code",
   "execution_count": 33,
   "metadata": {
    "deletable": false,
    "id": "yz7itPUQ_Zcu"
   },
   "outputs": [
    {
     "data": {
      "text/plain": [
       "genre\n",
       "pop            781\n",
       "dance          549\n",
       "electronic     480\n",
       "rock           474\n",
       "hiphop         286\n",
       "ruspop         186\n",
       "world          181\n",
       "rusrap         175\n",
       "alternative    164\n",
       "unknown        161\n",
       "Name: genre, dtype: int64"
      ]
     },
     "execution_count": 33,
     "metadata": {},
     "output_type": "execute_result"
    }
   ],
   "source": [
    "genre_weekday(moscow_general,'Monday','07:00', '11:00')# вызов функции для утра понедельника в Москве (вместо df — таблица moscow_general)\n",
    "# объекты, хранящие время, являются строками и сравниваются как строки\n",
    "# пример вызова: genre_weekday(moscow_general, 'Monday', '07:00', '11:00')"
   ]
  },
  {
   "cell_type": "code",
   "execution_count": 34,
   "metadata": {
    "deletable": false,
    "id": "kwUcHPdy_Zcu"
   },
   "outputs": [
    {
     "data": {
      "text/plain": [
       "genre\n",
       "pop            218\n",
       "dance          182\n",
       "rock           162\n",
       "electronic     147\n",
       "hiphop          80\n",
       "ruspop          64\n",
       "alternative     58\n",
       "rusrap          55\n",
       "jazz            44\n",
       "classical       40\n",
       "Name: genre, dtype: int64"
      ]
     },
     "execution_count": 34,
     "metadata": {},
     "output_type": "execute_result"
    }
   ],
   "source": [
    "genre_weekday(spb_general,'Monday','07:00','11:00')# вызов функции для утра понедельника в Петербурге (вместо df — таблица spb_general)"
   ]
  },
  {
   "cell_type": "code",
   "execution_count": 35,
   "metadata": {
    "deletable": false,
    "id": "EzXVRE1o_Zcu"
   },
   "outputs": [
    {
     "data": {
      "text/plain": [
       "genre\n",
       "pop            713\n",
       "rock           517\n",
       "dance          495\n",
       "electronic     482\n",
       "hiphop         273\n",
       "world          208\n",
       "ruspop         170\n",
       "alternative    163\n",
       "classical      163\n",
       "rusrap         142\n",
       "Name: genre, dtype: int64"
      ]
     },
     "execution_count": 35,
     "metadata": {},
     "output_type": "execute_result"
    }
   ],
   "source": [
    "genre_weekday(moscow_general,'Friday','17:00','23:00')# вызов функции для вечера пятницы в Москве"
   ]
  },
  {
   "cell_type": "code",
   "execution_count": 36,
   "metadata": {
    "deletable": false,
    "id": "JZaEKu5v_Zcu"
   },
   "outputs": [
    {
     "data": {
      "text/plain": [
       "genre\n",
       "pop            256\n",
       "electronic     216\n",
       "rock           216\n",
       "dance          210\n",
       "hiphop          97\n",
       "alternative     63\n",
       "jazz            61\n",
       "classical       60\n",
       "rusrap          59\n",
       "world           54\n",
       "Name: genre, dtype: int64"
      ]
     },
     "execution_count": 36,
     "metadata": {},
     "output_type": "execute_result"
    }
   ],
   "source": [
    "genre_weekday(spb_general,'Friday','17:00','23:00')# вызов функции для вечера пятницы в Петербурге"
   ]
  },
  {
   "cell_type": "markdown",
   "metadata": {
    "deletable": false,
    "editable": false,
    "id": "wrCe4MNX_Zcu"
   },
   "source": [
    "**Выводы**\n",
    "\n",
    "Если сравнить топ-10 жанров в понедельник утром, можно сделать такие выводы:\n",
    "\n",
    "1. В Москве и Петербурге слушают похожую музыку. Единственное отличие — в московский рейтинг вошёл жанр “world”, а в петербургский — джаз и классика.\n",
    "\n",
    "2. В Москве пропущенных значений оказалось так много, что значение `'unknown'` заняло десятое место среди самых популярных жанров. Значит, пропущенные значения занимают существенную долю в данных и угрожают достоверности исследования.\n",
    "\n",
    "Вечер пятницы не меняет эту картину. Некоторые жанры поднимаются немного выше, другие спускаются, но в целом топ-10 остаётся тем же самым.\n",
    "\n",
    "Таким образом, вторая гипотеза подтвердилась лишь частично:\n",
    "* Пользователи слушают похожую музыку в начале недели и в конце.\n",
    "* Разница между Москвой и Петербургом не слишком выражена. В Москве чаще слушают русскую популярную музыку, в Петербурге — джаз.\n",
    "\n",
    "Однако пропуски в данных ставят под сомнение этот результат. В Москве их так много, что рейтинг топ-10 мог бы выглядеть иначе, если бы не утерянные  данные о жанрах."
   ]
  },
  {
   "cell_type": "markdown",
   "metadata": {
    "deletable": false,
    "editable": false,
    "id": "JolODAqr_Zcu"
   },
   "source": [
    "### Жанровые предпочтения в Москве и Петербурге\n",
    "\n",
    "Гипотеза: Петербург — столица рэпа, музыку этого жанра там слушают чаще, чем в Москве.  А Москва — город контрастов, в котором, тем не менее, преобладает поп-музыка."
   ]
  },
  {
   "cell_type": "markdown",
   "metadata": {
    "deletable": false,
    "editable": false,
    "id": "DlegSvaT_Zcu",
    "tags": [
     "start_task"
    ]
   },
   "source": [
    "**Задание 26**\n",
    "\n",
    "Сгруппируйте таблицу `moscow_general` по жанру и посчитайте прослушивания треков каждого жанра методом `count()`. Затем отсортируйте результат в порядке убывания и сохраните его в таблице `moscow_genres`."
   ]
  },
  {
   "cell_type": "code",
   "execution_count": 37,
   "metadata": {
    "deletable": false,
    "id": "r19lIPke_Zcu"
   },
   "outputs": [
    {
     "name": "stdout",
     "output_type": "stream",
     "text": [
      "genre\n",
      "pop            5892\n",
      "dance          4435\n",
      "rock           3965\n",
      "electronic     3786\n",
      "hiphop         2096\n",
      "               ... \n",
      "neoklassik        1\n",
      "mood              1\n",
      "metalcore         1\n",
      "marschmusik       1\n",
      "ïîï               1\n",
      "Name: genre, Length: 267, dtype: int64\n"
     ]
    }
   ],
   "source": [
    "moscow_genres = moscow_general.groupby('genre')['genre'].count().sort_values(ascending=False)# одной строкой: группировка таблицы moscow_general по столбцу 'genre', \n",
    "print(moscow_genres)\n",
    " # сортировка получившегося Series в порядке убывания и сохранение в moscow_genres"
   ]
  },
  {
   "cell_type": "markdown",
   "metadata": {
    "deletable": false,
    "editable": false,
    "id": "6kMuomxTiIr8",
    "tags": [
     "start_task"
    ]
   },
   "source": [
    "**Задание 27**\n",
    "\n",
    "Выведите на экран первые десять строк `moscow_genres`:"
   ]
  },
  {
   "cell_type": "code",
   "execution_count": 38,
   "metadata": {
    "deletable": false,
    "id": "WhCSooF8_Zcv"
   },
   "outputs": [
    {
     "name": "stdout",
     "output_type": "stream",
     "text": [
      "genre\n",
      "pop            5892\n",
      "dance          4435\n",
      "rock           3965\n",
      "electronic     3786\n",
      "hiphop         2096\n",
      "classical      1616\n",
      "world          1432\n",
      "alternative    1379\n",
      "ruspop         1372\n",
      "rusrap         1161\n",
      "Name: genre, dtype: int64\n"
     ]
    }
   ],
   "source": [
    "print(moscow_genres.head(10))# просмотр первых 10 строк moscow_genres"
   ]
  },
  {
   "cell_type": "markdown",
   "metadata": {
    "deletable": false,
    "editable": false,
    "id": "cnPG2vnN_Zcv",
    "tags": [
     "start_task"
    ]
   },
   "source": [
    "**Задание 28**\n",
    "\n",
    "\n",
    "Теперь повторите то же и для Петербурга.\n",
    "\n",
    "Сгруппируйте таблицу `spb_general` по жанру. Посчитайте прослушивания треков каждого жанра. Результат отсортируйте в порядке убывания и сохраните в таблице `spb_genres`:\n"
   ]
  },
  {
   "cell_type": "code",
   "execution_count": 39,
   "metadata": {
    "deletable": false,
    "id": "gluLIpE7_Zcv"
   },
   "outputs": [
    {
     "name": "stdout",
     "output_type": "stream",
     "text": [
      "genre\n",
      "pop              2431\n",
      "dance            1932\n",
      "rock             1879\n",
      "electronic       1736\n",
      "hiphop            960\n",
      "                 ... \n",
      "international       1\n",
      "independent         1\n",
      "idm                 1\n",
      "gypsy               1\n",
      "электроника         1\n",
      "Name: genre, Length: 211, dtype: int64\n"
     ]
    }
   ],
   "source": [
    "spb_genres = spb_general.groupby('genre')['genre'].count().sort_values(ascending=False)# одной строкой: группировка таблицы moscow_general по столбцу 'genre', \n",
    "print(spb_genres)# одной строкой: группировка таблицы spb_general по столбцу 'genre', \n",
    "# подсчёт числа значений 'genre' в этой группировке методом count(), \n",
    "# сортировка получившегося Series в порядке убывания и сохранение в spb_genres"
   ]
  },
  {
   "cell_type": "markdown",
   "metadata": {
    "deletable": false,
    "editable": false,
    "id": "5Doha_ODgyQ8",
    "tags": [
     "start_task"
    ]
   },
   "source": [
    "**Задание 29**\n",
    "\n",
    "Выведите на экран первые десять строк `spb_genres`:"
   ]
  },
  {
   "cell_type": "code",
   "execution_count": 40,
   "metadata": {
    "deletable": false,
    "id": "uaGJHjVU_Zcv"
   },
   "outputs": [
    {
     "name": "stdout",
     "output_type": "stream",
     "text": [
      "genre\n",
      "pop            2431\n",
      "dance          1932\n",
      "rock           1879\n",
      "electronic     1736\n",
      "hiphop          960\n",
      "alternative     649\n",
      "classical       646\n",
      "rusrap          564\n",
      "ruspop          538\n",
      "world           515\n",
      "Name: genre, dtype: int64\n"
     ]
    }
   ],
   "source": [
    "print(spb_genres.head(10))# просмотр первых 10 строк spb_genres"
   ]
  },
  {
   "cell_type": "markdown",
   "metadata": {
    "deletable": false,
    "editable": false,
    "id": "RY51YJYu_Zcv"
   },
   "source": [
    "**Выводы**"
   ]
  },
  {
   "cell_type": "markdown",
   "metadata": {
    "deletable": false,
    "editable": false,
    "id": "nVhnJEm__Zcv"
   },
   "source": [
    "Гипотеза частично подтвердилась:\n",
    "* Поп-музыка — самый популярный жанр в Москве, как и предполагала гипотеза. Более того, в топ-10 жанров встречается близкий жанр — русская популярная музыка.\n",
    "* Вопреки ожиданиям, рэп одинаково популярен в Москве и Петербурге. \n"
   ]
  },
  {
   "cell_type": "markdown",
   "metadata": {
    "deletable": false,
    "editable": false,
    "id": "ykKQ0N65_Zcv"
   },
   "source": [
    "## Итоги исследования"
   ]
  },
  {
   "cell_type": "markdown",
   "metadata": {
    "deletable": false,
    "editable": false,
    "id": "tjUwbHb3_Zcv"
   },
   "source": [
    "Вы проверили три гипотезы и установили:\n",
    "\n",
    "1. День недели по-разному влияет на активность пользователей в Москве и Петербурге. \n",
    "\n",
    "Первая гипотеза полностью подтвердилась.\n",
    "\n",
    "2. Музыкальные предпочтения не сильно меняются в течение недели — будь то Москва или Петербург. Небольшие различия заметны в начале недели, по понедельникам:\n",
    "* в Москве слушают музыку жанра “world”,\n",
    "* в Петербурге — джаз и классику.\n",
    "\n",
    "Таким образом, вторая гипотеза подтвердилась лишь отчасти. Этот результат мог оказаться иным, если бы не пропуски в данных.\n",
    "\n",
    "3. Во вкусах пользователей Москвы и Петербурга больше общего чем различий. Вопреки ожиданиям, предпочтения жанров в Петербурге напоминают московские.\n",
    "\n",
    "Третья гипотеза не подтвердилась. Если различия в предпочтениях и существуют, на основной массе пользователей они незаметны.\n",
    "\n",
    "**На практике исследования содержат проверки статистических гипотез.**\n",
    "Из данных одного сервиса не всегда можно сделать вывод о всех жителях города.\n",
    "Проверки статистических гипотез покажут, насколько они достоверны, исходя из имеющихся данных. \n",
    "С методами проверок гипотез вы ещё познакомитесь в следующих темах."
   ]
  }
 ],
 "metadata": {
  "ExecuteTimeLog": [
   {
    "duration": 364,
    "start_time": "2022-10-16T08:08:49.236Z"
   },
   {
    "duration": 422,
    "start_time": "2022-10-16T08:10:43.300Z"
   },
   {
    "duration": 178,
    "start_time": "2022-10-16T08:10:46.003Z"
   },
   {
    "duration": 16,
    "start_time": "2022-10-16T08:21:51.749Z"
   },
   {
    "duration": 25,
    "start_time": "2022-10-16T08:47:27.612Z"
   },
   {
    "duration": 3,
    "start_time": "2022-10-16T09:04:08.344Z"
   },
   {
    "duration": 4,
    "start_time": "2022-10-16T09:10:10.788Z"
   },
   {
    "duration": 4,
    "start_time": "2022-10-16T09:10:34.083Z"
   },
   {
    "duration": 4,
    "start_time": "2022-10-16T09:11:45.918Z"
   },
   {
    "duration": 2,
    "start_time": "2022-10-16T09:12:20.471Z"
   },
   {
    "duration": 153,
    "start_time": "2022-10-16T09:12:20.475Z"
   },
   {
    "duration": 7,
    "start_time": "2022-10-16T09:12:20.630Z"
   },
   {
    "duration": 34,
    "start_time": "2022-10-16T09:12:20.639Z"
   },
   {
    "duration": 3,
    "start_time": "2022-10-16T09:12:20.675Z"
   },
   {
    "duration": 17,
    "start_time": "2022-10-16T09:12:20.679Z"
   },
   {
    "duration": 12,
    "start_time": "2022-10-16T09:12:20.698Z"
   },
   {
    "duration": 3,
    "start_time": "2022-10-16T09:12:27.082Z"
   },
   {
    "duration": 155,
    "start_time": "2022-10-16T09:12:27.086Z"
   },
   {
    "duration": 6,
    "start_time": "2022-10-16T09:12:27.243Z"
   },
   {
    "duration": 40,
    "start_time": "2022-10-16T09:12:27.250Z"
   },
   {
    "duration": 10,
    "start_time": "2022-10-16T09:12:27.293Z"
   },
   {
    "duration": 23,
    "start_time": "2022-10-16T09:12:27.304Z"
   },
   {
    "duration": 46,
    "start_time": "2022-10-16T09:12:27.328Z"
   },
   {
    "duration": 24,
    "start_time": "2022-10-16T09:12:27.375Z"
   },
   {
    "duration": 10,
    "start_time": "2022-10-16T09:12:27.400Z"
   },
   {
    "duration": 21,
    "start_time": "2022-10-16T09:12:27.411Z"
   },
   {
    "duration": 10,
    "start_time": "2022-10-16T09:12:27.433Z"
   },
   {
    "duration": 19,
    "start_time": "2022-10-16T09:12:27.445Z"
   },
   {
    "duration": 27,
    "start_time": "2022-10-16T09:12:27.468Z"
   },
   {
    "duration": 34,
    "start_time": "2022-10-16T09:12:27.496Z"
   },
   {
    "duration": 25,
    "start_time": "2022-10-16T09:12:27.531Z"
   },
   {
    "duration": 30,
    "start_time": "2022-10-16T09:12:27.558Z"
   },
   {
    "duration": 26,
    "start_time": "2022-10-16T09:12:27.590Z"
   },
   {
    "duration": 24,
    "start_time": "2022-10-16T09:12:27.617Z"
   },
   {
    "duration": 25,
    "start_time": "2022-10-16T09:12:27.642Z"
   },
   {
    "duration": 27,
    "start_time": "2022-10-16T09:12:27.668Z"
   },
   {
    "duration": 16,
    "start_time": "2022-10-16T09:12:27.696Z"
   },
   {
    "duration": 7,
    "start_time": "2022-10-16T09:12:27.713Z"
   },
   {
    "duration": 10,
    "start_time": "2022-10-16T09:12:27.721Z"
   },
   {
    "duration": 9,
    "start_time": "2022-10-16T09:12:27.732Z"
   },
   {
    "duration": 8,
    "start_time": "2022-10-16T09:12:27.742Z"
   },
   {
    "duration": 5,
    "start_time": "2022-10-16T09:12:27.752Z"
   },
   {
    "duration": 5,
    "start_time": "2022-10-16T09:12:27.758Z"
   },
   {
    "duration": 4,
    "start_time": "2022-10-16T09:12:27.765Z"
   },
   {
    "duration": 10,
    "start_time": "2022-10-16T09:12:27.770Z"
   },
   {
    "duration": 86,
    "start_time": "2022-10-16T09:12:27.781Z"
   },
   {
    "duration": 0,
    "start_time": "2022-10-16T09:12:27.869Z"
   },
   {
    "duration": 0,
    "start_time": "2022-10-16T09:12:27.870Z"
   },
   {
    "duration": 0,
    "start_time": "2022-10-16T09:12:27.872Z"
   },
   {
    "duration": 0,
    "start_time": "2022-10-16T09:12:27.873Z"
   },
   {
    "duration": 0,
    "start_time": "2022-10-16T09:12:27.874Z"
   },
   {
    "duration": 0,
    "start_time": "2022-10-16T09:12:27.875Z"
   },
   {
    "duration": 0,
    "start_time": "2022-10-16T09:12:27.877Z"
   },
   {
    "duration": 0,
    "start_time": "2022-10-16T09:12:27.878Z"
   },
   {
    "duration": 22,
    "start_time": "2022-10-16T09:14:18.675Z"
   },
   {
    "duration": 60,
    "start_time": "2022-10-16T09:27:49.485Z"
   },
   {
    "duration": 2,
    "start_time": "2022-10-16T09:37:53.973Z"
   },
   {
    "duration": 158,
    "start_time": "2022-10-16T09:37:53.977Z"
   },
   {
    "duration": 7,
    "start_time": "2022-10-16T09:37:54.136Z"
   },
   {
    "duration": 31,
    "start_time": "2022-10-16T09:37:54.144Z"
   },
   {
    "duration": 2,
    "start_time": "2022-10-16T09:37:54.177Z"
   },
   {
    "duration": 8,
    "start_time": "2022-10-16T09:37:54.181Z"
   },
   {
    "duration": 17,
    "start_time": "2022-10-16T09:37:54.190Z"
   },
   {
    "duration": 4,
    "start_time": "2022-10-16T09:37:54.221Z"
   },
   {
    "duration": 24,
    "start_time": "2022-10-16T09:37:54.227Z"
   },
   {
    "duration": 17,
    "start_time": "2022-10-16T09:37:54.253Z"
   },
   {
    "duration": 25,
    "start_time": "2022-10-16T09:37:54.271Z"
   },
   {
    "duration": 77,
    "start_time": "2022-10-16T09:37:54.298Z"
   },
   {
    "duration": 69,
    "start_time": "2022-10-16T09:37:54.378Z"
   },
   {
    "duration": 55,
    "start_time": "2022-10-16T09:37:54.449Z"
   },
   {
    "duration": 2,
    "start_time": "2022-10-16T09:37:54.506Z"
   },
   {
    "duration": 2,
    "start_time": "2022-10-16T09:37:54.521Z"
   },
   {
    "duration": 6,
    "start_time": "2022-10-16T09:37:54.524Z"
   },
   {
    "duration": 6,
    "start_time": "2022-10-16T09:37:54.532Z"
   },
   {
    "duration": 5,
    "start_time": "2022-10-16T09:37:54.539Z"
   },
   {
    "duration": 5,
    "start_time": "2022-10-16T09:37:54.545Z"
   },
   {
    "duration": 9,
    "start_time": "2022-10-16T09:37:54.552Z"
   },
   {
    "duration": 5,
    "start_time": "2022-10-16T09:37:54.563Z"
   },
   {
    "duration": 6,
    "start_time": "2022-10-16T09:37:54.570Z"
   },
   {
    "duration": 6,
    "start_time": "2022-10-16T09:37:54.577Z"
   },
   {
    "duration": 9,
    "start_time": "2022-10-16T09:37:54.584Z"
   },
   {
    "duration": 6,
    "start_time": "2022-10-16T09:37:54.594Z"
   },
   {
    "duration": 5,
    "start_time": "2022-10-16T09:37:54.601Z"
   },
   {
    "duration": 5,
    "start_time": "2022-10-16T09:37:54.607Z"
   },
   {
    "duration": 5,
    "start_time": "2022-10-16T09:37:54.613Z"
   },
   {
    "duration": 64,
    "start_time": "2022-10-16T09:37:54.619Z"
   },
   {
    "duration": 0,
    "start_time": "2022-10-16T09:37:54.684Z"
   },
   {
    "duration": 0,
    "start_time": "2022-10-16T09:37:54.685Z"
   },
   {
    "duration": 0,
    "start_time": "2022-10-16T09:37:54.686Z"
   },
   {
    "duration": 0,
    "start_time": "2022-10-16T09:37:54.687Z"
   },
   {
    "duration": 0,
    "start_time": "2022-10-16T09:37:54.688Z"
   },
   {
    "duration": 0,
    "start_time": "2022-10-16T09:37:54.689Z"
   },
   {
    "duration": 0,
    "start_time": "2022-10-16T09:37:54.691Z"
   },
   {
    "duration": 0,
    "start_time": "2022-10-16T09:37:54.692Z"
   },
   {
    "duration": 78,
    "start_time": "2022-10-16T09:38:19.739Z"
   },
   {
    "duration": 54,
    "start_time": "2022-10-16T09:38:22.491Z"
   },
   {
    "duration": 61,
    "start_time": "2022-10-16T09:44:55.079Z"
   },
   {
    "duration": 51,
    "start_time": "2022-10-16T09:44:58.029Z"
   },
   {
    "duration": 57,
    "start_time": "2022-10-16T10:15:33.809Z"
   },
   {
    "duration": 7,
    "start_time": "2022-10-16T10:15:33.952Z"
   },
   {
    "duration": 30,
    "start_time": "2022-10-16T10:16:35.176Z"
   },
   {
    "duration": 14,
    "start_time": "2022-10-16T11:06:56.529Z"
   },
   {
    "duration": 7,
    "start_time": "2022-10-16T11:10:07.149Z"
   },
   {
    "duration": 12,
    "start_time": "2022-10-16T11:10:45.621Z"
   },
   {
    "duration": 20,
    "start_time": "2022-10-16T11:11:21.165Z"
   },
   {
    "duration": 23,
    "start_time": "2022-10-16T11:11:25.115Z"
   },
   {
    "duration": 29,
    "start_time": "2022-10-16T11:11:52.489Z"
   },
   {
    "duration": 21,
    "start_time": "2022-10-16T11:12:08.763Z"
   },
   {
    "duration": 18,
    "start_time": "2022-10-16T11:13:45.116Z"
   },
   {
    "duration": 3550,
    "start_time": "2022-10-16T11:16:24.258Z"
   },
   {
    "duration": 4054,
    "start_time": "2022-10-16T11:16:29.128Z"
   },
   {
    "duration": 3400,
    "start_time": "2022-10-16T11:16:56.530Z"
   },
   {
    "duration": 9,
    "start_time": "2022-10-16T11:18:49.049Z"
   },
   {
    "duration": 9,
    "start_time": "2022-10-16T11:19:15.983Z"
   },
   {
    "duration": 13,
    "start_time": "2022-10-16T11:19:16.184Z"
   },
   {
    "duration": 9,
    "start_time": "2022-10-16T11:19:16.669Z"
   },
   {
    "duration": 9,
    "start_time": "2022-10-16T11:19:17.031Z"
   },
   {
    "duration": 14,
    "start_time": "2022-10-16T11:19:38.400Z"
   },
   {
    "duration": 9,
    "start_time": "2022-10-16T11:19:44.085Z"
   },
   {
    "duration": 10,
    "start_time": "2022-10-16T11:19:57.200Z"
   },
   {
    "duration": 69,
    "start_time": "2022-10-16T11:22:37.057Z"
   },
   {
    "duration": 11,
    "start_time": "2022-10-16T11:22:51.442Z"
   },
   {
    "duration": 15,
    "start_time": "2022-10-16T11:22:58.227Z"
   },
   {
    "duration": 68,
    "start_time": "2022-10-16T11:29:51.787Z"
   },
   {
    "duration": 1075,
    "start_time": "2022-10-16T11:32:48.469Z"
   },
   {
    "duration": 1088,
    "start_time": "2022-10-16T11:33:45.083Z"
   },
   {
    "duration": 1406,
    "start_time": "2022-10-16T11:34:14.278Z"
   },
   {
    "duration": 17,
    "start_time": "2022-10-16T11:34:24.391Z"
   },
   {
    "duration": 11,
    "start_time": "2022-10-16T11:35:04.288Z"
   },
   {
    "duration": 12,
    "start_time": "2022-10-16T11:35:31.529Z"
   },
   {
    "duration": 12,
    "start_time": "2022-10-16T11:35:40.592Z"
   },
   {
    "duration": 12,
    "start_time": "2022-10-16T11:35:47.470Z"
   },
   {
    "duration": 12,
    "start_time": "2022-10-16T11:36:11.060Z"
   },
   {
    "duration": 12,
    "start_time": "2022-10-16T11:37:13.722Z"
   },
   {
    "duration": 6,
    "start_time": "2022-10-16T11:59:06.013Z"
   },
   {
    "duration": 7,
    "start_time": "2022-10-16T11:59:40.648Z"
   },
   {
    "duration": 3,
    "start_time": "2022-10-16T12:20:00.402Z"
   },
   {
    "duration": 3,
    "start_time": "2022-10-16T12:20:10.886Z"
   },
   {
    "duration": 65,
    "start_time": "2022-10-16T12:20:32.098Z"
   },
   {
    "duration": 11,
    "start_time": "2022-10-16T12:24:44.622Z"
   },
   {
    "duration": 6,
    "start_time": "2022-10-16T13:13:00.489Z"
   },
   {
    "duration": 3,
    "start_time": "2022-10-16T13:13:10.539Z"
   },
   {
    "duration": 145,
    "start_time": "2022-10-16T13:13:10.545Z"
   },
   {
    "duration": 6,
    "start_time": "2022-10-16T13:13:10.691Z"
   },
   {
    "duration": 33,
    "start_time": "2022-10-16T13:13:10.699Z"
   },
   {
    "duration": 3,
    "start_time": "2022-10-16T13:13:10.734Z"
   },
   {
    "duration": 7,
    "start_time": "2022-10-16T13:13:10.738Z"
   },
   {
    "duration": 13,
    "start_time": "2022-10-16T13:13:10.746Z"
   },
   {
    "duration": 6,
    "start_time": "2022-10-16T13:13:10.761Z"
   },
   {
    "duration": 23,
    "start_time": "2022-10-16T13:13:10.768Z"
   },
   {
    "duration": 42,
    "start_time": "2022-10-16T13:13:10.793Z"
   },
   {
    "duration": 23,
    "start_time": "2022-10-16T13:13:10.837Z"
   },
   {
    "duration": 82,
    "start_time": "2022-10-16T13:13:10.861Z"
   },
   {
    "duration": 62,
    "start_time": "2022-10-16T13:13:10.944Z"
   },
   {
    "duration": 71,
    "start_time": "2022-10-16T13:13:11.010Z"
   },
   {
    "duration": 57,
    "start_time": "2022-10-16T13:13:11.083Z"
   },
   {
    "duration": 10,
    "start_time": "2022-10-16T13:13:11.142Z"
   },
   {
    "duration": 39,
    "start_time": "2022-10-16T13:13:11.154Z"
   },
   {
    "duration": 32,
    "start_time": "2022-10-16T13:13:11.195Z"
   },
   {
    "duration": 13,
    "start_time": "2022-10-16T13:13:11.229Z"
   },
   {
    "duration": 12,
    "start_time": "2022-10-16T13:13:11.244Z"
   },
   {
    "duration": 46,
    "start_time": "2022-10-16T13:13:11.259Z"
   },
   {
    "duration": 38,
    "start_time": "2022-10-16T13:13:11.308Z"
   },
   {
    "duration": 0,
    "start_time": "2022-10-16T13:13:11.349Z"
   },
   {
    "duration": 0,
    "start_time": "2022-10-16T13:13:11.350Z"
   },
   {
    "duration": 0,
    "start_time": "2022-10-16T13:13:11.352Z"
   },
   {
    "duration": 0,
    "start_time": "2022-10-16T13:13:11.353Z"
   },
   {
    "duration": 0,
    "start_time": "2022-10-16T13:13:11.355Z"
   },
   {
    "duration": 0,
    "start_time": "2022-10-16T13:13:11.357Z"
   },
   {
    "duration": 0,
    "start_time": "2022-10-16T13:13:11.359Z"
   },
   {
    "duration": 0,
    "start_time": "2022-10-16T13:13:11.361Z"
   },
   {
    "duration": 0,
    "start_time": "2022-10-16T13:13:11.362Z"
   },
   {
    "duration": 0,
    "start_time": "2022-10-16T13:13:11.364Z"
   },
   {
    "duration": 0,
    "start_time": "2022-10-16T13:13:11.365Z"
   },
   {
    "duration": 0,
    "start_time": "2022-10-16T13:13:11.366Z"
   },
   {
    "duration": 0,
    "start_time": "2022-10-16T13:13:11.367Z"
   },
   {
    "duration": 0,
    "start_time": "2022-10-16T13:13:11.369Z"
   },
   {
    "duration": 0,
    "start_time": "2022-10-16T13:13:11.370Z"
   },
   {
    "duration": 0,
    "start_time": "2022-10-16T13:13:11.371Z"
   },
   {
    "duration": 2,
    "start_time": "2022-10-16T13:14:17.317Z"
   },
   {
    "duration": 163,
    "start_time": "2022-10-16T13:14:17.321Z"
   },
   {
    "duration": 5,
    "start_time": "2022-10-16T13:14:17.487Z"
   },
   {
    "duration": 28,
    "start_time": "2022-10-16T13:14:17.494Z"
   },
   {
    "duration": 1,
    "start_time": "2022-10-16T13:14:17.524Z"
   },
   {
    "duration": 9,
    "start_time": "2022-10-16T13:14:17.526Z"
   },
   {
    "duration": 12,
    "start_time": "2022-10-16T13:14:17.536Z"
   },
   {
    "duration": 4,
    "start_time": "2022-10-16T13:14:17.549Z"
   },
   {
    "duration": 21,
    "start_time": "2022-10-16T13:14:17.555Z"
   },
   {
    "duration": 19,
    "start_time": "2022-10-16T13:14:17.577Z"
   },
   {
    "duration": 40,
    "start_time": "2022-10-16T13:14:17.598Z"
   },
   {
    "duration": 54,
    "start_time": "2022-10-16T13:14:17.639Z"
   },
   {
    "duration": 66,
    "start_time": "2022-10-16T13:14:17.695Z"
   },
   {
    "duration": 61,
    "start_time": "2022-10-16T13:14:17.763Z"
   },
   {
    "duration": 39,
    "start_time": "2022-10-16T13:14:17.825Z"
   },
   {
    "duration": 11,
    "start_time": "2022-10-16T13:14:17.866Z"
   },
   {
    "duration": 50,
    "start_time": "2022-10-16T13:14:17.879Z"
   },
   {
    "duration": 10,
    "start_time": "2022-10-16T13:14:17.930Z"
   },
   {
    "duration": 10,
    "start_time": "2022-10-16T13:14:17.941Z"
   },
   {
    "duration": 4,
    "start_time": "2022-10-16T13:14:17.953Z"
   },
   {
    "duration": 24,
    "start_time": "2022-10-16T13:14:17.958Z"
   },
   {
    "duration": 6,
    "start_time": "2022-10-16T13:14:17.983Z"
   },
   {
    "duration": 0,
    "start_time": "2022-10-16T13:14:17.991Z"
   },
   {
    "duration": 0,
    "start_time": "2022-10-16T13:14:17.992Z"
   },
   {
    "duration": 0,
    "start_time": "2022-10-16T13:14:17.993Z"
   },
   {
    "duration": 0,
    "start_time": "2022-10-16T13:14:17.993Z"
   },
   {
    "duration": 0,
    "start_time": "2022-10-16T13:14:17.994Z"
   },
   {
    "duration": 0,
    "start_time": "2022-10-16T13:14:17.995Z"
   },
   {
    "duration": 0,
    "start_time": "2022-10-16T13:14:17.996Z"
   },
   {
    "duration": 0,
    "start_time": "2022-10-16T13:14:18.023Z"
   },
   {
    "duration": 0,
    "start_time": "2022-10-16T13:14:18.024Z"
   },
   {
    "duration": 0,
    "start_time": "2022-10-16T13:14:18.024Z"
   },
   {
    "duration": 1,
    "start_time": "2022-10-16T13:14:18.025Z"
   },
   {
    "duration": 0,
    "start_time": "2022-10-16T13:14:18.027Z"
   },
   {
    "duration": 0,
    "start_time": "2022-10-16T13:14:18.027Z"
   },
   {
    "duration": 0,
    "start_time": "2022-10-16T13:14:18.028Z"
   },
   {
    "duration": 0,
    "start_time": "2022-10-16T13:14:18.030Z"
   },
   {
    "duration": 0,
    "start_time": "2022-10-16T13:14:18.030Z"
   },
   {
    "duration": 2,
    "start_time": "2022-10-16T13:14:28.335Z"
   },
   {
    "duration": 153,
    "start_time": "2022-10-16T13:14:28.339Z"
   },
   {
    "duration": 6,
    "start_time": "2022-10-16T13:14:28.493Z"
   },
   {
    "duration": 32,
    "start_time": "2022-10-16T13:14:28.500Z"
   },
   {
    "duration": 3,
    "start_time": "2022-10-16T13:14:28.533Z"
   },
   {
    "duration": 6,
    "start_time": "2022-10-16T13:14:28.537Z"
   },
   {
    "duration": 10,
    "start_time": "2022-10-16T13:14:28.544Z"
   },
   {
    "duration": 3,
    "start_time": "2022-10-16T13:14:28.556Z"
   },
   {
    "duration": 21,
    "start_time": "2022-10-16T13:14:28.561Z"
   },
   {
    "duration": 14,
    "start_time": "2022-10-16T13:14:28.584Z"
   },
   {
    "duration": 39,
    "start_time": "2022-10-16T13:14:28.600Z"
   },
   {
    "duration": 55,
    "start_time": "2022-10-16T13:14:28.641Z"
   },
   {
    "duration": 74,
    "start_time": "2022-10-16T13:14:28.697Z"
   },
   {
    "duration": 62,
    "start_time": "2022-10-16T13:14:28.773Z"
   },
   {
    "duration": 34,
    "start_time": "2022-10-16T13:14:28.836Z"
   },
   {
    "duration": 12,
    "start_time": "2022-10-16T13:14:28.871Z"
   },
   {
    "duration": 51,
    "start_time": "2022-10-16T13:14:28.884Z"
   },
   {
    "duration": 11,
    "start_time": "2022-10-16T13:14:28.937Z"
   },
   {
    "duration": 11,
    "start_time": "2022-10-16T13:14:28.950Z"
   },
   {
    "duration": 4,
    "start_time": "2022-10-16T13:14:28.962Z"
   },
   {
    "duration": 22,
    "start_time": "2022-10-16T13:14:28.967Z"
   },
   {
    "duration": 36,
    "start_time": "2022-10-16T13:14:28.990Z"
   },
   {
    "duration": 15,
    "start_time": "2022-10-16T13:14:29.027Z"
   },
   {
    "duration": 12,
    "start_time": "2022-10-16T13:14:29.043Z"
   },
   {
    "duration": 15,
    "start_time": "2022-10-16T13:14:29.057Z"
   },
   {
    "duration": 13,
    "start_time": "2022-10-16T13:14:29.074Z"
   },
   {
    "duration": 88,
    "start_time": "2022-10-16T13:14:29.089Z"
   },
   {
    "duration": 0,
    "start_time": "2022-10-16T13:14:29.179Z"
   },
   {
    "duration": 0,
    "start_time": "2022-10-16T13:14:29.180Z"
   },
   {
    "duration": 0,
    "start_time": "2022-10-16T13:14:29.181Z"
   },
   {
    "duration": 0,
    "start_time": "2022-10-16T13:14:29.182Z"
   },
   {
    "duration": 0,
    "start_time": "2022-10-16T13:14:29.183Z"
   },
   {
    "duration": 0,
    "start_time": "2022-10-16T13:14:29.184Z"
   },
   {
    "duration": 0,
    "start_time": "2022-10-16T13:14:29.185Z"
   },
   {
    "duration": 0,
    "start_time": "2022-10-16T13:14:29.186Z"
   },
   {
    "duration": 0,
    "start_time": "2022-10-16T13:14:29.187Z"
   },
   {
    "duration": 0,
    "start_time": "2022-10-16T13:14:29.188Z"
   },
   {
    "duration": 0,
    "start_time": "2022-10-16T13:14:29.189Z"
   },
   {
    "duration": 2,
    "start_time": "2022-10-16T13:14:45.410Z"
   },
   {
    "duration": 165,
    "start_time": "2022-10-16T13:14:45.414Z"
   },
   {
    "duration": 6,
    "start_time": "2022-10-16T13:14:45.580Z"
   },
   {
    "duration": 34,
    "start_time": "2022-10-16T13:14:45.588Z"
   },
   {
    "duration": 2,
    "start_time": "2022-10-16T13:14:45.625Z"
   },
   {
    "duration": 6,
    "start_time": "2022-10-16T13:14:45.628Z"
   },
   {
    "duration": 9,
    "start_time": "2022-10-16T13:14:45.636Z"
   },
   {
    "duration": 4,
    "start_time": "2022-10-16T13:14:45.647Z"
   },
   {
    "duration": 27,
    "start_time": "2022-10-16T13:14:45.653Z"
   },
   {
    "duration": 41,
    "start_time": "2022-10-16T13:14:45.681Z"
   },
   {
    "duration": 24,
    "start_time": "2022-10-16T13:14:45.723Z"
   },
   {
    "duration": 76,
    "start_time": "2022-10-16T13:14:45.749Z"
   },
   {
    "duration": 60,
    "start_time": "2022-10-16T13:14:45.827Z"
   },
   {
    "duration": 83,
    "start_time": "2022-10-16T13:14:45.890Z"
   },
   {
    "duration": 30,
    "start_time": "2022-10-16T13:14:45.974Z"
   },
   {
    "duration": 24,
    "start_time": "2022-10-16T13:14:46.006Z"
   },
   {
    "duration": 53,
    "start_time": "2022-10-16T13:14:46.032Z"
   },
   {
    "duration": 13,
    "start_time": "2022-10-16T13:14:46.088Z"
   },
   {
    "duration": 15,
    "start_time": "2022-10-16T13:14:46.102Z"
   },
   {
    "duration": 8,
    "start_time": "2022-10-16T13:14:46.122Z"
   },
   {
    "duration": 42,
    "start_time": "2022-10-16T13:14:46.132Z"
   },
   {
    "duration": 18,
    "start_time": "2022-10-16T13:14:46.176Z"
   },
   {
    "duration": 23,
    "start_time": "2022-10-16T13:14:46.195Z"
   },
   {
    "duration": 20,
    "start_time": "2022-10-16T13:14:46.222Z"
   },
   {
    "duration": 20,
    "start_time": "2022-10-16T13:14:46.244Z"
   },
   {
    "duration": 15,
    "start_time": "2022-10-16T13:14:46.265Z"
   },
   {
    "duration": 68,
    "start_time": "2022-10-16T13:14:46.281Z"
   },
   {
    "duration": 0,
    "start_time": "2022-10-16T13:14:46.351Z"
   },
   {
    "duration": 0,
    "start_time": "2022-10-16T13:14:46.352Z"
   },
   {
    "duration": 0,
    "start_time": "2022-10-16T13:14:46.353Z"
   },
   {
    "duration": 0,
    "start_time": "2022-10-16T13:14:46.354Z"
   },
   {
    "duration": 0,
    "start_time": "2022-10-16T13:14:46.355Z"
   },
   {
    "duration": 0,
    "start_time": "2022-10-16T13:14:46.356Z"
   },
   {
    "duration": 0,
    "start_time": "2022-10-16T13:14:46.357Z"
   },
   {
    "duration": 0,
    "start_time": "2022-10-16T13:14:46.358Z"
   },
   {
    "duration": 0,
    "start_time": "2022-10-16T13:14:46.359Z"
   },
   {
    "duration": 0,
    "start_time": "2022-10-16T13:14:46.360Z"
   },
   {
    "duration": 0,
    "start_time": "2022-10-16T13:14:46.361Z"
   },
   {
    "duration": 3,
    "start_time": "2022-10-16T13:16:50.489Z"
   },
   {
    "duration": 144,
    "start_time": "2022-10-16T13:16:50.494Z"
   },
   {
    "duration": 6,
    "start_time": "2022-10-16T13:16:50.639Z"
   },
   {
    "duration": 29,
    "start_time": "2022-10-16T13:16:50.647Z"
   },
   {
    "duration": 3,
    "start_time": "2022-10-16T13:16:50.677Z"
   },
   {
    "duration": 7,
    "start_time": "2022-10-16T13:16:50.681Z"
   },
   {
    "duration": 12,
    "start_time": "2022-10-16T13:16:50.690Z"
   },
   {
    "duration": 18,
    "start_time": "2022-10-16T13:16:50.704Z"
   },
   {
    "duration": 22,
    "start_time": "2022-10-16T13:16:50.724Z"
   },
   {
    "duration": 21,
    "start_time": "2022-10-16T13:16:50.749Z"
   },
   {
    "duration": 20,
    "start_time": "2022-10-16T13:16:50.772Z"
   },
   {
    "duration": 71,
    "start_time": "2022-10-16T13:16:50.794Z"
   },
   {
    "duration": 70,
    "start_time": "2022-10-16T13:16:50.866Z"
   },
   {
    "duration": 54,
    "start_time": "2022-10-16T13:16:50.938Z"
   },
   {
    "duration": 51,
    "start_time": "2022-10-16T13:16:50.994Z"
   },
   {
    "duration": 10,
    "start_time": "2022-10-16T13:16:51.047Z"
   },
   {
    "duration": 37,
    "start_time": "2022-10-16T13:16:51.058Z"
   },
   {
    "duration": 26,
    "start_time": "2022-10-16T13:16:51.097Z"
   },
   {
    "duration": 10,
    "start_time": "2022-10-16T13:16:51.125Z"
   },
   {
    "duration": 3,
    "start_time": "2022-10-16T13:16:51.137Z"
   },
   {
    "duration": 33,
    "start_time": "2022-10-16T13:16:51.141Z"
   },
   {
    "duration": 0,
    "start_time": "2022-10-16T13:16:51.176Z"
   },
   {
    "duration": 0,
    "start_time": "2022-10-16T13:16:51.177Z"
   },
   {
    "duration": 0,
    "start_time": "2022-10-16T13:16:51.178Z"
   },
   {
    "duration": 0,
    "start_time": "2022-10-16T13:16:51.179Z"
   },
   {
    "duration": 0,
    "start_time": "2022-10-16T13:16:51.180Z"
   },
   {
    "duration": 0,
    "start_time": "2022-10-16T13:16:51.181Z"
   },
   {
    "duration": 0,
    "start_time": "2022-10-16T13:16:51.182Z"
   },
   {
    "duration": 0,
    "start_time": "2022-10-16T13:16:51.183Z"
   },
   {
    "duration": 0,
    "start_time": "2022-10-16T13:16:51.184Z"
   },
   {
    "duration": 0,
    "start_time": "2022-10-16T13:16:51.185Z"
   },
   {
    "duration": 0,
    "start_time": "2022-10-16T13:16:51.242Z"
   },
   {
    "duration": 0,
    "start_time": "2022-10-16T13:16:51.243Z"
   },
   {
    "duration": 0,
    "start_time": "2022-10-16T13:16:51.244Z"
   },
   {
    "duration": 0,
    "start_time": "2022-10-16T13:16:51.245Z"
   },
   {
    "duration": 0,
    "start_time": "2022-10-16T13:16:51.246Z"
   },
   {
    "duration": 0,
    "start_time": "2022-10-16T13:16:51.247Z"
   },
   {
    "duration": 0,
    "start_time": "2022-10-16T13:16:51.248Z"
   },
   {
    "duration": 3,
    "start_time": "2022-10-16T13:17:17.983Z"
   },
   {
    "duration": 164,
    "start_time": "2022-10-16T13:17:17.988Z"
   },
   {
    "duration": 7,
    "start_time": "2022-10-16T13:17:18.154Z"
   },
   {
    "duration": 32,
    "start_time": "2022-10-16T13:17:18.163Z"
   },
   {
    "duration": 3,
    "start_time": "2022-10-16T13:17:18.196Z"
   },
   {
    "duration": 22,
    "start_time": "2022-10-16T13:17:18.200Z"
   },
   {
    "duration": 22,
    "start_time": "2022-10-16T13:17:18.224Z"
   },
   {
    "duration": 5,
    "start_time": "2022-10-16T13:17:18.248Z"
   },
   {
    "duration": 40,
    "start_time": "2022-10-16T13:17:18.255Z"
   },
   {
    "duration": 16,
    "start_time": "2022-10-16T13:17:18.297Z"
   },
   {
    "duration": 28,
    "start_time": "2022-10-16T13:17:18.314Z"
   },
   {
    "duration": 121,
    "start_time": "2022-10-16T13:17:18.344Z"
   },
   {
    "duration": 82,
    "start_time": "2022-10-16T13:17:18.467Z"
   },
   {
    "duration": 73,
    "start_time": "2022-10-16T13:17:18.551Z"
   },
   {
    "duration": 35,
    "start_time": "2022-10-16T13:17:18.626Z"
   },
   {
    "duration": 10,
    "start_time": "2022-10-16T13:17:18.663Z"
   },
   {
    "duration": 59,
    "start_time": "2022-10-16T13:17:18.676Z"
   },
   {
    "duration": 13,
    "start_time": "2022-10-16T13:17:18.737Z"
   },
   {
    "duration": 32,
    "start_time": "2022-10-16T13:17:18.752Z"
   },
   {
    "duration": 5,
    "start_time": "2022-10-16T13:17:18.786Z"
   },
   {
    "duration": 40,
    "start_time": "2022-10-16T13:17:18.793Z"
   },
   {
    "duration": 0,
    "start_time": "2022-10-16T13:17:18.835Z"
   },
   {
    "duration": 0,
    "start_time": "2022-10-16T13:17:18.836Z"
   },
   {
    "duration": 0,
    "start_time": "2022-10-16T13:17:18.837Z"
   },
   {
    "duration": 0,
    "start_time": "2022-10-16T13:17:18.838Z"
   },
   {
    "duration": 0,
    "start_time": "2022-10-16T13:17:18.840Z"
   },
   {
    "duration": 0,
    "start_time": "2022-10-16T13:17:18.841Z"
   },
   {
    "duration": 0,
    "start_time": "2022-10-16T13:17:18.842Z"
   },
   {
    "duration": 0,
    "start_time": "2022-10-16T13:17:18.844Z"
   },
   {
    "duration": 0,
    "start_time": "2022-10-16T13:17:18.845Z"
   },
   {
    "duration": 0,
    "start_time": "2022-10-16T13:17:18.846Z"
   },
   {
    "duration": 0,
    "start_time": "2022-10-16T13:17:18.847Z"
   },
   {
    "duration": 0,
    "start_time": "2022-10-16T13:17:18.848Z"
   },
   {
    "duration": 0,
    "start_time": "2022-10-16T13:17:18.849Z"
   },
   {
    "duration": 0,
    "start_time": "2022-10-16T13:17:18.851Z"
   },
   {
    "duration": 0,
    "start_time": "2022-10-16T13:17:18.852Z"
   },
   {
    "duration": 0,
    "start_time": "2022-10-16T13:17:18.854Z"
   },
   {
    "duration": 0,
    "start_time": "2022-10-16T13:17:18.855Z"
   },
   {
    "duration": 3,
    "start_time": "2022-10-16T13:17:43.054Z"
   },
   {
    "duration": 164,
    "start_time": "2022-10-16T13:17:43.059Z"
   },
   {
    "duration": 6,
    "start_time": "2022-10-16T13:17:43.225Z"
   },
   {
    "duration": 40,
    "start_time": "2022-10-16T13:17:43.233Z"
   },
   {
    "duration": 3,
    "start_time": "2022-10-16T13:17:43.275Z"
   },
   {
    "duration": 16,
    "start_time": "2022-10-16T13:17:43.279Z"
   },
   {
    "duration": 17,
    "start_time": "2022-10-16T13:17:43.297Z"
   },
   {
    "duration": 15,
    "start_time": "2022-10-16T13:17:43.315Z"
   },
   {
    "duration": 49,
    "start_time": "2022-10-16T13:17:43.332Z"
   },
   {
    "duration": 30,
    "start_time": "2022-10-16T13:17:43.382Z"
   },
   {
    "duration": 36,
    "start_time": "2022-10-16T13:17:43.413Z"
   },
   {
    "duration": 72,
    "start_time": "2022-10-16T13:17:43.450Z"
   },
   {
    "duration": 66,
    "start_time": "2022-10-16T13:17:43.524Z"
   },
   {
    "duration": 68,
    "start_time": "2022-10-16T13:17:43.592Z"
   },
   {
    "duration": 31,
    "start_time": "2022-10-16T13:17:43.662Z"
   },
   {
    "duration": 16,
    "start_time": "2022-10-16T13:17:43.694Z"
   },
   {
    "duration": 42,
    "start_time": "2022-10-16T13:17:43.711Z"
   },
   {
    "duration": 15,
    "start_time": "2022-10-16T13:17:43.754Z"
   },
   {
    "duration": 12,
    "start_time": "2022-10-16T13:17:43.771Z"
   },
   {
    "duration": 11,
    "start_time": "2022-10-16T13:17:43.785Z"
   },
   {
    "duration": 31,
    "start_time": "2022-10-16T13:17:43.798Z"
   },
   {
    "duration": 15,
    "start_time": "2022-10-16T13:17:43.830Z"
   },
   {
    "duration": 16,
    "start_time": "2022-10-16T13:17:43.847Z"
   },
   {
    "duration": 15,
    "start_time": "2022-10-16T13:17:43.864Z"
   },
   {
    "duration": 44,
    "start_time": "2022-10-16T13:17:43.880Z"
   },
   {
    "duration": 15,
    "start_time": "2022-10-16T13:17:43.926Z"
   },
   {
    "duration": 71,
    "start_time": "2022-10-16T13:17:43.943Z"
   },
   {
    "duration": 0,
    "start_time": "2022-10-16T13:17:44.016Z"
   },
   {
    "duration": 0,
    "start_time": "2022-10-16T13:17:44.017Z"
   },
   {
    "duration": 0,
    "start_time": "2022-10-16T13:17:44.018Z"
   },
   {
    "duration": 0,
    "start_time": "2022-10-16T13:17:44.018Z"
   },
   {
    "duration": 0,
    "start_time": "2022-10-16T13:17:44.020Z"
   },
   {
    "duration": 0,
    "start_time": "2022-10-16T13:17:44.021Z"
   },
   {
    "duration": 0,
    "start_time": "2022-10-16T13:17:44.022Z"
   },
   {
    "duration": 0,
    "start_time": "2022-10-16T13:17:44.023Z"
   },
   {
    "duration": 0,
    "start_time": "2022-10-16T13:17:44.024Z"
   },
   {
    "duration": 0,
    "start_time": "2022-10-16T13:17:44.025Z"
   },
   {
    "duration": 0,
    "start_time": "2022-10-16T13:17:44.026Z"
   },
   {
    "duration": 83,
    "start_time": "2022-10-16T13:18:21.924Z"
   },
   {
    "duration": 8,
    "start_time": "2022-10-16T13:18:27.124Z"
   },
   {
    "duration": 4,
    "start_time": "2022-10-16T13:18:33.672Z"
   },
   {
    "duration": 8,
    "start_time": "2022-10-16T13:20:33.576Z"
   },
   {
    "duration": 22,
    "start_time": "2022-10-16T13:21:14.486Z"
   },
   {
    "duration": 16,
    "start_time": "2022-10-16T13:21:24.933Z"
   },
   {
    "duration": 8,
    "start_time": "2022-10-16T13:22:02.979Z"
   },
   {
    "duration": 8,
    "start_time": "2022-10-16T13:22:05.065Z"
   },
   {
    "duration": 9,
    "start_time": "2022-10-16T13:24:22.787Z"
   },
   {
    "duration": 5,
    "start_time": "2022-10-16T13:35:30.426Z"
   },
   {
    "duration": 4,
    "start_time": "2022-10-16T13:40:20.963Z"
   },
   {
    "duration": 4,
    "start_time": "2022-10-16T13:40:30.320Z"
   },
   {
    "duration": 4,
    "start_time": "2022-10-16T13:40:38.897Z"
   },
   {
    "duration": 7,
    "start_time": "2022-10-16T14:18:12.436Z"
   },
   {
    "duration": 2,
    "start_time": "2022-10-16T14:18:23.017Z"
   },
   {
    "duration": 169,
    "start_time": "2022-10-16T14:18:23.021Z"
   },
   {
    "duration": 7,
    "start_time": "2022-10-16T14:18:23.191Z"
   },
   {
    "duration": 35,
    "start_time": "2022-10-16T14:18:23.201Z"
   },
   {
    "duration": 4,
    "start_time": "2022-10-16T14:18:23.237Z"
   },
   {
    "duration": 7,
    "start_time": "2022-10-16T14:18:23.242Z"
   },
   {
    "duration": 12,
    "start_time": "2022-10-16T14:18:23.250Z"
   },
   {
    "duration": 3,
    "start_time": "2022-10-16T14:18:23.264Z"
   },
   {
    "duration": 24,
    "start_time": "2022-10-16T14:18:23.269Z"
   },
   {
    "duration": 37,
    "start_time": "2022-10-16T14:18:23.294Z"
   },
   {
    "duration": 28,
    "start_time": "2022-10-16T14:18:23.333Z"
   },
   {
    "duration": 79,
    "start_time": "2022-10-16T14:18:23.363Z"
   },
   {
    "duration": 63,
    "start_time": "2022-10-16T14:18:23.444Z"
   },
   {
    "duration": 64,
    "start_time": "2022-10-16T14:18:23.509Z"
   },
   {
    "duration": 30,
    "start_time": "2022-10-16T14:18:23.574Z"
   },
   {
    "duration": 23,
    "start_time": "2022-10-16T14:18:23.605Z"
   },
   {
    "duration": 32,
    "start_time": "2022-10-16T14:18:23.630Z"
   },
   {
    "duration": 11,
    "start_time": "2022-10-16T14:18:23.664Z"
   },
   {
    "duration": 11,
    "start_time": "2022-10-16T14:18:23.677Z"
   },
   {
    "duration": 3,
    "start_time": "2022-10-16T14:18:23.690Z"
   },
   {
    "duration": 41,
    "start_time": "2022-10-16T14:18:23.695Z"
   },
   {
    "duration": 14,
    "start_time": "2022-10-16T14:18:23.737Z"
   },
   {
    "duration": 15,
    "start_time": "2022-10-16T14:18:23.753Z"
   },
   {
    "duration": 15,
    "start_time": "2022-10-16T14:18:23.771Z"
   },
   {
    "duration": 46,
    "start_time": "2022-10-16T14:18:23.787Z"
   },
   {
    "duration": 16,
    "start_time": "2022-10-16T14:18:23.834Z"
   },
   {
    "duration": 9,
    "start_time": "2022-10-16T14:18:23.852Z"
   },
   {
    "duration": 17,
    "start_time": "2022-10-16T14:18:23.862Z"
   },
   {
    "duration": 12,
    "start_time": "2022-10-16T14:18:23.881Z"
   },
   {
    "duration": 5,
    "start_time": "2022-10-16T14:18:23.894Z"
   },
   {
    "duration": 37,
    "start_time": "2022-10-16T14:18:23.900Z"
   },
   {
    "duration": 11,
    "start_time": "2022-10-16T14:18:23.939Z"
   },
   {
    "duration": 17,
    "start_time": "2022-10-16T14:18:23.952Z"
   },
   {
    "duration": 11,
    "start_time": "2022-10-16T14:18:23.970Z"
   },
   {
    "duration": 45,
    "start_time": "2022-10-16T14:18:23.983Z"
   },
   {
    "duration": 2,
    "start_time": "2022-10-16T14:18:24.030Z"
   },
   {
    "duration": 9,
    "start_time": "2022-10-16T14:18:24.033Z"
   },
   {
    "duration": 6,
    "start_time": "2022-10-16T14:18:24.043Z"
   },
   {
    "duration": 9,
    "start_time": "2022-10-16T14:19:45.145Z"
   },
   {
    "duration": 2,
    "start_time": "2022-10-16T14:19:50.846Z"
   },
   {
    "duration": 162,
    "start_time": "2022-10-16T14:19:50.850Z"
   },
   {
    "duration": 10,
    "start_time": "2022-10-16T14:19:51.014Z"
   },
   {
    "duration": 43,
    "start_time": "2022-10-16T14:19:51.026Z"
   },
   {
    "duration": 3,
    "start_time": "2022-10-16T14:19:51.070Z"
   },
   {
    "duration": 17,
    "start_time": "2022-10-16T14:19:51.074Z"
   },
   {
    "duration": 24,
    "start_time": "2022-10-16T14:19:51.093Z"
   },
   {
    "duration": 15,
    "start_time": "2022-10-16T14:19:51.119Z"
   },
   {
    "duration": 29,
    "start_time": "2022-10-16T14:19:51.136Z"
   },
   {
    "duration": 20,
    "start_time": "2022-10-16T14:19:51.168Z"
   },
   {
    "duration": 32,
    "start_time": "2022-10-16T14:19:51.190Z"
   },
   {
    "duration": 65,
    "start_time": "2022-10-16T14:19:51.224Z"
   },
   {
    "duration": 89,
    "start_time": "2022-10-16T14:19:51.290Z"
   },
   {
    "duration": 72,
    "start_time": "2022-10-16T14:19:51.381Z"
   },
   {
    "duration": 35,
    "start_time": "2022-10-16T14:19:51.455Z"
   },
   {
    "duration": 9,
    "start_time": "2022-10-16T14:19:51.491Z"
   },
   {
    "duration": 48,
    "start_time": "2022-10-16T14:19:51.502Z"
   },
   {
    "duration": 18,
    "start_time": "2022-10-16T14:19:51.552Z"
   },
   {
    "duration": 14,
    "start_time": "2022-10-16T14:19:51.572Z"
   },
   {
    "duration": 3,
    "start_time": "2022-10-16T14:19:51.587Z"
   },
   {
    "duration": 49,
    "start_time": "2022-10-16T14:19:51.592Z"
   },
   {
    "duration": 15,
    "start_time": "2022-10-16T14:19:51.643Z"
   },
   {
    "duration": 16,
    "start_time": "2022-10-16T14:19:51.659Z"
   },
   {
    "duration": 14,
    "start_time": "2022-10-16T14:19:51.677Z"
   },
   {
    "duration": 41,
    "start_time": "2022-10-16T14:19:51.692Z"
   },
   {
    "duration": 15,
    "start_time": "2022-10-16T14:19:51.735Z"
   },
   {
    "duration": 8,
    "start_time": "2022-10-16T14:19:51.751Z"
   },
   {
    "duration": 11,
    "start_time": "2022-10-16T14:19:51.762Z"
   },
   {
    "duration": 13,
    "start_time": "2022-10-16T14:19:51.774Z"
   },
   {
    "duration": 33,
    "start_time": "2022-10-16T14:19:51.788Z"
   },
   {
    "duration": 26,
    "start_time": "2022-10-16T14:19:51.823Z"
   },
   {
    "duration": 17,
    "start_time": "2022-10-16T14:19:51.851Z"
   },
   {
    "duration": 28,
    "start_time": "2022-10-16T14:19:51.870Z"
   },
   {
    "duration": 11,
    "start_time": "2022-10-16T14:19:51.899Z"
   },
   {
    "duration": 19,
    "start_time": "2022-10-16T14:19:51.912Z"
   },
   {
    "duration": 7,
    "start_time": "2022-10-16T14:19:51.932Z"
   },
   {
    "duration": 6,
    "start_time": "2022-10-16T14:19:51.941Z"
   },
   {
    "duration": 14,
    "start_time": "2022-10-16T14:19:51.948Z"
   },
   {
    "duration": 10,
    "start_time": "2022-10-16T14:24:22.937Z"
   },
   {
    "duration": 2,
    "start_time": "2022-10-16T14:24:27.378Z"
   },
   {
    "duration": 159,
    "start_time": "2022-10-16T14:24:27.382Z"
   },
   {
    "duration": 6,
    "start_time": "2022-10-16T14:24:27.543Z"
   },
   {
    "duration": 37,
    "start_time": "2022-10-16T14:24:27.550Z"
   },
   {
    "duration": 14,
    "start_time": "2022-10-16T14:24:27.589Z"
   },
   {
    "duration": 24,
    "start_time": "2022-10-16T14:24:27.604Z"
   },
   {
    "duration": 39,
    "start_time": "2022-10-16T14:24:27.630Z"
   },
   {
    "duration": 32,
    "start_time": "2022-10-16T14:24:27.670Z"
   },
   {
    "duration": 47,
    "start_time": "2022-10-16T14:24:27.704Z"
   },
   {
    "duration": 25,
    "start_time": "2022-10-16T14:24:27.752Z"
   },
   {
    "duration": 34,
    "start_time": "2022-10-16T14:24:27.778Z"
   },
   {
    "duration": 72,
    "start_time": "2022-10-16T14:24:27.814Z"
   },
   {
    "duration": 75,
    "start_time": "2022-10-16T14:24:27.888Z"
   },
   {
    "duration": 62,
    "start_time": "2022-10-16T14:24:27.965Z"
   },
   {
    "duration": 30,
    "start_time": "2022-10-16T14:24:28.028Z"
   },
   {
    "duration": 13,
    "start_time": "2022-10-16T14:24:28.060Z"
   },
   {
    "duration": 44,
    "start_time": "2022-10-16T14:24:28.074Z"
   },
   {
    "duration": 12,
    "start_time": "2022-10-16T14:24:28.121Z"
   },
   {
    "duration": 11,
    "start_time": "2022-10-16T14:24:28.134Z"
   },
   {
    "duration": 15,
    "start_time": "2022-10-16T14:24:28.146Z"
   },
   {
    "duration": 33,
    "start_time": "2022-10-16T14:24:28.163Z"
   },
   {
    "duration": 15,
    "start_time": "2022-10-16T14:24:28.198Z"
   },
   {
    "duration": 16,
    "start_time": "2022-10-16T14:24:28.221Z"
   },
   {
    "duration": 17,
    "start_time": "2022-10-16T14:24:28.239Z"
   },
   {
    "duration": 21,
    "start_time": "2022-10-16T14:24:28.258Z"
   },
   {
    "duration": 31,
    "start_time": "2022-10-16T14:24:28.281Z"
   },
   {
    "duration": 11,
    "start_time": "2022-10-16T14:24:28.314Z"
   },
   {
    "duration": 28,
    "start_time": "2022-10-16T14:24:28.327Z"
   },
   {
    "duration": 12,
    "start_time": "2022-10-16T14:24:28.357Z"
   },
   {
    "duration": 12,
    "start_time": "2022-10-16T14:24:28.371Z"
   },
   {
    "duration": 26,
    "start_time": "2022-10-16T14:24:28.384Z"
   },
   {
    "duration": 13,
    "start_time": "2022-10-16T14:24:28.412Z"
   },
   {
    "duration": 26,
    "start_time": "2022-10-16T14:24:28.427Z"
   },
   {
    "duration": 17,
    "start_time": "2022-10-16T14:24:28.454Z"
   },
   {
    "duration": 18,
    "start_time": "2022-10-16T14:24:28.473Z"
   },
   {
    "duration": 13,
    "start_time": "2022-10-16T14:24:28.493Z"
   },
   {
    "duration": 19,
    "start_time": "2022-10-16T14:24:28.509Z"
   },
   {
    "duration": 15,
    "start_time": "2022-10-16T14:24:28.529Z"
   },
   {
    "duration": 2,
    "start_time": "2022-10-16T14:24:42.350Z"
   },
   {
    "duration": 150,
    "start_time": "2022-10-16T14:24:42.354Z"
   },
   {
    "duration": 6,
    "start_time": "2022-10-16T14:24:42.506Z"
   },
   {
    "duration": 39,
    "start_time": "2022-10-16T14:24:42.514Z"
   },
   {
    "duration": 2,
    "start_time": "2022-10-16T14:24:42.555Z"
   },
   {
    "duration": 11,
    "start_time": "2022-10-16T14:24:42.558Z"
   },
   {
    "duration": 18,
    "start_time": "2022-10-16T14:24:42.570Z"
   },
   {
    "duration": 9,
    "start_time": "2022-10-16T14:24:42.590Z"
   },
   {
    "duration": 43,
    "start_time": "2022-10-16T14:24:42.600Z"
   },
   {
    "duration": 18,
    "start_time": "2022-10-16T14:24:42.645Z"
   },
   {
    "duration": 25,
    "start_time": "2022-10-16T14:24:42.665Z"
   },
   {
    "duration": 80,
    "start_time": "2022-10-16T14:24:42.692Z"
   },
   {
    "duration": 76,
    "start_time": "2022-10-16T14:24:42.774Z"
   },
   {
    "duration": 78,
    "start_time": "2022-10-16T14:24:42.852Z"
   },
   {
    "duration": 30,
    "start_time": "2022-10-16T14:24:42.932Z"
   },
   {
    "duration": 9,
    "start_time": "2022-10-16T14:24:42.964Z"
   },
   {
    "duration": 50,
    "start_time": "2022-10-16T14:24:42.974Z"
   },
   {
    "duration": 12,
    "start_time": "2022-10-16T14:24:43.025Z"
   },
   {
    "duration": 13,
    "start_time": "2022-10-16T14:24:43.038Z"
   },
   {
    "duration": 3,
    "start_time": "2022-10-16T14:24:43.053Z"
   },
   {
    "duration": 35,
    "start_time": "2022-10-16T14:24:43.057Z"
   },
   {
    "duration": 15,
    "start_time": "2022-10-16T14:24:43.093Z"
   },
   {
    "duration": 22,
    "start_time": "2022-10-16T14:24:43.109Z"
   },
   {
    "duration": 13,
    "start_time": "2022-10-16T14:24:43.134Z"
   },
   {
    "duration": 15,
    "start_time": "2022-10-16T14:24:43.148Z"
   },
   {
    "duration": 13,
    "start_time": "2022-10-16T14:24:43.165Z"
   },
   {
    "duration": 9,
    "start_time": "2022-10-16T14:24:43.180Z"
   },
   {
    "duration": 44,
    "start_time": "2022-10-16T14:24:43.190Z"
   },
   {
    "duration": 11,
    "start_time": "2022-10-16T14:24:43.236Z"
   },
   {
    "duration": 4,
    "start_time": "2022-10-16T14:24:43.249Z"
   },
   {
    "duration": 24,
    "start_time": "2022-10-16T14:24:43.254Z"
   },
   {
    "duration": 10,
    "start_time": "2022-10-16T14:24:43.280Z"
   },
   {
    "duration": 40,
    "start_time": "2022-10-16T14:24:43.291Z"
   },
   {
    "duration": 12,
    "start_time": "2022-10-16T14:24:43.332Z"
   },
   {
    "duration": 12,
    "start_time": "2022-10-16T14:24:43.346Z"
   },
   {
    "duration": 3,
    "start_time": "2022-10-16T14:24:43.359Z"
   },
   {
    "duration": 6,
    "start_time": "2022-10-16T14:24:43.364Z"
   },
   {
    "duration": 5,
    "start_time": "2022-10-16T14:24:43.372Z"
   },
   {
    "duration": 3,
    "start_time": "2022-10-16T14:24:52.427Z"
   },
   {
    "duration": 152,
    "start_time": "2022-10-16T14:24:52.432Z"
   },
   {
    "duration": 6,
    "start_time": "2022-10-16T14:24:52.586Z"
   },
   {
    "duration": 38,
    "start_time": "2022-10-16T14:24:52.593Z"
   },
   {
    "duration": 4,
    "start_time": "2022-10-16T14:24:52.632Z"
   },
   {
    "duration": 9,
    "start_time": "2022-10-16T14:24:52.637Z"
   },
   {
    "duration": 25,
    "start_time": "2022-10-16T14:24:52.647Z"
   },
   {
    "duration": 3,
    "start_time": "2022-10-16T14:24:52.674Z"
   },
   {
    "duration": 28,
    "start_time": "2022-10-16T14:24:52.678Z"
   },
   {
    "duration": 17,
    "start_time": "2022-10-16T14:24:52.709Z"
   },
   {
    "duration": 26,
    "start_time": "2022-10-16T14:24:52.728Z"
   },
   {
    "duration": 65,
    "start_time": "2022-10-16T14:24:52.756Z"
   },
   {
    "duration": 66,
    "start_time": "2022-10-16T14:24:52.823Z"
   },
   {
    "duration": 65,
    "start_time": "2022-10-16T14:24:52.891Z"
   },
   {
    "duration": 30,
    "start_time": "2022-10-16T14:24:52.957Z"
   },
   {
    "duration": 8,
    "start_time": "2022-10-16T14:24:52.988Z"
   },
   {
    "duration": 44,
    "start_time": "2022-10-16T14:24:52.998Z"
   },
   {
    "duration": 14,
    "start_time": "2022-10-16T14:24:53.044Z"
   },
   {
    "duration": 14,
    "start_time": "2022-10-16T14:24:53.059Z"
   },
   {
    "duration": 7,
    "start_time": "2022-10-16T14:24:53.075Z"
   },
   {
    "duration": 39,
    "start_time": "2022-10-16T14:24:53.083Z"
   },
   {
    "duration": 13,
    "start_time": "2022-10-16T14:24:53.124Z"
   },
   {
    "duration": 15,
    "start_time": "2022-10-16T14:24:53.139Z"
   },
   {
    "duration": 13,
    "start_time": "2022-10-16T14:24:53.155Z"
   },
   {
    "duration": 16,
    "start_time": "2022-10-16T14:24:53.169Z"
   },
   {
    "duration": 42,
    "start_time": "2022-10-16T14:24:53.186Z"
   },
   {
    "duration": 8,
    "start_time": "2022-10-16T14:24:53.229Z"
   },
   {
    "duration": 20,
    "start_time": "2022-10-16T14:24:53.239Z"
   },
   {
    "duration": 11,
    "start_time": "2022-10-16T14:24:53.261Z"
   },
   {
    "duration": 6,
    "start_time": "2022-10-16T14:24:53.273Z"
   },
   {
    "duration": 27,
    "start_time": "2022-10-16T14:24:53.280Z"
   },
   {
    "duration": 11,
    "start_time": "2022-10-16T14:24:53.322Z"
   },
   {
    "duration": 17,
    "start_time": "2022-10-16T14:24:53.335Z"
   },
   {
    "duration": 13,
    "start_time": "2022-10-16T14:24:53.353Z"
   },
   {
    "duration": 10,
    "start_time": "2022-10-16T14:24:53.367Z"
   },
   {
    "duration": 5,
    "start_time": "2022-10-16T14:24:53.379Z"
   },
   {
    "duration": 7,
    "start_time": "2022-10-16T14:24:53.386Z"
   },
   {
    "duration": 3,
    "start_time": "2022-10-16T14:24:53.422Z"
   },
   {
    "duration": 3,
    "start_time": "2022-10-16T14:29:57.227Z"
   },
   {
    "duration": 155,
    "start_time": "2022-10-16T14:29:57.232Z"
   },
   {
    "duration": 7,
    "start_time": "2022-10-16T14:29:57.388Z"
   },
   {
    "duration": 44,
    "start_time": "2022-10-16T14:29:57.397Z"
   },
   {
    "duration": 28,
    "start_time": "2022-10-16T14:29:57.443Z"
   },
   {
    "duration": 16,
    "start_time": "2022-10-16T14:29:57.473Z"
   },
   {
    "duration": 27,
    "start_time": "2022-10-16T14:29:57.491Z"
   },
   {
    "duration": 19,
    "start_time": "2022-10-16T14:29:57.519Z"
   },
   {
    "duration": 57,
    "start_time": "2022-10-16T14:29:57.540Z"
   },
   {
    "duration": 41,
    "start_time": "2022-10-16T14:29:57.600Z"
   },
   {
    "duration": 51,
    "start_time": "2022-10-16T14:29:57.643Z"
   },
   {
    "duration": 80,
    "start_time": "2022-10-16T14:29:57.696Z"
   },
   {
    "duration": 89,
    "start_time": "2022-10-16T14:29:57.777Z"
   },
   {
    "duration": 64,
    "start_time": "2022-10-16T14:29:57.868Z"
   },
   {
    "duration": 31,
    "start_time": "2022-10-16T14:29:57.933Z"
   },
   {
    "duration": 9,
    "start_time": "2022-10-16T14:29:57.965Z"
   },
   {
    "duration": 58,
    "start_time": "2022-10-16T14:29:57.975Z"
   },
   {
    "duration": 12,
    "start_time": "2022-10-16T14:29:58.034Z"
   },
   {
    "duration": 21,
    "start_time": "2022-10-16T14:29:58.047Z"
   },
   {
    "duration": 5,
    "start_time": "2022-10-16T14:29:58.069Z"
   },
   {
    "duration": 37,
    "start_time": "2022-10-16T14:29:58.076Z"
   },
   {
    "duration": 17,
    "start_time": "2022-10-16T14:29:58.115Z"
   },
   {
    "duration": 27,
    "start_time": "2022-10-16T14:29:58.133Z"
   },
   {
    "duration": 28,
    "start_time": "2022-10-16T14:29:58.161Z"
   },
   {
    "duration": 18,
    "start_time": "2022-10-16T14:29:58.190Z"
   },
   {
    "duration": 21,
    "start_time": "2022-10-16T14:29:58.210Z"
   },
   {
    "duration": 20,
    "start_time": "2022-10-16T14:29:58.233Z"
   },
   {
    "duration": 24,
    "start_time": "2022-10-16T14:29:58.256Z"
   },
   {
    "duration": 27,
    "start_time": "2022-10-16T14:29:58.281Z"
   },
   {
    "duration": 14,
    "start_time": "2022-10-16T14:29:58.309Z"
   },
   {
    "duration": 43,
    "start_time": "2022-10-16T14:29:58.324Z"
   },
   {
    "duration": 24,
    "start_time": "2022-10-16T14:29:58.368Z"
   },
   {
    "duration": 21,
    "start_time": "2022-10-16T14:29:58.394Z"
   },
   {
    "duration": 12,
    "start_time": "2022-10-16T14:29:58.416Z"
   },
   {
    "duration": 23,
    "start_time": "2022-10-16T14:29:58.429Z"
   },
   {
    "duration": 30,
    "start_time": "2022-10-16T14:29:58.453Z"
   },
   {
    "duration": 36,
    "start_time": "2022-10-16T14:29:58.484Z"
   },
   {
    "duration": 14,
    "start_time": "2022-10-16T14:29:58.521Z"
   },
   {
    "duration": 53,
    "start_time": "2022-10-20T22:38:39.364Z"
   },
   {
    "duration": 10,
    "start_time": "2022-10-20T22:38:49.736Z"
   },
   {
    "duration": 423,
    "start_time": "2022-10-20T22:39:15.249Z"
   },
   {
    "duration": 544,
    "start_time": "2022-10-20T22:39:15.675Z"
   },
   {
    "duration": 8,
    "start_time": "2022-10-20T22:39:16.221Z"
   },
   {
    "duration": 37,
    "start_time": "2022-10-20T22:39:16.235Z"
   },
   {
    "duration": 1,
    "start_time": "2022-10-20T22:39:16.275Z"
   },
   {
    "duration": 9,
    "start_time": "2022-10-20T22:39:16.278Z"
   },
   {
    "duration": 35,
    "start_time": "2022-10-20T22:39:16.289Z"
   },
   {
    "duration": 10,
    "start_time": "2022-10-20T22:39:16.330Z"
   },
   {
    "duration": 33,
    "start_time": "2022-10-20T22:39:16.342Z"
   },
   {
    "duration": 30,
    "start_time": "2022-10-20T22:39:16.376Z"
   },
   {
    "duration": 50,
    "start_time": "2022-10-20T22:39:16.408Z"
   },
   {
    "duration": 93,
    "start_time": "2022-10-20T22:39:16.460Z"
   },
   {
    "duration": 74,
    "start_time": "2022-10-20T22:39:16.555Z"
   },
   {
    "duration": 69,
    "start_time": "2022-10-20T22:39:16.632Z"
   },
   {
    "duration": 62,
    "start_time": "2022-10-20T22:39:16.703Z"
   },
   {
    "duration": 17,
    "start_time": "2022-10-20T22:39:16.766Z"
   },
   {
    "duration": 74,
    "start_time": "2022-10-20T22:39:16.785Z"
   },
   {
    "duration": 12,
    "start_time": "2022-10-20T22:39:16.861Z"
   },
   {
    "duration": 19,
    "start_time": "2022-10-20T22:39:16.875Z"
   },
   {
    "duration": 6,
    "start_time": "2022-10-20T22:39:16.896Z"
   },
   {
    "duration": 59,
    "start_time": "2022-10-20T22:39:16.904Z"
   },
   {
    "duration": 15,
    "start_time": "2022-10-20T22:39:16.965Z"
   },
   {
    "duration": 19,
    "start_time": "2022-10-20T22:39:16.982Z"
   },
   {
    "duration": 37,
    "start_time": "2022-10-20T22:39:17.002Z"
   },
   {
    "duration": 28,
    "start_time": "2022-10-20T22:39:17.041Z"
   },
   {
    "duration": 16,
    "start_time": "2022-10-20T22:39:17.071Z"
   },
   {
    "duration": 12,
    "start_time": "2022-10-20T22:39:17.089Z"
   },
   {
    "duration": 33,
    "start_time": "2022-10-20T22:39:17.103Z"
   },
   {
    "duration": 12,
    "start_time": "2022-10-20T22:39:17.138Z"
   },
   {
    "duration": 7,
    "start_time": "2022-10-20T22:39:17.154Z"
   },
   {
    "duration": 23,
    "start_time": "2022-10-20T22:39:17.162Z"
   },
   {
    "duration": 10,
    "start_time": "2022-10-20T22:39:17.187Z"
   },
   {
    "duration": 53,
    "start_time": "2022-10-20T22:39:17.199Z"
   },
   {
    "duration": 14,
    "start_time": "2022-10-20T22:39:17.254Z"
   },
   {
    "duration": 10,
    "start_time": "2022-10-20T22:39:17.269Z"
   },
   {
    "duration": 5,
    "start_time": "2022-10-20T22:39:17.280Z"
   },
   {
    "duration": 13,
    "start_time": "2022-10-20T22:39:17.286Z"
   },
   {
    "duration": 4,
    "start_time": "2022-10-20T22:39:17.300Z"
   },
   {
    "duration": 9,
    "start_time": "2022-10-20T22:39:37.209Z"
   },
   {
    "duration": 9,
    "start_time": "2022-10-20T22:39:45.095Z"
   }
  ],
  "colab": {
   "collapsed_sections": [
    "E0vqbgi9ay0H",
    "VUC88oWjTJw2"
   ],
   "name": "automatization_template_upd4.ipynb",
   "provenance": []
  },
  "kernelspec": {
   "display_name": "Python 3 (ipykernel)",
   "language": "python",
   "name": "python3"
  },
  "language_info": {
   "codemirror_mode": {
    "name": "ipython",
    "version": 3
   },
   "file_extension": ".py",
   "mimetype": "text/x-python",
   "name": "python",
   "nbconvert_exporter": "python",
   "pygments_lexer": "ipython3",
   "version": "3.9.5"
  },
  "toc": {
   "base_numbering": 1,
   "nav_menu": {
    "height": "215px",
    "width": "403px"
   },
   "number_sections": true,
   "sideBar": true,
   "skip_h1_title": true,
   "title_cell": "Table of Contents",
   "title_sidebar": "Contents",
   "toc_cell": false,
   "toc_position": {
    "height": "calc(100% - 180px)",
    "left": "10px",
    "top": "150px",
    "width": "285.825px"
   },
   "toc_section_display": true,
   "toc_window_display": false
  }
 },
 "nbformat": 4,
 "nbformat_minor": 1
}
