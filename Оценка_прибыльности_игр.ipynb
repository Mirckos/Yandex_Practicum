{
 "cells": [
  {
   "cell_type": "markdown",
   "metadata": {},
   "source": [
    "<div style=\"border:solid Chocolate 2px; padding: 40px\">\n",
    "\n",
    "<b>Привет!👋</b>\n",
    "\n",
    "Меня зовут Огурлиев Анзор, я буду ревьюером твоего проекта. Сразу хочу предложить тебе общаться на \"ты\", если тебе это неудобно, скажи мне об этом. Нам предстоит пройти с тобой через тернистый и от того интересный путь анализа данных! Можешь не переживать, я всегда помогу тебе, если у тебя возникнут вопросы)\n",
    "\n",
    "По ходу твоей работы я буду оставлять свои комментарии, по выполненным тобой шагам. Попрошу тебя не удалять их, так мне будет проще отслеживать твой прогресс в случае повторной проверки.\n",
    "\n",
    "Очень важно вести диалог и обсуждать те пункты, которые у тебя могли не получиться, поэтому, ты можешь оставлять свои комментарии, и мы обязательно во всем разберемся! Самое главное - выделяй свои комментарии удобным для тебя способом (цвет, рамка), но так, чтобы они отчетлитво отличались от моих комментариев. Так мы ни в чем не запутаемся)\n",
    "\n",
    "Свои комментарии я буду выделять так: <font color='green'>зеленый</font>, <font color='gold'>желтый</font> и <font color='red'>красный</font> цвет, например:\n",
    "\n",
    "<br/>\n",
    "\n",
    "<div class=\"alert alert-success\">\n",
    "<h2> Комментарий ревьюера V1<a class=\"tocSkip\"> </h2>\n",
    "\n",
    "<b>Все отлично!👍:</b> Этот комментарий я буду оставлять, если твое решение оптимально для данного шага.\n",
    "</div>\n",
    "\n",
    "<br/>\n",
    "\n",
    "<div class=\"alert alert-warning\">\n",
    "    <h2> Комментарий ревьюера V1<a class=\"tocSkip\"> </h2>\n",
    "\n",
    "<b>Некоторые замечания и рекомендации💡:</b> Это не означает, что ты совершил ошибку. Такими комментариями я буду отмечать места, где ты справился с задачей, но её можно решить ещё лучше. Также в таких комментариях я буду оставлять для тебя другие советы.\n",
    "</div>\n",
    "\n",
    "\n",
    "<br/>\n",
    "<div class=\"alert alert-block alert-danger\">\n",
    "<h2> Комментарий ревьюера V1<a class=\"tocSkip\"></h2>\n",
    "\n",
    "\n",
    "<b>На доработку🤔:</b>\n",
    "Если решение, которое ты применил на определенном шаге, требует значительных изменений, то я буду оставлять такой комментарий. Тебе нужно будет подумать еще раз как правильным образом решить данный этап. Если ревью содержит такие комментарии, то я не смогу принять проект с первого раза.\n",
    "</div>\n",
    "\n",
    "P.S. В оглавлении комментария ты увидишь `V1` (`V1`, `V2`, `V3`) - это версия моего комментария, которая понадобится нам с тобой, чтобы не запутаться, если потребуется оставить тебе комментарии после первой проверки."
   ]
  },
  {
   "cell_type": "markdown",
   "metadata": {},
   "source": [
    "# Сборный проект #\n",
    "\n",
    "Вы работаете в интернет-магазине «Стримчик», который продаёт по всему миру компьютерные игры. Из открытых источников доступны исторические данные о продажах игр, оценки пользователей и экспертов, жанры и платформы (например, Xbox или PlayStation). Вам нужно выявить определяющие успешность игры закономерности. Это позволит сделать ставку на потенциально популярный продукт и спланировать рекламные кампании.\n",
    "\n",
    "Перед вами данные до 2016 года. Представим, что сейчас декабрь 2016 г., и вы планируете кампанию на 2017-й. Нужно отработать принцип работы с данными. Неважно, прогнозируете ли вы продажи на 2017 год по данным 2016-го или же 2027-й — по данным 2026 года.\n"
   ]
  },
  {
   "cell_type": "markdown",
   "metadata": {},
   "source": [
    "<div class=\"alert alert-success\">\n",
    "<h2> Комментарий ревьюера V1<a class=\"tocSkip\"> </h2>\n",
    "\n",
    "<b>Все отлично!👍:</b> Молодец, что начинаешь проект с описания!"
   ]
  },
  {
   "cell_type": "markdown",
   "metadata": {},
   "source": [
    "### Изучение общей информации о датасете. "
   ]
  },
  {
   "cell_type": "code",
   "execution_count": 197,
   "metadata": {},
   "outputs": [],
   "source": [
    "import pandas as pd\n",
    "import matplotlib.pyplot as plt\n",
    "import seaborn as sb\n",
    "import numpy as np\n",
    "from IPython.display import display\n",
    "from collections import Counter\n",
    "from scipy.special import factorial\n",
    "import scipy.stats as stats"
   ]
  },
  {
   "cell_type": "code",
   "execution_count": 198,
   "metadata": {},
   "outputs": [
    {
     "data": {
      "text/html": [
       "<div>\n",
       "<style scoped>\n",
       "    .dataframe tbody tr th:only-of-type {\n",
       "        vertical-align: middle;\n",
       "    }\n",
       "\n",
       "    .dataframe tbody tr th {\n",
       "        vertical-align: top;\n",
       "    }\n",
       "\n",
       "    .dataframe thead th {\n",
       "        text-align: right;\n",
       "    }\n",
       "</style>\n",
       "<table border=\"1\" class=\"dataframe\">\n",
       "  <thead>\n",
       "    <tr style=\"text-align: right;\">\n",
       "      <th></th>\n",
       "      <th>Name</th>\n",
       "      <th>Platform</th>\n",
       "      <th>Year_of_Release</th>\n",
       "      <th>Genre</th>\n",
       "      <th>NA_sales</th>\n",
       "      <th>EU_sales</th>\n",
       "      <th>JP_sales</th>\n",
       "      <th>Other_sales</th>\n",
       "      <th>Critic_Score</th>\n",
       "      <th>User_Score</th>\n",
       "      <th>Rating</th>\n",
       "    </tr>\n",
       "  </thead>\n",
       "  <tbody>\n",
       "    <tr>\n",
       "      <th>0</th>\n",
       "      <td>Wii Sports</td>\n",
       "      <td>Wii</td>\n",
       "      <td>2006.0</td>\n",
       "      <td>Sports</td>\n",
       "      <td>41.36</td>\n",
       "      <td>28.96</td>\n",
       "      <td>3.77</td>\n",
       "      <td>8.45</td>\n",
       "      <td>76.0</td>\n",
       "      <td>8</td>\n",
       "      <td>E</td>\n",
       "    </tr>\n",
       "    <tr>\n",
       "      <th>1</th>\n",
       "      <td>Super Mario Bros.</td>\n",
       "      <td>NES</td>\n",
       "      <td>1985.0</td>\n",
       "      <td>Platform</td>\n",
       "      <td>29.08</td>\n",
       "      <td>3.58</td>\n",
       "      <td>6.81</td>\n",
       "      <td>0.77</td>\n",
       "      <td>NaN</td>\n",
       "      <td>NaN</td>\n",
       "      <td>NaN</td>\n",
       "    </tr>\n",
       "    <tr>\n",
       "      <th>2</th>\n",
       "      <td>Mario Kart Wii</td>\n",
       "      <td>Wii</td>\n",
       "      <td>2008.0</td>\n",
       "      <td>Racing</td>\n",
       "      <td>15.68</td>\n",
       "      <td>12.76</td>\n",
       "      <td>3.79</td>\n",
       "      <td>3.29</td>\n",
       "      <td>82.0</td>\n",
       "      <td>8.3</td>\n",
       "      <td>E</td>\n",
       "    </tr>\n",
       "    <tr>\n",
       "      <th>3</th>\n",
       "      <td>Wii Sports Resort</td>\n",
       "      <td>Wii</td>\n",
       "      <td>2009.0</td>\n",
       "      <td>Sports</td>\n",
       "      <td>15.61</td>\n",
       "      <td>10.93</td>\n",
       "      <td>3.28</td>\n",
       "      <td>2.95</td>\n",
       "      <td>80.0</td>\n",
       "      <td>8</td>\n",
       "      <td>E</td>\n",
       "    </tr>\n",
       "    <tr>\n",
       "      <th>4</th>\n",
       "      <td>Pokemon Red/Pokemon Blue</td>\n",
       "      <td>GB</td>\n",
       "      <td>1996.0</td>\n",
       "      <td>Role-Playing</td>\n",
       "      <td>11.27</td>\n",
       "      <td>8.89</td>\n",
       "      <td>10.22</td>\n",
       "      <td>1.00</td>\n",
       "      <td>NaN</td>\n",
       "      <td>NaN</td>\n",
       "      <td>NaN</td>\n",
       "    </tr>\n",
       "    <tr>\n",
       "      <th>5</th>\n",
       "      <td>Tetris</td>\n",
       "      <td>GB</td>\n",
       "      <td>1989.0</td>\n",
       "      <td>Puzzle</td>\n",
       "      <td>23.20</td>\n",
       "      <td>2.26</td>\n",
       "      <td>4.22</td>\n",
       "      <td>0.58</td>\n",
       "      <td>NaN</td>\n",
       "      <td>NaN</td>\n",
       "      <td>NaN</td>\n",
       "    </tr>\n",
       "    <tr>\n",
       "      <th>6</th>\n",
       "      <td>New Super Mario Bros.</td>\n",
       "      <td>DS</td>\n",
       "      <td>2006.0</td>\n",
       "      <td>Platform</td>\n",
       "      <td>11.28</td>\n",
       "      <td>9.14</td>\n",
       "      <td>6.50</td>\n",
       "      <td>2.88</td>\n",
       "      <td>89.0</td>\n",
       "      <td>8.5</td>\n",
       "      <td>E</td>\n",
       "    </tr>\n",
       "    <tr>\n",
       "      <th>7</th>\n",
       "      <td>Wii Play</td>\n",
       "      <td>Wii</td>\n",
       "      <td>2006.0</td>\n",
       "      <td>Misc</td>\n",
       "      <td>13.96</td>\n",
       "      <td>9.18</td>\n",
       "      <td>2.93</td>\n",
       "      <td>2.84</td>\n",
       "      <td>58.0</td>\n",
       "      <td>6.6</td>\n",
       "      <td>E</td>\n",
       "    </tr>\n",
       "    <tr>\n",
       "      <th>8</th>\n",
       "      <td>New Super Mario Bros. Wii</td>\n",
       "      <td>Wii</td>\n",
       "      <td>2009.0</td>\n",
       "      <td>Platform</td>\n",
       "      <td>14.44</td>\n",
       "      <td>6.94</td>\n",
       "      <td>4.70</td>\n",
       "      <td>2.24</td>\n",
       "      <td>87.0</td>\n",
       "      <td>8.4</td>\n",
       "      <td>E</td>\n",
       "    </tr>\n",
       "    <tr>\n",
       "      <th>9</th>\n",
       "      <td>Duck Hunt</td>\n",
       "      <td>NES</td>\n",
       "      <td>1984.0</td>\n",
       "      <td>Shooter</td>\n",
       "      <td>26.93</td>\n",
       "      <td>0.63</td>\n",
       "      <td>0.28</td>\n",
       "      <td>0.47</td>\n",
       "      <td>NaN</td>\n",
       "      <td>NaN</td>\n",
       "      <td>NaN</td>\n",
       "    </tr>\n",
       "  </tbody>\n",
       "</table>\n",
       "</div>"
      ],
      "text/plain": [
       "                        Name Platform  Year_of_Release         Genre  \\\n",
       "0                 Wii Sports      Wii           2006.0        Sports   \n",
       "1          Super Mario Bros.      NES           1985.0      Platform   \n",
       "2             Mario Kart Wii      Wii           2008.0        Racing   \n",
       "3          Wii Sports Resort      Wii           2009.0        Sports   \n",
       "4   Pokemon Red/Pokemon Blue       GB           1996.0  Role-Playing   \n",
       "5                     Tetris       GB           1989.0        Puzzle   \n",
       "6      New Super Mario Bros.       DS           2006.0      Platform   \n",
       "7                   Wii Play      Wii           2006.0          Misc   \n",
       "8  New Super Mario Bros. Wii      Wii           2009.0      Platform   \n",
       "9                  Duck Hunt      NES           1984.0       Shooter   \n",
       "\n",
       "   NA_sales  EU_sales  JP_sales  Other_sales  Critic_Score User_Score Rating  \n",
       "0     41.36     28.96      3.77         8.45          76.0          8      E  \n",
       "1     29.08      3.58      6.81         0.77           NaN        NaN    NaN  \n",
       "2     15.68     12.76      3.79         3.29          82.0        8.3      E  \n",
       "3     15.61     10.93      3.28         2.95          80.0          8      E  \n",
       "4     11.27      8.89     10.22         1.00           NaN        NaN    NaN  \n",
       "5     23.20      2.26      4.22         0.58           NaN        NaN    NaN  \n",
       "6     11.28      9.14      6.50         2.88          89.0        8.5      E  \n",
       "7     13.96      9.18      2.93         2.84          58.0        6.6      E  \n",
       "8     14.44      6.94      4.70         2.24          87.0        8.4      E  \n",
       "9     26.93      0.63      0.28         0.47           NaN        NaN    NaN  "
      ]
     },
     "execution_count": 198,
     "metadata": {},
     "output_type": "execute_result"
    }
   ],
   "source": [
    "df = pd.read_csv('/datasets/games.csv')\n",
    "df.head(10)"
   ]
  },
  {
   "cell_type": "code",
   "execution_count": 199,
   "metadata": {
    "scrolled": true
   },
   "outputs": [
    {
     "name": "stdout",
     "output_type": "stream",
     "text": [
      "<class 'pandas.core.frame.DataFrame'>\n",
      "RangeIndex: 16715 entries, 0 to 16714\n",
      "Data columns (total 11 columns):\n",
      " #   Column           Non-Null Count  Dtype  \n",
      "---  ------           --------------  -----  \n",
      " 0   Name             16713 non-null  object \n",
      " 1   Platform         16715 non-null  object \n",
      " 2   Year_of_Release  16446 non-null  float64\n",
      " 3   Genre            16713 non-null  object \n",
      " 4   NA_sales         16715 non-null  float64\n",
      " 5   EU_sales         16715 non-null  float64\n",
      " 6   JP_sales         16715 non-null  float64\n",
      " 7   Other_sales      16715 non-null  float64\n",
      " 8   Critic_Score     8137 non-null   float64\n",
      " 9   User_Score       10014 non-null  object \n",
      " 10  Rating           9949 non-null   object \n",
      "dtypes: float64(6), object(5)\n",
      "memory usage: 1.4+ MB\n"
     ]
    }
   ],
   "source": [
    "df.info()"
   ]
  },
  {
   "cell_type": "code",
   "execution_count": 200,
   "metadata": {},
   "outputs": [
    {
     "name": "stdout",
     "output_type": "stream",
     "text": [
      "Name                  2\n",
      "Platform              0\n",
      "Year_of_Release     269\n",
      "Genre                 2\n",
      "NA_sales              0\n",
      "EU_sales              0\n",
      "JP_sales              0\n",
      "Other_sales           0\n",
      "Critic_Score       8578\n",
      "User_Score         6701\n",
      "Rating             6766\n",
      "dtype: int64\n"
     ]
    }
   ],
   "source": [
    "print(df.isna().sum())"
   ]
  },
  {
   "cell_type": "markdown",
   "metadata": {},
   "source": [
    "Можно заметить немного пропусков в столбцах с датой релиза и названием игры. Больше всего же пропусков в оценках игр."
   ]
  },
  {
   "cell_type": "markdown",
   "metadata": {},
   "source": [
    "<div class=\"alert alert-success\">\n",
    "<h2> Комментарий ревьюера V1<a class=\"tocSkip\"> </h2>\n",
    "\n",
    "<b>Все отлично!👍:</b> Правильно использовал методы для первичного анализа данных. Можно было бы дополнить данный пункт гистограммами по всему датафрейму, и воспользоваться методом `describe()`."
   ]
  },
  {
   "cell_type": "markdown",
   "metadata": {},
   "source": [
    "### Подготовка данных"
   ]
  },
  {
   "cell_type": "markdown",
   "metadata": {},
   "source": [
    "#### Приведение названий столбцов к единому виду"
   ]
  },
  {
   "cell_type": "code",
   "execution_count": 201,
   "metadata": {},
   "outputs": [
    {
     "data": {
      "text/html": [
       "<div>\n",
       "<style scoped>\n",
       "    .dataframe tbody tr th:only-of-type {\n",
       "        vertical-align: middle;\n",
       "    }\n",
       "\n",
       "    .dataframe tbody tr th {\n",
       "        vertical-align: top;\n",
       "    }\n",
       "\n",
       "    .dataframe thead th {\n",
       "        text-align: right;\n",
       "    }\n",
       "</style>\n",
       "<table border=\"1\" class=\"dataframe\">\n",
       "  <thead>\n",
       "    <tr style=\"text-align: right;\">\n",
       "      <th></th>\n",
       "      <th>name</th>\n",
       "      <th>platform</th>\n",
       "      <th>year_of_release</th>\n",
       "      <th>genre</th>\n",
       "      <th>na_sales</th>\n",
       "      <th>eu_sales</th>\n",
       "      <th>jp_sales</th>\n",
       "      <th>other_sales</th>\n",
       "      <th>critic_score</th>\n",
       "      <th>user_score</th>\n",
       "      <th>rating</th>\n",
       "    </tr>\n",
       "  </thead>\n",
       "  <tbody>\n",
       "    <tr>\n",
       "      <th>0</th>\n",
       "      <td>Wii Sports</td>\n",
       "      <td>Wii</td>\n",
       "      <td>2006.0</td>\n",
       "      <td>Sports</td>\n",
       "      <td>41.36</td>\n",
       "      <td>28.96</td>\n",
       "      <td>3.77</td>\n",
       "      <td>8.45</td>\n",
       "      <td>76.0</td>\n",
       "      <td>8</td>\n",
       "      <td>E</td>\n",
       "    </tr>\n",
       "    <tr>\n",
       "      <th>1</th>\n",
       "      <td>Super Mario Bros.</td>\n",
       "      <td>NES</td>\n",
       "      <td>1985.0</td>\n",
       "      <td>Platform</td>\n",
       "      <td>29.08</td>\n",
       "      <td>3.58</td>\n",
       "      <td>6.81</td>\n",
       "      <td>0.77</td>\n",
       "      <td>NaN</td>\n",
       "      <td>NaN</td>\n",
       "      <td>NaN</td>\n",
       "    </tr>\n",
       "    <tr>\n",
       "      <th>2</th>\n",
       "      <td>Mario Kart Wii</td>\n",
       "      <td>Wii</td>\n",
       "      <td>2008.0</td>\n",
       "      <td>Racing</td>\n",
       "      <td>15.68</td>\n",
       "      <td>12.76</td>\n",
       "      <td>3.79</td>\n",
       "      <td>3.29</td>\n",
       "      <td>82.0</td>\n",
       "      <td>8.3</td>\n",
       "      <td>E</td>\n",
       "    </tr>\n",
       "    <tr>\n",
       "      <th>3</th>\n",
       "      <td>Wii Sports Resort</td>\n",
       "      <td>Wii</td>\n",
       "      <td>2009.0</td>\n",
       "      <td>Sports</td>\n",
       "      <td>15.61</td>\n",
       "      <td>10.93</td>\n",
       "      <td>3.28</td>\n",
       "      <td>2.95</td>\n",
       "      <td>80.0</td>\n",
       "      <td>8</td>\n",
       "      <td>E</td>\n",
       "    </tr>\n",
       "    <tr>\n",
       "      <th>4</th>\n",
       "      <td>Pokemon Red/Pokemon Blue</td>\n",
       "      <td>GB</td>\n",
       "      <td>1996.0</td>\n",
       "      <td>Role-Playing</td>\n",
       "      <td>11.27</td>\n",
       "      <td>8.89</td>\n",
       "      <td>10.22</td>\n",
       "      <td>1.00</td>\n",
       "      <td>NaN</td>\n",
       "      <td>NaN</td>\n",
       "      <td>NaN</td>\n",
       "    </tr>\n",
       "    <tr>\n",
       "      <th>5</th>\n",
       "      <td>Tetris</td>\n",
       "      <td>GB</td>\n",
       "      <td>1989.0</td>\n",
       "      <td>Puzzle</td>\n",
       "      <td>23.20</td>\n",
       "      <td>2.26</td>\n",
       "      <td>4.22</td>\n",
       "      <td>0.58</td>\n",
       "      <td>NaN</td>\n",
       "      <td>NaN</td>\n",
       "      <td>NaN</td>\n",
       "    </tr>\n",
       "    <tr>\n",
       "      <th>6</th>\n",
       "      <td>New Super Mario Bros.</td>\n",
       "      <td>DS</td>\n",
       "      <td>2006.0</td>\n",
       "      <td>Platform</td>\n",
       "      <td>11.28</td>\n",
       "      <td>9.14</td>\n",
       "      <td>6.50</td>\n",
       "      <td>2.88</td>\n",
       "      <td>89.0</td>\n",
       "      <td>8.5</td>\n",
       "      <td>E</td>\n",
       "    </tr>\n",
       "    <tr>\n",
       "      <th>7</th>\n",
       "      <td>Wii Play</td>\n",
       "      <td>Wii</td>\n",
       "      <td>2006.0</td>\n",
       "      <td>Misc</td>\n",
       "      <td>13.96</td>\n",
       "      <td>9.18</td>\n",
       "      <td>2.93</td>\n",
       "      <td>2.84</td>\n",
       "      <td>58.0</td>\n",
       "      <td>6.6</td>\n",
       "      <td>E</td>\n",
       "    </tr>\n",
       "    <tr>\n",
       "      <th>8</th>\n",
       "      <td>New Super Mario Bros. Wii</td>\n",
       "      <td>Wii</td>\n",
       "      <td>2009.0</td>\n",
       "      <td>Platform</td>\n",
       "      <td>14.44</td>\n",
       "      <td>6.94</td>\n",
       "      <td>4.70</td>\n",
       "      <td>2.24</td>\n",
       "      <td>87.0</td>\n",
       "      <td>8.4</td>\n",
       "      <td>E</td>\n",
       "    </tr>\n",
       "    <tr>\n",
       "      <th>9</th>\n",
       "      <td>Duck Hunt</td>\n",
       "      <td>NES</td>\n",
       "      <td>1984.0</td>\n",
       "      <td>Shooter</td>\n",
       "      <td>26.93</td>\n",
       "      <td>0.63</td>\n",
       "      <td>0.28</td>\n",
       "      <td>0.47</td>\n",
       "      <td>NaN</td>\n",
       "      <td>NaN</td>\n",
       "      <td>NaN</td>\n",
       "    </tr>\n",
       "  </tbody>\n",
       "</table>\n",
       "</div>"
      ],
      "text/plain": [
       "                        name platform  year_of_release         genre  \\\n",
       "0                 Wii Sports      Wii           2006.0        Sports   \n",
       "1          Super Mario Bros.      NES           1985.0      Platform   \n",
       "2             Mario Kart Wii      Wii           2008.0        Racing   \n",
       "3          Wii Sports Resort      Wii           2009.0        Sports   \n",
       "4   Pokemon Red/Pokemon Blue       GB           1996.0  Role-Playing   \n",
       "5                     Tetris       GB           1989.0        Puzzle   \n",
       "6      New Super Mario Bros.       DS           2006.0      Platform   \n",
       "7                   Wii Play      Wii           2006.0          Misc   \n",
       "8  New Super Mario Bros. Wii      Wii           2009.0      Platform   \n",
       "9                  Duck Hunt      NES           1984.0       Shooter   \n",
       "\n",
       "   na_sales  eu_sales  jp_sales  other_sales  critic_score user_score rating  \n",
       "0     41.36     28.96      3.77         8.45          76.0          8      E  \n",
       "1     29.08      3.58      6.81         0.77           NaN        NaN    NaN  \n",
       "2     15.68     12.76      3.79         3.29          82.0        8.3      E  \n",
       "3     15.61     10.93      3.28         2.95          80.0          8      E  \n",
       "4     11.27      8.89     10.22         1.00           NaN        NaN    NaN  \n",
       "5     23.20      2.26      4.22         0.58           NaN        NaN    NaN  \n",
       "6     11.28      9.14      6.50         2.88          89.0        8.5      E  \n",
       "7     13.96      9.18      2.93         2.84          58.0        6.6      E  \n",
       "8     14.44      6.94      4.70         2.24          87.0        8.4      E  \n",
       "9     26.93      0.63      0.28         0.47           NaN        NaN    NaN  "
      ]
     },
     "execution_count": 201,
     "metadata": {},
     "output_type": "execute_result"
    }
   ],
   "source": [
    "df.columns = df.columns.str.lower()\n",
    "df.head(10)"
   ]
  },
  {
   "cell_type": "markdown",
   "metadata": {},
   "source": [
    "<div class=\"alert alert-success\">\n",
    "<h2> Комментарий ревьюера V1<a class=\"tocSkip\"> </h2>\n",
    "\n",
    "<b>Все отлично!👍:</b> Правильно привел названия столбцов к нижнему регистру, молодец!"
   ]
  },
  {
   "cell_type": "markdown",
   "metadata": {},
   "source": [
    "Как мы видим, названия всех столбцов теперь написаны в нижнем регситре. "
   ]
  },
  {
   "cell_type": "markdown",
   "metadata": {},
   "source": [
    "#### Преобразование данных к подходящему типу"
   ]
  },
  {
   "cell_type": "code",
   "execution_count": 202,
   "metadata": {},
   "outputs": [
    {
     "name": "stdout",
     "output_type": "stream",
     "text": [
      "['8' nan '8.3' '8.5' '6.6' '8.4' '8.6' '7.7' '6.3' '7.4' '8.2' '9' '7.9'\n",
      " '8.1' '8.7' '7.1' '3.4' '5.3' '4.8' '3.2' '8.9' '6.4' '7.8' '7.5' '2.6'\n",
      " '7.2' '9.2' '7' '7.3' '4.3' '7.6' '5.7' '5' '9.1' '6.5' 'tbd' '8.8' '6.9'\n",
      " '9.4' '6.8' '6.1' '6.7' '5.4' '4' '4.9' '4.5' '9.3' '6.2' '4.2' '6' '3.7'\n",
      " '4.1' '5.8' '5.6' '5.5' '4.4' '4.6' '5.9' '3.9' '3.1' '2.9' '5.2' '3.3'\n",
      " '4.7' '5.1' '3.5' '2.5' '1.9' '3' '2.7' '2.2' '2' '9.5' '2.1' '3.6' '2.8'\n",
      " '1.8' '3.8' '0' '1.6' '9.6' '2.4' '1.7' '1.1' '0.3' '1.5' '0.7' '1.2'\n",
      " '2.3' '0.5' '1.3' '0.2' '0.6' '1.4' '0.9' '1' '9.7']\n",
      "\n",
      "Корреляция между оценками критиков и пользователей: 0.5808778320767237\n"
     ]
    }
   ],
   "source": [
    "print(df['user_score'].unique())\n",
    "df['user_score'] = df['user_score'].where(df['user_score']!='tbd', np.nan)\n",
    "\n",
    "df['user_score'] = df['user_score'].astype('float64')\n",
    "df['year_of_release'] = df['year_of_release'].astype('Int64')\n",
    "\n",
    "df['critic_score'] = df['critic_score']/10\n",
    "\n",
    "print(f\"\\nКорреляция между оценками критиков и пользователей: {df['critic_score'].corr(df['user_score'])}\")"
   ]
  },
  {
   "cell_type": "markdown",
   "metadata": {},
   "source": [
    "<div class=\"alert alert-success\">\n",
    "<h2> Комментарий ревьюера V1<a class=\"tocSkip\"> </h2>\n",
    "\n",
    "<b>Все отлично!👍:</b> Правильно обработал значения tbd в оценках пользователей. Также привел признаки к верным типам данных, так держать!"
   ]
  },
  {
   "cell_type": "markdown",
   "metadata": {},
   "source": [
    "В столбце `user_score` можно заметить значение **tbd** - это значит, что рейтинг еще не определен, его следует заменить на **NaN**, чтобы столбец стал удобен для рассчетов. В результате замены значений в столбце `user_score`, также потребуется его привести к единому типу `float64`.\n",
    "\n",
    "Год релиза не может быть дробным, поэтому приведем столбец `year_of_release` к типу **int**.\n",
    "\n",
    "Для сравнения `critic_score` и `user_score` данный столбцы должно иметь единую размерность, поэтому все значения `critic_score` умножим на **0.1**.\n",
    "\n",
    "Так как коррелеция между оценками критиков и пользователей равна **0.57** - нельзя сказать, что коррелеция *сильная*, она относится к *средним*, поэтому провести взаимное вычисление пропущеных значений некорректно. "
   ]
  },
  {
   "cell_type": "code",
   "execution_count": 203,
   "metadata": {},
   "outputs": [
    {
     "name": "stdout",
     "output_type": "stream",
     "text": [
      "critic_score    8461\n",
      "user_score      8981\n",
      "rating          6676\n",
      "dtype: int64\n"
     ]
    }
   ],
   "source": [
    "df = df.dropna(subset=['name'])\n",
    "df.dropna(subset=['year_of_release'], inplace = True)\n",
    "print(df.isna().sum()[df.isna().sum()!=0])"
   ]
  },
  {
   "cell_type": "markdown",
   "metadata": {},
   "source": [
    "Исключим строки с пропусками в `названии игры`, так как такие данные *неинформативны*. Также следует исключить строки с пропусками в `датах выпуска`, так как в последующих исследованиях такие данные нам *не пригодятся*."
   ]
  },
  {
   "cell_type": "code",
   "execution_count": 204,
   "metadata": {},
   "outputs": [
    {
     "data": {
      "text/html": [
       "<div>\n",
       "<style scoped>\n",
       "    .dataframe tbody tr th:only-of-type {\n",
       "        vertical-align: middle;\n",
       "    }\n",
       "\n",
       "    .dataframe tbody tr th {\n",
       "        vertical-align: top;\n",
       "    }\n",
       "\n",
       "    .dataframe thead th {\n",
       "        text-align: right;\n",
       "    }\n",
       "</style>\n",
       "<table border=\"1\" class=\"dataframe\">\n",
       "  <thead>\n",
       "    <tr style=\"text-align: right;\">\n",
       "      <th></th>\n",
       "      <th>name</th>\n",
       "      <th>platform</th>\n",
       "      <th>year_of_release</th>\n",
       "      <th>genre</th>\n",
       "      <th>na_sales</th>\n",
       "      <th>eu_sales</th>\n",
       "      <th>jp_sales</th>\n",
       "      <th>other_sales</th>\n",
       "      <th>critic_score</th>\n",
       "      <th>user_score</th>\n",
       "      <th>rating</th>\n",
       "    </tr>\n",
       "  </thead>\n",
       "  <tbody>\n",
       "    <tr>\n",
       "      <th>604</th>\n",
       "      <td>Madden NFL 13</td>\n",
       "      <td>PS3</td>\n",
       "      <td>2012</td>\n",
       "      <td>Sports</td>\n",
       "      <td>2.11</td>\n",
       "      <td>0.22</td>\n",
       "      <td>0.0</td>\n",
       "      <td>0.23</td>\n",
       "      <td>8.3</td>\n",
       "      <td>5.5</td>\n",
       "      <td>E</td>\n",
       "    </tr>\n",
       "    <tr>\n",
       "      <th>16230</th>\n",
       "      <td>Madden NFL 13</td>\n",
       "      <td>PS3</td>\n",
       "      <td>2012</td>\n",
       "      <td>Sports</td>\n",
       "      <td>0.00</td>\n",
       "      <td>0.01</td>\n",
       "      <td>0.0</td>\n",
       "      <td>0.00</td>\n",
       "      <td>8.3</td>\n",
       "      <td>5.5</td>\n",
       "      <td>E</td>\n",
       "    </tr>\n",
       "  </tbody>\n",
       "</table>\n",
       "</div>"
      ],
      "text/plain": [
       "                name platform  year_of_release   genre  na_sales  eu_sales  \\\n",
       "604    Madden NFL 13      PS3             2012  Sports      2.11      0.22   \n",
       "16230  Madden NFL 13      PS3             2012  Sports      0.00      0.01   \n",
       "\n",
       "       jp_sales  other_sales  critic_score  user_score rating  \n",
       "604         0.0         0.23           8.3         5.5      E  \n",
       "16230       0.0         0.00           8.3         5.5      E  "
      ]
     },
     "metadata": {},
     "output_type": "display_data"
    }
   ],
   "source": [
    "display(df[df.duplicated(subset = ['name','platform','year_of_release'], keep= False)])\n",
    "df = df.drop_duplicates(subset = ['name','platform','year_of_release'], keep= 'first')"
   ]
  },
  {
   "cell_type": "markdown",
   "metadata": {},
   "source": [
    "Проверив датасет на полные дубликаты по `названию`, `платформе` и `году выпуска` нашлась одна игра - **Madden NFL 13**, в результате данный дубликат был удален. "
   ]
  },
  {
   "cell_type": "code",
   "execution_count": 205,
   "metadata": {},
   "outputs": [
    {
     "data": {
      "text/plain": [
       "array(['E', 'not_given', 'M', 'T', 'E10+', 'K-A', 'AO', 'EC', 'RP'],\n",
       "      dtype=object)"
      ]
     },
     "execution_count": 205,
     "metadata": {},
     "output_type": "execute_result"
    }
   ],
   "source": [
    "df['rating'] = df['rating'].where(df['rating'].notna() , \"not_given\")\n",
    "df['rating'].unique()"
   ]
  },
  {
   "cell_type": "markdown",
   "metadata": {},
   "source": [
    "Для корректного дальнейшего анализа запоним прпуски в столбце `rating` зачением  `not_given`"
   ]
  },
  {
   "cell_type": "markdown",
   "metadata": {},
   "source": [
    "<div class=\"alert alert-success\">\n",
    "<h2> Комментарий ревьюера V1<a class=\"tocSkip\"> </h2>\n",
    "\n",
    "<b>Все отлично!👍:</b> Правильно обработал пропуски в признаках выше, молодец!"
   ]
  },
  {
   "cell_type": "markdown",
   "metadata": {},
   "source": [
    "<div class=\"alert alert-block alert-danger\">\n",
    "<h2> Комментарий ревьюера V1<a class=\"tocSkip\"></h2>\n",
    "\n",
    "\n",
    "<b>На доработку🤔:</b>\n",
    "Необходимо обработать признак рейтинга игры. В данном признаке около половины пропущенных значений, при этом данный признак категориальный, нужно заполнить их значениями заглушками, чтобы корректно провести в дальнейшем анализ."
   ]
  },
  {
   "cell_type": "markdown",
   "metadata": {},
   "source": [
    "<div class=\"alert alert-block alert-info\">\n",
    "\n",
    "**Комментарий студента**    \n",
    "Замечание учтено, корректировки **внесены**.\n",
    "    \n",
    "    \n",
    "</div>"
   ]
  },
  {
   "cell_type": "markdown",
   "metadata": {},
   "source": [
    "<div class=\"alert alert-success\">\n",
    "<h2> Комментарий ревьюера V2<a class=\"tocSkip\"> </h2>\n",
    "\n",
    "<b>Все отлично!👍:</b> Все отлично, молодец!"
   ]
  },
  {
   "cell_type": "markdown",
   "metadata": {},
   "source": [
    "#### Cуммарные продажи во всех регионах"
   ]
  },
  {
   "cell_type": "code",
   "execution_count": 206,
   "metadata": {},
   "outputs": [
    {
     "data": {
      "text/html": [
       "<div>\n",
       "<style scoped>\n",
       "    .dataframe tbody tr th:only-of-type {\n",
       "        vertical-align: middle;\n",
       "    }\n",
       "\n",
       "    .dataframe tbody tr th {\n",
       "        vertical-align: top;\n",
       "    }\n",
       "\n",
       "    .dataframe thead th {\n",
       "        text-align: right;\n",
       "    }\n",
       "</style>\n",
       "<table border=\"1\" class=\"dataframe\">\n",
       "  <thead>\n",
       "    <tr style=\"text-align: right;\">\n",
       "      <th></th>\n",
       "      <th>name</th>\n",
       "      <th>platform</th>\n",
       "      <th>year_of_release</th>\n",
       "      <th>genre</th>\n",
       "      <th>na_sales</th>\n",
       "      <th>eu_sales</th>\n",
       "      <th>jp_sales</th>\n",
       "      <th>other_sales</th>\n",
       "      <th>critic_score</th>\n",
       "      <th>user_score</th>\n",
       "      <th>rating</th>\n",
       "      <th>total_sales</th>\n",
       "    </tr>\n",
       "  </thead>\n",
       "  <tbody>\n",
       "    <tr>\n",
       "      <th>0</th>\n",
       "      <td>Wii Sports</td>\n",
       "      <td>Wii</td>\n",
       "      <td>2006</td>\n",
       "      <td>Sports</td>\n",
       "      <td>41.36</td>\n",
       "      <td>28.96</td>\n",
       "      <td>3.77</td>\n",
       "      <td>8.45</td>\n",
       "      <td>7.6</td>\n",
       "      <td>8.0</td>\n",
       "      <td>E</td>\n",
       "      <td>82.54</td>\n",
       "    </tr>\n",
       "    <tr>\n",
       "      <th>1</th>\n",
       "      <td>Super Mario Bros.</td>\n",
       "      <td>NES</td>\n",
       "      <td>1985</td>\n",
       "      <td>Platform</td>\n",
       "      <td>29.08</td>\n",
       "      <td>3.58</td>\n",
       "      <td>6.81</td>\n",
       "      <td>0.77</td>\n",
       "      <td>NaN</td>\n",
       "      <td>NaN</td>\n",
       "      <td>not_given</td>\n",
       "      <td>40.24</td>\n",
       "    </tr>\n",
       "    <tr>\n",
       "      <th>2</th>\n",
       "      <td>Mario Kart Wii</td>\n",
       "      <td>Wii</td>\n",
       "      <td>2008</td>\n",
       "      <td>Racing</td>\n",
       "      <td>15.68</td>\n",
       "      <td>12.76</td>\n",
       "      <td>3.79</td>\n",
       "      <td>3.29</td>\n",
       "      <td>8.2</td>\n",
       "      <td>8.3</td>\n",
       "      <td>E</td>\n",
       "      <td>35.52</td>\n",
       "    </tr>\n",
       "    <tr>\n",
       "      <th>3</th>\n",
       "      <td>Wii Sports Resort</td>\n",
       "      <td>Wii</td>\n",
       "      <td>2009</td>\n",
       "      <td>Sports</td>\n",
       "      <td>15.61</td>\n",
       "      <td>10.93</td>\n",
       "      <td>3.28</td>\n",
       "      <td>2.95</td>\n",
       "      <td>8.0</td>\n",
       "      <td>8.0</td>\n",
       "      <td>E</td>\n",
       "      <td>32.77</td>\n",
       "    </tr>\n",
       "    <tr>\n",
       "      <th>4</th>\n",
       "      <td>Pokemon Red/Pokemon Blue</td>\n",
       "      <td>GB</td>\n",
       "      <td>1996</td>\n",
       "      <td>Role-Playing</td>\n",
       "      <td>11.27</td>\n",
       "      <td>8.89</td>\n",
       "      <td>10.22</td>\n",
       "      <td>1.00</td>\n",
       "      <td>NaN</td>\n",
       "      <td>NaN</td>\n",
       "      <td>not_given</td>\n",
       "      <td>31.38</td>\n",
       "    </tr>\n",
       "    <tr>\n",
       "      <th>...</th>\n",
       "      <td>...</td>\n",
       "      <td>...</td>\n",
       "      <td>...</td>\n",
       "      <td>...</td>\n",
       "      <td>...</td>\n",
       "      <td>...</td>\n",
       "      <td>...</td>\n",
       "      <td>...</td>\n",
       "      <td>...</td>\n",
       "      <td>...</td>\n",
       "      <td>...</td>\n",
       "      <td>...</td>\n",
       "    </tr>\n",
       "    <tr>\n",
       "      <th>16710</th>\n",
       "      <td>Samurai Warriors: Sanada Maru</td>\n",
       "      <td>PS3</td>\n",
       "      <td>2016</td>\n",
       "      <td>Action</td>\n",
       "      <td>0.00</td>\n",
       "      <td>0.00</td>\n",
       "      <td>0.01</td>\n",
       "      <td>0.00</td>\n",
       "      <td>NaN</td>\n",
       "      <td>NaN</td>\n",
       "      <td>not_given</td>\n",
       "      <td>0.01</td>\n",
       "    </tr>\n",
       "    <tr>\n",
       "      <th>16711</th>\n",
       "      <td>LMA Manager 2007</td>\n",
       "      <td>X360</td>\n",
       "      <td>2006</td>\n",
       "      <td>Sports</td>\n",
       "      <td>0.00</td>\n",
       "      <td>0.01</td>\n",
       "      <td>0.00</td>\n",
       "      <td>0.00</td>\n",
       "      <td>NaN</td>\n",
       "      <td>NaN</td>\n",
       "      <td>not_given</td>\n",
       "      <td>0.01</td>\n",
       "    </tr>\n",
       "    <tr>\n",
       "      <th>16712</th>\n",
       "      <td>Haitaka no Psychedelica</td>\n",
       "      <td>PSV</td>\n",
       "      <td>2016</td>\n",
       "      <td>Adventure</td>\n",
       "      <td>0.00</td>\n",
       "      <td>0.00</td>\n",
       "      <td>0.01</td>\n",
       "      <td>0.00</td>\n",
       "      <td>NaN</td>\n",
       "      <td>NaN</td>\n",
       "      <td>not_given</td>\n",
       "      <td>0.01</td>\n",
       "    </tr>\n",
       "    <tr>\n",
       "      <th>16713</th>\n",
       "      <td>Spirits &amp; Spells</td>\n",
       "      <td>GBA</td>\n",
       "      <td>2003</td>\n",
       "      <td>Platform</td>\n",
       "      <td>0.01</td>\n",
       "      <td>0.00</td>\n",
       "      <td>0.00</td>\n",
       "      <td>0.00</td>\n",
       "      <td>NaN</td>\n",
       "      <td>NaN</td>\n",
       "      <td>not_given</td>\n",
       "      <td>0.01</td>\n",
       "    </tr>\n",
       "    <tr>\n",
       "      <th>16714</th>\n",
       "      <td>Winning Post 8 2016</td>\n",
       "      <td>PSV</td>\n",
       "      <td>2016</td>\n",
       "      <td>Simulation</td>\n",
       "      <td>0.00</td>\n",
       "      <td>0.00</td>\n",
       "      <td>0.01</td>\n",
       "      <td>0.00</td>\n",
       "      <td>NaN</td>\n",
       "      <td>NaN</td>\n",
       "      <td>not_given</td>\n",
       "      <td>0.01</td>\n",
       "    </tr>\n",
       "  </tbody>\n",
       "</table>\n",
       "<p>16443 rows × 12 columns</p>\n",
       "</div>"
      ],
      "text/plain": [
       "                                name platform  year_of_release         genre  \\\n",
       "0                         Wii Sports      Wii             2006        Sports   \n",
       "1                  Super Mario Bros.      NES             1985      Platform   \n",
       "2                     Mario Kart Wii      Wii             2008        Racing   \n",
       "3                  Wii Sports Resort      Wii             2009        Sports   \n",
       "4           Pokemon Red/Pokemon Blue       GB             1996  Role-Playing   \n",
       "...                              ...      ...              ...           ...   \n",
       "16710  Samurai Warriors: Sanada Maru      PS3             2016        Action   \n",
       "16711               LMA Manager 2007     X360             2006        Sports   \n",
       "16712        Haitaka no Psychedelica      PSV             2016     Adventure   \n",
       "16713               Spirits & Spells      GBA             2003      Platform   \n",
       "16714            Winning Post 8 2016      PSV             2016    Simulation   \n",
       "\n",
       "       na_sales  eu_sales  jp_sales  other_sales  critic_score  user_score  \\\n",
       "0         41.36     28.96      3.77         8.45           7.6         8.0   \n",
       "1         29.08      3.58      6.81         0.77           NaN         NaN   \n",
       "2         15.68     12.76      3.79         3.29           8.2         8.3   \n",
       "3         15.61     10.93      3.28         2.95           8.0         8.0   \n",
       "4         11.27      8.89     10.22         1.00           NaN         NaN   \n",
       "...         ...       ...       ...          ...           ...         ...   \n",
       "16710      0.00      0.00      0.01         0.00           NaN         NaN   \n",
       "16711      0.00      0.01      0.00         0.00           NaN         NaN   \n",
       "16712      0.00      0.00      0.01         0.00           NaN         NaN   \n",
       "16713      0.01      0.00      0.00         0.00           NaN         NaN   \n",
       "16714      0.00      0.00      0.01         0.00           NaN         NaN   \n",
       "\n",
       "          rating  total_sales  \n",
       "0              E        82.54  \n",
       "1      not_given        40.24  \n",
       "2              E        35.52  \n",
       "3              E        32.77  \n",
       "4      not_given        31.38  \n",
       "...          ...          ...  \n",
       "16710  not_given         0.01  \n",
       "16711  not_given         0.01  \n",
       "16712  not_given         0.01  \n",
       "16713  not_given         0.01  \n",
       "16714  not_given         0.01  \n",
       "\n",
       "[16443 rows x 12 columns]"
      ]
     },
     "metadata": {},
     "output_type": "display_data"
    }
   ],
   "source": [
    "df['total_sales'] = df['na_sales']+df['eu_sales']+df['jp_sales']+df['other_sales']\n",
    "display(df) "
   ]
  },
  {
   "cell_type": "markdown",
   "metadata": {},
   "source": [
    "Был добавлен новый столбец `total_sales` содержащий общие продажи по всем регионам."
   ]
  },
  {
   "cell_type": "markdown",
   "metadata": {},
   "source": [
    "<div class=\"alert alert-success\">\n",
    "<h2> Комментарий ревьюера V1<a class=\"tocSkip\"> </h2>\n",
    "\n",
    "<b>Все отлично!👍:</b> Абсолютно верно рассчитал суммарные продажи, молодец!"
   ]
  },
  {
   "cell_type": "markdown",
   "metadata": {},
   "source": [
    "### Исследовательский анализ данных"
   ]
  },
  {
   "cell_type": "markdown",
   "metadata": {},
   "source": [
    "#### Сколько игр выпускалось в разные годы."
   ]
  },
  {
   "cell_type": "code",
   "execution_count": 207,
   "metadata": {},
   "outputs": [
    {
     "data": {
      "text/plain": [
       "[Text(0, 0.5, 'Частота'), Text(0.5, 0, 'Год выпуска')]"
      ]
     },
     "execution_count": 207,
     "metadata": {},
     "output_type": "execute_result"
    },
    {
     "data": {
      "image/png": "[encoded data removed]",
      "text/plain": [
       "<Figure size 432x432 with 1 Axes>"
      ]
     },
     "metadata": {
      "needs_background": "light"
     },
     "output_type": "display_data"
    }
   ],
   "source": [
    "df['year_of_release']\\\n",
    ".hist(bins = 37,figsize = (6,6),grid = True)\\\n",
    ".set(ylabel = 'Частота', xlabel = 'Год выпуска')"
   ]
  },
  {
   "cell_type": "markdown",
   "metadata": {},
   "source": [
    "Только после 1995 года игры начали выходить в относительно большом количестве, а резкий рост начался в 2002 году. В 2002 году произошел \"бум\" игровой индустрии, были впущены такие игры как: Duke Nuken, GTA 3, MAFIA,Resident Evil, Syberia.\n",
    "\n",
    "Делая прогноз на следующий год стоит взять только некоторый веременной промежуток, так как данные до 2000 года в принципе не показательны для 2017."
   ]
  },
  {
   "cell_type": "markdown",
   "metadata": {},
   "source": [
    "<div class=\"alert alert-success\">\n",
    "<h2> Комментарий ревьюера V1<a class=\"tocSkip\"> </h2>\n",
    "\n",
    "<b>Все отлично!👍:</b> Все верно!"
   ]
  },
  {
   "cell_type": "markdown",
   "metadata": {},
   "source": [
    "#### Как менялись продажи по платформам?"
   ]
  },
  {
   "cell_type": "code",
   "execution_count": 208,
   "metadata": {},
   "outputs": [
    {
     "name": "stdout",
     "output_type": "stream",
     "text": [
      "Список из десяти популярных платформ: ['PS2' 'X360' 'PS3' 'Wii' 'DS' 'PS' 'PS4' 'GBA' 'PSP' '3DS']\n"
     ]
    }
   ],
   "source": [
    "# Создание массива из популярных платформ\n",
    "gr = df.pivot_table(index = ['platform'], values='total_sales', aggfunc = ['sum']).reset_index()\n",
    "gr.columns = ['platform','total_sales']\n",
    "gr = gr.sort_values(by = 'total_sales', ascending = False).reset_index(drop = True)\n",
    "top = gr[gr.index < 10 ]['platform']\n",
    "print(f\"Список из десяти популярных платформ: {top.to_numpy(str)}\")\n",
    "# Таблица с сгруппированными данными по платформе и дате релиза\n",
    "gr = df.pivot_table(index = ['year_of_release', 'platform'], values='total_sales', aggfunc = ['sum'])\\\n",
    "    .reset_index()\n",
    "gr.columns = ['years_of_realese','platform','total_sales']"
   ]
  },
  {
   "cell_type": "markdown",
   "metadata": {},
   "source": [
    "Создали список из самых популярных платформ."
   ]
  },
  {
   "cell_type": "code",
   "execution_count": 209,
   "metadata": {},
   "outputs": [
    {
     "data": {
      "image/png": "[encoded data removed]",
      "text/plain": [
       "<Figure size 432x288 with 1 Axes>"
      ]
     },
     "metadata": {
      "needs_background": "light"
     },
     "output_type": "display_data"
    },
    {
     "data": {
      "image/png": "[encoded data removed]",
      "text/plain": [
       "<Figure size 432x288 with 1 Axes>"
      ]
     },
     "metadata": {
      "needs_background": "light"
     },
     "output_type": "display_data"
    },
    {
     "data": {
      "image/png": "[encoded data removed]",
      "text/plain": [
       "<Figure size 432x288 with 1 Axes>"
      ]
     },
     "metadata": {
      "needs_background": "light"
     },
     "output_type": "display_data"
    },
    {
     "data": {
      "image/png": "[encoded data removed]",
      "text/plain": [
       "<Figure size 432x288 with 1 Axes>"
      ]
     },
     "metadata": {
      "needs_background": "light"
     },
     "output_type": "display_data"
    },
    {
     "data": {
      "image/png": "[encoded data removed]",
      "text/plain": [
       "<Figure size 432x288 with 1 Axes>"
      ]
     },
     "metadata": {
      "needs_background": "light"
     },
     "output_type": "display_data"
    },
    {
     "data": {
      "image/png": "[encoded data removed]",
      "text/plain": [
       "<Figure size 432x288 with 1 Axes>"
      ]
     },
     "metadata": {
      "needs_background": "light"
     },
     "output_type": "display_data"
    },
    {
     "data": {
      "image/png": "[encoded data removed]",
      "text/plain": [
       "<Figure size 432x288 with 1 Axes>"
      ]
     },
     "metadata": {
      "needs_background": "light"
     },
     "output_type": "display_data"
    },
    {
     "data": {
      "image/png": "[encoded data removed]",
      "text/plain": [
       "<Figure size 432x288 with 1 Axes>"
      ]
     },
     "metadata": {
      "needs_background": "light"
     },
     "output_type": "display_data"
    },
    {
     "data": {
      "image/png": "[encoded data removed]",
      "text/plain": [
       "<Figure size 432x288 with 1 Axes>"
      ]
     },
     "metadata": {
      "needs_background": "light"
     },
     "output_type": "display_data"
    },
    {
     "data": {
      "image/png": "[encoded data removed]",
      "text/plain": [
       "<Figure size 432x288 with 1 Axes>"
      ]
     },
     "metadata": {
      "needs_background": "light"
     },
     "output_type": "display_data"
    },
    {
     "name": "stdout",
     "output_type": "stream",
     "text": [
      "Среднее время жизни платформ: 7\n"
     ]
    }
   ],
   "source": [
    "life_cycle = []\n",
    "for one_best in top:\n",
    "    sb.barplot(x=gr[gr['platform']==one_best]['years_of_realese'],y = gr[gr['platform']==one_best]['total_sales'])\\\n",
    "        .set(ylabel = 'Продажи, млн. долл.', xlabel = 'Год выпуска', title = one_best)\n",
    "    plt.show()\n",
    "    one_platform = gr[gr['platform']==one_best]['total_sales']\n",
    "    life_cycle\\\n",
    "        .append(one_platform[gr[gr['platform']==one_best]['total_sales']>=gr[gr['platform']==one_best]['total_sales']\\\n",
    "        .max()*0.2].count())\n",
    "print(f\"Среднее время жизни платформ: {round(np.average(life_cycle))}\")"
   ]
  },
  {
   "cell_type": "markdown",
   "metadata": {},
   "source": [
    "Некоторые платформы могут продваться `десятки лет`, но пик их `продаж и актуальность` давно в прошлом.\n",
    "\n",
    "Для популярных платформ стоит рассмотреть тот период продаж, когда их прибыль еще сравнима с пиковой (в пределах **80%**). По этим данным узнаем среднее время жизни платформ **~ 7 лет**"
   ]
  },
  {
   "cell_type": "markdown",
   "metadata": {},
   "source": [
    "#### Рассмотрим данные только за актуальный период"
   ]
  },
  {
   "cell_type": "markdown",
   "metadata": {},
   "source": [
    "**Актуальным периодом** будем считать временной промежуток равный `времени жизни платформ`, где исследуемый год находится в `середине`."
   ]
  },
  {
   "cell_type": "markdown",
   "metadata": {},
   "source": [
    "<div class=\"alert alert-success\">\n",
    "<h2> Комментарий ревьюера V1<a class=\"tocSkip\"> </h2>\n",
    "\n",
    "<b>Все отлично!👍:</b> Абсолютно правильно определил актуальные период данных."
   ]
  },
  {
   "cell_type": "code",
   "execution_count": 210,
   "metadata": {},
   "outputs": [
    {
     "data": {
      "text/html": [
       "<div>\n",
       "<style scoped>\n",
       "    .dataframe tbody tr th:only-of-type {\n",
       "        vertical-align: middle;\n",
       "    }\n",
       "\n",
       "    .dataframe tbody tr th {\n",
       "        vertical-align: top;\n",
       "    }\n",
       "\n",
       "    .dataframe thead th {\n",
       "        text-align: right;\n",
       "    }\n",
       "</style>\n",
       "<table border=\"1\" class=\"dataframe\">\n",
       "  <thead>\n",
       "    <tr style=\"text-align: right;\">\n",
       "      <th></th>\n",
       "      <th>name</th>\n",
       "      <th>platform</th>\n",
       "      <th>year_of_release</th>\n",
       "      <th>genre</th>\n",
       "      <th>na_sales</th>\n",
       "      <th>eu_sales</th>\n",
       "      <th>jp_sales</th>\n",
       "      <th>other_sales</th>\n",
       "      <th>critic_score</th>\n",
       "      <th>user_score</th>\n",
       "      <th>rating</th>\n",
       "      <th>total_sales</th>\n",
       "    </tr>\n",
       "  </thead>\n",
       "  <tbody>\n",
       "    <tr>\n",
       "      <th>0</th>\n",
       "      <td>Grand Theft Auto V</td>\n",
       "      <td>PS3</td>\n",
       "      <td>2013</td>\n",
       "      <td>Action</td>\n",
       "      <td>7.02</td>\n",
       "      <td>9.09</td>\n",
       "      <td>0.98</td>\n",
       "      <td>3.96</td>\n",
       "      <td>9.7</td>\n",
       "      <td>8.2</td>\n",
       "      <td>M</td>\n",
       "      <td>21.05</td>\n",
       "    </tr>\n",
       "    <tr>\n",
       "      <th>1</th>\n",
       "      <td>Grand Theft Auto V</td>\n",
       "      <td>X360</td>\n",
       "      <td>2013</td>\n",
       "      <td>Action</td>\n",
       "      <td>9.66</td>\n",
       "      <td>5.14</td>\n",
       "      <td>0.06</td>\n",
       "      <td>1.41</td>\n",
       "      <td>9.7</td>\n",
       "      <td>8.1</td>\n",
       "      <td>M</td>\n",
       "      <td>16.27</td>\n",
       "    </tr>\n",
       "    <tr>\n",
       "      <th>2</th>\n",
       "      <td>Call of Duty: Black Ops 3</td>\n",
       "      <td>PS4</td>\n",
       "      <td>2015</td>\n",
       "      <td>Shooter</td>\n",
       "      <td>6.03</td>\n",
       "      <td>5.86</td>\n",
       "      <td>0.36</td>\n",
       "      <td>2.38</td>\n",
       "      <td>NaN</td>\n",
       "      <td>NaN</td>\n",
       "      <td>not_given</td>\n",
       "      <td>14.63</td>\n",
       "    </tr>\n",
       "    <tr>\n",
       "      <th>3</th>\n",
       "      <td>Pokemon X/Pokemon Y</td>\n",
       "      <td>3DS</td>\n",
       "      <td>2013</td>\n",
       "      <td>Role-Playing</td>\n",
       "      <td>5.28</td>\n",
       "      <td>4.19</td>\n",
       "      <td>4.35</td>\n",
       "      <td>0.78</td>\n",
       "      <td>NaN</td>\n",
       "      <td>NaN</td>\n",
       "      <td>not_given</td>\n",
       "      <td>14.60</td>\n",
       "    </tr>\n",
       "    <tr>\n",
       "      <th>4</th>\n",
       "      <td>Grand Theft Auto V</td>\n",
       "      <td>PS4</td>\n",
       "      <td>2014</td>\n",
       "      <td>Action</td>\n",
       "      <td>3.96</td>\n",
       "      <td>6.31</td>\n",
       "      <td>0.38</td>\n",
       "      <td>1.97</td>\n",
       "      <td>9.7</td>\n",
       "      <td>8.3</td>\n",
       "      <td>M</td>\n",
       "      <td>12.62</td>\n",
       "    </tr>\n",
       "    <tr>\n",
       "      <th>...</th>\n",
       "      <td>...</td>\n",
       "      <td>...</td>\n",
       "      <td>...</td>\n",
       "      <td>...</td>\n",
       "      <td>...</td>\n",
       "      <td>...</td>\n",
       "      <td>...</td>\n",
       "      <td>...</td>\n",
       "      <td>...</td>\n",
       "      <td>...</td>\n",
       "      <td>...</td>\n",
       "      <td>...</td>\n",
       "    </tr>\n",
       "    <tr>\n",
       "      <th>2228</th>\n",
       "      <td>Strawberry Nauts</td>\n",
       "      <td>PSV</td>\n",
       "      <td>2016</td>\n",
       "      <td>Adventure</td>\n",
       "      <td>0.00</td>\n",
       "      <td>0.00</td>\n",
       "      <td>0.01</td>\n",
       "      <td>0.00</td>\n",
       "      <td>NaN</td>\n",
       "      <td>NaN</td>\n",
       "      <td>not_given</td>\n",
       "      <td>0.01</td>\n",
       "    </tr>\n",
       "    <tr>\n",
       "      <th>2229</th>\n",
       "      <td>Aiyoku no Eustia</td>\n",
       "      <td>PSV</td>\n",
       "      <td>2014</td>\n",
       "      <td>Misc</td>\n",
       "      <td>0.00</td>\n",
       "      <td>0.00</td>\n",
       "      <td>0.01</td>\n",
       "      <td>0.00</td>\n",
       "      <td>NaN</td>\n",
       "      <td>NaN</td>\n",
       "      <td>not_given</td>\n",
       "      <td>0.01</td>\n",
       "    </tr>\n",
       "    <tr>\n",
       "      <th>2230</th>\n",
       "      <td>Samurai Warriors: Sanada Maru</td>\n",
       "      <td>PS3</td>\n",
       "      <td>2016</td>\n",
       "      <td>Action</td>\n",
       "      <td>0.00</td>\n",
       "      <td>0.00</td>\n",
       "      <td>0.01</td>\n",
       "      <td>0.00</td>\n",
       "      <td>NaN</td>\n",
       "      <td>NaN</td>\n",
       "      <td>not_given</td>\n",
       "      <td>0.01</td>\n",
       "    </tr>\n",
       "    <tr>\n",
       "      <th>2231</th>\n",
       "      <td>Haitaka no Psychedelica</td>\n",
       "      <td>PSV</td>\n",
       "      <td>2016</td>\n",
       "      <td>Adventure</td>\n",
       "      <td>0.00</td>\n",
       "      <td>0.00</td>\n",
       "      <td>0.01</td>\n",
       "      <td>0.00</td>\n",
       "      <td>NaN</td>\n",
       "      <td>NaN</td>\n",
       "      <td>not_given</td>\n",
       "      <td>0.01</td>\n",
       "    </tr>\n",
       "    <tr>\n",
       "      <th>2232</th>\n",
       "      <td>Winning Post 8 2016</td>\n",
       "      <td>PSV</td>\n",
       "      <td>2016</td>\n",
       "      <td>Simulation</td>\n",
       "      <td>0.00</td>\n",
       "      <td>0.00</td>\n",
       "      <td>0.01</td>\n",
       "      <td>0.00</td>\n",
       "      <td>NaN</td>\n",
       "      <td>NaN</td>\n",
       "      <td>not_given</td>\n",
       "      <td>0.01</td>\n",
       "    </tr>\n",
       "  </tbody>\n",
       "</table>\n",
       "<p>2233 rows × 12 columns</p>\n",
       "</div>"
      ],
      "text/plain": [
       "                               name platform  year_of_release         genre  \\\n",
       "0                Grand Theft Auto V      PS3             2013        Action   \n",
       "1                Grand Theft Auto V     X360             2013        Action   \n",
       "2         Call of Duty: Black Ops 3      PS4             2015       Shooter   \n",
       "3               Pokemon X/Pokemon Y      3DS             2013  Role-Playing   \n",
       "4                Grand Theft Auto V      PS4             2014        Action   \n",
       "...                             ...      ...              ...           ...   \n",
       "2228               Strawberry Nauts      PSV             2016     Adventure   \n",
       "2229               Aiyoku no Eustia      PSV             2014          Misc   \n",
       "2230  Samurai Warriors: Sanada Maru      PS3             2016        Action   \n",
       "2231        Haitaka no Psychedelica      PSV             2016     Adventure   \n",
       "2232            Winning Post 8 2016      PSV             2016    Simulation   \n",
       "\n",
       "      na_sales  eu_sales  jp_sales  other_sales  critic_score  user_score  \\\n",
       "0         7.02      9.09      0.98         3.96           9.7         8.2   \n",
       "1         9.66      5.14      0.06         1.41           9.7         8.1   \n",
       "2         6.03      5.86      0.36         2.38           NaN         NaN   \n",
       "3         5.28      4.19      4.35         0.78           NaN         NaN   \n",
       "4         3.96      6.31      0.38         1.97           9.7         8.3   \n",
       "...        ...       ...       ...          ...           ...         ...   \n",
       "2228      0.00      0.00      0.01         0.00           NaN         NaN   \n",
       "2229      0.00      0.00      0.01         0.00           NaN         NaN   \n",
       "2230      0.00      0.00      0.01         0.00           NaN         NaN   \n",
       "2231      0.00      0.00      0.01         0.00           NaN         NaN   \n",
       "2232      0.00      0.00      0.01         0.00           NaN         NaN   \n",
       "\n",
       "         rating  total_sales  \n",
       "0             M        21.05  \n",
       "1             M        16.27  \n",
       "2     not_given        14.63  \n",
       "3     not_given        14.60  \n",
       "4             M        12.62  \n",
       "...         ...          ...  \n",
       "2228  not_given         0.01  \n",
       "2229  not_given         0.01  \n",
       "2230  not_given         0.01  \n",
       "2231  not_given         0.01  \n",
       "2232  not_given         0.01  \n",
       "\n",
       "[2233 rows x 12 columns]"
      ]
     },
     "metadata": {},
     "output_type": "display_data"
    }
   ],
   "source": [
    "df_relevant = df[df[\"year_of_release\"] >= 2017 - round(round(np.average(life_cycle))/2)].reset_index(drop=True)\n",
    "display(df_relevant)"
   ]
  },
  {
   "cell_type": "markdown",
   "metadata": {},
   "source": [
    "В результате фильтрации датасета по актальному периоду остается всего **2232** строк для анализа."
   ]
  },
  {
   "cell_type": "markdown",
   "metadata": {},
   "source": [
    "#### Потенциально прибыльные платформы"
   ]
  },
  {
   "cell_type": "code",
   "execution_count": 211,
   "metadata": {},
   "outputs": [
    {
     "data": {
      "image/png": "[encoded data removed]",
      "text/plain": [
       "<Figure size 432x288 with 1 Axes>"
      ]
     },
     "metadata": {
      "needs_background": "light"
     },
     "output_type": "display_data"
    },
    {
     "data": {
      "image/png": "[encoded data removed]",
      "text/plain": [
       "<Figure size 432x288 with 1 Axes>"
      ]
     },
     "metadata": {
      "needs_background": "light"
     },
     "output_type": "display_data"
    },
    {
     "data": {
      "image/png": "[encoded data removed]",
      "text/plain": [
       "<Figure size 432x288 with 1 Axes>"
      ]
     },
     "metadata": {
      "needs_background": "light"
     },
     "output_type": "display_data"
    },
    {
     "data": {
      "image/png": "[encoded data removed]",
      "text/plain": [
       "<Figure size 432x288 with 1 Axes>"
      ]
     },
     "metadata": {
      "needs_background": "light"
     },
     "output_type": "display_data"
    },
    {
     "data": {
      "image/png": "[encoded data removed]",
      "text/plain": [
       "<Figure size 432x288 with 1 Axes>"
      ]
     },
     "metadata": {
      "needs_background": "light"
     },
     "output_type": "display_data"
    },
    {
     "data": {
      "image/png": "[encoded data removed]",
      "text/plain": [
       "<Figure size 432x288 with 1 Axes>"
      ]
     },
     "metadata": {
      "needs_background": "light"
     },
     "output_type": "display_data"
    },
    {
     "data": {
      "image/png": "[encoded data removed]",
      "text/plain": [
       "<Figure size 432x288 with 1 Axes>"
      ]
     },
     "metadata": {
      "needs_background": "light"
     },
     "output_type": "display_data"
    },
    {
     "data": {
      "image/png": "[encoded data removed]",
      "text/plain": [
       "<Figure size 432x288 with 1 Axes>"
      ]
     },
     "metadata": {
      "needs_background": "light"
     },
     "output_type": "display_data"
    },
    {
     "data": {
      "image/png": "[encoded data removed]",
      "text/plain": [
       "<Figure size 432x288 with 1 Axes>"
      ]
     },
     "metadata": {
      "needs_background": "light"
     },
     "output_type": "display_data"
    }
   ],
   "source": [
    "gr = df_relevant.pivot_table(index = ['year_of_release','platform'], values = 'total_sales', aggfunc = 'sum').reset_index()\n",
    "gr.columns = ['year_of_release','platform','total_sales']\n",
    "df_relevant = df_relevant[(df_relevant[\"platform\"]!= 'PSP')&(df_relevant[\"platform\"]!='DS')]\n",
    "\n",
    "for one_popular in df_relevant['platform'].unique():\n",
    "        sb.barplot(x = gr[gr['platform'] == one_popular]['year_of_release'],y = gr[gr['platform']==one_popular]['total_sales']).set_title(one_popular)\n",
    "        plt.show()"
   ]
  },
  {
   "cell_type": "markdown",
   "metadata": {},
   "source": [
    "По графикам выше можно сделать вывод, что в следующем году еще будут приносить прибыль платформы: `PS4,XOne,3DS`.\n",
    "Но их жизненный цикл заканчивается и `продажи падают`, скорее всего в близжайший **1-2 года** будут выпущены новые платформы.\n",
    "Насчет `PC` можно сказать, что не у всех людей достаточно мощные компьютеры для поддержки игр, а также многие пользуются пиратскими версиями."
   ]
  },
  {
   "cell_type": "markdown",
   "metadata": {},
   "source": [
    "<div class=\"alert alert-success\">\n",
    "<h2> Комментарий ревьюера V1<a class=\"tocSkip\"> </h2>\n",
    "\n",
    "<b>Все отлично!👍:</b> И снова все верно, продолжай в том же духе!"
   ]
  },
  {
   "cell_type": "markdown",
   "metadata": {},
   "source": [
    "#### Постройте график «ящик с усами»"
   ]
  },
  {
   "cell_type": "code",
   "execution_count": 212,
   "metadata": {},
   "outputs": [
    {
     "data": {
      "image/png": "[encoded data removed]",
      "text/plain": [
       "<Figure size 432x288 with 1 Axes>"
      ]
     },
     "metadata": {
      "needs_background": "light"
     },
     "output_type": "display_data"
    },
    {
     "data": {
      "image/png": "[encoded data removed]",
      "text/plain": [
       "<Figure size 432x288 with 1 Axes>"
      ]
     },
     "metadata": {
      "needs_background": "light"
     },
     "output_type": "display_data"
    }
   ],
   "source": [
    "sb.boxplot(data = df_relevant, x = 'platform', y = 'total_sales').set(ylim=(0,10),ylabel = 'Продажи, млн. долл.', xlabel = '', title = 'BoxPlot')\n",
    "plt.show()\n",
    "sb.boxplot(data = df_relevant, x = 'platform', y = 'total_sales').set(ylim=(0,2),ylabel = 'Продажи, млн. долл.', xlabel = '', title = 'BoxPlot')\n",
    "plt.show()"
   ]
  },
  {
   "cell_type": "markdown",
   "metadata": {},
   "source": [
    "<div class=\"alert alert-block alert-danger\">\n",
    "<h2> Комментарий ревьюера V1<a class=\"tocSkip\"></h2>\n",
    "\n",
    "\n",
    "<b>На доработку🤔:</b>\n",
    "Нужно построить вторую диаграмму, на которой ты ограничишь масштаб графика по оси Y. Сейчас нельзя сравнить статистики платформ между собой."
   ]
  },
  {
   "cell_type": "markdown",
   "metadata": {},
   "source": [
    "<div class=\"alert alert-success\">\n",
    "<h2> Комментарий ревьюера V2<a class=\"tocSkip\"> </h2>\n",
    "\n",
    "<b>Все отлично!👍:</b> Все правильно доработал, продолжай в том же духе."
   ]
  },
  {
   "cell_type": "markdown",
   "metadata": {},
   "source": [
    "Из графика можно узнать, что медианные продажи выше всего у X360,PS4,XOne,Wii. Ниже всего медианные продажи у PSV,3DS,PC - это объясняется тем, что портативные консоли не так популярны как полноценные, а игры для PC обычно дешевле, либо пользуются пиратством.\n",
    "\n",
    "Также разброс цен больше всего у платформ: 3DS и PS4, чуть меньшим, но тоже большим разбросом продаж обладают XOne и PS3. Данна информация говорит о том, что на этих платформах есть игры, которые в десятки раз популярнее среднестатистических, в том числе именно из-за таких бестселлеров могут купить приставку."
   ]
  },
  {
   "cell_type": "markdown",
   "metadata": {},
   "source": [
    "<div class=\"alert alert-block alert-info\">\n",
    "\n",
    "**Комментарий студента**    \n",
    "Замечание учтено, корректировки **внесены**.\n",
    "    \n",
    "    \n",
    "</div>"
   ]
  },
  {
   "cell_type": "markdown",
   "metadata": {},
   "source": [
    "#### Влияние отзывов пьзователей и критиков на продажи внутри одной платформы"
   ]
  },
  {
   "cell_type": "code",
   "execution_count": 213,
   "metadata": {},
   "outputs": [],
   "source": [
    "def corr_for_score(df,console):\n",
    "    gr = df.query('platform == @console')\n",
    "\n",
    "    plot = sb.pairplot(gr[['total_sales','critic_score','user_score']], diag_kind='kde', y_vars = \"total_sales\") \n",
    "    plot.fig.suptitle(console, y=1.15)\n",
    "    plt.show()\n",
    "    print(f\"Корреляция оценки пользователей и общих продаж: {gr['total_sales'].corr(gr['critic_score']):.2f}\")\n",
    "    print(f\"Корреляция оценки критиков и общих продаж: {gr['total_sales'].corr(gr['user_score']):.2f}\")"
   ]
  },
  {
   "cell_type": "code",
   "execution_count": 214,
   "metadata": {},
   "outputs": [
    {
     "data": {
      "image/png": "[encoded data removed]",
      "text/plain": [
       "<Figure size 540x180 with 4 Axes>"
      ]
     },
     "metadata": {
      "needs_background": "light"
     },
     "output_type": "display_data"
    },
    {
     "name": "stdout",
     "output_type": "stream",
     "text": [
      "Корреляция оценки пользователей и общих продаж: 0.41\n",
      "Корреляция оценки критиков и общих продаж: -0.03\n"
     ]
    }
   ],
   "source": [
    "corr_for_score(df_relevant, 'PS4')"
   ]
  },
  {
   "cell_type": "markdown",
   "metadata": {},
   "source": [
    "<div class=\"alert alert-block alert-danger\">\n",
    "<h2> Комментарий ревьюера V1<a class=\"tocSkip\"></h2>\n",
    "\n",
    "\n",
    "<b>На доработку🤔:</b>\n",
    "Ты неправильно определил коэффициенты корреляции. Его нужно рассчитать на исходном датафрейме без каких либо агрегаций."
   ]
  },
  {
   "cell_type": "markdown",
   "metadata": {},
   "source": [
    "Рассмотрев корреляцию для оценок пользователей и критиков, можно сделать вывод, что **сильнее** влияют на общие продажи `оценки пользователей`, чем чем `критиков`. Корреляция оценок пользователей слабая - 0.41, в то же время корреляция для оценок критиков вообще нулевая, это говорит о том, что люди при покупке игры ориентируются только на оценки пользователей и то не всегда.\n",
    "\n",
    "Также зависимость проявляется сильнее всего, когда оценки игры выше **~5**"
   ]
  },
  {
   "cell_type": "markdown",
   "metadata": {},
   "source": [
    "<div class=\"alert alert-block alert-info\">\n",
    "\n",
    "**Комментарий студента**    \n",
    "Замечание учтено, корректировки **внесены**.\n",
    "    \n",
    "    \n",
    "</div>"
   ]
  },
  {
   "cell_type": "markdown",
   "metadata": {},
   "source": [
    "<div class=\"alert alert-warning\">\n",
    "<h2> Комментарий ревьюера V2<a class=\"tocSkip\"> </h2>\n",
    "\n",
    "<b>Некоторые замечания и рекомендации💡:</b> Ты перепутал подписи оценок критиков и пользователей между собой. Это оценки пользователей совсем не влияют на продажи, а оценки критикво в некоторой степени влияют на продажи."
   ]
  },
  {
   "cell_type": "markdown",
   "metadata": {},
   "source": [
    "#### Влияние отзывов на продажи в остальных платформах"
   ]
  },
  {
   "cell_type": "code",
   "execution_count": 215,
   "metadata": {},
   "outputs": [
    {
     "data": {
      "image/png": "[encoded data removed]",
      "text/plain": [
       "<Figure size 540x180 with 4 Axes>"
      ]
     },
     "metadata": {
      "needs_background": "light"
     },
     "output_type": "display_data"
    },
    {
     "name": "stdout",
     "output_type": "stream",
     "text": [
      "Корреляция оценки пользователей и общих продаж: 0.36\n",
      "Корреляция оценки критиков и общих продаж: 0.24\n"
     ]
    },
    {
     "data": {
      "image/png": "[encoded data removed]",
      "text/plain": [
       "<Figure size 540x180 with 4 Axes>"
      ]
     },
     "metadata": {
      "needs_background": "light"
     },
     "output_type": "display_data"
    },
    {
     "name": "stdout",
     "output_type": "stream",
     "text": [
      "Корреляция оценки пользователей и общих продаж: 0.42\n",
      "Корреляция оценки критиков и общих продаж: -0.07\n"
     ]
    }
   ],
   "source": [
    "for one_popular in [\"3DS\",\"XOne\"]:\n",
    "    corr_for_score(df_relevant,one_popular)"
   ]
  },
  {
   "cell_type": "markdown",
   "metadata": {},
   "source": [
    "<div class=\"alert alert-block alert-danger\">\n",
    "<h2> Комментарий ревьюера V1<a class=\"tocSkip\"></h2>\n",
    "\n",
    "\n",
    "<b>На доработку🤔:</b>\n",
    "Аналогичный комментарий, нужно изменить рассчет коэффициентов корреляции."
   ]
  },
  {
   "cell_type": "markdown",
   "metadata": {},
   "source": [
    "Для платформы **Nintendo** большее влияние на продажи оказывают `оценки пользователей`, корреляция в данном случае составляет **0.36**, но корреляция для оценок критиков немногим меньше - 0.24. Можно сказать, что на оценки критиков и пользователей при покупке игр ориентируются в одинаковой степени, но все равно очень редко.\n",
    "\n",
    "Для платформы **Xbox One** все соверешенно наоборот, `критиков` *никак не влияют* на продажи, в то время как от `оценок пользователей` продажи зависят на порядки сильнее, корреляция - 0.42, что все равно является слабой зависимостью.\n",
    "\n",
    "Зависимость проявляется сильнее всего, когда оценки игры выше **~5**"
   ]
  },
  {
   "cell_type": "markdown",
   "metadata": {},
   "source": [
    "<div class=\"alert alert-block alert-info\">\n",
    "\n",
    "**Комментарий студента**    \n",
    "Замечание учтено, корректировки **внесены**.\n",
    "    \n",
    "    \n",
    "</div>"
   ]
  },
  {
   "cell_type": "markdown",
   "metadata": {},
   "source": [
    "<div class=\"alert alert-warning\">\n",
    "<h2> Комментарий ревьюера V2<a class=\"tocSkip\"> </h2>\n",
    "\n",
    "<b>Некоторые замечания и рекомендации💡:</b> Ты правильно все рассчитал, однако в выводе перепутал оценки между собой."
   ]
  },
  {
   "cell_type": "markdown",
   "metadata": {},
   "source": [
    "#### Общее распределение игр по жанрам <a id='3.8'></a>"
   ]
  },
  {
   "cell_type": "code",
   "execution_count": 216,
   "metadata": {},
   "outputs": [
    {
     "name": "stdout",
     "output_type": "stream",
     "text": [
      "Количество жанров: 12\n"
     ]
    },
    {
     "data": {
      "image/png": "[encoded data removed]",
      "text/plain": [
       "<Figure size 432x288 with 1 Axes>"
      ]
     },
     "metadata": {
      "needs_background": "light"
     },
     "output_type": "display_data"
    },
    {
     "data": {
      "image/png": "[encoded data removed]",
      "text/plain": [
       "<Figure size 432x288 with 1 Axes>"
      ]
     },
     "metadata": {
      "needs_background": "light"
     },
     "output_type": "display_data"
    }
   ],
   "source": [
    "print(f\"Количество жанров: {len(df_relevant['genre'].unique())}\")\n",
    "df_relevant['genre'].hist(bins = 12,grid = True, xlabelsize = 15, xrot = 90)\\\n",
    "    .set_title('Общее распределение по жанрам')\n",
    "plt.show()\n",
    "df_gr = df_relevant.pivot_table(index = 'genre',values ='total_sales' , aggfunc = ['sum','median'])\\\n",
    "    .reset_index()\n",
    "df_gr.columns = ['genre','total_sales','median']\n",
    "df_gr = df_gr.sort_values(by ='median', ascending = False)\n",
    "sb.barplot(x =df_gr['median'] ,y = df_gr['genre'])\\\n",
    "    .set(ylabel = '', xlabel = 'Медианные продажи отедльной игры, млн.долл.', title = 'Прибыльность по жанрам')\n",
    "plt.show()"
   ]
  },
  {
   "cell_type": "markdown",
   "metadata": {},
   "source": [
    "Игр в жанре `Экшн` выпускается больше всего в разы, вследствие чего прибыль от их продажи самая большая, но в среднем прибыльность отдельного проекта будет небольшой, как мы видим из графика их медианные продажи занимают 8 место в списке.\n",
    "\n",
    "В то время как игры в жанре `Шутер` выпускается в **4 раза меньше**, но прибыль с этих проектов всего на **20 %** меньше в сравнении с `Экшеном`, можно сделать вывод, что самым прибыльным жанром явлется `Шутер` с медианными продажами 0.4 млн.долл.\n",
    "\n",
    "Жанры `Role-Playing, Sports, Platform и Fighting` имеют высокие продажи при сравнительно небольшом количестве релизов, что делает их также прибыльнее, чем игры жанра `Экшн`, данные жанры занимают первые 5 мест в списке самых прибыльных.\n",
    "\n",
    "Рассмотрим жанры с низкими продажами, тут выделяется жанр `Приключения`, игр в данном направлении выпускается много, но прибыль очень низкая в сравнении с другими жанрами с той же частотой выпуска игр, следовательно из графика данный жанр занимает последнее место по прибыльности.\n",
    "\n",
    "Также самыми низкими продажами и частотой выпуска игр обладают жанры: `Головоломки,Стратегии и Симуляторы`"
   ]
  },
  {
   "cell_type": "markdown",
   "metadata": {},
   "source": [
    "<div class=\"alert alert-block alert-danger\">\n",
    "<h2> Комментарий ревьюера V1<a class=\"tocSkip\"></h2>\n",
    "\n",
    "\n",
    "<b>На доработку🤔:</b>\n",
    "В данном пункте нужно рассматривать не суммы продаж разных платформ, а медианы. Так ты сможешь игнорировать влияние выбросов (продажи игр бестселлеров) на выводы."
   ]
  },
  {
   "cell_type": "markdown",
   "metadata": {},
   "source": [
    "<div class=\"alert alert-block alert-info\">\n",
    "\n",
    "**Комментарий студента**    \n",
    "Замечание учтено, корректировки **внесены**.\n",
    "    \n",
    "    \n",
    "</div>"
   ]
  },
  {
   "cell_type": "markdown",
   "metadata": {},
   "source": [
    "<div class=\"alert alert-success\">\n",
    "<h2> Комментарий ревьюера V2<a class=\"tocSkip\"> </h2>\n",
    "\n",
    "<b>Все отлично!👍:</b> Абсолютно верный вывод, молодец!"
   ]
  },
  {
   "cell_type": "markdown",
   "metadata": {},
   "source": [
    "### Портрет пользователя по регионам"
   ]
  },
  {
   "cell_type": "markdown",
   "metadata": {},
   "source": [
    "#### Самые популярные платформы"
   ]
  },
  {
   "cell_type": "code",
   "execution_count": 217,
   "metadata": {},
   "outputs": [
    {
     "data": {
      "image/png": "[encoded data removed]",
      "text/plain": [
       "<Figure size 432x432 with 1 Axes>"
      ]
     },
     "metadata": {},
     "output_type": "display_data"
    },
    {
     "data": {
      "image/png": "[encoded data removed]",
      "text/plain": [
       "<Figure size 432x432 with 1 Axes>"
      ]
     },
     "metadata": {},
     "output_type": "display_data"
    },
    {
     "data": {
      "image/png": "[encoded data removed]",
      "text/plain": [
       "<Figure size 432x432 with 1 Axes>"
      ]
     },
     "metadata": {},
     "output_type": "display_data"
    },
    {
     "data": {
      "image/png": "[encoded data removed]",
      "text/plain": [
       "<Figure size 432x432 with 1 Axes>"
      ]
     },
     "metadata": {},
     "output_type": "display_data"
    }
   ],
   "source": [
    "for region in ['na_sales','eu_sales','jp_sales', 'other_sales']:\n",
    "    gr = df_relevant.pivot_table(index = 'platform', values = region, aggfunc = 'sum')\\\n",
    "        .sort_values(by = region,ascending =False).reset_index()\n",
    "    others = gr.query(\"index > 4\")[region].sum()\n",
    "    gr = gr.query(\"index <= 4\")\n",
    "    gr = gr.append({'platform':'other',region: others}, ignore_index = True)\n",
    "    gr[region].plot.pie(labels= gr['platform'],autopct=\"%.0f%%\",fontsize=15,figsize=(6, 6))\\\n",
    "        .set(ylabel = '', title = '\\n'+region+'\\n')\n",
    "    plt.show()\n"
   ]
  },
  {
   "cell_type": "markdown",
   "metadata": {},
   "source": [
    "На данных круговых диаграммах изображены доли продаж консолей относительно всех продаж на рынке, исходя из этого, можно сделать вывод:\n",
    "\n",
    "В *Америке* популярнее всего `PS4`, но `X360 и XOne` отстают всего на **5%**. Меньше всего же продаж у японской приставки `3DS` - **9%** от всех продаж.\n",
    "\n",
    "В *Европе* доминирует `PS4` - **36%**, следующей идет модель чуть старее `PS3` - **17%**, в Европе отдают предпочтение приставкам `Sony`, а не `Xbox`. В аутсайдерах также `3DS` - **8%** от всех продаж.\n",
    "\n",
    "В *Японии* же все наоборот почти половину рынка занимает отечественная приставка 3DS - **49%**, на втором месте `PS3` - **17%** от всех продаж. По графику можно заметить, что японцы отдают предпочтение портативным приставкам - `PSV,WiiU, 3DS` \n",
    "\n",
    "В *остальных же странах* прослеживается доминирование `PS4` - **40%** и `PS3` - **22%**. На момент 2017 года в мире все еще `PS` популярнее `Xbox`.\n"
   ]
  },
  {
   "cell_type": "markdown",
   "metadata": {},
   "source": [
    "<div class=\"alert alert-warning\">\n",
    "<h2> Комментарий ревьюера V1<a class=\"tocSkip\"> </h2>\n",
    "\n",
    "<b>Некоторые замечания и рекомендации💡:</b> Абсолютно верно все рассчитал и сделал корректные выводы. Единственный комментарий по визуализации: можно было вывести круговые диаграммы в одной строке с помощью метода `subplots()`, чтобы было легко сравнивать клиентов между собой."
   ]
  },
  {
   "cell_type": "markdown",
   "metadata": {},
   "source": [
    "#### Самые популярные жанры"
   ]
  },
  {
   "cell_type": "code",
   "execution_count": 218,
   "metadata": {},
   "outputs": [
    {
     "data": {
      "image/png": "[encoded data removed]",
      "text/plain": [
       "<Figure size 432x288 with 1 Axes>"
      ]
     },
     "metadata": {
      "needs_background": "light"
     },
     "output_type": "display_data"
    },
    {
     "data": {
      "image/png": "[encoded data removed]",
      "text/plain": [
       "<Figure size 432x288 with 1 Axes>"
      ]
     },
     "metadata": {
      "needs_background": "light"
     },
     "output_type": "display_data"
    },
    {
     "data": {
      "image/png": "[encoded data removed]",
      "text/plain": [
       "<Figure size 432x288 with 1 Axes>"
      ]
     },
     "metadata": {
      "needs_background": "light"
     },
     "output_type": "display_data"
    },
    {
     "data": {
      "image/png": "[encoded data removed]",
      "text/plain": [
       "<Figure size 432x288 with 1 Axes>"
      ]
     },
     "metadata": {
      "needs_background": "light"
     },
     "output_type": "display_data"
    }
   ],
   "source": [
    "for region in ['na_sales','eu_sales','jp_sales', 'other_sales']:\n",
    "    gr = df_relevant.pivot_table(index = 'genre', values = region, aggfunc = ['sum']).reset_index()\n",
    "    gr.columns = ['genre','sum']\n",
    "    gr = gr.sort_values(by = 'sum', ascending =False)\n",
    "    sb.barplot(x =gr['sum'] ,y = gr['genre'])\\\n",
    "        .set(ylabel = '',xlabel = 'Продажи, млн.долл', title = '\\n'+region+'\\n')\n",
    "    plt.show()"
   ]
  },
  {
   "cell_type": "markdown",
   "metadata": {},
   "source": [
    "По данным графикам видно, что предпочтения в жанрах для европейцев и американец практически сходятся, только в **Европе** жанр `Racing` популярнее `Misc`, в то время как в **Америке** все наоборот.\n",
    "\n",
    "В **Японии** же совсем другие вкусы, самым популярным жанром является `Role Playing`, `Action` же сместился на второе место, но все еще является одним и самых популярных. Но жанр `Shooting` сметили жанры `Misc` и `Fighting`, что вполне логично исходя из игровой культуры Японии.\n",
    "\n",
    "В **остальных же странах** ситуация аналогична с **Америкой** и **Европой**.\n",
    "\n",
    "В этом пункте задания можно было бы рассмотреть не суммарные продажи в определенных жанрах, а медианные значения, так как бывают жанры с малым количеством релизов, но огромными продажами. Но эти рассчеты неэффективны, так как преобладающие жанры все равно останутся примерно теже и будут показывать настроения покупателей, основываясь на выводах пункта [3.8](#3.8) "
   ]
  },
  {
   "cell_type": "markdown",
   "metadata": {},
   "source": [
    "<div class=\"alert alert-success\">\n",
    "<h2> Комментарий ревьюера V1<a class=\"tocSkip\"> </h2>\n",
    "\n",
    "<b>Все отлично!👍:</b> Полностью согласен с описанным тобой выводом."
   ]
  },
  {
   "cell_type": "markdown",
   "metadata": {},
   "source": [
    "#### Влияет ли рейтинг ESRB на продажи в отдельном регионе?"
   ]
  },
  {
   "cell_type": "markdown",
   "metadata": {},
   "source": [
    "Можно предположить, что у многих игр может отсутвовать рейтинг, нужно понять по каким причинам"
   ]
  },
  {
   "cell_type": "code",
   "execution_count": 219,
   "metadata": {},
   "outputs": [
    {
     "name": "stdout",
     "output_type": "stream",
     "text": [
      "Пропуски рейтинга в Европе: 0\n",
      "Пропуски рейтинга в Америке:0\n",
      "Пропуски рейтинга в Японии: 0\n"
     ]
    }
   ],
   "source": [
    "esrb = df_relevant \n",
    "\n",
    "esrb = esrb.sort_values(by = 'eu_sales', ascending = False).reset_index(drop = True)\n",
    "print(f\"Пропуски рейтинга в Европе: {esrb.query('index <=200')['rating'].isna().sum()}\")\n",
    " \n",
    "esrb = esrb.sort_values(by = 'na_sales', ascending = False).reset_index(drop = True)\n",
    "print(f\"Пропуски рейтинга в Америке:{esrb.query('index <=200')['rating'].isna().sum()}\")\n",
    " \n",
    "esrb = esrb.sort_values(by = 'jp_sales', ascending = False).reset_index(drop = True)\n",
    "print(f\"Пропуски рейтинга в Японии: {esrb.query('index <=200')['rating'].isna().sum()}\")"
   ]
  },
  {
   "cell_type": "markdown",
   "metadata": {},
   "source": [
    "Скорее всего игры выпущенные в `определенной стране` будут иметь самые `большие продажи именно на родине`, исходя из этого предположения можно заметить, что из **200 игр** популярных в Японии половина *не имеет рейтинга*, эта информация подозрительна, так как в других странах этот показатель в **4 раза ниже**.\n",
    "\n",
    "Посмотрев информацию в интернете, можно узнать, что `Япония` пользуется своим внутренним рейтингом - **CERO**, поэтому половина самых популярных игр не имеет рейтинга.\n",
    "\n",
    "Но в странах `Европы и Америки` все равно большой процент пропусков, это можно объяснить тем, что части игр не успели дать возрастной рейтинг.\n",
    "\n",
    "Также игры могут не иметь рейтинга просто из-за непопулярности."
   ]
  },
  {
   "cell_type": "code",
   "execution_count": 220,
   "metadata": {},
   "outputs": [
    {
     "data": {
      "image/png": "[encoded data removed]",
      "text/plain": [
       "<Figure size 432x288 with 1 Axes>"
      ]
     },
     "metadata": {
      "needs_background": "light"
     },
     "output_type": "display_data"
    },
    {
     "data": {
      "image/png": "[encoded data removed]",
      "text/plain": [
       "<Figure size 432x288 with 1 Axes>"
      ]
     },
     "metadata": {
      "needs_background": "light"
     },
     "output_type": "display_data"
    },
    {
     "data": {
      "image/png": "[encoded data removed]",
      "text/plain": [
       "<Figure size 432x288 with 1 Axes>"
      ]
     },
     "metadata": {
      "needs_background": "light"
     },
     "output_type": "display_data"
    },
    {
     "data": {
      "image/png": "[encoded data removed]",
      "text/plain": [
       "<Figure size 432x288 with 1 Axes>"
      ]
     },
     "metadata": {
      "needs_background": "light"
     },
     "output_type": "display_data"
    }
   ],
   "source": [
    "for region in ['na_sales','eu_sales','jp_sales', 'other_sales']:\n",
    "    gr = df_relevant.pivot_table(index = 'rating', values = region, aggfunc = ['sum']).reset_index()\n",
    "    gr.columns = ['rating','sum']  \n",
    "    sb.barplot(x =gr['rating'] ,y = gr['sum'])\\\n",
    "        .set(ylabel = 'Продажи, млн.долл',xlabel = 'Возрастной рейтинг', title = '\\n'+region+'\\n')\n",
    "    plt.show()    "
   ]
  },
  {
   "cell_type": "markdown",
   "metadata": {},
   "source": [
    "Расшифровка рейтинга:\n",
    "- Е (Everyone) — для всех возрастов;\n",
    "- E10+ (Everyone 10 and older) — для детей от 10 лет и старше;\n",
    "- Т (Teen) — для подростков от 13 лет;\n",
    "- М (Mature) — для взрослой аудитории от 17 лет и старше;\n",
    "- not_given — данных нет;\n",
    "\n",
    "В `Европе и Америке` больше всего продаж у игр с рейтингом **E** и **М**. *ААА *проекты обычно создают для взрослой аудитории и они приносят больше всего денег. А игры для всех возрастов захватывают огромное количество детей, а дети любят играть в компьютерные игры у них есть на это свободное время. Так же очень много игр, которым рейтинг не присвоен, это может быть из-за того играм не успели присвоить рейтинг или же они непопулярны.\n",
    "\n",
    "В `Японии` больше всего прибыли у проектов для подростков от **13 лет**, второе же место занимают игры для **всех возрастов**. В Японии предпочтения совершенно иные, но также следует учитывать, что для болшей части игр данные пропущены из-за другой системы рейтинга -  **CERO**. Можно сделать вывод, что ориентируясь на рынок `Японии` нужно учитывать другие предпочтения, отличные от `Америки и Европы`.\n",
    "\n",
    "В `остальных странах` тенденция аналогична с Европой и Америкой. \n"
   ]
  },
  {
   "cell_type": "markdown",
   "metadata": {},
   "source": [
    "<div class=\"alert alert-block alert-info\">\n",
    "\n",
    "**Комментарий студента**    \n",
    "Замечание учтено, корректировки **внесены**.\n",
    "    \n",
    "    \n",
    "</div>"
   ]
  },
  {
   "cell_type": "markdown",
   "metadata": {},
   "source": [
    "<div class=\"alert alert-block alert-danger\">\n",
    "<h2> Комментарий ревьюера V1<a class=\"tocSkip\"></h2>\n",
    "\n",
    "\n",
    "<b>На доработку🤔:</b>\n",
    "В данном пункте нужно рассмотреть игры без рейтинга, они могут оказать большое влияние на пользователей определенного региона."
   ]
  },
  {
   "cell_type": "markdown",
   "metadata": {},
   "source": [
    "<div class=\"alert alert-success\">\n",
    "<h2> Комментарий ревьюера V2<a class=\"tocSkip\"> </h2>\n",
    "\n",
    "<b>Все отлично!👍:</b> Все правильно, продолжай в том же духе!"
   ]
  },
  {
   "cell_type": "markdown",
   "metadata": {},
   "source": [
    "### Проверка гипотез"
   ]
  },
  {
   "cell_type": "markdown",
   "metadata": {},
   "source": [
    "#### Гипотеза о пользовательские рейтинге платформ Xbox One и PC"
   ]
  },
  {
   "cell_type": "code",
   "execution_count": 221,
   "metadata": {},
   "outputs": [
    {
     "name": "stdout",
     "output_type": "stream",
     "text": [
      "0.14012658403611647\n",
      "Не получилось отвергнуть нулевую гипотезу\n"
     ]
    }
   ],
   "source": [
    "PC = df_relevant[(df_relevant['platform']=='PC')&(df_relevant['user_score'].notna())]['user_score']\n",
    "XBOX = df_relevant[(df_relevant['platform']=='XOne')&(df_relevant['user_score'].notna())]['user_score']\n",
    "alpha = 0.1\n",
    "result = stats.ttest_ind(PC,XBOX)\n",
    "print(result.pvalue)\n",
    "if result.pvalue < alpha:\n",
    "    print(\"Отвергаем нулевую гипотезу\")\n",
    "else:\n",
    "    print(\"Не получилось отвергнуть нулевую гипотезу\") "
   ]
  },
  {
   "cell_type": "markdown",
   "metadata": {},
   "source": [
    "В данном задании были сформулированы две гипотезы:\n",
    "- H0: Средние пользовательские рейтинги платформ Xbox One и PC одинаковые\n",
    "- H1: Средние пользовательские рейтинги платформ Xbox One и PC неодинаковые\n",
    "\n",
    "Исходя из того, что уровень значимости выбран **10%**, а p-value **14%**, не получилось опровергаем нулевую гипотезу - `Средние пользовательские рейтинги платформ Xbox One и PC одинаковые`\n"
   ]
  },
  {
   "cell_type": "markdown",
   "metadata": {},
   "source": [
    "<div class=\"alert alert-success\">\n",
    "<h2> Комментарий ревьюера V1<a class=\"tocSkip\"> </h2>\n",
    "\n",
    "<b>Все отлично!👍:</b> Все верно, средние оценки пользователей одинаковые."
   ]
  },
  {
   "cell_type": "markdown",
   "metadata": {},
   "source": [
    "#### Гипотеза о пользовательском рейтинге жанров Action и Sports"
   ]
  },
  {
   "cell_type": "code",
   "execution_count": 222,
   "metadata": {},
   "outputs": [
    {
     "name": "stdout",
     "output_type": "stream",
     "text": [
      "1.8791962987532298e-27\n",
      "Отвергаем нулевую гипотезу\n"
     ]
    }
   ],
   "source": [
    "action = df_relevant[(df_relevant['genre']=='Action')&(df_relevant['user_score'].notna())]['user_score']\n",
    "sports = df_relevant[(df_relevant['genre']=='Sports')&((df_relevant['user_score'].notna()))]['user_score']\n",
    "alpha = 0.1\n",
    "result = stats.ttest_ind(action,sports)\n",
    "print(result.pvalue)\n",
    "if result.pvalue < alpha:\n",
    "    print(\"Отвергаем нулевую гипотезу\")\n",
    "else:\n",
    "    print(\"Не получилось отвергнуть нулевую гипотезу\") "
   ]
  },
  {
   "cell_type": "markdown",
   "metadata": {},
   "source": [
    "В данном задании были сформулированы две гипотезы:\n",
    "- H0: Средние пользовательские рейтинги жанров Action и Sports одинаковые\n",
    "- H1: Средние пользовательские рейтинги жанров Action и Sports разные\n",
    "\n",
    "Исходя из того, что уровень значимости выбран **10%**, а p-value **(1.8*10^-25)%**, мы опровергаем нулевую гипотезу в пользу альтернативной - `Средние пользовательские рейтинги жанров Action и Sports разные`\n",
    "\n",
    "Благодаря гипотезам, к которым есть доверие мы можем углубиться в анализ `рейтингов в зависимости от жанра`, в тоже время углубляться в `различие рейтингов некторых платформ` не будет иметь смысла."
   ]
  },
  {
   "cell_type": "markdown",
   "metadata": {},
   "source": [
    "<div class=\"alert alert-success\">\n",
    "<h2> Комментарий ревьюера V1<a class=\"tocSkip\"> </h2>\n",
    "\n",
    "<b>Все отлично!👍:</b> Правильно сформулировал и проверил гипотезы, так держать!"
   ]
  },
  {
   "cell_type": "markdown",
   "metadata": {},
   "source": [
    "### Заключение"
   ]
  },
  {
   "cell_type": "markdown",
   "metadata": {},
   "source": [
    "В данном проекте основной задачей являлося выявление закономерностей определяющих успешность игр, `для опредления потенциально популярных продуктов`, заказчиком являлся интернет-магазин **«Стримчик»**. Данные о играх взяты из `открытых источников`. \n",
    "\n",
    "Нужно было предобработать данные и изучить их, выявить временные зависимости и выбрать **актуальный период** для предсказания потенциально популярных продуктов, также были составлен портреты пользователей каждого региона и проверены некоторые гипотезы.\n",
    "\n",
    "Во время предобработки данных были решены проблемы с пропусками в информации о `годе выпуска`, `названии игры`. Также столбец `user_score` был приведен к типу `float64`,  `year_of_release` к `int64`, а все имена столбцов приведены к ниженему регистру. Найдены дубликаты в `name`, а также `user_score` и `critic_score` были приведены к общей системе оценивания. \n",
    "\n",
    "В резлультате анализа влияения ряда критериев на продажи игр в разных регионах, можно сделать некоторые выводы:\n",
    "- В Японии:  \n",
    "    - Процент от общих продаж по платформам: `3DS - 49%, PS3 - 17%, PSV - 14%` \n",
    "    - Предпочитают `портативные платформы`\n",
    "    - Больше всего продаж в жанрах: `Role-Playing`, `Action`, `Misc`, `Fighter`.\n",
    "    - Так как не учтен местный рейтинг **CERO**, нельзя судить о зависимости продаж от возрастного рейтинга.\n",
    "- В Европе:  \n",
    "    - Процент от общих продаж по платформам: `PS4 - 36%, PS3 - 17%, XOne - 13%`\n",
    "    - Предпочитают портативные платформы `Sony`\n",
    "    - Больше всего продаж в жанрах: `Action`, `Shooter`, `Sports`, `Role-Playing`\n",
    "    - Больше всего продаж у игр с рейтингом **E** и **T**.`\n",
    "- В Америке:  \n",
    "    - Процент от общих продаж по платформам: `PS4 - 25%, XOne - 21%, X360 - 19%`\n",
    "    - Больше всего продаж в жанрах: `Action`, `Shooter`, `Sports`, `Role-Playing` \n",
    "    - Больше всего продаж у игр с рейтингом **E** и **T**.\n",
    "- Остальной мир:  \n",
    "    - Процент от общих продаж по платформам: `PS4 - 40%, PS3 - 22%, XOne - 12%`\n",
    "    - Предпочитают портативные платформы `Sony`\n",
    "    - Предпочтения по жанрам аналагичны с `Европой и Америкой`\n",
    "    - Больше всего продаж у игр с рейтингом **E** и **T**.\n",
    "\n",
    "\n",
    "- Средний жизенный цикл платформ составляет **~7 лет**, в следствие этого актуальный период выбран с **2013 года**.\n",
    "- Потенциально прибильными платформами являются `PS4,XOne,3DS`\n",
    "- Медианные продажи выше всего у `X360,PS4,XOne,Wii`.\n",
    "- Ниже всего медианные продажи у `PSV,3DS,PC`\n",
    "\n",
    "Также прослеживает ряд тенденций:\n",
    " \n",
    "- Оценки пользователей сильнее всего влияют на продажи в платформах `PS4` и `XOne`, корреляция для оценок пользователей **~0.42**\n",
    "- Оценки критиков и пользователей в равной степени влияют на продажи в платформе `3DS`, но степень корряляции очень мала **~0.3**.\n",
    "\n",
    "- Исходя из `boxplot` на платформах: `3DS и PS4, XOne, PS3` - больше всего выпускается **бестселлеров**.\n",
    "- Самыми прибыльными по медианным продажам являются(по убыванию):`Shooter, Sports, Platform и Fighting, Role-Playing`.\n",
    "- Самыми проигрышными по медианным продажам являются: `Action`, `Головоломки`, `Стратегии` и `Симуляторы`.\n",
    "- Исходя из гипотез, можно углубиться в анализ `рейтингов в зависимости от жанра`, в тоже время углубляться в `различие рейтингов платформ Xbox One и PC` не будет иметь смысла.\n",
    "\n",
    "\n",
    "Предложен ряд рекодмендаций для заказчика: \n",
    "- Обратить внимание особое внимание на различие в предпочтениях Японии и стран Америке и Европы.\n",
    "- Учитывать местный возрастной рейтинг для анализа продаж.\n",
    "- Форматировать рейтинг пользователей и критиков в одной балльной системе.\n",
    "\n"
   ]
  },
  {
   "cell_type": "markdown",
   "metadata": {},
   "source": [
    "<div class=\"alert alert-warning\">\n",
    "<h2> Комментарий ревьюера V1<a class=\"tocSkip\"> </h2>\n",
    "\n",
    "<b>Некоторые замечания и рекомендации💡:</b> В итоговом выводе нужно достаточно подробно написать основные пункты выявленных зависимостей. Стоит доработать вывод с учетом моих комментариев по ходу работы."
   ]
  },
  {
   "cell_type": "markdown",
   "metadata": {},
   "source": [
    "<div class=\"alert alert-block alert-info\">\n",
    "\n",
    "**Комментарий студента**    \n",
    "Замечание учтено, корректировки **внесены**.\n",
    "    \n",
    "    \n",
    "</div>"
   ]
  },
  {
   "cell_type": "markdown",
   "metadata": {},
   "source": [
    "<div class=\"alert alert-warning\">\n",
    "<h2> Комментарий ревьюера V2<a class=\"tocSkip\"> </h2>\n",
    "\n",
    "<b>Некоторые замечания и рекомендации💡:</b> Все в выводе правильно кроме пункта с оценками критиков и пользователей, ты перепутал их между собой."
   ]
  },
  {
   "cell_type": "markdown",
   "metadata": {},
   "source": [
    "<div style=\"border:solid Chocolate 2px; padding: 40px\">\n",
    "\n",
    "**Общий вывод по проекту**\n",
    "\n",
    "Спасибо за твой проект! Я уверен, что ты приложил все усилия, чтобы сделать этот проект. Это видно по твоей работе, а сформулированные выводы отражают, насколько успешно ты осваиваешь материал.\n",
    "\n",
    "**Отмечу отдельные положительные моменты проекта🙂**:\n",
    "\n",
    "* Ты полностью следовал всем этапам выполнения задания и справился почти со всем. Хорошая работа!\n",
    "* Отдельно выделю некоторые выводы, которые ты смог сформулировать абсолютно точно!\n",
    "* У тебя опрятный и читаемый код. Возможно это звучит банально, однако при работе с чужим кодом это крайне важно)\n",
    "\n",
    "\n",
    "**На что стоит обратить внимание🤓**:\n",
    "\n",
    "* Важно доработать итоговый вывод.\n",
    "* Нужно корректно обработать все признаки.\n",
    "* Необходимо доработать пункт с построением \"ящика с усами\" и выявлением зависимости продаж от оценок.\n",
    "* Остальные рекомендации ты найдешь в моих комментариях!\n",
    "\n",
    "\n",
    "**Желаю удачи и жду твой проект на повторное ревью!**😉"
   ]
  },
  {
   "cell_type": "markdown",
   "metadata": {},
   "source": [
    "<div style=\"border:solid Chocolate 2px; padding: 40px\">\n",
    "\n",
    "Ты отлично справился с данной работой! Видно, как ты успешно осваиваешь материал, применяешь полученные знания на практике. Мне было очень приятно проверять твою работу, надеюсь, мои комментарии и советы были для тебя полезными.\n",
    "\n",
    "**Желаю удачи в последующем обучении и исследованиях!**😉"
   ]
  },
  {
   "cell_type": "code",
   "execution_count": null,
   "metadata": {},
   "outputs": [],
   "source": []
  }
 ],
 "metadata": {
  "ExecuteTimeLog": [
   {
    "duration": 1451,
    "start_time": "2022-12-01T12:34:14.685Z"
   },
   {
    "duration": 63,
    "start_time": "2022-12-01T12:34:55.311Z"
   },
   {
    "duration": 60,
    "start_time": "2022-12-01T12:34:59.748Z"
   },
   {
    "duration": 62,
    "start_time": "2022-12-01T12:35:14.350Z"
   },
   {
    "duration": 14,
    "start_time": "2022-12-01T12:36:35.636Z"
   },
   {
    "duration": 63,
    "start_time": "2022-12-01T12:36:48.078Z"
   },
   {
    "duration": 3,
    "start_time": "2022-12-01T12:36:51.191Z"
   },
   {
    "duration": 65,
    "start_time": "2022-12-01T12:36:51.197Z"
   },
   {
    "duration": 14,
    "start_time": "2022-12-01T12:36:51.264Z"
   },
   {
    "duration": 3,
    "start_time": "2022-12-01T12:59:28.985Z"
   },
   {
    "duration": 4,
    "start_time": "2022-12-01T13:00:35.847Z"
   },
   {
    "duration": 95,
    "start_time": "2022-12-01T13:00:41.350Z"
   },
   {
    "duration": 5,
    "start_time": "2022-12-01T13:00:51.078Z"
   },
   {
    "duration": 15,
    "start_time": "2022-12-01T13:01:00.174Z"
   },
   {
    "duration": 16,
    "start_time": "2022-12-01T13:01:10.783Z"
   },
   {
    "duration": 1102,
    "start_time": "2022-12-01T13:05:09.872Z"
   },
   {
    "duration": 1022,
    "start_time": "2022-12-01T13:05:15.925Z"
   },
   {
    "duration": 222,
    "start_time": "2022-12-01T13:05:23.597Z"
   },
   {
    "duration": 12,
    "start_time": "2022-12-01T13:05:36.022Z"
   },
   {
    "duration": 5,
    "start_time": "2022-12-01T13:06:07.623Z"
   },
   {
    "duration": 8,
    "start_time": "2022-12-01T13:08:34.224Z"
   },
   {
    "duration": 10,
    "start_time": "2022-12-01T13:08:48.004Z"
   },
   {
    "duration": 25,
    "start_time": "2022-12-01T13:09:22.459Z"
   },
   {
    "duration": 15,
    "start_time": "2022-12-01T13:09:29.172Z"
   },
   {
    "duration": 12,
    "start_time": "2022-12-01T13:09:37.923Z"
   },
   {
    "duration": 21,
    "start_time": "2022-12-01T13:09:52.890Z"
   },
   {
    "duration": 15,
    "start_time": "2022-12-01T13:12:00.646Z"
   },
   {
    "duration": 21,
    "start_time": "2022-12-01T13:12:16.405Z"
   },
   {
    "duration": 39,
    "start_time": "2022-12-01T13:13:23.796Z"
   },
   {
    "duration": 38,
    "start_time": "2022-12-01T13:13:50.918Z"
   },
   {
    "duration": 34,
    "start_time": "2022-12-01T13:14:22.930Z"
   },
   {
    "duration": 42,
    "start_time": "2022-12-01T13:14:32.473Z"
   },
   {
    "duration": 20,
    "start_time": "2022-12-01T13:15:06.848Z"
   },
   {
    "duration": 34,
    "start_time": "2022-12-01T13:15:18.504Z"
   },
   {
    "duration": 3,
    "start_time": "2022-12-01T13:28:36.406Z"
   },
   {
    "duration": 65,
    "start_time": "2022-12-01T13:28:36.411Z"
   },
   {
    "duration": 12,
    "start_time": "2022-12-01T13:28:36.478Z"
   },
   {
    "duration": 14,
    "start_time": "2022-12-01T13:28:36.492Z"
   },
   {
    "duration": 41,
    "start_time": "2022-12-01T13:28:36.508Z"
   },
   {
    "duration": 5,
    "start_time": "2022-12-01T13:28:36.551Z"
   },
   {
    "duration": 34,
    "start_time": "2022-12-01T13:30:50.118Z"
   },
   {
    "duration": 3,
    "start_time": "2022-12-01T13:30:53.137Z"
   },
   {
    "duration": 67,
    "start_time": "2022-12-01T13:30:53.152Z"
   },
   {
    "duration": 13,
    "start_time": "2022-12-01T13:30:53.221Z"
   },
   {
    "duration": 14,
    "start_time": "2022-12-01T13:30:53.235Z"
   },
   {
    "duration": 15,
    "start_time": "2022-12-01T13:30:53.251Z"
   },
   {
    "duration": 0,
    "start_time": "2022-12-01T13:30:53.268Z"
   },
   {
    "duration": 4,
    "start_time": "2022-12-01T13:31:22.465Z"
   },
   {
    "duration": 75,
    "start_time": "2022-12-01T13:31:22.471Z"
   },
   {
    "duration": 13,
    "start_time": "2022-12-01T13:31:22.548Z"
   },
   {
    "duration": 27,
    "start_time": "2022-12-01T13:31:22.563Z"
   },
   {
    "duration": 2,
    "start_time": "2022-12-01T13:31:24.176Z"
   },
   {
    "duration": 85,
    "start_time": "2022-12-01T13:31:24.199Z"
   },
   {
    "duration": 13,
    "start_time": "2022-12-01T13:31:24.286Z"
   },
   {
    "duration": 27,
    "start_time": "2022-12-01T13:31:24.301Z"
   },
   {
    "duration": 58,
    "start_time": "2022-12-01T13:31:24.329Z"
   },
   {
    "duration": 6,
    "start_time": "2022-12-01T13:31:24.388Z"
   },
   {
    "duration": 1272,
    "start_time": "2022-12-01T14:06:07.015Z"
   },
   {
    "duration": 226,
    "start_time": "2022-12-01T14:06:08.290Z"
   },
   {
    "duration": 14,
    "start_time": "2022-12-01T14:06:08.518Z"
   },
   {
    "duration": 20,
    "start_time": "2022-12-01T14:06:08.534Z"
   },
   {
    "duration": 51,
    "start_time": "2022-12-01T14:06:08.555Z"
   },
   {
    "duration": 8,
    "start_time": "2022-12-01T14:06:08.608Z"
   },
   {
    "duration": 3,
    "start_time": "2022-12-01T14:06:36.951Z"
   },
   {
    "duration": 70,
    "start_time": "2022-12-01T14:06:36.956Z"
   },
   {
    "duration": 14,
    "start_time": "2022-12-01T14:06:37.027Z"
   },
   {
    "duration": 17,
    "start_time": "2022-12-01T14:06:37.043Z"
   },
   {
    "duration": 44,
    "start_time": "2022-12-01T14:06:37.062Z"
   },
   {
    "duration": 7,
    "start_time": "2022-12-01T14:06:37.107Z"
   },
   {
    "duration": 55,
    "start_time": "2022-12-01T14:08:11.526Z"
   },
   {
    "duration": 45,
    "start_time": "2022-12-01T14:08:22.319Z"
   },
   {
    "duration": 33,
    "start_time": "2022-12-01T14:10:43.655Z"
   },
   {
    "duration": 40,
    "start_time": "2022-12-01T14:10:55.007Z"
   },
   {
    "duration": 93,
    "start_time": "2022-12-01T14:11:41.830Z"
   },
   {
    "duration": 43,
    "start_time": "2022-12-01T14:11:54.054Z"
   },
   {
    "duration": 35,
    "start_time": "2022-12-01T14:12:04.828Z"
   },
   {
    "duration": 29,
    "start_time": "2022-12-01T14:12:16.245Z"
   },
   {
    "duration": 34,
    "start_time": "2022-12-01T14:12:25.002Z"
   },
   {
    "duration": 3,
    "start_time": "2022-12-01T14:12:34.412Z"
   },
   {
    "duration": 67,
    "start_time": "2022-12-01T14:12:34.417Z"
   },
   {
    "duration": 13,
    "start_time": "2022-12-01T14:12:34.486Z"
   },
   {
    "duration": 16,
    "start_time": "2022-12-01T14:12:34.501Z"
   },
   {
    "duration": 21,
    "start_time": "2022-12-01T14:12:34.518Z"
   },
   {
    "duration": 0,
    "start_time": "2022-12-01T14:12:34.540Z"
   },
   {
    "duration": 3,
    "start_time": "2022-12-01T14:21:43.185Z"
   },
   {
    "duration": 66,
    "start_time": "2022-12-01T14:21:43.190Z"
   },
   {
    "duration": 13,
    "start_time": "2022-12-01T14:21:43.258Z"
   },
   {
    "duration": 14,
    "start_time": "2022-12-01T14:21:43.273Z"
   },
   {
    "duration": 37,
    "start_time": "2022-12-01T14:21:43.289Z"
   },
   {
    "duration": 6,
    "start_time": "2022-12-01T14:21:43.327Z"
   },
   {
    "duration": 14,
    "start_time": "2022-12-01T14:22:03.309Z"
   },
   {
    "duration": 3,
    "start_time": "2022-12-01T14:22:50.025Z"
   },
   {
    "duration": 79,
    "start_time": "2022-12-01T14:22:50.029Z"
   },
   {
    "duration": 16,
    "start_time": "2022-12-01T14:22:50.110Z"
   },
   {
    "duration": 29,
    "start_time": "2022-12-01T14:22:50.128Z"
   },
   {
    "duration": 65,
    "start_time": "2022-12-01T14:22:50.159Z"
   },
   {
    "duration": 15,
    "start_time": "2022-12-01T14:22:50.225Z"
   },
   {
    "duration": 3,
    "start_time": "2022-12-01T14:46:31.825Z"
   },
   {
    "duration": 71,
    "start_time": "2022-12-01T14:46:31.830Z"
   },
   {
    "duration": 13,
    "start_time": "2022-12-01T14:46:31.902Z"
   },
   {
    "duration": 30,
    "start_time": "2022-12-01T14:46:31.917Z"
   },
   {
    "duration": 20,
    "start_time": "2022-12-01T14:46:31.948Z"
   },
   {
    "duration": 0,
    "start_time": "2022-12-01T14:46:31.970Z"
   },
   {
    "duration": 3,
    "start_time": "2022-12-01T15:10:58.752Z"
   },
   {
    "duration": 75,
    "start_time": "2022-12-01T15:10:58.756Z"
   },
   {
    "duration": 12,
    "start_time": "2022-12-01T15:10:58.833Z"
   },
   {
    "duration": 15,
    "start_time": "2022-12-01T15:10:58.847Z"
   },
   {
    "duration": 20,
    "start_time": "2022-12-01T15:10:58.863Z"
   },
   {
    "duration": 0,
    "start_time": "2022-12-01T15:10:58.884Z"
   },
   {
    "duration": 20,
    "start_time": "2022-12-01T15:11:59.011Z"
   },
   {
    "duration": 97,
    "start_time": "2022-12-01T15:12:11.737Z"
   },
   {
    "duration": 17,
    "start_time": "2022-12-01T15:12:16.233Z"
   },
   {
    "duration": 19,
    "start_time": "2022-12-01T15:12:56.863Z"
   },
   {
    "duration": 17,
    "start_time": "2022-12-01T15:14:18.413Z"
   },
   {
    "duration": 3,
    "start_time": "2022-12-01T15:14:28.577Z"
   },
   {
    "duration": 68,
    "start_time": "2022-12-01T15:14:28.581Z"
   },
   {
    "duration": 12,
    "start_time": "2022-12-01T15:14:28.651Z"
   },
   {
    "duration": 14,
    "start_time": "2022-12-01T15:14:28.664Z"
   },
   {
    "duration": 25,
    "start_time": "2022-12-01T15:14:28.679Z"
   },
   {
    "duration": 0,
    "start_time": "2022-12-01T15:14:28.706Z"
   },
   {
    "duration": 33,
    "start_time": "2022-12-01T15:14:35.276Z"
   },
   {
    "duration": 35,
    "start_time": "2022-12-01T15:17:30.590Z"
   },
   {
    "duration": 36,
    "start_time": "2022-12-01T15:18:06.253Z"
   },
   {
    "duration": 125,
    "start_time": "2022-12-01T15:21:42.164Z"
   },
   {
    "duration": 10,
    "start_time": "2022-12-01T15:21:51.084Z"
   },
   {
    "duration": 50,
    "start_time": "2022-12-02T20:43:49.364Z"
   },
   {
    "duration": 1268,
    "start_time": "2022-12-02T20:43:52.670Z"
   },
   {
    "duration": 120,
    "start_time": "2022-12-02T20:43:53.939Z"
   },
   {
    "duration": 14,
    "start_time": "2022-12-02T20:43:54.061Z"
   },
   {
    "duration": 14,
    "start_time": "2022-12-02T20:43:54.077Z"
   },
   {
    "duration": 64,
    "start_time": "2022-12-02T20:43:54.093Z"
   },
   {
    "duration": 14,
    "start_time": "2022-12-02T20:43:54.159Z"
   },
   {
    "duration": 3,
    "start_time": "2022-12-02T20:44:29.466Z"
   },
   {
    "duration": 77,
    "start_time": "2022-12-02T20:44:29.471Z"
   },
   {
    "duration": 12,
    "start_time": "2022-12-02T20:44:29.550Z"
   },
   {
    "duration": 32,
    "start_time": "2022-12-02T20:44:29.564Z"
   },
   {
    "duration": 111,
    "start_time": "2022-12-02T20:44:29.598Z"
   },
   {
    "duration": 14,
    "start_time": "2022-12-02T20:44:29.711Z"
   },
   {
    "duration": 4,
    "start_time": "2022-12-02T20:47:04.079Z"
   },
   {
    "duration": 73,
    "start_time": "2022-12-02T20:47:04.084Z"
   },
   {
    "duration": 14,
    "start_time": "2022-12-02T20:47:04.158Z"
   },
   {
    "duration": 17,
    "start_time": "2022-12-02T20:47:04.175Z"
   },
   {
    "duration": 120,
    "start_time": "2022-12-02T20:47:04.193Z"
   },
   {
    "duration": 0,
    "start_time": "2022-12-02T20:47:04.315Z"
   },
   {
    "duration": 31,
    "start_time": "2022-12-02T20:47:56.124Z"
   },
   {
    "duration": 3,
    "start_time": "2022-12-02T20:48:02.205Z"
   },
   {
    "duration": 86,
    "start_time": "2022-12-02T20:48:02.211Z"
   },
   {
    "duration": 13,
    "start_time": "2022-12-02T20:48:02.299Z"
   },
   {
    "duration": 16,
    "start_time": "2022-12-02T20:48:02.314Z"
   },
   {
    "duration": 62,
    "start_time": "2022-12-02T20:48:02.332Z"
   },
   {
    "duration": 17,
    "start_time": "2022-12-02T20:48:02.396Z"
   },
   {
    "duration": 62,
    "start_time": "2022-12-02T20:48:46.780Z"
   },
   {
    "duration": 53,
    "start_time": "2022-12-02T20:50:41.718Z"
   },
   {
    "duration": 57,
    "start_time": "2022-12-02T20:51:07.636Z"
   },
   {
    "duration": 3,
    "start_time": "2022-12-02T20:51:12.584Z"
   },
   {
    "duration": 91,
    "start_time": "2022-12-02T20:51:12.590Z"
   },
   {
    "duration": 13,
    "start_time": "2022-12-02T20:51:12.683Z"
   },
   {
    "duration": 18,
    "start_time": "2022-12-02T20:51:12.697Z"
   },
   {
    "duration": 70,
    "start_time": "2022-12-02T20:51:12.717Z"
   },
   {
    "duration": 13,
    "start_time": "2022-12-02T20:51:12.788Z"
   },
   {
    "duration": 3,
    "start_time": "2022-12-02T20:51:21.347Z"
   },
   {
    "duration": 71,
    "start_time": "2022-12-02T20:51:21.352Z"
   },
   {
    "duration": 13,
    "start_time": "2022-12-02T20:51:21.425Z"
   },
   {
    "duration": 17,
    "start_time": "2022-12-02T20:51:21.440Z"
   },
   {
    "duration": 64,
    "start_time": "2022-12-02T20:51:21.459Z"
   },
   {
    "duration": 14,
    "start_time": "2022-12-02T20:51:21.535Z"
   },
   {
    "duration": 3,
    "start_time": "2022-12-02T20:52:09.312Z"
   },
   {
    "duration": 96,
    "start_time": "2022-12-02T20:52:09.317Z"
   },
   {
    "duration": 14,
    "start_time": "2022-12-02T20:52:09.414Z"
   },
   {
    "duration": 40,
    "start_time": "2022-12-02T20:52:09.430Z"
   },
   {
    "duration": 71,
    "start_time": "2022-12-02T20:52:09.472Z"
   },
   {
    "duration": 13,
    "start_time": "2022-12-02T20:52:09.545Z"
   },
   {
    "duration": 47,
    "start_time": "2022-12-02T20:52:51.832Z"
   },
   {
    "duration": 47,
    "start_time": "2022-12-02T20:53:04.170Z"
   },
   {
    "duration": 2,
    "start_time": "2022-12-02T20:53:38.173Z"
   },
   {
    "duration": 94,
    "start_time": "2022-12-02T20:53:38.177Z"
   },
   {
    "duration": 14,
    "start_time": "2022-12-02T20:53:38.273Z"
   },
   {
    "duration": 20,
    "start_time": "2022-12-02T20:53:38.289Z"
   },
   {
    "duration": 57,
    "start_time": "2022-12-02T20:53:38.311Z"
   },
   {
    "duration": 13,
    "start_time": "2022-12-02T20:53:38.370Z"
   },
   {
    "duration": 4,
    "start_time": "2022-12-02T20:54:17.390Z"
   },
   {
    "duration": 3,
    "start_time": "2022-12-02T20:54:23.203Z"
   },
   {
    "duration": 69,
    "start_time": "2022-12-02T20:54:23.208Z"
   },
   {
    "duration": 13,
    "start_time": "2022-12-02T20:54:23.278Z"
   },
   {
    "duration": 22,
    "start_time": "2022-12-02T20:54:23.292Z"
   },
   {
    "duration": 46,
    "start_time": "2022-12-02T20:54:23.316Z"
   },
   {
    "duration": 15,
    "start_time": "2022-12-02T20:54:23.364Z"
   },
   {
    "duration": 42,
    "start_time": "2022-12-02T20:54:33.472Z"
   },
   {
    "duration": 40,
    "start_time": "2022-12-02T20:54:48.318Z"
   },
   {
    "duration": 35,
    "start_time": "2022-12-02T21:01:45.894Z"
   },
   {
    "duration": 3,
    "start_time": "2022-12-02T21:01:50.377Z"
   },
   {
    "duration": 74,
    "start_time": "2022-12-02T21:01:50.382Z"
   },
   {
    "duration": 13,
    "start_time": "2022-12-02T21:01:50.458Z"
   },
   {
    "duration": 29,
    "start_time": "2022-12-02T21:01:50.473Z"
   },
   {
    "duration": 54,
    "start_time": "2022-12-02T21:01:50.503Z"
   },
   {
    "duration": 17,
    "start_time": "2022-12-02T21:01:50.559Z"
   },
   {
    "duration": 3,
    "start_time": "2022-12-02T21:02:07.460Z"
   },
   {
    "duration": 70,
    "start_time": "2022-12-02T21:02:07.465Z"
   },
   {
    "duration": 14,
    "start_time": "2022-12-02T21:02:07.537Z"
   },
   {
    "duration": 15,
    "start_time": "2022-12-02T21:02:07.552Z"
   },
   {
    "duration": 38,
    "start_time": "2022-12-02T21:02:07.569Z"
   },
   {
    "duration": 37,
    "start_time": "2022-12-02T21:02:07.608Z"
   },
   {
    "duration": 38,
    "start_time": "2022-12-02T21:02:26.648Z"
   },
   {
    "duration": 4,
    "start_time": "2022-12-02T21:03:19.914Z"
   },
   {
    "duration": 75,
    "start_time": "2022-12-02T21:03:19.921Z"
   },
   {
    "duration": 17,
    "start_time": "2022-12-02T21:03:19.998Z"
   },
   {
    "duration": 15,
    "start_time": "2022-12-02T21:03:20.018Z"
   },
   {
    "duration": 29,
    "start_time": "2022-12-02T21:03:20.035Z"
   },
   {
    "duration": 57,
    "start_time": "2022-12-02T21:03:20.066Z"
   },
   {
    "duration": 41,
    "start_time": "2022-12-02T21:03:20.125Z"
   },
   {
    "duration": 11,
    "start_time": "2022-12-02T21:03:31.444Z"
   },
   {
    "duration": 49,
    "start_time": "2022-12-02T21:04:00.565Z"
   },
   {
    "duration": 34,
    "start_time": "2022-12-02T21:04:04.255Z"
   },
   {
    "duration": 19,
    "start_time": "2022-12-02T21:04:16.605Z"
   },
   {
    "duration": 9,
    "start_time": "2022-12-02T21:04:57.868Z"
   },
   {
    "duration": 10,
    "start_time": "2022-12-02T21:05:21.086Z"
   },
   {
    "duration": 4,
    "start_time": "2022-12-02T21:05:23.779Z"
   },
   {
    "duration": 77,
    "start_time": "2022-12-02T21:05:23.785Z"
   },
   {
    "duration": 13,
    "start_time": "2022-12-02T21:05:23.863Z"
   },
   {
    "duration": 8,
    "start_time": "2022-12-02T21:05:23.878Z"
   },
   {
    "duration": 21,
    "start_time": "2022-12-02T21:05:23.888Z"
   },
   {
    "duration": 56,
    "start_time": "2022-12-02T21:05:23.911Z"
   },
   {
    "duration": 14,
    "start_time": "2022-12-02T21:05:23.968Z"
   },
   {
    "duration": 24,
    "start_time": "2022-12-02T21:06:12.668Z"
   },
   {
    "duration": 21,
    "start_time": "2022-12-02T21:06:20.053Z"
   },
   {
    "duration": 3,
    "start_time": "2022-12-02T21:10:01.841Z"
   },
   {
    "duration": 90,
    "start_time": "2022-12-02T21:10:01.845Z"
   },
   {
    "duration": 13,
    "start_time": "2022-12-02T21:10:01.937Z"
   },
   {
    "duration": 1530,
    "start_time": "2022-12-02T21:10:01.952Z"
   },
   {
    "duration": 0,
    "start_time": "2022-12-02T21:10:03.484Z"
   },
   {
    "duration": 0,
    "start_time": "2022-12-02T21:10:03.485Z"
   },
   {
    "duration": 0,
    "start_time": "2022-12-02T21:10:03.486Z"
   },
   {
    "duration": 3,
    "start_time": "2022-12-02T21:10:59.842Z"
   },
   {
    "duration": 68,
    "start_time": "2022-12-02T21:10:59.848Z"
   },
   {
    "duration": 15,
    "start_time": "2022-12-02T21:10:59.917Z"
   },
   {
    "duration": 15,
    "start_time": "2022-12-02T21:10:59.933Z"
   },
   {
    "duration": 15,
    "start_time": "2022-12-02T21:10:59.950Z"
   },
   {
    "duration": 354,
    "start_time": "2022-12-02T21:10:59.966Z"
   },
   {
    "duration": 0,
    "start_time": "2022-12-02T21:11:00.322Z"
   },
   {
    "duration": 36,
    "start_time": "2022-12-02T21:13:42.805Z"
   },
   {
    "duration": 53,
    "start_time": "2022-12-02T21:14:07.800Z"
   },
   {
    "duration": 3,
    "start_time": "2022-12-02T21:14:12.651Z"
   },
   {
    "duration": 84,
    "start_time": "2022-12-02T21:14:12.656Z"
   },
   {
    "duration": 12,
    "start_time": "2022-12-02T21:14:12.742Z"
   },
   {
    "duration": 20,
    "start_time": "2022-12-02T21:14:12.756Z"
   },
   {
    "duration": 16,
    "start_time": "2022-12-02T21:14:12.778Z"
   },
   {
    "duration": 65,
    "start_time": "2022-12-02T21:14:12.796Z"
   },
   {
    "duration": 18,
    "start_time": "2022-12-02T21:14:12.863Z"
   },
   {
    "duration": 18,
    "start_time": "2022-12-02T21:31:38.151Z"
   },
   {
    "duration": 47,
    "start_time": "2022-12-03T10:22:26.444Z"
   },
   {
    "duration": 1295,
    "start_time": "2022-12-03T10:22:29.017Z"
   },
   {
    "duration": 119,
    "start_time": "2022-12-03T10:22:30.314Z"
   },
   {
    "duration": 19,
    "start_time": "2022-12-03T10:22:30.435Z"
   },
   {
    "duration": 20,
    "start_time": "2022-12-03T10:22:30.456Z"
   },
   {
    "duration": 20,
    "start_time": "2022-12-03T10:22:30.479Z"
   },
   {
    "duration": 66,
    "start_time": "2022-12-03T10:22:30.501Z"
   },
   {
    "duration": 15,
    "start_time": "2022-12-03T10:22:30.569Z"
   },
   {
    "duration": 752,
    "start_time": "2022-12-03T10:22:48.412Z"
   },
   {
    "duration": 21,
    "start_time": "2022-12-03T10:22:53.593Z"
   },
   {
    "duration": 18,
    "start_time": "2022-12-03T10:23:12.490Z"
   },
   {
    "duration": 24,
    "start_time": "2022-12-03T10:23:34.294Z"
   },
   {
    "duration": 21,
    "start_time": "2022-12-03T10:24:24.210Z"
   },
   {
    "duration": 4,
    "start_time": "2022-12-03T10:24:57.640Z"
   },
   {
    "duration": 22,
    "start_time": "2022-12-03T10:25:00.459Z"
   },
   {
    "duration": 3,
    "start_time": "2022-12-03T10:25:04.316Z"
   },
   {
    "duration": 68,
    "start_time": "2022-12-03T10:25:04.321Z"
   },
   {
    "duration": 13,
    "start_time": "2022-12-03T10:25:04.390Z"
   },
   {
    "duration": 14,
    "start_time": "2022-12-03T10:25:04.405Z"
   },
   {
    "duration": 18,
    "start_time": "2022-12-03T10:25:04.421Z"
   },
   {
    "duration": 66,
    "start_time": "2022-12-03T10:25:04.441Z"
   },
   {
    "duration": 20,
    "start_time": "2022-12-03T10:25:04.509Z"
   },
   {
    "duration": 21,
    "start_time": "2022-12-03T10:25:48.399Z"
   },
   {
    "duration": 3,
    "start_time": "2022-12-03T10:25:55.308Z"
   },
   {
    "duration": 71,
    "start_time": "2022-12-03T10:25:55.312Z"
   },
   {
    "duration": 13,
    "start_time": "2022-12-03T10:25:55.384Z"
   },
   {
    "duration": 14,
    "start_time": "2022-12-03T10:25:55.399Z"
   },
   {
    "duration": 17,
    "start_time": "2022-12-03T10:25:55.414Z"
   },
   {
    "duration": 39,
    "start_time": "2022-12-03T10:25:55.432Z"
   },
   {
    "duration": 20,
    "start_time": "2022-12-03T10:25:55.495Z"
   },
   {
    "duration": 3,
    "start_time": "2022-12-03T10:27:36.310Z"
   },
   {
    "duration": 67,
    "start_time": "2022-12-03T10:27:36.315Z"
   },
   {
    "duration": 14,
    "start_time": "2022-12-03T10:27:36.384Z"
   },
   {
    "duration": 15,
    "start_time": "2022-12-03T10:27:36.401Z"
   },
   {
    "duration": 18,
    "start_time": "2022-12-03T10:27:36.418Z"
   },
   {
    "duration": 68,
    "start_time": "2022-12-03T10:27:36.438Z"
   },
   {
    "duration": 19,
    "start_time": "2022-12-03T10:27:36.508Z"
   },
   {
    "duration": 22,
    "start_time": "2022-12-03T10:29:30.481Z"
   },
   {
    "duration": 13,
    "start_time": "2022-12-03T10:29:51.490Z"
   },
   {
    "duration": 23,
    "start_time": "2022-12-03T10:30:00.530Z"
   },
   {
    "duration": 5,
    "start_time": "2022-12-03T11:00:39.366Z"
   },
   {
    "duration": 57,
    "start_time": "2022-12-03T11:01:20.857Z"
   },
   {
    "duration": 14,
    "start_time": "2022-12-03T11:01:26.270Z"
   },
   {
    "duration": 7,
    "start_time": "2022-12-03T11:01:38.533Z"
   },
   {
    "duration": 9,
    "start_time": "2022-12-03T11:02:27.014Z"
   },
   {
    "duration": 11,
    "start_time": "2022-12-03T11:02:36.757Z"
   },
   {
    "duration": 8,
    "start_time": "2022-12-03T11:02:47.796Z"
   },
   {
    "duration": 37,
    "start_time": "2022-12-03T11:12:25.274Z"
   },
   {
    "duration": 37,
    "start_time": "2022-12-03T11:22:06.645Z"
   },
   {
    "duration": 53,
    "start_time": "2022-12-03T11:23:37.895Z"
   },
   {
    "duration": 35,
    "start_time": "2022-12-03T11:25:34.124Z"
   },
   {
    "duration": 40,
    "start_time": "2022-12-03T11:25:46.864Z"
   },
   {
    "duration": 37,
    "start_time": "2022-12-03T11:26:17.720Z"
   },
   {
    "duration": 42,
    "start_time": "2022-12-03T11:26:31.276Z"
   },
   {
    "duration": 37,
    "start_time": "2022-12-03T11:27:10.465Z"
   },
   {
    "duration": 45,
    "start_time": "2022-12-03T11:28:01.098Z"
   },
   {
    "duration": 43,
    "start_time": "2022-12-03T11:29:26.184Z"
   },
   {
    "duration": 46,
    "start_time": "2022-12-03T11:30:41.917Z"
   },
   {
    "duration": 45,
    "start_time": "2022-12-03T11:30:54.251Z"
   },
   {
    "duration": 48,
    "start_time": "2022-12-03T11:31:31.321Z"
   },
   {
    "duration": 44,
    "start_time": "2022-12-03T11:58:44.208Z"
   },
   {
    "duration": 58,
    "start_time": "2022-12-03T13:21:04.485Z"
   },
   {
    "duration": 3,
    "start_time": "2022-12-03T13:21:07.895Z"
   },
   {
    "duration": 82,
    "start_time": "2022-12-03T13:21:07.901Z"
   },
   {
    "duration": 22,
    "start_time": "2022-12-03T13:21:07.985Z"
   },
   {
    "duration": 23,
    "start_time": "2022-12-03T13:21:08.009Z"
   },
   {
    "duration": 19,
    "start_time": "2022-12-03T13:21:08.034Z"
   },
   {
    "duration": 55,
    "start_time": "2022-12-03T13:21:08.054Z"
   },
   {
    "duration": 23,
    "start_time": "2022-12-03T13:21:08.111Z"
   },
   {
    "duration": 62,
    "start_time": "2022-12-03T13:21:08.135Z"
   },
   {
    "duration": 84,
    "start_time": "2022-12-03T13:21:23.763Z"
   },
   {
    "duration": 56,
    "start_time": "2022-12-03T13:21:43.258Z"
   },
   {
    "duration": 39,
    "start_time": "2022-12-03T13:22:06.747Z"
   },
   {
    "duration": 3,
    "start_time": "2022-12-03T13:22:59.096Z"
   },
   {
    "duration": 64,
    "start_time": "2022-12-03T13:22:59.101Z"
   },
   {
    "duration": 12,
    "start_time": "2022-12-03T13:22:59.167Z"
   },
   {
    "duration": 12,
    "start_time": "2022-12-03T13:22:59.180Z"
   },
   {
    "duration": 16,
    "start_time": "2022-12-03T13:22:59.194Z"
   },
   {
    "duration": 41,
    "start_time": "2022-12-03T13:22:59.211Z"
   },
   {
    "duration": 21,
    "start_time": "2022-12-03T13:22:59.254Z"
   },
   {
    "duration": 62,
    "start_time": "2022-12-03T13:22:59.276Z"
   },
   {
    "duration": 47,
    "start_time": "2022-12-03T13:23:18.457Z"
   },
   {
    "duration": 3,
    "start_time": "2022-12-03T13:23:25.619Z"
   },
   {
    "duration": 65,
    "start_time": "2022-12-03T13:23:25.624Z"
   },
   {
    "duration": 14,
    "start_time": "2022-12-03T13:23:25.691Z"
   },
   {
    "duration": 14,
    "start_time": "2022-12-03T13:23:25.706Z"
   },
   {
    "duration": 17,
    "start_time": "2022-12-03T13:23:25.722Z"
   },
   {
    "duration": 64,
    "start_time": "2022-12-03T13:23:25.741Z"
   },
   {
    "duration": 24,
    "start_time": "2022-12-03T13:23:25.807Z"
   },
   {
    "duration": 79,
    "start_time": "2022-12-03T13:23:25.832Z"
   },
   {
    "duration": 50,
    "start_time": "2022-12-03T13:23:54.737Z"
   },
   {
    "duration": 3,
    "start_time": "2022-12-03T13:23:56.874Z"
   },
   {
    "duration": 70,
    "start_time": "2022-12-03T13:23:56.879Z"
   },
   {
    "duration": 15,
    "start_time": "2022-12-03T13:23:56.951Z"
   },
   {
    "duration": 14,
    "start_time": "2022-12-03T13:23:56.967Z"
   },
   {
    "duration": 20,
    "start_time": "2022-12-03T13:23:56.983Z"
   },
   {
    "duration": 38,
    "start_time": "2022-12-03T13:23:57.005Z"
   },
   {
    "duration": 21,
    "start_time": "2022-12-03T13:23:57.044Z"
   },
   {
    "duration": 82,
    "start_time": "2022-12-03T13:23:57.066Z"
   },
   {
    "duration": 4,
    "start_time": "2022-12-03T13:24:18.066Z"
   },
   {
    "duration": 71,
    "start_time": "2022-12-03T13:24:18.072Z"
   },
   {
    "duration": 14,
    "start_time": "2022-12-03T13:24:18.144Z"
   },
   {
    "duration": 14,
    "start_time": "2022-12-03T13:24:18.160Z"
   },
   {
    "duration": 30,
    "start_time": "2022-12-03T13:24:18.176Z"
   },
   {
    "duration": 43,
    "start_time": "2022-12-03T13:24:18.208Z"
   },
   {
    "duration": 49,
    "start_time": "2022-12-03T13:24:18.252Z"
   },
   {
    "duration": 57,
    "start_time": "2022-12-03T13:24:18.303Z"
   },
   {
    "duration": 818,
    "start_time": "2022-12-03T13:30:53.437Z"
   },
   {
    "duration": 79,
    "start_time": "2022-12-03T13:31:08.426Z"
   },
   {
    "duration": 3,
    "start_time": "2022-12-03T13:52:17.771Z"
   },
   {
    "duration": 13,
    "start_time": "2022-12-03T13:52:27.973Z"
   },
   {
    "duration": 6,
    "start_time": "2022-12-03T13:52:53.592Z"
   },
   {
    "duration": 14,
    "start_time": "2022-12-03T14:07:34.808Z"
   },
   {
    "duration": 11,
    "start_time": "2022-12-03T14:07:58.022Z"
   },
   {
    "duration": 11,
    "start_time": "2022-12-03T14:08:04.862Z"
   },
   {
    "duration": 10,
    "start_time": "2022-12-03T14:08:18.498Z"
   },
   {
    "duration": 43,
    "start_time": "2022-12-03T14:08:35.977Z"
   },
   {
    "duration": 13,
    "start_time": "2022-12-03T14:08:39.138Z"
   },
   {
    "duration": 13,
    "start_time": "2022-12-03T14:09:01.518Z"
   },
   {
    "duration": 22,
    "start_time": "2022-12-03T14:09:09.097Z"
   },
   {
    "duration": 11,
    "start_time": "2022-12-03T14:11:37.016Z"
   },
   {
    "duration": 26,
    "start_time": "2022-12-03T14:11:42.061Z"
   },
   {
    "duration": 13,
    "start_time": "2022-12-03T14:11:55.594Z"
   },
   {
    "duration": 14,
    "start_time": "2022-12-03T14:12:04.579Z"
   },
   {
    "duration": 318,
    "start_time": "2022-12-03T14:12:59.960Z"
   },
   {
    "duration": 12,
    "start_time": "2022-12-03T14:13:39.006Z"
   },
   {
    "duration": 14,
    "start_time": "2022-12-03T14:13:46.934Z"
   },
   {
    "duration": 358,
    "start_time": "2022-12-03T14:14:11.232Z"
   },
   {
    "duration": 402,
    "start_time": "2022-12-03T14:22:45.228Z"
   },
   {
    "duration": 428,
    "start_time": "2022-12-03T14:22:58.204Z"
   },
   {
    "duration": 273,
    "start_time": "2022-12-03T14:23:03.746Z"
   },
   {
    "duration": 347,
    "start_time": "2022-12-03T14:23:18.924Z"
   },
   {
    "duration": 237,
    "start_time": "2022-12-03T14:23:36.888Z"
   },
   {
    "duration": 245,
    "start_time": "2022-12-03T14:23:46.103Z"
   },
   {
    "duration": 12,
    "start_time": "2022-12-03T14:29:45.969Z"
   },
   {
    "duration": 3,
    "start_time": "2022-12-03T14:29:50.482Z"
   },
   {
    "duration": 77,
    "start_time": "2022-12-03T14:29:50.487Z"
   },
   {
    "duration": 12,
    "start_time": "2022-12-03T14:29:50.566Z"
   },
   {
    "duration": 13,
    "start_time": "2022-12-03T14:29:50.580Z"
   },
   {
    "duration": 16,
    "start_time": "2022-12-03T14:29:50.595Z"
   },
   {
    "duration": 44,
    "start_time": "2022-12-03T14:29:50.613Z"
   },
   {
    "duration": 42,
    "start_time": "2022-12-03T14:29:50.659Z"
   },
   {
    "duration": 75,
    "start_time": "2022-12-03T14:29:50.703Z"
   },
   {
    "duration": 257,
    "start_time": "2022-12-03T14:29:50.780Z"
   },
   {
    "duration": 368,
    "start_time": "2022-12-03T14:29:51.038Z"
   },
   {
    "duration": 12,
    "start_time": "2022-12-03T14:29:51.408Z"
   },
   {
    "duration": 12,
    "start_time": "2022-12-03T14:29:55.020Z"
   },
   {
    "duration": 19,
    "start_time": "2022-12-03T14:30:05.737Z"
   },
   {
    "duration": 20,
    "start_time": "2022-12-03T14:30:20.054Z"
   },
   {
    "duration": 21,
    "start_time": "2022-12-03T14:30:35.400Z"
   },
   {
    "duration": 20,
    "start_time": "2022-12-03T16:12:01.167Z"
   },
   {
    "duration": 20,
    "start_time": "2022-12-03T16:12:26.033Z"
   },
   {
    "duration": 19,
    "start_time": "2022-12-03T16:12:39.922Z"
   },
   {
    "duration": 18,
    "start_time": "2022-12-03T16:12:43.092Z"
   },
   {
    "duration": 723,
    "start_time": "2022-12-03T16:19:59.607Z"
   },
   {
    "duration": 24,
    "start_time": "2022-12-03T16:20:37.867Z"
   },
   {
    "duration": 25,
    "start_time": "2022-12-03T16:21:01.333Z"
   },
   {
    "duration": 22,
    "start_time": "2022-12-03T16:21:39.708Z"
   },
   {
    "duration": 22,
    "start_time": "2022-12-03T16:22:00.524Z"
   },
   {
    "duration": 18,
    "start_time": "2022-12-03T16:22:04.265Z"
   },
   {
    "duration": 48,
    "start_time": "2022-12-03T16:23:23.635Z"
   },
   {
    "duration": 20,
    "start_time": "2022-12-03T16:23:32.530Z"
   },
   {
    "duration": 30,
    "start_time": "2022-12-03T16:23:48.920Z"
   },
   {
    "duration": 30,
    "start_time": "2022-12-03T16:24:06.480Z"
   },
   {
    "duration": 29,
    "start_time": "2022-12-03T16:24:27.040Z"
   },
   {
    "duration": 524,
    "start_time": "2022-12-03T16:37:41.584Z"
   },
   {
    "duration": 1308,
    "start_time": "2022-12-03T16:40:41.719Z"
   },
   {
    "duration": 1592,
    "start_time": "2022-12-03T16:41:43.870Z"
   },
   {
    "duration": 3,
    "start_time": "2022-12-03T17:49:55.691Z"
   },
   {
    "duration": 10,
    "start_time": "2022-12-03T17:49:57.942Z"
   },
   {
    "duration": 16,
    "start_time": "2022-12-03T17:50:45.700Z"
   },
   {
    "duration": 15,
    "start_time": "2022-12-03T17:53:12.325Z"
   },
   {
    "duration": 17,
    "start_time": "2022-12-03T17:53:51.077Z"
   },
   {
    "duration": 14,
    "start_time": "2022-12-03T17:54:04.553Z"
   },
   {
    "duration": 13,
    "start_time": "2022-12-03T17:54:48.586Z"
   },
   {
    "duration": 4,
    "start_time": "2022-12-03T17:56:13.803Z"
   },
   {
    "duration": 21,
    "start_time": "2022-12-03T17:56:16.928Z"
   },
   {
    "duration": 22,
    "start_time": "2022-12-03T17:56:36.930Z"
   },
   {
    "duration": 13,
    "start_time": "2022-12-03T17:56:46.220Z"
   },
   {
    "duration": 22,
    "start_time": "2022-12-03T17:56:56.009Z"
   },
   {
    "duration": 4,
    "start_time": "2022-12-03T17:57:28.606Z"
   },
   {
    "duration": 4,
    "start_time": "2022-12-03T17:57:58.545Z"
   },
   {
    "duration": 27,
    "start_time": "2022-12-03T17:58:16.886Z"
   },
   {
    "duration": 27,
    "start_time": "2022-12-03T17:58:41.151Z"
   },
   {
    "duration": 1343,
    "start_time": "2022-12-03T17:58:57.496Z"
   },
   {
    "duration": 533,
    "start_time": "2022-12-03T17:59:25.920Z"
   },
   {
    "duration": 554,
    "start_time": "2022-12-03T17:59:42.638Z"
   },
   {
    "duration": 4,
    "start_time": "2022-12-03T17:59:46.835Z"
   },
   {
    "duration": 1636,
    "start_time": "2022-12-03T17:59:51.023Z"
   },
   {
    "duration": 1511,
    "start_time": "2022-12-03T18:00:20.276Z"
   },
   {
    "duration": 1405,
    "start_time": "2022-12-03T18:03:04.574Z"
   },
   {
    "duration": 1528,
    "start_time": "2022-12-03T18:04:08.905Z"
   },
   {
    "duration": 1547,
    "start_time": "2022-12-03T18:05:54.694Z"
   },
   {
    "duration": 1387,
    "start_time": "2022-12-03T18:06:15.337Z"
   },
   {
    "duration": 2963,
    "start_time": "2022-12-03T18:07:02.587Z"
   },
   {
    "duration": 2627,
    "start_time": "2022-12-03T18:07:48.189Z"
   },
   {
    "duration": 3830,
    "start_time": "2022-12-03T18:08:00.117Z"
   },
   {
    "duration": 1430,
    "start_time": "2022-12-03T18:08:05.571Z"
   },
   {
    "duration": 1691,
    "start_time": "2022-12-03T18:08:19.717Z"
   },
   {
    "duration": 1698,
    "start_time": "2022-12-03T18:08:24.457Z"
   },
   {
    "duration": 1716,
    "start_time": "2022-12-03T18:08:28.483Z"
   },
   {
    "duration": 2570,
    "start_time": "2022-12-03T18:08:32.049Z"
   },
   {
    "duration": 2548,
    "start_time": "2022-12-03T18:08:42.191Z"
   },
   {
    "duration": 1675,
    "start_time": "2022-12-03T18:10:11.779Z"
   },
   {
    "duration": 1466,
    "start_time": "2022-12-03T18:10:22.403Z"
   },
   {
    "duration": 21,
    "start_time": "2022-12-03T18:11:04.532Z"
   },
   {
    "duration": 153,
    "start_time": "2022-12-03T18:11:07.885Z"
   },
   {
    "duration": 6,
    "start_time": "2022-12-03T18:11:46.546Z"
   },
   {
    "duration": 21,
    "start_time": "2022-12-03T18:11:51.208Z"
   },
   {
    "duration": 1472,
    "start_time": "2022-12-03T18:11:59.162Z"
   },
   {
    "duration": 25,
    "start_time": "2022-12-03T18:12:12.591Z"
   },
   {
    "duration": 3,
    "start_time": "2022-12-03T18:12:40.117Z"
   },
   {
    "duration": 67,
    "start_time": "2022-12-03T18:12:40.122Z"
   },
   {
    "duration": 12,
    "start_time": "2022-12-03T18:12:40.191Z"
   },
   {
    "duration": 18,
    "start_time": "2022-12-03T18:12:40.205Z"
   },
   {
    "duration": 17,
    "start_time": "2022-12-03T18:12:40.226Z"
   },
   {
    "duration": 64,
    "start_time": "2022-12-03T18:12:40.245Z"
   },
   {
    "duration": 33,
    "start_time": "2022-12-03T18:12:40.311Z"
   },
   {
    "duration": 97,
    "start_time": "2022-12-03T18:12:40.346Z"
   },
   {
    "duration": 247,
    "start_time": "2022-12-03T18:12:40.444Z"
   },
   {
    "duration": 356,
    "start_time": "2022-12-03T18:12:40.695Z"
   },
   {
    "duration": 161,
    "start_time": "2022-12-03T18:12:41.052Z"
   },
   {
    "duration": 0,
    "start_time": "2022-12-03T18:12:41.215Z"
   },
   {
    "duration": 3,
    "start_time": "2022-12-03T18:13:00.278Z"
   },
   {
    "duration": 80,
    "start_time": "2022-12-03T18:13:00.283Z"
   },
   {
    "duration": 12,
    "start_time": "2022-12-03T18:13:00.365Z"
   },
   {
    "duration": 24,
    "start_time": "2022-12-03T18:13:00.379Z"
   },
   {
    "duration": 21,
    "start_time": "2022-12-03T18:13:00.405Z"
   },
   {
    "duration": 45,
    "start_time": "2022-12-03T18:13:00.427Z"
   },
   {
    "duration": 41,
    "start_time": "2022-12-03T18:13:00.474Z"
   },
   {
    "duration": 94,
    "start_time": "2022-12-03T18:13:00.516Z"
   },
   {
    "duration": 257,
    "start_time": "2022-12-03T18:13:00.612Z"
   },
   {
    "duration": 353,
    "start_time": "2022-12-03T18:13:00.871Z"
   },
   {
    "duration": 1505,
    "start_time": "2022-12-03T18:13:01.226Z"
   },
   {
    "duration": 1572,
    "start_time": "2022-12-03T18:13:02.733Z"
   },
   {
    "duration": 1666,
    "start_time": "2022-12-03T18:13:15.744Z"
   },
   {
    "duration": 1487,
    "start_time": "2022-12-03T18:13:21.562Z"
   },
   {
    "duration": 3,
    "start_time": "2022-12-03T18:13:34.605Z"
   },
   {
    "duration": 69,
    "start_time": "2022-12-03T18:13:34.610Z"
   },
   {
    "duration": 14,
    "start_time": "2022-12-03T18:13:34.680Z"
   },
   {
    "duration": 13,
    "start_time": "2022-12-03T18:13:34.695Z"
   },
   {
    "duration": 19,
    "start_time": "2022-12-03T18:13:34.710Z"
   },
   {
    "duration": 66,
    "start_time": "2022-12-03T18:13:34.730Z"
   },
   {
    "duration": 25,
    "start_time": "2022-12-03T18:13:34.798Z"
   },
   {
    "duration": 100,
    "start_time": "2022-12-03T18:13:34.824Z"
   },
   {
    "duration": 271,
    "start_time": "2022-12-03T18:13:34.925Z"
   },
   {
    "duration": 521,
    "start_time": "2022-12-03T18:13:35.198Z"
   },
   {
    "duration": 1508,
    "start_time": "2022-12-03T18:13:35.720Z"
   },
   {
    "duration": 1566,
    "start_time": "2022-12-03T18:13:37.230Z"
   },
   {
    "duration": 4,
    "start_time": "2022-12-03T18:14:37.306Z"
   },
   {
    "duration": 68,
    "start_time": "2022-12-03T18:14:37.311Z"
   },
   {
    "duration": 14,
    "start_time": "2022-12-03T18:14:37.380Z"
   },
   {
    "duration": 15,
    "start_time": "2022-12-03T18:14:37.396Z"
   },
   {
    "duration": 17,
    "start_time": "2022-12-03T18:14:37.413Z"
   },
   {
    "duration": 37,
    "start_time": "2022-12-03T18:14:37.431Z"
   },
   {
    "duration": 46,
    "start_time": "2022-12-03T18:14:37.469Z"
   },
   {
    "duration": 85,
    "start_time": "2022-12-03T18:14:37.517Z"
   },
   {
    "duration": 244,
    "start_time": "2022-12-03T18:14:37.603Z"
   },
   {
    "duration": 362,
    "start_time": "2022-12-03T18:14:37.848Z"
   },
   {
    "duration": 1602,
    "start_time": "2022-12-03T18:14:38.212Z"
   },
   {
    "duration": 1492,
    "start_time": "2022-12-03T18:14:39.816Z"
   },
   {
    "duration": 1738,
    "start_time": "2022-12-03T18:15:09.280Z"
   },
   {
    "duration": 1518,
    "start_time": "2022-12-03T18:15:41.691Z"
   },
   {
    "duration": 20,
    "start_time": "2022-12-03T18:17:10.749Z"
   },
   {
    "duration": 1675,
    "start_time": "2022-12-03T18:17:46.261Z"
   },
   {
    "duration": 4,
    "start_time": "2022-12-03T18:17:56.211Z"
   },
   {
    "duration": 91,
    "start_time": "2022-12-03T18:17:56.217Z"
   },
   {
    "duration": 16,
    "start_time": "2022-12-03T18:17:56.310Z"
   },
   {
    "duration": 17,
    "start_time": "2022-12-03T18:17:56.328Z"
   },
   {
    "duration": 50,
    "start_time": "2022-12-03T18:17:56.348Z"
   },
   {
    "duration": 49,
    "start_time": "2022-12-03T18:17:56.399Z"
   },
   {
    "duration": 54,
    "start_time": "2022-12-03T18:17:56.450Z"
   },
   {
    "duration": 99,
    "start_time": "2022-12-03T18:17:56.506Z"
   },
   {
    "duration": 321,
    "start_time": "2022-12-03T18:17:56.607Z"
   },
   {
    "duration": 379,
    "start_time": "2022-12-03T18:17:56.931Z"
   },
   {
    "duration": 1455,
    "start_time": "2022-12-03T18:17:57.312Z"
   },
   {
    "duration": 1614,
    "start_time": "2022-12-03T18:17:58.768Z"
   },
   {
    "duration": 1825,
    "start_time": "2022-12-03T18:18:21.149Z"
   },
   {
    "duration": 4,
    "start_time": "2022-12-03T18:18:23.932Z"
   },
   {
    "duration": 73,
    "start_time": "2022-12-03T18:18:23.938Z"
   },
   {
    "duration": 12,
    "start_time": "2022-12-03T18:18:24.013Z"
   },
   {
    "duration": 13,
    "start_time": "2022-12-03T18:18:24.027Z"
   },
   {
    "duration": 16,
    "start_time": "2022-12-03T18:18:24.042Z"
   },
   {
    "duration": 62,
    "start_time": "2022-12-03T18:18:24.060Z"
   },
   {
    "duration": 21,
    "start_time": "2022-12-03T18:18:24.124Z"
   },
   {
    "duration": 94,
    "start_time": "2022-12-03T18:18:24.147Z"
   },
   {
    "duration": 251,
    "start_time": "2022-12-03T18:18:24.243Z"
   },
   {
    "duration": 361,
    "start_time": "2022-12-03T18:18:24.496Z"
   },
   {
    "duration": 1721,
    "start_time": "2022-12-03T18:18:24.859Z"
   },
   {
    "duration": 1853,
    "start_time": "2022-12-03T18:18:26.581Z"
   },
   {
    "duration": 50,
    "start_time": "2022-12-04T13:28:52.318Z"
   },
   {
    "duration": 1480,
    "start_time": "2022-12-04T13:28:59.094Z"
   },
   {
    "duration": 156,
    "start_time": "2022-12-04T13:29:00.576Z"
   },
   {
    "duration": 21,
    "start_time": "2022-12-04T13:29:00.735Z"
   },
   {
    "duration": 24,
    "start_time": "2022-12-04T13:29:00.758Z"
   },
   {
    "duration": 42,
    "start_time": "2022-12-04T13:29:00.784Z"
   },
   {
    "duration": 84,
    "start_time": "2022-12-04T13:29:00.828Z"
   },
   {
    "duration": 28,
    "start_time": "2022-12-04T13:29:00.915Z"
   },
   {
    "duration": 186,
    "start_time": "2022-12-04T13:29:00.945Z"
   },
   {
    "duration": 297,
    "start_time": "2022-12-04T13:29:01.133Z"
   },
   {
    "duration": 398,
    "start_time": "2022-12-04T13:29:01.434Z"
   },
   {
    "duration": 2036,
    "start_time": "2022-12-04T13:29:01.834Z"
   },
   {
    "duration": 2095,
    "start_time": "2022-12-04T13:29:03.872Z"
   },
   {
    "duration": 97,
    "start_time": "2022-12-04T13:29:05.968Z"
   },
   {
    "duration": 14,
    "start_time": "2022-12-04T13:29:11.102Z"
   },
   {
    "duration": 3,
    "start_time": "2022-12-04T13:29:35.493Z"
   },
   {
    "duration": 5,
    "start_time": "2022-12-04T13:29:44.397Z"
   },
   {
    "duration": 10,
    "start_time": "2022-12-04T13:30:08.533Z"
   },
   {
    "duration": 5,
    "start_time": "2022-12-04T13:30:16.143Z"
   },
   {
    "duration": 5,
    "start_time": "2022-12-04T13:31:49.432Z"
   },
   {
    "duration": 5,
    "start_time": "2022-12-04T13:31:57.003Z"
   },
   {
    "duration": 5,
    "start_time": "2022-12-04T13:32:04.330Z"
   },
   {
    "duration": 5,
    "start_time": "2022-12-04T13:32:07.961Z"
   },
   {
    "duration": 5,
    "start_time": "2022-12-04T13:32:15.923Z"
   },
   {
    "duration": 5,
    "start_time": "2022-12-04T13:36:09.701Z"
   },
   {
    "duration": 35,
    "start_time": "2022-12-04T13:36:25.805Z"
   },
   {
    "duration": 36,
    "start_time": "2022-12-04T13:36:32.287Z"
   },
   {
    "duration": 6,
    "start_time": "2022-12-04T13:36:39.321Z"
   },
   {
    "duration": 7,
    "start_time": "2022-12-04T13:36:51.664Z"
   },
   {
    "duration": 10,
    "start_time": "2022-12-04T13:36:55.168Z"
   },
   {
    "duration": 5,
    "start_time": "2022-12-04T13:36:58.318Z"
   },
   {
    "duration": 6,
    "start_time": "2022-12-04T13:37:00.444Z"
   },
   {
    "duration": 6,
    "start_time": "2022-12-04T13:37:07.275Z"
   },
   {
    "duration": 5,
    "start_time": "2022-12-04T13:38:08.322Z"
   },
   {
    "duration": 6,
    "start_time": "2022-12-04T13:38:23.914Z"
   },
   {
    "duration": 13,
    "start_time": "2022-12-04T13:38:26.715Z"
   },
   {
    "duration": 7,
    "start_time": "2022-12-04T13:38:30.110Z"
   },
   {
    "duration": 14,
    "start_time": "2022-12-04T13:38:33.138Z"
   },
   {
    "duration": 15,
    "start_time": "2022-12-04T13:38:35.231Z"
   },
   {
    "duration": 7,
    "start_time": "2022-12-04T13:38:38.729Z"
   },
   {
    "duration": 15,
    "start_time": "2022-12-04T13:38:40.780Z"
   },
   {
    "duration": 6,
    "start_time": "2022-12-04T13:38:43.885Z"
   },
   {
    "duration": 1335,
    "start_time": "2022-12-07T19:51:16.738Z"
   },
   {
    "duration": 123,
    "start_time": "2022-12-07T19:51:18.075Z"
   },
   {
    "duration": 15,
    "start_time": "2022-12-07T19:51:18.200Z"
   },
   {
    "duration": 15,
    "start_time": "2022-12-07T19:51:18.217Z"
   },
   {
    "duration": 37,
    "start_time": "2022-12-07T19:51:18.234Z"
   },
   {
    "duration": 45,
    "start_time": "2022-12-07T19:51:18.272Z"
   },
   {
    "duration": 42,
    "start_time": "2022-12-07T19:51:18.319Z"
   },
   {
    "duration": 94,
    "start_time": "2022-12-07T19:51:18.363Z"
   },
   {
    "duration": 265,
    "start_time": "2022-12-07T19:51:18.460Z"
   },
   {
    "duration": 377,
    "start_time": "2022-12-07T19:51:18.727Z"
   },
   {
    "duration": 1773,
    "start_time": "2022-12-07T19:51:19.106Z"
   },
   {
    "duration": 1704,
    "start_time": "2022-12-07T19:51:20.881Z"
   },
   {
    "duration": 4,
    "start_time": "2022-12-07T19:54:42.817Z"
   },
   {
    "duration": 5,
    "start_time": "2022-12-07T19:56:49.050Z"
   },
   {
    "duration": 43,
    "start_time": "2022-12-07T19:58:15.669Z"
   },
   {
    "duration": 7,
    "start_time": "2022-12-07T19:58:45.991Z"
   },
   {
    "duration": 8,
    "start_time": "2022-12-07T19:59:02.058Z"
   },
   {
    "duration": 15,
    "start_time": "2022-12-07T19:59:48.345Z"
   },
   {
    "duration": 5,
    "start_time": "2022-12-07T20:25:01.718Z"
   },
   {
    "duration": 0,
    "start_time": "2022-12-07T20:26:50.796Z"
   },
   {
    "duration": 697,
    "start_time": "2022-12-07T20:27:02.762Z"
   },
   {
    "duration": 32,
    "start_time": "2022-12-07T20:27:23.315Z"
   },
   {
    "duration": 726,
    "start_time": "2022-12-07T20:27:44.381Z"
   },
   {
    "duration": 17,
    "start_time": "2022-12-07T20:28:01.717Z"
   },
   {
    "duration": 679,
    "start_time": "2022-12-07T20:28:36.765Z"
   },
   {
    "duration": 33,
    "start_time": "2022-12-07T20:28:58.689Z"
   },
   {
    "duration": 31,
    "start_time": "2022-12-07T20:29:11.284Z"
   },
   {
    "duration": 3,
    "start_time": "2022-12-07T20:29:14.356Z"
   },
   {
    "duration": 81,
    "start_time": "2022-12-07T20:29:14.362Z"
   },
   {
    "duration": 19,
    "start_time": "2022-12-07T20:29:14.444Z"
   },
   {
    "duration": 34,
    "start_time": "2022-12-07T20:29:14.465Z"
   },
   {
    "duration": 32,
    "start_time": "2022-12-07T20:29:14.502Z"
   },
   {
    "duration": 55,
    "start_time": "2022-12-07T20:29:14.536Z"
   },
   {
    "duration": 29,
    "start_time": "2022-12-07T20:29:14.594Z"
   },
   {
    "duration": 111,
    "start_time": "2022-12-07T20:29:14.625Z"
   },
   {
    "duration": 250,
    "start_time": "2022-12-07T20:29:14.738Z"
   },
   {
    "duration": 462,
    "start_time": "2022-12-07T20:29:14.990Z"
   },
   {
    "duration": 1664,
    "start_time": "2022-12-07T20:29:15.455Z"
   },
   {
    "duration": 1709,
    "start_time": "2022-12-07T20:29:17.121Z"
   },
   {
    "duration": 44,
    "start_time": "2022-12-07T20:29:18.831Z"
   },
   {
    "duration": 665,
    "start_time": "2022-12-07T20:29:18.878Z"
   },
   {
    "duration": 783,
    "start_time": "2022-12-07T20:30:08.769Z"
   },
   {
    "duration": 707,
    "start_time": "2022-12-07T20:30:27.746Z"
   },
   {
    "duration": 1976,
    "start_time": "2022-12-07T20:30:40.936Z"
   },
   {
    "duration": 3,
    "start_time": "2022-12-07T20:51:14.339Z"
   },
   {
    "duration": 82,
    "start_time": "2022-12-07T20:51:14.344Z"
   },
   {
    "duration": 16,
    "start_time": "2022-12-07T20:51:14.428Z"
   },
   {
    "duration": 31,
    "start_time": "2022-12-07T20:51:14.446Z"
   },
   {
    "duration": 39,
    "start_time": "2022-12-07T20:51:14.480Z"
   },
   {
    "duration": 45,
    "start_time": "2022-12-07T20:51:14.521Z"
   },
   {
    "duration": 23,
    "start_time": "2022-12-07T20:51:14.568Z"
   },
   {
    "duration": 111,
    "start_time": "2022-12-07T20:51:14.592Z"
   },
   {
    "duration": 296,
    "start_time": "2022-12-07T20:51:14.705Z"
   },
   {
    "duration": 344,
    "start_time": "2022-12-07T20:51:15.003Z"
   },
   {
    "duration": 1739,
    "start_time": "2022-12-07T20:51:15.348Z"
   },
   {
    "duration": 1587,
    "start_time": "2022-12-07T20:51:17.088Z"
   },
   {
    "duration": 34,
    "start_time": "2022-12-07T20:51:18.677Z"
   },
   {
    "duration": 2084,
    "start_time": "2022-12-07T20:51:18.715Z"
   },
   {
    "duration": 959,
    "start_time": "2022-12-07T20:51:43.014Z"
   },
   {
    "duration": 2001,
    "start_time": "2022-12-07T20:52:28.183Z"
   },
   {
    "duration": 11,
    "start_time": "2022-12-07T20:55:26.563Z"
   },
   {
    "duration": 10,
    "start_time": "2022-12-07T20:55:45.742Z"
   },
   {
    "duration": 14,
    "start_time": "2022-12-07T20:56:52.233Z"
   },
   {
    "duration": 649,
    "start_time": "2022-12-07T20:57:05.928Z"
   },
   {
    "duration": 19,
    "start_time": "2022-12-07T20:57:17.682Z"
   },
   {
    "duration": 24,
    "start_time": "2022-12-07T20:57:45.865Z"
   },
   {
    "duration": 41,
    "start_time": "2022-12-07T20:58:41.801Z"
   },
   {
    "duration": 1935,
    "start_time": "2022-12-07T20:58:45.448Z"
   },
   {
    "duration": 22,
    "start_time": "2022-12-07T20:59:37.343Z"
   },
   {
    "duration": 219,
    "start_time": "2022-12-07T21:00:59.369Z"
   },
   {
    "duration": 25,
    "start_time": "2022-12-07T21:01:06.363Z"
   },
   {
    "duration": 1356,
    "start_time": "2022-12-07T21:01:16.727Z"
   },
   {
    "duration": 1252,
    "start_time": "2022-12-07T21:09:30.154Z"
   },
   {
    "duration": 30,
    "start_time": "2022-12-07T21:09:59.685Z"
   },
   {
    "duration": 1360,
    "start_time": "2022-12-07T21:10:14.893Z"
   },
   {
    "duration": 1217,
    "start_time": "2022-12-07T21:12:17.291Z"
   },
   {
    "duration": 46,
    "start_time": "2022-12-07T21:12:37.234Z"
   },
   {
    "duration": 1369,
    "start_time": "2022-12-07T21:20:50.503Z"
   },
   {
    "duration": 3,
    "start_time": "2022-12-07T21:21:00.448Z"
   },
   {
    "duration": 89,
    "start_time": "2022-12-07T21:21:00.453Z"
   },
   {
    "duration": 16,
    "start_time": "2022-12-07T21:21:00.544Z"
   },
   {
    "duration": 20,
    "start_time": "2022-12-07T21:21:00.562Z"
   },
   {
    "duration": 30,
    "start_time": "2022-12-07T21:21:00.585Z"
   },
   {
    "duration": 72,
    "start_time": "2022-12-07T21:21:00.617Z"
   },
   {
    "duration": 37,
    "start_time": "2022-12-07T21:21:00.691Z"
   },
   {
    "duration": 108,
    "start_time": "2022-12-07T21:21:00.730Z"
   },
   {
    "duration": 250,
    "start_time": "2022-12-07T21:21:00.855Z"
   },
   {
    "duration": 343,
    "start_time": "2022-12-07T21:21:01.107Z"
   },
   {
    "duration": 1750,
    "start_time": "2022-12-07T21:21:01.454Z"
   },
   {
    "duration": 1656,
    "start_time": "2022-12-07T21:21:03.206Z"
   },
   {
    "duration": 33,
    "start_time": "2022-12-07T21:21:04.863Z"
   },
   {
    "duration": 1384,
    "start_time": "2022-12-07T21:21:04.899Z"
   },
   {
    "duration": 1072,
    "start_time": "2022-12-07T21:24:14.870Z"
   },
   {
    "duration": 40,
    "start_time": "2022-12-07T21:24:54.747Z"
   },
   {
    "duration": 1418,
    "start_time": "2022-12-07T21:25:47.737Z"
   },
   {
    "duration": 992,
    "start_time": "2022-12-07T21:25:59.112Z"
   },
   {
    "duration": 217,
    "start_time": "2022-12-07T21:47:45.286Z"
   },
   {
    "duration": 40,
    "start_time": "2022-12-07T21:50:34.999Z"
   },
   {
    "duration": 1139,
    "start_time": "2022-12-07T21:51:09.596Z"
   },
   {
    "duration": 13,
    "start_time": "2022-12-07T21:51:23.644Z"
   },
   {
    "duration": 221,
    "start_time": "2022-12-07T21:51:49.458Z"
   },
   {
    "duration": 1030,
    "start_time": "2022-12-07T21:52:56.713Z"
   },
   {
    "duration": 12,
    "start_time": "2022-12-07T21:53:01.050Z"
   },
   {
    "duration": 13,
    "start_time": "2022-12-07T21:53:23.320Z"
   },
   {
    "duration": 520,
    "start_time": "2022-12-07T21:54:00.036Z"
   },
   {
    "duration": 545,
    "start_time": "2022-12-07T21:54:11.198Z"
   },
   {
    "duration": 4,
    "start_time": "2022-12-07T21:54:15.678Z"
   },
   {
    "duration": 67,
    "start_time": "2022-12-07T21:54:15.683Z"
   },
   {
    "duration": 15,
    "start_time": "2022-12-07T21:54:15.752Z"
   },
   {
    "duration": 15,
    "start_time": "2022-12-07T21:54:15.769Z"
   },
   {
    "duration": 17,
    "start_time": "2022-12-07T21:54:15.787Z"
   },
   {
    "duration": 62,
    "start_time": "2022-12-07T21:54:15.805Z"
   },
   {
    "duration": 23,
    "start_time": "2022-12-07T21:54:15.869Z"
   },
   {
    "duration": 98,
    "start_time": "2022-12-07T21:54:15.893Z"
   },
   {
    "duration": 246,
    "start_time": "2022-12-07T21:54:15.993Z"
   },
   {
    "duration": 335,
    "start_time": "2022-12-07T21:54:16.240Z"
   },
   {
    "duration": 1739,
    "start_time": "2022-12-07T21:54:16.576Z"
   },
   {
    "duration": 1598,
    "start_time": "2022-12-07T21:54:18.317Z"
   },
   {
    "duration": 42,
    "start_time": "2022-12-07T21:54:19.917Z"
   },
   {
    "duration": 1218,
    "start_time": "2022-12-07T21:54:19.961Z"
   },
   {
    "duration": 198,
    "start_time": "2022-12-07T21:54:21.181Z"
   },
   {
    "duration": 51,
    "start_time": "2022-12-07T21:58:25.052Z"
   },
   {
    "duration": 2180,
    "start_time": "2022-12-07T22:01:06.118Z"
   },
   {
    "duration": 14,
    "start_time": "2022-12-07T22:01:42.672Z"
   },
   {
    "duration": 51,
    "start_time": "2022-12-07T22:02:20.156Z"
   },
   {
    "duration": 145,
    "start_time": "2022-12-07T22:02:25.836Z"
   },
   {
    "duration": 9,
    "start_time": "2022-12-07T22:02:50.492Z"
   },
   {
    "duration": 154,
    "start_time": "2022-12-07T22:03:04.245Z"
   },
   {
    "duration": 174,
    "start_time": "2022-12-07T22:03:09.231Z"
   },
   {
    "duration": 407,
    "start_time": "2022-12-07T22:03:35.394Z"
   },
   {
    "duration": 176,
    "start_time": "2022-12-07T22:04:49.601Z"
   },
   {
    "duration": 181,
    "start_time": "2022-12-07T22:04:55.684Z"
   },
   {
    "duration": 172,
    "start_time": "2022-12-07T22:05:01.816Z"
   },
   {
    "duration": 172,
    "start_time": "2022-12-07T22:05:27.959Z"
   },
   {
    "duration": 182,
    "start_time": "2022-12-07T22:05:35.593Z"
   },
   {
    "duration": 486,
    "start_time": "2022-12-07T22:05:40.361Z"
   },
   {
    "duration": 194,
    "start_time": "2022-12-07T22:05:44.904Z"
   },
   {
    "duration": 190,
    "start_time": "2022-12-07T22:06:00.748Z"
   },
   {
    "duration": 171,
    "start_time": "2022-12-07T22:06:06.460Z"
   },
   {
    "duration": 171,
    "start_time": "2022-12-07T22:06:29.414Z"
   },
   {
    "duration": 223,
    "start_time": "2022-12-07T22:09:51.588Z"
   },
   {
    "duration": 348,
    "start_time": "2022-12-07T22:10:05.634Z"
   },
   {
    "duration": 344,
    "start_time": "2022-12-07T22:10:42.954Z"
   },
   {
    "duration": 324,
    "start_time": "2022-12-07T22:10:52.123Z"
   },
   {
    "duration": 532,
    "start_time": "2022-12-07T22:10:56.656Z"
   },
   {
    "duration": 311,
    "start_time": "2022-12-07T22:11:11.747Z"
   },
   {
    "duration": 341,
    "start_time": "2022-12-07T22:11:15.386Z"
   },
   {
    "duration": 348,
    "start_time": "2022-12-07T22:11:25.628Z"
   },
   {
    "duration": 50,
    "start_time": "2022-12-07T22:11:50.976Z"
   },
   {
    "duration": 384,
    "start_time": "2022-12-07T22:11:53.545Z"
   },
   {
    "duration": 3,
    "start_time": "2022-12-07T22:11:55.768Z"
   },
   {
    "duration": 77,
    "start_time": "2022-12-07T22:11:55.774Z"
   },
   {
    "duration": 15,
    "start_time": "2022-12-07T22:11:55.854Z"
   },
   {
    "duration": 17,
    "start_time": "2022-12-07T22:11:55.871Z"
   },
   {
    "duration": 21,
    "start_time": "2022-12-07T22:11:55.891Z"
   },
   {
    "duration": 76,
    "start_time": "2022-12-07T22:11:55.914Z"
   },
   {
    "duration": 26,
    "start_time": "2022-12-07T22:11:55.992Z"
   },
   {
    "duration": 110,
    "start_time": "2022-12-07T22:11:56.020Z"
   },
   {
    "duration": 254,
    "start_time": "2022-12-07T22:11:56.132Z"
   },
   {
    "duration": 346,
    "start_time": "2022-12-07T22:11:56.389Z"
   },
   {
    "duration": 1726,
    "start_time": "2022-12-07T22:11:56.737Z"
   },
   {
    "duration": 1596,
    "start_time": "2022-12-07T22:11:58.464Z"
   },
   {
    "duration": 31,
    "start_time": "2022-12-07T22:12:00.062Z"
   },
   {
    "duration": 1318,
    "start_time": "2022-12-07T22:12:00.096Z"
   },
   {
    "duration": 215,
    "start_time": "2022-12-07T22:12:01.416Z"
   },
   {
    "duration": 350,
    "start_time": "2022-12-07T22:12:01.632Z"
   },
   {
    "duration": 9,
    "start_time": "2022-12-07T22:24:51.967Z"
   },
   {
    "duration": 10,
    "start_time": "2022-12-07T22:25:12.011Z"
   },
   {
    "duration": 10,
    "start_time": "2022-12-07T22:25:25.638Z"
   },
   {
    "duration": 30,
    "start_time": "2022-12-07T22:26:06.600Z"
   },
   {
    "duration": 28,
    "start_time": "2022-12-07T22:26:31.643Z"
   },
   {
    "duration": 29,
    "start_time": "2022-12-07T22:26:45.191Z"
   },
   {
    "duration": 29,
    "start_time": "2022-12-07T22:26:53.620Z"
   },
   {
    "duration": 23,
    "start_time": "2022-12-07T22:28:23.506Z"
   },
   {
    "duration": 22,
    "start_time": "2022-12-07T22:29:17.929Z"
   },
   {
    "duration": 23,
    "start_time": "2022-12-07T22:29:33.973Z"
   },
   {
    "duration": 23,
    "start_time": "2022-12-07T22:29:45.740Z"
   },
   {
    "duration": 23,
    "start_time": "2022-12-07T22:29:51.066Z"
   },
   {
    "duration": 20,
    "start_time": "2022-12-07T22:30:22.372Z"
   },
   {
    "duration": 24,
    "start_time": "2022-12-07T22:30:45.023Z"
   },
   {
    "duration": 31,
    "start_time": "2022-12-07T22:31:27.489Z"
   },
   {
    "duration": 23,
    "start_time": "2022-12-07T22:31:46.823Z"
   },
   {
    "duration": 31,
    "start_time": "2022-12-07T22:31:52.358Z"
   },
   {
    "duration": 31,
    "start_time": "2022-12-07T22:32:04.938Z"
   },
   {
    "duration": 26,
    "start_time": "2022-12-07T22:32:57.731Z"
   },
   {
    "duration": 17,
    "start_time": "2022-12-07T22:33:40.535Z"
   },
   {
    "duration": 17,
    "start_time": "2022-12-07T22:33:43.839Z"
   },
   {
    "duration": 28,
    "start_time": "2022-12-07T22:33:51.011Z"
   },
   {
    "duration": 58,
    "start_time": "2022-12-08T08:27:58.995Z"
   },
   {
    "duration": 1636,
    "start_time": "2022-12-08T08:28:01.758Z"
   },
   {
    "duration": 198,
    "start_time": "2022-12-08T08:28:03.397Z"
   },
   {
    "duration": 20,
    "start_time": "2022-12-08T08:28:03.600Z"
   },
   {
    "duration": 26,
    "start_time": "2022-12-08T08:28:03.623Z"
   },
   {
    "duration": 80,
    "start_time": "2022-12-08T08:28:03.652Z"
   },
   {
    "duration": 88,
    "start_time": "2022-12-08T08:28:03.734Z"
   },
   {
    "duration": 42,
    "start_time": "2022-12-08T08:28:03.824Z"
   },
   {
    "duration": 145,
    "start_time": "2022-12-08T08:28:03.881Z"
   },
   {
    "duration": 375,
    "start_time": "2022-12-08T08:28:04.028Z"
   },
   {
    "duration": 510,
    "start_time": "2022-12-08T08:28:04.405Z"
   },
   {
    "duration": 3225,
    "start_time": "2022-12-08T08:28:04.918Z"
   },
   {
    "duration": 2405,
    "start_time": "2022-12-08T08:28:08.146Z"
   },
   {
    "duration": 60,
    "start_time": "2022-12-08T08:28:10.553Z"
   },
   {
    "duration": 1565,
    "start_time": "2022-12-08T08:28:10.615Z"
   },
   {
    "duration": 271,
    "start_time": "2022-12-08T08:28:12.182Z"
   },
   {
    "duration": 140,
    "start_time": "2022-12-08T08:28:12.455Z"
   },
   {
    "duration": 0,
    "start_time": "2022-12-08T08:28:12.597Z"
   },
   {
    "duration": 61,
    "start_time": "2022-12-08T08:28:18.992Z"
   },
   {
    "duration": 24,
    "start_time": "2022-12-08T08:29:20.776Z"
   },
   {
    "duration": 27,
    "start_time": "2022-12-08T08:32:05.617Z"
   },
   {
    "duration": 29,
    "start_time": "2022-12-08T08:32:20.521Z"
   },
   {
    "duration": 29,
    "start_time": "2022-12-08T08:32:24.248Z"
   },
   {
    "duration": 45,
    "start_time": "2022-12-08T08:35:41.097Z"
   },
   {
    "duration": 64,
    "start_time": "2022-12-08T08:39:16.130Z"
   },
   {
    "duration": 72,
    "start_time": "2022-12-08T08:39:19.187Z"
   },
   {
    "duration": 3,
    "start_time": "2022-12-08T08:39:29.533Z"
   },
   {
    "duration": 111,
    "start_time": "2022-12-08T08:39:29.538Z"
   },
   {
    "duration": 15,
    "start_time": "2022-12-08T08:39:29.651Z"
   },
   {
    "duration": 65,
    "start_time": "2022-12-08T08:39:29.668Z"
   },
   {
    "duration": 33,
    "start_time": "2022-12-08T08:39:29.736Z"
   },
   {
    "duration": 84,
    "start_time": "2022-12-08T08:39:29.771Z"
   },
   {
    "duration": 36,
    "start_time": "2022-12-08T08:39:29.858Z"
   },
   {
    "duration": 118,
    "start_time": "2022-12-08T08:39:29.896Z"
   },
   {
    "duration": 294,
    "start_time": "2022-12-08T08:39:30.016Z"
   },
   {
    "duration": 409,
    "start_time": "2022-12-08T08:39:30.312Z"
   },
   {
    "duration": 2120,
    "start_time": "2022-12-08T08:39:30.724Z"
   },
   {
    "duration": 2115,
    "start_time": "2022-12-08T08:39:32.846Z"
   },
   {
    "duration": 66,
    "start_time": "2022-12-08T08:39:34.963Z"
   },
   {
    "duration": 1412,
    "start_time": "2022-12-08T08:39:35.031Z"
   },
   {
    "duration": 259,
    "start_time": "2022-12-08T08:39:36.446Z"
   },
   {
    "duration": 81,
    "start_time": "2022-12-08T08:39:36.708Z"
   },
   {
    "duration": 0,
    "start_time": "2022-12-08T08:39:36.791Z"
   },
   {
    "duration": 55,
    "start_time": "2022-12-08T08:42:21.325Z"
   },
   {
    "duration": 70,
    "start_time": "2022-12-08T08:42:26.362Z"
   },
   {
    "duration": 114,
    "start_time": "2022-12-08T08:44:09.690Z"
   },
   {
    "duration": 3,
    "start_time": "2022-12-08T08:44:16.169Z"
   },
   {
    "duration": 78,
    "start_time": "2022-12-08T08:44:16.174Z"
   },
   {
    "duration": 14,
    "start_time": "2022-12-08T08:44:16.254Z"
   },
   {
    "duration": 22,
    "start_time": "2022-12-08T08:44:16.269Z"
   },
   {
    "duration": 20,
    "start_time": "2022-12-08T08:44:16.294Z"
   },
   {
    "duration": 68,
    "start_time": "2022-12-08T08:44:16.315Z"
   },
   {
    "duration": 28,
    "start_time": "2022-12-08T08:44:16.385Z"
   },
   {
    "duration": 110,
    "start_time": "2022-12-08T08:44:16.415Z"
   },
   {
    "duration": 275,
    "start_time": "2022-12-08T08:44:16.527Z"
   },
   {
    "duration": 377,
    "start_time": "2022-12-08T08:44:16.804Z"
   },
   {
    "duration": 2079,
    "start_time": "2022-12-08T08:44:17.184Z"
   },
   {
    "duration": 1901,
    "start_time": "2022-12-08T08:44:19.266Z"
   },
   {
    "duration": 43,
    "start_time": "2022-12-08T08:44:21.168Z"
   },
   {
    "duration": 1159,
    "start_time": "2022-12-08T08:44:21.213Z"
   },
   {
    "duration": 259,
    "start_time": "2022-12-08T08:44:22.377Z"
   },
   {
    "duration": 210,
    "start_time": "2022-12-08T08:44:22.638Z"
   },
   {
    "duration": 0,
    "start_time": "2022-12-08T08:44:22.877Z"
   },
   {
    "duration": 76,
    "start_time": "2022-12-08T08:46:09.790Z"
   },
   {
    "duration": 61,
    "start_time": "2022-12-08T08:46:22.124Z"
   },
   {
    "duration": 4,
    "start_time": "2022-12-08T08:46:32.021Z"
   },
   {
    "duration": 70,
    "start_time": "2022-12-08T08:46:32.032Z"
   },
   {
    "duration": 19,
    "start_time": "2022-12-08T08:46:32.104Z"
   },
   {
    "duration": 23,
    "start_time": "2022-12-08T08:46:32.125Z"
   },
   {
    "duration": 35,
    "start_time": "2022-12-08T08:46:32.150Z"
   },
   {
    "duration": 45,
    "start_time": "2022-12-08T08:46:32.188Z"
   },
   {
    "duration": 58,
    "start_time": "2022-12-08T08:46:32.235Z"
   },
   {
    "duration": 107,
    "start_time": "2022-12-08T08:46:32.295Z"
   },
   {
    "duration": 261,
    "start_time": "2022-12-08T08:46:32.404Z"
   },
   {
    "duration": 383,
    "start_time": "2022-12-08T08:46:32.667Z"
   },
   {
    "duration": 1925,
    "start_time": "2022-12-08T08:46:33.052Z"
   },
   {
    "duration": 1886,
    "start_time": "2022-12-08T08:46:34.979Z"
   },
   {
    "duration": 37,
    "start_time": "2022-12-08T08:46:36.877Z"
   },
   {
    "duration": 1410,
    "start_time": "2022-12-08T08:46:36.916Z"
   },
   {
    "duration": 281,
    "start_time": "2022-12-08T08:46:38.330Z"
   },
   {
    "duration": 76,
    "start_time": "2022-12-08T08:46:38.613Z"
   },
   {
    "duration": 0,
    "start_time": "2022-12-08T08:46:38.691Z"
   },
   {
    "duration": 73,
    "start_time": "2022-12-08T08:47:37.859Z"
   },
   {
    "duration": 64,
    "start_time": "2022-12-08T08:48:04.307Z"
   },
   {
    "duration": 51,
    "start_time": "2022-12-08T08:48:24.522Z"
   },
   {
    "duration": 63,
    "start_time": "2022-12-08T08:48:28.101Z"
   },
   {
    "duration": 71,
    "start_time": "2022-12-08T08:54:38.748Z"
   },
   {
    "duration": 4,
    "start_time": "2022-12-08T08:54:42.763Z"
   },
   {
    "duration": 73,
    "start_time": "2022-12-08T08:54:42.774Z"
   },
   {
    "duration": 17,
    "start_time": "2022-12-08T08:54:42.850Z"
   },
   {
    "duration": 16,
    "start_time": "2022-12-08T08:54:42.869Z"
   },
   {
    "duration": 22,
    "start_time": "2022-12-08T08:54:42.887Z"
   },
   {
    "duration": 73,
    "start_time": "2022-12-08T08:54:42.912Z"
   },
   {
    "duration": 27,
    "start_time": "2022-12-08T08:54:42.987Z"
   },
   {
    "duration": 116,
    "start_time": "2022-12-08T08:54:43.016Z"
   },
   {
    "duration": 269,
    "start_time": "2022-12-08T08:54:43.134Z"
   },
   {
    "duration": 416,
    "start_time": "2022-12-08T08:54:43.405Z"
   },
   {
    "duration": 1900,
    "start_time": "2022-12-08T08:54:43.823Z"
   },
   {
    "duration": 1921,
    "start_time": "2022-12-08T08:54:45.725Z"
   },
   {
    "duration": 53,
    "start_time": "2022-12-08T08:54:47.649Z"
   },
   {
    "duration": 1216,
    "start_time": "2022-12-08T08:54:47.704Z"
   },
   {
    "duration": 263,
    "start_time": "2022-12-08T08:54:48.923Z"
   },
   {
    "duration": 69,
    "start_time": "2022-12-08T08:54:49.188Z"
   },
   {
    "duration": 400,
    "start_time": "2022-12-08T08:54:49.279Z"
   },
   {
    "duration": 66,
    "start_time": "2022-12-08T08:55:04.270Z"
   },
   {
    "duration": 257,
    "start_time": "2022-12-08T09:01:39.708Z"
   },
   {
    "duration": 106,
    "start_time": "2022-12-08T09:02:16.252Z"
   },
   {
    "duration": 1535,
    "start_time": "2022-12-08T09:03:42.265Z"
   },
   {
    "duration": 1653,
    "start_time": "2022-12-08T09:06:29.139Z"
   },
   {
    "duration": 1133,
    "start_time": "2022-12-08T09:07:43.760Z"
   },
   {
    "duration": 1731,
    "start_time": "2022-12-08T09:07:54.839Z"
   },
   {
    "duration": 666,
    "start_time": "2022-12-08T09:15:29.630Z"
   },
   {
    "duration": 12,
    "start_time": "2022-12-08T09:20:10.345Z"
   },
   {
    "duration": 34,
    "start_time": "2022-12-08T09:20:19.616Z"
   },
   {
    "duration": 36,
    "start_time": "2022-12-08T09:20:50.819Z"
   },
   {
    "duration": 56,
    "start_time": "2022-12-08T09:21:18.697Z"
   },
   {
    "duration": 39,
    "start_time": "2022-12-08T09:22:05.965Z"
   },
   {
    "duration": 235,
    "start_time": "2022-12-08T09:22:18.528Z"
   },
   {
    "duration": 48,
    "start_time": "2022-12-08T09:22:52.652Z"
   },
   {
    "duration": 1908,
    "start_time": "2022-12-08T09:25:46.407Z"
   },
   {
    "duration": 2064,
    "start_time": "2022-12-08T09:26:05.740Z"
   },
   {
    "duration": 12,
    "start_time": "2022-12-08T09:35:25.001Z"
   },
   {
    "duration": 15,
    "start_time": "2022-12-08T09:35:28.948Z"
   },
   {
    "duration": 16,
    "start_time": "2022-12-08T09:35:53.712Z"
   },
   {
    "duration": 18,
    "start_time": "2022-12-08T09:36:10.822Z"
   },
   {
    "duration": 945,
    "start_time": "2022-12-08T09:36:59.764Z"
   },
   {
    "duration": 24,
    "start_time": "2022-12-08T09:37:16.173Z"
   },
   {
    "duration": 13,
    "start_time": "2022-12-08T09:37:59.315Z"
   },
   {
    "duration": 18,
    "start_time": "2022-12-08T09:38:09.394Z"
   },
   {
    "duration": 23,
    "start_time": "2022-12-08T09:38:18.303Z"
   },
   {
    "duration": 59,
    "start_time": "2022-12-08T09:40:42.702Z"
   },
   {
    "duration": 48,
    "start_time": "2022-12-08T09:40:50.796Z"
   },
   {
    "duration": 23,
    "start_time": "2022-12-08T09:41:04.740Z"
   },
   {
    "duration": 57,
    "start_time": "2022-12-08T09:41:18.466Z"
   },
   {
    "duration": 25,
    "start_time": "2022-12-08T09:43:06.344Z"
   },
   {
    "duration": 301,
    "start_time": "2022-12-08T09:46:51.695Z"
   },
   {
    "duration": 40,
    "start_time": "2022-12-08T09:49:04.469Z"
   },
   {
    "duration": 54,
    "start_time": "2022-12-08T09:49:08.930Z"
   },
   {
    "duration": 157,
    "start_time": "2022-12-08T09:49:14.873Z"
   },
   {
    "duration": 137,
    "start_time": "2022-12-08T09:49:26.720Z"
   },
   {
    "duration": 176,
    "start_time": "2022-12-08T09:49:32.722Z"
   },
   {
    "duration": 194,
    "start_time": "2022-12-08T09:52:29.862Z"
   },
   {
    "duration": 414,
    "start_time": "2022-12-08T09:53:14.010Z"
   },
   {
    "duration": 408,
    "start_time": "2022-12-08T09:54:06.008Z"
   },
   {
    "duration": 421,
    "start_time": "2022-12-08T09:54:29.104Z"
   },
   {
    "duration": 581,
    "start_time": "2022-12-08T09:54:47.395Z"
   },
   {
    "duration": 88,
    "start_time": "2022-12-08T10:05:23.008Z"
   },
   {
    "duration": 117,
    "start_time": "2022-12-08T10:07:35.541Z"
   },
   {
    "duration": 1041,
    "start_time": "2022-12-08T10:12:51.923Z"
   },
   {
    "duration": 555,
    "start_time": "2022-12-08T10:13:04.714Z"
   },
   {
    "duration": 717,
    "start_time": "2022-12-08T10:13:20.889Z"
   },
   {
    "duration": 531,
    "start_time": "2022-12-08T10:17:19.608Z"
   },
   {
    "duration": 551,
    "start_time": "2022-12-08T10:19:51.708Z"
   },
   {
    "duration": 739,
    "start_time": "2022-12-08T10:20:45.961Z"
   },
   {
    "duration": 8,
    "start_time": "2022-12-08T10:21:22.352Z"
   },
   {
    "duration": 551,
    "start_time": "2022-12-08T10:21:25.219Z"
   },
   {
    "duration": 607,
    "start_time": "2022-12-08T10:21:59.292Z"
   },
   {
    "duration": 838,
    "start_time": "2022-12-08T10:22:28.325Z"
   },
   {
    "duration": 582,
    "start_time": "2022-12-08T10:22:33.825Z"
   },
   {
    "duration": 184,
    "start_time": "2022-12-08T10:22:54.523Z"
   },
   {
    "duration": 596,
    "start_time": "2022-12-08T10:22:58.755Z"
   },
   {
    "duration": 186,
    "start_time": "2022-12-08T10:24:59.871Z"
   },
   {
    "duration": 617,
    "start_time": "2022-12-08T10:25:04.423Z"
   },
   {
    "duration": 673,
    "start_time": "2022-12-08T10:25:08.424Z"
   },
   {
    "duration": 809,
    "start_time": "2022-12-08T10:27:29.825Z"
   },
   {
    "duration": 179,
    "start_time": "2022-12-08T10:27:34.841Z"
   },
   {
    "duration": 169,
    "start_time": "2022-12-08T10:27:54.840Z"
   },
   {
    "duration": 663,
    "start_time": "2022-12-08T10:28:04.308Z"
   },
   {
    "duration": 546,
    "start_time": "2022-12-08T10:28:42.014Z"
   },
   {
    "duration": 174,
    "start_time": "2022-12-08T10:28:45.422Z"
   },
   {
    "duration": 544,
    "start_time": "2022-12-08T10:28:49.254Z"
   },
   {
    "duration": 576,
    "start_time": "2022-12-08T10:28:55.831Z"
   },
   {
    "duration": 31,
    "start_time": "2022-12-08T11:14:58.494Z"
   },
   {
    "duration": 30,
    "start_time": "2022-12-08T11:14:58.581Z"
   },
   {
    "duration": 95,
    "start_time": "2022-12-08T11:15:15.396Z"
   },
   {
    "duration": 33,
    "start_time": "2022-12-08T11:15:21.446Z"
   },
   {
    "duration": 97,
    "start_time": "2022-12-08T11:15:24.065Z"
   },
   {
    "duration": 84,
    "start_time": "2022-12-08T11:18:59.197Z"
   },
   {
    "duration": 81,
    "start_time": "2022-12-08T11:19:27.188Z"
   },
   {
    "duration": 81,
    "start_time": "2022-12-08T11:19:36.900Z"
   },
   {
    "duration": 9,
    "start_time": "2022-12-08T11:23:18.465Z"
   },
   {
    "duration": 5,
    "start_time": "2022-12-08T11:24:31.733Z"
   },
   {
    "duration": 7,
    "start_time": "2022-12-08T11:24:38.464Z"
   },
   {
    "duration": 5,
    "start_time": "2022-12-08T11:24:40.967Z"
   },
   {
    "duration": 6,
    "start_time": "2022-12-08T11:24:45.949Z"
   },
   {
    "duration": 6,
    "start_time": "2022-12-08T11:24:53.789Z"
   },
   {
    "duration": 14,
    "start_time": "2022-12-08T11:27:09.322Z"
   },
   {
    "duration": 35,
    "start_time": "2022-12-08T11:27:20.994Z"
   },
   {
    "duration": 30,
    "start_time": "2022-12-08T11:28:30.127Z"
   },
   {
    "duration": 39,
    "start_time": "2022-12-08T11:28:48.698Z"
   },
   {
    "duration": 29,
    "start_time": "2022-12-08T11:28:58.847Z"
   },
   {
    "duration": 29,
    "start_time": "2022-12-08T11:29:07.045Z"
   },
   {
    "duration": 31,
    "start_time": "2022-12-08T11:29:20.157Z"
   },
   {
    "duration": 29,
    "start_time": "2022-12-08T11:29:20.317Z"
   },
   {
    "duration": 34,
    "start_time": "2022-12-08T11:30:19.229Z"
   },
   {
    "duration": 33,
    "start_time": "2022-12-08T11:30:29.113Z"
   },
   {
    "duration": 32,
    "start_time": "2022-12-08T11:30:39.422Z"
   },
   {
    "duration": 30,
    "start_time": "2022-12-08T11:31:29.192Z"
   },
   {
    "duration": 36,
    "start_time": "2022-12-08T11:31:46.560Z"
   },
   {
    "duration": 34,
    "start_time": "2022-12-08T11:32:31.073Z"
   },
   {
    "duration": 29,
    "start_time": "2022-12-08T11:33:05.785Z"
   },
   {
    "duration": 11,
    "start_time": "2022-12-08T11:33:31.688Z"
   },
   {
    "duration": 12,
    "start_time": "2022-12-08T11:33:40.949Z"
   },
   {
    "duration": 10,
    "start_time": "2022-12-08T11:33:44.794Z"
   },
   {
    "duration": 18,
    "start_time": "2022-12-08T11:34:02.430Z"
   },
   {
    "duration": 18,
    "start_time": "2022-12-08T11:34:16.329Z"
   },
   {
    "duration": 81,
    "start_time": "2022-12-08T11:35:41.283Z"
   },
   {
    "duration": 82,
    "start_time": "2022-12-08T11:35:46.432Z"
   },
   {
    "duration": 258,
    "start_time": "2022-12-08T11:35:57.832Z"
   },
   {
    "duration": 103,
    "start_time": "2022-12-08T11:36:00.929Z"
   },
   {
    "duration": 809,
    "start_time": "2022-12-08T11:39:33.257Z"
   },
   {
    "duration": 212,
    "start_time": "2022-12-08T11:39:57.097Z"
   },
   {
    "duration": 228,
    "start_time": "2022-12-08T11:40:06.671Z"
   },
   {
    "duration": 606,
    "start_time": "2022-12-08T11:40:20.509Z"
   },
   {
    "duration": 834,
    "start_time": "2022-12-08T11:40:32.796Z"
   },
   {
    "duration": 6,
    "start_time": "2022-12-08T11:41:15.263Z"
   },
   {
    "duration": 565,
    "start_time": "2022-12-08T11:41:19.851Z"
   },
   {
    "duration": 60,
    "start_time": "2022-12-08T11:45:20.613Z"
   },
   {
    "duration": 37,
    "start_time": "2022-12-08T11:45:32.902Z"
   },
   {
    "duration": 769,
    "start_time": "2022-12-08T12:16:28.017Z"
   },
   {
    "duration": 38,
    "start_time": "2022-12-08T12:17:20.195Z"
   },
   {
    "duration": 25,
    "start_time": "2022-12-08T12:18:16.695Z"
   },
   {
    "duration": 1306,
    "start_time": "2022-12-08T12:19:35.036Z"
   },
   {
    "duration": 74,
    "start_time": "2022-12-08T12:19:36.344Z"
   },
   {
    "duration": 16,
    "start_time": "2022-12-08T12:19:36.420Z"
   },
   {
    "duration": 21,
    "start_time": "2022-12-08T12:19:36.438Z"
   },
   {
    "duration": 37,
    "start_time": "2022-12-08T12:19:36.461Z"
   },
   {
    "duration": 51,
    "start_time": "2022-12-08T12:19:36.500Z"
   },
   {
    "duration": 46,
    "start_time": "2022-12-08T12:19:36.553Z"
   },
   {
    "duration": 107,
    "start_time": "2022-12-08T12:19:36.601Z"
   },
   {
    "duration": 285,
    "start_time": "2022-12-08T12:19:36.709Z"
   },
   {
    "duration": 366,
    "start_time": "2022-12-08T12:19:36.996Z"
   },
   {
    "duration": 1890,
    "start_time": "2022-12-08T12:19:37.364Z"
   },
   {
    "duration": 1906,
    "start_time": "2022-12-08T12:19:39.256Z"
   },
   {
    "duration": 45,
    "start_time": "2022-12-08T12:19:41.164Z"
   },
   {
    "duration": 1304,
    "start_time": "2022-12-08T12:19:41.211Z"
   },
   {
    "duration": 241,
    "start_time": "2022-12-08T12:19:42.517Z"
   },
   {
    "duration": 602,
    "start_time": "2022-12-08T12:19:42.760Z"
   },
   {
    "duration": 1853,
    "start_time": "2022-12-08T12:19:43.364Z"
   },
   {
    "duration": 564,
    "start_time": "2022-12-08T12:19:45.219Z"
   },
   {
    "duration": 595,
    "start_time": "2022-12-08T12:19:45.785Z"
   },
   {
    "duration": 102,
    "start_time": "2022-12-08T12:19:46.382Z"
   },
   {
    "duration": 29,
    "start_time": "2022-12-08T12:19:46.485Z"
   },
   {
    "duration": 555,
    "start_time": "2022-12-08T12:19:46.516Z"
   },
   {
    "duration": 33,
    "start_time": "2022-12-08T12:23:59.767Z"
   },
   {
    "duration": 58,
    "start_time": "2022-12-08T12:38:34.974Z"
   },
   {
    "duration": 110,
    "start_time": "2022-12-08T12:38:43.253Z"
   },
   {
    "duration": 19,
    "start_time": "2022-12-08T12:39:48.414Z"
   },
   {
    "duration": 5,
    "start_time": "2022-12-08T12:39:50.382Z"
   },
   {
    "duration": 96,
    "start_time": "2022-12-08T12:39:50.397Z"
   },
   {
    "duration": 16,
    "start_time": "2022-12-08T12:39:50.496Z"
   },
   {
    "duration": 22,
    "start_time": "2022-12-08T12:39:50.514Z"
   },
   {
    "duration": 19,
    "start_time": "2022-12-08T12:39:50.538Z"
   },
   {
    "duration": 50,
    "start_time": "2022-12-08T12:39:50.578Z"
   },
   {
    "duration": 49,
    "start_time": "2022-12-08T12:39:50.633Z"
   },
   {
    "duration": 112,
    "start_time": "2022-12-08T12:39:50.684Z"
   },
   {
    "duration": 308,
    "start_time": "2022-12-08T12:39:50.798Z"
   },
   {
    "duration": 507,
    "start_time": "2022-12-08T12:39:51.108Z"
   },
   {
    "duration": 2034,
    "start_time": "2022-12-08T12:39:51.618Z"
   },
   {
    "duration": 1850,
    "start_time": "2022-12-08T12:39:53.654Z"
   },
   {
    "duration": 37,
    "start_time": "2022-12-08T12:39:55.506Z"
   },
   {
    "duration": 1444,
    "start_time": "2022-12-08T12:39:55.544Z"
   },
   {
    "duration": 236,
    "start_time": "2022-12-08T12:39:56.992Z"
   },
   {
    "duration": 772,
    "start_time": "2022-12-08T12:39:57.230Z"
   },
   {
    "duration": 1963,
    "start_time": "2022-12-08T12:39:58.005Z"
   },
   {
    "duration": 377,
    "start_time": "2022-12-08T12:39:59.970Z"
   },
   {
    "duration": 588,
    "start_time": "2022-12-08T12:40:00.349Z"
   },
   {
    "duration": 122,
    "start_time": "2022-12-08T12:40:00.939Z"
   },
   {
    "duration": 166,
    "start_time": "2022-12-08T12:40:01.063Z"
   },
   {
    "duration": 549,
    "start_time": "2022-12-08T12:40:01.231Z"
   },
   {
    "duration": 16,
    "start_time": "2022-12-08T12:40:01.782Z"
   },
   {
    "duration": 9,
    "start_time": "2022-12-08T12:40:10.550Z"
   },
   {
    "duration": 12,
    "start_time": "2022-12-08T12:40:32.594Z"
   },
   {
    "duration": 10,
    "start_time": "2022-12-08T12:41:08.729Z"
   },
   {
    "duration": 12,
    "start_time": "2022-12-08T12:41:16.551Z"
   },
   {
    "duration": 12,
    "start_time": "2022-12-08T12:41:32.543Z"
   },
   {
    "duration": 12,
    "start_time": "2022-12-08T12:41:41.302Z"
   },
   {
    "duration": 11,
    "start_time": "2022-12-08T12:41:50.031Z"
   },
   {
    "duration": 12,
    "start_time": "2022-12-08T12:43:00.500Z"
   },
   {
    "duration": 16,
    "start_time": "2022-12-08T12:50:05.054Z"
   },
   {
    "duration": 15,
    "start_time": "2022-12-08T12:50:10.276Z"
   },
   {
    "duration": 12,
    "start_time": "2022-12-08T12:50:13.126Z"
   },
   {
    "duration": 11,
    "start_time": "2022-12-08T12:50:40.836Z"
   },
   {
    "duration": 12,
    "start_time": "2022-12-08T12:50:46.122Z"
   },
   {
    "duration": 12,
    "start_time": "2022-12-08T12:51:31.219Z"
   },
   {
    "duration": 12,
    "start_time": "2022-12-08T12:51:36.768Z"
   },
   {
    "duration": 12,
    "start_time": "2022-12-08T12:51:45.432Z"
   },
   {
    "duration": 13,
    "start_time": "2022-12-08T12:51:53.192Z"
   },
   {
    "duration": 68,
    "start_time": "2022-12-08T12:53:36.582Z"
   },
   {
    "duration": 48,
    "start_time": "2022-12-08T12:53:50.805Z"
   },
   {
    "duration": 17,
    "start_time": "2022-12-08T12:54:02.739Z"
   },
   {
    "duration": 12,
    "start_time": "2022-12-08T12:54:26.253Z"
   },
   {
    "duration": 14,
    "start_time": "2022-12-08T12:55:08.761Z"
   },
   {
    "duration": 12,
    "start_time": "2022-12-08T12:55:20.689Z"
   },
   {
    "duration": 11,
    "start_time": "2022-12-08T12:55:29.578Z"
   },
   {
    "duration": 4,
    "start_time": "2022-12-08T12:55:46.757Z"
   },
   {
    "duration": 74,
    "start_time": "2022-12-08T12:55:46.764Z"
   },
   {
    "duration": 14,
    "start_time": "2022-12-08T12:55:46.841Z"
   },
   {
    "duration": 21,
    "start_time": "2022-12-08T12:55:46.857Z"
   },
   {
    "duration": 19,
    "start_time": "2022-12-08T12:55:46.880Z"
   },
   {
    "duration": 48,
    "start_time": "2022-12-08T12:55:46.902Z"
   },
   {
    "duration": 26,
    "start_time": "2022-12-08T12:55:46.977Z"
   },
   {
    "duration": 100,
    "start_time": "2022-12-08T12:55:47.004Z"
   },
   {
    "duration": 264,
    "start_time": "2022-12-08T12:55:47.106Z"
   },
   {
    "duration": 373,
    "start_time": "2022-12-08T12:55:47.378Z"
   },
   {
    "duration": 1951,
    "start_time": "2022-12-08T12:55:47.752Z"
   },
   {
    "duration": 1838,
    "start_time": "2022-12-08T12:55:49.704Z"
   },
   {
    "duration": 45,
    "start_time": "2022-12-08T12:55:51.543Z"
   },
   {
    "duration": 1112,
    "start_time": "2022-12-08T12:55:51.589Z"
   },
   {
    "duration": 229,
    "start_time": "2022-12-08T12:55:52.704Z"
   },
   {
    "duration": 712,
    "start_time": "2022-12-08T12:55:52.935Z"
   },
   {
    "duration": 1793,
    "start_time": "2022-12-08T12:55:53.649Z"
   },
   {
    "duration": 394,
    "start_time": "2022-12-08T12:55:55.444Z"
   },
   {
    "duration": 715,
    "start_time": "2022-12-08T12:55:55.840Z"
   },
   {
    "duration": 83,
    "start_time": "2022-12-08T12:55:56.557Z"
   },
   {
    "duration": 47,
    "start_time": "2022-12-08T12:55:56.641Z"
   },
   {
    "duration": 511,
    "start_time": "2022-12-08T12:55:56.690Z"
   },
   {
    "duration": 11,
    "start_time": "2022-12-08T12:55:57.203Z"
   },
   {
    "duration": 14,
    "start_time": "2022-12-08T12:55:57.216Z"
   },
   {
    "duration": 3,
    "start_time": "2022-12-08T12:56:31.426Z"
   },
   {
    "duration": 86,
    "start_time": "2022-12-08T12:56:31.434Z"
   },
   {
    "duration": 15,
    "start_time": "2022-12-08T12:56:31.523Z"
   },
   {
    "duration": 39,
    "start_time": "2022-12-08T12:56:31.540Z"
   },
   {
    "duration": 19,
    "start_time": "2022-12-08T12:56:31.581Z"
   },
   {
    "duration": 48,
    "start_time": "2022-12-08T12:56:31.603Z"
   },
   {
    "duration": 48,
    "start_time": "2022-12-08T12:56:31.653Z"
   },
   {
    "duration": 101,
    "start_time": "2022-12-08T12:56:31.703Z"
   },
   {
    "duration": 256,
    "start_time": "2022-12-08T12:56:31.805Z"
   },
   {
    "duration": 379,
    "start_time": "2022-12-08T12:56:32.063Z"
   },
   {
    "duration": 1817,
    "start_time": "2022-12-08T12:56:32.444Z"
   },
   {
    "duration": 1881,
    "start_time": "2022-12-08T12:56:34.263Z"
   },
   {
    "duration": 49,
    "start_time": "2022-12-08T12:56:36.146Z"
   },
   {
    "duration": 1136,
    "start_time": "2022-12-08T12:56:36.197Z"
   },
   {
    "duration": 233,
    "start_time": "2022-12-08T12:56:37.338Z"
   },
   {
    "duration": 779,
    "start_time": "2022-12-08T12:56:37.578Z"
   },
   {
    "duration": 1823,
    "start_time": "2022-12-08T12:56:38.359Z"
   },
   {
    "duration": 388,
    "start_time": "2022-12-08T12:56:40.184Z"
   },
   {
    "duration": 589,
    "start_time": "2022-12-08T12:56:40.577Z"
   },
   {
    "duration": 85,
    "start_time": "2022-12-08T12:56:41.167Z"
   },
   {
    "duration": 49,
    "start_time": "2022-12-08T12:56:41.254Z"
   },
   {
    "duration": 733,
    "start_time": "2022-12-08T12:56:41.305Z"
   },
   {
    "duration": 15,
    "start_time": "2022-12-08T12:56:42.040Z"
   },
   {
    "duration": 48,
    "start_time": "2022-12-08T12:56:42.057Z"
   },
   {
    "duration": 12,
    "start_time": "2022-12-08T12:56:58.670Z"
   },
   {
    "duration": 33,
    "start_time": "2022-12-08T15:36:36.558Z"
   },
   {
    "duration": 24,
    "start_time": "2022-12-08T15:36:39.348Z"
   },
   {
    "duration": 14,
    "start_time": "2022-12-08T15:36:50.541Z"
   },
   {
    "duration": 15,
    "start_time": "2022-12-08T15:36:52.749Z"
   },
   {
    "duration": 65,
    "start_time": "2022-12-08T20:47:12.996Z"
   },
   {
    "duration": 45,
    "start_time": "2022-12-08T20:47:30.938Z"
   },
   {
    "duration": 1290,
    "start_time": "2022-12-08T20:47:45.397Z"
   },
   {
    "duration": 165,
    "start_time": "2022-12-08T20:47:46.690Z"
   },
   {
    "duration": 18,
    "start_time": "2022-12-08T20:47:46.857Z"
   },
   {
    "duration": 9,
    "start_time": "2022-12-08T20:47:46.877Z"
   },
   {
    "duration": 20,
    "start_time": "2022-12-08T20:47:46.888Z"
   },
   {
    "duration": 55,
    "start_time": "2022-12-08T20:47:46.910Z"
   },
   {
    "duration": 27,
    "start_time": "2022-12-08T20:47:46.966Z"
   },
   {
    "duration": 105,
    "start_time": "2022-12-08T20:47:46.994Z"
   },
   {
    "duration": 244,
    "start_time": "2022-12-08T20:47:47.101Z"
   },
   {
    "duration": 315,
    "start_time": "2022-12-08T20:47:47.351Z"
   },
   {
    "duration": 1731,
    "start_time": "2022-12-08T20:47:47.668Z"
   },
   {
    "duration": 1768,
    "start_time": "2022-12-08T20:47:49.401Z"
   },
   {
    "duration": 34,
    "start_time": "2022-12-08T20:47:51.170Z"
   },
   {
    "duration": 1209,
    "start_time": "2022-12-08T20:47:51.206Z"
   },
   {
    "duration": 248,
    "start_time": "2022-12-08T20:47:52.417Z"
   },
   {
    "duration": 584,
    "start_time": "2022-12-08T20:47:52.668Z"
   },
   {
    "duration": 1666,
    "start_time": "2022-12-08T20:47:53.256Z"
   },
   {
    "duration": 469,
    "start_time": "2022-12-08T20:47:54.924Z"
   },
   {
    "duration": 528,
    "start_time": "2022-12-08T20:47:55.395Z"
   },
   {
    "duration": 88,
    "start_time": "2022-12-08T20:47:55.925Z"
   },
   {
    "duration": 39,
    "start_time": "2022-12-08T20:47:56.015Z"
   },
   {
    "duration": 502,
    "start_time": "2022-12-08T20:47:56.055Z"
   },
   {
    "duration": 11,
    "start_time": "2022-12-08T20:47:56.559Z"
   },
   {
    "duration": 34,
    "start_time": "2022-12-08T20:47:56.572Z"
   },
   {
    "duration": 9,
    "start_time": "2022-12-08T20:55:34.251Z"
   },
   {
    "duration": 11,
    "start_time": "2022-12-08T20:55:42.662Z"
   },
   {
    "duration": 10,
    "start_time": "2022-12-08T20:55:47.018Z"
   },
   {
    "duration": 16,
    "start_time": "2022-12-08T21:05:21.455Z"
   },
   {
    "duration": 25,
    "start_time": "2022-12-08T21:05:32.550Z"
   },
   {
    "duration": 75,
    "start_time": "2022-12-08T21:10:25.375Z"
   },
   {
    "duration": 51,
    "start_time": "2022-12-08T21:13:10.406Z"
   },
   {
    "duration": 37,
    "start_time": "2022-12-08T21:13:40.952Z"
   },
   {
    "duration": 3,
    "start_time": "2022-12-08T21:13:47.457Z"
   },
   {
    "duration": 77,
    "start_time": "2022-12-08T21:13:47.462Z"
   },
   {
    "duration": 13,
    "start_time": "2022-12-08T21:13:47.541Z"
   },
   {
    "duration": 12,
    "start_time": "2022-12-08T21:13:47.555Z"
   },
   {
    "duration": 16,
    "start_time": "2022-12-08T21:13:47.569Z"
   },
   {
    "duration": 13,
    "start_time": "2022-12-08T21:13:47.586Z"
   },
   {
    "duration": 36,
    "start_time": "2022-12-08T21:13:47.600Z"
   },
   {
    "duration": 37,
    "start_time": "2022-12-08T21:13:47.637Z"
   },
   {
    "duration": 229,
    "start_time": "2022-12-08T21:13:47.675Z"
   },
   {
    "duration": 407,
    "start_time": "2022-12-08T21:13:47.905Z"
   },
   {
    "duration": 1770,
    "start_time": "2022-12-08T21:13:48.314Z"
   },
   {
    "duration": 1516,
    "start_time": "2022-12-08T21:13:50.086Z"
   },
   {
    "duration": 46,
    "start_time": "2022-12-08T21:13:51.604Z"
   },
   {
    "duration": 1133,
    "start_time": "2022-12-08T21:13:51.653Z"
   },
   {
    "duration": 189,
    "start_time": "2022-12-08T21:13:52.788Z"
   },
   {
    "duration": 478,
    "start_time": "2022-12-08T21:13:52.978Z"
   },
   {
    "duration": 1624,
    "start_time": "2022-12-08T21:13:53.458Z"
   },
   {
    "duration": 334,
    "start_time": "2022-12-08T21:13:55.084Z"
   },
   {
    "duration": 653,
    "start_time": "2022-12-08T21:13:55.420Z"
   },
   {
    "duration": 90,
    "start_time": "2022-12-08T21:13:56.075Z"
   },
   {
    "duration": 25,
    "start_time": "2022-12-08T21:13:56.167Z"
   },
   {
    "duration": 471,
    "start_time": "2022-12-08T21:13:56.194Z"
   },
   {
    "duration": 12,
    "start_time": "2022-12-08T21:13:56.667Z"
   },
   {
    "duration": 20,
    "start_time": "2022-12-08T21:13:56.681Z"
   },
   {
    "duration": 38,
    "start_time": "2022-12-08T21:14:06.875Z"
   },
   {
    "duration": 40,
    "start_time": "2022-12-08T21:14:27.897Z"
   },
   {
    "duration": 4,
    "start_time": "2022-12-08T21:16:22.400Z"
   },
   {
    "duration": 111,
    "start_time": "2022-12-08T21:16:22.406Z"
   },
   {
    "duration": 19,
    "start_time": "2022-12-08T21:16:22.519Z"
   },
   {
    "duration": 19,
    "start_time": "2022-12-08T21:16:22.540Z"
   },
   {
    "duration": 31,
    "start_time": "2022-12-08T21:16:22.562Z"
   },
   {
    "duration": 23,
    "start_time": "2022-12-08T21:16:22.595Z"
   },
   {
    "duration": 25,
    "start_time": "2022-12-08T21:16:22.621Z"
   },
   {
    "duration": 27,
    "start_time": "2022-12-08T21:16:22.648Z"
   },
   {
    "duration": 23,
    "start_time": "2022-12-08T21:16:22.676Z"
   },
   {
    "duration": 236,
    "start_time": "2022-12-08T21:16:22.702Z"
   },
   {
    "duration": 312,
    "start_time": "2022-12-08T21:16:22.940Z"
   },
   {
    "duration": 1651,
    "start_time": "2022-12-08T21:16:23.254Z"
   },
   {
    "duration": 1704,
    "start_time": "2022-12-08T21:16:24.907Z"
   },
   {
    "duration": 39,
    "start_time": "2022-12-08T21:16:26.612Z"
   },
   {
    "duration": 1024,
    "start_time": "2022-12-08T21:16:26.653Z"
   },
   {
    "duration": 184,
    "start_time": "2022-12-08T21:16:27.679Z"
   },
   {
    "duration": 630,
    "start_time": "2022-12-08T21:16:27.865Z"
   },
   {
    "duration": 1608,
    "start_time": "2022-12-08T21:16:28.497Z"
   },
   {
    "duration": 354,
    "start_time": "2022-12-08T21:16:30.107Z"
   },
   {
    "duration": 641,
    "start_time": "2022-12-08T21:16:30.463Z"
   },
   {
    "duration": 82,
    "start_time": "2022-12-08T21:16:31.105Z"
   },
   {
    "duration": 25,
    "start_time": "2022-12-08T21:16:31.189Z"
   },
   {
    "duration": 495,
    "start_time": "2022-12-08T21:16:31.216Z"
   },
   {
    "duration": 23,
    "start_time": "2022-12-08T21:16:31.713Z"
   },
   {
    "duration": 83,
    "start_time": "2022-12-08T21:16:31.738Z"
   },
   {
    "duration": 72,
    "start_time": "2022-12-08T21:17:51.406Z"
   },
   {
    "duration": 196,
    "start_time": "2022-12-08T21:27:03.552Z"
   },
   {
    "duration": 204,
    "start_time": "2022-12-08T21:27:13.973Z"
   },
   {
    "duration": 204,
    "start_time": "2022-12-08T21:28:00.555Z"
   },
   {
    "duration": 75,
    "start_time": "2022-12-08T21:39:20.510Z"
   },
   {
    "duration": 24,
    "start_time": "2022-12-08T21:40:05.635Z"
   },
   {
    "duration": 1701,
    "start_time": "2022-12-08T21:41:30.071Z"
   },
   {
    "duration": 1785,
    "start_time": "2022-12-08T21:41:40.114Z"
   },
   {
    "duration": 1608,
    "start_time": "2022-12-08T21:41:53.902Z"
   },
   {
    "duration": 53,
    "start_time": "2022-12-08T21:42:16.057Z"
   },
   {
    "duration": 1747,
    "start_time": "2022-12-08T21:42:35.362Z"
   },
   {
    "duration": 1666,
    "start_time": "2022-12-08T21:42:43.158Z"
   },
   {
    "duration": 1712,
    "start_time": "2022-12-08T21:42:50.301Z"
   },
   {
    "duration": 24,
    "start_time": "2022-12-08T21:43:08.623Z"
   },
   {
    "duration": 21,
    "start_time": "2022-12-08T21:44:17.798Z"
   },
   {
    "duration": 1644,
    "start_time": "2022-12-08T21:44:26.324Z"
   },
   {
    "duration": 1589,
    "start_time": "2022-12-08T21:45:24.157Z"
   },
   {
    "duration": 204,
    "start_time": "2022-12-08T21:46:12.019Z"
   },
   {
    "duration": 1825,
    "start_time": "2022-12-08T21:46:14.719Z"
   },
   {
    "duration": 216,
    "start_time": "2022-12-08T21:47:36.522Z"
   },
   {
    "duration": 61,
    "start_time": "2022-12-08T21:47:51.068Z"
   },
   {
    "duration": 49,
    "start_time": "2022-12-08T21:47:54.618Z"
   },
   {
    "duration": 60,
    "start_time": "2022-12-08T21:48:03.200Z"
   },
   {
    "duration": 1795,
    "start_time": "2022-12-08T21:48:06.616Z"
   },
   {
    "duration": 1750,
    "start_time": "2022-12-08T21:48:31.961Z"
   },
   {
    "duration": 1608,
    "start_time": "2022-12-08T21:50:49.238Z"
   },
   {
    "duration": 1848,
    "start_time": "2022-12-08T21:57:08.137Z"
   },
   {
    "duration": 56,
    "start_time": "2022-12-08T21:57:24.892Z"
   },
   {
    "duration": 1570,
    "start_time": "2022-12-08T21:57:52.850Z"
   },
   {
    "duration": 1904,
    "start_time": "2022-12-08T21:58:08.962Z"
   },
   {
    "duration": 1594,
    "start_time": "2022-12-08T21:59:06.382Z"
   },
   {
    "duration": 32,
    "start_time": "2022-12-08T22:06:55.058Z"
   },
   {
    "duration": 23,
    "start_time": "2022-12-08T22:07:46.941Z"
   },
   {
    "duration": 12,
    "start_time": "2022-12-08T22:17:37.048Z"
   },
   {
    "duration": 3,
    "start_time": "2022-12-08T22:17:42.234Z"
   },
   {
    "duration": 71,
    "start_time": "2022-12-08T22:17:42.239Z"
   },
   {
    "duration": 15,
    "start_time": "2022-12-08T22:17:42.312Z"
   },
   {
    "duration": 9,
    "start_time": "2022-12-08T22:17:42.329Z"
   },
   {
    "duration": 19,
    "start_time": "2022-12-08T22:17:42.339Z"
   },
   {
    "duration": 208,
    "start_time": "2022-12-08T22:17:42.360Z"
   },
   {
    "duration": 22,
    "start_time": "2022-12-08T22:17:42.571Z"
   },
   {
    "duration": 79,
    "start_time": "2022-12-08T22:17:42.595Z"
   },
   {
    "duration": 108,
    "start_time": "2022-12-08T22:17:42.676Z"
   },
   {
    "duration": 279,
    "start_time": "2022-12-08T22:17:42.787Z"
   },
   {
    "duration": 26,
    "start_time": "2022-12-08T22:17:43.068Z"
   },
   {
    "duration": 1664,
    "start_time": "2022-12-08T22:17:43.096Z"
   },
   {
    "duration": 20,
    "start_time": "2022-12-08T22:17:44.761Z"
   },
   {
    "duration": 1322,
    "start_time": "2022-12-08T22:17:44.783Z"
   },
   {
    "duration": 230,
    "start_time": "2022-12-08T22:17:46.107Z"
   },
   {
    "duration": 553,
    "start_time": "2022-12-08T22:17:46.339Z"
   },
   {
    "duration": 1790,
    "start_time": "2022-12-08T22:17:46.894Z"
   },
   {
    "duration": 360,
    "start_time": "2022-12-08T22:17:48.686Z"
   },
   {
    "duration": 531,
    "start_time": "2022-12-08T22:17:49.048Z"
   },
   {
    "duration": 83,
    "start_time": "2022-12-08T22:17:49.581Z"
   },
   {
    "duration": 23,
    "start_time": "2022-12-08T22:17:49.666Z"
   },
   {
    "duration": 493,
    "start_time": "2022-12-08T22:17:49.691Z"
   },
   {
    "duration": 11,
    "start_time": "2022-12-08T22:17:50.186Z"
   },
   {
    "duration": 37,
    "start_time": "2022-12-08T22:17:50.199Z"
   },
   {
    "duration": 1110,
    "start_time": "2022-12-08T22:18:25.283Z"
   },
   {
    "duration": 996,
    "start_time": "2022-12-08T22:23:16.713Z"
   },
   {
    "duration": 939,
    "start_time": "2022-12-08T22:23:25.772Z"
   },
   {
    "duration": 379,
    "start_time": "2022-12-08T22:30:10.483Z"
   },
   {
    "duration": 214,
    "start_time": "2022-12-08T22:30:17.612Z"
   },
   {
    "duration": 193,
    "start_time": "2022-12-08T22:30:27.689Z"
   },
   {
    "duration": 205,
    "start_time": "2022-12-08T22:30:52.247Z"
   },
   {
    "duration": 201,
    "start_time": "2022-12-08T22:31:38.763Z"
   },
   {
    "duration": 201,
    "start_time": "2022-12-08T22:31:48.866Z"
   },
   {
    "duration": 188,
    "start_time": "2022-12-08T22:31:59.334Z"
   },
   {
    "duration": 203,
    "start_time": "2022-12-08T22:32:09.789Z"
   },
   {
    "duration": 331,
    "start_time": "2022-12-08T22:32:17.073Z"
   },
   {
    "duration": 196,
    "start_time": "2022-12-08T22:32:33.747Z"
   },
   {
    "duration": 198,
    "start_time": "2022-12-08T22:37:00.159Z"
   },
   {
    "duration": 45,
    "start_time": "2022-12-08T22:38:07.167Z"
   },
   {
    "duration": 49,
    "start_time": "2022-12-08T22:38:21.654Z"
   },
   {
    "duration": 200,
    "start_time": "2022-12-08T22:38:27.151Z"
   },
   {
    "duration": 201,
    "start_time": "2022-12-08T22:38:30.741Z"
   },
   {
    "duration": 197,
    "start_time": "2022-12-08T22:40:28.671Z"
   },
   {
    "duration": 203,
    "start_time": "2022-12-08T22:41:56.401Z"
   },
   {
    "duration": 208,
    "start_time": "2022-12-08T22:42:35.593Z"
   },
   {
    "duration": 222,
    "start_time": "2022-12-08T22:43:34.066Z"
   },
   {
    "duration": 358,
    "start_time": "2022-12-08T22:43:48.756Z"
   },
   {
    "duration": 211,
    "start_time": "2022-12-08T22:44:06.713Z"
   },
   {
    "duration": 208,
    "start_time": "2022-12-08T22:45:17.828Z"
   },
   {
    "duration": 43,
    "start_time": "2022-12-08T22:45:55.700Z"
   },
   {
    "duration": 50,
    "start_time": "2022-12-08T22:46:01.041Z"
   },
   {
    "duration": 186,
    "start_time": "2022-12-08T22:46:14.279Z"
   },
   {
    "duration": 210,
    "start_time": "2022-12-08T22:48:31.403Z"
   },
   {
    "duration": 211,
    "start_time": "2022-12-08T22:48:45.966Z"
   },
   {
    "duration": 201,
    "start_time": "2022-12-08T22:49:05.116Z"
   },
   {
    "duration": 185,
    "start_time": "2022-12-08T22:49:22.965Z"
   },
   {
    "duration": 112,
    "start_time": "2022-12-08T22:49:46.823Z"
   },
   {
    "duration": 75,
    "start_time": "2022-12-08T22:51:10.841Z"
   },
   {
    "duration": 103,
    "start_time": "2022-12-08T22:51:34.790Z"
   },
   {
    "duration": 368,
    "start_time": "2022-12-08T22:51:48.733Z"
   },
   {
    "duration": 484,
    "start_time": "2022-12-08T22:54:24.201Z"
   },
   {
    "duration": 467,
    "start_time": "2022-12-08T22:55:19.828Z"
   },
   {
    "duration": 509,
    "start_time": "2022-12-08T22:59:37.482Z"
   },
   {
    "duration": 475,
    "start_time": "2022-12-08T22:59:57.316Z"
   },
   {
    "duration": 10,
    "start_time": "2022-12-08T23:03:10.623Z"
   },
   {
    "duration": 470,
    "start_time": "2022-12-08T23:03:15.798Z"
   },
   {
    "duration": 948,
    "start_time": "2022-12-08T23:03:22.534Z"
   },
   {
    "duration": 621,
    "start_time": "2022-12-08T23:04:19.373Z"
   },
   {
    "duration": 1008,
    "start_time": "2022-12-08T23:04:22.359Z"
   },
   {
    "duration": 481,
    "start_time": "2022-12-08T23:04:41.404Z"
   },
   {
    "duration": 1008,
    "start_time": "2022-12-08T23:04:45.174Z"
   },
   {
    "duration": 453,
    "start_time": "2022-12-08T23:04:57.616Z"
   },
   {
    "duration": 496,
    "start_time": "2022-12-08T23:05:03.263Z"
   },
   {
    "duration": 1191,
    "start_time": "2022-12-08T23:05:06.461Z"
   },
   {
    "duration": 493,
    "start_time": "2022-12-08T23:05:41.774Z"
   },
   {
    "duration": 5,
    "start_time": "2022-12-08T23:05:44.354Z"
   },
   {
    "duration": 5,
    "start_time": "2022-12-08T23:14:37.373Z"
   },
   {
    "duration": 489,
    "start_time": "2022-12-08T23:14:42.735Z"
   },
   {
    "duration": 5,
    "start_time": "2022-12-08T23:16:46.346Z"
   },
   {
    "duration": 457,
    "start_time": "2022-12-08T23:16:48.330Z"
   },
   {
    "duration": 6,
    "start_time": "2022-12-08T23:17:00.501Z"
   },
   {
    "duration": 5,
    "start_time": "2022-12-08T23:17:05.567Z"
   },
   {
    "duration": 504,
    "start_time": "2022-12-08T23:17:07.394Z"
   },
   {
    "duration": 5,
    "start_time": "2022-12-08T23:17:21.488Z"
   },
   {
    "duration": 478,
    "start_time": "2022-12-08T23:17:23.562Z"
   },
   {
    "duration": 4,
    "start_time": "2022-12-08T23:17:29.323Z"
   },
   {
    "duration": 476,
    "start_time": "2022-12-08T23:17:31.375Z"
   },
   {
    "duration": 5,
    "start_time": "2022-12-08T23:17:37.668Z"
   },
   {
    "duration": 588,
    "start_time": "2022-12-08T23:17:39.282Z"
   },
   {
    "duration": 5,
    "start_time": "2022-12-08T23:17:43.654Z"
   },
   {
    "duration": 494,
    "start_time": "2022-12-08T23:17:45.048Z"
   },
   {
    "duration": 5,
    "start_time": "2022-12-08T23:17:56.147Z"
   },
   {
    "duration": 461,
    "start_time": "2022-12-08T23:18:03.315Z"
   },
   {
    "duration": 1067,
    "start_time": "2022-12-08T23:18:05.551Z"
   },
   {
    "duration": 346,
    "start_time": "2022-12-08T23:26:18.840Z"
   },
   {
    "duration": 312,
    "start_time": "2022-12-08T23:28:18.544Z"
   },
   {
    "duration": 60,
    "start_time": "2022-12-09T21:19:00.618Z"
   },
   {
    "duration": 1463,
    "start_time": "2022-12-09T21:19:07.045Z"
   },
   {
    "duration": 235,
    "start_time": "2022-12-09T21:19:08.510Z"
   },
   {
    "duration": 16,
    "start_time": "2022-12-09T21:19:08.748Z"
   },
   {
    "duration": 10,
    "start_time": "2022-12-09T21:19:08.766Z"
   },
   {
    "duration": 21,
    "start_time": "2022-12-09T21:19:08.779Z"
   },
   {
    "duration": 16,
    "start_time": "2022-12-09T21:19:08.802Z"
   },
   {
    "duration": 45,
    "start_time": "2022-12-09T21:19:08.820Z"
   },
   {
    "duration": 26,
    "start_time": "2022-12-09T21:19:08.867Z"
   },
   {
    "duration": 26,
    "start_time": "2022-12-09T21:19:08.895Z"
   },
   {
    "duration": 268,
    "start_time": "2022-12-09T21:19:08.922Z"
   },
   {
    "duration": 38,
    "start_time": "2022-12-09T21:19:09.192Z"
   },
   {
    "duration": 2089,
    "start_time": "2022-12-09T21:19:09.233Z"
   },
   {
    "duration": 83,
    "start_time": "2022-12-09T21:19:11.324Z"
   },
   {
    "duration": 0,
    "start_time": "2022-12-09T21:19:11.409Z"
   },
   {
    "duration": 0,
    "start_time": "2022-12-09T21:19:11.411Z"
   },
   {
    "duration": 0,
    "start_time": "2022-12-09T21:19:11.413Z"
   },
   {
    "duration": 0,
    "start_time": "2022-12-09T21:19:11.414Z"
   },
   {
    "duration": 0,
    "start_time": "2022-12-09T21:19:11.416Z"
   },
   {
    "duration": 0,
    "start_time": "2022-12-09T21:19:11.418Z"
   },
   {
    "duration": 0,
    "start_time": "2022-12-09T21:19:11.419Z"
   },
   {
    "duration": 0,
    "start_time": "2022-12-09T21:19:11.422Z"
   },
   {
    "duration": 0,
    "start_time": "2022-12-09T21:19:11.423Z"
   },
   {
    "duration": 1,
    "start_time": "2022-12-09T21:19:11.451Z"
   },
   {
    "duration": 0,
    "start_time": "2022-12-09T21:19:11.453Z"
   },
   {
    "duration": 0,
    "start_time": "2022-12-09T21:19:11.454Z"
   },
   {
    "duration": 3,
    "start_time": "2022-12-09T21:20:20.837Z"
   },
   {
    "duration": 81,
    "start_time": "2022-12-09T21:20:20.842Z"
   },
   {
    "duration": 15,
    "start_time": "2022-12-09T21:20:20.927Z"
   },
   {
    "duration": 12,
    "start_time": "2022-12-09T21:20:20.944Z"
   },
   {
    "duration": 23,
    "start_time": "2022-12-09T21:20:20.958Z"
   },
   {
    "duration": 19,
    "start_time": "2022-12-09T21:20:20.983Z"
   },
   {
    "duration": 36,
    "start_time": "2022-12-09T21:20:21.004Z"
   },
   {
    "duration": 33,
    "start_time": "2022-12-09T21:20:21.043Z"
   },
   {
    "duration": 27,
    "start_time": "2022-12-09T21:20:21.078Z"
   },
   {
    "duration": 253,
    "start_time": "2022-12-09T21:20:21.107Z"
   },
   {
    "duration": 28,
    "start_time": "2022-12-09T21:20:21.362Z"
   },
   {
    "duration": 1968,
    "start_time": "2022-12-09T21:20:21.391Z"
   },
   {
    "duration": 13,
    "start_time": "2022-12-09T21:20:23.360Z"
   },
   {
    "duration": 0,
    "start_time": "2022-12-09T21:20:23.376Z"
   },
   {
    "duration": 0,
    "start_time": "2022-12-09T21:20:23.378Z"
   },
   {
    "duration": 0,
    "start_time": "2022-12-09T21:20:23.380Z"
   },
   {
    "duration": 0,
    "start_time": "2022-12-09T21:20:23.381Z"
   },
   {
    "duration": 0,
    "start_time": "2022-12-09T21:20:23.382Z"
   },
   {
    "duration": 0,
    "start_time": "2022-12-09T21:20:23.383Z"
   },
   {
    "duration": 0,
    "start_time": "2022-12-09T21:20:23.385Z"
   },
   {
    "duration": 0,
    "start_time": "2022-12-09T21:20:23.386Z"
   },
   {
    "duration": 0,
    "start_time": "2022-12-09T21:20:23.387Z"
   },
   {
    "duration": 0,
    "start_time": "2022-12-09T21:20:23.388Z"
   },
   {
    "duration": 0,
    "start_time": "2022-12-09T21:20:23.390Z"
   },
   {
    "duration": 0,
    "start_time": "2022-12-09T21:20:23.391Z"
   },
   {
    "duration": 3,
    "start_time": "2022-12-09T21:21:14.866Z"
   },
   {
    "duration": 96,
    "start_time": "2022-12-09T21:21:14.872Z"
   },
   {
    "duration": 19,
    "start_time": "2022-12-09T21:21:14.969Z"
   },
   {
    "duration": 11,
    "start_time": "2022-12-09T21:21:14.991Z"
   },
   {
    "duration": 54,
    "start_time": "2022-12-09T21:21:15.005Z"
   },
   {
    "duration": 17,
    "start_time": "2022-12-09T21:21:15.060Z"
   },
   {
    "duration": 25,
    "start_time": "2022-12-09T21:21:15.080Z"
   },
   {
    "duration": 53,
    "start_time": "2022-12-09T21:21:15.107Z"
   },
   {
    "duration": 32,
    "start_time": "2022-12-09T21:21:15.161Z"
   },
   {
    "duration": 243,
    "start_time": "2022-12-09T21:21:15.197Z"
   },
   {
    "duration": 32,
    "start_time": "2022-12-09T21:21:15.442Z"
   },
   {
    "duration": 2036,
    "start_time": "2022-12-09T21:21:15.476Z"
   },
   {
    "duration": 38,
    "start_time": "2022-12-09T21:21:17.514Z"
   },
   {
    "duration": 1172,
    "start_time": "2022-12-09T21:21:17.555Z"
   },
   {
    "duration": 373,
    "start_time": "2022-12-09T21:21:18.729Z"
   },
   {
    "duration": 7,
    "start_time": "2022-12-09T21:21:19.104Z"
   },
   {
    "duration": 712,
    "start_time": "2022-12-09T21:21:19.114Z"
   },
   {
    "duration": 1241,
    "start_time": "2022-12-09T21:21:19.829Z"
   },
   {
    "duration": 12,
    "start_time": "2022-12-09T21:21:21.072Z"
   },
   {
    "duration": 0,
    "start_time": "2022-12-09T21:21:21.086Z"
   },
   {
    "duration": 0,
    "start_time": "2022-12-09T21:21:21.087Z"
   },
   {
    "duration": 0,
    "start_time": "2022-12-09T21:21:21.089Z"
   },
   {
    "duration": 0,
    "start_time": "2022-12-09T21:21:21.090Z"
   },
   {
    "duration": 0,
    "start_time": "2022-12-09T21:21:21.091Z"
   },
   {
    "duration": 0,
    "start_time": "2022-12-09T21:21:21.093Z"
   },
   {
    "duration": 388,
    "start_time": "2022-12-09T21:23:14.335Z"
   },
   {
    "duration": 28,
    "start_time": "2022-12-09T21:30:14.433Z"
   },
   {
    "duration": 672,
    "start_time": "2022-12-09T21:30:29.072Z"
   },
   {
    "duration": 630,
    "start_time": "2022-12-09T21:31:35.350Z"
   },
   {
    "duration": 530,
    "start_time": "2022-12-09T21:31:47.600Z"
   },
   {
    "duration": 637,
    "start_time": "2022-12-09T21:31:51.566Z"
   },
   {
    "duration": 659,
    "start_time": "2022-12-09T21:31:59.506Z"
   },
   {
    "duration": 560,
    "start_time": "2022-12-09T21:32:08.014Z"
   },
   {
    "duration": 643,
    "start_time": "2022-12-09T21:32:18.999Z"
   },
   {
    "duration": 632,
    "start_time": "2022-12-09T21:36:21.283Z"
   },
   {
    "duration": 575,
    "start_time": "2022-12-09T21:36:59.364Z"
   },
   {
    "duration": 517,
    "start_time": "2022-12-09T21:37:10.100Z"
   },
   {
    "duration": 166,
    "start_time": "2022-12-09T21:41:38.936Z"
   },
   {
    "duration": 86,
    "start_time": "2022-12-09T21:41:52.220Z"
   },
   {
    "duration": 162,
    "start_time": "2022-12-09T21:41:55.052Z"
   },
   {
    "duration": 161,
    "start_time": "2022-12-09T21:42:14.097Z"
   },
   {
    "duration": 669,
    "start_time": "2022-12-09T21:42:23.624Z"
   },
   {
    "duration": 83,
    "start_time": "2022-12-09T21:56:42.301Z"
   },
   {
    "duration": 589,
    "start_time": "2022-12-09T21:56:55.127Z"
   },
   {
    "duration": 31,
    "start_time": "2022-12-09T21:56:56.850Z"
   },
   {
    "duration": 815,
    "start_time": "2022-12-09T21:59:56.222Z"
   },
   {
    "duration": 34,
    "start_time": "2022-12-09T22:00:45.180Z"
   },
   {
    "duration": 26,
    "start_time": "2022-12-09T22:01:26.216Z"
   },
   {
    "duration": 969,
    "start_time": "2022-12-09T22:01:47.776Z"
   },
   {
    "duration": 885,
    "start_time": "2022-12-09T22:02:03.498Z"
   },
   {
    "duration": 1044,
    "start_time": "2022-12-09T22:02:16.872Z"
   },
   {
    "duration": 913,
    "start_time": "2022-12-09T22:02:21.007Z"
   },
   {
    "duration": 329,
    "start_time": "2022-12-09T22:08:18.918Z"
   },
   {
    "duration": 814,
    "start_time": "2022-12-09T22:08:25.164Z"
   },
   {
    "duration": 225,
    "start_time": "2022-12-09T22:09:08.137Z"
   },
   {
    "duration": 938,
    "start_time": "2022-12-09T22:09:25.726Z"
   },
   {
    "duration": 871,
    "start_time": "2022-12-09T22:15:58.051Z"
   },
   {
    "duration": 20,
    "start_time": "2022-12-09T22:38:16.527Z"
   },
   {
    "duration": 13,
    "start_time": "2022-12-09T22:38:25.241Z"
   },
   {
    "duration": 20,
    "start_time": "2022-12-09T22:38:44.362Z"
   },
   {
    "duration": 20,
    "start_time": "2022-12-09T22:39:06.015Z"
   },
   {
    "duration": 18,
    "start_time": "2022-12-09T22:39:08.712Z"
   },
   {
    "duration": 3,
    "start_time": "2022-12-09T22:39:14.981Z"
   },
   {
    "duration": 75,
    "start_time": "2022-12-09T22:39:14.986Z"
   },
   {
    "duration": 15,
    "start_time": "2022-12-09T22:39:15.063Z"
   },
   {
    "duration": 9,
    "start_time": "2022-12-09T22:39:15.081Z"
   },
   {
    "duration": 23,
    "start_time": "2022-12-09T22:39:15.092Z"
   },
   {
    "duration": 40,
    "start_time": "2022-12-09T22:39:15.117Z"
   },
   {
    "duration": 22,
    "start_time": "2022-12-09T22:39:15.159Z"
   },
   {
    "duration": 29,
    "start_time": "2022-12-09T22:39:15.183Z"
   },
   {
    "duration": 49,
    "start_time": "2022-12-09T22:39:15.214Z"
   },
   {
    "duration": 221,
    "start_time": "2022-12-09T22:39:15.265Z"
   },
   {
    "duration": 27,
    "start_time": "2022-12-09T22:39:15.488Z"
   },
   {
    "duration": 1904,
    "start_time": "2022-12-09T22:39:15.517Z"
   },
   {
    "duration": 32,
    "start_time": "2022-12-09T22:39:17.423Z"
   },
   {
    "duration": 1258,
    "start_time": "2022-12-09T22:39:17.457Z"
   },
   {
    "duration": 229,
    "start_time": "2022-12-09T22:39:18.717Z"
   },
   {
    "duration": 6,
    "start_time": "2022-12-09T22:39:18.951Z"
   },
   {
    "duration": 586,
    "start_time": "2022-12-09T22:39:18.959Z"
   },
   {
    "duration": 1269,
    "start_time": "2022-12-09T22:39:19.547Z"
   },
   {
    "duration": 397,
    "start_time": "2022-12-09T22:39:20.818Z"
   },
   {
    "duration": 517,
    "start_time": "2022-12-09T22:39:21.217Z"
   },
   {
    "duration": 801,
    "start_time": "2022-12-09T22:39:21.736Z"
   },
   {
    "duration": 21,
    "start_time": "2022-12-09T22:39:22.539Z"
   },
   {
    "duration": 666,
    "start_time": "2022-12-09T22:39:22.562Z"
   },
   {
    "duration": 24,
    "start_time": "2022-12-09T22:39:23.230Z"
   },
   {
    "duration": 14,
    "start_time": "2022-12-09T22:39:23.256Z"
   },
   {
    "duration": 19,
    "start_time": "2022-12-09T22:39:32.953Z"
   },
   {
    "duration": 17,
    "start_time": "2022-12-09T22:40:02.524Z"
   },
   {
    "duration": 19,
    "start_time": "2022-12-09T22:40:23.208Z"
   },
   {
    "duration": 19,
    "start_time": "2022-12-09T22:41:33.915Z"
   },
   {
    "duration": 20,
    "start_time": "2022-12-09T22:41:37.169Z"
   },
   {
    "duration": 564,
    "start_time": "2022-12-09T22:42:29.462Z"
   },
   {
    "duration": 97,
    "start_time": "2022-12-09T22:51:24.991Z"
   },
   {
    "duration": 508,
    "start_time": "2022-12-09T23:00:01.193Z"
   },
   {
    "duration": 1618,
    "start_time": "2022-12-10T08:41:10.344Z"
   },
   {
    "duration": 319,
    "start_time": "2022-12-10T08:41:11.964Z"
   },
   {
    "duration": 15,
    "start_time": "2022-12-10T08:41:12.285Z"
   },
   {
    "duration": 17,
    "start_time": "2022-12-10T08:41:12.302Z"
   },
   {
    "duration": 60,
    "start_time": "2022-12-10T08:41:12.332Z"
   },
   {
    "duration": 42,
    "start_time": "2022-12-10T08:41:12.394Z"
   },
   {
    "duration": 39,
    "start_time": "2022-12-10T08:41:12.438Z"
   },
   {
    "duration": 25,
    "start_time": "2022-12-10T08:41:12.479Z"
   },
   {
    "duration": 30,
    "start_time": "2022-12-10T08:41:12.506Z"
   },
   {
    "duration": 251,
    "start_time": "2022-12-10T08:41:12.539Z"
   },
   {
    "duration": 54,
    "start_time": "2022-12-10T08:41:12.792Z"
   },
   {
    "duration": 2276,
    "start_time": "2022-12-10T08:41:12.855Z"
   },
   {
    "duration": 52,
    "start_time": "2022-12-10T08:41:15.136Z"
   },
   {
    "duration": 1589,
    "start_time": "2022-12-10T08:41:15.190Z"
   },
   {
    "duration": 343,
    "start_time": "2022-12-10T08:41:16.781Z"
   },
   {
    "duration": 11,
    "start_time": "2022-12-10T08:41:17.127Z"
   },
   {
    "duration": 822,
    "start_time": "2022-12-10T08:41:17.144Z"
   },
   {
    "duration": 1499,
    "start_time": "2022-12-10T08:41:17.977Z"
   },
   {
    "duration": 452,
    "start_time": "2022-12-10T08:41:19.484Z"
   },
   {
    "duration": 724,
    "start_time": "2022-12-10T08:41:19.941Z"
   },
   {
    "duration": 951,
    "start_time": "2022-12-10T08:41:20.669Z"
   },
   {
    "duration": 38,
    "start_time": "2022-12-10T08:41:21.621Z"
   },
   {
    "duration": 798,
    "start_time": "2022-12-10T08:41:21.661Z"
   },
   {
    "duration": 19,
    "start_time": "2022-12-10T08:41:22.461Z"
   },
   {
    "duration": 43,
    "start_time": "2022-12-10T08:41:22.482Z"
   },
   {
    "duration": 20,
    "start_time": "2022-12-10T10:21:10.523Z"
   },
   {
    "duration": 9,
    "start_time": "2022-12-10T10:25:22.048Z"
   },
   {
    "duration": 10,
    "start_time": "2022-12-10T10:25:45.439Z"
   },
   {
    "duration": 5,
    "start_time": "2022-12-10T11:48:09.158Z"
   },
   {
    "duration": 146,
    "start_time": "2022-12-10T11:48:09.165Z"
   },
   {
    "duration": 27,
    "start_time": "2022-12-10T11:48:09.315Z"
   },
   {
    "duration": 51,
    "start_time": "2022-12-10T11:48:09.343Z"
   },
   {
    "duration": 88,
    "start_time": "2022-12-10T11:48:09.396Z"
   },
   {
    "duration": 97,
    "start_time": "2022-12-10T11:48:09.486Z"
   },
   {
    "duration": 99,
    "start_time": "2022-12-10T11:48:09.585Z"
   },
   {
    "duration": 27,
    "start_time": "2022-12-10T11:48:09.685Z"
   },
   {
    "duration": 85,
    "start_time": "2022-12-10T11:48:09.714Z"
   },
   {
    "duration": 275,
    "start_time": "2022-12-10T11:48:09.800Z"
   },
   {
    "duration": 26,
    "start_time": "2022-12-10T11:48:10.078Z"
   },
   {
    "duration": 2117,
    "start_time": "2022-12-10T11:48:10.112Z"
   },
   {
    "duration": 39,
    "start_time": "2022-12-10T11:48:12.231Z"
   },
   {
    "duration": 1230,
    "start_time": "2022-12-10T11:48:12.272Z"
   },
   {
    "duration": 275,
    "start_time": "2022-12-10T11:48:13.504Z"
   },
   {
    "duration": 5,
    "start_time": "2022-12-10T11:48:13.781Z"
   },
   {
    "duration": 665,
    "start_time": "2022-12-10T11:48:13.788Z"
   },
   {
    "duration": 1206,
    "start_time": "2022-12-10T11:48:14.463Z"
   },
   {
    "duration": 412,
    "start_time": "2022-12-10T11:48:15.670Z"
   },
   {
    "duration": 599,
    "start_time": "2022-12-10T11:48:16.084Z"
   },
   {
    "duration": 1002,
    "start_time": "2022-12-10T11:48:16.686Z"
   },
   {
    "duration": 35,
    "start_time": "2022-12-10T11:48:17.690Z"
   },
   {
    "duration": 615,
    "start_time": "2022-12-10T11:48:17.730Z"
   },
   {
    "duration": 15,
    "start_time": "2022-12-10T11:48:18.347Z"
   },
   {
    "duration": 10,
    "start_time": "2022-12-10T11:48:18.366Z"
   },
   {
    "duration": 1245,
    "start_time": "2022-12-10T12:36:00.693Z"
   },
   {
    "duration": 83,
    "start_time": "2022-12-10T12:36:01.946Z"
   },
   {
    "duration": 18,
    "start_time": "2022-12-10T12:36:02.035Z"
   },
   {
    "duration": 8,
    "start_time": "2022-12-10T12:36:02.055Z"
   },
   {
    "duration": 19,
    "start_time": "2022-12-10T12:36:02.065Z"
   },
   {
    "duration": 18,
    "start_time": "2022-12-10T12:36:02.086Z"
   },
   {
    "duration": 30,
    "start_time": "2022-12-10T12:36:02.113Z"
   },
   {
    "duration": 31,
    "start_time": "2022-12-10T12:36:02.146Z"
   },
   {
    "duration": 41,
    "start_time": "2022-12-10T12:36:02.178Z"
   },
   {
    "duration": 239,
    "start_time": "2022-12-10T12:36:02.229Z"
   },
   {
    "duration": 27,
    "start_time": "2022-12-10T12:36:02.470Z"
   },
   {
    "duration": 1995,
    "start_time": "2022-12-10T12:36:02.499Z"
   },
   {
    "duration": 49,
    "start_time": "2022-12-10T12:36:04.496Z"
   },
   {
    "duration": 1281,
    "start_time": "2022-12-10T12:36:04.548Z"
   },
   {
    "duration": 245,
    "start_time": "2022-12-10T12:36:05.831Z"
   },
   {
    "duration": 5,
    "start_time": "2022-12-10T12:36:06.077Z"
   },
   {
    "duration": 542,
    "start_time": "2022-12-10T12:36:06.084Z"
   },
   {
    "duration": 1129,
    "start_time": "2022-12-10T12:36:06.628Z"
   },
   {
    "duration": 421,
    "start_time": "2022-12-10T12:36:07.758Z"
   },
   {
    "duration": 630,
    "start_time": "2022-12-10T12:36:08.181Z"
   },
   {
    "duration": 840,
    "start_time": "2022-12-10T12:36:08.821Z"
   },
   {
    "duration": 20,
    "start_time": "2022-12-10T12:36:09.663Z"
   },
   {
    "duration": 784,
    "start_time": "2022-12-10T12:36:09.684Z"
   },
   {
    "duration": 14,
    "start_time": "2022-12-10T12:36:10.470Z"
   },
   {
    "duration": 34,
    "start_time": "2022-12-10T12:36:10.486Z"
   },
   {
    "duration": 72,
    "start_time": "2022-12-10T13:37:25.527Z"
   },
   {
    "duration": 87,
    "start_time": "2022-12-10T13:47:26.182Z"
   },
   {
    "duration": 51,
    "start_time": "2022-12-11T07:56:19.485Z"
   },
   {
    "duration": 1315,
    "start_time": "2022-12-11T07:56:24.254Z"
   },
   {
    "duration": 120,
    "start_time": "2022-12-11T07:56:25.571Z"
   },
   {
    "duration": 16,
    "start_time": "2022-12-11T07:56:25.693Z"
   },
   {
    "duration": 8,
    "start_time": "2022-12-11T07:56:25.711Z"
   },
   {
    "duration": 21,
    "start_time": "2022-12-11T07:56:25.720Z"
   },
   {
    "duration": 14,
    "start_time": "2022-12-11T07:56:25.743Z"
   },
   {
    "duration": 25,
    "start_time": "2022-12-11T07:56:25.759Z"
   },
   {
    "duration": 49,
    "start_time": "2022-12-11T07:56:25.786Z"
   },
   {
    "duration": 6,
    "start_time": "2022-12-11T07:56:25.837Z"
   },
   {
    "duration": 25,
    "start_time": "2022-12-11T07:56:25.846Z"
   },
   {
    "duration": 251,
    "start_time": "2022-12-11T07:56:25.873Z"
   },
   {
    "duration": 39,
    "start_time": "2022-12-11T07:56:26.125Z"
   },
   {
    "duration": 1823,
    "start_time": "2022-12-11T07:56:26.165Z"
   },
   {
    "duration": 47,
    "start_time": "2022-12-11T07:56:27.990Z"
   },
   {
    "duration": 1089,
    "start_time": "2022-12-11T07:56:28.039Z"
   },
   {
    "duration": 209,
    "start_time": "2022-12-11T07:56:29.130Z"
   },
   {
    "duration": 4,
    "start_time": "2022-12-11T07:56:29.341Z"
   },
   {
    "duration": 569,
    "start_time": "2022-12-11T07:56:29.347Z"
   },
   {
    "duration": 1033,
    "start_time": "2022-12-11T07:56:29.918Z"
   },
   {
    "duration": 372,
    "start_time": "2022-12-11T07:56:30.952Z"
   },
   {
    "duration": 564,
    "start_time": "2022-12-11T07:56:31.326Z"
   },
   {
    "duration": 790,
    "start_time": "2022-12-11T07:56:31.892Z"
   },
   {
    "duration": 16,
    "start_time": "2022-12-11T07:56:32.684Z"
   },
   {
    "duration": 623,
    "start_time": "2022-12-11T07:56:32.701Z"
   },
   {
    "duration": 14,
    "start_time": "2022-12-11T07:56:33.326Z"
   },
   {
    "duration": 11,
    "start_time": "2022-12-11T07:56:33.341Z"
   },
   {
    "duration": 9,
    "start_time": "2022-12-11T07:56:40.980Z"
   },
   {
    "duration": 11,
    "start_time": "2022-12-11T07:56:50.054Z"
   },
   {
    "duration": 9,
    "start_time": "2022-12-11T07:56:56.058Z"
   },
   {
    "duration": 3,
    "start_time": "2022-12-11T07:56:58.473Z"
   },
   {
    "duration": 92,
    "start_time": "2022-12-11T07:56:58.478Z"
   },
   {
    "duration": 14,
    "start_time": "2022-12-11T07:56:58.572Z"
   },
   {
    "duration": 14,
    "start_time": "2022-12-11T07:56:58.587Z"
   },
   {
    "duration": 45,
    "start_time": "2022-12-11T07:56:58.603Z"
   },
   {
    "duration": 32,
    "start_time": "2022-12-11T07:56:58.650Z"
   },
   {
    "duration": 23,
    "start_time": "2022-12-11T07:56:58.683Z"
   },
   {
    "duration": 27,
    "start_time": "2022-12-11T07:56:58.708Z"
   },
   {
    "duration": 9,
    "start_time": "2022-12-11T07:56:58.737Z"
   },
   {
    "duration": 37,
    "start_time": "2022-12-11T07:56:58.747Z"
   },
   {
    "duration": 203,
    "start_time": "2022-12-11T07:56:58.786Z"
   },
   {
    "duration": 25,
    "start_time": "2022-12-11T07:56:58.991Z"
   },
   {
    "duration": 1734,
    "start_time": "2022-12-11T07:56:59.018Z"
   },
   {
    "duration": 23,
    "start_time": "2022-12-11T07:57:00.753Z"
   },
   {
    "duration": 1052,
    "start_time": "2022-12-11T07:57:00.778Z"
   },
   {
    "duration": 232,
    "start_time": "2022-12-11T07:57:01.831Z"
   },
   {
    "duration": 5,
    "start_time": "2022-12-11T07:57:02.065Z"
   },
   {
    "duration": 684,
    "start_time": "2022-12-11T07:57:02.071Z"
   },
   {
    "duration": 1066,
    "start_time": "2022-12-11T07:57:02.757Z"
   },
   {
    "duration": 383,
    "start_time": "2022-12-11T07:57:03.825Z"
   },
   {
    "duration": 492,
    "start_time": "2022-12-11T07:57:04.209Z"
   },
   {
    "duration": 830,
    "start_time": "2022-12-11T07:57:04.702Z"
   },
   {
    "duration": 16,
    "start_time": "2022-12-11T07:57:05.535Z"
   },
   {
    "duration": 555,
    "start_time": "2022-12-11T07:57:05.553Z"
   },
   {
    "duration": 9,
    "start_time": "2022-12-11T07:57:06.109Z"
   },
   {
    "duration": 27,
    "start_time": "2022-12-11T07:57:06.120Z"
   },
   {
    "duration": 9,
    "start_time": "2022-12-11T07:57:28.614Z"
   },
   {
    "duration": 9,
    "start_time": "2022-12-11T07:57:40.856Z"
   },
   {
    "duration": 8,
    "start_time": "2022-12-11T07:59:13.324Z"
   },
   {
    "duration": 9,
    "start_time": "2022-12-11T07:59:21.775Z"
   },
   {
    "duration": 8,
    "start_time": "2022-12-11T07:59:28.596Z"
   },
   {
    "duration": 10,
    "start_time": "2022-12-11T07:59:46.794Z"
   },
   {
    "duration": 10,
    "start_time": "2022-12-11T07:59:49.034Z"
   },
   {
    "duration": 9,
    "start_time": "2022-12-11T07:59:56.819Z"
   },
   {
    "duration": 8,
    "start_time": "2022-12-11T08:00:05.971Z"
   },
   {
    "duration": 3,
    "start_time": "2022-12-11T08:01:36.857Z"
   },
   {
    "duration": 93,
    "start_time": "2022-12-11T08:01:36.863Z"
   },
   {
    "duration": 14,
    "start_time": "2022-12-11T08:01:36.957Z"
   },
   {
    "duration": 35,
    "start_time": "2022-12-11T08:01:36.972Z"
   },
   {
    "duration": 52,
    "start_time": "2022-12-11T08:01:37.009Z"
   },
   {
    "duration": 43,
    "start_time": "2022-12-11T08:01:37.062Z"
   },
   {
    "duration": 46,
    "start_time": "2022-12-11T08:01:37.106Z"
   },
   {
    "duration": 41,
    "start_time": "2022-12-11T08:01:37.154Z"
   },
   {
    "duration": 20,
    "start_time": "2022-12-11T08:01:37.196Z"
   },
   {
    "duration": 38,
    "start_time": "2022-12-11T08:01:37.218Z"
   },
   {
    "duration": 210,
    "start_time": "2022-12-11T08:01:37.258Z"
   },
   {
    "duration": 24,
    "start_time": "2022-12-11T08:01:37.470Z"
   },
   {
    "duration": 1796,
    "start_time": "2022-12-11T08:01:37.497Z"
   },
   {
    "duration": 25,
    "start_time": "2022-12-11T08:01:39.294Z"
   },
   {
    "duration": 1201,
    "start_time": "2022-12-11T08:01:39.336Z"
   },
   {
    "duration": 227,
    "start_time": "2022-12-11T08:01:40.539Z"
   },
   {
    "duration": 4,
    "start_time": "2022-12-11T08:01:40.768Z"
   },
   {
    "duration": 519,
    "start_time": "2022-12-11T08:01:40.774Z"
   },
   {
    "duration": 1146,
    "start_time": "2022-12-11T08:01:41.294Z"
   },
   {
    "duration": 450,
    "start_time": "2022-12-11T08:01:42.442Z"
   },
   {
    "duration": 531,
    "start_time": "2022-12-11T08:01:42.894Z"
   },
   {
    "duration": 751,
    "start_time": "2022-12-11T08:01:43.427Z"
   },
   {
    "duration": 17,
    "start_time": "2022-12-11T08:01:44.180Z"
   },
   {
    "duration": 642,
    "start_time": "2022-12-11T08:01:44.199Z"
   },
   {
    "duration": 8,
    "start_time": "2022-12-11T08:01:44.843Z"
   },
   {
    "duration": 17,
    "start_time": "2022-12-11T08:01:44.853Z"
   },
   {
    "duration": 68,
    "start_time": "2022-12-11T08:02:10.994Z"
   },
   {
    "duration": 8,
    "start_time": "2022-12-11T08:02:28.434Z"
   },
   {
    "duration": 7,
    "start_time": "2022-12-11T08:02:34.501Z"
   },
   {
    "duration": 7,
    "start_time": "2022-12-11T08:02:40.514Z"
   },
   {
    "duration": 3,
    "start_time": "2022-12-11T08:02:42.957Z"
   },
   {
    "duration": 74,
    "start_time": "2022-12-11T08:02:42.963Z"
   },
   {
    "duration": 14,
    "start_time": "2022-12-11T08:02:43.039Z"
   },
   {
    "duration": 19,
    "start_time": "2022-12-11T08:02:43.055Z"
   },
   {
    "duration": 24,
    "start_time": "2022-12-11T08:02:43.076Z"
   },
   {
    "duration": 21,
    "start_time": "2022-12-11T08:02:43.101Z"
   },
   {
    "duration": 34,
    "start_time": "2022-12-11T08:02:43.123Z"
   },
   {
    "duration": 29,
    "start_time": "2022-12-11T08:02:43.158Z"
   },
   {
    "duration": 10,
    "start_time": "2022-12-11T08:02:43.189Z"
   },
   {
    "duration": 57,
    "start_time": "2022-12-11T08:02:43.203Z"
   },
   {
    "duration": 216,
    "start_time": "2022-12-11T08:02:43.262Z"
   },
   {
    "duration": 25,
    "start_time": "2022-12-11T08:02:43.480Z"
   },
   {
    "duration": 1802,
    "start_time": "2022-12-11T08:02:43.507Z"
   },
   {
    "duration": 30,
    "start_time": "2022-12-11T08:02:45.310Z"
   },
   {
    "duration": 1098,
    "start_time": "2022-12-11T08:02:45.343Z"
   },
   {
    "duration": 227,
    "start_time": "2022-12-11T08:02:46.443Z"
   },
   {
    "duration": 5,
    "start_time": "2022-12-11T08:02:46.672Z"
   },
   {
    "duration": 661,
    "start_time": "2022-12-11T08:02:46.679Z"
   },
   {
    "duration": 1084,
    "start_time": "2022-12-11T08:02:47.342Z"
   },
   {
    "duration": 383,
    "start_time": "2022-12-11T08:02:48.428Z"
   },
   {
    "duration": 546,
    "start_time": "2022-12-11T08:02:48.812Z"
   },
   {
    "duration": 868,
    "start_time": "2022-12-11T08:02:49.361Z"
   },
   {
    "duration": 21,
    "start_time": "2022-12-11T08:02:50.230Z"
   },
   {
    "duration": 582,
    "start_time": "2022-12-11T08:02:50.253Z"
   },
   {
    "duration": 9,
    "start_time": "2022-12-11T08:02:50.837Z"
   },
   {
    "duration": 15,
    "start_time": "2022-12-11T08:02:50.847Z"
   },
   {
    "duration": 432,
    "start_time": "2022-12-11T08:24:35.864Z"
   },
   {
    "duration": 3,
    "start_time": "2022-12-11T08:27:22.228Z"
   },
   {
    "duration": 20,
    "start_time": "2022-12-11T08:27:24.974Z"
   },
   {
    "duration": 4,
    "start_time": "2022-12-11T08:27:39.677Z"
   },
   {
    "duration": 533,
    "start_time": "2022-12-11T08:27:43.370Z"
   },
   {
    "duration": 5,
    "start_time": "2022-12-11T08:28:19.055Z"
   },
   {
    "duration": 2047,
    "start_time": "2022-12-11T08:28:24.063Z"
   },
   {
    "duration": 6,
    "start_time": "2022-12-11T08:29:32.435Z"
   },
   {
    "duration": 5,
    "start_time": "2022-12-11T08:29:32.658Z"
   },
   {
    "duration": 1337,
    "start_time": "2022-12-11T08:29:33.900Z"
   },
   {
    "duration": 4,
    "start_time": "2022-12-11T08:30:47.527Z"
   },
   {
    "duration": 1475,
    "start_time": "2022-12-11T08:30:48.824Z"
   },
   {
    "duration": 2745,
    "start_time": "2022-12-11T08:30:58.692Z"
   },
   {
    "duration": 4,
    "start_time": "2022-12-11T08:32:01.617Z"
   },
   {
    "duration": 16,
    "start_time": "2022-12-11T08:32:03.198Z"
   },
   {
    "duration": 4,
    "start_time": "2022-12-11T08:32:20.405Z"
   },
   {
    "duration": 544,
    "start_time": "2022-12-11T08:32:22.130Z"
   },
   {
    "duration": 4,
    "start_time": "2022-12-11T08:32:27.089Z"
   },
   {
    "duration": 568,
    "start_time": "2022-12-11T08:32:28.533Z"
   },
   {
    "duration": 4,
    "start_time": "2022-12-11T08:32:38.760Z"
   },
   {
    "duration": 571,
    "start_time": "2022-12-11T08:32:40.012Z"
   },
   {
    "duration": 4,
    "start_time": "2022-12-11T08:32:59.444Z"
   },
   {
    "duration": 596,
    "start_time": "2022-12-11T08:33:04.102Z"
   },
   {
    "duration": 4,
    "start_time": "2022-12-11T08:33:10.187Z"
   },
   {
    "duration": 759,
    "start_time": "2022-12-11T08:33:11.456Z"
   },
   {
    "duration": 4,
    "start_time": "2022-12-11T08:33:17.204Z"
   },
   {
    "duration": 544,
    "start_time": "2022-12-11T08:33:18.553Z"
   },
   {
    "duration": 955,
    "start_time": "2022-12-11T08:33:23.946Z"
   },
   {
    "duration": 5,
    "start_time": "2022-12-11T08:33:32.615Z"
   },
   {
    "duration": 527,
    "start_time": "2022-12-11T08:33:34.147Z"
   },
   {
    "duration": 1170,
    "start_time": "2022-12-11T08:33:37.248Z"
   },
   {
    "duration": 191,
    "start_time": "2022-12-11T08:34:44.807Z"
   },
   {
    "duration": 201,
    "start_time": "2022-12-11T08:35:13.624Z"
   },
   {
    "duration": 66,
    "start_time": "2022-12-11T08:35:19.014Z"
   },
   {
    "duration": 181,
    "start_time": "2022-12-11T08:35:23.888Z"
   },
   {
    "duration": 67,
    "start_time": "2022-12-11T08:35:31.094Z"
   },
   {
    "duration": 195,
    "start_time": "2022-12-11T08:35:44.641Z"
   },
   {
    "duration": 3,
    "start_time": "2022-12-11T08:37:07.130Z"
   },
   {
    "duration": 72,
    "start_time": "2022-12-11T08:37:07.136Z"
   },
   {
    "duration": 14,
    "start_time": "2022-12-11T08:37:07.209Z"
   },
   {
    "duration": 16,
    "start_time": "2022-12-11T08:37:07.225Z"
   },
   {
    "duration": 27,
    "start_time": "2022-12-11T08:37:07.244Z"
   },
   {
    "duration": 16,
    "start_time": "2022-12-11T08:37:07.272Z"
   },
   {
    "duration": 22,
    "start_time": "2022-12-11T08:37:07.290Z"
   },
   {
    "duration": 43,
    "start_time": "2022-12-11T08:37:07.314Z"
   },
   {
    "duration": 10,
    "start_time": "2022-12-11T08:37:07.359Z"
   },
   {
    "duration": 45,
    "start_time": "2022-12-11T08:37:07.371Z"
   },
   {
    "duration": 214,
    "start_time": "2022-12-11T08:37:07.417Z"
   },
   {
    "duration": 26,
    "start_time": "2022-12-11T08:37:07.634Z"
   },
   {
    "duration": 1881,
    "start_time": "2022-12-11T08:37:07.662Z"
   },
   {
    "duration": 24,
    "start_time": "2022-12-11T08:37:09.546Z"
   },
   {
    "duration": 1195,
    "start_time": "2022-12-11T08:37:09.572Z"
   },
   {
    "duration": 432,
    "start_time": "2022-12-11T08:37:10.769Z"
   },
   {
    "duration": 4,
    "start_time": "2022-12-11T08:37:11.202Z"
   },
   {
    "duration": 553,
    "start_time": "2022-12-11T08:37:11.208Z"
   },
   {
    "duration": 1079,
    "start_time": "2022-12-11T08:37:11.763Z"
   },
   {
    "duration": 206,
    "start_time": "2022-12-11T08:37:12.844Z"
   },
   {
    "duration": 0,
    "start_time": "2022-12-11T08:37:13.051Z"
   },
   {
    "duration": 0,
    "start_time": "2022-12-11T08:37:13.052Z"
   },
   {
    "duration": 0,
    "start_time": "2022-12-11T08:37:13.054Z"
   },
   {
    "duration": 0,
    "start_time": "2022-12-11T08:37:13.055Z"
   },
   {
    "duration": 0,
    "start_time": "2022-12-11T08:37:13.056Z"
   },
   {
    "duration": 0,
    "start_time": "2022-12-11T08:37:13.057Z"
   },
   {
    "duration": 340,
    "start_time": "2022-12-11T08:37:42.507Z"
   },
   {
    "duration": 201,
    "start_time": "2022-12-11T08:37:59.653Z"
   },
   {
    "duration": 352,
    "start_time": "2022-12-11T08:38:57.269Z"
   },
   {
    "duration": 344,
    "start_time": "2022-12-11T08:39:13.365Z"
   },
   {
    "duration": 370,
    "start_time": "2022-12-11T08:39:34.675Z"
   },
   {
    "duration": 366,
    "start_time": "2022-12-11T08:39:41.773Z"
   },
   {
    "duration": 476,
    "start_time": "2022-12-11T08:39:54.491Z"
   },
   {
    "duration": 397,
    "start_time": "2022-12-11T08:40:04.741Z"
   },
   {
    "duration": 538,
    "start_time": "2022-12-11T08:40:33.974Z"
   },
   {
    "duration": 472,
    "start_time": "2022-12-11T08:42:11.329Z"
   },
   {
    "duration": 567,
    "start_time": "2022-12-11T08:44:26.893Z"
   },
   {
    "duration": 685,
    "start_time": "2022-12-11T08:44:34.764Z"
   },
   {
    "duration": 1339,
    "start_time": "2022-12-11T08:45:25.674Z"
   },
   {
    "duration": 579,
    "start_time": "2022-12-11T08:45:43.185Z"
   },
   {
    "duration": 703,
    "start_time": "2022-12-11T08:46:55.906Z"
   },
   {
    "duration": 401,
    "start_time": "2022-12-11T09:14:33.592Z"
   },
   {
    "duration": 510,
    "start_time": "2022-12-11T09:23:53.997Z"
   },
   {
    "duration": 561,
    "start_time": "2022-12-11T09:24:38.526Z"
   },
   {
    "duration": 3,
    "start_time": "2022-12-11T09:37:12.686Z"
   },
   {
    "duration": 75,
    "start_time": "2022-12-11T09:37:12.691Z"
   },
   {
    "duration": 14,
    "start_time": "2022-12-11T09:37:12.768Z"
   },
   {
    "duration": 10,
    "start_time": "2022-12-11T09:37:12.784Z"
   },
   {
    "duration": 39,
    "start_time": "2022-12-11T09:37:12.797Z"
   },
   {
    "duration": 19,
    "start_time": "2022-12-11T09:37:12.838Z"
   },
   {
    "duration": 21,
    "start_time": "2022-12-11T09:37:12.859Z"
   },
   {
    "duration": 28,
    "start_time": "2022-12-11T09:37:12.882Z"
   },
   {
    "duration": 30,
    "start_time": "2022-12-11T09:37:12.912Z"
   },
   {
    "duration": 31,
    "start_time": "2022-12-11T09:37:12.943Z"
   },
   {
    "duration": 212,
    "start_time": "2022-12-11T09:37:12.976Z"
   },
   {
    "duration": 25,
    "start_time": "2022-12-11T09:37:13.190Z"
   },
   {
    "duration": 1886,
    "start_time": "2022-12-11T09:37:13.217Z"
   },
   {
    "duration": 32,
    "start_time": "2022-12-11T09:37:15.105Z"
   },
   {
    "duration": 1204,
    "start_time": "2022-12-11T09:37:15.138Z"
   },
   {
    "duration": 491,
    "start_time": "2022-12-11T09:37:16.344Z"
   },
   {
    "duration": 5,
    "start_time": "2022-12-11T09:37:16.837Z"
   },
   {
    "duration": 557,
    "start_time": "2022-12-11T09:37:16.844Z"
   },
   {
    "duration": 1134,
    "start_time": "2022-12-11T09:37:17.403Z"
   },
   {
    "duration": 390,
    "start_time": "2022-12-11T09:37:18.539Z"
   },
   {
    "duration": 546,
    "start_time": "2022-12-11T09:37:18.935Z"
   },
   {
    "duration": 791,
    "start_time": "2022-12-11T09:37:19.483Z"
   },
   {
    "duration": 17,
    "start_time": "2022-12-11T09:37:20.276Z"
   },
   {
    "duration": 695,
    "start_time": "2022-12-11T09:37:20.295Z"
   },
   {
    "duration": 9,
    "start_time": "2022-12-11T09:37:20.992Z"
   },
   {
    "duration": 17,
    "start_time": "2022-12-11T09:37:21.003Z"
   }
  ],
  "kernelspec": {
   "display_name": "Python 3 (ipykernel)",
   "language": "python",
   "name": "python3"
  },
  "language_info": {
   "codemirror_mode": {
    "name": "ipython",
    "version": 3
   },
   "file_extension": ".py",
   "mimetype": "text/x-python",
   "name": "python",
   "nbconvert_exporter": "python",
   "pygments_lexer": "ipython3",
   "version": "3.9.5"
  },
  "toc": {
   "base_numbering": 1,
   "nav_menu": {},
   "number_sections": true,
   "sideBar": true,
   "skip_h1_title": true,
   "title_cell": "Table of Contents",
   "title_sidebar": "Contents",
   "toc_cell": false,
   "toc_position": {},
   "toc_section_display": true,
   "toc_window_display": false
  }
 },
 "nbformat": 4,
 "nbformat_minor": 2
}
