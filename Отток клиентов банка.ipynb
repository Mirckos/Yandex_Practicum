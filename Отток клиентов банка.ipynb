{
 "cells": [
  {
   "cell_type": "markdown",
   "metadata": {},
   "source": [
    "<div class=\"alert alert-info\">\n",
    "<h2>V2 Комментарий ревьюера <a class=\"tocSkip\"> </h2>\n",
    "\n",
    "Cвои комментарии в этой итерации я буду отмечать таким образом."
   ]
  },
  {
   "cell_type": "markdown",
   "metadata": {},
   "source": [
    "<div class=\"alert alert-info\">\n",
    "\n",
    "<b>Привет, Максим!👋</b>\n",
    "\n",
    "Меня зовут Женя Лаврив, я буду проверять твой проект. У нас, в Яндекс практикуме, принято обращение на \"ты\"😏, но если тебе комфортнее обращаться на Вы, напиши об этом, пожалуйста. Я буду рад перейти на \"Вы\". \n",
    "\n",
    "Я здесь для того, чтобы помочь тебе с учёбой и будущим успешным поиском работы. Вместе мы сможем оптимизировать твой код и найти лучший подход к решению задач!\n",
    "Пожалуйста, не удаляй мои комментарии, они будут особенно полезны для нашей работы в случае повторной проверки проекта. \n",
    "\n",
    "Будет здорово, если ты будешь отвечать на мои комментарии своими, выделяя их цветами или так, как тебе понравится, но так, чтобы их можно было отличить от моих комментариев. Это нужно, чтобы не создавалась путаница😉\n",
    "\n",
    "Ты можешь найти мои комментарии, обозначенные <font color='green'>зеленым</font>, <font color='gold'>желтым</font> и <font color='red'>красным</font> цветами, например:\n",
    "\n",
    "<br/>\n",
    "\n",
    "<div class=\"alert alert-success\">\n",
    "<h2> Комментарий ревьюера <a class=\"tocSkip\"> </h2>\n",
    "\n",
    "<b>Все отлично!👍:</b> В случае, если решение на отдельном шаге является полностью правильным.\n",
    "</div>\n",
    "\n",
    "<br/>\n",
    "\n",
    "<div class=\"alert alert-warning\">\n",
    "    <h2> Комментарий ревьюера <a class=\"tocSkip\"> </h2>\n",
    "    \n",
    "<b>Некоторые замечания и рекомендации💡:</b> В случае, когда решение на отдельном шаге станет еще лучше, если внести небольшие коррективы.\n",
    "</div>\n",
    "\n",
    "\n",
    "<br/>\n",
    "<div class=\"alert alert-block alert-danger\">\n",
    "<h2> Комментарий ревьюера <a class=\"tocSkip\"></h2>\n",
    "\n",
    "    \n",
    "<b>На доработку🤔:</b>\n",
    " В случае, когда решение на отдельном шаге требует существенной переработки и внесения правок. Напоминаю, что проект не может быть принят с первого раза, если ревью содержит комментарии, рекомендующие доработать шаги.\n",
    "</div>\n",
    "    \n",
    "Если в решении будут какие-то неточности, в первый раз я только укажу на их наличие и дам тебе возможность самостоятельно найти и исправить их. В реальной работе твои более опытные товарищи будут поступать также, и я хочу подготовить тебя именно к работе аналитиком. Но если ты пока не справишься с такой задачей - при следующей проверке я дам более точную подсказку!🤓\n",
    "\n",
    "Мы все очень ценим время и усилия друг-друга, поэтому я постараюсь давать максимально эффективные комментарии и заботливо подойти к твоей работе.\n",
    "</div>"
   ]
  },
  {
   "cell_type": "markdown",
   "metadata": {
    "toc": true
   },
   "source": [
    "<h1>Содержание<span class=\"tocSkip\"></span></h1>\n",
    "<div class=\"toc\"><ul class=\"toc-item\"><li><span><a href=\"#Подготовка-данных\" data-toc-modified-id=\"Подготовка-данных-1\"><span class=\"toc-item-num\">1&nbsp;&nbsp;</span>Подготовка данных</a></span></li><li><span><a href=\"#Исследование-задачи\" data-toc-modified-id=\"Исследование-задачи-2\"><span class=\"toc-item-num\">2&nbsp;&nbsp;</span>Исследование задачи</a></span></li><li><span><a href=\"#Борьба-с-дисбалансом\" data-toc-modified-id=\"Борьба-с-дисбалансом-3\"><span class=\"toc-item-num\">3&nbsp;&nbsp;</span>Борьба с дисбалансом</a></span></li><li><span><a href=\"#Тестирование-модели\" data-toc-modified-id=\"Тестирование-модели-4\"><span class=\"toc-item-num\">4&nbsp;&nbsp;</span>Тестирование модели</a></span><ul class=\"toc-item\"><li><span><a href=\"#Заключение\" data-toc-modified-id=\"Заключение-4.1\"><span class=\"toc-item-num\">4.1&nbsp;&nbsp;</span>Заключение</a></span></li></ul></li><li><span><a href=\"#Чек-лист-готовности-проекта\" data-toc-modified-id=\"Чек-лист-готовности-проекта-5\"><span class=\"toc-item-num\">5&nbsp;&nbsp;</span>Чек-лист готовности проекта</a></span></li></ul></div>"
   ]
  },
  {
   "cell_type": "markdown",
   "metadata": {},
   "source": [
    "# Отток клиентов"
   ]
  },
  {
   "cell_type": "markdown",
   "metadata": {},
   "source": [
    "Из «Бета-Банка» стали уходить клиенты. Каждый месяц. Немного, но заметно. Банковские маркетологи посчитали: сохранять текущих клиентов дешевле, чем привлекать новых.\n",
    "\n",
    "Нужно спрогнозировать, уйдёт клиент из банка в ближайшее время или нет. Вам предоставлены исторические данные о поведении клиентов и расторжении договоров с банком. \n",
    "\n",
    "Постройте модель с предельно большим значением *F1*-меры. Чтобы сдать проект успешно, нужно довести метрику до 0.59. Проверьте *F1*-меру на тестовой выборке самостоятельно.\n",
    "\n",
    "Дополнительно измеряйте *AUC-ROC*, сравнивайте её значение с *F1*-мерой.\n",
    "\n",
    "Источник данных: [https://www.kaggle.com/barelydedicated/bank-customer-churn-modeling](https://www.kaggle.com/barelydedicated/bank-customer-churn-modeling)"
   ]
  },
  {
   "cell_type": "markdown",
   "metadata": {},
   "source": [
    "<div class=\"alert alert-success\">\n",
    "<h2> Комментарий ревьюера <a class=\"tocSkip\"> </h2>\n",
    "\n",
    "<b>Все отлично!👍:</b> \n",
    "    \n",
    "Хорошее введение и содержание не забыто! Отличный старт!😉"
   ]
  },
  {
   "cell_type": "markdown",
   "metadata": {},
   "source": [
    "## Подготовка данных"
   ]
  },
  {
   "cell_type": "markdown",
   "metadata": {},
   "source": [
    "Добавим необходимые библиотеки"
   ]
  },
  {
   "cell_type": "code",
   "execution_count": 1,
   "metadata": {},
   "outputs": [],
   "source": [
    "import pandas as pd\n",
    "import numpy as np\n",
    "from numpy import arange\n",
    "\n",
    "from sklearn.model_selection import train_test_split\n",
    "from sklearn.linear_model import LogisticRegression\n",
    "from sklearn.tree import DecisionTreeClassifier\n",
    "from sklearn.ensemble import RandomForestClassifier\n",
    "from sklearn.preprocessing import OrdinalEncoder\n",
    "from sklearn.preprocessing import StandardScaler \n",
    "from sklearn.metrics import f1_score\n",
    "from sklearn.metrics import roc_auc_score\n",
    "from sklearn.utils import shuffle\n",
    "from sklearn.preprocessing import OneHotEncoder\n",
    "from sklearn.compose import make_column_transformer\n",
    "from sklearn.utils import shuffle\n",
    "\n",
    "pd.options.mode.chained_assignment = None"
   ]
  },
  {
   "cell_type": "markdown",
   "metadata": {},
   "source": [
    "<div class=\"alert alert-success\">\n",
    "<h2> Комментарий ревьюера <a class=\"tocSkip\"> </h2>\n",
    "\n",
    "<b>Все отлично!👍:</b> \n",
    "\n",
    "Собраны все импорты, отлично!"
   ]
  },
  {
   "cell_type": "markdown",
   "metadata": {},
   "source": [
    "Рассмотрим пропуски в датасете и общее количество строк "
   ]
  },
  {
   "cell_type": "code",
   "execution_count": 2,
   "metadata": {},
   "outputs": [
    {
     "name": "stdout",
     "output_type": "stream",
     "text": [
      "<class 'pandas.core.frame.DataFrame'>\n",
      "RangeIndex: 10000 entries, 0 to 9999\n",
      "Data columns (total 14 columns):\n",
      " #   Column           Non-Null Count  Dtype  \n",
      "---  ------           --------------  -----  \n",
      " 0   RowNumber        10000 non-null  int64  \n",
      " 1   CustomerId       10000 non-null  int64  \n",
      " 2   Surname          10000 non-null  object \n",
      " 3   CreditScore      10000 non-null  int64  \n",
      " 4   Geography        10000 non-null  object \n",
      " 5   Gender           10000 non-null  object \n",
      " 6   Age              10000 non-null  int64  \n",
      " 7   Tenure           9091 non-null   float64\n",
      " 8   Balance          10000 non-null  float64\n",
      " 9   NumOfProducts    10000 non-null  int64  \n",
      " 10  HasCrCard        10000 non-null  int64  \n",
      " 11  IsActiveMember   10000 non-null  int64  \n",
      " 12  EstimatedSalary  10000 non-null  float64\n",
      " 13  Exited           10000 non-null  int64  \n",
      "dtypes: float64(3), int64(8), object(3)\n",
      "memory usage: 1.1+ MB\n"
     ]
    }
   ],
   "source": [
    "try:\n",
    "    df = pd.read_csv('/datasets/Churn.csv')\n",
    "    df.info()\n",
    "    df.describe()\n",
    "except: \n",
    "    print(\"Ошибка считывания датафрейма\")"
   ]
  },
  {
   "cell_type": "code",
   "execution_count": 3,
   "metadata": {},
   "outputs": [
    {
     "data": {
      "text/html": [
       "<div>\n",
       "<style scoped>\n",
       "    .dataframe tbody tr th:only-of-type {\n",
       "        vertical-align: middle;\n",
       "    }\n",
       "\n",
       "    .dataframe tbody tr th {\n",
       "        vertical-align: top;\n",
       "    }\n",
       "\n",
       "    .dataframe thead th {\n",
       "        text-align: right;\n",
       "    }\n",
       "</style>\n",
       "<table border=\"1\" class=\"dataframe\">\n",
       "  <thead>\n",
       "    <tr style=\"text-align: right;\">\n",
       "      <th></th>\n",
       "      <th>RowNumber</th>\n",
       "      <th>CustomerId</th>\n",
       "      <th>Surname</th>\n",
       "      <th>CreditScore</th>\n",
       "      <th>Geography</th>\n",
       "      <th>Gender</th>\n",
       "      <th>Age</th>\n",
       "      <th>Tenure</th>\n",
       "      <th>Balance</th>\n",
       "      <th>NumOfProducts</th>\n",
       "      <th>HasCrCard</th>\n",
       "      <th>IsActiveMember</th>\n",
       "      <th>EstimatedSalary</th>\n",
       "      <th>Exited</th>\n",
       "    </tr>\n",
       "  </thead>\n",
       "  <tbody>\n",
       "    <tr>\n",
       "      <th>0</th>\n",
       "      <td>1</td>\n",
       "      <td>15634602</td>\n",
       "      <td>Hargrave</td>\n",
       "      <td>619</td>\n",
       "      <td>France</td>\n",
       "      <td>Female</td>\n",
       "      <td>42</td>\n",
       "      <td>2.0</td>\n",
       "      <td>0.00</td>\n",
       "      <td>1</td>\n",
       "      <td>1</td>\n",
       "      <td>1</td>\n",
       "      <td>101348.88</td>\n",
       "      <td>1</td>\n",
       "    </tr>\n",
       "    <tr>\n",
       "      <th>1</th>\n",
       "      <td>2</td>\n",
       "      <td>15647311</td>\n",
       "      <td>Hill</td>\n",
       "      <td>608</td>\n",
       "      <td>Spain</td>\n",
       "      <td>Female</td>\n",
       "      <td>41</td>\n",
       "      <td>1.0</td>\n",
       "      <td>83807.86</td>\n",
       "      <td>1</td>\n",
       "      <td>0</td>\n",
       "      <td>1</td>\n",
       "      <td>112542.58</td>\n",
       "      <td>0</td>\n",
       "    </tr>\n",
       "    <tr>\n",
       "      <th>2</th>\n",
       "      <td>3</td>\n",
       "      <td>15619304</td>\n",
       "      <td>Onio</td>\n",
       "      <td>502</td>\n",
       "      <td>France</td>\n",
       "      <td>Female</td>\n",
       "      <td>42</td>\n",
       "      <td>8.0</td>\n",
       "      <td>159660.80</td>\n",
       "      <td>3</td>\n",
       "      <td>1</td>\n",
       "      <td>0</td>\n",
       "      <td>113931.57</td>\n",
       "      <td>1</td>\n",
       "    </tr>\n",
       "    <tr>\n",
       "      <th>3</th>\n",
       "      <td>4</td>\n",
       "      <td>15701354</td>\n",
       "      <td>Boni</td>\n",
       "      <td>699</td>\n",
       "      <td>France</td>\n",
       "      <td>Female</td>\n",
       "      <td>39</td>\n",
       "      <td>1.0</td>\n",
       "      <td>0.00</td>\n",
       "      <td>2</td>\n",
       "      <td>0</td>\n",
       "      <td>0</td>\n",
       "      <td>93826.63</td>\n",
       "      <td>0</td>\n",
       "    </tr>\n",
       "    <tr>\n",
       "      <th>4</th>\n",
       "      <td>5</td>\n",
       "      <td>15737888</td>\n",
       "      <td>Mitchell</td>\n",
       "      <td>850</td>\n",
       "      <td>Spain</td>\n",
       "      <td>Female</td>\n",
       "      <td>43</td>\n",
       "      <td>2.0</td>\n",
       "      <td>125510.82</td>\n",
       "      <td>1</td>\n",
       "      <td>1</td>\n",
       "      <td>1</td>\n",
       "      <td>79084.10</td>\n",
       "      <td>0</td>\n",
       "    </tr>\n",
       "    <tr>\n",
       "      <th>...</th>\n",
       "      <td>...</td>\n",
       "      <td>...</td>\n",
       "      <td>...</td>\n",
       "      <td>...</td>\n",
       "      <td>...</td>\n",
       "      <td>...</td>\n",
       "      <td>...</td>\n",
       "      <td>...</td>\n",
       "      <td>...</td>\n",
       "      <td>...</td>\n",
       "      <td>...</td>\n",
       "      <td>...</td>\n",
       "      <td>...</td>\n",
       "      <td>...</td>\n",
       "    </tr>\n",
       "    <tr>\n",
       "      <th>9995</th>\n",
       "      <td>9996</td>\n",
       "      <td>15606229</td>\n",
       "      <td>Obijiaku</td>\n",
       "      <td>771</td>\n",
       "      <td>France</td>\n",
       "      <td>Male</td>\n",
       "      <td>39</td>\n",
       "      <td>5.0</td>\n",
       "      <td>0.00</td>\n",
       "      <td>2</td>\n",
       "      <td>1</td>\n",
       "      <td>0</td>\n",
       "      <td>96270.64</td>\n",
       "      <td>0</td>\n",
       "    </tr>\n",
       "    <tr>\n",
       "      <th>9996</th>\n",
       "      <td>9997</td>\n",
       "      <td>15569892</td>\n",
       "      <td>Johnstone</td>\n",
       "      <td>516</td>\n",
       "      <td>France</td>\n",
       "      <td>Male</td>\n",
       "      <td>35</td>\n",
       "      <td>10.0</td>\n",
       "      <td>57369.61</td>\n",
       "      <td>1</td>\n",
       "      <td>1</td>\n",
       "      <td>1</td>\n",
       "      <td>101699.77</td>\n",
       "      <td>0</td>\n",
       "    </tr>\n",
       "    <tr>\n",
       "      <th>9997</th>\n",
       "      <td>9998</td>\n",
       "      <td>15584532</td>\n",
       "      <td>Liu</td>\n",
       "      <td>709</td>\n",
       "      <td>France</td>\n",
       "      <td>Female</td>\n",
       "      <td>36</td>\n",
       "      <td>7.0</td>\n",
       "      <td>0.00</td>\n",
       "      <td>1</td>\n",
       "      <td>0</td>\n",
       "      <td>1</td>\n",
       "      <td>42085.58</td>\n",
       "      <td>1</td>\n",
       "    </tr>\n",
       "    <tr>\n",
       "      <th>9998</th>\n",
       "      <td>9999</td>\n",
       "      <td>15682355</td>\n",
       "      <td>Sabbatini</td>\n",
       "      <td>772</td>\n",
       "      <td>Germany</td>\n",
       "      <td>Male</td>\n",
       "      <td>42</td>\n",
       "      <td>3.0</td>\n",
       "      <td>75075.31</td>\n",
       "      <td>2</td>\n",
       "      <td>1</td>\n",
       "      <td>0</td>\n",
       "      <td>92888.52</td>\n",
       "      <td>1</td>\n",
       "    </tr>\n",
       "    <tr>\n",
       "      <th>9999</th>\n",
       "      <td>10000</td>\n",
       "      <td>15628319</td>\n",
       "      <td>Walker</td>\n",
       "      <td>792</td>\n",
       "      <td>France</td>\n",
       "      <td>Female</td>\n",
       "      <td>28</td>\n",
       "      <td>NaN</td>\n",
       "      <td>130142.79</td>\n",
       "      <td>1</td>\n",
       "      <td>1</td>\n",
       "      <td>0</td>\n",
       "      <td>38190.78</td>\n",
       "      <td>0</td>\n",
       "    </tr>\n",
       "  </tbody>\n",
       "</table>\n",
       "<p>10000 rows × 14 columns</p>\n",
       "</div>"
      ],
      "text/plain": [
       "      RowNumber  CustomerId    Surname  CreditScore Geography  Gender  Age  \\\n",
       "0             1    15634602   Hargrave          619    France  Female   42   \n",
       "1             2    15647311       Hill          608     Spain  Female   41   \n",
       "2             3    15619304       Onio          502    France  Female   42   \n",
       "3             4    15701354       Boni          699    France  Female   39   \n",
       "4             5    15737888   Mitchell          850     Spain  Female   43   \n",
       "...         ...         ...        ...          ...       ...     ...  ...   \n",
       "9995       9996    15606229   Obijiaku          771    France    Male   39   \n",
       "9996       9997    15569892  Johnstone          516    France    Male   35   \n",
       "9997       9998    15584532        Liu          709    France  Female   36   \n",
       "9998       9999    15682355  Sabbatini          772   Germany    Male   42   \n",
       "9999      10000    15628319     Walker          792    France  Female   28   \n",
       "\n",
       "      Tenure    Balance  NumOfProducts  HasCrCard  IsActiveMember  \\\n",
       "0        2.0       0.00              1          1               1   \n",
       "1        1.0   83807.86              1          0               1   \n",
       "2        8.0  159660.80              3          1               0   \n",
       "3        1.0       0.00              2          0               0   \n",
       "4        2.0  125510.82              1          1               1   \n",
       "...      ...        ...            ...        ...             ...   \n",
       "9995     5.0       0.00              2          1               0   \n",
       "9996    10.0   57369.61              1          1               1   \n",
       "9997     7.0       0.00              1          0               1   \n",
       "9998     3.0   75075.31              2          1               0   \n",
       "9999     NaN  130142.79              1          1               0   \n",
       "\n",
       "      EstimatedSalary  Exited  \n",
       "0           101348.88       1  \n",
       "1           112542.58       0  \n",
       "2           113931.57       1  \n",
       "3            93826.63       0  \n",
       "4            79084.10       0  \n",
       "...               ...     ...  \n",
       "9995         96270.64       0  \n",
       "9996        101699.77       0  \n",
       "9997         42085.58       1  \n",
       "9998         92888.52       1  \n",
       "9999         38190.78       0  \n",
       "\n",
       "[10000 rows x 14 columns]"
      ]
     },
     "execution_count": 3,
     "metadata": {},
     "output_type": "execute_result"
    }
   ],
   "source": [
    "df"
   ]
  },
  {
   "cell_type": "markdown",
   "metadata": {},
   "source": [
    "<div class=\"alert alert-warning\">\n",
    "    <h2> Комментарий ревьюера <a class=\"tocSkip\"> </h2>\n",
    "    \n",
    "<b>Некоторые замечания и рекомендации💡:</b> \n",
    "        \n",
    "Для загрузки данных можно использовать try-except. Это поможет избежать ошибок в случае, если данные пропали, или повреждены. "
   ]
  },
  {
   "cell_type": "markdown",
   "metadata": {},
   "source": [
    "<div class=\"alert alert-block alert-danger\">\n",
    "<h2> Комментарий ревьюера <a class=\"tocSkip\"></h2>\n",
    "\n",
    "    \n",
    "<b>На доработку🤔:</b>\n",
    "        \n",
    "Добавь, пожалуйста, несколько методов исследования массива. info и describe будет достаточно!"
   ]
  },
  {
   "cell_type": "markdown",
   "metadata": {},
   "source": [
    "<div class=\"alert alert-info\">\n",
    "    <h2> Комментарий студента <a class=\"tocSkip\"></h2>\n",
    "        \n",
    "<b> Замечения учтены, методы исследования и tre-except добавлены !</b> \n"
   ]
  },
  {
   "cell_type": "markdown",
   "metadata": {},
   "source": [
    "<div class=\"alert alert-success\">\n",
    "<h2>V2 Комментарий ревьюера <a class=\"tocSkip\"> </h2>\n",
    "\n",
    "<b>Все отлично!👍:</b> \n",
    "\n",
    "Спасибо за корректировку!"
   ]
  },
  {
   "cell_type": "markdown",
   "metadata": {},
   "source": [
    "В столбце `Tenure` есть много пропусков, их необходимо заполнить для более точного обучения модели, так как получившиеся 9.\n",
    "\n",
    "Рассмотрим пропуски подробнее"
   ]
  },
  {
   "cell_type": "markdown",
   "metadata": {},
   "source": [
    "<div class=\"alert alert-block alert-danger\">\n",
    "<h2> Комментарий ревьюера <a class=\"tocSkip\"></h2>\n",
    "\n",
    "    \n",
    "<b>На доработку🤔:</b>\n",
    "        \n",
    "Удаление пропусков подходит, когда мы вручную исследуем данные. Это может не оправдаться, и сильно повлиять на результаты. В машинном обучении все параметры используются моделью для работы.\n",
    "    \n",
    "Мы ожидаем здесь заполнения медианой, или более продвинутых способов, например, машинного обучения для заполнения пропусков. \n",
    "    \n",
    "Таблица не заполняется клиентами, она заполняется автоматически, информационной системой банка. Таким образом, если бы клиент недавно пришёл, число было бы маленьким, но оно было бы."
   ]
  },
  {
   "cell_type": "markdown",
   "metadata": {},
   "source": [
    "<div class=\"alert alert-info\">\n",
    "    <h2> Комментарий студента <a class=\"tocSkip\"></h2>\n",
    "        \n",
    "<b> Замечения учтены, пропуски заполнены медианной!</b> "
   ]
  },
  {
   "cell_type": "markdown",
   "metadata": {},
   "source": [
    "<div class=\"alert alert-success\">\n",
    "<h2>V2 Комментарий ревьюера <a class=\"tocSkip\"> </h2>\n",
    "\n",
    "<b>Все отлично!👍:</b> \n",
    "\n",
    "Вообще, mean это среднее, а медиана это median. Попробуй разобраться, в чём разница, пожалуйста. "
   ]
  },
  {
   "cell_type": "code",
   "execution_count": 4,
   "metadata": {},
   "outputs": [
    {
     "name": "stdout",
     "output_type": "stream",
     "text": [
      "Количество пропусков в столбце Tenure: 909\n",
      "<class 'pandas.core.frame.DataFrame'>\n",
      "RangeIndex: 10000 entries, 0 to 9999\n",
      "Data columns (total 14 columns):\n",
      " #   Column           Non-Null Count  Dtype  \n",
      "---  ------           --------------  -----  \n",
      " 0   RowNumber        10000 non-null  int64  \n",
      " 1   CustomerId       10000 non-null  int64  \n",
      " 2   Surname          10000 non-null  object \n",
      " 3   CreditScore      10000 non-null  int64  \n",
      " 4   Geography        10000 non-null  object \n",
      " 5   Gender           10000 non-null  object \n",
      " 6   Age              10000 non-null  int64  \n",
      " 7   Tenure           10000 non-null  float64\n",
      " 8   Balance          10000 non-null  float64\n",
      " 9   NumOfProducts    10000 non-null  int64  \n",
      " 10  HasCrCard        10000 non-null  int64  \n",
      " 11  IsActiveMember   10000 non-null  int64  \n",
      " 12  EstimatedSalary  10000 non-null  float64\n",
      " 13  Exited           10000 non-null  int64  \n",
      "dtypes: float64(3), int64(8), object(3)\n",
      "memory usage: 1.1+ MB\n"
     ]
    },
    {
     "data": {
      "text/html": [
       "<div>\n",
       "<style scoped>\n",
       "    .dataframe tbody tr th:only-of-type {\n",
       "        vertical-align: middle;\n",
       "    }\n",
       "\n",
       "    .dataframe tbody tr th {\n",
       "        vertical-align: top;\n",
       "    }\n",
       "\n",
       "    .dataframe thead th {\n",
       "        text-align: right;\n",
       "    }\n",
       "</style>\n",
       "<table border=\"1\" class=\"dataframe\">\n",
       "  <thead>\n",
       "    <tr style=\"text-align: right;\">\n",
       "      <th></th>\n",
       "      <th>RowNumber</th>\n",
       "      <th>CustomerId</th>\n",
       "      <th>Surname</th>\n",
       "      <th>CreditScore</th>\n",
       "      <th>Geography</th>\n",
       "      <th>Gender</th>\n",
       "      <th>Age</th>\n",
       "      <th>Tenure</th>\n",
       "      <th>Balance</th>\n",
       "      <th>NumOfProducts</th>\n",
       "      <th>HasCrCard</th>\n",
       "      <th>IsActiveMember</th>\n",
       "      <th>EstimatedSalary</th>\n",
       "      <th>Exited</th>\n",
       "    </tr>\n",
       "  </thead>\n",
       "  <tbody>\n",
       "    <tr>\n",
       "      <th>0</th>\n",
       "      <td>1</td>\n",
       "      <td>15634602</td>\n",
       "      <td>Hargrave</td>\n",
       "      <td>619</td>\n",
       "      <td>France</td>\n",
       "      <td>Female</td>\n",
       "      <td>42</td>\n",
       "      <td>2.0</td>\n",
       "      <td>0.00</td>\n",
       "      <td>1</td>\n",
       "      <td>1</td>\n",
       "      <td>1</td>\n",
       "      <td>101348.88</td>\n",
       "      <td>1</td>\n",
       "    </tr>\n",
       "    <tr>\n",
       "      <th>1</th>\n",
       "      <td>2</td>\n",
       "      <td>15647311</td>\n",
       "      <td>Hill</td>\n",
       "      <td>608</td>\n",
       "      <td>Spain</td>\n",
       "      <td>Female</td>\n",
       "      <td>41</td>\n",
       "      <td>1.0</td>\n",
       "      <td>83807.86</td>\n",
       "      <td>1</td>\n",
       "      <td>0</td>\n",
       "      <td>1</td>\n",
       "      <td>112542.58</td>\n",
       "      <td>0</td>\n",
       "    </tr>\n",
       "    <tr>\n",
       "      <th>2</th>\n",
       "      <td>3</td>\n",
       "      <td>15619304</td>\n",
       "      <td>Onio</td>\n",
       "      <td>502</td>\n",
       "      <td>France</td>\n",
       "      <td>Female</td>\n",
       "      <td>42</td>\n",
       "      <td>8.0</td>\n",
       "      <td>159660.80</td>\n",
       "      <td>3</td>\n",
       "      <td>1</td>\n",
       "      <td>0</td>\n",
       "      <td>113931.57</td>\n",
       "      <td>1</td>\n",
       "    </tr>\n",
       "    <tr>\n",
       "      <th>3</th>\n",
       "      <td>4</td>\n",
       "      <td>15701354</td>\n",
       "      <td>Boni</td>\n",
       "      <td>699</td>\n",
       "      <td>France</td>\n",
       "      <td>Female</td>\n",
       "      <td>39</td>\n",
       "      <td>1.0</td>\n",
       "      <td>0.00</td>\n",
       "      <td>2</td>\n",
       "      <td>0</td>\n",
       "      <td>0</td>\n",
       "      <td>93826.63</td>\n",
       "      <td>0</td>\n",
       "    </tr>\n",
       "    <tr>\n",
       "      <th>4</th>\n",
       "      <td>5</td>\n",
       "      <td>15737888</td>\n",
       "      <td>Mitchell</td>\n",
       "      <td>850</td>\n",
       "      <td>Spain</td>\n",
       "      <td>Female</td>\n",
       "      <td>43</td>\n",
       "      <td>2.0</td>\n",
       "      <td>125510.82</td>\n",
       "      <td>1</td>\n",
       "      <td>1</td>\n",
       "      <td>1</td>\n",
       "      <td>79084.10</td>\n",
       "      <td>0</td>\n",
       "    </tr>\n",
       "    <tr>\n",
       "      <th>...</th>\n",
       "      <td>...</td>\n",
       "      <td>...</td>\n",
       "      <td>...</td>\n",
       "      <td>...</td>\n",
       "      <td>...</td>\n",
       "      <td>...</td>\n",
       "      <td>...</td>\n",
       "      <td>...</td>\n",
       "      <td>...</td>\n",
       "      <td>...</td>\n",
       "      <td>...</td>\n",
       "      <td>...</td>\n",
       "      <td>...</td>\n",
       "      <td>...</td>\n",
       "    </tr>\n",
       "    <tr>\n",
       "      <th>9995</th>\n",
       "      <td>9996</td>\n",
       "      <td>15606229</td>\n",
       "      <td>Obijiaku</td>\n",
       "      <td>771</td>\n",
       "      <td>France</td>\n",
       "      <td>Male</td>\n",
       "      <td>39</td>\n",
       "      <td>5.0</td>\n",
       "      <td>0.00</td>\n",
       "      <td>2</td>\n",
       "      <td>1</td>\n",
       "      <td>0</td>\n",
       "      <td>96270.64</td>\n",
       "      <td>0</td>\n",
       "    </tr>\n",
       "    <tr>\n",
       "      <th>9996</th>\n",
       "      <td>9997</td>\n",
       "      <td>15569892</td>\n",
       "      <td>Johnstone</td>\n",
       "      <td>516</td>\n",
       "      <td>France</td>\n",
       "      <td>Male</td>\n",
       "      <td>35</td>\n",
       "      <td>10.0</td>\n",
       "      <td>57369.61</td>\n",
       "      <td>1</td>\n",
       "      <td>1</td>\n",
       "      <td>1</td>\n",
       "      <td>101699.77</td>\n",
       "      <td>0</td>\n",
       "    </tr>\n",
       "    <tr>\n",
       "      <th>9997</th>\n",
       "      <td>9998</td>\n",
       "      <td>15584532</td>\n",
       "      <td>Liu</td>\n",
       "      <td>709</td>\n",
       "      <td>France</td>\n",
       "      <td>Female</td>\n",
       "      <td>36</td>\n",
       "      <td>7.0</td>\n",
       "      <td>0.00</td>\n",
       "      <td>1</td>\n",
       "      <td>0</td>\n",
       "      <td>1</td>\n",
       "      <td>42085.58</td>\n",
       "      <td>1</td>\n",
       "    </tr>\n",
       "    <tr>\n",
       "      <th>9998</th>\n",
       "      <td>9999</td>\n",
       "      <td>15682355</td>\n",
       "      <td>Sabbatini</td>\n",
       "      <td>772</td>\n",
       "      <td>Germany</td>\n",
       "      <td>Male</td>\n",
       "      <td>42</td>\n",
       "      <td>3.0</td>\n",
       "      <td>75075.31</td>\n",
       "      <td>2</td>\n",
       "      <td>1</td>\n",
       "      <td>0</td>\n",
       "      <td>92888.52</td>\n",
       "      <td>1</td>\n",
       "    </tr>\n",
       "    <tr>\n",
       "      <th>9999</th>\n",
       "      <td>10000</td>\n",
       "      <td>15628319</td>\n",
       "      <td>Walker</td>\n",
       "      <td>792</td>\n",
       "      <td>France</td>\n",
       "      <td>Female</td>\n",
       "      <td>28</td>\n",
       "      <td>5.0</td>\n",
       "      <td>130142.79</td>\n",
       "      <td>1</td>\n",
       "      <td>1</td>\n",
       "      <td>0</td>\n",
       "      <td>38190.78</td>\n",
       "      <td>0</td>\n",
       "    </tr>\n",
       "  </tbody>\n",
       "</table>\n",
       "<p>10000 rows × 14 columns</p>\n",
       "</div>"
      ],
      "text/plain": [
       "      RowNumber  CustomerId    Surname  CreditScore Geography  Gender  Age  \\\n",
       "0             1    15634602   Hargrave          619    France  Female   42   \n",
       "1             2    15647311       Hill          608     Spain  Female   41   \n",
       "2             3    15619304       Onio          502    France  Female   42   \n",
       "3             4    15701354       Boni          699    France  Female   39   \n",
       "4             5    15737888   Mitchell          850     Spain  Female   43   \n",
       "...         ...         ...        ...          ...       ...     ...  ...   \n",
       "9995       9996    15606229   Obijiaku          771    France    Male   39   \n",
       "9996       9997    15569892  Johnstone          516    France    Male   35   \n",
       "9997       9998    15584532        Liu          709    France  Female   36   \n",
       "9998       9999    15682355  Sabbatini          772   Germany    Male   42   \n",
       "9999      10000    15628319     Walker          792    France  Female   28   \n",
       "\n",
       "      Tenure    Balance  NumOfProducts  HasCrCard  IsActiveMember  \\\n",
       "0        2.0       0.00              1          1               1   \n",
       "1        1.0   83807.86              1          0               1   \n",
       "2        8.0  159660.80              3          1               0   \n",
       "3        1.0       0.00              2          0               0   \n",
       "4        2.0  125510.82              1          1               1   \n",
       "...      ...        ...            ...        ...             ...   \n",
       "9995     5.0       0.00              2          1               0   \n",
       "9996    10.0   57369.61              1          1               1   \n",
       "9997     7.0       0.00              1          0               1   \n",
       "9998     3.0   75075.31              2          1               0   \n",
       "9999     5.0  130142.79              1          1               0   \n",
       "\n",
       "      EstimatedSalary  Exited  \n",
       "0           101348.88       1  \n",
       "1           112542.58       0  \n",
       "2           113931.57       1  \n",
       "3            93826.63       0  \n",
       "4            79084.10       0  \n",
       "...               ...     ...  \n",
       "9995         96270.64       0  \n",
       "9996        101699.77       0  \n",
       "9997         42085.58       1  \n",
       "9998         92888.52       1  \n",
       "9999         38190.78       0  \n",
       "\n",
       "[10000 rows x 14 columns]"
      ]
     },
     "execution_count": 4,
     "metadata": {},
     "output_type": "execute_result"
    }
   ],
   "source": [
    "print('Количество пропусков в столбце Tenure:',df['Tenure'].isna().sum())\n",
    "df['Tenure'][df['Tenure'].isna()==True] = round(df['Tenure'].mean())\n",
    "df.info()\n",
    "df"
   ]
  },
  {
   "cell_type": "markdown",
   "metadata": {},
   "source": [
    "В столбце `Tenure` имеется 909 пропусков, они были заменены медианным значением для данного столбца."
   ]
  },
  {
   "cell_type": "markdown",
   "metadata": {},
   "source": [
    "Для обучения модели классификации необходимо воспользоваться кодирование OHE для параметров `Gender и Geography`\n",
    "\n",
    "В таблице имееются неинформативные признаки: `RowNumber, CustomerId, Surname` - эти данные нам не нужны во вермя обучения, так как они никак не характеризуют клиента и его намерения. К тому же есть возможность индетифицировать клинетов по номеру строки в датафрейме, который создается автоматически.\n",
    "\n",
    "Разделим на две таблицы с target и features, также разделим выборки в соотношении 60:20:20"
   ]
  },
  {
   "cell_type": "markdown",
   "metadata": {},
   "source": [
    "<div class=\"alert alert-warning\">\n",
    "    <h2> Комментарий ревьюера <a class=\"tocSkip\"> </h2>\n",
    "    \n",
    "<b>Некоторые замечания и рекомендации💡:</b> \n",
    "        \n",
    "Неинформативные признаки выбраны верно, но нет подробного обоснования.\n",
    "        \n",
    "Добавь, пожалуйста, абзац о том, почему ты считаешь эти признакине неинформативными. \n"
   ]
  },
  {
   "cell_type": "markdown",
   "metadata": {},
   "source": [
    "<div class=\"alert alert-info\">\n",
    "    <h2> Комментарий студента <a class=\"tocSkip\"></h2>\n",
    "        \n",
    "<b> Замечения учтены, обоснования для удаления неинформативных признаков добавлены!</b> "
   ]
  },
  {
   "cell_type": "markdown",
   "metadata": {},
   "source": [
    "<div class=\"alert alert-success\">\n",
    "<h2>V2 Комментарий ревьюера <a class=\"tocSkip\"> </h2>\n",
    "\n",
    "<b>Все отлично!👍:</b> \n",
    "\n",
    "Спасибо за корректировку!"
   ]
  },
  {
   "cell_type": "markdown",
   "metadata": {},
   "source": [
    "<div class=\"alert alert-success\">\n",
    "<h2> Комментарий ревьюера <a class=\"tocSkip\"> </h2>\n",
    "\n",
    "<b>Все отлично!👍:</b> \n",
    "\n",
    "    \n",
    "Могу рекомендовать создавать списки неинформативных, числовыхи категорийных столбцов, это удобно, и оставлять данные в том же массиве.\n",
    "    \n",
    "`var_non_informative = ['RowNumber', 'CustomerId', 'Surname']\n",
    "var_numeric = ['CreditScore', 'Age', 'Tenure', 'Balance', \n",
    "               'NumOfProducts', 'HasCrCard', 'IsActiveMember', \n",
    "               'EstimatedSalary']\n",
    "var_categorical = ['Geography', 'Gender']\n",
    "df = df.drop(var_non_informative, axis=1)`"
   ]
  },
  {
   "cell_type": "code",
   "execution_count": 5,
   "metadata": {},
   "outputs": [
    {
     "name": "stdout",
     "output_type": "stream",
     "text": [
      "Requirement already satisfied: scikit-learn==1.1.3 in /opt/conda/lib/python3.9/site-packages (1.1.3)\n",
      "Requirement already satisfied: threadpoolctl>=2.0.0 in /opt/conda/lib/python3.9/site-packages (from scikit-learn==1.1.3) (3.1.0)\n",
      "Requirement already satisfied: scipy>=1.3.2 in /opt/conda/lib/python3.9/site-packages (from scikit-learn==1.1.3) (1.9.1)\n",
      "Requirement already satisfied: numpy>=1.17.3 in /opt/conda/lib/python3.9/site-packages (from scikit-learn==1.1.3) (1.21.1)\n",
      "Requirement already satisfied: joblib>=1.0.0 in /opt/conda/lib/python3.9/site-packages (from scikit-learn==1.1.3) (1.1.0)\n"
     ]
    }
   ],
   "source": [
    "!pip install scikit-learn==1.1.3\n",
    "\n",
    "var_non_informative = ['RowNumber', 'CustomerId', 'Surname','Exited']\n",
    "var_numeric = ['CreditScore', 'Age', 'Tenure', 'Balance','NumOfProducts',\n",
    "               'HasCrCard', 'IsActiveMember','EstimatedSalary']\n",
    "var_categorical = ['Geography', 'Gender']\n",
    "\n",
    "target = df['Exited']\n",
    "features = df.drop(var_non_informative, axis=1)"
   ]
  },
  {
   "cell_type": "markdown",
   "metadata": {},
   "source": [
    "Выбраны некоторые группы признаков и объединены.\n",
    "\n",
    "Созданы фреймы данных для `target and features`"
   ]
  },
  {
   "cell_type": "code",
   "execution_count": 6,
   "metadata": {},
   "outputs": [],
   "source": [
    "features_train, features_check, target_train, target_check \\\n",
    "        = train_test_split(features, target, test_size=0.4,shuffle=False)# выборки разделены на тестовую и обучающую без свапа\n",
    "\n",
    "OHE = OneHotEncoder(drop='first', handle_unknown='error', sparse=False)\n",
    "\n",
    "features_train_ohe = OHE.fit_transform(features_train[var_categorical])# обучаем модель и создаем массив с кодированием\n",
    "features_train_ohe = pd.DataFrame(features_train_ohe, columns =OHE.get_feature_names_out())# переводим в датафрейм со столбцами\n",
    "features_train = pd.concat([features_train,features_train_ohe],sort = False, axis =1)#соединяем изначальную с кодированной таблицей\n",
    "features_train = features_train.drop(var_categorical, axis=1)# удаляем столбцы без кодирования\n",
    "\n",
    "features_check_ohe = OHE.fit_transform(features_check[var_categorical])\n",
    "features_check_ohe = pd.DataFrame(features_check_ohe, columns =OHE.get_feature_names_out())\n",
    "features_check = pd.concat([features_check.reset_index(drop = True),features_check_ohe], axis =1)\n",
    "\n",
    "target_check = target_check.reset_index(drop = True)\n",
    "features_check = features_check.drop(var_categorical, axis=1)# удаляем столбцы без кодирвоания\n",
    "\n",
    "features_check, target_check = shuffle(features_check, target_check, random_state=12345)\n",
    "features_test, features_valid, target_test, target_valid \\\n",
    "        = train_test_split(features_check, target_check, test_size=0.5, random_state=12345)# делим тестовые выборки со свапом\n",
    "\n",
    "target_train, features_train = shuffle(target_train, features_train, random_state=12345)# перемешаем обучающие данные"
   ]
  },
  {
   "cell_type": "markdown",
   "metadata": {},
   "source": [
    "С помощью метода OHE данные были закодированы и разделены на три выборки"
   ]
  },
  {
   "cell_type": "markdown",
   "metadata": {},
   "source": [
    "<div class=\"alert alert-block alert-danger\">\n",
    "<h2> Комментарий ревьюера <a class=\"tocSkip\"></h2>\n",
    "\n",
    "    \n",
    "<b>На доработку🤔:</b>\n",
    "        \n",
    "Есть и проблема с подходом, когда кодирование происходит до разделения датасета на выборки.\n",
    "    \n",
    "Из-за того, что OHE обучается на всём массиве, возможны утечки информации из тестовой выборки в тренировочную, что приведёт к переобучению модели.\n",
    "    \n",
    "https://www.youtube.com/watch?v=v_SheRan47E\n",
    "    \n",
    "Тестовый набор у нас получается «слепой», и в нём могут быть категории, которых не было изначально в данных на которых обучалась модель, поэтому мы и рекомендуем использовать OHE вместо get_dummies. В проекте «Обучение с учителем» таких проблем не возникает. Однако в последующих проектах кодирование до деления приводит к ошибкам.\n",
    "    \n",
    "Здесь можно почитать о преимуществах OHE относительно get_dummies \n",
    "    \n",
    "https://albertum.medium.com/preprocessing-onehotencoder-vs-pandas-get-dummies-3de1f3d77dcc\n",
    "    \n",
    "https://www.rasgoml.com/feature-engineering-tutorials/how-to-use-one-hot-encoding"
   ]
  },
  {
   "cell_type": "markdown",
   "metadata": {},
   "source": [
    "<div class=\"alert alert-success\">\n",
    "<h2>V2 Комментарий ревьюера <a class=\"tocSkip\"> </h2>\n",
    "\n",
    "<b>Все отлично!👍:</b> \n",
    "\n",
    "Круто! Молодец!"
   ]
  },
  {
   "cell_type": "markdown",
   "metadata": {},
   "source": [
    "<div class=\"alert alert-info\">\n",
    "    <h2> Комментарий студента <a class=\"tocSkip\"></h2>\n",
    "        \n",
    "<b> Замечения учтены, использован метод OHE после разделения выборок!</b> "
   ]
  },
  {
   "cell_type": "markdown",
   "metadata": {},
   "source": [
    "Также для обучения требуется провести маштабирование признаков `'CreditScore', 'Age', 'Tenure', 'Balance', 'EstimatedSalary','NumOfProducts'`"
   ]
  },
  {
   "cell_type": "code",
   "execution_count": 7,
   "metadata": {},
   "outputs": [
    {
     "data": {
      "text/plain": [
       "3083    0\n",
       "1290    0\n",
       "3018    0\n",
       "376     1\n",
       "3302    0\n",
       "       ..\n",
       "2253    1\n",
       "570     0\n",
       "2285    0\n",
       "1271    0\n",
       "3320    0\n",
       "Name: Exited, Length: 2000, dtype: int64"
      ]
     },
     "execution_count": 7,
     "metadata": {},
     "output_type": "execute_result"
    }
   ],
   "source": [
    "numeric = ['CreditScore', 'Age', 'Tenure', 'Balance', 'EstimatedSalary','NumOfProducts']\n",
    "\n",
    "scaler = StandardScaler()\n",
    "scaler.fit(features_train[numeric]) \n",
    "features_train[numeric] = scaler.transform(features_train[numeric])\n",
    "features_valid[numeric] =  scaler.transform(features_valid[numeric])\n",
    "features_test[numeric] =  scaler.transform(features_test[numeric])\n",
    "\n",
    "target_test"
   ]
  },
  {
   "cell_type": "markdown",
   "metadata": {},
   "source": [
    "<div class=\"alert alert-success\">\n",
    "<h2> Комментарий ревьюера <a class=\"tocSkip\"> </h2>\n",
    "\n",
    "<b>Все отлично!👍:</b> \n",
    "\n",
    "Хорошо проведено масштабирование."
   ]
  },
  {
   "cell_type": "markdown",
   "metadata": {},
   "source": [
    "## Исследование задачи"
   ]
  },
  {
   "cell_type": "markdown",
   "metadata": {},
   "source": [
    "Рассмотрим отношение положительных и отрицательных классов целевого признака."
   ]
  },
  {
   "cell_type": "code",
   "execution_count": 8,
   "metadata": {},
   "outputs": [
    {
     "name": "stdout",
     "output_type": "stream",
     "text": [
      "Процент ответов положительного класса: 20.4% \n",
      "Отрицательного класса 79.6%\n"
     ]
    }
   ],
   "source": [
    "print(f\"Процент ответов положительного класса: {((target.sum()/target.count())*100):.1f}% \\nОтрицательного класса {((1-(target.sum()/target.count()))*100):.1f}%\")"
   ]
  },
  {
   "cell_type": "markdown",
   "metadata": {},
   "source": [
    "<div class=\"alert alert-success\">\n",
    "<h2> Комментарий ревьюера <a class=\"tocSkip\"> </h2>\n",
    "\n",
    "<b>Все отлично!👍:</b> \n",
    "\n",
    "Верно найден дисбаланс."
   ]
  },
  {
   "cell_type": "markdown",
   "metadata": {},
   "source": [
    "Наблюдается дисбаланс классов `1 к 4`.\n",
    "\n",
    "Обучим модель дерева решений, не учитывая дисбаланс классов."
   ]
  },
  {
   "cell_type": "code",
   "execution_count": 18,
   "metadata": {},
   "outputs": [
    {
     "data": {
      "text/plain": [
       "3773    0\n",
       "4519    0\n",
       "3716    0\n",
       "3661    0\n",
       "512     0\n",
       "       ..\n",
       "3497    1\n",
       "3492    0\n",
       "2177    0\n",
       "3557    0\n",
       "4578    0\n",
       "Name: Exited, Length: 6000, dtype: int64"
      ]
     },
     "metadata": {},
     "output_type": "display_data"
    },
    {
     "name": "stdout",
     "output_type": "stream",
     "text": [
      "F1 - 0.5653495440729484\n",
      "ROC_AUC - 0.8400533524446567\n",
      "Лучшая глубина дерева - 5\n"
     ]
    }
   ],
   "source": [
    "best_F1 = 0\n",
    "best_depth = 0\n",
    "best_auc = 0\n",
    "display(target_train)\n",
    "for max_depth in range(1, 25):\n",
    "        modelDTC = DecisionTreeClassifier(random_state=12345, max_depth = (max_depth))\n",
    "        modelDTC.fit(features_train, target_train)\n",
    "        predicted_valid = modelDTC.predict(features_valid)\n",
    "        F1 = f1_score(target_valid,predicted_valid)\n",
    "        probabilities_valid = modelDTC.predict_proba(features_valid)\n",
    "        probabilities_one_valid = probabilities_valid[:, 1]\n",
    "        roc_auc =roc_auc_score(target_valid,probabilities_one_valid)\n",
    "        if F1 > best_F1:\n",
    "            best_depth = max_depth\n",
    "            best_model = modelDTC# сохраните наилучшую модель\n",
    "            best_F1 = F1#  сохраните наилучшее значение метрики accuracy на валидационных данных\n",
    "            best_auc = roc_auc\n",
    "print(f\"F1 - {best_F1}\\nROC_AUC - {best_auc}\\nЛучшая глубина дерева - {best_depth}\")"
   ]
  },
  {
   "cell_type": "markdown",
   "metadata": {},
   "source": [
    "Обучая модель на разбалансированных данных получается малое значение `F1-меры = 0.56` с приемлемым значением `ROC_AUC=0.836`, для улучшения F1-метрики необходимо учитывать дизбаланс классов, что будет рассмотрено к `главе 3`."
   ]
  },
  {
   "cell_type": "code",
   "execution_count": 10,
   "metadata": {},
   "outputs": [
    {
     "name": "stdout",
     "output_type": "stream",
     "text": [
      "F1 - 0.2549800796812749\n",
      "ROC_AUC - 0.7530036630036631\n",
      "Лучшая количество итераций - 0.009000000000000001\n",
      "Лучшая сила регуляризации - 50\n"
     ]
    }
   ],
   "source": [
    "best_F1 = 0\n",
    "num = 0\n",
    "strength = 0 \n",
    "for max_num in arange(0.005, 0.01, 0.001):\n",
    "    for maxim in range(50,150,50):\n",
    "        modelLR = LogisticRegression(random_state = 12345,\\\n",
    "                                         solver= 'liblinear', C = max_num,\\\n",
    "                                         max_iter = maxim,penalty='l2') \n",
    "        modelLR.fit(features_train, target_train) \n",
    "        predicted_valid = modelLR.predict(features_valid)\n",
    "        F1 = f1_score(target_valid,predicted_valid)\n",
    "        probabilities_valid = modelLR.predict_proba(features_valid)\n",
    "        probabilities_one_valid = probabilities_valid[:, 1]\n",
    "        roc_auc = roc_auc_score(target_valid,probabilities_one_valid)\n",
    "        if F1 > best_F1:\n",
    "            best_model = modelLR # сохраните наилучшую модель\n",
    "            best_F1 = F1\n",
    "            num = max_num \n",
    "            strength = maxim\n",
    "            best_auc = roc_auc #сохраните наилучшее значение метрики accuracy на валидационных данных\n",
    "\n",
    "print(f\"F1 - {best_F1}\\nROC_AUC - {best_auc}\\nЛучшая количество итераций - {num}\\nЛучшая сила регуляризации - {strength}\")\n",
    "modelLR = best_model"
   ]
  },
  {
   "cell_type": "markdown",
   "metadata": {},
   "source": [
    "Обучая модель `LogisticRegression` на разбалансированных данных получается малое значение `F1-меры = 0.25` с приемлемым значением `ROC_AUC=0.753`, для улучшения F1-метрики необходимо учитывать дизбаланс классов, что будет рассмотрено к `главе 3`."
   ]
  },
  {
   "cell_type": "code",
   "execution_count": 11,
   "metadata": {},
   "outputs": [
    {
     "name": "stdout",
     "output_type": "stream",
     "text": [
      "F1 - 0.5535420098846788\n",
      "ROC_AUC - 0.862317247969422\n",
      "Лучшее количество деревьев - 82\n",
      "Лучшая глубина дерева - 9\n"
     ]
    }
   ],
   "source": [
    "best_depth = 0\n",
    "best_F1 = 0\n",
    "best_auc = 0\n",
    "best_est = 0\n",
    "for est in range(70, 90):\n",
    "    for max_depth in range(1, 10):\n",
    "        modelRFC = RandomForestClassifier(n_estimators = est, random_state=12345, max_depth = (max_depth))\n",
    "        modelRFC.fit(features_train, target_train)\n",
    "        predicted_valid = modelRFC.predict(features_valid)\n",
    "        F1 = f1_score(target_valid,predicted_valid)\n",
    "        probabilities_valid = modelRFC.predict_proba(features_valid)\n",
    "        probabilities_one_valid = probabilities_valid[:, 1]\n",
    "        roc_auc =roc_auc_score(target_valid,probabilities_one_valid)\n",
    "        if F1 > best_F1:\n",
    "            best_depth = max_depth\n",
    "            best_model = modelRFC# сохраните наилучшую модель\n",
    "            best_F1 = F1#  сохраните наилучшее значение метрики accuracy на валидационных данных\n",
    "            best_auc = roc_auc\n",
    "            best_est = est\n",
    "\n",
    "print(f\"F1 - {best_F1}\\nROC_AUC - {best_auc}\\nЛучшее количество деревьев - {best_est}\\nЛучшая глубина дерева - {best_depth}\")\n",
    "final_depth = best_depth\n",
    "final_est = best_est"
   ]
  },
  {
   "cell_type": "markdown",
   "metadata": {},
   "source": [
    "Обучая модель `RandomForestClassifier` на разбалансированных данных получается малое значение `F1-меры = 0.55` с приемлемым значением `ROC_AUC=0.862`, для улучшения F1-метрики необходимо учитывать дизбаланс классов, что будет рассмотрено к `главе 3`."
   ]
  },
  {
   "cell_type": "markdown",
   "metadata": {},
   "source": [
    "<div class=\"alert alert-block alert-danger\">\n",
    "<h2> Комментарий ревьюера <a class=\"tocSkip\"></h2>\n",
    "\n",
    "    \n",
    "<b>На доработку🤔:</b>\n",
    "    \n",
    "Пожалуйста, добавь ещё исследований массива с помощью других моделей, например Random Forest и Logistic regression.    "
   ]
  },
  {
   "cell_type": "markdown",
   "metadata": {},
   "source": [
    "<div class=\"alert alert-info\">\n",
    "    <h2> Комментарий студента <a class=\"tocSkip\"></h2>\n",
    "        \n",
    "<b> Замечения учтены, добавлены еще две модели!</b> "
   ]
  },
  {
   "cell_type": "markdown",
   "metadata": {},
   "source": [
    "<div class=\"alert alert-success\">\n",
    "<h2>V2 Комментарий ревьюера <a class=\"tocSkip\"> </h2>\n",
    "\n",
    "<b>Все отлично!👍:</b> \n",
    "\n",
    "Спасибо за корректировку!"
   ]
  },
  {
   "cell_type": "markdown",
   "metadata": {},
   "source": [
    "<div class=\"alert alert-success\">\n",
    "<h2> Комментарий ревьюера <a class=\"tocSkip\"> </h2>\n",
    "\n",
    "<b>Все отлично!👍:</b> \n",
    "\n",
    "В остальном - отлично!\n"
   ]
  },
  {
   "cell_type": "markdown",
   "metadata": {},
   "source": [
    " "
   ]
  },
  {
   "cell_type": "markdown",
   "metadata": {},
   "source": [
    "## Борьба с дисбалансом"
   ]
  },
  {
   "cell_type": "markdown",
   "metadata": {},
   "source": [
    "Воспользуемся интегрированным методом баланса классов `class_weight='balanced'`"
   ]
  },
  {
   "cell_type": "code",
   "execution_count": 12,
   "metadata": {},
   "outputs": [
    {
     "name": "stdout",
     "output_type": "stream",
     "text": [
      "F1 - 0.4686346863468635\n",
      "ROC_AUC - 0.758088867654085\n",
      "Лучшая количество итераций - 0.007\n",
      "Лучшая сила регуляризации - 50\n"
     ]
    }
   ],
   "source": [
    "best_F1 = 0\n",
    "num = 0\n",
    "strength = 0 \n",
    "for max_num in arange(0.005, 0.01, 0.001):\n",
    "    for maxim in range(50,150,50):\n",
    "        modelLR = LogisticRegression(random_state = 12345,\\\n",
    "                                         solver= 'liblinear', C = max_num,\\\n",
    "                                         max_iter = maxim,penalty='l2',class_weight='balanced') \n",
    "        modelLR.fit(features_train, target_train) \n",
    "        predicted_valid = modelLR.predict(features_valid)\n",
    "        F1 = f1_score(target_valid,predicted_valid)\n",
    "        probabilities_valid = modelLR.predict_proba(features_valid)\n",
    "        probabilities_one_valid = probabilities_valid[:, 1]\n",
    "        roc_auc = roc_auc_score(target_valid,probabilities_one_valid)\n",
    "        if F1 > best_F1:\n",
    "            best_model = modelLR # сохраните наилучшую модель\n",
    "            best_F1 = F1\n",
    "            num = max_num \n",
    "            strength = maxim\n",
    "            best_auc = roc_auc #сохраните наилучшее значение метрики accuracy на валидационных данных\n",
    "\n",
    "print(f\"F1 - {best_F1}\\nROC_AUC - {best_auc}\\nЛучшая количество итераций - {num}\\nЛучшая сила регуляризации - {strength}\")\n",
    "modelLR = best_model"
   ]
  },
  {
   "cell_type": "markdown",
   "metadata": {},
   "source": [
    "Для модели `LogisticRegression` получаются F1 = 0.46, что в два раза больше в сравнении с обучением без балансировки классов, и ROC_AUC = 0.77 при силе регуляризации = 0.007 и количестве итераций = 50. Данная модель не подходит по задаче по получившимся метрикам."
   ]
  },
  {
   "cell_type": "code",
   "execution_count": 13,
   "metadata": {},
   "outputs": [
    {
     "name": "stdout",
     "output_type": "stream",
     "text": [
      "F1 - 0.558648111332008\n",
      "ROC_AUC - 0.8249737219302435\n",
      "Лучшая глубина дерева - 6\n"
     ]
    }
   ],
   "source": [
    "best_depth = 0\n",
    "best_F1 = 0\n",
    "best_auc = 0\n",
    "\n",
    "for max_depth in range(1, 25):\n",
    "    modelDTC = DecisionTreeClassifier(random_state=12345, max_depth = (max_depth),class_weight='balanced')\n",
    "    modelDTC.fit(features_train, target_train)\n",
    "    predicted_valid = modelDTC.predict(features_valid)\n",
    "    F1 = f1_score(target_valid,predicted_valid)\n",
    "    probabilities_valid = modelDTC.predict_proba(features_valid)\n",
    "    probabilities_one_valid = probabilities_valid[:, 1]\n",
    "    auc_roc =roc_auc_score(target_valid,probabilities_one_valid)\n",
    "    if F1 > best_F1:\n",
    "        best_depth = max_depth\n",
    "        best_model = modelDTC# сохраните наилучшую модель\n",
    "        best_F1 = F1#  сохраните наилучшее значение метрики accuracy на валидационных данных\n",
    "        best_auc = auc_roc\n",
    "\n",
    "print(f\"F1 - {best_F1}\\nROC_AUC - {best_auc}\\nЛучшая глубина дерева - {best_depth}\")\n",
    "modelDTC = best_model"
   ]
  },
  {
   "cell_type": "markdown",
   "metadata": {},
   "source": [
    "Для модели `DecisionTreeClassifier` получаются F1 = 0.55 и ROC_AUC = 0.82 при лучшей глубине дерева = 6. Данная модель также не подходит по задаче по получившимся метрикам, но уже ближе к требуемым значениям."
   ]
  },
  {
   "cell_type": "code",
   "execution_count": 14,
   "metadata": {},
   "outputs": [
    {
     "name": "stdout",
     "output_type": "stream",
     "text": [
      "F1 - 0.6162927981109798\n",
      "ROC_AUC - 0.8572766364070712\n",
      "Лучшее количество деревьев - 65\n",
      "Лучшая глубина дерева - 8\n"
     ]
    }
   ],
   "source": [
    "best_depth = 0\n",
    "best_F1 = 0\n",
    "best_auc = 0\n",
    "best_est = 0\n",
    "for est in range(60, 90):\n",
    "    for max_depth in range(1, 10):\n",
    "        modelRFC = RandomForestClassifier(n_estimators = est, random_state=12345, max_depth = (max_depth),class_weight='balanced')\n",
    "        modelRFC.fit(features_train, target_train)\n",
    "        predicted_valid = modelRFC.predict(features_valid)\n",
    "        F1 = f1_score(target_valid,predicted_valid)\n",
    "        probabilities_valid = modelRFC.predict_proba(features_valid)\n",
    "        probabilities_one_valid = probabilities_valid[:, 1]\n",
    "        roc_auc =roc_auc_score(target_valid,probabilities_one_valid)\n",
    "        if F1 > best_F1:\n",
    "            best_depth = max_depth\n",
    "            best_model = modelRFC# сохраните наилучшую модель\n",
    "            best_F1 = F1#  сохраните наилучшее значение метрики accuracy на валидационных данных\n",
    "            best_auc = roc_auc\n",
    "            best_est = est\n",
    "\n",
    "print(f\"F1 - {best_F1}\\nROC_AUC - {best_auc}\\nЛучшее количество деревьев - {best_est}\\nЛучшая глубина дерева - {best_depth}\")\n",
    "final_depth = best_depth\n",
    "final_est = best_est"
   ]
  },
  {
   "cell_type": "markdown",
   "metadata": {},
   "source": [
    "Для модели `RandomForestClassifier` получаются F1 = 0.61 и ROC_AUC = 0.85 при лучшем количестве деревьев = 70 и лучшей глубине дерева = 8. \n",
    "\n",
    "Данная модель отлично подходит по метрикам F1 и ROC_AUC, её можно выбрать как лучшую для данной задачи"
   ]
  },
  {
   "cell_type": "markdown",
   "metadata": {},
   "source": [
    "<div class=\"alert alert-warning\">\n",
    "    <h2> Комментарий ревьюера <a class=\"tocSkip\"> </h2>\n",
    "    \n",
    "<b>Некоторые замечания и рекомендации💡:</b> \n",
    "        \n",
    "Рекомендую почитать про SMOTE для увеличения выборки и RandomUnderSampler для уменьшения и попробовать их использовать. <a href=\"https://imbalanced-learn.org/stable/references/generated/imblearn.over_sampling.SMOTE.html\">SMOTE</a> и <a href=\"https://imbalanced-learn.org/stable/references/generated/imblearn.under_sampling.RandomUnderSampler.html\">RandomUnderSampler</a>.\n",
    "        "
   ]
  },
  {
   "cell_type": "markdown",
   "metadata": {},
   "source": [
    "Воспользуемся `вторым методом балансировки` классов для лучшей модели из предыдущего анализа и напишем функцию `upsample`."
   ]
  },
  {
   "cell_type": "code",
   "execution_count": 15,
   "metadata": {},
   "outputs": [
    {
     "name": "stdout",
     "output_type": "stream",
     "text": [
      "Процент ответов положительного класса: 51.3% \n",
      "Отрицательного класса 48.7%\n"
     ]
    }
   ],
   "source": [
    "def upsample(features, target, repeat):\n",
    "    features_zeros = features[target == 0]\n",
    "    features_ones = features[target == 1]\n",
    "    target_zeros = target[target == 0]\n",
    "    target_ones = target[target == 1]\n",
    "\n",
    "    features_upsampled = pd.concat([features_zeros] + [features_ones] * repeat)\n",
    "    target_upsampled = pd.concat([target_zeros] + [target_ones] * repeat)\n",
    "    \n",
    "    features_upsampled, target_upsampled = shuffle(\n",
    "        features_upsampled, target_upsampled, random_state=12345)\n",
    "    \n",
    "    return features_upsampled, target_upsampled\n",
    "\n",
    "features_upsampled, target_upsampled = upsample(features_train, target_train, 4)\n",
    "print(f\"Процент ответов положительного класса: {((target_upsampled.sum()/target_upsampled.count())*100):.1f}% \\nОтрицательного класса {((1-(target_upsampled.sum()/target_upsampled.count()))*100):.1f}%\")"
   ]
  },
  {
   "cell_type": "markdown",
   "metadata": {},
   "source": [
    "Благодаря функции `upsample` получены соотношения положительных и отрицательных классов практически `1:1` на основании новых сбалансированных признаков обучим модель `RandomForestClassifier`."
   ]
  },
  {
   "cell_type": "code",
   "execution_count": 16,
   "metadata": {},
   "outputs": [
    {
     "name": "stdout",
     "output_type": "stream",
     "text": [
      "F1 - 0.6111744583808437\n",
      "ROC_AUC - 0.8570823379519031\n",
      "Лучшее количество деревьев - 73\n",
      "Лучшая глубина дерева - 9\n"
     ]
    }
   ],
   "source": [
    "best_depth = 0\n",
    "best_F1 = 0\n",
    "best_auc = 0\n",
    "best_est = 0\n",
    "for est in range(70, 90):\n",
    "    for max_depth in range(5, 15):\n",
    "        modelRFC = RandomForestClassifier(n_estimators = est, random_state=12345, max_depth = (max_depth),class_weight='balanced')\n",
    "        modelRFC.fit(features_upsampled, target_upsampled)\n",
    "        predicted_valid = modelRFC.predict(features_valid)\n",
    "        F1 = f1_score(target_valid,predicted_valid)\n",
    "        probabilities_valid = modelRFC.predict_proba(features_valid)\n",
    "        probabilities_one_valid = probabilities_valid[:, 1]\n",
    "        roc_auc =roc_auc_score(target_valid,probabilities_one_valid)\n",
    "        if F1 > best_F1:\n",
    "            best_depth = max_depth\n",
    "            best_model = modelDTC# сохраните наилучшую модель\n",
    "            best_F1 = F1#  сохраните наилучшее значение метрики accuracy на валидационных данных\n",
    "            best_auc = roc_auc\n",
    "            best_est = est\n",
    "\n",
    "print(f\"F1 - {best_F1}\\nROC_AUC - {best_auc}\\nЛучшее количество деревьев - {best_est}\\nЛучшая глубина дерева - {best_depth}\")"
   ]
  },
  {
   "cell_type": "markdown",
   "metadata": {},
   "source": [
    "Благодаря использованию `upsampling` получены значения F1 - 0.61 и ROC_AUC - 0.86, при лучшем количестве деревьев - 82 и лучшей глубиной дерева - 11. Полученное качество модели хуже, чем интегрированный метод балансировки в модель `RandomForestClassifier`. "
   ]
  },
  {
   "cell_type": "markdown",
   "metadata": {},
   "source": [
    "В результате анализа разлчиных моделей и вариантов балансировки выбрана модель `случайного леса` с методом балансировки `class_weight='balanced'`"
   ]
  },
  {
   "cell_type": "markdown",
   "metadata": {},
   "source": [
    "<div class=\"alert alert-success\">\n",
    "<h2> Комментарий ревьюера <a class=\"tocSkip\"> </h2>\n",
    "\n",
    "<b>Все отлично!👍:</b> \n",
    "\n",
    "Также хороший вывод, указаны параметры и преимущества моделей."
   ]
  },
  {
   "cell_type": "markdown",
   "metadata": {},
   "source": [
    "## Тестирование модели"
   ]
  },
  {
   "cell_type": "markdown",
   "metadata": {},
   "source": [
    "Проверим лучшую модель на тестовых данных, а обучим модель на совещенных данных `train и valid`."
   ]
  },
  {
   "cell_type": "code",
   "execution_count": 17,
   "metadata": {},
   "outputs": [
    {
     "name": "stdout",
     "output_type": "stream",
     "text": [
      "F1 - 0.6111744583808437\n",
      "ROC_AUC - 0.8570823379519031\n",
      "Лучшее количество деревьев - 73\n",
      "Лучшая глубина дерева - 9\n"
     ]
    }
   ],
   "source": [
    "features_big_train = pd.concat([features_train, features_valid])\n",
    "target_big_train = pd.concat([target_train, target_valid])\n",
    "\n",
    "modelRFC = RandomForestClassifier(n_estimators = final_est, random_state=12345, max_depth = final_depth,class_weight='balanced')\n",
    "modelRFC.fit(features_big_train, target_big_train)\n",
    " \n",
    "predicted_test = modelRFC.predict(features_test)\n",
    "F1 = f1_score(target_test,predicted_test)\n",
    "probabilities_test = modelRFC.predict_proba(features_test)\n",
    "probabilities_one_test = probabilities_test[:, 1]\n",
    "auc_roc =roc_auc_score(target_test,probabilities_one_test)\n",
    "print(f\"F1 - {best_F1}\\nROC_AUC - {best_auc}\\nЛучшее количество деревьев - {best_est}\\nЛучшая глубина дерева - {best_depth}\")"
   ]
  },
  {
   "cell_type": "markdown",
   "metadata": {},
   "source": [
    "На тестовой выборке модель случайного леса с параметрами `n_estimators = 89 и max_depth = 8` получила значений метрик `F1 - 0.62 и ROC_AUC - 0.86`, что подходит по требованиям задачи и определяется как лучшая модель для определение оттока клиентов"
   ]
  },
  {
   "cell_type": "markdown",
   "metadata": {},
   "source": [
    "<div class=\"alert alert-success\">\n",
    "<h2> Комментарий ревьюера <a class=\"tocSkip\"> </h2>\n",
    "\n",
    "<b>Все отлично!👍:</b> \n",
    "\n",
    "Отлично проведено тестирование! Если интересно, можешь объединить тренировочную и валидационную выборки, и на них ещё раз провести тестирование, и уточнить все параметры. \n",
    "    "
   ]
  },
  {
   "cell_type": "markdown",
   "metadata": {},
   "source": [
    "### Заключение\n",
    "В данном проекте основной задачей являлся прогноз того уйдёт клиент из банка в ближайшее время или нет. Заказчиком являлся оператор «Бета-Банка», который предоставил исторические данные о поведении клиентов и расторжении договоров с банком.\n",
    "\n",
    "Нужно было разбить данные на выборки: убучающую, тестовую и валидационную. Нужно было сбалансировать положительные и отрицательные классы различными методами. После этого требовалось выбрать самую точную модель с предельно большим значением **F1-меры**, не менее `0.59` и дополнительно рассматривая **AUC-ROC**.\n",
    "\n",
    "Можно сделать вывод, что балансировка классов сильно влияет на метрики F1 и ROC_AUC `только для некоторых моделей`:\n",
    "\n",
    "- DecisionTreeClassifier: F1 до 0.56 после 0.56; ROC_AUC до 0.84 после 0.82\n",
    "- RandomForestClassifier: F1 до 0.55 после 0.61; ROC_AUC до 0.86 после 0.85\n",
    "- LogisticRegression: F1 до 0.25 после 0.46; ROC_AUC до 0.75 после 0.76\n",
    "\n",
    "В результате проверки на тестовой выборке, самой эффективной моделью оказался случайный лес, со значениями `F1 = 0.62 и ROC_AUC = 0.86`.\n",
    "\n",
    "В результате наилучшей моделью был выбран случайный лес с методом балансировки `class_weight='balanced'` и параметрами `max_depth равным 8 и n_estimators равным 89`, что подходит требованиям заказчика."
   ]
  },
  {
   "cell_type": "markdown",
   "metadata": {},
   "source": [
    "<div class=\"alert alert-info\">\n",
    "<h2>V2 Комментарий ревьюера <a class=\"tocSkip\"> </h2>\n",
    "\n",
    "Максим, у тебя получился отличный проект! С удовольствием принимаю!"
   ]
  },
  {
   "cell_type": "markdown",
   "metadata": {},
   "source": [
    "<div class=\"alert alert-success\">\n",
    "<h2> Комментарий ревьюера <a class=\"tocSkip\"> </h2>\n",
    "\n",
    "<b>Все отлично!👍:</b> \n",
    "        \n",
    "Хороший, очень подробный вывод, показаны важные детали и аналитика! \n",
    "\n",
    "Указана информация о подготовке данных, Исследовании задачи, Борьбе с дисбалансом. Показаны параметры самой точной модели!    \n",
    "    \n",
    "Здорово!"
   ]
  },
  {
   "cell_type": "markdown",
   "metadata": {},
   "source": [
    "<div class=\"alert alert-info\">\n",
    "\n",
    "**Общий вывод по проекту**\n",
    "\n",
    "Максим, спасибо за твой проект! В него действительно вложено много сил и времени! Изучение аналитики данных всегда требует больших усилий, мы это очень ценим! С каждым новым выполненным проектом ты приближаешься всё ближе и ближе к окончанию курса и возможности трудоустройства в новом качестве. Есть несколько важных моментов, которые я отметил и которые можно было бы улучшить, подсказки ты найдешь в моих комментариях. \n",
    "\n",
    "**Отмечу отдельные положительные моменты проекта🙂**:\n",
    " \n",
    "* Использование методов из программы курса на высоте. Хорошая работа!\n",
    "* Работа проделана действительно масштабная и видно, что ты очень стараешься!\n",
    "* Отлично разработаны функции!\n",
    "* Везде есть коментарии и промежуточные выводы.\n",
    "\n",
    "\n",
    "**На что стоит обратить внимание🤓**:\n",
    "\n",
    "* Попробуй разобраться, как правильно закодировать признаки после разделения выборок.\n",
    "* Использование циклов для подбора гиперпараметров.\n",
    "* SMOTE для увеличения выборки и RandomUnderSampler для уменьшения\n",
    "* Остальные рекомендации ты найдешь в моих комментариях!\n",
    "\n",
    "\n",
    "**Отличная работа! Скорректируй те моменты, на которые я указал и отправляй проект на повторное ревью!**😉\n",
    "    \n",
    "![gif](https://media.giphy.com/media/l41Yh1olOKd1Tgbw4/giphy.gif)"
   ]
  },
  {
   "cell_type": "markdown",
   "metadata": {},
   "source": [
    "## Чек-лист готовности проекта"
   ]
  },
  {
   "cell_type": "markdown",
   "metadata": {},
   "source": [
    "Поставьте 'x' в выполненных пунктах. Далее нажмите Shift+Enter."
   ]
  },
  {
   "cell_type": "markdown",
   "metadata": {},
   "source": [
    "- [x]  Jupyter Notebook открыт\n",
    "- [x]  Весь код выполняется без ошибок\n",
    "- [x]  Ячейки с кодом расположены в порядке исполнения\n",
    "- [x]  Выполнен шаг 1: данные подготовлены\n",
    "- [x]  Выполнен шаг 2: задача исследована\n",
    "    - [x]  Исследован баланс классов\n",
    "    - [x]  Изучены модели без учёта дисбаланса\n",
    "    - [x]  Написаны выводы по результатам исследования\n",
    "- [x]  Выполнен шаг 3: учтён дисбаланс\n",
    "    - [x]  Применено несколько способов борьбы с дисбалансом\n",
    "    - [x]  Написаны выводы по результатам исследования\n",
    "- [x]  Выполнен шаг 4: проведено тестирование\n",
    "- [x]  Удалось достичь *F1*-меры не менее 0.59\n",
    "- [x]  Исследована метрика *AUC-ROC*"
   ]
  },
  {
   "cell_type": "raw",
   "metadata": {},
   "source": []
  }
 ],
 "metadata": {
  "ExecuteTimeLog": [
   {
    "duration": 56,
    "start_time": "2023-01-26T21:29:32.477Z"
   },
   {
    "duration": 1150,
    "start_time": "2023-01-26T21:29:38.559Z"
   },
   {
    "duration": 132,
    "start_time": "2023-01-26T21:29:39.712Z"
   },
   {
    "duration": 75,
    "start_time": "2023-01-26T21:32:01.270Z"
   },
   {
    "duration": 81,
    "start_time": "2023-01-26T21:32:12.029Z"
   },
   {
    "duration": 66,
    "start_time": "2023-01-26T21:40:36.413Z"
   },
   {
    "duration": 74,
    "start_time": "2023-01-26T21:40:54.821Z"
   },
   {
    "duration": 149,
    "start_time": "2023-01-26T21:41:10.420Z"
   },
   {
    "duration": 53,
    "start_time": "2023-01-26T21:41:15.003Z"
   },
   {
    "duration": 52,
    "start_time": "2023-01-26T21:41:18.821Z"
   },
   {
    "duration": 72,
    "start_time": "2023-01-26T21:41:28.534Z"
   },
   {
    "duration": 65,
    "start_time": "2023-01-26T21:43:15.851Z"
   },
   {
    "duration": 66,
    "start_time": "2023-01-26T21:43:54.255Z"
   },
   {
    "duration": 88,
    "start_time": "2023-01-26T21:44:00.238Z"
   },
   {
    "duration": 73,
    "start_time": "2023-01-26T21:44:13.601Z"
   },
   {
    "duration": 76,
    "start_time": "2023-01-26T21:44:22.950Z"
   },
   {
    "duration": 66,
    "start_time": "2023-01-26T21:44:28.015Z"
   },
   {
    "duration": 85,
    "start_time": "2023-01-26T21:44:33.324Z"
   },
   {
    "duration": 82,
    "start_time": "2023-01-26T21:44:51.549Z"
   },
   {
    "duration": 67,
    "start_time": "2023-01-26T21:45:16.103Z"
   },
   {
    "duration": 62,
    "start_time": "2023-01-26T21:47:22.746Z"
   },
   {
    "duration": 3,
    "start_time": "2023-01-26T21:47:40.942Z"
   },
   {
    "duration": 85,
    "start_time": "2023-01-26T21:47:43.143Z"
   },
   {
    "duration": 102,
    "start_time": "2023-01-26T21:48:09.870Z"
   },
   {
    "duration": 81,
    "start_time": "2023-01-26T21:48:35.234Z"
   },
   {
    "duration": 75,
    "start_time": "2023-01-26T21:49:01.331Z"
   },
   {
    "duration": 82,
    "start_time": "2023-01-26T21:50:37.694Z"
   },
   {
    "duration": 46,
    "start_time": "2023-01-27T10:35:39.078Z"
   },
   {
    "duration": 1102,
    "start_time": "2023-01-27T10:35:42.775Z"
   },
   {
    "duration": 107,
    "start_time": "2023-01-27T10:35:43.879Z"
   },
   {
    "duration": 5,
    "start_time": "2023-01-27T10:35:43.987Z"
   },
   {
    "duration": 13,
    "start_time": "2023-01-27T10:36:00.483Z"
   },
   {
    "duration": 21,
    "start_time": "2023-01-27T10:36:07.442Z"
   },
   {
    "duration": 8,
    "start_time": "2023-01-27T10:36:12.708Z"
   },
   {
    "duration": 12,
    "start_time": "2023-01-27T10:36:19.441Z"
   },
   {
    "duration": 7,
    "start_time": "2023-01-27T10:36:22.426Z"
   },
   {
    "duration": 6,
    "start_time": "2023-01-27T10:36:25.041Z"
   },
   {
    "duration": 9,
    "start_time": "2023-01-27T10:36:27.626Z"
   },
   {
    "duration": 6,
    "start_time": "2023-01-27T10:36:30.681Z"
   },
   {
    "duration": 14,
    "start_time": "2023-01-27T10:51:25.769Z"
   },
   {
    "duration": 14,
    "start_time": "2023-01-27T10:53:15.207Z"
   },
   {
    "duration": 3,
    "start_time": "2023-01-27T10:53:19.565Z"
   },
   {
    "duration": 70,
    "start_time": "2023-01-27T10:53:19.570Z"
   },
   {
    "duration": 13,
    "start_time": "2023-01-27T10:53:19.641Z"
   },
   {
    "duration": 16,
    "start_time": "2023-01-27T10:53:24.247Z"
   },
   {
    "duration": 31,
    "start_time": "2023-01-27T10:53:29.504Z"
   },
   {
    "duration": 32,
    "start_time": "2023-01-27T10:54:07.303Z"
   },
   {
    "duration": 74,
    "start_time": "2023-01-27T10:56:34.673Z"
   },
   {
    "duration": 23,
    "start_time": "2023-01-27T10:57:28.441Z"
   },
   {
    "duration": 16,
    "start_time": "2023-01-27T10:57:33.002Z"
   },
   {
    "duration": 40,
    "start_time": "2023-01-27T10:57:41.481Z"
   },
   {
    "duration": 22,
    "start_time": "2023-01-27T10:58:46.682Z"
   },
   {
    "duration": 23,
    "start_time": "2023-01-27T10:59:05.369Z"
   },
   {
    "duration": 28,
    "start_time": "2023-01-27T10:59:09.459Z"
   },
   {
    "duration": 22,
    "start_time": "2023-01-27T10:59:14.409Z"
   },
   {
    "duration": 22,
    "start_time": "2023-01-27T10:59:28.200Z"
   },
   {
    "duration": 36,
    "start_time": "2023-01-27T11:00:00.876Z"
   },
   {
    "duration": 1105,
    "start_time": "2023-01-27T19:29:15.164Z"
   },
   {
    "duration": 143,
    "start_time": "2023-01-27T19:29:16.272Z"
   },
   {
    "duration": 72,
    "start_time": "2023-01-27T19:29:16.417Z"
   },
   {
    "duration": 5,
    "start_time": "2023-01-27T19:29:56.325Z"
   },
   {
    "duration": 103,
    "start_time": "2023-01-27T19:29:56.333Z"
   },
   {
    "duration": 37,
    "start_time": "2023-01-27T19:29:56.438Z"
   },
   {
    "duration": 40,
    "start_time": "2023-01-27T19:30:21.412Z"
   },
   {
    "duration": 37,
    "start_time": "2023-01-27T19:30:28.599Z"
   },
   {
    "duration": 52,
    "start_time": "2023-01-27T19:31:50.208Z"
   },
   {
    "duration": 4,
    "start_time": "2023-01-27T19:31:56.469Z"
   },
   {
    "duration": 94,
    "start_time": "2023-01-27T19:31:56.475Z"
   },
   {
    "duration": 37,
    "start_time": "2023-01-27T19:31:56.571Z"
   },
   {
    "duration": 51,
    "start_time": "2023-01-27T19:33:14.067Z"
   },
   {
    "duration": 4,
    "start_time": "2023-01-27T19:33:20.772Z"
   },
   {
    "duration": 93,
    "start_time": "2023-01-27T19:33:20.778Z"
   },
   {
    "duration": 57,
    "start_time": "2023-01-27T19:33:20.873Z"
   },
   {
    "duration": 3,
    "start_time": "2023-01-27T19:34:31.413Z"
   },
   {
    "duration": 88,
    "start_time": "2023-01-27T19:34:31.417Z"
   },
   {
    "duration": 33,
    "start_time": "2023-01-27T19:34:31.507Z"
   },
   {
    "duration": 4,
    "start_time": "2023-01-27T19:34:38.964Z"
   },
   {
    "duration": 73,
    "start_time": "2023-01-27T19:34:38.970Z"
   },
   {
    "duration": 34,
    "start_time": "2023-01-27T19:34:39.044Z"
   },
   {
    "duration": 4,
    "start_time": "2023-01-27T19:35:34.571Z"
   },
   {
    "duration": 93,
    "start_time": "2023-01-27T19:35:34.577Z"
   },
   {
    "duration": 42,
    "start_time": "2023-01-27T19:35:34.673Z"
   },
   {
    "duration": 4,
    "start_time": "2023-01-27T19:35:58.438Z"
   },
   {
    "duration": 73,
    "start_time": "2023-01-27T19:35:58.445Z"
   },
   {
    "duration": 19,
    "start_time": "2023-01-27T19:35:58.521Z"
   },
   {
    "duration": 4,
    "start_time": "2023-01-27T19:36:29.056Z"
   },
   {
    "duration": 74,
    "start_time": "2023-01-27T19:36:29.062Z"
   },
   {
    "duration": 27,
    "start_time": "2023-01-27T19:36:29.138Z"
   },
   {
    "duration": 3,
    "start_time": "2023-01-27T19:36:37.464Z"
   },
   {
    "duration": 78,
    "start_time": "2023-01-27T19:36:37.469Z"
   },
   {
    "duration": 36,
    "start_time": "2023-01-27T19:36:37.548Z"
   },
   {
    "duration": 38,
    "start_time": "2023-01-27T19:39:22.980Z"
   },
   {
    "duration": 7,
    "start_time": "2023-01-27T19:39:41.639Z"
   },
   {
    "duration": 95,
    "start_time": "2023-01-27T19:39:41.648Z"
   },
   {
    "duration": 35,
    "start_time": "2023-01-27T19:39:41.744Z"
   },
   {
    "duration": 3,
    "start_time": "2023-01-27T20:00:40.161Z"
   },
   {
    "duration": 86,
    "start_time": "2023-01-27T20:00:40.168Z"
   },
   {
    "duration": 47,
    "start_time": "2023-01-27T20:00:40.256Z"
   },
   {
    "duration": 3,
    "start_time": "2023-01-27T20:01:07.875Z"
   },
   {
    "duration": 140,
    "start_time": "2023-01-27T20:01:07.880Z"
   },
   {
    "duration": 51,
    "start_time": "2023-01-27T20:01:08.022Z"
   },
   {
    "duration": 45,
    "start_time": "2023-01-27T20:01:51.316Z"
   },
   {
    "duration": 4,
    "start_time": "2023-01-27T20:01:56.958Z"
   },
   {
    "duration": 71,
    "start_time": "2023-01-27T20:01:56.965Z"
   },
   {
    "duration": 41,
    "start_time": "2023-01-27T20:01:57.039Z"
   },
   {
    "duration": 33,
    "start_time": "2023-01-27T20:02:03.269Z"
   },
   {
    "duration": 386,
    "start_time": "2023-01-27T20:42:42.256Z"
   },
   {
    "duration": 265,
    "start_time": "2023-01-27T20:42:47.899Z"
   },
   {
    "duration": 259,
    "start_time": "2023-01-27T20:42:54.257Z"
   },
   {
    "duration": 53,
    "start_time": "2023-01-27T20:51:02.987Z"
   },
   {
    "duration": 4,
    "start_time": "2023-01-27T20:51:38.082Z"
   },
   {
    "duration": 65,
    "start_time": "2023-01-27T20:51:38.089Z"
   },
   {
    "duration": 55,
    "start_time": "2023-01-27T20:51:38.156Z"
   },
   {
    "duration": 46,
    "start_time": "2023-01-27T20:51:38.213Z"
   },
   {
    "duration": 23,
    "start_time": "2023-01-27T20:51:38.261Z"
   },
   {
    "duration": 3,
    "start_time": "2023-01-27T20:54:08.217Z"
   },
   {
    "duration": 114,
    "start_time": "2023-01-27T20:54:08.223Z"
   },
   {
    "duration": 49,
    "start_time": "2023-01-27T20:54:08.339Z"
   },
   {
    "duration": 33,
    "start_time": "2023-01-27T20:54:08.390Z"
   },
   {
    "duration": 32,
    "start_time": "2023-01-27T20:54:08.425Z"
   },
   {
    "duration": 61,
    "start_time": "2023-01-27T20:55:02.861Z"
   },
   {
    "duration": 12,
    "start_time": "2023-01-27T21:06:35.180Z"
   },
   {
    "duration": 4,
    "start_time": "2023-01-27T21:06:38.570Z"
   },
   {
    "duration": 81,
    "start_time": "2023-01-27T21:06:38.576Z"
   },
   {
    "duration": 46,
    "start_time": "2023-01-27T21:06:38.659Z"
   },
   {
    "duration": 57,
    "start_time": "2023-01-27T21:06:38.707Z"
   },
   {
    "duration": 55,
    "start_time": "2023-01-27T21:06:38.766Z"
   },
   {
    "duration": 33,
    "start_time": "2023-01-27T21:06:38.823Z"
   },
   {
    "duration": 64,
    "start_time": "2023-01-27T21:07:00.485Z"
   },
   {
    "duration": 5,
    "start_time": "2023-01-27T21:07:13.709Z"
   },
   {
    "duration": 3,
    "start_time": "2023-01-27T21:07:19.860Z"
   },
   {
    "duration": 77,
    "start_time": "2023-01-27T21:07:19.865Z"
   },
   {
    "duration": 59,
    "start_time": "2023-01-27T21:07:19.945Z"
   },
   {
    "duration": 59,
    "start_time": "2023-01-27T21:07:20.006Z"
   },
   {
    "duration": 49,
    "start_time": "2023-01-27T21:07:20.075Z"
   },
   {
    "duration": 27,
    "start_time": "2023-01-27T21:07:20.126Z"
   },
   {
    "duration": 22,
    "start_time": "2023-01-27T21:45:24.823Z"
   },
   {
    "duration": 18,
    "start_time": "2023-01-27T21:47:11.281Z"
   },
   {
    "duration": 10,
    "start_time": "2023-01-27T21:47:29.535Z"
   },
   {
    "duration": 62,
    "start_time": "2023-01-27T21:47:29.547Z"
   },
   {
    "duration": 35,
    "start_time": "2023-01-27T21:47:29.610Z"
   },
   {
    "duration": 31,
    "start_time": "2023-01-27T21:47:29.647Z"
   },
   {
    "duration": 52,
    "start_time": "2023-01-27T21:47:29.680Z"
   },
   {
    "duration": 23,
    "start_time": "2023-01-27T21:47:29.733Z"
   },
   {
    "duration": 3,
    "start_time": "2023-01-27T21:54:44.522Z"
   },
   {
    "duration": 114,
    "start_time": "2023-01-27T21:54:44.528Z"
   },
   {
    "duration": 37,
    "start_time": "2023-01-27T21:54:44.648Z"
   },
   {
    "duration": 75,
    "start_time": "2023-01-27T21:54:44.687Z"
   },
   {
    "duration": 0,
    "start_time": "2023-01-27T21:54:44.763Z"
   },
   {
    "duration": 0,
    "start_time": "2023-01-27T21:54:44.765Z"
   },
   {
    "duration": 4,
    "start_time": "2023-01-27T21:54:54.016Z"
   },
   {
    "duration": 77,
    "start_time": "2023-01-27T21:54:54.021Z"
   },
   {
    "duration": 47,
    "start_time": "2023-01-27T21:54:54.100Z"
   },
   {
    "duration": 36,
    "start_time": "2023-01-27T21:54:54.150Z"
   },
   {
    "duration": 45,
    "start_time": "2023-01-27T21:54:54.187Z"
   },
   {
    "duration": 43,
    "start_time": "2023-01-27T21:54:54.234Z"
   },
   {
    "duration": 49,
    "start_time": "2023-01-27T22:03:35.571Z"
   },
   {
    "duration": 59,
    "start_time": "2023-01-27T22:04:07.434Z"
   },
   {
    "duration": 5,
    "start_time": "2023-01-27T22:04:29.016Z"
   },
   {
    "duration": 74,
    "start_time": "2023-01-27T22:04:29.023Z"
   },
   {
    "duration": 36,
    "start_time": "2023-01-27T22:04:29.099Z"
   },
   {
    "duration": 49,
    "start_time": "2023-01-27T22:04:29.137Z"
   },
   {
    "duration": 57,
    "start_time": "2023-01-27T22:04:29.189Z"
   },
   {
    "duration": 45,
    "start_time": "2023-01-27T22:04:29.247Z"
   },
   {
    "duration": 1175,
    "start_time": "2023-01-28T12:43:35.063Z"
   },
   {
    "duration": 218,
    "start_time": "2023-01-28T12:43:36.241Z"
   },
   {
    "duration": 40,
    "start_time": "2023-01-28T12:43:36.460Z"
   },
   {
    "duration": 50,
    "start_time": "2023-01-28T12:43:36.502Z"
   },
   {
    "duration": 41,
    "start_time": "2023-01-28T12:43:36.555Z"
   },
   {
    "duration": 64,
    "start_time": "2023-01-28T12:43:36.599Z"
   },
   {
    "duration": 483,
    "start_time": "2023-01-28T12:43:36.666Z"
   },
   {
    "duration": 4,
    "start_time": "2023-01-28T12:45:12.545Z"
   },
   {
    "duration": 114,
    "start_time": "2023-01-28T12:45:12.552Z"
   },
   {
    "duration": 38,
    "start_time": "2023-01-28T12:45:12.668Z"
   },
   {
    "duration": 50,
    "start_time": "2023-01-28T12:45:12.707Z"
   },
   {
    "duration": 39,
    "start_time": "2023-01-28T12:45:12.760Z"
   },
   {
    "duration": 82,
    "start_time": "2023-01-28T12:45:12.800Z"
   },
   {
    "duration": 256,
    "start_time": "2023-01-28T12:45:12.884Z"
   },
   {
    "duration": 100,
    "start_time": "2023-01-28T12:49:43.339Z"
   },
   {
    "duration": 89,
    "start_time": "2023-01-28T12:49:48.554Z"
   },
   {
    "duration": 2566,
    "start_time": "2023-01-28T13:06:52.489Z"
   },
   {
    "duration": 4549,
    "start_time": "2023-01-28T13:07:09.121Z"
   },
   {
    "duration": 4463,
    "start_time": "2023-01-28T13:08:23.298Z"
   },
   {
    "duration": 800,
    "start_time": "2023-01-28T13:09:32.946Z"
   },
   {
    "duration": 777,
    "start_time": "2023-01-28T13:09:42.872Z"
   },
   {
    "duration": 57,
    "start_time": "2023-01-28T13:43:52.459Z"
   },
   {
    "duration": 857,
    "start_time": "2023-01-28T14:45:13.431Z"
   },
   {
    "duration": 832,
    "start_time": "2023-01-28T14:45:32.274Z"
   },
   {
    "duration": 849,
    "start_time": "2023-01-28T14:45:37.481Z"
   },
   {
    "duration": 49,
    "start_time": "2023-01-28T14:45:53.837Z"
   },
   {
    "duration": 109,
    "start_time": "2023-01-28T14:46:42.841Z"
   },
   {
    "duration": 796,
    "start_time": "2023-01-28T14:46:45.674Z"
   },
   {
    "duration": 4,
    "start_time": "2023-01-28T14:46:49.957Z"
   },
   {
    "duration": 104,
    "start_time": "2023-01-28T14:46:49.963Z"
   },
   {
    "duration": 36,
    "start_time": "2023-01-28T14:46:50.068Z"
   },
   {
    "duration": 66,
    "start_time": "2023-01-28T14:46:50.106Z"
   },
   {
    "duration": 75,
    "start_time": "2023-01-28T14:46:50.175Z"
   },
   {
    "duration": 56,
    "start_time": "2023-01-28T14:46:50.252Z"
   },
   {
    "duration": 805,
    "start_time": "2023-01-28T14:46:50.310Z"
   },
   {
    "duration": 221,
    "start_time": "2023-01-28T14:46:51.117Z"
   },
   {
    "duration": 882,
    "start_time": "2023-01-28T14:46:51.340Z"
   },
   {
    "duration": 83,
    "start_time": "2023-01-28T21:04:28.025Z"
   },
   {
    "duration": 1134,
    "start_time": "2023-01-28T21:04:57.521Z"
   },
   {
    "duration": 120,
    "start_time": "2023-01-28T21:04:58.656Z"
   },
   {
    "duration": 56,
    "start_time": "2023-01-28T21:04:58.778Z"
   },
   {
    "duration": 39,
    "start_time": "2023-01-28T21:04:58.836Z"
   },
   {
    "duration": 67,
    "start_time": "2023-01-28T21:04:58.878Z"
   },
   {
    "duration": 156,
    "start_time": "2023-01-28T21:04:58.947Z"
   },
   {
    "duration": 64,
    "start_time": "2023-01-28T21:04:59.105Z"
   },
   {
    "duration": 0,
    "start_time": "2023-01-28T21:04:59.171Z"
   },
   {
    "duration": 0,
    "start_time": "2023-01-28T21:04:59.172Z"
   },
   {
    "duration": 0,
    "start_time": "2023-01-28T21:04:59.173Z"
   },
   {
    "duration": 4,
    "start_time": "2023-01-28T21:05:12.226Z"
   },
   {
    "duration": 105,
    "start_time": "2023-01-28T21:05:12.232Z"
   },
   {
    "duration": 36,
    "start_time": "2023-01-28T21:05:12.338Z"
   },
   {
    "duration": 56,
    "start_time": "2023-01-28T21:05:12.376Z"
   },
   {
    "duration": 56,
    "start_time": "2023-01-28T21:05:12.435Z"
   },
   {
    "duration": 64,
    "start_time": "2023-01-28T21:05:12.493Z"
   },
   {
    "duration": 894,
    "start_time": "2023-01-28T21:05:12.559Z"
   },
   {
    "duration": 11772,
    "start_time": "2023-01-28T21:05:13.456Z"
   },
   {
    "duration": 0,
    "start_time": "2023-01-28T21:05:25.230Z"
   },
   {
    "duration": 0,
    "start_time": "2023-01-28T21:05:25.232Z"
   },
   {
    "duration": 4,
    "start_time": "2023-01-28T21:05:28.464Z"
   },
   {
    "duration": 72,
    "start_time": "2023-01-28T21:05:28.470Z"
   },
   {
    "duration": 39,
    "start_time": "2023-01-28T21:05:28.544Z"
   },
   {
    "duration": 52,
    "start_time": "2023-01-28T21:05:28.585Z"
   },
   {
    "duration": 35,
    "start_time": "2023-01-28T21:05:28.639Z"
   },
   {
    "duration": 68,
    "start_time": "2023-01-28T21:05:28.676Z"
   },
   {
    "duration": 839,
    "start_time": "2023-01-28T21:05:28.746Z"
   },
   {
    "duration": 16966,
    "start_time": "2023-01-28T21:05:29.587Z"
   },
   {
    "duration": 904,
    "start_time": "2023-01-28T21:05:46.554Z"
   },
   {
    "duration": 24,
    "start_time": "2023-01-28T21:05:47.460Z"
   },
   {
    "duration": 1158,
    "start_time": "2023-01-28T21:12:18.388Z"
   },
   {
    "duration": 90,
    "start_time": "2023-01-28T21:12:19.548Z"
   },
   {
    "duration": 38,
    "start_time": "2023-01-28T21:12:19.640Z"
   },
   {
    "duration": 50,
    "start_time": "2023-01-28T21:12:19.679Z"
   },
   {
    "duration": 36,
    "start_time": "2023-01-28T21:12:19.732Z"
   },
   {
    "duration": 82,
    "start_time": "2023-01-28T21:12:19.769Z"
   },
   {
    "duration": 872,
    "start_time": "2023-01-28T21:12:19.853Z"
   },
   {
    "duration": 112127,
    "start_time": "2023-01-28T21:12:20.727Z"
   },
   {
    "duration": 907,
    "start_time": "2023-01-28T21:14:12.855Z"
   },
   {
    "duration": 0,
    "start_time": "2023-01-28T21:19:38.526Z"
   },
   {
    "duration": 0,
    "start_time": "2023-01-28T21:19:38.527Z"
   },
   {
    "duration": 0,
    "start_time": "2023-01-28T21:19:38.529Z"
   },
   {
    "duration": 0,
    "start_time": "2023-01-28T21:19:38.530Z"
   },
   {
    "duration": 0,
    "start_time": "2023-01-28T21:19:38.533Z"
   },
   {
    "duration": 0,
    "start_time": "2023-01-28T21:19:38.534Z"
   },
   {
    "duration": 0,
    "start_time": "2023-01-28T21:19:38.535Z"
   },
   {
    "duration": 0,
    "start_time": "2023-01-28T21:19:38.537Z"
   },
   {
    "duration": 0,
    "start_time": "2023-01-28T21:19:38.538Z"
   },
   {
    "duration": 0,
    "start_time": "2023-01-28T21:19:38.540Z"
   },
   {
    "duration": 1397,
    "start_time": "2023-01-28T21:19:42.441Z"
   },
   {
    "duration": 102,
    "start_time": "2023-01-28T21:19:43.842Z"
   },
   {
    "duration": 47,
    "start_time": "2023-01-28T21:19:43.946Z"
   },
   {
    "duration": 46,
    "start_time": "2023-01-28T21:19:43.995Z"
   },
   {
    "duration": 89,
    "start_time": "2023-01-28T21:19:44.043Z"
   },
   {
    "duration": 71,
    "start_time": "2023-01-28T21:19:44.134Z"
   },
   {
    "duration": 987,
    "start_time": "2023-01-28T21:19:44.208Z"
   },
   {
    "duration": 45631,
    "start_time": "2023-01-28T21:19:45.197Z"
   },
   {
    "duration": 0,
    "start_time": "2023-01-28T21:20:30.830Z"
   },
   {
    "duration": 0,
    "start_time": "2023-01-28T21:20:30.833Z"
   },
   {
    "duration": 1133,
    "start_time": "2023-01-28T21:20:37.274Z"
   },
   {
    "duration": 93,
    "start_time": "2023-01-28T21:20:38.409Z"
   },
   {
    "duration": 59,
    "start_time": "2023-01-28T21:20:38.505Z"
   },
   {
    "duration": 44,
    "start_time": "2023-01-28T21:20:38.566Z"
   },
   {
    "duration": 58,
    "start_time": "2023-01-28T21:20:38.612Z"
   },
   {
    "duration": 74,
    "start_time": "2023-01-28T21:20:38.672Z"
   },
   {
    "duration": 888,
    "start_time": "2023-01-28T21:20:38.748Z"
   },
   {
    "duration": 112586,
    "start_time": "2023-01-28T21:20:39.644Z"
   },
   {
    "duration": 934,
    "start_time": "2023-01-28T21:22:32.234Z"
   },
   {
    "duration": 604023,
    "start_time": "2023-01-28T21:22:33.170Z"
   },
   {
    "duration": 1119,
    "start_time": "2023-01-28T21:32:53.445Z"
   },
   {
    "duration": 77,
    "start_time": "2023-01-28T21:32:54.566Z"
   },
   {
    "duration": 34,
    "start_time": "2023-01-28T21:32:54.645Z"
   },
   {
    "duration": 57,
    "start_time": "2023-01-28T21:32:54.680Z"
   },
   {
    "duration": 39,
    "start_time": "2023-01-28T21:32:54.738Z"
   },
   {
    "duration": 71,
    "start_time": "2023-01-28T21:32:54.779Z"
   },
   {
    "duration": 879,
    "start_time": "2023-01-28T21:32:54.852Z"
   },
   {
    "duration": 18879,
    "start_time": "2023-01-28T21:32:55.740Z"
   },
   {
    "duration": 0,
    "start_time": "2023-01-28T21:33:14.620Z"
   },
   {
    "duration": 0,
    "start_time": "2023-01-28T21:33:14.621Z"
   },
   {
    "duration": 1156,
    "start_time": "2023-01-28T21:33:37.386Z"
   },
   {
    "duration": 90,
    "start_time": "2023-01-28T21:33:38.545Z"
   },
   {
    "duration": 48,
    "start_time": "2023-01-28T21:33:38.641Z"
   },
   {
    "duration": 30,
    "start_time": "2023-01-28T21:33:38.691Z"
   },
   {
    "duration": 44,
    "start_time": "2023-01-28T21:33:38.722Z"
   },
   {
    "duration": 73,
    "start_time": "2023-01-28T21:33:38.768Z"
   },
   {
    "duration": 888,
    "start_time": "2023-01-28T21:33:38.843Z"
   },
   {
    "duration": 61208,
    "start_time": "2023-01-28T21:33:39.732Z"
   },
   {
    "duration": 897,
    "start_time": "2023-01-28T21:34:40.942Z"
   },
   {
    "duration": 795189,
    "start_time": "2023-01-28T21:34:41.841Z"
   },
   {
    "duration": 101826,
    "start_time": "2023-01-28T21:54:39.624Z"
   },
   {
    "duration": 186385,
    "start_time": "2023-01-28T21:57:32.109Z"
   },
   {
    "duration": 379997,
    "start_time": "2023-01-28T22:01:03.970Z"
   },
   {
    "duration": 135,
    "start_time": "2023-01-28T22:14:35.888Z"
   },
   {
    "duration": 21,
    "start_time": "2023-01-28T22:14:55.424Z"
   },
   {
    "duration": 4,
    "start_time": "2023-01-28T22:15:02.164Z"
   },
   {
    "duration": 14,
    "start_time": "2023-01-28T22:15:08.954Z"
   },
   {
    "duration": 25,
    "start_time": "2023-01-28T22:17:10.196Z"
   },
   {
    "duration": 13,
    "start_time": "2023-01-28T22:17:18.983Z"
   },
   {
    "duration": 13,
    "start_time": "2023-01-28T22:17:22.492Z"
   },
   {
    "duration": 16,
    "start_time": "2023-01-28T22:17:58.059Z"
   },
   {
    "duration": 13,
    "start_time": "2023-01-28T22:18:13.392Z"
   },
   {
    "duration": 141005,
    "start_time": "2023-01-28T22:19:28.947Z"
   },
   {
    "duration": 113470,
    "start_time": "2023-01-28T22:22:05.018Z"
   },
   {
    "duration": 62625,
    "start_time": "2023-01-28T22:34:17.668Z"
   },
   {
    "duration": 133783,
    "start_time": "2023-01-28T22:35:31.239Z"
   },
   {
    "duration": 608,
    "start_time": "2023-01-28T22:44:40.614Z"
   },
   {
    "duration": 614,
    "start_time": "2023-01-28T22:45:41.011Z"
   },
   {
    "duration": 36,
    "start_time": "2023-01-28T23:08:31.320Z"
   },
   {
    "duration": 58,
    "start_time": "2023-01-28T23:08:35.017Z"
   },
   {
    "duration": 28,
    "start_time": "2023-01-28T23:09:17.999Z"
   },
   {
    "duration": 59,
    "start_time": "2023-01-28T23:09:29.837Z"
   },
   {
    "duration": 32,
    "start_time": "2023-01-28T23:09:34.024Z"
   },
   {
    "duration": 28,
    "start_time": "2023-01-28T23:09:52.449Z"
   },
   {
    "duration": 36,
    "start_time": "2023-01-28T23:10:15.822Z"
   },
   {
    "duration": 4,
    "start_time": "2023-01-28T23:10:59.871Z"
   },
   {
    "duration": 802,
    "start_time": "2023-01-28T23:15:28.808Z"
   },
   {
    "duration": 798,
    "start_time": "2023-01-28T23:16:49.228Z"
   },
   {
    "duration": 799,
    "start_time": "2023-01-28T23:17:10.191Z"
   },
   {
    "duration": 801,
    "start_time": "2023-01-28T23:17:20.221Z"
   },
   {
    "duration": 810,
    "start_time": "2023-01-28T23:17:42.527Z"
   },
   {
    "duration": 797,
    "start_time": "2023-01-28T23:17:52.059Z"
   },
   {
    "duration": 27297,
    "start_time": "2023-01-28T23:22:09.846Z"
   },
   {
    "duration": 27648,
    "start_time": "2023-01-28T23:23:21.625Z"
   },
   {
    "duration": 33105,
    "start_time": "2023-01-28T23:24:25.098Z"
   },
   {
    "duration": 230454,
    "start_time": "2023-01-28T23:27:18.457Z"
   },
   {
    "duration": 44505,
    "start_time": "2023-01-28T23:32:11.910Z"
   },
   {
    "duration": 46130,
    "start_time": "2023-01-28T23:33:25.782Z"
   },
   {
    "duration": 810,
    "start_time": "2023-01-28T23:35:48.218Z"
   },
   {
    "duration": 831,
    "start_time": "2023-01-28T23:35:56.266Z"
   },
   {
    "duration": 806,
    "start_time": "2023-01-28T23:36:42.036Z"
   },
   {
    "duration": 212808,
    "start_time": "2023-01-28T23:41:13.512Z"
   },
   {
    "duration": 0,
    "start_time": "2023-01-28T23:44:46.323Z"
   },
   {
    "duration": 1023,
    "start_time": "2023-01-28T23:44:51.353Z"
   },
   {
    "duration": 69,
    "start_time": "2023-01-28T23:44:52.379Z"
   },
   {
    "duration": 33,
    "start_time": "2023-01-28T23:44:52.450Z"
   },
   {
    "duration": 43,
    "start_time": "2023-01-28T23:44:52.486Z"
   },
   {
    "duration": 37,
    "start_time": "2023-01-28T23:44:52.530Z"
   },
   {
    "duration": 4,
    "start_time": "2023-01-28T23:44:52.569Z"
   },
   {
    "duration": 838,
    "start_time": "2023-01-28T23:44:52.574Z"
   },
   {
    "duration": 397,
    "start_time": "2023-01-28T23:44:53.413Z"
   },
   {
    "duration": 0,
    "start_time": "2023-01-28T23:44:53.811Z"
   },
   {
    "duration": 1,
    "start_time": "2023-01-28T23:44:53.812Z"
   },
   {
    "duration": 0,
    "start_time": "2023-01-28T23:44:53.813Z"
   },
   {
    "duration": 0,
    "start_time": "2023-01-28T23:44:53.814Z"
   },
   {
    "duration": 0,
    "start_time": "2023-01-28T23:44:53.815Z"
   },
   {
    "duration": 4,
    "start_time": "2023-01-28T23:45:19.777Z"
   },
   {
    "duration": 4,
    "start_time": "2023-01-28T23:46:05.416Z"
   },
   {
    "duration": 4,
    "start_time": "2023-01-28T23:46:08.419Z"
   },
   {
    "duration": 4,
    "start_time": "2023-01-28T23:46:14.154Z"
   },
   {
    "duration": 39,
    "start_time": "2023-01-28T23:47:04.272Z"
   },
   {
    "duration": 39514,
    "start_time": "2023-01-28T23:47:15.202Z"
   },
   {
    "duration": 796,
    "start_time": "2023-01-28T23:49:11.142Z"
   },
   {
    "duration": 11,
    "start_time": "2023-01-28T23:49:15.571Z"
   },
   {
    "duration": 180444,
    "start_time": "2023-01-28T23:49:23.650Z"
   },
   {
    "duration": 47,
    "start_time": "2023-01-29T08:35:31.468Z"
   },
   {
    "duration": 1143,
    "start_time": "2023-01-29T08:35:35.673Z"
   },
   {
    "duration": 210,
    "start_time": "2023-01-29T08:35:36.817Z"
   },
   {
    "duration": 33,
    "start_time": "2023-01-29T08:35:37.029Z"
   },
   {
    "duration": 27,
    "start_time": "2023-01-29T08:35:37.064Z"
   },
   {
    "duration": 36,
    "start_time": "2023-01-29T08:35:37.093Z"
   },
   {
    "duration": 4,
    "start_time": "2023-01-29T08:35:37.148Z"
   },
   {
    "duration": 754,
    "start_time": "2023-01-29T08:35:37.154Z"
   },
   {
    "duration": 70441,
    "start_time": "2023-01-29T08:35:37.910Z"
   },
   {
    "duration": 829,
    "start_time": "2023-01-29T08:36:48.353Z"
   },
   {
    "duration": 175265,
    "start_time": "2023-01-29T08:36:49.185Z"
   },
   {
    "duration": 17,
    "start_time": "2023-01-29T08:39:44.451Z"
   },
   {
    "duration": 80,
    "start_time": "2023-01-29T08:39:44.469Z"
   },
   {
    "duration": 0,
    "start_time": "2023-01-29T08:39:44.551Z"
   },
   {
    "duration": 14,
    "start_time": "2023-01-29T08:40:59.934Z"
   },
   {
    "duration": 572,
    "start_time": "2023-01-29T08:41:09.821Z"
   },
   {
    "duration": 33270,
    "start_time": "2023-01-29T08:56:58.985Z"
   },
   {
    "duration": 21604,
    "start_time": "2023-01-29T09:01:25.865Z"
   },
   {
    "duration": 3382,
    "start_time": "2023-01-29T09:03:10.070Z"
   },
   {
    "duration": 2542,
    "start_time": "2023-01-29T09:03:21.728Z"
   },
   {
    "duration": 3424,
    "start_time": "2023-01-29T09:04:03.737Z"
   },
   {
    "duration": 3378,
    "start_time": "2023-01-29T09:04:15.591Z"
   },
   {
    "duration": 7630,
    "start_time": "2023-01-29T09:04:57.934Z"
   },
   {
    "duration": 9012,
    "start_time": "2023-01-29T09:05:55.851Z"
   },
   {
    "duration": 13210,
    "start_time": "2023-01-29T09:06:12.639Z"
   },
   {
    "duration": 13043,
    "start_time": "2023-01-29T09:06:53.628Z"
   },
   {
    "duration": 23046,
    "start_time": "2023-01-29T09:07:12.604Z"
   },
   {
    "duration": 21062,
    "start_time": "2023-01-29T09:08:09.791Z"
   },
   {
    "duration": 3447,
    "start_time": "2023-01-29T09:08:41.925Z"
   },
   {
    "duration": 3896,
    "start_time": "2023-01-29T09:08:48.427Z"
   },
   {
    "duration": 9269,
    "start_time": "2023-01-29T09:08:54.893Z"
   },
   {
    "duration": 11,
    "start_time": "2023-01-29T09:10:40.928Z"
   },
   {
    "duration": 11,
    "start_time": "2023-01-29T09:10:50.087Z"
   },
   {
    "duration": 11,
    "start_time": "2023-01-29T09:11:57.439Z"
   },
   {
    "duration": 12,
    "start_time": "2023-01-29T09:12:47.862Z"
   },
   {
    "duration": 4,
    "start_time": "2023-01-29T09:13:25.088Z"
   },
   {
    "duration": 312,
    "start_time": "2023-01-29T09:13:36.561Z"
   },
   {
    "duration": 87280,
    "start_time": "2023-01-29T09:13:55.672Z"
   },
   {
    "duration": 10309,
    "start_time": "2023-01-29T09:16:00.694Z"
   },
   {
    "duration": 1044,
    "start_time": "2023-01-29T09:16:20.089Z"
   },
   {
    "duration": 81,
    "start_time": "2023-01-29T09:16:21.135Z"
   },
   {
    "duration": 44,
    "start_time": "2023-01-29T09:16:21.217Z"
   },
   {
    "duration": 25,
    "start_time": "2023-01-29T09:16:21.262Z"
   },
   {
    "duration": 37,
    "start_time": "2023-01-29T09:16:21.289Z"
   },
   {
    "duration": 4,
    "start_time": "2023-01-29T09:16:21.328Z"
   },
   {
    "duration": 737,
    "start_time": "2023-01-29T09:16:21.334Z"
   },
   {
    "duration": 110,
    "start_time": "2023-01-29T09:16:22.073Z"
   },
   {
    "duration": 0,
    "start_time": "2023-01-29T09:16:22.185Z"
   },
   {
    "duration": 0,
    "start_time": "2023-01-29T09:16:22.186Z"
   },
   {
    "duration": 0,
    "start_time": "2023-01-29T09:16:22.187Z"
   },
   {
    "duration": 0,
    "start_time": "2023-01-29T09:16:22.188Z"
   },
   {
    "duration": 1,
    "start_time": "2023-01-29T09:16:22.189Z"
   },
   {
    "duration": 242,
    "start_time": "2023-01-29T09:16:42.021Z"
   },
   {
    "duration": 37862,
    "start_time": "2023-01-29T09:16:55.493Z"
   },
   {
    "duration": 10,
    "start_time": "2023-01-29T09:18:41.332Z"
   },
   {
    "duration": 255468,
    "start_time": "2023-01-29T09:18:46.688Z"
   },
   {
    "duration": 379208,
    "start_time": "2023-01-29T09:23:16.863Z"
   },
   {
    "duration": 5,
    "start_time": "2023-01-29T09:44:48.130Z"
   },
   {
    "duration": 5,
    "start_time": "2023-01-29T09:45:00.591Z"
   },
   {
    "duration": 745,
    "start_time": "2023-01-29T09:45:17.826Z"
   },
   {
    "duration": 97,
    "start_time": "2023-01-29T09:45:39.897Z"
   },
   {
    "duration": 835,
    "start_time": "2023-01-29T09:47:40.626Z"
   },
   {
    "duration": 66645,
    "start_time": "2023-01-29T09:50:03.629Z"
   },
   {
    "duration": 17,
    "start_time": "2023-01-29T09:53:14.583Z"
   },
   {
    "duration": 283655,
    "start_time": "2023-01-29T09:55:10.498Z"
   },
   {
    "duration": 542,
    "start_time": "2023-01-29T10:02:38.530Z"
   },
   {
    "duration": 12,
    "start_time": "2023-01-29T10:03:59.827Z"
   },
   {
    "duration": 55557,
    "start_time": "2023-01-29T10:04:14.357Z"
   },
   {
    "duration": 539,
    "start_time": "2023-01-29T10:05:54.678Z"
   },
   {
    "duration": 50,
    "start_time": "2023-02-03T11:03:46.297Z"
   },
   {
    "duration": 1153,
    "start_time": "2023-02-03T11:03:49.660Z"
   },
   {
    "duration": 219,
    "start_time": "2023-02-03T11:03:50.815Z"
   },
   {
    "duration": 38,
    "start_time": "2023-02-03T11:03:51.036Z"
   },
   {
    "duration": 42,
    "start_time": "2023-02-03T11:03:51.076Z"
   },
   {
    "duration": 39,
    "start_time": "2023-02-03T11:03:51.120Z"
   },
   {
    "duration": 4,
    "start_time": "2023-02-03T11:03:51.161Z"
   },
   {
    "duration": 765,
    "start_time": "2023-02-03T11:03:51.167Z"
   },
   {
    "duration": 673,
    "start_time": "2023-02-03T11:03:51.934Z"
   },
   {
    "duration": 933,
    "start_time": "2023-02-03T11:03:52.609Z"
   },
   {
    "duration": 57062,
    "start_time": "2023-02-03T11:03:53.544Z"
   },
   {
    "duration": 16,
    "start_time": "2023-02-03T11:04:50.608Z"
   },
   {
    "duration": 1174,
    "start_time": "2023-02-03T11:06:43.163Z"
   },
   {
    "duration": 99,
    "start_time": "2023-02-03T11:06:45.483Z"
   },
   {
    "duration": 75,
    "start_time": "2023-02-03T11:07:16.157Z"
   },
   {
    "duration": 52,
    "start_time": "2023-02-03T11:07:22.980Z"
   },
   {
    "duration": 81,
    "start_time": "2023-02-03T11:07:37.452Z"
   },
   {
    "duration": 77,
    "start_time": "2023-02-03T11:07:49.484Z"
   },
   {
    "duration": 92,
    "start_time": "2023-02-03T11:08:17.138Z"
   },
   {
    "duration": 82,
    "start_time": "2023-02-03T11:08:28.868Z"
   },
   {
    "duration": 80,
    "start_time": "2023-02-03T11:08:42.044Z"
   },
   {
    "duration": 23,
    "start_time": "2023-02-03T11:09:19.842Z"
   },
   {
    "duration": 41,
    "start_time": "2023-02-03T11:10:57.804Z"
   },
   {
    "duration": 29,
    "start_time": "2023-02-03T11:12:27.252Z"
   },
   {
    "duration": 29,
    "start_time": "2023-02-03T11:12:38.998Z"
   },
   {
    "duration": 41,
    "start_time": "2023-02-03T11:13:55.266Z"
   },
   {
    "duration": 37,
    "start_time": "2023-02-03T11:14:52.298Z"
   },
   {
    "duration": 34,
    "start_time": "2023-02-03T11:14:59.558Z"
   },
   {
    "duration": 4,
    "start_time": "2023-02-03T11:15:03.199Z"
   },
   {
    "duration": 102,
    "start_time": "2023-02-03T11:15:03.206Z"
   },
   {
    "duration": 22,
    "start_time": "2023-02-03T11:15:03.310Z"
   },
   {
    "duration": 58,
    "start_time": "2023-02-03T11:15:03.335Z"
   },
   {
    "duration": 33,
    "start_time": "2023-02-03T11:15:03.395Z"
   },
   {
    "duration": 64,
    "start_time": "2023-02-03T11:15:03.430Z"
   },
   {
    "duration": 5,
    "start_time": "2023-02-03T11:15:03.496Z"
   },
   {
    "duration": 122,
    "start_time": "2023-02-03T11:15:03.503Z"
   },
   {
    "duration": 0,
    "start_time": "2023-02-03T11:15:03.628Z"
   },
   {
    "duration": 0,
    "start_time": "2023-02-03T11:15:03.629Z"
   },
   {
    "duration": 0,
    "start_time": "2023-02-03T11:15:03.631Z"
   },
   {
    "duration": 0,
    "start_time": "2023-02-03T11:15:03.632Z"
   },
   {
    "duration": 0,
    "start_time": "2023-02-03T11:15:03.634Z"
   },
   {
    "duration": 0,
    "start_time": "2023-02-03T11:15:03.635Z"
   },
   {
    "duration": 33,
    "start_time": "2023-02-03T11:15:37.377Z"
   },
   {
    "duration": 78,
    "start_time": "2023-02-03T11:20:21.289Z"
   },
   {
    "duration": 18,
    "start_time": "2023-02-03T11:23:37.695Z"
   },
   {
    "duration": 16,
    "start_time": "2023-02-03T11:23:47.687Z"
   },
   {
    "duration": 18,
    "start_time": "2023-02-03T11:24:15.228Z"
   },
   {
    "duration": 21,
    "start_time": "2023-02-03T11:24:38.415Z"
   },
   {
    "duration": 19,
    "start_time": "2023-02-03T11:25:05.380Z"
   },
   {
    "duration": 17,
    "start_time": "2023-02-03T11:26:36.117Z"
   },
   {
    "duration": 29,
    "start_time": "2023-02-03T11:28:28.963Z"
   },
   {
    "duration": 5,
    "start_time": "2023-02-03T11:40:41.279Z"
   },
   {
    "duration": 20,
    "start_time": "2023-02-03T11:45:13.527Z"
   },
   {
    "duration": 22,
    "start_time": "2023-02-03T11:46:25.365Z"
   },
   {
    "duration": 40,
    "start_time": "2023-02-03T11:50:01.366Z"
   },
   {
    "duration": 45,
    "start_time": "2023-02-03T11:51:52.531Z"
   },
   {
    "duration": 44,
    "start_time": "2023-02-03T11:52:50.164Z"
   },
   {
    "duration": 16,
    "start_time": "2023-02-03T11:52:53.748Z"
   },
   {
    "duration": 4,
    "start_time": "2023-02-03T11:53:24.694Z"
   },
   {
    "duration": 77,
    "start_time": "2023-02-03T11:53:24.701Z"
   },
   {
    "duration": 21,
    "start_time": "2023-02-03T11:53:24.780Z"
   },
   {
    "duration": 39,
    "start_time": "2023-02-03T11:53:24.802Z"
   },
   {
    "duration": 66,
    "start_time": "2023-02-03T11:53:24.843Z"
   },
   {
    "duration": 15,
    "start_time": "2023-02-03T11:53:24.910Z"
   },
   {
    "duration": 0,
    "start_time": "2023-02-03T11:53:24.926Z"
   },
   {
    "duration": 0,
    "start_time": "2023-02-03T11:53:24.928Z"
   },
   {
    "duration": 0,
    "start_time": "2023-02-03T11:53:24.929Z"
   },
   {
    "duration": 0,
    "start_time": "2023-02-03T11:53:24.930Z"
   },
   {
    "duration": 0,
    "start_time": "2023-02-03T11:53:24.931Z"
   },
   {
    "duration": 0,
    "start_time": "2023-02-03T11:53:24.932Z"
   },
   {
    "duration": 0,
    "start_time": "2023-02-03T11:53:24.934Z"
   },
   {
    "duration": 0,
    "start_time": "2023-02-03T11:53:24.936Z"
   },
   {
    "duration": 14,
    "start_time": "2023-02-03T11:55:04.417Z"
   },
   {
    "duration": 23,
    "start_time": "2023-02-03T11:55:22.858Z"
   },
   {
    "duration": 4,
    "start_time": "2023-02-03T12:02:15.806Z"
   },
   {
    "duration": 79,
    "start_time": "2023-02-03T12:02:15.814Z"
   },
   {
    "duration": 20,
    "start_time": "2023-02-03T12:02:15.895Z"
   },
   {
    "duration": 40,
    "start_time": "2023-02-03T12:02:15.917Z"
   },
   {
    "duration": 43,
    "start_time": "2023-02-03T12:02:15.960Z"
   },
   {
    "duration": 0,
    "start_time": "2023-02-03T12:02:16.005Z"
   },
   {
    "duration": 0,
    "start_time": "2023-02-03T12:02:16.006Z"
   },
   {
    "duration": 0,
    "start_time": "2023-02-03T12:02:16.007Z"
   },
   {
    "duration": 0,
    "start_time": "2023-02-03T12:02:16.009Z"
   },
   {
    "duration": 0,
    "start_time": "2023-02-03T12:02:16.010Z"
   },
   {
    "duration": 0,
    "start_time": "2023-02-03T12:02:16.011Z"
   },
   {
    "duration": 0,
    "start_time": "2023-02-03T12:02:16.012Z"
   },
   {
    "duration": 0,
    "start_time": "2023-02-03T12:02:16.013Z"
   },
   {
    "duration": 0,
    "start_time": "2023-02-03T12:02:16.015Z"
   },
   {
    "duration": 22,
    "start_time": "2023-02-03T12:02:45.096Z"
   },
   {
    "duration": 24,
    "start_time": "2023-02-03T12:02:55.935Z"
   },
   {
    "duration": 33,
    "start_time": "2023-02-03T12:09:57.192Z"
   },
   {
    "duration": 23,
    "start_time": "2023-02-03T12:11:52.613Z"
   },
   {
    "duration": 1224,
    "start_time": "2023-02-03T12:21:40.186Z"
   },
   {
    "duration": 26,
    "start_time": "2023-02-03T12:22:17.807Z"
   },
   {
    "duration": 34,
    "start_time": "2023-02-03T12:23:08.588Z"
   },
   {
    "duration": 10,
    "start_time": "2023-02-03T12:24:27.904Z"
   },
   {
    "duration": 1178,
    "start_time": "2023-02-03T13:52:07.569Z"
   },
   {
    "duration": 121,
    "start_time": "2023-02-03T13:56:33.896Z"
   },
   {
    "duration": 4,
    "start_time": "2023-02-03T13:56:37.589Z"
   },
   {
    "duration": 208,
    "start_time": "2023-02-03T13:56:37.595Z"
   },
   {
    "duration": 25,
    "start_time": "2023-02-03T13:56:37.806Z"
   },
   {
    "duration": 39,
    "start_time": "2023-02-03T13:56:37.833Z"
   },
   {
    "duration": 17,
    "start_time": "2023-02-03T13:56:37.893Z"
   },
   {
    "duration": 0,
    "start_time": "2023-02-03T13:56:37.912Z"
   },
   {
    "duration": 0,
    "start_time": "2023-02-03T13:56:37.913Z"
   },
   {
    "duration": 0,
    "start_time": "2023-02-03T13:56:37.915Z"
   },
   {
    "duration": 0,
    "start_time": "2023-02-03T13:56:37.916Z"
   },
   {
    "duration": 0,
    "start_time": "2023-02-03T13:56:37.917Z"
   },
   {
    "duration": 0,
    "start_time": "2023-02-03T13:56:37.919Z"
   },
   {
    "duration": 0,
    "start_time": "2023-02-03T13:56:37.921Z"
   },
   {
    "duration": 0,
    "start_time": "2023-02-03T13:56:37.922Z"
   },
   {
    "duration": 0,
    "start_time": "2023-02-03T13:56:37.926Z"
   },
   {
    "duration": 39,
    "start_time": "2023-02-03T13:57:03.575Z"
   },
   {
    "duration": 33,
    "start_time": "2023-02-03T13:58:00.842Z"
   },
   {
    "duration": 32,
    "start_time": "2023-02-03T14:09:07.436Z"
   },
   {
    "duration": 55,
    "start_time": "2023-02-03T14:09:34.844Z"
   },
   {
    "duration": 54,
    "start_time": "2023-02-03T14:09:58.122Z"
   },
   {
    "duration": 36,
    "start_time": "2023-02-03T14:11:14.523Z"
   },
   {
    "duration": 36,
    "start_time": "2023-02-03T14:11:43.171Z"
   },
   {
    "duration": 24,
    "start_time": "2023-02-03T14:13:19.141Z"
   },
   {
    "duration": 22,
    "start_time": "2023-02-03T14:15:36.793Z"
   },
   {
    "duration": 4,
    "start_time": "2023-02-03T14:15:38.798Z"
   },
   {
    "duration": 74,
    "start_time": "2023-02-03T14:15:38.804Z"
   },
   {
    "duration": 21,
    "start_time": "2023-02-03T14:15:38.880Z"
   },
   {
    "duration": 57,
    "start_time": "2023-02-03T14:15:38.903Z"
   },
   {
    "duration": 58,
    "start_time": "2023-02-03T14:15:38.962Z"
   },
   {
    "duration": 35,
    "start_time": "2023-02-03T14:15:39.022Z"
   },
   {
    "duration": 4,
    "start_time": "2023-02-03T14:15:39.059Z"
   },
   {
    "duration": 38,
    "start_time": "2023-02-03T14:15:39.065Z"
   },
   {
    "duration": 0,
    "start_time": "2023-02-03T14:15:39.106Z"
   },
   {
    "duration": 0,
    "start_time": "2023-02-03T14:15:39.107Z"
   },
   {
    "duration": 0,
    "start_time": "2023-02-03T14:15:39.108Z"
   },
   {
    "duration": 0,
    "start_time": "2023-02-03T14:15:39.110Z"
   },
   {
    "duration": 0,
    "start_time": "2023-02-03T14:15:39.111Z"
   },
   {
    "duration": 0,
    "start_time": "2023-02-03T14:15:39.113Z"
   },
   {
    "duration": 0,
    "start_time": "2023-02-03T14:15:39.115Z"
   },
   {
    "duration": 1151,
    "start_time": "2023-02-03T19:07:19.233Z"
   },
   {
    "duration": 221,
    "start_time": "2023-02-03T19:07:20.386Z"
   },
   {
    "duration": 30,
    "start_time": "2023-02-03T19:07:20.609Z"
   },
   {
    "duration": 49,
    "start_time": "2023-02-03T19:07:20.641Z"
   },
   {
    "duration": 55,
    "start_time": "2023-02-03T19:07:20.693Z"
   },
   {
    "duration": 33,
    "start_time": "2023-02-03T19:07:20.750Z"
   },
   {
    "duration": 4,
    "start_time": "2023-02-03T19:07:20.785Z"
   },
   {
    "duration": 119,
    "start_time": "2023-02-03T19:07:20.790Z"
   },
   {
    "duration": 0,
    "start_time": "2023-02-03T19:07:20.910Z"
   },
   {
    "duration": 0,
    "start_time": "2023-02-03T19:07:20.912Z"
   },
   {
    "duration": 0,
    "start_time": "2023-02-03T19:07:20.913Z"
   },
   {
    "duration": 0,
    "start_time": "2023-02-03T19:07:20.914Z"
   },
   {
    "duration": 0,
    "start_time": "2023-02-03T19:07:20.915Z"
   },
   {
    "duration": 0,
    "start_time": "2023-02-03T19:07:20.915Z"
   },
   {
    "duration": 14,
    "start_time": "2023-02-03T19:09:22.367Z"
   },
   {
    "duration": 19,
    "start_time": "2023-02-03T19:22:29.880Z"
   },
   {
    "duration": 46,
    "start_time": "2023-02-03T19:22:49.225Z"
   },
   {
    "duration": 33,
    "start_time": "2023-02-03T19:22:53.260Z"
   },
   {
    "duration": 13,
    "start_time": "2023-02-03T19:22:56.692Z"
   },
   {
    "duration": 74,
    "start_time": "2023-02-03T19:36:32.934Z"
   },
   {
    "duration": 5871,
    "start_time": "2023-02-03T19:36:40.192Z"
   },
   {
    "duration": 1846,
    "start_time": "2023-02-03T19:37:00.835Z"
   },
   {
    "duration": 909,
    "start_time": "2023-02-03T19:37:36.222Z"
   },
   {
    "duration": 70,
    "start_time": "2023-02-03T19:37:37.133Z"
   },
   {
    "duration": 22,
    "start_time": "2023-02-03T19:37:37.205Z"
   },
   {
    "duration": 34,
    "start_time": "2023-02-03T19:37:37.229Z"
   },
   {
    "duration": 1876,
    "start_time": "2023-02-03T19:37:37.265Z"
   },
   {
    "duration": 0,
    "start_time": "2023-02-03T19:37:39.143Z"
   },
   {
    "duration": 0,
    "start_time": "2023-02-03T19:37:39.144Z"
   },
   {
    "duration": 0,
    "start_time": "2023-02-03T19:37:39.145Z"
   },
   {
    "duration": 0,
    "start_time": "2023-02-03T19:37:39.146Z"
   },
   {
    "duration": 0,
    "start_time": "2023-02-03T19:37:39.147Z"
   },
   {
    "duration": 0,
    "start_time": "2023-02-03T19:37:39.148Z"
   },
   {
    "duration": 0,
    "start_time": "2023-02-03T19:37:39.149Z"
   },
   {
    "duration": 0,
    "start_time": "2023-02-03T19:37:39.150Z"
   },
   {
    "duration": 0,
    "start_time": "2023-02-03T19:37:39.151Z"
   },
   {
    "duration": 0,
    "start_time": "2023-02-03T19:37:39.152Z"
   },
   {
    "duration": 48,
    "start_time": "2023-02-03T19:43:10.402Z"
   },
   {
    "duration": 16,
    "start_time": "2023-02-03T19:43:21.867Z"
   },
   {
    "duration": 4,
    "start_time": "2023-02-03T19:43:27.178Z"
   },
   {
    "duration": 91,
    "start_time": "2023-02-03T19:43:27.184Z"
   },
   {
    "duration": 25,
    "start_time": "2023-02-03T19:43:27.277Z"
   },
   {
    "duration": 67,
    "start_time": "2023-02-03T19:43:27.305Z"
   },
   {
    "duration": 2104,
    "start_time": "2023-02-03T19:43:27.373Z"
   },
   {
    "duration": 0,
    "start_time": "2023-02-03T19:43:29.479Z"
   },
   {
    "duration": 0,
    "start_time": "2023-02-03T19:43:29.481Z"
   },
   {
    "duration": 0,
    "start_time": "2023-02-03T19:43:29.482Z"
   },
   {
    "duration": 0,
    "start_time": "2023-02-03T19:43:29.483Z"
   },
   {
    "duration": 0,
    "start_time": "2023-02-03T19:43:29.485Z"
   },
   {
    "duration": 0,
    "start_time": "2023-02-03T19:43:29.485Z"
   },
   {
    "duration": 0,
    "start_time": "2023-02-03T19:43:29.487Z"
   },
   {
    "duration": 0,
    "start_time": "2023-02-03T19:43:29.488Z"
   },
   {
    "duration": 0,
    "start_time": "2023-02-03T19:43:29.488Z"
   },
   {
    "duration": 0,
    "start_time": "2023-02-03T19:43:29.490Z"
   },
   {
    "duration": 2031,
    "start_time": "2023-02-03T19:44:44.150Z"
   },
   {
    "duration": 8,
    "start_time": "2023-02-03T19:47:48.241Z"
   },
   {
    "duration": 2062,
    "start_time": "2023-02-03T19:47:55.043Z"
   },
   {
    "duration": 37,
    "start_time": "2023-02-03T20:21:33.577Z"
   },
   {
    "duration": 4,
    "start_time": "2023-02-03T20:21:37.095Z"
   },
   {
    "duration": 72,
    "start_time": "2023-02-03T20:21:37.100Z"
   },
   {
    "duration": 20,
    "start_time": "2023-02-03T20:21:37.174Z"
   },
   {
    "duration": 53,
    "start_time": "2023-02-03T20:21:37.196Z"
   },
   {
    "duration": 1815,
    "start_time": "2023-02-03T20:21:37.251Z"
   },
   {
    "duration": 37,
    "start_time": "2023-02-03T20:21:39.067Z"
   },
   {
    "duration": 4,
    "start_time": "2023-02-03T20:21:39.106Z"
   },
   {
    "duration": 31,
    "start_time": "2023-02-03T20:21:39.112Z"
   },
   {
    "duration": 0,
    "start_time": "2023-02-03T20:21:39.145Z"
   },
   {
    "duration": 0,
    "start_time": "2023-02-03T20:21:39.146Z"
   },
   {
    "duration": 0,
    "start_time": "2023-02-03T20:21:39.147Z"
   },
   {
    "duration": 0,
    "start_time": "2023-02-03T20:21:39.149Z"
   },
   {
    "duration": 0,
    "start_time": "2023-02-03T20:21:39.150Z"
   },
   {
    "duration": 0,
    "start_time": "2023-02-03T20:21:39.151Z"
   },
   {
    "duration": 0,
    "start_time": "2023-02-03T20:21:39.152Z"
   },
   {
    "duration": 1788,
    "start_time": "2023-02-03T20:22:22.159Z"
   },
   {
    "duration": 2047,
    "start_time": "2023-02-03T20:26:49.657Z"
   },
   {
    "duration": 2101,
    "start_time": "2023-02-03T20:27:56.349Z"
   },
   {
    "duration": 2022,
    "start_time": "2023-02-03T20:28:12.609Z"
   },
   {
    "duration": 2016,
    "start_time": "2023-02-03T20:28:46.868Z"
   },
   {
    "duration": 1875,
    "start_time": "2023-02-03T20:30:30.709Z"
   },
   {
    "duration": 1856,
    "start_time": "2023-02-03T20:32:16.048Z"
   },
   {
    "duration": 1967,
    "start_time": "2023-02-03T20:32:47.190Z"
   },
   {
    "duration": 30,
    "start_time": "2023-02-03T20:33:31.885Z"
   },
   {
    "duration": 28,
    "start_time": "2023-02-03T20:34:13.872Z"
   },
   {
    "duration": 2080,
    "start_time": "2023-02-03T20:34:23.842Z"
   },
   {
    "duration": 2056,
    "start_time": "2023-02-03T20:36:04.224Z"
   },
   {
    "duration": 2003,
    "start_time": "2023-02-03T20:36:21.378Z"
   },
   {
    "duration": 50,
    "start_time": "2023-02-03T20:38:43.270Z"
   },
   {
    "duration": 24,
    "start_time": "2023-02-03T20:38:50.832Z"
   },
   {
    "duration": 1907,
    "start_time": "2023-02-03T20:39:31.650Z"
   },
   {
    "duration": 1873,
    "start_time": "2023-02-03T20:40:21.365Z"
   },
   {
    "duration": 1846,
    "start_time": "2023-02-03T20:41:14.171Z"
   },
   {
    "duration": 1934,
    "start_time": "2023-02-03T20:41:26.022Z"
   },
   {
    "duration": 1909,
    "start_time": "2023-02-03T20:47:03.107Z"
   },
   {
    "duration": 1841,
    "start_time": "2023-02-03T20:47:22.167Z"
   },
   {
    "duration": 1860,
    "start_time": "2023-02-03T20:47:50.133Z"
   },
   {
    "duration": 2240,
    "start_time": "2023-02-03T20:49:31.916Z"
   },
   {
    "duration": 2153,
    "start_time": "2023-02-03T20:51:57.251Z"
   },
   {
    "duration": 7596,
    "start_time": "2023-02-03T21:15:40.366Z"
   },
   {
    "duration": 990,
    "start_time": "2023-02-03T21:15:51.683Z"
   },
   {
    "duration": 222,
    "start_time": "2023-02-03T21:15:52.675Z"
   },
   {
    "duration": 47,
    "start_time": "2023-02-03T21:15:52.899Z"
   },
   {
    "duration": 34,
    "start_time": "2023-02-03T21:15:52.949Z"
   },
   {
    "duration": 2611,
    "start_time": "2023-02-03T21:15:52.985Z"
   },
   {
    "duration": 0,
    "start_time": "2023-02-03T21:15:55.598Z"
   },
   {
    "duration": 0,
    "start_time": "2023-02-03T21:15:55.599Z"
   },
   {
    "duration": 0,
    "start_time": "2023-02-03T21:15:55.600Z"
   },
   {
    "duration": 0,
    "start_time": "2023-02-03T21:15:55.601Z"
   },
   {
    "duration": 0,
    "start_time": "2023-02-03T21:15:55.602Z"
   },
   {
    "duration": 0,
    "start_time": "2023-02-03T21:15:55.603Z"
   },
   {
    "duration": 0,
    "start_time": "2023-02-03T21:15:55.604Z"
   },
   {
    "duration": 0,
    "start_time": "2023-02-03T21:15:55.605Z"
   },
   {
    "duration": 0,
    "start_time": "2023-02-03T21:15:55.606Z"
   },
   {
    "duration": 0,
    "start_time": "2023-02-03T21:15:55.607Z"
   },
   {
    "duration": 2767,
    "start_time": "2023-02-03T21:24:27.206Z"
   },
   {
    "duration": 5,
    "start_time": "2023-02-03T21:24:47.394Z"
   },
   {
    "duration": 94,
    "start_time": "2023-02-03T21:24:47.401Z"
   },
   {
    "duration": 20,
    "start_time": "2023-02-03T21:24:47.497Z"
   },
   {
    "duration": 48,
    "start_time": "2023-02-03T21:24:47.519Z"
   },
   {
    "duration": 2585,
    "start_time": "2023-02-03T21:24:47.569Z"
   },
   {
    "duration": 0,
    "start_time": "2023-02-03T21:24:50.158Z"
   },
   {
    "duration": 0,
    "start_time": "2023-02-03T21:24:50.160Z"
   },
   {
    "duration": 0,
    "start_time": "2023-02-03T21:24:50.161Z"
   },
   {
    "duration": 0,
    "start_time": "2023-02-03T21:24:50.163Z"
   },
   {
    "duration": 0,
    "start_time": "2023-02-03T21:24:50.165Z"
   },
   {
    "duration": 0,
    "start_time": "2023-02-03T21:24:50.169Z"
   },
   {
    "duration": 0,
    "start_time": "2023-02-03T21:24:50.170Z"
   },
   {
    "duration": 0,
    "start_time": "2023-02-03T21:24:50.172Z"
   },
   {
    "duration": 0,
    "start_time": "2023-02-03T21:24:50.173Z"
   },
   {
    "duration": 0,
    "start_time": "2023-02-03T21:24:50.174Z"
   },
   {
    "duration": 2411,
    "start_time": "2023-02-03T21:26:04.176Z"
   },
   {
    "duration": 2253,
    "start_time": "2023-02-03T22:56:49.286Z"
   },
   {
    "duration": 2342,
    "start_time": "2023-02-03T22:57:13.061Z"
   },
   {
    "duration": 4,
    "start_time": "2023-02-03T22:57:44.432Z"
   },
   {
    "duration": 82,
    "start_time": "2023-02-03T22:57:44.438Z"
   },
   {
    "duration": 20,
    "start_time": "2023-02-03T22:57:44.521Z"
   },
   {
    "duration": 42,
    "start_time": "2023-02-03T22:57:44.543Z"
   },
   {
    "duration": 2453,
    "start_time": "2023-02-03T22:57:44.587Z"
   },
   {
    "duration": 0,
    "start_time": "2023-02-03T22:57:47.042Z"
   },
   {
    "duration": 0,
    "start_time": "2023-02-03T22:57:47.043Z"
   },
   {
    "duration": 0,
    "start_time": "2023-02-03T22:57:47.044Z"
   },
   {
    "duration": 0,
    "start_time": "2023-02-03T22:57:47.046Z"
   },
   {
    "duration": 0,
    "start_time": "2023-02-03T22:57:47.047Z"
   },
   {
    "duration": 0,
    "start_time": "2023-02-03T22:57:47.048Z"
   },
   {
    "duration": 0,
    "start_time": "2023-02-03T22:57:47.049Z"
   },
   {
    "duration": 0,
    "start_time": "2023-02-03T22:57:47.050Z"
   },
   {
    "duration": 0,
    "start_time": "2023-02-03T22:57:47.051Z"
   },
   {
    "duration": 0,
    "start_time": "2023-02-03T22:57:47.052Z"
   },
   {
    "duration": 2383,
    "start_time": "2023-02-03T22:58:46.224Z"
   },
   {
    "duration": 2404,
    "start_time": "2023-02-03T23:07:43.631Z"
   },
   {
    "duration": 46,
    "start_time": "2023-02-03T23:07:57.344Z"
   },
   {
    "duration": 27,
    "start_time": "2023-02-03T23:08:00.144Z"
   },
   {
    "duration": 2293,
    "start_time": "2023-02-03T23:10:23.067Z"
   },
   {
    "duration": 44,
    "start_time": "2023-02-03T23:10:27.435Z"
   },
   {
    "duration": 23,
    "start_time": "2023-02-03T23:10:29.824Z"
   },
   {
    "duration": 2311,
    "start_time": "2023-02-03T23:11:53.695Z"
   },
   {
    "duration": 2165,
    "start_time": "2023-02-03T23:12:31.662Z"
   },
   {
    "duration": 51,
    "start_time": "2023-02-03T23:12:38.116Z"
   },
   {
    "duration": 733,
    "start_time": "2023-02-03T23:12:46.024Z"
   },
   {
    "duration": 1774,
    "start_time": "2023-02-03T23:12:50.063Z"
   },
   {
    "duration": 62227,
    "start_time": "2023-02-03T23:14:01.927Z"
   },
   {
    "duration": 1805,
    "start_time": "2023-02-03T23:44:14.536Z"
   },
   {
    "duration": 682,
    "start_time": "2023-02-03T23:44:40.624Z"
   },
   {
    "duration": 62754,
    "start_time": "2023-02-03T23:44:50.329Z"
   },
   {
    "duration": 14,
    "start_time": "2023-02-03T23:46:17.721Z"
   },
   {
    "duration": 132933,
    "start_time": "2023-02-03T23:46:20.963Z"
   },
   {
    "duration": 52,
    "start_time": "2023-02-04T00:00:23.891Z"
   },
   {
    "duration": 5,
    "start_time": "2023-02-04T00:09:06.649Z"
   },
   {
    "duration": 106,
    "start_time": "2023-02-04T00:09:06.656Z"
   },
   {
    "duration": 23,
    "start_time": "2023-02-04T00:09:06.764Z"
   },
   {
    "duration": 51,
    "start_time": "2023-02-04T00:09:06.789Z"
   },
   {
    "duration": 2207,
    "start_time": "2023-02-04T00:09:06.843Z"
   },
   {
    "duration": 30,
    "start_time": "2023-02-04T00:09:09.052Z"
   },
   {
    "duration": 38,
    "start_time": "2023-02-04T00:09:09.084Z"
   },
   {
    "duration": 4,
    "start_time": "2023-02-04T00:09:09.124Z"
   },
   {
    "duration": 694,
    "start_time": "2023-02-04T00:09:09.137Z"
   },
   {
    "duration": 1611,
    "start_time": "2023-02-04T00:09:09.833Z"
   },
   {
    "duration": 62161,
    "start_time": "2023-02-04T00:09:11.446Z"
   },
   {
    "duration": 1727,
    "start_time": "2023-02-04T00:10:13.610Z"
   },
   {
    "duration": 756,
    "start_time": "2023-02-04T00:10:15.341Z"
   },
   {
    "duration": 88866,
    "start_time": "2023-02-04T00:10:16.099Z"
   },
   {
    "duration": 17,
    "start_time": "2023-02-04T00:11:44.967Z"
   },
   {
    "duration": 132692,
    "start_time": "2023-02-04T00:11:44.986Z"
   },
   {
    "duration": 434,
    "start_time": "2023-02-04T00:13:57.679Z"
   },
   {
    "duration": 27,
    "start_time": "2023-02-04T00:15:49.936Z"
   },
   {
    "duration": 1138,
    "start_time": "2023-02-05T09:25:43.467Z"
   },
   {
    "duration": 197,
    "start_time": "2023-02-05T09:25:44.607Z"
   },
   {
    "duration": 25,
    "start_time": "2023-02-05T09:25:44.805Z"
   },
   {
    "duration": 36,
    "start_time": "2023-02-05T09:25:44.832Z"
   },
   {
    "duration": 6768,
    "start_time": "2023-02-05T09:25:44.870Z"
   },
   {
    "duration": 85,
    "start_time": "2023-02-05T09:25:51.640Z"
   },
   {
    "duration": 0,
    "start_time": "2023-02-05T09:25:51.726Z"
   },
   {
    "duration": 0,
    "start_time": "2023-02-05T09:25:51.728Z"
   },
   {
    "duration": 0,
    "start_time": "2023-02-05T09:25:51.729Z"
   },
   {
    "duration": 0,
    "start_time": "2023-02-05T09:25:51.730Z"
   },
   {
    "duration": 0,
    "start_time": "2023-02-05T09:25:51.731Z"
   },
   {
    "duration": 0,
    "start_time": "2023-02-05T09:25:51.732Z"
   },
   {
    "duration": 0,
    "start_time": "2023-02-05T09:25:51.733Z"
   },
   {
    "duration": 0,
    "start_time": "2023-02-05T09:25:51.735Z"
   },
   {
    "duration": 0,
    "start_time": "2023-02-05T09:25:51.735Z"
   },
   {
    "duration": 0,
    "start_time": "2023-02-05T09:25:51.736Z"
   },
   {
    "duration": 0,
    "start_time": "2023-02-05T09:25:51.737Z"
   },
   {
    "duration": 22,
    "start_time": "2023-02-05T09:25:59.741Z"
   },
   {
    "duration": 2155,
    "start_time": "2023-02-05T09:26:26.263Z"
   },
   {
    "duration": 24,
    "start_time": "2023-02-05T09:26:29.790Z"
   },
   {
    "duration": 5,
    "start_time": "2023-02-05T09:27:27.428Z"
   },
   {
    "duration": 79,
    "start_time": "2023-02-05T09:27:27.435Z"
   },
   {
    "duration": 19,
    "start_time": "2023-02-05T09:27:27.516Z"
   },
   {
    "duration": 28,
    "start_time": "2023-02-05T09:27:27.537Z"
   },
   {
    "duration": 2150,
    "start_time": "2023-02-05T09:27:27.568Z"
   },
   {
    "duration": 24,
    "start_time": "2023-02-05T09:27:29.720Z"
   },
   {
    "duration": 0,
    "start_time": "2023-02-05T09:27:29.746Z"
   },
   {
    "duration": 0,
    "start_time": "2023-02-05T09:27:29.747Z"
   },
   {
    "duration": 0,
    "start_time": "2023-02-05T09:27:29.749Z"
   },
   {
    "duration": 0,
    "start_time": "2023-02-05T09:27:29.750Z"
   },
   {
    "duration": 0,
    "start_time": "2023-02-05T09:27:29.751Z"
   },
   {
    "duration": 0,
    "start_time": "2023-02-05T09:27:29.752Z"
   },
   {
    "duration": 0,
    "start_time": "2023-02-05T09:27:29.753Z"
   },
   {
    "duration": 0,
    "start_time": "2023-02-05T09:27:29.754Z"
   },
   {
    "duration": 0,
    "start_time": "2023-02-05T09:27:29.756Z"
   },
   {
    "duration": 0,
    "start_time": "2023-02-05T09:27:29.757Z"
   },
   {
    "duration": 0,
    "start_time": "2023-02-05T09:27:29.758Z"
   },
   {
    "duration": 869,
    "start_time": "2023-02-05T09:28:28.666Z"
   },
   {
    "duration": 72,
    "start_time": "2023-02-05T09:28:29.537Z"
   },
   {
    "duration": 26,
    "start_time": "2023-02-05T09:28:29.610Z"
   },
   {
    "duration": 30,
    "start_time": "2023-02-05T09:28:29.638Z"
   },
   {
    "duration": 2119,
    "start_time": "2023-02-05T09:28:29.670Z"
   },
   {
    "duration": 29,
    "start_time": "2023-02-05T09:28:31.791Z"
   },
   {
    "duration": 28,
    "start_time": "2023-02-05T09:28:31.822Z"
   },
   {
    "duration": 4,
    "start_time": "2023-02-05T09:28:31.851Z"
   },
   {
    "duration": 666,
    "start_time": "2023-02-05T09:28:31.856Z"
   },
   {
    "duration": 1792,
    "start_time": "2023-02-05T09:28:32.524Z"
   },
   {
    "duration": 58968,
    "start_time": "2023-02-05T09:28:34.410Z"
   },
   {
    "duration": 1925,
    "start_time": "2023-02-05T09:29:33.380Z"
   },
   {
    "duration": 1505,
    "start_time": "2023-02-05T09:29:35.307Z"
   },
   {
    "duration": 89229,
    "start_time": "2023-02-05T09:29:36.814Z"
   },
   {
    "duration": 11,
    "start_time": "2023-02-05T09:31:06.045Z"
   },
   {
    "duration": 125194,
    "start_time": "2023-02-05T09:31:06.058Z"
   },
   {
    "duration": 432,
    "start_time": "2023-02-05T09:33:11.254Z"
   },
   {
    "duration": 638,
    "start_time": "2023-02-05T11:00:19.354Z"
   }
  ],
  "kernelspec": {
   "display_name": "Python 3 (ipykernel)",
   "language": "python",
   "name": "python3"
  },
  "language_info": {
   "codemirror_mode": {
    "name": "ipython",
    "version": 3
   },
   "file_extension": ".py",
   "mimetype": "text/x-python",
   "name": "python",
   "nbconvert_exporter": "python",
   "pygments_lexer": "ipython3",
   "version": "3.9.5"
  },
  "toc": {
   "base_numbering": 1,
   "nav_menu": {},
   "number_sections": true,
   "sideBar": true,
   "skip_h1_title": true,
   "title_cell": "Содержание",
   "title_sidebar": "Contents",
   "toc_cell": true,
   "toc_position": {},
   "toc_section_display": true,
   "toc_window_display": true
  }
 },
 "nbformat": 4,
 "nbformat_minor": 2
}
