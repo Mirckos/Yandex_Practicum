{
 "cells": [
  {
   "cell_type": "markdown",
   "metadata": {},
   "source": [
    "<div style=\"border:solid Chocolate 2px; padding: 40px\">\n",
    "\n",
    "Привет, меня зовут Александр Куимов. Я буду ревьюером твоего проекта. Ты можешь обращаться ко мне на \"ты\"😏 Надеюсь, тебя также не смутит, если я буду обращаться к тебе на \"ты\", но если это неудобно, обязательно скажи об этом!\n",
    "\n",
    "Пожалуйста, не удаляй мои комментарии, они будут особенно полезны для нашей работы в случае повторной проверки проекта. \n",
    "\n",
    "Ты также можешь реагировать на мои комментарии своими по шаблону, показанному чуть ниже. Это нужно, чтобы не создавалась путаница😉\n",
    "\n",
    "Ты можешь найти мои комментарии, обозначенные <font color='green'>зеленым</font>, <font color='gold'>желтым</font> и <font color='red'>красным</font> цветами, например:\n",
    "\n",
    "<br/>\n",
    "\n",
    "<div class=\"alert alert-success\">\n",
    "<h2> Комментарий ревьюера <a class=\"tocSkip\"> </h2>\n",
    "\n",
    "<b>Все отлично!👍:</b> В случае, если решение на отдельном шаге является полностью правильным.\n",
    "</div>\n",
    "\n",
    "<br/>\n",
    "\n",
    "<div class=\"alert alert-warning\">\n",
    "    <h2> Комментарий ревьюера <a class=\"tocSkip\"> </h2>\n",
    "    \n",
    "<b>Некоторые замечания и рекомендации💡:</b> В случае, когда решение на отдельном шаге станет еще лучше, если внести небольшие коррективы.\n",
    "</div>\n",
    "\n",
    "\n",
    "<br/>\n",
    "<div class=\"alert alert-block alert-danger\">\n",
    "<h2> Комментарий ревьюера <a class=\"tocSkip\"></h2>\n",
    "\n",
    "    \n",
    "<b>На доработку🤔:</b>\n",
    " В случае, когда решение на отдельном шаге требует существенной переработки и внесения правок. Напоминаю, что проект не может быть принят с первого раза, если ревью содержит комментарии, рекомендующие доработать шаги.\n",
    "</div>\n",
    "    \n",
    "    \n",
    "<br/>    \n",
    "<div class=\"alert alert-info\">\n",
    "<h2> Комментарий студента: <a class=\"tocSkip\"> </h2>\n",
    "\n",
    "<b>👋:</b> В такой цветовой ячейке я прошу тебя оставлять свои комментарии. Если исправляешь проект на второй итерации и выше, не забывай пожалуйста указывать номер итерации, например, \"Комментарий студента v.2\".\n",
    "</div> \n",
    "\n",
    "<br/>    \n",
    "    \n",
    "Увидев у тебя неточность, в первый раз я лишь укажу на ее наличие и дам тебе возможность самому найти и исправить ее. На реальной работе твой руководитель будет поступать также, и я пытаюсь подготовить тебя именно к работе датасаентистом. Но если ты пока не справишься с такой задачей - при следующей проверке я дам более точную подсказку!🤓"
   ]
  },
  {
   "cell_type": "markdown",
   "metadata": {
    "toc": true
   },
   "source": [
    "<h1>Содержание<span class=\"tocSkip\"></span></h1>\n",
    "<div class=\"toc\"><ul class=\"toc-item\"><li><span><a href=\"#Подготовка-данных\" data-toc-modified-id=\"Подготовка-данных-1\"><span class=\"toc-item-num\">1&nbsp;&nbsp;</span>Подготовка данных</a></span></li><li><span><a href=\"#Анализ-данных\" data-toc-modified-id=\"Анализ-данных-2\"><span class=\"toc-item-num\">2&nbsp;&nbsp;</span>Анализ данных</a></span></li><li><span><a href=\"#Модель\" data-toc-modified-id=\"Модель-3\"><span class=\"toc-item-num\">3&nbsp;&nbsp;</span>Модель</a></span></li><li><span><a href=\"#Заключение\" data-toc-modified-id=\"Заключение-4\"><span class=\"toc-item-num\">4&nbsp;&nbsp;</span>Заключение</a></span></li><li><span><a href=\"#Чек-лист-готовности-проекта\" data-toc-modified-id=\"Чек-лист-готовности-проекта-5\"><span class=\"toc-item-num\">5&nbsp;&nbsp;</span>Чек-лист готовности проекта</a></span></li></ul></div>"
   ]
  },
  {
   "cell_type": "markdown",
   "metadata": {},
   "source": [
    "# Восстановление золота из руды"
   ]
  },
  {
   "cell_type": "markdown",
   "metadata": {},
   "source": [
    "Подготовьте прототип модели машинного обучения для «Цифры». Компания разрабатывает решения для эффективной работы промышленных предприятий.\n",
    "\n",
    "Модель должна предсказать коэффициент восстановления золота из золотосодержащей руды. Используйте данные с параметрами добычи и очистки. \n",
    "\n",
    "Модель поможет оптимизировать производство, чтобы не запускать предприятие с убыточными характеристиками.\n",
    "\n",
    "Вам нужно:\n",
    "\n",
    "1. Подготовить данные;\n",
    "2. Провести исследовательский анализ данных;\n",
    "3. Построить и обучить модель.\n",
    "\n",
    "Чтобы выполнить проект, обращайтесь к библиотекам *pandas*, *matplotlib* и *sklearn.* Вам поможет их документация."
   ]
  },
  {
   "cell_type": "markdown",
   "metadata": {},
   "source": [
    "<div class=\"alert alert-success\">\n",
    "<h2> Комментарий ревьюера <a class=\"tocSkip\"> </h2>\n",
    "\n",
    "<b>Все отлично!👍:</b> \n",
    "    \n",
    "Вижу твое добавленное описание проекта. Молодец! Это поможет тебе расставлять акценты в выводах."
   ]
  },
  {
   "cell_type": "markdown",
   "metadata": {},
   "source": [
    "## Подготовка данных"
   ]
  },
  {
   "cell_type": "code",
   "execution_count": 1,
   "metadata": {},
   "outputs": [],
   "source": [
    "import pandas as pd\n",
    "import numpy as np\n",
    "from numpy import arange\n",
    "\n",
    "from sklearn.model_selection import train_test_split\n",
    "from sklearn.model_selection import cross_val_score\n",
    "from sklearn.linear_model import LinearRegression\n",
    "from sklearn.preprocessing import StandardScaler \n",
    "from sklearn.utils import shuffle\n",
    "from sklearn.compose import make_column_transformer\n",
    "from sklearn.metrics import mean_squared_error\n",
    "from sklearn.metrics import mean_absolute_error\n",
    "from sklearn.metrics import make_scorer\n",
    "from numpy.random import RandomState\n",
    "import seaborn as sns\n",
    "import matplotlib.pyplot as plt\n",
    "\n",
    "from sklearn.dummy import DummyRegressor\n",
    "from sklearn.ensemble import RandomForestRegressor\n",
    "from sklearn.model_selection import train_test_split\n",
    "from sklearn.tree import DecisionTreeRegressor\n",
    "from sklearn.preprocessing import StandardScaler \n",
    "from sklearn.utils import shuffle\n",
    "from sklearn.compose import make_column_transformer\n",
    "from sklearn.metrics import mean_squared_error\n",
    "\n",
    "from sklearn.neighbors import KNeighborsRegressor\n",
    "pd.options.mode.chained_assignment = None"
   ]
  },
  {
   "cell_type": "markdown",
   "metadata": {},
   "source": [
    "Загрузим и рассмотрим три датасета:\n",
    "- gold_recovery_train_new.csv — обучающая выборка\n",
    "- gold_recovery_test_new.csv — тестовая выборка\n",
    "- gold_recovery_full_new.csv — полный набор данных"
   ]
  },
  {
   "cell_type": "code",
   "execution_count": 2,
   "metadata": {},
   "outputs": [
    {
     "name": "stdout",
     "output_type": "stream",
     "text": [
      "<class 'pandas.core.frame.DataFrame'>\n",
      "RangeIndex: 14149 entries, 0 to 14148\n",
      "Data columns (total 87 columns):\n",
      " #   Column                                              Non-Null Count  Dtype  \n",
      "---  ------                                              --------------  -----  \n",
      " 0   date                                                14149 non-null  object \n",
      " 1   final.output.concentrate_ag                         14148 non-null  float64\n",
      " 2   final.output.concentrate_pb                         14148 non-null  float64\n",
      " 3   final.output.concentrate_sol                        13938 non-null  float64\n",
      " 4   final.output.concentrate_au                         14149 non-null  float64\n",
      " 5   final.output.recovery                               14149 non-null  float64\n",
      " 6   final.output.tail_ag                                14149 non-null  float64\n",
      " 7   final.output.tail_pb                                14049 non-null  float64\n",
      " 8   final.output.tail_sol                               14144 non-null  float64\n",
      " 9   final.output.tail_au                                14149 non-null  float64\n",
      " 10  primary_cleaner.input.sulfate                       14129 non-null  float64\n",
      " 11  primary_cleaner.input.depressant                    14117 non-null  float64\n",
      " 12  primary_cleaner.input.feed_size                     14149 non-null  float64\n",
      " 13  primary_cleaner.input.xanthate                      14049 non-null  float64\n",
      " 14  primary_cleaner.output.concentrate_ag               14149 non-null  float64\n",
      " 15  primary_cleaner.output.concentrate_pb               14063 non-null  float64\n",
      " 16  primary_cleaner.output.concentrate_sol              13863 non-null  float64\n",
      " 17  primary_cleaner.output.concentrate_au               14149 non-null  float64\n",
      " 18  primary_cleaner.output.tail_ag                      14148 non-null  float64\n",
      " 19  primary_cleaner.output.tail_pb                      14134 non-null  float64\n",
      " 20  primary_cleaner.output.tail_sol                     14103 non-null  float64\n",
      " 21  primary_cleaner.output.tail_au                      14149 non-null  float64\n",
      " 22  primary_cleaner.state.floatbank8_a_air              14145 non-null  float64\n",
      " 23  primary_cleaner.state.floatbank8_a_level            14148 non-null  float64\n",
      " 24  primary_cleaner.state.floatbank8_b_air              14145 non-null  float64\n",
      " 25  primary_cleaner.state.floatbank8_b_level            14148 non-null  float64\n",
      " 26  primary_cleaner.state.floatbank8_c_air              14147 non-null  float64\n",
      " 27  primary_cleaner.state.floatbank8_c_level            14148 non-null  float64\n",
      " 28  primary_cleaner.state.floatbank8_d_air              14146 non-null  float64\n",
      " 29  primary_cleaner.state.floatbank8_d_level            14148 non-null  float64\n",
      " 30  rougher.calculation.sulfate_to_au_concentrate       14148 non-null  float64\n",
      " 31  rougher.calculation.floatbank10_sulfate_to_au_feed  14148 non-null  float64\n",
      " 32  rougher.calculation.floatbank11_sulfate_to_au_feed  14148 non-null  float64\n",
      " 33  rougher.calculation.au_pb_ratio                     14149 non-null  float64\n",
      " 34  rougher.input.feed_ag                               14149 non-null  float64\n",
      " 35  rougher.input.feed_pb                               14049 non-null  float64\n",
      " 36  rougher.input.feed_rate                             14141 non-null  float64\n",
      " 37  rougher.input.feed_size                             14005 non-null  float64\n",
      " 38  rougher.input.feed_sol                              14071 non-null  float64\n",
      " 39  rougher.input.feed_au                               14149 non-null  float64\n",
      " 40  rougher.input.floatbank10_sulfate                   14120 non-null  float64\n",
      " 41  rougher.input.floatbank10_xanthate                  14141 non-null  float64\n",
      " 42  rougher.input.floatbank11_sulfate                   14113 non-null  float64\n",
      " 43  rougher.input.floatbank11_xanthate                  13721 non-null  float64\n",
      " 44  rougher.output.concentrate_ag                       14149 non-null  float64\n",
      " 45  rougher.output.concentrate_pb                       14149 non-null  float64\n",
      " 46  rougher.output.concentrate_sol                      14127 non-null  float64\n",
      " 47  rougher.output.concentrate_au                       14149 non-null  float64\n",
      " 48  rougher.output.recovery                             14149 non-null  float64\n",
      " 49  rougher.output.tail_ag                              14148 non-null  float64\n",
      " 50  rougher.output.tail_pb                              14149 non-null  float64\n",
      " 51  rougher.output.tail_sol                             14149 non-null  float64\n",
      " 52  rougher.output.tail_au                              14149 non-null  float64\n",
      " 53  rougher.state.floatbank10_a_air                     14148 non-null  float64\n",
      " 54  rougher.state.floatbank10_a_level                   14148 non-null  float64\n",
      " 55  rougher.state.floatbank10_b_air                     14148 non-null  float64\n",
      " 56  rougher.state.floatbank10_b_level                   14148 non-null  float64\n",
      " 57  rougher.state.floatbank10_c_air                     14148 non-null  float64\n",
      " 58  rougher.state.floatbank10_c_level                   14148 non-null  float64\n",
      " 59  rougher.state.floatbank10_d_air                     14149 non-null  float64\n",
      " 60  rougher.state.floatbank10_d_level                   14149 non-null  float64\n",
      " 61  rougher.state.floatbank10_e_air                     13713 non-null  float64\n",
      " 62  rougher.state.floatbank10_e_level                   14149 non-null  float64\n",
      " 63  rougher.state.floatbank10_f_air                     14149 non-null  float64\n",
      " 64  rougher.state.floatbank10_f_level                   14149 non-null  float64\n",
      " 65  secondary_cleaner.output.tail_ag                    14147 non-null  float64\n",
      " 66  secondary_cleaner.output.tail_pb                    14139 non-null  float64\n",
      " 67  secondary_cleaner.output.tail_sol                   12544 non-null  float64\n",
      " 68  secondary_cleaner.output.tail_au                    14149 non-null  float64\n",
      " 69  secondary_cleaner.state.floatbank2_a_air            13932 non-null  float64\n",
      " 70  secondary_cleaner.state.floatbank2_a_level          14148 non-null  float64\n",
      " 71  secondary_cleaner.state.floatbank2_b_air            14128 non-null  float64\n",
      " 72  secondary_cleaner.state.floatbank2_b_level          14148 non-null  float64\n",
      " 73  secondary_cleaner.state.floatbank3_a_air            14145 non-null  float64\n",
      " 74  secondary_cleaner.state.floatbank3_a_level          14148 non-null  float64\n",
      " 75  secondary_cleaner.state.floatbank3_b_air            14148 non-null  float64\n",
      " 76  secondary_cleaner.state.floatbank3_b_level          14148 non-null  float64\n",
      " 77  secondary_cleaner.state.floatbank4_a_air            14143 non-null  float64\n",
      " 78  secondary_cleaner.state.floatbank4_a_level          14148 non-null  float64\n",
      " 79  secondary_cleaner.state.floatbank4_b_air            14148 non-null  float64\n",
      " 80  secondary_cleaner.state.floatbank4_b_level          14148 non-null  float64\n",
      " 81  secondary_cleaner.state.floatbank5_a_air            14148 non-null  float64\n",
      " 82  secondary_cleaner.state.floatbank5_a_level          14148 non-null  float64\n",
      " 83  secondary_cleaner.state.floatbank5_b_air            14148 non-null  float64\n",
      " 84  secondary_cleaner.state.floatbank5_b_level          14148 non-null  float64\n",
      " 85  secondary_cleaner.state.floatbank6_a_air            14147 non-null  float64\n",
      " 86  secondary_cleaner.state.floatbank6_a_level          14148 non-null  float64\n",
      "dtypes: float64(86), object(1)\n",
      "memory usage: 9.4+ MB\n"
     ]
    },
    {
     "data": {
      "text/html": [
       "<div>\n",
       "<style scoped>\n",
       "    .dataframe tbody tr th:only-of-type {\n",
       "        vertical-align: middle;\n",
       "    }\n",
       "\n",
       "    .dataframe tbody tr th {\n",
       "        vertical-align: top;\n",
       "    }\n",
       "\n",
       "    .dataframe thead th {\n",
       "        text-align: right;\n",
       "    }\n",
       "</style>\n",
       "<table border=\"1\" class=\"dataframe\">\n",
       "  <thead>\n",
       "    <tr style=\"text-align: right;\">\n",
       "      <th></th>\n",
       "      <th>date</th>\n",
       "      <th>final.output.concentrate_ag</th>\n",
       "      <th>final.output.concentrate_pb</th>\n",
       "      <th>final.output.concentrate_sol</th>\n",
       "      <th>final.output.concentrate_au</th>\n",
       "      <th>final.output.recovery</th>\n",
       "      <th>final.output.tail_ag</th>\n",
       "      <th>final.output.tail_pb</th>\n",
       "      <th>final.output.tail_sol</th>\n",
       "      <th>final.output.tail_au</th>\n",
       "      <th>...</th>\n",
       "      <th>secondary_cleaner.state.floatbank4_a_air</th>\n",
       "      <th>secondary_cleaner.state.floatbank4_a_level</th>\n",
       "      <th>secondary_cleaner.state.floatbank4_b_air</th>\n",
       "      <th>secondary_cleaner.state.floatbank4_b_level</th>\n",
       "      <th>secondary_cleaner.state.floatbank5_a_air</th>\n",
       "      <th>secondary_cleaner.state.floatbank5_a_level</th>\n",
       "      <th>secondary_cleaner.state.floatbank5_b_air</th>\n",
       "      <th>secondary_cleaner.state.floatbank5_b_level</th>\n",
       "      <th>secondary_cleaner.state.floatbank6_a_air</th>\n",
       "      <th>secondary_cleaner.state.floatbank6_a_level</th>\n",
       "    </tr>\n",
       "  </thead>\n",
       "  <tbody>\n",
       "    <tr>\n",
       "      <th>0</th>\n",
       "      <td>2016-01-15 00:00:00</td>\n",
       "      <td>6.055403</td>\n",
       "      <td>9.889648</td>\n",
       "      <td>5.507324</td>\n",
       "      <td>42.192020</td>\n",
       "      <td>70.541216</td>\n",
       "      <td>10.411962</td>\n",
       "      <td>0.895447</td>\n",
       "      <td>16.904297</td>\n",
       "      <td>2.143149</td>\n",
       "      <td>...</td>\n",
       "      <td>14.016835</td>\n",
       "      <td>-502.488007</td>\n",
       "      <td>12.099931</td>\n",
       "      <td>-504.715942</td>\n",
       "      <td>9.925633</td>\n",
       "      <td>-498.310211</td>\n",
       "      <td>8.079666</td>\n",
       "      <td>-500.470978</td>\n",
       "      <td>14.151341</td>\n",
       "      <td>-605.841980</td>\n",
       "    </tr>\n",
       "    <tr>\n",
       "      <th>1</th>\n",
       "      <td>2016-01-15 01:00:00</td>\n",
       "      <td>6.029369</td>\n",
       "      <td>9.968944</td>\n",
       "      <td>5.257781</td>\n",
       "      <td>42.701629</td>\n",
       "      <td>69.266198</td>\n",
       "      <td>10.462676</td>\n",
       "      <td>0.927452</td>\n",
       "      <td>16.634514</td>\n",
       "      <td>2.224930</td>\n",
       "      <td>...</td>\n",
       "      <td>13.992281</td>\n",
       "      <td>-505.503262</td>\n",
       "      <td>11.950531</td>\n",
       "      <td>-501.331529</td>\n",
       "      <td>10.039245</td>\n",
       "      <td>-500.169983</td>\n",
       "      <td>7.984757</td>\n",
       "      <td>-500.582168</td>\n",
       "      <td>13.998353</td>\n",
       "      <td>-599.787184</td>\n",
       "    </tr>\n",
       "    <tr>\n",
       "      <th>2</th>\n",
       "      <td>2016-01-15 02:00:00</td>\n",
       "      <td>6.055926</td>\n",
       "      <td>10.213995</td>\n",
       "      <td>5.383759</td>\n",
       "      <td>42.657501</td>\n",
       "      <td>68.116445</td>\n",
       "      <td>10.507046</td>\n",
       "      <td>0.953716</td>\n",
       "      <td>16.208849</td>\n",
       "      <td>2.257889</td>\n",
       "      <td>...</td>\n",
       "      <td>14.015015</td>\n",
       "      <td>-502.520901</td>\n",
       "      <td>11.912783</td>\n",
       "      <td>-501.133383</td>\n",
       "      <td>10.070913</td>\n",
       "      <td>-500.129135</td>\n",
       "      <td>8.013877</td>\n",
       "      <td>-500.517572</td>\n",
       "      <td>14.028663</td>\n",
       "      <td>-601.427363</td>\n",
       "    </tr>\n",
       "    <tr>\n",
       "      <th>3</th>\n",
       "      <td>2016-01-15 03:00:00</td>\n",
       "      <td>6.047977</td>\n",
       "      <td>9.977019</td>\n",
       "      <td>4.858634</td>\n",
       "      <td>42.689819</td>\n",
       "      <td>68.347543</td>\n",
       "      <td>10.422762</td>\n",
       "      <td>0.883763</td>\n",
       "      <td>16.532835</td>\n",
       "      <td>2.146849</td>\n",
       "      <td>...</td>\n",
       "      <td>14.036510</td>\n",
       "      <td>-500.857308</td>\n",
       "      <td>11.999550</td>\n",
       "      <td>-501.193686</td>\n",
       "      <td>9.970366</td>\n",
       "      <td>-499.201640</td>\n",
       "      <td>7.977324</td>\n",
       "      <td>-500.255908</td>\n",
       "      <td>14.005551</td>\n",
       "      <td>-599.996129</td>\n",
       "    </tr>\n",
       "    <tr>\n",
       "      <th>4</th>\n",
       "      <td>2016-01-15 04:00:00</td>\n",
       "      <td>6.148599</td>\n",
       "      <td>10.142511</td>\n",
       "      <td>4.939416</td>\n",
       "      <td>42.774141</td>\n",
       "      <td>66.927016</td>\n",
       "      <td>10.360302</td>\n",
       "      <td>0.792826</td>\n",
       "      <td>16.525686</td>\n",
       "      <td>2.055292</td>\n",
       "      <td>...</td>\n",
       "      <td>14.027298</td>\n",
       "      <td>-499.838632</td>\n",
       "      <td>11.953070</td>\n",
       "      <td>-501.053894</td>\n",
       "      <td>9.925709</td>\n",
       "      <td>-501.686727</td>\n",
       "      <td>7.894242</td>\n",
       "      <td>-500.356035</td>\n",
       "      <td>13.996647</td>\n",
       "      <td>-601.496691</td>\n",
       "    </tr>\n",
       "  </tbody>\n",
       "</table>\n",
       "<p>5 rows × 87 columns</p>\n",
       "</div>"
      ],
      "text/plain": [
       "                  date  final.output.concentrate_ag  \\\n",
       "0  2016-01-15 00:00:00                     6.055403   \n",
       "1  2016-01-15 01:00:00                     6.029369   \n",
       "2  2016-01-15 02:00:00                     6.055926   \n",
       "3  2016-01-15 03:00:00                     6.047977   \n",
       "4  2016-01-15 04:00:00                     6.148599   \n",
       "\n",
       "   final.output.concentrate_pb  final.output.concentrate_sol  \\\n",
       "0                     9.889648                      5.507324   \n",
       "1                     9.968944                      5.257781   \n",
       "2                    10.213995                      5.383759   \n",
       "3                     9.977019                      4.858634   \n",
       "4                    10.142511                      4.939416   \n",
       "\n",
       "   final.output.concentrate_au  final.output.recovery  final.output.tail_ag  \\\n",
       "0                    42.192020              70.541216             10.411962   \n",
       "1                    42.701629              69.266198             10.462676   \n",
       "2                    42.657501              68.116445             10.507046   \n",
       "3                    42.689819              68.347543             10.422762   \n",
       "4                    42.774141              66.927016             10.360302   \n",
       "\n",
       "   final.output.tail_pb  final.output.tail_sol  final.output.tail_au  ...  \\\n",
       "0              0.895447              16.904297              2.143149  ...   \n",
       "1              0.927452              16.634514              2.224930  ...   \n",
       "2              0.953716              16.208849              2.257889  ...   \n",
       "3              0.883763              16.532835              2.146849  ...   \n",
       "4              0.792826              16.525686              2.055292  ...   \n",
       "\n",
       "   secondary_cleaner.state.floatbank4_a_air  \\\n",
       "0                                 14.016835   \n",
       "1                                 13.992281   \n",
       "2                                 14.015015   \n",
       "3                                 14.036510   \n",
       "4                                 14.027298   \n",
       "\n",
       "   secondary_cleaner.state.floatbank4_a_level  \\\n",
       "0                                 -502.488007   \n",
       "1                                 -505.503262   \n",
       "2                                 -502.520901   \n",
       "3                                 -500.857308   \n",
       "4                                 -499.838632   \n",
       "\n",
       "   secondary_cleaner.state.floatbank4_b_air  \\\n",
       "0                                 12.099931   \n",
       "1                                 11.950531   \n",
       "2                                 11.912783   \n",
       "3                                 11.999550   \n",
       "4                                 11.953070   \n",
       "\n",
       "   secondary_cleaner.state.floatbank4_b_level  \\\n",
       "0                                 -504.715942   \n",
       "1                                 -501.331529   \n",
       "2                                 -501.133383   \n",
       "3                                 -501.193686   \n",
       "4                                 -501.053894   \n",
       "\n",
       "   secondary_cleaner.state.floatbank5_a_air  \\\n",
       "0                                  9.925633   \n",
       "1                                 10.039245   \n",
       "2                                 10.070913   \n",
       "3                                  9.970366   \n",
       "4                                  9.925709   \n",
       "\n",
       "   secondary_cleaner.state.floatbank5_a_level  \\\n",
       "0                                 -498.310211   \n",
       "1                                 -500.169983   \n",
       "2                                 -500.129135   \n",
       "3                                 -499.201640   \n",
       "4                                 -501.686727   \n",
       "\n",
       "   secondary_cleaner.state.floatbank5_b_air  \\\n",
       "0                                  8.079666   \n",
       "1                                  7.984757   \n",
       "2                                  8.013877   \n",
       "3                                  7.977324   \n",
       "4                                  7.894242   \n",
       "\n",
       "   secondary_cleaner.state.floatbank5_b_level  \\\n",
       "0                                 -500.470978   \n",
       "1                                 -500.582168   \n",
       "2                                 -500.517572   \n",
       "3                                 -500.255908   \n",
       "4                                 -500.356035   \n",
       "\n",
       "   secondary_cleaner.state.floatbank6_a_air  \\\n",
       "0                                 14.151341   \n",
       "1                                 13.998353   \n",
       "2                                 14.028663   \n",
       "3                                 14.005551   \n",
       "4                                 13.996647   \n",
       "\n",
       "   secondary_cleaner.state.floatbank6_a_level  \n",
       "0                                 -605.841980  \n",
       "1                                 -599.787184  \n",
       "2                                 -601.427363  \n",
       "3                                 -599.996129  \n",
       "4                                 -601.496691  \n",
       "\n",
       "[5 rows x 87 columns]"
      ]
     },
     "metadata": {},
     "output_type": "display_data"
    },
    {
     "data": {
      "text/html": [
       "<div>\n",
       "<style scoped>\n",
       "    .dataframe tbody tr th:only-of-type {\n",
       "        vertical-align: middle;\n",
       "    }\n",
       "\n",
       "    .dataframe tbody tr th {\n",
       "        vertical-align: top;\n",
       "    }\n",
       "\n",
       "    .dataframe thead th {\n",
       "        text-align: right;\n",
       "    }\n",
       "</style>\n",
       "<table border=\"1\" class=\"dataframe\">\n",
       "  <thead>\n",
       "    <tr style=\"text-align: right;\">\n",
       "      <th></th>\n",
       "      <th>final.output.concentrate_ag</th>\n",
       "      <th>final.output.concentrate_pb</th>\n",
       "      <th>final.output.concentrate_sol</th>\n",
       "      <th>final.output.concentrate_au</th>\n",
       "      <th>final.output.recovery</th>\n",
       "      <th>final.output.tail_ag</th>\n",
       "      <th>final.output.tail_pb</th>\n",
       "      <th>final.output.tail_sol</th>\n",
       "      <th>final.output.tail_au</th>\n",
       "      <th>primary_cleaner.input.sulfate</th>\n",
       "      <th>...</th>\n",
       "      <th>secondary_cleaner.state.floatbank4_a_air</th>\n",
       "      <th>secondary_cleaner.state.floatbank4_a_level</th>\n",
       "      <th>secondary_cleaner.state.floatbank4_b_air</th>\n",
       "      <th>secondary_cleaner.state.floatbank4_b_level</th>\n",
       "      <th>secondary_cleaner.state.floatbank5_a_air</th>\n",
       "      <th>secondary_cleaner.state.floatbank5_a_level</th>\n",
       "      <th>secondary_cleaner.state.floatbank5_b_air</th>\n",
       "      <th>secondary_cleaner.state.floatbank5_b_level</th>\n",
       "      <th>secondary_cleaner.state.floatbank6_a_air</th>\n",
       "      <th>secondary_cleaner.state.floatbank6_a_level</th>\n",
       "    </tr>\n",
       "  </thead>\n",
       "  <tbody>\n",
       "    <tr>\n",
       "      <th>count</th>\n",
       "      <td>14148.000000</td>\n",
       "      <td>14148.000000</td>\n",
       "      <td>13938.000000</td>\n",
       "      <td>14149.000000</td>\n",
       "      <td>14149.000000</td>\n",
       "      <td>14149.000000</td>\n",
       "      <td>14049.000000</td>\n",
       "      <td>14144.000000</td>\n",
       "      <td>14149.000000</td>\n",
       "      <td>14129.000000</td>\n",
       "      <td>...</td>\n",
       "      <td>14143.000000</td>\n",
       "      <td>14148.000000</td>\n",
       "      <td>14148.000000</td>\n",
       "      <td>14148.000000</td>\n",
       "      <td>14148.000000</td>\n",
       "      <td>14148.000000</td>\n",
       "      <td>14148.000000</td>\n",
       "      <td>14148.000000</td>\n",
       "      <td>14147.000000</td>\n",
       "      <td>14148.000000</td>\n",
       "    </tr>\n",
       "    <tr>\n",
       "      <th>mean</th>\n",
       "      <td>5.142034</td>\n",
       "      <td>10.132960</td>\n",
       "      <td>9.202849</td>\n",
       "      <td>44.003792</td>\n",
       "      <td>66.518832</td>\n",
       "      <td>9.607035</td>\n",
       "      <td>2.597298</td>\n",
       "      <td>10.512122</td>\n",
       "      <td>2.918421</td>\n",
       "      <td>133.320659</td>\n",
       "      <td>...</td>\n",
       "      <td>19.985454</td>\n",
       "      <td>-478.696836</td>\n",
       "      <td>15.487065</td>\n",
       "      <td>-460.229416</td>\n",
       "      <td>16.775136</td>\n",
       "      <td>-483.956022</td>\n",
       "      <td>13.064590</td>\n",
       "      <td>-483.966564</td>\n",
       "      <td>19.577539</td>\n",
       "      <td>-506.798480</td>\n",
       "    </tr>\n",
       "    <tr>\n",
       "      <th>std</th>\n",
       "      <td>1.369586</td>\n",
       "      <td>1.654930</td>\n",
       "      <td>2.790516</td>\n",
       "      <td>4.905261</td>\n",
       "      <td>10.295402</td>\n",
       "      <td>2.319069</td>\n",
       "      <td>0.971843</td>\n",
       "      <td>3.003617</td>\n",
       "      <td>0.903712</td>\n",
       "      <td>39.431659</td>\n",
       "      <td>...</td>\n",
       "      <td>5.657723</td>\n",
       "      <td>50.736021</td>\n",
       "      <td>5.255655</td>\n",
       "      <td>58.843586</td>\n",
       "      <td>5.831906</td>\n",
       "      <td>37.892788</td>\n",
       "      <td>5.765617</td>\n",
       "      <td>39.207913</td>\n",
       "      <td>5.764417</td>\n",
       "      <td>37.079249</td>\n",
       "    </tr>\n",
       "    <tr>\n",
       "      <th>min</th>\n",
       "      <td>0.000000</td>\n",
       "      <td>0.000000</td>\n",
       "      <td>0.000000</td>\n",
       "      <td>0.000000</td>\n",
       "      <td>0.000000</td>\n",
       "      <td>0.000000</td>\n",
       "      <td>0.000000</td>\n",
       "      <td>0.000000</td>\n",
       "      <td>0.000000</td>\n",
       "      <td>0.003112</td>\n",
       "      <td>...</td>\n",
       "      <td>0.000000</td>\n",
       "      <td>-799.709069</td>\n",
       "      <td>0.000000</td>\n",
       "      <td>-799.889113</td>\n",
       "      <td>-0.372054</td>\n",
       "      <td>-797.142475</td>\n",
       "      <td>0.646208</td>\n",
       "      <td>-800.006180</td>\n",
       "      <td>0.195324</td>\n",
       "      <td>-809.398668</td>\n",
       "    </tr>\n",
       "    <tr>\n",
       "      <th>25%</th>\n",
       "      <td>4.211620</td>\n",
       "      <td>9.297355</td>\n",
       "      <td>7.484645</td>\n",
       "      <td>43.276111</td>\n",
       "      <td>62.545817</td>\n",
       "      <td>7.997429</td>\n",
       "      <td>1.905973</td>\n",
       "      <td>8.811324</td>\n",
       "      <td>2.368607</td>\n",
       "      <td>107.006651</td>\n",
       "      <td>...</td>\n",
       "      <td>14.990775</td>\n",
       "      <td>-500.628656</td>\n",
       "      <td>11.894558</td>\n",
       "      <td>-500.149000</td>\n",
       "      <td>11.083980</td>\n",
       "      <td>-500.363177</td>\n",
       "      <td>8.994405</td>\n",
       "      <td>-500.105994</td>\n",
       "      <td>14.989304</td>\n",
       "      <td>-500.745104</td>\n",
       "    </tr>\n",
       "    <tr>\n",
       "      <th>50%</th>\n",
       "      <td>4.994652</td>\n",
       "      <td>10.297144</td>\n",
       "      <td>8.845462</td>\n",
       "      <td>44.872436</td>\n",
       "      <td>67.432775</td>\n",
       "      <td>9.480270</td>\n",
       "      <td>2.592022</td>\n",
       "      <td>10.514621</td>\n",
       "      <td>2.851025</td>\n",
       "      <td>133.018328</td>\n",
       "      <td>...</td>\n",
       "      <td>20.001789</td>\n",
       "      <td>-499.681450</td>\n",
       "      <td>14.975536</td>\n",
       "      <td>-499.388738</td>\n",
       "      <td>17.932223</td>\n",
       "      <td>-499.702452</td>\n",
       "      <td>11.997547</td>\n",
       "      <td>-499.914556</td>\n",
       "      <td>19.984175</td>\n",
       "      <td>-500.061431</td>\n",
       "    </tr>\n",
       "    <tr>\n",
       "      <th>75%</th>\n",
       "      <td>5.859540</td>\n",
       "      <td>11.170603</td>\n",
       "      <td>10.487508</td>\n",
       "      <td>46.166425</td>\n",
       "      <td>72.346428</td>\n",
       "      <td>11.003707</td>\n",
       "      <td>3.241723</td>\n",
       "      <td>11.933009</td>\n",
       "      <td>3.434764</td>\n",
       "      <td>159.825396</td>\n",
       "      <td>...</td>\n",
       "      <td>24.990826</td>\n",
       "      <td>-477.472413</td>\n",
       "      <td>20.059375</td>\n",
       "      <td>-400.039008</td>\n",
       "      <td>21.346550</td>\n",
       "      <td>-487.712108</td>\n",
       "      <td>17.982903</td>\n",
       "      <td>-453.186936</td>\n",
       "      <td>24.991623</td>\n",
       "      <td>-499.536466</td>\n",
       "    </tr>\n",
       "    <tr>\n",
       "      <th>max</th>\n",
       "      <td>16.001945</td>\n",
       "      <td>17.031899</td>\n",
       "      <td>18.124851</td>\n",
       "      <td>52.756638</td>\n",
       "      <td>100.000000</td>\n",
       "      <td>19.552149</td>\n",
       "      <td>5.639565</td>\n",
       "      <td>22.317730</td>\n",
       "      <td>8.197408</td>\n",
       "      <td>250.127834</td>\n",
       "      <td>...</td>\n",
       "      <td>30.115735</td>\n",
       "      <td>-245.239184</td>\n",
       "      <td>24.007913</td>\n",
       "      <td>-145.071088</td>\n",
       "      <td>43.709931</td>\n",
       "      <td>-275.073125</td>\n",
       "      <td>27.926001</td>\n",
       "      <td>-157.396071</td>\n",
       "      <td>32.188906</td>\n",
       "      <td>-104.427459</td>\n",
       "    </tr>\n",
       "  </tbody>\n",
       "</table>\n",
       "<p>8 rows × 86 columns</p>\n",
       "</div>"
      ],
      "text/plain": [
       "       final.output.concentrate_ag  final.output.concentrate_pb  \\\n",
       "count                 14148.000000                 14148.000000   \n",
       "mean                      5.142034                    10.132960   \n",
       "std                       1.369586                     1.654930   \n",
       "min                       0.000000                     0.000000   \n",
       "25%                       4.211620                     9.297355   \n",
       "50%                       4.994652                    10.297144   \n",
       "75%                       5.859540                    11.170603   \n",
       "max                      16.001945                    17.031899   \n",
       "\n",
       "       final.output.concentrate_sol  final.output.concentrate_au  \\\n",
       "count                  13938.000000                 14149.000000   \n",
       "mean                       9.202849                    44.003792   \n",
       "std                        2.790516                     4.905261   \n",
       "min                        0.000000                     0.000000   \n",
       "25%                        7.484645                    43.276111   \n",
       "50%                        8.845462                    44.872436   \n",
       "75%                       10.487508                    46.166425   \n",
       "max                       18.124851                    52.756638   \n",
       "\n",
       "       final.output.recovery  final.output.tail_ag  final.output.tail_pb  \\\n",
       "count           14149.000000          14149.000000          14049.000000   \n",
       "mean               66.518832              9.607035              2.597298   \n",
       "std                10.295402              2.319069              0.971843   \n",
       "min                 0.000000              0.000000              0.000000   \n",
       "25%                62.545817              7.997429              1.905973   \n",
       "50%                67.432775              9.480270              2.592022   \n",
       "75%                72.346428             11.003707              3.241723   \n",
       "max               100.000000             19.552149              5.639565   \n",
       "\n",
       "       final.output.tail_sol  final.output.tail_au  \\\n",
       "count           14144.000000          14149.000000   \n",
       "mean               10.512122              2.918421   \n",
       "std                 3.003617              0.903712   \n",
       "min                 0.000000              0.000000   \n",
       "25%                 8.811324              2.368607   \n",
       "50%                10.514621              2.851025   \n",
       "75%                11.933009              3.434764   \n",
       "max                22.317730              8.197408   \n",
       "\n",
       "       primary_cleaner.input.sulfate  ...  \\\n",
       "count                   14129.000000  ...   \n",
       "mean                      133.320659  ...   \n",
       "std                        39.431659  ...   \n",
       "min                         0.003112  ...   \n",
       "25%                       107.006651  ...   \n",
       "50%                       133.018328  ...   \n",
       "75%                       159.825396  ...   \n",
       "max                       250.127834  ...   \n",
       "\n",
       "       secondary_cleaner.state.floatbank4_a_air  \\\n",
       "count                              14143.000000   \n",
       "mean                                  19.985454   \n",
       "std                                    5.657723   \n",
       "min                                    0.000000   \n",
       "25%                                   14.990775   \n",
       "50%                                   20.001789   \n",
       "75%                                   24.990826   \n",
       "max                                   30.115735   \n",
       "\n",
       "       secondary_cleaner.state.floatbank4_a_level  \\\n",
       "count                                14148.000000   \n",
       "mean                                  -478.696836   \n",
       "std                                     50.736021   \n",
       "min                                   -799.709069   \n",
       "25%                                   -500.628656   \n",
       "50%                                   -499.681450   \n",
       "75%                                   -477.472413   \n",
       "max                                   -245.239184   \n",
       "\n",
       "       secondary_cleaner.state.floatbank4_b_air  \\\n",
       "count                              14148.000000   \n",
       "mean                                  15.487065   \n",
       "std                                    5.255655   \n",
       "min                                    0.000000   \n",
       "25%                                   11.894558   \n",
       "50%                                   14.975536   \n",
       "75%                                   20.059375   \n",
       "max                                   24.007913   \n",
       "\n",
       "       secondary_cleaner.state.floatbank4_b_level  \\\n",
       "count                                14148.000000   \n",
       "mean                                  -460.229416   \n",
       "std                                     58.843586   \n",
       "min                                   -799.889113   \n",
       "25%                                   -500.149000   \n",
       "50%                                   -499.388738   \n",
       "75%                                   -400.039008   \n",
       "max                                   -145.071088   \n",
       "\n",
       "       secondary_cleaner.state.floatbank5_a_air  \\\n",
       "count                              14148.000000   \n",
       "mean                                  16.775136   \n",
       "std                                    5.831906   \n",
       "min                                   -0.372054   \n",
       "25%                                   11.083980   \n",
       "50%                                   17.932223   \n",
       "75%                                   21.346550   \n",
       "max                                   43.709931   \n",
       "\n",
       "       secondary_cleaner.state.floatbank5_a_level  \\\n",
       "count                                14148.000000   \n",
       "mean                                  -483.956022   \n",
       "std                                     37.892788   \n",
       "min                                   -797.142475   \n",
       "25%                                   -500.363177   \n",
       "50%                                   -499.702452   \n",
       "75%                                   -487.712108   \n",
       "max                                   -275.073125   \n",
       "\n",
       "       secondary_cleaner.state.floatbank5_b_air  \\\n",
       "count                              14148.000000   \n",
       "mean                                  13.064590   \n",
       "std                                    5.765617   \n",
       "min                                    0.646208   \n",
       "25%                                    8.994405   \n",
       "50%                                   11.997547   \n",
       "75%                                   17.982903   \n",
       "max                                   27.926001   \n",
       "\n",
       "       secondary_cleaner.state.floatbank5_b_level  \\\n",
       "count                                14148.000000   \n",
       "mean                                  -483.966564   \n",
       "std                                     39.207913   \n",
       "min                                   -800.006180   \n",
       "25%                                   -500.105994   \n",
       "50%                                   -499.914556   \n",
       "75%                                   -453.186936   \n",
       "max                                   -157.396071   \n",
       "\n",
       "       secondary_cleaner.state.floatbank6_a_air  \\\n",
       "count                              14147.000000   \n",
       "mean                                  19.577539   \n",
       "std                                    5.764417   \n",
       "min                                    0.195324   \n",
       "25%                                   14.989304   \n",
       "50%                                   19.984175   \n",
       "75%                                   24.991623   \n",
       "max                                   32.188906   \n",
       "\n",
       "       secondary_cleaner.state.floatbank6_a_level  \n",
       "count                                14148.000000  \n",
       "mean                                  -506.798480  \n",
       "std                                     37.079249  \n",
       "min                                   -809.398668  \n",
       "25%                                   -500.745104  \n",
       "50%                                   -500.061431  \n",
       "75%                                   -499.536466  \n",
       "max                                   -104.427459  \n",
       "\n",
       "[8 rows x 86 columns]"
      ]
     },
     "execution_count": 2,
     "metadata": {},
     "output_type": "execute_result"
    }
   ],
   "source": [
    "data_train = pd.read_csv('/datasets/gold_recovery_train_new.csv')\n",
    "data_train.info()\n",
    "display(data_train.head())\n",
    "data_train.describe()"
   ]
  },
  {
   "cell_type": "code",
   "execution_count": 3,
   "metadata": {
    "scrolled": true
   },
   "outputs": [
    {
     "name": "stdout",
     "output_type": "stream",
     "text": [
      "<class 'pandas.core.frame.DataFrame'>\n",
      "RangeIndex: 5290 entries, 0 to 5289\n",
      "Data columns (total 53 columns):\n",
      " #   Column                                      Non-Null Count  Dtype  \n",
      "---  ------                                      --------------  -----  \n",
      " 0   date                                        5290 non-null   object \n",
      " 1   primary_cleaner.input.sulfate               5286 non-null   float64\n",
      " 2   primary_cleaner.input.depressant            5285 non-null   float64\n",
      " 3   primary_cleaner.input.feed_size             5290 non-null   float64\n",
      " 4   primary_cleaner.input.xanthate              5286 non-null   float64\n",
      " 5   primary_cleaner.state.floatbank8_a_air      5290 non-null   float64\n",
      " 6   primary_cleaner.state.floatbank8_a_level    5290 non-null   float64\n",
      " 7   primary_cleaner.state.floatbank8_b_air      5290 non-null   float64\n",
      " 8   primary_cleaner.state.floatbank8_b_level    5290 non-null   float64\n",
      " 9   primary_cleaner.state.floatbank8_c_air      5290 non-null   float64\n",
      " 10  primary_cleaner.state.floatbank8_c_level    5290 non-null   float64\n",
      " 11  primary_cleaner.state.floatbank8_d_air      5290 non-null   float64\n",
      " 12  primary_cleaner.state.floatbank8_d_level    5290 non-null   float64\n",
      " 13  rougher.input.feed_ag                       5290 non-null   float64\n",
      " 14  rougher.input.feed_pb                       5290 non-null   float64\n",
      " 15  rougher.input.feed_rate                     5287 non-null   float64\n",
      " 16  rougher.input.feed_size                     5289 non-null   float64\n",
      " 17  rougher.input.feed_sol                      5269 non-null   float64\n",
      " 18  rougher.input.feed_au                       5290 non-null   float64\n",
      " 19  rougher.input.floatbank10_sulfate           5285 non-null   float64\n",
      " 20  rougher.input.floatbank10_xanthate          5290 non-null   float64\n",
      " 21  rougher.input.floatbank11_sulfate           5282 non-null   float64\n",
      " 22  rougher.input.floatbank11_xanthate          5265 non-null   float64\n",
      " 23  rougher.state.floatbank10_a_air             5290 non-null   float64\n",
      " 24  rougher.state.floatbank10_a_level           5290 non-null   float64\n",
      " 25  rougher.state.floatbank10_b_air             5290 non-null   float64\n",
      " 26  rougher.state.floatbank10_b_level           5290 non-null   float64\n",
      " 27  rougher.state.floatbank10_c_air             5290 non-null   float64\n",
      " 28  rougher.state.floatbank10_c_level           5290 non-null   float64\n",
      " 29  rougher.state.floatbank10_d_air             5290 non-null   float64\n",
      " 30  rougher.state.floatbank10_d_level           5290 non-null   float64\n",
      " 31  rougher.state.floatbank10_e_air             5290 non-null   float64\n",
      " 32  rougher.state.floatbank10_e_level           5290 non-null   float64\n",
      " 33  rougher.state.floatbank10_f_air             5290 non-null   float64\n",
      " 34  rougher.state.floatbank10_f_level           5290 non-null   float64\n",
      " 35  secondary_cleaner.state.floatbank2_a_air    5287 non-null   float64\n",
      " 36  secondary_cleaner.state.floatbank2_a_level  5290 non-null   float64\n",
      " 37  secondary_cleaner.state.floatbank2_b_air    5288 non-null   float64\n",
      " 38  secondary_cleaner.state.floatbank2_b_level  5290 non-null   float64\n",
      " 39  secondary_cleaner.state.floatbank3_a_air    5281 non-null   float64\n",
      " 40  secondary_cleaner.state.floatbank3_a_level  5290 non-null   float64\n",
      " 41  secondary_cleaner.state.floatbank3_b_air    5290 non-null   float64\n",
      " 42  secondary_cleaner.state.floatbank3_b_level  5290 non-null   float64\n",
      " 43  secondary_cleaner.state.floatbank4_a_air    5290 non-null   float64\n",
      " 44  secondary_cleaner.state.floatbank4_a_level  5290 non-null   float64\n",
      " 45  secondary_cleaner.state.floatbank4_b_air    5290 non-null   float64\n",
      " 46  secondary_cleaner.state.floatbank4_b_level  5290 non-null   float64\n",
      " 47  secondary_cleaner.state.floatbank5_a_air    5290 non-null   float64\n",
      " 48  secondary_cleaner.state.floatbank5_a_level  5290 non-null   float64\n",
      " 49  secondary_cleaner.state.floatbank5_b_air    5290 non-null   float64\n",
      " 50  secondary_cleaner.state.floatbank5_b_level  5290 non-null   float64\n",
      " 51  secondary_cleaner.state.floatbank6_a_air    5290 non-null   float64\n",
      " 52  secondary_cleaner.state.floatbank6_a_level  5290 non-null   float64\n",
      "dtypes: float64(52), object(1)\n",
      "memory usage: 2.1+ MB\n"
     ]
    },
    {
     "data": {
      "text/html": [
       "<div>\n",
       "<style scoped>\n",
       "    .dataframe tbody tr th:only-of-type {\n",
       "        vertical-align: middle;\n",
       "    }\n",
       "\n",
       "    .dataframe tbody tr th {\n",
       "        vertical-align: top;\n",
       "    }\n",
       "\n",
       "    .dataframe thead th {\n",
       "        text-align: right;\n",
       "    }\n",
       "</style>\n",
       "<table border=\"1\" class=\"dataframe\">\n",
       "  <thead>\n",
       "    <tr style=\"text-align: right;\">\n",
       "      <th></th>\n",
       "      <th>date</th>\n",
       "      <th>final.output.concentrate_ag</th>\n",
       "      <th>final.output.concentrate_pb</th>\n",
       "      <th>final.output.concentrate_sol</th>\n",
       "      <th>final.output.concentrate_au</th>\n",
       "      <th>final.output.recovery</th>\n",
       "      <th>final.output.tail_ag</th>\n",
       "      <th>final.output.tail_pb</th>\n",
       "      <th>final.output.tail_sol</th>\n",
       "      <th>final.output.tail_au</th>\n",
       "      <th>...</th>\n",
       "      <th>secondary_cleaner.state.floatbank4_a_air</th>\n",
       "      <th>secondary_cleaner.state.floatbank4_a_level</th>\n",
       "      <th>secondary_cleaner.state.floatbank4_b_air</th>\n",
       "      <th>secondary_cleaner.state.floatbank4_b_level</th>\n",
       "      <th>secondary_cleaner.state.floatbank5_a_air</th>\n",
       "      <th>secondary_cleaner.state.floatbank5_a_level</th>\n",
       "      <th>secondary_cleaner.state.floatbank5_b_air</th>\n",
       "      <th>secondary_cleaner.state.floatbank5_b_level</th>\n",
       "      <th>secondary_cleaner.state.floatbank6_a_air</th>\n",
       "      <th>secondary_cleaner.state.floatbank6_a_level</th>\n",
       "    </tr>\n",
       "  </thead>\n",
       "  <tbody>\n",
       "    <tr>\n",
       "      <th>0</th>\n",
       "      <td>2016-01-15 00:00:00</td>\n",
       "      <td>6.055403</td>\n",
       "      <td>9.889648</td>\n",
       "      <td>5.507324</td>\n",
       "      <td>42.192020</td>\n",
       "      <td>70.541216</td>\n",
       "      <td>10.411962</td>\n",
       "      <td>0.895447</td>\n",
       "      <td>16.904297</td>\n",
       "      <td>2.143149</td>\n",
       "      <td>...</td>\n",
       "      <td>14.016835</td>\n",
       "      <td>-502.488007</td>\n",
       "      <td>12.099931</td>\n",
       "      <td>-504.715942</td>\n",
       "      <td>9.925633</td>\n",
       "      <td>-498.310211</td>\n",
       "      <td>8.079666</td>\n",
       "      <td>-500.470978</td>\n",
       "      <td>14.151341</td>\n",
       "      <td>-605.841980</td>\n",
       "    </tr>\n",
       "    <tr>\n",
       "      <th>1</th>\n",
       "      <td>2016-01-15 01:00:00</td>\n",
       "      <td>6.029369</td>\n",
       "      <td>9.968944</td>\n",
       "      <td>5.257781</td>\n",
       "      <td>42.701629</td>\n",
       "      <td>69.266198</td>\n",
       "      <td>10.462676</td>\n",
       "      <td>0.927452</td>\n",
       "      <td>16.634514</td>\n",
       "      <td>2.224930</td>\n",
       "      <td>...</td>\n",
       "      <td>13.992281</td>\n",
       "      <td>-505.503262</td>\n",
       "      <td>11.950531</td>\n",
       "      <td>-501.331529</td>\n",
       "      <td>10.039245</td>\n",
       "      <td>-500.169983</td>\n",
       "      <td>7.984757</td>\n",
       "      <td>-500.582168</td>\n",
       "      <td>13.998353</td>\n",
       "      <td>-599.787184</td>\n",
       "    </tr>\n",
       "    <tr>\n",
       "      <th>2</th>\n",
       "      <td>2016-01-15 02:00:00</td>\n",
       "      <td>6.055926</td>\n",
       "      <td>10.213995</td>\n",
       "      <td>5.383759</td>\n",
       "      <td>42.657501</td>\n",
       "      <td>68.116445</td>\n",
       "      <td>10.507046</td>\n",
       "      <td>0.953716</td>\n",
       "      <td>16.208849</td>\n",
       "      <td>2.257889</td>\n",
       "      <td>...</td>\n",
       "      <td>14.015015</td>\n",
       "      <td>-502.520901</td>\n",
       "      <td>11.912783</td>\n",
       "      <td>-501.133383</td>\n",
       "      <td>10.070913</td>\n",
       "      <td>-500.129135</td>\n",
       "      <td>8.013877</td>\n",
       "      <td>-500.517572</td>\n",
       "      <td>14.028663</td>\n",
       "      <td>-601.427363</td>\n",
       "    </tr>\n",
       "    <tr>\n",
       "      <th>3</th>\n",
       "      <td>2016-01-15 03:00:00</td>\n",
       "      <td>6.047977</td>\n",
       "      <td>9.977019</td>\n",
       "      <td>4.858634</td>\n",
       "      <td>42.689819</td>\n",
       "      <td>68.347543</td>\n",
       "      <td>10.422762</td>\n",
       "      <td>0.883763</td>\n",
       "      <td>16.532835</td>\n",
       "      <td>2.146849</td>\n",
       "      <td>...</td>\n",
       "      <td>14.036510</td>\n",
       "      <td>-500.857308</td>\n",
       "      <td>11.999550</td>\n",
       "      <td>-501.193686</td>\n",
       "      <td>9.970366</td>\n",
       "      <td>-499.201640</td>\n",
       "      <td>7.977324</td>\n",
       "      <td>-500.255908</td>\n",
       "      <td>14.005551</td>\n",
       "      <td>-599.996129</td>\n",
       "    </tr>\n",
       "    <tr>\n",
       "      <th>4</th>\n",
       "      <td>2016-01-15 04:00:00</td>\n",
       "      <td>6.148599</td>\n",
       "      <td>10.142511</td>\n",
       "      <td>4.939416</td>\n",
       "      <td>42.774141</td>\n",
       "      <td>66.927016</td>\n",
       "      <td>10.360302</td>\n",
       "      <td>0.792826</td>\n",
       "      <td>16.525686</td>\n",
       "      <td>2.055292</td>\n",
       "      <td>...</td>\n",
       "      <td>14.027298</td>\n",
       "      <td>-499.838632</td>\n",
       "      <td>11.953070</td>\n",
       "      <td>-501.053894</td>\n",
       "      <td>9.925709</td>\n",
       "      <td>-501.686727</td>\n",
       "      <td>7.894242</td>\n",
       "      <td>-500.356035</td>\n",
       "      <td>13.996647</td>\n",
       "      <td>-601.496691</td>\n",
       "    </tr>\n",
       "  </tbody>\n",
       "</table>\n",
       "<p>5 rows × 87 columns</p>\n",
       "</div>"
      ],
      "text/plain": [
       "                  date  final.output.concentrate_ag  \\\n",
       "0  2016-01-15 00:00:00                     6.055403   \n",
       "1  2016-01-15 01:00:00                     6.029369   \n",
       "2  2016-01-15 02:00:00                     6.055926   \n",
       "3  2016-01-15 03:00:00                     6.047977   \n",
       "4  2016-01-15 04:00:00                     6.148599   \n",
       "\n",
       "   final.output.concentrate_pb  final.output.concentrate_sol  \\\n",
       "0                     9.889648                      5.507324   \n",
       "1                     9.968944                      5.257781   \n",
       "2                    10.213995                      5.383759   \n",
       "3                     9.977019                      4.858634   \n",
       "4                    10.142511                      4.939416   \n",
       "\n",
       "   final.output.concentrate_au  final.output.recovery  final.output.tail_ag  \\\n",
       "0                    42.192020              70.541216             10.411962   \n",
       "1                    42.701629              69.266198             10.462676   \n",
       "2                    42.657501              68.116445             10.507046   \n",
       "3                    42.689819              68.347543             10.422762   \n",
       "4                    42.774141              66.927016             10.360302   \n",
       "\n",
       "   final.output.tail_pb  final.output.tail_sol  final.output.tail_au  ...  \\\n",
       "0              0.895447              16.904297              2.143149  ...   \n",
       "1              0.927452              16.634514              2.224930  ...   \n",
       "2              0.953716              16.208849              2.257889  ...   \n",
       "3              0.883763              16.532835              2.146849  ...   \n",
       "4              0.792826              16.525686              2.055292  ...   \n",
       "\n",
       "   secondary_cleaner.state.floatbank4_a_air  \\\n",
       "0                                 14.016835   \n",
       "1                                 13.992281   \n",
       "2                                 14.015015   \n",
       "3                                 14.036510   \n",
       "4                                 14.027298   \n",
       "\n",
       "   secondary_cleaner.state.floatbank4_a_level  \\\n",
       "0                                 -502.488007   \n",
       "1                                 -505.503262   \n",
       "2                                 -502.520901   \n",
       "3                                 -500.857308   \n",
       "4                                 -499.838632   \n",
       "\n",
       "   secondary_cleaner.state.floatbank4_b_air  \\\n",
       "0                                 12.099931   \n",
       "1                                 11.950531   \n",
       "2                                 11.912783   \n",
       "3                                 11.999550   \n",
       "4                                 11.953070   \n",
       "\n",
       "   secondary_cleaner.state.floatbank4_b_level  \\\n",
       "0                                 -504.715942   \n",
       "1                                 -501.331529   \n",
       "2                                 -501.133383   \n",
       "3                                 -501.193686   \n",
       "4                                 -501.053894   \n",
       "\n",
       "   secondary_cleaner.state.floatbank5_a_air  \\\n",
       "0                                  9.925633   \n",
       "1                                 10.039245   \n",
       "2                                 10.070913   \n",
       "3                                  9.970366   \n",
       "4                                  9.925709   \n",
       "\n",
       "   secondary_cleaner.state.floatbank5_a_level  \\\n",
       "0                                 -498.310211   \n",
       "1                                 -500.169983   \n",
       "2                                 -500.129135   \n",
       "3                                 -499.201640   \n",
       "4                                 -501.686727   \n",
       "\n",
       "   secondary_cleaner.state.floatbank5_b_air  \\\n",
       "0                                  8.079666   \n",
       "1                                  7.984757   \n",
       "2                                  8.013877   \n",
       "3                                  7.977324   \n",
       "4                                  7.894242   \n",
       "\n",
       "   secondary_cleaner.state.floatbank5_b_level  \\\n",
       "0                                 -500.470978   \n",
       "1                                 -500.582168   \n",
       "2                                 -500.517572   \n",
       "3                                 -500.255908   \n",
       "4                                 -500.356035   \n",
       "\n",
       "   secondary_cleaner.state.floatbank6_a_air  \\\n",
       "0                                 14.151341   \n",
       "1                                 13.998353   \n",
       "2                                 14.028663   \n",
       "3                                 14.005551   \n",
       "4                                 13.996647   \n",
       "\n",
       "   secondary_cleaner.state.floatbank6_a_level  \n",
       "0                                 -605.841980  \n",
       "1                                 -599.787184  \n",
       "2                                 -601.427363  \n",
       "3                                 -599.996129  \n",
       "4                                 -601.496691  \n",
       "\n",
       "[5 rows x 87 columns]"
      ]
     },
     "metadata": {},
     "output_type": "display_data"
    },
    {
     "data": {
      "text/html": [
       "<div>\n",
       "<style scoped>\n",
       "    .dataframe tbody tr th:only-of-type {\n",
       "        vertical-align: middle;\n",
       "    }\n",
       "\n",
       "    .dataframe tbody tr th {\n",
       "        vertical-align: top;\n",
       "    }\n",
       "\n",
       "    .dataframe thead th {\n",
       "        text-align: right;\n",
       "    }\n",
       "</style>\n",
       "<table border=\"1\" class=\"dataframe\">\n",
       "  <thead>\n",
       "    <tr style=\"text-align: right;\">\n",
       "      <th></th>\n",
       "      <th>primary_cleaner.input.sulfate</th>\n",
       "      <th>primary_cleaner.input.depressant</th>\n",
       "      <th>primary_cleaner.input.feed_size</th>\n",
       "      <th>primary_cleaner.input.xanthate</th>\n",
       "      <th>primary_cleaner.state.floatbank8_a_air</th>\n",
       "      <th>primary_cleaner.state.floatbank8_a_level</th>\n",
       "      <th>primary_cleaner.state.floatbank8_b_air</th>\n",
       "      <th>primary_cleaner.state.floatbank8_b_level</th>\n",
       "      <th>primary_cleaner.state.floatbank8_c_air</th>\n",
       "      <th>primary_cleaner.state.floatbank8_c_level</th>\n",
       "      <th>...</th>\n",
       "      <th>secondary_cleaner.state.floatbank4_a_air</th>\n",
       "      <th>secondary_cleaner.state.floatbank4_a_level</th>\n",
       "      <th>secondary_cleaner.state.floatbank4_b_air</th>\n",
       "      <th>secondary_cleaner.state.floatbank4_b_level</th>\n",
       "      <th>secondary_cleaner.state.floatbank5_a_air</th>\n",
       "      <th>secondary_cleaner.state.floatbank5_a_level</th>\n",
       "      <th>secondary_cleaner.state.floatbank5_b_air</th>\n",
       "      <th>secondary_cleaner.state.floatbank5_b_level</th>\n",
       "      <th>secondary_cleaner.state.floatbank6_a_air</th>\n",
       "      <th>secondary_cleaner.state.floatbank6_a_level</th>\n",
       "    </tr>\n",
       "  </thead>\n",
       "  <tbody>\n",
       "    <tr>\n",
       "      <th>count</th>\n",
       "      <td>5286.000000</td>\n",
       "      <td>5285.000000</td>\n",
       "      <td>5290.000000</td>\n",
       "      <td>5286.000000</td>\n",
       "      <td>5.290000e+03</td>\n",
       "      <td>5290.000000</td>\n",
       "      <td>5.290000e+03</td>\n",
       "      <td>5290.000000</td>\n",
       "      <td>5.290000e+03</td>\n",
       "      <td>5290.000000</td>\n",
       "      <td>...</td>\n",
       "      <td>5.290000e+03</td>\n",
       "      <td>5290.000000</td>\n",
       "      <td>5.290000e+03</td>\n",
       "      <td>5290.000000</td>\n",
       "      <td>5290.000000</td>\n",
       "      <td>5290.000000</td>\n",
       "      <td>5290.000000</td>\n",
       "      <td>5290.000000</td>\n",
       "      <td>5290.000000</td>\n",
       "      <td>5290.000000</td>\n",
       "    </tr>\n",
       "    <tr>\n",
       "      <th>mean</th>\n",
       "      <td>174.839652</td>\n",
       "      <td>8.683596</td>\n",
       "      <td>7.266339</td>\n",
       "      <td>1.383803</td>\n",
       "      <td>1.539494e+03</td>\n",
       "      <td>-497.665883</td>\n",
       "      <td>1.545174e+03</td>\n",
       "      <td>-500.273098</td>\n",
       "      <td>1.527272e+03</td>\n",
       "      <td>-498.330680</td>\n",
       "      <td>...</td>\n",
       "      <td>1.632007e+01</td>\n",
       "      <td>-505.144570</td>\n",
       "      <td>1.373544e+01</td>\n",
       "      <td>-463.349858</td>\n",
       "      <td>12.804186</td>\n",
       "      <td>-501.329122</td>\n",
       "      <td>9.881145</td>\n",
       "      <td>-495.663398</td>\n",
       "      <td>17.304935</td>\n",
       "      <td>-501.793193</td>\n",
       "    </tr>\n",
       "    <tr>\n",
       "      <th>std</th>\n",
       "      <td>43.027080</td>\n",
       "      <td>3.072050</td>\n",
       "      <td>0.610219</td>\n",
       "      <td>0.643474</td>\n",
       "      <td>1.167979e+02</td>\n",
       "      <td>19.952431</td>\n",
       "      <td>1.222246e+02</td>\n",
       "      <td>32.968307</td>\n",
       "      <td>1.225380e+02</td>\n",
       "      <td>21.964876</td>\n",
       "      <td>...</td>\n",
       "      <td>3.493583e+00</td>\n",
       "      <td>31.427337</td>\n",
       "      <td>3.430484e+00</td>\n",
       "      <td>86.189107</td>\n",
       "      <td>3.026591</td>\n",
       "      <td>17.951495</td>\n",
       "      <td>2.868205</td>\n",
       "      <td>34.535007</td>\n",
       "      <td>4.536544</td>\n",
       "      <td>39.044215</td>\n",
       "    </tr>\n",
       "    <tr>\n",
       "      <th>min</th>\n",
       "      <td>2.566156</td>\n",
       "      <td>0.003839</td>\n",
       "      <td>5.650000</td>\n",
       "      <td>0.004984</td>\n",
       "      <td>5.445860e-32</td>\n",
       "      <td>-795.316337</td>\n",
       "      <td>6.647490e-32</td>\n",
       "      <td>-799.997015</td>\n",
       "      <td>4.033736e-32</td>\n",
       "      <td>-799.960571</td>\n",
       "      <td>...</td>\n",
       "      <td>1.079872e-16</td>\n",
       "      <td>-799.798523</td>\n",
       "      <td>2.489718e-17</td>\n",
       "      <td>-800.836914</td>\n",
       "      <td>0.069227</td>\n",
       "      <td>-797.323986</td>\n",
       "      <td>0.528083</td>\n",
       "      <td>-800.220337</td>\n",
       "      <td>-0.079426</td>\n",
       "      <td>-809.741464</td>\n",
       "    </tr>\n",
       "    <tr>\n",
       "      <th>25%</th>\n",
       "      <td>147.121401</td>\n",
       "      <td>6.489555</td>\n",
       "      <td>6.890000</td>\n",
       "      <td>0.907623</td>\n",
       "      <td>1.498936e+03</td>\n",
       "      <td>-500.357298</td>\n",
       "      <td>1.498971e+03</td>\n",
       "      <td>-500.703002</td>\n",
       "      <td>1.473230e+03</td>\n",
       "      <td>-501.018117</td>\n",
       "      <td>...</td>\n",
       "      <td>1.403618e+01</td>\n",
       "      <td>-500.868258</td>\n",
       "      <td>1.202862e+01</td>\n",
       "      <td>-500.323028</td>\n",
       "      <td>10.914838</td>\n",
       "      <td>-500.726841</td>\n",
       "      <td>8.036719</td>\n",
       "      <td>-500.194668</td>\n",
       "      <td>13.997317</td>\n",
       "      <td>-500.690984</td>\n",
       "    </tr>\n",
       "    <tr>\n",
       "      <th>50%</th>\n",
       "      <td>177.828489</td>\n",
       "      <td>8.052207</td>\n",
       "      <td>7.250000</td>\n",
       "      <td>1.197610</td>\n",
       "      <td>1.585129e+03</td>\n",
       "      <td>-499.969164</td>\n",
       "      <td>1.595622e+03</td>\n",
       "      <td>-500.028514</td>\n",
       "      <td>1.549595e+03</td>\n",
       "      <td>-500.017711</td>\n",
       "      <td>...</td>\n",
       "      <td>1.700847e+01</td>\n",
       "      <td>-500.115727</td>\n",
       "      <td>1.496486e+01</td>\n",
       "      <td>-499.576513</td>\n",
       "      <td>12.954182</td>\n",
       "      <td>-499.990332</td>\n",
       "      <td>10.004301</td>\n",
       "      <td>-499.990535</td>\n",
       "      <td>16.014935</td>\n",
       "      <td>-500.007126</td>\n",
       "    </tr>\n",
       "    <tr>\n",
       "      <th>75%</th>\n",
       "      <td>208.125438</td>\n",
       "      <td>10.027764</td>\n",
       "      <td>7.600000</td>\n",
       "      <td>1.797819</td>\n",
       "      <td>1.602077e+03</td>\n",
       "      <td>-499.568951</td>\n",
       "      <td>1.602324e+03</td>\n",
       "      <td>-499.293257</td>\n",
       "      <td>1.601144e+03</td>\n",
       "      <td>-498.994130</td>\n",
       "      <td>...</td>\n",
       "      <td>1.803862e+01</td>\n",
       "      <td>-499.404224</td>\n",
       "      <td>1.596213e+01</td>\n",
       "      <td>-400.933805</td>\n",
       "      <td>15.097528</td>\n",
       "      <td>-499.283191</td>\n",
       "      <td>11.997467</td>\n",
       "      <td>-499.719913</td>\n",
       "      <td>21.020013</td>\n",
       "      <td>-499.373018</td>\n",
       "    </tr>\n",
       "    <tr>\n",
       "      <th>max</th>\n",
       "      <td>265.983123</td>\n",
       "      <td>40.000000</td>\n",
       "      <td>15.500000</td>\n",
       "      <td>4.102454</td>\n",
       "      <td>2.103104e+03</td>\n",
       "      <td>-57.195404</td>\n",
       "      <td>1.813084e+03</td>\n",
       "      <td>-142.527229</td>\n",
       "      <td>1.715054e+03</td>\n",
       "      <td>-150.937035</td>\n",
       "      <td>...</td>\n",
       "      <td>3.005180e+01</td>\n",
       "      <td>-401.565212</td>\n",
       "      <td>3.126971e+01</td>\n",
       "      <td>-6.506986</td>\n",
       "      <td>25.258848</td>\n",
       "      <td>-244.483566</td>\n",
       "      <td>14.086866</td>\n",
       "      <td>-137.740004</td>\n",
       "      <td>26.705889</td>\n",
       "      <td>-123.307487</td>\n",
       "    </tr>\n",
       "  </tbody>\n",
       "</table>\n",
       "<p>8 rows × 52 columns</p>\n",
       "</div>"
      ],
      "text/plain": [
       "       primary_cleaner.input.sulfate  primary_cleaner.input.depressant  \\\n",
       "count                    5286.000000                       5285.000000   \n",
       "mean                      174.839652                          8.683596   \n",
       "std                        43.027080                          3.072050   \n",
       "min                         2.566156                          0.003839   \n",
       "25%                       147.121401                          6.489555   \n",
       "50%                       177.828489                          8.052207   \n",
       "75%                       208.125438                         10.027764   \n",
       "max                       265.983123                         40.000000   \n",
       "\n",
       "       primary_cleaner.input.feed_size  primary_cleaner.input.xanthate  \\\n",
       "count                      5290.000000                     5286.000000   \n",
       "mean                          7.266339                        1.383803   \n",
       "std                           0.610219                        0.643474   \n",
       "min                           5.650000                        0.004984   \n",
       "25%                           6.890000                        0.907623   \n",
       "50%                           7.250000                        1.197610   \n",
       "75%                           7.600000                        1.797819   \n",
       "max                          15.500000                        4.102454   \n",
       "\n",
       "       primary_cleaner.state.floatbank8_a_air  \\\n",
       "count                            5.290000e+03   \n",
       "mean                             1.539494e+03   \n",
       "std                              1.167979e+02   \n",
       "min                              5.445860e-32   \n",
       "25%                              1.498936e+03   \n",
       "50%                              1.585129e+03   \n",
       "75%                              1.602077e+03   \n",
       "max                              2.103104e+03   \n",
       "\n",
       "       primary_cleaner.state.floatbank8_a_level  \\\n",
       "count                               5290.000000   \n",
       "mean                                -497.665883   \n",
       "std                                   19.952431   \n",
       "min                                 -795.316337   \n",
       "25%                                 -500.357298   \n",
       "50%                                 -499.969164   \n",
       "75%                                 -499.568951   \n",
       "max                                  -57.195404   \n",
       "\n",
       "       primary_cleaner.state.floatbank8_b_air  \\\n",
       "count                            5.290000e+03   \n",
       "mean                             1.545174e+03   \n",
       "std                              1.222246e+02   \n",
       "min                              6.647490e-32   \n",
       "25%                              1.498971e+03   \n",
       "50%                              1.595622e+03   \n",
       "75%                              1.602324e+03   \n",
       "max                              1.813084e+03   \n",
       "\n",
       "       primary_cleaner.state.floatbank8_b_level  \\\n",
       "count                               5290.000000   \n",
       "mean                                -500.273098   \n",
       "std                                   32.968307   \n",
       "min                                 -799.997015   \n",
       "25%                                 -500.703002   \n",
       "50%                                 -500.028514   \n",
       "75%                                 -499.293257   \n",
       "max                                 -142.527229   \n",
       "\n",
       "       primary_cleaner.state.floatbank8_c_air  \\\n",
       "count                            5.290000e+03   \n",
       "mean                             1.527272e+03   \n",
       "std                              1.225380e+02   \n",
       "min                              4.033736e-32   \n",
       "25%                              1.473230e+03   \n",
       "50%                              1.549595e+03   \n",
       "75%                              1.601144e+03   \n",
       "max                              1.715054e+03   \n",
       "\n",
       "       primary_cleaner.state.floatbank8_c_level  ...  \\\n",
       "count                               5290.000000  ...   \n",
       "mean                                -498.330680  ...   \n",
       "std                                   21.964876  ...   \n",
       "min                                 -799.960571  ...   \n",
       "25%                                 -501.018117  ...   \n",
       "50%                                 -500.017711  ...   \n",
       "75%                                 -498.994130  ...   \n",
       "max                                 -150.937035  ...   \n",
       "\n",
       "       secondary_cleaner.state.floatbank4_a_air  \\\n",
       "count                              5.290000e+03   \n",
       "mean                               1.632007e+01   \n",
       "std                                3.493583e+00   \n",
       "min                                1.079872e-16   \n",
       "25%                                1.403618e+01   \n",
       "50%                                1.700847e+01   \n",
       "75%                                1.803862e+01   \n",
       "max                                3.005180e+01   \n",
       "\n",
       "       secondary_cleaner.state.floatbank4_a_level  \\\n",
       "count                                 5290.000000   \n",
       "mean                                  -505.144570   \n",
       "std                                     31.427337   \n",
       "min                                   -799.798523   \n",
       "25%                                   -500.868258   \n",
       "50%                                   -500.115727   \n",
       "75%                                   -499.404224   \n",
       "max                                   -401.565212   \n",
       "\n",
       "       secondary_cleaner.state.floatbank4_b_air  \\\n",
       "count                              5.290000e+03   \n",
       "mean                               1.373544e+01   \n",
       "std                                3.430484e+00   \n",
       "min                                2.489718e-17   \n",
       "25%                                1.202862e+01   \n",
       "50%                                1.496486e+01   \n",
       "75%                                1.596213e+01   \n",
       "max                                3.126971e+01   \n",
       "\n",
       "       secondary_cleaner.state.floatbank4_b_level  \\\n",
       "count                                 5290.000000   \n",
       "mean                                  -463.349858   \n",
       "std                                     86.189107   \n",
       "min                                   -800.836914   \n",
       "25%                                   -500.323028   \n",
       "50%                                   -499.576513   \n",
       "75%                                   -400.933805   \n",
       "max                                     -6.506986   \n",
       "\n",
       "       secondary_cleaner.state.floatbank5_a_air  \\\n",
       "count                               5290.000000   \n",
       "mean                                  12.804186   \n",
       "std                                    3.026591   \n",
       "min                                    0.069227   \n",
       "25%                                   10.914838   \n",
       "50%                                   12.954182   \n",
       "75%                                   15.097528   \n",
       "max                                   25.258848   \n",
       "\n",
       "       secondary_cleaner.state.floatbank5_a_level  \\\n",
       "count                                 5290.000000   \n",
       "mean                                  -501.329122   \n",
       "std                                     17.951495   \n",
       "min                                   -797.323986   \n",
       "25%                                   -500.726841   \n",
       "50%                                   -499.990332   \n",
       "75%                                   -499.283191   \n",
       "max                                   -244.483566   \n",
       "\n",
       "       secondary_cleaner.state.floatbank5_b_air  \\\n",
       "count                               5290.000000   \n",
       "mean                                   9.881145   \n",
       "std                                    2.868205   \n",
       "min                                    0.528083   \n",
       "25%                                    8.036719   \n",
       "50%                                   10.004301   \n",
       "75%                                   11.997467   \n",
       "max                                   14.086866   \n",
       "\n",
       "       secondary_cleaner.state.floatbank5_b_level  \\\n",
       "count                                 5290.000000   \n",
       "mean                                  -495.663398   \n",
       "std                                     34.535007   \n",
       "min                                   -800.220337   \n",
       "25%                                   -500.194668   \n",
       "50%                                   -499.990535   \n",
       "75%                                   -499.719913   \n",
       "max                                   -137.740004   \n",
       "\n",
       "       secondary_cleaner.state.floatbank6_a_air  \\\n",
       "count                               5290.000000   \n",
       "mean                                  17.304935   \n",
       "std                                    4.536544   \n",
       "min                                   -0.079426   \n",
       "25%                                   13.997317   \n",
       "50%                                   16.014935   \n",
       "75%                                   21.020013   \n",
       "max                                   26.705889   \n",
       "\n",
       "       secondary_cleaner.state.floatbank6_a_level  \n",
       "count                                 5290.000000  \n",
       "mean                                  -501.793193  \n",
       "std                                     39.044215  \n",
       "min                                   -809.741464  \n",
       "25%                                   -500.690984  \n",
       "50%                                   -500.007126  \n",
       "75%                                   -499.373018  \n",
       "max                                   -123.307487  \n",
       "\n",
       "[8 rows x 52 columns]"
      ]
     },
     "execution_count": 3,
     "metadata": {},
     "output_type": "execute_result"
    }
   ],
   "source": [
    "data_test = pd.read_csv('/datasets/gold_recovery_test_new.csv')\n",
    "data_test.info()\n",
    "display(data_train.head())\n",
    "data_test.describe()"
   ]
  },
  {
   "cell_type": "code",
   "execution_count": 4,
   "metadata": {
    "scrolled": true
   },
   "outputs": [
    {
     "name": "stdout",
     "output_type": "stream",
     "text": [
      "<class 'pandas.core.frame.DataFrame'>\n",
      "RangeIndex: 19439 entries, 0 to 19438\n",
      "Data columns (total 87 columns):\n",
      " #   Column                                              Non-Null Count  Dtype  \n",
      "---  ------                                              --------------  -----  \n",
      " 0   date                                                19439 non-null  object \n",
      " 1   final.output.concentrate_ag                         19438 non-null  float64\n",
      " 2   final.output.concentrate_pb                         19438 non-null  float64\n",
      " 3   final.output.concentrate_sol                        19228 non-null  float64\n",
      " 4   final.output.concentrate_au                         19439 non-null  float64\n",
      " 5   final.output.recovery                               19439 non-null  float64\n",
      " 6   final.output.tail_ag                                19438 non-null  float64\n",
      " 7   final.output.tail_pb                                19338 non-null  float64\n",
      " 8   final.output.tail_sol                               19433 non-null  float64\n",
      " 9   final.output.tail_au                                19439 non-null  float64\n",
      " 10  primary_cleaner.input.sulfate                       19415 non-null  float64\n",
      " 11  primary_cleaner.input.depressant                    19402 non-null  float64\n",
      " 12  primary_cleaner.input.feed_size                     19439 non-null  float64\n",
      " 13  primary_cleaner.input.xanthate                      19335 non-null  float64\n",
      " 14  primary_cleaner.output.concentrate_ag               19439 non-null  float64\n",
      " 15  primary_cleaner.output.concentrate_pb               19323 non-null  float64\n",
      " 16  primary_cleaner.output.concentrate_sol              19069 non-null  float64\n",
      " 17  primary_cleaner.output.concentrate_au               19439 non-null  float64\n",
      " 18  primary_cleaner.output.tail_ag                      19435 non-null  float64\n",
      " 19  primary_cleaner.output.tail_pb                      19418 non-null  float64\n",
      " 20  primary_cleaner.output.tail_sol                     19377 non-null  float64\n",
      " 21  primary_cleaner.output.tail_au                      19439 non-null  float64\n",
      " 22  primary_cleaner.state.floatbank8_a_air              19435 non-null  float64\n",
      " 23  primary_cleaner.state.floatbank8_a_level            19438 non-null  float64\n",
      " 24  primary_cleaner.state.floatbank8_b_air              19435 non-null  float64\n",
      " 25  primary_cleaner.state.floatbank8_b_level            19438 non-null  float64\n",
      " 26  primary_cleaner.state.floatbank8_c_air              19437 non-null  float64\n",
      " 27  primary_cleaner.state.floatbank8_c_level            19438 non-null  float64\n",
      " 28  primary_cleaner.state.floatbank8_d_air              19436 non-null  float64\n",
      " 29  primary_cleaner.state.floatbank8_d_level            19438 non-null  float64\n",
      " 30  rougher.calculation.sulfate_to_au_concentrate       19437 non-null  float64\n",
      " 31  rougher.calculation.floatbank10_sulfate_to_au_feed  19437 non-null  float64\n",
      " 32  rougher.calculation.floatbank11_sulfate_to_au_feed  19437 non-null  float64\n",
      " 33  rougher.calculation.au_pb_ratio                     19439 non-null  float64\n",
      " 34  rougher.input.feed_ag                               19439 non-null  float64\n",
      " 35  rougher.input.feed_pb                               19339 non-null  float64\n",
      " 36  rougher.input.feed_rate                             19428 non-null  float64\n",
      " 37  rougher.input.feed_size                             19294 non-null  float64\n",
      " 38  rougher.input.feed_sol                              19340 non-null  float64\n",
      " 39  rougher.input.feed_au                               19439 non-null  float64\n",
      " 40  rougher.input.floatbank10_sulfate                   19405 non-null  float64\n",
      " 41  rougher.input.floatbank10_xanthate                  19431 non-null  float64\n",
      " 42  rougher.input.floatbank11_sulfate                   19395 non-null  float64\n",
      " 43  rougher.input.floatbank11_xanthate                  18986 non-null  float64\n",
      " 44  rougher.output.concentrate_ag                       19439 non-null  float64\n",
      " 45  rougher.output.concentrate_pb                       19439 non-null  float64\n",
      " 46  rougher.output.concentrate_sol                      19416 non-null  float64\n",
      " 47  rougher.output.concentrate_au                       19439 non-null  float64\n",
      " 48  rougher.output.recovery                             19439 non-null  float64\n",
      " 49  rougher.output.tail_ag                              19438 non-null  float64\n",
      " 50  rougher.output.tail_pb                              19439 non-null  float64\n",
      " 51  rougher.output.tail_sol                             19439 non-null  float64\n",
      " 52  rougher.output.tail_au                              19439 non-null  float64\n",
      " 53  rougher.state.floatbank10_a_air                     19438 non-null  float64\n",
      " 54  rougher.state.floatbank10_a_level                   19438 non-null  float64\n",
      " 55  rougher.state.floatbank10_b_air                     19438 non-null  float64\n",
      " 56  rougher.state.floatbank10_b_level                   19438 non-null  float64\n",
      " 57  rougher.state.floatbank10_c_air                     19438 non-null  float64\n",
      " 58  rougher.state.floatbank10_c_level                   19438 non-null  float64\n",
      " 59  rougher.state.floatbank10_d_air                     19439 non-null  float64\n",
      " 60  rougher.state.floatbank10_d_level                   19439 non-null  float64\n",
      " 61  rougher.state.floatbank10_e_air                     19003 non-null  float64\n",
      " 62  rougher.state.floatbank10_e_level                   19439 non-null  float64\n",
      " 63  rougher.state.floatbank10_f_air                     19439 non-null  float64\n",
      " 64  rougher.state.floatbank10_f_level                   19439 non-null  float64\n",
      " 65  secondary_cleaner.output.tail_ag                    19437 non-null  float64\n",
      " 66  secondary_cleaner.output.tail_pb                    19427 non-null  float64\n",
      " 67  secondary_cleaner.output.tail_sol                   17691 non-null  float64\n",
      " 68  secondary_cleaner.output.tail_au                    19439 non-null  float64\n",
      " 69  secondary_cleaner.state.floatbank2_a_air            19219 non-null  float64\n",
      " 70  secondary_cleaner.state.floatbank2_a_level          19438 non-null  float64\n",
      " 71  secondary_cleaner.state.floatbank2_b_air            19416 non-null  float64\n",
      " 72  secondary_cleaner.state.floatbank2_b_level          19438 non-null  float64\n",
      " 73  secondary_cleaner.state.floatbank3_a_air            19426 non-null  float64\n",
      " 74  secondary_cleaner.state.floatbank3_a_level          19438 non-null  float64\n",
      " 75  secondary_cleaner.state.floatbank3_b_air            19438 non-null  float64\n",
      " 76  secondary_cleaner.state.floatbank3_b_level          19438 non-null  float64\n",
      " 77  secondary_cleaner.state.floatbank4_a_air            19433 non-null  float64\n",
      " 78  secondary_cleaner.state.floatbank4_a_level          19438 non-null  float64\n",
      " 79  secondary_cleaner.state.floatbank4_b_air            19438 non-null  float64\n",
      " 80  secondary_cleaner.state.floatbank4_b_level          19438 non-null  float64\n",
      " 81  secondary_cleaner.state.floatbank5_a_air            19438 non-null  float64\n",
      " 82  secondary_cleaner.state.floatbank5_a_level          19438 non-null  float64\n",
      " 83  secondary_cleaner.state.floatbank5_b_air            19438 non-null  float64\n",
      " 84  secondary_cleaner.state.floatbank5_b_level          19438 non-null  float64\n",
      " 85  secondary_cleaner.state.floatbank6_a_air            19437 non-null  float64\n",
      " 86  secondary_cleaner.state.floatbank6_a_level          19438 non-null  float64\n",
      "dtypes: float64(86), object(1)\n",
      "memory usage: 12.9+ MB\n"
     ]
    },
    {
     "data": {
      "text/html": [
       "<div>\n",
       "<style scoped>\n",
       "    .dataframe tbody tr th:only-of-type {\n",
       "        vertical-align: middle;\n",
       "    }\n",
       "\n",
       "    .dataframe tbody tr th {\n",
       "        vertical-align: top;\n",
       "    }\n",
       "\n",
       "    .dataframe thead th {\n",
       "        text-align: right;\n",
       "    }\n",
       "</style>\n",
       "<table border=\"1\" class=\"dataframe\">\n",
       "  <thead>\n",
       "    <tr style=\"text-align: right;\">\n",
       "      <th></th>\n",
       "      <th>date</th>\n",
       "      <th>final.output.concentrate_ag</th>\n",
       "      <th>final.output.concentrate_pb</th>\n",
       "      <th>final.output.concentrate_sol</th>\n",
       "      <th>final.output.concentrate_au</th>\n",
       "      <th>final.output.recovery</th>\n",
       "      <th>final.output.tail_ag</th>\n",
       "      <th>final.output.tail_pb</th>\n",
       "      <th>final.output.tail_sol</th>\n",
       "      <th>final.output.tail_au</th>\n",
       "      <th>...</th>\n",
       "      <th>secondary_cleaner.state.floatbank4_a_air</th>\n",
       "      <th>secondary_cleaner.state.floatbank4_a_level</th>\n",
       "      <th>secondary_cleaner.state.floatbank4_b_air</th>\n",
       "      <th>secondary_cleaner.state.floatbank4_b_level</th>\n",
       "      <th>secondary_cleaner.state.floatbank5_a_air</th>\n",
       "      <th>secondary_cleaner.state.floatbank5_a_level</th>\n",
       "      <th>secondary_cleaner.state.floatbank5_b_air</th>\n",
       "      <th>secondary_cleaner.state.floatbank5_b_level</th>\n",
       "      <th>secondary_cleaner.state.floatbank6_a_air</th>\n",
       "      <th>secondary_cleaner.state.floatbank6_a_level</th>\n",
       "    </tr>\n",
       "  </thead>\n",
       "  <tbody>\n",
       "    <tr>\n",
       "      <th>0</th>\n",
       "      <td>2016-01-15 00:00:00</td>\n",
       "      <td>6.055403</td>\n",
       "      <td>9.889648</td>\n",
       "      <td>5.507324</td>\n",
       "      <td>42.192020</td>\n",
       "      <td>70.541216</td>\n",
       "      <td>10.411962</td>\n",
       "      <td>0.895447</td>\n",
       "      <td>16.904297</td>\n",
       "      <td>2.143149</td>\n",
       "      <td>...</td>\n",
       "      <td>14.016835</td>\n",
       "      <td>-502.488007</td>\n",
       "      <td>12.099931</td>\n",
       "      <td>-504.715942</td>\n",
       "      <td>9.925633</td>\n",
       "      <td>-498.310211</td>\n",
       "      <td>8.079666</td>\n",
       "      <td>-500.470978</td>\n",
       "      <td>14.151341</td>\n",
       "      <td>-605.841980</td>\n",
       "    </tr>\n",
       "    <tr>\n",
       "      <th>1</th>\n",
       "      <td>2016-01-15 01:00:00</td>\n",
       "      <td>6.029369</td>\n",
       "      <td>9.968944</td>\n",
       "      <td>5.257781</td>\n",
       "      <td>42.701629</td>\n",
       "      <td>69.266198</td>\n",
       "      <td>10.462676</td>\n",
       "      <td>0.927452</td>\n",
       "      <td>16.634514</td>\n",
       "      <td>2.224930</td>\n",
       "      <td>...</td>\n",
       "      <td>13.992281</td>\n",
       "      <td>-505.503262</td>\n",
       "      <td>11.950531</td>\n",
       "      <td>-501.331529</td>\n",
       "      <td>10.039245</td>\n",
       "      <td>-500.169983</td>\n",
       "      <td>7.984757</td>\n",
       "      <td>-500.582168</td>\n",
       "      <td>13.998353</td>\n",
       "      <td>-599.787184</td>\n",
       "    </tr>\n",
       "    <tr>\n",
       "      <th>2</th>\n",
       "      <td>2016-01-15 02:00:00</td>\n",
       "      <td>6.055926</td>\n",
       "      <td>10.213995</td>\n",
       "      <td>5.383759</td>\n",
       "      <td>42.657501</td>\n",
       "      <td>68.116445</td>\n",
       "      <td>10.507046</td>\n",
       "      <td>0.953716</td>\n",
       "      <td>16.208849</td>\n",
       "      <td>2.257889</td>\n",
       "      <td>...</td>\n",
       "      <td>14.015015</td>\n",
       "      <td>-502.520901</td>\n",
       "      <td>11.912783</td>\n",
       "      <td>-501.133383</td>\n",
       "      <td>10.070913</td>\n",
       "      <td>-500.129135</td>\n",
       "      <td>8.013877</td>\n",
       "      <td>-500.517572</td>\n",
       "      <td>14.028663</td>\n",
       "      <td>-601.427363</td>\n",
       "    </tr>\n",
       "    <tr>\n",
       "      <th>3</th>\n",
       "      <td>2016-01-15 03:00:00</td>\n",
       "      <td>6.047977</td>\n",
       "      <td>9.977019</td>\n",
       "      <td>4.858634</td>\n",
       "      <td>42.689819</td>\n",
       "      <td>68.347543</td>\n",
       "      <td>10.422762</td>\n",
       "      <td>0.883763</td>\n",
       "      <td>16.532835</td>\n",
       "      <td>2.146849</td>\n",
       "      <td>...</td>\n",
       "      <td>14.036510</td>\n",
       "      <td>-500.857308</td>\n",
       "      <td>11.999550</td>\n",
       "      <td>-501.193686</td>\n",
       "      <td>9.970366</td>\n",
       "      <td>-499.201640</td>\n",
       "      <td>7.977324</td>\n",
       "      <td>-500.255908</td>\n",
       "      <td>14.005551</td>\n",
       "      <td>-599.996129</td>\n",
       "    </tr>\n",
       "    <tr>\n",
       "      <th>4</th>\n",
       "      <td>2016-01-15 04:00:00</td>\n",
       "      <td>6.148599</td>\n",
       "      <td>10.142511</td>\n",
       "      <td>4.939416</td>\n",
       "      <td>42.774141</td>\n",
       "      <td>66.927016</td>\n",
       "      <td>10.360302</td>\n",
       "      <td>0.792826</td>\n",
       "      <td>16.525686</td>\n",
       "      <td>2.055292</td>\n",
       "      <td>...</td>\n",
       "      <td>14.027298</td>\n",
       "      <td>-499.838632</td>\n",
       "      <td>11.953070</td>\n",
       "      <td>-501.053894</td>\n",
       "      <td>9.925709</td>\n",
       "      <td>-501.686727</td>\n",
       "      <td>7.894242</td>\n",
       "      <td>-500.356035</td>\n",
       "      <td>13.996647</td>\n",
       "      <td>-601.496691</td>\n",
       "    </tr>\n",
       "  </tbody>\n",
       "</table>\n",
       "<p>5 rows × 87 columns</p>\n",
       "</div>"
      ],
      "text/plain": [
       "                  date  final.output.concentrate_ag  \\\n",
       "0  2016-01-15 00:00:00                     6.055403   \n",
       "1  2016-01-15 01:00:00                     6.029369   \n",
       "2  2016-01-15 02:00:00                     6.055926   \n",
       "3  2016-01-15 03:00:00                     6.047977   \n",
       "4  2016-01-15 04:00:00                     6.148599   \n",
       "\n",
       "   final.output.concentrate_pb  final.output.concentrate_sol  \\\n",
       "0                     9.889648                      5.507324   \n",
       "1                     9.968944                      5.257781   \n",
       "2                    10.213995                      5.383759   \n",
       "3                     9.977019                      4.858634   \n",
       "4                    10.142511                      4.939416   \n",
       "\n",
       "   final.output.concentrate_au  final.output.recovery  final.output.tail_ag  \\\n",
       "0                    42.192020              70.541216             10.411962   \n",
       "1                    42.701629              69.266198             10.462676   \n",
       "2                    42.657501              68.116445             10.507046   \n",
       "3                    42.689819              68.347543             10.422762   \n",
       "4                    42.774141              66.927016             10.360302   \n",
       "\n",
       "   final.output.tail_pb  final.output.tail_sol  final.output.tail_au  ...  \\\n",
       "0              0.895447              16.904297              2.143149  ...   \n",
       "1              0.927452              16.634514              2.224930  ...   \n",
       "2              0.953716              16.208849              2.257889  ...   \n",
       "3              0.883763              16.532835              2.146849  ...   \n",
       "4              0.792826              16.525686              2.055292  ...   \n",
       "\n",
       "   secondary_cleaner.state.floatbank4_a_air  \\\n",
       "0                                 14.016835   \n",
       "1                                 13.992281   \n",
       "2                                 14.015015   \n",
       "3                                 14.036510   \n",
       "4                                 14.027298   \n",
       "\n",
       "   secondary_cleaner.state.floatbank4_a_level  \\\n",
       "0                                 -502.488007   \n",
       "1                                 -505.503262   \n",
       "2                                 -502.520901   \n",
       "3                                 -500.857308   \n",
       "4                                 -499.838632   \n",
       "\n",
       "   secondary_cleaner.state.floatbank4_b_air  \\\n",
       "0                                 12.099931   \n",
       "1                                 11.950531   \n",
       "2                                 11.912783   \n",
       "3                                 11.999550   \n",
       "4                                 11.953070   \n",
       "\n",
       "   secondary_cleaner.state.floatbank4_b_level  \\\n",
       "0                                 -504.715942   \n",
       "1                                 -501.331529   \n",
       "2                                 -501.133383   \n",
       "3                                 -501.193686   \n",
       "4                                 -501.053894   \n",
       "\n",
       "   secondary_cleaner.state.floatbank5_a_air  \\\n",
       "0                                  9.925633   \n",
       "1                                 10.039245   \n",
       "2                                 10.070913   \n",
       "3                                  9.970366   \n",
       "4                                  9.925709   \n",
       "\n",
       "   secondary_cleaner.state.floatbank5_a_level  \\\n",
       "0                                 -498.310211   \n",
       "1                                 -500.169983   \n",
       "2                                 -500.129135   \n",
       "3                                 -499.201640   \n",
       "4                                 -501.686727   \n",
       "\n",
       "   secondary_cleaner.state.floatbank5_b_air  \\\n",
       "0                                  8.079666   \n",
       "1                                  7.984757   \n",
       "2                                  8.013877   \n",
       "3                                  7.977324   \n",
       "4                                  7.894242   \n",
       "\n",
       "   secondary_cleaner.state.floatbank5_b_level  \\\n",
       "0                                 -500.470978   \n",
       "1                                 -500.582168   \n",
       "2                                 -500.517572   \n",
       "3                                 -500.255908   \n",
       "4                                 -500.356035   \n",
       "\n",
       "   secondary_cleaner.state.floatbank6_a_air  \\\n",
       "0                                 14.151341   \n",
       "1                                 13.998353   \n",
       "2                                 14.028663   \n",
       "3                                 14.005551   \n",
       "4                                 13.996647   \n",
       "\n",
       "   secondary_cleaner.state.floatbank6_a_level  \n",
       "0                                 -605.841980  \n",
       "1                                 -599.787184  \n",
       "2                                 -601.427363  \n",
       "3                                 -599.996129  \n",
       "4                                 -601.496691  \n",
       "\n",
       "[5 rows x 87 columns]"
      ]
     },
     "metadata": {},
     "output_type": "display_data"
    },
    {
     "data": {
      "text/html": [
       "<div>\n",
       "<style scoped>\n",
       "    .dataframe tbody tr th:only-of-type {\n",
       "        vertical-align: middle;\n",
       "    }\n",
       "\n",
       "    .dataframe tbody tr th {\n",
       "        vertical-align: top;\n",
       "    }\n",
       "\n",
       "    .dataframe thead th {\n",
       "        text-align: right;\n",
       "    }\n",
       "</style>\n",
       "<table border=\"1\" class=\"dataframe\">\n",
       "  <thead>\n",
       "    <tr style=\"text-align: right;\">\n",
       "      <th></th>\n",
       "      <th>final.output.concentrate_ag</th>\n",
       "      <th>final.output.concentrate_pb</th>\n",
       "      <th>final.output.concentrate_sol</th>\n",
       "      <th>final.output.concentrate_au</th>\n",
       "      <th>final.output.recovery</th>\n",
       "      <th>final.output.tail_ag</th>\n",
       "      <th>final.output.tail_pb</th>\n",
       "      <th>final.output.tail_sol</th>\n",
       "      <th>final.output.tail_au</th>\n",
       "      <th>primary_cleaner.input.sulfate</th>\n",
       "      <th>...</th>\n",
       "      <th>secondary_cleaner.state.floatbank4_a_air</th>\n",
       "      <th>secondary_cleaner.state.floatbank4_a_level</th>\n",
       "      <th>secondary_cleaner.state.floatbank4_b_air</th>\n",
       "      <th>secondary_cleaner.state.floatbank4_b_level</th>\n",
       "      <th>secondary_cleaner.state.floatbank5_a_air</th>\n",
       "      <th>secondary_cleaner.state.floatbank5_a_level</th>\n",
       "      <th>secondary_cleaner.state.floatbank5_b_air</th>\n",
       "      <th>secondary_cleaner.state.floatbank5_b_level</th>\n",
       "      <th>secondary_cleaner.state.floatbank6_a_air</th>\n",
       "      <th>secondary_cleaner.state.floatbank6_a_level</th>\n",
       "    </tr>\n",
       "  </thead>\n",
       "  <tbody>\n",
       "    <tr>\n",
       "      <th>count</th>\n",
       "      <td>19438.000000</td>\n",
       "      <td>19438.000000</td>\n",
       "      <td>19228.000000</td>\n",
       "      <td>19439.000000</td>\n",
       "      <td>19439.000000</td>\n",
       "      <td>19438.000000</td>\n",
       "      <td>19338.000000</td>\n",
       "      <td>19433.000000</td>\n",
       "      <td>19439.000000</td>\n",
       "      <td>19415.000000</td>\n",
       "      <td>...</td>\n",
       "      <td>19433.000000</td>\n",
       "      <td>19438.000000</td>\n",
       "      <td>19438.000000</td>\n",
       "      <td>19438.000000</td>\n",
       "      <td>19438.000000</td>\n",
       "      <td>19438.000000</td>\n",
       "      <td>19438.000000</td>\n",
       "      <td>19438.000000</td>\n",
       "      <td>19437.000000</td>\n",
       "      <td>19438.000000</td>\n",
       "    </tr>\n",
       "    <tr>\n",
       "      <th>mean</th>\n",
       "      <td>5.168470</td>\n",
       "      <td>9.978895</td>\n",
       "      <td>9.501224</td>\n",
       "      <td>44.076513</td>\n",
       "      <td>67.050208</td>\n",
       "      <td>9.688589</td>\n",
       "      <td>2.705795</td>\n",
       "      <td>10.583728</td>\n",
       "      <td>3.042467</td>\n",
       "      <td>144.624774</td>\n",
       "      <td>...</td>\n",
       "      <td>18.987674</td>\n",
       "      <td>-485.894516</td>\n",
       "      <td>15.010366</td>\n",
       "      <td>-461.078636</td>\n",
       "      <td>15.694452</td>\n",
       "      <td>-488.684065</td>\n",
       "      <td>12.198224</td>\n",
       "      <td>-487.149827</td>\n",
       "      <td>18.959024</td>\n",
       "      <td>-505.436305</td>\n",
       "    </tr>\n",
       "    <tr>\n",
       "      <th>std</th>\n",
       "      <td>1.372348</td>\n",
       "      <td>1.669240</td>\n",
       "      <td>2.787537</td>\n",
       "      <td>5.129784</td>\n",
       "      <td>10.125840</td>\n",
       "      <td>2.328642</td>\n",
       "      <td>0.949077</td>\n",
       "      <td>2.868782</td>\n",
       "      <td>0.922808</td>\n",
       "      <td>44.464071</td>\n",
       "      <td>...</td>\n",
       "      <td>5.411058</td>\n",
       "      <td>47.758570</td>\n",
       "      <td>4.890228</td>\n",
       "      <td>67.405524</td>\n",
       "      <td>5.510974</td>\n",
       "      <td>34.533396</td>\n",
       "      <td>5.333024</td>\n",
       "      <td>38.347312</td>\n",
       "      <td>5.550498</td>\n",
       "      <td>37.689057</td>\n",
       "    </tr>\n",
       "    <tr>\n",
       "      <th>min</th>\n",
       "      <td>0.000000</td>\n",
       "      <td>0.000000</td>\n",
       "      <td>0.000000</td>\n",
       "      <td>0.000000</td>\n",
       "      <td>0.000000</td>\n",
       "      <td>0.000000</td>\n",
       "      <td>0.000000</td>\n",
       "      <td>0.000000</td>\n",
       "      <td>0.000000</td>\n",
       "      <td>0.003112</td>\n",
       "      <td>...</td>\n",
       "      <td>0.000000</td>\n",
       "      <td>-799.798523</td>\n",
       "      <td>0.000000</td>\n",
       "      <td>-800.836914</td>\n",
       "      <td>-0.372054</td>\n",
       "      <td>-797.323986</td>\n",
       "      <td>0.528083</td>\n",
       "      <td>-800.220337</td>\n",
       "      <td>-0.079426</td>\n",
       "      <td>-809.741464</td>\n",
       "    </tr>\n",
       "    <tr>\n",
       "      <th>25%</th>\n",
       "      <td>4.251240</td>\n",
       "      <td>9.137262</td>\n",
       "      <td>7.722820</td>\n",
       "      <td>43.402215</td>\n",
       "      <td>63.299712</td>\n",
       "      <td>8.062878</td>\n",
       "      <td>2.040119</td>\n",
       "      <td>8.938947</td>\n",
       "      <td>2.461138</td>\n",
       "      <td>114.107029</td>\n",
       "      <td>...</td>\n",
       "      <td>14.975734</td>\n",
       "      <td>-500.704892</td>\n",
       "      <td>11.940294</td>\n",
       "      <td>-500.187742</td>\n",
       "      <td>10.988606</td>\n",
       "      <td>-500.458467</td>\n",
       "      <td>8.971105</td>\n",
       "      <td>-500.129462</td>\n",
       "      <td>14.983037</td>\n",
       "      <td>-500.728067</td>\n",
       "    </tr>\n",
       "    <tr>\n",
       "      <th>50%</th>\n",
       "      <td>5.066094</td>\n",
       "      <td>10.102433</td>\n",
       "      <td>9.218961</td>\n",
       "      <td>45.011244</td>\n",
       "      <td>68.172738</td>\n",
       "      <td>9.743623</td>\n",
       "      <td>2.748730</td>\n",
       "      <td>10.622456</td>\n",
       "      <td>2.984909</td>\n",
       "      <td>143.232103</td>\n",
       "      <td>...</td>\n",
       "      <td>18.017481</td>\n",
       "      <td>-499.837793</td>\n",
       "      <td>14.971014</td>\n",
       "      <td>-499.459786</td>\n",
       "      <td>15.000036</td>\n",
       "      <td>-499.802605</td>\n",
       "      <td>11.019433</td>\n",
       "      <td>-499.935317</td>\n",
       "      <td>19.960541</td>\n",
       "      <td>-500.048400</td>\n",
       "    </tr>\n",
       "    <tr>\n",
       "      <th>75%</th>\n",
       "      <td>5.895527</td>\n",
       "      <td>11.035769</td>\n",
       "      <td>10.947813</td>\n",
       "      <td>46.275313</td>\n",
       "      <td>72.686642</td>\n",
       "      <td>11.134294</td>\n",
       "      <td>3.333216</td>\n",
       "      <td>12.104271</td>\n",
       "      <td>3.571351</td>\n",
       "      <td>175.075656</td>\n",
       "      <td>...</td>\n",
       "      <td>23.012470</td>\n",
       "      <td>-498.249730</td>\n",
       "      <td>19.034162</td>\n",
       "      <td>-400.118106</td>\n",
       "      <td>18.026190</td>\n",
       "      <td>-498.384187</td>\n",
       "      <td>14.019088</td>\n",
       "      <td>-499.436708</td>\n",
       "      <td>24.003170</td>\n",
       "      <td>-499.495378</td>\n",
       "    </tr>\n",
       "    <tr>\n",
       "      <th>max</th>\n",
       "      <td>16.001945</td>\n",
       "      <td>17.031899</td>\n",
       "      <td>19.615720</td>\n",
       "      <td>52.756638</td>\n",
       "      <td>100.000000</td>\n",
       "      <td>19.552149</td>\n",
       "      <td>5.804178</td>\n",
       "      <td>22.317730</td>\n",
       "      <td>8.245022</td>\n",
       "      <td>265.983123</td>\n",
       "      <td>...</td>\n",
       "      <td>30.115735</td>\n",
       "      <td>-245.239184</td>\n",
       "      <td>31.269706</td>\n",
       "      <td>-6.506986</td>\n",
       "      <td>43.709931</td>\n",
       "      <td>-244.483566</td>\n",
       "      <td>27.926001</td>\n",
       "      <td>-137.740004</td>\n",
       "      <td>32.188906</td>\n",
       "      <td>-104.427459</td>\n",
       "    </tr>\n",
       "  </tbody>\n",
       "</table>\n",
       "<p>8 rows × 86 columns</p>\n",
       "</div>"
      ],
      "text/plain": [
       "       final.output.concentrate_ag  final.output.concentrate_pb  \\\n",
       "count                 19438.000000                 19438.000000   \n",
       "mean                      5.168470                     9.978895   \n",
       "std                       1.372348                     1.669240   \n",
       "min                       0.000000                     0.000000   \n",
       "25%                       4.251240                     9.137262   \n",
       "50%                       5.066094                    10.102433   \n",
       "75%                       5.895527                    11.035769   \n",
       "max                      16.001945                    17.031899   \n",
       "\n",
       "       final.output.concentrate_sol  final.output.concentrate_au  \\\n",
       "count                  19228.000000                 19439.000000   \n",
       "mean                       9.501224                    44.076513   \n",
       "std                        2.787537                     5.129784   \n",
       "min                        0.000000                     0.000000   \n",
       "25%                        7.722820                    43.402215   \n",
       "50%                        9.218961                    45.011244   \n",
       "75%                       10.947813                    46.275313   \n",
       "max                       19.615720                    52.756638   \n",
       "\n",
       "       final.output.recovery  final.output.tail_ag  final.output.tail_pb  \\\n",
       "count           19439.000000          19438.000000          19338.000000   \n",
       "mean               67.050208              9.688589              2.705795   \n",
       "std                10.125840              2.328642              0.949077   \n",
       "min                 0.000000              0.000000              0.000000   \n",
       "25%                63.299712              8.062878              2.040119   \n",
       "50%                68.172738              9.743623              2.748730   \n",
       "75%                72.686642             11.134294              3.333216   \n",
       "max               100.000000             19.552149              5.804178   \n",
       "\n",
       "       final.output.tail_sol  final.output.tail_au  \\\n",
       "count           19433.000000          19439.000000   \n",
       "mean               10.583728              3.042467   \n",
       "std                 2.868782              0.922808   \n",
       "min                 0.000000              0.000000   \n",
       "25%                 8.938947              2.461138   \n",
       "50%                10.622456              2.984909   \n",
       "75%                12.104271              3.571351   \n",
       "max                22.317730              8.245022   \n",
       "\n",
       "       primary_cleaner.input.sulfate  ...  \\\n",
       "count                   19415.000000  ...   \n",
       "mean                      144.624774  ...   \n",
       "std                        44.464071  ...   \n",
       "min                         0.003112  ...   \n",
       "25%                       114.107029  ...   \n",
       "50%                       143.232103  ...   \n",
       "75%                       175.075656  ...   \n",
       "max                       265.983123  ...   \n",
       "\n",
       "       secondary_cleaner.state.floatbank4_a_air  \\\n",
       "count                              19433.000000   \n",
       "mean                                  18.987674   \n",
       "std                                    5.411058   \n",
       "min                                    0.000000   \n",
       "25%                                   14.975734   \n",
       "50%                                   18.017481   \n",
       "75%                                   23.012470   \n",
       "max                                   30.115735   \n",
       "\n",
       "       secondary_cleaner.state.floatbank4_a_level  \\\n",
       "count                                19438.000000   \n",
       "mean                                  -485.894516   \n",
       "std                                     47.758570   \n",
       "min                                   -799.798523   \n",
       "25%                                   -500.704892   \n",
       "50%                                   -499.837793   \n",
       "75%                                   -498.249730   \n",
       "max                                   -245.239184   \n",
       "\n",
       "       secondary_cleaner.state.floatbank4_b_air  \\\n",
       "count                              19438.000000   \n",
       "mean                                  15.010366   \n",
       "std                                    4.890228   \n",
       "min                                    0.000000   \n",
       "25%                                   11.940294   \n",
       "50%                                   14.971014   \n",
       "75%                                   19.034162   \n",
       "max                                   31.269706   \n",
       "\n",
       "       secondary_cleaner.state.floatbank4_b_level  \\\n",
       "count                                19438.000000   \n",
       "mean                                  -461.078636   \n",
       "std                                     67.405524   \n",
       "min                                   -800.836914   \n",
       "25%                                   -500.187742   \n",
       "50%                                   -499.459786   \n",
       "75%                                   -400.118106   \n",
       "max                                     -6.506986   \n",
       "\n",
       "       secondary_cleaner.state.floatbank5_a_air  \\\n",
       "count                              19438.000000   \n",
       "mean                                  15.694452   \n",
       "std                                    5.510974   \n",
       "min                                   -0.372054   \n",
       "25%                                   10.988606   \n",
       "50%                                   15.000036   \n",
       "75%                                   18.026190   \n",
       "max                                   43.709931   \n",
       "\n",
       "       secondary_cleaner.state.floatbank5_a_level  \\\n",
       "count                                19438.000000   \n",
       "mean                                  -488.684065   \n",
       "std                                     34.533396   \n",
       "min                                   -797.323986   \n",
       "25%                                   -500.458467   \n",
       "50%                                   -499.802605   \n",
       "75%                                   -498.384187   \n",
       "max                                   -244.483566   \n",
       "\n",
       "       secondary_cleaner.state.floatbank5_b_air  \\\n",
       "count                              19438.000000   \n",
       "mean                                  12.198224   \n",
       "std                                    5.333024   \n",
       "min                                    0.528083   \n",
       "25%                                    8.971105   \n",
       "50%                                   11.019433   \n",
       "75%                                   14.019088   \n",
       "max                                   27.926001   \n",
       "\n",
       "       secondary_cleaner.state.floatbank5_b_level  \\\n",
       "count                                19438.000000   \n",
       "mean                                  -487.149827   \n",
       "std                                     38.347312   \n",
       "min                                   -800.220337   \n",
       "25%                                   -500.129462   \n",
       "50%                                   -499.935317   \n",
       "75%                                   -499.436708   \n",
       "max                                   -137.740004   \n",
       "\n",
       "       secondary_cleaner.state.floatbank6_a_air  \\\n",
       "count                              19437.000000   \n",
       "mean                                  18.959024   \n",
       "std                                    5.550498   \n",
       "min                                   -0.079426   \n",
       "25%                                   14.983037   \n",
       "50%                                   19.960541   \n",
       "75%                                   24.003170   \n",
       "max                                   32.188906   \n",
       "\n",
       "       secondary_cleaner.state.floatbank6_a_level  \n",
       "count                                19438.000000  \n",
       "mean                                  -505.436305  \n",
       "std                                     37.689057  \n",
       "min                                   -809.741464  \n",
       "25%                                   -500.728067  \n",
       "50%                                   -500.048400  \n",
       "75%                                   -499.495378  \n",
       "max                                   -104.427459  \n",
       "\n",
       "[8 rows x 86 columns]"
      ]
     },
     "execution_count": 4,
     "metadata": {},
     "output_type": "execute_result"
    }
   ],
   "source": [
    "data = pd.read_csv('/datasets/gold_recovery_full_new.csv')\n",
    "data.info()\n",
    "display(data.head())\n",
    "data.describe()"
   ]
  },
  {
   "cell_type": "markdown",
   "metadata": {},
   "source": [
    "Исходя из проанализированных данных можно сделать первые несколько выводов: в данных есть пропуски; столец date имеет неверный тип данных, неподходящих для обозначения даты"
   ]
  },
  {
   "cell_type": "markdown",
   "metadata": {},
   "source": [
    "Целесообразным будет рассчитывать эффективность обогащения после обработки данных для большей точности результатов."
   ]
  },
  {
   "cell_type": "code",
   "execution_count": 5,
   "metadata": {},
   "outputs": [],
   "source": [
    "def to_date(data,name):\n",
    "    data['date'] = pd.to_datetime(data['date'], format='%Y-%m-%d %H:%M:%S')\n",
    "    print(f\"Тип данных столбца 'date' для {name} выборки: {data.dtypes['date']}\")"
   ]
  },
  {
   "cell_type": "code",
   "execution_count": 6,
   "metadata": {},
   "outputs": [
    {
     "name": "stdout",
     "output_type": "stream",
     "text": [
      "Тип данных столбца 'date' для обучающей выборки: datetime64[ns]\n",
      "Тип данных столбца 'date' для тестовой выборки: datetime64[ns]\n",
      "Тип данных столбца 'date' для полной выборки: datetime64[ns]\n"
     ]
    }
   ],
   "source": [
    "to_date(data_train,\"обучающей\")\n",
    "to_date(data_test,\"тестовой\")\n",
    "to_date(data,\"полной\")"
   ]
  },
  {
   "cell_type": "markdown",
   "metadata": {},
   "source": [
    "Тип данных преобразован в `datetime`, на следующем этапе осуществляется проверка на `явные дубликаты`."
   ]
  },
  {
   "cell_type": "code",
   "execution_count": 7,
   "metadata": {},
   "outputs": [],
   "source": [
    "def check_duplicate(data,name):\n",
    "    print(f\"Количество явных дубликатов в {name} выборке - {data.duplicated().sum()}\")"
   ]
  },
  {
   "cell_type": "code",
   "execution_count": 8,
   "metadata": {},
   "outputs": [
    {
     "name": "stdout",
     "output_type": "stream",
     "text": [
      "Количество явных дубликатов в обучающей выборке - 0\n",
      "Количество явных дубликатов в тестовой выборке - 0\n",
      "Количество явных дубликатов в полной выборке - 0\n"
     ]
    }
   ],
   "source": [
    "check_duplicate(data_train,\"обучающей\")\n",
    "check_duplicate(data_test,\"тестовой\")\n",
    "check_duplicate(data,\"полной\")"
   ]
  },
  {
   "cell_type": "markdown",
   "metadata": {},
   "source": [
    "Явных дубликатов `не найдено`. На следующем этапе заполним пропуски."
   ]
  },
  {
   "cell_type": "code",
   "execution_count": 9,
   "metadata": {},
   "outputs": [],
   "source": [
    "def fill_na(data,name):\n",
    "    print(f\"Количество пропусков в ячейках {name} датафрейма до преобразования - {(data.isna().sum().sum())}\") \n",
    "    data.fillna(inplace = True, method = \"ffill\",axis=0)\n",
    "    print(f\"Итоговое количество пропусков в ячейках {name} датафрейма - {(data.isna().sum().sum())}\\n\")    "
   ]
  },
  {
   "cell_type": "code",
   "execution_count": 10,
   "metadata": {},
   "outputs": [
    {
     "name": "stdout",
     "output_type": "stream",
     "text": [
      "Количество пропусков в ячейках обучающего датафрейма до преобразования - 4100\n",
      "Итоговое количество пропусков в ячейках обучающего датафрейма - 0\n",
      "\n",
      "Количество пропусков в ячейках тестового датафрейма до преобразования - 90\n",
      "Итоговое количество пропусков в ячейках тестового датафрейма - 0\n",
      "\n",
      "Количество пропусков в ячейках полного датафрейма до преобразования - 4481\n",
      "Итоговое количество пропусков в ячейках полного датафрейма - 0\n",
      "\n"
     ]
    }
   ],
   "source": [
    "fill_na(data_train,\"обучающего\")\n",
    "fill_na(data_test,\"тестового\")\n",
    "fill_na(data,\"полного\")"
   ]
  },
  {
   "cell_type": "markdown",
   "metadata": {},
   "source": [
    "Так как по условию все данные проиндексированы датой и признаки со скожими датами будут приблизительно равны, то именно близкими значениями и будут заполнены пропуски."
   ]
  },
  {
   "cell_type": "markdown",
   "metadata": {},
   "source": [
    "<div class=\"alert  alert-success\">\n",
    "<h2> Комментарий ревьюера <a class=\"tocSkip\"> </h2>\n",
    "\n",
    "<b>Верно!👍:\\\n",
    "</b> Верное решение по обработке пропусков, в признаках их не много. Все наблюдения представляют собой последовательные измерения, заполнить пропуски можно методами `pandas`: `ffill`/ `bfill`/ `interpolate` , это вполне уместно.\\\n",
    "Хочу посоветовать тебе статью, которая рассматривает разные способы обработки пропусков, выделяет их плюсы и минусы, думаю, тебе может быть интересно: https://loginom.ru/blog/missing   "
   ]
  },
  {
   "cell_type": "markdown",
   "metadata": {},
   "source": [
    "Какие преобразования даны были сделаны:\n",
    "- Для столбца date  тип с object на datetime\n",
    "- Проверка на явные дубликаты\n",
    "- Заполнены пропуски"
   ]
  },
  {
   "cell_type": "markdown",
   "metadata": {},
   "source": [
    "<div class=\"alert alert-success\">\n",
    "<h2> Комментарий ревьюера <a class=\"tocSkip\"> </h2>\n",
    "\n",
    "<b>Все отлично!👍:  </b> \n",
    "    \n",
    "С данными познакомились, проведен первичный аналитический осмотр!) Полученная информация поможет нам в дальнейшем с предобработкой данных."
   ]
  },
  {
   "cell_type": "markdown",
   "metadata": {},
   "source": [
    "Проверка того, что `эффективность обогащения` рассчитана правильно, с помощью рассчета `MAE` рассчетов и данных"
   ]
  },
  {
   "cell_type": "code",
   "execution_count": 11,
   "metadata": {},
   "outputs": [
    {
     "name": "stdout",
     "output_type": "stream",
     "text": [
      "MAE - 9.73512347450521e-15\n"
     ]
    }
   ],
   "source": [
    "C = data_train['rougher.output.concentrate_au']\n",
    "F = data_train['rougher.input.feed_au']\n",
    "T = data_train['rougher.output.tail_au']\n",
    "recovery = ((C*(F-T))/(F*(C-T))) * 100\n",
    "print('MAE -', mean_absolute_error(data_train['rougher.output.recovery'], recovery))"
   ]
  },
  {
   "cell_type": "markdown",
   "metadata": {},
   "source": [
    "`MAE` описывает различие парметров в среднем, `MAE` ничтожно мало и из этого следует, что рассчеты **верны.**"
   ]
  },
  {
   "cell_type": "markdown",
   "metadata": {},
   "source": [
    "<div class=\"alert alert-success\">\n",
    "<h2> Комментарий ревьюера <a class=\"tocSkip\"> </h2>\n",
    "\n",
    "<b>Все отлично!👍:</b> \n",
    "    \n",
    "Твое расссчитанное значение `MAE` верно)"
   ]
  },
  {
   "cell_type": "markdown",
   "metadata": {},
   "source": [
    "Проанализируем признаки, недоступные в тестовой выборке:"
   ]
  },
  {
   "cell_type": "code",
   "execution_count": 12,
   "metadata": {
    "scrolled": true
   },
   "outputs": [
    {
     "data": {
      "text/plain": [
       "{'final.output.concentrate_ag',\n",
       " 'final.output.concentrate_au',\n",
       " 'final.output.concentrate_pb',\n",
       " 'final.output.concentrate_sol',\n",
       " 'final.output.recovery',\n",
       " 'final.output.tail_ag',\n",
       " 'final.output.tail_au',\n",
       " 'final.output.tail_pb',\n",
       " 'final.output.tail_sol',\n",
       " 'primary_cleaner.output.concentrate_ag',\n",
       " 'primary_cleaner.output.concentrate_au',\n",
       " 'primary_cleaner.output.concentrate_pb',\n",
       " 'primary_cleaner.output.concentrate_sol',\n",
       " 'primary_cleaner.output.tail_ag',\n",
       " 'primary_cleaner.output.tail_au',\n",
       " 'primary_cleaner.output.tail_pb',\n",
       " 'primary_cleaner.output.tail_sol',\n",
       " 'rougher.calculation.au_pb_ratio',\n",
       " 'rougher.calculation.floatbank10_sulfate_to_au_feed',\n",
       " 'rougher.calculation.floatbank11_sulfate_to_au_feed',\n",
       " 'rougher.calculation.sulfate_to_au_concentrate',\n",
       " 'rougher.output.concentrate_ag',\n",
       " 'rougher.output.concentrate_au',\n",
       " 'rougher.output.concentrate_pb',\n",
       " 'rougher.output.concentrate_sol',\n",
       " 'rougher.output.recovery',\n",
       " 'rougher.output.tail_ag',\n",
       " 'rougher.output.tail_au',\n",
       " 'rougher.output.tail_pb',\n",
       " 'rougher.output.tail_sol',\n",
       " 'secondary_cleaner.output.tail_ag',\n",
       " 'secondary_cleaner.output.tail_au',\n",
       " 'secondary_cleaner.output.tail_pb',\n",
       " 'secondary_cleaner.output.tail_sol'}"
      ]
     },
     "metadata": {},
     "output_type": "display_data"
    },
    {
     "name": "stdout",
     "output_type": "stream",
     "text": [
      "\n",
      "\n",
      " Сколько столбцов не совпадает: 34\n"
     ]
    }
   ],
   "source": [
    "unavailable_signs = set(data_train.columns) - set(data_test.columns)\n",
    "display(unavailable_signs)\n",
    "print('\\n\\n Сколько столбцов не совпадает:', len(unavailable_signs))"
   ]
  },
  {
   "cell_type": "markdown",
   "metadata": {},
   "source": [
    "В основном в тестовой выборке отсутствуют значения типа \"параметры продукта\" для различных этапов такие как:\n",
    " - recovery\n",
    " - tail_metal\n",
    " - concentrate_metal\n",
    " \n",
    ", где metal - все **4** возможных металла.\n",
    "\n",
    "Также отсутвуют расчетые параметры:\n",
    " - sulfate_to_au_concentrate\n",
    " - au_pb_ratio\n",
    " - floatbank11_sulfate_to_au_feed\n",
    " - floatbank10_sulfate_to_au_feed\n",
    "\n",
    "Отсутствие данных признаков обьясняется тем, что они детектируется или рассчитывается в `последующих этапах` и `недоступны изначально`."
   ]
  },
  {
   "cell_type": "markdown",
   "metadata": {},
   "source": [
    "<div class=\"alert alert-success\">\n",
    "<h2> Комментарий ревьюера <a class=\"tocSkip\"> </h2>\n",
    "\n",
    "<b>Все отлично!👍:</b> \n",
    "    \n",
    "В тестовой выборке недоступны некоторые расчетные (calculation) и выходные (output) характеристики процесса, ведь их невозможно получить либо замерить во время выполнения технологического процесса."
   ]
  },
  {
   "cell_type": "markdown",
   "metadata": {},
   "source": [
    "В тестовой выборке отсутствуют целевые признаки `rougher.output.recovery и final.output.recovery` их необходимо добавить в тестовую выборку:"
   ]
  },
  {
   "cell_type": "code",
   "execution_count": 13,
   "metadata": {
    "scrolled": true
   },
   "outputs": [
    {
     "data": {
      "text/html": [
       "<div>\n",
       "<style scoped>\n",
       "    .dataframe tbody tr th:only-of-type {\n",
       "        vertical-align: middle;\n",
       "    }\n",
       "\n",
       "    .dataframe tbody tr th {\n",
       "        vertical-align: top;\n",
       "    }\n",
       "\n",
       "    .dataframe thead th {\n",
       "        text-align: right;\n",
       "    }\n",
       "</style>\n",
       "<table border=\"1\" class=\"dataframe\">\n",
       "  <thead>\n",
       "    <tr style=\"text-align: right;\">\n",
       "      <th></th>\n",
       "      <th>date</th>\n",
       "      <th>primary_cleaner.input.sulfate</th>\n",
       "      <th>primary_cleaner.input.depressant</th>\n",
       "      <th>primary_cleaner.input.feed_size</th>\n",
       "      <th>primary_cleaner.input.xanthate</th>\n",
       "      <th>primary_cleaner.state.floatbank8_a_air</th>\n",
       "      <th>primary_cleaner.state.floatbank8_a_level</th>\n",
       "      <th>primary_cleaner.state.floatbank8_b_air</th>\n",
       "      <th>primary_cleaner.state.floatbank8_b_level</th>\n",
       "      <th>primary_cleaner.state.floatbank8_c_air</th>\n",
       "      <th>...</th>\n",
       "      <th>secondary_cleaner.state.floatbank4_b_air</th>\n",
       "      <th>secondary_cleaner.state.floatbank4_b_level</th>\n",
       "      <th>secondary_cleaner.state.floatbank5_a_air</th>\n",
       "      <th>secondary_cleaner.state.floatbank5_a_level</th>\n",
       "      <th>secondary_cleaner.state.floatbank5_b_air</th>\n",
       "      <th>secondary_cleaner.state.floatbank5_b_level</th>\n",
       "      <th>secondary_cleaner.state.floatbank6_a_air</th>\n",
       "      <th>secondary_cleaner.state.floatbank6_a_level</th>\n",
       "      <th>rougher.output.recovery</th>\n",
       "      <th>final.output.recovery</th>\n",
       "    </tr>\n",
       "  </thead>\n",
       "  <tbody>\n",
       "    <tr>\n",
       "      <th>0</th>\n",
       "      <td>2016-09-01 00:59:59</td>\n",
       "      <td>210.800909</td>\n",
       "      <td>14.993118</td>\n",
       "      <td>8.080000</td>\n",
       "      <td>1.005021</td>\n",
       "      <td>1398.981301</td>\n",
       "      <td>-500.225577</td>\n",
       "      <td>1399.144926</td>\n",
       "      <td>-499.919735</td>\n",
       "      <td>1400.102998</td>\n",
       "      <td>...</td>\n",
       "      <td>8.016656</td>\n",
       "      <td>-501.289139</td>\n",
       "      <td>7.946562</td>\n",
       "      <td>-432.317850</td>\n",
       "      <td>4.872511</td>\n",
       "      <td>-500.037437</td>\n",
       "      <td>26.705889</td>\n",
       "      <td>-499.709414</td>\n",
       "      <td>89.993421</td>\n",
       "      <td>70.273583</td>\n",
       "    </tr>\n",
       "    <tr>\n",
       "      <th>1</th>\n",
       "      <td>2016-09-01 01:59:59</td>\n",
       "      <td>215.392455</td>\n",
       "      <td>14.987471</td>\n",
       "      <td>8.080000</td>\n",
       "      <td>0.990469</td>\n",
       "      <td>1398.777912</td>\n",
       "      <td>-500.057435</td>\n",
       "      <td>1398.055362</td>\n",
       "      <td>-499.778182</td>\n",
       "      <td>1396.151033</td>\n",
       "      <td>...</td>\n",
       "      <td>8.130979</td>\n",
       "      <td>-499.634209</td>\n",
       "      <td>7.958270</td>\n",
       "      <td>-525.839648</td>\n",
       "      <td>4.878850</td>\n",
       "      <td>-500.162375</td>\n",
       "      <td>25.019940</td>\n",
       "      <td>-499.819438</td>\n",
       "      <td>88.089657</td>\n",
       "      <td>68.910432</td>\n",
       "    </tr>\n",
       "    <tr>\n",
       "      <th>2</th>\n",
       "      <td>2016-09-01 02:59:59</td>\n",
       "      <td>215.259946</td>\n",
       "      <td>12.884934</td>\n",
       "      <td>7.786667</td>\n",
       "      <td>0.996043</td>\n",
       "      <td>1398.493666</td>\n",
       "      <td>-500.868360</td>\n",
       "      <td>1398.860436</td>\n",
       "      <td>-499.764529</td>\n",
       "      <td>1398.075709</td>\n",
       "      <td>...</td>\n",
       "      <td>8.096893</td>\n",
       "      <td>-500.827423</td>\n",
       "      <td>8.071056</td>\n",
       "      <td>-500.801673</td>\n",
       "      <td>4.905125</td>\n",
       "      <td>-499.828510</td>\n",
       "      <td>24.994862</td>\n",
       "      <td>-500.622559</td>\n",
       "      <td>88.412756</td>\n",
       "      <td>68.143213</td>\n",
       "    </tr>\n",
       "    <tr>\n",
       "      <th>3</th>\n",
       "      <td>2016-09-01 03:59:59</td>\n",
       "      <td>215.336236</td>\n",
       "      <td>12.006805</td>\n",
       "      <td>7.640000</td>\n",
       "      <td>0.863514</td>\n",
       "      <td>1399.618111</td>\n",
       "      <td>-498.863574</td>\n",
       "      <td>1397.440120</td>\n",
       "      <td>-499.211024</td>\n",
       "      <td>1400.129303</td>\n",
       "      <td>...</td>\n",
       "      <td>8.074946</td>\n",
       "      <td>-499.474407</td>\n",
       "      <td>7.897085</td>\n",
       "      <td>-500.868509</td>\n",
       "      <td>4.931400</td>\n",
       "      <td>-499.963623</td>\n",
       "      <td>24.948919</td>\n",
       "      <td>-498.709987</td>\n",
       "      <td>87.360133</td>\n",
       "      <td>67.776393</td>\n",
       "    </tr>\n",
       "    <tr>\n",
       "      <th>4</th>\n",
       "      <td>2016-09-01 04:59:59</td>\n",
       "      <td>199.099327</td>\n",
       "      <td>10.682530</td>\n",
       "      <td>7.530000</td>\n",
       "      <td>0.805575</td>\n",
       "      <td>1401.268123</td>\n",
       "      <td>-500.808305</td>\n",
       "      <td>1398.128818</td>\n",
       "      <td>-499.504543</td>\n",
       "      <td>1402.172226</td>\n",
       "      <td>...</td>\n",
       "      <td>8.054678</td>\n",
       "      <td>-500.397500</td>\n",
       "      <td>8.107890</td>\n",
       "      <td>-509.526725</td>\n",
       "      <td>4.957674</td>\n",
       "      <td>-500.360026</td>\n",
       "      <td>25.003331</td>\n",
       "      <td>-500.856333</td>\n",
       "      <td>83.236367</td>\n",
       "      <td>61.467078</td>\n",
       "    </tr>\n",
       "    <tr>\n",
       "      <th>...</th>\n",
       "      <td>...</td>\n",
       "      <td>...</td>\n",
       "      <td>...</td>\n",
       "      <td>...</td>\n",
       "      <td>...</td>\n",
       "      <td>...</td>\n",
       "      <td>...</td>\n",
       "      <td>...</td>\n",
       "      <td>...</td>\n",
       "      <td>...</td>\n",
       "      <td>...</td>\n",
       "      <td>...</td>\n",
       "      <td>...</td>\n",
       "      <td>...</td>\n",
       "      <td>...</td>\n",
       "      <td>...</td>\n",
       "      <td>...</td>\n",
       "      <td>...</td>\n",
       "      <td>...</td>\n",
       "      <td>...</td>\n",
       "      <td>...</td>\n",
       "    </tr>\n",
       "    <tr>\n",
       "      <th>5285</th>\n",
       "      <td>2017-12-31 19:59:59</td>\n",
       "      <td>173.957757</td>\n",
       "      <td>15.963399</td>\n",
       "      <td>8.070000</td>\n",
       "      <td>0.896701</td>\n",
       "      <td>1401.930554</td>\n",
       "      <td>-499.728848</td>\n",
       "      <td>1401.441445</td>\n",
       "      <td>-499.193423</td>\n",
       "      <td>1399.810313</td>\n",
       "      <td>...</td>\n",
       "      <td>12.069155</td>\n",
       "      <td>-499.673279</td>\n",
       "      <td>7.977259</td>\n",
       "      <td>-499.516126</td>\n",
       "      <td>5.933319</td>\n",
       "      <td>-499.965973</td>\n",
       "      <td>8.987171</td>\n",
       "      <td>-499.755909</td>\n",
       "      <td>95.172585</td>\n",
       "      <td>68.919891</td>\n",
       "    </tr>\n",
       "    <tr>\n",
       "      <th>5286</th>\n",
       "      <td>2017-12-31 20:59:59</td>\n",
       "      <td>172.910270</td>\n",
       "      <td>16.002605</td>\n",
       "      <td>8.070000</td>\n",
       "      <td>0.896519</td>\n",
       "      <td>1447.075722</td>\n",
       "      <td>-494.716823</td>\n",
       "      <td>1448.851892</td>\n",
       "      <td>-465.963026</td>\n",
       "      <td>1443.890424</td>\n",
       "      <td>...</td>\n",
       "      <td>13.365371</td>\n",
       "      <td>-499.122723</td>\n",
       "      <td>9.288553</td>\n",
       "      <td>-496.892967</td>\n",
       "      <td>7.372897</td>\n",
       "      <td>-499.942956</td>\n",
       "      <td>8.986832</td>\n",
       "      <td>-499.903761</td>\n",
       "      <td>94.575036</td>\n",
       "      <td>68.440582</td>\n",
       "    </tr>\n",
       "    <tr>\n",
       "      <th>5287</th>\n",
       "      <td>2017-12-31 21:59:59</td>\n",
       "      <td>171.135718</td>\n",
       "      <td>15.993669</td>\n",
       "      <td>8.070000</td>\n",
       "      <td>1.165996</td>\n",
       "      <td>1498.836182</td>\n",
       "      <td>-501.770403</td>\n",
       "      <td>1499.572353</td>\n",
       "      <td>-495.516347</td>\n",
       "      <td>1502.749213</td>\n",
       "      <td>...</td>\n",
       "      <td>15.101425</td>\n",
       "      <td>-499.936252</td>\n",
       "      <td>10.989181</td>\n",
       "      <td>-498.347898</td>\n",
       "      <td>9.020944</td>\n",
       "      <td>-500.040448</td>\n",
       "      <td>8.982038</td>\n",
       "      <td>-497.789882</td>\n",
       "      <td>93.018138</td>\n",
       "      <td>67.092759</td>\n",
       "    </tr>\n",
       "    <tr>\n",
       "      <th>5288</th>\n",
       "      <td>2017-12-31 22:59:59</td>\n",
       "      <td>179.697158</td>\n",
       "      <td>15.438979</td>\n",
       "      <td>8.070000</td>\n",
       "      <td>1.501068</td>\n",
       "      <td>1498.466243</td>\n",
       "      <td>-500.483984</td>\n",
       "      <td>1497.986986</td>\n",
       "      <td>-519.200340</td>\n",
       "      <td>1496.569047</td>\n",
       "      <td>...</td>\n",
       "      <td>15.026853</td>\n",
       "      <td>-499.723143</td>\n",
       "      <td>11.011607</td>\n",
       "      <td>-499.985046</td>\n",
       "      <td>9.009783</td>\n",
       "      <td>-499.937902</td>\n",
       "      <td>9.012660</td>\n",
       "      <td>-500.154284</td>\n",
       "      <td>92.599042</td>\n",
       "      <td>68.061186</td>\n",
       "    </tr>\n",
       "    <tr>\n",
       "      <th>5289</th>\n",
       "      <td>2017-12-31 23:59:59</td>\n",
       "      <td>181.556856</td>\n",
       "      <td>14.995850</td>\n",
       "      <td>8.070000</td>\n",
       "      <td>1.623454</td>\n",
       "      <td>1498.096303</td>\n",
       "      <td>-499.796922</td>\n",
       "      <td>1501.743791</td>\n",
       "      <td>-505.146931</td>\n",
       "      <td>1499.535978</td>\n",
       "      <td>...</td>\n",
       "      <td>14.914199</td>\n",
       "      <td>-499.948518</td>\n",
       "      <td>10.986607</td>\n",
       "      <td>-500.658027</td>\n",
       "      <td>8.989497</td>\n",
       "      <td>-500.337588</td>\n",
       "      <td>8.988632</td>\n",
       "      <td>-500.764937</td>\n",
       "      <td>91.177695</td>\n",
       "      <td>71.699976</td>\n",
       "    </tr>\n",
       "  </tbody>\n",
       "</table>\n",
       "<p>5290 rows × 55 columns</p>\n",
       "</div>"
      ],
      "text/plain": [
       "                    date  primary_cleaner.input.sulfate  \\\n",
       "0    2016-09-01 00:59:59                     210.800909   \n",
       "1    2016-09-01 01:59:59                     215.392455   \n",
       "2    2016-09-01 02:59:59                     215.259946   \n",
       "3    2016-09-01 03:59:59                     215.336236   \n",
       "4    2016-09-01 04:59:59                     199.099327   \n",
       "...                  ...                            ...   \n",
       "5285 2017-12-31 19:59:59                     173.957757   \n",
       "5286 2017-12-31 20:59:59                     172.910270   \n",
       "5287 2017-12-31 21:59:59                     171.135718   \n",
       "5288 2017-12-31 22:59:59                     179.697158   \n",
       "5289 2017-12-31 23:59:59                     181.556856   \n",
       "\n",
       "      primary_cleaner.input.depressant  primary_cleaner.input.feed_size  \\\n",
       "0                            14.993118                         8.080000   \n",
       "1                            14.987471                         8.080000   \n",
       "2                            12.884934                         7.786667   \n",
       "3                            12.006805                         7.640000   \n",
       "4                            10.682530                         7.530000   \n",
       "...                                ...                              ...   \n",
       "5285                         15.963399                         8.070000   \n",
       "5286                         16.002605                         8.070000   \n",
       "5287                         15.993669                         8.070000   \n",
       "5288                         15.438979                         8.070000   \n",
       "5289                         14.995850                         8.070000   \n",
       "\n",
       "      primary_cleaner.input.xanthate  primary_cleaner.state.floatbank8_a_air  \\\n",
       "0                           1.005021                             1398.981301   \n",
       "1                           0.990469                             1398.777912   \n",
       "2                           0.996043                             1398.493666   \n",
       "3                           0.863514                             1399.618111   \n",
       "4                           0.805575                             1401.268123   \n",
       "...                              ...                                     ...   \n",
       "5285                        0.896701                             1401.930554   \n",
       "5286                        0.896519                             1447.075722   \n",
       "5287                        1.165996                             1498.836182   \n",
       "5288                        1.501068                             1498.466243   \n",
       "5289                        1.623454                             1498.096303   \n",
       "\n",
       "      primary_cleaner.state.floatbank8_a_level  \\\n",
       "0                                  -500.225577   \n",
       "1                                  -500.057435   \n",
       "2                                  -500.868360   \n",
       "3                                  -498.863574   \n",
       "4                                  -500.808305   \n",
       "...                                        ...   \n",
       "5285                               -499.728848   \n",
       "5286                               -494.716823   \n",
       "5287                               -501.770403   \n",
       "5288                               -500.483984   \n",
       "5289                               -499.796922   \n",
       "\n",
       "      primary_cleaner.state.floatbank8_b_air  \\\n",
       "0                                1399.144926   \n",
       "1                                1398.055362   \n",
       "2                                1398.860436   \n",
       "3                                1397.440120   \n",
       "4                                1398.128818   \n",
       "...                                      ...   \n",
       "5285                             1401.441445   \n",
       "5286                             1448.851892   \n",
       "5287                             1499.572353   \n",
       "5288                             1497.986986   \n",
       "5289                             1501.743791   \n",
       "\n",
       "      primary_cleaner.state.floatbank8_b_level  \\\n",
       "0                                  -499.919735   \n",
       "1                                  -499.778182   \n",
       "2                                  -499.764529   \n",
       "3                                  -499.211024   \n",
       "4                                  -499.504543   \n",
       "...                                        ...   \n",
       "5285                               -499.193423   \n",
       "5286                               -465.963026   \n",
       "5287                               -495.516347   \n",
       "5288                               -519.200340   \n",
       "5289                               -505.146931   \n",
       "\n",
       "      primary_cleaner.state.floatbank8_c_air  ...  \\\n",
       "0                                1400.102998  ...   \n",
       "1                                1396.151033  ...   \n",
       "2                                1398.075709  ...   \n",
       "3                                1400.129303  ...   \n",
       "4                                1402.172226  ...   \n",
       "...                                      ...  ...   \n",
       "5285                             1399.810313  ...   \n",
       "5286                             1443.890424  ...   \n",
       "5287                             1502.749213  ...   \n",
       "5288                             1496.569047  ...   \n",
       "5289                             1499.535978  ...   \n",
       "\n",
       "      secondary_cleaner.state.floatbank4_b_air  \\\n",
       "0                                     8.016656   \n",
       "1                                     8.130979   \n",
       "2                                     8.096893   \n",
       "3                                     8.074946   \n",
       "4                                     8.054678   \n",
       "...                                        ...   \n",
       "5285                                 12.069155   \n",
       "5286                                 13.365371   \n",
       "5287                                 15.101425   \n",
       "5288                                 15.026853   \n",
       "5289                                 14.914199   \n",
       "\n",
       "      secondary_cleaner.state.floatbank4_b_level  \\\n",
       "0                                    -501.289139   \n",
       "1                                    -499.634209   \n",
       "2                                    -500.827423   \n",
       "3                                    -499.474407   \n",
       "4                                    -500.397500   \n",
       "...                                          ...   \n",
       "5285                                 -499.673279   \n",
       "5286                                 -499.122723   \n",
       "5287                                 -499.936252   \n",
       "5288                                 -499.723143   \n",
       "5289                                 -499.948518   \n",
       "\n",
       "      secondary_cleaner.state.floatbank5_a_air  \\\n",
       "0                                     7.946562   \n",
       "1                                     7.958270   \n",
       "2                                     8.071056   \n",
       "3                                     7.897085   \n",
       "4                                     8.107890   \n",
       "...                                        ...   \n",
       "5285                                  7.977259   \n",
       "5286                                  9.288553   \n",
       "5287                                 10.989181   \n",
       "5288                                 11.011607   \n",
       "5289                                 10.986607   \n",
       "\n",
       "      secondary_cleaner.state.floatbank5_a_level  \\\n",
       "0                                    -432.317850   \n",
       "1                                    -525.839648   \n",
       "2                                    -500.801673   \n",
       "3                                    -500.868509   \n",
       "4                                    -509.526725   \n",
       "...                                          ...   \n",
       "5285                                 -499.516126   \n",
       "5286                                 -496.892967   \n",
       "5287                                 -498.347898   \n",
       "5288                                 -499.985046   \n",
       "5289                                 -500.658027   \n",
       "\n",
       "      secondary_cleaner.state.floatbank5_b_air  \\\n",
       "0                                     4.872511   \n",
       "1                                     4.878850   \n",
       "2                                     4.905125   \n",
       "3                                     4.931400   \n",
       "4                                     4.957674   \n",
       "...                                        ...   \n",
       "5285                                  5.933319   \n",
       "5286                                  7.372897   \n",
       "5287                                  9.020944   \n",
       "5288                                  9.009783   \n",
       "5289                                  8.989497   \n",
       "\n",
       "      secondary_cleaner.state.floatbank5_b_level  \\\n",
       "0                                    -500.037437   \n",
       "1                                    -500.162375   \n",
       "2                                    -499.828510   \n",
       "3                                    -499.963623   \n",
       "4                                    -500.360026   \n",
       "...                                          ...   \n",
       "5285                                 -499.965973   \n",
       "5286                                 -499.942956   \n",
       "5287                                 -500.040448   \n",
       "5288                                 -499.937902   \n",
       "5289                                 -500.337588   \n",
       "\n",
       "      secondary_cleaner.state.floatbank6_a_air  \\\n",
       "0                                    26.705889   \n",
       "1                                    25.019940   \n",
       "2                                    24.994862   \n",
       "3                                    24.948919   \n",
       "4                                    25.003331   \n",
       "...                                        ...   \n",
       "5285                                  8.987171   \n",
       "5286                                  8.986832   \n",
       "5287                                  8.982038   \n",
       "5288                                  9.012660   \n",
       "5289                                  8.988632   \n",
       "\n",
       "      secondary_cleaner.state.floatbank6_a_level  rougher.output.recovery  \\\n",
       "0                                    -499.709414                89.993421   \n",
       "1                                    -499.819438                88.089657   \n",
       "2                                    -500.622559                88.412756   \n",
       "3                                    -498.709987                87.360133   \n",
       "4                                    -500.856333                83.236367   \n",
       "...                                          ...                      ...   \n",
       "5285                                 -499.755909                95.172585   \n",
       "5286                                 -499.903761                94.575036   \n",
       "5287                                 -497.789882                93.018138   \n",
       "5288                                 -500.154284                92.599042   \n",
       "5289                                 -500.764937                91.177695   \n",
       "\n",
       "      final.output.recovery  \n",
       "0                 70.273583  \n",
       "1                 68.910432  \n",
       "2                 68.143213  \n",
       "3                 67.776393  \n",
       "4                 61.467078  \n",
       "...                     ...  \n",
       "5285              68.919891  \n",
       "5286              68.440582  \n",
       "5287              67.092759  \n",
       "5288              68.061186  \n",
       "5289              71.699976  \n",
       "\n",
       "[5290 rows x 55 columns]"
      ]
     },
     "execution_count": 13,
     "metadata": {},
     "output_type": "execute_result"
    }
   ],
   "source": [
    "data_test = data_test.merge(data[['date','rougher.output.recovery','final.output.recovery']], on='date')\n",
    "data_test"
   ]
  },
  {
   "cell_type": "markdown",
   "metadata": {},
   "source": [
    "<div class=\"alert alert-success\">\n",
    "<h2> Комментарий ревьюера <a class=\"tocSkip\"> </h2>\n",
    "\n",
    "<b>Все отлично!👍:</b> \n",
    "    \n",
    "Вытягивание целевых признаков в тестовую выборку правильное) Привязка к дате - верное решение"
   ]
  },
  {
   "cell_type": "markdown",
   "metadata": {},
   "source": [
    "Столбец `date` в данных является неинформативным, он нам не нужен во время обучения модели."
   ]
  },
  {
   "cell_type": "code",
   "execution_count": 14,
   "metadata": {},
   "outputs": [
    {
     "data": {
      "text/html": [
       "<div>\n",
       "<style scoped>\n",
       "    .dataframe tbody tr th:only-of-type {\n",
       "        vertical-align: middle;\n",
       "    }\n",
       "\n",
       "    .dataframe tbody tr th {\n",
       "        vertical-align: top;\n",
       "    }\n",
       "\n",
       "    .dataframe thead th {\n",
       "        text-align: right;\n",
       "    }\n",
       "</style>\n",
       "<table border=\"1\" class=\"dataframe\">\n",
       "  <thead>\n",
       "    <tr style=\"text-align: right;\">\n",
       "      <th></th>\n",
       "      <th>primary_cleaner.input.sulfate</th>\n",
       "      <th>primary_cleaner.input.depressant</th>\n",
       "      <th>primary_cleaner.input.feed_size</th>\n",
       "      <th>primary_cleaner.input.xanthate</th>\n",
       "      <th>primary_cleaner.state.floatbank8_a_air</th>\n",
       "      <th>primary_cleaner.state.floatbank8_a_level</th>\n",
       "      <th>primary_cleaner.state.floatbank8_b_air</th>\n",
       "      <th>primary_cleaner.state.floatbank8_b_level</th>\n",
       "      <th>primary_cleaner.state.floatbank8_c_air</th>\n",
       "      <th>primary_cleaner.state.floatbank8_c_level</th>\n",
       "      <th>...</th>\n",
       "      <th>secondary_cleaner.state.floatbank4_b_air</th>\n",
       "      <th>secondary_cleaner.state.floatbank4_b_level</th>\n",
       "      <th>secondary_cleaner.state.floatbank5_a_air</th>\n",
       "      <th>secondary_cleaner.state.floatbank5_a_level</th>\n",
       "      <th>secondary_cleaner.state.floatbank5_b_air</th>\n",
       "      <th>secondary_cleaner.state.floatbank5_b_level</th>\n",
       "      <th>secondary_cleaner.state.floatbank6_a_air</th>\n",
       "      <th>secondary_cleaner.state.floatbank6_a_level</th>\n",
       "      <th>rougher.output.recovery</th>\n",
       "      <th>final.output.recovery</th>\n",
       "    </tr>\n",
       "  </thead>\n",
       "  <tbody>\n",
       "    <tr>\n",
       "      <th>0</th>\n",
       "      <td>210.800909</td>\n",
       "      <td>14.993118</td>\n",
       "      <td>8.080000</td>\n",
       "      <td>1.005021</td>\n",
       "      <td>1398.981301</td>\n",
       "      <td>-500.225577</td>\n",
       "      <td>1399.144926</td>\n",
       "      <td>-499.919735</td>\n",
       "      <td>1400.102998</td>\n",
       "      <td>-500.704369</td>\n",
       "      <td>...</td>\n",
       "      <td>8.016656</td>\n",
       "      <td>-501.289139</td>\n",
       "      <td>7.946562</td>\n",
       "      <td>-432.317850</td>\n",
       "      <td>4.872511</td>\n",
       "      <td>-500.037437</td>\n",
       "      <td>26.705889</td>\n",
       "      <td>-499.709414</td>\n",
       "      <td>89.993421</td>\n",
       "      <td>70.273583</td>\n",
       "    </tr>\n",
       "    <tr>\n",
       "      <th>1</th>\n",
       "      <td>215.392455</td>\n",
       "      <td>14.987471</td>\n",
       "      <td>8.080000</td>\n",
       "      <td>0.990469</td>\n",
       "      <td>1398.777912</td>\n",
       "      <td>-500.057435</td>\n",
       "      <td>1398.055362</td>\n",
       "      <td>-499.778182</td>\n",
       "      <td>1396.151033</td>\n",
       "      <td>-499.240168</td>\n",
       "      <td>...</td>\n",
       "      <td>8.130979</td>\n",
       "      <td>-499.634209</td>\n",
       "      <td>7.958270</td>\n",
       "      <td>-525.839648</td>\n",
       "      <td>4.878850</td>\n",
       "      <td>-500.162375</td>\n",
       "      <td>25.019940</td>\n",
       "      <td>-499.819438</td>\n",
       "      <td>88.089657</td>\n",
       "      <td>68.910432</td>\n",
       "    </tr>\n",
       "    <tr>\n",
       "      <th>2</th>\n",
       "      <td>215.259946</td>\n",
       "      <td>12.884934</td>\n",
       "      <td>7.786667</td>\n",
       "      <td>0.996043</td>\n",
       "      <td>1398.493666</td>\n",
       "      <td>-500.868360</td>\n",
       "      <td>1398.860436</td>\n",
       "      <td>-499.764529</td>\n",
       "      <td>1398.075709</td>\n",
       "      <td>-502.151509</td>\n",
       "      <td>...</td>\n",
       "      <td>8.096893</td>\n",
       "      <td>-500.827423</td>\n",
       "      <td>8.071056</td>\n",
       "      <td>-500.801673</td>\n",
       "      <td>4.905125</td>\n",
       "      <td>-499.828510</td>\n",
       "      <td>24.994862</td>\n",
       "      <td>-500.622559</td>\n",
       "      <td>88.412756</td>\n",
       "      <td>68.143213</td>\n",
       "    </tr>\n",
       "    <tr>\n",
       "      <th>3</th>\n",
       "      <td>215.336236</td>\n",
       "      <td>12.006805</td>\n",
       "      <td>7.640000</td>\n",
       "      <td>0.863514</td>\n",
       "      <td>1399.618111</td>\n",
       "      <td>-498.863574</td>\n",
       "      <td>1397.440120</td>\n",
       "      <td>-499.211024</td>\n",
       "      <td>1400.129303</td>\n",
       "      <td>-498.355873</td>\n",
       "      <td>...</td>\n",
       "      <td>8.074946</td>\n",
       "      <td>-499.474407</td>\n",
       "      <td>7.897085</td>\n",
       "      <td>-500.868509</td>\n",
       "      <td>4.931400</td>\n",
       "      <td>-499.963623</td>\n",
       "      <td>24.948919</td>\n",
       "      <td>-498.709987</td>\n",
       "      <td>87.360133</td>\n",
       "      <td>67.776393</td>\n",
       "    </tr>\n",
       "    <tr>\n",
       "      <th>4</th>\n",
       "      <td>199.099327</td>\n",
       "      <td>10.682530</td>\n",
       "      <td>7.530000</td>\n",
       "      <td>0.805575</td>\n",
       "      <td>1401.268123</td>\n",
       "      <td>-500.808305</td>\n",
       "      <td>1398.128818</td>\n",
       "      <td>-499.504543</td>\n",
       "      <td>1402.172226</td>\n",
       "      <td>-500.810606</td>\n",
       "      <td>...</td>\n",
       "      <td>8.054678</td>\n",
       "      <td>-500.397500</td>\n",
       "      <td>8.107890</td>\n",
       "      <td>-509.526725</td>\n",
       "      <td>4.957674</td>\n",
       "      <td>-500.360026</td>\n",
       "      <td>25.003331</td>\n",
       "      <td>-500.856333</td>\n",
       "      <td>83.236367</td>\n",
       "      <td>61.467078</td>\n",
       "    </tr>\n",
       "    <tr>\n",
       "      <th>...</th>\n",
       "      <td>...</td>\n",
       "      <td>...</td>\n",
       "      <td>...</td>\n",
       "      <td>...</td>\n",
       "      <td>...</td>\n",
       "      <td>...</td>\n",
       "      <td>...</td>\n",
       "      <td>...</td>\n",
       "      <td>...</td>\n",
       "      <td>...</td>\n",
       "      <td>...</td>\n",
       "      <td>...</td>\n",
       "      <td>...</td>\n",
       "      <td>...</td>\n",
       "      <td>...</td>\n",
       "      <td>...</td>\n",
       "      <td>...</td>\n",
       "      <td>...</td>\n",
       "      <td>...</td>\n",
       "      <td>...</td>\n",
       "      <td>...</td>\n",
       "    </tr>\n",
       "    <tr>\n",
       "      <th>5285</th>\n",
       "      <td>173.957757</td>\n",
       "      <td>15.963399</td>\n",
       "      <td>8.070000</td>\n",
       "      <td>0.896701</td>\n",
       "      <td>1401.930554</td>\n",
       "      <td>-499.728848</td>\n",
       "      <td>1401.441445</td>\n",
       "      <td>-499.193423</td>\n",
       "      <td>1399.810313</td>\n",
       "      <td>-499.599127</td>\n",
       "      <td>...</td>\n",
       "      <td>12.069155</td>\n",
       "      <td>-499.673279</td>\n",
       "      <td>7.977259</td>\n",
       "      <td>-499.516126</td>\n",
       "      <td>5.933319</td>\n",
       "      <td>-499.965973</td>\n",
       "      <td>8.987171</td>\n",
       "      <td>-499.755909</td>\n",
       "      <td>95.172585</td>\n",
       "      <td>68.919891</td>\n",
       "    </tr>\n",
       "    <tr>\n",
       "      <th>5286</th>\n",
       "      <td>172.910270</td>\n",
       "      <td>16.002605</td>\n",
       "      <td>8.070000</td>\n",
       "      <td>0.896519</td>\n",
       "      <td>1447.075722</td>\n",
       "      <td>-494.716823</td>\n",
       "      <td>1448.851892</td>\n",
       "      <td>-465.963026</td>\n",
       "      <td>1443.890424</td>\n",
       "      <td>-503.587739</td>\n",
       "      <td>...</td>\n",
       "      <td>13.365371</td>\n",
       "      <td>-499.122723</td>\n",
       "      <td>9.288553</td>\n",
       "      <td>-496.892967</td>\n",
       "      <td>7.372897</td>\n",
       "      <td>-499.942956</td>\n",
       "      <td>8.986832</td>\n",
       "      <td>-499.903761</td>\n",
       "      <td>94.575036</td>\n",
       "      <td>68.440582</td>\n",
       "    </tr>\n",
       "    <tr>\n",
       "      <th>5287</th>\n",
       "      <td>171.135718</td>\n",
       "      <td>15.993669</td>\n",
       "      <td>8.070000</td>\n",
       "      <td>1.165996</td>\n",
       "      <td>1498.836182</td>\n",
       "      <td>-501.770403</td>\n",
       "      <td>1499.572353</td>\n",
       "      <td>-495.516347</td>\n",
       "      <td>1502.749213</td>\n",
       "      <td>-520.667442</td>\n",
       "      <td>...</td>\n",
       "      <td>15.101425</td>\n",
       "      <td>-499.936252</td>\n",
       "      <td>10.989181</td>\n",
       "      <td>-498.347898</td>\n",
       "      <td>9.020944</td>\n",
       "      <td>-500.040448</td>\n",
       "      <td>8.982038</td>\n",
       "      <td>-497.789882</td>\n",
       "      <td>93.018138</td>\n",
       "      <td>67.092759</td>\n",
       "    </tr>\n",
       "    <tr>\n",
       "      <th>5288</th>\n",
       "      <td>179.697158</td>\n",
       "      <td>15.438979</td>\n",
       "      <td>8.070000</td>\n",
       "      <td>1.501068</td>\n",
       "      <td>1498.466243</td>\n",
       "      <td>-500.483984</td>\n",
       "      <td>1497.986986</td>\n",
       "      <td>-519.200340</td>\n",
       "      <td>1496.569047</td>\n",
       "      <td>-487.479567</td>\n",
       "      <td>...</td>\n",
       "      <td>15.026853</td>\n",
       "      <td>-499.723143</td>\n",
       "      <td>11.011607</td>\n",
       "      <td>-499.985046</td>\n",
       "      <td>9.009783</td>\n",
       "      <td>-499.937902</td>\n",
       "      <td>9.012660</td>\n",
       "      <td>-500.154284</td>\n",
       "      <td>92.599042</td>\n",
       "      <td>68.061186</td>\n",
       "    </tr>\n",
       "    <tr>\n",
       "      <th>5289</th>\n",
       "      <td>181.556856</td>\n",
       "      <td>14.995850</td>\n",
       "      <td>8.070000</td>\n",
       "      <td>1.623454</td>\n",
       "      <td>1498.096303</td>\n",
       "      <td>-499.796922</td>\n",
       "      <td>1501.743791</td>\n",
       "      <td>-505.146931</td>\n",
       "      <td>1499.535978</td>\n",
       "      <td>-492.428226</td>\n",
       "      <td>...</td>\n",
       "      <td>14.914199</td>\n",
       "      <td>-499.948518</td>\n",
       "      <td>10.986607</td>\n",
       "      <td>-500.658027</td>\n",
       "      <td>8.989497</td>\n",
       "      <td>-500.337588</td>\n",
       "      <td>8.988632</td>\n",
       "      <td>-500.764937</td>\n",
       "      <td>91.177695</td>\n",
       "      <td>71.699976</td>\n",
       "    </tr>\n",
       "  </tbody>\n",
       "</table>\n",
       "<p>5290 rows × 54 columns</p>\n",
       "</div>"
      ],
      "text/plain": [
       "      primary_cleaner.input.sulfate  primary_cleaner.input.depressant  \\\n",
       "0                        210.800909                         14.993118   \n",
       "1                        215.392455                         14.987471   \n",
       "2                        215.259946                         12.884934   \n",
       "3                        215.336236                         12.006805   \n",
       "4                        199.099327                         10.682530   \n",
       "...                             ...                               ...   \n",
       "5285                     173.957757                         15.963399   \n",
       "5286                     172.910270                         16.002605   \n",
       "5287                     171.135718                         15.993669   \n",
       "5288                     179.697158                         15.438979   \n",
       "5289                     181.556856                         14.995850   \n",
       "\n",
       "      primary_cleaner.input.feed_size  primary_cleaner.input.xanthate  \\\n",
       "0                            8.080000                        1.005021   \n",
       "1                            8.080000                        0.990469   \n",
       "2                            7.786667                        0.996043   \n",
       "3                            7.640000                        0.863514   \n",
       "4                            7.530000                        0.805575   \n",
       "...                               ...                             ...   \n",
       "5285                         8.070000                        0.896701   \n",
       "5286                         8.070000                        0.896519   \n",
       "5287                         8.070000                        1.165996   \n",
       "5288                         8.070000                        1.501068   \n",
       "5289                         8.070000                        1.623454   \n",
       "\n",
       "      primary_cleaner.state.floatbank8_a_air  \\\n",
       "0                                1398.981301   \n",
       "1                                1398.777912   \n",
       "2                                1398.493666   \n",
       "3                                1399.618111   \n",
       "4                                1401.268123   \n",
       "...                                      ...   \n",
       "5285                             1401.930554   \n",
       "5286                             1447.075722   \n",
       "5287                             1498.836182   \n",
       "5288                             1498.466243   \n",
       "5289                             1498.096303   \n",
       "\n",
       "      primary_cleaner.state.floatbank8_a_level  \\\n",
       "0                                  -500.225577   \n",
       "1                                  -500.057435   \n",
       "2                                  -500.868360   \n",
       "3                                  -498.863574   \n",
       "4                                  -500.808305   \n",
       "...                                        ...   \n",
       "5285                               -499.728848   \n",
       "5286                               -494.716823   \n",
       "5287                               -501.770403   \n",
       "5288                               -500.483984   \n",
       "5289                               -499.796922   \n",
       "\n",
       "      primary_cleaner.state.floatbank8_b_air  \\\n",
       "0                                1399.144926   \n",
       "1                                1398.055362   \n",
       "2                                1398.860436   \n",
       "3                                1397.440120   \n",
       "4                                1398.128818   \n",
       "...                                      ...   \n",
       "5285                             1401.441445   \n",
       "5286                             1448.851892   \n",
       "5287                             1499.572353   \n",
       "5288                             1497.986986   \n",
       "5289                             1501.743791   \n",
       "\n",
       "      primary_cleaner.state.floatbank8_b_level  \\\n",
       "0                                  -499.919735   \n",
       "1                                  -499.778182   \n",
       "2                                  -499.764529   \n",
       "3                                  -499.211024   \n",
       "4                                  -499.504543   \n",
       "...                                        ...   \n",
       "5285                               -499.193423   \n",
       "5286                               -465.963026   \n",
       "5287                               -495.516347   \n",
       "5288                               -519.200340   \n",
       "5289                               -505.146931   \n",
       "\n",
       "      primary_cleaner.state.floatbank8_c_air  \\\n",
       "0                                1400.102998   \n",
       "1                                1396.151033   \n",
       "2                                1398.075709   \n",
       "3                                1400.129303   \n",
       "4                                1402.172226   \n",
       "...                                      ...   \n",
       "5285                             1399.810313   \n",
       "5286                             1443.890424   \n",
       "5287                             1502.749213   \n",
       "5288                             1496.569047   \n",
       "5289                             1499.535978   \n",
       "\n",
       "      primary_cleaner.state.floatbank8_c_level  ...  \\\n",
       "0                                  -500.704369  ...   \n",
       "1                                  -499.240168  ...   \n",
       "2                                  -502.151509  ...   \n",
       "3                                  -498.355873  ...   \n",
       "4                                  -500.810606  ...   \n",
       "...                                        ...  ...   \n",
       "5285                               -499.599127  ...   \n",
       "5286                               -503.587739  ...   \n",
       "5287                               -520.667442  ...   \n",
       "5288                               -487.479567  ...   \n",
       "5289                               -492.428226  ...   \n",
       "\n",
       "      secondary_cleaner.state.floatbank4_b_air  \\\n",
       "0                                     8.016656   \n",
       "1                                     8.130979   \n",
       "2                                     8.096893   \n",
       "3                                     8.074946   \n",
       "4                                     8.054678   \n",
       "...                                        ...   \n",
       "5285                                 12.069155   \n",
       "5286                                 13.365371   \n",
       "5287                                 15.101425   \n",
       "5288                                 15.026853   \n",
       "5289                                 14.914199   \n",
       "\n",
       "      secondary_cleaner.state.floatbank4_b_level  \\\n",
       "0                                    -501.289139   \n",
       "1                                    -499.634209   \n",
       "2                                    -500.827423   \n",
       "3                                    -499.474407   \n",
       "4                                    -500.397500   \n",
       "...                                          ...   \n",
       "5285                                 -499.673279   \n",
       "5286                                 -499.122723   \n",
       "5287                                 -499.936252   \n",
       "5288                                 -499.723143   \n",
       "5289                                 -499.948518   \n",
       "\n",
       "      secondary_cleaner.state.floatbank5_a_air  \\\n",
       "0                                     7.946562   \n",
       "1                                     7.958270   \n",
       "2                                     8.071056   \n",
       "3                                     7.897085   \n",
       "4                                     8.107890   \n",
       "...                                        ...   \n",
       "5285                                  7.977259   \n",
       "5286                                  9.288553   \n",
       "5287                                 10.989181   \n",
       "5288                                 11.011607   \n",
       "5289                                 10.986607   \n",
       "\n",
       "      secondary_cleaner.state.floatbank5_a_level  \\\n",
       "0                                    -432.317850   \n",
       "1                                    -525.839648   \n",
       "2                                    -500.801673   \n",
       "3                                    -500.868509   \n",
       "4                                    -509.526725   \n",
       "...                                          ...   \n",
       "5285                                 -499.516126   \n",
       "5286                                 -496.892967   \n",
       "5287                                 -498.347898   \n",
       "5288                                 -499.985046   \n",
       "5289                                 -500.658027   \n",
       "\n",
       "      secondary_cleaner.state.floatbank5_b_air  \\\n",
       "0                                     4.872511   \n",
       "1                                     4.878850   \n",
       "2                                     4.905125   \n",
       "3                                     4.931400   \n",
       "4                                     4.957674   \n",
       "...                                        ...   \n",
       "5285                                  5.933319   \n",
       "5286                                  7.372897   \n",
       "5287                                  9.020944   \n",
       "5288                                  9.009783   \n",
       "5289                                  8.989497   \n",
       "\n",
       "      secondary_cleaner.state.floatbank5_b_level  \\\n",
       "0                                    -500.037437   \n",
       "1                                    -500.162375   \n",
       "2                                    -499.828510   \n",
       "3                                    -499.963623   \n",
       "4                                    -500.360026   \n",
       "...                                          ...   \n",
       "5285                                 -499.965973   \n",
       "5286                                 -499.942956   \n",
       "5287                                 -500.040448   \n",
       "5288                                 -499.937902   \n",
       "5289                                 -500.337588   \n",
       "\n",
       "      secondary_cleaner.state.floatbank6_a_air  \\\n",
       "0                                    26.705889   \n",
       "1                                    25.019940   \n",
       "2                                    24.994862   \n",
       "3                                    24.948919   \n",
       "4                                    25.003331   \n",
       "...                                        ...   \n",
       "5285                                  8.987171   \n",
       "5286                                  8.986832   \n",
       "5287                                  8.982038   \n",
       "5288                                  9.012660   \n",
       "5289                                  8.988632   \n",
       "\n",
       "      secondary_cleaner.state.floatbank6_a_level  rougher.output.recovery  \\\n",
       "0                                    -499.709414                89.993421   \n",
       "1                                    -499.819438                88.089657   \n",
       "2                                    -500.622559                88.412756   \n",
       "3                                    -498.709987                87.360133   \n",
       "4                                    -500.856333                83.236367   \n",
       "...                                          ...                      ...   \n",
       "5285                                 -499.755909                95.172585   \n",
       "5286                                 -499.903761                94.575036   \n",
       "5287                                 -497.789882                93.018138   \n",
       "5288                                 -500.154284                92.599042   \n",
       "5289                                 -500.764937                91.177695   \n",
       "\n",
       "      final.output.recovery  \n",
       "0                 70.273583  \n",
       "1                 68.910432  \n",
       "2                 68.143213  \n",
       "3                 67.776393  \n",
       "4                 61.467078  \n",
       "...                     ...  \n",
       "5285              68.919891  \n",
       "5286              68.440582  \n",
       "5287              67.092759  \n",
       "5288              68.061186  \n",
       "5289              71.699976  \n",
       "\n",
       "[5290 rows x 54 columns]"
      ]
     },
     "execution_count": 14,
     "metadata": {},
     "output_type": "execute_result"
    }
   ],
   "source": [
    "data_train = data_train.drop('date', axis = 1)\n",
    "data_test = data_test.drop('date', axis = 1)\n",
    "data_test"
   ]
  },
  {
   "cell_type": "markdown",
   "metadata": {},
   "source": [
    "<div class=\"alert alert-success\">\n",
    "<h2> Комментарий ревьюера <a class=\"tocSkip\"> </h2>\n",
    "\n",
    "<b>Все отлично!👍:</b>\n",
    "    \n",
    "    \n",
    "Данные подготовили, приступаем к анализу данных)\n",
    "    \n",
    "Для интереса, оставляю тебе ссылку, по флотации руды: https://www.youtube.com/watch?v=BY9d1MC6qLs и \n",
    "\n",
    "https://www.youtube.com/watch?v=qYuGEjR8ZKw&t=13s\n"
   ]
  },
  {
   "cell_type": "markdown",
   "metadata": {},
   "source": [
    "## Анализ данных"
   ]
  },
  {
   "cell_type": "markdown",
   "metadata": {},
   "source": [
    "Рассмотрим изменение концентрации металлов - `Au, Ag, Pb` на различных этапах."
   ]
  },
  {
   "cell_type": "code",
   "execution_count": 15,
   "metadata": {},
   "outputs": [],
   "source": [
    "def сhange_concentration(data,metal):\n",
    "    plt.figure(figsize=[20, 10])\n",
    "    plt.title(f'График распредления {metal.upper()} на различных этапах')\n",
    "    sns.histplot(data[f'rougher.input.feed_{metal}'], color='r', label='Сырье', kde=False)\n",
    "    sns.histplot(data[f'rougher.output.concentrate_{metal}'], color='g', label='Концентрация после флотации', kde=False)\n",
    "    sns.histplot(data[f'primary_cleaner.output.concentrate_{metal}'], color='b', label='Концентрация после первичной очистки', kde=False)\n",
    "    sns.histplot(data[f'final.output.concentrate_{metal}'], color='m', label='Концентрация после вторчиной очистки',kde=False)\n",
    "    plt.xlabel('Концентрация металла')\n",
    "    plt.ylabel('Частота')\n",
    "    plt.legend()"
   ]
  },
  {
   "cell_type": "code",
   "execution_count": 16,
   "metadata": {},
   "outputs": [
    {
     "data": {
      "text/plain": [
       "(0.0, 55.0)"
      ]
     },
     "execution_count": 16,
     "metadata": {},
     "output_type": "execute_result"
    },
    {
     "data": {
      "image/png": "[encoded data removed]",
      "text/plain": [
       "<Figure size 1440x720 with 1 Axes>"
      ]
     },
     "metadata": {
      "needs_background": "light"
     },
     "output_type": "display_data"
    }
   ],
   "source": [
    "сhange_concentration(data_train,\"au\")\n",
    "plt.xlim([0, 55]) "
   ]
  },
  {
   "cell_type": "code",
   "execution_count": 17,
   "metadata": {},
   "outputs": [
    {
     "data": {
      "text/plain": [
       "(0.0, 20.0)"
      ]
     },
     "execution_count": 17,
     "metadata": {},
     "output_type": "execute_result"
    },
    {
     "data": {
      "image/png": "[encoded data removed]",
      "text/plain": [
       "<Figure size 1440x720 with 1 Axes>"
      ]
     },
     "metadata": {
      "needs_background": "light"
     },
     "output_type": "display_data"
    }
   ],
   "source": [
    "сhange_concentration(data_train,'ag')\n",
    "plt.xlim([0, 20]) "
   ]
  },
  {
   "cell_type": "code",
   "execution_count": 18,
   "metadata": {},
   "outputs": [
    {
     "data": {
      "text/plain": [
       "(0.0, 16.0)"
      ]
     },
     "execution_count": 18,
     "metadata": {},
     "output_type": "execute_result"
    },
    {
     "data": {
      "image/png": "[encoded data removed]",
      "text/plain": [
       "<Figure size 1440x720 with 1 Axes>"
      ]
     },
     "metadata": {
      "needs_background": "light"
     },
     "output_type": "display_data"
    }
   ],
   "source": [
    "сhange_concentration(data_train,'pb')\n",
    "plt.xlim([0, 16]) "
   ]
  },
  {
   "cell_type": "markdown",
   "metadata": {},
   "source": [
    "Золото (AU):\n",
    "- после каждого этапа очитски концентрация увеличивается.\n",
    "\n",
    "Серебро(AG):\n",
    "- Концентрация увеличивается на этапе флотации, но затем уменьшается.\n",
    "\n",
    "Свинец(PB):\n",
    "- Концентрация сначала увеличивается на этапе флотации и после первичной очитски, затем уходит в плато.\n",
    "\n",
    "В нуле наблюдаются `аномалии` в данных."
   ]
  },
  {
   "cell_type": "markdown",
   "metadata": {},
   "source": [
    "<div class=\"alert alert-success\">\n",
    "<h2> Комментарий ревьюера <a class=\"tocSkip\"> </h2>\n",
    "\n",
    "<b>Верно!👍:\\\n",
    "</b> Мне интересно было изучить твои графики, практичный и красочный графический анализ. Видно, что золото растёт в концентрации - это здорово!) А серебро падает - ведь наша цель -  золото, верно?)\n",
    "А свинец - это побочный элемент химических реакций, по этой причине немного и увеличивается его концентрация"
   ]
  },
  {
   "cell_type": "markdown",
   "metadata": {},
   "source": [
    "Распределения `размеров гранул сырья` на **обучающей и тестовой** выборках."
   ]
  },
  {
   "cell_type": "code",
   "execution_count": 19,
   "metadata": {},
   "outputs": [],
   "source": [
    "def compare_size(data_train,data_test,step):\n",
    "    plt.figure(figsize=[20, 10])\n",
    "    plt.title(f'График распредления гранул для этапа {(step).upper()}')\n",
    "    plt.hist(data_train[f'{step}.input.feed_size'], color='g', label='Обучающая выборка', density=True)\n",
    "    plt.hist(data_test[f'{step}.input.feed_size'], color='b', label='Тестовая выборка', density=True)\n",
    "    plt.xlabel('Размер гранул')\n",
    "    plt.ylabel('Частота')\n",
    "    plt.legend()"
   ]
  },
  {
   "cell_type": "code",
   "execution_count": 20,
   "metadata": {},
   "outputs": [
    {
     "data": {
      "text/plain": [
       "(0.0, 200.0)"
      ]
     },
     "execution_count": 20,
     "metadata": {},
     "output_type": "execute_result"
    },
    {
     "data": {
      "image/png": "[encoded data removed]",
      "text/plain": [
       "<Figure size 1440x720 with 1 Axes>"
      ]
     },
     "metadata": {
      "needs_background": "light"
     },
     "output_type": "display_data"
    }
   ],
   "source": [
    "compare_size(data_train,data_test,'rougher')\n",
    "plt.xlim([0, 200]) "
   ]
  },
  {
   "cell_type": "code",
   "execution_count": 21,
   "metadata": {},
   "outputs": [
    {
     "data": {
      "text/plain": [
       "(4.0, 12.0)"
      ]
     },
     "execution_count": 21,
     "metadata": {},
     "output_type": "execute_result"
    },
    {
     "data": {
      "image/png": "[encoded data removed]",
      "text/plain": [
       "<Figure size 1440x720 with 1 Axes>"
      ]
     },
     "metadata": {
      "needs_background": "light"
     },
     "output_type": "display_data"
    }
   ],
   "source": [
    "compare_size(data_train,data_test,'primary_cleaner')\n",
    "plt.xlim([4, 12]) "
   ]
  },
  {
   "cell_type": "markdown",
   "metadata": {},
   "source": [
    "Диапозон значения на этапе флотации для гранул примерно равен, но на тренировочной выборке преобладают гранулы размером `50` , а на тестовой `ниже 50`.\n",
    "\n",
    "Диапозон значения на этапе первичной очитски для гранул примерно равен, но на тренировочной выборке количество наблюдений больше, чем для тестовой, но используется для наглядности density=True.\n",
    "\n",
    "Значительных различий в распредлении нет."
   ]
  },
  {
   "cell_type": "markdown",
   "metadata": {},
   "source": [
    "<div class=\"alert alert-success\">\n",
    "<h2> Комментарий ревьюера <a class=\"tocSkip\"> </h2>\n",
    "\n",
    "<b>Все отлично!👍:</b> \n",
    "\n",
    "Распределения примерно одинаковы. Отлично, что использованы графики плотности, вместо гистограмм частотности)"
   ]
  },
  {
   "cell_type": "markdown",
   "metadata": {},
   "source": [
    "Исследуем суммарную концентрацию веществ на стадиях: сырье, черновая и финальная"
   ]
  },
  {
   "cell_type": "code",
   "execution_count": 22,
   "metadata": {},
   "outputs": [],
   "source": [
    "rougher_input = 0\n",
    "rougher_output = 0\n",
    "final_output = 0\n",
    "for material in ['ag','pb','sol','au']:\n",
    "    rougher_input += data_train[f'rougher.input.feed_{material}']\n",
    "    rougher_output += data_train[f'rougher.output.concentrate_{material}']\n",
    "    final_output += data_train[f'final.output.concentrate_{material}']"
   ]
  },
  {
   "cell_type": "code",
   "execution_count": 23,
   "metadata": {},
   "outputs": [
    {
     "data": {
      "text/plain": [
       "<matplotlib.legend.Legend at 0x7f87174820a0>"
      ]
     },
     "execution_count": 23,
     "metadata": {},
     "output_type": "execute_result"
    },
    {
     "data": {
      "image/png": "[encoded data removed]",
      "text/plain": [
       "<Figure size 1440x720 with 1 Axes>"
      ]
     },
     "metadata": {
      "needs_background": "light"
     },
     "output_type": "display_data"
    }
   ],
   "source": [
    "plt.figure(figsize=[20, 10])\n",
    "plt.suptitle('График суммарной концетрации вещества на различных стадиях обработки.', fontsize=15)\n",
    "\n",
    "sns.histplot(rougher_input, color='r', label='Сырье', kde=False)\n",
    "sns.histplot(rougher_output, color='g', label='Концентрация после флотации', kde=False)\n",
    "sns.histplot(final_output, color='m', label='Финальная концетрация',kde=False)\n",
    "\n",
    "plt.xlabel('Концентрация веществ')\n",
    "plt.ylabel('Частота')\n",
    "plt.legend()"
   ]
  },
  {
   "cell_type": "markdown",
   "metadata": {},
   "source": [
    "Суммарная концентрация веществ увеличивается блиэе к финальному этапу, а диапазон концентрации вещества сужается, что логично , так как мы добиваемся чистой выжимки металлов.\n",
    "\n",
    "На графиках для концентрации веществ присутствуют аномалии, ввиде вспелска возле нуля. Необходимо их удалить для большей точности обучения модели:"
   ]
  },
  {
   "cell_type": "code",
   "execution_count": 24,
   "metadata": {},
   "outputs": [],
   "source": [
    "def del_zero(data):\n",
    "    data = data[(data[\"rougher.output.concentrate_ag\"] > 0)\\\n",
    "                & (data[\"rougher.output.concentrate_pb\"] > 0)\\\n",
    "                & (data[\"rougher.output.concentrate_sol\"] > 0)\\\n",
    "                & (data[\"rougher.output.concentrate_au\"] > 0)]\n",
    "    data = data[(data[\"final.output.concentrate_ag\"] > 0)\\\n",
    "                & (data[\"final.output.concentrate_pb\"] > 0)\\\n",
    "                & (data[\"final.output.concentrate_sol\"] > 0)\\\n",
    "                & (data[\"final.output.concentrate_au\"] > 0)]\n",
    "    data = data[(data[\"primary_cleaner.output.concentrate_ag\"] >= 0.1)\\\n",
    "                &(data[\"primary_cleaner.output.concentrate_pb\"] >= 0.1)\\\n",
    "                &(data[\"primary_cleaner.output.concentrate_sol\"] >= 0.1)\\\n",
    "                &(data[\"primary_cleaner.output.concentrate_au\"] >= 0.1)]\n",
    "    return data"
   ]
  },
  {
   "cell_type": "code",
   "execution_count": 25,
   "metadata": {},
   "outputs": [],
   "source": [
    "data = del_zero(data)\n",
    "data_train = del_zero(data_train)"
   ]
  },
  {
   "cell_type": "markdown",
   "metadata": {},
   "source": [
    "Аномалии в данных были удалены для улучшения качества модели. \n",
    "\n",
    "\n",
    "Также сделаны выводы, что распределения гранул сырья на `train test` выборках не отличается в пределах погрешности\n",
    "\n",
    "Хорошая новость в том, что доля золота увеличивается к последнему этапу отчистки"
   ]
  },
  {
   "cell_type": "markdown",
   "metadata": {},
   "source": [
    "<div class=\"alert alert-success\">\n",
    "<h2> Комментарий ревьюера <a class=\"tocSkip\"> </h2>\n",
    "\n",
    "<b>Все отлично!👍:</b> \n",
    "\n",
    "Замечательно, суммарную концентрацию всех веществ на разных стадиях исследовали и нашли аномалии.\n",
    " \n",
    "Ведь отдельно по каждому веществу они могут быть (не всегда же есть крупицы золота в руде), а вот суммарно - вряд ли (в руде хоть какие-то элементы, но будут). А если мы имеем ноль, значит большая вероятность неточности в измерениях.\n",
    "    \n",
    "Обучающую выборку нужно очистить от таких аномалий"
   ]
  },
  {
   "cell_type": "markdown",
   "metadata": {},
   "source": [
    "## Модель"
   ]
  },
  {
   "cell_type": "markdown",
   "metadata": {},
   "source": [
    "Необходимо удалить отсутствующих в `тестовой выборке` признаки из `тренировочной выборки` для предотвращения **утчеки целевого признака**.\n"
   ]
  },
  {
   "cell_type": "code",
   "execution_count": 26,
   "metadata": {},
   "outputs": [],
   "source": [
    "target_f = (['rougher.output.recovery','final.output.recovery'])\n",
    "columns_delete = unavailable_signs - set((target_f))\n",
    "data_train = data_train.drop(columns = columns_delete, axis=1)"
   ]
  },
  {
   "cell_type": "markdown",
   "metadata": {},
   "source": [
    "Подготовим тестовую и обучающую выборку для обучения модели путем разделения на признаки и таргет."
   ]
  },
  {
   "cell_type": "code",
   "execution_count": 27,
   "metadata": {},
   "outputs": [],
   "source": [
    "def prepare(data):\n",
    "    features_train = data.drop(['rougher.output.recovery','final.output.recovery'], axis=1)\n",
    "    target_rougher = data['rougher.output.recovery']\n",
    "    target_final = data['final.output.recovery']\n",
    "    return features_train,target_rougher,target_final"
   ]
  },
  {
   "cell_type": "code",
   "execution_count": 28,
   "metadata": {},
   "outputs": [],
   "source": [
    "features_train,target_r_train,target_f_train = prepare(data_train)\n",
    "features_test,target_r_test,target_f_test = prepare(data_test)"
   ]
  },
  {
   "cell_type": "markdown",
   "metadata": {},
   "source": [
    "Предварительно необходимо произвести маштабирование признаков для обучения нашей модели:"
   ]
  },
  {
   "cell_type": "code",
   "execution_count": 29,
   "metadata": {},
   "outputs": [],
   "source": [
    "def scaler_main(features_train,features_test):\n",
    "    scaler = StandardScaler()\n",
    "    scaler.fit(features_train)\n",
    "    features_train = pd.DataFrame(scaler.transform(features_train),\\\n",
    "                                   columns = features_test.columns)\n",
    "    features_test = pd.DataFrame(scaler.transform(features_test),\\\n",
    "                                   columns = features_train.columns)\n",
    "    return features_train,features_test"
   ]
  },
  {
   "cell_type": "code",
   "execution_count": 30,
   "metadata": {},
   "outputs": [],
   "source": [
    "features_train,features_test = scaler_main(features_train,features_test)"
   ]
  },
  {
   "cell_type": "markdown",
   "metadata": {},
   "source": [
    "Создадим функцию для вычисления итоговой sMAPE."
   ]
  },
  {
   "cell_type": "code",
   "execution_count": 31,
   "metadata": {},
   "outputs": [],
   "source": [
    "def smape(target, predict):\n",
    "    smape = 100*(1/len(target))*np.sum((np.abs(target - predict)) / ((np.abs(predict) + np.abs(target))/2))\n",
    "    return smape"
   ]
  },
  {
   "cell_type": "code",
   "execution_count": 32,
   "metadata": {},
   "outputs": [],
   "source": [
    "def smape_final(rougher, final):\n",
    "    score = 0.25*(rougher) + 0.75*(final)\n",
    "    return score"
   ]
  },
  {
   "cell_type": "markdown",
   "metadata": {},
   "source": [
    "<div class=\"alert alert-success\">\n",
    "<h2> Комментарий ревьюера <a class=\"tocSkip\"> </h2>\n",
    "\n",
    "<b>Все отлично!👍:</b> \n",
    "\n",
    "Функция правильная) Молодец, что для избежания дублирования кода вначале используешь функцию для невзвешенной sMAPE."
   ]
  },
  {
   "cell_type": "markdown",
   "metadata": {},
   "source": [
    "Создадим скор для применения в кроссвалидации:"
   ]
  },
  {
   "cell_type": "code",
   "execution_count": 33,
   "metadata": {},
   "outputs": [],
   "source": [
    "smape_score = make_scorer(score_func = smape)"
   ]
  },
  {
   "cell_type": "markdown",
   "metadata": {},
   "source": [
    "<div class=\"alert alert-warning\">\n",
    "    <h2> Комментарий ревьюера <a class=\"tocSkip\"> </h2>\n",
    "    \n",
    "<b>Некоторые замечания и рекомендации💡:</b>\n",
    "    \n",
    "Сейчас в скорере параметр `greater_is_better` задан по-умолчанию. Но в случае применения скорера в  `cross_val_score` значение `greater_is_better` не играет никакой роли, ведь мы не проводим ни минимизации, ни максимизации метрики, а просто рассчитываем список из метрик, затем усредняем их. То есть у нас ошибки нет, поскольку здесь мы сами задаём условие отбора лучшей модели, этот атрибут можно не использовать, что бы не было путанницы с отрицательными значениями метрики )\n",
    "        \n",
    "  \n",
    "        \n",
    "А вот если говорить про `GridSearchCV` и ему подобные методы, то в их случае нам придется указать  `greater_is_better=False`, т.к. наша задача - минимизации метрики sMAPE. Там еще появится знак минус у метрики, он смущать не должен, можно будет просто домножить на `-1`.  Дело в том, что разработчики пакета `sklearn` при создании функции `GridSearchCV` утвердили соглашение: возвращаемые результаты вычислений данных функций должны соответствовать задаче максимизации (чем большее значение метрики получаем, тем лучше). При этом обратная задача минимизации может быть осуществлена через максимизацию метрики, домноженной на -1. Об этом можно чуть подробнее почитать в документации пакета. Оставлю <a href = 'https://scikit-learn.org/stable/modules/model_evaluation.html'>ссылку</a>.  "
   ]
  },
  {
   "cell_type": "markdown",
   "metadata": {},
   "source": [
    "<div class=\"alert alert-info\">\n",
    "    <h2> Комментарий студента <a class=\"tocSkip\"></h2>\n",
    "        \n",
    "<b> C документацией ознакомился, спасибо за совет) </b> \n",
    "    \n",
    "<b> Я оставил greater_is_better=True, так как не хотел домножать на -1, но глубже не разобрался.</b> "
   ]
  },
  {
   "cell_type": "markdown",
   "metadata": {},
   "source": [
    "Воспользуемся функцией, которая одновременне проводит кроссвалидацию и считает sMAPE: `smape_mean`"
   ]
  },
  {
   "cell_type": "code",
   "execution_count": 34,
   "metadata": {},
   "outputs": [],
   "source": [
    "def smape_mean(model1,model2,features_train,target_rougher,target_final):\n",
    "    smape = cross_val_score(model1,features_train,target_rougher,scoring=smape_score,cv=5)\n",
    "    final_smape_rougher = smape.mean()\n",
    "    smape = cross_val_score(model2,features_train,target_final,scoring=smape_score,cv=5)\n",
    "    final_smape_final = smape.mean()\n",
    "    result_smape = smape_final(final_smape_rougher, final_smape_final)\n",
    "    return result_smape"
   ]
  },
  {
   "cell_type": "markdown",
   "metadata": {},
   "source": [
    "**Модель LinearRegression**"
   ]
  },
  {
   "cell_type": "code",
   "execution_count": 35,
   "metadata": {},
   "outputs": [
    {
     "name": "stdout",
     "output_type": "stream",
     "text": [
      "Значение sMAPE: 10.109913176551483\n"
     ]
    }
   ],
   "source": [
    "model_LR1 = LinearRegression()\n",
    "model_LR2 = LinearRegression()\n",
    "result_smape = smape_mean(model_LR1,model_LR2,features_train,target_r_train,target_f_train)\n",
    "print(\"Значение sMAPE:\",result_smape)"
   ]
  },
  {
   "cell_type": "markdown",
   "metadata": {},
   "source": [
    "**Модель DecisionTreeRegressor**"
   ]
  },
  {
   "cell_type": "code",
   "execution_count": 36,
   "metadata": {},
   "outputs": [
    {
     "name": "stdout",
     "output_type": "stream",
     "text": [
      "Лучшее значение sMAPE: 8.64256858555905 Лучшеая глубина: 3\n"
     ]
    }
   ],
   "source": [
    "state = RandomState(12345)\n",
    "\n",
    "best_result = 100\n",
    "best_param = 0\n",
    "for max_depth in range(1, 10, 1):\n",
    "    modelDT1 = DecisionTreeRegressor(max_depth=max_depth, random_state=state)\n",
    "    modelDT2 = DecisionTreeRegressor(max_depth=max_depth, random_state=state)\n",
    "    result_smape = smape_mean(modelDT1,modelDT2,features_train,target_r_train,target_f_train)\n",
    "    if result_smape < best_result:\n",
    "        best_result = result_smape\n",
    "        best_param = max_depth\n",
    "        \n",
    "print(\"Лучшее значение sMAPE:\",best_result,\"Лучшеая глубина:\",best_param)"
   ]
  },
  {
   "cell_type": "markdown",
   "metadata": {},
   "source": [
    "**Модель RandomForestRegressor**"
   ]
  },
  {
   "cell_type": "code",
   "execution_count": 37,
   "metadata": {},
   "outputs": [
    {
     "name": "stdout",
     "output_type": "stream",
     "text": [
      "\n",
      "Лучший sMAPE: 8.36945644721731 \n",
      "Лучшая глубина: 4 \n",
      "Лучшее количество деревьев: 70\n"
     ]
    }
   ],
   "source": [
    "best_result = 100\n",
    "best_param_2 = 0\n",
    "best_param_1 = 0\n",
    "for est in range(10, 100, 30):\n",
    "    for max_depth in range(2,10,2):\n",
    "        modelRF1 = RandomForestRegressor(n_estimators=est, max_depth=max_depth, random_state=state)\n",
    "        modelRF2 = RandomForestRegressor(n_estimators=est, max_depth=max_depth, random_state=state)  \n",
    "        result_smape = smape_mean(modelRF1,modelRF2,features_train,target_r_train,target_f_train)\n",
    "        if result_smape < best_result:\n",
    "            best_result = result_smape\n",
    "            best_param_2 = max_depth\n",
    "            best_param_1 = est\n",
    "print(\"\\nЛучший sMAPE:\",best_result,\"\\nЛучшая глубина:\",best_param_2,\"\\nЛучшее количество деревьев:\",best_param_1)"
   ]
  },
  {
   "cell_type": "markdown",
   "metadata": {},
   "source": [
    "**Модель KNeighborsRegressor**"
   ]
  },
  {
   "cell_type": "code",
   "execution_count": 38,
   "metadata": {},
   "outputs": [
    {
     "name": "stdout",
     "output_type": "stream",
     "text": [
      "Лучшее количество соседей: 59 \n",
      "Лучшая сила: 1 \n",
      "Лучший sMAPE: 9.141877175982552\n"
     ]
    }
   ],
   "source": [
    "best_result = 100\n",
    "best_param_2 = 0\n",
    "best_param_1 = 0\n",
    "best_param_3 = 0\n",
    "for neighbors in range(30, 60):\n",
    "    for power_parameter in range(1, 2):\n",
    "        modelKN1 = KNeighborsRegressor(n_neighbors = neighbors, p = power_parameter, weights= \"uniform\")\n",
    "        modelKN2 = KNeighborsRegressor(n_neighbors = neighbors, p = power_parameter, weights= \"uniform\")\n",
    "        result_smape = smape_mean(modelKN1,modelKN2,features_train,target_r_train,target_f_train)\n",
    "            \n",
    "        if result_smape < best_result:\n",
    "            best_result = result_smape\n",
    "            best_param_1 = neighbors# сохраните наилучшую модель\n",
    "            best_param_2 = power_parameter#  сохраните наилучшее значение метрики accuracy на валидационных данных\n",
    "\n",
    "print(\"Лучшее количество соседей:\",best_param_1,\"\\nЛучшая сила:\",best_param_2,\"\\nЛучший sMAPE:\",best_result)"
   ]
  },
  {
   "cell_type": "markdown",
   "metadata": {},
   "source": [
    "Модель LR -  10.1\n",
    "\n",
    "Модель DT -  8.64\n",
    "\n",
    "Модель RF -  8.37\n",
    "\n",
    "Модель KN - 9.14\n",
    "\n",
    "Лучшая модель - `RandomForestRegressor`\n",
    "\n",
    "Проверим лучшую модель на тестовой выборке:"
   ]
  },
  {
   "cell_type": "markdown",
   "metadata": {},
   "source": [
    "<div class=\"alert alert-success\">\n",
    "<h2> Комментарий ревьюера <a class=\"tocSkip\"> </h2>\n",
    "\n",
    "<b>Все отлично!👍:</b> \n",
    "        \n",
    "Лучшую модель определили, хорошо)"
   ]
  },
  {
   "cell_type": "code",
   "execution_count": 45,
   "metadata": {},
   "outputs": [
    {
     "name": "stdout",
     "output_type": "stream",
     "text": [
      "\n",
      " sMAPE на тестовой выборке  - 9.233553311708352\n"
     ]
    }
   ],
   "source": [
    "model_best = RandomForestRegressor(n_estimators = 70, max_depth = 4, random_state = state)\n",
    "model_best.fit(features_train, target_r_train)\n",
    "predicted_r = model_best.predict(features_test)\n",
    "\n",
    "model_best = RandomForestRegressor(n_estimators = 70, max_depth = 4, random_state = state)\n",
    "model_best.fit(features_train, target_f_train)\n",
    "predicted_f = model_best.predict(features_test)\n",
    "\n",
    "smape_r = smape(target_r_test, predicted_r)\n",
    "smape_f = smape(target_f_test, predicted_f)\n",
    "final_smape = smape_final(smape_r , smape_f )\n",
    "print(f'\\n sMAPE на тестовой выборке  - {final_smape}')"
   ]
  },
  {
   "cell_type": "markdown",
   "metadata": {},
   "source": [
    "<div class=\"alert alert-success\">\n",
    "<h2> Комментарий ревьюера <a class=\"tocSkip\"> </h2>\n",
    "\n",
    "<b>Все отлично!👍:</b> \n",
    "        \n",
    "Тестирование лучшей модели проведено правильно"
   ]
  },
  {
   "cell_type": "markdown",
   "metadata": {},
   "source": [
    "Проверим полученную модель на адекватность, рассмотрим sMape для константной модели."
   ]
  },
  {
   "cell_type": "code",
   "execution_count": 46,
   "metadata": {},
   "outputs": [
    {
     "name": "stdout",
     "output_type": "stream",
     "text": [
      "\n",
      " sMAPE на dummy модели - 9.82541177011004\n"
     ]
    }
   ],
   "source": [
    "dummy_r = DummyRegressor(strategy=\"mean\")\n",
    "dummy_f = DummyRegressor(strategy=\"mean\")\n",
    "dummy_r.fit(features_train, target_r_train)\n",
    "dummy_f.fit(features_train, target_f_train)\n",
    "\n",
    "predicted_r = dummy_r.predict(features_test)\n",
    "predicted_f = dummy_f.predict(features_test)\n",
    "\n",
    "smape_r = smape(target_r_test, predicted_r)\n",
    "smape_f = smape(target_f_test, predicted_f)\n",
    "\n",
    "final_smape = smape_final(smape_r, smape_f)\n",
    "print(f'\\n sMAPE на dummy модели - {final_smape}')"
   ]
  },
  {
   "cell_type": "markdown",
   "metadata": {},
   "source": [
    "Показатель модели RandomForestRegressor равен 9.2 и меньше показателя dummy равного 9.82, что показывает хорошее качество модели `RandomForestRegressor`."
   ]
  },
  {
   "cell_type": "markdown",
   "metadata": {},
   "source": [
    "<br/>\n",
    "<div class=\"alert alert-block alert-danger\">\n",
    "<h2> Комментарий ревьюера <a class=\"tocSkip\"></h2>\n",
    "    \n",
    "<b>На доработку🤔:</b> В расчете predicted_f и smape_f использована не тестовая выборка"
   ]
  },
  {
   "cell_type": "markdown",
   "metadata": {},
   "source": [
    "<div class=\"alert alert-info\">\n",
    "    <h2> Комментарий студента <a class=\"tocSkip\"></h2>\n",
    "        \n",
    "<b> Случайно напутал с перменными. Замечания учтены, для расчета predict использована тестовая выборка!  </b> "
   ]
  },
  {
   "cell_type": "markdown",
   "metadata": {},
   "source": [
    "<div class=\"alert alert-success\">\n",
    "<h2> Комментарий ревьюера v.2 <a class=\"tocSkip\"> </h2>\n",
    "\n",
    "<b>Все отлично!👍:</b>"
   ]
  },
  {
   "cell_type": "markdown",
   "metadata": {},
   "source": [
    "## Заключение\n",
    "\n",
    "В данном проекте основной задачей являлось построение модели, которая должна предсказать коэффициент восстановления золота из золотосодержащей руды. В вашем распоряжении данные с параметрами добычи и очистки, данные предоставлены компанией «Цифра».\n",
    "\n",
    "Нужно было подготовить данные и проверить правильность расчтеа эффективности обогащения. Посмотреть, как меняется концентрация металлов (Au, Ag, Pb) на различных этапах очистки. Сравните распределения размеров гранул сырья на обучающей и тестовой выборках. Исследовать0 суммарную концентрацию всех веществ на разных стадиях: в сырье, в черновом и финальном концентратах. \n",
    "\n",
    "Далее требовалось напишисать функцию для вычисления итоговой sMAPE и обучить разные модели, с помощью метрики sMAPE оценить их качество кросс-валидацией.\n",
    "\n",
    "Можно сделать вывод, что моделью с лучшими результатами прогноза является - RandomForestRegressor со значением sMAPE равным - 8.37 и глубиной 4 и количеством деревьев 70, также она проверена на адеквстность моделью dummy у которой значение sMAPE выше и равно - 9.82\n",
    "\n",
    "Полученные данные для сравнения приведены ниже:\n",
    "\n",
    "- Суммарная концентрация веществ увеличивается ближе к финальному этапу, а диапазон концентрации вещества сужается\n",
    "\n",
    "- Диапозон значения на этапе флотации для гранул примерно равен, но на тренировочной выборке преобладают гранулы размером `50` , а на тестовой `ниже 50`.\n",
    "\n",
    "- Диапозон значения на этапе первичной очитски для гранул примерно равен\n",
    "\n",
    "- Золото (AU): после каждого этапа очитски концентрация увеличивается.\n",
    "\n",
    "\n",
    "- Серебро(AG): Концентрация увеличивается на этапе флотации, но затем уменьшается.\n",
    "\n",
    "\n",
    "- Свинец(PB): Концентрация сначала увеличивается на этапе флотации и после первичной очитски, затем уходит в плато. \n",
    "\n",
    "По мере прохождения этапов тех. процесса концентрация золота и свинца увеличичвается, а серебра уменьшается. Суммарное концентрация снижается после каждого этапа отчистики."
   ]
  },
  {
   "cell_type": "markdown",
   "metadata": {},
   "source": [
    "<div style=\"border:solid Chocolate 2px; padding: 40px\">\n",
    "\n",
    "\n",
    "<h2> Итоговый комментарий ревьюера <a class=\"tocSkip\"> </h2>    \n",
    "    \n",
    "  \n",
    "У меня сложилось хорошее общее впечатление о проекте, тебе удалось неплохо справиться с таким объемным и сложным проектом. Молодец! Подготовлены данные для анализа, изучен каждый параметр. Все красиво визуализировано, построено несколько моделей регрессии и оценено их качество. Осмысленная аналитика и дельная модельная работа - многое удалось как надо)\n",
    "    \n",
    "Отмечу отдельные положительные моменты проекта🙂:\n",
    "    \n",
    "- в ходе проекта встречались функции, помогающие избавиться от дублирования кода;\n",
    "- много красивых визуализаций в проекте и хорошая интерпретация;\n",
    "- при обучении моделей использована кросс-валидация и поиск гиперпараметров.\n",
    "    \n",
    "Есть несколько моментов всего, на которые стоит ещё раз взглянуть, их я обзначил тебе в комментариях по ходу проекта. Предлагаю тебе доработать проект по моим комментариям, чтобы довести его до совершенства.\n",
    "\n",
    "Если будут вопросы, обращайся, с удовольствием на них отвечу.  \n",
    "</div>"
   ]
  },
  {
   "cell_type": "markdown",
   "metadata": {},
   "source": [
    "<div style=\"border:solid Chocolate 2px; padding: 40px\">\n",
    "\n",
    "\n",
    "<h2> Итоговый комментарий ревьюера v.2 <a class=\"tocSkip\"> </h2>    \n",
    "    \n",
    "     \n",
    "  \n",
    "Теперь почти идеально. Принимаю работу)\n",
    "    \n",
    "Если хочешь лучше разобраться в ML, то могу посоветовать тебе: \n",
    "    \n",
    "- Открытый курс машинного обучения: https://habr.com/ru/company/ods/blog/322626/   \n",
    "    \n",
    "- Книжка от ШАД: https://academy.yandex.ru/handbook/ml/\n",
    "    \n",
    "- Также рекомендую лекции от Andrew Ng: https://www.youtube.com/watch?v=PPLop4L2eGk&list=PLLssT5z_DsK-h9vYZkQkYNWcItqhlRJLN\n",
    "- Избежать утечки данных при кросс-валидации тебе поможет <a href=\"https://towardsdatascience.com/pipeline-columntransformer-and-featureunion-explained-f5491f815f\">конвеерная обработка данных</a>.     \n",
    "    \n",
    "- Не все признаки приносят пользу при моделировании. Инструмент <a href=\"https://proglib.io/p/feature-selector\">FeatureSelector</a> поможет тебе отобрать важные признаки и избавит от ручной обработки.  Также можешь посмотреть статью на <a href=\"https://www.kaggle.com/code/prashant111/comprehensive-guide-on-feature-selection/notebook\">Kaggle</a> (она сложнее).    \n",
    "    \n",
    "    \n",
    "В этом проекте были отработаны несколько моментов. А самый очевидный: заметно, что разность метрик качества (константной и нашей модели) -  не слишком большая. Такое расхождение метрик допустимо в этом проекте. Что тогда  для дальнейшего улучшения качества моделирования возможно тут пересмотреть?\n",
    "Попробую описать для тебя:\n",
    "1. Качество данных на входе модели машинного обучения: повторно оценить аномалии, пропуски, соответствие законам химии и физики, все ли правдоподобно?\n",
    "2. Работа с моделями машинного обучения:\n",
    "- Создание новых признаков для моделей, Features Engineering: возможно стоит обратиться к технологу производства и ещё раз пробежаться по бизнес-цепочке процесса.\n",
    "- Отбор самих моделей машинного обучения и гиперпараметров.\n",
    "    \n",
    "3. Параметры производственного процесса, к примеру: температура сырья, скорость ленточного конвейера, и.т.п.\n",
    "    \n",
    "\n",
    "Если провести Анализ измерительных систем, или MSA, то можно разобраться в причинах неточности полученных с производства данных. Статистический анализ данных, или SPC, - тоже будет являться незаменимым помощником в решении нашей задачи.\n",
    "    \n",
    "Добавлю здесь, что цель нашего проекта достигнута, а именно пройдены важные этапы подготовки данных и построения модели для производства золота.\n",
    "    \n",
    "Успехов тебе в следующем спринте!\n",
    "    \n",
    "Рад был помочь тебе)\n",
    "    \n",
    "</div>"
   ]
  },
  {
   "cell_type": "markdown",
   "metadata": {},
   "source": [
    "## Чек-лист готовности проекта"
   ]
  },
  {
   "cell_type": "markdown",
   "metadata": {},
   "source": [
    "- [x]  Jupyter Notebook открыт\n",
    "- [x]  Весь код выполняется без ошибок\n",
    "- [x]  Ячейки с кодом расположены в порядке выполнения\n",
    "- [x]  Выполнен шаг 1: данные подготовлены\n",
    "    - [x]  Проверена формула вычисления эффективности обогащения\n",
    "    - [x]  Проанализированы признаки, недоступные в тестовой выборке\n",
    "    - [x]  Проведена предобработка данных\n",
    "- [x]  Выполнен шаг 2: данные проанализированы\n",
    "    - [x]  Исследовано изменение концентрации элементов на каждом этапе\n",
    "    - [x]  Проанализированы распределения размеров гранул на обучающей и тестовой выборках\n",
    "    - [x]  Исследованы суммарные концентрации\n",
    "- [x]  Выполнен шаг 3: построена модель прогнозирования\n",
    "    - [x]  Написана функция для вычисления итогового *sMAPE*\n",
    "    - [x]  Обучено и проверено несколько моделей\n",
    "    - [x]  Выбрана лучшая модель, её качество проверено на тестовой выборке"
   ]
  }
 ],
 "metadata": {
  "ExecuteTimeLog": [
   {
    "duration": 51,
    "start_time": "2023-02-07T22:12:22.672Z"
   },
   {
    "duration": 1170,
    "start_time": "2023-02-07T22:12:26.181Z"
   },
   {
    "duration": 4,
    "start_time": "2023-02-07T22:12:36.998Z"
   },
   {
    "duration": 907,
    "start_time": "2023-02-07T22:12:38.850Z"
   },
   {
    "duration": 3305,
    "start_time": "2023-02-07T22:13:03.334Z"
   },
   {
    "duration": 227,
    "start_time": "2023-02-07T22:55:03.573Z"
   },
   {
    "duration": 244,
    "start_time": "2023-02-07T22:55:16.807Z"
   },
   {
    "duration": 620,
    "start_time": "2023-02-07T23:00:31.551Z"
   },
   {
    "duration": 702,
    "start_time": "2023-02-07T23:00:43.824Z"
   },
   {
    "duration": 3,
    "start_time": "2023-02-07T23:04:25.689Z"
   },
   {
    "duration": 8,
    "start_time": "2023-02-07T23:04:26.802Z"
   },
   {
    "duration": 3,
    "start_time": "2023-02-07T23:04:32.335Z"
   },
   {
    "duration": 13,
    "start_time": "2023-02-07T23:04:33.290Z"
   },
   {
    "duration": 14,
    "start_time": "2023-02-07T23:04:53.958Z"
   },
   {
    "duration": 2,
    "start_time": "2023-02-07T23:05:11.762Z"
   },
   {
    "duration": 13,
    "start_time": "2023-02-07T23:05:12.993Z"
   },
   {
    "duration": 5,
    "start_time": "2023-02-07T23:05:38.314Z"
   },
   {
    "duration": 565,
    "start_time": "2023-02-07T23:05:38.321Z"
   },
   {
    "duration": 215,
    "start_time": "2023-02-07T23:05:38.888Z"
   },
   {
    "duration": 634,
    "start_time": "2023-02-07T23:05:39.105Z"
   },
   {
    "duration": 3,
    "start_time": "2023-02-07T23:05:39.741Z"
   },
   {
    "duration": 13,
    "start_time": "2023-02-07T23:05:39.746Z"
   },
   {
    "duration": 3,
    "start_time": "2023-02-07T23:05:52.225Z"
   },
   {
    "duration": 1179,
    "start_time": "2023-02-07T23:05:59.199Z"
   },
   {
    "duration": 613,
    "start_time": "2023-02-07T23:06:00.380Z"
   },
   {
    "duration": 236,
    "start_time": "2023-02-07T23:06:00.995Z"
   },
   {
    "duration": 662,
    "start_time": "2023-02-07T23:06:01.233Z"
   },
   {
    "duration": 3,
    "start_time": "2023-02-07T23:06:01.897Z"
   },
   {
    "duration": 48,
    "start_time": "2023-02-07T23:06:01.902Z"
   },
   {
    "duration": 1051,
    "start_time": "2023-02-07T23:06:19.160Z"
   },
   {
    "duration": 551,
    "start_time": "2023-02-07T23:06:20.213Z"
   },
   {
    "duration": 258,
    "start_time": "2023-02-07T23:06:20.766Z"
   },
   {
    "duration": 650,
    "start_time": "2023-02-07T23:06:21.026Z"
   },
   {
    "duration": 3,
    "start_time": "2023-02-07T23:06:21.678Z"
   },
   {
    "duration": 50,
    "start_time": "2023-02-07T23:06:21.682Z"
   },
   {
    "duration": 1115,
    "start_time": "2023-02-07T23:07:11.891Z"
   },
   {
    "duration": 583,
    "start_time": "2023-02-07T23:07:13.008Z"
   },
   {
    "duration": 236,
    "start_time": "2023-02-07T23:07:13.593Z"
   },
   {
    "duration": 658,
    "start_time": "2023-02-07T23:07:13.831Z"
   },
   {
    "duration": 5,
    "start_time": "2023-02-07T23:07:14.491Z"
   },
   {
    "duration": 53,
    "start_time": "2023-02-07T23:07:14.498Z"
   },
   {
    "duration": 44,
    "start_time": "2023-02-07T23:07:14.553Z"
   },
   {
    "duration": 1123,
    "start_time": "2023-02-07T23:07:37.020Z"
   },
   {
    "duration": 565,
    "start_time": "2023-02-07T23:07:38.145Z"
   },
   {
    "duration": 232,
    "start_time": "2023-02-07T23:07:38.712Z"
   },
   {
    "duration": 651,
    "start_time": "2023-02-07T23:07:38.946Z"
   },
   {
    "duration": 3,
    "start_time": "2023-02-07T23:07:39.600Z"
   },
   {
    "duration": 16,
    "start_time": "2023-02-07T23:07:39.605Z"
   },
   {
    "duration": 23,
    "start_time": "2023-02-07T23:07:39.623Z"
   },
   {
    "duration": 3,
    "start_time": "2023-02-07T23:11:26.452Z"
   },
   {
    "duration": 71,
    "start_time": "2023-02-07T23:11:28.163Z"
   },
   {
    "duration": 14,
    "start_time": "2023-02-07T23:14:24.277Z"
   },
   {
    "duration": 11,
    "start_time": "2023-02-07T23:15:43.881Z"
   },
   {
    "duration": 3,
    "start_time": "2023-02-07T23:17:49.956Z"
   },
   {
    "duration": 107,
    "start_time": "2023-02-07T23:17:51.089Z"
   },
   {
    "duration": 4,
    "start_time": "2023-02-07T23:18:52.220Z"
   },
   {
    "duration": 3,
    "start_time": "2023-02-07T23:18:55.711Z"
   },
   {
    "duration": 13,
    "start_time": "2023-02-07T23:18:57.092Z"
   },
   {
    "duration": 3,
    "start_time": "2023-02-07T23:19:10.161Z"
   },
   {
    "duration": 10,
    "start_time": "2023-02-07T23:19:11.689Z"
   },
   {
    "duration": 3,
    "start_time": "2023-02-07T23:19:15.970Z"
   },
   {
    "duration": 11,
    "start_time": "2023-02-07T23:19:17.456Z"
   },
   {
    "duration": 3,
    "start_time": "2023-02-07T23:19:20.675Z"
   },
   {
    "duration": 11,
    "start_time": "2023-02-07T23:19:22.330Z"
   },
   {
    "duration": 95,
    "start_time": "2023-02-07T23:22:38.857Z"
   },
   {
    "duration": 97,
    "start_time": "2023-02-07T23:22:42.898Z"
   },
   {
    "duration": 75,
    "start_time": "2023-02-07T23:22:46.419Z"
   },
   {
    "duration": 3,
    "start_time": "2023-02-07T23:22:48.357Z"
   },
   {
    "duration": 17,
    "start_time": "2023-02-07T23:22:50.057Z"
   },
   {
    "duration": 1087,
    "start_time": "2023-02-07T23:23:41.845Z"
   },
   {
    "duration": 560,
    "start_time": "2023-02-07T23:23:42.934Z"
   },
   {
    "duration": 231,
    "start_time": "2023-02-07T23:23:43.495Z"
   },
   {
    "duration": 649,
    "start_time": "2023-02-07T23:23:43.728Z"
   },
   {
    "duration": 3,
    "start_time": "2023-02-07T23:23:44.379Z"
   },
   {
    "duration": 69,
    "start_time": "2023-02-07T23:23:44.384Z"
   },
   {
    "duration": 40,
    "start_time": "2023-02-07T23:23:44.455Z"
   },
   {
    "duration": 47,
    "start_time": "2023-02-07T23:23:44.497Z"
   },
   {
    "duration": 4,
    "start_time": "2023-02-07T23:23:57.101Z"
   },
   {
    "duration": 4,
    "start_time": "2023-02-07T23:23:58.678Z"
   },
   {
    "duration": 243,
    "start_time": "2023-02-07T23:28:39.771Z"
   },
   {
    "duration": 206,
    "start_time": "2023-02-07T23:28:49.179Z"
   },
   {
    "duration": 102,
    "start_time": "2023-02-07T23:45:52.169Z"
   },
   {
    "duration": 27,
    "start_time": "2023-02-07T23:46:01.933Z"
   },
   {
    "duration": 11,
    "start_time": "2023-02-07T23:46:23.956Z"
   },
   {
    "duration": 3,
    "start_time": "2023-02-07T23:46:33.732Z"
   },
   {
    "duration": 601,
    "start_time": "2023-02-07T23:46:33.737Z"
   },
   {
    "duration": 247,
    "start_time": "2023-02-07T23:46:34.340Z"
   },
   {
    "duration": 651,
    "start_time": "2023-02-07T23:46:34.589Z"
   },
   {
    "duration": 3,
    "start_time": "2023-02-07T23:46:35.242Z"
   },
   {
    "duration": 17,
    "start_time": "2023-02-07T23:46:35.247Z"
   },
   {
    "duration": 9,
    "start_time": "2023-02-07T23:46:35.266Z"
   },
   {
    "duration": 234,
    "start_time": "2023-02-07T23:46:35.276Z"
   },
   {
    "duration": 25,
    "start_time": "2023-02-07T23:46:35.512Z"
   },
   {
    "duration": 4,
    "start_time": "2023-02-07T23:46:57.867Z"
   },
   {
    "duration": 527,
    "start_time": "2023-02-07T23:46:57.873Z"
   },
   {
    "duration": 219,
    "start_time": "2023-02-07T23:46:58.401Z"
   },
   {
    "duration": 612,
    "start_time": "2023-02-07T23:46:58.622Z"
   },
   {
    "duration": 2,
    "start_time": "2023-02-07T23:46:59.236Z"
   },
   {
    "duration": 20,
    "start_time": "2023-02-07T23:46:59.240Z"
   },
   {
    "duration": 4,
    "start_time": "2023-02-07T23:46:59.261Z"
   },
   {
    "duration": 232,
    "start_time": "2023-02-07T23:46:59.267Z"
   },
   {
    "duration": 9,
    "start_time": "2023-02-07T23:46:59.500Z"
   },
   {
    "duration": 1049,
    "start_time": "2023-02-07T23:47:11.366Z"
   },
   {
    "duration": 533,
    "start_time": "2023-02-07T23:47:12.417Z"
   },
   {
    "duration": 221,
    "start_time": "2023-02-07T23:47:12.952Z"
   },
   {
    "duration": 617,
    "start_time": "2023-02-07T23:47:13.175Z"
   },
   {
    "duration": 3,
    "start_time": "2023-02-07T23:47:13.794Z"
   },
   {
    "duration": 27,
    "start_time": "2023-02-07T23:47:13.799Z"
   },
   {
    "duration": 3,
    "start_time": "2023-02-07T23:47:13.827Z"
   },
   {
    "duration": 229,
    "start_time": "2023-02-07T23:47:13.831Z"
   },
   {
    "duration": 8,
    "start_time": "2023-02-07T23:47:14.061Z"
   },
   {
    "duration": 16,
    "start_time": "2023-02-07T23:48:50.914Z"
   },
   {
    "duration": 17,
    "start_time": "2023-02-07T23:49:56.358Z"
   },
   {
    "duration": 15,
    "start_time": "2023-02-07T23:50:17.230Z"
   },
   {
    "duration": 13,
    "start_time": "2023-02-07T23:50:30.760Z"
   },
   {
    "duration": 22,
    "start_time": "2023-02-07T23:50:49.359Z"
   },
   {
    "duration": 31,
    "start_time": "2023-02-07T23:55:18.711Z"
   },
   {
    "duration": 32,
    "start_time": "2023-02-07T23:56:23.545Z"
   },
   {
    "duration": 4,
    "start_time": "2023-02-07T23:56:28.825Z"
   },
   {
    "duration": 583,
    "start_time": "2023-02-07T23:56:28.831Z"
   },
   {
    "duration": 217,
    "start_time": "2023-02-07T23:56:29.415Z"
   },
   {
    "duration": 644,
    "start_time": "2023-02-07T23:56:29.634Z"
   },
   {
    "duration": 3,
    "start_time": "2023-02-07T23:56:30.279Z"
   },
   {
    "duration": 24,
    "start_time": "2023-02-07T23:56:30.284Z"
   },
   {
    "duration": 12,
    "start_time": "2023-02-07T23:56:30.311Z"
   },
   {
    "duration": 253,
    "start_time": "2023-02-07T23:56:30.325Z"
   },
   {
    "duration": 49,
    "start_time": "2023-02-07T23:56:30.581Z"
   },
   {
    "duration": 4,
    "start_time": "2023-02-07T23:57:05.367Z"
   },
   {
    "duration": 503,
    "start_time": "2023-02-07T23:57:05.373Z"
   },
   {
    "duration": 212,
    "start_time": "2023-02-07T23:57:05.878Z"
   },
   {
    "duration": 592,
    "start_time": "2023-02-07T23:57:06.093Z"
   },
   {
    "duration": 3,
    "start_time": "2023-02-07T23:57:06.687Z"
   },
   {
    "duration": 15,
    "start_time": "2023-02-07T23:57:06.692Z"
   },
   {
    "duration": 3,
    "start_time": "2023-02-07T23:57:06.721Z"
   },
   {
    "duration": 239,
    "start_time": "2023-02-07T23:57:06.726Z"
   },
   {
    "duration": 31,
    "start_time": "2023-02-07T23:57:06.968Z"
   },
   {
    "duration": 97,
    "start_time": "2023-02-07T23:59:09.201Z"
   },
   {
    "duration": 4,
    "start_time": "2023-02-07T23:59:37.124Z"
   },
   {
    "duration": 7,
    "start_time": "2023-02-07T23:59:45.613Z"
   },
   {
    "duration": 17,
    "start_time": "2023-02-08T00:00:04.562Z"
   },
   {
    "duration": 14,
    "start_time": "2023-02-08T00:00:42.008Z"
   },
   {
    "duration": 6,
    "start_time": "2023-02-08T00:00:57.077Z"
   },
   {
    "duration": 1023,
    "start_time": "2023-02-08T19:22:38.681Z"
   },
   {
    "duration": 1061,
    "start_time": "2023-02-08T19:22:39.706Z"
   },
   {
    "duration": 555,
    "start_time": "2023-02-08T19:22:40.769Z"
   },
   {
    "duration": 2033,
    "start_time": "2023-02-08T19:22:41.326Z"
   },
   {
    "duration": 3,
    "start_time": "2023-02-08T19:22:43.361Z"
   },
   {
    "duration": 16,
    "start_time": "2023-02-08T19:22:43.365Z"
   },
   {
    "duration": 2,
    "start_time": "2023-02-08T19:22:43.383Z"
   },
   {
    "duration": 237,
    "start_time": "2023-02-08T19:22:43.387Z"
   },
   {
    "duration": 4,
    "start_time": "2023-02-08T19:22:43.625Z"
   },
   {
    "duration": 49,
    "start_time": "2023-02-08T19:22:43.630Z"
   },
   {
    "duration": 7,
    "start_time": "2023-02-08T19:22:43.681Z"
   },
   {
    "duration": 4,
    "start_time": "2023-02-08T20:00:43.949Z"
   },
   {
    "duration": 5,
    "start_time": "2023-02-08T20:00:53.649Z"
   },
   {
    "duration": 5,
    "start_time": "2023-02-08T20:01:09.534Z"
   },
   {
    "duration": 95,
    "start_time": "2023-02-08T20:03:56.359Z"
   },
   {
    "duration": 6,
    "start_time": "2023-02-08T20:04:01.330Z"
   },
   {
    "duration": 8,
    "start_time": "2023-02-08T20:05:40.977Z"
   },
   {
    "duration": 8,
    "start_time": "2023-02-08T20:10:53.877Z"
   },
   {
    "duration": 6,
    "start_time": "2023-02-08T20:11:21.230Z"
   },
   {
    "duration": 4,
    "start_time": "2023-02-08T20:14:49.236Z"
   },
   {
    "duration": 9,
    "start_time": "2023-02-08T20:15:08.974Z"
   },
   {
    "duration": 9,
    "start_time": "2023-02-08T20:15:35.656Z"
   },
   {
    "duration": 8,
    "start_time": "2023-02-08T20:16:11.138Z"
   },
   {
    "duration": 16,
    "start_time": "2023-02-08T20:17:39.651Z"
   },
   {
    "duration": 6,
    "start_time": "2023-02-08T20:17:47.379Z"
   },
   {
    "duration": 5,
    "start_time": "2023-02-08T20:18:03.041Z"
   },
   {
    "duration": 5,
    "start_time": "2023-02-08T20:18:19.240Z"
   },
   {
    "duration": 6,
    "start_time": "2023-02-08T20:18:22.433Z"
   },
   {
    "duration": 14,
    "start_time": "2023-02-08T20:59:25.257Z"
   },
   {
    "duration": 3,
    "start_time": "2023-02-08T21:00:30.722Z"
   },
   {
    "duration": 8,
    "start_time": "2023-02-08T21:00:34.190Z"
   },
   {
    "duration": 16,
    "start_time": "2023-02-08T21:01:29.455Z"
   },
   {
    "duration": 5,
    "start_time": "2023-02-08T21:02:10.461Z"
   },
   {
    "duration": 11,
    "start_time": "2023-02-08T21:02:22.669Z"
   },
   {
    "duration": 12,
    "start_time": "2023-02-08T21:03:52.465Z"
   },
   {
    "duration": 8,
    "start_time": "2023-02-08T21:03:56.182Z"
   },
   {
    "duration": 8,
    "start_time": "2023-02-08T21:04:16.532Z"
   },
   {
    "duration": 12,
    "start_time": "2023-02-08T21:04:54.588Z"
   },
   {
    "duration": 16,
    "start_time": "2023-02-08T21:05:39.362Z"
   },
   {
    "duration": 14,
    "start_time": "2023-02-08T21:06:32.391Z"
   },
   {
    "duration": 10,
    "start_time": "2023-02-08T21:06:43.458Z"
   },
   {
    "duration": 12,
    "start_time": "2023-02-08T21:07:09.040Z"
   },
   {
    "duration": 11,
    "start_time": "2023-02-08T21:07:25.088Z"
   },
   {
    "duration": 72,
    "start_time": "2023-02-08T21:07:43.988Z"
   },
   {
    "duration": 1189,
    "start_time": "2023-02-08T21:07:47.016Z"
   },
   {
    "duration": 12,
    "start_time": "2023-02-08T21:07:54.477Z"
   },
   {
    "duration": 4,
    "start_time": "2023-02-08T21:12:00.794Z"
   },
   {
    "duration": 4,
    "start_time": "2023-02-08T21:12:14.319Z"
   },
   {
    "duration": 3,
    "start_time": "2023-02-08T21:12:17.143Z"
   },
   {
    "duration": 3,
    "start_time": "2023-02-08T21:12:34.734Z"
   },
   {
    "duration": 4,
    "start_time": "2023-02-08T21:12:39.630Z"
   },
   {
    "duration": 4,
    "start_time": "2023-02-08T21:17:10.972Z"
   },
   {
    "duration": 32,
    "start_time": "2023-02-08T21:34:05.855Z"
   },
   {
    "duration": 8,
    "start_time": "2023-02-08T21:39:36.201Z"
   },
   {
    "duration": 13,
    "start_time": "2023-02-08T21:39:41.663Z"
   },
   {
    "duration": 4,
    "start_time": "2023-02-08T21:41:00.113Z"
   },
   {
    "duration": 573,
    "start_time": "2023-02-08T21:41:00.119Z"
   },
   {
    "duration": 206,
    "start_time": "2023-02-08T21:41:00.695Z"
   },
   {
    "duration": 621,
    "start_time": "2023-02-08T21:41:00.903Z"
   },
   {
    "duration": 3,
    "start_time": "2023-02-08T21:41:01.526Z"
   },
   {
    "duration": 39,
    "start_time": "2023-02-08T21:41:01.530Z"
   },
   {
    "duration": 16,
    "start_time": "2023-02-08T21:41:01.571Z"
   },
   {
    "duration": 236,
    "start_time": "2023-02-08T21:41:01.589Z"
   },
   {
    "duration": 3,
    "start_time": "2023-02-08T21:41:01.826Z"
   },
   {
    "duration": 44,
    "start_time": "2023-02-08T21:41:01.831Z"
   },
   {
    "duration": 8,
    "start_time": "2023-02-08T21:41:01.878Z"
   },
   {
    "duration": 48,
    "start_time": "2023-02-08T21:41:01.888Z"
   },
   {
    "duration": 40,
    "start_time": "2023-02-08T21:41:01.937Z"
   },
   {
    "duration": 47,
    "start_time": "2023-02-08T21:41:01.979Z"
   },
   {
    "duration": 27,
    "start_time": "2023-02-08T21:41:02.028Z"
   },
   {
    "duration": 4,
    "start_time": "2023-02-08T21:50:29.814Z"
   },
   {
    "duration": 10,
    "start_time": "2023-02-08T21:51:15.901Z"
   },
   {
    "duration": 10,
    "start_time": "2023-02-08T21:51:39.432Z"
   },
   {
    "duration": 11,
    "start_time": "2023-02-08T21:51:45.790Z"
   },
   {
    "duration": 384,
    "start_time": "2023-02-08T21:52:16.746Z"
   },
   {
    "duration": 4,
    "start_time": "2023-02-08T21:53:32.318Z"
   },
   {
    "duration": 544,
    "start_time": "2023-02-08T21:53:32.324Z"
   },
   {
    "duration": 302,
    "start_time": "2023-02-08T21:53:32.869Z"
   },
   {
    "duration": 623,
    "start_time": "2023-02-08T21:53:33.174Z"
   },
   {
    "duration": 3,
    "start_time": "2023-02-08T21:53:33.799Z"
   },
   {
    "duration": 15,
    "start_time": "2023-02-08T21:53:33.804Z"
   },
   {
    "duration": 7,
    "start_time": "2023-02-08T21:53:33.821Z"
   },
   {
    "duration": 272,
    "start_time": "2023-02-08T21:53:33.830Z"
   },
   {
    "duration": 4,
    "start_time": "2023-02-08T21:53:34.105Z"
   },
   {
    "duration": 42,
    "start_time": "2023-02-08T21:53:34.111Z"
   },
   {
    "duration": 8,
    "start_time": "2023-02-08T21:53:34.155Z"
   },
   {
    "duration": 8,
    "start_time": "2023-02-08T21:53:34.164Z"
   },
   {
    "duration": 8,
    "start_time": "2023-02-08T21:53:34.174Z"
   },
   {
    "duration": 35,
    "start_time": "2023-02-08T21:53:34.184Z"
   },
   {
    "duration": 49,
    "start_time": "2023-02-08T21:53:34.221Z"
   },
   {
    "duration": 173,
    "start_time": "2023-02-08T21:53:34.272Z"
   },
   {
    "duration": 0,
    "start_time": "2023-02-08T21:53:34.448Z"
   },
   {
    "duration": 0,
    "start_time": "2023-02-08T21:53:34.449Z"
   },
   {
    "duration": 5,
    "start_time": "2023-02-08T21:53:45.478Z"
   },
   {
    "duration": 1210,
    "start_time": "2023-02-08T21:53:48.373Z"
   },
   {
    "duration": 6,
    "start_time": "2023-02-08T21:54:03.557Z"
   },
   {
    "duration": 1158,
    "start_time": "2023-02-08T21:54:05.491Z"
   },
   {
    "duration": 6,
    "start_time": "2023-02-08T21:54:19.784Z"
   },
   {
    "duration": 6,
    "start_time": "2023-02-08T21:54:22.564Z"
   },
   {
    "duration": 1171,
    "start_time": "2023-02-08T21:54:26.519Z"
   },
   {
    "duration": 4,
    "start_time": "2023-02-08T21:54:33.842Z"
   },
   {
    "duration": 1032,
    "start_time": "2023-02-08T21:54:35.738Z"
   },
   {
    "duration": 4,
    "start_time": "2023-02-08T21:54:43.298Z"
   },
   {
    "duration": 1298,
    "start_time": "2023-02-08T21:54:45.310Z"
   },
   {
    "duration": 5,
    "start_time": "2023-02-08T21:55:16.872Z"
   },
   {
    "duration": 1204,
    "start_time": "2023-02-08T21:55:18.331Z"
   },
   {
    "duration": 3,
    "start_time": "2023-02-08T22:17:07.562Z"
   },
   {
    "duration": 243,
    "start_time": "2023-02-08T22:17:08.782Z"
   },
   {
    "duration": 273,
    "start_time": "2023-02-08T22:17:12.657Z"
   },
   {
    "duration": 5,
    "start_time": "2023-02-08T22:17:30.109Z"
   },
   {
    "duration": 231,
    "start_time": "2023-02-08T22:17:32.023Z"
   },
   {
    "duration": 264,
    "start_time": "2023-02-08T22:17:38.479Z"
   },
   {
    "duration": 10,
    "start_time": "2023-02-08T22:29:42.987Z"
   },
   {
    "duration": 8,
    "start_time": "2023-02-08T22:30:12.855Z"
   },
   {
    "duration": 1112,
    "start_time": "2023-02-08T22:30:17.446Z"
   },
   {
    "duration": 208,
    "start_time": "2023-02-08T22:30:34.170Z"
   },
   {
    "duration": 220,
    "start_time": "2023-02-08T22:31:03.018Z"
   },
   {
    "duration": 285,
    "start_time": "2023-02-08T22:31:25.564Z"
   },
   {
    "duration": 271,
    "start_time": "2023-02-08T22:32:36.945Z"
   },
   {
    "duration": 7,
    "start_time": "2023-02-08T22:32:42.028Z"
   },
   {
    "duration": 284,
    "start_time": "2023-02-08T22:32:43.869Z"
   },
   {
    "duration": 203,
    "start_time": "2023-02-08T22:32:56.466Z"
   },
   {
    "duration": 1113,
    "start_time": "2023-02-08T22:33:02.944Z"
   },
   {
    "duration": 71,
    "start_time": "2023-02-08T22:35:50.729Z"
   },
   {
    "duration": 43,
    "start_time": "2023-02-09T19:28:01.170Z"
   },
   {
    "duration": 47,
    "start_time": "2023-02-09T20:34:08.466Z"
   },
   {
    "duration": 4,
    "start_time": "2023-02-09T20:34:50.928Z"
   },
   {
    "duration": 5,
    "start_time": "2023-02-09T20:39:16.237Z"
   },
   {
    "duration": 1538,
    "start_time": "2023-02-09T20:39:28.864Z"
   },
   {
    "duration": 1502,
    "start_time": "2023-02-09T20:39:30.404Z"
   },
   {
    "duration": 289,
    "start_time": "2023-02-09T20:39:31.908Z"
   },
   {
    "duration": 810,
    "start_time": "2023-02-09T20:39:32.199Z"
   },
   {
    "duration": 2,
    "start_time": "2023-02-09T20:39:33.012Z"
   },
   {
    "duration": 19,
    "start_time": "2023-02-09T20:39:33.016Z"
   },
   {
    "duration": 9,
    "start_time": "2023-02-09T20:39:33.037Z"
   },
   {
    "duration": 258,
    "start_time": "2023-02-09T20:39:33.048Z"
   },
   {
    "duration": 4,
    "start_time": "2023-02-09T20:39:33.308Z"
   },
   {
    "duration": 36,
    "start_time": "2023-02-09T20:39:33.314Z"
   },
   {
    "duration": 8,
    "start_time": "2023-02-09T20:39:33.352Z"
   },
   {
    "duration": 5,
    "start_time": "2023-02-09T20:39:33.362Z"
   },
   {
    "duration": 6,
    "start_time": "2023-02-09T20:39:33.369Z"
   },
   {
    "duration": 34,
    "start_time": "2023-02-09T20:39:33.400Z"
   },
   {
    "duration": 29,
    "start_time": "2023-02-09T20:39:33.436Z"
   },
   {
    "duration": 5,
    "start_time": "2023-02-09T20:39:33.467Z"
   },
   {
    "duration": 1339,
    "start_time": "2023-02-09T20:39:33.473Z"
   },
   {
    "duration": 955,
    "start_time": "2023-02-09T20:39:34.814Z"
   },
   {
    "duration": 836,
    "start_time": "2023-02-09T20:39:35.771Z"
   },
   {
    "duration": 5,
    "start_time": "2023-02-09T20:39:36.608Z"
   },
   {
    "duration": 239,
    "start_time": "2023-02-09T20:39:36.615Z"
   },
   {
    "duration": 252,
    "start_time": "2023-02-09T20:39:36.855Z"
   },
   {
    "duration": 7,
    "start_time": "2023-02-09T20:39:37.109Z"
   },
   {
    "duration": 1239,
    "start_time": "2023-02-09T20:39:37.118Z"
   },
   {
    "duration": 5,
    "start_time": "2023-02-09T20:39:38.359Z"
   },
   {
    "duration": 86,
    "start_time": "2023-02-09T20:39:38.365Z"
   },
   {
    "duration": 5,
    "start_time": "2023-02-09T20:39:53.576Z"
   },
   {
    "duration": 34,
    "start_time": "2023-02-09T20:39:55.767Z"
   },
   {
    "duration": 7,
    "start_time": "2023-02-09T20:40:18.272Z"
   },
   {
    "duration": 1251,
    "start_time": "2023-02-09T20:40:19.724Z"
   },
   {
    "duration": 1087,
    "start_time": "2023-02-09T20:40:57.865Z"
   },
   {
    "duration": 34,
    "start_time": "2023-02-09T20:42:52.407Z"
   },
   {
    "duration": 1293,
    "start_time": "2023-02-09T20:42:57.161Z"
   },
   {
    "duration": 4,
    "start_time": "2023-02-09T20:43:27.416Z"
   },
   {
    "duration": 27,
    "start_time": "2023-02-09T20:43:29.526Z"
   },
   {
    "duration": 1270,
    "start_time": "2023-02-09T20:43:33.276Z"
   },
   {
    "duration": 4,
    "start_time": "2023-02-09T20:43:56.657Z"
   },
   {
    "duration": 25,
    "start_time": "2023-02-09T20:43:57.955Z"
   },
   {
    "duration": 7,
    "start_time": "2023-02-09T20:43:59.659Z"
   },
   {
    "duration": 1186,
    "start_time": "2023-02-09T20:44:00.833Z"
   },
   {
    "duration": 1081,
    "start_time": "2023-02-09T20:44:05.419Z"
   },
   {
    "duration": 4,
    "start_time": "2023-02-09T20:44:12.255Z"
   },
   {
    "duration": 523,
    "start_time": "2023-02-09T20:44:12.262Z"
   },
   {
    "duration": 212,
    "start_time": "2023-02-09T20:44:12.787Z"
   },
   {
    "duration": 671,
    "start_time": "2023-02-09T20:44:13.001Z"
   },
   {
    "duration": 4,
    "start_time": "2023-02-09T20:44:13.674Z"
   },
   {
    "duration": 28,
    "start_time": "2023-02-09T20:44:13.680Z"
   },
   {
    "duration": 4,
    "start_time": "2023-02-09T20:44:13.709Z"
   },
   {
    "duration": 275,
    "start_time": "2023-02-09T20:44:13.714Z"
   },
   {
    "duration": 4,
    "start_time": "2023-02-09T20:44:13.999Z"
   },
   {
    "duration": 71,
    "start_time": "2023-02-09T20:44:14.005Z"
   },
   {
    "duration": 7,
    "start_time": "2023-02-09T20:44:14.078Z"
   },
   {
    "duration": 24,
    "start_time": "2023-02-09T20:44:14.086Z"
   },
   {
    "duration": 10,
    "start_time": "2023-02-09T20:44:14.112Z"
   },
   {
    "duration": 37,
    "start_time": "2023-02-09T20:44:14.124Z"
   },
   {
    "duration": 30,
    "start_time": "2023-02-09T20:44:14.163Z"
   },
   {
    "duration": 5,
    "start_time": "2023-02-09T20:44:14.195Z"
   },
   {
    "duration": 1286,
    "start_time": "2023-02-09T20:44:14.201Z"
   },
   {
    "duration": 998,
    "start_time": "2023-02-09T20:44:15.489Z"
   },
   {
    "duration": 828,
    "start_time": "2023-02-09T20:44:16.489Z"
   },
   {
    "duration": 4,
    "start_time": "2023-02-09T20:44:17.319Z"
   },
   {
    "duration": 239,
    "start_time": "2023-02-09T20:44:17.325Z"
   },
   {
    "duration": 242,
    "start_time": "2023-02-09T20:44:17.566Z"
   },
   {
    "duration": 6,
    "start_time": "2023-02-09T20:44:17.810Z"
   },
   {
    "duration": 1313,
    "start_time": "2023-02-09T20:44:17.818Z"
   },
   {
    "duration": 4,
    "start_time": "2023-02-09T20:44:19.133Z"
   },
   {
    "duration": 31,
    "start_time": "2023-02-09T20:44:19.138Z"
   },
   {
    "duration": 7,
    "start_time": "2023-02-09T20:44:19.171Z"
   },
   {
    "duration": 1243,
    "start_time": "2023-02-09T20:44:19.179Z"
   },
   {
    "duration": 1285,
    "start_time": "2023-02-09T20:44:20.423Z"
   },
   {
    "duration": 5,
    "start_time": "2023-02-09T20:44:39.672Z"
   },
   {
    "duration": 508,
    "start_time": "2023-02-09T20:44:39.679Z"
   },
   {
    "duration": 207,
    "start_time": "2023-02-09T20:44:40.189Z"
   },
   {
    "duration": 604,
    "start_time": "2023-02-09T20:44:40.398Z"
   },
   {
    "duration": 3,
    "start_time": "2023-02-09T20:44:41.004Z"
   },
   {
    "duration": 23,
    "start_time": "2023-02-09T20:44:41.008Z"
   },
   {
    "duration": 3,
    "start_time": "2023-02-09T20:44:41.032Z"
   },
   {
    "duration": 246,
    "start_time": "2023-02-09T20:44:41.037Z"
   },
   {
    "duration": 3,
    "start_time": "2023-02-09T20:44:41.285Z"
   },
   {
    "duration": 32,
    "start_time": "2023-02-09T20:44:41.298Z"
   },
   {
    "duration": 7,
    "start_time": "2023-02-09T20:44:41.332Z"
   },
   {
    "duration": 7,
    "start_time": "2023-02-09T20:44:41.341Z"
   },
   {
    "duration": 5,
    "start_time": "2023-02-09T20:44:41.350Z"
   },
   {
    "duration": 63,
    "start_time": "2023-02-09T20:44:41.357Z"
   },
   {
    "duration": 41,
    "start_time": "2023-02-09T20:44:41.422Z"
   },
   {
    "duration": 5,
    "start_time": "2023-02-09T20:44:41.465Z"
   },
   {
    "duration": 1172,
    "start_time": "2023-02-09T20:44:41.472Z"
   },
   {
    "duration": 1142,
    "start_time": "2023-02-09T20:44:42.645Z"
   },
   {
    "duration": 862,
    "start_time": "2023-02-09T20:44:43.788Z"
   },
   {
    "duration": 5,
    "start_time": "2023-02-09T20:44:44.651Z"
   },
   {
    "duration": 225,
    "start_time": "2023-02-09T20:44:44.657Z"
   },
   {
    "duration": 250,
    "start_time": "2023-02-09T20:44:44.884Z"
   },
   {
    "duration": 8,
    "start_time": "2023-02-09T20:44:45.136Z"
   },
   {
    "duration": 1341,
    "start_time": "2023-02-09T20:44:45.146Z"
   },
   {
    "duration": 12,
    "start_time": "2023-02-09T20:44:46.489Z"
   },
   {
    "duration": 34,
    "start_time": "2023-02-09T20:44:46.503Z"
   },
   {
    "duration": 16,
    "start_time": "2023-02-09T20:44:46.538Z"
   },
   {
    "duration": 1097,
    "start_time": "2023-02-09T20:44:46.558Z"
   },
   {
    "duration": 1385,
    "start_time": "2023-02-09T20:44:47.656Z"
   },
   {
    "duration": 6,
    "start_time": "2023-02-09T20:45:32.469Z"
   },
   {
    "duration": 542,
    "start_time": "2023-02-09T20:45:32.477Z"
   },
   {
    "duration": 245,
    "start_time": "2023-02-09T20:45:33.021Z"
   },
   {
    "duration": 663,
    "start_time": "2023-02-09T20:45:33.268Z"
   },
   {
    "duration": 5,
    "start_time": "2023-02-09T20:45:33.934Z"
   },
   {
    "duration": 43,
    "start_time": "2023-02-09T20:45:33.941Z"
   },
   {
    "duration": 11,
    "start_time": "2023-02-09T20:45:33.987Z"
   },
   {
    "duration": 334,
    "start_time": "2023-02-09T20:45:34.001Z"
   },
   {
    "duration": 4,
    "start_time": "2023-02-09T20:45:34.337Z"
   },
   {
    "duration": 45,
    "start_time": "2023-02-09T20:45:34.342Z"
   },
   {
    "duration": 7,
    "start_time": "2023-02-09T20:45:34.399Z"
   },
   {
    "duration": 6,
    "start_time": "2023-02-09T20:45:34.408Z"
   },
   {
    "duration": 9,
    "start_time": "2023-02-09T20:45:34.416Z"
   },
   {
    "duration": 47,
    "start_time": "2023-02-09T20:45:34.429Z"
   },
   {
    "duration": 32,
    "start_time": "2023-02-09T20:45:34.498Z"
   },
   {
    "duration": 4,
    "start_time": "2023-02-09T20:45:34.532Z"
   },
   {
    "duration": 1529,
    "start_time": "2023-02-09T20:45:34.538Z"
   },
   {
    "duration": 878,
    "start_time": "2023-02-09T20:45:36.069Z"
   },
   {
    "duration": 894,
    "start_time": "2023-02-09T20:45:36.948Z"
   },
   {
    "duration": 4,
    "start_time": "2023-02-09T20:45:37.844Z"
   },
   {
    "duration": 263,
    "start_time": "2023-02-09T20:45:37.849Z"
   },
   {
    "duration": 277,
    "start_time": "2023-02-09T20:45:38.113Z"
   },
   {
    "duration": 12,
    "start_time": "2023-02-09T20:45:38.392Z"
   },
   {
    "duration": 1518,
    "start_time": "2023-02-09T20:45:38.406Z"
   },
   {
    "duration": 5,
    "start_time": "2023-02-09T20:45:39.926Z"
   },
   {
    "duration": 35,
    "start_time": "2023-02-09T20:45:39.932Z"
   },
   {
    "duration": 8,
    "start_time": "2023-02-09T20:45:39.968Z"
   },
   {
    "duration": 1049,
    "start_time": "2023-02-09T20:45:39.978Z"
   },
   {
    "duration": 1429,
    "start_time": "2023-02-09T20:45:41.029Z"
   },
   {
    "duration": 6,
    "start_time": "2023-02-09T20:46:23.093Z"
   },
   {
    "duration": 555,
    "start_time": "2023-02-09T20:46:23.102Z"
   },
   {
    "duration": 217,
    "start_time": "2023-02-09T20:46:23.659Z"
   },
   {
    "duration": 745,
    "start_time": "2023-02-09T20:46:23.879Z"
   },
   {
    "duration": 4,
    "start_time": "2023-02-09T20:46:24.625Z"
   },
   {
    "duration": 28,
    "start_time": "2023-02-09T20:46:24.630Z"
   },
   {
    "duration": 15,
    "start_time": "2023-02-09T20:46:24.660Z"
   },
   {
    "duration": 290,
    "start_time": "2023-02-09T20:46:24.677Z"
   },
   {
    "duration": 4,
    "start_time": "2023-02-09T20:46:24.969Z"
   },
   {
    "duration": 52,
    "start_time": "2023-02-09T20:46:24.977Z"
   },
   {
    "duration": 9,
    "start_time": "2023-02-09T20:46:25.031Z"
   },
   {
    "duration": 11,
    "start_time": "2023-02-09T20:46:25.042Z"
   },
   {
    "duration": 9,
    "start_time": "2023-02-09T20:46:25.056Z"
   },
   {
    "duration": 75,
    "start_time": "2023-02-09T20:46:25.067Z"
   },
   {
    "duration": 54,
    "start_time": "2023-02-09T20:46:25.145Z"
   },
   {
    "duration": 8,
    "start_time": "2023-02-09T20:46:25.201Z"
   },
   {
    "duration": 1404,
    "start_time": "2023-02-09T20:46:25.212Z"
   },
   {
    "duration": 1428,
    "start_time": "2023-02-09T20:46:26.618Z"
   },
   {
    "duration": 937,
    "start_time": "2023-02-09T20:46:28.048Z"
   },
   {
    "duration": 5,
    "start_time": "2023-02-09T20:46:28.987Z"
   },
   {
    "duration": 265,
    "start_time": "2023-02-09T20:46:29.000Z"
   },
   {
    "duration": 265,
    "start_time": "2023-02-09T20:46:29.267Z"
   },
   {
    "duration": 8,
    "start_time": "2023-02-09T20:46:29.534Z"
   },
   {
    "duration": 1497,
    "start_time": "2023-02-09T20:46:29.544Z"
   },
   {
    "duration": 5,
    "start_time": "2023-02-09T20:46:31.042Z"
   },
   {
    "duration": 64,
    "start_time": "2023-02-09T20:46:31.049Z"
   },
   {
    "duration": 8,
    "start_time": "2023-02-09T20:46:31.115Z"
   },
   {
    "duration": 1255,
    "start_time": "2023-02-09T20:46:31.127Z"
   },
   {
    "duration": 1115,
    "start_time": "2023-02-09T20:46:32.384Z"
   },
   {
    "duration": 5,
    "start_time": "2023-02-09T20:47:03.010Z"
   },
   {
    "duration": 956,
    "start_time": "2023-02-09T20:47:03.017Z"
   },
   {
    "duration": 257,
    "start_time": "2023-02-09T20:47:03.975Z"
   },
   {
    "duration": 629,
    "start_time": "2023-02-09T20:47:04.235Z"
   },
   {
    "duration": 3,
    "start_time": "2023-02-09T20:47:04.865Z"
   },
   {
    "duration": 31,
    "start_time": "2023-02-09T20:47:04.870Z"
   },
   {
    "duration": 3,
    "start_time": "2023-02-09T20:47:04.904Z"
   },
   {
    "duration": 234,
    "start_time": "2023-02-09T20:47:04.908Z"
   },
   {
    "duration": 4,
    "start_time": "2023-02-09T20:47:05.144Z"
   },
   {
    "duration": 51,
    "start_time": "2023-02-09T20:47:05.150Z"
   },
   {
    "duration": 8,
    "start_time": "2023-02-09T20:47:05.202Z"
   },
   {
    "duration": 10,
    "start_time": "2023-02-09T20:47:05.212Z"
   },
   {
    "duration": 6,
    "start_time": "2023-02-09T20:47:05.224Z"
   },
   {
    "duration": 46,
    "start_time": "2023-02-09T20:47:05.232Z"
   },
   {
    "duration": 42,
    "start_time": "2023-02-09T20:47:05.298Z"
   },
   {
    "duration": 6,
    "start_time": "2023-02-09T20:47:05.342Z"
   },
   {
    "duration": 1245,
    "start_time": "2023-02-09T20:47:05.349Z"
   },
   {
    "duration": 938,
    "start_time": "2023-02-09T20:47:06.596Z"
   },
   {
    "duration": 864,
    "start_time": "2023-02-09T20:47:07.536Z"
   },
   {
    "duration": 5,
    "start_time": "2023-02-09T20:47:08.403Z"
   },
   {
    "duration": 741,
    "start_time": "2023-02-09T20:47:08.411Z"
   },
   {
    "duration": 295,
    "start_time": "2023-02-09T20:47:09.155Z"
   },
   {
    "duration": 8,
    "start_time": "2023-02-09T20:47:09.452Z"
   },
   {
    "duration": 1237,
    "start_time": "2023-02-09T20:47:09.462Z"
   },
   {
    "duration": 5,
    "start_time": "2023-02-09T20:47:10.701Z"
   },
   {
    "duration": 45,
    "start_time": "2023-02-09T20:47:10.708Z"
   },
   {
    "duration": 9,
    "start_time": "2023-02-09T20:47:10.755Z"
   },
   {
    "duration": 1100,
    "start_time": "2023-02-09T20:47:10.767Z"
   },
   {
    "duration": 1587,
    "start_time": "2023-02-09T20:47:11.869Z"
   },
   {
    "duration": 5,
    "start_time": "2023-02-09T20:47:32.786Z"
   },
   {
    "duration": 495,
    "start_time": "2023-02-09T20:47:32.793Z"
   },
   {
    "duration": 227,
    "start_time": "2023-02-09T20:47:33.290Z"
   },
   {
    "duration": 678,
    "start_time": "2023-02-09T20:47:33.520Z"
   },
   {
    "duration": 4,
    "start_time": "2023-02-09T20:47:34.199Z"
   },
   {
    "duration": 49,
    "start_time": "2023-02-09T20:47:34.205Z"
   },
   {
    "duration": 4,
    "start_time": "2023-02-09T20:47:34.256Z"
   },
   {
    "duration": 242,
    "start_time": "2023-02-09T20:47:34.262Z"
   },
   {
    "duration": 4,
    "start_time": "2023-02-09T20:47:34.505Z"
   },
   {
    "duration": 37,
    "start_time": "2023-02-09T20:47:34.512Z"
   },
   {
    "duration": 9,
    "start_time": "2023-02-09T20:47:34.551Z"
   },
   {
    "duration": 44,
    "start_time": "2023-02-09T20:47:34.562Z"
   },
   {
    "duration": 8,
    "start_time": "2023-02-09T20:47:34.608Z"
   },
   {
    "duration": 43,
    "start_time": "2023-02-09T20:47:34.617Z"
   },
   {
    "duration": 31,
    "start_time": "2023-02-09T20:47:34.662Z"
   },
   {
    "duration": 5,
    "start_time": "2023-02-09T20:47:34.698Z"
   },
   {
    "duration": 1211,
    "start_time": "2023-02-09T20:47:34.704Z"
   },
   {
    "duration": 907,
    "start_time": "2023-02-09T20:47:35.917Z"
   },
   {
    "duration": 1405,
    "start_time": "2023-02-09T20:47:36.825Z"
   },
   {
    "duration": 4,
    "start_time": "2023-02-09T20:47:38.232Z"
   },
   {
    "duration": 247,
    "start_time": "2023-02-09T20:47:38.238Z"
   },
   {
    "duration": 251,
    "start_time": "2023-02-09T20:47:38.487Z"
   },
   {
    "duration": 8,
    "start_time": "2023-02-09T20:47:38.739Z"
   },
   {
    "duration": 1077,
    "start_time": "2023-02-09T20:47:38.749Z"
   },
   {
    "duration": 5,
    "start_time": "2023-02-09T20:47:39.828Z"
   },
   {
    "duration": 42,
    "start_time": "2023-02-09T20:47:39.835Z"
   },
   {
    "duration": 21,
    "start_time": "2023-02-09T20:47:39.878Z"
   },
   {
    "duration": 1548,
    "start_time": "2023-02-09T20:47:39.903Z"
   },
   {
    "duration": 1160,
    "start_time": "2023-02-09T20:47:41.453Z"
   },
   {
    "duration": 34,
    "start_time": "2023-02-09T21:01:07.493Z"
   },
   {
    "duration": 4,
    "start_time": "2023-02-09T21:21:57.397Z"
   },
   {
    "duration": 3,
    "start_time": "2023-02-09T21:22:03.323Z"
   },
   {
    "duration": 10,
    "start_time": "2023-02-09T21:22:38.701Z"
   },
   {
    "duration": 13,
    "start_time": "2023-02-09T21:23:03.155Z"
   },
   {
    "duration": 4,
    "start_time": "2023-02-09T21:23:12.506Z"
   },
   {
    "duration": 4,
    "start_time": "2023-02-09T21:23:14.239Z"
   },
   {
    "duration": 10,
    "start_time": "2023-02-09T21:23:24.331Z"
   },
   {
    "duration": 4,
    "start_time": "2023-02-09T21:23:28.995Z"
   },
   {
    "duration": 6,
    "start_time": "2023-02-09T21:24:17.742Z"
   },
   {
    "duration": 15,
    "start_time": "2023-02-09T21:24:17.956Z"
   },
   {
    "duration": 13,
    "start_time": "2023-02-09T21:24:44.528Z"
   },
   {
    "duration": 5,
    "start_time": "2023-02-09T21:25:09.872Z"
   },
   {
    "duration": 537,
    "start_time": "2023-02-09T21:25:09.878Z"
   },
   {
    "duration": 222,
    "start_time": "2023-02-09T21:25:10.417Z"
   },
   {
    "duration": 607,
    "start_time": "2023-02-09T21:25:10.641Z"
   },
   {
    "duration": 3,
    "start_time": "2023-02-09T21:25:11.250Z"
   },
   {
    "duration": 19,
    "start_time": "2023-02-09T21:25:11.254Z"
   },
   {
    "duration": 2,
    "start_time": "2023-02-09T21:25:11.275Z"
   },
   {
    "duration": 222,
    "start_time": "2023-02-09T21:25:11.279Z"
   },
   {
    "duration": 3,
    "start_time": "2023-02-09T21:25:11.502Z"
   },
   {
    "duration": 36,
    "start_time": "2023-02-09T21:25:11.507Z"
   },
   {
    "duration": 6,
    "start_time": "2023-02-09T21:25:11.546Z"
   },
   {
    "duration": 9,
    "start_time": "2023-02-09T21:25:11.553Z"
   },
   {
    "duration": 7,
    "start_time": "2023-02-09T21:25:11.563Z"
   },
   {
    "duration": 50,
    "start_time": "2023-02-09T21:25:11.571Z"
   },
   {
    "duration": 28,
    "start_time": "2023-02-09T21:25:11.623Z"
   },
   {
    "duration": 4,
    "start_time": "2023-02-09T21:25:11.653Z"
   },
   {
    "duration": 1149,
    "start_time": "2023-02-09T21:25:11.659Z"
   },
   {
    "duration": 1445,
    "start_time": "2023-02-09T21:25:12.810Z"
   },
   {
    "duration": 800,
    "start_time": "2023-02-09T21:25:14.257Z"
   },
   {
    "duration": 4,
    "start_time": "2023-02-09T21:25:15.059Z"
   },
   {
    "duration": 222,
    "start_time": "2023-02-09T21:25:15.064Z"
   },
   {
    "duration": 229,
    "start_time": "2023-02-09T21:25:15.288Z"
   },
   {
    "duration": 6,
    "start_time": "2023-02-09T21:25:15.519Z"
   },
   {
    "duration": 1010,
    "start_time": "2023-02-09T21:25:15.527Z"
   },
   {
    "duration": 5,
    "start_time": "2023-02-09T21:25:16.538Z"
   },
   {
    "duration": 39,
    "start_time": "2023-02-09T21:25:16.545Z"
   },
   {
    "duration": 2,
    "start_time": "2023-02-09T21:25:16.586Z"
   },
   {
    "duration": 6,
    "start_time": "2023-02-09T21:25:16.598Z"
   },
   {
    "duration": 14,
    "start_time": "2023-02-09T21:25:37.568Z"
   },
   {
    "duration": 25,
    "start_time": "2023-02-09T21:25:47.950Z"
   },
   {
    "duration": 4,
    "start_time": "2023-02-09T21:25:57.963Z"
   },
   {
    "duration": 504,
    "start_time": "2023-02-09T21:25:57.969Z"
   },
   {
    "duration": 236,
    "start_time": "2023-02-09T21:25:58.475Z"
   },
   {
    "duration": 627,
    "start_time": "2023-02-09T21:25:58.713Z"
   },
   {
    "duration": 3,
    "start_time": "2023-02-09T21:25:59.342Z"
   },
   {
    "duration": 19,
    "start_time": "2023-02-09T21:25:59.346Z"
   },
   {
    "duration": 7,
    "start_time": "2023-02-09T21:25:59.367Z"
   },
   {
    "duration": 232,
    "start_time": "2023-02-09T21:25:59.376Z"
   },
   {
    "duration": 3,
    "start_time": "2023-02-09T21:25:59.610Z"
   },
   {
    "duration": 38,
    "start_time": "2023-02-09T21:25:59.614Z"
   },
   {
    "duration": 7,
    "start_time": "2023-02-09T21:25:59.654Z"
   },
   {
    "duration": 13,
    "start_time": "2023-02-09T21:25:59.662Z"
   },
   {
    "duration": 8,
    "start_time": "2023-02-09T21:25:59.677Z"
   },
   {
    "duration": 32,
    "start_time": "2023-02-09T21:25:59.701Z"
   },
   {
    "duration": 31,
    "start_time": "2023-02-09T21:25:59.735Z"
   },
   {
    "duration": 5,
    "start_time": "2023-02-09T21:25:59.767Z"
   },
   {
    "duration": 1217,
    "start_time": "2023-02-09T21:25:59.773Z"
   },
   {
    "duration": 1422,
    "start_time": "2023-02-09T21:26:00.992Z"
   },
   {
    "duration": 873,
    "start_time": "2023-02-09T21:26:02.415Z"
   },
   {
    "duration": 8,
    "start_time": "2023-02-09T21:26:03.291Z"
   },
   {
    "duration": 265,
    "start_time": "2023-02-09T21:26:03.300Z"
   },
   {
    "duration": 268,
    "start_time": "2023-02-09T21:26:03.567Z"
   },
   {
    "duration": 9,
    "start_time": "2023-02-09T21:26:03.836Z"
   },
   {
    "duration": 1226,
    "start_time": "2023-02-09T21:26:03.847Z"
   },
   {
    "duration": 7,
    "start_time": "2023-02-09T21:26:05.074Z"
   },
   {
    "duration": 69,
    "start_time": "2023-02-09T21:26:05.082Z"
   },
   {
    "duration": 4,
    "start_time": "2023-02-09T21:26:05.153Z"
   },
   {
    "duration": 14,
    "start_time": "2023-02-09T21:26:05.158Z"
   },
   {
    "duration": 36,
    "start_time": "2023-02-09T21:26:05.174Z"
   },
   {
    "duration": 41,
    "start_time": "2023-02-09T21:48:19.184Z"
   },
   {
    "duration": 4,
    "start_time": "2023-02-09T21:48:56.129Z"
   },
   {
    "duration": 47,
    "start_time": "2023-02-09T21:48:57.419Z"
   },
   {
    "duration": 3,
    "start_time": "2023-02-09T21:48:59.873Z"
   },
   {
    "duration": 8,
    "start_time": "2023-02-09T21:50:07.370Z"
   },
   {
    "duration": 9,
    "start_time": "2023-02-09T21:50:22.065Z"
   },
   {
    "duration": 9,
    "start_time": "2023-02-09T21:50:38.226Z"
   },
   {
    "duration": 4,
    "start_time": "2023-02-09T21:50:41.419Z"
   },
   {
    "duration": 14,
    "start_time": "2023-02-09T21:51:02.457Z"
   },
   {
    "duration": 10,
    "start_time": "2023-02-09T21:51:46.672Z"
   },
   {
    "duration": 5,
    "start_time": "2023-02-09T21:52:00.856Z"
   },
   {
    "duration": 17,
    "start_time": "2023-02-09T21:52:16.289Z"
   },
   {
    "duration": 9,
    "start_time": "2023-02-09T21:52:49.156Z"
   },
   {
    "duration": 4,
    "start_time": "2023-02-09T21:52:57.887Z"
   },
   {
    "duration": 13,
    "start_time": "2023-02-09T21:53:10.828Z"
   },
   {
    "duration": 13,
    "start_time": "2023-02-09T21:53:32.227Z"
   },
   {
    "duration": 11,
    "start_time": "2023-02-09T21:53:47.652Z"
   },
   {
    "duration": 3,
    "start_time": "2023-02-09T21:54:27.855Z"
   },
   {
    "duration": 3,
    "start_time": "2023-02-09T21:54:29.556Z"
   },
   {
    "duration": 10,
    "start_time": "2023-02-09T21:54:37.653Z"
   },
   {
    "duration": 15,
    "start_time": "2023-02-09T21:54:42.619Z"
   },
   {
    "duration": 4,
    "start_time": "2023-02-09T21:55:03.972Z"
   },
   {
    "duration": 544,
    "start_time": "2023-02-09T21:55:03.979Z"
   },
   {
    "duration": 276,
    "start_time": "2023-02-09T21:55:04.525Z"
   },
   {
    "duration": 628,
    "start_time": "2023-02-09T21:55:04.802Z"
   },
   {
    "duration": 3,
    "start_time": "2023-02-09T21:55:05.432Z"
   },
   {
    "duration": 38,
    "start_time": "2023-02-09T21:55:05.437Z"
   },
   {
    "duration": 7,
    "start_time": "2023-02-09T21:55:05.477Z"
   },
   {
    "duration": 234,
    "start_time": "2023-02-09T21:55:05.486Z"
   },
   {
    "duration": 4,
    "start_time": "2023-02-09T21:55:05.722Z"
   },
   {
    "duration": 41,
    "start_time": "2023-02-09T21:55:05.727Z"
   },
   {
    "duration": 8,
    "start_time": "2023-02-09T21:55:05.769Z"
   },
   {
    "duration": 23,
    "start_time": "2023-02-09T21:55:05.780Z"
   },
   {
    "duration": 20,
    "start_time": "2023-02-09T21:55:05.804Z"
   },
   {
    "duration": 36,
    "start_time": "2023-02-09T21:55:05.827Z"
   },
   {
    "duration": 41,
    "start_time": "2023-02-09T21:55:05.865Z"
   },
   {
    "duration": 5,
    "start_time": "2023-02-09T21:55:05.908Z"
   },
   {
    "duration": 1790,
    "start_time": "2023-02-09T21:55:05.915Z"
   },
   {
    "duration": 854,
    "start_time": "2023-02-09T21:55:07.707Z"
   },
   {
    "duration": 818,
    "start_time": "2023-02-09T21:55:08.562Z"
   },
   {
    "duration": 4,
    "start_time": "2023-02-09T21:55:09.382Z"
   },
   {
    "duration": 273,
    "start_time": "2023-02-09T21:55:09.387Z"
   },
   {
    "duration": 259,
    "start_time": "2023-02-09T21:55:09.662Z"
   },
   {
    "duration": 7,
    "start_time": "2023-02-09T21:55:09.923Z"
   },
   {
    "duration": 1087,
    "start_time": "2023-02-09T21:55:09.931Z"
   },
   {
    "duration": 4,
    "start_time": "2023-02-09T21:55:11.020Z"
   },
   {
    "duration": 59,
    "start_time": "2023-02-09T21:55:11.026Z"
   },
   {
    "duration": 14,
    "start_time": "2023-02-09T21:55:11.086Z"
   },
   {
    "duration": 11,
    "start_time": "2023-02-09T21:55:11.102Z"
   },
   {
    "duration": 5,
    "start_time": "2023-02-09T21:55:11.114Z"
   },
   {
    "duration": 5,
    "start_time": "2023-02-09T21:55:11.121Z"
   },
   {
    "duration": 21,
    "start_time": "2023-02-09T21:55:11.127Z"
   },
   {
    "duration": 15,
    "start_time": "2023-02-09T21:55:26.921Z"
   },
   {
    "duration": 17,
    "start_time": "2023-02-09T21:57:28.204Z"
   },
   {
    "duration": 4,
    "start_time": "2023-02-09T21:58:16.435Z"
   },
   {
    "duration": 7,
    "start_time": "2023-02-09T21:59:10.286Z"
   },
   {
    "duration": 5,
    "start_time": "2023-02-09T21:59:48.694Z"
   },
   {
    "duration": 5,
    "start_time": "2023-02-09T21:59:56.736Z"
   },
   {
    "duration": 7,
    "start_time": "2023-02-09T22:00:10.019Z"
   },
   {
    "duration": 6,
    "start_time": "2023-02-09T22:00:17.333Z"
   },
   {
    "duration": 10,
    "start_time": "2023-02-09T22:00:22.962Z"
   },
   {
    "duration": 11,
    "start_time": "2023-02-09T22:01:47.576Z"
   },
   {
    "duration": 6,
    "start_time": "2023-02-09T22:01:51.799Z"
   },
   {
    "duration": 5,
    "start_time": "2023-02-09T22:02:01.293Z"
   },
   {
    "duration": 5,
    "start_time": "2023-02-09T22:02:11.256Z"
   },
   {
    "duration": 14,
    "start_time": "2023-02-09T22:02:13.630Z"
   },
   {
    "duration": 5,
    "start_time": "2023-02-09T22:02:28.187Z"
   },
   {
    "duration": 625,
    "start_time": "2023-02-09T22:02:28.194Z"
   },
   {
    "duration": 305,
    "start_time": "2023-02-09T22:02:28.821Z"
   },
   {
    "duration": 695,
    "start_time": "2023-02-09T22:02:29.128Z"
   },
   {
    "duration": 3,
    "start_time": "2023-02-09T22:02:29.825Z"
   },
   {
    "duration": 25,
    "start_time": "2023-02-09T22:02:29.830Z"
   },
   {
    "duration": 14,
    "start_time": "2023-02-09T22:02:29.858Z"
   },
   {
    "duration": 249,
    "start_time": "2023-02-09T22:02:29.873Z"
   },
   {
    "duration": 4,
    "start_time": "2023-02-09T22:02:30.124Z"
   },
   {
    "duration": 54,
    "start_time": "2023-02-09T22:02:30.131Z"
   },
   {
    "duration": 8,
    "start_time": "2023-02-09T22:02:30.187Z"
   },
   {
    "duration": 38,
    "start_time": "2023-02-09T22:02:30.199Z"
   },
   {
    "duration": 23,
    "start_time": "2023-02-09T22:02:30.239Z"
   },
   {
    "duration": 55,
    "start_time": "2023-02-09T22:02:30.264Z"
   },
   {
    "duration": 33,
    "start_time": "2023-02-09T22:02:30.321Z"
   },
   {
    "duration": 19,
    "start_time": "2023-02-09T22:02:30.356Z"
   },
   {
    "duration": 1947,
    "start_time": "2023-02-09T22:02:30.377Z"
   },
   {
    "duration": 869,
    "start_time": "2023-02-09T22:02:32.326Z"
   },
   {
    "duration": 860,
    "start_time": "2023-02-09T22:02:33.199Z"
   },
   {
    "duration": 4,
    "start_time": "2023-02-09T22:02:34.061Z"
   },
   {
    "duration": 241,
    "start_time": "2023-02-09T22:02:34.066Z"
   },
   {
    "duration": 255,
    "start_time": "2023-02-09T22:02:34.309Z"
   },
   {
    "duration": 8,
    "start_time": "2023-02-09T22:02:34.566Z"
   },
   {
    "duration": 1144,
    "start_time": "2023-02-09T22:02:34.577Z"
   },
   {
    "duration": 5,
    "start_time": "2023-02-09T22:02:35.723Z"
   },
   {
    "duration": 55,
    "start_time": "2023-02-09T22:02:35.730Z"
   },
   {
    "duration": 16,
    "start_time": "2023-02-09T22:02:35.786Z"
   },
   {
    "duration": 10,
    "start_time": "2023-02-09T22:02:35.804Z"
   },
   {
    "duration": 12,
    "start_time": "2023-02-09T22:02:35.815Z"
   },
   {
    "duration": 13,
    "start_time": "2023-02-09T22:02:35.829Z"
   },
   {
    "duration": 6,
    "start_time": "2023-02-09T22:02:35.844Z"
   },
   {
    "duration": 11,
    "start_time": "2023-02-09T22:02:35.851Z"
   },
   {
    "duration": 10,
    "start_time": "2023-02-09T22:14:39.408Z"
   },
   {
    "duration": 4,
    "start_time": "2023-02-09T22:15:09.721Z"
   },
   {
    "duration": 9,
    "start_time": "2023-02-09T22:15:16.259Z"
   },
   {
    "duration": 5,
    "start_time": "2023-02-09T22:15:29.201Z"
   },
   {
    "duration": 3,
    "start_time": "2023-02-09T22:15:35.038Z"
   },
   {
    "duration": 5,
    "start_time": "2023-02-09T22:15:37.619Z"
   },
   {
    "duration": 9,
    "start_time": "2023-02-09T22:15:38.873Z"
   },
   {
    "duration": 2,
    "start_time": "2023-02-09T22:15:48.013Z"
   },
   {
    "duration": 902,
    "start_time": "2023-02-09T22:15:49.904Z"
   },
   {
    "duration": 2431,
    "start_time": "2023-02-09T22:16:02.782Z"
   },
   {
    "duration": 3,
    "start_time": "2023-02-09T22:17:14.612Z"
   },
   {
    "duration": 2526,
    "start_time": "2023-02-09T22:17:17.084Z"
   },
   {
    "duration": 2526,
    "start_time": "2023-02-09T22:18:21.285Z"
   },
   {
    "duration": 3,
    "start_time": "2023-02-09T22:18:46.721Z"
   },
   {
    "duration": 2772,
    "start_time": "2023-02-09T22:18:49.433Z"
   },
   {
    "duration": 3,
    "start_time": "2023-02-09T22:19:00.469Z"
   },
   {
    "duration": 17,
    "start_time": "2023-02-09T22:19:02.931Z"
   },
   {
    "duration": 3,
    "start_time": "2023-02-09T22:19:11.630Z"
   },
   {
    "duration": 17,
    "start_time": "2023-02-09T22:19:13.632Z"
   },
   {
    "duration": 2,
    "start_time": "2023-02-09T22:19:45.407Z"
   },
   {
    "duration": 21,
    "start_time": "2023-02-09T22:19:47.610Z"
   },
   {
    "duration": 3,
    "start_time": "2023-02-09T22:20:54.880Z"
   },
   {
    "duration": 3,
    "start_time": "2023-02-09T22:21:02.637Z"
   },
   {
    "duration": 20,
    "start_time": "2023-02-09T22:21:04.281Z"
   },
   {
    "duration": 3,
    "start_time": "2023-02-09T22:21:08.775Z"
   },
   {
    "duration": 19,
    "start_time": "2023-02-09T22:21:10.297Z"
   },
   {
    "duration": 3,
    "start_time": "2023-02-09T22:21:13.062Z"
   },
   {
    "duration": 16,
    "start_time": "2023-02-09T22:21:14.096Z"
   },
   {
    "duration": 6,
    "start_time": "2023-02-09T22:21:27.395Z"
   },
   {
    "duration": 551,
    "start_time": "2023-02-09T22:21:27.403Z"
   },
   {
    "duration": 225,
    "start_time": "2023-02-09T22:21:27.956Z"
   },
   {
    "duration": 689,
    "start_time": "2023-02-09T22:21:28.185Z"
   },
   {
    "duration": 3,
    "start_time": "2023-02-09T22:21:28.876Z"
   },
   {
    "duration": 30,
    "start_time": "2023-02-09T22:21:28.881Z"
   },
   {
    "duration": 3,
    "start_time": "2023-02-09T22:21:28.913Z"
   },
   {
    "duration": 259,
    "start_time": "2023-02-09T22:21:28.918Z"
   },
   {
    "duration": 5,
    "start_time": "2023-02-09T22:21:29.179Z"
   },
   {
    "duration": 33,
    "start_time": "2023-02-09T22:21:29.201Z"
   },
   {
    "duration": 7,
    "start_time": "2023-02-09T22:21:29.236Z"
   },
   {
    "duration": 7,
    "start_time": "2023-02-09T22:21:29.245Z"
   },
   {
    "duration": 5,
    "start_time": "2023-02-09T22:21:29.254Z"
   },
   {
    "duration": 68,
    "start_time": "2023-02-09T22:21:29.261Z"
   },
   {
    "duration": 31,
    "start_time": "2023-02-09T22:21:29.331Z"
   },
   {
    "duration": 4,
    "start_time": "2023-02-09T22:21:29.364Z"
   },
   {
    "duration": 1851,
    "start_time": "2023-02-09T22:21:29.370Z"
   },
   {
    "duration": 813,
    "start_time": "2023-02-09T22:21:31.223Z"
   },
   {
    "duration": 764,
    "start_time": "2023-02-09T22:21:32.038Z"
   },
   {
    "duration": 4,
    "start_time": "2023-02-09T22:21:32.803Z"
   },
   {
    "duration": 221,
    "start_time": "2023-02-09T22:21:32.809Z"
   },
   {
    "duration": 230,
    "start_time": "2023-02-09T22:21:33.032Z"
   },
   {
    "duration": 8,
    "start_time": "2023-02-09T22:21:33.263Z"
   },
   {
    "duration": 1049,
    "start_time": "2023-02-09T22:21:33.273Z"
   },
   {
    "duration": 4,
    "start_time": "2023-02-09T22:21:34.324Z"
   },
   {
    "duration": 75,
    "start_time": "2023-02-09T22:21:34.330Z"
   },
   {
    "duration": 4,
    "start_time": "2023-02-09T22:21:34.407Z"
   },
   {
    "duration": 20,
    "start_time": "2023-02-09T22:21:34.414Z"
   },
   {
    "duration": 22,
    "start_time": "2023-02-09T22:21:34.436Z"
   },
   {
    "duration": 6,
    "start_time": "2023-02-09T22:21:34.459Z"
   },
   {
    "duration": 6,
    "start_time": "2023-02-09T22:21:34.467Z"
   },
   {
    "duration": 17,
    "start_time": "2023-02-09T22:21:34.474Z"
   },
   {
    "duration": 11,
    "start_time": "2023-02-09T22:21:34.493Z"
   },
   {
    "duration": 3700,
    "start_time": "2023-02-09T22:21:34.505Z"
   },
   {
    "duration": 55,
    "start_time": "2023-02-11T09:41:02.180Z"
   },
   {
    "duration": 1954,
    "start_time": "2023-02-11T09:41:07.099Z"
   },
   {
    "duration": 2138,
    "start_time": "2023-02-11T09:41:09.056Z"
   },
   {
    "duration": 423,
    "start_time": "2023-02-11T09:41:11.195Z"
   },
   {
    "duration": 1291,
    "start_time": "2023-02-11T09:41:11.620Z"
   },
   {
    "duration": 3,
    "start_time": "2023-02-11T09:41:12.914Z"
   },
   {
    "duration": 34,
    "start_time": "2023-02-11T09:41:12.919Z"
   },
   {
    "duration": 4,
    "start_time": "2023-02-11T09:41:12.955Z"
   },
   {
    "duration": 296,
    "start_time": "2023-02-11T09:41:12.961Z"
   },
   {
    "duration": 5,
    "start_time": "2023-02-11T09:41:13.265Z"
   },
   {
    "duration": 58,
    "start_time": "2023-02-11T09:41:13.272Z"
   },
   {
    "duration": 15,
    "start_time": "2023-02-11T09:41:13.332Z"
   },
   {
    "duration": 48,
    "start_time": "2023-02-11T09:41:13.352Z"
   },
   {
    "duration": 17,
    "start_time": "2023-02-11T09:41:13.403Z"
   },
   {
    "duration": 49,
    "start_time": "2023-02-11T09:41:13.425Z"
   },
   {
    "duration": 70,
    "start_time": "2023-02-11T09:41:13.477Z"
   },
   {
    "duration": 11,
    "start_time": "2023-02-11T09:41:13.558Z"
   },
   {
    "duration": 1648,
    "start_time": "2023-02-11T09:41:13.571Z"
   },
   {
    "duration": 1223,
    "start_time": "2023-02-11T09:41:15.221Z"
   },
   {
    "duration": 1215,
    "start_time": "2023-02-11T09:41:16.446Z"
   },
   {
    "duration": 23,
    "start_time": "2023-02-11T09:41:17.668Z"
   },
   {
    "duration": 381,
    "start_time": "2023-02-11T09:41:17.694Z"
   },
   {
    "duration": 334,
    "start_time": "2023-02-11T09:41:18.077Z"
   },
   {
    "duration": 10,
    "start_time": "2023-02-11T09:41:18.414Z"
   },
   {
    "duration": 1754,
    "start_time": "2023-02-11T09:41:18.445Z"
   },
   {
    "duration": 9,
    "start_time": "2023-02-11T09:41:20.204Z"
   },
   {
    "duration": 114,
    "start_time": "2023-02-11T09:41:20.216Z"
   },
   {
    "duration": 11,
    "start_time": "2023-02-11T09:41:20.332Z"
   },
   {
    "duration": 57,
    "start_time": "2023-02-11T09:41:20.347Z"
   },
   {
    "duration": 8,
    "start_time": "2023-02-11T09:41:20.407Z"
   },
   {
    "duration": 24,
    "start_time": "2023-02-11T09:41:20.418Z"
   },
   {
    "duration": 49,
    "start_time": "2023-02-11T09:41:20.450Z"
   },
   {
    "duration": 9,
    "start_time": "2023-02-11T09:41:20.500Z"
   },
   {
    "duration": 19,
    "start_time": "2023-02-11T09:41:20.510Z"
   },
   {
    "duration": 10765,
    "start_time": "2023-02-11T09:41:20.530Z"
   },
   {
    "duration": 166,
    "start_time": "2023-02-11T09:41:31.345Z"
   },
   {
    "duration": 19,
    "start_time": "2023-02-11T09:42:57.413Z"
   },
   {
    "duration": 9,
    "start_time": "2023-02-11T09:45:48.690Z"
   },
   {
    "duration": 731,
    "start_time": "2023-02-11T09:45:48.701Z"
   },
   {
    "duration": 279,
    "start_time": "2023-02-11T09:45:49.435Z"
   },
   {
    "duration": 776,
    "start_time": "2023-02-11T09:45:49.717Z"
   },
   {
    "duration": 4,
    "start_time": "2023-02-11T09:45:50.494Z"
   },
   {
    "duration": 17,
    "start_time": "2023-02-11T09:45:50.500Z"
   },
   {
    "duration": 4,
    "start_time": "2023-02-11T09:45:50.519Z"
   },
   {
    "duration": 305,
    "start_time": "2023-02-11T09:45:50.543Z"
   },
   {
    "duration": 15,
    "start_time": "2023-02-11T09:45:50.854Z"
   },
   {
    "duration": 49,
    "start_time": "2023-02-11T09:45:50.876Z"
   },
   {
    "duration": 9,
    "start_time": "2023-02-11T09:45:50.927Z"
   },
   {
    "duration": 23,
    "start_time": "2023-02-11T09:45:50.937Z"
   },
   {
    "duration": 37,
    "start_time": "2023-02-11T09:45:50.964Z"
   },
   {
    "duration": 34,
    "start_time": "2023-02-11T09:45:51.003Z"
   },
   {
    "duration": 44,
    "start_time": "2023-02-11T09:45:51.039Z"
   },
   {
    "duration": 13,
    "start_time": "2023-02-11T09:45:51.087Z"
   },
   {
    "duration": 1632,
    "start_time": "2023-02-11T09:45:51.101Z"
   },
   {
    "duration": 1067,
    "start_time": "2023-02-11T09:45:52.741Z"
   },
   {
    "duration": 1218,
    "start_time": "2023-02-11T09:45:53.810Z"
   },
   {
    "duration": 23,
    "start_time": "2023-02-11T09:45:55.030Z"
   },
   {
    "duration": 314,
    "start_time": "2023-02-11T09:45:55.059Z"
   },
   {
    "duration": 287,
    "start_time": "2023-02-11T09:45:55.378Z"
   },
   {
    "duration": 15,
    "start_time": "2023-02-11T09:45:55.675Z"
   },
   {
    "duration": 1494,
    "start_time": "2023-02-11T09:45:55.693Z"
   },
   {
    "duration": 5,
    "start_time": "2023-02-11T09:45:57.192Z"
   },
   {
    "duration": 75,
    "start_time": "2023-02-11T09:45:57.199Z"
   },
   {
    "duration": 5,
    "start_time": "2023-02-11T09:45:57.278Z"
   },
   {
    "duration": 6,
    "start_time": "2023-02-11T09:45:57.287Z"
   },
   {
    "duration": 10,
    "start_time": "2023-02-11T09:45:57.295Z"
   },
   {
    "duration": 4,
    "start_time": "2023-02-11T09:45:57.307Z"
   },
   {
    "duration": 6,
    "start_time": "2023-02-11T09:45:57.313Z"
   },
   {
    "duration": 23,
    "start_time": "2023-02-11T09:45:57.320Z"
   },
   {
    "duration": 44,
    "start_time": "2023-02-11T09:45:57.345Z"
   },
   {
    "duration": 17806,
    "start_time": "2023-02-11T09:45:57.391Z"
   },
   {
    "duration": 89,
    "start_time": "2023-02-11T09:46:15.200Z"
   },
   {
    "duration": 11,
    "start_time": "2023-02-11T10:49:56.204Z"
   },
   {
    "duration": 5,
    "start_time": "2023-02-11T10:50:59.209Z"
   },
   {
    "duration": 14,
    "start_time": "2023-02-11T10:51:06.910Z"
   },
   {
    "duration": 6,
    "start_time": "2023-02-11T10:51:22.904Z"
   },
   {
    "duration": 13,
    "start_time": "2023-02-11T10:51:28.083Z"
   },
   {
    "duration": 17,
    "start_time": "2023-02-11T10:51:39.001Z"
   },
   {
    "duration": 33,
    "start_time": "2023-02-11T10:52:17.252Z"
   },
   {
    "duration": 20,
    "start_time": "2023-02-11T10:52:22.913Z"
   },
   {
    "duration": 27091,
    "start_time": "2023-02-11T10:52:42.723Z"
   },
   {
    "duration": 12,
    "start_time": "2023-02-11T10:59:32.418Z"
   },
   {
    "duration": 13,
    "start_time": "2023-02-11T10:59:57.926Z"
   },
   {
    "duration": 13,
    "start_time": "2023-02-11T11:00:04.901Z"
   },
   {
    "duration": 17,
    "start_time": "2023-02-11T11:00:29.120Z"
   },
   {
    "duration": 858207,
    "start_time": "2023-02-11T11:00:37.169Z"
   },
   {
    "duration": 5,
    "start_time": "2023-02-11T11:15:30.865Z"
   },
   {
    "duration": 12,
    "start_time": "2023-02-11T11:24:26.954Z"
   },
   {
    "duration": 5,
    "start_time": "2023-02-11T11:24:59.754Z"
   },
   {
    "duration": 6,
    "start_time": "2023-02-11T11:27:33.764Z"
   },
   {
    "duration": 13,
    "start_time": "2023-02-11T11:29:22.454Z"
   },
   {
    "duration": 22587,
    "start_time": "2023-02-11T11:29:36.462Z"
   },
   {
    "duration": 2324926,
    "start_time": "2023-02-11T11:31:51.705Z"
   },
   {
    "duration": 67,
    "start_time": "2023-02-11T12:16:59.744Z"
   },
   {
    "duration": 63,
    "start_time": "2023-02-11T12:17:06.423Z"
   },
   {
    "duration": 47,
    "start_time": "2023-02-11T12:17:28.672Z"
   },
   {
    "duration": 55,
    "start_time": "2023-02-11T12:17:40.620Z"
   },
   {
    "duration": 52,
    "start_time": "2023-02-11T12:17:50.517Z"
   },
   {
    "duration": 6,
    "start_time": "2023-02-11T12:28:06.427Z"
   },
   {
    "duration": 5,
    "start_time": "2023-02-11T12:28:14.059Z"
   },
   {
    "duration": 5,
    "start_time": "2023-02-11T12:28:16.928Z"
   },
   {
    "duration": 5,
    "start_time": "2023-02-11T12:28:19.576Z"
   },
   {
    "duration": 5,
    "start_time": "2023-02-11T12:28:33.703Z"
   },
   {
    "duration": 6,
    "start_time": "2023-02-11T12:28:37.420Z"
   },
   {
    "duration": 4,
    "start_time": "2023-02-11T12:29:39.907Z"
   },
   {
    "duration": 4,
    "start_time": "2023-02-11T12:29:46.576Z"
   },
   {
    "duration": 3,
    "start_time": "2023-02-11T12:29:55.892Z"
   },
   {
    "duration": 5,
    "start_time": "2023-02-11T12:30:01.261Z"
   },
   {
    "duration": 4,
    "start_time": "2023-02-11T12:30:10.412Z"
   },
   {
    "duration": 5,
    "start_time": "2023-02-11T12:30:12.040Z"
   },
   {
    "duration": 5,
    "start_time": "2023-02-11T12:32:57.201Z"
   },
   {
    "duration": 1101,
    "start_time": "2023-02-11T12:32:59.682Z"
   },
   {
    "duration": 6,
    "start_time": "2023-02-11T12:33:05.834Z"
   },
   {
    "duration": 1020,
    "start_time": "2023-02-11T12:33:07.672Z"
   },
   {
    "duration": 5,
    "start_time": "2023-02-11T12:33:41.089Z"
   },
   {
    "duration": 1147,
    "start_time": "2023-02-11T12:33:42.776Z"
   },
   {
    "duration": 1091,
    "start_time": "2023-02-11T12:34:09.540Z"
   },
   {
    "duration": 8,
    "start_time": "2023-02-11T12:34:35.176Z"
   },
   {
    "duration": 599,
    "start_time": "2023-02-11T12:34:35.227Z"
   },
   {
    "duration": 273,
    "start_time": "2023-02-11T12:34:35.828Z"
   },
   {
    "duration": 660,
    "start_time": "2023-02-11T12:34:36.103Z"
   },
   {
    "duration": 3,
    "start_time": "2023-02-11T12:34:36.766Z"
   },
   {
    "duration": 46,
    "start_time": "2023-02-11T12:34:36.771Z"
   },
   {
    "duration": 4,
    "start_time": "2023-02-11T12:34:36.819Z"
   },
   {
    "duration": 265,
    "start_time": "2023-02-11T12:34:36.825Z"
   },
   {
    "duration": 5,
    "start_time": "2023-02-11T12:34:37.092Z"
   },
   {
    "duration": 59,
    "start_time": "2023-02-11T12:34:37.100Z"
   },
   {
    "duration": 10,
    "start_time": "2023-02-11T12:34:37.163Z"
   },
   {
    "duration": 8,
    "start_time": "2023-02-11T12:34:37.175Z"
   },
   {
    "duration": 61,
    "start_time": "2023-02-11T12:34:37.186Z"
   },
   {
    "duration": 34,
    "start_time": "2023-02-11T12:34:37.249Z"
   },
   {
    "duration": 5,
    "start_time": "2023-02-11T12:34:37.284Z"
   },
   {
    "duration": 1552,
    "start_time": "2023-02-11T12:34:37.291Z"
   },
   {
    "duration": 1009,
    "start_time": "2023-02-11T12:34:38.845Z"
   },
   {
    "duration": 1133,
    "start_time": "2023-02-11T12:34:39.857Z"
   },
   {
    "duration": 5,
    "start_time": "2023-02-11T12:34:40.992Z"
   },
   {
    "duration": 273,
    "start_time": "2023-02-11T12:34:40.999Z"
   },
   {
    "duration": 375,
    "start_time": "2023-02-11T12:34:41.274Z"
   },
   {
    "duration": 10,
    "start_time": "2023-02-11T12:34:41.651Z"
   },
   {
    "duration": 1380,
    "start_time": "2023-02-11T12:34:41.663Z"
   },
   {
    "duration": 5,
    "start_time": "2023-02-11T12:34:43.045Z"
   },
   {
    "duration": 58,
    "start_time": "2023-02-11T12:34:43.052Z"
   },
   {
    "duration": 6,
    "start_time": "2023-02-11T12:34:43.112Z"
   },
   {
    "duration": 7,
    "start_time": "2023-02-11T12:34:43.140Z"
   },
   {
    "duration": 12,
    "start_time": "2023-02-11T12:34:43.149Z"
   },
   {
    "duration": 4,
    "start_time": "2023-02-11T12:34:43.165Z"
   },
   {
    "duration": 5,
    "start_time": "2023-02-11T12:34:43.171Z"
   },
   {
    "duration": 7,
    "start_time": "2023-02-11T12:34:43.178Z"
   },
   {
    "duration": 6,
    "start_time": "2023-02-11T12:34:43.187Z"
   },
   {
    "duration": 191,
    "start_time": "2023-02-11T12:34:43.195Z"
   },
   {
    "duration": 3,
    "start_time": "2023-02-11T12:34:43.388Z"
   },
   {
    "duration": 6254,
    "start_time": "2023-02-11T12:34:43.393Z"
   },
   {
    "duration": 25407,
    "start_time": "2023-02-11T12:34:49.654Z"
   },
   {
    "duration": 1582,
    "start_time": "2023-02-11T12:37:46.930Z"
   },
   {
    "duration": 628,
    "start_time": "2023-02-11T12:37:48.514Z"
   },
   {
    "duration": 303,
    "start_time": "2023-02-11T12:37:49.144Z"
   },
   {
    "duration": 720,
    "start_time": "2023-02-11T12:37:49.449Z"
   },
   {
    "duration": 4,
    "start_time": "2023-02-11T12:37:50.171Z"
   },
   {
    "duration": 25,
    "start_time": "2023-02-11T12:37:50.177Z"
   },
   {
    "duration": 12,
    "start_time": "2023-02-11T12:37:50.204Z"
   },
   {
    "duration": 269,
    "start_time": "2023-02-11T12:37:50.219Z"
   },
   {
    "duration": 3,
    "start_time": "2023-02-11T12:37:50.490Z"
   },
   {
    "duration": 50,
    "start_time": "2023-02-11T12:37:50.495Z"
   },
   {
    "duration": 7,
    "start_time": "2023-02-11T12:37:50.547Z"
   },
   {
    "duration": 6,
    "start_time": "2023-02-11T12:37:50.556Z"
   },
   {
    "duration": 39,
    "start_time": "2023-02-11T12:37:50.563Z"
   },
   {
    "duration": 65,
    "start_time": "2023-02-11T12:37:50.605Z"
   },
   {
    "duration": 5,
    "start_time": "2023-02-11T12:37:50.672Z"
   },
   {
    "duration": 1368,
    "start_time": "2023-02-11T12:37:50.680Z"
   },
   {
    "duration": 1070,
    "start_time": "2023-02-11T12:37:52.051Z"
   },
   {
    "duration": 884,
    "start_time": "2023-02-11T12:37:53.123Z"
   },
   {
    "duration": 6,
    "start_time": "2023-02-11T12:37:54.009Z"
   },
   {
    "duration": 277,
    "start_time": "2023-02-11T12:37:54.017Z"
   },
   {
    "duration": 268,
    "start_time": "2023-02-11T12:37:54.295Z"
   },
   {
    "duration": 9,
    "start_time": "2023-02-11T12:37:54.565Z"
   },
   {
    "duration": 1273,
    "start_time": "2023-02-11T12:37:54.575Z"
   },
   {
    "duration": 4,
    "start_time": "2023-02-11T12:37:55.850Z"
   },
   {
    "duration": 64,
    "start_time": "2023-02-11T12:37:55.856Z"
   },
   {
    "duration": 131,
    "start_time": "2023-02-11T12:37:55.921Z"
   },
   {
    "duration": 0,
    "start_time": "2023-02-11T12:37:56.054Z"
   },
   {
    "duration": 0,
    "start_time": "2023-02-11T12:37:56.055Z"
   },
   {
    "duration": 0,
    "start_time": "2023-02-11T12:37:56.056Z"
   },
   {
    "duration": 0,
    "start_time": "2023-02-11T12:37:56.058Z"
   },
   {
    "duration": 0,
    "start_time": "2023-02-11T12:37:56.059Z"
   },
   {
    "duration": 0,
    "start_time": "2023-02-11T12:37:56.060Z"
   },
   {
    "duration": 0,
    "start_time": "2023-02-11T12:37:56.062Z"
   },
   {
    "duration": 0,
    "start_time": "2023-02-11T12:37:56.063Z"
   },
   {
    "duration": 0,
    "start_time": "2023-02-11T12:37:56.064Z"
   },
   {
    "duration": 0,
    "start_time": "2023-02-11T12:37:56.065Z"
   },
   {
    "duration": 0,
    "start_time": "2023-02-11T12:37:56.066Z"
   },
   {
    "duration": 0,
    "start_time": "2023-02-11T12:37:56.067Z"
   },
   {
    "duration": 0,
    "start_time": "2023-02-11T12:37:56.069Z"
   },
   {
    "duration": 0,
    "start_time": "2023-02-11T12:37:56.071Z"
   },
   {
    "duration": 0,
    "start_time": "2023-02-11T12:37:56.072Z"
   },
   {
    "duration": 280,
    "start_time": "2023-02-11T12:42:40.188Z"
   },
   {
    "duration": 293,
    "start_time": "2023-02-11T12:42:47.478Z"
   },
   {
    "duration": 287,
    "start_time": "2023-02-11T12:43:15.544Z"
   },
   {
    "duration": 6,
    "start_time": "2023-02-11T13:00:53.593Z"
   },
   {
    "duration": 4,
    "start_time": "2023-02-11T13:01:02.904Z"
   },
   {
    "duration": 3,
    "start_time": "2023-02-11T13:02:51.452Z"
   },
   {
    "duration": 4,
    "start_time": "2023-02-11T13:02:53.040Z"
   },
   {
    "duration": 101,
    "start_time": "2023-02-11T13:02:54.599Z"
   },
   {
    "duration": 9,
    "start_time": "2023-02-11T13:03:23.377Z"
   },
   {
    "duration": 6,
    "start_time": "2023-02-11T13:03:25.559Z"
   },
   {
    "duration": 5,
    "start_time": "2023-02-11T13:03:27.426Z"
   },
   {
    "duration": 122,
    "start_time": "2023-02-11T13:03:29.559Z"
   },
   {
    "duration": 5,
    "start_time": "2023-02-11T13:36:46.955Z"
   },
   {
    "duration": 595,
    "start_time": "2023-02-11T13:36:46.963Z"
   },
   {
    "duration": 243,
    "start_time": "2023-02-11T13:36:47.559Z"
   },
   {
    "duration": 738,
    "start_time": "2023-02-11T13:36:47.804Z"
   },
   {
    "duration": 4,
    "start_time": "2023-02-11T13:36:48.544Z"
   },
   {
    "duration": 51,
    "start_time": "2023-02-11T13:36:48.550Z"
   },
   {
    "duration": 3,
    "start_time": "2023-02-11T13:36:48.603Z"
   },
   {
    "duration": 270,
    "start_time": "2023-02-11T13:36:48.608Z"
   },
   {
    "duration": 4,
    "start_time": "2023-02-11T13:36:48.879Z"
   },
   {
    "duration": 38,
    "start_time": "2023-02-11T13:36:48.886Z"
   },
   {
    "duration": 21,
    "start_time": "2023-02-11T13:36:48.925Z"
   },
   {
    "duration": 9,
    "start_time": "2023-02-11T13:36:48.948Z"
   },
   {
    "duration": 46,
    "start_time": "2023-02-11T13:36:48.959Z"
   },
   {
    "duration": 74,
    "start_time": "2023-02-11T13:36:49.008Z"
   },
   {
    "duration": 7,
    "start_time": "2023-02-11T13:36:49.085Z"
   },
   {
    "duration": 1447,
    "start_time": "2023-02-11T13:36:49.094Z"
   },
   {
    "duration": 1092,
    "start_time": "2023-02-11T13:36:50.543Z"
   },
   {
    "duration": 892,
    "start_time": "2023-02-11T13:36:51.640Z"
   },
   {
    "duration": 9,
    "start_time": "2023-02-11T13:36:52.534Z"
   },
   {
    "duration": 265,
    "start_time": "2023-02-11T13:36:52.546Z"
   },
   {
    "duration": 269,
    "start_time": "2023-02-11T13:36:52.812Z"
   },
   {
    "duration": 8,
    "start_time": "2023-02-11T13:36:53.083Z"
   },
   {
    "duration": 1311,
    "start_time": "2023-02-11T13:36:53.093Z"
   },
   {
    "duration": 5,
    "start_time": "2023-02-11T13:36:54.406Z"
   },
   {
    "duration": 48,
    "start_time": "2023-02-11T13:36:54.412Z"
   },
   {
    "duration": 6,
    "start_time": "2023-02-11T13:36:54.462Z"
   },
   {
    "duration": 6,
    "start_time": "2023-02-11T13:36:54.470Z"
   },
   {
    "duration": 12,
    "start_time": "2023-02-11T13:36:54.480Z"
   },
   {
    "duration": 6,
    "start_time": "2023-02-11T13:36:54.493Z"
   },
   {
    "duration": 23,
    "start_time": "2023-02-11T13:36:54.500Z"
   },
   {
    "duration": 3,
    "start_time": "2023-02-11T13:36:54.539Z"
   },
   {
    "duration": 6,
    "start_time": "2023-02-11T13:36:54.544Z"
   },
   {
    "duration": 6,
    "start_time": "2023-02-11T13:36:54.551Z"
   },
   {
    "duration": 6,
    "start_time": "2023-02-11T13:36:54.558Z"
   },
   {
    "duration": 3280,
    "start_time": "2023-02-11T13:36:54.565Z"
   },
   {
    "duration": 25313,
    "start_time": "2023-02-11T13:36:57.851Z"
   },
   {
    "duration": 52,
    "start_time": "2023-02-11T13:37:23.166Z"
   },
   {
    "duration": 0,
    "start_time": "2023-02-11T13:37:23.220Z"
   },
   {
    "duration": 0,
    "start_time": "2023-02-11T13:37:23.221Z"
   },
   {
    "duration": 0,
    "start_time": "2023-02-11T13:37:23.223Z"
   },
   {
    "duration": 65,
    "start_time": "2023-02-11T13:49:35.924Z"
   },
   {
    "duration": 1536,
    "start_time": "2023-02-11T13:49:45.996Z"
   },
   {
    "duration": 625,
    "start_time": "2023-02-11T13:49:47.534Z"
   },
   {
    "duration": 284,
    "start_time": "2023-02-11T13:49:48.161Z"
   },
   {
    "duration": 841,
    "start_time": "2023-02-11T13:49:48.448Z"
   },
   {
    "duration": 4,
    "start_time": "2023-02-11T13:49:49.291Z"
   },
   {
    "duration": 25,
    "start_time": "2023-02-11T13:49:49.297Z"
   },
   {
    "duration": 16,
    "start_time": "2023-02-11T13:49:49.325Z"
   },
   {
    "duration": 277,
    "start_time": "2023-02-11T13:49:49.344Z"
   },
   {
    "duration": 4,
    "start_time": "2023-02-11T13:49:49.622Z"
   },
   {
    "duration": 36,
    "start_time": "2023-02-11T13:49:49.641Z"
   },
   {
    "duration": 10,
    "start_time": "2023-02-11T13:49:49.680Z"
   },
   {
    "duration": 12,
    "start_time": "2023-02-11T13:49:49.692Z"
   },
   {
    "duration": 65,
    "start_time": "2023-02-11T13:49:49.706Z"
   },
   {
    "duration": 33,
    "start_time": "2023-02-11T13:49:49.773Z"
   },
   {
    "duration": 5,
    "start_time": "2023-02-11T13:49:49.808Z"
   },
   {
    "duration": 1436,
    "start_time": "2023-02-11T13:49:49.815Z"
   },
   {
    "duration": 1090,
    "start_time": "2023-02-11T13:49:51.252Z"
   },
   {
    "duration": 940,
    "start_time": "2023-02-11T13:49:52.344Z"
   },
   {
    "duration": 4,
    "start_time": "2023-02-11T13:49:53.286Z"
   },
   {
    "duration": 288,
    "start_time": "2023-02-11T13:49:53.292Z"
   },
   {
    "duration": 293,
    "start_time": "2023-02-11T13:49:53.581Z"
   },
   {
    "duration": 8,
    "start_time": "2023-02-11T13:49:53.876Z"
   },
   {
    "duration": 1369,
    "start_time": "2023-02-11T13:49:53.885Z"
   },
   {
    "duration": 5,
    "start_time": "2023-02-11T13:49:55.256Z"
   },
   {
    "duration": 52,
    "start_time": "2023-02-11T13:49:55.263Z"
   },
   {
    "duration": 6,
    "start_time": "2023-02-11T13:49:55.317Z"
   },
   {
    "duration": 17,
    "start_time": "2023-02-11T13:49:55.325Z"
   },
   {
    "duration": 9,
    "start_time": "2023-02-11T13:49:55.345Z"
   },
   {
    "duration": 11,
    "start_time": "2023-02-11T13:49:55.356Z"
   },
   {
    "duration": 28,
    "start_time": "2023-02-11T13:49:55.369Z"
   },
   {
    "duration": 5,
    "start_time": "2023-02-11T13:49:55.399Z"
   },
   {
    "duration": 5,
    "start_time": "2023-02-11T13:49:55.406Z"
   },
   {
    "duration": 28,
    "start_time": "2023-02-11T13:49:55.413Z"
   },
   {
    "duration": 5,
    "start_time": "2023-02-11T13:49:55.444Z"
   },
   {
    "duration": 3294,
    "start_time": "2023-02-11T13:49:55.452Z"
   },
   {
    "duration": 25580,
    "start_time": "2023-02-11T13:49:58.749Z"
   },
   {
    "duration": 531645,
    "start_time": "2023-02-11T13:50:24.331Z"
   },
   {
    "duration": 0,
    "start_time": "2023-02-11T13:59:15.978Z"
   },
   {
    "duration": 0,
    "start_time": "2023-02-11T13:59:15.980Z"
   },
   {
    "duration": 0,
    "start_time": "2023-02-11T13:59:15.980Z"
   },
   {
    "duration": 26,
    "start_time": "2023-02-11T13:59:17.431Z"
   },
   {
    "duration": 10,
    "start_time": "2023-02-11T13:59:57.678Z"
   },
   {
    "duration": 75509,
    "start_time": "2023-02-11T14:02:39.231Z"
   },
   {
    "duration": 0,
    "start_time": "2023-02-11T14:03:54.743Z"
   },
   {
    "duration": 0,
    "start_time": "2023-02-11T14:03:54.744Z"
   },
   {
    "duration": 3477,
    "start_time": "2023-02-11T14:04:04.554Z"
   },
   {
    "duration": 359815,
    "start_time": "2023-02-11T15:25:23.760Z"
   },
   {
    "duration": 0,
    "start_time": "2023-02-11T15:31:23.578Z"
   },
   {
    "duration": 0,
    "start_time": "2023-02-11T15:31:23.579Z"
   },
   {
    "duration": 1613,
    "start_time": "2023-02-11T22:20:39.994Z"
   },
   {
    "duration": 1533,
    "start_time": "2023-02-11T22:20:41.610Z"
   },
   {
    "duration": 332,
    "start_time": "2023-02-11T22:20:43.145Z"
   },
   {
    "duration": 919,
    "start_time": "2023-02-11T22:20:43.479Z"
   },
   {
    "duration": 4,
    "start_time": "2023-02-11T22:20:44.399Z"
   },
   {
    "duration": 19,
    "start_time": "2023-02-11T22:20:44.405Z"
   },
   {
    "duration": 16,
    "start_time": "2023-02-11T22:20:44.425Z"
   },
   {
    "duration": 269,
    "start_time": "2023-02-11T22:20:44.443Z"
   },
   {
    "duration": 5,
    "start_time": "2023-02-11T22:20:44.714Z"
   },
   {
    "duration": 44,
    "start_time": "2023-02-11T22:20:44.722Z"
   },
   {
    "duration": 8,
    "start_time": "2023-02-11T22:20:44.768Z"
   },
   {
    "duration": 6,
    "start_time": "2023-02-11T22:20:44.778Z"
   },
   {
    "duration": 62,
    "start_time": "2023-02-11T22:20:44.786Z"
   },
   {
    "duration": 34,
    "start_time": "2023-02-11T22:20:44.850Z"
   },
   {
    "duration": 5,
    "start_time": "2023-02-11T22:20:44.886Z"
   },
   {
    "duration": 1428,
    "start_time": "2023-02-11T22:20:44.893Z"
   },
   {
    "duration": 1043,
    "start_time": "2023-02-11T22:20:46.323Z"
   },
   {
    "duration": 944,
    "start_time": "2023-02-11T22:20:47.368Z"
   },
   {
    "duration": 4,
    "start_time": "2023-02-11T22:20:48.314Z"
   },
   {
    "duration": 273,
    "start_time": "2023-02-11T22:20:48.320Z"
   },
   {
    "duration": 294,
    "start_time": "2023-02-11T22:20:48.596Z"
   },
   {
    "duration": 10,
    "start_time": "2023-02-11T22:20:48.893Z"
   },
   {
    "duration": 1336,
    "start_time": "2023-02-11T22:20:48.906Z"
   },
   {
    "duration": 4,
    "start_time": "2023-02-11T22:20:50.245Z"
   },
   {
    "duration": 42,
    "start_time": "2023-02-11T22:20:50.251Z"
   },
   {
    "duration": 6,
    "start_time": "2023-02-11T22:20:50.295Z"
   },
   {
    "duration": 6,
    "start_time": "2023-02-11T22:20:50.302Z"
   },
   {
    "duration": 8,
    "start_time": "2023-02-11T22:20:50.312Z"
   },
   {
    "duration": 9,
    "start_time": "2023-02-11T22:20:50.340Z"
   },
   {
    "duration": 30,
    "start_time": "2023-02-11T22:20:50.351Z"
   },
   {
    "duration": 4,
    "start_time": "2023-02-11T22:20:50.383Z"
   },
   {
    "duration": 5,
    "start_time": "2023-02-11T22:20:50.389Z"
   },
   {
    "duration": 4,
    "start_time": "2023-02-11T22:20:50.397Z"
   },
   {
    "duration": 5,
    "start_time": "2023-02-11T22:20:50.403Z"
   },
   {
    "duration": 3036,
    "start_time": "2023-02-11T22:20:50.410Z"
   },
   {
    "duration": 25664,
    "start_time": "2023-02-11T22:20:53.448Z"
   },
   {
    "duration": 801563,
    "start_time": "2023-02-11T22:21:19.114Z"
   },
   {
    "duration": 668586,
    "start_time": "2023-02-11T22:34:40.679Z"
   },
   {
    "duration": 5819,
    "start_time": "2023-02-11T22:45:49.267Z"
   },
   {
    "duration": 1,
    "start_time": "2023-02-11T22:45:55.088Z"
   },
   {
    "duration": 5793,
    "start_time": "2023-02-11T22:56:24.425Z"
   },
   {
    "duration": 44381,
    "start_time": "2023-02-11T22:58:31.740Z"
   },
   {
    "duration": 8,
    "start_time": "2023-02-11T23:00:50.640Z"
   },
   {
    "duration": 24311,
    "start_time": "2023-02-11T23:04:51.240Z"
   },
   {
    "duration": 24442,
    "start_time": "2023-02-11T23:05:21.007Z"
   },
   {
    "duration": 24452,
    "start_time": "2023-02-11T23:06:00.203Z"
   },
   {
    "duration": 10,
    "start_time": "2023-02-11T23:06:28.826Z"
   }
  ],
  "kernelspec": {
   "display_name": "Python 3 (ipykernel)",
   "language": "python",
   "name": "python3"
  },
  "language_info": {
   "codemirror_mode": {
    "name": "ipython",
    "version": 3
   },
   "file_extension": ".py",
   "mimetype": "text/x-python",
   "name": "python",
   "nbconvert_exporter": "python",
   "pygments_lexer": "ipython3",
   "version": "3.9.5"
  },
  "toc": {
   "base_numbering": 1,
   "nav_menu": {},
   "number_sections": true,
   "sideBar": true,
   "skip_h1_title": true,
   "title_cell": "Содержание",
   "title_sidebar": "Contents",
   "toc_cell": true,
   "toc_position": {
    "height": "calc(100% - 180px)",
    "left": "10px",
    "top": "150px",
    "width": "165px"
   },
   "toc_section_display": true,
   "toc_window_display": true
  }
 },
 "nbformat": 4,
 "nbformat_minor": 2
}
