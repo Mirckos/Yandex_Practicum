{
 "cells": [
  {
   "cell_type": "markdown",
   "id": "24fb6a6d",
   "metadata": {},
   "source": [
    "<div class=\"alert alert-success\">\n",
    "<h1> Финальный комментарий </h1>\n",
    "\n",
    "Спасибо за твои доработки. Общий вывод стал намного лучше.\n",
    "\n",
    "В середине проекта оставил ответ на твой вопрос в комментарии с пометкой V2.\n",
    "    \n",
    "Я принимаю твой проект и желаю удачи в дальнейшем обучении)\n",
    "\n",
    "</div>"
   ]
  },
  {
   "cell_type": "markdown",
   "id": "c1bc2a2b",
   "metadata": {},
   "source": [
    "<div class=\"alert alert-success\">\n",
    "<h1> Комментарий ревьюера</h1>\n",
    "\n",
    "Привет, Максим!\n",
    "    \n",
    "Меня зовут Усов Егор, и я буду проверять твой проект) Предлагаю нам сразу перейти на ты, если ты не против)\n",
    "    \n",
    "Основная моя задача помочь тебе в освоении пройденного материала, а не в оценке проекта, поэтому не стесняйся задавать вопросы, если они есть)\n",
    "    \n",
    "Мои комментарии обозначены пометкой **Комментарий ревьюера**. Далее в файле ты сможешь найти их в похожих ячейках (если фон комментария <font color=green>✅зелёный</font> - всё сделано правильно; <font color=orange>⚠️оранжевый</font> - есть что улучшить, но не критично; <font color=red>красный</font> и есть такой ❌ знак- нужно переделать). Не удаляй эти комментарии и постарайся учесть их в ходе выполнения данного проекта. \n",
    "    \n",
    "Ты можешь отвечать мне своими комментариями и выделять их другим <font color=blue>цветом</font>.\n",
    "\n",
    "</div>"
   ]
  },
  {
   "cell_type": "markdown",
   "id": "cb44338c",
   "metadata": {},
   "source": [
    "<div class=\"alert alert-info\">\n",
    "\n",
    "**Комментарий студента**\n",
    "    \n",
    "Для примера)"
   ]
  },
  {
   "cell_type": "markdown",
   "id": "7a9eb26c",
   "metadata": {},
   "source": [
    "<div class=\"alert alert-warning\">\n",
    "<h1> Общий комментарий </h1>\n",
    "\n",
    "Отличный проект. Видно, что ты хорошо освоил иструменты для построения сводных таблиц. Ты используешь в работе графики, твои выводы понятны и опираются на имеющиеся данные.\n",
    "    \n",
    "Распиши, пожалуйста, общий вывод немного подробнее, чтобы я смог принять свой проект.\n",
    "    \n",
    "Жду твою работу на повторную проверку. Если у тебя есть вопросы, не стесняйся их задавать)\n",
    "\n",
    "</div>"
   ]
  },
  {
   "cell_type": "markdown",
   "id": "2aa3905e",
   "metadata": {
    "deletable": false,
    "editable": false,
    "id": "c81daeeb"
   },
   "source": [
    "# Исследование надежности заемщиков\n"
   ]
  },
  {
   "cell_type": "markdown",
   "id": "c20fc838",
   "metadata": {
    "deletable": false,
    "editable": false,
    "id": "827c20bf"
   },
   "source": [
    "Во второй части проекта вы выполните шаги 3 и 4. Их вручную проверит ревьюер.\n",
    "Чтобы вам не пришлось писать код заново для шагов 1 и 2, мы добавили авторские решения в ячейки с кодом. \n",
    "\n"
   ]
  },
  {
   "cell_type": "markdown",
   "id": "f36a9c5f",
   "metadata": {},
   "source": [
    "\n",
    "<div class=\"alert alert-warning\">\n",
    "<h1> Комментарий ревьюера💡</h1>\n",
    "\n",
    "Эта часть работы сформирована автоматически. Но для финальной презентации можно оформить и этот раздел. Сформировать структуру заголовков и оформить вывод по каждому шагу.\n",
    "    \n",
    "Но на текущем этапе обучения это не обязательно)\n",
    "\n",
    "</div>"
   ]
  },
  {
   "cell_type": "markdown",
   "id": "f7376f32",
   "metadata": {
    "deletable": false,
    "editable": false,
    "id": "744d7639"
   },
   "source": [
    "## Откройте таблицу и изучите общую информацию о данных"
   ]
  },
  {
   "cell_type": "markdown",
   "id": "2e747f76",
   "metadata": {
    "deletable": false,
    "editable": false,
    "id": "e7a14c31"
   },
   "source": [
    "**Задание 1. Импортируйте библиотеку pandas. Считайте данные из csv-файла в датафрейм и сохраните в переменную `data`. Путь к файлу:**\n",
    "\n",
    "`/datasets/data.csv`"
   ]
  },
  {
   "cell_type": "code",
   "execution_count": 1,
   "id": "5be6aad9",
   "metadata": {
    "deletable": false,
    "id": "7bcf75c9"
   },
   "outputs": [],
   "source": [
    "import pandas as pd\n",
    "import seaborn as sb\n",
    "from IPython.display import display\n",
    "\n",
    "try:\n",
    "    data = pd.read_csv('/datasets/data.csv')\n",
    "except:\n",
    "    data = pd.read_csv('https://code.s3.yandex.net/datasets/data.csv')"
   ]
  },
  {
   "cell_type": "markdown",
   "id": "ce8a8d64",
   "metadata": {
    "deletable": false,
    "editable": false,
    "id": "b8038fe3"
   },
   "source": [
    "**Задание 2. Выведите первые 20 строчек датафрейма `data` на экран.**"
   ]
  },
  {
   "cell_type": "code",
   "execution_count": 2,
   "id": "7cd43eb3",
   "metadata": {
    "deletable": false,
    "id": "2a7cab99",
    "outputId": "1a8f3ef2-d323-4ec2-ddf7-89670b5944c4"
   },
   "outputs": [
    {
     "data": {
      "text/html": [
       "<div>\n",
       "<style scoped>\n",
       "    .dataframe tbody tr th:only-of-type {\n",
       "        vertical-align: middle;\n",
       "    }\n",
       "\n",
       "    .dataframe tbody tr th {\n",
       "        vertical-align: top;\n",
       "    }\n",
       "\n",
       "    .dataframe thead th {\n",
       "        text-align: right;\n",
       "    }\n",
       "</style>\n",
       "<table border=\"1\" class=\"dataframe\">\n",
       "  <thead>\n",
       "    <tr style=\"text-align: right;\">\n",
       "      <th></th>\n",
       "      <th>children</th>\n",
       "      <th>days_employed</th>\n",
       "      <th>dob_years</th>\n",
       "      <th>education</th>\n",
       "      <th>education_id</th>\n",
       "      <th>family_status</th>\n",
       "      <th>family_status_id</th>\n",
       "      <th>gender</th>\n",
       "      <th>income_type</th>\n",
       "      <th>debt</th>\n",
       "      <th>total_income</th>\n",
       "      <th>purpose</th>\n",
       "    </tr>\n",
       "  </thead>\n",
       "  <tbody>\n",
       "    <tr>\n",
       "      <th>0</th>\n",
       "      <td>1</td>\n",
       "      <td>-8437.673028</td>\n",
       "      <td>42</td>\n",
       "      <td>высшее</td>\n",
       "      <td>0</td>\n",
       "      <td>женат / замужем</td>\n",
       "      <td>0</td>\n",
       "      <td>F</td>\n",
       "      <td>сотрудник</td>\n",
       "      <td>0</td>\n",
       "      <td>253875.639453</td>\n",
       "      <td>покупка жилья</td>\n",
       "    </tr>\n",
       "    <tr>\n",
       "      <th>1</th>\n",
       "      <td>1</td>\n",
       "      <td>-4024.803754</td>\n",
       "      <td>36</td>\n",
       "      <td>среднее</td>\n",
       "      <td>1</td>\n",
       "      <td>женат / замужем</td>\n",
       "      <td>0</td>\n",
       "      <td>F</td>\n",
       "      <td>сотрудник</td>\n",
       "      <td>0</td>\n",
       "      <td>112080.014102</td>\n",
       "      <td>приобретение автомобиля</td>\n",
       "    </tr>\n",
       "    <tr>\n",
       "      <th>2</th>\n",
       "      <td>0</td>\n",
       "      <td>-5623.422610</td>\n",
       "      <td>33</td>\n",
       "      <td>Среднее</td>\n",
       "      <td>1</td>\n",
       "      <td>женат / замужем</td>\n",
       "      <td>0</td>\n",
       "      <td>M</td>\n",
       "      <td>сотрудник</td>\n",
       "      <td>0</td>\n",
       "      <td>145885.952297</td>\n",
       "      <td>покупка жилья</td>\n",
       "    </tr>\n",
       "    <tr>\n",
       "      <th>3</th>\n",
       "      <td>3</td>\n",
       "      <td>-4124.747207</td>\n",
       "      <td>32</td>\n",
       "      <td>среднее</td>\n",
       "      <td>1</td>\n",
       "      <td>женат / замужем</td>\n",
       "      <td>0</td>\n",
       "      <td>M</td>\n",
       "      <td>сотрудник</td>\n",
       "      <td>0</td>\n",
       "      <td>267628.550329</td>\n",
       "      <td>дополнительное образование</td>\n",
       "    </tr>\n",
       "    <tr>\n",
       "      <th>4</th>\n",
       "      <td>0</td>\n",
       "      <td>340266.072047</td>\n",
       "      <td>53</td>\n",
       "      <td>среднее</td>\n",
       "      <td>1</td>\n",
       "      <td>гражданский брак</td>\n",
       "      <td>1</td>\n",
       "      <td>F</td>\n",
       "      <td>пенсионер</td>\n",
       "      <td>0</td>\n",
       "      <td>158616.077870</td>\n",
       "      <td>сыграть свадьбу</td>\n",
       "    </tr>\n",
       "    <tr>\n",
       "      <th>5</th>\n",
       "      <td>0</td>\n",
       "      <td>-926.185831</td>\n",
       "      <td>27</td>\n",
       "      <td>высшее</td>\n",
       "      <td>0</td>\n",
       "      <td>гражданский брак</td>\n",
       "      <td>1</td>\n",
       "      <td>M</td>\n",
       "      <td>компаньон</td>\n",
       "      <td>0</td>\n",
       "      <td>255763.565419</td>\n",
       "      <td>покупка жилья</td>\n",
       "    </tr>\n",
       "    <tr>\n",
       "      <th>6</th>\n",
       "      <td>0</td>\n",
       "      <td>-2879.202052</td>\n",
       "      <td>43</td>\n",
       "      <td>высшее</td>\n",
       "      <td>0</td>\n",
       "      <td>женат / замужем</td>\n",
       "      <td>0</td>\n",
       "      <td>F</td>\n",
       "      <td>компаньон</td>\n",
       "      <td>0</td>\n",
       "      <td>240525.971920</td>\n",
       "      <td>операции с жильем</td>\n",
       "    </tr>\n",
       "    <tr>\n",
       "      <th>7</th>\n",
       "      <td>0</td>\n",
       "      <td>-152.779569</td>\n",
       "      <td>50</td>\n",
       "      <td>СРЕДНЕЕ</td>\n",
       "      <td>1</td>\n",
       "      <td>женат / замужем</td>\n",
       "      <td>0</td>\n",
       "      <td>M</td>\n",
       "      <td>сотрудник</td>\n",
       "      <td>0</td>\n",
       "      <td>135823.934197</td>\n",
       "      <td>образование</td>\n",
       "    </tr>\n",
       "    <tr>\n",
       "      <th>8</th>\n",
       "      <td>2</td>\n",
       "      <td>-6929.865299</td>\n",
       "      <td>35</td>\n",
       "      <td>ВЫСШЕЕ</td>\n",
       "      <td>0</td>\n",
       "      <td>гражданский брак</td>\n",
       "      <td>1</td>\n",
       "      <td>F</td>\n",
       "      <td>сотрудник</td>\n",
       "      <td>0</td>\n",
       "      <td>95856.832424</td>\n",
       "      <td>на проведение свадьбы</td>\n",
       "    </tr>\n",
       "    <tr>\n",
       "      <th>9</th>\n",
       "      <td>0</td>\n",
       "      <td>-2188.756445</td>\n",
       "      <td>41</td>\n",
       "      <td>среднее</td>\n",
       "      <td>1</td>\n",
       "      <td>женат / замужем</td>\n",
       "      <td>0</td>\n",
       "      <td>M</td>\n",
       "      <td>сотрудник</td>\n",
       "      <td>0</td>\n",
       "      <td>144425.938277</td>\n",
       "      <td>покупка жилья для семьи</td>\n",
       "    </tr>\n",
       "    <tr>\n",
       "      <th>10</th>\n",
       "      <td>2</td>\n",
       "      <td>-4171.483647</td>\n",
       "      <td>36</td>\n",
       "      <td>высшее</td>\n",
       "      <td>0</td>\n",
       "      <td>женат / замужем</td>\n",
       "      <td>0</td>\n",
       "      <td>M</td>\n",
       "      <td>компаньон</td>\n",
       "      <td>0</td>\n",
       "      <td>113943.491460</td>\n",
       "      <td>покупка недвижимости</td>\n",
       "    </tr>\n",
       "    <tr>\n",
       "      <th>11</th>\n",
       "      <td>0</td>\n",
       "      <td>-792.701887</td>\n",
       "      <td>40</td>\n",
       "      <td>среднее</td>\n",
       "      <td>1</td>\n",
       "      <td>женат / замужем</td>\n",
       "      <td>0</td>\n",
       "      <td>F</td>\n",
       "      <td>сотрудник</td>\n",
       "      <td>0</td>\n",
       "      <td>77069.234271</td>\n",
       "      <td>покупка коммерческой недвижимости</td>\n",
       "    </tr>\n",
       "    <tr>\n",
       "      <th>12</th>\n",
       "      <td>0</td>\n",
       "      <td>NaN</td>\n",
       "      <td>65</td>\n",
       "      <td>среднее</td>\n",
       "      <td>1</td>\n",
       "      <td>гражданский брак</td>\n",
       "      <td>1</td>\n",
       "      <td>M</td>\n",
       "      <td>пенсионер</td>\n",
       "      <td>0</td>\n",
       "      <td>NaN</td>\n",
       "      <td>сыграть свадьбу</td>\n",
       "    </tr>\n",
       "    <tr>\n",
       "      <th>13</th>\n",
       "      <td>0</td>\n",
       "      <td>-1846.641941</td>\n",
       "      <td>54</td>\n",
       "      <td>неоконченное высшее</td>\n",
       "      <td>2</td>\n",
       "      <td>женат / замужем</td>\n",
       "      <td>0</td>\n",
       "      <td>F</td>\n",
       "      <td>сотрудник</td>\n",
       "      <td>0</td>\n",
       "      <td>130458.228857</td>\n",
       "      <td>приобретение автомобиля</td>\n",
       "    </tr>\n",
       "    <tr>\n",
       "      <th>14</th>\n",
       "      <td>0</td>\n",
       "      <td>-1844.956182</td>\n",
       "      <td>56</td>\n",
       "      <td>высшее</td>\n",
       "      <td>0</td>\n",
       "      <td>гражданский брак</td>\n",
       "      <td>1</td>\n",
       "      <td>F</td>\n",
       "      <td>компаньон</td>\n",
       "      <td>1</td>\n",
       "      <td>165127.911772</td>\n",
       "      <td>покупка жилой недвижимости</td>\n",
       "    </tr>\n",
       "    <tr>\n",
       "      <th>15</th>\n",
       "      <td>1</td>\n",
       "      <td>-972.364419</td>\n",
       "      <td>26</td>\n",
       "      <td>среднее</td>\n",
       "      <td>1</td>\n",
       "      <td>женат / замужем</td>\n",
       "      <td>0</td>\n",
       "      <td>F</td>\n",
       "      <td>сотрудник</td>\n",
       "      <td>0</td>\n",
       "      <td>116820.904450</td>\n",
       "      <td>строительство собственной недвижимости</td>\n",
       "    </tr>\n",
       "    <tr>\n",
       "      <th>16</th>\n",
       "      <td>0</td>\n",
       "      <td>-1719.934226</td>\n",
       "      <td>35</td>\n",
       "      <td>среднее</td>\n",
       "      <td>1</td>\n",
       "      <td>женат / замужем</td>\n",
       "      <td>0</td>\n",
       "      <td>F</td>\n",
       "      <td>сотрудник</td>\n",
       "      <td>0</td>\n",
       "      <td>289202.704229</td>\n",
       "      <td>недвижимость</td>\n",
       "    </tr>\n",
       "    <tr>\n",
       "      <th>17</th>\n",
       "      <td>0</td>\n",
       "      <td>-2369.999720</td>\n",
       "      <td>33</td>\n",
       "      <td>высшее</td>\n",
       "      <td>0</td>\n",
       "      <td>гражданский брак</td>\n",
       "      <td>1</td>\n",
       "      <td>M</td>\n",
       "      <td>сотрудник</td>\n",
       "      <td>0</td>\n",
       "      <td>90410.586745</td>\n",
       "      <td>строительство недвижимости</td>\n",
       "    </tr>\n",
       "    <tr>\n",
       "      <th>18</th>\n",
       "      <td>0</td>\n",
       "      <td>400281.136913</td>\n",
       "      <td>53</td>\n",
       "      <td>среднее</td>\n",
       "      <td>1</td>\n",
       "      <td>вдовец / вдова</td>\n",
       "      <td>2</td>\n",
       "      <td>F</td>\n",
       "      <td>пенсионер</td>\n",
       "      <td>0</td>\n",
       "      <td>56823.777243</td>\n",
       "      <td>на покупку подержанного автомобиля</td>\n",
       "    </tr>\n",
       "    <tr>\n",
       "      <th>19</th>\n",
       "      <td>0</td>\n",
       "      <td>-10038.818549</td>\n",
       "      <td>48</td>\n",
       "      <td>СРЕДНЕЕ</td>\n",
       "      <td>1</td>\n",
       "      <td>в разводе</td>\n",
       "      <td>3</td>\n",
       "      <td>F</td>\n",
       "      <td>сотрудник</td>\n",
       "      <td>0</td>\n",
       "      <td>242831.107982</td>\n",
       "      <td>на покупку своего автомобиля</td>\n",
       "    </tr>\n",
       "  </tbody>\n",
       "</table>\n",
       "</div>"
      ],
      "text/plain": [
       "    children  days_employed  dob_years            education  education_id  \\\n",
       "0          1   -8437.673028         42               высшее             0   \n",
       "1          1   -4024.803754         36              среднее             1   \n",
       "2          0   -5623.422610         33              Среднее             1   \n",
       "3          3   -4124.747207         32              среднее             1   \n",
       "4          0  340266.072047         53              среднее             1   \n",
       "5          0    -926.185831         27               высшее             0   \n",
       "6          0   -2879.202052         43               высшее             0   \n",
       "7          0    -152.779569         50              СРЕДНЕЕ             1   \n",
       "8          2   -6929.865299         35               ВЫСШЕЕ             0   \n",
       "9          0   -2188.756445         41              среднее             1   \n",
       "10         2   -4171.483647         36               высшее             0   \n",
       "11         0    -792.701887         40              среднее             1   \n",
       "12         0            NaN         65              среднее             1   \n",
       "13         0   -1846.641941         54  неоконченное высшее             2   \n",
       "14         0   -1844.956182         56               высшее             0   \n",
       "15         1    -972.364419         26              среднее             1   \n",
       "16         0   -1719.934226         35              среднее             1   \n",
       "17         0   -2369.999720         33               высшее             0   \n",
       "18         0  400281.136913         53              среднее             1   \n",
       "19         0  -10038.818549         48              СРЕДНЕЕ             1   \n",
       "\n",
       "       family_status  family_status_id gender income_type  debt  \\\n",
       "0    женат / замужем                 0      F   сотрудник     0   \n",
       "1    женат / замужем                 0      F   сотрудник     0   \n",
       "2    женат / замужем                 0      M   сотрудник     0   \n",
       "3    женат / замужем                 0      M   сотрудник     0   \n",
       "4   гражданский брак                 1      F   пенсионер     0   \n",
       "5   гражданский брак                 1      M   компаньон     0   \n",
       "6    женат / замужем                 0      F   компаньон     0   \n",
       "7    женат / замужем                 0      M   сотрудник     0   \n",
       "8   гражданский брак                 1      F   сотрудник     0   \n",
       "9    женат / замужем                 0      M   сотрудник     0   \n",
       "10   женат / замужем                 0      M   компаньон     0   \n",
       "11   женат / замужем                 0      F   сотрудник     0   \n",
       "12  гражданский брак                 1      M   пенсионер     0   \n",
       "13   женат / замужем                 0      F   сотрудник     0   \n",
       "14  гражданский брак                 1      F   компаньон     1   \n",
       "15   женат / замужем                 0      F   сотрудник     0   \n",
       "16   женат / замужем                 0      F   сотрудник     0   \n",
       "17  гражданский брак                 1      M   сотрудник     0   \n",
       "18    вдовец / вдова                 2      F   пенсионер     0   \n",
       "19         в разводе                 3      F   сотрудник     0   \n",
       "\n",
       "     total_income                                 purpose  \n",
       "0   253875.639453                           покупка жилья  \n",
       "1   112080.014102                 приобретение автомобиля  \n",
       "2   145885.952297                           покупка жилья  \n",
       "3   267628.550329              дополнительное образование  \n",
       "4   158616.077870                         сыграть свадьбу  \n",
       "5   255763.565419                           покупка жилья  \n",
       "6   240525.971920                       операции с жильем  \n",
       "7   135823.934197                             образование  \n",
       "8    95856.832424                   на проведение свадьбы  \n",
       "9   144425.938277                 покупка жилья для семьи  \n",
       "10  113943.491460                    покупка недвижимости  \n",
       "11   77069.234271       покупка коммерческой недвижимости  \n",
       "12            NaN                         сыграть свадьбу  \n",
       "13  130458.228857                 приобретение автомобиля  \n",
       "14  165127.911772              покупка жилой недвижимости  \n",
       "15  116820.904450  строительство собственной недвижимости  \n",
       "16  289202.704229                            недвижимость  \n",
       "17   90410.586745              строительство недвижимости  \n",
       "18   56823.777243      на покупку подержанного автомобиля  \n",
       "19  242831.107982            на покупку своего автомобиля  "
      ]
     },
     "execution_count": 2,
     "metadata": {},
     "output_type": "execute_result"
    }
   ],
   "source": [
    "data.head(20)"
   ]
  },
  {
   "cell_type": "markdown",
   "id": "29ee7b12",
   "metadata": {
    "deletable": false,
    "editable": false,
    "id": "1c12e233"
   },
   "source": [
    "**Задание 3. Выведите основную информацию о датафрейме с помощью метода `info()`.**"
   ]
  },
  {
   "cell_type": "code",
   "execution_count": 3,
   "id": "5a9b38c2",
   "metadata": {
    "deletable": false,
    "id": "2b757bca",
    "outputId": "15376089-8dad-46c9-b520-c05248d43158"
   },
   "outputs": [
    {
     "name": "stdout",
     "output_type": "stream",
     "text": [
      "<class 'pandas.core.frame.DataFrame'>\n",
      "RangeIndex: 21525 entries, 0 to 21524\n",
      "Data columns (total 12 columns):\n",
      " #   Column            Non-Null Count  Dtype  \n",
      "---  ------            --------------  -----  \n",
      " 0   children          21525 non-null  int64  \n",
      " 1   days_employed     19351 non-null  float64\n",
      " 2   dob_years         21525 non-null  int64  \n",
      " 3   education         21525 non-null  object \n",
      " 4   education_id      21525 non-null  int64  \n",
      " 5   family_status     21525 non-null  object \n",
      " 6   family_status_id  21525 non-null  int64  \n",
      " 7   gender            21525 non-null  object \n",
      " 8   income_type       21525 non-null  object \n",
      " 9   debt              21525 non-null  int64  \n",
      " 10  total_income      19351 non-null  float64\n",
      " 11  purpose           21525 non-null  object \n",
      "dtypes: float64(2), int64(5), object(5)\n",
      "memory usage: 2.0+ MB\n"
     ]
    }
   ],
   "source": [
    "data.info()"
   ]
  },
  {
   "cell_type": "markdown",
   "id": "c88cdc4e",
   "metadata": {
    "deletable": false,
    "editable": false,
    "id": "333ec665"
   },
   "source": [
    "## Предобработка данных"
   ]
  },
  {
   "cell_type": "markdown",
   "id": "95d0b2b9",
   "metadata": {
    "deletable": false,
    "editable": false,
    "id": "02d92d53"
   },
   "source": [
    "### Удаление пропусков"
   ]
  },
  {
   "cell_type": "markdown",
   "id": "17a36e7a",
   "metadata": {
    "deletable": false,
    "editable": false,
    "id": "cd84967c"
   },
   "source": [
    "**Задание 4. Выведите количество пропущенных значений для каждого столбца. Используйте комбинацию двух методов.**"
   ]
  },
  {
   "cell_type": "code",
   "execution_count": 4,
   "id": "1058396c",
   "metadata": {
    "deletable": false,
    "id": "7f9b2309",
    "outputId": "81f4d817-781c-465c-ed15-91ce4446810d"
   },
   "outputs": [
    {
     "data": {
      "text/plain": [
       "children               0\n",
       "days_employed       2174\n",
       "dob_years              0\n",
       "education              0\n",
       "education_id           0\n",
       "family_status          0\n",
       "family_status_id       0\n",
       "gender                 0\n",
       "income_type            0\n",
       "debt                   0\n",
       "total_income        2174\n",
       "purpose                0\n",
       "dtype: int64"
      ]
     },
     "execution_count": 4,
     "metadata": {},
     "output_type": "execute_result"
    }
   ],
   "source": [
    "data.isna().sum()"
   ]
  },
  {
   "cell_type": "markdown",
   "id": "5390b2e2",
   "metadata": {
    "deletable": false,
    "editable": false,
    "id": "db86e27b"
   },
   "source": [
    "**Задание 5. В двух столбцах есть пропущенные значения. Один из них — `days_employed`. Пропуски в этом столбце вы обработаете на следующем этапе. Другой столбец с пропущенными значениями — `total_income` — хранит данные о доходах. На сумму дохода сильнее всего влияет тип занятости, поэтому заполнить пропуски в этом столбце нужно медианным значением по каждому типу из столбца `income_type`. Например, у человека с типом занятости `сотрудник` пропуск в столбце `total_income` должен быть заполнен медианным доходом среди всех записей с тем же типом.**"
   ]
  },
  {
   "cell_type": "code",
   "execution_count": 5,
   "id": "248597bd",
   "metadata": {
    "deletable": false,
    "id": "42006a93"
   },
   "outputs": [],
   "source": [
    "for t in data['income_type'].unique():\n",
    "    data.loc[(data['income_type'] == t) & (data['total_income'].isna()), 'total_income'] = \\\n",
    "    data.loc[(data['income_type'] == t), 'total_income'].median()"
   ]
  },
  {
   "cell_type": "markdown",
   "id": "654187cd",
   "metadata": {
    "deletable": false,
    "editable": false,
    "id": "89da5ece"
   },
   "source": [
    "### Обработка аномальных значений"
   ]
  },
  {
   "cell_type": "markdown",
   "id": "c6675d69",
   "metadata": {
    "deletable": false,
    "editable": false,
    "id": "57964554"
   },
   "source": [
    "**Задание 6. В данных могут встречаться артефакты (аномалии) — значения, которые не отражают действительность и появились по какой-то ошибке. таким артефактом будет отрицательное количество дней трудового стажа в столбце `days_employed`. Для реальных данных это нормально. Обработайте значения в этом столбце: замените все отрицательные значения положительными с помощью метода `abs()`.**"
   ]
  },
  {
   "cell_type": "code",
   "execution_count": 6,
   "id": "2edf746c",
   "metadata": {
    "deletable": false,
    "id": "f6f055bf"
   },
   "outputs": [],
   "source": [
    "data['days_employed'] = data['days_employed'].abs()"
   ]
  },
  {
   "cell_type": "markdown",
   "id": "e7bd120c",
   "metadata": {
    "deletable": false,
    "editable": false,
    "id": "6107dd2f"
   },
   "source": [
    "**Задание 7. Для каждого типа занятости выведите медианное значение трудового стажа `days_employed` в днях.**"
   ]
  },
  {
   "cell_type": "code",
   "execution_count": 7,
   "id": "82fbf333",
   "metadata": {
    "deletable": false,
    "id": "85a5faf6",
    "outputId": "801ef80e-522b-4668-f34e-565af7432bcf"
   },
   "outputs": [
    {
     "data": {
      "text/plain": [
       "income_type\n",
       "безработный        366413.652744\n",
       "в декрете            3296.759962\n",
       "госслужащий          2689.368353\n",
       "компаньон            1547.382223\n",
       "пенсионер          365213.306266\n",
       "предприниматель       520.848083\n",
       "сотрудник            1574.202821\n",
       "студент               578.751554\n",
       "Name: days_employed, dtype: float64"
      ]
     },
     "execution_count": 7,
     "metadata": {},
     "output_type": "execute_result"
    }
   ],
   "source": [
    "data.groupby('income_type')['days_employed'].agg('median')"
   ]
  },
  {
   "cell_type": "markdown",
   "id": "cc2d8906",
   "metadata": {
    "deletable": false,
    "editable": false,
    "id": "38d1a030"
   },
   "source": [
    "У двух типов (безработные и пенсионеры) получатся аномально большие значения. Исправить такие значения сложно, поэтому оставьте их как есть. Тем более этот столбец не понадобится вам для исследования."
   ]
  },
  {
   "cell_type": "markdown",
   "id": "ea4884cc",
   "metadata": {
    "deletable": false,
    "editable": false,
    "id": "d8a9f147"
   },
   "source": [
    "**Задание 8. Выведите перечень уникальных значений столбца `children`.**"
   ]
  },
  {
   "cell_type": "code",
   "execution_count": 8,
   "id": "d1a344ab",
   "metadata": {
    "deletable": false,
    "id": "ef5056eb",
    "outputId": "6975b15c-7f95-4697-d16d-a0c79b657b03"
   },
   "outputs": [
    {
     "data": {
      "text/plain": [
       "array([ 1,  0,  3,  2, -1,  4, 20,  5])"
      ]
     },
     "execution_count": 8,
     "metadata": {},
     "output_type": "execute_result"
    }
   ],
   "source": [
    "data['children'].unique()"
   ]
  },
  {
   "cell_type": "markdown",
   "id": "94db82c9",
   "metadata": {
    "deletable": false,
    "editable": false,
    "id": "40b9ebf2"
   },
   "source": [
    "**Задание 9. В столбце `children` есть два аномальных значения. Удалите строки, в которых встречаются такие аномальные значения из датафрейма `data`.**"
   ]
  },
  {
   "cell_type": "code",
   "execution_count": 9,
   "id": "daa0cfd4",
   "metadata": {
    "deletable": false,
    "id": "3ff9801d"
   },
   "outputs": [],
   "source": [
    "data = data[(data['children'] != -1) & (data['children'] != 20)]"
   ]
  },
  {
   "cell_type": "markdown",
   "id": "ed74181f",
   "metadata": {
    "deletable": false,
    "editable": false,
    "id": "bbc4d0ce"
   },
   "source": [
    "**Задание 10. Ещё раз выведите перечень уникальных значений столбца `children`, чтобы убедиться, что артефакты удалены.**"
   ]
  },
  {
   "cell_type": "code",
   "execution_count": 10,
   "id": "d949a5a8",
   "metadata": {
    "deletable": false,
    "id": "ad4fa8b7",
    "outputId": "b2097101-d49d-44d9-901b-32a65c9463d1"
   },
   "outputs": [
    {
     "data": {
      "text/plain": [
       "array([1, 0, 3, 2, 4, 5])"
      ]
     },
     "execution_count": 10,
     "metadata": {},
     "output_type": "execute_result"
    }
   ],
   "source": [
    "data['children'].unique()"
   ]
  },
  {
   "cell_type": "markdown",
   "id": "88101c98",
   "metadata": {
    "deletable": false,
    "editable": false,
    "id": "75440b63"
   },
   "source": [
    "### Удаление пропусков (продолжение)"
   ]
  },
  {
   "cell_type": "markdown",
   "id": "fafada45",
   "metadata": {
    "deletable": false,
    "editable": false,
    "id": "f4ea573f"
   },
   "source": [
    "**Задание 11. Заполните пропуски в столбце `days_employed` медианными значениями по каждого типа занятости `income_type`.**"
   ]
  },
  {
   "cell_type": "code",
   "execution_count": 11,
   "id": "939a9e03",
   "metadata": {
    "deletable": false,
    "id": "af6b1a7e"
   },
   "outputs": [],
   "source": [
    "for t in data['income_type'].unique():\n",
    "    data.loc[(data['income_type'] == t) & (data['days_employed'].isna()), 'days_employed'] = \\\n",
    "    data.loc[(data['income_type'] == t), 'days_employed'].median()"
   ]
  },
  {
   "cell_type": "markdown",
   "id": "2cf1e4a8",
   "metadata": {
    "deletable": false,
    "editable": false,
    "id": "2753f40d"
   },
   "source": [
    "**Задание 12. Убедитесь, что все пропуски заполнены. Проверьте себя и ещё раз выведите количество пропущенных значений для каждого столбца с помощью двух методов.**"
   ]
  },
  {
   "cell_type": "code",
   "execution_count": 12,
   "id": "2424c352",
   "metadata": {
    "deletable": false,
    "id": "55f78bc2",
    "outputId": "8da1e4e1-358e-4e87-98c9-f261bce0a7b2"
   },
   "outputs": [
    {
     "data": {
      "text/plain": [
       "children            0\n",
       "days_employed       0\n",
       "dob_years           0\n",
       "education           0\n",
       "education_id        0\n",
       "family_status       0\n",
       "family_status_id    0\n",
       "gender              0\n",
       "income_type         0\n",
       "debt                0\n",
       "total_income        0\n",
       "purpose             0\n",
       "dtype: int64"
      ]
     },
     "execution_count": 12,
     "metadata": {},
     "output_type": "execute_result"
    }
   ],
   "source": [
    "data.isna().sum()"
   ]
  },
  {
   "cell_type": "markdown",
   "id": "f6a71747",
   "metadata": {
    "deletable": false,
    "editable": false,
    "id": "ddc81e43"
   },
   "source": [
    "### Изменение типов данных"
   ]
  },
  {
   "cell_type": "markdown",
   "id": "53f5e1fa",
   "metadata": {
    "deletable": false,
    "editable": false,
    "id": "42d19d24"
   },
   "source": [
    "**Задание 13. Замените вещественный тип данных в столбце `total_income` на целочисленный с помощью метода `astype()`.**"
   ]
  },
  {
   "cell_type": "code",
   "execution_count": 13,
   "id": "98ed1bb8",
   "metadata": {
    "deletable": false,
    "id": "920b65ad"
   },
   "outputs": [],
   "source": [
    "data['total_income'] = data['total_income'].astype(int)"
   ]
  },
  {
   "cell_type": "markdown",
   "id": "be0824e2",
   "metadata": {
    "deletable": false,
    "editable": false,
    "id": "80c420ba"
   },
   "source": [
    "### Обработка дубликатов"
   ]
  },
  {
   "cell_type": "markdown",
   "id": "ea3a8234",
   "metadata": {
    "deletable": false,
    "editable": false
   },
   "source": [
    "**Задание 14. Обработайте неявные дубликаты в столбце `education`. В этом столбце есть одни и те же значения, но записанные по-разному: с использованием заглавных и строчных букв. Приведите их к нижнему регистру. Проверьте остальные столбцы.**"
   ]
  },
  {
   "cell_type": "code",
   "execution_count": 14,
   "id": "bac0ccf4",
   "metadata": {
    "deletable": false
   },
   "outputs": [],
   "source": [
    "data['education'] = data['education'].str.lower()"
   ]
  },
  {
   "cell_type": "markdown",
   "id": "0f141f61",
   "metadata": {
    "deletable": false,
    "editable": false,
    "id": "dc587695"
   },
   "source": [
    "**Задание 15. Выведите на экран количество строк-дубликатов в данных. Если такие строки присутствуют, удалите их.**"
   ]
  },
  {
   "cell_type": "code",
   "execution_count": 15,
   "id": "fad53972",
   "metadata": {
    "deletable": false,
    "id": "3ee445e4",
    "outputId": "9684deba-1934-42d1-99e1-cda61740f822"
   },
   "outputs": [
    {
     "data": {
      "text/plain": [
       "71"
      ]
     },
     "execution_count": 15,
     "metadata": {},
     "output_type": "execute_result"
    }
   ],
   "source": [
    "data.duplicated().sum()"
   ]
  },
  {
   "cell_type": "code",
   "execution_count": 16,
   "id": "319ad906",
   "metadata": {
    "deletable": false,
    "id": "8575fe05"
   },
   "outputs": [],
   "source": [
    "data = data.drop_duplicates()"
   ]
  },
  {
   "cell_type": "markdown",
   "id": "f5fef687",
   "metadata": {
    "deletable": false,
    "editable": false,
    "id": "9904cf55"
   },
   "source": [
    "### Категоризация данных"
   ]
  },
  {
   "cell_type": "markdown",
   "id": "9d8ea508",
   "metadata": {
    "deletable": false,
    "editable": false,
    "id": "72fcc8a2"
   },
   "source": [
    "**Задание 16. На основании диапазонов, указанных ниже, создайте в датафрейме `data` столбец `total_income_category` с категориями:**\n",
    "\n",
    "- 0–30000 — `'E'`;\n",
    "- 30001–50000 — `'D'`;\n",
    "- 50001–200000 — `'C'`;\n",
    "- 200001–1000000 — `'B'`;\n",
    "- 1000001 и выше — `'A'`.\n",
    "\n",
    "\n",
    "**Например, кредитополучателю с доходом 25000 нужно назначить категорию `'E'`, а клиенту, получающему 235000, — `'B'`. Используйте собственную функцию с именем `categorize_income()` и метод `apply()`.**"
   ]
  },
  {
   "cell_type": "code",
   "execution_count": 17,
   "id": "ac981b6a",
   "metadata": {
    "deletable": false,
    "id": "e1771346"
   },
   "outputs": [],
   "source": [
    "def categorize_income(income):\n",
    "    try:\n",
    "        if 0 <= income <= 30000:\n",
    "            return 'A'\n",
    "        elif 30001 <= income <= 50000:\n",
    "            return 'B'\n",
    "        elif 50001 <= income <= 200000:\n",
    "            return 'C'\n",
    "        elif 200001 <= income <= 1000000:\n",
    "            return 'D'\n",
    "        elif income >= 1000001:\n",
    "            return 'E'\n",
    "    except:\n",
    "        pass"
   ]
  },
  {
   "cell_type": "code",
   "execution_count": 18,
   "id": "32a35e38",
   "metadata": {
    "deletable": false,
    "id": "d5f3586d"
   },
   "outputs": [],
   "source": [
    "data['total_income_category'] = data['total_income'].apply(categorize_income)"
   ]
  },
  {
   "cell_type": "markdown",
   "id": "4ca359c8",
   "metadata": {
    "deletable": false,
    "editable": false,
    "id": "dde49b5c"
   },
   "source": [
    "**Задание 17. Выведите на экран перечень уникальных целей взятия кредита из столбца `purpose`.**"
   ]
  },
  {
   "cell_type": "code",
   "execution_count": 19,
   "id": "88075afb",
   "metadata": {
    "deletable": false,
    "id": "f67ce9b3",
    "outputId": "673c12d9-7d7e-4ae0-9812-c622c89dd244"
   },
   "outputs": [
    {
     "data": {
      "text/plain": [
       "array(['покупка жилья', 'приобретение автомобиля',\n",
       "       'дополнительное образование', 'сыграть свадьбу',\n",
       "       'операции с жильем', 'образование', 'на проведение свадьбы',\n",
       "       'покупка жилья для семьи', 'покупка недвижимости',\n",
       "       'покупка коммерческой недвижимости', 'покупка жилой недвижимости',\n",
       "       'строительство собственной недвижимости', 'недвижимость',\n",
       "       'строительство недвижимости', 'на покупку подержанного автомобиля',\n",
       "       'на покупку своего автомобиля',\n",
       "       'операции с коммерческой недвижимостью',\n",
       "       'строительство жилой недвижимости', 'жилье',\n",
       "       'операции со своей недвижимостью', 'автомобили',\n",
       "       'заняться образованием', 'сделка с подержанным автомобилем',\n",
       "       'получение образования', 'автомобиль', 'свадьба',\n",
       "       'получение дополнительного образования', 'покупка своего жилья',\n",
       "       'операции с недвижимостью', 'получение высшего образования',\n",
       "       'свой автомобиль', 'сделка с автомобилем',\n",
       "       'профильное образование', 'высшее образование',\n",
       "       'покупка жилья для сдачи', 'на покупку автомобиля', 'ремонт жилью',\n",
       "       'заняться высшим образованием'], dtype=object)"
      ]
     },
     "execution_count": 19,
     "metadata": {},
     "output_type": "execute_result"
    }
   ],
   "source": [
    "data['purpose'].unique()\n"
   ]
  },
  {
   "cell_type": "markdown",
   "id": "98c963cf",
   "metadata": {
    "deletable": false,
    "editable": false,
    "id": "85d0aef0"
   },
   "source": [
    "**Задание 18. Создайте функцию, которая на основании данных из столбца `purpose` сформирует новый столбец `purpose_category`, в который войдут следующие категории:**\n",
    "\n",
    "- `'операции с автомобилем'`,\n",
    "- `'операции с недвижимостью'`,\n",
    "- `'проведение свадьбы'`,\n",
    "- `'получение образования'`.\n",
    "\n",
    "**Например, если в столбце `purpose` находится подстрока `'на покупку автомобиля'`, то в столбце `purpose_category` должна появиться строка `'операции с автомобилем'`.**\n",
    "\n",
    "**Используйте собственную функцию с именем `categorize_purpose()` и метод `apply()`. Изучите данные в столбце `purpose` и определите, какие подстроки помогут вам правильно определить категорию.**"
   ]
  },
  {
   "cell_type": "code",
   "execution_count": 20,
   "id": "d09b3133",
   "metadata": {
    "deletable": false,
    "id": "e149fab4"
   },
   "outputs": [],
   "source": [
    "def categorize_purpose(row):\n",
    "    try:\n",
    "        if 'автом' in row:\n",
    "            return 'операции с автомобилем'\n",
    "        elif 'жил' in row or 'недвиж' in row:\n",
    "            return 'операции с недвижимостью'\n",
    "        elif 'свад' in row:\n",
    "            return 'проведение свадьбы'\n",
    "        elif 'образов' in row:\n",
    "            return 'получение образования'\n",
    "    except:\n",
    "        return 'нет категории'"
   ]
  },
  {
   "cell_type": "code",
   "execution_count": 21,
   "id": "eefec94c",
   "metadata": {
    "deletable": false,
    "id": "bf36e69b"
   },
   "outputs": [],
   "source": [
    "data['purpose_category'] = data['purpose'].apply(categorize_purpose)"
   ]
  },
  {
   "cell_type": "markdown",
   "id": "719c1eb7",
   "metadata": {},
   "source": [
    "<div class=\"alert alert-success\">\n",
    "<h1> Комментарий ревьюера✅</h1>\n",
    "\n",
    "Данные готовы к анализу)\n",
    "\n",
    "</div>"
   ]
  },
  {
   "cell_type": "markdown",
   "id": "2a0f048e",
   "metadata": {
    "deletable": false,
    "editable": false,
    "id": "09b242bf"
   },
   "source": [
    "### Шаг 3. Исследуйте данные и ответьте на вопросы"
   ]
  },
  {
   "cell_type": "markdown",
   "id": "fdd7f003",
   "metadata": {
    "deletable": false,
    "editable": false,
    "id": "c5d66278"
   },
   "source": [
    "#### 3.1 Есть ли зависимость между количеством детей и возвратом кредита в срок?"
   ]
  },
  {
   "cell_type": "code",
   "execution_count": 22,
   "id": "957a7c46",
   "metadata": {
    "deletable": false,
    "id": "2cacfc4a",
    "scrolled": true
   },
   "outputs": [
    {
     "data": {
      "text/plain": [
       "[Text(0, 0.5, 'Случаи просрочки кредитов, %'),\n",
       " Text(0.5, 0, 'Количество детей')]"
      ]
     },
     "execution_count": 22,
     "metadata": {},
     "output_type": "execute_result"
    },
    {
     "data": {
      "image/png": "[encoded data removed]",
      "text/plain": [
       "<Figure size 432x288 with 1 Axes>"
      ]
     },
     "metadata": {
      "needs_background": "light"
     },
     "output_type": "display_data"
    }
   ],
   "source": [
    "grouped_children = data.groupby('children').agg({'debt': ['sum','count']}).reset_index()# группировка по количеству детей\n",
    "grouped_children.columns = ['children'] + ['debt'] + ['full_set'] # задание таблицы с целевыми критериями\n",
    "grouped_children['conversion'] = (grouped_children['debt']/grouped_children['full_set'])*100 # отношение должников ко всем клиентам\n",
    "\n",
    "sb.barplot(x = grouped_children['children'], y = grouped_children['conversion'])\\\n",
    ".set(ylabel = 'Случаи просрочки кредитов, %', xlabel = 'Количество детей') # создание столбчатой диаграммы"
   ]
  },
  {
   "cell_type": "markdown",
   "id": "b051df5d",
   "metadata": {},
   "source": [
    "По выведенным данным можно сказать, что самые ненадежные заемщики - это люди с `4 детьми`, в данной группе процент просрочек `9.75`. В тоже время самыми надежными стали люди с `5 детьми` - они имеют `нулевой процент` просрочек, но эти данные на первый взгляд кажутся аномальными, нужно рассмотреть подробней это группу людей.  "
   ]
  },
  {
   "cell_type": "markdown",
   "id": "9f58e86e",
   "metadata": {},
   "source": [
    "<div class=\"alert alert-success\">\n",
    "<h1> Комментарий ревьюера✅</h1>\n",
    "\n",
    "Красивый график и хороший вывод.\n",
    "\n",
    "</div>"
   ]
  },
  {
   "cell_type": "code",
   "execution_count": 23,
   "id": "537a278e",
   "metadata": {},
   "outputs": [
    {
     "data": {
      "text/html": [
       "<style  type=\"text/css\" >\n",
       "    #T_4d5d3_ th {\n",
       "          text-align: center;\n",
       "    }#T_4d5d3_row0_col0,#T_4d5d3_row0_col1,#T_4d5d3_row0_col2,#T_4d5d3_row0_col3,#T_4d5d3_row1_col0,#T_4d5d3_row1_col1,#T_4d5d3_row1_col2,#T_4d5d3_row1_col3,#T_4d5d3_row2_col0,#T_4d5d3_row2_col1,#T_4d5d3_row2_col2,#T_4d5d3_row2_col3,#T_4d5d3_row3_col0,#T_4d5d3_row3_col1,#T_4d5d3_row3_col2,#T_4d5d3_row3_col3,#T_4d5d3_row4_col0,#T_4d5d3_row4_col1,#T_4d5d3_row4_col2,#T_4d5d3_row4_col3,#T_4d5d3_row5_col0,#T_4d5d3_row5_col1,#T_4d5d3_row5_col2,#T_4d5d3_row5_col3{\n",
       "            text-align:  center;\n",
       "        }</style><table id=\"T_4d5d3_\" ><thead>    <tr>        <th class=\"col_heading level0 col0\" >children</th>        <th class=\"col_heading level0 col1\" >debt</th>        <th class=\"col_heading level0 col2\" >full_set</th>        <th class=\"col_heading level0 col3\" >conversion</th>    </tr></thead><tbody>\n",
       "                <tr>\n",
       "                                <td id=\"T_4d5d3_row0_col0\" class=\"data row0 col0\" >0</td>\n",
       "                        <td id=\"T_4d5d3_row0_col1\" class=\"data row0 col1\" >1063</td>\n",
       "                        <td id=\"T_4d5d3_row0_col2\" class=\"data row0 col2\" >14091</td>\n",
       "                        <td id=\"T_4d5d3_row0_col3\" class=\"data row0 col3\" >7.543822</td>\n",
       "            </tr>\n",
       "            <tr>\n",
       "                                <td id=\"T_4d5d3_row1_col0\" class=\"data row1 col0\" >1</td>\n",
       "                        <td id=\"T_4d5d3_row1_col1\" class=\"data row1 col1\" >444</td>\n",
       "                        <td id=\"T_4d5d3_row1_col2\" class=\"data row1 col2\" >4808</td>\n",
       "                        <td id=\"T_4d5d3_row1_col3\" class=\"data row1 col3\" >9.234609</td>\n",
       "            </tr>\n",
       "            <tr>\n",
       "                                <td id=\"T_4d5d3_row2_col0\" class=\"data row2 col0\" >2</td>\n",
       "                        <td id=\"T_4d5d3_row2_col1\" class=\"data row2 col1\" >194</td>\n",
       "                        <td id=\"T_4d5d3_row2_col2\" class=\"data row2 col2\" >2052</td>\n",
       "                        <td id=\"T_4d5d3_row2_col3\" class=\"data row2 col3\" >9.454191</td>\n",
       "            </tr>\n",
       "            <tr>\n",
       "                                <td id=\"T_4d5d3_row3_col0\" class=\"data row3 col0\" >3</td>\n",
       "                        <td id=\"T_4d5d3_row3_col1\" class=\"data row3 col1\" >27</td>\n",
       "                        <td id=\"T_4d5d3_row3_col2\" class=\"data row3 col2\" >330</td>\n",
       "                        <td id=\"T_4d5d3_row3_col3\" class=\"data row3 col3\" >8.181818</td>\n",
       "            </tr>\n",
       "            <tr>\n",
       "                                <td id=\"T_4d5d3_row4_col0\" class=\"data row4 col0\" >4</td>\n",
       "                        <td id=\"T_4d5d3_row4_col1\" class=\"data row4 col1\" >4</td>\n",
       "                        <td id=\"T_4d5d3_row4_col2\" class=\"data row4 col2\" >41</td>\n",
       "                        <td id=\"T_4d5d3_row4_col3\" class=\"data row4 col3\" >9.756098</td>\n",
       "            </tr>\n",
       "            <tr>\n",
       "                                <td id=\"T_4d5d3_row5_col0\" class=\"data row5 col0\" >5</td>\n",
       "                        <td id=\"T_4d5d3_row5_col1\" class=\"data row5 col1\" >0</td>\n",
       "                        <td id=\"T_4d5d3_row5_col2\" class=\"data row5 col2\" >9</td>\n",
       "                        <td id=\"T_4d5d3_row5_col3\" class=\"data row5 col3\" >0.000000</td>\n",
       "            </tr>\n",
       "    </tbody></table>"
      ],
      "text/plain": [
       "<pandas.io.formats.style.Styler at 0x7fe74049d700>"
      ]
     },
     "execution_count": 23,
     "metadata": {},
     "output_type": "execute_result"
    }
   ],
   "source": [
    "grouped_children.style.set_properties(**{\"text-align\": \"center\"})\\\n",
    "        .hide_index()\\\n",
    "        .set_table_styles([{\"selector\": \"th\", \"props\": [(\"text-align\",\"center\")]}])#центрирование значений стобцов, скрыть индексы датафрейма, центрирование названия столбцов "
   ]
  },
  {
   "cell_type": "markdown",
   "id": "7a7f4050",
   "metadata": {
    "deletable": false,
    "id": "3a6b99ec"
   },
   "source": [
    "**Вывод:** В результате рассмотрения данных о общем количестве клиентов, можно заметить, что заемщиков с `пятью детьми` очень мало в сравнении с бездетными клиентами. Выборка из `9` человек не показательна, поэтому проводить на её основе анализ не следует.\n",
    "\n",
    "Можно сказать, что с ростом количества детей увеличивается вероятность просрочки кредита, самыми надеждными заемщиками остаются люди без детей."
   ]
  },
  {
   "cell_type": "markdown",
   "id": "b90795d0",
   "metadata": {},
   "source": [
    "<div class=\"alert alert-success\">\n",
    "<h1> Комментарий ревьюера✅</h1>\n",
    "\n",
    "Согласен с тобой, самые надежные заемщики без детей. Увеличение вероятности просрочки с ростом количества детей есть, но не большая.\n",
    "\n",
    "</div>"
   ]
  },
  {
   "cell_type": "markdown",
   "id": "d3a66ccc",
   "metadata": {},
   "source": [
    "<div class=\"alert alert-warning\">\n",
    "<h1> Комментарий ревьюера💡</h1>\n",
    "\n",
    "Сводную таблицу с количеством заемщиков, должников и долей просрочки можно одним действием. К сгруппированным данным можно применить метод **agg** и в качестве аргумента передать список аггрегатных функций.\n",
    "\n",
    "</div>"
   ]
  },
  {
   "cell_type": "markdown",
   "id": "2578b92b",
   "metadata": {},
   "source": [
    "<div class=\"alert alert-info\">\n",
    "\n",
    "**Комментарий студента**\n",
    "    \n",
    "Я чуть изменил подход к созданию таблицы, применив метод **agg** для данного задания и последующих. Так лучше?\n"
   ]
  },
  {
   "cell_type": "markdown",
   "id": "babc96ba",
   "metadata": {},
   "source": [
    "<div class=\"alert alert-success\">\n",
    "<h1> Комментарий ревьюера V2✅</h1>\n",
    "\n",
    "Лучше это такое расплывчатое понятие) Самое главное получить нужный результат. Ты получил его и без использования **agg**.\n",
    "    \n",
    "С помощью **agg** просто можно получить тот же результат, написав чуть меньше кода. В теории чем меньше пишешь кода, тем меньше возможностей ошибится.\n",
    "   \n",
    "Вот как-то так можно в одну цепочку получить сводную таблицу:\n",
    "\n",
    "    (\n",
    "    data\n",
    "    .groupby(\"children\")[\"debt\"]\n",
    "    .agg([\"count\", \"sum\", \"mean\"])\n",
    "    .rename(columns={\"count\": \"количество\", \"sum\": \"должники\", \"mean\": \"доля просрочки\"})\n",
    "    .style\n",
    "    .format({\"доля просрочки\": \"{:.2%}\"})\n",
    "    )\n",
    "</div>"
   ]
  },
  {
   "cell_type": "markdown",
   "id": "7cd37e37",
   "metadata": {
    "deletable": false,
    "editable": false,
    "id": "97be82ca"
   },
   "source": [
    "#### 3.2 Есть ли зависимость между семейным положением и возвратом кредита в срок?"
   ]
  },
  {
   "cell_type": "code",
   "execution_count": 24,
   "id": "7cefaf43",
   "metadata": {
    "deletable": false,
    "id": "dc3f7ee8"
   },
   "outputs": [
    {
     "data": {
      "text/plain": [
       "(6.0, 10.0)"
      ]
     },
     "execution_count": 24,
     "metadata": {},
     "output_type": "execute_result"
    },
    {
     "data": {
      "image/png": "[encoded data removed]",
      "text/plain": [
       "<Figure size 432x288 with 1 Axes>"
      ]
     },
     "metadata": {
      "needs_background": "light"
     },
     "output_type": "display_data"
    }
   ],
   "source": [
    "grouped_family = data.groupby('family_status').agg({'debt': ['sum','count']}).reset_index()   # группировка по семейному статусу\n",
    "grouped_family.columns = ['family_status'] + ['debt'] + ['full_set']\n",
    "\n",
    "grouped_family['conversion'] = (grouped_family['debt'] / grouped_family['full_set'])*100 # отношение должников ко всем клиентам\n",
    "grouped_family = grouped_family.sort_values('conversion', ascending = False) \n",
    "plot = sb.barplot(x = grouped_family['conversion'] , y = grouped_family['family_status']) \n",
    "plot.set(xlabel = 'Случаи просрочки кредитов, %',ylabel = '') #задание названия осей\n",
    "plot.set_xlim(6,10) #сужение диапазона для лучшего отображения различий между категорями\n"
   ]
  },
  {
   "cell_type": "markdown",
   "id": "2901398f",
   "metadata": {},
   "source": [
    "Как мы видим по графику, имеется четкая равномерная зависимость между семейным положением и возвратом кредита в срок. Рассмотрим достаточно ли данных для сравнения по семейному положению."
   ]
  },
  {
   "cell_type": "markdown",
   "id": "24ac6b04",
   "metadata": {},
   "source": [
    "<div class=\"alert alert-success\">\n",
    "<h1> Комментарий ревьюера ✅</h1>\n",
    "\n",
    "👍\n",
    "\n",
    "</div>"
   ]
  },
  {
   "cell_type": "code",
   "execution_count": 25,
   "id": "949d3d84",
   "metadata": {},
   "outputs": [
    {
     "data": {
      "text/html": [
       "<style  type=\"text/css\" >\n",
       "    #T_f220c_ th {\n",
       "          text-align: center;\n",
       "    }#T_f220c_row0_col0,#T_f220c_row0_col1,#T_f220c_row0_col2,#T_f220c_row0_col3,#T_f220c_row1_col0,#T_f220c_row1_col1,#T_f220c_row1_col2,#T_f220c_row1_col3,#T_f220c_row2_col0,#T_f220c_row2_col1,#T_f220c_row2_col2,#T_f220c_row2_col3,#T_f220c_row3_col0,#T_f220c_row3_col1,#T_f220c_row3_col2,#T_f220c_row3_col3,#T_f220c_row4_col0,#T_f220c_row4_col1,#T_f220c_row4_col2,#T_f220c_row4_col3{\n",
       "            text-align:  center;\n",
       "        }</style><table id=\"T_f220c_\" ><thead>    <tr>        <th class=\"col_heading level0 col0\" >family_status</th>        <th class=\"col_heading level0 col1\" >debt</th>        <th class=\"col_heading level0 col2\" >full_set</th>        <th class=\"col_heading level0 col3\" >conversion</th>    </tr></thead><tbody>\n",
       "                <tr>\n",
       "                                <td id=\"T_f220c_row0_col0\" class=\"data row0 col0\" >Не женат / не замужем</td>\n",
       "                        <td id=\"T_f220c_row0_col1\" class=\"data row0 col1\" >273</td>\n",
       "                        <td id=\"T_f220c_row0_col2\" class=\"data row0 col2\" >2796</td>\n",
       "                        <td id=\"T_f220c_row0_col3\" class=\"data row0 col3\" >9.763948</td>\n",
       "            </tr>\n",
       "            <tr>\n",
       "                                <td id=\"T_f220c_row1_col0\" class=\"data row1 col0\" >гражданский брак</td>\n",
       "                        <td id=\"T_f220c_row1_col1\" class=\"data row1 col1\" >385</td>\n",
       "                        <td id=\"T_f220c_row1_col2\" class=\"data row1 col2\" >4134</td>\n",
       "                        <td id=\"T_f220c_row1_col3\" class=\"data row1 col3\" >9.313014</td>\n",
       "            </tr>\n",
       "            <tr>\n",
       "                                <td id=\"T_f220c_row2_col0\" class=\"data row2 col0\" >женат / замужем</td>\n",
       "                        <td id=\"T_f220c_row2_col1\" class=\"data row2 col1\" >927</td>\n",
       "                        <td id=\"T_f220c_row2_col2\" class=\"data row2 col2\" >12261</td>\n",
       "                        <td id=\"T_f220c_row2_col3\" class=\"data row2 col3\" >7.560558</td>\n",
       "            </tr>\n",
       "            <tr>\n",
       "                                <td id=\"T_f220c_row3_col0\" class=\"data row3 col0\" >в разводе</td>\n",
       "                        <td id=\"T_f220c_row3_col1\" class=\"data row3 col1\" >84</td>\n",
       "                        <td id=\"T_f220c_row3_col2\" class=\"data row3 col2\" >1189</td>\n",
       "                        <td id=\"T_f220c_row3_col3\" class=\"data row3 col3\" >7.064760</td>\n",
       "            </tr>\n",
       "            <tr>\n",
       "                                <td id=\"T_f220c_row4_col0\" class=\"data row4 col0\" >вдовец / вдова</td>\n",
       "                        <td id=\"T_f220c_row4_col1\" class=\"data row4 col1\" >63</td>\n",
       "                        <td id=\"T_f220c_row4_col2\" class=\"data row4 col2\" >951</td>\n",
       "                        <td id=\"T_f220c_row4_col3\" class=\"data row4 col3\" >6.624606</td>\n",
       "            </tr>\n",
       "    </tbody></table>"
      ],
      "text/plain": [
       "<pandas.io.formats.style.Styler at 0x7fe7402204f0>"
      ]
     },
     "execution_count": 25,
     "metadata": {},
     "output_type": "execute_result"
    }
   ],
   "source": [
    "grouped_family.style.set_properties(**{\"text-align\": \"center\"})\\\n",
    "        .hide_index()\\\n",
    "        .set_table_styles([{\"selector\": \"th\" , \"props\": [(\"text-align\",\"center\")]}]) # центрирование названия столбцов, центрирование значений стобцов, скрыть индексы датафрейма"
   ]
  },
  {
   "cell_type": "markdown",
   "id": "389863ca",
   "metadata": {
    "deletable": false,
    "id": "1cef7837"
   },
   "source": [
    "**Вывод:** Количество клиентов в каждой категории имеет одинаковый порядок, следовательно их сравнение достоверно. Самыми надежными клиентами стали `вдовы` с процентов просрочек: `6.6`. Но самыми нендажными стали `неженатые люди` с процентом просрочек: `9.76`, что частично протеворчит результату из предыдущего задания. \n",
    "\n",
    "Получается, что высокая надежность `бездетных клиентов`  подтверждается только в том случае, если они `когда-либо состояли в браке`.  "
   ]
  },
  {
   "cell_type": "markdown",
   "id": "fd785324",
   "metadata": {},
   "source": [
    "<div class=\"alert alert-success\">\n",
    "<h1> Комментарий ревьюера ✅</h1>\n",
    "\n",
    "В целом можно сказать, что заемщики, которые находятся или были в официальном браке платят за кредит исправнее.\n",
    "    \n",
    "Интересное замечание на счет взаимного влияния факторов. В принципе это тоже можно проверить)\n",
    "\n",
    "</div>"
   ]
  },
  {
   "cell_type": "markdown",
   "id": "5c62ab3b",
   "metadata": {
    "deletable": false,
    "editable": false,
    "id": "1e8b2fca"
   },
   "source": [
    "#### 3.3 Есть ли зависимость между уровнем дохода и возвратом кредита в срок?"
   ]
  },
  {
   "cell_type": "code",
   "execution_count": 26,
   "id": "a6cfafb5",
   "metadata": {
    "deletable": false,
    "id": "cd7e3720"
   },
   "outputs": [
    {
     "data": {
      "text/plain": [
       "(5.0, 10.0)"
      ]
     },
     "execution_count": 26,
     "metadata": {},
     "output_type": "execute_result"
    },
    {
     "data": {
      "image/png": "[encoded data removed]",
      "text/plain": [
       "<Figure size 432x288 with 1 Axes>"
      ]
     },
     "metadata": {
      "needs_background": "light"
     },
     "output_type": "display_data"
    }
   ],
   "source": [
    "grouped_income = data.groupby('total_income_category').agg({'debt': ['sum','count']}).reset_index()   # группировка по доходу\n",
    "grouped_income.columns = ['total_income_category'] + ['debt'] + ['full_set']\n",
    "grouped_income['conversion'] = (grouped_income['debt']/ grouped_income['full_set'])*100 #отношение должников ко всем клиентам \n",
    "plot = sb.barplot(x = grouped_income['total_income_category'], y = grouped_income['conversion'])\n",
    "plot.set(ylabel = 'Случаи просрочки кредитов, %', xlabel = 'Категории по возрастанию дохода') #задание названия осей\n",
    "plot.set_ylim(5,10) #сужение диапазона для лучшего отображения различий между категорями"
   ]
  },
  {
   "cell_type": "markdown",
   "id": "d994aecb",
   "metadata": {},
   "source": [
    "По графику видно, что самыми ненадежными заемщиками явлются люди с доходом меньше 30т.р. и процентом просрочки `9.1`, что логично, так как потребительская корзина одного человека в месяц на данный момент 13т.р., в результате чего может не хватить денег на покрытие долга. Но также мы видим, неожиданный результат - люди в категории с доходом больше 1млн.р допускают просрочку в `8%` случаев, нужно проверить применимость этих данных для сравнения."
   ]
  },
  {
   "cell_type": "markdown",
   "id": "aef94245",
   "metadata": {},
   "source": [
    "<div class=\"alert alert-success\">\n",
    "<h1> Комментарий ревьюера ✅</h1>\n",
    "\n",
    "Очень наглядные график. Но действительно еще нужно посмотреть на размеры категорий.\n",
    "\n",
    "</div>"
   ]
  },
  {
   "cell_type": "code",
   "execution_count": 27,
   "id": "fe4070f8",
   "metadata": {},
   "outputs": [
    {
     "data": {
      "text/html": [
       "<style  type=\"text/css\" >\n",
       "    #T_deb23_ th {\n",
       "          text-align: center;\n",
       "    }#T_deb23_row0_col0,#T_deb23_row0_col1,#T_deb23_row0_col2,#T_deb23_row0_col3,#T_deb23_row1_col0,#T_deb23_row1_col1,#T_deb23_row1_col2,#T_deb23_row1_col3,#T_deb23_row2_col0,#T_deb23_row2_col1,#T_deb23_row2_col2,#T_deb23_row2_col3,#T_deb23_row3_col0,#T_deb23_row3_col1,#T_deb23_row3_col2,#T_deb23_row3_col3,#T_deb23_row4_col0,#T_deb23_row4_col1,#T_deb23_row4_col2,#T_deb23_row4_col3{\n",
       "            text-align:  center;\n",
       "        }</style><table id=\"T_deb23_\" ><thead>    <tr>        <th class=\"col_heading level0 col0\" >total_income_category</th>        <th class=\"col_heading level0 col1\" >debt</th>        <th class=\"col_heading level0 col2\" >full_set</th>        <th class=\"col_heading level0 col3\" >conversion</th>    </tr></thead><tbody>\n",
       "                <tr>\n",
       "                                <td id=\"T_deb23_row0_col0\" class=\"data row0 col0\" >A</td>\n",
       "                        <td id=\"T_deb23_row0_col1\" class=\"data row0 col1\" >2</td>\n",
       "                        <td id=\"T_deb23_row0_col2\" class=\"data row0 col2\" >22</td>\n",
       "                        <td id=\"T_deb23_row0_col3\" class=\"data row0 col3\" >9.090909</td>\n",
       "            </tr>\n",
       "            <tr>\n",
       "                                <td id=\"T_deb23_row1_col0\" class=\"data row1 col0\" >B</td>\n",
       "                        <td id=\"T_deb23_row1_col1\" class=\"data row1 col1\" >21</td>\n",
       "                        <td id=\"T_deb23_row1_col2\" class=\"data row1 col2\" >349</td>\n",
       "                        <td id=\"T_deb23_row1_col3\" class=\"data row1 col3\" >6.017192</td>\n",
       "            </tr>\n",
       "            <tr>\n",
       "                                <td id=\"T_deb23_row2_col0\" class=\"data row2 col0\" >C</td>\n",
       "                        <td id=\"T_deb23_row2_col1\" class=\"data row2 col1\" >1353</td>\n",
       "                        <td id=\"T_deb23_row2_col2\" class=\"data row2 col2\" >15921</td>\n",
       "                        <td id=\"T_deb23_row2_col3\" class=\"data row2 col3\" >8.498210</td>\n",
       "            </tr>\n",
       "            <tr>\n",
       "                                <td id=\"T_deb23_row3_col0\" class=\"data row3 col0\" >D</td>\n",
       "                        <td id=\"T_deb23_row3_col1\" class=\"data row3 col1\" >354</td>\n",
       "                        <td id=\"T_deb23_row3_col2\" class=\"data row3 col2\" >5014</td>\n",
       "                        <td id=\"T_deb23_row3_col3\" class=\"data row3 col3\" >7.060231</td>\n",
       "            </tr>\n",
       "            <tr>\n",
       "                                <td id=\"T_deb23_row4_col0\" class=\"data row4 col0\" >E</td>\n",
       "                        <td id=\"T_deb23_row4_col1\" class=\"data row4 col1\" >2</td>\n",
       "                        <td id=\"T_deb23_row4_col2\" class=\"data row4 col2\" >25</td>\n",
       "                        <td id=\"T_deb23_row4_col3\" class=\"data row4 col3\" >8.000000</td>\n",
       "            </tr>\n",
       "    </tbody></table>"
      ],
      "text/plain": [
       "<pandas.io.formats.style.Styler at 0x7fe74022b3d0>"
      ]
     },
     "execution_count": 27,
     "metadata": {},
     "output_type": "execute_result"
    }
   ],
   "source": [
    "grouped_income.style.set_properties(**{\"text-align\": \"center\"})\\\n",
    "        .hide_index()\\\n",
    "        .set_table_styles([{\"selector\": \"th\" , \"props\": [(\"text-align\",\"center\")]}]) # центрирование значений стобцов,скрыть индексы датафрейма, центрирование названия столбцов"
   ]
  },
  {
   "cell_type": "markdown",
   "id": "b6975095",
   "metadata": {
    "deletable": false,
    "id": "e8593def"
   },
   "source": [
    "**Вывод:** Мы можем увидеть, что людей в категории `А` И `Е` значительно меньше, чем в остальных, значит их было бы некорректно сравнивать с остальными из-за ограниченности выборки. Можно сделать вывод, что зависимость между уровнем дохода и просрочкой кредита есть, самыми ненадеждными в этом плане являются люди с доходом меньше `200т.р., но больше 50т.р.`, также банки им чаще всего выдают кредит, но и людей, которые обращались в банк с таким уровнем дохода может быть больше всего. Самыми надежными является люди с доходом больше `30т.р., но меньше 50т.р`. \n",
    "\n",
    "Не зная размера кредитов и еще ряда парматеров нельзя сделать вывод о надежности заемщика. "
   ]
  },
  {
   "cell_type": "markdown",
   "id": "ef5a4b27",
   "metadata": {},
   "source": [
    "<div class=\"alert alert-success\">\n",
    "<h1> Комментарий ревьюера ✅</h1>\n",
    "\n",
    "В целом верно. Хотя возможно категория от 30 до 50 тоже представлена недостаточно.\n",
    "    \n",
    "Размер кредита - это параметр, которым банк оперирует самостоятельно. Мне кажется это один из инструментов, который позволяет корректировать вероятность просрочки. Врядли ненадежному заемщику выдадут большую сумму.\n",
    "\n",
    "</div>"
   ]
  },
  {
   "cell_type": "markdown",
   "id": "055a542a",
   "metadata": {
    "deletable": false,
    "editable": false,
    "id": "99ecbd1f"
   },
   "source": [
    "#### 3.4 Как разные цели кредита влияют на его возврат в срок?"
   ]
  },
  {
   "cell_type": "code",
   "execution_count": 28,
   "id": "9f9f1183",
   "metadata": {
    "deletable": false,
    "id": "2b687290",
    "scrolled": true
   },
   "outputs": [
    {
     "data": {
      "text/plain": [
       "(7.0, 10.0)"
      ]
     },
     "execution_count": 28,
     "metadata": {},
     "output_type": "execute_result"
    },
    {
     "data": {
      "image/png": "[encoded data removed]",
      "text/plain": [
       "<Figure size 432x288 with 1 Axes>"
      ]
     },
     "metadata": {
      "needs_background": "light"
     },
     "output_type": "display_data"
    }
   ],
   "source": [
    "grouped_purpose = data.groupby('purpose_category').agg({'debt': ['sum','count']}).reset_index()   # группировка по цели кредита\n",
    "grouped_purpose.columns = ['purpose_category'] + ['debt'] + ['full_set']\n",
    "grouped_purpose['conversion'] = (grouped_purpose['debt'] / grouped_purpose['full_set'])*100 # отношение должников ко всем клиентам\n",
    "grouped_purpose = grouped_purpose.sort_values('conversion', ascending = False) #задание таблицы с целевыми критериям\n",
    "plot = sb.barplot(x = grouped_purpose['conversion'] , y = grouped_purpose['purpose_category'] )\n",
    "plot.set(ylabel = '', xlabel = 'Категории по возрастанию дохода') #задание названия осей\n",
    "plot.set_xlim(7,10) #сужение диапазона для лучшего отображения различий между категорями"
   ]
  },
  {
   "cell_type": "markdown",
   "id": "69fa9769",
   "metadata": {},
   "source": [
    "Зависимость между уровнем дохода и просрочкой прослеживается. Например, люди берущие кредит на `автомобиль` и `образование` на 2 процента чаще допускают просрочку, чем заемщики в категории `недвижимость`. Можно сравнить количество людей, которые берут кредит на разные цели."
   ]
  },
  {
   "cell_type": "code",
   "execution_count": 29,
   "id": "5fa3069b",
   "metadata": {},
   "outputs": [
    {
     "data": {
      "text/html": [
       "<style  type=\"text/css\" >\n",
       "    #T_2ac0d_ th {\n",
       "          text-align: center;\n",
       "    }#T_2ac0d_row0_col0,#T_2ac0d_row0_col1,#T_2ac0d_row0_col2,#T_2ac0d_row0_col3,#T_2ac0d_row1_col0,#T_2ac0d_row1_col1,#T_2ac0d_row1_col2,#T_2ac0d_row1_col3,#T_2ac0d_row2_col0,#T_2ac0d_row2_col1,#T_2ac0d_row2_col2,#T_2ac0d_row2_col3,#T_2ac0d_row3_col0,#T_2ac0d_row3_col1,#T_2ac0d_row3_col2,#T_2ac0d_row3_col3{\n",
       "            text-align:  center;\n",
       "        }</style><table id=\"T_2ac0d_\" ><thead>    <tr>        <th class=\"col_heading level0 col0\" >purpose_category</th>        <th class=\"col_heading level0 col1\" >debt</th>        <th class=\"col_heading level0 col2\" >full_set</th>        <th class=\"col_heading level0 col3\" >conversion</th>    </tr></thead><tbody>\n",
       "                <tr>\n",
       "                                <td id=\"T_2ac0d_row0_col0\" class=\"data row0 col0\" >операции с автомобилем</td>\n",
       "                        <td id=\"T_2ac0d_row0_col1\" class=\"data row0 col1\" >400</td>\n",
       "                        <td id=\"T_2ac0d_row0_col2\" class=\"data row0 col2\" >4279</td>\n",
       "                        <td id=\"T_2ac0d_row0_col3\" class=\"data row0 col3\" >9.347978</td>\n",
       "            </tr>\n",
       "            <tr>\n",
       "                                <td id=\"T_2ac0d_row1_col0\" class=\"data row1 col0\" >получение образования</td>\n",
       "                        <td id=\"T_2ac0d_row1_col1\" class=\"data row1 col1\" >369</td>\n",
       "                        <td id=\"T_2ac0d_row1_col2\" class=\"data row1 col2\" >3988</td>\n",
       "                        <td id=\"T_2ac0d_row1_col3\" class=\"data row1 col3\" >9.252758</td>\n",
       "            </tr>\n",
       "            <tr>\n",
       "                                <td id=\"T_2ac0d_row2_col0\" class=\"data row2 col0\" >проведение свадьбы</td>\n",
       "                        <td id=\"T_2ac0d_row2_col1\" class=\"data row2 col1\" >183</td>\n",
       "                        <td id=\"T_2ac0d_row2_col2\" class=\"data row2 col2\" >2313</td>\n",
       "                        <td id=\"T_2ac0d_row2_col3\" class=\"data row2 col3\" >7.911803</td>\n",
       "            </tr>\n",
       "            <tr>\n",
       "                                <td id=\"T_2ac0d_row3_col0\" class=\"data row3 col0\" >операции с недвижимостью</td>\n",
       "                        <td id=\"T_2ac0d_row3_col1\" class=\"data row3 col1\" >780</td>\n",
       "                        <td id=\"T_2ac0d_row3_col2\" class=\"data row3 col2\" >10751</td>\n",
       "                        <td id=\"T_2ac0d_row3_col3\" class=\"data row3 col3\" >7.255139</td>\n",
       "            </tr>\n",
       "    </tbody></table>"
      ],
      "text/plain": [
       "<pandas.io.formats.style.Styler at 0x7fe740178b80>"
      ]
     },
     "execution_count": 29,
     "metadata": {},
     "output_type": "execute_result"
    }
   ],
   "source": [
    "grouped_purpose.style.set_properties(**{\"text-align\": \"center\"})\\\n",
    "        .hide_index()\\\n",
    "        .set_table_styles([{\"selector\": \"th\" , \"props\": [(\"text-align\",\"center\")]}]) # центрирование значений стобцов, скрыть индексы датафрейма,центрирование названия столбцов"
   ]
  },
  {
   "cell_type": "markdown",
   "id": "3e15805e",
   "metadata": {
    "deletable": false,
    "id": "b4bb2ce6"
   },
   "source": [
    "**Вывод:** Выборки по каждому критерию схожи. Значит можно заключить, что самыми надеждными являются люди берущие кредит на `недвижимость`, в то время как заемщики в категории `автомобиль` и `образование` самые ненадежные. Надежность клиентов в категории `недвижимость` можно объяснить тем, что просрочка может привести к риску потери жилья."
   ]
  },
  {
   "cell_type": "markdown",
   "id": "47da0e5f",
   "metadata": {},
   "source": [
    "<div class=\"alert alert-success\">\n",
    "<h1> Комментарий ревьюера ✅</h1>\n",
    "\n",
    "Хороший вывод, основанный на данных. Ипотеку действительно платят исправнее.\n",
    "\n",
    "</div>"
   ]
  },
  {
   "cell_type": "markdown",
   "id": "6dbcc5f9",
   "metadata": {
    "deletable": false,
    "editable": false,
    "id": "09c3ac4c"
   },
   "source": [
    "#### 3.5 Приведите возможные причины появления пропусков в исходных данных."
   ]
  },
  {
   "cell_type": "markdown",
   "id": "5abbbee4",
   "metadata": {
    "deletable": false,
    "id": "9da2ceda"
   },
   "source": [
    "*Ответ*:\n",
    "   \n",
    "   *Пропуски и возможные причины можно разделить на три категории:* \n",
    "- **Полностью случайные (MCAR)**: если вероятность пропуска не зависит ни от каких других значений. Игнорирование или исключение данной записи может не привести к искажению результатов. Причина возникновения пропусков - потеря страницы из бланка-опроса или на некоторые вопросы респонденты не отвечали, в целом это человеческий фактор.\n",
    "- **Случайные (MAR)**: если вероятность пропуска может быть определена на основе другой имеющейся в наборе данных информации, но не зависит от значений собственного столбца. В таком случае удаление или замена пропусков не приведет к существенному искажению результатов. В качестве причины возникновения можно указать, что такой категории не существует.\n",
    "- **Неслучайные (MNAR)**: если вероятность пропуска зависит от других значений в наборе данных, в том числе и от значений собственного столбца. Вероятность пропуска невозможно узнать на основе информации из набора данных, в таком случае нельзя просто проигнорировать пропуски. Причиной может быть ограничение диапазона чувствительности анализатора спектра, или некорректный вопрос в рамках религии данного региона. "
   ]
  },
  {
   "cell_type": "markdown",
   "id": "9b9b2931",
   "metadata": {},
   "source": [
    "<div class=\"alert alert-warning\">\n",
    "<h1> Комментарий ревьюера💡</h1>\n",
    "\n",
    "Ты хорошо расписал категории причин. Но в данном задании достаточно предположить, что именно стало причиной пропусков в колонках с доходом и трудовым стажем.\n",
    "\n",
    "</div>"
   ]
  },
  {
   "cell_type": "markdown",
   "id": "5fe0c548",
   "metadata": {
    "deletable": false,
    "editable": false,
    "id": "7b0487d6"
   },
   "source": [
    "#### 3.6 Объясните, почему заполнить пропуски медианным значением — лучшее решение для количественных переменных."
   ]
  },
  {
   "cell_type": "markdown",
   "id": "94d93ac5",
   "metadata": {
    "deletable": false,
    "id": "7ecf2b8e"
   },
   "source": [
    "*Ответ:*  оба метода могут быть эффективно использованы в некоторых случаях. На практике чаще используют заполнение медианным значением для количественных перменных, так как медиана является более устойчивым показателем к выбросам в данных. "
   ]
  },
  {
   "cell_type": "markdown",
   "id": "dca4eb14",
   "metadata": {},
   "source": [
    "<div class=\"alert alert-success\">\n",
    "<h1> Комментарий ревьюера ✅</h1>\n",
    "\n",
    "Все так. Медиана более устойчива к выбросам.\n",
    "\n",
    "</div>"
   ]
  },
  {
   "cell_type": "markdown",
   "id": "59b08eb8",
   "metadata": {
    "deletable": false,
    "editable": false,
    "id": "6db5255a"
   },
   "source": [
    "### Шаг 4: общий вывод."
   ]
  },
  {
   "cell_type": "markdown",
   "id": "ae965305",
   "metadata": {
    "deletable": false,
    "id": "bad65432"
   },
   "source": [
    "В данном проекте основной задачей являлся анализ статистики платежеспособности клиентов, предосталвенной заказчиком — **кредитным отделом банка**. Нужно было разобраться в том, влияет ли `семейное положение` и `количество детей клиента` на факт погашения кредита в срок, для построения модели кредитного скоринга.  \n",
    "\n",
    "Во время предобработки данных были решены проблемы с пропусками в информации о `доходах` и `количестве дней трудового` стажа клиентов, а также были удалены некорректные данные о `количестве детей`. \n",
    "\n",
    "В резлультате проверки влияения ряда критериев на возврат кредита в срок было выявлено, что сильнее всего прослеживается зависимость просрочки от цели кредита (отличие в **2%**) и смейного положения (отличие в **3%**). Также количество детей влияет на погащение кредита в срок только случае бездетности клиента (отличие в **2%**).\n",
    "\n",
    "Самыми надежными клиентами становятся люди, `берущие ипотеку`, или `когда-либо состоявщие в браке`. Если объединить влияние всех категорий, то можно сделать вывод, что самыми надежными клиентами будут люди, когда-либо `состоявщие в браке` и `не имеющие детей`, берущие `займ на недвижимость`, а также обладающие доходом `от 30т.р. до 50т.р.`, либо `от 200т.р. до 1млн.р`. \n",
    "\n",
    "Предложен ряд рекодмендаций для заказчика: \n",
    "- Трудовой стаж для безроботных и пенсионеров имеет аномальное значения, это может неблагоприятно повлият на анализ.\n",
    "- Рекомендуется привести наименования целей кредита к единому структуированному виду\n",
    "- Для корректной оценки не хватает данных о размере взятого кредита и сроке его погащения."
   ]
  },
  {
   "cell_type": "markdown",
   "id": "947a4481",
   "metadata": {},
   "source": [
    "<div class=\"alert alert-success\">\n",
    "<h1> Комментарий ревьюера V2✅</h1>\n",
    "\n",
    "Отличный общий вывод. Все пункты расписаны. Рекомендации понятны и подробны.\n",
    "\n",
    "</div>"
   ]
  },
  {
   "cell_type": "markdown",
   "id": "e9f016ab",
   "metadata": {},
   "source": [
    "<div class=\"alert alert-danger\">\n",
    "<h1> Комментарий ревьюера ❌</h1>\n",
    "\n",
    "Общий вывод - финальная часть всего исследования. В нем следует отразить с какими данными и для кого проводилась работа. Какие были выявлены проблемы в данных и как эти проблемы были решены. Какие еще шаги были предприняты и какие были получены результаты. Также неплохо было бы дать рекомендации заказчику по работе с данными, чтобы в будущем иметь меньше проблем.\n",
    "\n",
    "</div>"
   ]
  },
  {
   "cell_type": "markdown",
   "id": "b82bd302",
   "metadata": {},
   "source": [
    "<div class=\"alert alert-warning\">\n",
    "<h1> Общий комментарий </h1>\n",
    "\n",
    "Отличный проект. Видно, что ты хорошо освоил иструменты для построения сводных таблиц. Ты используешь в работе графики, твои выводы понятны и опираются на имеющиеся данные.\n",
    "    \n",
    "Распиши, пожалуйста, общий вывод немного подробнее, чтобы я смог принять твой проект.\n",
    "    \n",
    "Жду твою работу на повторную проверку. Если у тебя есть вопросы, не стесняйся их задавать)\n",
    "\n",
    "</div>"
   ]
  },
  {
   "cell_type": "markdown",
   "id": "8d5bc500",
   "metadata": {},
   "source": [
    "<div class=\"alert alert-success\">\n",
    "<h1> Финальный комментарий </h1>\n",
    "\n",
    "Спасибо за твои доработки. Общий вывод стал намного лучше.\n",
    "\n",
    "В середине проекта оставил ответ на твой вопрос в комментарии с пометкой V2.\n",
    "    \n",
    "Я принимаю твой проект и желаю удачи в дальнейшем обучении)\n",
    "\n",
    "</div>"
   ]
  },
  {
   "cell_type": "code",
   "execution_count": null,
   "id": "5660caa6",
   "metadata": {},
   "outputs": [],
   "source": []
  }
 ],
 "metadata": {
  "ExecuteTimeLog": [
   {
    "duration": 53,
    "start_time": "2022-10-28T10:14:36.178Z"
   },
   {
    "duration": 518,
    "start_time": "2022-10-28T10:14:43.634Z"
   },
   {
    "duration": 25,
    "start_time": "2022-10-28T10:14:44.154Z"
   },
   {
    "duration": 19,
    "start_time": "2022-10-28T10:14:44.181Z"
   },
   {
    "duration": 31,
    "start_time": "2022-10-28T10:14:44.203Z"
   },
   {
    "duration": 38,
    "start_time": "2022-10-28T10:14:44.235Z"
   },
   {
    "duration": 4,
    "start_time": "2022-10-28T10:14:44.275Z"
   },
   {
    "duration": 10,
    "start_time": "2022-10-28T10:14:44.281Z"
   },
   {
    "duration": 34,
    "start_time": "2022-10-28T10:14:44.293Z"
   },
   {
    "duration": 10,
    "start_time": "2022-10-28T10:14:44.329Z"
   },
   {
    "duration": 5,
    "start_time": "2022-10-28T10:14:44.342Z"
   },
   {
    "duration": 77,
    "start_time": "2022-10-28T10:14:44.349Z"
   },
   {
    "duration": 14,
    "start_time": "2022-10-28T10:14:44.428Z"
   },
   {
    "duration": 4,
    "start_time": "2022-10-28T10:14:44.444Z"
   },
   {
    "duration": 13,
    "start_time": "2022-10-28T10:14:44.450Z"
   },
   {
    "duration": 23,
    "start_time": "2022-10-28T10:14:44.464Z"
   },
   {
    "duration": 48,
    "start_time": "2022-10-28T10:14:44.489Z"
   },
   {
    "duration": 4,
    "start_time": "2022-10-28T10:14:44.539Z"
   },
   {
    "duration": 28,
    "start_time": "2022-10-28T10:14:44.545Z"
   },
   {
    "duration": 9,
    "start_time": "2022-10-28T10:14:44.576Z"
   },
   {
    "duration": 10,
    "start_time": "2022-10-28T10:14:44.587Z"
   },
   {
    "duration": 28,
    "start_time": "2022-10-28T10:14:44.599Z"
   },
   {
    "duration": 61,
    "start_time": "2022-10-28T10:14:44.629Z"
   },
   {
    "duration": 0,
    "start_time": "2022-10-28T10:14:44.692Z"
   },
   {
    "duration": 0,
    "start_time": "2022-10-28T10:14:44.693Z"
   },
   {
    "duration": 0,
    "start_time": "2022-10-28T10:14:44.694Z"
   },
   {
    "duration": 7,
    "start_time": "2022-10-28T10:15:01.592Z"
   },
   {
    "duration": 9,
    "start_time": "2022-10-28T10:15:15.180Z"
   },
   {
    "duration": 74,
    "start_time": "2022-10-28T10:15:37.528Z"
   },
   {
    "duration": 22,
    "start_time": "2022-10-28T10:15:43.859Z"
   },
   {
    "duration": 6,
    "start_time": "2022-10-28T10:16:04.940Z"
   },
   {
    "duration": 7,
    "start_time": "2022-10-28T10:16:32.115Z"
   },
   {
    "duration": 14,
    "start_time": "2022-10-28T10:21:55.755Z"
   },
   {
    "duration": 14,
    "start_time": "2022-10-28T10:22:05.043Z"
   },
   {
    "duration": 19,
    "start_time": "2022-10-28T10:22:31.256Z"
   },
   {
    "duration": 7,
    "start_time": "2022-10-28T10:22:36.226Z"
   },
   {
    "duration": 18,
    "start_time": "2022-10-28T10:22:47.305Z"
   },
   {
    "duration": 16,
    "start_time": "2022-10-28T10:23:05.187Z"
   },
   {
    "duration": 21,
    "start_time": "2022-10-28T10:23:56.739Z"
   },
   {
    "duration": 84,
    "start_time": "2022-10-28T10:24:03.483Z"
   },
   {
    "duration": 19,
    "start_time": "2022-10-28T10:24:03.569Z"
   },
   {
    "duration": 44,
    "start_time": "2022-10-28T10:24:03.590Z"
   },
   {
    "duration": 16,
    "start_time": "2022-10-28T10:24:03.637Z"
   },
   {
    "duration": 47,
    "start_time": "2022-10-28T10:24:03.656Z"
   },
   {
    "duration": 3,
    "start_time": "2022-10-28T10:24:03.705Z"
   },
   {
    "duration": 24,
    "start_time": "2022-10-28T10:24:03.710Z"
   },
   {
    "duration": 21,
    "start_time": "2022-10-28T10:24:03.736Z"
   },
   {
    "duration": 33,
    "start_time": "2022-10-28T10:24:03.759Z"
   },
   {
    "duration": 25,
    "start_time": "2022-10-28T10:24:03.794Z"
   },
   {
    "duration": 62,
    "start_time": "2022-10-28T10:24:03.821Z"
   },
   {
    "duration": 13,
    "start_time": "2022-10-28T10:24:03.885Z"
   },
   {
    "duration": 10,
    "start_time": "2022-10-28T10:24:03.900Z"
   },
   {
    "duration": 40,
    "start_time": "2022-10-28T10:24:03.912Z"
   },
   {
    "duration": 44,
    "start_time": "2022-10-28T10:24:03.954Z"
   },
   {
    "duration": 21,
    "start_time": "2022-10-28T10:24:04.001Z"
   },
   {
    "duration": 4,
    "start_time": "2022-10-28T10:24:04.023Z"
   },
   {
    "duration": 34,
    "start_time": "2022-10-28T10:24:04.029Z"
   },
   {
    "duration": 24,
    "start_time": "2022-10-28T10:24:04.066Z"
   },
   {
    "duration": 21,
    "start_time": "2022-10-28T10:24:04.092Z"
   },
   {
    "duration": 28,
    "start_time": "2022-10-28T10:24:04.115Z"
   },
   {
    "duration": 43,
    "start_time": "2022-10-28T10:24:04.144Z"
   },
   {
    "duration": 3,
    "start_time": "2022-10-28T10:24:04.189Z"
   },
   {
    "duration": 22,
    "start_time": "2022-10-28T10:24:04.194Z"
   },
   {
    "duration": 28,
    "start_time": "2022-10-28T10:24:04.218Z"
   },
   {
    "duration": 17,
    "start_time": "2022-10-28T10:24:12.246Z"
   },
   {
    "duration": 13,
    "start_time": "2022-10-28T10:24:21.367Z"
   },
   {
    "duration": 16,
    "start_time": "2022-10-28T10:24:49.273Z"
   },
   {
    "duration": 668,
    "start_time": "2022-10-28T10:41:16.876Z"
   },
   {
    "duration": 10,
    "start_time": "2022-10-28T10:41:30.550Z"
   },
   {
    "duration": 634,
    "start_time": "2022-10-28T10:41:57.102Z"
   },
   {
    "duration": 26,
    "start_time": "2022-10-28T10:43:11.036Z"
   },
   {
    "duration": 694,
    "start_time": "2022-10-28T10:43:15.049Z"
   },
   {
    "duration": 17,
    "start_time": "2022-10-28T10:43:15.745Z"
   },
   {
    "duration": 17,
    "start_time": "2022-10-28T10:43:15.764Z"
   },
   {
    "duration": 15,
    "start_time": "2022-10-28T10:43:15.784Z"
   },
   {
    "duration": 47,
    "start_time": "2022-10-28T10:43:15.824Z"
   },
   {
    "duration": 4,
    "start_time": "2022-10-28T10:43:15.873Z"
   },
   {
    "duration": 13,
    "start_time": "2022-10-28T10:43:15.879Z"
   },
   {
    "duration": 5,
    "start_time": "2022-10-28T10:43:15.894Z"
   },
   {
    "duration": 7,
    "start_time": "2022-10-28T10:43:15.924Z"
   },
   {
    "duration": 5,
    "start_time": "2022-10-28T10:43:15.934Z"
   },
   {
    "duration": 38,
    "start_time": "2022-10-28T10:43:15.941Z"
   },
   {
    "duration": 44,
    "start_time": "2022-10-28T10:43:15.982Z"
   },
   {
    "duration": 4,
    "start_time": "2022-10-28T10:43:16.029Z"
   },
   {
    "duration": 15,
    "start_time": "2022-10-28T10:43:16.035Z"
   },
   {
    "duration": 22,
    "start_time": "2022-10-28T10:43:16.052Z"
   },
   {
    "duration": 55,
    "start_time": "2022-10-28T10:43:16.075Z"
   },
   {
    "duration": 4,
    "start_time": "2022-10-28T10:43:16.132Z"
   },
   {
    "duration": 14,
    "start_time": "2022-10-28T10:43:16.138Z"
   },
   {
    "duration": 8,
    "start_time": "2022-10-28T10:43:16.154Z"
   },
   {
    "duration": 4,
    "start_time": "2022-10-28T10:43:16.164Z"
   },
   {
    "duration": 10,
    "start_time": "2022-10-28T10:43:16.170Z"
   },
   {
    "duration": 167,
    "start_time": "2022-10-28T10:43:16.182Z"
   },
   {
    "duration": 3,
    "start_time": "2022-10-28T10:43:16.352Z"
   },
   {
    "duration": 6,
    "start_time": "2022-10-28T10:43:16.357Z"
   },
   {
    "duration": 7,
    "start_time": "2022-10-28T10:43:16.364Z"
   },
   {
    "duration": 132,
    "start_time": "2022-10-28T10:43:47.540Z"
   },
   {
    "duration": 146,
    "start_time": "2022-10-28T10:44:19.083Z"
   },
   {
    "duration": 146,
    "start_time": "2022-10-28T10:44:40.136Z"
   },
   {
    "duration": 44,
    "start_time": "2022-10-28T10:44:54.068Z"
   },
   {
    "duration": 14,
    "start_time": "2022-10-28T10:45:11.255Z"
   },
   {
    "duration": 129,
    "start_time": "2022-10-28T10:45:28.311Z"
   },
   {
    "duration": 130,
    "start_time": "2022-10-28T10:45:41.336Z"
   },
   {
    "duration": 73,
    "start_time": "2022-10-28T10:46:53.167Z"
   },
   {
    "duration": 147,
    "start_time": "2022-10-28T10:46:56.728Z"
   },
   {
    "duration": 199,
    "start_time": "2022-10-28T10:47:02.354Z"
   },
   {
    "duration": 127,
    "start_time": "2022-10-28T10:47:09.911Z"
   },
   {
    "duration": 145,
    "start_time": "2022-10-28T10:47:16.329Z"
   },
   {
    "duration": 129,
    "start_time": "2022-10-28T10:47:18.920Z"
   },
   {
    "duration": 13,
    "start_time": "2022-10-28T10:49:17.267Z"
   },
   {
    "duration": 13,
    "start_time": "2022-10-28T10:49:23.307Z"
   },
   {
    "duration": 79,
    "start_time": "2022-10-28T10:49:28.697Z"
   },
   {
    "duration": 14,
    "start_time": "2022-10-28T10:49:32.929Z"
   },
   {
    "duration": 15,
    "start_time": "2022-10-28T10:49:46.995Z"
   },
   {
    "duration": 17,
    "start_time": "2022-10-28T11:19:43.400Z"
   },
   {
    "duration": 136,
    "start_time": "2022-10-28T11:19:46.049Z"
   },
   {
    "duration": 140,
    "start_time": "2022-10-28T11:20:55.345Z"
   },
   {
    "duration": 132,
    "start_time": "2022-10-28T11:21:05.110Z"
   },
   {
    "duration": 259,
    "start_time": "2022-10-28T11:21:08.196Z"
   },
   {
    "duration": 139,
    "start_time": "2022-10-28T11:21:18.947Z"
   },
   {
    "duration": 156,
    "start_time": "2022-10-28T11:22:50.412Z"
   },
   {
    "duration": 96,
    "start_time": "2022-10-28T11:24:22.051Z"
   },
   {
    "duration": 92,
    "start_time": "2022-10-28T11:24:30.780Z"
   },
   {
    "duration": 26,
    "start_time": "2022-10-28T14:01:37.524Z"
   },
   {
    "duration": 23,
    "start_time": "2022-10-28T14:02:05.914Z"
   },
   {
    "duration": 124,
    "start_time": "2022-10-28T14:02:12.259Z"
   },
   {
    "duration": 16,
    "start_time": "2022-10-28T14:02:12.386Z"
   },
   {
    "duration": 30,
    "start_time": "2022-10-28T14:02:12.403Z"
   },
   {
    "duration": 23,
    "start_time": "2022-10-28T14:02:12.435Z"
   },
   {
    "duration": 43,
    "start_time": "2022-10-28T14:02:12.460Z"
   },
   {
    "duration": 4,
    "start_time": "2022-10-28T14:02:12.505Z"
   },
   {
    "duration": 26,
    "start_time": "2022-10-28T14:02:12.511Z"
   },
   {
    "duration": 9,
    "start_time": "2022-10-28T14:02:12.540Z"
   },
   {
    "duration": 22,
    "start_time": "2022-10-28T14:02:12.552Z"
   },
   {
    "duration": 9,
    "start_time": "2022-10-28T14:02:12.579Z"
   },
   {
    "duration": 63,
    "start_time": "2022-10-28T14:02:12.591Z"
   },
   {
    "duration": 10,
    "start_time": "2022-10-28T14:02:12.656Z"
   },
   {
    "duration": 24,
    "start_time": "2022-10-28T14:02:12.667Z"
   },
   {
    "duration": 29,
    "start_time": "2022-10-28T14:02:12.692Z"
   },
   {
    "duration": 31,
    "start_time": "2022-10-28T14:02:12.723Z"
   },
   {
    "duration": 28,
    "start_time": "2022-10-28T14:02:12.756Z"
   },
   {
    "duration": 4,
    "start_time": "2022-10-28T14:02:12.787Z"
   },
   {
    "duration": 33,
    "start_time": "2022-10-28T14:02:12.792Z"
   },
   {
    "duration": 18,
    "start_time": "2022-10-28T14:02:12.827Z"
   },
   {
    "duration": 19,
    "start_time": "2022-10-28T14:02:12.847Z"
   },
   {
    "duration": 28,
    "start_time": "2022-10-28T14:02:12.868Z"
   },
   {
    "duration": 23,
    "start_time": "2022-10-28T14:02:12.898Z"
   },
   {
    "duration": 0,
    "start_time": "2022-10-28T14:02:12.923Z"
   },
   {
    "duration": 0,
    "start_time": "2022-10-28T14:02:12.924Z"
   },
   {
    "duration": 0,
    "start_time": "2022-10-28T14:02:12.925Z"
   },
   {
    "duration": 81,
    "start_time": "2022-10-28T14:02:55.156Z"
   },
   {
    "duration": 17,
    "start_time": "2022-10-28T14:02:55.239Z"
   },
   {
    "duration": 16,
    "start_time": "2022-10-28T14:02:55.258Z"
   },
   {
    "duration": 12,
    "start_time": "2022-10-28T14:02:55.276Z"
   },
   {
    "duration": 68,
    "start_time": "2022-10-28T14:02:55.289Z"
   },
   {
    "duration": 3,
    "start_time": "2022-10-28T14:02:55.360Z"
   },
   {
    "duration": 24,
    "start_time": "2022-10-28T14:02:55.365Z"
   },
   {
    "duration": 8,
    "start_time": "2022-10-28T14:02:55.391Z"
   },
   {
    "duration": 24,
    "start_time": "2022-10-28T14:02:55.401Z"
   },
   {
    "duration": 10,
    "start_time": "2022-10-28T14:02:55.428Z"
   },
   {
    "duration": 51,
    "start_time": "2022-10-28T14:02:55.440Z"
   },
   {
    "duration": 10,
    "start_time": "2022-10-28T14:02:55.493Z"
   },
   {
    "duration": 15,
    "start_time": "2022-10-28T14:02:55.505Z"
   },
   {
    "duration": 12,
    "start_time": "2022-10-28T14:02:55.522Z"
   },
   {
    "duration": 20,
    "start_time": "2022-10-28T14:02:55.536Z"
   },
   {
    "duration": 19,
    "start_time": "2022-10-28T14:02:55.558Z"
   },
   {
    "duration": 4,
    "start_time": "2022-10-28T14:02:55.578Z"
   },
   {
    "duration": 40,
    "start_time": "2022-10-28T14:02:55.584Z"
   },
   {
    "duration": 8,
    "start_time": "2022-10-28T14:02:55.626Z"
   },
   {
    "duration": 6,
    "start_time": "2022-10-28T14:02:55.636Z"
   },
   {
    "duration": 11,
    "start_time": "2022-10-28T14:02:55.644Z"
   },
   {
    "duration": 23,
    "start_time": "2022-10-28T14:02:55.657Z"
   },
   {
    "duration": 0,
    "start_time": "2022-10-28T14:02:55.683Z"
   },
   {
    "duration": 0,
    "start_time": "2022-10-28T14:02:55.684Z"
   },
   {
    "duration": 0,
    "start_time": "2022-10-28T14:02:55.723Z"
   },
   {
    "duration": 22,
    "start_time": "2022-10-28T14:03:10.071Z"
   },
   {
    "duration": 22,
    "start_time": "2022-10-28T14:03:53.682Z"
   },
   {
    "duration": 22,
    "start_time": "2022-10-28T14:20:24.592Z"
   },
   {
    "duration": 24,
    "start_time": "2022-10-28T14:20:43.814Z"
   },
   {
    "duration": 25,
    "start_time": "2022-10-28T14:20:54.311Z"
   },
   {
    "duration": 13,
    "start_time": "2022-10-28T14:21:03.208Z"
   },
   {
    "duration": 15,
    "start_time": "2022-10-28T14:21:05.540Z"
   },
   {
    "duration": 10,
    "start_time": "2022-10-28T14:21:30.645Z"
   },
   {
    "duration": 24,
    "start_time": "2022-10-28T14:22:05.537Z"
   },
   {
    "duration": 12,
    "start_time": "2022-10-28T14:22:15.531Z"
   },
   {
    "duration": 155,
    "start_time": "2022-10-28T14:27:31.786Z"
   },
   {
    "duration": 848,
    "start_time": "2022-10-28T14:27:52.986Z"
   },
   {
    "duration": 69,
    "start_time": "2022-10-28T14:27:58.665Z"
   },
   {
    "duration": 134,
    "start_time": "2022-10-28T14:28:01.241Z"
   },
   {
    "duration": 133,
    "start_time": "2022-10-28T14:30:55.048Z"
   },
   {
    "duration": 76,
    "start_time": "2022-10-28T14:31:12.740Z"
   },
   {
    "duration": 219,
    "start_time": "2022-10-28T14:31:17.960Z"
   },
   {
    "duration": 102,
    "start_time": "2022-10-28T14:31:29.743Z"
   },
   {
    "duration": 129,
    "start_time": "2022-10-28T14:31:33.911Z"
   },
   {
    "duration": 150,
    "start_time": "2022-10-28T14:32:25.809Z"
   },
   {
    "duration": 141,
    "start_time": "2022-10-28T14:32:33.096Z"
   },
   {
    "duration": 139,
    "start_time": "2022-10-28T14:34:37.743Z"
   },
   {
    "duration": 137,
    "start_time": "2022-10-28T14:49:20.046Z"
   },
   {
    "duration": 140,
    "start_time": "2022-10-28T14:49:42.944Z"
   },
   {
    "duration": 137,
    "start_time": "2022-10-28T14:52:43.010Z"
   },
   {
    "duration": 134,
    "start_time": "2022-10-28T14:52:53.400Z"
   },
   {
    "duration": 149,
    "start_time": "2022-10-28T14:53:51.153Z"
   },
   {
    "duration": 13,
    "start_time": "2022-10-28T14:54:10.214Z"
   },
   {
    "duration": 76,
    "start_time": "2022-10-28T14:54:18.719Z"
   },
   {
    "duration": 19,
    "start_time": "2022-10-28T14:54:21.615Z"
   },
   {
    "duration": 69,
    "start_time": "2022-10-28T14:54:32.951Z"
   },
   {
    "duration": 84,
    "start_time": "2022-10-28T14:54:36.884Z"
   },
   {
    "duration": 140,
    "start_time": "2022-10-28T14:54:56.318Z"
   },
   {
    "duration": 158,
    "start_time": "2022-10-28T14:55:11.993Z"
   },
   {
    "duration": 251,
    "start_time": "2022-10-28T14:55:24.820Z"
   },
   {
    "duration": 159,
    "start_time": "2022-10-28T14:55:31.347Z"
   },
   {
    "duration": 141,
    "start_time": "2022-10-28T14:55:45.220Z"
   },
   {
    "duration": 134,
    "start_time": "2022-10-28T14:57:00.759Z"
   },
   {
    "duration": 135,
    "start_time": "2022-10-28T14:57:19.469Z"
   },
   {
    "duration": 11,
    "start_time": "2022-10-28T15:06:51.358Z"
   },
   {
    "duration": 11,
    "start_time": "2022-10-28T15:07:12.315Z"
   },
   {
    "duration": 1427,
    "start_time": "2022-10-29T15:20:29.770Z"
   },
   {
    "duration": 21,
    "start_time": "2022-10-29T15:20:31.199Z"
   },
   {
    "duration": 18,
    "start_time": "2022-10-29T15:20:31.222Z"
   },
   {
    "duration": 11,
    "start_time": "2022-10-29T15:20:31.242Z"
   },
   {
    "duration": 61,
    "start_time": "2022-10-29T15:20:31.255Z"
   },
   {
    "duration": 4,
    "start_time": "2022-10-29T15:20:31.318Z"
   },
   {
    "duration": 11,
    "start_time": "2022-10-29T15:20:31.323Z"
   },
   {
    "duration": 5,
    "start_time": "2022-10-29T15:20:31.335Z"
   },
   {
    "duration": 7,
    "start_time": "2022-10-29T15:20:31.342Z"
   },
   {
    "duration": 5,
    "start_time": "2022-10-29T15:20:31.351Z"
   },
   {
    "duration": 61,
    "start_time": "2022-10-29T15:20:31.357Z"
   },
   {
    "duration": 10,
    "start_time": "2022-10-29T15:20:31.420Z"
   },
   {
    "duration": 4,
    "start_time": "2022-10-29T15:20:31.432Z"
   },
   {
    "duration": 12,
    "start_time": "2022-10-29T15:20:31.439Z"
   },
   {
    "duration": 40,
    "start_time": "2022-10-29T15:20:31.453Z"
   },
   {
    "duration": 24,
    "start_time": "2022-10-29T15:20:31.495Z"
   },
   {
    "duration": 4,
    "start_time": "2022-10-29T15:20:31.522Z"
   },
   {
    "duration": 17,
    "start_time": "2022-10-29T15:20:31.528Z"
   },
   {
    "duration": 8,
    "start_time": "2022-10-29T15:20:31.547Z"
   },
   {
    "duration": 4,
    "start_time": "2022-10-29T15:20:31.556Z"
   },
   {
    "duration": 16,
    "start_time": "2022-10-29T15:20:31.592Z"
   },
   {
    "duration": 166,
    "start_time": "2022-10-29T15:20:31.609Z"
   },
   {
    "duration": 142,
    "start_time": "2022-10-29T15:20:31.776Z"
   },
   {
    "duration": 114,
    "start_time": "2022-10-29T15:20:31.920Z"
   },
   {
    "duration": 0,
    "start_time": "2022-10-29T15:20:32.035Z"
   },
   {
    "duration": 13,
    "start_time": "2022-10-29T15:21:13.782Z"
   },
   {
    "duration": 12,
    "start_time": "2022-10-29T15:21:29.465Z"
   },
   {
    "duration": 12,
    "start_time": "2022-10-29T15:21:30.167Z"
   },
   {
    "duration": 13,
    "start_time": "2022-10-29T15:21:32.661Z"
   },
   {
    "duration": 126,
    "start_time": "2022-10-29T15:22:10.867Z"
   },
   {
    "duration": 76,
    "start_time": "2022-10-29T15:22:26.350Z"
   },
   {
    "duration": 137,
    "start_time": "2022-10-29T15:22:29.248Z"
   },
   {
    "duration": 138,
    "start_time": "2022-10-29T15:22:45.862Z"
   },
   {
    "duration": 126,
    "start_time": "2022-10-29T15:22:55.031Z"
   },
   {
    "duration": 159,
    "start_time": "2022-10-29T15:23:59.459Z"
   },
   {
    "duration": 133,
    "start_time": "2022-10-29T15:24:16.018Z"
   },
   {
    "duration": 155,
    "start_time": "2022-10-29T15:27:03.996Z"
   },
   {
    "duration": 203,
    "start_time": "2022-10-29T15:28:03.567Z"
   },
   {
    "duration": 72,
    "start_time": "2022-10-29T15:28:16.630Z"
   },
   {
    "duration": 69,
    "start_time": "2022-10-29T15:28:20.582Z"
   },
   {
    "duration": 139,
    "start_time": "2022-10-29T15:28:33.912Z"
   },
   {
    "duration": 145,
    "start_time": "2022-10-29T15:30:42.790Z"
   },
   {
    "duration": 129,
    "start_time": "2022-10-29T15:37:39.816Z"
   },
   {
    "duration": 136,
    "start_time": "2022-10-29T15:38:30.588Z"
   },
   {
    "duration": 128,
    "start_time": "2022-10-29T15:39:03.154Z"
   },
   {
    "duration": 149,
    "start_time": "2022-10-29T15:39:09.643Z"
   },
   {
    "duration": 135,
    "start_time": "2022-10-29T15:40:18.615Z"
   },
   {
    "duration": 133,
    "start_time": "2022-10-29T15:40:49.116Z"
   },
   {
    "duration": 152,
    "start_time": "2022-10-29T15:40:54.470Z"
   },
   {
    "duration": 143,
    "start_time": "2022-10-29T15:55:15.888Z"
   },
   {
    "duration": 328,
    "start_time": "2022-10-29T15:55:36.604Z"
   },
   {
    "duration": 145,
    "start_time": "2022-10-29T15:56:59.293Z"
   },
   {
    "duration": 146,
    "start_time": "2022-10-29T15:57:17.533Z"
   },
   {
    "duration": 145,
    "start_time": "2022-10-29T15:57:43.424Z"
   },
   {
    "duration": 148,
    "start_time": "2022-10-29T15:58:23.776Z"
   },
   {
    "duration": 140,
    "start_time": "2022-10-29T15:59:34.730Z"
   },
   {
    "duration": 146,
    "start_time": "2022-10-29T15:59:45.298Z"
   },
   {
    "duration": 153,
    "start_time": "2022-10-29T15:59:49.872Z"
   },
   {
    "duration": 137,
    "start_time": "2022-10-29T15:59:57.267Z"
   },
   {
    "duration": 139,
    "start_time": "2022-10-29T16:09:25.399Z"
   },
   {
    "duration": 77,
    "start_time": "2022-10-29T16:15:38.658Z"
   },
   {
    "duration": 72,
    "start_time": "2022-10-29T16:15:49.983Z"
   },
   {
    "duration": 144,
    "start_time": "2022-10-29T16:15:59.053Z"
   },
   {
    "duration": 224,
    "start_time": "2022-10-29T16:16:50.752Z"
   },
   {
    "duration": 149,
    "start_time": "2022-10-29T16:17:23.652Z"
   },
   {
    "duration": 168,
    "start_time": "2022-10-29T16:18:10.631Z"
   },
   {
    "duration": 136,
    "start_time": "2022-10-29T16:22:30.101Z"
   },
   {
    "duration": 125,
    "start_time": "2022-10-29T16:23:17.081Z"
   },
   {
    "duration": 159,
    "start_time": "2022-10-29T16:24:20.278Z"
   },
   {
    "duration": 143,
    "start_time": "2022-10-29T16:24:23.581Z"
   },
   {
    "duration": 143,
    "start_time": "2022-10-29T16:24:32.333Z"
   },
   {
    "duration": 203,
    "start_time": "2022-10-29T16:25:16.599Z"
   },
   {
    "duration": 194,
    "start_time": "2022-10-29T16:25:26.655Z"
   },
   {
    "duration": 22,
    "start_time": "2022-10-29T16:26:46.482Z"
   },
   {
    "duration": 164,
    "start_time": "2022-10-29T16:29:56.700Z"
   },
   {
    "duration": 237,
    "start_time": "2022-10-29T16:31:08.465Z"
   },
   {
    "duration": 140,
    "start_time": "2022-10-29T16:31:16.427Z"
   },
   {
    "duration": 147,
    "start_time": "2022-10-29T16:31:20.725Z"
   },
   {
    "duration": 72,
    "start_time": "2022-10-29T16:32:12.488Z"
   },
   {
    "duration": 165,
    "start_time": "2022-10-29T16:32:18.426Z"
   },
   {
    "duration": 147,
    "start_time": "2022-10-29T16:32:24.701Z"
   },
   {
    "duration": 147,
    "start_time": "2022-10-29T16:32:30.253Z"
   },
   {
    "duration": 148,
    "start_time": "2022-10-29T16:32:42.455Z"
   },
   {
    "duration": 149,
    "start_time": "2022-10-29T16:32:49.554Z"
   },
   {
    "duration": 144,
    "start_time": "2022-10-29T16:32:56.934Z"
   },
   {
    "duration": 137,
    "start_time": "2022-10-29T16:33:42.240Z"
   },
   {
    "duration": 136,
    "start_time": "2022-10-29T16:34:05.573Z"
   },
   {
    "duration": 232,
    "start_time": "2022-10-29T16:34:18.161Z"
   },
   {
    "duration": 138,
    "start_time": "2022-10-29T16:34:25.897Z"
   },
   {
    "duration": 218,
    "start_time": "2022-10-29T16:34:46.584Z"
   },
   {
    "duration": 129,
    "start_time": "2022-10-29T16:35:49.801Z"
   },
   {
    "duration": 117,
    "start_time": "2022-10-29T16:37:33.553Z"
   },
   {
    "duration": 114,
    "start_time": "2022-10-29T16:37:37.580Z"
   },
   {
    "duration": 68,
    "start_time": "2022-10-29T16:41:26.480Z"
   },
   {
    "duration": 838,
    "start_time": "2022-10-29T16:41:34.005Z"
   },
   {
    "duration": 127,
    "start_time": "2022-10-29T16:41:48.614Z"
   },
   {
    "duration": 125,
    "start_time": "2022-10-29T16:43:02.061Z"
   },
   {
    "duration": 130,
    "start_time": "2022-10-29T16:43:24.225Z"
   },
   {
    "duration": 17,
    "start_time": "2022-10-29T16:45:32.288Z"
   },
   {
    "duration": 153,
    "start_time": "2022-10-29T16:45:47.147Z"
   },
   {
    "duration": 145,
    "start_time": "2022-10-29T16:45:58.042Z"
   },
   {
    "duration": 1355,
    "start_time": "2022-10-29T16:52:23.866Z"
   },
   {
    "duration": 138,
    "start_time": "2022-10-29T16:52:48.634Z"
   },
   {
    "duration": 129,
    "start_time": "2022-10-29T16:52:50.902Z"
   },
   {
    "duration": 148,
    "start_time": "2022-10-29T16:53:02.371Z"
   },
   {
    "duration": 78,
    "start_time": "2022-10-29T16:53:05.905Z"
   },
   {
    "duration": 149,
    "start_time": "2022-10-29T16:53:09.805Z"
   },
   {
    "duration": 91,
    "start_time": "2022-10-29T16:53:12.401Z"
   },
   {
    "duration": 144,
    "start_time": "2022-10-29T16:53:18.299Z"
   },
   {
    "duration": 123,
    "start_time": "2022-10-29T16:53:23.123Z"
   },
   {
    "duration": 139,
    "start_time": "2022-10-29T16:53:43.771Z"
   },
   {
    "duration": 4,
    "start_time": "2022-10-29T16:54:03.267Z"
   },
   {
    "duration": 149,
    "start_time": "2022-10-29T16:54:06.459Z"
   },
   {
    "duration": 137,
    "start_time": "2022-10-29T16:54:16.882Z"
   },
   {
    "duration": 149,
    "start_time": "2022-10-29T16:54:41.609Z"
   },
   {
    "duration": 256,
    "start_time": "2022-10-29T16:54:56.335Z"
   },
   {
    "duration": 130,
    "start_time": "2022-10-29T16:55:11.043Z"
   },
   {
    "duration": 131,
    "start_time": "2022-10-29T16:55:28.393Z"
   },
   {
    "duration": 140,
    "start_time": "2022-10-29T16:55:39.521Z"
   },
   {
    "duration": 135,
    "start_time": "2022-10-29T16:55:52.082Z"
   },
   {
    "duration": 20,
    "start_time": "2022-10-29T16:58:11.740Z"
   },
   {
    "duration": 135,
    "start_time": "2022-10-29T16:58:22.544Z"
   },
   {
    "duration": 136,
    "start_time": "2022-10-29T16:59:30.886Z"
   },
   {
    "duration": 137,
    "start_time": "2022-10-29T16:59:36.045Z"
   },
   {
    "duration": 140,
    "start_time": "2022-10-29T16:59:38.404Z"
   },
   {
    "duration": 122,
    "start_time": "2022-10-29T18:01:53.169Z"
   },
   {
    "duration": 123,
    "start_time": "2022-10-29T18:01:57.276Z"
   },
   {
    "duration": 229,
    "start_time": "2022-10-29T18:02:09.498Z"
   },
   {
    "duration": 73,
    "start_time": "2022-10-29T18:02:11.385Z"
   },
   {
    "duration": 15,
    "start_time": "2022-10-29T18:02:11.461Z"
   },
   {
    "duration": 16,
    "start_time": "2022-10-29T18:02:11.478Z"
   },
   {
    "duration": 10,
    "start_time": "2022-10-29T18:02:11.496Z"
   },
   {
    "duration": 32,
    "start_time": "2022-10-29T18:02:11.509Z"
   },
   {
    "duration": 4,
    "start_time": "2022-10-29T18:02:11.543Z"
   },
   {
    "duration": 11,
    "start_time": "2022-10-29T18:02:11.549Z"
   },
   {
    "duration": 32,
    "start_time": "2022-10-29T18:02:11.561Z"
   },
   {
    "duration": 8,
    "start_time": "2022-10-29T18:02:11.595Z"
   },
   {
    "duration": 5,
    "start_time": "2022-10-29T18:02:11.604Z"
   },
   {
    "duration": 38,
    "start_time": "2022-10-29T18:02:11.610Z"
   },
   {
    "duration": 10,
    "start_time": "2022-10-29T18:02:11.650Z"
   },
   {
    "duration": 32,
    "start_time": "2022-10-29T18:02:11.661Z"
   },
   {
    "duration": 13,
    "start_time": "2022-10-29T18:02:11.696Z"
   },
   {
    "duration": 21,
    "start_time": "2022-10-29T18:02:11.711Z"
   },
   {
    "duration": 17,
    "start_time": "2022-10-29T18:02:11.734Z"
   },
   {
    "duration": 4,
    "start_time": "2022-10-29T18:02:11.753Z"
   },
   {
    "duration": 38,
    "start_time": "2022-10-29T18:02:11.758Z"
   },
   {
    "duration": 10,
    "start_time": "2022-10-29T18:02:11.798Z"
   },
   {
    "duration": 3,
    "start_time": "2022-10-29T18:02:11.810Z"
   },
   {
    "duration": 10,
    "start_time": "2022-10-29T18:02:11.815Z"
   },
   {
    "duration": 144,
    "start_time": "2022-10-29T18:02:11.827Z"
   },
   {
    "duration": 133,
    "start_time": "2022-10-29T18:02:11.973Z"
   },
   {
    "duration": 142,
    "start_time": "2022-10-29T18:02:12.108Z"
   },
   {
    "duration": 148,
    "start_time": "2022-10-29T18:02:12.252Z"
   },
   {
    "duration": 77,
    "start_time": "2022-10-29T18:03:29.580Z"
   },
   {
    "duration": 18,
    "start_time": "2022-10-29T18:03:29.659Z"
   },
   {
    "duration": 20,
    "start_time": "2022-10-29T18:03:29.678Z"
   },
   {
    "duration": 9,
    "start_time": "2022-10-29T18:03:29.700Z"
   },
   {
    "duration": 30,
    "start_time": "2022-10-29T18:03:29.711Z"
   },
   {
    "duration": 3,
    "start_time": "2022-10-29T18:03:29.743Z"
   },
   {
    "duration": 9,
    "start_time": "2022-10-29T18:03:29.747Z"
   },
   {
    "duration": 9,
    "start_time": "2022-10-29T18:03:29.758Z"
   },
   {
    "duration": 28,
    "start_time": "2022-10-29T18:03:29.769Z"
   },
   {
    "duration": 5,
    "start_time": "2022-10-29T18:03:29.800Z"
   },
   {
    "duration": 32,
    "start_time": "2022-10-29T18:03:29.806Z"
   },
   {
    "duration": 9,
    "start_time": "2022-10-29T18:03:29.840Z"
   },
   {
    "duration": 4,
    "start_time": "2022-10-29T18:03:29.850Z"
   },
   {
    "duration": 43,
    "start_time": "2022-10-29T18:03:29.855Z"
   },
   {
    "duration": 23,
    "start_time": "2022-10-29T18:03:29.900Z"
   },
   {
    "duration": 17,
    "start_time": "2022-10-29T18:03:29.924Z"
   },
   {
    "duration": 3,
    "start_time": "2022-10-29T18:03:29.943Z"
   },
   {
    "duration": 10,
    "start_time": "2022-10-29T18:03:29.948Z"
   },
   {
    "duration": 5,
    "start_time": "2022-10-29T18:03:29.960Z"
   },
   {
    "duration": 26,
    "start_time": "2022-10-29T18:03:29.966Z"
   },
   {
    "duration": 13,
    "start_time": "2022-10-29T18:03:29.994Z"
   },
   {
    "duration": 137,
    "start_time": "2022-10-29T18:03:30.009Z"
   },
   {
    "duration": 125,
    "start_time": "2022-10-29T18:03:30.148Z"
   },
   {
    "duration": 132,
    "start_time": "2022-10-29T18:03:30.275Z"
   },
   {
    "duration": 148,
    "start_time": "2022-10-29T18:03:30.408Z"
   },
   {
    "duration": 128,
    "start_time": "2022-10-29T18:03:37.389Z"
   },
   {
    "duration": 133,
    "start_time": "2022-10-29T18:17:09.488Z"
   },
   {
    "duration": 71,
    "start_time": "2022-10-29T18:17:13.705Z"
   },
   {
    "duration": 14,
    "start_time": "2022-10-29T18:17:13.778Z"
   },
   {
    "duration": 16,
    "start_time": "2022-10-29T18:17:13.793Z"
   },
   {
    "duration": 8,
    "start_time": "2022-10-29T18:17:13.811Z"
   },
   {
    "duration": 32,
    "start_time": "2022-10-29T18:17:13.820Z"
   },
   {
    "duration": 4,
    "start_time": "2022-10-29T18:17:13.853Z"
   },
   {
    "duration": 37,
    "start_time": "2022-10-29T18:17:13.859Z"
   },
   {
    "duration": 4,
    "start_time": "2022-10-29T18:17:13.898Z"
   },
   {
    "duration": 9,
    "start_time": "2022-10-29T18:17:13.903Z"
   },
   {
    "duration": 4,
    "start_time": "2022-10-29T18:17:13.914Z"
   },
   {
    "duration": 31,
    "start_time": "2022-10-29T18:17:13.919Z"
   },
   {
    "duration": 8,
    "start_time": "2022-10-29T18:17:13.952Z"
   },
   {
    "duration": 105,
    "start_time": "2022-10-29T18:17:13.961Z"
   },
   {
    "duration": 12,
    "start_time": "2022-10-29T18:17:14.067Z"
   },
   {
    "duration": 26,
    "start_time": "2022-10-29T18:17:14.080Z"
   },
   {
    "duration": 17,
    "start_time": "2022-10-29T18:17:14.108Z"
   },
   {
    "duration": 4,
    "start_time": "2022-10-29T18:17:14.127Z"
   },
   {
    "duration": 11,
    "start_time": "2022-10-29T18:17:14.133Z"
   },
   {
    "duration": 7,
    "start_time": "2022-10-29T18:17:14.145Z"
   },
   {
    "duration": 37,
    "start_time": "2022-10-29T18:17:14.154Z"
   },
   {
    "duration": 9,
    "start_time": "2022-10-29T18:17:14.193Z"
   },
   {
    "duration": 140,
    "start_time": "2022-10-29T18:17:14.203Z"
   },
   {
    "duration": 149,
    "start_time": "2022-10-29T18:17:14.344Z"
   },
   {
    "duration": 127,
    "start_time": "2022-10-29T18:17:14.495Z"
   },
   {
    "duration": 131,
    "start_time": "2022-10-29T18:17:14.624Z"
   },
   {
    "duration": 126,
    "start_time": "2022-10-29T18:17:29.475Z"
   },
   {
    "duration": 164,
    "start_time": "2022-10-29T18:17:36.601Z"
   },
   {
    "duration": 121,
    "start_time": "2022-10-29T18:19:05.732Z"
   },
   {
    "duration": 126,
    "start_time": "2022-10-29T18:19:12.143Z"
   },
   {
    "duration": 65,
    "start_time": "2022-10-29T18:20:18.854Z"
   },
   {
    "duration": 67,
    "start_time": "2022-10-29T18:20:21.785Z"
   },
   {
    "duration": 15,
    "start_time": "2022-10-29T18:20:21.854Z"
   },
   {
    "duration": 21,
    "start_time": "2022-10-29T18:20:21.870Z"
   },
   {
    "duration": 10,
    "start_time": "2022-10-29T18:20:21.892Z"
   },
   {
    "duration": 29,
    "start_time": "2022-10-29T18:20:21.904Z"
   },
   {
    "duration": 3,
    "start_time": "2022-10-29T18:20:21.935Z"
   },
   {
    "duration": 8,
    "start_time": "2022-10-29T18:20:21.939Z"
   },
   {
    "duration": 3,
    "start_time": "2022-10-29T18:20:21.949Z"
   },
   {
    "duration": 4,
    "start_time": "2022-10-29T18:20:21.954Z"
   },
   {
    "duration": 5,
    "start_time": "2022-10-29T18:20:21.990Z"
   },
   {
    "duration": 30,
    "start_time": "2022-10-29T18:20:21.996Z"
   },
   {
    "duration": 8,
    "start_time": "2022-10-29T18:20:22.027Z"
   },
   {
    "duration": 3,
    "start_time": "2022-10-29T18:20:22.037Z"
   },
   {
    "duration": 11,
    "start_time": "2022-10-29T18:20:22.043Z"
   },
   {
    "duration": 42,
    "start_time": "2022-10-29T18:20:22.055Z"
   },
   {
    "duration": 16,
    "start_time": "2022-10-29T18:20:22.099Z"
   },
   {
    "duration": 3,
    "start_time": "2022-10-29T18:20:22.117Z"
   },
   {
    "duration": 12,
    "start_time": "2022-10-29T18:20:22.122Z"
   },
   {
    "duration": 5,
    "start_time": "2022-10-29T18:20:22.135Z"
   },
   {
    "duration": 3,
    "start_time": "2022-10-29T18:20:22.142Z"
   },
   {
    "duration": 9,
    "start_time": "2022-10-29T18:20:22.146Z"
   },
   {
    "duration": 152,
    "start_time": "2022-10-29T18:20:22.156Z"
   },
   {
    "duration": 140,
    "start_time": "2022-10-29T18:20:22.310Z"
   },
   {
    "duration": 131,
    "start_time": "2022-10-29T18:20:22.452Z"
   },
   {
    "duration": 217,
    "start_time": "2022-10-29T18:20:22.591Z"
   },
   {
    "duration": 7,
    "start_time": "2022-10-29T18:20:51.204Z"
   },
   {
    "duration": 7,
    "start_time": "2022-10-29T18:20:54.225Z"
   },
   {
    "duration": 7,
    "start_time": "2022-10-29T18:20:54.557Z"
   },
   {
    "duration": 7,
    "start_time": "2022-10-29T18:20:54.874Z"
   },
   {
    "duration": 68,
    "start_time": "2022-10-29T18:21:07.578Z"
   },
   {
    "duration": 15,
    "start_time": "2022-10-29T18:21:07.648Z"
   },
   {
    "duration": 15,
    "start_time": "2022-10-29T18:21:07.665Z"
   },
   {
    "duration": 10,
    "start_time": "2022-10-29T18:21:07.690Z"
   },
   {
    "duration": 36,
    "start_time": "2022-10-29T18:21:07.702Z"
   },
   {
    "duration": 4,
    "start_time": "2022-10-29T18:21:07.740Z"
   },
   {
    "duration": 15,
    "start_time": "2022-10-29T18:21:07.745Z"
   },
   {
    "duration": 4,
    "start_time": "2022-10-29T18:21:07.762Z"
   },
   {
    "duration": 29,
    "start_time": "2022-10-29T18:21:07.768Z"
   },
   {
    "duration": 4,
    "start_time": "2022-10-29T18:21:07.801Z"
   },
   {
    "duration": 31,
    "start_time": "2022-10-29T18:21:07.807Z"
   },
   {
    "duration": 9,
    "start_time": "2022-10-29T18:21:07.840Z"
   },
   {
    "duration": 4,
    "start_time": "2022-10-29T18:21:07.850Z"
   },
   {
    "duration": 11,
    "start_time": "2022-10-29T18:21:07.891Z"
   },
   {
    "duration": 18,
    "start_time": "2022-10-29T18:21:07.904Z"
   },
   {
    "duration": 19,
    "start_time": "2022-10-29T18:21:07.924Z"
   },
   {
    "duration": 3,
    "start_time": "2022-10-29T18:21:07.945Z"
   },
   {
    "duration": 11,
    "start_time": "2022-10-29T18:21:07.950Z"
   },
   {
    "duration": 31,
    "start_time": "2022-10-29T18:21:07.962Z"
   },
   {
    "duration": 4,
    "start_time": "2022-10-29T18:21:07.995Z"
   },
   {
    "duration": 11,
    "start_time": "2022-10-29T18:21:08.000Z"
   },
   {
    "duration": 153,
    "start_time": "2022-10-29T18:21:08.013Z"
   },
   {
    "duration": 128,
    "start_time": "2022-10-29T18:21:08.168Z"
   },
   {
    "duration": 148,
    "start_time": "2022-10-29T18:21:08.298Z"
   },
   {
    "duration": 133,
    "start_time": "2022-10-29T18:21:08.450Z"
   },
   {
    "duration": 1140,
    "start_time": "2022-10-29T18:21:23.932Z"
   },
   {
    "duration": 19,
    "start_time": "2022-10-29T18:21:25.074Z"
   },
   {
    "duration": 12,
    "start_time": "2022-10-29T18:21:25.095Z"
   },
   {
    "duration": 8,
    "start_time": "2022-10-29T18:21:25.109Z"
   },
   {
    "duration": 30,
    "start_time": "2022-10-29T18:21:25.118Z"
   },
   {
    "duration": 3,
    "start_time": "2022-10-29T18:21:25.150Z"
   },
   {
    "duration": 9,
    "start_time": "2022-10-29T18:21:25.154Z"
   },
   {
    "duration": 29,
    "start_time": "2022-10-29T18:21:25.164Z"
   },
   {
    "duration": 9,
    "start_time": "2022-10-29T18:21:25.194Z"
   },
   {
    "duration": 4,
    "start_time": "2022-10-29T18:21:25.206Z"
   },
   {
    "duration": 33,
    "start_time": "2022-10-29T18:21:25.211Z"
   },
   {
    "duration": 9,
    "start_time": "2022-10-29T18:21:25.245Z"
   },
   {
    "duration": 3,
    "start_time": "2022-10-29T18:21:25.256Z"
   },
   {
    "duration": 39,
    "start_time": "2022-10-29T18:21:25.260Z"
   },
   {
    "duration": 19,
    "start_time": "2022-10-29T18:21:25.301Z"
   },
   {
    "duration": 17,
    "start_time": "2022-10-29T18:21:25.322Z"
   },
   {
    "duration": 4,
    "start_time": "2022-10-29T18:21:25.341Z"
   },
   {
    "duration": 10,
    "start_time": "2022-10-29T18:21:25.347Z"
   },
   {
    "duration": 34,
    "start_time": "2022-10-29T18:21:25.359Z"
   },
   {
    "duration": 4,
    "start_time": "2022-10-29T18:21:25.395Z"
   },
   {
    "duration": 9,
    "start_time": "2022-10-29T18:21:25.400Z"
   },
   {
    "duration": 153,
    "start_time": "2022-10-29T18:21:25.411Z"
   },
   {
    "duration": 127,
    "start_time": "2022-10-29T18:21:25.565Z"
   },
   {
    "duration": 106,
    "start_time": "2022-10-29T18:21:25.694Z"
   },
   {
    "duration": 0,
    "start_time": "2022-10-29T18:21:25.801Z"
   },
   {
    "duration": 139,
    "start_time": "2022-10-29T18:21:55.566Z"
   },
   {
    "duration": 160,
    "start_time": "2022-10-29T18:22:02.263Z"
   },
   {
    "duration": 15,
    "start_time": "2022-10-29T18:22:22.104Z"
   },
   {
    "duration": 139,
    "start_time": "2022-10-29T18:23:07.592Z"
   },
   {
    "duration": 67,
    "start_time": "2022-10-29T18:23:16.466Z"
   },
   {
    "duration": 14,
    "start_time": "2022-10-29T18:23:16.535Z"
   },
   {
    "duration": 14,
    "start_time": "2022-10-29T18:23:16.550Z"
   },
   {
    "duration": 9,
    "start_time": "2022-10-29T18:23:16.565Z"
   },
   {
    "duration": 32,
    "start_time": "2022-10-29T18:23:16.591Z"
   },
   {
    "duration": 3,
    "start_time": "2022-10-29T18:23:16.625Z"
   },
   {
    "duration": 9,
    "start_time": "2022-10-29T18:23:16.630Z"
   },
   {
    "duration": 4,
    "start_time": "2022-10-29T18:23:16.640Z"
   },
   {
    "duration": 6,
    "start_time": "2022-10-29T18:23:16.645Z"
   },
   {
    "duration": 5,
    "start_time": "2022-10-29T18:23:16.653Z"
   },
   {
    "duration": 34,
    "start_time": "2022-10-29T18:23:16.690Z"
   },
   {
    "duration": 10,
    "start_time": "2022-10-29T18:23:16.726Z"
   },
   {
    "duration": 7,
    "start_time": "2022-10-29T18:23:16.738Z"
   },
   {
    "duration": 15,
    "start_time": "2022-10-29T18:23:16.746Z"
   },
   {
    "duration": 46,
    "start_time": "2022-10-29T18:23:16.765Z"
   },
   {
    "duration": 21,
    "start_time": "2022-10-29T18:23:16.813Z"
   },
   {
    "duration": 4,
    "start_time": "2022-10-29T18:23:16.836Z"
   },
   {
    "duration": 12,
    "start_time": "2022-10-29T18:23:16.843Z"
   },
   {
    "duration": 40,
    "start_time": "2022-10-29T18:23:16.858Z"
   },
   {
    "duration": 5,
    "start_time": "2022-10-29T18:23:16.900Z"
   },
   {
    "duration": 13,
    "start_time": "2022-10-29T18:23:16.907Z"
   },
   {
    "duration": 155,
    "start_time": "2022-10-29T18:23:16.922Z"
   },
   {
    "duration": 132,
    "start_time": "2022-10-29T18:23:17.079Z"
   },
   {
    "duration": 135,
    "start_time": "2022-10-29T18:23:17.213Z"
   },
   {
    "duration": 141,
    "start_time": "2022-10-29T18:23:17.349Z"
   },
   {
    "duration": 196,
    "start_time": "2022-10-29T18:23:53.187Z"
   },
   {
    "duration": 71,
    "start_time": "2022-10-29T18:23:57.785Z"
   },
   {
    "duration": 134,
    "start_time": "2022-10-29T18:24:00.362Z"
   },
   {
    "duration": 133,
    "start_time": "2022-10-29T18:24:53.369Z"
   },
   {
    "duration": 129,
    "start_time": "2022-10-29T18:25:50.235Z"
   },
   {
    "duration": 134,
    "start_time": "2022-10-29T18:30:40.169Z"
   },
   {
    "duration": 116,
    "start_time": "2022-10-29T18:34:55.564Z"
   },
   {
    "duration": 124,
    "start_time": "2022-10-29T18:35:12.526Z"
   },
   {
    "duration": 127,
    "start_time": "2022-10-29T18:35:27.449Z"
   },
   {
    "duration": 122,
    "start_time": "2022-10-29T18:41:20.456Z"
   },
   {
    "duration": 115,
    "start_time": "2022-10-29T18:41:27.518Z"
   },
   {
    "duration": 133,
    "start_time": "2022-10-29T18:42:25.021Z"
   },
   {
    "duration": 205,
    "start_time": "2022-10-29T18:42:33.366Z"
   },
   {
    "duration": 96,
    "start_time": "2022-10-29T18:43:30.874Z"
   },
   {
    "duration": 17,
    "start_time": "2022-10-29T18:43:30.972Z"
   },
   {
    "duration": 17,
    "start_time": "2022-10-29T18:43:30.991Z"
   },
   {
    "duration": 11,
    "start_time": "2022-10-29T18:43:31.011Z"
   },
   {
    "duration": 37,
    "start_time": "2022-10-29T18:43:31.024Z"
   },
   {
    "duration": 4,
    "start_time": "2022-10-29T18:43:31.063Z"
   },
   {
    "duration": 29,
    "start_time": "2022-10-29T18:43:31.068Z"
   },
   {
    "duration": 5,
    "start_time": "2022-10-29T18:43:31.099Z"
   },
   {
    "duration": 7,
    "start_time": "2022-10-29T18:43:31.106Z"
   },
   {
    "duration": 7,
    "start_time": "2022-10-29T18:43:31.116Z"
   },
   {
    "duration": 33,
    "start_time": "2022-10-29T18:43:31.125Z"
   },
   {
    "duration": 38,
    "start_time": "2022-10-29T18:43:31.160Z"
   },
   {
    "duration": 7,
    "start_time": "2022-10-29T18:43:31.200Z"
   },
   {
    "duration": 19,
    "start_time": "2022-10-29T18:43:31.209Z"
   },
   {
    "duration": 29,
    "start_time": "2022-10-29T18:43:31.230Z"
   },
   {
    "duration": 31,
    "start_time": "2022-10-29T18:43:31.260Z"
   },
   {
    "duration": 3,
    "start_time": "2022-10-29T18:43:31.293Z"
   },
   {
    "duration": 15,
    "start_time": "2022-10-29T18:43:31.298Z"
   },
   {
    "duration": 6,
    "start_time": "2022-10-29T18:43:31.314Z"
   },
   {
    "duration": 3,
    "start_time": "2022-10-29T18:43:31.322Z"
   },
   {
    "duration": 10,
    "start_time": "2022-10-29T18:43:31.327Z"
   },
   {
    "duration": 145,
    "start_time": "2022-10-29T18:43:31.338Z"
   },
   {
    "duration": 137,
    "start_time": "2022-10-29T18:43:31.491Z"
   },
   {
    "duration": 129,
    "start_time": "2022-10-29T18:43:31.630Z"
   },
   {
    "duration": 131,
    "start_time": "2022-10-29T18:43:31.760Z"
   },
   {
    "duration": 128,
    "start_time": "2022-10-29T18:44:48.978Z"
   },
   {
    "duration": 123,
    "start_time": "2022-10-29T18:46:24.534Z"
   },
   {
    "duration": 134,
    "start_time": "2022-10-29T18:46:56.030Z"
   },
   {
    "duration": 121,
    "start_time": "2022-10-29T18:47:08.317Z"
   },
   {
    "duration": 117,
    "start_time": "2022-10-29T18:47:14.879Z"
   },
   {
    "duration": 67,
    "start_time": "2022-10-29T18:47:34.834Z"
   },
   {
    "duration": 16,
    "start_time": "2022-10-29T18:47:34.903Z"
   },
   {
    "duration": 15,
    "start_time": "2022-10-29T18:47:34.920Z"
   },
   {
    "duration": 9,
    "start_time": "2022-10-29T18:47:34.937Z"
   },
   {
    "duration": 61,
    "start_time": "2022-10-29T18:47:34.948Z"
   },
   {
    "duration": 3,
    "start_time": "2022-10-29T18:47:35.011Z"
   },
   {
    "duration": 10,
    "start_time": "2022-10-29T18:47:35.016Z"
   },
   {
    "duration": 4,
    "start_time": "2022-10-29T18:47:35.028Z"
   },
   {
    "duration": 7,
    "start_time": "2022-10-29T18:47:35.033Z"
   },
   {
    "duration": 5,
    "start_time": "2022-10-29T18:47:35.042Z"
   },
   {
    "duration": 60,
    "start_time": "2022-10-29T18:47:35.049Z"
   },
   {
    "duration": 9,
    "start_time": "2022-10-29T18:47:35.111Z"
   },
   {
    "duration": 4,
    "start_time": "2022-10-29T18:47:35.122Z"
   },
   {
    "duration": 12,
    "start_time": "2022-10-29T18:47:35.128Z"
   },
   {
    "duration": 19,
    "start_time": "2022-10-29T18:47:35.142Z"
   },
   {
    "duration": 38,
    "start_time": "2022-10-29T18:47:35.163Z"
   },
   {
    "duration": 3,
    "start_time": "2022-10-29T18:47:35.203Z"
   },
   {
    "duration": 16,
    "start_time": "2022-10-29T18:47:35.208Z"
   },
   {
    "duration": 6,
    "start_time": "2022-10-29T18:47:35.225Z"
   },
   {
    "duration": 3,
    "start_time": "2022-10-29T18:47:35.232Z"
   },
   {
    "duration": 15,
    "start_time": "2022-10-29T18:47:35.237Z"
   },
   {
    "duration": 150,
    "start_time": "2022-10-29T18:47:35.253Z"
   },
   {
    "duration": 138,
    "start_time": "2022-10-29T18:47:35.405Z"
   },
   {
    "duration": 219,
    "start_time": "2022-10-29T18:47:35.545Z"
   },
   {
    "duration": 145,
    "start_time": "2022-10-29T18:47:35.766Z"
   },
   {
    "duration": 124,
    "start_time": "2022-10-29T19:07:20.354Z"
   },
   {
    "duration": 121,
    "start_time": "2022-10-29T19:07:20.533Z"
   },
   {
    "duration": 135,
    "start_time": "2022-10-29T19:07:36.439Z"
   },
   {
    "duration": 122,
    "start_time": "2022-10-29T19:09:37.598Z"
   },
   {
    "duration": 122,
    "start_time": "2022-10-29T19:09:40.200Z"
   },
   {
    "duration": 131,
    "start_time": "2022-10-29T19:10:11.385Z"
   },
   {
    "duration": 121,
    "start_time": "2022-10-29T19:11:42.265Z"
   },
   {
    "duration": 128,
    "start_time": "2022-10-29T19:11:56.191Z"
   },
   {
    "duration": 128,
    "start_time": "2022-10-29T19:12:07.965Z"
   },
   {
    "duration": 128,
    "start_time": "2022-10-29T19:12:21.833Z"
   },
   {
    "duration": 219,
    "start_time": "2022-10-29T19:12:52.374Z"
   },
   {
    "duration": 120,
    "start_time": "2022-10-29T19:17:59.977Z"
   },
   {
    "duration": 129,
    "start_time": "2022-10-29T19:18:06.454Z"
   },
   {
    "duration": 119,
    "start_time": "2022-10-29T19:19:27.119Z"
   },
   {
    "duration": 132,
    "start_time": "2022-10-29T19:19:45.440Z"
   },
   {
    "duration": 121,
    "start_time": "2022-10-29T19:19:57.371Z"
   },
   {
    "duration": 137,
    "start_time": "2022-10-29T19:21:54.221Z"
   },
   {
    "duration": 118,
    "start_time": "2022-10-29T19:22:14.872Z"
   },
   {
    "duration": 125,
    "start_time": "2022-10-29T19:22:23.396Z"
   },
   {
    "duration": 165,
    "start_time": "2022-10-29T19:23:16.489Z"
   },
   {
    "duration": 110,
    "start_time": "2022-10-29T19:23:22.462Z"
   },
   {
    "duration": 137,
    "start_time": "2022-10-29T19:23:28.620Z"
   },
   {
    "duration": 254,
    "start_time": "2022-10-29T19:23:36.362Z"
   },
   {
    "duration": 134,
    "start_time": "2022-10-29T19:23:43.325Z"
   },
   {
    "duration": 151,
    "start_time": "2022-10-29T19:25:31.484Z"
   },
   {
    "duration": 141,
    "start_time": "2022-10-29T19:25:35.652Z"
   },
   {
    "duration": 157,
    "start_time": "2022-10-29T19:26:20.845Z"
   },
   {
    "duration": 182,
    "start_time": "2022-10-29T19:26:32.857Z"
   },
   {
    "duration": 124,
    "start_time": "2022-10-29T19:33:17.958Z"
   },
   {
    "duration": 147,
    "start_time": "2022-10-29T19:33:47.893Z"
   },
   {
    "duration": 142,
    "start_time": "2022-10-29T19:34:07.865Z"
   },
   {
    "duration": 150,
    "start_time": "2022-10-29T19:34:16.160Z"
   },
   {
    "duration": 85,
    "start_time": "2022-10-29T19:34:37.388Z"
   },
   {
    "duration": 151,
    "start_time": "2022-10-29T19:34:41.605Z"
   },
   {
    "duration": 135,
    "start_time": "2022-10-29T19:34:50.181Z"
   },
   {
    "duration": 212,
    "start_time": "2022-10-29T19:34:57.221Z"
   },
   {
    "duration": 116,
    "start_time": "2022-10-29T19:35:01.290Z"
   },
   {
    "duration": 125,
    "start_time": "2022-10-29T19:35:06.853Z"
   },
   {
    "duration": 139,
    "start_time": "2022-10-29T19:35:41.463Z"
   },
   {
    "duration": 84,
    "start_time": "2022-10-29T19:35:48.015Z"
   },
   {
    "duration": 116,
    "start_time": "2022-10-29T19:35:50.459Z"
   },
   {
    "duration": 119,
    "start_time": "2022-10-29T19:36:08.747Z"
   },
   {
    "duration": 131,
    "start_time": "2022-10-29T19:36:32.810Z"
   },
   {
    "duration": 127,
    "start_time": "2022-10-29T19:39:07.513Z"
   },
   {
    "duration": 147,
    "start_time": "2022-10-29T19:39:34.985Z"
   },
   {
    "duration": 124,
    "start_time": "2022-10-29T19:44:16.822Z"
   },
   {
    "duration": 135,
    "start_time": "2022-10-29T19:44:33.585Z"
   },
   {
    "duration": 67,
    "start_time": "2022-10-29T19:46:18.743Z"
   },
   {
    "duration": 15,
    "start_time": "2022-10-29T19:46:18.812Z"
   },
   {
    "duration": 20,
    "start_time": "2022-10-29T19:46:18.829Z"
   },
   {
    "duration": 10,
    "start_time": "2022-10-29T19:46:18.851Z"
   },
   {
    "duration": 54,
    "start_time": "2022-10-29T19:46:18.862Z"
   },
   {
    "duration": 4,
    "start_time": "2022-10-29T19:46:18.917Z"
   },
   {
    "duration": 9,
    "start_time": "2022-10-29T19:46:18.923Z"
   },
   {
    "duration": 9,
    "start_time": "2022-10-29T19:46:18.933Z"
   },
   {
    "duration": 14,
    "start_time": "2022-10-29T19:46:18.944Z"
   },
   {
    "duration": 15,
    "start_time": "2022-10-29T19:46:18.961Z"
   },
   {
    "duration": 41,
    "start_time": "2022-10-29T19:46:18.977Z"
   },
   {
    "duration": 8,
    "start_time": "2022-10-29T19:46:19.020Z"
   },
   {
    "duration": 20,
    "start_time": "2022-10-29T19:46:19.029Z"
   },
   {
    "duration": 19,
    "start_time": "2022-10-29T19:46:19.050Z"
   },
   {
    "duration": 25,
    "start_time": "2022-10-29T19:46:19.071Z"
   },
   {
    "duration": 18,
    "start_time": "2022-10-29T19:46:19.097Z"
   },
   {
    "duration": 4,
    "start_time": "2022-10-29T19:46:19.117Z"
   },
   {
    "duration": 12,
    "start_time": "2022-10-29T19:46:19.122Z"
   },
   {
    "duration": 7,
    "start_time": "2022-10-29T19:46:19.135Z"
   },
   {
    "duration": 3,
    "start_time": "2022-10-29T19:46:19.144Z"
   },
   {
    "duration": 9,
    "start_time": "2022-10-29T19:46:19.149Z"
   },
   {
    "duration": 126,
    "start_time": "2022-10-29T19:46:19.190Z"
   },
   {
    "duration": 0,
    "start_time": "2022-10-29T19:46:19.317Z"
   },
   {
    "duration": 0,
    "start_time": "2022-10-29T19:46:19.318Z"
   },
   {
    "duration": 0,
    "start_time": "2022-10-29T19:46:19.320Z"
   },
   {
    "duration": 123,
    "start_time": "2022-10-29T19:46:23.210Z"
   },
   {
    "duration": 240,
    "start_time": "2022-10-29T19:47:11.304Z"
   },
   {
    "duration": 123,
    "start_time": "2022-10-29T19:47:27.395Z"
   },
   {
    "duration": 125,
    "start_time": "2022-10-29T19:47:31.410Z"
   },
   {
    "duration": 121,
    "start_time": "2022-10-29T19:48:20.762Z"
   },
   {
    "duration": 114,
    "start_time": "2022-10-29T19:48:28.806Z"
   },
   {
    "duration": 132,
    "start_time": "2022-10-29T19:48:43.179Z"
   },
   {
    "duration": 125,
    "start_time": "2022-10-29T19:49:24.752Z"
   },
   {
    "duration": 188,
    "start_time": "2022-10-29T19:51:20.532Z"
   },
   {
    "duration": 128,
    "start_time": "2022-10-29T19:52:03.849Z"
   },
   {
    "duration": 139,
    "start_time": "2022-10-29T19:52:09.111Z"
   },
   {
    "duration": 76,
    "start_time": "2022-10-29T19:52:21.855Z"
   },
   {
    "duration": 133,
    "start_time": "2022-10-29T19:52:25.275Z"
   },
   {
    "duration": 135,
    "start_time": "2022-10-29T19:52:38.691Z"
   },
   {
    "duration": 234,
    "start_time": "2022-10-29T19:54:06.418Z"
   },
   {
    "duration": 127,
    "start_time": "2022-10-29T19:54:40.098Z"
   },
   {
    "duration": 128,
    "start_time": "2022-10-29T19:54:51.605Z"
   },
   {
    "duration": 119,
    "start_time": "2022-10-29T19:55:20.732Z"
   },
   {
    "duration": 117,
    "start_time": "2022-10-29T19:56:15.724Z"
   },
   {
    "duration": 95,
    "start_time": "2022-10-29T19:58:11.872Z"
   },
   {
    "duration": 121,
    "start_time": "2022-10-29T19:58:14.909Z"
   },
   {
    "duration": 122,
    "start_time": "2022-10-29T19:58:25.777Z"
   },
   {
    "duration": 65,
    "start_time": "2022-10-29T19:58:31.582Z"
   },
   {
    "duration": 15,
    "start_time": "2022-10-29T19:58:31.649Z"
   },
   {
    "duration": 17,
    "start_time": "2022-10-29T19:58:31.665Z"
   },
   {
    "duration": 13,
    "start_time": "2022-10-29T19:58:31.684Z"
   },
   {
    "duration": 30,
    "start_time": "2022-10-29T19:58:31.700Z"
   },
   {
    "duration": 3,
    "start_time": "2022-10-29T19:58:31.732Z"
   },
   {
    "duration": 12,
    "start_time": "2022-10-29T19:58:31.736Z"
   },
   {
    "duration": 10,
    "start_time": "2022-10-29T19:58:31.750Z"
   },
   {
    "duration": 9,
    "start_time": "2022-10-29T19:58:31.761Z"
   },
   {
    "duration": 20,
    "start_time": "2022-10-29T19:58:31.772Z"
   },
   {
    "duration": 32,
    "start_time": "2022-10-29T19:58:31.794Z"
   },
   {
    "duration": 9,
    "start_time": "2022-10-29T19:58:31.828Z"
   },
   {
    "duration": 3,
    "start_time": "2022-10-29T19:58:31.838Z"
   },
   {
    "duration": 9,
    "start_time": "2022-10-29T19:58:31.843Z"
   },
   {
    "duration": 39,
    "start_time": "2022-10-29T19:58:31.853Z"
   },
   {
    "duration": 18,
    "start_time": "2022-10-29T19:58:31.893Z"
   },
   {
    "duration": 4,
    "start_time": "2022-10-29T19:58:31.912Z"
   },
   {
    "duration": 11,
    "start_time": "2022-10-29T19:58:31.917Z"
   },
   {
    "duration": 8,
    "start_time": "2022-10-29T19:58:31.929Z"
   },
   {
    "duration": 3,
    "start_time": "2022-10-29T19:58:31.938Z"
   },
   {
    "duration": 9,
    "start_time": "2022-10-29T19:58:31.943Z"
   },
   {
    "duration": 150,
    "start_time": "2022-10-29T19:58:31.954Z"
   },
   {
    "duration": 144,
    "start_time": "2022-10-29T19:58:32.106Z"
   },
   {
    "duration": 125,
    "start_time": "2022-10-29T19:58:32.252Z"
   },
   {
    "duration": 144,
    "start_time": "2022-10-29T19:58:32.379Z"
   },
   {
    "duration": 152,
    "start_time": "2022-10-29T19:58:56.674Z"
   },
   {
    "duration": 117,
    "start_time": "2022-10-29T19:59:38.966Z"
   },
   {
    "duration": 227,
    "start_time": "2022-10-29T19:59:43.072Z"
   },
   {
    "duration": 131,
    "start_time": "2022-10-29T19:59:56.353Z"
   },
   {
    "duration": 119,
    "start_time": "2022-10-29T20:00:12.330Z"
   },
   {
    "duration": 119,
    "start_time": "2022-10-29T20:01:48.062Z"
   },
   {
    "duration": 117,
    "start_time": "2022-10-29T20:02:30.243Z"
   },
   {
    "duration": 129,
    "start_time": "2022-10-29T20:03:36.153Z"
   },
   {
    "duration": 123,
    "start_time": "2022-10-29T20:03:44.740Z"
   },
   {
    "duration": 129,
    "start_time": "2022-10-29T20:03:56.954Z"
   },
   {
    "duration": 134,
    "start_time": "2022-10-29T20:04:02.765Z"
   },
   {
    "duration": 177,
    "start_time": "2022-10-29T20:09:10.987Z"
   },
   {
    "duration": 71,
    "start_time": "2022-10-29T20:09:21.064Z"
   },
   {
    "duration": 16,
    "start_time": "2022-10-29T20:09:21.136Z"
   },
   {
    "duration": 14,
    "start_time": "2022-10-29T20:09:21.154Z"
   },
   {
    "duration": 27,
    "start_time": "2022-10-29T20:09:21.170Z"
   },
   {
    "duration": 30,
    "start_time": "2022-10-29T20:09:21.204Z"
   },
   {
    "duration": 4,
    "start_time": "2022-10-29T20:09:21.236Z"
   },
   {
    "duration": 10,
    "start_time": "2022-10-29T20:09:21.241Z"
   },
   {
    "duration": 3,
    "start_time": "2022-10-29T20:09:21.253Z"
   },
   {
    "duration": 5,
    "start_time": "2022-10-29T20:09:21.258Z"
   },
   {
    "duration": 4,
    "start_time": "2022-10-29T20:09:21.265Z"
   },
   {
    "duration": 36,
    "start_time": "2022-10-29T20:09:21.290Z"
   },
   {
    "duration": 9,
    "start_time": "2022-10-29T20:09:21.328Z"
   },
   {
    "duration": 3,
    "start_time": "2022-10-29T20:09:21.339Z"
   },
   {
    "duration": 12,
    "start_time": "2022-10-29T20:09:21.343Z"
   },
   {
    "duration": 48,
    "start_time": "2022-10-29T20:09:21.356Z"
   },
   {
    "duration": 16,
    "start_time": "2022-10-29T20:09:21.406Z"
   },
   {
    "duration": 4,
    "start_time": "2022-10-29T20:09:21.423Z"
   },
   {
    "duration": 11,
    "start_time": "2022-10-29T20:09:21.428Z"
   },
   {
    "duration": 6,
    "start_time": "2022-10-29T20:09:21.441Z"
   },
   {
    "duration": 3,
    "start_time": "2022-10-29T20:09:21.449Z"
   },
   {
    "duration": 22,
    "start_time": "2022-10-29T20:09:21.453Z"
   },
   {
    "duration": 182,
    "start_time": "2022-10-29T20:09:21.476Z"
   },
   {
    "duration": 156,
    "start_time": "2022-10-29T20:09:21.660Z"
   },
   {
    "duration": 131,
    "start_time": "2022-10-29T20:09:21.818Z"
   },
   {
    "duration": 262,
    "start_time": "2022-10-29T20:09:21.951Z"
   },
   {
    "duration": 173,
    "start_time": "2022-10-29T20:10:04.508Z"
   },
   {
    "duration": 145,
    "start_time": "2022-10-29T20:10:24.159Z"
   },
   {
    "duration": 176,
    "start_time": "2022-10-29T20:10:31.706Z"
   },
   {
    "duration": 178,
    "start_time": "2022-10-29T20:10:40.626Z"
   },
   {
    "duration": 169,
    "start_time": "2022-10-29T20:10:41.056Z"
   },
   {
    "duration": 168,
    "start_time": "2022-10-29T20:10:41.259Z"
   },
   {
    "duration": 188,
    "start_time": "2022-10-29T20:10:47.324Z"
   },
   {
    "duration": 203,
    "start_time": "2022-10-29T20:11:04.307Z"
   },
   {
    "duration": 183,
    "start_time": "2022-10-29T20:11:37.446Z"
   },
   {
    "duration": 173,
    "start_time": "2022-10-29T20:11:42.714Z"
   },
   {
    "duration": 176,
    "start_time": "2022-10-29T20:12:40.149Z"
   },
   {
    "duration": 163,
    "start_time": "2022-10-29T20:12:51.205Z"
   },
   {
    "duration": 167,
    "start_time": "2022-10-29T20:13:00.545Z"
   },
   {
    "duration": 243,
    "start_time": "2022-10-29T20:13:08.682Z"
   },
   {
    "duration": 141,
    "start_time": "2022-10-29T20:13:25.943Z"
   },
   {
    "duration": 143,
    "start_time": "2022-10-29T20:13:44.914Z"
   },
   {
    "duration": 145,
    "start_time": "2022-10-29T20:13:52.261Z"
   },
   {
    "duration": 138,
    "start_time": "2022-10-29T20:13:56.787Z"
   },
   {
    "duration": 123,
    "start_time": "2022-10-29T20:14:10.043Z"
   },
   {
    "duration": 146,
    "start_time": "2022-10-29T20:21:25.832Z"
   },
   {
    "duration": 134,
    "start_time": "2022-10-29T20:21:34.420Z"
   },
   {
    "duration": 120,
    "start_time": "2022-10-29T20:22:01.210Z"
   },
   {
    "duration": 119,
    "start_time": "2022-10-29T20:22:16.729Z"
   },
   {
    "duration": 127,
    "start_time": "2022-10-29T20:22:25.670Z"
   },
   {
    "duration": 128,
    "start_time": "2022-10-29T20:23:29.243Z"
   },
   {
    "duration": 130,
    "start_time": "2022-10-29T20:23:49.086Z"
   },
   {
    "duration": 5,
    "start_time": "2022-10-29T20:24:05.560Z"
   },
   {
    "duration": 133,
    "start_time": "2022-10-29T20:24:11.433Z"
   },
   {
    "duration": 68,
    "start_time": "2022-10-29T20:26:59.879Z"
   },
   {
    "duration": 68,
    "start_time": "2022-10-29T20:27:28.960Z"
   },
   {
    "duration": 251,
    "start_time": "2022-10-29T20:27:33.943Z"
   },
   {
    "duration": 130,
    "start_time": "2022-10-29T20:29:05.382Z"
   },
   {
    "duration": 123,
    "start_time": "2022-10-29T20:29:08.055Z"
   },
   {
    "duration": 124,
    "start_time": "2022-10-29T20:31:52.167Z"
   },
   {
    "duration": 130,
    "start_time": "2022-10-29T20:32:10.965Z"
   },
   {
    "duration": 124,
    "start_time": "2022-10-29T20:32:18.112Z"
   },
   {
    "duration": 133,
    "start_time": "2022-10-29T20:32:25.881Z"
   },
   {
    "duration": 145,
    "start_time": "2022-10-29T20:32:47.254Z"
   },
   {
    "duration": 5,
    "start_time": "2022-10-29T20:33:04.950Z"
   },
   {
    "duration": 144,
    "start_time": "2022-10-29T20:33:07.568Z"
   },
   {
    "duration": 150,
    "start_time": "2022-10-29T20:33:10.349Z"
   },
   {
    "duration": 152,
    "start_time": "2022-10-29T20:33:15.036Z"
   },
   {
    "duration": 150,
    "start_time": "2022-10-29T20:33:17.417Z"
   },
   {
    "duration": 120,
    "start_time": "2022-10-29T20:38:11.959Z"
   },
   {
    "duration": 123,
    "start_time": "2022-10-29T20:38:26.827Z"
   },
   {
    "duration": 296,
    "start_time": "2022-10-29T20:39:06.396Z"
   },
   {
    "duration": 143,
    "start_time": "2022-10-29T20:39:17.132Z"
   },
   {
    "duration": 128,
    "start_time": "2022-10-29T20:41:06.325Z"
   },
   {
    "duration": 158,
    "start_time": "2022-10-29T20:41:21.004Z"
   },
   {
    "duration": 147,
    "start_time": "2022-10-29T20:41:28.974Z"
   },
   {
    "duration": 70,
    "start_time": "2022-10-29T20:41:47.332Z"
   },
   {
    "duration": 6,
    "start_time": "2022-10-29T20:41:49.278Z"
   },
   {
    "duration": 6,
    "start_time": "2022-10-29T20:41:50.149Z"
   },
   {
    "duration": 140,
    "start_time": "2022-10-29T20:41:52.893Z"
   },
   {
    "duration": 93,
    "start_time": "2022-10-29T20:42:20.937Z"
   },
   {
    "duration": 137,
    "start_time": "2022-10-29T20:42:22.879Z"
   },
   {
    "duration": 118,
    "start_time": "2022-10-29T20:42:53.904Z"
   },
   {
    "duration": 72,
    "start_time": "2022-10-29T20:43:04.330Z"
   },
   {
    "duration": 120,
    "start_time": "2022-10-29T20:43:25.189Z"
   },
   {
    "duration": 125,
    "start_time": "2022-10-29T20:43:49.777Z"
   },
   {
    "duration": 136,
    "start_time": "2022-10-29T20:43:55.276Z"
   },
   {
    "duration": 5,
    "start_time": "2022-10-29T20:45:28.191Z"
   },
   {
    "duration": 122,
    "start_time": "2022-10-29T20:45:31.400Z"
   },
   {
    "duration": 4,
    "start_time": "2022-10-29T23:15:33.259Z"
   },
   {
    "duration": 113,
    "start_time": "2022-10-29T23:15:37.421Z"
   },
   {
    "duration": 220,
    "start_time": "2022-10-29T23:15:55.149Z"
   },
   {
    "duration": 140,
    "start_time": "2022-10-29T23:16:28.012Z"
   },
   {
    "duration": 118,
    "start_time": "2022-10-29T23:16:38.931Z"
   },
   {
    "duration": 89,
    "start_time": "2022-10-29T23:16:47.965Z"
   },
   {
    "duration": 121,
    "start_time": "2022-10-29T23:16:52.796Z"
   },
   {
    "duration": 126,
    "start_time": "2022-10-29T23:38:08.077Z"
   },
   {
    "duration": 132,
    "start_time": "2022-10-29T23:47:17.831Z"
   },
   {
    "duration": 127,
    "start_time": "2022-10-29T23:48:21.568Z"
   },
   {
    "duration": 121,
    "start_time": "2022-10-29T23:49:48.747Z"
   },
   {
    "duration": 134,
    "start_time": "2022-10-29T23:52:01.152Z"
   },
   {
    "duration": 131,
    "start_time": "2022-10-29T23:52:34.668Z"
   },
   {
    "duration": 139,
    "start_time": "2022-10-29T23:55:04.052Z"
   },
   {
    "duration": 119,
    "start_time": "2022-10-29T23:55:17.111Z"
   },
   {
    "duration": 122,
    "start_time": "2022-10-29T23:55:23.747Z"
   },
   {
    "duration": 265,
    "start_time": "2022-10-29T23:55:30.327Z"
   },
   {
    "duration": 128,
    "start_time": "2022-10-29T23:56:24.121Z"
   },
   {
    "duration": 123,
    "start_time": "2022-10-29T23:56:49.204Z"
   },
   {
    "duration": 123,
    "start_time": "2022-10-29T23:58:10.603Z"
   },
   {
    "duration": 142,
    "start_time": "2022-10-29T23:59:15.256Z"
   },
   {
    "duration": 153,
    "start_time": "2022-10-29T23:59:26.674Z"
   },
   {
    "duration": 131,
    "start_time": "2022-10-29T23:59:45.532Z"
   },
   {
    "duration": 157,
    "start_time": "2022-10-30T00:00:24.413Z"
   },
   {
    "duration": 142,
    "start_time": "2022-10-30T00:01:13.071Z"
   },
   {
    "duration": 79,
    "start_time": "2022-10-30T00:01:28.908Z"
   },
   {
    "duration": 73,
    "start_time": "2022-10-30T00:01:35.883Z"
   },
   {
    "duration": 131,
    "start_time": "2022-10-30T00:01:42.898Z"
   },
   {
    "duration": 126,
    "start_time": "2022-10-30T00:01:58.059Z"
   },
   {
    "duration": 130,
    "start_time": "2022-10-30T00:02:05.079Z"
   },
   {
    "duration": 135,
    "start_time": "2022-10-30T00:02:19.105Z"
   },
   {
    "duration": 146,
    "start_time": "2022-10-30T00:02:24.949Z"
   },
   {
    "duration": 130,
    "start_time": "2022-10-30T00:04:07.499Z"
   },
   {
    "duration": 257,
    "start_time": "2022-10-30T00:05:03.825Z"
   },
   {
    "duration": 80,
    "start_time": "2022-10-30T00:05:40.210Z"
   },
   {
    "duration": 145,
    "start_time": "2022-10-30T00:06:26.536Z"
   },
   {
    "duration": 129,
    "start_time": "2022-10-30T00:06:51.902Z"
   },
   {
    "duration": 134,
    "start_time": "2022-10-30T00:07:52.899Z"
   },
   {
    "duration": 149,
    "start_time": "2022-10-30T00:08:11.632Z"
   },
   {
    "duration": 129,
    "start_time": "2022-10-30T00:08:15.711Z"
   },
   {
    "duration": 132,
    "start_time": "2022-10-30T00:09:03.630Z"
   },
   {
    "duration": 129,
    "start_time": "2022-10-30T00:09:12.797Z"
   },
   {
    "duration": 131,
    "start_time": "2022-10-30T00:09:16.032Z"
   },
   {
    "duration": 131,
    "start_time": "2022-10-30T00:09:32.437Z"
   },
   {
    "duration": 128,
    "start_time": "2022-10-30T00:09:35.203Z"
   },
   {
    "duration": 141,
    "start_time": "2022-10-30T00:09:40.188Z"
   },
   {
    "duration": 130,
    "start_time": "2022-10-30T00:09:43.747Z"
   },
   {
    "duration": 125,
    "start_time": "2022-10-30T00:10:10.492Z"
   },
   {
    "duration": 75,
    "start_time": "2022-10-30T00:10:57.875Z"
   },
   {
    "duration": 78,
    "start_time": "2022-10-30T00:11:05.141Z"
   },
   {
    "duration": 77,
    "start_time": "2022-10-30T00:11:24.047Z"
   },
   {
    "duration": 128,
    "start_time": "2022-10-30T00:11:27.463Z"
   },
   {
    "duration": 237,
    "start_time": "2022-10-30T00:11:42.895Z"
   },
   {
    "duration": 139,
    "start_time": "2022-10-30T00:11:57.361Z"
   },
   {
    "duration": 162,
    "start_time": "2022-10-30T00:12:06.409Z"
   },
   {
    "duration": 146,
    "start_time": "2022-10-30T00:12:51.557Z"
   },
   {
    "duration": 136,
    "start_time": "2022-10-30T00:13:01.382Z"
   },
   {
    "duration": 137,
    "start_time": "2022-10-30T00:13:44.090Z"
   },
   {
    "duration": 2307,
    "start_time": "2022-10-30T00:14:08.899Z"
   },
   {
    "duration": 28,
    "start_time": "2022-10-30T00:14:30.813Z"
   },
   {
    "duration": 130,
    "start_time": "2022-10-30T00:14:56.046Z"
   },
   {
    "duration": 147,
    "start_time": "2022-10-30T00:15:30.718Z"
   },
   {
    "duration": 173,
    "start_time": "2022-10-30T00:17:09.600Z"
   },
   {
    "duration": 74,
    "start_time": "2022-10-30T00:17:31.388Z"
   },
   {
    "duration": 14,
    "start_time": "2022-10-30T00:17:31.464Z"
   },
   {
    "duration": 18,
    "start_time": "2022-10-30T00:17:31.479Z"
   },
   {
    "duration": 9,
    "start_time": "2022-10-30T00:17:31.498Z"
   },
   {
    "duration": 32,
    "start_time": "2022-10-30T00:17:31.508Z"
   },
   {
    "duration": 3,
    "start_time": "2022-10-30T00:17:31.542Z"
   },
   {
    "duration": 10,
    "start_time": "2022-10-30T00:17:31.547Z"
   },
   {
    "duration": 4,
    "start_time": "2022-10-30T00:17:31.559Z"
   },
   {
    "duration": 27,
    "start_time": "2022-10-30T00:17:31.564Z"
   },
   {
    "duration": 5,
    "start_time": "2022-10-30T00:17:31.594Z"
   },
   {
    "duration": 38,
    "start_time": "2022-10-30T00:17:31.600Z"
   },
   {
    "duration": 9,
    "start_time": "2022-10-30T00:17:31.640Z"
   },
   {
    "duration": 4,
    "start_time": "2022-10-30T00:17:31.651Z"
   },
   {
    "duration": 11,
    "start_time": "2022-10-30T00:17:31.657Z"
   },
   {
    "duration": 17,
    "start_time": "2022-10-30T00:17:31.692Z"
   },
   {
    "duration": 16,
    "start_time": "2022-10-30T00:17:31.711Z"
   },
   {
    "duration": 3,
    "start_time": "2022-10-30T00:17:31.729Z"
   },
   {
    "duration": 11,
    "start_time": "2022-10-30T00:17:31.733Z"
   },
   {
    "duration": 11,
    "start_time": "2022-10-30T00:17:31.745Z"
   },
   {
    "duration": 3,
    "start_time": "2022-10-30T00:17:31.758Z"
   },
   {
    "duration": 35,
    "start_time": "2022-10-30T00:17:31.762Z"
   },
   {
    "duration": 128,
    "start_time": "2022-10-30T00:17:31.799Z"
   },
   {
    "duration": 145,
    "start_time": "2022-10-30T00:17:31.929Z"
   },
   {
    "duration": 138,
    "start_time": "2022-10-30T00:17:32.075Z"
   },
   {
    "duration": 27,
    "start_time": "2022-10-30T00:17:32.215Z"
   },
   {
    "duration": 28,
    "start_time": "2022-10-30T00:18:06.026Z"
   },
   {
    "duration": 27,
    "start_time": "2022-10-30T00:18:43.884Z"
   },
   {
    "duration": 28,
    "start_time": "2022-10-30T00:18:57.421Z"
   },
   {
    "duration": 75,
    "start_time": "2022-10-30T00:19:10.382Z"
   },
   {
    "duration": 14,
    "start_time": "2022-10-30T00:19:10.459Z"
   },
   {
    "duration": 16,
    "start_time": "2022-10-30T00:19:10.474Z"
   },
   {
    "duration": 8,
    "start_time": "2022-10-30T00:19:10.492Z"
   },
   {
    "duration": 30,
    "start_time": "2022-10-30T00:19:10.502Z"
   },
   {
    "duration": 3,
    "start_time": "2022-10-30T00:19:10.534Z"
   },
   {
    "duration": 13,
    "start_time": "2022-10-30T00:19:10.538Z"
   },
   {
    "duration": 4,
    "start_time": "2022-10-30T00:19:10.553Z"
   },
   {
    "duration": 32,
    "start_time": "2022-10-30T00:19:10.559Z"
   },
   {
    "duration": 5,
    "start_time": "2022-10-30T00:19:10.592Z"
   },
   {
    "duration": 29,
    "start_time": "2022-10-30T00:19:10.599Z"
   },
   {
    "duration": 9,
    "start_time": "2022-10-30T00:19:10.630Z"
   },
   {
    "duration": 4,
    "start_time": "2022-10-30T00:19:10.641Z"
   },
   {
    "duration": 11,
    "start_time": "2022-10-30T00:19:10.648Z"
   },
   {
    "duration": 17,
    "start_time": "2022-10-30T00:19:10.691Z"
   },
   {
    "duration": 16,
    "start_time": "2022-10-30T00:19:10.709Z"
   },
   {
    "duration": 3,
    "start_time": "2022-10-30T00:19:10.727Z"
   },
   {
    "duration": 14,
    "start_time": "2022-10-30T00:19:10.731Z"
   },
   {
    "duration": 6,
    "start_time": "2022-10-30T00:19:10.746Z"
   },
   {
    "duration": 5,
    "start_time": "2022-10-30T00:19:10.753Z"
   },
   {
    "duration": 33,
    "start_time": "2022-10-30T00:19:10.759Z"
   },
   {
    "duration": 129,
    "start_time": "2022-10-30T00:19:10.793Z"
   },
   {
    "duration": 142,
    "start_time": "2022-10-30T00:19:10.923Z"
   },
   {
    "duration": 136,
    "start_time": "2022-10-30T00:19:11.067Z"
   },
   {
    "duration": 43,
    "start_time": "2022-10-30T00:19:11.205Z"
   },
   {
    "duration": 51,
    "start_time": "2022-10-30T00:19:46.685Z"
   },
   {
    "duration": 72,
    "start_time": "2022-10-30T00:19:48.779Z"
   },
   {
    "duration": 18,
    "start_time": "2022-10-30T00:19:48.853Z"
   },
   {
    "duration": 18,
    "start_time": "2022-10-30T00:19:48.873Z"
   },
   {
    "duration": 10,
    "start_time": "2022-10-30T00:19:48.893Z"
   },
   {
    "duration": 31,
    "start_time": "2022-10-30T00:19:48.904Z"
   },
   {
    "duration": 3,
    "start_time": "2022-10-30T00:19:48.937Z"
   },
   {
    "duration": 9,
    "start_time": "2022-10-30T00:19:48.942Z"
   },
   {
    "duration": 5,
    "start_time": "2022-10-30T00:19:48.952Z"
   },
   {
    "duration": 37,
    "start_time": "2022-10-30T00:19:48.958Z"
   },
   {
    "duration": 5,
    "start_time": "2022-10-30T00:19:48.998Z"
   },
   {
    "duration": 32,
    "start_time": "2022-10-30T00:19:49.005Z"
   },
   {
    "duration": 10,
    "start_time": "2022-10-30T00:19:49.040Z"
   },
   {
    "duration": 39,
    "start_time": "2022-10-30T00:19:49.052Z"
   },
   {
    "duration": 11,
    "start_time": "2022-10-30T00:19:49.093Z"
   },
   {
    "duration": 20,
    "start_time": "2022-10-30T00:19:49.105Z"
   },
   {
    "duration": 18,
    "start_time": "2022-10-30T00:19:49.127Z"
   },
   {
    "duration": 5,
    "start_time": "2022-10-30T00:19:49.147Z"
   },
   {
    "duration": 14,
    "start_time": "2022-10-30T00:19:49.154Z"
   },
   {
    "duration": 7,
    "start_time": "2022-10-30T00:19:49.192Z"
   },
   {
    "duration": 3,
    "start_time": "2022-10-30T00:19:49.201Z"
   },
   {
    "duration": 11,
    "start_time": "2022-10-30T00:19:49.205Z"
   },
   {
    "duration": 147,
    "start_time": "2022-10-30T00:19:49.217Z"
   },
   {
    "duration": 163,
    "start_time": "2022-10-30T00:19:49.365Z"
   },
   {
    "duration": 303,
    "start_time": "2022-10-30T00:19:49.530Z"
   },
   {
    "duration": 41,
    "start_time": "2022-10-30T00:19:49.835Z"
   },
   {
    "duration": 44,
    "start_time": "2022-10-30T00:20:06.476Z"
   },
   {
    "duration": 71,
    "start_time": "2022-10-30T00:20:09.073Z"
   },
   {
    "duration": 16,
    "start_time": "2022-10-30T00:20:09.146Z"
   },
   {
    "duration": 15,
    "start_time": "2022-10-30T00:20:09.164Z"
   },
   {
    "duration": 11,
    "start_time": "2022-10-30T00:20:09.191Z"
   },
   {
    "duration": 35,
    "start_time": "2022-10-30T00:20:09.203Z"
   },
   {
    "duration": 3,
    "start_time": "2022-10-30T00:20:09.240Z"
   },
   {
    "duration": 13,
    "start_time": "2022-10-30T00:20:09.244Z"
   },
   {
    "duration": 4,
    "start_time": "2022-10-30T00:20:09.258Z"
   },
   {
    "duration": 6,
    "start_time": "2022-10-30T00:20:09.292Z"
   },
   {
    "duration": 5,
    "start_time": "2022-10-30T00:20:09.301Z"
   },
   {
    "duration": 35,
    "start_time": "2022-10-30T00:20:09.307Z"
   },
   {
    "duration": 9,
    "start_time": "2022-10-30T00:20:09.344Z"
   },
   {
    "duration": 38,
    "start_time": "2022-10-30T00:20:09.354Z"
   },
   {
    "duration": 12,
    "start_time": "2022-10-30T00:20:09.394Z"
   },
   {
    "duration": 21,
    "start_time": "2022-10-30T00:20:09.408Z"
   },
   {
    "duration": 18,
    "start_time": "2022-10-30T00:20:09.431Z"
   },
   {
    "duration": 4,
    "start_time": "2022-10-30T00:20:09.451Z"
   },
   {
    "duration": 41,
    "start_time": "2022-10-30T00:20:09.456Z"
   },
   {
    "duration": 6,
    "start_time": "2022-10-30T00:20:09.499Z"
   },
   {
    "duration": 4,
    "start_time": "2022-10-30T00:20:09.507Z"
   },
   {
    "duration": 10,
    "start_time": "2022-10-30T00:20:09.512Z"
   },
   {
    "duration": 183,
    "start_time": "2022-10-30T00:20:09.524Z"
   },
   {
    "duration": 160,
    "start_time": "2022-10-30T00:20:09.710Z"
   },
   {
    "duration": 153,
    "start_time": "2022-10-30T00:20:09.872Z"
   },
   {
    "duration": 43,
    "start_time": "2022-10-30T00:20:10.027Z"
   },
   {
    "duration": 1251,
    "start_time": "2022-10-30T00:20:18.961Z"
   },
   {
    "duration": 19,
    "start_time": "2022-10-30T00:20:20.214Z"
   },
   {
    "duration": 16,
    "start_time": "2022-10-30T00:20:20.234Z"
   },
   {
    "duration": 9,
    "start_time": "2022-10-30T00:20:20.252Z"
   },
   {
    "duration": 53,
    "start_time": "2022-10-30T00:20:20.263Z"
   },
   {
    "duration": 4,
    "start_time": "2022-10-30T00:20:20.317Z"
   },
   {
    "duration": 11,
    "start_time": "2022-10-30T00:20:20.322Z"
   },
   {
    "duration": 5,
    "start_time": "2022-10-30T00:20:20.335Z"
   },
   {
    "duration": 8,
    "start_time": "2022-10-30T00:20:20.342Z"
   },
   {
    "duration": 5,
    "start_time": "2022-10-30T00:20:20.351Z"
   },
   {
    "duration": 67,
    "start_time": "2022-10-30T00:20:20.358Z"
   },
   {
    "duration": 10,
    "start_time": "2022-10-30T00:20:20.427Z"
   },
   {
    "duration": 16,
    "start_time": "2022-10-30T00:20:20.439Z"
   },
   {
    "duration": 12,
    "start_time": "2022-10-30T00:20:20.458Z"
   },
   {
    "duration": 20,
    "start_time": "2022-10-30T00:20:20.491Z"
   },
   {
    "duration": 17,
    "start_time": "2022-10-30T00:20:20.513Z"
   },
   {
    "duration": 3,
    "start_time": "2022-10-30T00:20:20.532Z"
   },
   {
    "duration": 11,
    "start_time": "2022-10-30T00:20:20.537Z"
   },
   {
    "duration": 11,
    "start_time": "2022-10-30T00:20:20.550Z"
   },
   {
    "duration": 4,
    "start_time": "2022-10-30T00:20:20.591Z"
   },
   {
    "duration": 11,
    "start_time": "2022-10-30T00:20:20.597Z"
   },
   {
    "duration": 195,
    "start_time": "2022-10-30T00:20:20.610Z"
   },
   {
    "duration": 156,
    "start_time": "2022-10-30T00:20:20.807Z"
   },
   {
    "duration": 137,
    "start_time": "2022-10-30T00:20:20.965Z"
   },
   {
    "duration": 141,
    "start_time": "2022-10-30T00:20:21.103Z"
   },
   {
    "duration": 68,
    "start_time": "2022-10-30T00:20:30.081Z"
   },
   {
    "duration": 16,
    "start_time": "2022-10-30T00:20:30.151Z"
   },
   {
    "duration": 33,
    "start_time": "2022-10-30T00:20:30.169Z"
   },
   {
    "duration": 9,
    "start_time": "2022-10-30T00:20:30.204Z"
   },
   {
    "duration": 37,
    "start_time": "2022-10-30T00:20:30.215Z"
   },
   {
    "duration": 3,
    "start_time": "2022-10-30T00:20:30.254Z"
   },
   {
    "duration": 30,
    "start_time": "2022-10-30T00:20:30.259Z"
   },
   {
    "duration": 20,
    "start_time": "2022-10-30T00:20:30.291Z"
   },
   {
    "duration": 21,
    "start_time": "2022-10-30T00:20:30.313Z"
   },
   {
    "duration": 7,
    "start_time": "2022-10-30T00:20:30.337Z"
   },
   {
    "duration": 48,
    "start_time": "2022-10-30T00:20:30.345Z"
   },
   {
    "duration": 10,
    "start_time": "2022-10-30T00:20:30.394Z"
   },
   {
    "duration": 18,
    "start_time": "2022-10-30T00:20:30.405Z"
   },
   {
    "duration": 24,
    "start_time": "2022-10-30T00:20:30.425Z"
   },
   {
    "duration": 28,
    "start_time": "2022-10-30T00:20:30.450Z"
   },
   {
    "duration": 34,
    "start_time": "2022-10-30T00:20:30.479Z"
   },
   {
    "duration": 8,
    "start_time": "2022-10-30T00:20:30.515Z"
   },
   {
    "duration": 27,
    "start_time": "2022-10-30T00:20:30.525Z"
   },
   {
    "duration": 17,
    "start_time": "2022-10-30T00:20:30.553Z"
   },
   {
    "duration": 10,
    "start_time": "2022-10-30T00:20:30.572Z"
   },
   {
    "duration": 14,
    "start_time": "2022-10-30T00:20:30.584Z"
   },
   {
    "duration": 142,
    "start_time": "2022-10-30T00:20:30.600Z"
   },
   {
    "duration": 184,
    "start_time": "2022-10-30T00:20:30.744Z"
   },
   {
    "duration": 153,
    "start_time": "2022-10-30T00:20:30.930Z"
   },
   {
    "duration": 943,
    "start_time": "2022-10-30T00:20:31.085Z"
   },
   {
    "duration": 70,
    "start_time": "2022-10-30T00:20:36.666Z"
   },
   {
    "duration": 16,
    "start_time": "2022-10-30T00:20:36.738Z"
   },
   {
    "duration": 17,
    "start_time": "2022-10-30T00:20:36.756Z"
   },
   {
    "duration": 24,
    "start_time": "2022-10-30T00:20:36.775Z"
   },
   {
    "duration": 36,
    "start_time": "2022-10-30T00:20:36.801Z"
   },
   {
    "duration": 4,
    "start_time": "2022-10-30T00:20:36.838Z"
   },
   {
    "duration": 10,
    "start_time": "2022-10-30T00:20:36.843Z"
   },
   {
    "duration": 6,
    "start_time": "2022-10-30T00:20:36.856Z"
   },
   {
    "duration": 35,
    "start_time": "2022-10-30T00:20:36.864Z"
   },
   {
    "duration": 5,
    "start_time": "2022-10-30T00:20:36.901Z"
   },
   {
    "duration": 38,
    "start_time": "2022-10-30T00:20:36.908Z"
   },
   {
    "duration": 9,
    "start_time": "2022-10-30T00:20:36.947Z"
   },
   {
    "duration": 4,
    "start_time": "2022-10-30T00:20:36.957Z"
   },
   {
    "duration": 32,
    "start_time": "2022-10-30T00:20:36.963Z"
   },
   {
    "duration": 20,
    "start_time": "2022-10-30T00:20:36.997Z"
   },
   {
    "duration": 18,
    "start_time": "2022-10-30T00:20:37.019Z"
   },
   {
    "duration": 3,
    "start_time": "2022-10-30T00:20:37.038Z"
   },
   {
    "duration": 11,
    "start_time": "2022-10-30T00:20:37.043Z"
   },
   {
    "duration": 37,
    "start_time": "2022-10-30T00:20:37.055Z"
   },
   {
    "duration": 4,
    "start_time": "2022-10-30T00:20:37.093Z"
   },
   {
    "duration": 13,
    "start_time": "2022-10-30T00:20:37.098Z"
   },
   {
    "duration": 154,
    "start_time": "2022-10-30T00:20:37.112Z"
   },
   {
    "duration": 163,
    "start_time": "2022-10-30T00:20:37.267Z"
   },
   {
    "duration": 222,
    "start_time": "2022-10-30T00:20:37.432Z"
   },
   {
    "duration": 39,
    "start_time": "2022-10-30T00:20:37.655Z"
   },
   {
    "duration": 23,
    "start_time": "2022-10-30T00:21:23.532Z"
   },
   {
    "duration": 1169,
    "start_time": "2022-10-30T00:21:50.016Z"
   },
   {
    "duration": 18,
    "start_time": "2022-10-30T00:21:51.187Z"
   },
   {
    "duration": 14,
    "start_time": "2022-10-30T00:21:51.207Z"
   },
   {
    "duration": 8,
    "start_time": "2022-10-30T00:21:51.222Z"
   },
   {
    "duration": 32,
    "start_time": "2022-10-30T00:21:51.232Z"
   },
   {
    "duration": 28,
    "start_time": "2022-10-30T00:21:51.266Z"
   },
   {
    "duration": 13,
    "start_time": "2022-10-30T00:21:51.296Z"
   },
   {
    "duration": 5,
    "start_time": "2022-10-30T00:21:51.311Z"
   },
   {
    "duration": 7,
    "start_time": "2022-10-30T00:21:51.317Z"
   },
   {
    "duration": 4,
    "start_time": "2022-10-30T00:21:51.325Z"
   },
   {
    "duration": 63,
    "start_time": "2022-10-30T00:21:51.331Z"
   },
   {
    "duration": 10,
    "start_time": "2022-10-30T00:21:51.396Z"
   },
   {
    "duration": 4,
    "start_time": "2022-10-30T00:21:51.407Z"
   },
   {
    "duration": 11,
    "start_time": "2022-10-30T00:21:51.414Z"
   },
   {
    "duration": 22,
    "start_time": "2022-10-30T00:21:51.426Z"
   },
   {
    "duration": 50,
    "start_time": "2022-10-30T00:21:51.450Z"
   },
   {
    "duration": 4,
    "start_time": "2022-10-30T00:21:51.502Z"
   },
   {
    "duration": 11,
    "start_time": "2022-10-30T00:21:51.508Z"
   },
   {
    "duration": 8,
    "start_time": "2022-10-30T00:21:51.521Z"
   },
   {
    "duration": 4,
    "start_time": "2022-10-30T00:21:51.531Z"
   },
   {
    "duration": 9,
    "start_time": "2022-10-30T00:21:51.537Z"
   },
   {
    "duration": 208,
    "start_time": "2022-10-30T00:21:51.548Z"
   },
   {
    "duration": 157,
    "start_time": "2022-10-30T00:21:51.758Z"
   },
   {
    "duration": 139,
    "start_time": "2022-10-30T00:21:51.917Z"
   },
   {
    "duration": 131,
    "start_time": "2022-10-30T00:21:52.059Z"
   },
   {
    "duration": 29,
    "start_time": "2022-10-30T00:22:22.148Z"
   },
   {
    "duration": 51,
    "start_time": "2022-10-30T00:23:02.654Z"
   },
   {
    "duration": 27,
    "start_time": "2022-10-30T00:24:17.920Z"
   },
   {
    "duration": 27,
    "start_time": "2022-10-30T00:24:28.033Z"
   },
   {
    "duration": 26,
    "start_time": "2022-10-30T00:24:33.506Z"
   },
   {
    "duration": 28,
    "start_time": "2022-10-30T00:25:12.650Z"
   },
   {
    "duration": 69,
    "start_time": "2022-10-30T00:25:14.851Z"
   },
   {
    "duration": 15,
    "start_time": "2022-10-30T00:25:14.922Z"
   },
   {
    "duration": 15,
    "start_time": "2022-10-30T00:25:14.938Z"
   },
   {
    "duration": 9,
    "start_time": "2022-10-30T00:25:14.955Z"
   },
   {
    "duration": 51,
    "start_time": "2022-10-30T00:25:14.966Z"
   },
   {
    "duration": 4,
    "start_time": "2022-10-30T00:25:15.019Z"
   },
   {
    "duration": 17,
    "start_time": "2022-10-30T00:25:15.024Z"
   },
   {
    "duration": 7,
    "start_time": "2022-10-30T00:25:15.042Z"
   },
   {
    "duration": 6,
    "start_time": "2022-10-30T00:25:15.051Z"
   },
   {
    "duration": 6,
    "start_time": "2022-10-30T00:25:15.059Z"
   },
   {
    "duration": 49,
    "start_time": "2022-10-30T00:25:15.066Z"
   },
   {
    "duration": 9,
    "start_time": "2022-10-30T00:25:15.117Z"
   },
   {
    "duration": 4,
    "start_time": "2022-10-30T00:25:15.127Z"
   },
   {
    "duration": 10,
    "start_time": "2022-10-30T00:25:15.134Z"
   },
   {
    "duration": 49,
    "start_time": "2022-10-30T00:25:15.145Z"
   },
   {
    "duration": 17,
    "start_time": "2022-10-30T00:25:15.195Z"
   },
   {
    "duration": 3,
    "start_time": "2022-10-30T00:25:15.214Z"
   },
   {
    "duration": 10,
    "start_time": "2022-10-30T00:25:15.219Z"
   },
   {
    "duration": 7,
    "start_time": "2022-10-30T00:25:15.231Z"
   },
   {
    "duration": 3,
    "start_time": "2022-10-30T00:25:15.240Z"
   },
   {
    "duration": 11,
    "start_time": "2022-10-30T00:25:15.244Z"
   },
   {
    "duration": 157,
    "start_time": "2022-10-30T00:25:15.256Z"
   },
   {
    "duration": 165,
    "start_time": "2022-10-30T00:25:15.416Z"
   },
   {
    "duration": 129,
    "start_time": "2022-10-30T00:25:15.590Z"
   },
   {
    "duration": 27,
    "start_time": "2022-10-30T00:25:15.721Z"
   },
   {
    "duration": 21,
    "start_time": "2022-10-30T00:25:47.636Z"
   },
   {
    "duration": 20,
    "start_time": "2022-10-30T00:26:42.012Z"
   },
   {
    "duration": 154,
    "start_time": "2022-10-30T00:28:01.663Z"
   },
   {
    "duration": 137,
    "start_time": "2022-10-30T00:30:40.255Z"
   },
   {
    "duration": 194,
    "start_time": "2022-10-30T00:48:45.723Z"
   },
   {
    "duration": 122,
    "start_time": "2022-10-30T00:48:51.301Z"
   },
   {
    "duration": 91,
    "start_time": "2022-10-30T00:49:30.718Z"
   },
   {
    "duration": 139,
    "start_time": "2022-10-30T00:50:33.257Z"
   },
   {
    "duration": 127,
    "start_time": "2022-10-30T00:50:42.222Z"
   },
   {
    "duration": 75,
    "start_time": "2022-10-30T00:50:52.296Z"
   },
   {
    "duration": 123,
    "start_time": "2022-10-30T00:50:57.249Z"
   },
   {
    "duration": 148,
    "start_time": "2022-10-30T00:51:22.163Z"
   },
   {
    "duration": 144,
    "start_time": "2022-10-30T00:51:24.996Z"
   },
   {
    "duration": 139,
    "start_time": "2022-10-30T00:52:21.752Z"
   },
   {
    "duration": 122,
    "start_time": "2022-10-30T00:53:00.149Z"
   },
   {
    "duration": 147,
    "start_time": "2022-10-30T00:53:25.792Z"
   },
   {
    "duration": 25,
    "start_time": "2022-10-30T00:54:15.467Z"
   },
   {
    "duration": 152,
    "start_time": "2022-10-30T00:56:08.963Z"
   },
   {
    "duration": 220,
    "start_time": "2022-10-30T00:57:42.394Z"
   },
   {
    "duration": 110,
    "start_time": "2022-10-30T00:57:52.235Z"
   },
   {
    "duration": 122,
    "start_time": "2022-10-30T00:57:59.031Z"
   },
   {
    "duration": 121,
    "start_time": "2022-10-30T00:58:07.563Z"
   },
   {
    "duration": 137,
    "start_time": "2022-10-30T00:58:17.302Z"
   },
   {
    "duration": 140,
    "start_time": "2022-10-30T00:58:23.026Z"
   },
   {
    "duration": 129,
    "start_time": "2022-10-30T00:58:32.251Z"
   },
   {
    "duration": 136,
    "start_time": "2022-10-30T00:58:38.455Z"
   },
   {
    "duration": 123,
    "start_time": "2022-10-30T01:00:36.904Z"
   },
   {
    "duration": 150,
    "start_time": "2022-10-30T01:00:54.430Z"
   },
   {
    "duration": 17,
    "start_time": "2022-10-30T01:01:55.692Z"
   },
   {
    "duration": 18,
    "start_time": "2022-10-30T01:02:12.036Z"
   },
   {
    "duration": 23,
    "start_time": "2022-10-30T01:02:20.862Z"
   },
   {
    "duration": 39,
    "start_time": "2022-10-30T01:02:56.518Z"
   },
   {
    "duration": 152,
    "start_time": "2022-10-30T01:03:22.633Z"
   },
   {
    "duration": 143,
    "start_time": "2022-10-30T01:04:04.776Z"
   },
   {
    "duration": 241,
    "start_time": "2022-10-30T01:04:31.852Z"
   },
   {
    "duration": 23,
    "start_time": "2022-10-30T01:04:44.050Z"
   },
   {
    "duration": 24,
    "start_time": "2022-10-30T01:04:50.084Z"
   },
   {
    "duration": 142,
    "start_time": "2022-10-30T01:04:54.201Z"
   },
   {
    "duration": 1380,
    "start_time": "2022-10-30T01:05:26.387Z"
   },
   {
    "duration": 1120,
    "start_time": "2022-10-30T01:05:47.987Z"
   },
   {
    "duration": 1168,
    "start_time": "2022-10-30T01:06:01.522Z"
   },
   {
    "duration": 1119,
    "start_time": "2022-10-30T01:06:08.120Z"
   },
   {
    "duration": 147,
    "start_time": "2022-10-30T01:06:26.751Z"
   },
   {
    "duration": 27,
    "start_time": "2022-10-30T01:07:01.129Z"
   },
   {
    "duration": 24,
    "start_time": "2022-10-30T01:07:15.406Z"
   },
   {
    "duration": 27,
    "start_time": "2022-10-30T01:07:24.254Z"
   },
   {
    "duration": 1162,
    "start_time": "2022-10-30T01:07:31.264Z"
   },
   {
    "duration": 24,
    "start_time": "2022-10-30T01:08:07.832Z"
   },
   {
    "duration": 25,
    "start_time": "2022-10-30T01:09:00.983Z"
   },
   {
    "duration": 28,
    "start_time": "2022-10-30T01:09:46.254Z"
   },
   {
    "duration": 114,
    "start_time": "2022-10-30T01:10:00.030Z"
   },
   {
    "duration": 138,
    "start_time": "2022-10-30T01:10:46.712Z"
   },
   {
    "duration": 140,
    "start_time": "2022-10-30T01:10:53.118Z"
   },
   {
    "duration": 128,
    "start_time": "2022-10-30T01:12:31.839Z"
   },
   {
    "duration": 1145,
    "start_time": "2022-10-30T01:12:57.912Z"
   },
   {
    "duration": 165,
    "start_time": "2022-10-30T01:13:06.454Z"
   },
   {
    "duration": 137,
    "start_time": "2022-10-30T01:13:33.067Z"
   },
   {
    "duration": 132,
    "start_time": "2022-10-30T01:13:37.441Z"
   },
   {
    "duration": 849,
    "start_time": "2022-10-30T01:14:51.210Z"
   },
   {
    "duration": 128,
    "start_time": "2022-10-30T01:15:11.631Z"
   },
   {
    "duration": 25,
    "start_time": "2022-10-30T01:15:32.496Z"
   },
   {
    "duration": 24,
    "start_time": "2022-10-30T01:15:37.607Z"
   },
   {
    "duration": 108,
    "start_time": "2022-10-30T01:15:51.102Z"
   },
   {
    "duration": 23,
    "start_time": "2022-10-30T01:16:07.272Z"
   },
   {
    "duration": 30,
    "start_time": "2022-10-30T01:19:27.962Z"
   },
   {
    "duration": 29,
    "start_time": "2022-10-30T01:20:01.712Z"
   },
   {
    "duration": 39,
    "start_time": "2022-10-30T01:20:26.485Z"
   },
   {
    "duration": 18,
    "start_time": "2022-10-30T01:20:47.053Z"
   },
   {
    "duration": 21,
    "start_time": "2022-10-30T01:20:59.151Z"
   },
   {
    "duration": 140,
    "start_time": "2022-10-30T01:21:23.870Z"
   },
   {
    "duration": 129,
    "start_time": "2022-10-30T01:21:51.721Z"
   },
   {
    "duration": 128,
    "start_time": "2022-10-30T01:21:59.739Z"
   },
   {
    "duration": 135,
    "start_time": "2022-10-30T01:22:06.300Z"
   },
   {
    "duration": 135,
    "start_time": "2022-10-30T01:22:35.625Z"
   },
   {
    "duration": 133,
    "start_time": "2022-10-30T01:22:43.282Z"
   },
   {
    "duration": 153,
    "start_time": "2022-10-30T01:23:23.088Z"
   },
   {
    "duration": 134,
    "start_time": "2022-10-30T01:23:45.847Z"
   },
   {
    "duration": 121,
    "start_time": "2022-10-30T01:25:03.843Z"
   },
   {
    "duration": 30,
    "start_time": "2022-10-30T01:26:39.794Z"
   },
   {
    "duration": 22,
    "start_time": "2022-10-30T01:27:21.218Z"
   },
   {
    "duration": 28,
    "start_time": "2022-10-30T01:27:26.609Z"
   },
   {
    "duration": 100,
    "start_time": "2022-10-30T01:28:05.836Z"
   },
   {
    "duration": 133,
    "start_time": "2022-10-30T01:31:09.476Z"
   },
   {
    "duration": 192,
    "start_time": "2022-10-30T01:32:58.569Z"
   },
   {
    "duration": 126,
    "start_time": "2022-10-30T01:33:29.688Z"
   },
   {
    "duration": 122,
    "start_time": "2022-10-30T01:33:34.688Z"
   },
   {
    "duration": 137,
    "start_time": "2022-10-30T01:35:14.324Z"
   },
   {
    "duration": 72,
    "start_time": "2022-10-30T01:35:50.941Z"
   },
   {
    "duration": 116,
    "start_time": "2022-10-30T01:35:56.235Z"
   },
   {
    "duration": 66,
    "start_time": "2022-10-30T01:37:23.656Z"
   },
   {
    "duration": 15,
    "start_time": "2022-10-30T01:37:23.723Z"
   },
   {
    "duration": 17,
    "start_time": "2022-10-30T01:37:23.739Z"
   },
   {
    "duration": 9,
    "start_time": "2022-10-30T01:37:23.758Z"
   },
   {
    "duration": 46,
    "start_time": "2022-10-30T01:37:23.768Z"
   },
   {
    "duration": 3,
    "start_time": "2022-10-30T01:37:23.816Z"
   },
   {
    "duration": 11,
    "start_time": "2022-10-30T01:37:23.820Z"
   },
   {
    "duration": 4,
    "start_time": "2022-10-30T01:37:23.833Z"
   },
   {
    "duration": 6,
    "start_time": "2022-10-30T01:37:23.838Z"
   },
   {
    "duration": 4,
    "start_time": "2022-10-30T01:37:23.847Z"
   },
   {
    "duration": 51,
    "start_time": "2022-10-30T01:37:23.852Z"
   },
   {
    "duration": 8,
    "start_time": "2022-10-30T01:37:23.905Z"
   },
   {
    "duration": 3,
    "start_time": "2022-10-30T01:37:23.915Z"
   },
   {
    "duration": 10,
    "start_time": "2022-10-30T01:37:23.919Z"
   },
   {
    "duration": 16,
    "start_time": "2022-10-30T01:37:23.930Z"
   },
   {
    "duration": 43,
    "start_time": "2022-10-30T01:37:23.948Z"
   },
   {
    "duration": 3,
    "start_time": "2022-10-30T01:37:23.993Z"
   },
   {
    "duration": 14,
    "start_time": "2022-10-30T01:37:23.997Z"
   },
   {
    "duration": 5,
    "start_time": "2022-10-30T01:37:24.013Z"
   },
   {
    "duration": 5,
    "start_time": "2022-10-30T01:37:24.019Z"
   },
   {
    "duration": 10,
    "start_time": "2022-10-30T01:37:24.025Z"
   },
   {
    "duration": 136,
    "start_time": "2022-10-30T01:37:24.037Z"
   },
   {
    "duration": 156,
    "start_time": "2022-10-30T01:37:24.175Z"
   },
   {
    "duration": 137,
    "start_time": "2022-10-30T01:37:24.332Z"
   },
   {
    "duration": 137,
    "start_time": "2022-10-30T01:37:24.471Z"
   },
   {
    "duration": 123,
    "start_time": "2022-10-30T01:41:07.511Z"
   },
   {
    "duration": 120,
    "start_time": "2022-10-30T01:41:21.154Z"
   },
   {
    "duration": 118,
    "start_time": "2022-10-30T01:41:31.916Z"
   },
   {
    "duration": 208,
    "start_time": "2022-10-30T01:42:02.964Z"
   },
   {
    "duration": 54,
    "start_time": "2022-10-30T09:02:26.689Z"
   },
   {
    "duration": 2021,
    "start_time": "2022-10-30T09:02:31.090Z"
   },
   {
    "duration": 21,
    "start_time": "2022-10-30T09:02:33.112Z"
   },
   {
    "duration": 17,
    "start_time": "2022-10-30T09:02:33.135Z"
   },
   {
    "duration": 10,
    "start_time": "2022-10-30T09:02:33.154Z"
   },
   {
    "duration": 54,
    "start_time": "2022-10-30T09:02:33.165Z"
   },
   {
    "duration": 3,
    "start_time": "2022-10-30T09:02:33.221Z"
   },
   {
    "duration": 16,
    "start_time": "2022-10-30T09:02:33.226Z"
   },
   {
    "duration": 7,
    "start_time": "2022-10-30T09:02:33.243Z"
   },
   {
    "duration": 8,
    "start_time": "2022-10-30T09:02:33.251Z"
   },
   {
    "duration": 4,
    "start_time": "2022-10-30T09:02:33.262Z"
   },
   {
    "duration": 61,
    "start_time": "2022-10-30T09:02:33.267Z"
   },
   {
    "duration": 9,
    "start_time": "2022-10-30T09:02:33.330Z"
   },
   {
    "duration": 5,
    "start_time": "2022-10-30T09:02:33.340Z"
   },
   {
    "duration": 13,
    "start_time": "2022-10-30T09:02:33.346Z"
   },
   {
    "duration": 18,
    "start_time": "2022-10-30T09:02:33.361Z"
   },
   {
    "duration": 44,
    "start_time": "2022-10-30T09:02:33.380Z"
   },
   {
    "duration": 4,
    "start_time": "2022-10-30T09:02:33.425Z"
   },
   {
    "duration": 15,
    "start_time": "2022-10-30T09:02:33.430Z"
   },
   {
    "duration": 16,
    "start_time": "2022-10-30T09:02:33.446Z"
   },
   {
    "duration": 4,
    "start_time": "2022-10-30T09:02:33.463Z"
   },
   {
    "duration": 13,
    "start_time": "2022-10-30T09:02:33.468Z"
   },
   {
    "duration": 197,
    "start_time": "2022-10-30T09:02:33.483Z"
   },
   {
    "duration": 7,
    "start_time": "2022-10-30T09:02:33.681Z"
   },
   {
    "duration": 178,
    "start_time": "2022-10-30T09:02:33.690Z"
   },
   {
    "duration": 147,
    "start_time": "2022-10-30T09:02:33.870Z"
   },
   {
    "duration": 154,
    "start_time": "2022-10-30T09:02:34.019Z"
   },
   {
    "duration": 7,
    "start_time": "2022-10-30T09:03:29.998Z"
   },
   {
    "duration": 7,
    "start_time": "2022-10-30T09:06:06.773Z"
   },
   {
    "duration": 6,
    "start_time": "2022-10-30T09:07:30.480Z"
   },
   {
    "duration": 11,
    "start_time": "2022-10-30T09:08:51.388Z"
   },
   {
    "duration": 72,
    "start_time": "2022-10-30T09:11:05.717Z"
   },
   {
    "duration": 15,
    "start_time": "2022-10-30T09:11:05.791Z"
   },
   {
    "duration": 31,
    "start_time": "2022-10-30T09:11:05.808Z"
   },
   {
    "duration": 15,
    "start_time": "2022-10-30T09:11:05.841Z"
   },
   {
    "duration": 64,
    "start_time": "2022-10-30T09:11:05.857Z"
   },
   {
    "duration": 3,
    "start_time": "2022-10-30T09:11:05.923Z"
   },
   {
    "duration": 23,
    "start_time": "2022-10-30T09:11:05.928Z"
   },
   {
    "duration": 6,
    "start_time": "2022-10-30T09:11:05.953Z"
   },
   {
    "duration": 14,
    "start_time": "2022-10-30T09:11:05.960Z"
   },
   {
    "duration": 13,
    "start_time": "2022-10-30T09:11:05.977Z"
   },
   {
    "duration": 43,
    "start_time": "2022-10-30T09:11:05.992Z"
   },
   {
    "duration": 9,
    "start_time": "2022-10-30T09:11:06.036Z"
   },
   {
    "duration": 16,
    "start_time": "2022-10-30T09:11:06.046Z"
   },
   {
    "duration": 41,
    "start_time": "2022-10-30T09:11:06.063Z"
   },
   {
    "duration": 31,
    "start_time": "2022-10-30T09:11:06.105Z"
   },
   {
    "duration": 19,
    "start_time": "2022-10-30T09:11:06.138Z"
   },
   {
    "duration": 3,
    "start_time": "2022-10-30T09:11:06.159Z"
   },
   {
    "duration": 15,
    "start_time": "2022-10-30T09:11:06.164Z"
   },
   {
    "duration": 13,
    "start_time": "2022-10-30T09:11:06.181Z"
   },
   {
    "duration": 4,
    "start_time": "2022-10-30T09:11:06.195Z"
   },
   {
    "duration": 11,
    "start_time": "2022-10-30T09:11:06.200Z"
   },
   {
    "duration": 138,
    "start_time": "2022-10-30T09:11:06.213Z"
   },
   {
    "duration": 7,
    "start_time": "2022-10-30T09:11:06.353Z"
   },
   {
    "duration": 160,
    "start_time": "2022-10-30T09:11:06.362Z"
   },
   {
    "duration": 8,
    "start_time": "2022-10-30T09:11:06.524Z"
   },
   {
    "duration": 7,
    "start_time": "2022-10-30T09:11:06.534Z"
   },
   {
    "duration": 152,
    "start_time": "2022-10-30T09:11:06.543Z"
   },
   {
    "duration": 140,
    "start_time": "2022-10-30T09:11:06.708Z"
   },
   {
    "duration": 9,
    "start_time": "2022-10-30T09:11:06.850Z"
   },
   {
    "duration": 187,
    "start_time": "2022-10-30T09:13:20.535Z"
   },
   {
    "duration": 68,
    "start_time": "2022-10-30T09:16:50.698Z"
   },
   {
    "duration": 15,
    "start_time": "2022-10-30T09:16:50.767Z"
   },
   {
    "duration": 15,
    "start_time": "2022-10-30T09:16:50.783Z"
   },
   {
    "duration": 13,
    "start_time": "2022-10-30T09:16:50.801Z"
   },
   {
    "duration": 33,
    "start_time": "2022-10-30T09:16:50.816Z"
   },
   {
    "duration": 3,
    "start_time": "2022-10-30T09:16:50.851Z"
   },
   {
    "duration": 11,
    "start_time": "2022-10-30T09:16:50.856Z"
   },
   {
    "duration": 10,
    "start_time": "2022-10-30T09:16:50.869Z"
   },
   {
    "duration": 28,
    "start_time": "2022-10-30T09:16:50.881Z"
   },
   {
    "duration": 5,
    "start_time": "2022-10-30T09:16:50.912Z"
   },
   {
    "duration": 45,
    "start_time": "2022-10-30T09:16:50.919Z"
   },
   {
    "duration": 9,
    "start_time": "2022-10-30T09:16:50.966Z"
   },
   {
    "duration": 4,
    "start_time": "2022-10-30T09:16:50.977Z"
   },
   {
    "duration": 28,
    "start_time": "2022-10-30T09:16:50.982Z"
   },
   {
    "duration": 20,
    "start_time": "2022-10-30T09:16:51.012Z"
   },
   {
    "duration": 17,
    "start_time": "2022-10-30T09:16:51.033Z"
   },
   {
    "duration": 3,
    "start_time": "2022-10-30T09:16:51.052Z"
   },
   {
    "duration": 11,
    "start_time": "2022-10-30T09:16:51.057Z"
   },
   {
    "duration": 10,
    "start_time": "2022-10-30T09:16:51.069Z"
   },
   {
    "duration": 3,
    "start_time": "2022-10-30T09:16:51.081Z"
   },
   {
    "duration": 30,
    "start_time": "2022-10-30T09:16:51.085Z"
   },
   {
    "duration": 135,
    "start_time": "2022-10-30T09:16:51.117Z"
   },
   {
    "duration": 6,
    "start_time": "2022-10-30T09:16:51.254Z"
   },
   {
    "duration": 173,
    "start_time": "2022-10-30T09:16:51.261Z"
   },
   {
    "duration": 7,
    "start_time": "2022-10-30T09:16:51.436Z"
   },
   {
    "duration": 8,
    "start_time": "2022-10-30T09:16:51.444Z"
   },
   {
    "duration": 136,
    "start_time": "2022-10-30T09:16:51.453Z"
   },
   {
    "duration": 143,
    "start_time": "2022-10-30T09:16:51.592Z"
   },
   {
    "duration": 8,
    "start_time": "2022-10-30T09:16:51.736Z"
   },
   {
    "duration": 7,
    "start_time": "2022-10-30T09:19:04.200Z"
   },
   {
    "duration": 7,
    "start_time": "2022-10-30T09:19:11.487Z"
   },
   {
    "duration": 8,
    "start_time": "2022-10-30T09:19:19.442Z"
   },
   {
    "duration": 10,
    "start_time": "2022-10-30T09:19:44.140Z"
   },
   {
    "duration": 10,
    "start_time": "2022-10-30T09:19:50.041Z"
   },
   {
    "duration": 11,
    "start_time": "2022-10-30T09:20:03.101Z"
   },
   {
    "duration": 14,
    "start_time": "2022-10-30T09:20:17.528Z"
   },
   {
    "duration": 15,
    "start_time": "2022-10-30T09:20:26.489Z"
   },
   {
    "duration": 13,
    "start_time": "2022-10-30T09:21:41.837Z"
   },
   {
    "duration": 13,
    "start_time": "2022-10-30T09:21:57.472Z"
   },
   {
    "duration": 10,
    "start_time": "2022-10-30T09:22:11.251Z"
   },
   {
    "duration": 68,
    "start_time": "2022-10-30T09:22:19.630Z"
   },
   {
    "duration": 14,
    "start_time": "2022-10-30T09:22:19.700Z"
   },
   {
    "duration": 41,
    "start_time": "2022-10-30T09:22:19.716Z"
   },
   {
    "duration": 19,
    "start_time": "2022-10-30T09:22:19.759Z"
   },
   {
    "duration": 53,
    "start_time": "2022-10-30T09:22:19.779Z"
   },
   {
    "duration": 3,
    "start_time": "2022-10-30T09:22:19.834Z"
   },
   {
    "duration": 21,
    "start_time": "2022-10-30T09:22:19.839Z"
   },
   {
    "duration": 19,
    "start_time": "2022-10-30T09:22:19.862Z"
   },
   {
    "duration": 29,
    "start_time": "2022-10-30T09:22:19.882Z"
   },
   {
    "duration": 30,
    "start_time": "2022-10-30T09:22:19.914Z"
   },
   {
    "duration": 41,
    "start_time": "2022-10-30T09:22:19.945Z"
   },
   {
    "duration": 9,
    "start_time": "2022-10-30T09:22:19.987Z"
   },
   {
    "duration": 21,
    "start_time": "2022-10-30T09:22:19.997Z"
   },
   {
    "duration": 20,
    "start_time": "2022-10-30T09:22:20.020Z"
   },
   {
    "duration": 42,
    "start_time": "2022-10-30T09:22:20.041Z"
   },
   {
    "duration": 20,
    "start_time": "2022-10-30T09:22:20.084Z"
   },
   {
    "duration": 4,
    "start_time": "2022-10-30T09:22:20.105Z"
   },
   {
    "duration": 24,
    "start_time": "2022-10-30T09:22:20.110Z"
   },
   {
    "duration": 26,
    "start_time": "2022-10-30T09:22:20.135Z"
   },
   {
    "duration": 14,
    "start_time": "2022-10-30T09:22:20.162Z"
   },
   {
    "duration": 40,
    "start_time": "2022-10-30T09:22:20.177Z"
   },
   {
    "duration": 138,
    "start_time": "2022-10-30T09:22:20.219Z"
   },
   {
    "duration": 11,
    "start_time": "2022-10-30T09:22:20.358Z"
   },
   {
    "duration": 150,
    "start_time": "2022-10-30T09:22:20.370Z"
   },
   {
    "duration": 13,
    "start_time": "2022-10-30T09:22:20.522Z"
   },
   {
    "duration": 21,
    "start_time": "2022-10-30T09:22:20.537Z"
   },
   {
    "duration": 137,
    "start_time": "2022-10-30T09:22:20.560Z"
   },
   {
    "duration": 135,
    "start_time": "2022-10-30T09:22:20.708Z"
   },
   {
    "duration": 15,
    "start_time": "2022-10-30T09:22:20.845Z"
   },
   {
    "duration": 71,
    "start_time": "2022-10-30T09:23:32.438Z"
   },
   {
    "duration": 18,
    "start_time": "2022-10-30T09:23:32.512Z"
   },
   {
    "duration": 40,
    "start_time": "2022-10-30T09:23:32.532Z"
   },
   {
    "duration": 24,
    "start_time": "2022-10-30T09:23:32.575Z"
   },
   {
    "duration": 79,
    "start_time": "2022-10-30T09:23:32.601Z"
   },
   {
    "duration": 24,
    "start_time": "2022-10-30T09:23:32.683Z"
   },
   {
    "duration": 46,
    "start_time": "2022-10-30T09:23:32.708Z"
   },
   {
    "duration": 26,
    "start_time": "2022-10-30T09:23:32.756Z"
   },
   {
    "duration": 44,
    "start_time": "2022-10-30T09:23:32.784Z"
   },
   {
    "duration": 46,
    "start_time": "2022-10-30T09:23:32.835Z"
   },
   {
    "duration": 64,
    "start_time": "2022-10-30T09:23:32.883Z"
   },
   {
    "duration": 41,
    "start_time": "2022-10-30T09:23:32.948Z"
   },
   {
    "duration": 37,
    "start_time": "2022-10-30T09:23:32.991Z"
   },
   {
    "duration": 24,
    "start_time": "2022-10-30T09:23:33.030Z"
   },
   {
    "duration": 49,
    "start_time": "2022-10-30T09:23:33.056Z"
   },
   {
    "duration": 113,
    "start_time": "2022-10-30T09:23:33.106Z"
   },
   {
    "duration": 37,
    "start_time": "2022-10-30T09:23:33.220Z"
   },
   {
    "duration": 26,
    "start_time": "2022-10-30T09:23:33.259Z"
   },
   {
    "duration": 41,
    "start_time": "2022-10-30T09:23:33.287Z"
   },
   {
    "duration": 44,
    "start_time": "2022-10-30T09:23:33.329Z"
   },
   {
    "duration": 29,
    "start_time": "2022-10-30T09:23:33.375Z"
   },
   {
    "duration": 151,
    "start_time": "2022-10-30T09:23:33.405Z"
   },
   {
    "duration": 11,
    "start_time": "2022-10-30T09:23:33.557Z"
   },
   {
    "duration": 180,
    "start_time": "2022-10-30T09:23:33.570Z"
   },
   {
    "duration": 11,
    "start_time": "2022-10-30T09:23:33.752Z"
   },
   {
    "duration": 9,
    "start_time": "2022-10-30T09:23:33.765Z"
   },
   {
    "duration": 208,
    "start_time": "2022-10-30T09:23:33.775Z"
   },
   {
    "duration": 11,
    "start_time": "2022-10-30T09:23:33.986Z"
   },
   {
    "duration": 152,
    "start_time": "2022-10-30T09:23:33.998Z"
   },
   {
    "duration": 12,
    "start_time": "2022-10-30T09:23:34.152Z"
   },
   {
    "duration": 14,
    "start_time": "2022-10-30T09:24:22.686Z"
   },
   {
    "duration": 149,
    "start_time": "2022-10-30T09:26:59.554Z"
   },
   {
    "duration": 67,
    "start_time": "2022-10-30T09:27:50.031Z"
   },
   {
    "duration": 23,
    "start_time": "2022-10-30T09:27:50.100Z"
   },
   {
    "duration": 18,
    "start_time": "2022-10-30T09:27:50.125Z"
   },
   {
    "duration": 11,
    "start_time": "2022-10-30T09:27:50.145Z"
   },
   {
    "duration": 37,
    "start_time": "2022-10-30T09:27:50.157Z"
   },
   {
    "duration": 3,
    "start_time": "2022-10-30T09:27:50.196Z"
   },
   {
    "duration": 33,
    "start_time": "2022-10-30T09:27:50.201Z"
   },
   {
    "duration": 9,
    "start_time": "2022-10-30T09:27:50.236Z"
   },
   {
    "duration": 12,
    "start_time": "2022-10-30T09:27:50.246Z"
   },
   {
    "duration": 20,
    "start_time": "2022-10-30T09:27:50.261Z"
   },
   {
    "duration": 66,
    "start_time": "2022-10-30T09:27:50.282Z"
   },
   {
    "duration": 10,
    "start_time": "2022-10-30T09:27:50.350Z"
   },
   {
    "duration": 11,
    "start_time": "2022-10-30T09:27:50.362Z"
   },
   {
    "duration": 12,
    "start_time": "2022-10-30T09:27:50.374Z"
   },
   {
    "duration": 38,
    "start_time": "2022-10-30T09:27:50.387Z"
   },
   {
    "duration": 19,
    "start_time": "2022-10-30T09:27:50.427Z"
   },
   {
    "duration": 4,
    "start_time": "2022-10-30T09:27:50.447Z"
   },
   {
    "duration": 29,
    "start_time": "2022-10-30T09:27:50.453Z"
   },
   {
    "duration": 12,
    "start_time": "2022-10-30T09:27:50.484Z"
   },
   {
    "duration": 4,
    "start_time": "2022-10-30T09:27:50.497Z"
   },
   {
    "duration": 21,
    "start_time": "2022-10-30T09:27:50.503Z"
   },
   {
    "duration": 137,
    "start_time": "2022-10-30T09:27:50.526Z"
   },
   {
    "duration": 12,
    "start_time": "2022-10-30T09:27:50.665Z"
   },
   {
    "duration": 162,
    "start_time": "2022-10-30T09:27:50.679Z"
   },
   {
    "duration": 14,
    "start_time": "2022-10-30T09:27:50.843Z"
   },
   {
    "duration": 145,
    "start_time": "2022-10-30T09:27:50.858Z"
   },
   {
    "duration": 25,
    "start_time": "2022-10-30T09:27:51.005Z"
   },
   {
    "duration": 143,
    "start_time": "2022-10-30T09:27:51.033Z"
   },
   {
    "duration": 12,
    "start_time": "2022-10-30T09:27:51.178Z"
   },
   {
    "duration": 128,
    "start_time": "2022-10-30T10:14:47.417Z"
   },
   {
    "duration": 12,
    "start_time": "2022-10-30T10:15:17.195Z"
   },
   {
    "duration": 140,
    "start_time": "2022-10-30T10:16:12.347Z"
   },
   {
    "duration": 45,
    "start_time": "2022-10-30T10:17:04.198Z"
   },
   {
    "duration": 124,
    "start_time": "2022-10-30T10:17:15.604Z"
   },
   {
    "duration": 143,
    "start_time": "2022-10-30T10:19:58.652Z"
   },
   {
    "duration": 220,
    "start_time": "2022-10-30T10:21:35.059Z"
   },
   {
    "duration": 131,
    "start_time": "2022-10-30T10:22:05.580Z"
   },
   {
    "duration": 94,
    "start_time": "2022-10-30T10:22:42.233Z"
   },
   {
    "duration": 23,
    "start_time": "2022-10-30T10:22:42.330Z"
   },
   {
    "duration": 30,
    "start_time": "2022-10-30T10:22:42.354Z"
   },
   {
    "duration": 9,
    "start_time": "2022-10-30T10:22:42.386Z"
   },
   {
    "duration": 38,
    "start_time": "2022-10-30T10:22:42.397Z"
   },
   {
    "duration": 4,
    "start_time": "2022-10-30T10:22:42.436Z"
   },
   {
    "duration": 21,
    "start_time": "2022-10-30T10:22:42.441Z"
   },
   {
    "duration": 6,
    "start_time": "2022-10-30T10:22:42.464Z"
   },
   {
    "duration": 14,
    "start_time": "2022-10-30T10:22:42.472Z"
   },
   {
    "duration": 24,
    "start_time": "2022-10-30T10:22:42.490Z"
   },
   {
    "duration": 49,
    "start_time": "2022-10-30T10:22:42.516Z"
   },
   {
    "duration": 17,
    "start_time": "2022-10-30T10:22:42.567Z"
   },
   {
    "duration": 16,
    "start_time": "2022-10-30T10:22:42.586Z"
   },
   {
    "duration": 24,
    "start_time": "2022-10-30T10:22:42.609Z"
   },
   {
    "duration": 36,
    "start_time": "2022-10-30T10:22:42.635Z"
   },
   {
    "duration": 34,
    "start_time": "2022-10-30T10:22:42.673Z"
   },
   {
    "duration": 5,
    "start_time": "2022-10-30T10:22:42.711Z"
   },
   {
    "duration": 31,
    "start_time": "2022-10-30T10:22:42.718Z"
   },
   {
    "duration": 23,
    "start_time": "2022-10-30T10:22:42.752Z"
   },
   {
    "duration": 36,
    "start_time": "2022-10-30T10:22:42.777Z"
   },
   {
    "duration": 34,
    "start_time": "2022-10-30T10:22:42.815Z"
   },
   {
    "duration": 180,
    "start_time": "2022-10-30T10:22:42.855Z"
   },
   {
    "duration": 12,
    "start_time": "2022-10-30T10:22:43.037Z"
   },
   {
    "duration": 169,
    "start_time": "2022-10-30T10:22:43.051Z"
   },
   {
    "duration": 12,
    "start_time": "2022-10-30T10:22:43.223Z"
   },
   {
    "duration": 146,
    "start_time": "2022-10-30T10:22:43.237Z"
   },
   {
    "duration": 25,
    "start_time": "2022-10-30T10:22:43.385Z"
   },
   {
    "duration": 155,
    "start_time": "2022-10-30T10:22:43.414Z"
   },
   {
    "duration": 16,
    "start_time": "2022-10-30T10:22:43.571Z"
   },
   {
    "duration": 73,
    "start_time": "2022-10-30T10:27:34.862Z"
   },
   {
    "duration": 18,
    "start_time": "2022-10-30T10:27:34.938Z"
   },
   {
    "duration": 17,
    "start_time": "2022-10-30T10:27:34.958Z"
   },
   {
    "duration": 10,
    "start_time": "2022-10-30T10:27:34.977Z"
   },
   {
    "duration": 46,
    "start_time": "2022-10-30T10:27:34.989Z"
   },
   {
    "duration": 4,
    "start_time": "2022-10-30T10:27:35.036Z"
   },
   {
    "duration": 18,
    "start_time": "2022-10-30T10:27:35.041Z"
   },
   {
    "duration": 13,
    "start_time": "2022-10-30T10:27:35.060Z"
   },
   {
    "duration": 17,
    "start_time": "2022-10-30T10:27:35.074Z"
   },
   {
    "duration": 4,
    "start_time": "2022-10-30T10:27:35.094Z"
   },
   {
    "duration": 40,
    "start_time": "2022-10-30T10:27:35.100Z"
   },
   {
    "duration": 9,
    "start_time": "2022-10-30T10:27:35.141Z"
   },
   {
    "duration": 3,
    "start_time": "2022-10-30T10:27:35.152Z"
   },
   {
    "duration": 12,
    "start_time": "2022-10-30T10:27:35.156Z"
   },
   {
    "duration": 45,
    "start_time": "2022-10-30T10:27:35.170Z"
   },
   {
    "duration": 29,
    "start_time": "2022-10-30T10:27:35.217Z"
   },
   {
    "duration": 4,
    "start_time": "2022-10-30T10:27:35.248Z"
   },
   {
    "duration": 23,
    "start_time": "2022-10-30T10:27:35.254Z"
   },
   {
    "duration": 7,
    "start_time": "2022-10-30T10:27:35.279Z"
   },
   {
    "duration": 4,
    "start_time": "2022-10-30T10:27:35.309Z"
   },
   {
    "duration": 15,
    "start_time": "2022-10-30T10:27:35.315Z"
   },
   {
    "duration": 177,
    "start_time": "2022-10-30T10:27:35.332Z"
   },
   {
    "duration": 10,
    "start_time": "2022-10-30T10:27:35.511Z"
   },
   {
    "duration": 162,
    "start_time": "2022-10-30T10:27:35.523Z"
   },
   {
    "duration": 11,
    "start_time": "2022-10-30T10:27:35.687Z"
   },
   {
    "duration": 127,
    "start_time": "2022-10-30T10:27:35.709Z"
   },
   {
    "duration": 11,
    "start_time": "2022-10-30T10:27:35.838Z"
   },
   {
    "duration": 781,
    "start_time": "2022-10-30T10:27:35.852Z"
   },
   {
    "duration": 0,
    "start_time": "2022-10-30T10:27:36.635Z"
   },
   {
    "duration": 71,
    "start_time": "2022-10-30T10:29:37.882Z"
   },
   {
    "duration": 14,
    "start_time": "2022-10-30T10:29:37.955Z"
   },
   {
    "duration": 14,
    "start_time": "2022-10-30T10:29:37.971Z"
   },
   {
    "duration": 25,
    "start_time": "2022-10-30T10:29:37.987Z"
   },
   {
    "duration": 32,
    "start_time": "2022-10-30T10:29:38.014Z"
   },
   {
    "duration": 4,
    "start_time": "2022-10-30T10:29:38.047Z"
   },
   {
    "duration": 17,
    "start_time": "2022-10-30T10:29:38.053Z"
   },
   {
    "duration": 4,
    "start_time": "2022-10-30T10:29:38.072Z"
   },
   {
    "duration": 33,
    "start_time": "2022-10-30T10:29:38.078Z"
   },
   {
    "duration": 4,
    "start_time": "2022-10-30T10:29:38.115Z"
   },
   {
    "duration": 52,
    "start_time": "2022-10-30T10:29:38.121Z"
   },
   {
    "duration": 11,
    "start_time": "2022-10-30T10:29:38.175Z"
   },
   {
    "duration": 5,
    "start_time": "2022-10-30T10:29:38.208Z"
   },
   {
    "duration": 13,
    "start_time": "2022-10-30T10:29:38.214Z"
   },
   {
    "duration": 18,
    "start_time": "2022-10-30T10:29:38.228Z"
   },
   {
    "duration": 16,
    "start_time": "2022-10-30T10:29:38.248Z"
   },
   {
    "duration": 4,
    "start_time": "2022-10-30T10:29:38.265Z"
   },
   {
    "duration": 41,
    "start_time": "2022-10-30T10:29:38.270Z"
   },
   {
    "duration": 8,
    "start_time": "2022-10-30T10:29:38.313Z"
   },
   {
    "duration": 6,
    "start_time": "2022-10-30T10:29:38.323Z"
   },
   {
    "duration": 17,
    "start_time": "2022-10-30T10:29:38.330Z"
   },
   {
    "duration": 142,
    "start_time": "2022-10-30T10:29:38.348Z"
   },
   {
    "duration": 21,
    "start_time": "2022-10-30T10:29:38.492Z"
   },
   {
    "duration": 160,
    "start_time": "2022-10-30T10:29:38.514Z"
   },
   {
    "duration": 12,
    "start_time": "2022-10-30T10:29:38.675Z"
   },
   {
    "duration": 221,
    "start_time": "2022-10-30T10:29:38.689Z"
   },
   {
    "duration": 15,
    "start_time": "2022-10-30T10:29:38.912Z"
   },
   {
    "duration": 22,
    "start_time": "2022-10-30T10:29:38.931Z"
   },
   {
    "duration": 0,
    "start_time": "2022-10-30T10:29:38.955Z"
   },
   {
    "duration": 69,
    "start_time": "2022-10-30T10:29:53.481Z"
   },
   {
    "duration": 15,
    "start_time": "2022-10-30T10:29:53.552Z"
   },
   {
    "duration": 17,
    "start_time": "2022-10-30T10:29:53.568Z"
   },
   {
    "duration": 21,
    "start_time": "2022-10-30T10:29:53.588Z"
   },
   {
    "duration": 33,
    "start_time": "2022-10-30T10:29:53.611Z"
   },
   {
    "duration": 5,
    "start_time": "2022-10-30T10:29:53.647Z"
   },
   {
    "duration": 15,
    "start_time": "2022-10-30T10:29:53.654Z"
   },
   {
    "duration": 11,
    "start_time": "2022-10-30T10:29:53.670Z"
   },
   {
    "duration": 26,
    "start_time": "2022-10-30T10:29:53.683Z"
   },
   {
    "duration": 5,
    "start_time": "2022-10-30T10:29:53.712Z"
   },
   {
    "duration": 55,
    "start_time": "2022-10-30T10:29:53.719Z"
   },
   {
    "duration": 16,
    "start_time": "2022-10-30T10:29:53.809Z"
   },
   {
    "duration": 31,
    "start_time": "2022-10-30T10:29:53.826Z"
   },
   {
    "duration": 21,
    "start_time": "2022-10-30T10:29:53.859Z"
   },
   {
    "duration": 44,
    "start_time": "2022-10-30T10:29:53.883Z"
   },
   {
    "duration": 18,
    "start_time": "2022-10-30T10:29:53.929Z"
   },
   {
    "duration": 4,
    "start_time": "2022-10-30T10:29:53.948Z"
   },
   {
    "duration": 16,
    "start_time": "2022-10-30T10:29:53.953Z"
   },
   {
    "duration": 6,
    "start_time": "2022-10-30T10:29:53.970Z"
   },
   {
    "duration": 4,
    "start_time": "2022-10-30T10:29:53.977Z"
   },
   {
    "duration": 11,
    "start_time": "2022-10-30T10:29:53.982Z"
   },
   {
    "duration": 216,
    "start_time": "2022-10-30T10:29:53.994Z"
   },
   {
    "duration": 14,
    "start_time": "2022-10-30T10:29:54.212Z"
   },
   {
    "duration": 251,
    "start_time": "2022-10-30T10:29:54.228Z"
   },
   {
    "duration": 11,
    "start_time": "2022-10-30T10:29:54.481Z"
   },
   {
    "duration": 140,
    "start_time": "2022-10-30T10:29:54.494Z"
   },
   {
    "duration": 10,
    "start_time": "2022-10-30T10:29:54.637Z"
   },
   {
    "duration": 45,
    "start_time": "2022-10-30T10:29:54.650Z"
   },
   {
    "duration": 0,
    "start_time": "2022-10-30T10:29:54.697Z"
   },
   {
    "duration": 20,
    "start_time": "2022-10-30T10:30:05.547Z"
   },
   {
    "duration": 74,
    "start_time": "2022-10-30T10:31:30.313Z"
   },
   {
    "duration": 15,
    "start_time": "2022-10-30T10:31:30.389Z"
   },
   {
    "duration": 40,
    "start_time": "2022-10-30T10:31:30.406Z"
   },
   {
    "duration": 21,
    "start_time": "2022-10-30T10:31:30.448Z"
   },
   {
    "duration": 70,
    "start_time": "2022-10-30T10:31:30.470Z"
   },
   {
    "duration": 3,
    "start_time": "2022-10-30T10:31:30.542Z"
   },
   {
    "duration": 37,
    "start_time": "2022-10-30T10:31:30.546Z"
   },
   {
    "duration": 37,
    "start_time": "2022-10-30T10:31:30.584Z"
   },
   {
    "duration": 32,
    "start_time": "2022-10-30T10:31:30.623Z"
   },
   {
    "duration": 16,
    "start_time": "2022-10-30T10:31:30.658Z"
   },
   {
    "duration": 51,
    "start_time": "2022-10-30T10:31:30.675Z"
   },
   {
    "duration": 9,
    "start_time": "2022-10-30T10:31:30.728Z"
   },
   {
    "duration": 15,
    "start_time": "2022-10-30T10:31:30.738Z"
   },
   {
    "duration": 31,
    "start_time": "2022-10-30T10:31:30.755Z"
   },
   {
    "duration": 26,
    "start_time": "2022-10-30T10:31:30.788Z"
   },
   {
    "duration": 32,
    "start_time": "2022-10-30T10:31:30.815Z"
   },
   {
    "duration": 29,
    "start_time": "2022-10-30T10:31:30.849Z"
   },
   {
    "duration": 39,
    "start_time": "2022-10-30T10:31:30.880Z"
   },
   {
    "duration": 7,
    "start_time": "2022-10-30T10:31:30.922Z"
   },
   {
    "duration": 16,
    "start_time": "2022-10-30T10:31:30.931Z"
   },
   {
    "duration": 19,
    "start_time": "2022-10-30T10:31:30.949Z"
   },
   {
    "duration": 146,
    "start_time": "2022-10-30T10:31:30.970Z"
   },
   {
    "duration": 11,
    "start_time": "2022-10-30T10:31:31.118Z"
   },
   {
    "duration": 170,
    "start_time": "2022-10-30T10:31:31.131Z"
   },
   {
    "duration": 16,
    "start_time": "2022-10-30T10:31:31.303Z"
   },
   {
    "duration": 160,
    "start_time": "2022-10-30T10:31:31.321Z"
   },
   {
    "duration": 12,
    "start_time": "2022-10-30T10:31:31.483Z"
   },
   {
    "duration": 153,
    "start_time": "2022-10-30T10:31:31.508Z"
   },
   {
    "duration": 12,
    "start_time": "2022-10-30T10:31:31.663Z"
   },
   {
    "duration": 164,
    "start_time": "2022-10-30T10:33:09.949Z"
   },
   {
    "duration": 6,
    "start_time": "2022-10-30T10:33:25.868Z"
   },
   {
    "duration": 194,
    "start_time": "2022-10-30T10:33:30.833Z"
   },
   {
    "duration": 138,
    "start_time": "2022-10-30T10:34:00.200Z"
   },
   {
    "duration": 205,
    "start_time": "2022-10-30T10:34:19.995Z"
   },
   {
    "duration": 136,
    "start_time": "2022-10-30T10:34:46.943Z"
   },
   {
    "duration": 151,
    "start_time": "2022-10-30T10:35:23.878Z"
   },
   {
    "duration": 145,
    "start_time": "2022-10-30T10:35:59.733Z"
   },
   {
    "duration": 147,
    "start_time": "2022-10-30T10:36:16.366Z"
   },
   {
    "duration": 139,
    "start_time": "2022-10-30T10:36:29.558Z"
   },
   {
    "duration": 157,
    "start_time": "2022-10-30T10:36:54.070Z"
   },
   {
    "duration": 190,
    "start_time": "2022-10-30T10:37:00.863Z"
   },
   {
    "duration": 140,
    "start_time": "2022-10-30T10:40:40.556Z"
   },
   {
    "duration": 72,
    "start_time": "2022-10-30T10:45:12.331Z"
   },
   {
    "duration": 28,
    "start_time": "2022-10-30T10:45:12.404Z"
   },
   {
    "duration": 19,
    "start_time": "2022-10-30T10:45:12.433Z"
   },
   {
    "duration": 9,
    "start_time": "2022-10-30T10:45:12.455Z"
   },
   {
    "duration": 35,
    "start_time": "2022-10-30T10:45:12.465Z"
   },
   {
    "duration": 7,
    "start_time": "2022-10-30T10:45:12.508Z"
   },
   {
    "duration": 35,
    "start_time": "2022-10-30T10:45:12.516Z"
   },
   {
    "duration": 20,
    "start_time": "2022-10-30T10:45:12.553Z"
   },
   {
    "duration": 10,
    "start_time": "2022-10-30T10:45:12.575Z"
   },
   {
    "duration": 13,
    "start_time": "2022-10-30T10:45:12.589Z"
   },
   {
    "duration": 60,
    "start_time": "2022-10-30T10:45:12.604Z"
   },
   {
    "duration": 11,
    "start_time": "2022-10-30T10:45:12.666Z"
   },
   {
    "duration": 9,
    "start_time": "2022-10-30T10:45:12.679Z"
   },
   {
    "duration": 22,
    "start_time": "2022-10-30T10:45:12.690Z"
   },
   {
    "duration": 54,
    "start_time": "2022-10-30T10:45:12.713Z"
   },
   {
    "duration": 23,
    "start_time": "2022-10-30T10:45:12.769Z"
   },
   {
    "duration": 9,
    "start_time": "2022-10-30T10:45:12.794Z"
   },
   {
    "duration": 40,
    "start_time": "2022-10-30T10:45:12.804Z"
   },
   {
    "duration": 25,
    "start_time": "2022-10-30T10:45:12.846Z"
   },
   {
    "duration": 17,
    "start_time": "2022-10-30T10:45:12.873Z"
   },
   {
    "duration": 50,
    "start_time": "2022-10-30T10:45:12.893Z"
   },
   {
    "duration": 200,
    "start_time": "2022-10-30T10:45:12.946Z"
   },
   {
    "duration": 14,
    "start_time": "2022-10-30T10:45:13.148Z"
   },
   {
    "duration": 177,
    "start_time": "2022-10-30T10:45:13.164Z"
   },
   {
    "duration": 15,
    "start_time": "2022-10-30T10:45:13.343Z"
   },
   {
    "duration": 216,
    "start_time": "2022-10-30T10:45:13.360Z"
   },
   {
    "duration": 11,
    "start_time": "2022-10-30T10:45:13.578Z"
   },
   {
    "duration": 151,
    "start_time": "2022-10-30T10:45:13.592Z"
   },
   {
    "duration": 12,
    "start_time": "2022-10-30T10:45:13.745Z"
   },
   {
    "duration": 157,
    "start_time": "2022-10-30T10:48:11.330Z"
   },
   {
    "duration": 135,
    "start_time": "2022-10-30T10:49:29.155Z"
   },
   {
    "duration": 151,
    "start_time": "2022-10-30T10:49:46.206Z"
   },
   {
    "duration": 147,
    "start_time": "2022-10-30T10:50:06.576Z"
   },
   {
    "duration": 68,
    "start_time": "2022-10-30T10:52:17.021Z"
   },
   {
    "duration": 14,
    "start_time": "2022-10-30T10:52:17.092Z"
   },
   {
    "duration": 14,
    "start_time": "2022-10-30T10:52:17.107Z"
   },
   {
    "duration": 10,
    "start_time": "2022-10-30T10:52:17.123Z"
   },
   {
    "duration": 33,
    "start_time": "2022-10-30T10:52:17.134Z"
   },
   {
    "duration": 4,
    "start_time": "2022-10-30T10:52:17.168Z"
   },
   {
    "duration": 10,
    "start_time": "2022-10-30T10:52:17.174Z"
   },
   {
    "duration": 5,
    "start_time": "2022-10-30T10:52:17.208Z"
   },
   {
    "duration": 8,
    "start_time": "2022-10-30T10:52:17.214Z"
   },
   {
    "duration": 9,
    "start_time": "2022-10-30T10:52:17.224Z"
   },
   {
    "duration": 32,
    "start_time": "2022-10-30T10:52:17.234Z"
   },
   {
    "duration": 9,
    "start_time": "2022-10-30T10:52:17.268Z"
   },
   {
    "duration": 3,
    "start_time": "2022-10-30T10:52:17.279Z"
   },
   {
    "duration": 33,
    "start_time": "2022-10-30T10:52:17.283Z"
   },
   {
    "duration": 21,
    "start_time": "2022-10-30T10:52:17.318Z"
   },
   {
    "duration": 28,
    "start_time": "2022-10-30T10:52:17.341Z"
   },
   {
    "duration": 4,
    "start_time": "2022-10-30T10:52:17.371Z"
   },
   {
    "duration": 12,
    "start_time": "2022-10-30T10:52:17.376Z"
   },
   {
    "duration": 22,
    "start_time": "2022-10-30T10:52:17.390Z"
   },
   {
    "duration": 5,
    "start_time": "2022-10-30T10:52:17.414Z"
   },
   {
    "duration": 21,
    "start_time": "2022-10-30T10:52:17.421Z"
   },
   {
    "duration": 131,
    "start_time": "2022-10-30T10:52:17.443Z"
   },
   {
    "duration": 11,
    "start_time": "2022-10-30T10:52:17.575Z"
   },
   {
    "duration": 157,
    "start_time": "2022-10-30T10:52:17.588Z"
   },
   {
    "duration": 12,
    "start_time": "2022-10-30T10:52:17.746Z"
   },
   {
    "duration": 141,
    "start_time": "2022-10-30T10:52:17.759Z"
   },
   {
    "duration": 11,
    "start_time": "2022-10-30T10:52:17.908Z"
   },
   {
    "duration": 144,
    "start_time": "2022-10-30T10:52:17.922Z"
   },
   {
    "duration": 11,
    "start_time": "2022-10-30T10:52:18.068Z"
   },
   {
    "duration": 1374,
    "start_time": "2022-10-30T18:30:28.274Z"
   },
   {
    "duration": 20,
    "start_time": "2022-10-30T18:30:29.650Z"
   },
   {
    "duration": 15,
    "start_time": "2022-10-30T18:30:29.672Z"
   },
   {
    "duration": 10,
    "start_time": "2022-10-30T18:30:29.689Z"
   },
   {
    "duration": 30,
    "start_time": "2022-10-30T18:30:29.702Z"
   },
   {
    "duration": 3,
    "start_time": "2022-10-30T18:30:29.734Z"
   },
   {
    "duration": 11,
    "start_time": "2022-10-30T18:30:29.738Z"
   },
   {
    "duration": 37,
    "start_time": "2022-10-30T18:30:29.751Z"
   },
   {
    "duration": 10,
    "start_time": "2022-10-30T18:30:29.790Z"
   },
   {
    "duration": 4,
    "start_time": "2022-10-30T18:30:29.802Z"
   },
   {
    "duration": 41,
    "start_time": "2022-10-30T18:30:29.809Z"
   },
   {
    "duration": 8,
    "start_time": "2022-10-30T18:30:29.851Z"
   },
   {
    "duration": 4,
    "start_time": "2022-10-30T18:30:29.877Z"
   },
   {
    "duration": 10,
    "start_time": "2022-10-30T18:30:29.884Z"
   },
   {
    "duration": 21,
    "start_time": "2022-10-30T18:30:29.896Z"
   },
   {
    "duration": 15,
    "start_time": "2022-10-30T18:30:29.919Z"
   },
   {
    "duration": 3,
    "start_time": "2022-10-30T18:30:29.936Z"
   },
   {
    "duration": 38,
    "start_time": "2022-10-30T18:30:29.940Z"
   },
   {
    "duration": 8,
    "start_time": "2022-10-30T18:30:29.979Z"
   },
   {
    "duration": 3,
    "start_time": "2022-10-30T18:30:29.989Z"
   },
   {
    "duration": 15,
    "start_time": "2022-10-30T18:30:29.994Z"
   },
   {
    "duration": 97,
    "start_time": "2022-10-30T18:30:30.011Z"
   },
   {
    "duration": 0,
    "start_time": "2022-10-30T18:30:30.110Z"
   },
   {
    "duration": 0,
    "start_time": "2022-10-30T18:30:30.111Z"
   },
   {
    "duration": 0,
    "start_time": "2022-10-30T18:30:30.112Z"
   },
   {
    "duration": 0,
    "start_time": "2022-10-30T18:30:30.114Z"
   },
   {
    "duration": 0,
    "start_time": "2022-10-30T18:30:30.115Z"
   },
   {
    "duration": 0,
    "start_time": "2022-10-30T18:30:30.117Z"
   },
   {
    "duration": 0,
    "start_time": "2022-10-30T18:30:30.117Z"
   },
   {
    "duration": 71,
    "start_time": "2022-10-30T18:30:56.057Z"
   },
   {
    "duration": 73,
    "start_time": "2022-10-30T18:30:56.271Z"
   },
   {
    "duration": 69,
    "start_time": "2022-10-30T18:31:00.697Z"
   },
   {
    "duration": 15,
    "start_time": "2022-10-30T18:31:00.768Z"
   },
   {
    "duration": 39,
    "start_time": "2022-10-30T18:31:00.785Z"
   },
   {
    "duration": 32,
    "start_time": "2022-10-30T18:31:00.827Z"
   },
   {
    "duration": 45,
    "start_time": "2022-10-30T18:31:00.860Z"
   },
   {
    "duration": 22,
    "start_time": "2022-10-30T18:31:00.907Z"
   },
   {
    "duration": 17,
    "start_time": "2022-10-30T18:31:00.930Z"
   },
   {
    "duration": 19,
    "start_time": "2022-10-30T18:31:00.949Z"
   },
   {
    "duration": 21,
    "start_time": "2022-10-30T18:31:00.969Z"
   },
   {
    "duration": 16,
    "start_time": "2022-10-30T18:31:00.993Z"
   },
   {
    "duration": 36,
    "start_time": "2022-10-30T18:31:01.011Z"
   },
   {
    "duration": 10,
    "start_time": "2022-10-30T18:31:01.048Z"
   },
   {
    "duration": 35,
    "start_time": "2022-10-30T18:31:01.060Z"
   },
   {
    "duration": 19,
    "start_time": "2022-10-30T18:31:01.097Z"
   },
   {
    "duration": 18,
    "start_time": "2022-10-30T18:31:01.118Z"
   },
   {
    "duration": 16,
    "start_time": "2022-10-30T18:31:01.138Z"
   },
   {
    "duration": 4,
    "start_time": "2022-10-30T18:31:01.155Z"
   },
   {
    "duration": 20,
    "start_time": "2022-10-30T18:31:01.160Z"
   },
   {
    "duration": 17,
    "start_time": "2022-10-30T18:31:01.182Z"
   },
   {
    "duration": 6,
    "start_time": "2022-10-30T18:31:01.201Z"
   },
   {
    "duration": 23,
    "start_time": "2022-10-30T18:31:01.209Z"
   },
   {
    "duration": 91,
    "start_time": "2022-10-30T18:31:01.234Z"
   },
   {
    "duration": 0,
    "start_time": "2022-10-30T18:31:01.326Z"
   },
   {
    "duration": 0,
    "start_time": "2022-10-30T18:31:01.327Z"
   },
   {
    "duration": 0,
    "start_time": "2022-10-30T18:31:01.329Z"
   },
   {
    "duration": 0,
    "start_time": "2022-10-30T18:31:01.330Z"
   },
   {
    "duration": 0,
    "start_time": "2022-10-30T18:31:01.331Z"
   },
   {
    "duration": 0,
    "start_time": "2022-10-30T18:31:01.332Z"
   },
   {
    "duration": 0,
    "start_time": "2022-10-30T18:31:01.333Z"
   },
   {
    "duration": 46,
    "start_time": "2022-10-30T18:31:03.877Z"
   },
   {
    "duration": 87,
    "start_time": "2022-10-30T18:31:06.776Z"
   },
   {
    "duration": 70,
    "start_time": "2022-10-30T18:31:14.956Z"
   },
   {
    "duration": 114,
    "start_time": "2022-10-30T18:31:18.667Z"
   },
   {
    "duration": 82,
    "start_time": "2022-10-30T18:32:10.518Z"
   },
   {
    "duration": 79,
    "start_time": "2022-10-30T18:33:26.528Z"
   },
   {
    "duration": 76,
    "start_time": "2022-10-30T18:33:52.854Z"
   },
   {
    "duration": 14,
    "start_time": "2022-10-30T18:33:52.932Z"
   },
   {
    "duration": 16,
    "start_time": "2022-10-30T18:33:52.947Z"
   },
   {
    "duration": 13,
    "start_time": "2022-10-30T18:33:52.965Z"
   },
   {
    "duration": 55,
    "start_time": "2022-10-30T18:33:52.980Z"
   },
   {
    "duration": 3,
    "start_time": "2022-10-30T18:33:53.036Z"
   },
   {
    "duration": 18,
    "start_time": "2022-10-30T18:33:53.041Z"
   },
   {
    "duration": 12,
    "start_time": "2022-10-30T18:33:53.060Z"
   },
   {
    "duration": 26,
    "start_time": "2022-10-30T18:33:53.073Z"
   },
   {
    "duration": 20,
    "start_time": "2022-10-30T18:33:53.101Z"
   },
   {
    "duration": 39,
    "start_time": "2022-10-30T18:33:53.122Z"
   },
   {
    "duration": 9,
    "start_time": "2022-10-30T18:33:53.163Z"
   },
   {
    "duration": 25,
    "start_time": "2022-10-30T18:33:53.173Z"
   },
   {
    "duration": 30,
    "start_time": "2022-10-30T18:33:53.200Z"
   },
   {
    "duration": 18,
    "start_time": "2022-10-30T18:33:53.232Z"
   },
   {
    "duration": 20,
    "start_time": "2022-10-30T18:33:53.251Z"
   },
   {
    "duration": 18,
    "start_time": "2022-10-30T18:33:53.273Z"
   },
   {
    "duration": 38,
    "start_time": "2022-10-30T18:33:53.293Z"
   },
   {
    "duration": 26,
    "start_time": "2022-10-30T18:33:53.332Z"
   },
   {
    "duration": 21,
    "start_time": "2022-10-30T18:33:53.359Z"
   },
   {
    "duration": 17,
    "start_time": "2022-10-30T18:33:53.386Z"
   },
   {
    "duration": 89,
    "start_time": "2022-10-30T18:33:53.405Z"
   },
   {
    "duration": 0,
    "start_time": "2022-10-30T18:33:53.496Z"
   },
   {
    "duration": 0,
    "start_time": "2022-10-30T18:33:53.497Z"
   },
   {
    "duration": 0,
    "start_time": "2022-10-30T18:33:53.499Z"
   },
   {
    "duration": 0,
    "start_time": "2022-10-30T18:33:53.500Z"
   },
   {
    "duration": 0,
    "start_time": "2022-10-30T18:33:53.501Z"
   },
   {
    "duration": 0,
    "start_time": "2022-10-30T18:33:53.502Z"
   },
   {
    "duration": 0,
    "start_time": "2022-10-30T18:33:53.504Z"
   },
   {
    "duration": 99,
    "start_time": "2022-10-30T18:34:02.803Z"
   },
   {
    "duration": 77,
    "start_time": "2022-10-30T18:34:09.336Z"
   },
   {
    "duration": 155,
    "start_time": "2022-10-30T18:34:23.977Z"
   },
   {
    "duration": 76,
    "start_time": "2022-10-30T18:34:43.890Z"
   },
   {
    "duration": 73,
    "start_time": "2022-10-30T18:35:00.189Z"
   },
   {
    "duration": 87,
    "start_time": "2022-10-30T18:35:18.528Z"
   },
   {
    "duration": 114,
    "start_time": "2022-10-30T18:35:25.034Z"
   },
   {
    "duration": 88,
    "start_time": "2022-10-30T18:35:35.913Z"
   },
   {
    "duration": 93,
    "start_time": "2022-10-30T18:35:40.135Z"
   },
   {
    "duration": 95,
    "start_time": "2022-10-30T18:35:44.772Z"
   },
   {
    "duration": 82,
    "start_time": "2022-10-30T18:35:47.713Z"
   },
   {
    "duration": 88,
    "start_time": "2022-10-30T18:36:01.329Z"
   },
   {
    "duration": 141,
    "start_time": "2022-10-30T18:36:20.915Z"
   },
   {
    "duration": 98,
    "start_time": "2022-10-30T18:36:54.893Z"
   },
   {
    "duration": 84,
    "start_time": "2022-10-30T18:37:03.961Z"
   },
   {
    "duration": 129,
    "start_time": "2022-10-30T18:37:14.226Z"
   },
   {
    "duration": 89,
    "start_time": "2022-10-30T18:37:46.551Z"
   },
   {
    "duration": 102,
    "start_time": "2022-10-30T18:38:04.765Z"
   },
   {
    "duration": 137,
    "start_time": "2022-10-30T18:38:07.331Z"
   },
   {
    "duration": 14,
    "start_time": "2022-10-30T18:38:21.840Z"
   },
   {
    "duration": 71,
    "start_time": "2022-10-30T18:38:24.891Z"
   },
   {
    "duration": 18,
    "start_time": "2022-10-30T18:38:24.964Z"
   },
   {
    "duration": 18,
    "start_time": "2022-10-30T18:38:24.987Z"
   },
   {
    "duration": 7,
    "start_time": "2022-10-30T18:38:25.007Z"
   },
   {
    "duration": 38,
    "start_time": "2022-10-30T18:38:25.016Z"
   },
   {
    "duration": 3,
    "start_time": "2022-10-30T18:38:25.056Z"
   },
   {
    "duration": 19,
    "start_time": "2022-10-30T18:38:25.060Z"
   },
   {
    "duration": 23,
    "start_time": "2022-10-30T18:38:25.080Z"
   },
   {
    "duration": 7,
    "start_time": "2022-10-30T18:38:25.104Z"
   },
   {
    "duration": 8,
    "start_time": "2022-10-30T18:38:25.113Z"
   },
   {
    "duration": 35,
    "start_time": "2022-10-30T18:38:25.123Z"
   },
   {
    "duration": 10,
    "start_time": "2022-10-30T18:38:25.160Z"
   },
   {
    "duration": 32,
    "start_time": "2022-10-30T18:38:25.171Z"
   },
   {
    "duration": 14,
    "start_time": "2022-10-30T18:38:25.205Z"
   },
   {
    "duration": 23,
    "start_time": "2022-10-30T18:38:25.220Z"
   },
   {
    "duration": 15,
    "start_time": "2022-10-30T18:38:25.245Z"
   },
   {
    "duration": 3,
    "start_time": "2022-10-30T18:38:25.262Z"
   },
   {
    "duration": 12,
    "start_time": "2022-10-30T18:38:25.266Z"
   },
   {
    "duration": 21,
    "start_time": "2022-10-30T18:38:25.280Z"
   },
   {
    "duration": 6,
    "start_time": "2022-10-30T18:38:25.303Z"
   },
   {
    "duration": 21,
    "start_time": "2022-10-30T18:38:25.311Z"
   },
   {
    "duration": 125,
    "start_time": "2022-10-30T18:38:25.334Z"
   },
   {
    "duration": 17,
    "start_time": "2022-10-30T18:38:25.461Z"
   },
   {
    "duration": 149,
    "start_time": "2022-10-30T18:38:25.480Z"
   },
   {
    "duration": 11,
    "start_time": "2022-10-30T18:38:25.631Z"
   },
   {
    "duration": 144,
    "start_time": "2022-10-30T18:38:25.643Z"
   },
   {
    "duration": 11,
    "start_time": "2022-10-30T18:38:25.789Z"
   },
   {
    "duration": 145,
    "start_time": "2022-10-30T18:38:25.801Z"
   },
   {
    "duration": 10,
    "start_time": "2022-10-30T18:38:25.948Z"
   },
   {
    "duration": 68,
    "start_time": "2022-10-30T19:29:12.088Z"
   },
   {
    "duration": 14,
    "start_time": "2022-10-30T19:29:12.158Z"
   },
   {
    "duration": 14,
    "start_time": "2022-10-30T19:29:12.185Z"
   },
   {
    "duration": 8,
    "start_time": "2022-10-30T19:29:12.201Z"
   },
   {
    "duration": 30,
    "start_time": "2022-10-30T19:29:12.210Z"
   },
   {
    "duration": 3,
    "start_time": "2022-10-30T19:29:12.241Z"
   },
   {
    "duration": 9,
    "start_time": "2022-10-30T19:29:12.246Z"
   },
   {
    "duration": 8,
    "start_time": "2022-10-30T19:29:12.256Z"
   },
   {
    "duration": 4,
    "start_time": "2022-10-30T19:29:12.277Z"
   },
   {
    "duration": 3,
    "start_time": "2022-10-30T19:29:12.284Z"
   },
   {
    "duration": 108,
    "start_time": "2022-10-30T19:29:12.288Z"
   },
   {
    "duration": 9,
    "start_time": "2022-10-30T19:29:12.397Z"
   },
   {
    "duration": 4,
    "start_time": "2022-10-30T19:29:12.407Z"
   },
   {
    "duration": 10,
    "start_time": "2022-10-30T19:29:12.412Z"
   },
   {
    "duration": 16,
    "start_time": "2022-10-30T19:29:12.423Z"
   },
   {
    "duration": 43,
    "start_time": "2022-10-30T19:29:12.440Z"
   },
   {
    "duration": 4,
    "start_time": "2022-10-30T19:29:12.485Z"
   },
   {
    "duration": 13,
    "start_time": "2022-10-30T19:29:12.490Z"
   },
   {
    "duration": 7,
    "start_time": "2022-10-30T19:29:12.505Z"
   },
   {
    "duration": 3,
    "start_time": "2022-10-30T19:29:12.514Z"
   },
   {
    "duration": 9,
    "start_time": "2022-10-30T19:29:12.519Z"
   },
   {
    "duration": 136,
    "start_time": "2022-10-30T19:29:12.530Z"
   },
   {
    "duration": 23,
    "start_time": "2022-10-30T19:29:12.668Z"
   },
   {
    "duration": 160,
    "start_time": "2022-10-30T19:29:12.693Z"
   },
   {
    "duration": 10,
    "start_time": "2022-10-30T19:29:12.855Z"
   },
   {
    "duration": 118,
    "start_time": "2022-10-30T19:29:12.877Z"
   },
   {
    "duration": 10,
    "start_time": "2022-10-30T19:29:12.996Z"
   },
   {
    "duration": 135,
    "start_time": "2022-10-30T19:29:13.008Z"
   },
   {
    "duration": 12,
    "start_time": "2022-10-30T19:29:13.145Z"
   },
   {
    "duration": 95,
    "start_time": "2022-10-30T19:37:51.869Z"
   },
   {
    "duration": 17,
    "start_time": "2022-10-30T19:37:51.966Z"
   },
   {
    "duration": 31,
    "start_time": "2022-10-30T19:37:51.984Z"
   },
   {
    "duration": 11,
    "start_time": "2022-10-30T19:37:52.017Z"
   },
   {
    "duration": 36,
    "start_time": "2022-10-30T19:37:52.030Z"
   },
   {
    "duration": 11,
    "start_time": "2022-10-30T19:37:52.067Z"
   },
   {
    "duration": 40,
    "start_time": "2022-10-30T19:37:52.080Z"
   },
   {
    "duration": 5,
    "start_time": "2022-10-30T19:37:52.122Z"
   },
   {
    "duration": 13,
    "start_time": "2022-10-30T19:37:52.128Z"
   },
   {
    "duration": 7,
    "start_time": "2022-10-30T19:37:52.144Z"
   },
   {
    "duration": 48,
    "start_time": "2022-10-30T19:37:52.153Z"
   },
   {
    "duration": 10,
    "start_time": "2022-10-30T19:37:52.202Z"
   },
   {
    "duration": 5,
    "start_time": "2022-10-30T19:37:52.214Z"
   },
   {
    "duration": 17,
    "start_time": "2022-10-30T19:37:52.220Z"
   },
   {
    "duration": 22,
    "start_time": "2022-10-30T19:37:52.239Z"
   },
   {
    "duration": 23,
    "start_time": "2022-10-30T19:37:52.276Z"
   },
   {
    "duration": 4,
    "start_time": "2022-10-30T19:37:52.301Z"
   },
   {
    "duration": 19,
    "start_time": "2022-10-30T19:37:52.306Z"
   },
   {
    "duration": 11,
    "start_time": "2022-10-30T19:37:52.326Z"
   },
   {
    "duration": 5,
    "start_time": "2022-10-30T19:37:52.339Z"
   },
   {
    "duration": 18,
    "start_time": "2022-10-30T19:37:52.345Z"
   },
   {
    "duration": 153,
    "start_time": "2022-10-30T19:37:52.365Z"
   },
   {
    "duration": 10,
    "start_time": "2022-10-30T19:37:52.519Z"
   },
   {
    "duration": 184,
    "start_time": "2022-10-30T19:37:52.530Z"
   },
   {
    "duration": 15,
    "start_time": "2022-10-30T19:37:52.716Z"
   },
   {
    "duration": 184,
    "start_time": "2022-10-30T19:37:52.733Z"
   },
   {
    "duration": 12,
    "start_time": "2022-10-30T19:37:52.919Z"
   },
   {
    "duration": 168,
    "start_time": "2022-10-30T19:37:52.934Z"
   },
   {
    "duration": 18,
    "start_time": "2022-10-30T19:37:53.104Z"
   },
   {
    "duration": 1218,
    "start_time": "2022-10-31T07:41:23.478Z"
   },
   {
    "duration": 18,
    "start_time": "2022-10-31T07:41:24.697Z"
   },
   {
    "duration": 15,
    "start_time": "2022-10-31T07:41:24.717Z"
   },
   {
    "duration": 10,
    "start_time": "2022-10-31T07:41:24.734Z"
   },
   {
    "duration": 31,
    "start_time": "2022-10-31T07:41:24.746Z"
   },
   {
    "duration": 4,
    "start_time": "2022-10-31T07:41:24.778Z"
   },
   {
    "duration": 8,
    "start_time": "2022-10-31T07:41:24.808Z"
   },
   {
    "duration": 4,
    "start_time": "2022-10-31T07:41:24.818Z"
   },
   {
    "duration": 10,
    "start_time": "2022-10-31T07:41:24.823Z"
   },
   {
    "duration": 5,
    "start_time": "2022-10-31T07:41:24.836Z"
   },
   {
    "duration": 37,
    "start_time": "2022-10-31T07:41:24.843Z"
   },
   {
    "duration": 31,
    "start_time": "2022-10-31T07:41:24.881Z"
   },
   {
    "duration": 4,
    "start_time": "2022-10-31T07:41:24.913Z"
   },
   {
    "duration": 12,
    "start_time": "2022-10-31T07:41:24.918Z"
   },
   {
    "duration": 21,
    "start_time": "2022-10-31T07:41:24.931Z"
   },
   {
    "duration": 16,
    "start_time": "2022-10-31T07:41:24.954Z"
   },
   {
    "duration": 3,
    "start_time": "2022-10-31T07:41:24.971Z"
   },
   {
    "duration": 38,
    "start_time": "2022-10-31T07:41:24.976Z"
   },
   {
    "duration": 9,
    "start_time": "2022-10-31T07:41:25.016Z"
   },
   {
    "duration": 8,
    "start_time": "2022-10-31T07:41:25.027Z"
   },
   {
    "duration": 15,
    "start_time": "2022-10-31T07:41:25.037Z"
   },
   {
    "duration": 176,
    "start_time": "2022-10-31T07:41:25.053Z"
   },
   {
    "duration": 10,
    "start_time": "2022-10-31T07:41:25.231Z"
   },
   {
    "duration": 155,
    "start_time": "2022-10-31T07:41:25.242Z"
   },
   {
    "duration": 16,
    "start_time": "2022-10-31T07:41:25.398Z"
   },
   {
    "duration": 132,
    "start_time": "2022-10-31T07:41:25.416Z"
   },
   {
    "duration": 11,
    "start_time": "2022-10-31T07:41:25.550Z"
   },
   {
    "duration": 146,
    "start_time": "2022-10-31T07:41:25.564Z"
   },
   {
    "duration": 11,
    "start_time": "2022-10-31T07:41:25.712Z"
   },
   {
    "duration": 1127,
    "start_time": "2022-10-31T08:22:34.564Z"
   },
   {
    "duration": 20,
    "start_time": "2022-10-31T08:22:35.693Z"
   },
   {
    "duration": 24,
    "start_time": "2022-10-31T08:22:35.714Z"
   },
   {
    "duration": 9,
    "start_time": "2022-10-31T08:22:35.740Z"
   },
   {
    "duration": 52,
    "start_time": "2022-10-31T08:22:35.751Z"
   },
   {
    "duration": 3,
    "start_time": "2022-10-31T08:22:35.804Z"
   },
   {
    "duration": 40,
    "start_time": "2022-10-31T08:22:35.809Z"
   },
   {
    "duration": 43,
    "start_time": "2022-10-31T08:22:35.850Z"
   },
   {
    "duration": 40,
    "start_time": "2022-10-31T08:22:35.895Z"
   },
   {
    "duration": 13,
    "start_time": "2022-10-31T08:22:35.937Z"
   },
   {
    "duration": 61,
    "start_time": "2022-10-31T08:22:35.952Z"
   },
   {
    "duration": 9,
    "start_time": "2022-10-31T08:22:36.014Z"
   },
   {
    "duration": 34,
    "start_time": "2022-10-31T08:22:36.024Z"
   },
   {
    "duration": 28,
    "start_time": "2022-10-31T08:22:36.061Z"
   },
   {
    "duration": 46,
    "start_time": "2022-10-31T08:22:36.091Z"
   },
   {
    "duration": 52,
    "start_time": "2022-10-31T08:22:36.138Z"
   },
   {
    "duration": 4,
    "start_time": "2022-10-31T08:22:36.191Z"
   },
   {
    "duration": 47,
    "start_time": "2022-10-31T08:22:36.196Z"
   },
   {
    "duration": 32,
    "start_time": "2022-10-31T08:22:36.244Z"
   },
   {
    "duration": 32,
    "start_time": "2022-10-31T08:22:36.277Z"
   },
   {
    "duration": 39,
    "start_time": "2022-10-31T08:22:36.310Z"
   },
   {
    "duration": 204,
    "start_time": "2022-10-31T08:22:36.350Z"
   },
   {
    "duration": 11,
    "start_time": "2022-10-31T08:22:36.556Z"
   },
   {
    "duration": 156,
    "start_time": "2022-10-31T08:22:36.569Z"
   },
   {
    "duration": 12,
    "start_time": "2022-10-31T08:22:36.726Z"
   },
   {
    "duration": 141,
    "start_time": "2022-10-31T08:22:36.739Z"
   },
   {
    "duration": 10,
    "start_time": "2022-10-31T08:22:36.882Z"
   },
   {
    "duration": 157,
    "start_time": "2022-10-31T08:22:36.893Z"
   },
   {
    "duration": 12,
    "start_time": "2022-10-31T08:22:37.052Z"
   },
   {
    "duration": 45,
    "start_time": "2022-10-31T18:24:34.450Z"
   },
   {
    "duration": 1371,
    "start_time": "2022-10-31T18:25:08.172Z"
   },
   {
    "duration": 19,
    "start_time": "2022-10-31T18:25:09.544Z"
   },
   {
    "duration": 12,
    "start_time": "2022-10-31T18:25:09.565Z"
   },
   {
    "duration": 9,
    "start_time": "2022-10-31T18:25:09.579Z"
   },
   {
    "duration": 37,
    "start_time": "2022-10-31T18:25:09.589Z"
   },
   {
    "duration": 3,
    "start_time": "2022-10-31T18:25:09.628Z"
   },
   {
    "duration": 11,
    "start_time": "2022-10-31T18:25:09.632Z"
   },
   {
    "duration": 4,
    "start_time": "2022-10-31T18:25:09.645Z"
   },
   {
    "duration": 9,
    "start_time": "2022-10-31T18:25:09.650Z"
   },
   {
    "duration": 3,
    "start_time": "2022-10-31T18:25:09.662Z"
   },
   {
    "duration": 47,
    "start_time": "2022-10-31T18:25:09.666Z"
   },
   {
    "duration": 8,
    "start_time": "2022-10-31T18:25:09.714Z"
   },
   {
    "duration": 5,
    "start_time": "2022-10-31T18:25:09.723Z"
   },
   {
    "duration": 10,
    "start_time": "2022-10-31T18:25:09.730Z"
   },
   {
    "duration": 16,
    "start_time": "2022-10-31T18:25:09.741Z"
   },
   {
    "duration": 14,
    "start_time": "2022-10-31T18:25:09.759Z"
   },
   {
    "duration": 3,
    "start_time": "2022-10-31T18:25:09.774Z"
   },
   {
    "duration": 8,
    "start_time": "2022-10-31T18:25:09.805Z"
   },
   {
    "duration": 9,
    "start_time": "2022-10-31T18:25:09.814Z"
   },
   {
    "duration": 4,
    "start_time": "2022-10-31T18:25:09.824Z"
   },
   {
    "duration": 11,
    "start_time": "2022-10-31T18:25:09.830Z"
   },
   {
    "duration": 70,
    "start_time": "2022-10-31T18:25:09.842Z"
   },
   {
    "duration": 0,
    "start_time": "2022-10-31T18:25:09.914Z"
   },
   {
    "duration": 0,
    "start_time": "2022-10-31T18:25:09.914Z"
   },
   {
    "duration": 0,
    "start_time": "2022-10-31T18:25:09.915Z"
   },
   {
    "duration": 0,
    "start_time": "2022-10-31T18:25:09.916Z"
   },
   {
    "duration": 0,
    "start_time": "2022-10-31T18:25:09.917Z"
   },
   {
    "duration": 0,
    "start_time": "2022-10-31T18:25:09.918Z"
   },
   {
    "duration": 0,
    "start_time": "2022-10-31T18:25:09.919Z"
   },
   {
    "duration": 14,
    "start_time": "2022-10-31T18:25:25.973Z"
   },
   {
    "duration": 121,
    "start_time": "2022-10-31T18:27:31.329Z"
   },
   {
    "duration": 113,
    "start_time": "2022-10-31T18:27:59.752Z"
   },
   {
    "duration": 155,
    "start_time": "2022-10-31T18:30:38.907Z"
   },
   {
    "duration": 117,
    "start_time": "2022-10-31T18:31:33.148Z"
   },
   {
    "duration": 24,
    "start_time": "2022-10-31T18:32:03.265Z"
   },
   {
    "duration": 121,
    "start_time": "2022-10-31T18:32:10.668Z"
   },
   {
    "duration": 120,
    "start_time": "2022-10-31T18:33:00.141Z"
   },
   {
    "duration": 122,
    "start_time": "2022-10-31T18:33:15.152Z"
   },
   {
    "duration": 121,
    "start_time": "2022-10-31T18:34:01.976Z"
   },
   {
    "duration": 229,
    "start_time": "2022-10-31T18:35:17.380Z"
   },
   {
    "duration": 118,
    "start_time": "2022-10-31T18:35:24.513Z"
   },
   {
    "duration": 12,
    "start_time": "2022-10-31T18:38:32.473Z"
   },
   {
    "duration": 19,
    "start_time": "2022-10-31T18:39:07.768Z"
   },
   {
    "duration": 26,
    "start_time": "2022-10-31T18:39:26.138Z"
   },
   {
    "duration": 11,
    "start_time": "2022-10-31T18:40:04.233Z"
   },
   {
    "duration": 21,
    "start_time": "2022-10-31T18:40:30.023Z"
   },
   {
    "duration": 20,
    "start_time": "2022-10-31T18:40:48.532Z"
   },
   {
    "duration": 20,
    "start_time": "2022-10-31T18:41:14.034Z"
   },
   {
    "duration": 21,
    "start_time": "2022-10-31T18:42:16.488Z"
   },
   {
    "duration": 63,
    "start_time": "2022-10-31T18:43:20.872Z"
   },
   {
    "duration": 13,
    "start_time": "2022-10-31T18:43:20.937Z"
   },
   {
    "duration": 16,
    "start_time": "2022-10-31T18:43:20.952Z"
   },
   {
    "duration": 8,
    "start_time": "2022-10-31T18:43:20.969Z"
   },
   {
    "duration": 47,
    "start_time": "2022-10-31T18:43:20.978Z"
   },
   {
    "duration": 3,
    "start_time": "2022-10-31T18:43:21.027Z"
   },
   {
    "duration": 9,
    "start_time": "2022-10-31T18:43:21.031Z"
   },
   {
    "duration": 4,
    "start_time": "2022-10-31T18:43:21.042Z"
   },
   {
    "duration": 8,
    "start_time": "2022-10-31T18:43:21.047Z"
   },
   {
    "duration": 4,
    "start_time": "2022-10-31T18:43:21.057Z"
   },
   {
    "duration": 50,
    "start_time": "2022-10-31T18:43:21.062Z"
   },
   {
    "duration": 8,
    "start_time": "2022-10-31T18:43:21.114Z"
   },
   {
    "duration": 4,
    "start_time": "2022-10-31T18:43:21.124Z"
   },
   {
    "duration": 14,
    "start_time": "2022-10-31T18:43:21.129Z"
   },
   {
    "duration": 20,
    "start_time": "2022-10-31T18:43:21.145Z"
   },
   {
    "duration": 16,
    "start_time": "2022-10-31T18:43:21.166Z"
   },
   {
    "duration": 4,
    "start_time": "2022-10-31T18:43:21.206Z"
   },
   {
    "duration": 12,
    "start_time": "2022-10-31T18:43:21.211Z"
   },
   {
    "duration": 5,
    "start_time": "2022-10-31T18:43:21.225Z"
   },
   {
    "duration": 4,
    "start_time": "2022-10-31T18:43:21.231Z"
   },
   {
    "duration": 10,
    "start_time": "2022-10-31T18:43:21.236Z"
   },
   {
    "duration": 19,
    "start_time": "2022-10-31T18:43:21.248Z"
   },
   {
    "duration": 0,
    "start_time": "2022-10-31T18:43:21.269Z"
   },
   {
    "duration": 0,
    "start_time": "2022-10-31T18:43:21.270Z"
   },
   {
    "duration": 0,
    "start_time": "2022-10-31T18:43:21.271Z"
   },
   {
    "duration": 0,
    "start_time": "2022-10-31T18:43:21.272Z"
   },
   {
    "duration": 0,
    "start_time": "2022-10-31T18:43:21.273Z"
   },
   {
    "duration": 0,
    "start_time": "2022-10-31T18:43:21.274Z"
   },
   {
    "duration": 0,
    "start_time": "2022-10-31T18:43:21.305Z"
   },
   {
    "duration": 11,
    "start_time": "2022-10-31T18:43:51.393Z"
   },
   {
    "duration": 13,
    "start_time": "2022-10-31T18:44:06.569Z"
   },
   {
    "duration": 10,
    "start_time": "2022-10-31T18:44:12.123Z"
   },
   {
    "duration": 1119,
    "start_time": "2022-10-31T18:45:05.910Z"
   },
   {
    "duration": 9,
    "start_time": "2022-10-31T18:45:23.747Z"
   },
   {
    "duration": 10,
    "start_time": "2022-10-31T18:45:30.411Z"
   },
   {
    "duration": 22,
    "start_time": "2022-10-31T18:48:45.533Z"
   },
   {
    "duration": 1122,
    "start_time": "2022-10-31T18:49:06.447Z"
   },
   {
    "duration": 8,
    "start_time": "2022-10-31T18:49:45.245Z"
   },
   {
    "duration": 9,
    "start_time": "2022-10-31T18:49:50.400Z"
   },
   {
    "duration": 7,
    "start_time": "2022-10-31T18:49:55.195Z"
   },
   {
    "duration": 8,
    "start_time": "2022-10-31T18:49:55.391Z"
   },
   {
    "duration": 70,
    "start_time": "2022-10-31T18:51:07.035Z"
   },
   {
    "duration": 18,
    "start_time": "2022-10-31T18:51:30.427Z"
   },
   {
    "duration": 14,
    "start_time": "2022-10-31T18:51:51.635Z"
   },
   {
    "duration": 11,
    "start_time": "2022-10-31T18:53:05.882Z"
   },
   {
    "duration": 19,
    "start_time": "2022-10-31T18:53:14.745Z"
   },
   {
    "duration": 17,
    "start_time": "2022-10-31T18:53:26.185Z"
   },
   {
    "duration": 15,
    "start_time": "2022-10-31T18:53:49.439Z"
   },
   {
    "duration": 16,
    "start_time": "2022-10-31T18:53:50.520Z"
   },
   {
    "duration": 15,
    "start_time": "2022-10-31T18:53:53.422Z"
   },
   {
    "duration": 15,
    "start_time": "2022-10-31T18:56:34.136Z"
   },
   {
    "duration": 15,
    "start_time": "2022-10-31T18:56:39.595Z"
   },
   {
    "duration": 17,
    "start_time": "2022-10-31T18:56:56.368Z"
   },
   {
    "duration": 16,
    "start_time": "2022-10-31T18:57:01.399Z"
   },
   {
    "duration": 17,
    "start_time": "2022-10-31T18:58:59.630Z"
   },
   {
    "duration": 1077,
    "start_time": "2022-10-31T18:59:09.988Z"
   },
   {
    "duration": 16,
    "start_time": "2022-10-31T18:59:16.769Z"
   },
   {
    "duration": 44,
    "start_time": "2022-11-01T21:20:49.675Z"
   },
   {
    "duration": 1590,
    "start_time": "2022-11-01T21:25:48.266Z"
   },
   {
    "duration": 18,
    "start_time": "2022-11-01T21:25:49.858Z"
   },
   {
    "duration": 13,
    "start_time": "2022-11-01T21:25:49.877Z"
   },
   {
    "duration": 9,
    "start_time": "2022-11-01T21:25:49.892Z"
   },
   {
    "duration": 37,
    "start_time": "2022-11-01T21:25:49.902Z"
   },
   {
    "duration": 4,
    "start_time": "2022-11-01T21:25:49.941Z"
   },
   {
    "duration": 23,
    "start_time": "2022-11-01T21:25:49.946Z"
   },
   {
    "duration": 4,
    "start_time": "2022-11-01T21:25:49.971Z"
   },
   {
    "duration": 12,
    "start_time": "2022-11-01T21:25:49.977Z"
   },
   {
    "duration": 4,
    "start_time": "2022-11-01T21:25:49.992Z"
   },
   {
    "duration": 36,
    "start_time": "2022-11-01T21:25:49.998Z"
   },
   {
    "duration": 9,
    "start_time": "2022-11-01T21:25:50.036Z"
   },
   {
    "duration": 7,
    "start_time": "2022-11-01T21:25:50.047Z"
   },
   {
    "duration": 11,
    "start_time": "2022-11-01T21:25:50.056Z"
   },
   {
    "duration": 20,
    "start_time": "2022-11-01T21:25:50.069Z"
   },
   {
    "duration": 34,
    "start_time": "2022-11-01T21:25:50.090Z"
   },
   {
    "duration": 3,
    "start_time": "2022-11-01T21:25:50.125Z"
   },
   {
    "duration": 11,
    "start_time": "2022-11-01T21:25:50.130Z"
   },
   {
    "duration": 5,
    "start_time": "2022-11-01T21:25:50.143Z"
   },
   {
    "duration": 4,
    "start_time": "2022-11-01T21:25:50.149Z"
   },
   {
    "duration": 11,
    "start_time": "2022-11-01T21:25:50.154Z"
   },
   {
    "duration": 87,
    "start_time": "2022-11-01T21:25:50.166Z"
   },
   {
    "duration": 0,
    "start_time": "2022-11-01T21:25:50.255Z"
   },
   {
    "duration": 0,
    "start_time": "2022-11-01T21:25:50.256Z"
   },
   {
    "duration": 0,
    "start_time": "2022-11-01T21:25:50.257Z"
   },
   {
    "duration": 0,
    "start_time": "2022-11-01T21:25:50.258Z"
   },
   {
    "duration": 0,
    "start_time": "2022-11-01T21:25:50.259Z"
   },
   {
    "duration": 0,
    "start_time": "2022-11-01T21:25:50.260Z"
   },
   {
    "duration": 1,
    "start_time": "2022-11-01T21:25:50.260Z"
   },
   {
    "duration": 19,
    "start_time": "2022-11-01T21:26:17.633Z"
   },
   {
    "duration": 183,
    "start_time": "2022-11-01T21:26:26.307Z"
   },
   {
    "duration": 11,
    "start_time": "2022-11-01T21:26:38.099Z"
   },
   {
    "duration": 15,
    "start_time": "2022-11-01T21:26:45.823Z"
   },
   {
    "duration": 16,
    "start_time": "2022-11-01T21:26:56.965Z"
   },
   {
    "duration": 15,
    "start_time": "2022-11-01T21:27:10.497Z"
   },
   {
    "duration": 14,
    "start_time": "2022-11-01T21:27:32.650Z"
   },
   {
    "duration": 46,
    "start_time": "2022-11-01T21:28:00.632Z"
   },
   {
    "duration": 14,
    "start_time": "2022-11-01T21:28:03.128Z"
   },
   {
    "duration": 213,
    "start_time": "2022-11-01T21:28:11.624Z"
   },
   {
    "duration": 15,
    "start_time": "2022-11-01T21:28:24.000Z"
   },
   {
    "duration": 14,
    "start_time": "2022-11-01T21:28:40.592Z"
   },
   {
    "duration": 14,
    "start_time": "2022-11-01T21:28:47.054Z"
   },
   {
    "duration": 19,
    "start_time": "2022-11-01T21:29:27.082Z"
   },
   {
    "duration": 223,
    "start_time": "2022-11-01T21:29:49.803Z"
   },
   {
    "duration": 15,
    "start_time": "2022-11-01T21:30:05.825Z"
   },
   {
    "duration": 201,
    "start_time": "2022-11-01T21:30:27.114Z"
   },
   {
    "duration": 15,
    "start_time": "2022-11-01T21:33:34.699Z"
   },
   {
    "duration": 812,
    "start_time": "2022-11-01T21:35:51.793Z"
   },
   {
    "duration": 873,
    "start_time": "2022-11-01T21:36:39.490Z"
   },
   {
    "duration": 182,
    "start_time": "2022-11-01T21:36:55.614Z"
   },
   {
    "duration": 143,
    "start_time": "2022-11-01T21:37:23.417Z"
   },
   {
    "duration": 127,
    "start_time": "2022-11-01T21:37:32.410Z"
   },
   {
    "duration": 121,
    "start_time": "2022-11-01T21:37:40.941Z"
   },
   {
    "duration": 130,
    "start_time": "2022-11-01T21:37:53.511Z"
   },
   {
    "duration": 132,
    "start_time": "2022-11-01T21:38:49.080Z"
   },
   {
    "duration": 717,
    "start_time": "2022-11-01T21:39:27.449Z"
   },
   {
    "duration": 128,
    "start_time": "2022-11-01T21:39:36.739Z"
   },
   {
    "duration": 10,
    "start_time": "2022-11-01T21:40:17.720Z"
   },
   {
    "duration": 124,
    "start_time": "2022-11-01T21:40:20.336Z"
   },
   {
    "duration": 11,
    "start_time": "2022-11-01T21:40:33.541Z"
   },
   {
    "duration": 192,
    "start_time": "2022-11-01T21:41:21.410Z"
   },
   {
    "duration": 116,
    "start_time": "2022-11-01T21:41:34.479Z"
   },
   {
    "duration": 112,
    "start_time": "2022-11-01T21:41:43.532Z"
   },
   {
    "duration": 114,
    "start_time": "2022-11-01T21:44:19.383Z"
   },
   {
    "duration": 10,
    "start_time": "2022-11-01T21:44:24.662Z"
   },
   {
    "duration": 13,
    "start_time": "2022-11-01T21:47:08.747Z"
   },
   {
    "duration": 15,
    "start_time": "2022-11-01T21:47:27.356Z"
   },
   {
    "duration": 15,
    "start_time": "2022-11-01T21:47:59.950Z"
   },
   {
    "duration": 21,
    "start_time": "2022-11-01T21:48:12.445Z"
   },
   {
    "duration": 14,
    "start_time": "2022-11-01T21:48:21.424Z"
   },
   {
    "duration": 14,
    "start_time": "2022-11-01T21:48:27.638Z"
   },
   {
    "duration": 14,
    "start_time": "2022-11-01T21:48:33.447Z"
   },
   {
    "duration": 14,
    "start_time": "2022-11-01T21:48:39.993Z"
   },
   {
    "duration": 13,
    "start_time": "2022-11-01T21:48:44.934Z"
   },
   {
    "duration": 24,
    "start_time": "2022-11-01T21:49:09.994Z"
   },
   {
    "duration": 51,
    "start_time": "2022-11-01T21:49:29.684Z"
   },
   {
    "duration": 38,
    "start_time": "2022-11-01T21:49:36.136Z"
   },
   {
    "duration": 13,
    "start_time": "2022-11-01T21:49:39.466Z"
   },
   {
    "duration": 12,
    "start_time": "2022-11-01T21:49:59.430Z"
   },
   {
    "duration": 18,
    "start_time": "2022-11-01T21:51:32.956Z"
   },
   {
    "duration": 17,
    "start_time": "2022-11-01T21:52:01.453Z"
   },
   {
    "duration": 141,
    "start_time": "2022-11-01T21:52:15.050Z"
   },
   {
    "duration": 139,
    "start_time": "2022-11-01T21:53:23.059Z"
   },
   {
    "duration": 140,
    "start_time": "2022-11-01T21:53:42.609Z"
   },
   {
    "duration": 136,
    "start_time": "2022-11-01T21:53:59.702Z"
   },
   {
    "duration": 10,
    "start_time": "2022-11-01T21:55:15.758Z"
   },
   {
    "duration": 128,
    "start_time": "2022-11-01T21:55:49.790Z"
   },
   {
    "duration": 10,
    "start_time": "2022-11-01T21:55:53.010Z"
   },
   {
    "duration": 114,
    "start_time": "2022-11-01T21:57:49.797Z"
   },
   {
    "duration": 10,
    "start_time": "2022-11-01T21:57:54.240Z"
   },
   {
    "duration": 119,
    "start_time": "2022-11-01T22:01:41.132Z"
   },
   {
    "duration": 10,
    "start_time": "2022-11-01T22:01:43.847Z"
   },
   {
    "duration": 195,
    "start_time": "2022-11-01T22:02:47.494Z"
   },
   {
    "duration": 10,
    "start_time": "2022-11-01T22:02:50.031Z"
   },
   {
    "duration": 47,
    "start_time": "2022-11-01T22:04:49.346Z"
   },
   {
    "duration": 1652,
    "start_time": "2022-11-02T14:27:42.136Z"
   },
   {
    "duration": 21,
    "start_time": "2022-11-02T14:27:43.789Z"
   },
   {
    "duration": 32,
    "start_time": "2022-11-02T14:27:43.811Z"
   },
   {
    "duration": 25,
    "start_time": "2022-11-02T14:27:43.849Z"
   },
   {
    "duration": 39,
    "start_time": "2022-11-02T14:27:43.876Z"
   },
   {
    "duration": 4,
    "start_time": "2022-11-02T14:27:43.917Z"
   },
   {
    "duration": 20,
    "start_time": "2022-11-02T14:27:43.923Z"
   },
   {
    "duration": 16,
    "start_time": "2022-11-02T14:27:43.945Z"
   },
   {
    "duration": 12,
    "start_time": "2022-11-02T14:27:43.962Z"
   },
   {
    "duration": 7,
    "start_time": "2022-11-02T14:27:43.976Z"
   },
   {
    "duration": 37,
    "start_time": "2022-11-02T14:27:43.984Z"
   },
   {
    "duration": 13,
    "start_time": "2022-11-02T14:27:44.022Z"
   },
   {
    "duration": 15,
    "start_time": "2022-11-02T14:27:44.043Z"
   },
   {
    "duration": 18,
    "start_time": "2022-11-02T14:27:44.060Z"
   },
   {
    "duration": 38,
    "start_time": "2022-11-02T14:27:44.079Z"
   },
   {
    "duration": 25,
    "start_time": "2022-11-02T14:27:44.119Z"
   },
   {
    "duration": 8,
    "start_time": "2022-11-02T14:27:44.148Z"
   },
   {
    "duration": 26,
    "start_time": "2022-11-02T14:27:44.158Z"
   },
   {
    "duration": 17,
    "start_time": "2022-11-02T14:27:44.186Z"
   },
   {
    "duration": 13,
    "start_time": "2022-11-02T14:27:44.205Z"
   },
   {
    "duration": 16,
    "start_time": "2022-11-02T14:27:44.219Z"
   },
   {
    "duration": 183,
    "start_time": "2022-11-02T14:27:44.237Z"
   },
   {
    "duration": 56,
    "start_time": "2022-11-02T14:27:44.422Z"
   },
   {
    "duration": 164,
    "start_time": "2022-11-02T14:27:44.480Z"
   },
   {
    "duration": 11,
    "start_time": "2022-11-02T14:27:44.648Z"
   },
   {
    "duration": 140,
    "start_time": "2022-11-02T14:27:44.660Z"
   },
   {
    "duration": 11,
    "start_time": "2022-11-02T14:27:44.802Z"
   },
   {
    "duration": 151,
    "start_time": "2022-11-02T14:27:44.816Z"
   },
   {
    "duration": 12,
    "start_time": "2022-11-02T14:27:44.969Z"
   },
   {
    "duration": 120,
    "start_time": "2022-11-02T14:31:31.317Z"
   },
   {
    "duration": 13,
    "start_time": "2022-11-02T14:32:29.940Z"
   },
   {
    "duration": 11,
    "start_time": "2022-11-02T14:32:49.260Z"
   },
   {
    "duration": 12,
    "start_time": "2022-11-02T14:33:18.406Z"
   },
   {
    "duration": 13,
    "start_time": "2022-11-02T14:33:33.664Z"
   },
   {
    "duration": 80,
    "start_time": "2022-11-02T14:34:30.287Z"
   },
   {
    "duration": 13,
    "start_time": "2022-11-02T14:34:49.244Z"
   },
   {
    "duration": 10,
    "start_time": "2022-11-02T14:36:28.732Z"
   },
   {
    "duration": 11,
    "start_time": "2022-11-02T14:36:36.561Z"
   },
   {
    "duration": 1359,
    "start_time": "2022-11-02T14:40:59.319Z"
   },
   {
    "duration": 20,
    "start_time": "2022-11-02T14:41:00.680Z"
   },
   {
    "duration": 27,
    "start_time": "2022-11-02T14:41:00.702Z"
   },
   {
    "duration": 41,
    "start_time": "2022-11-02T14:41:00.731Z"
   },
   {
    "duration": 83,
    "start_time": "2022-11-02T14:41:00.773Z"
   },
   {
    "duration": 5,
    "start_time": "2022-11-02T14:41:00.860Z"
   },
   {
    "duration": 44,
    "start_time": "2022-11-02T14:41:00.867Z"
   },
   {
    "duration": 38,
    "start_time": "2022-11-02T14:41:00.913Z"
   },
   {
    "duration": 22,
    "start_time": "2022-11-02T14:41:00.953Z"
   },
   {
    "duration": 14,
    "start_time": "2022-11-02T14:41:00.978Z"
   },
   {
    "duration": 62,
    "start_time": "2022-11-02T14:41:00.994Z"
   },
   {
    "duration": 9,
    "start_time": "2022-11-02T14:41:01.058Z"
   },
   {
    "duration": 36,
    "start_time": "2022-11-02T14:41:01.069Z"
   },
   {
    "duration": 37,
    "start_time": "2022-11-02T14:41:01.107Z"
   },
   {
    "duration": 46,
    "start_time": "2022-11-02T14:41:01.146Z"
   },
   {
    "duration": 20,
    "start_time": "2022-11-02T14:41:01.194Z"
   },
   {
    "duration": 5,
    "start_time": "2022-11-02T14:41:01.216Z"
   },
   {
    "duration": 45,
    "start_time": "2022-11-02T14:41:01.222Z"
   },
   {
    "duration": 26,
    "start_time": "2022-11-02T14:41:01.269Z"
   },
   {
    "duration": 28,
    "start_time": "2022-11-02T14:41:01.297Z"
   },
   {
    "duration": 43,
    "start_time": "2022-11-02T14:41:01.327Z"
   },
   {
    "duration": 186,
    "start_time": "2022-11-02T14:41:01.372Z"
   },
   {
    "duration": 56,
    "start_time": "2022-11-02T14:41:01.560Z"
   },
   {
    "duration": 173,
    "start_time": "2022-11-02T14:41:01.618Z"
   },
   {
    "duration": 11,
    "start_time": "2022-11-02T14:41:01.793Z"
   },
   {
    "duration": 152,
    "start_time": "2022-11-02T14:41:01.806Z"
   },
   {
    "duration": 11,
    "start_time": "2022-11-02T14:41:01.960Z"
   },
   {
    "duration": 193,
    "start_time": "2022-11-02T14:41:01.974Z"
   },
   {
    "duration": 11,
    "start_time": "2022-11-02T14:41:02.169Z"
   }
  ],
  "colab": {
   "name": "dpp_template_part2.ipynb",
   "provenance": []
  },
  "kernelspec": {
   "display_name": "Python 3 (ipykernel)",
   "language": "python",
   "name": "python3"
  },
  "language_info": {
   "codemirror_mode": {
    "name": "ipython",
    "version": 3
   },
   "file_extension": ".py",
   "mimetype": "text/x-python",
   "name": "python",
   "nbconvert_exporter": "python",
   "pygments_lexer": "ipython3",
   "version": "3.9.5"
  },
  "toc": {
   "base_numbering": 1,
   "nav_menu": {},
   "number_sections": true,
   "sideBar": true,
   "skip_h1_title": true,
   "title_cell": "Table of Contents",
   "title_sidebar": "Contents",
   "toc_cell": false,
   "toc_position": {},
   "toc_section_display": true,
   "toc_window_display": false
  }
 },
 "nbformat": 4,
 "nbformat_minor": 5
}
